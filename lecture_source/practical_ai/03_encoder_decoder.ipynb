{
 "cells": [
  {
   "cell_type": "markdown",
   "id": "rational-expansion",
   "metadata": {},
   "source": [
    "<div class=\"alert alert-block alert-success\">\n",
    "    <b><center>Functional API</center></b>\n",
    "    <b><center>TensorFlow Documents</center></b>\n",
    "</div>"
   ]
  },
  {
   "cell_type": "markdown",
   "id": "olive-bruce",
   "metadata": {},
   "source": [
    "# Configure Learning Environment"
   ]
  },
  {
   "cell_type": "code",
   "execution_count": 1,
   "id": "mediterranean-cleveland",
   "metadata": {},
   "outputs": [],
   "source": [
    "# !pip install git+https://github.com/nockchun/rspy --force\n",
    "# !pip install mybatis_mapper2sql\n",
    "import rspy as rsp\n",
    "rsp.setSystemWarning(off=True)"
   ]
  },
  {
   "cell_type": "code",
   "execution_count": 2,
   "id": "bibliographic-makeup",
   "metadata": {},
   "outputs": [],
   "source": [
    "import numpy as np\n",
    "\n",
    "import tensorflow as tf\n",
    "from tensorflow.keras import layers, models, losses, optimizers, datasets, utils"
   ]
  },
  {
   "cell_type": "code",
   "execution_count": 3,
   "id": "varying-projection",
   "metadata": {},
   "outputs": [],
   "source": [
    "from ipywidgets import interact\n",
    "import matplotlib.pyplot as plt\n",
    "import pandas as pd"
   ]
  },
  {
   "cell_type": "code",
   "execution_count": 4,
   "id": "wireless-orange",
   "metadata": {},
   "outputs": [
    {
     "data": {
      "text/plain": [
       "'2.2.0'"
      ]
     },
     "execution_count": 4,
     "metadata": {},
     "output_type": "execute_result"
    }
   ],
   "source": [
    "np.set_printoptions(linewidth=200, precision=2)\n",
    "tf.__version__"
   ]
  },
  {
   "cell_type": "markdown",
   "id": "nervous-ballet",
   "metadata": {},
   "source": [
    "# MNIST"
   ]
  },
  {
   "cell_type": "code",
   "execution_count": 5,
   "id": "seasonal-midnight",
   "metadata": {},
   "outputs": [
    {
     "data": {
      "text/plain": [
       "((60000, 28, 28), (60000,), (10000, 28, 28), (10000,))"
      ]
     },
     "execution_count": 5,
     "metadata": {},
     "output_type": "execute_result"
    }
   ],
   "source": [
    "# Download the mnist dataset using keras\n",
    "(train_datas, train_labels), (test_datas, test_labels) = datasets.mnist.load_data()\n",
    "train_datas.shape, train_labels.shape, test_datas.shape, test_labels.shape"
   ]
  },
  {
   "cell_type": "code",
   "execution_count": 6,
   "id": "other-halloween",
   "metadata": {},
   "outputs": [
    {
     "data": {
      "text/plain": [
       "'Train labels: {0: 5923, 1: 6742, 2: 5958, 3: 6131, 4: 5842, 5: 5421, 6: 5918, 7: 6265, 8: 5851, 9: 5949}'"
      ]
     },
     "execution_count": 6,
     "metadata": {},
     "output_type": "execute_result"
    }
   ],
   "source": [
    "# Counting unique value of train data\n",
    "unique, counts = np.unique(train_labels, return_counts=True)\n",
    "num_labels = len(unique)\n",
    "f\"Train labels: {dict(zip(unique, counts))}\""
   ]
  },
  {
   "cell_type": "code",
   "execution_count": 7,
   "id": "adolescent-budget",
   "metadata": {},
   "outputs": [
    {
     "data": {
      "application/vnd.jupyter.widget-view+json": {
       "model_id": "65ef178c1cfb43ea8b4c8974fc70cf7c",
       "version_major": 2,
       "version_minor": 0
      },
      "text/plain": [
       "interactive(children=(IntSlider(value=29999, description='idx', max=59999), Output()), _dom_classes=('widget-i…"
      ]
     },
     "metadata": {},
     "output_type": "display_data"
    }
   ],
   "source": [
    "@interact(idx=(0, train_datas.shape[0]-1))\n",
    "def showImage(idx):\n",
    "    plt.imshow(train_datas[idx], cmap=\"gray\")\n",
    "    plt.grid(False)\n",
    "    plt.title(f\"LABEL : {train_labels[idx]}\")\n",
    "    plt.show()"
   ]
  },
  {
   "cell_type": "code",
   "execution_count": 8,
   "id": "facial-latitude",
   "metadata": {},
   "outputs": [
    {
     "data": {
      "application/vnd.jupyter.widget-view+json": {
       "model_id": "6de1557729e64781944bfd5bfa6c9fee",
       "version_major": 2,
       "version_minor": 0
      },
      "text/plain": [
       "interactive(children=(IntSlider(value=29999, description='idx', max=59999), Output()), _dom_classes=('widget-i…"
      ]
     },
     "metadata": {},
     "output_type": "display_data"
    }
   ],
   "source": [
    "@interact(idx=(0, train_datas.shape[0]-1))\n",
    "def showImage(idx):\n",
    "    print(train_datas[idx])"
   ]
  },
  {
   "cell_type": "markdown",
   "id": "brave-industry",
   "metadata": {},
   "source": [
    "# Training, Evaluation And Inference\n",
    "Training, evaluation, and inference work exactly in the same way for models built using the functional API as for Sequential models.\n",
    "\n",
    "Here, load the MNIST image data, reshape it into vectors, fit the model on the data (while monitoring performance on a validation split), then evaluate the model on the test data:"
   ]
  },
  {
   "cell_type": "code",
   "execution_count": 9,
   "id": "recent-westminster",
   "metadata": {},
   "outputs": [],
   "source": [
    "train_datas = train_datas.reshape(60000, 784).astype(\"float32\") / 255\n",
    "test_datas = test_datas.reshape(10000, 784).astype(\"float32\") / 255"
   ]
  },
  {
   "cell_type": "code",
   "execution_count": 10,
   "id": "legislative-oracle",
   "metadata": {},
   "outputs": [],
   "source": [
    "inputs = tf.keras.Input(shape=(784,))\n",
    "hidden = layers.Dense(64, activation=\"relu\")(inputs)\n",
    "hidden = layers.Dense(64, activation=\"relu\")(hidden)\n",
    "outputs = layers.Dense(10)(hidden)"
   ]
  },
  {
   "cell_type": "code",
   "execution_count": 11,
   "id": "circular-reverse",
   "metadata": {},
   "outputs": [
    {
     "name": "stdout",
     "output_type": "stream",
     "text": [
      "Model: \"mnist_model\"\n",
      "_________________________________________________________________\n",
      "Layer (type)                 Output Shape              Param #   \n",
      "=================================================================\n",
      "input_1 (InputLayer)         [(None, 784)]             0         \n",
      "_________________________________________________________________\n",
      "dense (Dense)                (None, 64)                50240     \n",
      "_________________________________________________________________\n",
      "dense_1 (Dense)              (None, 64)                4160      \n",
      "_________________________________________________________________\n",
      "dense_2 (Dense)              (None, 10)                650       \n",
      "=================================================================\n",
      "Total params: 55,050\n",
      "Trainable params: 55,050\n",
      "Non-trainable params: 0\n",
      "_________________________________________________________________\n"
     ]
    }
   ],
   "source": [
    "model = models.Model(inputs=inputs, outputs=outputs, name=\"mnist_model\")\n",
    "model.summary()"
   ]
  },
  {
   "cell_type": "code",
   "execution_count": 12,
   "id": "extraordinary-investigator",
   "metadata": {},
   "outputs": [
    {
     "data": {
      "image/png": "[encoded data removed]",
      "text/plain": [
       "<IPython.core.display.Image object>"
      ]
     },
     "execution_count": 12,
     "metadata": {},
     "output_type": "execute_result"
    }
   ],
   "source": [
    "utils.plot_model(model, \"intermediate/model.png\", True)"
   ]
  },
  {
   "cell_type": "code",
   "execution_count": 13,
   "id": "cathedral-honey",
   "metadata": {},
   "outputs": [],
   "source": [
    "model.compile(\n",
    "    loss=losses.SparseCategoricalCrossentropy(from_logits=True),\n",
    "    optimizer=optimizers.RMSprop(),\n",
    "    metrics=[\"accuracy\"],\n",
    ")"
   ]
  },
  {
   "cell_type": "code",
   "execution_count": 14,
   "id": "national-owner",
   "metadata": {},
   "outputs": [
    {
     "name": "stdout",
     "output_type": "stream",
     "text": [
      "Epoch 1/10\n",
      "750/750 [==============================] - 1s 1ms/step - loss: 0.3380 - accuracy: 0.9041 - val_loss: 0.1812 - val_accuracy: 0.9478\n",
      "Epoch 2/10\n",
      "750/750 [==============================] - 1s 1ms/step - loss: 0.1563 - accuracy: 0.9531 - val_loss: 0.1410 - val_accuracy: 0.9585\n",
      "Epoch 3/10\n",
      "750/750 [==============================] - 1s 1ms/step - loss: 0.1134 - accuracy: 0.9661 - val_loss: 0.1204 - val_accuracy: 0.9671\n",
      "Epoch 4/10\n",
      "750/750 [==============================] - 1s 1ms/step - loss: 0.0914 - accuracy: 0.9728 - val_loss: 0.1116 - val_accuracy: 0.9688\n",
      "Epoch 5/10\n",
      "750/750 [==============================] - 1s 1ms/step - loss: 0.0763 - accuracy: 0.9774 - val_loss: 0.1054 - val_accuracy: 0.9712\n",
      "Epoch 6/10\n",
      "750/750 [==============================] - 1s 1ms/step - loss: 0.0655 - accuracy: 0.9806 - val_loss: 0.1162 - val_accuracy: 0.9682\n",
      "Epoch 7/10\n",
      "750/750 [==============================] - 1s 1ms/step - loss: 0.0553 - accuracy: 0.9831 - val_loss: 0.1094 - val_accuracy: 0.9703\n",
      "Epoch 8/10\n",
      "750/750 [==============================] - 1s 1ms/step - loss: 0.0490 - accuracy: 0.9853 - val_loss: 0.1164 - val_accuracy: 0.9709\n",
      "Epoch 9/10\n",
      "750/750 [==============================] - 1s 1ms/step - loss: 0.0426 - accuracy: 0.9869 - val_loss: 0.1112 - val_accuracy: 0.9726\n",
      "Epoch 10/10\n",
      "750/750 [==============================] - 1s 1ms/step - loss: 0.0391 - accuracy: 0.9882 - val_loss: 0.1204 - val_accuracy: 0.9713\n"
     ]
    }
   ],
   "source": [
    "history = model.fit(train_datas, train_labels, batch_size=64, epochs=10, validation_split=0.2)"
   ]
  },
  {
   "cell_type": "code",
   "execution_count": 15,
   "id": "round-outreach",
   "metadata": {},
   "outputs": [
    {
     "name": "stdout",
     "output_type": "stream",
     "text": [
      "313/313 - 0s - loss: 0.1033 - accuracy: 0.9726\n",
      "Test loss: 0.10327659547328949\n",
      "Test accuracy: 0.972599983215332\n"
     ]
    }
   ],
   "source": [
    "test_scores = model.evaluate(test_datas, test_labels, verbose=2)\n",
    "print(\"Test loss:\", test_scores[0])\n",
    "print(\"Test accuracy:\", test_scores[1])"
   ]
  },
  {
   "cell_type": "code",
   "execution_count": 16,
   "id": "hispanic-petroleum",
   "metadata": {},
   "outputs": [
    {
     "data": {
      "text/plain": [
       "<AxesSubplot:>"
      ]
     },
     "execution_count": 16,
     "metadata": {},
     "output_type": "execute_result"
    },
    {
     "data": {
      "image/png": "[encoded data removed]",
      "text/plain": [
       "<Figure size 432x288 with 1 Axes>"
      ]
     },
     "metadata": {
      "needs_background": "light"
     },
     "output_type": "display_data"
    }
   ],
   "source": [
    "history_df = pd.DataFrame(history.history)\n",
    "history_df[[\"loss\", \"val_loss\"]].plot()"
   ]
  },
  {
   "cell_type": "code",
   "execution_count": 17,
   "id": "defensive-tribe",
   "metadata": {},
   "outputs": [
    {
     "data": {
      "text/plain": [
       "<AxesSubplot:>"
      ]
     },
     "execution_count": 17,
     "metadata": {},
     "output_type": "execute_result"
    },
    {
     "data": {
      "image/png": "[encoded data removed]",
      "text/plain": [
       "<Figure size 432x288 with 1 Axes>"
      ]
     },
     "metadata": {
      "needs_background": "light"
     },
     "output_type": "display_data"
    }
   ],
   "source": [
    "history_df[[\"accuracy\", \"val_accuracy\"]].plot()"
   ]
  },
  {
   "cell_type": "markdown",
   "id": "anonymous-venice",
   "metadata": {},
   "source": [
    "# Save And Serialize"
   ]
  },
  {
   "cell_type": "markdown",
   "id": "moved-journalist",
   "metadata": {},
   "source": [
    "Saving the model and serialization work the same way for models built using the functional API as they do for Sequential models. The standard way to save a functional model is to call model.save() to save the entire model as a single file. You can later recreate the same model from this file, even if the code that built the model is no longer available.\n",
    "\n",
    "* This saved file includes the:\n",
    "    - model architecture\n",
    "    - model weight values (that were learned during training)\n",
    "    - model training config, if any (as passed to compile)\n",
    "    - optimizer and its state, if any (to restart training where you left off)"
   ]
  },
  {
   "cell_type": "code",
   "execution_count": 23,
   "id": "armed-charm",
   "metadata": {},
   "outputs": [],
   "source": [
    "model.save(\"intermediate/mnist.h5\")\n",
    "del model"
   ]
  },
  {
   "cell_type": "code",
   "execution_count": 25,
   "id": "fundamental-director",
   "metadata": {},
   "outputs": [],
   "source": [
    "# Recreate the exact same model purely from the file:\n",
    "model = models.load_model(\"intermediate/mnist.h5\")"
   ]
  },
  {
   "cell_type": "code",
   "execution_count": 26,
   "id": "naughty-smart",
   "metadata": {},
   "outputs": [
    {
     "name": "stdout",
     "output_type": "stream",
     "text": [
      "313/313 - 0s - loss: 0.1033 - accuracy: 0.9726\n",
      "Test loss: 0.10327659547328949\n",
      "Test accuracy: 0.972599983215332\n"
     ]
    }
   ],
   "source": [
    "test_scores = model.evaluate(test_datas, test_labels, verbose=2)\n",
    "print(\"Test loss:\", test_scores[0])\n",
    "print(\"Test accuracy:\", test_scores[1])"
   ]
  },
  {
   "cell_type": "code",
   "execution_count": null,
   "id": "supreme-tension",
   "metadata": {},
   "outputs": [],
   "source": []
  },
  {
   "cell_type": "code",
   "execution_count": null,
   "id": "first-general",
   "metadata": {},
   "outputs": [],
   "source": []
  }
 ],
 "metadata": {
  "kernelspec": {
   "display_name": "Python 3",
   "language": "python",
   "name": "python3"
  },
  "language_info": {
   "codemirror_mode": {
    "name": "ipython",
    "version": 3
   },
   "file_extension": ".py",
   "mimetype": "text/x-python",
   "name": "python",
   "nbconvert_exporter": "python",
   "pygments_lexer": "ipython3",
   "version": "3.8.5"
  }
 },
 "nbformat": 4,
 "nbformat_minor": 5
}
