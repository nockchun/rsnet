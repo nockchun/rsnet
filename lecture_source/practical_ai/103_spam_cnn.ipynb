{
 "cells": [
  {
   "cell_type": "markdown",
   "id": "indirect-facility",
   "metadata": {},
   "source": [
    "<div class=\"alert alert-block alert-success\">\n",
    "    <b><center>CNN Basic Examples</center></b>\n",
    "    <b><center>Basic CNN</center></b>\n",
    "</div>"
   ]
  },
  {
   "cell_type": "markdown",
   "id": "written-burlington",
   "metadata": {},
   "source": [
    "# Configure Learning Environment"
   ]
  },
  {
   "cell_type": "code",
   "execution_count": 1,
   "id": "distinguished-madonna",
   "metadata": {},
   "outputs": [
    {
     "name": "stderr",
     "output_type": "stream",
     "text": [
      "2021-07-20 04:39:02.040101: I tensorflow/stream_executor/platform/default/dso_loader.cc:49] Successfully opened dynamic library libcudart.so.10.1\n"
     ]
    }
   ],
   "source": [
    "# !pip install git+https://github.com/nockchun/rspy --force\n",
    "# !pip install mybatis_mapper2sql\n",
    "import rspy as rsp\n",
    "rsp.setSystemWarning(off=True)"
   ]
  },
  {
   "cell_type": "code",
   "execution_count": 2,
   "id": "unknown-nothing",
   "metadata": {},
   "outputs": [],
   "source": [
    "import tensorflow as tf\n",
    "from tensorflow.keras import layers, models, losses, optimizers, datasets, preprocessing, utils"
   ]
  },
  {
   "cell_type": "code",
   "execution_count": 3,
   "id": "educated-solution",
   "metadata": {},
   "outputs": [],
   "source": [
    "import numpy as np\n",
    "import pandas as pd\n",
    "from sklearn.model_selection import train_test_split"
   ]
  },
  {
   "cell_type": "code",
   "execution_count": 4,
   "id": "thermal-horse",
   "metadata": {},
   "outputs": [
    {
     "data": {
      "text/plain": [
       "'2.4.1'"
      ]
     },
     "execution_count": 4,
     "metadata": {},
     "output_type": "execute_result"
    }
   ],
   "source": [
    "np.set_printoptions(linewidth=200, precision=2)\n",
    "tf.__version__"
   ]
  },
  {
   "cell_type": "markdown",
   "id": "metric-sperm",
   "metadata": {},
   "source": [
    "# Prepare Data\n",
    "SMS Spam Dataset(two columns) : v1 contains the label (ham or spam) and v2 contains the raw text."
   ]
  },
  {
   "cell_type": "code",
   "execution_count": 5,
   "id": "c43c8d2a-83d3-4129-a98a-f7331c0a4ff6",
   "metadata": {},
   "outputs": [],
   "source": [
    "# Naver Sentiment Movie Corpus v1.0 다운로드\n",
    "data_path = utils.get_file(\n",
    "    'spam.csv',\n",
    "    'https://raw.githubusercontent.com/mohitgupta-omg/Kaggle-SMS-Spam-Collection-Dataset-/master/spam.csv'\n",
    ")"
   ]
  },
  {
   "cell_type": "code",
   "execution_count": 6,
   "id": "68a8b1ec-b3d9-4e70-a66c-c5122e592dac",
   "metadata": {},
   "outputs": [],
   "source": [
    "df_ori = pd.read_csv(data_path, encoding=\"latin1\")"
   ]
  },
  {
   "cell_type": "code",
   "execution_count": 7,
   "id": "81bef7be-4eb1-4f66-8121-79836d00c3be",
   "metadata": {},
   "outputs": [
    {
     "data": {
      "text/html": [
       "<div>\n",
       "<style scoped>\n",
       "    .dataframe tbody tr th:only-of-type {\n",
       "        vertical-align: middle;\n",
       "    }\n",
       "\n",
       "    .dataframe tbody tr th {\n",
       "        vertical-align: top;\n",
       "    }\n",
       "\n",
       "    .dataframe thead th {\n",
       "        text-align: right;\n",
       "    }\n",
       "</style>\n",
       "<table border=\"1\" class=\"dataframe\">\n",
       "  <thead>\n",
       "    <tr style=\"text-align: right;\">\n",
       "      <th></th>\n",
       "      <th>v1</th>\n",
       "      <th>v2</th>\n",
       "      <th>Unnamed: 2</th>\n",
       "      <th>Unnamed: 3</th>\n",
       "      <th>Unnamed: 4</th>\n",
       "    </tr>\n",
       "  </thead>\n",
       "  <tbody>\n",
       "    <tr>\n",
       "      <th>0</th>\n",
       "      <td>ham</td>\n",
       "      <td>Go until jurong point, crazy.. Available only ...</td>\n",
       "      <td>NaN</td>\n",
       "      <td>NaN</td>\n",
       "      <td>NaN</td>\n",
       "    </tr>\n",
       "    <tr>\n",
       "      <th>1</th>\n",
       "      <td>ham</td>\n",
       "      <td>Ok lar... Joking wif u oni...</td>\n",
       "      <td>NaN</td>\n",
       "      <td>NaN</td>\n",
       "      <td>NaN</td>\n",
       "    </tr>\n",
       "    <tr>\n",
       "      <th>2</th>\n",
       "      <td>spam</td>\n",
       "      <td>Free entry in 2 a wkly comp to win FA Cup fina...</td>\n",
       "      <td>NaN</td>\n",
       "      <td>NaN</td>\n",
       "      <td>NaN</td>\n",
       "    </tr>\n",
       "    <tr>\n",
       "      <th>3</th>\n",
       "      <td>ham</td>\n",
       "      <td>U dun say so early hor... U c already then say...</td>\n",
       "      <td>NaN</td>\n",
       "      <td>NaN</td>\n",
       "      <td>NaN</td>\n",
       "    </tr>\n",
       "    <tr>\n",
       "      <th>4</th>\n",
       "      <td>ham</td>\n",
       "      <td>Nah I don't think he goes to usf, he lives aro...</td>\n",
       "      <td>NaN</td>\n",
       "      <td>NaN</td>\n",
       "      <td>NaN</td>\n",
       "    </tr>\n",
       "  </tbody>\n",
       "</table>\n",
       "</div>"
      ],
      "text/plain": [
       "     v1                                                 v2 Unnamed: 2  \\\n",
       "0   ham  Go until jurong point, crazy.. Available only ...        NaN   \n",
       "1   ham                      Ok lar... Joking wif u oni...        NaN   \n",
       "2  spam  Free entry in 2 a wkly comp to win FA Cup fina...        NaN   \n",
       "3   ham  U dun say so early hor... U c already then say...        NaN   \n",
       "4   ham  Nah I don't think he goes to usf, he lives aro...        NaN   \n",
       "\n",
       "  Unnamed: 3 Unnamed: 4  \n",
       "0        NaN        NaN  \n",
       "1        NaN        NaN  \n",
       "2        NaN        NaN  \n",
       "3        NaN        NaN  \n",
       "4        NaN        NaN  "
      ]
     },
     "execution_count": 7,
     "metadata": {},
     "output_type": "execute_result"
    }
   ],
   "source": [
    "df_ori.head()"
   ]
  },
  {
   "cell_type": "code",
   "execution_count": 8,
   "id": "0eaa6aa8-1198-4f64-9a27-b5f096ed141c",
   "metadata": {},
   "outputs": [],
   "source": [
    "df_data = df_ori.copy()\n",
    "del df_data[\"Unnamed: 2\"]\n",
    "del df_data[\"Unnamed: 3\"]\n",
    "del df_data[\"Unnamed: 4\"]"
   ]
  },
  {
   "cell_type": "code",
   "execution_count": 9,
   "id": "da0317c5-c484-41d7-ab60-6dd7959a20d0",
   "metadata": {},
   "outputs": [
    {
     "data": {
      "text/html": [
       "<div>\n",
       "<style scoped>\n",
       "    .dataframe tbody tr th:only-of-type {\n",
       "        vertical-align: middle;\n",
       "    }\n",
       "\n",
       "    .dataframe tbody tr th {\n",
       "        vertical-align: top;\n",
       "    }\n",
       "\n",
       "    .dataframe thead th {\n",
       "        text-align: right;\n",
       "    }\n",
       "</style>\n",
       "<table border=\"1\" class=\"dataframe\">\n",
       "  <thead>\n",
       "    <tr style=\"text-align: right;\">\n",
       "      <th></th>\n",
       "      <th>v1</th>\n",
       "      <th>v2</th>\n",
       "    </tr>\n",
       "  </thead>\n",
       "  <tbody>\n",
       "    <tr>\n",
       "      <th>0</th>\n",
       "      <td>0</td>\n",
       "      <td>Go until jurong point, crazy.. Available only ...</td>\n",
       "    </tr>\n",
       "    <tr>\n",
       "      <th>1</th>\n",
       "      <td>0</td>\n",
       "      <td>Ok lar... Joking wif u oni...</td>\n",
       "    </tr>\n",
       "    <tr>\n",
       "      <th>2</th>\n",
       "      <td>1</td>\n",
       "      <td>Free entry in 2 a wkly comp to win FA Cup fina...</td>\n",
       "    </tr>\n",
       "    <tr>\n",
       "      <th>3</th>\n",
       "      <td>0</td>\n",
       "      <td>U dun say so early hor... U c already then say...</td>\n",
       "    </tr>\n",
       "    <tr>\n",
       "      <th>4</th>\n",
       "      <td>0</td>\n",
       "      <td>Nah I don't think he goes to usf, he lives aro...</td>\n",
       "    </tr>\n",
       "  </tbody>\n",
       "</table>\n",
       "</div>"
      ],
      "text/plain": [
       "   v1                                                 v2\n",
       "0   0  Go until jurong point, crazy.. Available only ...\n",
       "1   0                      Ok lar... Joking wif u oni...\n",
       "2   1  Free entry in 2 a wkly comp to win FA Cup fina...\n",
       "3   0  U dun say so early hor... U c already then say...\n",
       "4   0  Nah I don't think he goes to usf, he lives aro..."
      ]
     },
     "execution_count": 9,
     "metadata": {},
     "output_type": "execute_result"
    }
   ],
   "source": [
    "df_data.v1 = df_ori.v1.replace([\"ham\", \"spam\"], [0, 1])\n",
    "df_data.head()"
   ]
  },
  {
   "cell_type": "code",
   "execution_count": 10,
   "id": "62a0fa0e-6406-4601-bf20-bfe6239ae0f1",
   "metadata": {},
   "outputs": [
    {
     "data": {
      "text/plain": [
       "(5572, 2, 5169)"
      ]
     },
     "execution_count": 10,
     "metadata": {},
     "output_type": "execute_result"
    }
   ],
   "source": [
    "len(df_data), len(df_data.v1.unique()), len(df_data.v2.unique())"
   ]
  },
  {
   "cell_type": "code",
   "execution_count": 11,
   "id": "71c729d0-cbe0-44e2-ad54-1136e3da0c5b",
   "metadata": {},
   "outputs": [],
   "source": [
    "df_data.drop_duplicates(inplace=True)"
   ]
  },
  {
   "cell_type": "code",
   "execution_count": 12,
   "id": "289bbcaf-48da-4372-91c2-0a2b21851195",
   "metadata": {},
   "outputs": [
    {
     "data": {
      "text/plain": [
       "(5169, 2, 5169)"
      ]
     },
     "execution_count": 12,
     "metadata": {},
     "output_type": "execute_result"
    }
   ],
   "source": [
    "len(df_data), len(df_data.v1.unique()), len(df_data.v2.unique())"
   ]
  },
  {
   "cell_type": "code",
   "execution_count": 13,
   "id": "ff8fbf1b-bdff-416f-8a99-f88f10daf0b4",
   "metadata": {},
   "outputs": [
    {
     "data": {
      "text/plain": [
       "((5169,), (5169,))"
      ]
     },
     "execution_count": 13,
     "metadata": {},
     "output_type": "execute_result"
    }
   ],
   "source": [
    "train_ori = df_data.v2.values\n",
    "label_ori = df_data.v1.values\n",
    "train_ori.shape, label_ori.shape"
   ]
  },
  {
   "cell_type": "markdown",
   "id": "beff908c-6b3a-4385-b73b-99c7bf68e576",
   "metadata": {},
   "source": [
    "# Preprocessing Data"
   ]
  },
  {
   "cell_type": "code",
   "execution_count": 14,
   "id": "a8a944a6-5d3c-4a4d-978b-cd816d40da6c",
   "metadata": {},
   "outputs": [],
   "source": [
    "tokenizer = preprocessing.text.Tokenizer(num_words=1000)\n",
    "tokenizer.fit_on_texts(train_ori)"
   ]
  },
  {
   "cell_type": "code",
   "execution_count": 15,
   "id": "040e33b4-0f03-4bc6-8688-9dc2bf66b5e4",
   "metadata": {},
   "outputs": [],
   "source": [
    "SIZE_VOCAB = len(tokenizer.word_index) + 1"
   ]
  },
  {
   "cell_type": "code",
   "execution_count": 16,
   "id": "ecbc0140-d42a-48da-a5ed-a8ad6c2f049a",
   "metadata": {},
   "outputs": [],
   "source": [
    "train_num = tokenizer.texts_to_sequences(train_ori)"
   ]
  },
  {
   "cell_type": "code",
   "execution_count": 17,
   "id": "671e62e9-884b-4060-bda3-81ea978faaef",
   "metadata": {},
   "outputs": [
    {
     "name": "stdout",
     "output_type": "stream",
     "text": [
      "[[47, 433, 780, 705, 662, 64, 8, 94, 121, 434, 142, 68, 57, 137], [49, 306, 435, 6]]\n"
     ]
    }
   ],
   "source": [
    "print(train_num[:2])"
   ]
  },
  {
   "cell_type": "code",
   "execution_count": 18,
   "id": "47b0cba6-a0e3-4f91-93b7-d61ffa23c775",
   "metadata": {},
   "outputs": [
    {
     "data": {
      "text/plain": [
       "172"
      ]
     },
     "execution_count": 18,
     "metadata": {},
     "output_type": "execute_result"
    }
   ],
   "source": [
    "LEN_SENTENCE_MAX = max([len(item) for item in train_num])\n",
    "LEN_SENTENCE_MAX"
   ]
  },
  {
   "cell_type": "code",
   "execution_count": 19,
   "id": "d1562503-e527-4dc7-b31f-61d92c6cd119",
   "metadata": {},
   "outputs": [
    {
     "data": {
      "text/plain": [
       "(5169, 172)"
      ]
     },
     "execution_count": 19,
     "metadata": {},
     "output_type": "execute_result"
    }
   ],
   "source": [
    "train_num = preprocessing.sequence.pad_sequences(train_num, LEN_SENTENCE_MAX, padding=\"post\")\n",
    "train_num.shape"
   ]
  },
  {
   "cell_type": "code",
   "execution_count": 20,
   "id": "54788c85-99e0-47e9-82df-91011b99f5ff",
   "metadata": {},
   "outputs": [
    {
     "name": "stdout",
     "output_type": "stream",
     "text": [
      "[[ 47 433 780 705 662  64   8  94 121 434 142  68  57 137   0   0   0   0   0   0   0   0   0   0   0   0   0   0   0   0   0   0   0   0   0   0   0   0   0   0   0   0   0   0   0   0   0   0   0\n",
      "    0   0   0   0   0   0   0   0   0   0   0   0   0   0   0   0   0   0   0   0   0   0   0   0   0   0   0   0   0   0   0   0   0   0   0   0   0   0   0   0   0   0   0   0   0   0   0   0   0\n",
      "    0   0   0   0   0   0   0   0   0   0   0   0   0   0   0   0   0   0   0   0   0   0   0   0   0   0   0   0   0   0   0   0   0   0   0   0   0   0   0   0   0   0   0   0   0   0   0   0   0\n",
      "    0   0   0   0   0   0   0   0   0   0   0   0   0   0   0   0   0   0   0   0   0   0   0   0   0]]\n"
     ]
    }
   ],
   "source": [
    "print(train_num[:1])"
   ]
  },
  {
   "cell_type": "code",
   "execution_count": 21,
   "id": "309e37cd-74c1-4a6b-a8ab-1f8329d369c2",
   "metadata": {},
   "outputs": [
    {
     "data": {
      "text/plain": [
       "((4135, 172), (4135,), (1034, 172), (1034,))"
      ]
     },
     "execution_count": 21,
     "metadata": {},
     "output_type": "execute_result"
    }
   ],
   "source": [
    "train_data, test_data, train_label, test_label = train_test_split(train_num, label_ori, test_size= 0.2, random_state=88)\n",
    "train_data.shape, train_label.shape, test_data.shape, test_label.shape"
   ]
  },
  {
   "cell_type": "markdown",
   "id": "brutal-princeton",
   "metadata": {},
   "source": [
    "# Create Model"
   ]
  },
  {
   "cell_type": "code",
   "execution_count": 22,
   "id": "c6b75afb-baa1-4cc3-96df-023145db10bc",
   "metadata": {},
   "outputs": [
    {
     "name": "stdout",
     "output_type": "stream",
     "text": [
      "Model: \"sequential\"\n",
      "_________________________________________________________________\n",
      "Layer (type)                 Output Shape              Param #   \n",
      "=================================================================\n",
      "embedding (Embedding)        (None, 172, 32)           285472    \n",
      "_________________________________________________________________\n",
      "dropout (Dropout)            (None, 172, 32)           0         \n",
      "_________________________________________________________________\n",
      "conv1d (Conv1D)              (None, 168, 32)           5152      \n",
      "_________________________________________________________________\n",
      "max_pooling1d (MaxPooling1D) (None, 167, 32)           0         \n",
      "_________________________________________________________________\n",
      "conv1d_1 (Conv1D)            (None, 163, 32)           5152      \n",
      "_________________________________________________________________\n",
      "global_average_pooling1d (Gl (None, 32)                0         \n",
      "_________________________________________________________________\n",
      "dropout_1 (Dropout)          (None, 32)                0         \n",
      "_________________________________________________________________\n",
      "dense (Dense)                (None, 1)                 33        \n",
      "=================================================================\n",
      "Total params: 295,809\n",
      "Trainable params: 295,809\n",
      "Non-trainable params: 0\n",
      "_________________________________________________________________\n"
     ]
    },
    {
     "name": "stderr",
     "output_type": "stream",
     "text": [
      "2021-07-20 04:39:04.475935: I tensorflow/compiler/jit/xla_cpu_device.cc:41] Not creating XLA devices, tf_xla_enable_xla_devices not set\n",
      "2021-07-20 04:39:04.476779: I tensorflow/stream_executor/platform/default/dso_loader.cc:49] Successfully opened dynamic library libcuda.so.1\n",
      "2021-07-20 04:39:04.496214: E tensorflow/stream_executor/cuda/cuda_driver.cc:328] failed call to cuInit: CUDA_ERROR_SYSTEM_DRIVER_MISMATCH: system has unsupported display driver / cuda driver combination\n",
      "2021-07-20 04:39:04.496236: I tensorflow/stream_executor/cuda/cuda_diagnostics.cc:169] retrieving CUDA diagnostic information for host: jupyterlab\n",
      "2021-07-20 04:39:04.496240: I tensorflow/stream_executor/cuda/cuda_diagnostics.cc:176] hostname: jupyterlab\n",
      "2021-07-20 04:39:04.496340: I tensorflow/stream_executor/cuda/cuda_diagnostics.cc:200] libcuda reported version is: 470.42.1\n",
      "2021-07-20 04:39:04.496355: I tensorflow/stream_executor/cuda/cuda_diagnostics.cc:204] kernel reported version is: 465.31.0\n",
      "2021-07-20 04:39:04.496359: E tensorflow/stream_executor/cuda/cuda_diagnostics.cc:313] kernel version 465.31.0 does not match DSO version 470.42.1 -- cannot find working devices in this configuration\n",
      "2021-07-20 04:39:04.496936: I tensorflow/core/platform/cpu_feature_guard.cc:142] This TensorFlow binary is optimized with oneAPI Deep Neural Network Library (oneDNN) to use the following CPU instructions in performance-critical operations:  SSE4.1 SSE4.2 AVX AVX2 FMA\n",
      "To enable them in other operations, rebuild TensorFlow with the appropriate compiler flags.\n",
      "2021-07-20 04:39:04.497308: I tensorflow/compiler/jit/xla_gpu_device.cc:99] Not creating XLA devices, tf_xla_enable_xla_devices not set\n"
     ]
    }
   ],
   "source": [
    "model = models.Sequential([\n",
    "    layers.Input((172,)),\n",
    "    layers.Embedding(SIZE_VOCAB, 32),\n",
    "    layers.Dropout(0.3),\n",
    "    layers.Conv1D(32, 5, strides=1, padding=\"valid\", activation=\"relu\"),\n",
    "    layers.MaxPool1D(2, strides=1, padding=\"valid\"),\n",
    "    layers.Conv1D(32, 5, strides=1, padding=\"valid\", activation=\"relu\"),\n",
    "    layers.GlobalAveragePooling1D(),\n",
    "    layers.Dropout(0.5),\n",
    "    layers.Dense(1, activation='sigmoid')\n",
    "])\n",
    "model.summary()"
   ]
  },
  {
   "cell_type": "code",
   "execution_count": 23,
   "id": "90f026dd-3a2d-46d0-8ea6-254159e98868",
   "metadata": {},
   "outputs": [
    {
     "data": {
      "image/png": "[encoded data removed]",
      "text/plain": [
       "<IPython.core.display.Image object>"
      ]
     },
     "execution_count": 23,
     "metadata": {},
     "output_type": "execute_result"
    }
   ],
   "source": [
    "utils.plot_model(model, \"intermediate/model.png\", True)"
   ]
  },
  {
   "cell_type": "markdown",
   "id": "asian-dependence",
   "metadata": {},
   "source": [
    "# Compile & Learning"
   ]
  },
  {
   "cell_type": "code",
   "execution_count": 24,
   "id": "80e02daf-d237-4bb0-838d-04ac5d440200",
   "metadata": {},
   "outputs": [],
   "source": [
    "model.compile(\n",
    "    optimizer=\"adam\",\n",
    "    loss=\"binary_crossentropy\",\n",
    "    metrics=[\"accuracy\"]\n",
    ")"
   ]
  },
  {
   "cell_type": "code",
   "execution_count": 25,
   "id": "5eb0d1af-da38-4837-9c24-8f3c18251c76",
   "metadata": {},
   "outputs": [
    {
     "name": "stdout",
     "output_type": "stream",
     "text": [
      "Epoch 1/10\n"
     ]
    },
    {
     "name": "stderr",
     "output_type": "stream",
     "text": [
      "2021-07-20 04:39:04.711260: I tensorflow/compiler/mlir/mlir_graph_optimization_pass.cc:116] None of the MLIR optimization passes are enabled (registered 2)\n",
      "2021-07-20 04:39:04.711683: I tensorflow/core/platform/profile_utils/cpu_utils.cc:112] CPU Frequency: 2599990000 Hz\n"
     ]
    },
    {
     "name": "stdout",
     "output_type": "stream",
     "text": [
      "26/26 [==============================] - 1s 39ms/step - loss: 0.5862 - accuracy: 0.8710 - val_loss: 0.3716 - val_accuracy: 0.8803\n",
      "Epoch 2/10\n",
      "26/26 [==============================] - 1s 21ms/step - loss: 0.3894 - accuracy: 0.8788 - val_loss: 0.3641 - val_accuracy: 0.8803\n",
      "Epoch 3/10\n",
      "26/26 [==============================] - 1s 20ms/step - loss: 0.3798 - accuracy: 0.8719 - val_loss: 0.3550 - val_accuracy: 0.8803\n",
      "Epoch 4/10\n",
      "26/26 [==============================] - 1s 20ms/step - loss: 0.3952 - accuracy: 0.8670 - val_loss: 0.3470 - val_accuracy: 0.8803\n",
      "Epoch 5/10\n",
      "26/26 [==============================] - 1s 21ms/step - loss: 0.3783 - accuracy: 0.8692 - val_loss: 0.3283 - val_accuracy: 0.8803\n",
      "Epoch 6/10\n",
      "26/26 [==============================] - 1s 22ms/step - loss: 0.3250 - accuracy: 0.8810 - val_loss: 0.2647 - val_accuracy: 0.8815\n",
      "Epoch 7/10\n",
      "26/26 [==============================] - 1s 20ms/step - loss: 0.2341 - accuracy: 0.9192 - val_loss: 0.1481 - val_accuracy: 0.9625\n",
      "Epoch 8/10\n",
      "26/26 [==============================] - 1s 20ms/step - loss: 0.1641 - accuracy: 0.9530 - val_loss: 0.1016 - val_accuracy: 0.9734\n",
      "Epoch 9/10\n",
      "26/26 [==============================] - 1s 21ms/step - loss: 0.1033 - accuracy: 0.9699 - val_loss: 0.0956 - val_accuracy: 0.9794\n",
      "Epoch 10/10\n",
      "26/26 [==============================] - 1s 20ms/step - loss: 0.0906 - accuracy: 0.9777 - val_loss: 0.0889 - val_accuracy: 0.9807\n"
     ]
    }
   ],
   "source": [
    "history = model.fit(\n",
    "    train_data,\n",
    "    train_label,\n",
    "    epochs=10,\n",
    "    batch_size=128,\n",
    "    validation_split=0.2\n",
    ")"
   ]
  },
  {
   "cell_type": "code",
   "execution_count": 26,
   "id": "global-tomorrow",
   "metadata": {},
   "outputs": [
    {
     "data": {
      "text/plain": [
       "<AxesSubplot:>"
      ]
     },
     "execution_count": 26,
     "metadata": {},
     "output_type": "execute_result"
    },
    {
     "data": {
      "image/png": "[encoded data removed]",
      "text/plain": [
       "<Figure size 432x288 with 1 Axes>"
      ]
     },
     "metadata": {
      "needs_background": "light"
     },
     "output_type": "display_data"
    }
   ],
   "source": [
    "history_df = pd.DataFrame(history.history)\n",
    "history_df[[\"loss\", \"val_loss\"]].plot()"
   ]
  },
  {
   "cell_type": "code",
   "execution_count": 27,
   "id": "stretch-norwegian",
   "metadata": {},
   "outputs": [
    {
     "data": {
      "text/plain": [
       "<AxesSubplot:>"
      ]
     },
     "execution_count": 27,
     "metadata": {},
     "output_type": "execute_result"
    },
    {
     "data": {
      "image/png": "[encoded data removed]",
      "text/plain": [
       "<Figure size 432x288 with 1 Axes>"
      ]
     },
     "metadata": {
      "needs_background": "light"
     },
     "output_type": "display_data"
    }
   ],
   "source": [
    "history_df[[\"accuracy\", \"val_accuracy\"]].plot()"
   ]
  },
  {
   "cell_type": "markdown",
   "id": "5c0412b4-7ca7-45cc-a639-41f018cc97b3",
   "metadata": {},
   "source": [
    "# Evaluate"
   ]
  },
  {
   "cell_type": "code",
   "execution_count": 28,
   "id": "5203ac74-1a95-4333-90b5-40f3b6058f5b",
   "metadata": {},
   "outputs": [
    {
     "name": "stdout",
     "output_type": "stream",
     "text": [
      "33/33 - 0s - loss: 0.0857 - accuracy: 0.9720\n"
     ]
    }
   ],
   "source": [
    "test_scores = model.evaluate(test_data, test_label, verbose=2)"
   ]
  },
  {
   "cell_type": "markdown",
   "id": "aging-latest",
   "metadata": {},
   "source": [
    "# Save And Serialize"
   ]
  },
  {
   "cell_type": "code",
   "execution_count": 29,
   "id": "democratic-booth",
   "metadata": {},
   "outputs": [],
   "source": [
    "model.save(\"intermediate/spam.h5\")"
   ]
  },
  {
   "cell_type": "markdown",
   "id": "ec6a6e17-dfba-41f0-ac68-da672655cdfd",
   "metadata": {},
   "source": [
    "# Prediction"
   ]
  },
  {
   "cell_type": "code",
   "execution_count": 30,
   "id": "indian-tradition",
   "metadata": {},
   "outputs": [],
   "source": [
    "# Recreate the exact same model purely from the file:\n",
    "model_loaded = models.load_model(\"intermediate/spam.h5\")"
   ]
  },
  {
   "cell_type": "code",
   "execution_count": 31,
   "id": "b28379da-c7e7-46ac-9803-0111b691bfd4",
   "metadata": {},
   "outputs": [
    {
     "data": {
      "text/plain": [
       "array([[ 63,  34,  18,  39,   9,  40, 146,  23,   9,  14, 185, 173,   0,   0,   0,   0,   0,   0,   0,   0,   0,   0,   0,   0,   0,   0,   0,   0,   0,   0,   0,   0,   0,   0,   0,   0,   0,   0,\n",
       "          0,   0,   0,   0,   0,   0,   0,   0,   0,   0,   0,   0,   0,   0,   0,   0,   0,   0,   0,   0,   0,   0,   0,   0,   0,   0,   0,   0,   0,   0,   0,   0,   0,   0,   0,   0,   0,   0,\n",
       "          0,   0,   0,   0,   0,   0,   0,   0,   0,   0,   0,   0,   0,   0,   0,   0,   0,   0,   0,   0,   0,   0,   0,   0,   0,   0,   0,   0,   0,   0,   0,   0,   0,   0,   0,   0,   0,   0,\n",
       "          0,   0,   0,   0,   0,   0,   0,   0,   0,   0,   0,   0,   0,   0,   0,   0,   0,   0,   0,   0,   0,   0,   0,   0,   0,   0,   0,   0,   0,   0,   0,   0,   0,   0,   0,   0,   0,   0,\n",
       "          0,   0,   0,   0,   0,   0,   0,   0,   0,   0,   0,   0,   0,   0,   0,   0,   0,   0,   0,   0]], dtype=int32)"
      ]
     },
     "execution_count": 31,
     "metadata": {},
     "output_type": "execute_result"
    }
   ],
   "source": [
    "test_data[:1]"
   ]
  },
  {
   "cell_type": "code",
   "execution_count": 32,
   "id": "fd9bb941-e13b-4e09-b727-d1091b9845fc",
   "metadata": {},
   "outputs": [
    {
     "data": {
      "text/plain": [
       "[[0.08659490942955017],\n",
       " [0.030534088611602783],\n",
       " [0.059998273849487305],\n",
       " [0.9976762533187866],\n",
       " [0.014158070087432861],\n",
       " [0.22805902361869812],\n",
       " [0.029533863067626953],\n",
       " [0.0275709331035614],\n",
       " [0.04975539445877075],\n",
       " [0.02765059471130371],\n",
       " [0.9999960660934448],\n",
       " [0.023984462022781372],\n",
       " [0.018693864345550537],\n",
       " [0.9999546408653259],\n",
       " [0.028577864170074463],\n",
       " [0.029324829578399658],\n",
       " [0.04159364104270935],\n",
       " [0.02710658311843872],\n",
       " [0.1213483214378357],\n",
       " [0.10864084959030151]]"
      ]
     },
     "execution_count": 32,
     "metadata": {},
     "output_type": "execute_result"
    }
   ],
   "source": [
    "model_loaded.predict(test_data[:20]).tolist()"
   ]
  },
  {
   "cell_type": "code",
   "execution_count": 33,
   "id": "4c440c94-3ab4-48d1-9927-3ea6719f6160",
   "metadata": {},
   "outputs": [
    {
     "data": {
      "text/plain": [
       "array([0, 0, 0, 1, 0, 0, 0, 0, 0, 0, 1, 0, 0, 1, 0, 0, 0, 0, 0, 0])"
      ]
     },
     "execution_count": 33,
     "metadata": {},
     "output_type": "execute_result"
    }
   ],
   "source": [
    "test_label[:20]"
   ]
  },
  {
   "cell_type": "code",
   "execution_count": null,
   "id": "loose-flooring",
   "metadata": {},
   "outputs": [],
   "source": []
  },
  {
   "cell_type": "code",
   "execution_count": null,
   "id": "reduced-inspiration",
   "metadata": {},
   "outputs": [],
   "source": []
  }
 ],
 "metadata": {
  "kernelspec": {
   "display_name": "Python 3 (ipykernel)",
   "language": "python",
   "name": "python3"
  },
  "language_info": {
   "codemirror_mode": {
    "name": "ipython",
    "version": 3
   },
   "file_extension": ".py",
   "mimetype": "text/x-python",
   "name": "python",
   "nbconvert_exporter": "python",
   "pygments_lexer": "ipython3",
   "version": "3.8.10"
  }
 },
 "nbformat": 4,
 "nbformat_minor": 5
}
