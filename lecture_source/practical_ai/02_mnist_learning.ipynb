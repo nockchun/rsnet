{
 "cells": [
  {
   "cell_type": "markdown",
   "id": "egyptian-concord",
   "metadata": {},
   "source": [
    "<div class=\"alert alert-block alert-success\">\n",
    "    <b><center>Functional API</center></b>\n",
    "    <b><center>TensorFlow Documents</center></b>\n",
    "</div>"
   ]
  },
  {
   "cell_type": "markdown",
   "id": "computational-floating",
   "metadata": {},
   "source": [
    "# Configure Learning Environment"
   ]
  },
  {
   "cell_type": "code",
   "execution_count": 1,
   "id": "removable-hamilton",
   "metadata": {},
   "outputs": [
    {
     "name": "stdout",
     "output_type": "stream",
     "text": [
      "1 Physical GPUs, 1 Logical GPUs\n"
     ]
    }
   ],
   "source": [
    "# !pip install git+https://github.com/nockchun/rspy --force\n",
    "# !pip install mybatis_mapper2sql\n",
    "import rspy as rsp\n",
    "rsp.setSystemWarning(off=True)\n",
    "rsp.fixMemoryProblem()"
   ]
  },
  {
   "cell_type": "code",
   "execution_count": 2,
   "id": "scheduled-marking",
   "metadata": {},
   "outputs": [],
   "source": [
    "import numpy as np\n",
    "\n",
    "import tensorflow as tf\n",
    "from tensorflow.keras import layers, models, losses, optimizers, datasets, utils"
   ]
  },
  {
   "cell_type": "code",
   "execution_count": 3,
   "id": "conscious-sailing",
   "metadata": {},
   "outputs": [],
   "source": [
    "from ipywidgets import interact\n",
    "import matplotlib.pyplot as plt\n",
    "import pandas as pd"
   ]
  },
  {
   "cell_type": "code",
   "execution_count": 4,
   "id": "intermediate-capital",
   "metadata": {},
   "outputs": [
    {
     "data": {
      "text/plain": [
       "'2.2.0'"
      ]
     },
     "execution_count": 4,
     "metadata": {},
     "output_type": "execute_result"
    }
   ],
   "source": [
    "np.set_printoptions(linewidth=200, precision=2)\n",
    "tf.__version__"
   ]
  },
  {
   "cell_type": "markdown",
   "id": "alpha-defense",
   "metadata": {},
   "source": [
    "# MNIST"
   ]
  },
  {
   "cell_type": "code",
   "execution_count": 5,
   "id": "stunning-carbon",
   "metadata": {},
   "outputs": [
    {
     "data": {
      "text/plain": [
       "((60000, 28, 28), (60000,), (10000, 28, 28), (10000,))"
      ]
     },
     "execution_count": 5,
     "metadata": {},
     "output_type": "execute_result"
    }
   ],
   "source": [
    "# Download the mnist dataset using keras\n",
    "(train_datas, train_labels), (test_datas, test_labels) = datasets.mnist.load_data()\n",
    "train_datas.shape, train_labels.shape, test_datas.shape, test_labels.shape"
   ]
  },
  {
   "cell_type": "code",
   "execution_count": 6,
   "id": "cheap-monthly",
   "metadata": {},
   "outputs": [
    {
     "data": {
      "text/plain": [
       "'Train labels: {0: 5923, 1: 6742, 2: 5958, 3: 6131, 4: 5842, 5: 5421, 6: 5918, 7: 6265, 8: 5851, 9: 5949}'"
      ]
     },
     "execution_count": 6,
     "metadata": {},
     "output_type": "execute_result"
    }
   ],
   "source": [
    "# Counting unique value of train data\n",
    "unique, counts = np.unique(train_labels, return_counts=True)\n",
    "num_labels = len(unique)\n",
    "f\"Train labels: {dict(zip(unique, counts))}\""
   ]
  },
  {
   "cell_type": "code",
   "execution_count": 7,
   "id": "curious-laser",
   "metadata": {},
   "outputs": [
    {
     "data": {
      "application/vnd.jupyter.widget-view+json": {
       "model_id": "c32cdd9980bc4cae8325a7afbd08d408",
       "version_major": 2,
       "version_minor": 0
      },
      "text/plain": [
       "interactive(children=(IntSlider(value=29999, description='idx', max=59999), Output()), _dom_classes=('widget-i…"
      ]
     },
     "metadata": {},
     "output_type": "display_data"
    }
   ],
   "source": [
    "@interact(idx=(0, train_datas.shape[0]-1))\n",
    "def showImage(idx):\n",
    "    plt.imshow(train_datas[idx], cmap=\"gray\")\n",
    "    plt.grid(False)\n",
    "    plt.title(f\"LABEL : {train_labels[idx]}\")\n",
    "    plt.show()"
   ]
  },
  {
   "cell_type": "code",
   "execution_count": 8,
   "id": "mature-heather",
   "metadata": {},
   "outputs": [
    {
     "data": {
      "application/vnd.jupyter.widget-view+json": {
       "model_id": "ab0ba31ad6454ffc97de756ae7203493",
       "version_major": 2,
       "version_minor": 0
      },
      "text/plain": [
       "interactive(children=(IntSlider(value=29999, description='idx', max=59999), Output()), _dom_classes=('widget-i…"
      ]
     },
     "metadata": {},
     "output_type": "display_data"
    }
   ],
   "source": [
    "@interact(idx=(0, train_datas.shape[0]-1))\n",
    "def showImage(idx):\n",
    "    print(train_datas[idx])"
   ]
  },
  {
   "cell_type": "markdown",
   "id": "tribal-anthony",
   "metadata": {},
   "source": [
    "# Training, Evaluation And Inference\n",
    "Training, evaluation, and inference work exactly in the same way for models built using the functional API as for Sequential models.\n",
    "\n",
    "Here, load the MNIST image data, reshape it into vectors, fit the model on the data (while monitoring performance on a validation split), then evaluate the model on the test data:"
   ]
  },
  {
   "cell_type": "code",
   "execution_count": 9,
   "id": "recreational-color",
   "metadata": {},
   "outputs": [],
   "source": [
    "train_datas = train_datas.reshape(60000, 784).astype(\"float32\") / 255\n",
    "test_datas = test_datas.reshape(10000, 784).astype(\"float32\") / 255"
   ]
  },
  {
   "cell_type": "code",
   "execution_count": 10,
   "id": "lasting-magazine",
   "metadata": {},
   "outputs": [],
   "source": [
    "inputs = tf.keras.Input(shape=(784,))\n",
    "hidden = layers.Dense(64, activation=\"relu\")(inputs)\n",
    "hidden = layers.Dense(64, activation=\"relu\")(hidden)\n",
    "outputs = layers.Dense(10)(hidden)"
   ]
  },
  {
   "cell_type": "code",
   "execution_count": 11,
   "id": "extra-passenger",
   "metadata": {},
   "outputs": [
    {
     "name": "stdout",
     "output_type": "stream",
     "text": [
      "Model: \"mnist_model\"\n",
      "_________________________________________________________________\n",
      "Layer (type)                 Output Shape              Param #   \n",
      "=================================================================\n",
      "input_1 (InputLayer)         [(None, 784)]             0         \n",
      "_________________________________________________________________\n",
      "dense (Dense)                (None, 64)                50240     \n",
      "_________________________________________________________________\n",
      "dense_1 (Dense)              (None, 64)                4160      \n",
      "_________________________________________________________________\n",
      "dense_2 (Dense)              (None, 10)                650       \n",
      "=================================================================\n",
      "Total params: 55,050\n",
      "Trainable params: 55,050\n",
      "Non-trainable params: 0\n",
      "_________________________________________________________________\n"
     ]
    }
   ],
   "source": [
    "model = models.Model(inputs=inputs, outputs=outputs, name=\"mnist_model\")\n",
    "model.summary()"
   ]
  },
  {
   "cell_type": "code",
   "execution_count": 12,
   "id": "balanced-warrior",
   "metadata": {},
   "outputs": [
    {
     "data": {
      "image/png": "[encoded data removed]",
      "text/plain": [
       "<IPython.core.display.Image object>"
      ]
     },
     "execution_count": 12,
     "metadata": {},
     "output_type": "execute_result"
    }
   ],
   "source": [
    "utils.plot_model(model, \"intermediate/model.png\", True)"
   ]
  },
  {
   "cell_type": "code",
   "execution_count": 13,
   "id": "abandoned-curve",
   "metadata": {},
   "outputs": [],
   "source": [
    "model.compile(\n",
    "    loss=losses.SparseCategoricalCrossentropy(from_logits=True),\n",
    "    optimizer=optimizers.RMSprop(),\n",
    "    metrics=[\"accuracy\"],\n",
    ")"
   ]
  },
  {
   "cell_type": "code",
   "execution_count": 14,
   "id": "lyric-raising",
   "metadata": {},
   "outputs": [
    {
     "name": "stdout",
     "output_type": "stream",
     "text": [
      "Epoch 1/10\n",
      "750/750 [==============================] - 1s 2ms/step - loss: 0.3652 - accuracy: 0.8972 - val_loss: 0.1972 - val_accuracy: 0.9433\n",
      "Epoch 2/10\n",
      "750/750 [==============================] - 1s 2ms/step - loss: 0.1721 - accuracy: 0.9504 - val_loss: 0.1536 - val_accuracy: 0.9561\n",
      "Epoch 3/10\n",
      "750/750 [==============================] - 1s 2ms/step - loss: 0.1253 - accuracy: 0.9626 - val_loss: 0.1371 - val_accuracy: 0.9599\n",
      "Epoch 4/10\n",
      "750/750 [==============================] - 2s 2ms/step - loss: 0.0999 - accuracy: 0.9697 - val_loss: 0.1155 - val_accuracy: 0.9668\n",
      "Epoch 5/10\n",
      "750/750 [==============================] - 1s 2ms/step - loss: 0.0815 - accuracy: 0.9752 - val_loss: 0.1120 - val_accuracy: 0.9667\n",
      "Epoch 6/10\n",
      "750/750 [==============================] - 1s 2ms/step - loss: 0.0697 - accuracy: 0.9789 - val_loss: 0.1148 - val_accuracy: 0.9669\n",
      "Epoch 7/10\n",
      "750/750 [==============================] - 1s 2ms/step - loss: 0.0601 - accuracy: 0.9824 - val_loss: 0.0996 - val_accuracy: 0.9726\n",
      "Epoch 8/10\n",
      "750/750 [==============================] - 1s 2ms/step - loss: 0.0531 - accuracy: 0.9843 - val_loss: 0.1094 - val_accuracy: 0.9699\n",
      "Epoch 9/10\n",
      "750/750 [==============================] - 1s 2ms/step - loss: 0.0475 - accuracy: 0.9859 - val_loss: 0.1104 - val_accuracy: 0.9698\n",
      "Epoch 10/10\n",
      "750/750 [==============================] - 2s 2ms/step - loss: 0.0415 - accuracy: 0.9879 - val_loss: 0.1085 - val_accuracy: 0.9720\n"
     ]
    }
   ],
   "source": [
    "history = model.fit(train_datas, train_labels, batch_size=64, epochs=10, validation_split=0.2)"
   ]
  },
  {
   "cell_type": "code",
   "execution_count": 15,
   "id": "alert-shelter",
   "metadata": {},
   "outputs": [
    {
     "name": "stdout",
     "output_type": "stream",
     "text": [
      "313/313 - 0s - loss: 0.0915 - accuracy: 0.9765\n",
      "Test loss: 0.0914553552865982\n",
      "Test accuracy: 0.9764999747276306\n"
     ]
    }
   ],
   "source": [
    "test_scores = model.evaluate(test_datas, test_labels, verbose=2)\n",
    "print(\"Test loss:\", test_scores[0])\n",
    "print(\"Test accuracy:\", test_scores[1])"
   ]
  },
  {
   "cell_type": "code",
   "execution_count": 16,
   "id": "fatal-variance",
   "metadata": {},
   "outputs": [
    {
     "data": {
      "text/plain": [
       "<AxesSubplot:>"
      ]
     },
     "execution_count": 16,
     "metadata": {},
     "output_type": "execute_result"
    },
    {
     "data": {
      "image/png": "[encoded data removed]",
      "text/plain": [
       "<Figure size 432x288 with 1 Axes>"
      ]
     },
     "metadata": {
      "needs_background": "light"
     },
     "output_type": "display_data"
    }
   ],
   "source": [
    "history_df = pd.DataFrame(history.history)\n",
    "history_df[[\"loss\", \"val_loss\"]].plot()"
   ]
  },
  {
   "cell_type": "code",
   "execution_count": 17,
   "id": "dramatic-testimony",
   "metadata": {},
   "outputs": [
    {
     "data": {
      "text/plain": [
       "<AxesSubplot:>"
      ]
     },
     "execution_count": 17,
     "metadata": {},
     "output_type": "execute_result"
    },
    {
     "data": {
      "image/png": "[encoded data removed]",
      "text/plain": [
       "<Figure size 432x288 with 1 Axes>"
      ]
     },
     "metadata": {
      "needs_background": "light"
     },
     "output_type": "display_data"
    }
   ],
   "source": [
    "history_df[[\"accuracy\", \"val_accuracy\"]].plot()"
   ]
  },
  {
   "cell_type": "markdown",
   "id": "rough-latino",
   "metadata": {},
   "source": [
    "# Save And Serialize"
   ]
  },
  {
   "cell_type": "markdown",
   "id": "handmade-muscle",
   "metadata": {},
   "source": [
    "Saving the model and serialization work the same way for models built using the functional API as they do for Sequential models. The standard way to save a functional model is to call model.save() to save the entire model as a single file. You can later recreate the same model from this file, even if the code that built the model is no longer available.\n",
    "\n",
    "* This saved file includes the:\n",
    "    - model architecture\n",
    "    - model weight values (that were learned during training)\n",
    "    - model training config, if any (as passed to compile)\n",
    "    - optimizer and its state, if any (to restart training where you left off)"
   ]
  },
  {
   "cell_type": "code",
   "execution_count": 18,
   "id": "limiting-summit",
   "metadata": {},
   "outputs": [],
   "source": [
    "model.save(\"intermediate/mnist.h5\")\n",
    "del model"
   ]
  },
  {
   "cell_type": "code",
   "execution_count": 19,
   "id": "false-wisconsin",
   "metadata": {},
   "outputs": [],
   "source": [
    "# Recreate the exact same model purely from the file:\n",
    "model = models.load_model(\"intermediate/mnist.h5\")"
   ]
  },
  {
   "cell_type": "code",
   "execution_count": 20,
   "id": "painted-diversity",
   "metadata": {},
   "outputs": [
    {
     "name": "stdout",
     "output_type": "stream",
     "text": [
      "313/313 - 0s - loss: 0.0915 - accuracy: 0.9765\n",
      "Test loss: 0.0914553552865982\n",
      "Test accuracy: 0.9764999747276306\n"
     ]
    }
   ],
   "source": [
    "test_scores = model.evaluate(test_datas, test_labels, verbose=2)\n",
    "print(\"Test loss:\", test_scores[0])\n",
    "print(\"Test accuracy:\", test_scores[1])"
   ]
  },
  {
   "cell_type": "code",
   "execution_count": null,
   "id": "peripheral-developer",
   "metadata": {},
   "outputs": [],
   "source": []
  },
  {
   "cell_type": "code",
   "execution_count": null,
   "id": "amber-behalf",
   "metadata": {},
   "outputs": [],
   "source": []
  }
 ],
 "metadata": {
  "kernelspec": {
   "display_name": "Python 3",
   "language": "python",
   "name": "python3"
  },
  "language_info": {
   "codemirror_mode": {
    "name": "ipython",
    "version": 3
   },
   "file_extension": ".py",
   "mimetype": "text/x-python",
   "name": "python",
   "nbconvert_exporter": "python",
   "pygments_lexer": "ipython3",
   "version": "3.8.5"
  }
 },
 "nbformat": 4,
 "nbformat_minor": 5
}
