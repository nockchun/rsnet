{
 "cells": [
  {
   "cell_type": "markdown",
   "id": "chief-depth",
   "metadata": {},
   "source": [
    "<div class=\"alert alert-block alert-success\">\n",
    "    <b><center>Functional API</center></b>\n",
    "    <b><center>TensorFlow Documents</center></b>\n",
    "</div>"
   ]
  },
  {
   "cell_type": "markdown",
   "id": "reported-binary",
   "metadata": {},
   "source": [
    "# Configure Learning Environment"
   ]
  },
  {
   "cell_type": "code",
   "execution_count": 1,
   "id": "indie-percentage",
   "metadata": {},
   "outputs": [],
   "source": [
    "# !pip install git+https://github.com/nockchun/rspy --force\n",
    "# !pip install mybatis_mapper2sql\n",
    "import rspy as rsp\n",
    "rsp.setSystemWarning(off=True)\n",
    "rsp.fixMemoryProblem()"
   ]
  },
  {
   "cell_type": "code",
   "execution_count": 2,
   "id": "acknowledged-racing",
   "metadata": {},
   "outputs": [],
   "source": [
    "import numpy as np\n",
    "\n",
    "import tensorflow as tf\n",
    "from tensorflow.keras import layers, models, losses, optimizers, datasets, utils"
   ]
  },
  {
   "cell_type": "code",
   "execution_count": 3,
   "id": "british-desperate",
   "metadata": {},
   "outputs": [],
   "source": [
    "from ipywidgets import interact\n",
    "import matplotlib.pyplot as plt\n",
    "import pandas as pd"
   ]
  },
  {
   "cell_type": "code",
   "execution_count": 4,
   "id": "partial-hampshire",
   "metadata": {},
   "outputs": [
    {
     "data": {
      "text/plain": [
       "'2.2.0'"
      ]
     },
     "execution_count": 4,
     "metadata": {},
     "output_type": "execute_result"
    }
   ],
   "source": [
    "np.set_printoptions(linewidth=200, precision=2)\n",
    "tf.__version__"
   ]
  },
  {
   "cell_type": "markdown",
   "id": "diagnostic-boulder",
   "metadata": {},
   "source": [
    "# MNIST"
   ]
  },
  {
   "cell_type": "code",
   "execution_count": 5,
   "id": "legitimate-wayne",
   "metadata": {},
   "outputs": [
    {
     "data": {
      "text/plain": [
       "((60000, 28, 28), (60000,), (10000, 28, 28), (10000,))"
      ]
     },
     "execution_count": 5,
     "metadata": {},
     "output_type": "execute_result"
    }
   ],
   "source": [
    "# Download the mnist dataset using keras\n",
    "(train_datas, train_labels), (test_datas, test_labels) = datasets.mnist.load_data()\n",
    "train_datas.shape, train_labels.shape, test_datas.shape, test_labels.shape"
   ]
  },
  {
   "cell_type": "code",
   "execution_count": 6,
   "id": "innovative-bonus",
   "metadata": {},
   "outputs": [
    {
     "data": {
      "text/plain": [
       "'Train labels: {0: 5923, 1: 6742, 2: 5958, 3: 6131, 4: 5842, 5: 5421, 6: 5918, 7: 6265, 8: 5851, 9: 5949}'"
      ]
     },
     "execution_count": 6,
     "metadata": {},
     "output_type": "execute_result"
    }
   ],
   "source": [
    "# Counting unique value of train data\n",
    "unique, counts = np.unique(train_labels, return_counts=True)\n",
    "num_labels = len(unique)\n",
    "f\"Train labels: {dict(zip(unique, counts))}\""
   ]
  },
  {
   "cell_type": "code",
   "execution_count": 7,
   "id": "assisted-nepal",
   "metadata": {},
   "outputs": [
    {
     "data": {
      "application/vnd.jupyter.widget-view+json": {
       "model_id": "ab4c90f1b46d46ce956a374a0ebe0d72",
       "version_major": 2,
       "version_minor": 0
      },
      "text/plain": [
       "interactive(children=(IntSlider(value=29999, description='idx', max=59999), Output()), _dom_classes=('widget-i…"
      ]
     },
     "metadata": {},
     "output_type": "display_data"
    }
   ],
   "source": [
    "@interact(idx=(0, train_datas.shape[0]-1))\n",
    "def showImage(idx):\n",
    "    plt.imshow(train_datas[idx], cmap=\"gray\")\n",
    "    plt.grid(False)\n",
    "    plt.title(f\"LABEL : {train_labels[idx]}\")\n",
    "    plt.show()"
   ]
  },
  {
   "cell_type": "code",
   "execution_count": 8,
   "id": "infectious-ministry",
   "metadata": {},
   "outputs": [
    {
     "data": {
      "application/vnd.jupyter.widget-view+json": {
       "model_id": "93b9d101d7234dd8a35c50ef9a02de5c",
       "version_major": 2,
       "version_minor": 0
      },
      "text/plain": [
       "interactive(children=(IntSlider(value=29999, description='idx', max=59999), Output()), _dom_classes=('widget-i…"
      ]
     },
     "metadata": {},
     "output_type": "display_data"
    }
   ],
   "source": [
    "@interact(idx=(0, train_datas.shape[0]-1))\n",
    "def showImage(idx):\n",
    "    print(train_datas[idx])"
   ]
  },
  {
   "cell_type": "markdown",
   "id": "silver-pathology",
   "metadata": {},
   "source": [
    "# Training, Evaluation And Inference\n",
    "Training, evaluation, and inference work exactly in the same way for models built using the functional API as for Sequential models.\n",
    "\n",
    "Here, load the MNIST image data, reshape it into vectors, fit the model on the data (while monitoring performance on a validation split), then evaluate the model on the test data:"
   ]
  },
  {
   "cell_type": "code",
   "execution_count": 9,
   "id": "uniform-completion",
   "metadata": {},
   "outputs": [],
   "source": [
    "train_datas = train_datas.reshape(60000, 784).astype(\"float32\")\n",
    "test_datas = test_datas.reshape(10000, 784).astype(\"float32\")"
   ]
  },
  {
   "cell_type": "code",
   "execution_count": 10,
   "id": "bibliographic-enhancement",
   "metadata": {},
   "outputs": [],
   "source": [
    "inputs = tf.keras.Input(shape=(784,))\n",
    "hidden = layers.Dense(64, activation=\"sigmoid\")(inputs)\n",
    "hidden = layers.Dense(64, activation=\"sigmoid\")(hidden)\n",
    "outputs = layers.Dense(10)(hidden)"
   ]
  },
  {
   "cell_type": "code",
   "execution_count": 11,
   "id": "widespread-atmosphere",
   "metadata": {},
   "outputs": [
    {
     "name": "stdout",
     "output_type": "stream",
     "text": [
      "Model: \"mnist_model\"\n",
      "_________________________________________________________________\n",
      "Layer (type)                 Output Shape              Param #   \n",
      "=================================================================\n",
      "input_1 (InputLayer)         [(None, 784)]             0         \n",
      "_________________________________________________________________\n",
      "dense (Dense)                (None, 64)                50240     \n",
      "_________________________________________________________________\n",
      "dense_1 (Dense)              (None, 64)                4160      \n",
      "_________________________________________________________________\n",
      "dense_2 (Dense)              (None, 10)                650       \n",
      "=================================================================\n",
      "Total params: 55,050\n",
      "Trainable params: 55,050\n",
      "Non-trainable params: 0\n",
      "_________________________________________________________________\n"
     ]
    }
   ],
   "source": [
    "model = models.Model(inputs=inputs, outputs=outputs, name=\"mnist_model\")\n",
    "model.summary()"
   ]
  },
  {
   "cell_type": "code",
   "execution_count": 12,
   "id": "coral-words",
   "metadata": {},
   "outputs": [
    {
     "data": {
      "image/png": "[encoded data removed]",
      "text/plain": [
       "<IPython.core.display.Image object>"
      ]
     },
     "execution_count": 12,
     "metadata": {},
     "output_type": "execute_result"
    }
   ],
   "source": [
    "utils.plot_model(model, \"intermediate/model.png\", True)"
   ]
  },
  {
   "cell_type": "code",
   "execution_count": 13,
   "id": "maritime-baghdad",
   "metadata": {},
   "outputs": [],
   "source": [
    "model.compile(\n",
    "    loss=losses.SparseCategoricalCrossentropy(from_logits=True),\n",
    "    optimizer=optimizers.RMSprop(),\n",
    "    metrics=[\"accuracy\"],\n",
    ")"
   ]
  },
  {
   "cell_type": "code",
   "execution_count": 14,
   "id": "leading-provincial",
   "metadata": {},
   "outputs": [
    {
     "name": "stdout",
     "output_type": "stream",
     "text": [
      "Epoch 1/5\n",
      "750/750 [==============================] - 1s 1ms/step - loss: 0.7800 - accuracy: 0.8032 - val_loss: 0.3604 - val_accuracy: 0.8938\n",
      "Epoch 2/5\n",
      "750/750 [==============================] - 1s 1ms/step - loss: 0.3439 - accuracy: 0.8972 - val_loss: 0.2962 - val_accuracy: 0.9112\n",
      "Epoch 3/5\n",
      "750/750 [==============================] - 1s 1ms/step - loss: 0.2941 - accuracy: 0.9104 - val_loss: 0.2615 - val_accuracy: 0.9201\n",
      "Epoch 4/5\n",
      "750/750 [==============================] - 1s 1ms/step - loss: 0.2629 - accuracy: 0.9195 - val_loss: 0.2430 - val_accuracy: 0.9249\n",
      "Epoch 5/5\n",
      "750/750 [==============================] - 1s 1ms/step - loss: 0.2457 - accuracy: 0.9256 - val_loss: 0.2326 - val_accuracy: 0.9300\n"
     ]
    }
   ],
   "source": [
    "history = model.fit(train_datas, train_labels, batch_size=64, epochs=5, validation_split=0.2)"
   ]
  },
  {
   "cell_type": "code",
   "execution_count": 15,
   "id": "musical-latvia",
   "metadata": {},
   "outputs": [
    {
     "name": "stdout",
     "output_type": "stream",
     "text": [
      "313/313 - 0s - loss: 0.2375 - accuracy: 0.9273\n",
      "Test loss: 0.23745808005332947\n",
      "Test accuracy: 0.927299976348877\n"
     ]
    }
   ],
   "source": [
    "test_scores = model.evaluate(test_datas, test_labels, verbose=2)\n",
    "print(\"Test loss:\", test_scores[0])\n",
    "print(\"Test accuracy:\", test_scores[1])"
   ]
  },
  {
   "cell_type": "code",
   "execution_count": 16,
   "id": "loose-musician",
   "metadata": {},
   "outputs": [
    {
     "data": {
      "text/plain": [
       "<AxesSubplot:>"
      ]
     },
     "execution_count": 16,
     "metadata": {},
     "output_type": "execute_result"
    },
    {
     "data": {
      "image/png": "[encoded data removed]",
      "text/plain": [
       "<Figure size 432x288 with 1 Axes>"
      ]
     },
     "metadata": {
      "needs_background": "light"
     },
     "output_type": "display_data"
    }
   ],
   "source": [
    "history_df = pd.DataFrame(history.history)\n",
    "history_df[[\"loss\", \"val_loss\"]].plot()"
   ]
  },
  {
   "cell_type": "code",
   "execution_count": 17,
   "id": "unexpected-thesaurus",
   "metadata": {},
   "outputs": [
    {
     "data": {
      "text/plain": [
       "<AxesSubplot:>"
      ]
     },
     "execution_count": 17,
     "metadata": {},
     "output_type": "execute_result"
    },
    {
     "data": {
      "image/png": "[encoded data removed]",
      "text/plain": [
       "<Figure size 432x288 with 1 Axes>"
      ]
     },
     "metadata": {
      "needs_background": "light"
     },
     "output_type": "display_data"
    }
   ],
   "source": [
    "history_df[[\"accuracy\", \"val_accuracy\"]].plot()"
   ]
  },
  {
   "cell_type": "markdown",
   "id": "original-castle",
   "metadata": {},
   "source": [
    "# Save And Serialize"
   ]
  },
  {
   "cell_type": "markdown",
   "id": "thousand-fourth",
   "metadata": {},
   "source": [
    "Saving the model and serialization work the same way for models built using the functional API as they do for Sequential models. The standard way to save a functional model is to call model.save() to save the entire model as a single file. You can later recreate the same model from this file, even if the code that built the model is no longer available.\n",
    "\n",
    "* This saved file includes the:\n",
    "    - model architecture\n",
    "    - model weight values (that were learned during training)\n",
    "    - model training config, if any (as passed to compile)\n",
    "    - optimizer and its state, if any (to restart training where you left off)"
   ]
  },
  {
   "cell_type": "code",
   "execution_count": 18,
   "id": "general-adolescent",
   "metadata": {},
   "outputs": [],
   "source": [
    "model.save(\"intermediate/mnist.h5\")\n",
    "del model"
   ]
  },
  {
   "cell_type": "code",
   "execution_count": 19,
   "id": "later-identification",
   "metadata": {},
   "outputs": [],
   "source": [
    "# Recreate the exact same model purely from the file:\n",
    "model = models.load_model(\"intermediate/mnist.h5\")"
   ]
  },
  {
   "cell_type": "code",
   "execution_count": 20,
   "id": "hairy-peoples",
   "metadata": {},
   "outputs": [
    {
     "name": "stdout",
     "output_type": "stream",
     "text": [
      "313/313 - 0s - loss: 0.2375 - accuracy: 0.9273\n",
      "Test loss: 0.23745808005332947\n",
      "Test accuracy: 0.927299976348877\n"
     ]
    }
   ],
   "source": [
    "test_scores = model.evaluate(test_datas, test_labels, verbose=2)\n",
    "print(\"Test loss:\", test_scores[0])\n",
    "print(\"Test accuracy:\", test_scores[1])"
   ]
  },
  {
   "cell_type": "code",
   "execution_count": null,
   "id": "experienced-edmonton",
   "metadata": {},
   "outputs": [],
   "source": []
  },
  {
   "cell_type": "code",
   "execution_count": null,
   "id": "palestinian-maximum",
   "metadata": {},
   "outputs": [],
   "source": []
  }
 ],
 "metadata": {
  "kernelspec": {
   "display_name": "Python 3",
   "language": "python",
   "name": "python3"
  },
  "language_info": {
   "codemirror_mode": {
    "name": "ipython",
    "version": 3
   },
   "file_extension": ".py",
   "mimetype": "text/x-python",
   "name": "python",
   "nbconvert_exporter": "python",
   "pygments_lexer": "ipython3",
   "version": "3.8.5"
  }
 },
 "nbformat": 4,
 "nbformat_minor": 5
}
