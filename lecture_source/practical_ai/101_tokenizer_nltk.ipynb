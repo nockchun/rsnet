{
 "cells": [
  {
   "cell_type": "markdown",
   "id": "wanted-commodity",
   "metadata": {
    "slideshow": {
     "slide_type": "slide"
    },
    "tags": []
   },
   "source": [
    "<div class=\"alert alert-block alert-success\">\n",
    "    <b><center>Natual Language Processing</center></b>\n",
    "    <b><center>Tokenize</center></b>\n",
    "</div>"
   ]
  },
  {
   "cell_type": "markdown",
   "id": "22e48793-68f8-4765-ae49-2c61b165167a",
   "metadata": {},
   "source": [
    "# Configure Learning Environment"
   ]
  },
  {
   "cell_type": "code",
   "execution_count": 1,
   "id": "5a3b4074-b9c9-4978-802d-e772661dc0d7",
   "metadata": {},
   "outputs": [],
   "source": [
    "import nltk\n",
    "# nltk.download(\"all\")"
   ]
  },
  {
   "cell_type": "markdown",
   "id": "grave-advisory",
   "metadata": {},
   "source": [
    "# Pure Python Tokenize"
   ]
  },
  {
   "cell_type": "code",
   "execution_count": 2,
   "id": "e809a9fb-aeaf-42a1-a9b9-5897a6535a8f",
   "metadata": {},
   "outputs": [],
   "source": [
    "texts = [\n",
    "    \"He is boy. She is girl. she is beautiful! There are so many girls.\",\n",
    "    \"What's up ? bro~~! At eight o'clock on Thursday morning Arthur didn't feel very good.\"\n",
    "]"
   ]
  },
  {
   "cell_type": "code",
   "execution_count": 3,
   "id": "d3c687f3-8ced-4d0e-92a6-9b3ace2c3e98",
   "metadata": {},
   "outputs": [
    {
     "name": "stdout",
     "output_type": "stream",
     "text": [
      "['He', 'is', 'boy.', 'She', 'is', 'girl.', 'she', 'is', 'beautiful!', 'There', 'are', 'so', 'many', 'girls.']\n"
     ]
    }
   ],
   "source": [
    "# 기본 단어 분할\n",
    "print(texts[0].split())"
   ]
  },
  {
   "cell_type": "code",
   "execution_count": 4,
   "id": "951e5f5e-febd-4fc3-a6c5-8cdab202fbad",
   "metadata": {},
   "outputs": [
    {
     "data": {
      "text/plain": [
       "12"
      ]
     },
     "execution_count": 4,
     "metadata": {},
     "output_type": "execute_result"
    }
   ],
   "source": [
    "texts[0].split().index(\"many\")"
   ]
  },
  {
   "cell_type": "code",
   "execution_count": 5,
   "id": "4b2427f6-0c9b-4471-bed5-d98a6aea1d35",
   "metadata": {},
   "outputs": [
    {
     "name": "stdout",
     "output_type": "stream",
     "text": [
      "{'boy.', 'girls.', 'she', 'girl.', 'is', 'beautiful!', 'are', 'She', 'so', 'There', 'many', 'He'}\n"
     ]
    }
   ],
   "source": [
    "# 토큰들 출력\n",
    "print(set(texts[0].split()))"
   ]
  },
  {
   "cell_type": "code",
   "execution_count": 6,
   "id": "6810442e-4bd8-4437-beb5-cf9c955c511b",
   "metadata": {},
   "outputs": [],
   "source": [
    "# 사전 만드는 함수\n",
    "def getDictionary(texts):\n",
    "    words = set(texts.split())\n",
    "    diction = {\"OOV\": 0}\n",
    "    for index, item in enumerate(words):\n",
    "        diction[item] = index + 1\n",
    "    return diction"
   ]
  },
  {
   "cell_type": "code",
   "execution_count": 7,
   "id": "60fc9187-4830-47ee-8cc5-d77fe90eedbf",
   "metadata": {},
   "outputs": [
    {
     "name": "stdout",
     "output_type": "stream",
     "text": [
      "{'OOV': 0, 'boy.': 1, 'girls.': 2, 'she': 3, 'girl.': 4, 'is': 5, 'beautiful!': 6, 'are': 7, 'She': 8, 'so': 9, 'There': 10, 'many': 11, 'He': 12}\n"
     ]
    }
   ],
   "source": [
    "mydic = getDictionary(texts[0])\n",
    "print(mydic)"
   ]
  },
  {
   "cell_type": "code",
   "execution_count": 8,
   "id": "1a0b9f20-ad9f-4b3a-bdf0-cfa987329f18",
   "metadata": {},
   "outputs": [],
   "source": [
    "def getTokens(dic, texts):\n",
    "    texts = texts.split()\n",
    "    tokens = []\n",
    "    for item in texts:\n",
    "        try:\n",
    "            tokens.append(dic[item])\n",
    "        except:\n",
    "            tokens.append(dic[\"OOV\"])\n",
    "    return tokens"
   ]
  },
  {
   "cell_type": "code",
   "execution_count": 9,
   "id": "469dbb6d-29e1-416a-9d16-a26a1b086853",
   "metadata": {},
   "outputs": [
    {
     "name": "stdout",
     "output_type": "stream",
     "text": [
      "[8, 5, 0] [3, 5, 0]\n"
     ]
    }
   ],
   "source": [
    "print(getTokens(mydic, \"She is cute.\"), getTokens(mydic, \"she is cute.\"))"
   ]
  },
  {
   "cell_type": "code",
   "execution_count": 10,
   "id": "ec96b4c2-3819-4c84-a2a7-bf80d22a286f",
   "metadata": {},
   "outputs": [
    {
     "name": "stdout",
     "output_type": "stream",
     "text": [
      "{'OOV': 0, 'boy.': 1, 'there': 2, 'girls.': 3, 'she': 4, 'girl.': 5, 'is': 6, 'beautiful!': 7, 'he': 8, 'so': 9, 'many': 10, 'are': 11}\n",
      "[4, 6, 0] [4, 6, 0]\n"
     ]
    }
   ],
   "source": [
    "# cleaning\n",
    "mydic = getDictionary(texts[0].lower())\n",
    "print(mydic)\n",
    "print(getTokens(mydic, \"She is cute.\".lower()), getTokens(mydic, \"she is cute.\".lower()))"
   ]
  },
  {
   "cell_type": "markdown",
   "id": "94584908-0e75-4606-b9e4-66e28c8ef8de",
   "metadata": {},
   "source": [
    "# NLTK"
   ]
  },
  {
   "cell_type": "code",
   "execution_count": 11,
   "id": "0861beb5-3e49-4d53-9a84-264b68dda2b7",
   "metadata": {},
   "outputs": [],
   "source": [
    "from nltk import tokenize, stem, tag, chunk"
   ]
  },
  {
   "cell_type": "code",
   "execution_count": 12,
   "id": "972003bc-698f-4ddb-8833-91bcc328221a",
   "metadata": {},
   "outputs": [
    {
     "name": "stdout",
     "output_type": "stream",
     "text": [
      "['He is boy.', 'She is girl.', 'she is beautiful!', 'There are so many girls.']\n"
     ]
    }
   ],
   "source": [
    "# 문장 분절\n",
    "sent = tokenize.sent_tokenize(texts[0])\n",
    "print(sent)"
   ]
  },
  {
   "cell_type": "code",
   "execution_count": 13,
   "id": "f1530834-de4c-4039-94e7-48fdb96efe74",
   "metadata": {},
   "outputs": [
    {
     "name": "stdout",
     "output_type": "stream",
     "text": [
      "['He', 'is', 'boy', '.', 'She', 'is', 'girl', '.', 'she', 'is', 'beautiful', '!', 'There', 'are', 'so', 'many', 'girls', '.']\n"
     ]
    }
   ],
   "source": [
    "# 단어 토큰화\n",
    "tokens = tokenize.word_tokenize(texts[0])\n",
    "print(tokens)"
   ]
  },
  {
   "cell_type": "code",
   "execution_count": 14,
   "id": "63ea8689-83e3-4fd5-ac95-0949a49d3df8",
   "metadata": {},
   "outputs": [
    {
     "name": "stdout",
     "output_type": "stream",
     "text": [
      "[('He', 'PRP'), ('is', 'VBZ'), ('boy', 'JJ'), ('.', '.'), ('She', 'PRP'), ('is', 'VBZ'), ('girl', 'JJ'), ('.', '.'), ('she', 'PRP'), ('is', 'VBZ'), ('beautiful', 'JJ'), ('!', '.'), ('There', 'EX'), ('are', 'VBP'), ('so', 'RB'), ('many', 'JJ'), ('girls', 'NNS'), ('.', '.')]\n"
     ]
    }
   ],
   "source": [
    "# 품사 태깅\n",
    "tags = tag.pos_tag(tokens)\n",
    "print(tags)"
   ]
  },
  {
   "cell_type": "code",
   "execution_count": 15,
   "id": "414c6918-cbeb-4d07-a18b-c5b7ad252978",
   "metadata": {},
   "outputs": [
    {
     "name": "stdout",
     "output_type": "stream",
     "text": [
      "(S\n",
      "  He/PRP\n",
      "  is/VBZ\n",
      "  boy/JJ\n",
      "  ./.\n",
      "  She/PRP\n",
      "  is/VBZ\n",
      "  girl/JJ\n",
      "  ./.\n",
      "  she/PRP\n",
      "  is/VBZ\n",
      "  beautiful/JJ\n",
      "  !/.\n",
      "  There/EX\n",
      "  are/VBP\n",
      "  so/RB\n",
      "  many/JJ\n",
      "  girls/NNS\n",
      "  ./.)\n"
     ]
    }
   ],
   "source": [
    "# named entities : 이름 개체 인식\n",
    "entities = chunk.ne_chunk(tags)\n",
    "entities.pprint()"
   ]
  },
  {
   "cell_type": "code",
   "execution_count": 16,
   "id": "3eff049c-d708-4b2a-b187-1bcbe7bfbc63",
   "metadata": {},
   "outputs": [],
   "source": [
    "import os\n",
    "os.system(\"Xvfb :1 -screen 0 1024x768x16 &\")\n",
    "os.environ['DISPLAY'] = \":1.0\""
   ]
  },
  {
   "cell_type": "code",
   "execution_count": 17,
   "id": "e64d6c1a-2c06-45dc-a473-5739d459eba3",
   "metadata": {},
   "outputs": [
    {
     "name": "stderr",
     "output_type": "stream",
     "text": [
      "_XSERVTransmkdir: Owner of /tmp/.X11-unix should be set to root\n"
     ]
    },
    {
     "data": {
      "image/png": "[encoded data removed]",
      "text/plain": [
       "Tree('S', [('He', 'PRP'), ('is', 'VBZ'), ('boy', 'JJ'), ('.', '.'), ('She', 'PRP'), ('is', 'VBZ'), ('girl', 'JJ'), ('.', '.'), ('she', 'PRP'), ('is', 'VBZ'), ('beautiful', 'JJ'), ('!', '.'), ('There', 'EX'), ('are', 'VBP'), ('so', 'RB'), ('many', 'JJ'), ('girls', 'NNS'), ('.', '.')])"
      ]
     },
     "execution_count": 17,
     "metadata": {},
     "output_type": "execute_result"
    }
   ],
   "source": [
    "entities"
   ]
  },
  {
   "cell_type": "markdown",
   "id": "3efe0481-7b91-424d-a9db-bd2c21322985",
   "metadata": {},
   "source": [
    "## corpus"
   ]
  },
  {
   "cell_type": "code",
   "execution_count": 18,
   "id": "3ab64f02-1e56-48bf-937a-484421ad9dee",
   "metadata": {},
   "outputs": [],
   "source": [
    "from nltk import corpus"
   ]
  },
  {
   "cell_type": "code",
   "execution_count": 19,
   "id": "802098d6-13a3-458c-bf9f-12b19a06bff9",
   "metadata": {},
   "outputs": [
    {
     "data": {
      "text/plain": [
       "['austen-emma.txt',\n",
       " 'austen-persuasion.txt',\n",
       " 'austen-sense.txt',\n",
       " 'bible-kjv.txt',\n",
       " 'blake-poems.txt',\n",
       " 'bryant-stories.txt',\n",
       " 'burgess-busterbrown.txt',\n",
       " 'carroll-alice.txt',\n",
       " 'chesterton-ball.txt',\n",
       " 'chesterton-brown.txt',\n",
       " 'chesterton-thursday.txt',\n",
       " 'edgeworth-parents.txt',\n",
       " 'melville-moby_dick.txt',\n",
       " 'milton-paradise.txt',\n",
       " 'shakespeare-caesar.txt',\n",
       " 'shakespeare-hamlet.txt',\n",
       " 'shakespeare-macbeth.txt',\n",
       " 'whitman-leaves.txt']"
      ]
     },
     "execution_count": 19,
     "metadata": {},
     "output_type": "execute_result"
    }
   ],
   "source": [
    "# gutenberg 말뭉치 : 저작권이 말소된 문학작품들\n",
    "corpus.gutenberg.fileids()"
   ]
  },
  {
   "cell_type": "code",
   "execution_count": 20,
   "id": "3b0c787f-746d-4659-93fc-f58c9f305606",
   "metadata": {},
   "outputs": [
    {
     "name": "stdout",
     "output_type": "stream",
     "text": [
      "[The Tragedie of Hamlet by William Shakespeare 1599]\n",
      "\n",
      "\n",
      "Actus Primus. Scoena Prima.\n",
      "\n",
      "Enter Barnardo a\n"
     ]
    }
   ],
   "source": [
    "raw_hamlet = corpus.gutenberg.raw(\"shakespeare-hamlet.txt\")\n",
    "print(raw_hamlet[:100])"
   ]
  },
  {
   "cell_type": "code",
   "execution_count": 21,
   "id": "77acc4bd-9d53-4e5c-9e79-4d4474eb78eb",
   "metadata": {},
   "outputs": [
    {
     "name": "stdout",
     "output_type": "stream",
     "text": [
      "['[The Tragedie of Hamlet by William Shakespeare 1599]\\n\\n\\nActus Primus.', 'Scoena Prima.', 'Enter Barnardo and Francisco two Centinels.', 'Barnardo.', \"Who's there?\", 'Fran.', 'Nay answer me: Stand & vnfold\\nyour selfe\\n\\n   Bar.', 'Long liue the King\\n\\n   Fran.', 'Barnardo?', 'Bar.']\n"
     ]
    }
   ],
   "source": [
    "sent_hamlet = tokenize.sent_tokenize(raw_hamlet)\n",
    "print(sent_hamlet[:10])"
   ]
  },
  {
   "cell_type": "markdown",
   "id": "1a8ffd7c-39e1-43a3-a9da-14f298bef965",
   "metadata": {},
   "source": [
    "## Lemmatizing\n",
    "표제어(사전 기본형) 추출"
   ]
  },
  {
   "cell_type": "code",
   "execution_count": 22,
   "id": "42821f4a-1c54-439d-8b48-4e85c31b059c",
   "metadata": {},
   "outputs": [],
   "source": [
    "from nltk import stem"
   ]
  },
  {
   "cell_type": "code",
   "execution_count": 23,
   "id": "862093b5-e958-4797-a76f-b528b8bc4673",
   "metadata": {},
   "outputs": [],
   "source": [
    "word_exam = [\"do\", \"doing\", \"done\", \"have\", \"having\", \"has\", \"lives\", \"am\", \"are\", \"is\"]"
   ]
  },
  {
   "cell_type": "code",
   "execution_count": 24,
   "id": "f18f0b5b-a19e-45f7-bbbf-22f7c1f3ae0a",
   "metadata": {},
   "outputs": [],
   "source": [
    "lemmer = stem.WordNetLemmatizer()"
   ]
  },
  {
   "cell_type": "code",
   "execution_count": 25,
   "id": "f35787b8-449e-4a8f-924e-49b8395f4587",
   "metadata": {},
   "outputs": [
    {
     "name": "stdout",
     "output_type": "stream",
     "text": [
      "['do', 'doing', 'done', 'have', 'having', 'ha', 'life', 'am', 'are', 'is']\n"
     ]
    }
   ],
   "source": [
    "print(list(map(lemmer.lemmatize, word_exam)))"
   ]
  },
  {
   "cell_type": "code",
   "execution_count": 26,
   "id": "53795bf4-77bd-4aae-9d0a-91ddc5c5985c",
   "metadata": {},
   "outputs": [
    {
     "name": "stdout",
     "output_type": "stream",
     "text": [
      "['do', 'do', 'do', 'have', 'have', 'have', 'live', 'be', 'be', 'be']\n"
     ]
    }
   ],
   "source": [
    "print([lemmer.lemmatize(item, pos=\"v\") for item in word_exam])"
   ]
  },
  {
   "cell_type": "markdown",
   "id": "e59672e8-0403-41b9-b652-bb0c3d0d0446",
   "metadata": {},
   "source": [
    "## Stemming\n",
    "단어에서 접사(affix)를 제거"
   ]
  },
  {
   "cell_type": "code",
   "execution_count": 27,
   "id": "bdea1ec7-a11f-434f-94f1-2245d87a2939",
   "metadata": {},
   "outputs": [],
   "source": [
    "stemmer_porter = stem.PorterStemmer()\n",
    "stemmer_lancaster = stem.LancasterStemmer()"
   ]
  },
  {
   "cell_type": "code",
   "execution_count": 28,
   "id": "68091d33-38e9-4e5b-b1e0-ef896e8c80df",
   "metadata": {},
   "outputs": [
    {
     "name": "stdout",
     "output_type": "stream",
     "text": [
      "['do', 'do', 'done', 'have', 'have', 'ha', 'live', 'am', 'are', 'is']\n"
     ]
    }
   ],
   "source": [
    "print(list(map(stemmer_porter.stem, word_exam)))"
   ]
  },
  {
   "cell_type": "code",
   "execution_count": 29,
   "id": "fac2d580-e0c7-43ac-b38f-789ee960324c",
   "metadata": {},
   "outputs": [
    {
     "name": "stdout",
     "output_type": "stream",
     "text": [
      "['do', 'doing', 'don', 'hav', 'hav', 'has', 'liv', 'am', 'ar', 'is']\n"
     ]
    }
   ],
   "source": [
    "print(list(map(stemmer_lancaster.stem, word_exam)))"
   ]
  },
  {
   "cell_type": "markdown",
   "id": "330a3064-deb4-40e4-b3f6-92de79b30ddb",
   "metadata": {},
   "source": [
    "# Stopword\n",
    "불용어 : 유믜미한 단어만 토큰으로 사용하기 위함"
   ]
  },
  {
   "cell_type": "code",
   "execution_count": 30,
   "id": "a8454c53-f015-403e-9086-d0ec28455e7c",
   "metadata": {},
   "outputs": [
    {
     "name": "stdout",
     "output_type": "stream",
     "text": [
      "{'while', \"aren't\", 'before', 'if', 'no', 'd', \"you've\", 'she', 've', 'am', \"mustn't\", 'same', 'of', \"shan't\", \"you'd\", 'this', 'had', 'on', 'who', 'it', 'most', 'under', 'yourself', 'once', 'my', 'and', 'but', \"couldn't\", 'in', 'below', 'than', 'ourselves', \"wasn't\", 'so', 'needn', 'for', 'off', 'should', 'isn', 'm', 'him', 'until', 'he', 'these', 'other', 'll', 'which', 'at', 'the', \"don't\", 'yourselves', 'any', 'further', 'only', \"wouldn't\", 'do', 'above', 'or', \"hadn't\", \"shouldn't\", 'an', 'our', 'won', 'all', 'can', 'your', 'about', 'each', 'just', 'during', 'that', \"weren't\", 'herself', 'again', 'then', 'why', 'more', 'theirs', 'themselves', 'what', 'a', \"you'll\", 'few', 'their', 'myself', 'his', 'mustn', 'been', 'how', \"hasn't\", 'because', \"isn't\", 'ours', 'those', 'being', 'with', 're', 'doing', 'both', 'weren', \"won't\", 'be', 'did', 'over', \"doesn't\", \"that'll\", 'was', 'shouldn', 'here', 'yours', 'between', \"should've\", 'nor', \"it's\", \"you're\", 'through', 't', 'whom', 's', \"she's\", 'hasn', 'does', 'to', 'aren', 'shan', 'some', 'has', 'y', 'her', \"didn't\", 'you', 'is', \"needn't\", 'them', 'ain', 'ma', 'o', 'are', 'i', \"mightn't\", 'will', 'we', 'down', 'couldn', 'against', 'when', 'up', 'from', 'having', 'itself', 'didn', 'haven', 'they', 'doesn', 'me', 'after', 'into', \"haven't\", 'there', 'hers', 'out', 'mightn', 'its', 'hadn', 'wasn', 'own', 'by', 'too', 'wouldn', 'very', 'himself', 'now', 'as', 'have', 'were', 'such', 'not', 'don', 'where'} 179\n"
     ]
    }
   ],
   "source": [
    "# nltk에 저장된 영문 불용어 로딩\n",
    "word_stop = set(corpus.stopwords.words(\"english\"))\n",
    "print(word_stop, len(word_stop))"
   ]
  },
  {
   "cell_type": "code",
   "execution_count": 31,
   "id": "391b758d-5e53-4833-9ae3-0d25d42c0a47",
   "metadata": {},
   "outputs": [
    {
     "name": "stdout",
     "output_type": "stream",
     "text": [
      "['What', \"'s\", 'up', '?', 'bro~~', '!', 'At', 'eight', \"o'clock\", 'on', 'Thursday', 'morning', 'Arthur', 'did', \"n't\", 'feel', 'very', 'good', '.']\n"
     ]
    }
   ],
   "source": [
    "word_token = tokenize.word_tokenize(texts[1])\n",
    "print(word_token)"
   ]
  },
  {
   "cell_type": "code",
   "execution_count": 32,
   "id": "8fa1a843-3c6e-422a-9080-edb7b990f912",
   "metadata": {},
   "outputs": [
    {
     "name": "stdout",
     "output_type": "stream",
     "text": [
      "['What', \"'s\", '?', 'bro~~', '!', 'At', 'eight', \"o'clock\", 'Thursday', 'morning', 'Arthur', \"n't\", 'feel', 'good', '.']\n"
     ]
    }
   ],
   "source": [
    "# 불용어 필터링\n",
    "word_filtered = [item for item in word_token if not item in word_stop]\n",
    "print(word_filtered)"
   ]
  },
  {
   "cell_type": "code",
   "execution_count": 33,
   "id": "4eaee695-6057-4b42-8c98-9d8fbb076a48",
   "metadata": {},
   "outputs": [],
   "source": [
    "# 불용어 추가\n",
    "word_stop.update((\"?\", \"!\", \"bro~~\"))"
   ]
  },
  {
   "cell_type": "code",
   "execution_count": 34,
   "id": "57890668-af61-4f77-b998-1c9eedcfcc63",
   "metadata": {},
   "outputs": [
    {
     "name": "stdout",
     "output_type": "stream",
     "text": [
      "['What', \"'s\", 'At', 'eight', \"o'clock\", 'Thursday', 'morning', 'Arthur', \"n't\", 'feel', 'good', '.']\n"
     ]
    }
   ],
   "source": [
    "# 불용어 필터링\n",
    "word_filtered = [item for item in word_token if not item in word_stop]\n",
    "print(word_filtered)"
   ]
  },
  {
   "cell_type": "code",
   "execution_count": 35,
   "id": "85e964e3-c166-4437-b797-dd49c8ea8946",
   "metadata": {},
   "outputs": [],
   "source": [
    "# 불용어 제거\n",
    "word_stop.remove(\"bro~~\")"
   ]
  },
  {
   "cell_type": "code",
   "execution_count": 36,
   "id": "6d7d35b0-d067-42d0-a004-4b794fa11c24",
   "metadata": {},
   "outputs": [
    {
     "name": "stdout",
     "output_type": "stream",
     "text": [
      "['What', \"'s\", 'bro~~', 'At', 'eight', \"o'clock\", 'Thursday', 'morning', 'Arthur', \"n't\", 'feel', 'good', '.']\n"
     ]
    }
   ],
   "source": [
    "# 불용어 필터링\n",
    "word_filtered = [item for item in word_token if not item in word_stop]\n",
    "print(word_filtered)"
   ]
  },
  {
   "cell_type": "markdown",
   "id": "35130f58-22a5-4736-a984-47ab2ee6f991",
   "metadata": {},
   "source": [
    "# Number Encoding"
   ]
  },
  {
   "cell_type": "markdown",
   "id": "d2d4ac8a-6259-4864-8035-c14360db9a84",
   "metadata": {},
   "source": [
    "## Counter 이용"
   ]
  },
  {
   "cell_type": "code",
   "execution_count": 37,
   "id": "c66447e7-267f-41f1-bcdc-6a1c0926e4ef",
   "metadata": {},
   "outputs": [],
   "source": [
    "from collections import Counter"
   ]
  },
  {
   "cell_type": "code",
   "execution_count": 38,
   "id": "eb524a69-ce4f-48ff-acaf-2fc34a05a9a1",
   "metadata": {
    "tags": []
   },
   "outputs": [
    {
     "name": "stdout",
     "output_type": "stream",
     "text": [
      "[['[', 'The', 'Tragedie', 'of', 'Hamlet', 'by', 'William', 'Shakespeare', '1599', ']', 'Actus', 'Primus', '.'], ['Scoena', 'Prima', '.'], ['Enter', 'Barnardo', 'and', 'Francisco', 'two', 'Centinels', '.'], ['Barnardo', '.'], ['Who', \"'s\", 'there', '?'], ['Fran', '.'], ['Nay', 'answer', 'me', ':', 'Stand', '&', 'vnfold', 'your', 'selfe', 'Bar', '.'], ['Long', 'liue', 'the', 'King', 'Fran', '.'], ['Barnardo', '?'], ['Bar', '.'], ['He', 'Fran', '.'], ['You', 'come', 'most', 'carefully', 'vpon', 'your', 'houre', 'Bar', '.'], [\"'T\", 'is', 'now', 'strook', 'twelue', ',', 'get', 'thee', 'to', 'bed', 'Francisco', 'Fran', '.'], ['For', 'this', 'releefe', 'much', 'thankes', ':', \"'T\", 'is', 'bitter', 'cold', ',', 'And', 'I', 'am', 'sicke', 'at', 'heart', 'Barn', '.'], ['Haue', 'you', 'had', 'quiet', 'Guard', '?'], ['Fran', '.'], ['Not', 'a', 'Mouse', 'stirring', 'Barn', '.'], ['Well', ',', 'goodnight', '.'], ['If', 'you', 'do', 'meet', 'Horatio', 'and', 'Marcellus', ',', 'the', 'Riuals', 'of', 'my', 'Watch', ',', 'bid', 'them', 'make', 'hast', '.'], ['Enter', 'Horatio', 'and', 'Marcellus', '.'], ['Fran', '.'], ['I', 'thinke', 'I', 'heare', 'them', '.'], ['Stand', ':', 'who', \"'s\", 'there', '?'], ['Hor', '.'], ['Friends', 'to', 'this', 'ground', 'Mar', '.'], ['And', 'Leige-men', 'to', 'the', 'Dane', 'Fran', '.'], ['Giue', 'you', 'good', 'night', 'Mar', '.'], ['O', 'farwel', 'honest', 'Soldier', ',', 'who', 'hath', 'relieu', \"'d\", 'you', '?'], ['Fra', '.'], ['Barnardo', 'ha', \"'s\", 'my', 'place', ':', 'giue', 'you', 'goodnight', '.']]\n"
     ]
    }
   ],
   "source": [
    "sent_tokens = list(map(tokenize.word_tokenize, sent_hamlet[:30]))\n",
    "print(sent_tokens)"
   ]
  },
  {
   "cell_type": "code",
   "execution_count": 39,
   "id": "62aede1d-6ed3-4cac-bc13-b0e89505c448",
   "metadata": {},
   "outputs": [
    {
     "name": "stdout",
     "output_type": "stream",
     "text": [
      "['[', 'The', 'Tragedie', 'of', 'Hamlet', 'by', 'William', 'Shakespeare', '1599', ']', 'Actus', 'Primus', '.', 'Scoena', 'Prima', '.', 'Enter', 'Barnardo', 'and', 'Francisco', 'two', 'Centinels', '.', 'Barnardo', '.', 'Who', \"'s\", 'there', '?', 'Fran', '.', 'Nay', 'answer', 'me', ':', 'Stand', '&', 'vnfold', 'your', 'selfe', 'Bar', '.', 'Long', 'liue', 'the', 'King', 'Fran', '.', 'Barnardo', '?', 'Bar', '.', 'He', 'Fran', '.', 'You', 'come', 'most', 'carefully', 'vpon', 'your', 'houre', 'Bar', '.', \"'T\", 'is', 'now', 'strook', 'twelue', ',', 'get', 'thee', 'to', 'bed', 'Francisco', 'Fran', '.', 'For', 'this', 'releefe', 'much', 'thankes', ':', \"'T\", 'is', 'bitter', 'cold', ',', 'And', 'I', 'am', 'sicke', 'at', 'heart', 'Barn', '.', 'Haue', 'you', 'had', 'quiet', 'Guard', '?', 'Fran', '.', 'Not', 'a', 'Mouse', 'stirring', 'Barn', '.', 'Well', ',', 'goodnight', '.', 'If', 'you', 'do', 'meet', 'Horatio', 'and', 'Marcellus', ',', 'the', 'Riuals', 'of', 'my', 'Watch', ',', 'bid', 'them', 'make', 'hast', '.', 'Enter', 'Horatio', 'and', 'Marcellus', '.', 'Fran', '.', 'I', 'thinke', 'I', 'heare', 'them', '.', 'Stand', ':', 'who', \"'s\", 'there', '?', 'Hor', '.', 'Friends', 'to', 'this', 'ground', 'Mar', '.', 'And', 'Leige-men', 'to', 'the', 'Dane', 'Fran', '.', 'Giue', 'you', 'good', 'night', 'Mar', '.', 'O', 'farwel', 'honest', 'Soldier', ',', 'who', 'hath', 'relieu', \"'d\", 'you', '?', 'Fra', '.', 'Barnardo', 'ha', \"'s\", 'my', 'place', ':', 'giue', 'you', 'goodnight', '.']\n"
     ]
    }
   ],
   "source": [
    "# 단어 리스트(1차원) 만들기\n",
    "sent_words = sum(sent_tokens, [])\n",
    "print(sent_words)"
   ]
  },
  {
   "cell_type": "code",
   "execution_count": 40,
   "id": "daaa8e53-4b09-41f1-8907-780d9620fff1",
   "metadata": {},
   "outputs": [
    {
     "name": "stdout",
     "output_type": "stream",
     "text": [
      "Counter({'.': 25, 'Fran': 7, ',': 6, '?': 5, 'you': 5, 'Barnardo': 4, ':': 4, 'and': 3, \"'s\": 3, 'Bar': 3, 'the': 3, 'to': 3, 'I': 3, 'of': 2, 'Enter': 2, 'Francisco': 2, 'there': 2, 'Stand': 2, 'your': 2, \"'T\": 2, 'is': 2, 'this': 2, 'And': 2, 'Barn': 2, 'goodnight': 2, 'Horatio': 2, 'Marcellus': 2, 'my': 2, 'them': 2, 'who': 2, 'Mar': 2, '[': 1, 'The': 1, 'Tragedie': 1, 'Hamlet': 1, 'by': 1, 'William': 1, 'Shakespeare': 1, '1599': 1, ']': 1, 'Actus': 1, 'Primus': 1, 'Scoena': 1, 'Prima': 1, 'two': 1, 'Centinels': 1, 'Who': 1, 'Nay': 1, 'answer': 1, 'me': 1, '&': 1, 'vnfold': 1, 'selfe': 1, 'Long': 1, 'liue': 1, 'King': 1, 'He': 1, 'You': 1, 'come': 1, 'most': 1, 'carefully': 1, 'vpon': 1, 'houre': 1, 'now': 1, 'strook': 1, 'twelue': 1, 'get': 1, 'thee': 1, 'bed': 1, 'For': 1, 'releefe': 1, 'much': 1, 'thankes': 1, 'bitter': 1, 'cold': 1, 'am': 1, 'sicke': 1, 'at': 1, 'heart': 1, 'Haue': 1, 'had': 1, 'quiet': 1, 'Guard': 1, 'Not': 1, 'a': 1, 'Mouse': 1, 'stirring': 1, 'Well': 1, 'If': 1, 'do': 1, 'meet': 1, 'Riuals': 1, 'Watch': 1, 'bid': 1, 'make': 1, 'hast': 1, 'thinke': 1, 'heare': 1, 'Hor': 1, 'Friends': 1, 'ground': 1, 'Leige-men': 1, 'Dane': 1, 'Giue': 1, 'good': 1, 'night': 1, 'O': 1, 'farwel': 1, 'honest': 1, 'Soldier': 1, 'hath': 1, 'relieu': 1, \"'d\": 1, 'Fra': 1, 'ha': 1, 'place': 1, 'giue': 1})\n"
     ]
    }
   ],
   "source": [
    "# 단어 집합(vocabulary) 만들기\n",
    "vocab = Counter(sent_words)\n",
    "print(vocab)"
   ]
  },
  {
   "cell_type": "code",
   "execution_count": 41,
   "id": "88227ca1-43d4-4bb6-8731-81f18b5aa10e",
   "metadata": {},
   "outputs": [
    {
     "name": "stdout",
     "output_type": "stream",
     "text": [
      "[('.', 25), ('Fran', 7), (',', 6), ('?', 5), ('you', 5), ('Barnardo', 4), (':', 4), ('and', 3), (\"'s\", 3), ('Bar', 3)]\n"
     ]
    }
   ],
   "source": [
    "print(vocab.most_common(10))"
   ]
  },
  {
   "cell_type": "code",
   "execution_count": 42,
   "id": "44f9cdd1-37ee-4b90-bc73-707cf11c335d",
   "metadata": {},
   "outputs": [],
   "source": [
    "word_to_num = {\"OOV\": 0}\n",
    "num = 1\n",
    "for word, freq in vocab.most_common():\n",
    "    if freq > 1 and freq < 25:\n",
    "        word_to_num[word] = num\n",
    "        num += 1"
   ]
  },
  {
   "cell_type": "code",
   "execution_count": 43,
   "id": "aae03404-1070-4031-a4e7-f6f1d392d645",
   "metadata": {},
   "outputs": [
    {
     "name": "stdout",
     "output_type": "stream",
     "text": [
      "{'OOV': 0, 'Fran': 1, ',': 2, '?': 3, 'you': 4, 'Barnardo': 5, ':': 6, 'and': 7, \"'s\": 8, 'Bar': 9, 'the': 10, 'to': 11, 'I': 12, 'of': 13, 'Enter': 14, 'Francisco': 15, 'there': 16, 'Stand': 17, 'your': 18, \"'T\": 19, 'is': 20, 'this': 21, 'And': 22, 'Barn': 23, 'goodnight': 24, 'Horatio': 25, 'Marcellus': 26, 'my': 27, 'them': 28, 'who': 29, 'Mar': 30}\n"
     ]
    }
   ],
   "source": [
    "print(word_to_num)"
   ]
  },
  {
   "cell_type": "code",
   "execution_count": 44,
   "id": "745dc569-2ecf-4c66-8e42-7a47a0e44dce",
   "metadata": {},
   "outputs": [],
   "source": [
    "# Encoding\n",
    "sent_tokens_nums = []\n",
    "for sent in sent_tokens:\n",
    "    tokens_nums = []\n",
    "    tokens_len = 0\n",
    "    for word in sent:\n",
    "        try:\n",
    "            tokens_nums.append(word_to_num[word])\n",
    "            tokens_len += 1\n",
    "        except:\n",
    "#             tokens_nums.append(word_to_num[\"OOV\"])\n",
    "            pass\n",
    "    if tokens_len > 3 and tokens_len < 10:\n",
    "        sent_tokens_nums.append(tokens_nums)"
   ]
  },
  {
   "cell_type": "code",
   "execution_count": 45,
   "id": "3f6c4324-ea41-484b-9a9d-782d8ba3b76f",
   "metadata": {},
   "outputs": [
    {
     "data": {
      "text/plain": [
       "[[14, 5, 7, 15],\n",
       " [6, 17, 18, 9],\n",
       " [19, 20, 2, 11, 15, 1],\n",
       " [21, 6, 19, 20, 2, 22, 12, 23],\n",
       " [14, 25, 7, 26],\n",
       " [17, 6, 29, 8, 16, 3],\n",
       " [22, 11, 10, 1],\n",
       " [2, 29, 4, 3],\n",
       " [5, 8, 27, 6, 4, 24]]"
      ]
     },
     "execution_count": 45,
     "metadata": {},
     "output_type": "execute_result"
    }
   ],
   "source": [
    "sent_tokens_nums"
   ]
  },
  {
   "cell_type": "markdown",
   "id": "43e57ca8-4211-4878-ad3a-32950269958e",
   "metadata": {},
   "source": [
    "## NLTK 이용"
   ]
  },
  {
   "cell_type": "code",
   "execution_count": 46,
   "id": "83271a49-6223-417c-b2ce-0dcea1ab9c1c",
   "metadata": {},
   "outputs": [
    {
     "name": "stdout",
     "output_type": "stream",
     "text": [
      "[('.', 25), ('Fran', 7), (',', 6), ('?', 5), ('you', 5), ('Barnardo', 4), (':', 4), ('and', 3), (\"'s\", 3), ('Bar', 3), ('the', 3), ('to', 3), ('I', 3), ('of', 2), ('Enter', 2), ('Francisco', 2), ('there', 2), ('Stand', 2), ('your', 2), (\"'T\", 2), ('is', 2), ('this', 2), ('And', 2), ('Barn', 2), ('goodnight', 2), ('Horatio', 2), ('Marcellus', 2), ('my', 2), ('them', 2), ('who', 2), ('Mar', 2), ('[', 1), ('The', 1), ('Tragedie', 1), ('Hamlet', 1), ('by', 1), ('William', 1), ('Shakespeare', 1), ('1599', 1), (']', 1), ('Actus', 1), ('Primus', 1), ('Scoena', 1), ('Prima', 1), ('two', 1), ('Centinels', 1), ('Who', 1), ('Nay', 1), ('answer', 1), ('me', 1), ('&', 1), ('vnfold', 1), ('selfe', 1), ('Long', 1), ('liue', 1), ('King', 1), ('He', 1), ('You', 1), ('come', 1), ('most', 1), ('carefully', 1), ('vpon', 1), ('houre', 1), ('now', 1), ('strook', 1), ('twelue', 1), ('get', 1), ('thee', 1), ('bed', 1), ('For', 1), ('releefe', 1), ('much', 1), ('thankes', 1), ('bitter', 1), ('cold', 1), ('am', 1), ('sicke', 1), ('at', 1), ('heart', 1), ('Haue', 1), ('had', 1), ('quiet', 1), ('Guard', 1), ('Not', 1), ('a', 1), ('Mouse', 1), ('stirring', 1), ('Well', 1), ('If', 1), ('do', 1), ('meet', 1), ('Riuals', 1), ('Watch', 1), ('bid', 1), ('make', 1), ('hast', 1), ('thinke', 1), ('heare', 1), ('Hor', 1), ('Friends', 1), ('ground', 1), ('Leige-men', 1), ('Dane', 1), ('Giue', 1), ('good', 1), ('night', 1), ('O', 1), ('farwel', 1), ('honest', 1), ('Soldier', 1), ('hath', 1), ('relieu', 1), (\"'d\", 1), ('Fra', 1), ('ha', 1), ('place', 1), ('giue', 1)]\n"
     ]
    }
   ],
   "source": [
    "vocab_nltk = nltk.FreqDist(sent_words)\n",
    "print(vocab_nltk.most_common())"
   ]
  },
  {
   "cell_type": "markdown",
   "id": "dc2c8420-8844-408a-8056-c41c2274ed52",
   "metadata": {},
   "source": [
    "## Tensorflow 이용"
   ]
  },
  {
   "cell_type": "code",
   "execution_count": 47,
   "id": "85a34c55-40ea-4936-a685-ebd5c5403f73",
   "metadata": {},
   "outputs": [
    {
     "name": "stderr",
     "output_type": "stream",
     "text": [
      "2021-07-18 17:47:29.350738: I tensorflow/stream_executor/platform/default/dso_loader.cc:49] Successfully opened dynamic library libcudart.so.10.1\n"
     ]
    }
   ],
   "source": [
    "from tensorflow.keras.preprocessing.text import Tokenizer"
   ]
  },
  {
   "cell_type": "code",
   "execution_count": 48,
   "id": "0cf358f6-394f-4950-b849-9a1c08060e46",
   "metadata": {},
   "outputs": [],
   "source": [
    "tokenizer = Tokenizer(num_words=50, oov_token=\"OOV\")\n",
    "tokenizer.fit_on_texts(sent_tokens)"
   ]
  },
  {
   "cell_type": "code",
   "execution_count": 49,
   "id": "aaba0491-699d-4363-b0e0-41f2420517ae",
   "metadata": {},
   "outputs": [
    {
     "name": "stdout",
     "output_type": "stream",
     "text": [
      "{'OOV': 1, '.': 2, 'fran': 3, 'you': 4, ',': 5, 'and': 6, '?': 7, 'the': 8, 'barnardo': 9, ':': 10, 'who': 11, \"'s\": 12, 'bar': 13, 'to': 14, 'i': 15, 'of': 16, 'enter': 17, 'francisco': 18, 'there': 19, 'stand': 20, 'your': 21, \"'t\": 22, 'is': 23, 'this': 24, 'barn': 25, 'goodnight': 26, 'horatio': 27, 'marcellus': 28, 'my': 29, 'them': 30, 'mar': 31, 'giue': 32, '[': 33, 'tragedie': 34, 'hamlet': 35, 'by': 36, 'william': 37, 'shakespeare': 38, '1599': 39, ']': 40, 'actus': 41, 'primus': 42, 'scoena': 43, 'prima': 44, 'two': 45, 'centinels': 46, 'nay': 47, 'answer': 48, 'me': 49, '&': 50, 'vnfold': 51, 'selfe': 52, 'long': 53, 'liue': 54, 'king': 55, 'he': 56, 'come': 57, 'most': 58, 'carefully': 59, 'vpon': 60, 'houre': 61, 'now': 62, 'strook': 63, 'twelue': 64, 'get': 65, 'thee': 66, 'bed': 67, 'for': 68, 'releefe': 69, 'much': 70, 'thankes': 71, 'bitter': 72, 'cold': 73, 'am': 74, 'sicke': 75, 'at': 76, 'heart': 77, 'haue': 78, 'had': 79, 'quiet': 80, 'guard': 81, 'not': 82, 'a': 83, 'mouse': 84, 'stirring': 85, 'well': 86, 'if': 87, 'do': 88, 'meet': 89, 'riuals': 90, 'watch': 91, 'bid': 92, 'make': 93, 'hast': 94, 'thinke': 95, 'heare': 96, 'hor': 97, 'friends': 98, 'ground': 99, 'leige-men': 100, 'dane': 101, 'good': 102, 'night': 103, 'o': 104, 'farwel': 105, 'honest': 106, 'soldier': 107, 'hath': 108, 'relieu': 109, \"'d\": 110, 'fra': 111, 'ha': 112, 'place': 113}\n"
     ]
    }
   ],
   "source": [
    "print(tokenizer.word_index)"
   ]
  },
  {
   "cell_type": "code",
   "execution_count": 50,
   "id": "4a8af69c-94fd-4fc1-bde2-f4aae1a913fa",
   "metadata": {},
   "outputs": [
    {
     "name": "stdout",
     "output_type": "stream",
     "text": [
      "OrderedDict([('[', 1), ('the', 4), ('tragedie', 1), ('of', 2), ('hamlet', 1), ('by', 1), ('william', 1), ('shakespeare', 1), ('1599', 1), (']', 1), ('actus', 1), ('primus', 1), ('.', 25), ('scoena', 1), ('prima', 1), ('enter', 2), ('barnardo', 4), ('and', 5), ('francisco', 2), ('two', 1), ('centinels', 1), ('who', 3), (\"'s\", 3), ('there', 2), ('?', 5), ('fran', 7), ('nay', 1), ('answer', 1), ('me', 1), (':', 4), ('stand', 2), ('&', 1), ('vnfold', 1), ('your', 2), ('selfe', 1), ('bar', 3), ('long', 1), ('liue', 1), ('king', 1), ('he', 1), ('you', 6), ('come', 1), ('most', 1), ('carefully', 1), ('vpon', 1), ('houre', 1), (\"'t\", 2), ('is', 2), ('now', 1), ('strook', 1), ('twelue', 1), (',', 6), ('get', 1), ('thee', 1), ('to', 3), ('bed', 1), ('for', 1), ('this', 2), ('releefe', 1), ('much', 1), ('thankes', 1), ('bitter', 1), ('cold', 1), ('i', 3), ('am', 1), ('sicke', 1), ('at', 1), ('heart', 1), ('barn', 2), ('haue', 1), ('had', 1), ('quiet', 1), ('guard', 1), ('not', 1), ('a', 1), ('mouse', 1), ('stirring', 1), ('well', 1), ('goodnight', 2), ('if', 1), ('do', 1), ('meet', 1), ('horatio', 2), ('marcellus', 2), ('riuals', 1), ('my', 2), ('watch', 1), ('bid', 1), ('them', 2), ('make', 1), ('hast', 1), ('thinke', 1), ('heare', 1), ('hor', 1), ('friends', 1), ('ground', 1), ('mar', 2), ('leige-men', 1), ('dane', 1), ('giue', 2), ('good', 1), ('night', 1), ('o', 1), ('farwel', 1), ('honest', 1), ('soldier', 1), ('hath', 1), ('relieu', 1), (\"'d\", 1), ('fra', 1), ('ha', 1), ('place', 1)])\n"
     ]
    }
   ],
   "source": [
    "print(tokenizer.word_counts)"
   ]
  },
  {
   "cell_type": "code",
   "execution_count": 51,
   "id": "7ae13f7e-1cb3-4f3f-a566-4183ea824589",
   "metadata": {},
   "outputs": [
    {
     "name": "stdout",
     "output_type": "stream",
     "text": [
      "[[33, 8, 34, 16, 35, 36, 37, 38, 39, 40, 41, 42, 2], [43, 44, 2], [17, 9, 6, 18, 45, 46, 2], [9, 2], [11, 12, 19, 7], [3, 2], [47, 48, 49, 10, 20, 1, 1, 21, 1, 13, 2], [1, 1, 8, 1, 3, 2], [9, 7], [13, 2], [1, 3, 2], [4, 1, 1, 1, 1, 21, 1, 13, 2], [22, 23, 1, 1, 1, 5, 1, 1, 14, 1, 18, 3, 2], [1, 24, 1, 1, 1, 10, 22, 23, 1, 1, 5, 6, 15, 1, 1, 1, 1, 25, 2], [1, 4, 1, 1, 1, 7], [3, 2], [1, 1, 1, 1, 25, 2], [1, 5, 26, 2], [1, 4, 1, 1, 27, 6, 28, 5, 8, 1, 16, 29, 1, 5, 1, 30, 1, 1, 2], [17, 27, 6, 28, 2], [3, 2], [15, 1, 15, 1, 30, 2], [20, 10, 11, 12, 19, 7], [1, 2], [1, 14, 24, 1, 31, 2], [6, 1, 14, 8, 1, 3, 2], [32, 4, 1, 1, 31, 2], [1, 1, 1, 1, 5, 11, 1, 1, 1, 4, 7], [1, 2], [9, 1, 12, 29, 1, 10, 32, 4, 26, 2]]\n"
     ]
    }
   ],
   "source": [
    "print(tokenizer.texts_to_sequences(sent_tokens))"
   ]
  },
  {
   "cell_type": "code",
   "execution_count": 52,
   "id": "4f347ac5-e425-4456-8675-1ab686be9988",
   "metadata": {},
   "outputs": [
    {
     "data": {
      "text/plain": [
       "['[ the tragedie of hamlet by william shakespeare 1599 ] actus primus .']"
      ]
     },
     "execution_count": 52,
     "metadata": {},
     "output_type": "execute_result"
    }
   ],
   "source": [
    "tokenizer.sequences_to_texts([[33, 8, 34, 16, 35, 36, 37, 38, 39, 40, 41, 42, 2]])"
   ]
  },
  {
   "cell_type": "markdown",
   "id": "b2991b05-7100-4041-afe6-c9d3890461d8",
   "metadata": {},
   "source": [
    "# Padding"
   ]
  },
  {
   "cell_type": "markdown",
   "id": "bcc3c0f7-6044-4c17-baa2-d123b1ea2b6f",
   "metadata": {},
   "source": [
    "## Numpy 이용"
   ]
  },
  {
   "cell_type": "code",
   "execution_count": 53,
   "id": "11b2e677-c3a0-43c2-b206-1e8d2579178d",
   "metadata": {},
   "outputs": [],
   "source": [
    "import numpy as np"
   ]
  },
  {
   "cell_type": "code",
   "execution_count": 54,
   "id": "abf1c74f-a03c-4fde-a370-cd7cd1d1b4f8",
   "metadata": {},
   "outputs": [
    {
     "data": {
      "text/plain": [
       "[[14, 5, 7, 15],\n",
       " [6, 17, 18, 9],\n",
       " [19, 20, 2, 11, 15, 1],\n",
       " [21, 6, 19, 20, 2, 22, 12, 23],\n",
       " [14, 25, 7, 26],\n",
       " [17, 6, 29, 8, 16, 3],\n",
       " [22, 11, 10, 1],\n",
       " [2, 29, 4, 3],\n",
       " [5, 8, 27, 6, 4, 24]]"
      ]
     },
     "execution_count": 54,
     "metadata": {},
     "output_type": "execute_result"
    }
   ],
   "source": [
    "sent_padded = sent_tokens_nums.copy()\n",
    "sent_padded"
   ]
  },
  {
   "cell_type": "code",
   "execution_count": 55,
   "id": "1bbe48bc-a55a-49cb-9881-3b207f239d52",
   "metadata": {},
   "outputs": [
    {
     "data": {
      "text/plain": [
       "(9, 8)"
      ]
     },
     "execution_count": 55,
     "metadata": {},
     "output_type": "execute_result"
    }
   ],
   "source": [
    "max_len = max(len(item) for item in sent_padded)\n",
    "len(sent_padded), max_len"
   ]
  },
  {
   "cell_type": "code",
   "execution_count": 56,
   "id": "f2903f3d-b03f-4253-8fa8-b6e9edcdc93d",
   "metadata": {},
   "outputs": [],
   "source": [
    "for idx, item in enumerate(sent_padded):\n",
    "    sent_padded[idx] = np.pad(item, (0, 10-len(item))).tolist()"
   ]
  },
  {
   "cell_type": "code",
   "execution_count": 57,
   "id": "f235f9e5-72ef-4067-b3ea-6f2607258bf6",
   "metadata": {},
   "outputs": [
    {
     "data": {
      "text/plain": [
       "[[14, 5, 7, 15, 0, 0, 0, 0, 0, 0],\n",
       " [6, 17, 18, 9, 0, 0, 0, 0, 0, 0],\n",
       " [19, 20, 2, 11, 15, 1, 0, 0, 0, 0],\n",
       " [21, 6, 19, 20, 2, 22, 12, 23, 0, 0],\n",
       " [14, 25, 7, 26, 0, 0, 0, 0, 0, 0],\n",
       " [17, 6, 29, 8, 16, 3, 0, 0, 0, 0],\n",
       " [22, 11, 10, 1, 0, 0, 0, 0, 0, 0],\n",
       " [2, 29, 4, 3, 0, 0, 0, 0, 0, 0],\n",
       " [5, 8, 27, 6, 4, 24, 0, 0, 0, 0]]"
      ]
     },
     "execution_count": 57,
     "metadata": {},
     "output_type": "execute_result"
    }
   ],
   "source": [
    "sent_padded"
   ]
  },
  {
   "cell_type": "markdown",
   "id": "558cddf5-001e-4e3f-84f1-e4f0aa349e5f",
   "metadata": {},
   "source": [
    "## Tensorflow 이용"
   ]
  },
  {
   "cell_type": "code",
   "execution_count": 58,
   "id": "ce9f5fdb-5f17-4845-989c-6b4a8240a257",
   "metadata": {},
   "outputs": [],
   "source": [
    "from tensorflow.keras.preprocessing.sequence import pad_sequences"
   ]
  },
  {
   "cell_type": "code",
   "execution_count": 59,
   "id": "dc833b65-b2e3-471d-9646-e03a0f5f7335",
   "metadata": {},
   "outputs": [
    {
     "data": {
      "text/plain": [
       "array([[14,  5,  7, 15,  0,  0,  0,  0],\n",
       "       [ 6, 17, 18,  9,  0,  0,  0,  0],\n",
       "       [19, 20,  2, 11, 15,  1,  0,  0],\n",
       "       [21,  6, 19, 20,  2, 22, 12, 23],\n",
       "       [14, 25,  7, 26,  0,  0,  0,  0],\n",
       "       [17,  6, 29,  8, 16,  3,  0,  0],\n",
       "       [22, 11, 10,  1,  0,  0,  0,  0],\n",
       "       [ 2, 29,  4,  3,  0,  0,  0,  0],\n",
       "       [ 5,  8, 27,  6,  4, 24,  0,  0]], dtype=int32)"
      ]
     },
     "execution_count": 59,
     "metadata": {},
     "output_type": "execute_result"
    }
   ],
   "source": [
    "sent_padded = pad_sequences(sent_tokens_nums, padding=\"post\", maxlen=8, value=0)\n",
    "sent_padded"
   ]
  },
  {
   "cell_type": "markdown",
   "id": "866d3abe-2033-4a87-b864-9fa9a56a7c83",
   "metadata": {},
   "source": [
    "# One-Hot Encoding"
   ]
  },
  {
   "cell_type": "code",
   "execution_count": 60,
   "id": "8a0e5bfe-3750-49ba-9de1-43e5a78bdad5",
   "metadata": {},
   "outputs": [],
   "source": [
    "from tensorflow.keras.utils import to_categorical"
   ]
  },
  {
   "cell_type": "code",
   "execution_count": 62,
   "id": "6fef3a13-15bd-42ca-b809-3672f30782e6",
   "metadata": {},
   "outputs": [],
   "source": [
    "one_hot = to_categorical(sent_padded)"
   ]
  },
  {
   "cell_type": "code",
   "execution_count": 63,
   "id": "5ade5544-00f3-47c3-867a-53c6b7ea7bef",
   "metadata": {},
   "outputs": [
    {
     "data": {
      "text/plain": [
       "array([[0., 0., 0., 0., 0., 0., 0., 0., 0., 0., 0., 0., 0., 0., 1., 0., 0., 0., 0., 0., 0., 0., 0., 0., 0., 0., 0., 0., 0., 0.],\n",
       "       [0., 0., 0., 0., 0., 1., 0., 0., 0., 0., 0., 0., 0., 0., 0., 0., 0., 0., 0., 0., 0., 0., 0., 0., 0., 0., 0., 0., 0., 0.],\n",
       "       [0., 0., 0., 0., 0., 0., 0., 1., 0., 0., 0., 0., 0., 0., 0., 0., 0., 0., 0., 0., 0., 0., 0., 0., 0., 0., 0., 0., 0., 0.],\n",
       "       [0., 0., 0., 0., 0., 0., 0., 0., 0., 0., 0., 0., 0., 0., 0., 1., 0., 0., 0., 0., 0., 0., 0., 0., 0., 0., 0., 0., 0., 0.],\n",
       "       [1., 0., 0., 0., 0., 0., 0., 0., 0., 0., 0., 0., 0., 0., 0., 0., 0., 0., 0., 0., 0., 0., 0., 0., 0., 0., 0., 0., 0., 0.],\n",
       "       [1., 0., 0., 0., 0., 0., 0., 0., 0., 0., 0., 0., 0., 0., 0., 0., 0., 0., 0., 0., 0., 0., 0., 0., 0., 0., 0., 0., 0., 0.],\n",
       "       [1., 0., 0., 0., 0., 0., 0., 0., 0., 0., 0., 0., 0., 0., 0., 0., 0., 0., 0., 0., 0., 0., 0., 0., 0., 0., 0., 0., 0., 0.],\n",
       "       [1., 0., 0., 0., 0., 0., 0., 0., 0., 0., 0., 0., 0., 0., 0., 0., 0., 0., 0., 0., 0., 0., 0., 0., 0., 0., 0., 0., 0., 0.]], dtype=float32)"
      ]
     },
     "execution_count": 63,
     "metadata": {},
     "output_type": "execute_result"
    }
   ],
   "source": [
    "np.set_printoptions(linewidth=200, precision=2)\n",
    "one_hot[0]"
   ]
  },
  {
   "cell_type": "code",
   "execution_count": null,
   "id": "d5ae137f-0af0-473f-b27c-97602db1d569",
   "metadata": {},
   "outputs": [],
   "source": []
  }
 ],
 "metadata": {
  "kernelspec": {
   "display_name": "Python 3 (ipykernel)",
   "language": "python",
   "name": "python3"
  },
  "language_info": {
   "codemirror_mode": {
    "name": "ipython",
    "version": 3
   },
   "file_extension": ".py",
   "mimetype": "text/x-python",
   "name": "python",
   "nbconvert_exporter": "python",
   "pygments_lexer": "ipython3",
   "version": "3.8.10"
  },
  "toc-autonumbering": true
 },
 "nbformat": 4,
 "nbformat_minor": 5
}
