{
 "cells": [
  {
   "cell_type": "markdown",
   "id": "cultural-variety",
   "metadata": {},
   "source": [
    "<div class=\"alert alert-block alert-success\">\n",
    "    <b><center>CNN Basic Examples</center></b>\n",
    "    <b><center>RSNET</center></b>\n",
    "</div>"
   ]
  },
  {
   "cell_type": "markdown",
   "id": "featured-vampire",
   "metadata": {},
   "source": [
    "# Configure Learning Environment"
   ]
  },
  {
   "cell_type": "code",
   "execution_count": 1,
   "id": "swedish-calcium",
   "metadata": {},
   "outputs": [],
   "source": [
    "# !pip install git+https://github.com/nockchun/rspy --force\n",
    "# !pip install mybatis_mapper2sql\n",
    "import rspy as rsp\n",
    "rsp.setSystemWarning(off=True)"
   ]
  },
  {
   "cell_type": "code",
   "execution_count": 2,
   "id": "ambient-justice",
   "metadata": {},
   "outputs": [],
   "source": [
    "import numpy as np\n",
    "\n",
    "import tensorflow as tf\n",
    "from tensorflow.keras import layers, models, losses, optimizers, datasets, preprocessing, utils\n",
    "import tensorflow_addons as tfa"
   ]
  },
  {
   "cell_type": "code",
   "execution_count": 3,
   "id": "ranking-rolling",
   "metadata": {},
   "outputs": [],
   "source": [
    "from ipywidgets import interact\n",
    "import matplotlib.pyplot as plt\n",
    "import pandas as pd"
   ]
  },
  {
   "cell_type": "code",
   "execution_count": 4,
   "id": "alpine-crash",
   "metadata": {},
   "outputs": [
    {
     "data": {
      "text/plain": [
       "'2.5.0-dev20210226'"
      ]
     },
     "execution_count": 4,
     "metadata": {},
     "output_type": "execute_result"
    }
   ],
   "source": [
    "np.set_printoptions(linewidth=200, precision=2)\n",
    "tf.__version__"
   ]
  },
  {
   "cell_type": "markdown",
   "id": "turkish-venezuela",
   "metadata": {},
   "source": [
    "# CIFAR10 Dataset\n",
    "The CIFAR10 dataset contains 60,000 color images in 10 classes, with 6,000 images in each class. The dataset is divided into 50,000 training images and 10,000 testing images. The classes are mutually exclusive and there is no overlap between them."
   ]
  },
  {
   "cell_type": "code",
   "execution_count": 5,
   "id": "chubby-tablet",
   "metadata": {},
   "outputs": [
    {
     "data": {
      "text/plain": [
       "((50000, 32, 32, 3), (50000, 1), (10000, 32, 32, 3), (10000, 1))"
      ]
     },
     "execution_count": 5,
     "metadata": {},
     "output_type": "execute_result"
    }
   ],
   "source": [
    "# Download the mnist dataset using keras\n",
    "(train_data, train_label), (test_data, test_label) = datasets.cifar10.load_data()\n",
    "train_data.shape, train_label.shape, test_data.shape, test_label.shape"
   ]
  },
  {
   "cell_type": "code",
   "execution_count": 6,
   "id": "funded-bangladesh",
   "metadata": {},
   "outputs": [
    {
     "data": {
      "text/plain": [
       "'Train labels: {0: 5000, 1: 5000, 2: 5000, 3: 5000, 4: 5000, 5: 5000, 6: 5000, 7: 5000, 8: 5000, 9: 5000}'"
      ]
     },
     "execution_count": 6,
     "metadata": {},
     "output_type": "execute_result"
    }
   ],
   "source": [
    "# Counting unique value of train data\n",
    "unique, counts = np.unique(train_label, return_counts=True)\n",
    "num_labels = len(unique)\n",
    "f\"Train labels: {dict(zip(unique, counts))}\""
   ]
  },
  {
   "cell_type": "markdown",
   "id": "major-award",
   "metadata": {},
   "source": [
    "# Preprocessing"
   ]
  },
  {
   "cell_type": "code",
   "execution_count": 7,
   "id": "sensitive-pathology",
   "metadata": {},
   "outputs": [],
   "source": [
    "# Normalizing\n",
    "train_data_proc = train_data / 255\n",
    "test_data_proc = test_data / 255\n",
    "\n",
    "#One hot encoding\n",
    "train_label_proc = utils.to_categorical(train_label, 10)\n",
    "test_label_proc = utils.to_categorical(test_label, 10)"
   ]
  },
  {
   "cell_type": "markdown",
   "id": "subject-terrorist",
   "metadata": {},
   "source": [
    "# Base-Line Model"
   ]
  },
  {
   "cell_type": "code",
   "execution_count": 8,
   "id": "quality-mileage",
   "metadata": {},
   "outputs": [],
   "source": [
    "input_base = layers.Input((32, 32, 3))"
   ]
  },
  {
   "cell_type": "code",
   "execution_count": 9,
   "id": "hearing-motivation",
   "metadata": {},
   "outputs": [],
   "source": [
    "layer_base = layers.Conv2D(32, 4, activation=\"relu\")(input_base)\n",
    "layer_base = layers.MaxPool2D(2)(layer_base)\n",
    "layer_base = layers.Conv2D(64, 3, activation=\"relu\")(layer_base)\n",
    "layer_base = layers.MaxPool2D(2)(layer_base)"
   ]
  },
  {
   "cell_type": "code",
   "execution_count": 10,
   "id": "split-latvia",
   "metadata": {},
   "outputs": [],
   "source": [
    "layer_base  = layers.Flatten()(layer_base)\n",
    "layer_base  = layers.Dense(256, activation=\"relu\")(layer_base)\n",
    "output_base = layers.Dense(10, activation=\"softmax\")(layer_base)"
   ]
  },
  {
   "cell_type": "code",
   "execution_count": 11,
   "id": "obvious-williams",
   "metadata": {},
   "outputs": [
    {
     "name": "stdout",
     "output_type": "stream",
     "text": [
      "Model: \"model\"\n",
      "_________________________________________________________________\n",
      "Layer (type)                 Output Shape              Param #   \n",
      "=================================================================\n",
      "input_1 (InputLayer)         [(None, 32, 32, 3)]       0         \n",
      "_________________________________________________________________\n",
      "conv2d (Conv2D)              (None, 29, 29, 32)        1568      \n",
      "_________________________________________________________________\n",
      "max_pooling2d (MaxPooling2D) (None, 14, 14, 32)        0         \n",
      "_________________________________________________________________\n",
      "conv2d_1 (Conv2D)            (None, 12, 12, 64)        18496     \n",
      "_________________________________________________________________\n",
      "max_pooling2d_1 (MaxPooling2 (None, 6, 6, 64)          0         \n",
      "_________________________________________________________________\n",
      "flatten (Flatten)            (None, 2304)              0         \n",
      "_________________________________________________________________\n",
      "dense (Dense)                (None, 256)               590080    \n",
      "_________________________________________________________________\n",
      "dense_1 (Dense)              (None, 10)                2570      \n",
      "=================================================================\n",
      "Total params: 612,714\n",
      "Trainable params: 612,714\n",
      "Non-trainable params: 0\n",
      "_________________________________________________________________\n"
     ]
    }
   ],
   "source": [
    "model_base = models.Model(input_base, output_base)\n",
    "model_base.summary()"
   ]
  },
  {
   "cell_type": "code",
   "execution_count": 12,
   "id": "empirical-blake",
   "metadata": {},
   "outputs": [],
   "source": [
    "model_base.compile(\n",
    "    loss=losses.CategoricalCrossentropy(),\n",
    "    optimizer=optimizers.Adam(),\n",
    "    metrics=[\"accuracy\"],\n",
    ")"
   ]
  },
  {
   "cell_type": "code",
   "execution_count": 13,
   "id": "italic-habitat",
   "metadata": {},
   "outputs": [
    {
     "name": "stdout",
     "output_type": "stream",
     "text": [
      "Epoch 1/50\n",
      "196/196 [==============================] - 5s 14ms/step - loss: 1.7892 - accuracy: 0.3549 - val_loss: 1.3416 - val_accuracy: 0.5211\n",
      "Epoch 2/50\n",
      "196/196 [==============================] - 1s 7ms/step - loss: 1.2720 - accuracy: 0.5504 - val_loss: 1.2000 - val_accuracy: 0.5816\n",
      "Epoch 3/50\n",
      "196/196 [==============================] - 1s 7ms/step - loss: 1.1345 - accuracy: 0.6016 - val_loss: 1.0927 - val_accuracy: 0.6197\n",
      "Epoch 4/50\n",
      "196/196 [==============================] - 1s 7ms/step - loss: 1.0292 - accuracy: 0.6418 - val_loss: 1.0343 - val_accuracy: 0.6414\n",
      "Epoch 5/50\n",
      "196/196 [==============================] - 1s 7ms/step - loss: 0.9670 - accuracy: 0.6648 - val_loss: 1.0498 - val_accuracy: 0.6391\n",
      "Epoch 6/50\n",
      "196/196 [==============================] - 1s 7ms/step - loss: 0.9134 - accuracy: 0.6843 - val_loss: 0.9717 - val_accuracy: 0.6633\n",
      "Epoch 7/50\n",
      "196/196 [==============================] - 1s 7ms/step - loss: 0.8525 - accuracy: 0.7058 - val_loss: 0.9590 - val_accuracy: 0.6691\n",
      "Epoch 8/50\n",
      "196/196 [==============================] - 1s 7ms/step - loss: 0.8090 - accuracy: 0.7216 - val_loss: 0.9026 - val_accuracy: 0.6897\n",
      "Epoch 9/50\n",
      "196/196 [==============================] - 1s 7ms/step - loss: 0.7488 - accuracy: 0.7406 - val_loss: 0.8767 - val_accuracy: 0.7008\n",
      "Epoch 10/50\n",
      "196/196 [==============================] - 1s 7ms/step - loss: 0.7069 - accuracy: 0.7547 - val_loss: 0.8810 - val_accuracy: 0.6996\n",
      "Epoch 11/50\n",
      "196/196 [==============================] - 1s 7ms/step - loss: 0.6598 - accuracy: 0.7729 - val_loss: 0.9352 - val_accuracy: 0.6853\n",
      "Epoch 12/50\n",
      "196/196 [==============================] - 1s 7ms/step - loss: 0.6244 - accuracy: 0.7835 - val_loss: 0.8588 - val_accuracy: 0.7068\n",
      "Epoch 13/50\n",
      "196/196 [==============================] - 1s 7ms/step - loss: 0.5627 - accuracy: 0.8044 - val_loss: 0.8746 - val_accuracy: 0.7066\n",
      "Epoch 14/50\n",
      "196/196 [==============================] - 1s 7ms/step - loss: 0.5269 - accuracy: 0.8170 - val_loss: 0.8918 - val_accuracy: 0.7074\n",
      "Epoch 15/50\n",
      "196/196 [==============================] - 1s 7ms/step - loss: 0.4736 - accuracy: 0.8377 - val_loss: 0.8742 - val_accuracy: 0.7148\n",
      "Epoch 16/50\n",
      "196/196 [==============================] - 1s 7ms/step - loss: 0.4317 - accuracy: 0.8539 - val_loss: 0.9028 - val_accuracy: 0.7161\n",
      "Epoch 17/50\n",
      "196/196 [==============================] - 1s 7ms/step - loss: 0.3952 - accuracy: 0.8664 - val_loss: 0.9426 - val_accuracy: 0.7139\n",
      "Epoch 18/50\n",
      "196/196 [==============================] - 1s 7ms/step - loss: 0.3594 - accuracy: 0.8780 - val_loss: 0.9678 - val_accuracy: 0.7073\n",
      "Epoch 19/50\n",
      "196/196 [==============================] - 1s 7ms/step - loss: 0.3316 - accuracy: 0.8914 - val_loss: 0.9837 - val_accuracy: 0.7113\n",
      "Epoch 20/50\n",
      "196/196 [==============================] - 1s 7ms/step - loss: 0.2818 - accuracy: 0.9082 - val_loss: 1.0356 - val_accuracy: 0.7061\n",
      "Epoch 21/50\n",
      "196/196 [==============================] - 1s 7ms/step - loss: 0.2470 - accuracy: 0.9211 - val_loss: 1.0615 - val_accuracy: 0.7100\n",
      "Epoch 22/50\n",
      "196/196 [==============================] - 1s 7ms/step - loss: 0.2120 - accuracy: 0.9337 - val_loss: 1.1021 - val_accuracy: 0.7068\n",
      "Epoch 23/50\n",
      "196/196 [==============================] - 1s 7ms/step - loss: 0.1896 - accuracy: 0.9411 - val_loss: 1.2088 - val_accuracy: 0.6976\n",
      "Epoch 24/50\n",
      "196/196 [==============================] - 1s 7ms/step - loss: 0.1690 - accuracy: 0.9484 - val_loss: 1.2901 - val_accuracy: 0.6984\n",
      "Epoch 25/50\n",
      "196/196 [==============================] - 1s 7ms/step - loss: 0.1459 - accuracy: 0.9555 - val_loss: 1.3132 - val_accuracy: 0.7018\n",
      "Epoch 26/50\n",
      "196/196 [==============================] - 1s 7ms/step - loss: 0.1295 - accuracy: 0.9609 - val_loss: 1.4358 - val_accuracy: 0.6959\n",
      "Epoch 27/50\n",
      "196/196 [==============================] - 1s 7ms/step - loss: 0.1037 - accuracy: 0.9707 - val_loss: 1.3887 - val_accuracy: 0.7054\n",
      "Epoch 28/50\n",
      "196/196 [==============================] - 1s 7ms/step - loss: 0.0852 - accuracy: 0.9763 - val_loss: 1.4807 - val_accuracy: 0.6984\n",
      "Epoch 29/50\n",
      "196/196 [==============================] - 1s 7ms/step - loss: 0.0631 - accuracy: 0.9854 - val_loss: 1.5897 - val_accuracy: 0.6975\n",
      "Epoch 30/50\n",
      "196/196 [==============================] - 1s 7ms/step - loss: 0.0563 - accuracy: 0.9873 - val_loss: 1.6258 - val_accuracy: 0.6969\n",
      "Epoch 31/50\n",
      "196/196 [==============================] - 1s 7ms/step - loss: 0.0493 - accuracy: 0.9889 - val_loss: 1.6803 - val_accuracy: 0.7006\n",
      "Epoch 32/50\n",
      "196/196 [==============================] - 1s 7ms/step - loss: 0.0728 - accuracy: 0.9778 - val_loss: 1.7301 - val_accuracy: 0.6894\n",
      "Epoch 33/50\n",
      "196/196 [==============================] - 1s 7ms/step - loss: 0.0684 - accuracy: 0.9783 - val_loss: 1.7819 - val_accuracy: 0.7005\n",
      "Epoch 34/50\n",
      "196/196 [==============================] - 1s 7ms/step - loss: 0.0426 - accuracy: 0.9889 - val_loss: 1.8056 - val_accuracy: 0.7040\n",
      "Epoch 35/50\n",
      "196/196 [==============================] - 1s 7ms/step - loss: 0.0239 - accuracy: 0.9958 - val_loss: 1.8851 - val_accuracy: 0.7046\n",
      "Epoch 36/50\n",
      "196/196 [==============================] - 1s 7ms/step - loss: 0.0290 - accuracy: 0.9932 - val_loss: 1.9359 - val_accuracy: 0.7032\n",
      "Epoch 37/50\n",
      "196/196 [==============================] - 1s 7ms/step - loss: 0.0532 - accuracy: 0.9822 - val_loss: 1.9707 - val_accuracy: 0.6910\n",
      "Epoch 38/50\n",
      "196/196 [==============================] - 1s 7ms/step - loss: 0.0590 - accuracy: 0.9803 - val_loss: 1.9913 - val_accuracy: 0.6894\n",
      "Epoch 39/50\n",
      "196/196 [==============================] - 1s 7ms/step - loss: 0.0484 - accuracy: 0.9851 - val_loss: 2.0671 - val_accuracy: 0.6905\n",
      "Epoch 40/50\n",
      "196/196 [==============================] - 1s 7ms/step - loss: 0.0411 - accuracy: 0.9868 - val_loss: 2.0826 - val_accuracy: 0.6950\n",
      "Epoch 41/50\n",
      "196/196 [==============================] - 1s 7ms/step - loss: 0.0135 - accuracy: 0.9975 - val_loss: 2.1728 - val_accuracy: 0.6982\n",
      "Epoch 42/50\n",
      "196/196 [==============================] - 1s 7ms/step - loss: 0.0083 - accuracy: 0.9991 - val_loss: 2.1806 - val_accuracy: 0.7065\n",
      "Epoch 43/50\n",
      "196/196 [==============================] - 1s 7ms/step - loss: 0.0020 - accuracy: 1.0000 - val_loss: 2.2281 - val_accuracy: 0.7070\n",
      "Epoch 44/50\n",
      "196/196 [==============================] - 1s 7ms/step - loss: 0.0016 - accuracy: 1.0000 - val_loss: 2.2723 - val_accuracy: 0.7073\n",
      "Epoch 45/50\n",
      "196/196 [==============================] - 1s 7ms/step - loss: 0.0013 - accuracy: 1.0000 - val_loss: 2.2997 - val_accuracy: 0.7089\n",
      "Epoch 46/50\n",
      "196/196 [==============================] - 1s 7ms/step - loss: 0.0011 - accuracy: 1.0000 - val_loss: 2.3255 - val_accuracy: 0.7097\n",
      "Epoch 47/50\n",
      "196/196 [==============================] - 1s 7ms/step - loss: 0.0010 - accuracy: 1.0000 - val_loss: 2.3524 - val_accuracy: 0.7090\n",
      "Epoch 48/50\n",
      "196/196 [==============================] - 1s 7ms/step - loss: 8.9528e-04 - accuracy: 1.0000 - val_loss: 2.3889 - val_accuracy: 0.7108\n",
      "Epoch 49/50\n",
      "196/196 [==============================] - 1s 7ms/step - loss: 8.3286e-04 - accuracy: 1.0000 - val_loss: 2.4135 - val_accuracy: 0.7079\n",
      "Epoch 50/50\n",
      "196/196 [==============================] - 1s 7ms/step - loss: 7.8999e-04 - accuracy: 1.0000 - val_loss: 2.4337 - val_accuracy: 0.7092\n"
     ]
    }
   ],
   "source": [
    "history_base = model_base.fit(\n",
    "    train_data_proc, train_label_proc,\n",
    "    validation_data=(test_data_proc, test_label_proc),\n",
    "    batch_size=256,\n",
    "    epochs=50\n",
    ")"
   ]
  },
  {
   "cell_type": "code",
   "execution_count": 14,
   "id": "short-power",
   "metadata": {},
   "outputs": [
    {
     "data": {
      "text/plain": [
       "<AxesSubplot:>"
      ]
     },
     "execution_count": 14,
     "metadata": {},
     "output_type": "execute_result"
    },
    {
     "data": {
      "image/png": "[encoded data removed]",
      "text/plain": [
       "<Figure size 432x288 with 1 Axes>"
      ]
     },
     "metadata": {
      "needs_background": "light"
     },
     "output_type": "display_data"
    }
   ],
   "source": [
    "pd.DataFrame(history_base.history).plot()"
   ]
  },
  {
   "cell_type": "markdown",
   "id": "several-puppy",
   "metadata": {},
   "source": [
    "# Advanced Model"
   ]
  },
  {
   "cell_type": "code",
   "execution_count": 15,
   "id": "related-casting",
   "metadata": {},
   "outputs": [],
   "source": [
    "input_adv = layers.Input((32, 32, 3))"
   ]
  },
  {
   "cell_type": "code",
   "execution_count": 16,
   "id": "joint-talent",
   "metadata": {},
   "outputs": [],
   "source": [
    "layer_adv = layers.Conv2D(32, 4, activation=\"relu\")(input_adv)\n",
    "layer_adv = layers.Conv2D(32, 4, activation=\"relu\")(input_adv)\n",
    "layer_adv = layers.MaxPool2D(2)(layer_adv)\n",
    "layer_adv = layers.Conv2D(64, 3, padding=\"same\", activation=\"relu\")(layer_adv)\n",
    "layer_adv = layers.Conv2D(64, 3, padding=\"same\", activation=\"relu\")(layer_adv)\n",
    "layer_adv = layers.MaxPool2D(2)(layer_adv)\n",
    "layer_adv = layers.Conv2D(128, 3, padding=\"same\", dilation_rate=2, activation=\"relu\")(layer_adv)\n",
    "layer_adv  = layers.GlobalAveragePooling2D()(layer_adv)"
   ]
  },
  {
   "cell_type": "code",
   "execution_count": 17,
   "id": "ambient-cloud",
   "metadata": {},
   "outputs": [],
   "source": [
    "output_adv = layers.Dense(10, activation=\"softmax\")(layer_adv)"
   ]
  },
  {
   "cell_type": "code",
   "execution_count": 18,
   "id": "designing-coast",
   "metadata": {},
   "outputs": [
    {
     "name": "stdout",
     "output_type": "stream",
     "text": [
      "Model: \"model_1\"\n",
      "_________________________________________________________________\n",
      "Layer (type)                 Output Shape              Param #   \n",
      "=================================================================\n",
      "input_2 (InputLayer)         [(None, 32, 32, 3)]       0         \n",
      "_________________________________________________________________\n",
      "conv2d_3 (Conv2D)            (None, 29, 29, 32)        1568      \n",
      "_________________________________________________________________\n",
      "max_pooling2d_2 (MaxPooling2 (None, 14, 14, 32)        0         \n",
      "_________________________________________________________________\n",
      "conv2d_4 (Conv2D)            (None, 14, 14, 64)        18496     \n",
      "_________________________________________________________________\n",
      "conv2d_5 (Conv2D)            (None, 14, 14, 64)        36928     \n",
      "_________________________________________________________________\n",
      "max_pooling2d_3 (MaxPooling2 (None, 7, 7, 64)          0         \n",
      "_________________________________________________________________\n",
      "conv2d_6 (Conv2D)            (None, 7, 7, 128)         73856     \n",
      "_________________________________________________________________\n",
      "global_average_pooling2d (Gl (None, 128)               0         \n",
      "_________________________________________________________________\n",
      "dense_2 (Dense)              (None, 10)                1290      \n",
      "=================================================================\n",
      "Total params: 132,138\n",
      "Trainable params: 132,138\n",
      "Non-trainable params: 0\n",
      "_________________________________________________________________\n"
     ]
    }
   ],
   "source": [
    "model_adv = models.Model(input_adv, output_adv)\n",
    "model_adv.summary()"
   ]
  },
  {
   "cell_type": "code",
   "execution_count": 19,
   "id": "contrary-freeware",
   "metadata": {},
   "outputs": [],
   "source": [
    "model_adv.compile(\n",
    "    loss=losses.CategoricalCrossentropy(),\n",
    "    optimizer=optimizers.Adam(),\n",
    "    metrics=[\"accuracy\"],\n",
    ")"
   ]
  },
  {
   "cell_type": "code",
   "execution_count": 20,
   "id": "british-explanation",
   "metadata": {},
   "outputs": [
    {
     "name": "stdout",
     "output_type": "stream",
     "text": [
      "Epoch 1/50\n",
      "196/196 [==============================] - 4s 18ms/step - loss: 2.0342 - accuracy: 0.2394 - val_loss: 1.6002 - val_accuracy: 0.4073\n",
      "Epoch 2/50\n",
      "196/196 [==============================] - 3s 14ms/step - loss: 1.5918 - accuracy: 0.4073 - val_loss: 1.5265 - val_accuracy: 0.4424\n",
      "Epoch 3/50\n",
      "196/196 [==============================] - 3s 13ms/step - loss: 1.4653 - accuracy: 0.4649 - val_loss: 1.3425 - val_accuracy: 0.5086\n",
      "Epoch 4/50\n",
      "196/196 [==============================] - 3s 13ms/step - loss: 1.3359 - accuracy: 0.5189 - val_loss: 1.2803 - val_accuracy: 0.5336\n",
      "Epoch 5/50\n",
      "196/196 [==============================] - 3s 14ms/step - loss: 1.2589 - accuracy: 0.5511 - val_loss: 1.2032 - val_accuracy: 0.5729\n",
      "Epoch 6/50\n",
      "196/196 [==============================] - 3s 13ms/step - loss: 1.1969 - accuracy: 0.5741 - val_loss: 1.1938 - val_accuracy: 0.5703\n",
      "Epoch 7/50\n",
      "196/196 [==============================] - 3s 13ms/step - loss: 1.1468 - accuracy: 0.5919 - val_loss: 1.0960 - val_accuracy: 0.6135\n",
      "Epoch 8/50\n",
      "196/196 [==============================] - 3s 13ms/step - loss: 1.0713 - accuracy: 0.6207 - val_loss: 1.1353 - val_accuracy: 0.5950\n",
      "Epoch 9/50\n",
      "196/196 [==============================] - 3s 13ms/step - loss: 1.0458 - accuracy: 0.6341 - val_loss: 1.0354 - val_accuracy: 0.6328\n",
      "Epoch 10/50\n",
      "196/196 [==============================] - 3s 13ms/step - loss: 1.0096 - accuracy: 0.6486 - val_loss: 0.9847 - val_accuracy: 0.6532\n",
      "Epoch 11/50\n",
      "196/196 [==============================] - 3s 14ms/step - loss: 0.9718 - accuracy: 0.6612 - val_loss: 0.9854 - val_accuracy: 0.6552\n",
      "Epoch 12/50\n",
      "196/196 [==============================] - 3s 13ms/step - loss: 0.9509 - accuracy: 0.6695 - val_loss: 0.9678 - val_accuracy: 0.6605\n",
      "Epoch 13/50\n",
      "196/196 [==============================] - 3s 13ms/step - loss: 0.9221 - accuracy: 0.6798 - val_loss: 0.9796 - val_accuracy: 0.6623\n",
      "Epoch 14/50\n",
      "196/196 [==============================] - 3s 13ms/step - loss: 0.8970 - accuracy: 0.6865 - val_loss: 0.9684 - val_accuracy: 0.6577\n",
      "Epoch 15/50\n",
      "196/196 [==============================] - 3s 13ms/step - loss: 0.8619 - accuracy: 0.6974 - val_loss: 0.9071 - val_accuracy: 0.6909\n",
      "Epoch 16/50\n",
      "196/196 [==============================] - 3s 13ms/step - loss: 0.8535 - accuracy: 0.7036 - val_loss: 0.8851 - val_accuracy: 0.6914\n",
      "Epoch 17/50\n",
      "196/196 [==============================] - 3s 13ms/step - loss: 0.8217 - accuracy: 0.7144 - val_loss: 0.8871 - val_accuracy: 0.6897\n",
      "Epoch 18/50\n",
      "196/196 [==============================] - 3s 14ms/step - loss: 0.8120 - accuracy: 0.7200 - val_loss: 0.8853 - val_accuracy: 0.6945\n",
      "Epoch 19/50\n",
      "196/196 [==============================] - 3s 14ms/step - loss: 0.7839 - accuracy: 0.7279 - val_loss: 0.8592 - val_accuracy: 0.7019\n",
      "Epoch 20/50\n",
      "196/196 [==============================] - 3s 14ms/step - loss: 0.7695 - accuracy: 0.7337 - val_loss: 0.8460 - val_accuracy: 0.7067\n",
      "Epoch 21/50\n",
      "196/196 [==============================] - 3s 14ms/step - loss: 0.7591 - accuracy: 0.7355 - val_loss: 0.8215 - val_accuracy: 0.7168\n",
      "Epoch 22/50\n",
      "196/196 [==============================] - 3s 14ms/step - loss: 0.7501 - accuracy: 0.7394 - val_loss: 0.8168 - val_accuracy: 0.7173\n",
      "Epoch 23/50\n",
      "196/196 [==============================] - 3s 14ms/step - loss: 0.7214 - accuracy: 0.7495 - val_loss: 0.7937 - val_accuracy: 0.7256\n",
      "Epoch 24/50\n",
      "196/196 [==============================] - 3s 13ms/step - loss: 0.7164 - accuracy: 0.7530 - val_loss: 0.8274 - val_accuracy: 0.7090\n",
      "Epoch 25/50\n",
      "196/196 [==============================] - 3s 13ms/step - loss: 0.7047 - accuracy: 0.7558 - val_loss: 0.7960 - val_accuracy: 0.7250\n",
      "Epoch 26/50\n",
      "196/196 [==============================] - 3s 14ms/step - loss: 0.6830 - accuracy: 0.7625 - val_loss: 0.7737 - val_accuracy: 0.7376\n",
      "Epoch 27/50\n",
      "196/196 [==============================] - 3s 13ms/step - loss: 0.6609 - accuracy: 0.7700 - val_loss: 0.7922 - val_accuracy: 0.7315\n",
      "Epoch 28/50\n",
      "196/196 [==============================] - 3s 13ms/step - loss: 0.6546 - accuracy: 0.7721 - val_loss: 0.7809 - val_accuracy: 0.7336\n",
      "Epoch 29/50\n",
      "196/196 [==============================] - 3s 13ms/step - loss: 0.6363 - accuracy: 0.7807 - val_loss: 0.7385 - val_accuracy: 0.7486\n",
      "Epoch 30/50\n",
      "196/196 [==============================] - 3s 14ms/step - loss: 0.6263 - accuracy: 0.7830 - val_loss: 0.7867 - val_accuracy: 0.7324\n",
      "Epoch 31/50\n",
      "196/196 [==============================] - 3s 14ms/step - loss: 0.6184 - accuracy: 0.7840 - val_loss: 0.7332 - val_accuracy: 0.7530\n",
      "Epoch 32/50\n",
      "196/196 [==============================] - 3s 14ms/step - loss: 0.5945 - accuracy: 0.7944 - val_loss: 0.7411 - val_accuracy: 0.7454\n",
      "Epoch 33/50\n",
      "196/196 [==============================] - 3s 14ms/step - loss: 0.5995 - accuracy: 0.7921 - val_loss: 0.7688 - val_accuracy: 0.7412\n",
      "Epoch 34/50\n",
      "196/196 [==============================] - 3s 14ms/step - loss: 0.5818 - accuracy: 0.7977 - val_loss: 0.7376 - val_accuracy: 0.7482\n",
      "Epoch 35/50\n",
      "196/196 [==============================] - 3s 13ms/step - loss: 0.5615 - accuracy: 0.8060 - val_loss: 0.7034 - val_accuracy: 0.7589\n",
      "Epoch 36/50\n",
      "196/196 [==============================] - 3s 13ms/step - loss: 0.5401 - accuracy: 0.8116 - val_loss: 0.7293 - val_accuracy: 0.7542\n",
      "Epoch 37/50\n",
      "196/196 [==============================] - 3s 13ms/step - loss: 0.5372 - accuracy: 0.8131 - val_loss: 0.7524 - val_accuracy: 0.7441\n",
      "Epoch 38/50\n",
      "196/196 [==============================] - 3s 14ms/step - loss: 0.5405 - accuracy: 0.8126 - val_loss: 0.7448 - val_accuracy: 0.7577\n",
      "Epoch 39/50\n",
      "196/196 [==============================] - 3s 13ms/step - loss: 0.5130 - accuracy: 0.8224 - val_loss: 0.7223 - val_accuracy: 0.7586\n",
      "Epoch 40/50\n",
      "196/196 [==============================] - 3s 14ms/step - loss: 0.5167 - accuracy: 0.8215 - val_loss: 0.7103 - val_accuracy: 0.7561\n",
      "Epoch 41/50\n",
      "196/196 [==============================] - 3s 14ms/step - loss: 0.5001 - accuracy: 0.8241 - val_loss: 0.7059 - val_accuracy: 0.7644\n",
      "Epoch 42/50\n",
      "196/196 [==============================] - 3s 14ms/step - loss: 0.4915 - accuracy: 0.8306 - val_loss: 0.7291 - val_accuracy: 0.7505\n",
      "Epoch 43/50\n",
      "196/196 [==============================] - 3s 14ms/step - loss: 0.4850 - accuracy: 0.8304 - val_loss: 0.6828 - val_accuracy: 0.7700\n",
      "Epoch 44/50\n",
      "196/196 [==============================] - 3s 14ms/step - loss: 0.4717 - accuracy: 0.8371 - val_loss: 0.6819 - val_accuracy: 0.7699\n",
      "Epoch 45/50\n",
      "196/196 [==============================] - 3s 14ms/step - loss: 0.4660 - accuracy: 0.8391 - val_loss: 0.7104 - val_accuracy: 0.7641\n",
      "Epoch 46/50\n",
      "196/196 [==============================] - 3s 14ms/step - loss: 0.4447 - accuracy: 0.8448 - val_loss: 0.6747 - val_accuracy: 0.7717\n",
      "Epoch 47/50\n",
      "196/196 [==============================] - 3s 14ms/step - loss: 0.4590 - accuracy: 0.8373 - val_loss: 0.6941 - val_accuracy: 0.7680\n",
      "Epoch 48/50\n",
      "196/196 [==============================] - 3s 14ms/step - loss: 0.4247 - accuracy: 0.8507 - val_loss: 0.6972 - val_accuracy: 0.7675\n",
      "Epoch 49/50\n",
      "196/196 [==============================] - 3s 14ms/step - loss: 0.4252 - accuracy: 0.8506 - val_loss: 0.7467 - val_accuracy: 0.7551\n",
      "Epoch 50/50\n",
      "196/196 [==============================] - 3s 14ms/step - loss: 0.4181 - accuracy: 0.8551 - val_loss: 0.7087 - val_accuracy: 0.7692\n"
     ]
    }
   ],
   "source": [
    "history_dev = model_adv.fit(\n",
    "    train_data_proc, train_label_proc,\n",
    "    validation_data=(test_data_proc, test_label_proc),\n",
    "    batch_size=256,\n",
    "    epochs=50\n",
    ")"
   ]
  },
  {
   "cell_type": "code",
   "execution_count": 21,
   "id": "ethical-gasoline",
   "metadata": {},
   "outputs": [
    {
     "data": {
      "text/plain": [
       "<AxesSubplot:>"
      ]
     },
     "execution_count": 21,
     "metadata": {},
     "output_type": "execute_result"
    },
    {
     "data": {
      "image/png": "[encoded data removed]",
      "text/plain": [
       "<Figure size 432x288 with 1 Axes>"
      ]
     },
     "metadata": {
      "needs_background": "light"
     },
     "output_type": "display_data"
    }
   ],
   "source": [
    "pd.DataFrame(history_dev.history).plot()"
   ]
  },
  {
   "cell_type": "markdown",
   "id": "early-valley",
   "metadata": {},
   "source": [
    "# Drop-Out Model"
   ]
  },
  {
   "cell_type": "code",
   "execution_count": 32,
   "id": "opened-stake",
   "metadata": {},
   "outputs": [],
   "source": [
    "input_dout = layers.Input((32, 32, 3))"
   ]
  },
  {
   "cell_type": "code",
   "execution_count": 33,
   "id": "alpha-adjustment",
   "metadata": {},
   "outputs": [],
   "source": [
    "layer_dout = layers.Conv2D(32, 4, activation=\"relu\")(input_dout)\n",
    "layer_dout = layers.Conv2D(32, 4, activation=\"relu\")(layer_dout)\n",
    "layer_dout = layers.MaxPool2D(2)(layer_dout)\n",
    "layer_dout = layers.Dropout(0.4)(layer_dout)\n",
    "layer_dout = layers.Conv2D(64, 3, padding=\"same\", activation=\"relu\")(layer_dout)\n",
    "layer_dout = layers.Conv2D(64, 3, padding=\"same\", activation=\"relu\")(layer_dout)\n",
    "layer_dout = layers.MaxPool2D(2)(layer_dout)\n",
    "layer_dout = layers.Dropout(0.4)(layer_dout)\n",
    "layer_dout = layers.Conv2D(128, 3, padding=\"same\", dilation_rate=2, activation=\"relu\")(layer_dout)\n",
    "layer_dout  = layers.GlobalAveragePooling2D()(layer_dout)"
   ]
  },
  {
   "cell_type": "code",
   "execution_count": 34,
   "id": "western-referral",
   "metadata": {},
   "outputs": [],
   "source": [
    "output_dout = layers.Dense(10, activation=\"softmax\")(layer_dout)"
   ]
  },
  {
   "cell_type": "code",
   "execution_count": 35,
   "id": "different-namibia",
   "metadata": {},
   "outputs": [
    {
     "name": "stdout",
     "output_type": "stream",
     "text": [
      "Model: \"model_4\"\n",
      "_________________________________________________________________\n",
      "Layer (type)                 Output Shape              Param #   \n",
      "=================================================================\n",
      "input_4 (InputLayer)         [(None, 32, 32, 3)]       0         \n",
      "_________________________________________________________________\n",
      "conv2d_13 (Conv2D)           (None, 29, 29, 32)        1568      \n",
      "_________________________________________________________________\n",
      "conv2d_14 (Conv2D)           (None, 26, 26, 32)        16416     \n",
      "_________________________________________________________________\n",
      "max_pooling2d_6 (MaxPooling2 (None, 13, 13, 32)        0         \n",
      "_________________________________________________________________\n",
      "dropout_2 (Dropout)          (None, 13, 13, 32)        0         \n",
      "_________________________________________________________________\n",
      "conv2d_15 (Conv2D)           (None, 13, 13, 64)        18496     \n",
      "_________________________________________________________________\n",
      "conv2d_16 (Conv2D)           (None, 13, 13, 64)        36928     \n",
      "_________________________________________________________________\n",
      "max_pooling2d_7 (MaxPooling2 (None, 6, 6, 64)          0         \n",
      "_________________________________________________________________\n",
      "dropout_3 (Dropout)          (None, 6, 6, 64)          0         \n",
      "_________________________________________________________________\n",
      "conv2d_17 (Conv2D)           (None, 6, 6, 128)         73856     \n",
      "_________________________________________________________________\n",
      "global_average_pooling2d_2 ( (None, 128)               0         \n",
      "_________________________________________________________________\n",
      "dense_4 (Dense)              (None, 10)                1290      \n",
      "=================================================================\n",
      "Total params: 148,554\n",
      "Trainable params: 148,554\n",
      "Non-trainable params: 0\n",
      "_________________________________________________________________\n"
     ]
    }
   ],
   "source": [
    "model_dout = models.Model(input_dout, output_dout)\n",
    "model_dout.summary()"
   ]
  },
  {
   "cell_type": "code",
   "execution_count": 36,
   "id": "reduced-snowboard",
   "metadata": {},
   "outputs": [],
   "source": [
    "model_dout.compile(\n",
    "    loss=losses.CategoricalCrossentropy(),\n",
    "    optimizer=optimizers.Adam(),\n",
    "    metrics=[\"accuracy\"],\n",
    ")"
   ]
  },
  {
   "cell_type": "code",
   "execution_count": 37,
   "id": "treated-evening",
   "metadata": {},
   "outputs": [
    {
     "name": "stdout",
     "output_type": "stream",
     "text": [
      "Epoch 1/50\n",
      "196/196 [==============================] - 5s 21ms/step - loss: 2.0704 - accuracy: 0.2104 - val_loss: 1.6079 - val_accuracy: 0.4119\n",
      "Epoch 2/50\n",
      "196/196 [==============================] - 3s 17ms/step - loss: 1.5998 - accuracy: 0.4053 - val_loss: 1.4651 - val_accuracy: 0.4615\n",
      "Epoch 3/50\n",
      "196/196 [==============================] - 3s 17ms/step - loss: 1.4592 - accuracy: 0.4638 - val_loss: 1.3368 - val_accuracy: 0.5186\n",
      "Epoch 4/50\n",
      "196/196 [==============================] - 3s 17ms/step - loss: 1.3665 - accuracy: 0.5085 - val_loss: 1.3026 - val_accuracy: 0.5366\n",
      "Epoch 5/50\n",
      "196/196 [==============================] - 3s 17ms/step - loss: 1.2702 - accuracy: 0.5445 - val_loss: 1.1530 - val_accuracy: 0.5900\n",
      "Epoch 6/50\n",
      "196/196 [==============================] - 3s 17ms/step - loss: 1.1997 - accuracy: 0.5733 - val_loss: 1.1220 - val_accuracy: 0.5981\n",
      "Epoch 7/50\n",
      "196/196 [==============================] - 3s 17ms/step - loss: 1.1596 - accuracy: 0.5888 - val_loss: 1.0651 - val_accuracy: 0.6189\n",
      "Epoch 8/50\n",
      "196/196 [==============================] - 3s 17ms/step - loss: 1.0970 - accuracy: 0.6113 - val_loss: 1.0419 - val_accuracy: 0.6337\n",
      "Epoch 9/50\n",
      "196/196 [==============================] - 3s 17ms/step - loss: 1.0556 - accuracy: 0.6266 - val_loss: 1.0282 - val_accuracy: 0.6381\n",
      "Epoch 10/50\n",
      "196/196 [==============================] - 3s 17ms/step - loss: 1.0289 - accuracy: 0.6370 - val_loss: 0.9444 - val_accuracy: 0.6657\n",
      "Epoch 11/50\n",
      "196/196 [==============================] - 3s 17ms/step - loss: 1.0030 - accuracy: 0.6470 - val_loss: 0.9906 - val_accuracy: 0.6464\n",
      "Epoch 12/50\n",
      "196/196 [==============================] - 3s 18ms/step - loss: 0.9834 - accuracy: 0.6535 - val_loss: 0.9017 - val_accuracy: 0.6815\n",
      "Epoch 13/50\n",
      "196/196 [==============================] - 3s 17ms/step - loss: 0.9331 - accuracy: 0.6741 - val_loss: 0.8788 - val_accuracy: 0.6892\n",
      "Epoch 14/50\n",
      "196/196 [==============================] - 3s 17ms/step - loss: 0.9210 - accuracy: 0.6750 - val_loss: 0.8917 - val_accuracy: 0.6920\n",
      "Epoch 15/50\n",
      "196/196 [==============================] - 3s 17ms/step - loss: 0.8838 - accuracy: 0.6902 - val_loss: 0.8496 - val_accuracy: 0.7034\n",
      "Epoch 16/50\n",
      "196/196 [==============================] - 3s 17ms/step - loss: 0.8803 - accuracy: 0.6924 - val_loss: 0.8478 - val_accuracy: 0.7036\n",
      "Epoch 17/50\n",
      "196/196 [==============================] - 3s 17ms/step - loss: 0.8541 - accuracy: 0.7036 - val_loss: 0.8052 - val_accuracy: 0.7204\n",
      "Epoch 18/50\n",
      "196/196 [==============================] - 3s 17ms/step - loss: 0.8203 - accuracy: 0.7134 - val_loss: 0.8198 - val_accuracy: 0.7121\n",
      "Epoch 19/50\n",
      "196/196 [==============================] - 3s 17ms/step - loss: 0.8117 - accuracy: 0.7158 - val_loss: 0.7550 - val_accuracy: 0.7387\n",
      "Epoch 20/50\n",
      "196/196 [==============================] - 3s 17ms/step - loss: 0.7875 - accuracy: 0.7241 - val_loss: 0.7617 - val_accuracy: 0.7379\n",
      "Epoch 21/50\n",
      "196/196 [==============================] - 3s 17ms/step - loss: 0.7754 - accuracy: 0.7268 - val_loss: 0.7521 - val_accuracy: 0.7418\n",
      "Epoch 22/50\n",
      "196/196 [==============================] - 3s 17ms/step - loss: 0.7500 - accuracy: 0.7411 - val_loss: 0.7339 - val_accuracy: 0.7474\n",
      "Epoch 23/50\n",
      "196/196 [==============================] - 3s 17ms/step - loss: 0.7464 - accuracy: 0.7385 - val_loss: 0.7225 - val_accuracy: 0.7525\n",
      "Epoch 24/50\n",
      "196/196 [==============================] - 3s 17ms/step - loss: 0.7350 - accuracy: 0.7436 - val_loss: 0.7403 - val_accuracy: 0.7491\n",
      "Epoch 25/50\n",
      "196/196 [==============================] - 3s 17ms/step - loss: 0.7158 - accuracy: 0.7519 - val_loss: 0.7220 - val_accuracy: 0.7539\n",
      "Epoch 26/50\n",
      "196/196 [==============================] - 3s 17ms/step - loss: 0.6956 - accuracy: 0.7572 - val_loss: 0.6854 - val_accuracy: 0.7678\n",
      "Epoch 27/50\n",
      "196/196 [==============================] - 3s 17ms/step - loss: 0.6875 - accuracy: 0.7592 - val_loss: 0.6772 - val_accuracy: 0.7703\n",
      "Epoch 28/50\n",
      "196/196 [==============================] - 3s 17ms/step - loss: 0.6757 - accuracy: 0.7620 - val_loss: 0.6566 - val_accuracy: 0.7765\n",
      "Epoch 29/50\n",
      "196/196 [==============================] - 3s 17ms/step - loss: 0.6707 - accuracy: 0.7666 - val_loss: 0.6697 - val_accuracy: 0.7704\n",
      "Epoch 30/50\n",
      "196/196 [==============================] - 3s 17ms/step - loss: 0.6528 - accuracy: 0.7713 - val_loss: 0.6528 - val_accuracy: 0.7789\n",
      "Epoch 31/50\n",
      "196/196 [==============================] - 3s 17ms/step - loss: 0.6483 - accuracy: 0.7717 - val_loss: 0.6487 - val_accuracy: 0.7765\n",
      "Epoch 32/50\n",
      "196/196 [==============================] - 3s 17ms/step - loss: 0.6425 - accuracy: 0.7744 - val_loss: 0.6598 - val_accuracy: 0.7743\n",
      "Epoch 33/50\n",
      "196/196 [==============================] - 3s 17ms/step - loss: 0.6371 - accuracy: 0.7779 - val_loss: 0.6357 - val_accuracy: 0.7851\n",
      "Epoch 34/50\n",
      "196/196 [==============================] - 3s 17ms/step - loss: 0.6236 - accuracy: 0.7817 - val_loss: 0.6243 - val_accuracy: 0.7864\n",
      "Epoch 35/50\n",
      "196/196 [==============================] - 3s 17ms/step - loss: 0.6095 - accuracy: 0.7859 - val_loss: 0.6239 - val_accuracy: 0.7885\n",
      "Epoch 36/50\n",
      "196/196 [==============================] - 3s 17ms/step - loss: 0.6051 - accuracy: 0.7929 - val_loss: 0.6318 - val_accuracy: 0.7853\n",
      "Epoch 37/50\n",
      "196/196 [==============================] - 4s 18ms/step - loss: 0.6060 - accuracy: 0.7856 - val_loss: 0.6288 - val_accuracy: 0.7857\n",
      "Epoch 38/50\n",
      "196/196 [==============================] - 3s 18ms/step - loss: 0.6021 - accuracy: 0.7899 - val_loss: 0.6564 - val_accuracy: 0.7771\n",
      "Epoch 39/50\n",
      "196/196 [==============================] - 3s 17ms/step - loss: 0.5924 - accuracy: 0.7924 - val_loss: 0.6170 - val_accuracy: 0.7863\n",
      "Epoch 40/50\n",
      "196/196 [==============================] - 3s 17ms/step - loss: 0.5899 - accuracy: 0.7928 - val_loss: 0.6124 - val_accuracy: 0.7870\n",
      "Epoch 41/50\n",
      "196/196 [==============================] - 3s 16ms/step - loss: 0.5818 - accuracy: 0.7937 - val_loss: 0.6421 - val_accuracy: 0.7862\n",
      "Epoch 42/50\n",
      "196/196 [==============================] - 3s 16ms/step - loss: 0.5689 - accuracy: 0.7985 - val_loss: 0.6264 - val_accuracy: 0.7867\n",
      "Epoch 43/50\n",
      "196/196 [==============================] - 3s 16ms/step - loss: 0.5597 - accuracy: 0.8030 - val_loss: 0.6171 - val_accuracy: 0.7896\n",
      "Epoch 44/50\n",
      "196/196 [==============================] - 3s 16ms/step - loss: 0.5496 - accuracy: 0.8072 - val_loss: 0.5910 - val_accuracy: 0.7962\n",
      "Epoch 45/50\n",
      "196/196 [==============================] - 3s 18ms/step - loss: 0.5501 - accuracy: 0.8039 - val_loss: 0.5881 - val_accuracy: 0.7989\n",
      "Epoch 46/50\n",
      "196/196 [==============================] - 3s 18ms/step - loss: 0.5480 - accuracy: 0.8066 - val_loss: 0.5734 - val_accuracy: 0.8011\n",
      "Epoch 47/50\n",
      "196/196 [==============================] - 3s 17ms/step - loss: 0.5358 - accuracy: 0.8122 - val_loss: 0.5883 - val_accuracy: 0.8011\n",
      "Epoch 48/50\n",
      "196/196 [==============================] - 3s 17ms/step - loss: 0.5295 - accuracy: 0.8153 - val_loss: 0.5767 - val_accuracy: 0.8021\n",
      "Epoch 49/50\n",
      "196/196 [==============================] - 3s 17ms/step - loss: 0.5254 - accuracy: 0.8160 - val_loss: 0.5982 - val_accuracy: 0.7966\n",
      "Epoch 50/50\n",
      "196/196 [==============================] - 3s 17ms/step - loss: 0.5208 - accuracy: 0.8158 - val_loss: 0.5738 - val_accuracy: 0.8020\n"
     ]
    }
   ],
   "source": [
    "history_dout = model_dout.fit(\n",
    "    train_data_proc, train_label_proc,\n",
    "    validation_data=(test_data_proc, test_label_proc),\n",
    "    batch_size=256,\n",
    "    epochs=50\n",
    ")"
   ]
  },
  {
   "cell_type": "code",
   "execution_count": 38,
   "id": "swedish-raising",
   "metadata": {},
   "outputs": [
    {
     "data": {
      "text/plain": [
       "<AxesSubplot:>"
      ]
     },
     "execution_count": 38,
     "metadata": {},
     "output_type": "execute_result"
    },
    {
     "data": {
      "image/png": "[encoded data removed]",
      "text/plain": [
       "<Figure size 432x288 with 1 Axes>"
      ]
     },
     "metadata": {
      "needs_background": "light"
     },
     "output_type": "display_data"
    }
   ],
   "source": [
    "pd.DataFrame(history_dev.history).plot()"
   ]
  },
  {
   "cell_type": "markdown",
   "id": "configured-blocking",
   "metadata": {
    "tags": []
   },
   "source": [
    "# Batch Normalization Model"
   ]
  },
  {
   "cell_type": "code",
   "execution_count": 45,
   "id": "literary-treatment",
   "metadata": {
    "tags": []
   },
   "outputs": [],
   "source": [
    "input_nor = layers.Input((32, 32, 3))"
   ]
  },
  {
   "cell_type": "code",
   "execution_count": 46,
   "id": "internal-winning",
   "metadata": {},
   "outputs": [],
   "source": [
    "layer_nor = layers.Conv2D(32, 4, activation=\"relu\")(input_nor)\n",
    "layer_nor = layers.BatchNormalization()(layer_nor)\n",
    "layer_nor = layers.Conv2D(32, 4, activation=\"relu\")(layer_nor)\n",
    "layer_nor = layers.BatchNormalization()(layer_nor)\n",
    "layer_nor = layers.MaxPool2D(2)(layer_nor)\n",
    "layer_nor = layers.Dropout(0.4)(layer_nor)\n",
    "layer_nor = layers.Conv2D(64, 3, padding=\"same\", activation=\"relu\")(layer_nor)\n",
    "layer_nor = layers.BatchNormalization()(layer_nor)\n",
    "layer_nor = layers.Conv2D(64, 3, padding=\"same\", activation=\"relu\")(layer_nor)\n",
    "layer_nor = layers.BatchNormalization()(layer_nor)\n",
    "layer_nor = layers.MaxPool2D(2)(layer_nor)\n",
    "layer_nor = layers.Dropout(0.4)(layer_nor)\n",
    "layer_nor = layers.Conv2D(128, 3, padding=\"same\", dilation_rate=2, activation=\"relu\")(layer_nor)\n",
    "layer_nor = layers.BatchNormalization()(layer_nor)\n",
    "layer_nor  = layers.GlobalAveragePooling2D()(layer_nor)"
   ]
  },
  {
   "cell_type": "code",
   "execution_count": 47,
   "id": "coastal-prescription",
   "metadata": {},
   "outputs": [],
   "source": [
    "output_nor = layers.Dense(10, activation=\"softmax\")(layer_nor)"
   ]
  },
  {
   "cell_type": "code",
   "execution_count": 48,
   "id": "decent-reducing",
   "metadata": {},
   "outputs": [
    {
     "name": "stdout",
     "output_type": "stream",
     "text": [
      "Model: \"model_6\"\n",
      "_________________________________________________________________\n",
      "Layer (type)                 Output Shape              Param #   \n",
      "=================================================================\n",
      "input_6 (InputLayer)         [(None, 32, 32, 3)]       0         \n",
      "_________________________________________________________________\n",
      "conv2d_23 (Conv2D)           (None, 29, 29, 32)        1568      \n",
      "_________________________________________________________________\n",
      "batch_normalization (BatchNo (None, 29, 29, 32)        128       \n",
      "_________________________________________________________________\n",
      "conv2d_24 (Conv2D)           (None, 26, 26, 32)        16416     \n",
      "_________________________________________________________________\n",
      "batch_normalization_1 (Batch (None, 26, 26, 32)        128       \n",
      "_________________________________________________________________\n",
      "max_pooling2d_10 (MaxPooling (None, 13, 13, 32)        0         \n",
      "_________________________________________________________________\n",
      "dropout_6 (Dropout)          (None, 13, 13, 32)        0         \n",
      "_________________________________________________________________\n",
      "conv2d_25 (Conv2D)           (None, 13, 13, 64)        18496     \n",
      "_________________________________________________________________\n",
      "batch_normalization_2 (Batch (None, 13, 13, 64)        256       \n",
      "_________________________________________________________________\n",
      "conv2d_26 (Conv2D)           (None, 13, 13, 64)        36928     \n",
      "_________________________________________________________________\n",
      "batch_normalization_3 (Batch (None, 13, 13, 64)        256       \n",
      "_________________________________________________________________\n",
      "max_pooling2d_11 (MaxPooling (None, 6, 6, 64)          0         \n",
      "_________________________________________________________________\n",
      "dropout_7 (Dropout)          (None, 6, 6, 64)          0         \n",
      "_________________________________________________________________\n",
      "conv2d_27 (Conv2D)           (None, 6, 6, 128)         73856     \n",
      "_________________________________________________________________\n",
      "batch_normalization_4 (Batch (None, 6, 6, 128)         512       \n",
      "_________________________________________________________________\n",
      "global_average_pooling2d_4 ( (None, 128)               0         \n",
      "_________________________________________________________________\n",
      "dense_6 (Dense)              (None, 10)                1290      \n",
      "=================================================================\n",
      "Total params: 149,834\n",
      "Trainable params: 149,194\n",
      "Non-trainable params: 640\n",
      "_________________________________________________________________\n"
     ]
    }
   ],
   "source": [
    "model_nor = models.Model(input_nor, output_nor)\n",
    "model_nor.summary()"
   ]
  },
  {
   "cell_type": "code",
   "execution_count": 49,
   "id": "removable-assumption",
   "metadata": {},
   "outputs": [],
   "source": [
    "model_nor.compile(\n",
    "    loss=losses.CategoricalCrossentropy(),\n",
    "    optimizer=optimizers.Adam(),\n",
    "    metrics=[\"accuracy\"],\n",
    ")"
   ]
  },
  {
   "cell_type": "code",
   "execution_count": 50,
   "id": "ruled-breakdown",
   "metadata": {},
   "outputs": [
    {
     "name": "stdout",
     "output_type": "stream",
     "text": [
      "Epoch 1/50\n",
      "196/196 [==============================] - 5s 23ms/step - loss: 1.5972 - accuracy: 0.4137 - val_loss: 2.8052 - val_accuracy: 0.1070\n",
      "Epoch 2/50\n",
      "196/196 [==============================] - 4s 20ms/step - loss: 1.0767 - accuracy: 0.6154 - val_loss: 2.9352 - val_accuracy: 0.2000\n",
      "Epoch 3/50\n",
      "196/196 [==============================] - 4s 20ms/step - loss: 0.9152 - accuracy: 0.6770 - val_loss: 1.0800 - val_accuracy: 0.6225\n",
      "Epoch 4/50\n",
      "196/196 [==============================] - 4s 20ms/step - loss: 0.8152 - accuracy: 0.7154 - val_loss: 0.8253 - val_accuracy: 0.7117\n",
      "Epoch 5/50\n",
      "196/196 [==============================] - 4s 20ms/step - loss: 0.7374 - accuracy: 0.7424 - val_loss: 0.7680 - val_accuracy: 0.7306\n",
      "Epoch 6/50\n",
      "196/196 [==============================] - 4s 20ms/step - loss: 0.6913 - accuracy: 0.7565 - val_loss: 0.7011 - val_accuracy: 0.7564\n",
      "Epoch 7/50\n",
      "196/196 [==============================] - 4s 20ms/step - loss: 0.6387 - accuracy: 0.7782 - val_loss: 0.7632 - val_accuracy: 0.7384\n",
      "Epoch 8/50\n",
      "196/196 [==============================] - 4s 20ms/step - loss: 0.6130 - accuracy: 0.7874 - val_loss: 0.6999 - val_accuracy: 0.7589\n",
      "Epoch 9/50\n",
      "196/196 [==============================] - 4s 20ms/step - loss: 0.5808 - accuracy: 0.7989 - val_loss: 0.6663 - val_accuracy: 0.7771\n",
      "Epoch 10/50\n",
      "196/196 [==============================] - 4s 20ms/step - loss: 0.5579 - accuracy: 0.8048 - val_loss: 0.5976 - val_accuracy: 0.7907\n",
      "Epoch 11/50\n",
      "196/196 [==============================] - 4s 20ms/step - loss: 0.5370 - accuracy: 0.8149 - val_loss: 0.5953 - val_accuracy: 0.7960\n",
      "Epoch 12/50\n",
      "196/196 [==============================] - 4s 20ms/step - loss: 0.5141 - accuracy: 0.8194 - val_loss: 0.7540 - val_accuracy: 0.7439\n",
      "Epoch 13/50\n",
      "196/196 [==============================] - 4s 20ms/step - loss: 0.5060 - accuracy: 0.8220 - val_loss: 0.6324 - val_accuracy: 0.7844\n",
      "Epoch 14/50\n",
      "196/196 [==============================] - 4s 20ms/step - loss: 0.4862 - accuracy: 0.8297 - val_loss: 0.5636 - val_accuracy: 0.8041\n",
      "Epoch 15/50\n",
      "196/196 [==============================] - 4s 20ms/step - loss: 0.4807 - accuracy: 0.8356 - val_loss: 0.6004 - val_accuracy: 0.7904\n",
      "Epoch 16/50\n",
      "196/196 [==============================] - 4s 20ms/step - loss: 0.4619 - accuracy: 0.8376 - val_loss: 0.5811 - val_accuracy: 0.8040\n",
      "Epoch 17/50\n",
      "196/196 [==============================] - 4s 20ms/step - loss: 0.4534 - accuracy: 0.8413 - val_loss: 0.5622 - val_accuracy: 0.8086\n",
      "Epoch 18/50\n",
      "196/196 [==============================] - 4s 20ms/step - loss: 0.4404 - accuracy: 0.8453 - val_loss: 0.5250 - val_accuracy: 0.8191\n",
      "Epoch 19/50\n",
      "196/196 [==============================] - 4s 20ms/step - loss: 0.4357 - accuracy: 0.8488 - val_loss: 0.5459 - val_accuracy: 0.8133\n",
      "Epoch 20/50\n",
      "196/196 [==============================] - 4s 20ms/step - loss: 0.4246 - accuracy: 0.8520 - val_loss: 0.5748 - val_accuracy: 0.8064\n",
      "Epoch 21/50\n",
      "196/196 [==============================] - 4s 21ms/step - loss: 0.4147 - accuracy: 0.8547 - val_loss: 0.5758 - val_accuracy: 0.8067\n",
      "Epoch 22/50\n",
      "196/196 [==============================] - 4s 21ms/step - loss: 0.4089 - accuracy: 0.8564 - val_loss: 0.5426 - val_accuracy: 0.8169\n",
      "Epoch 23/50\n",
      "196/196 [==============================] - 4s 21ms/step - loss: 0.3954 - accuracy: 0.8618 - val_loss: 0.5750 - val_accuracy: 0.8026\n",
      "Epoch 24/50\n",
      "196/196 [==============================] - 4s 20ms/step - loss: 0.3931 - accuracy: 0.8611 - val_loss: 0.5325 - val_accuracy: 0.8183\n",
      "Epoch 25/50\n",
      "196/196 [==============================] - 4s 20ms/step - loss: 0.3856 - accuracy: 0.8661 - val_loss: 0.5122 - val_accuracy: 0.8253\n",
      "Epoch 26/50\n",
      "196/196 [==============================] - 4s 21ms/step - loss: 0.3858 - accuracy: 0.8654 - val_loss: 0.4914 - val_accuracy: 0.8329\n",
      "Epoch 27/50\n",
      "196/196 [==============================] - 4s 20ms/step - loss: 0.3685 - accuracy: 0.8706 - val_loss: 0.5193 - val_accuracy: 0.8213\n",
      "Epoch 28/50\n",
      "196/196 [==============================] - 4s 21ms/step - loss: 0.3651 - accuracy: 0.8724 - val_loss: 0.5213 - val_accuracy: 0.8247\n",
      "Epoch 29/50\n",
      "196/196 [==============================] - 4s 20ms/step - loss: 0.3561 - accuracy: 0.8739 - val_loss: 0.4868 - val_accuracy: 0.8319\n",
      "Epoch 30/50\n",
      "196/196 [==============================] - 4s 20ms/step - loss: 0.3551 - accuracy: 0.8740 - val_loss: 0.5144 - val_accuracy: 0.8295\n",
      "Epoch 31/50\n",
      "196/196 [==============================] - 4s 20ms/step - loss: 0.3521 - accuracy: 0.8762 - val_loss: 0.5100 - val_accuracy: 0.8304\n",
      "Epoch 32/50\n",
      "196/196 [==============================] - 4s 20ms/step - loss: 0.3502 - accuracy: 0.8779 - val_loss: 0.4791 - val_accuracy: 0.8398\n",
      "Epoch 33/50\n",
      "196/196 [==============================] - 4s 20ms/step - loss: 0.3435 - accuracy: 0.8782 - val_loss: 0.5058 - val_accuracy: 0.8327\n",
      "Epoch 34/50\n",
      "196/196 [==============================] - 4s 20ms/step - loss: 0.3382 - accuracy: 0.8811 - val_loss: 0.4662 - val_accuracy: 0.8432\n",
      "Epoch 35/50\n",
      "196/196 [==============================] - 4s 20ms/step - loss: 0.3377 - accuracy: 0.8802 - val_loss: 0.5340 - val_accuracy: 0.8215\n",
      "Epoch 36/50\n",
      "196/196 [==============================] - 4s 20ms/step - loss: 0.3250 - accuracy: 0.8841 - val_loss: 0.5604 - val_accuracy: 0.8144\n",
      "Epoch 37/50\n",
      "196/196 [==============================] - 4s 20ms/step - loss: 0.3231 - accuracy: 0.8845 - val_loss: 0.5239 - val_accuracy: 0.8241\n",
      "Epoch 38/50\n",
      "196/196 [==============================] - 4s 20ms/step - loss: 0.3158 - accuracy: 0.8899 - val_loss: 0.5296 - val_accuracy: 0.8255\n",
      "Epoch 39/50\n",
      "196/196 [==============================] - 4s 20ms/step - loss: 0.3228 - accuracy: 0.8862 - val_loss: 0.4883 - val_accuracy: 0.8358\n",
      "Epoch 40/50\n",
      "196/196 [==============================] - 4s 20ms/step - loss: 0.3172 - accuracy: 0.8873 - val_loss: 0.4960 - val_accuracy: 0.8324\n",
      "Epoch 41/50\n",
      "196/196 [==============================] - 4s 21ms/step - loss: 0.3113 - accuracy: 0.8896 - val_loss: 0.4938 - val_accuracy: 0.8344\n",
      "Epoch 42/50\n",
      "196/196 [==============================] - 4s 20ms/step - loss: 0.3111 - accuracy: 0.8885 - val_loss: 0.5077 - val_accuracy: 0.8328\n",
      "Epoch 43/50\n",
      "196/196 [==============================] - 4s 21ms/step - loss: 0.2996 - accuracy: 0.8913 - val_loss: 0.4786 - val_accuracy: 0.8404\n",
      "Epoch 44/50\n",
      "196/196 [==============================] - 4s 20ms/step - loss: 0.3013 - accuracy: 0.8928 - val_loss: 0.5357 - val_accuracy: 0.8205\n",
      "Epoch 45/50\n",
      "196/196 [==============================] - 4s 21ms/step - loss: 0.3005 - accuracy: 0.8942 - val_loss: 0.5000 - val_accuracy: 0.8328\n",
      "Epoch 46/50\n",
      "196/196 [==============================] - 4s 20ms/step - loss: 0.3011 - accuracy: 0.8931 - val_loss: 0.4862 - val_accuracy: 0.8376\n",
      "Epoch 47/50\n",
      "196/196 [==============================] - 4s 20ms/step - loss: 0.2951 - accuracy: 0.8957 - val_loss: 0.4678 - val_accuracy: 0.8461\n",
      "Epoch 48/50\n",
      "196/196 [==============================] - 4s 20ms/step - loss: 0.2894 - accuracy: 0.8970 - val_loss: 0.4967 - val_accuracy: 0.8355\n",
      "Epoch 49/50\n",
      "196/196 [==============================] - 4s 20ms/step - loss: 0.2843 - accuracy: 0.8994 - val_loss: 0.4915 - val_accuracy: 0.8338\n",
      "Epoch 50/50\n",
      "196/196 [==============================] - 4s 20ms/step - loss: 0.2876 - accuracy: 0.8973 - val_loss: 0.5342 - val_accuracy: 0.8279\n"
     ]
    }
   ],
   "source": [
    "history_nor = model_nor.fit(\n",
    "    train_data_proc, train_label_proc,\n",
    "    validation_data=(test_data_proc, test_label_proc),\n",
    "    batch_size=256,\n",
    "    epochs=50\n",
    ")"
   ]
  },
  {
   "cell_type": "code",
   "execution_count": 51,
   "id": "fewer-middle",
   "metadata": {},
   "outputs": [
    {
     "data": {
      "text/plain": [
       "<AxesSubplot:>"
      ]
     },
     "execution_count": 51,
     "metadata": {},
     "output_type": "execute_result"
    },
    {
     "data": {
      "image/png": "[encoded data removed]",
      "text/plain": [
       "<Figure size 432x288 with 1 Axes>"
      ]
     },
     "metadata": {
      "needs_background": "light"
     },
     "output_type": "display_data"
    }
   ],
   "source": [
    "pd.DataFrame(history_nor.history).plot()"
   ]
  },
  {
   "cell_type": "markdown",
   "id": "governmental-static",
   "metadata": {
    "tags": []
   },
   "source": [
    "# Data Augmentation"
   ]
  },
  {
   "cell_type": "code",
   "execution_count": 52,
   "id": "varying-algorithm",
   "metadata": {
    "tags": []
   },
   "outputs": [],
   "source": [
    "input_aug = layers.Input((32, 32, 3))"
   ]
  },
  {
   "cell_type": "code",
   "execution_count": 53,
   "id": "retired-utility",
   "metadata": {},
   "outputs": [],
   "source": [
    "layer_aug = layers.Conv2D(32, 4, activation=\"relu\")(input_aug)\n",
    "layer_aug = layers.BatchNormalization()(layer_aug)\n",
    "layer_aug = layers.Conv2D(32, 4, activation=\"relu\")(layer_aug)\n",
    "layer_aug = layers.BatchNormalization()(layer_aug)\n",
    "layer_aug = layers.MaxPool2D(2)(layer_aug)\n",
    "layer_aug = layers.Dropout(0.4)(layer_aug)\n",
    "layer_aug = layers.Conv2D(64, 3, padding=\"same\", activation=\"relu\")(layer_aug)\n",
    "layer_aug = layers.BatchNormalization()(layer_aug)\n",
    "layer_aug = layers.Conv2D(64, 3, padding=\"same\", activation=\"relu\")(layer_aug)\n",
    "layer_aug = layers.BatchNormalization()(layer_aug)\n",
    "layer_aug = layers.MaxPool2D(2)(layer_aug)\n",
    "layer_aug = layers.Dropout(0.4)(layer_aug)\n",
    "layer_aug = layers.Conv2D(128, 3, padding=\"same\", dilation_rate=2, activation=\"relu\")(layer_aug)\n",
    "layer_aug = layers.BatchNormalization()(layer_aug)\n",
    "layer_aug  = layers.GlobalAveragePooling2D()(layer_aug)"
   ]
  },
  {
   "cell_type": "code",
   "execution_count": 54,
   "id": "compressed-debate",
   "metadata": {},
   "outputs": [],
   "source": [
    "output_aug = layers.Dense(10, activation=\"softmax\")(layer_aug)"
   ]
  },
  {
   "cell_type": "code",
   "execution_count": 55,
   "id": "muslim-delicious",
   "metadata": {},
   "outputs": [],
   "source": [
    "model_aug = models.Model(input_aug, output_aug)"
   ]
  },
  {
   "cell_type": "code",
   "execution_count": 56,
   "id": "genuine-links",
   "metadata": {},
   "outputs": [],
   "source": [
    "model_aug.compile(\n",
    "    loss=losses.CategoricalCrossentropy(),\n",
    "    optimizer=optimizers.Adam(),\n",
    "    metrics=[\"accuracy\"],\n",
    ")"
   ]
  },
  {
   "cell_type": "code",
   "execution_count": 57,
   "id": "special-guard",
   "metadata": {},
   "outputs": [],
   "source": [
    "image_gen = preprocessing.image.ImageDataGenerator(\n",
    "    width_shift_range=0.1,\n",
    "    height_shift_range=0.1,\n",
    "    horizontal_flip=True,\n",
    "    rotation_range=20,\n",
    "    zoom_range=0.1\n",
    ")\n",
    "train_gen = image_gen.flow(train_data_proc, train_label_proc)"
   ]
  },
  {
   "cell_type": "code",
   "execution_count": 58,
   "id": "sufficient-texas",
   "metadata": {},
   "outputs": [
    {
     "name": "stdout",
     "output_type": "stream",
     "text": [
      "Epoch 1/50\n",
      "1563/1563 [==============================] - 22s 13ms/step - loss: 1.6050 - accuracy: 0.4133 - val_loss: 1.4651 - val_accuracy: 0.5170\n",
      "Epoch 2/50\n",
      "1563/1563 [==============================] - 20s 13ms/step - loss: 1.1668 - accuracy: 0.5856 - val_loss: 1.0533 - val_accuracy: 0.6301\n",
      "Epoch 3/50\n",
      "1563/1563 [==============================] - 21s 13ms/step - loss: 1.0116 - accuracy: 0.6440 - val_loss: 0.9306 - val_accuracy: 0.6829\n",
      "Epoch 4/50\n",
      "1563/1563 [==============================] - 20s 13ms/step - loss: 0.9421 - accuracy: 0.6697 - val_loss: 0.9274 - val_accuracy: 0.6843\n",
      "Epoch 5/50\n",
      "1563/1563 [==============================] - 21s 13ms/step - loss: 0.8907 - accuracy: 0.6879 - val_loss: 0.8852 - val_accuracy: 0.7040\n",
      "Epoch 6/50\n",
      "1563/1563 [==============================] - 21s 13ms/step - loss: 0.8534 - accuracy: 0.7025 - val_loss: 0.7994 - val_accuracy: 0.7348\n",
      "Epoch 7/50\n",
      "1563/1563 [==============================] - 21s 13ms/step - loss: 0.8207 - accuracy: 0.7164 - val_loss: 0.6743 - val_accuracy: 0.7709\n",
      "Epoch 8/50\n",
      "1563/1563 [==============================] - 22s 14ms/step - loss: 0.8044 - accuracy: 0.7169 - val_loss: 0.7354 - val_accuracy: 0.7500\n",
      "Epoch 9/50\n",
      "1563/1563 [==============================] - 22s 14ms/step - loss: 0.7791 - accuracy: 0.7285 - val_loss: 0.6305 - val_accuracy: 0.7874\n",
      "Epoch 10/50\n",
      "1563/1563 [==============================] - 21s 14ms/step - loss: 0.7596 - accuracy: 0.7328 - val_loss: 0.8741 - val_accuracy: 0.7196\n",
      "Epoch 11/50\n",
      "1563/1563 [==============================] - 21s 13ms/step - loss: 0.7445 - accuracy: 0.7398 - val_loss: 0.7536 - val_accuracy: 0.7419\n",
      "Epoch 12/50\n",
      "1563/1563 [==============================] - 21s 13ms/step - loss: 0.7319 - accuracy: 0.7448 - val_loss: 0.7029 - val_accuracy: 0.7637\n",
      "Epoch 13/50\n",
      "1563/1563 [==============================] - 21s 13ms/step - loss: 0.7261 - accuracy: 0.7476 - val_loss: 0.6666 - val_accuracy: 0.7804\n",
      "Epoch 14/50\n",
      "1563/1563 [==============================] - 21s 13ms/step - loss: 0.7080 - accuracy: 0.7535 - val_loss: 0.6540 - val_accuracy: 0.7807\n",
      "Epoch 15/50\n",
      "1563/1563 [==============================] - 21s 13ms/step - loss: 0.7037 - accuracy: 0.7557 - val_loss: 0.6374 - val_accuracy: 0.7870\n",
      "Epoch 16/50\n",
      "1563/1563 [==============================] - 21s 14ms/step - loss: 0.6883 - accuracy: 0.7595 - val_loss: 0.6512 - val_accuracy: 0.7789\n",
      "Epoch 17/50\n",
      "1563/1563 [==============================] - 21s 13ms/step - loss: 0.6852 - accuracy: 0.7606 - val_loss: 0.5954 - val_accuracy: 0.7982\n",
      "Epoch 18/50\n",
      "1563/1563 [==============================] - 21s 13ms/step - loss: 0.6731 - accuracy: 0.7660 - val_loss: 0.8369 - val_accuracy: 0.7312\n",
      "Epoch 19/50\n",
      "1563/1563 [==============================] - 21s 13ms/step - loss: 0.6637 - accuracy: 0.7680 - val_loss: 0.6680 - val_accuracy: 0.7762\n",
      "Epoch 20/50\n",
      "1563/1563 [==============================] - 21s 13ms/step - loss: 0.6611 - accuracy: 0.7692 - val_loss: 0.6512 - val_accuracy: 0.7865\n",
      "Epoch 21/50\n",
      "1563/1563 [==============================] - 21s 14ms/step - loss: 0.6693 - accuracy: 0.7668 - val_loss: 0.5903 - val_accuracy: 0.8004\n",
      "Epoch 22/50\n",
      "1563/1563 [==============================] - 21s 14ms/step - loss: 0.6541 - accuracy: 0.7739 - val_loss: 0.6174 - val_accuracy: 0.7895\n",
      "Epoch 23/50\n",
      "1563/1563 [==============================] - 21s 13ms/step - loss: 0.6580 - accuracy: 0.7720 - val_loss: 0.7278 - val_accuracy: 0.7594\n",
      "Epoch 24/50\n",
      "1563/1563 [==============================] - 21s 14ms/step - loss: 0.6421 - accuracy: 0.7778 - val_loss: 0.6242 - val_accuracy: 0.7922\n",
      "Epoch 25/50\n",
      "1563/1563 [==============================] - 21s 13ms/step - loss: 0.6396 - accuracy: 0.7784 - val_loss: 0.6414 - val_accuracy: 0.7870\n",
      "Epoch 26/50\n",
      "1563/1563 [==============================] - 21s 13ms/step - loss: 0.6300 - accuracy: 0.7812 - val_loss: 0.5812 - val_accuracy: 0.8055\n",
      "Epoch 27/50\n",
      "1563/1563 [==============================] - 21s 13ms/step - loss: 0.6386 - accuracy: 0.7762 - val_loss: 0.6136 - val_accuracy: 0.7946\n",
      "Epoch 28/50\n",
      "1563/1563 [==============================] - 21s 14ms/step - loss: 0.6273 - accuracy: 0.7795 - val_loss: 0.5497 - val_accuracy: 0.8153\n",
      "Epoch 29/50\n",
      "1563/1563 [==============================] - 22s 14ms/step - loss: 0.6209 - accuracy: 0.7833 - val_loss: 0.5556 - val_accuracy: 0.8171\n",
      "Epoch 30/50\n",
      "1563/1563 [==============================] - 22s 14ms/step - loss: 0.6284 - accuracy: 0.7799 - val_loss: 0.6235 - val_accuracy: 0.7925\n",
      "Epoch 31/50\n",
      "1563/1563 [==============================] - 21s 13ms/step - loss: 0.6152 - accuracy: 0.7856 - val_loss: 0.6113 - val_accuracy: 0.7985\n",
      "Epoch 32/50\n",
      "1563/1563 [==============================] - 21s 14ms/step - loss: 0.6088 - accuracy: 0.7846 - val_loss: 0.5420 - val_accuracy: 0.8183\n",
      "Epoch 33/50\n",
      "1563/1563 [==============================] - 21s 14ms/step - loss: 0.6178 - accuracy: 0.7860 - val_loss: 0.7094 - val_accuracy: 0.7687\n",
      "Epoch 34/50\n",
      "1563/1563 [==============================] - 21s 14ms/step - loss: 0.6094 - accuracy: 0.7887 - val_loss: 0.6643 - val_accuracy: 0.7772\n",
      "Epoch 35/50\n",
      "1563/1563 [==============================] - 21s 14ms/step - loss: 0.5984 - accuracy: 0.7904 - val_loss: 0.5895 - val_accuracy: 0.8071\n",
      "Epoch 36/50\n",
      "1563/1563 [==============================] - 21s 14ms/step - loss: 0.5995 - accuracy: 0.7915 - val_loss: 0.6006 - val_accuracy: 0.7980\n",
      "Epoch 37/50\n",
      "1563/1563 [==============================] - 21s 14ms/step - loss: 0.5911 - accuracy: 0.7927 - val_loss: 0.5552 - val_accuracy: 0.8139\n",
      "Epoch 38/50\n",
      "1563/1563 [==============================] - 22s 14ms/step - loss: 0.5945 - accuracy: 0.7954 - val_loss: 0.5360 - val_accuracy: 0.8185\n",
      "Epoch 39/50\n",
      "1563/1563 [==============================] - 21s 13ms/step - loss: 0.5978 - accuracy: 0.7933 - val_loss: 0.6019 - val_accuracy: 0.7984\n",
      "Epoch 40/50\n",
      "1295/1563 [=======================>......] - ETA: 3s - loss: 0.6031 - accuracy: 0.7913"
     ]
    },
    {
     "ename": "KeyboardInterrupt",
     "evalue": "",
     "output_type": "error",
     "traceback": [
      "\u001b[0;31m---------------------------------------------------------------------------\u001b[0m",
      "\u001b[0;31mKeyboardInterrupt\u001b[0m                         Traceback (most recent call last)",
      "\u001b[0;32m<ipython-input-58-c4a9f74ef089>\u001b[0m in \u001b[0;36m<module>\u001b[0;34m\u001b[0m\n\u001b[0;32m----> 1\u001b[0;31m history_aug = model_aug.fit(\n\u001b[0m\u001b[1;32m      2\u001b[0m     \u001b[0mtrain_gen\u001b[0m\u001b[0;34m,\u001b[0m\u001b[0;34m\u001b[0m\u001b[0;34m\u001b[0m\u001b[0m\n\u001b[1;32m      3\u001b[0m     \u001b[0mvalidation_data\u001b[0m\u001b[0;34m=\u001b[0m\u001b[0;34m(\u001b[0m\u001b[0mtest_data_proc\u001b[0m\u001b[0;34m,\u001b[0m \u001b[0mtest_label_proc\u001b[0m\u001b[0;34m)\u001b[0m\u001b[0;34m,\u001b[0m\u001b[0;34m\u001b[0m\u001b[0;34m\u001b[0m\u001b[0m\n\u001b[1;32m      4\u001b[0m     \u001b[0mbatch_size\u001b[0m\u001b[0;34m=\u001b[0m\u001b[0;36m256\u001b[0m\u001b[0;34m,\u001b[0m\u001b[0;34m\u001b[0m\u001b[0;34m\u001b[0m\u001b[0m\n\u001b[1;32m      5\u001b[0m     \u001b[0mepochs\u001b[0m\u001b[0;34m=\u001b[0m\u001b[0;36m50\u001b[0m\u001b[0;34m\u001b[0m\u001b[0;34m\u001b[0m\u001b[0m\n",
      "\u001b[0;32m/opt/conda/lib/python3.8/site-packages/tensorflow/python/keras/engine/training.py\u001b[0m in \u001b[0;36mfit\u001b[0;34m(self, x, y, batch_size, epochs, verbose, callbacks, validation_split, validation_data, shuffle, class_weight, sample_weight, initial_epoch, steps_per_epoch, validation_steps, validation_batch_size, validation_freq, max_queue_size, workers, use_multiprocessing)\u001b[0m\n\u001b[1;32m   1156\u001b[0m                 _r=1):\n\u001b[1;32m   1157\u001b[0m               \u001b[0mcallbacks\u001b[0m\u001b[0;34m.\u001b[0m\u001b[0mon_train_batch_begin\u001b[0m\u001b[0;34m(\u001b[0m\u001b[0mstep\u001b[0m\u001b[0;34m)\u001b[0m\u001b[0;34m\u001b[0m\u001b[0;34m\u001b[0m\u001b[0m\n\u001b[0;32m-> 1158\u001b[0;31m               \u001b[0mtmp_logs\u001b[0m \u001b[0;34m=\u001b[0m \u001b[0mself\u001b[0m\u001b[0;34m.\u001b[0m\u001b[0mtrain_function\u001b[0m\u001b[0;34m(\u001b[0m\u001b[0miterator\u001b[0m\u001b[0;34m)\u001b[0m\u001b[0;34m\u001b[0m\u001b[0;34m\u001b[0m\u001b[0m\n\u001b[0m\u001b[1;32m   1159\u001b[0m               \u001b[0;32mif\u001b[0m \u001b[0mdata_handler\u001b[0m\u001b[0;34m.\u001b[0m\u001b[0mshould_sync\u001b[0m\u001b[0;34m:\u001b[0m\u001b[0;34m\u001b[0m\u001b[0;34m\u001b[0m\u001b[0m\n\u001b[1;32m   1160\u001b[0m                 \u001b[0mcontext\u001b[0m\u001b[0;34m.\u001b[0m\u001b[0masync_wait\u001b[0m\u001b[0;34m(\u001b[0m\u001b[0;34m)\u001b[0m\u001b[0;34m\u001b[0m\u001b[0;34m\u001b[0m\u001b[0m\n",
      "\u001b[0;32m/opt/conda/lib/python3.8/site-packages/tensorflow/python/eager/def_function.py\u001b[0m in \u001b[0;36m__call__\u001b[0;34m(self, *args, **kwds)\u001b[0m\n\u001b[1;32m    865\u001b[0m     \u001b[0mtracing_count\u001b[0m \u001b[0;34m=\u001b[0m \u001b[0mself\u001b[0m\u001b[0;34m.\u001b[0m\u001b[0mexperimental_get_tracing_count\u001b[0m\u001b[0;34m(\u001b[0m\u001b[0;34m)\u001b[0m\u001b[0;34m\u001b[0m\u001b[0;34m\u001b[0m\u001b[0m\n\u001b[1;32m    866\u001b[0m     \u001b[0;32mwith\u001b[0m \u001b[0mtrace\u001b[0m\u001b[0;34m.\u001b[0m\u001b[0mTrace\u001b[0m\u001b[0;34m(\u001b[0m\u001b[0mself\u001b[0m\u001b[0;34m.\u001b[0m\u001b[0m_name\u001b[0m\u001b[0;34m)\u001b[0m \u001b[0;32mas\u001b[0m \u001b[0mtm\u001b[0m\u001b[0;34m:\u001b[0m\u001b[0;34m\u001b[0m\u001b[0;34m\u001b[0m\u001b[0m\n\u001b[0;32m--> 867\u001b[0;31m       \u001b[0mresult\u001b[0m \u001b[0;34m=\u001b[0m \u001b[0mself\u001b[0m\u001b[0;34m.\u001b[0m\u001b[0m_call\u001b[0m\u001b[0;34m(\u001b[0m\u001b[0;34m*\u001b[0m\u001b[0margs\u001b[0m\u001b[0;34m,\u001b[0m \u001b[0;34m**\u001b[0m\u001b[0mkwds\u001b[0m\u001b[0;34m)\u001b[0m\u001b[0;34m\u001b[0m\u001b[0;34m\u001b[0m\u001b[0m\n\u001b[0m\u001b[1;32m    868\u001b[0m       \u001b[0mcompiler\u001b[0m \u001b[0;34m=\u001b[0m \u001b[0;34m\"xla\"\u001b[0m \u001b[0;32mif\u001b[0m \u001b[0mself\u001b[0m\u001b[0;34m.\u001b[0m\u001b[0m_jit_compile\u001b[0m \u001b[0;32melse\u001b[0m \u001b[0;34m\"nonXla\"\u001b[0m\u001b[0;34m\u001b[0m\u001b[0;34m\u001b[0m\u001b[0m\n\u001b[1;32m    869\u001b[0m       \u001b[0mnew_tracing_count\u001b[0m \u001b[0;34m=\u001b[0m \u001b[0mself\u001b[0m\u001b[0;34m.\u001b[0m\u001b[0mexperimental_get_tracing_count\u001b[0m\u001b[0;34m(\u001b[0m\u001b[0;34m)\u001b[0m\u001b[0;34m\u001b[0m\u001b[0;34m\u001b[0m\u001b[0m\n",
      "\u001b[0;32m/opt/conda/lib/python3.8/site-packages/tensorflow/python/eager/def_function.py\u001b[0m in \u001b[0;36m_call\u001b[0;34m(self, *args, **kwds)\u001b[0m\n\u001b[1;32m    893\u001b[0m       \u001b[0;31m# In this case we have created variables on the first call, so we run the\u001b[0m\u001b[0;34m\u001b[0m\u001b[0;34m\u001b[0m\u001b[0;34m\u001b[0m\u001b[0m\n\u001b[1;32m    894\u001b[0m       \u001b[0;31m# defunned version which is guaranteed to never create variables.\u001b[0m\u001b[0;34m\u001b[0m\u001b[0;34m\u001b[0m\u001b[0;34m\u001b[0m\u001b[0m\n\u001b[0;32m--> 895\u001b[0;31m       \u001b[0;32mreturn\u001b[0m \u001b[0mself\u001b[0m\u001b[0;34m.\u001b[0m\u001b[0m_stateless_fn\u001b[0m\u001b[0;34m(\u001b[0m\u001b[0;34m*\u001b[0m\u001b[0margs\u001b[0m\u001b[0;34m,\u001b[0m \u001b[0;34m**\u001b[0m\u001b[0mkwds\u001b[0m\u001b[0;34m)\u001b[0m  \u001b[0;31m# pylint: disable=not-callable\u001b[0m\u001b[0;34m\u001b[0m\u001b[0;34m\u001b[0m\u001b[0m\n\u001b[0m\u001b[1;32m    896\u001b[0m     \u001b[0;32melif\u001b[0m \u001b[0mself\u001b[0m\u001b[0;34m.\u001b[0m\u001b[0m_stateful_fn\u001b[0m \u001b[0;32mis\u001b[0m \u001b[0;32mnot\u001b[0m \u001b[0;32mNone\u001b[0m\u001b[0;34m:\u001b[0m\u001b[0;34m\u001b[0m\u001b[0;34m\u001b[0m\u001b[0m\n\u001b[1;32m    897\u001b[0m       \u001b[0;31m# Release the lock early so that multiple threads can perform the call\u001b[0m\u001b[0;34m\u001b[0m\u001b[0;34m\u001b[0m\u001b[0;34m\u001b[0m\u001b[0m\n",
      "\u001b[0;32m/opt/conda/lib/python3.8/site-packages/tensorflow/python/eager/function.py\u001b[0m in \u001b[0;36m__call__\u001b[0;34m(self, *args, **kwargs)\u001b[0m\n\u001b[1;32m   3016\u001b[0m       (graph_function,\n\u001b[1;32m   3017\u001b[0m        filtered_flat_args) = self._maybe_define_function(args, kwargs)\n\u001b[0;32m-> 3018\u001b[0;31m     return graph_function._call_flat(\n\u001b[0m\u001b[1;32m   3019\u001b[0m         filtered_flat_args, captured_inputs=graph_function.captured_inputs)  # pylint: disable=protected-access\n\u001b[1;32m   3020\u001b[0m \u001b[0;34m\u001b[0m\u001b[0m\n",
      "\u001b[0;32m/opt/conda/lib/python3.8/site-packages/tensorflow/python/eager/function.py\u001b[0m in \u001b[0;36m_call_flat\u001b[0;34m(self, args, captured_inputs, cancellation_manager)\u001b[0m\n\u001b[1;32m   1958\u001b[0m         and executing_eagerly):\n\u001b[1;32m   1959\u001b[0m       \u001b[0;31m# No tape is watching; skip to running the function.\u001b[0m\u001b[0;34m\u001b[0m\u001b[0;34m\u001b[0m\u001b[0;34m\u001b[0m\u001b[0m\n\u001b[0;32m-> 1960\u001b[0;31m       return self._build_call_outputs(self._inference_function.call(\n\u001b[0m\u001b[1;32m   1961\u001b[0m           ctx, args, cancellation_manager=cancellation_manager))\n\u001b[1;32m   1962\u001b[0m     forward_backward = self._select_forward_and_backward_functions(\n",
      "\u001b[0;32m/opt/conda/lib/python3.8/site-packages/tensorflow/python/eager/function.py\u001b[0m in \u001b[0;36mcall\u001b[0;34m(self, ctx, args, cancellation_manager)\u001b[0m\n\u001b[1;32m    589\u001b[0m       \u001b[0;32mwith\u001b[0m \u001b[0m_InterpolateFunctionError\u001b[0m\u001b[0;34m(\u001b[0m\u001b[0mself\u001b[0m\u001b[0;34m)\u001b[0m\u001b[0;34m:\u001b[0m\u001b[0;34m\u001b[0m\u001b[0;34m\u001b[0m\u001b[0m\n\u001b[1;32m    590\u001b[0m         \u001b[0;32mif\u001b[0m \u001b[0mcancellation_manager\u001b[0m \u001b[0;32mis\u001b[0m \u001b[0;32mNone\u001b[0m\u001b[0;34m:\u001b[0m\u001b[0;34m\u001b[0m\u001b[0;34m\u001b[0m\u001b[0m\n\u001b[0;32m--> 591\u001b[0;31m           outputs = execute.execute(\n\u001b[0m\u001b[1;32m    592\u001b[0m               \u001b[0mstr\u001b[0m\u001b[0;34m(\u001b[0m\u001b[0mself\u001b[0m\u001b[0;34m.\u001b[0m\u001b[0msignature\u001b[0m\u001b[0;34m.\u001b[0m\u001b[0mname\u001b[0m\u001b[0;34m)\u001b[0m\u001b[0;34m,\u001b[0m\u001b[0;34m\u001b[0m\u001b[0;34m\u001b[0m\u001b[0m\n\u001b[1;32m    593\u001b[0m               \u001b[0mnum_outputs\u001b[0m\u001b[0;34m=\u001b[0m\u001b[0mself\u001b[0m\u001b[0;34m.\u001b[0m\u001b[0m_num_outputs\u001b[0m\u001b[0;34m,\u001b[0m\u001b[0;34m\u001b[0m\u001b[0;34m\u001b[0m\u001b[0m\n",
      "\u001b[0;32m/opt/conda/lib/python3.8/site-packages/tensorflow/python/eager/execute.py\u001b[0m in \u001b[0;36mquick_execute\u001b[0;34m(op_name, num_outputs, inputs, attrs, ctx, name)\u001b[0m\n\u001b[1;32m     57\u001b[0m   \u001b[0;32mtry\u001b[0m\u001b[0;34m:\u001b[0m\u001b[0;34m\u001b[0m\u001b[0;34m\u001b[0m\u001b[0m\n\u001b[1;32m     58\u001b[0m     \u001b[0mctx\u001b[0m\u001b[0;34m.\u001b[0m\u001b[0mensure_initialized\u001b[0m\u001b[0;34m(\u001b[0m\u001b[0;34m)\u001b[0m\u001b[0;34m\u001b[0m\u001b[0;34m\u001b[0m\u001b[0m\n\u001b[0;32m---> 59\u001b[0;31m     tensors = pywrap_tfe.TFE_Py_Execute(ctx._handle, device_name, op_name,\n\u001b[0m\u001b[1;32m     60\u001b[0m                                         inputs, attrs, num_outputs)\n\u001b[1;32m     61\u001b[0m   \u001b[0;32mexcept\u001b[0m \u001b[0mcore\u001b[0m\u001b[0;34m.\u001b[0m\u001b[0m_NotOkStatusException\u001b[0m \u001b[0;32mas\u001b[0m \u001b[0me\u001b[0m\u001b[0;34m:\u001b[0m\u001b[0;34m\u001b[0m\u001b[0;34m\u001b[0m\u001b[0m\n",
      "\u001b[0;31mKeyboardInterrupt\u001b[0m: "
     ]
    }
   ],
   "source": [
    "history_aug = model_aug.fit(\n",
    "    train_gen,\n",
    "    validation_data=(test_data_proc, test_label_proc),\n",
    "    batch_size=256,\n",
    "    epochs=50\n",
    ")"
   ]
  },
  {
   "cell_type": "code",
   "execution_count": null,
   "id": "second-bangladesh",
   "metadata": {},
   "outputs": [],
   "source": [
    "pd.DataFrame(history_aug.history).plot()"
   ]
  },
  {
   "cell_type": "code",
   "execution_count": null,
   "id": "controversial-genealogy",
   "metadata": {},
   "outputs": [],
   "source": []
  },
  {
   "cell_type": "code",
   "execution_count": null,
   "id": "christian-brass",
   "metadata": {},
   "outputs": [],
   "source": []
  },
  {
   "cell_type": "code",
   "execution_count": null,
   "id": "competitive-equation",
   "metadata": {},
   "outputs": [],
   "source": []
  }
 ],
 "metadata": {
  "kernelspec": {
   "display_name": "Python 3",
   "language": "python",
   "name": "python3"
  },
  "language_info": {
   "codemirror_mode": {
    "name": "ipython",
    "version": 3
   },
   "file_extension": ".py",
   "mimetype": "text/x-python",
   "name": "python",
   "nbconvert_exporter": "python",
   "pygments_lexer": "ipython3",
   "version": "3.8.8"
  },
  "toc-autonumbering": true
 },
 "nbformat": 4,
 "nbformat_minor": 5
}
