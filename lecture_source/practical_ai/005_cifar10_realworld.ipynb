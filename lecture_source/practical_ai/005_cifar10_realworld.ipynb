{
 "cells": [
  {
   "cell_type": "markdown",
   "id": "unnecessary-grass",
   "metadata": {},
   "source": [
    "<div class=\"alert alert-block alert-success\">\n",
    "    <b><center>CNN Basic Examples</center></b>\n",
    "    <b><center>RSNET</center></b>\n",
    "</div>"
   ]
  },
  {
   "cell_type": "markdown",
   "id": "comfortable-reunion",
   "metadata": {},
   "source": [
    "# Configure Learning Environment"
   ]
  },
  {
   "cell_type": "code",
   "execution_count": 1,
   "id": "insured-cartoon",
   "metadata": {},
   "outputs": [],
   "source": [
    "# !pip install git+https://github.com/nockchun/rspy --force\n",
    "# !pip install mybatis_mapper2sql\n",
    "import rspy as rsp\n",
    "rsp.setSystemWarning(off=True)"
   ]
  },
  {
   "cell_type": "code",
   "execution_count": 2,
   "id": "funky-textbook",
   "metadata": {},
   "outputs": [],
   "source": [
    "import numpy as np\n",
    "\n",
    "import tensorflow as tf\n",
    "from tensorflow.keras import layers, models, losses, optimizers, datasets, preprocessing, utils"
   ]
  },
  {
   "cell_type": "code",
   "execution_count": 3,
   "id": "functional-light",
   "metadata": {},
   "outputs": [],
   "source": [
    "from ipywidgets import interact\n",
    "import matplotlib.pyplot as plt\n",
    "import pandas as pd"
   ]
  },
  {
   "cell_type": "code",
   "execution_count": 4,
   "id": "considerable-automation",
   "metadata": {},
   "outputs": [
    {
     "data": {
      "text/plain": [
       "'2.2.0'"
      ]
     },
     "execution_count": 4,
     "metadata": {},
     "output_type": "execute_result"
    }
   ],
   "source": [
    "np.set_printoptions(linewidth=200, precision=2)\n",
    "tf.__version__"
   ]
  },
  {
   "cell_type": "markdown",
   "id": "physical-filename",
   "metadata": {},
   "source": [
    "# CIFAR10 Dataset\n",
    "The CIFAR10 dataset contains 60,000 color images in 10 classes, with 6,000 images in each class. The dataset is divided into 50,000 training images and 10,000 testing images. The classes are mutually exclusive and there is no overlap between them."
   ]
  },
  {
   "cell_type": "code",
   "execution_count": 5,
   "id": "scenic-invention",
   "metadata": {},
   "outputs": [
    {
     "data": {
      "text/plain": [
       "((50000, 32, 32, 3), (50000, 1), (10000, 32, 32, 3), (10000, 1))"
      ]
     },
     "execution_count": 5,
     "metadata": {},
     "output_type": "execute_result"
    }
   ],
   "source": [
    "# Download the mnist dataset using keras\n",
    "(train_data, train_label), (test_data, test_label) = datasets.cifar10.load_data()\n",
    "train_data.shape, train_label.shape, test_data.shape, test_label.shape"
   ]
  },
  {
   "cell_type": "code",
   "execution_count": 6,
   "id": "sustainable-yeast",
   "metadata": {},
   "outputs": [
    {
     "data": {
      "text/plain": [
       "'Train labels: {0: 5000, 1: 5000, 2: 5000, 3: 5000, 4: 5000, 5: 5000, 6: 5000, 7: 5000, 8: 5000, 9: 5000}'"
      ]
     },
     "execution_count": 6,
     "metadata": {},
     "output_type": "execute_result"
    }
   ],
   "source": [
    "# Counting unique value of train data\n",
    "unique, counts = np.unique(train_label, return_counts=True)\n",
    "num_labels = len(unique)\n",
    "f\"Train labels: {dict(zip(unique, counts))}\""
   ]
  },
  {
   "cell_type": "markdown",
   "id": "animal-collectible",
   "metadata": {},
   "source": [
    "# Preprocessing"
   ]
  },
  {
   "cell_type": "code",
   "execution_count": 7,
   "id": "known-candy",
   "metadata": {},
   "outputs": [],
   "source": [
    "# Normalizing\n",
    "train_data_proc = train_data / 255\n",
    "test_data_proc = test_data / 255\n",
    "\n",
    "#One hot encoding\n",
    "train_label_proc = utils.to_categorical(train_label, 10)\n",
    "test_label_proc = utils.to_categorical(test_label, 10)"
   ]
  },
  {
   "cell_type": "markdown",
   "id": "intense-yesterday",
   "metadata": {},
   "source": [
    "# Base-Line Model"
   ]
  },
  {
   "cell_type": "code",
   "execution_count": 8,
   "id": "hollywood-malawi",
   "metadata": {},
   "outputs": [],
   "source": [
    "input_base = layers.Input((32, 32, 3))"
   ]
  },
  {
   "cell_type": "code",
   "execution_count": 9,
   "id": "metric-nursery",
   "metadata": {},
   "outputs": [],
   "source": [
    "layer_base = layers.Conv2D(32, 4, activation=\"relu\")(input_base)\n",
    "layer_base = layers.MaxPool2D(2)(layer_base)\n",
    "layer_base = layers.Conv2D(64, 3, activation=\"relu\")(layer_base)\n",
    "layer_base = layers.MaxPool2D(2)(layer_base)"
   ]
  },
  {
   "cell_type": "code",
   "execution_count": 10,
   "id": "continental-programming",
   "metadata": {},
   "outputs": [],
   "source": [
    "layer_base  = layers.Flatten()(layer_base)\n",
    "layer_base  = layers.Dense(256, activation=\"relu\")(layer_base)\n",
    "output_base = layers.Dense(10, activation=\"softmax\")(layer_base)"
   ]
  },
  {
   "cell_type": "code",
   "execution_count": 11,
   "id": "attached-schema",
   "metadata": {},
   "outputs": [
    {
     "name": "stdout",
     "output_type": "stream",
     "text": [
      "Model: \"model\"\n",
      "_________________________________________________________________\n",
      "Layer (type)                 Output Shape              Param #   \n",
      "=================================================================\n",
      "input_1 (InputLayer)         [(None, 32, 32, 3)]       0         \n",
      "_________________________________________________________________\n",
      "conv2d (Conv2D)              (None, 29, 29, 32)        1568      \n",
      "_________________________________________________________________\n",
      "max_pooling2d (MaxPooling2D) (None, 14, 14, 32)        0         \n",
      "_________________________________________________________________\n",
      "conv2d_1 (Conv2D)            (None, 12, 12, 64)        18496     \n",
      "_________________________________________________________________\n",
      "max_pooling2d_1 (MaxPooling2 (None, 6, 6, 64)          0         \n",
      "_________________________________________________________________\n",
      "flatten (Flatten)            (None, 2304)              0         \n",
      "_________________________________________________________________\n",
      "dense (Dense)                (None, 256)               590080    \n",
      "_________________________________________________________________\n",
      "dense_1 (Dense)              (None, 10)                2570      \n",
      "=================================================================\n",
      "Total params: 612,714\n",
      "Trainable params: 612,714\n",
      "Non-trainable params: 0\n",
      "_________________________________________________________________\n"
     ]
    }
   ],
   "source": [
    "model_base = models.Model(input_base, output_base)\n",
    "model_base.summary()"
   ]
  },
  {
   "cell_type": "code",
   "execution_count": 12,
   "id": "south-double",
   "metadata": {},
   "outputs": [],
   "source": [
    "model_base.compile(\n",
    "    loss=losses.CategoricalCrossentropy(),\n",
    "    optimizer=optimizers.Adam(),\n",
    "    metrics=[\"accuracy\"],\n",
    ")"
   ]
  },
  {
   "cell_type": "code",
   "execution_count": 13,
   "id": "contrary-angle",
   "metadata": {},
   "outputs": [
    {
     "name": "stdout",
     "output_type": "stream",
     "text": [
      "Epoch 1/50\n",
      "196/196 [==============================] - 12s 64ms/step - loss: 1.6088 - accuracy: 0.4208 - val_loss: 1.3854 - val_accuracy: 0.5149\n",
      "Epoch 2/50\n",
      "196/196 [==============================] - 1s 5ms/step - loss: 1.2574 - accuracy: 0.5553 - val_loss: 1.1948 - val_accuracy: 0.5804\n",
      "Epoch 3/50\n",
      "196/196 [==============================] - 1s 5ms/step - loss: 1.1141 - accuracy: 0.6092 - val_loss: 1.0750 - val_accuracy: 0.6250\n",
      "Epoch 4/50\n",
      "196/196 [==============================] - 1s 5ms/step - loss: 1.0121 - accuracy: 0.6469 - val_loss: 1.0016 - val_accuracy: 0.6542\n",
      "Epoch 5/50\n",
      "196/196 [==============================] - 1s 5ms/step - loss: 0.9474 - accuracy: 0.6695 - val_loss: 1.0343 - val_accuracy: 0.6397\n",
      "Epoch 6/50\n",
      "196/196 [==============================] - 1s 5ms/step - loss: 0.8965 - accuracy: 0.6885 - val_loss: 0.9521 - val_accuracy: 0.6706\n",
      "Epoch 7/50\n",
      "196/196 [==============================] - 1s 5ms/step - loss: 0.8289 - accuracy: 0.7150 - val_loss: 0.9232 - val_accuracy: 0.6846\n",
      "Epoch 8/50\n",
      "196/196 [==============================] - 1s 5ms/step - loss: 0.7785 - accuracy: 0.7322 - val_loss: 0.9087 - val_accuracy: 0.6855\n",
      "Epoch 9/50\n",
      "196/196 [==============================] - 1s 5ms/step - loss: 0.7219 - accuracy: 0.7505 - val_loss: 0.8879 - val_accuracy: 0.6970\n",
      "Epoch 10/50\n",
      "196/196 [==============================] - 1s 5ms/step - loss: 0.6861 - accuracy: 0.7632 - val_loss: 0.8706 - val_accuracy: 0.7017\n",
      "Epoch 11/50\n",
      "196/196 [==============================] - 1s 5ms/step - loss: 0.6384 - accuracy: 0.7805 - val_loss: 0.9208 - val_accuracy: 0.6916\n",
      "Epoch 12/50\n",
      "196/196 [==============================] - 1s 5ms/step - loss: 0.5971 - accuracy: 0.7946 - val_loss: 0.8819 - val_accuracy: 0.7050\n",
      "Epoch 13/50\n",
      "196/196 [==============================] - 1s 5ms/step - loss: 0.5545 - accuracy: 0.8090 - val_loss: 0.8765 - val_accuracy: 0.7051\n",
      "Epoch 14/50\n",
      "196/196 [==============================] - 1s 5ms/step - loss: 0.5076 - accuracy: 0.8258 - val_loss: 0.8987 - val_accuracy: 0.7039\n",
      "Epoch 15/50\n",
      "196/196 [==============================] - 1s 5ms/step - loss: 0.4697 - accuracy: 0.8390 - val_loss: 0.9076 - val_accuracy: 0.7117\n",
      "Epoch 16/50\n",
      "196/196 [==============================] - 1s 5ms/step - loss: 0.4216 - accuracy: 0.8575 - val_loss: 0.9360 - val_accuracy: 0.7009\n",
      "Epoch 17/50\n",
      "196/196 [==============================] - 1s 5ms/step - loss: 0.3862 - accuracy: 0.8695 - val_loss: 1.0037 - val_accuracy: 0.6918\n",
      "Epoch 18/50\n",
      "196/196 [==============================] - 1s 5ms/step - loss: 0.3502 - accuracy: 0.8827 - val_loss: 1.0162 - val_accuracy: 0.6949\n",
      "Epoch 19/50\n",
      "196/196 [==============================] - 1s 5ms/step - loss: 0.3090 - accuracy: 0.8977 - val_loss: 0.9814 - val_accuracy: 0.7150\n",
      "Epoch 20/50\n",
      "196/196 [==============================] - 1s 5ms/step - loss: 0.2821 - accuracy: 0.9067 - val_loss: 1.0321 - val_accuracy: 0.7065\n",
      "Epoch 21/50\n",
      "196/196 [==============================] - 1s 5ms/step - loss: 0.2420 - accuracy: 0.9205 - val_loss: 1.0963 - val_accuracy: 0.7078\n",
      "Epoch 22/50\n",
      "196/196 [==============================] - 1s 5ms/step - loss: 0.2101 - accuracy: 0.9321 - val_loss: 1.1558 - val_accuracy: 0.6973\n",
      "Epoch 23/50\n",
      "196/196 [==============================] - 1s 5ms/step - loss: 0.1900 - accuracy: 0.9396 - val_loss: 1.1941 - val_accuracy: 0.7037\n",
      "Epoch 24/50\n",
      "196/196 [==============================] - 1s 5ms/step - loss: 0.1569 - accuracy: 0.9521 - val_loss: 1.2546 - val_accuracy: 0.7047\n",
      "Epoch 25/50\n",
      "196/196 [==============================] - 1s 5ms/step - loss: 0.1294 - accuracy: 0.9618 - val_loss: 1.3138 - val_accuracy: 0.7027\n",
      "Epoch 26/50\n",
      "196/196 [==============================] - 1s 5ms/step - loss: 0.1134 - accuracy: 0.9665 - val_loss: 1.3431 - val_accuracy: 0.7054\n",
      "Epoch 27/50\n",
      "196/196 [==============================] - 1s 5ms/step - loss: 0.1048 - accuracy: 0.9685 - val_loss: 1.4488 - val_accuracy: 0.6985\n",
      "Epoch 28/50\n",
      "196/196 [==============================] - 1s 5ms/step - loss: 0.0845 - accuracy: 0.9769 - val_loss: 1.4581 - val_accuracy: 0.7015\n",
      "Epoch 29/50\n",
      "196/196 [==============================] - 1s 5ms/step - loss: 0.0655 - accuracy: 0.9837 - val_loss: 1.5501 - val_accuracy: 0.6994\n",
      "Epoch 30/50\n",
      "196/196 [==============================] - 1s 5ms/step - loss: 0.0552 - accuracy: 0.9873 - val_loss: 1.6221 - val_accuracy: 0.7002\n",
      "Epoch 31/50\n",
      "196/196 [==============================] - 1s 5ms/step - loss: 0.0466 - accuracy: 0.9898 - val_loss: 1.6906 - val_accuracy: 0.6958\n",
      "Epoch 32/50\n",
      "196/196 [==============================] - 1s 5ms/step - loss: 0.0604 - accuracy: 0.9835 - val_loss: 1.7238 - val_accuracy: 0.6962\n",
      "Epoch 33/50\n",
      "196/196 [==============================] - 1s 5ms/step - loss: 0.0437 - accuracy: 0.9896 - val_loss: 1.8339 - val_accuracy: 0.6954\n",
      "Epoch 34/50\n",
      "196/196 [==============================] - 1s 5ms/step - loss: 0.0573 - accuracy: 0.9826 - val_loss: 1.8803 - val_accuracy: 0.6953\n",
      "Epoch 35/50\n",
      "196/196 [==============================] - 1s 5ms/step - loss: 0.0578 - accuracy: 0.9825 - val_loss: 1.8932 - val_accuracy: 0.6975\n",
      "Epoch 36/50\n",
      "196/196 [==============================] - 1s 5ms/step - loss: 0.0744 - accuracy: 0.9745 - val_loss: 1.9558 - val_accuracy: 0.6939\n",
      "Epoch 37/50\n",
      "196/196 [==============================] - 1s 5ms/step - loss: 0.0319 - accuracy: 0.9916 - val_loss: 2.0333 - val_accuracy: 0.7015\n",
      "Epoch 38/50\n",
      "196/196 [==============================] - 1s 5ms/step - loss: 0.0157 - accuracy: 0.9975 - val_loss: 2.0249 - val_accuracy: 0.7008\n",
      "Epoch 39/50\n",
      "196/196 [==============================] - 1s 5ms/step - loss: 0.0081 - accuracy: 0.9993 - val_loss: 2.1240 - val_accuracy: 0.7012\n",
      "Epoch 40/50\n",
      "196/196 [==============================] - 1s 5ms/step - loss: 0.0052 - accuracy: 0.9998 - val_loss: 2.1327 - val_accuracy: 0.7037\n",
      "Epoch 41/50\n",
      "196/196 [==============================] - 1s 5ms/step - loss: 0.0029 - accuracy: 0.9999 - val_loss: 2.1783 - val_accuracy: 0.7070\n",
      "Epoch 42/50\n",
      "196/196 [==============================] - 1s 5ms/step - loss: 0.0022 - accuracy: 1.0000 - val_loss: 2.2166 - val_accuracy: 0.7068\n",
      "Epoch 43/50\n",
      "196/196 [==============================] - 1s 5ms/step - loss: 0.0017 - accuracy: 1.0000 - val_loss: 2.2573 - val_accuracy: 0.7077\n",
      "Epoch 44/50\n",
      "196/196 [==============================] - 1s 5ms/step - loss: 0.0014 - accuracy: 1.0000 - val_loss: 2.2833 - val_accuracy: 0.7083\n",
      "Epoch 45/50\n",
      "196/196 [==============================] - 1s 5ms/step - loss: 0.0012 - accuracy: 1.0000 - val_loss: 2.3243 - val_accuracy: 0.7082\n",
      "Epoch 46/50\n",
      "196/196 [==============================] - 1s 5ms/step - loss: 0.0014 - accuracy: 0.9999 - val_loss: 2.3427 - val_accuracy: 0.7037\n",
      "Epoch 47/50\n",
      "196/196 [==============================] - 1s 5ms/step - loss: 0.2775 - accuracy: 0.9090 - val_loss: 1.8684 - val_accuracy: 0.6938\n",
      "Epoch 48/50\n",
      "196/196 [==============================] - 1s 5ms/step - loss: 0.0971 - accuracy: 0.9661 - val_loss: 1.9658 - val_accuracy: 0.6937\n",
      "Epoch 49/50\n",
      "196/196 [==============================] - 1s 5ms/step - loss: 0.0392 - accuracy: 0.9881 - val_loss: 2.1385 - val_accuracy: 0.6948\n",
      "Epoch 50/50\n",
      "196/196 [==============================] - 1s 5ms/step - loss: 0.0252 - accuracy: 0.9931 - val_loss: 2.1108 - val_accuracy: 0.7014\n"
     ]
    }
   ],
   "source": [
    "history_base = model_base.fit(\n",
    "    train_data_proc, train_label_proc,\n",
    "    validation_data=(test_data_proc, test_label_proc),\n",
    "    batch_size=256,\n",
    "    epochs=50\n",
    ")"
   ]
  },
  {
   "cell_type": "code",
   "execution_count": 14,
   "id": "conditional-messaging",
   "metadata": {},
   "outputs": [
    {
     "data": {
      "text/plain": [
       "<AxesSubplot:>"
      ]
     },
     "execution_count": 14,
     "metadata": {},
     "output_type": "execute_result"
    },
    {
     "data": {
      "image/png": "[encoded data removed]",
      "text/plain": [
       "<Figure size 432x288 with 1 Axes>"
      ]
     },
     "metadata": {
      "needs_background": "light"
     },
     "output_type": "display_data"
    }
   ],
   "source": [
    "pd.DataFrame(history_base.history).plot()"
   ]
  },
  {
   "cell_type": "markdown",
   "id": "removed-aruba",
   "metadata": {},
   "source": [
    "# Advanced Model"
   ]
  },
  {
   "cell_type": "code",
   "execution_count": 15,
   "id": "southeast-alert",
   "metadata": {},
   "outputs": [],
   "source": [
    "input_adv = layers.Input((32, 32, 3))"
   ]
  },
  {
   "cell_type": "code",
   "execution_count": 16,
   "id": "acknowledged-young",
   "metadata": {},
   "outputs": [],
   "source": [
    "layer_adv = layers.Conv2D(32, 4, activation=\"relu\")(input_adv)\n",
    "layer_adv = layers.Conv2D(32, 4, activation=\"relu\")(input_adv)\n",
    "layer_adv = layers.MaxPool2D(2)(layer_adv)\n",
    "layer_adv = layers.Conv2D(64, 3, padding=\"same\", activation=\"relu\")(layer_adv)\n",
    "layer_adv = layers.Conv2D(64, 3, padding=\"same\", activation=\"relu\")(layer_adv)\n",
    "layer_adv = layers.MaxPool2D(2)(layer_adv)\n",
    "layer_adv = layers.Conv2D(128, 3, padding=\"same\", dilation_rate=2, activation=\"relu\")(layer_adv)\n",
    "layer_adv  = layers.GlobalAveragePooling2D()(layer_adv)"
   ]
  },
  {
   "cell_type": "code",
   "execution_count": 17,
   "id": "mediterranean-pepper",
   "metadata": {},
   "outputs": [],
   "source": [
    "output_adv = layers.Dense(10, activation=\"softmax\")(layer_adv)"
   ]
  },
  {
   "cell_type": "code",
   "execution_count": 18,
   "id": "excellent-flashing",
   "metadata": {},
   "outputs": [
    {
     "name": "stdout",
     "output_type": "stream",
     "text": [
      "Model: \"model_1\"\n",
      "_________________________________________________________________\n",
      "Layer (type)                 Output Shape              Param #   \n",
      "=================================================================\n",
      "input_2 (InputLayer)         [(None, 32, 32, 3)]       0         \n",
      "_________________________________________________________________\n",
      "conv2d_3 (Conv2D)            (None, 29, 29, 32)        1568      \n",
      "_________________________________________________________________\n",
      "max_pooling2d_2 (MaxPooling2 (None, 14, 14, 32)        0         \n",
      "_________________________________________________________________\n",
      "conv2d_4 (Conv2D)            (None, 14, 14, 64)        18496     \n",
      "_________________________________________________________________\n",
      "conv2d_5 (Conv2D)            (None, 14, 14, 64)        36928     \n",
      "_________________________________________________________________\n",
      "max_pooling2d_3 (MaxPooling2 (None, 7, 7, 64)          0         \n",
      "_________________________________________________________________\n",
      "conv2d_6 (Conv2D)            (None, 7, 7, 128)         73856     \n",
      "_________________________________________________________________\n",
      "global_average_pooling2d (Gl (None, 128)               0         \n",
      "_________________________________________________________________\n",
      "dense_2 (Dense)              (None, 10)                1290      \n",
      "=================================================================\n",
      "Total params: 132,138\n",
      "Trainable params: 132,138\n",
      "Non-trainable params: 0\n",
      "_________________________________________________________________\n"
     ]
    }
   ],
   "source": [
    "model_adv = models.Model(input_adv, output_adv)\n",
    "model_adv.summary()"
   ]
  },
  {
   "cell_type": "code",
   "execution_count": 19,
   "id": "vital-maldives",
   "metadata": {},
   "outputs": [],
   "source": [
    "model_adv.compile(\n",
    "    loss=losses.CategoricalCrossentropy(),\n",
    "    optimizer=optimizers.Adam(),\n",
    "    metrics=[\"accuracy\"],\n",
    ")"
   ]
  },
  {
   "cell_type": "code",
   "execution_count": 20,
   "id": "chief-quick",
   "metadata": {},
   "outputs": [
    {
     "name": "stdout",
     "output_type": "stream",
     "text": [
      "Epoch 1/50\n",
      "196/196 [==============================] - 35s 177ms/step - loss: 1.8724 - accuracy: 0.3052 - val_loss: 1.6735 - val_accuracy: 0.3865\n",
      "Epoch 2/50\n",
      "196/196 [==============================] - 2s 8ms/step - loss: 1.5681 - accuracy: 0.4219 - val_loss: 1.5196 - val_accuracy: 0.4503\n",
      "Epoch 3/50\n",
      "196/196 [==============================] - 2s 8ms/step - loss: 1.4471 - accuracy: 0.4733 - val_loss: 1.3833 - val_accuracy: 0.5003\n",
      "Epoch 4/50\n",
      "196/196 [==============================] - 2s 8ms/step - loss: 1.3403 - accuracy: 0.5180 - val_loss: 1.2662 - val_accuracy: 0.5458\n",
      "Epoch 5/50\n",
      "196/196 [==============================] - 2s 8ms/step - loss: 1.2587 - accuracy: 0.5468 - val_loss: 1.2463 - val_accuracy: 0.5547\n",
      "Epoch 6/50\n",
      "196/196 [==============================] - 2s 8ms/step - loss: 1.1898 - accuracy: 0.5759 - val_loss: 1.1620 - val_accuracy: 0.5908\n",
      "Epoch 7/50\n",
      "196/196 [==============================] - 2s 8ms/step - loss: 1.1378 - accuracy: 0.5957 - val_loss: 1.1176 - val_accuracy: 0.6012\n",
      "Epoch 8/50\n",
      "196/196 [==============================] - 2s 8ms/step - loss: 1.0876 - accuracy: 0.6135 - val_loss: 1.1200 - val_accuracy: 0.6088\n",
      "Epoch 9/50\n",
      "196/196 [==============================] - 2s 8ms/step - loss: 1.0421 - accuracy: 0.6327 - val_loss: 1.0402 - val_accuracy: 0.6367\n",
      "Epoch 10/50\n",
      "196/196 [==============================] - 2s 8ms/step - loss: 1.0077 - accuracy: 0.6454 - val_loss: 0.9867 - val_accuracy: 0.6540\n",
      "Epoch 11/50\n",
      "196/196 [==============================] - 2s 8ms/step - loss: 0.9731 - accuracy: 0.6582 - val_loss: 0.9715 - val_accuracy: 0.6545\n",
      "Epoch 12/50\n",
      "196/196 [==============================] - 2s 8ms/step - loss: 0.9454 - accuracy: 0.6673 - val_loss: 0.9755 - val_accuracy: 0.6506\n",
      "Epoch 13/50\n",
      "196/196 [==============================] - 2s 8ms/step - loss: 0.9306 - accuracy: 0.6749 - val_loss: 0.9206 - val_accuracy: 0.6791\n",
      "Epoch 14/50\n",
      "196/196 [==============================] - 2s 9ms/step - loss: 0.9024 - accuracy: 0.6848 - val_loss: 0.9122 - val_accuracy: 0.6834\n",
      "Epoch 15/50\n",
      "196/196 [==============================] - 2s 8ms/step - loss: 0.8754 - accuracy: 0.6943 - val_loss: 0.8876 - val_accuracy: 0.6876\n",
      "Epoch 16/50\n",
      "196/196 [==============================] - 2s 8ms/step - loss: 0.8553 - accuracy: 0.7035 - val_loss: 0.8773 - val_accuracy: 0.6929\n",
      "Epoch 17/50\n",
      "196/196 [==============================] - 2s 8ms/step - loss: 0.8380 - accuracy: 0.7079 - val_loss: 0.9392 - val_accuracy: 0.6654\n",
      "Epoch 18/50\n",
      "196/196 [==============================] - 2s 8ms/step - loss: 0.8175 - accuracy: 0.7139 - val_loss: 0.8965 - val_accuracy: 0.6868\n",
      "Epoch 19/50\n",
      "196/196 [==============================] - 2s 8ms/step - loss: 0.7972 - accuracy: 0.7234 - val_loss: 0.8495 - val_accuracy: 0.7030\n",
      "Epoch 20/50\n",
      "196/196 [==============================] - 2s 8ms/step - loss: 0.7835 - accuracy: 0.7258 - val_loss: 0.8017 - val_accuracy: 0.7241\n",
      "Epoch 21/50\n",
      "196/196 [==============================] - 2s 8ms/step - loss: 0.7655 - accuracy: 0.7336 - val_loss: 0.8063 - val_accuracy: 0.7157\n",
      "Epoch 22/50\n",
      "196/196 [==============================] - 2s 8ms/step - loss: 0.7429 - accuracy: 0.7410 - val_loss: 0.8159 - val_accuracy: 0.7177\n",
      "Epoch 23/50\n",
      "196/196 [==============================] - 2s 8ms/step - loss: 0.7360 - accuracy: 0.7442 - val_loss: 0.8157 - val_accuracy: 0.7154\n",
      "Epoch 24/50\n",
      "196/196 [==============================] - 2s 8ms/step - loss: 0.7141 - accuracy: 0.7526 - val_loss: 0.8033 - val_accuracy: 0.7206\n",
      "Epoch 25/50\n",
      "196/196 [==============================] - 2s 8ms/step - loss: 0.6952 - accuracy: 0.7592 - val_loss: 0.8406 - val_accuracy: 0.7129\n",
      "Epoch 26/50\n",
      "196/196 [==============================] - 2s 8ms/step - loss: 0.6843 - accuracy: 0.7622 - val_loss: 0.7899 - val_accuracy: 0.7277\n",
      "Epoch 27/50\n",
      "196/196 [==============================] - 2s 8ms/step - loss: 0.6751 - accuracy: 0.7652 - val_loss: 0.7332 - val_accuracy: 0.7469\n",
      "Epoch 28/50\n",
      "196/196 [==============================] - 2s 8ms/step - loss: 0.6484 - accuracy: 0.7738 - val_loss: 0.7342 - val_accuracy: 0.7494\n",
      "Epoch 29/50\n",
      "196/196 [==============================] - 2s 8ms/step - loss: 0.6437 - accuracy: 0.7771 - val_loss: 0.7532 - val_accuracy: 0.7408\n",
      "Epoch 30/50\n",
      "196/196 [==============================] - 2s 8ms/step - loss: 0.6305 - accuracy: 0.7807 - val_loss: 0.7456 - val_accuracy: 0.7400\n",
      "Epoch 31/50\n",
      "196/196 [==============================] - 2s 8ms/step - loss: 0.6085 - accuracy: 0.7878 - val_loss: 0.7515 - val_accuracy: 0.7363\n",
      "Epoch 32/50\n",
      "196/196 [==============================] - 2s 8ms/step - loss: 0.6051 - accuracy: 0.7909 - val_loss: 0.7566 - val_accuracy: 0.7398\n",
      "Epoch 33/50\n",
      "196/196 [==============================] - 2s 8ms/step - loss: 0.5876 - accuracy: 0.7950 - val_loss: 0.7202 - val_accuracy: 0.7511\n",
      "Epoch 34/50\n",
      "196/196 [==============================] - 2s 8ms/step - loss: 0.5857 - accuracy: 0.7954 - val_loss: 0.7576 - val_accuracy: 0.7417\n",
      "Epoch 35/50\n",
      "196/196 [==============================] - 2s 8ms/step - loss: 0.5671 - accuracy: 0.8044 - val_loss: 0.6965 - val_accuracy: 0.7590\n",
      "Epoch 36/50\n",
      "196/196 [==============================] - 2s 8ms/step - loss: 0.5539 - accuracy: 0.8087 - val_loss: 0.6866 - val_accuracy: 0.7686\n",
      "Epoch 37/50\n",
      "196/196 [==============================] - 2s 8ms/step - loss: 0.5421 - accuracy: 0.8103 - val_loss: 0.7230 - val_accuracy: 0.7513\n",
      "Epoch 38/50\n",
      "196/196 [==============================] - 2s 8ms/step - loss: 0.5355 - accuracy: 0.8127 - val_loss: 0.6798 - val_accuracy: 0.7689\n",
      "Epoch 39/50\n",
      "196/196 [==============================] - 2s 8ms/step - loss: 0.5188 - accuracy: 0.8199 - val_loss: 0.6916 - val_accuracy: 0.7645\n",
      "Epoch 40/50\n",
      "196/196 [==============================] - 2s 8ms/step - loss: 0.5096 - accuracy: 0.8209 - val_loss: 0.6938 - val_accuracy: 0.7638\n",
      "Epoch 41/50\n",
      "196/196 [==============================] - 2s 8ms/step - loss: 0.4995 - accuracy: 0.8263 - val_loss: 0.7145 - val_accuracy: 0.7581\n",
      "Epoch 42/50\n",
      "196/196 [==============================] - 2s 8ms/step - loss: 0.5006 - accuracy: 0.8270 - val_loss: 0.6672 - val_accuracy: 0.7711\n",
      "Epoch 43/50\n",
      "196/196 [==============================] - 2s 8ms/step - loss: 0.4840 - accuracy: 0.8318 - val_loss: 0.7019 - val_accuracy: 0.7645\n",
      "Epoch 44/50\n",
      "196/196 [==============================] - 2s 8ms/step - loss: 0.4830 - accuracy: 0.8322 - val_loss: 0.7018 - val_accuracy: 0.7574\n",
      "Epoch 45/50\n",
      "196/196 [==============================] - 2s 8ms/step - loss: 0.4655 - accuracy: 0.8373 - val_loss: 0.6553 - val_accuracy: 0.7785\n",
      "Epoch 46/50\n",
      "196/196 [==============================] - 2s 8ms/step - loss: 0.4617 - accuracy: 0.8392 - val_loss: 0.6536 - val_accuracy: 0.7784\n",
      "Epoch 47/50\n",
      "196/196 [==============================] - 2s 8ms/step - loss: 0.4394 - accuracy: 0.8487 - val_loss: 0.6511 - val_accuracy: 0.7794\n",
      "Epoch 48/50\n",
      "196/196 [==============================] - 2s 8ms/step - loss: 0.4373 - accuracy: 0.8488 - val_loss: 0.6532 - val_accuracy: 0.7783\n",
      "Epoch 49/50\n",
      "196/196 [==============================] - 2s 8ms/step - loss: 0.4306 - accuracy: 0.8514 - val_loss: 0.7069 - val_accuracy: 0.7658\n",
      "Epoch 50/50\n",
      "196/196 [==============================] - 2s 8ms/step - loss: 0.4204 - accuracy: 0.8534 - val_loss: 0.7644 - val_accuracy: 0.7507\n"
     ]
    }
   ],
   "source": [
    "history_dev = model_adv.fit(\n",
    "    train_data_proc, train_label_proc,\n",
    "    validation_data=(test_data_proc, test_label_proc),\n",
    "    batch_size=256,\n",
    "    epochs=50\n",
    ")"
   ]
  },
  {
   "cell_type": "code",
   "execution_count": 21,
   "id": "connected-vatican",
   "metadata": {},
   "outputs": [
    {
     "data": {
      "text/plain": [
       "<AxesSubplot:>"
      ]
     },
     "execution_count": 21,
     "metadata": {},
     "output_type": "execute_result"
    },
    {
     "data": {
      "image/png": "[encoded data removed]",
      "text/plain": [
       "<Figure size 432x288 with 1 Axes>"
      ]
     },
     "metadata": {
      "needs_background": "light"
     },
     "output_type": "display_data"
    }
   ],
   "source": [
    "pd.DataFrame(history_dev.history).plot()"
   ]
  },
  {
   "cell_type": "markdown",
   "id": "random-notice",
   "metadata": {},
   "source": [
    "# Drop-Out Model"
   ]
  },
  {
   "cell_type": "code",
   "execution_count": 22,
   "id": "aquatic-lawsuit",
   "metadata": {},
   "outputs": [],
   "source": [
    "input_dout = layers.Input((32, 32, 3))"
   ]
  },
  {
   "cell_type": "code",
   "execution_count": 23,
   "id": "realistic-seattle",
   "metadata": {},
   "outputs": [],
   "source": [
    "layer_dout = layers.Conv2D(32, 4, activation=\"relu\")(input_dout)\n",
    "layer_dout = layers.Conv2D(32, 4, activation=\"relu\")(layer_dout)\n",
    "layer_dout = layers.MaxPool2D(2)(layer_dout)\n",
    "layer_dout = layers.Dropout(0.4)(layer_dout)\n",
    "layer_dout = layers.Conv2D(64, 3, padding=\"same\", activation=\"relu\")(layer_dout)\n",
    "layer_dout = layers.Conv2D(64, 3, padding=\"same\", activation=\"relu\")(layer_dout)\n",
    "layer_dout = layers.MaxPool2D(2)(layer_dout)\n",
    "layer_dout = layers.Dropout(0.4)(layer_dout)\n",
    "layer_dout = layers.Conv2D(128, 3, padding=\"same\", dilation_rate=2, activation=\"relu\")(layer_dout)\n",
    "layer_dout  = layers.GlobalAveragePooling2D()(layer_dout)"
   ]
  },
  {
   "cell_type": "code",
   "execution_count": 24,
   "id": "chubby-organization",
   "metadata": {},
   "outputs": [],
   "source": [
    "output_dout = layers.Dense(10, activation=\"softmax\")(layer_dout)"
   ]
  },
  {
   "cell_type": "code",
   "execution_count": 25,
   "id": "lesbian-vaccine",
   "metadata": {},
   "outputs": [
    {
     "name": "stdout",
     "output_type": "stream",
     "text": [
      "Model: \"model_2\"\n",
      "_________________________________________________________________\n",
      "Layer (type)                 Output Shape              Param #   \n",
      "=================================================================\n",
      "input_3 (InputLayer)         [(None, 32, 32, 3)]       0         \n",
      "_________________________________________________________________\n",
      "conv2d_7 (Conv2D)            (None, 29, 29, 32)        1568      \n",
      "_________________________________________________________________\n",
      "conv2d_8 (Conv2D)            (None, 26, 26, 32)        16416     \n",
      "_________________________________________________________________\n",
      "max_pooling2d_4 (MaxPooling2 (None, 13, 13, 32)        0         \n",
      "_________________________________________________________________\n",
      "dropout (Dropout)            (None, 13, 13, 32)        0         \n",
      "_________________________________________________________________\n",
      "conv2d_9 (Conv2D)            (None, 13, 13, 64)        18496     \n",
      "_________________________________________________________________\n",
      "conv2d_10 (Conv2D)           (None, 13, 13, 64)        36928     \n",
      "_________________________________________________________________\n",
      "max_pooling2d_5 (MaxPooling2 (None, 6, 6, 64)          0         \n",
      "_________________________________________________________________\n",
      "dropout_1 (Dropout)          (None, 6, 6, 64)          0         \n",
      "_________________________________________________________________\n",
      "conv2d_11 (Conv2D)           (None, 6, 6, 128)         73856     \n",
      "_________________________________________________________________\n",
      "global_average_pooling2d_1 ( (None, 128)               0         \n",
      "_________________________________________________________________\n",
      "dense_3 (Dense)              (None, 10)                1290      \n",
      "=================================================================\n",
      "Total params: 148,554\n",
      "Trainable params: 148,554\n",
      "Non-trainable params: 0\n",
      "_________________________________________________________________\n"
     ]
    }
   ],
   "source": [
    "model_dout = models.Model(input_dout, output_dout)\n",
    "model_dout.summary()"
   ]
  },
  {
   "cell_type": "code",
   "execution_count": 26,
   "id": "orange-universal",
   "metadata": {},
   "outputs": [],
   "source": [
    "model_dout.compile(\n",
    "    loss=losses.CategoricalCrossentropy(),\n",
    "    optimizer=optimizers.Adam(),\n",
    "    metrics=[\"accuracy\"],\n",
    ")"
   ]
  },
  {
   "cell_type": "code",
   "execution_count": 27,
   "id": "bottom-phoenix",
   "metadata": {},
   "outputs": [
    {
     "name": "stdout",
     "output_type": "stream",
     "text": [
      "Epoch 1/50\n",
      "196/196 [==============================] - 47s 239ms/step - loss: 1.8561 - accuracy: 0.3061 - val_loss: 1.5895 - val_accuracy: 0.4129\n",
      "Epoch 2/50\n",
      "196/196 [==============================] - 2s 10ms/step - loss: 1.5229 - accuracy: 0.4383 - val_loss: 1.4830 - val_accuracy: 0.4529\n",
      "Epoch 3/50\n",
      "196/196 [==============================] - 2s 10ms/step - loss: 1.4151 - accuracy: 0.4845 - val_loss: 1.3331 - val_accuracy: 0.5143\n",
      "Epoch 4/50\n",
      "196/196 [==============================] - 2s 10ms/step - loss: 1.3234 - accuracy: 0.5207 - val_loss: 1.2393 - val_accuracy: 0.5565\n",
      "Epoch 5/50\n",
      "196/196 [==============================] - 2s 10ms/step - loss: 1.2542 - accuracy: 0.5492 - val_loss: 1.1793 - val_accuracy: 0.5759\n",
      "Epoch 6/50\n",
      "196/196 [==============================] - 2s 10ms/step - loss: 1.1843 - accuracy: 0.5783 - val_loss: 1.1256 - val_accuracy: 0.5997\n",
      "Epoch 7/50\n",
      "196/196 [==============================] - 2s 10ms/step - loss: 1.1229 - accuracy: 0.6023 - val_loss: 1.0958 - val_accuracy: 0.6076\n",
      "Epoch 8/50\n",
      "196/196 [==============================] - 2s 10ms/step - loss: 1.0912 - accuracy: 0.6151 - val_loss: 1.1006 - val_accuracy: 0.6114\n",
      "Epoch 9/50\n",
      "196/196 [==============================] - 2s 10ms/step - loss: 1.0585 - accuracy: 0.6260 - val_loss: 0.9812 - val_accuracy: 0.6542\n",
      "Epoch 10/50\n",
      "196/196 [==============================] - 2s 10ms/step - loss: 1.0098 - accuracy: 0.6453 - val_loss: 0.9470 - val_accuracy: 0.6677\n",
      "Epoch 11/50\n",
      "196/196 [==============================] - 2s 10ms/step - loss: 0.9740 - accuracy: 0.6571 - val_loss: 0.9473 - val_accuracy: 0.6644\n",
      "Epoch 12/50\n",
      "196/196 [==============================] - 2s 10ms/step - loss: 0.9568 - accuracy: 0.6621 - val_loss: 0.8939 - val_accuracy: 0.6853\n",
      "Epoch 13/50\n",
      "196/196 [==============================] - 2s 10ms/step - loss: 0.9240 - accuracy: 0.6771 - val_loss: 0.8885 - val_accuracy: 0.6864\n",
      "Epoch 14/50\n",
      "196/196 [==============================] - 2s 10ms/step - loss: 0.8924 - accuracy: 0.6865 - val_loss: 0.8627 - val_accuracy: 0.7011\n",
      "Epoch 15/50\n",
      "196/196 [==============================] - 2s 10ms/step - loss: 0.8587 - accuracy: 0.6982 - val_loss: 0.8226 - val_accuracy: 0.7151\n",
      "Epoch 16/50\n",
      "196/196 [==============================] - 2s 10ms/step - loss: 0.8444 - accuracy: 0.7038 - val_loss: 0.8273 - val_accuracy: 0.7172\n",
      "Epoch 17/50\n",
      "196/196 [==============================] - 2s 10ms/step - loss: 0.8215 - accuracy: 0.7123 - val_loss: 0.7780 - val_accuracy: 0.7311\n",
      "Epoch 18/50\n",
      "196/196 [==============================] - 2s 10ms/step - loss: 0.8088 - accuracy: 0.7169 - val_loss: 0.7573 - val_accuracy: 0.7393\n",
      "Epoch 19/50\n",
      "196/196 [==============================] - 2s 10ms/step - loss: 0.7826 - accuracy: 0.7270 - val_loss: 0.7309 - val_accuracy: 0.7460\n",
      "Epoch 20/50\n",
      "196/196 [==============================] - 2s 10ms/step - loss: 0.7631 - accuracy: 0.7334 - val_loss: 0.7476 - val_accuracy: 0.7441\n",
      "Epoch 21/50\n",
      "196/196 [==============================] - 2s 10ms/step - loss: 0.7616 - accuracy: 0.7334 - val_loss: 0.7611 - val_accuracy: 0.7398\n",
      "Epoch 22/50\n",
      "196/196 [==============================] - 2s 10ms/step - loss: 0.7421 - accuracy: 0.7427 - val_loss: 0.7486 - val_accuracy: 0.7410\n",
      "Epoch 23/50\n",
      "196/196 [==============================] - 2s 10ms/step - loss: 0.7195 - accuracy: 0.7490 - val_loss: 0.7032 - val_accuracy: 0.7610\n",
      "Epoch 24/50\n",
      "196/196 [==============================] - 2s 10ms/step - loss: 0.7107 - accuracy: 0.7544 - val_loss: 0.6802 - val_accuracy: 0.7648\n",
      "Epoch 25/50\n",
      "196/196 [==============================] - 2s 10ms/step - loss: 0.7083 - accuracy: 0.7511 - val_loss: 0.6780 - val_accuracy: 0.7651\n",
      "Epoch 26/50\n",
      "196/196 [==============================] - 2s 10ms/step - loss: 0.6907 - accuracy: 0.7599 - val_loss: 0.6876 - val_accuracy: 0.7649\n",
      "Epoch 27/50\n",
      "196/196 [==============================] - 2s 10ms/step - loss: 0.6802 - accuracy: 0.7630 - val_loss: 0.6668 - val_accuracy: 0.7699\n",
      "Epoch 28/50\n",
      "196/196 [==============================] - 2s 10ms/step - loss: 0.6726 - accuracy: 0.7657 - val_loss: 0.6697 - val_accuracy: 0.7665\n",
      "Epoch 29/50\n",
      "196/196 [==============================] - 2s 10ms/step - loss: 0.6562 - accuracy: 0.7704 - val_loss: 0.6285 - val_accuracy: 0.7822\n",
      "Epoch 30/50\n",
      "196/196 [==============================] - 2s 10ms/step - loss: 0.6494 - accuracy: 0.7715 - val_loss: 0.6359 - val_accuracy: 0.7798\n",
      "Epoch 31/50\n",
      "196/196 [==============================] - 2s 10ms/step - loss: 0.6355 - accuracy: 0.7778 - val_loss: 0.6382 - val_accuracy: 0.7827\n",
      "Epoch 32/50\n",
      "196/196 [==============================] - 2s 10ms/step - loss: 0.6343 - accuracy: 0.7774 - val_loss: 0.6435 - val_accuracy: 0.7773\n",
      "Epoch 33/50\n",
      "196/196 [==============================] - 2s 10ms/step - loss: 0.6242 - accuracy: 0.7835 - val_loss: 0.6394 - val_accuracy: 0.7814\n",
      "Epoch 34/50\n",
      "196/196 [==============================] - 2s 10ms/step - loss: 0.6162 - accuracy: 0.7850 - val_loss: 0.6304 - val_accuracy: 0.7890\n",
      "Epoch 35/50\n",
      "196/196 [==============================] - 2s 10ms/step - loss: 0.6072 - accuracy: 0.7872 - val_loss: 0.6116 - val_accuracy: 0.7907\n",
      "Epoch 36/50\n",
      "196/196 [==============================] - 2s 10ms/step - loss: 0.5994 - accuracy: 0.7891 - val_loss: 0.6159 - val_accuracy: 0.7916\n",
      "Epoch 37/50\n",
      "196/196 [==============================] - 2s 10ms/step - loss: 0.5888 - accuracy: 0.7935 - val_loss: 0.6010 - val_accuracy: 0.7923\n",
      "Epoch 38/50\n",
      "196/196 [==============================] - 2s 10ms/step - loss: 0.5840 - accuracy: 0.7939 - val_loss: 0.6134 - val_accuracy: 0.7905\n",
      "Epoch 39/50\n",
      "196/196 [==============================] - 2s 10ms/step - loss: 0.5783 - accuracy: 0.7986 - val_loss: 0.5996 - val_accuracy: 0.7937\n",
      "Epoch 40/50\n",
      "196/196 [==============================] - 2s 10ms/step - loss: 0.5725 - accuracy: 0.7977 - val_loss: 0.5865 - val_accuracy: 0.8004\n",
      "Epoch 41/50\n",
      "196/196 [==============================] - 2s 10ms/step - loss: 0.5663 - accuracy: 0.8016 - val_loss: 0.6111 - val_accuracy: 0.7909\n",
      "Epoch 42/50\n",
      "196/196 [==============================] - 2s 10ms/step - loss: 0.5584 - accuracy: 0.8052 - val_loss: 0.5904 - val_accuracy: 0.8001\n",
      "Epoch 43/50\n",
      "196/196 [==============================] - 2s 10ms/step - loss: 0.5490 - accuracy: 0.8072 - val_loss: 0.5884 - val_accuracy: 0.8009\n",
      "Epoch 44/50\n",
      "196/196 [==============================] - 2s 10ms/step - loss: 0.5427 - accuracy: 0.8104 - val_loss: 0.5962 - val_accuracy: 0.8015\n",
      "Epoch 45/50\n",
      "196/196 [==============================] - 2s 10ms/step - loss: 0.5386 - accuracy: 0.8102 - val_loss: 0.5937 - val_accuracy: 0.7939\n",
      "Epoch 46/50\n",
      "196/196 [==============================] - 2s 10ms/step - loss: 0.5433 - accuracy: 0.8111 - val_loss: 0.5730 - val_accuracy: 0.8072\n",
      "Epoch 47/50\n",
      "196/196 [==============================] - 2s 10ms/step - loss: 0.5348 - accuracy: 0.8122 - val_loss: 0.5791 - val_accuracy: 0.7998\n",
      "Epoch 48/50\n",
      "196/196 [==============================] - 2s 10ms/step - loss: 0.5202 - accuracy: 0.8168 - val_loss: 0.5759 - val_accuracy: 0.7997\n",
      "Epoch 49/50\n",
      "196/196 [==============================] - 2s 10ms/step - loss: 0.5185 - accuracy: 0.8172 - val_loss: 0.6124 - val_accuracy: 0.7958\n",
      "Epoch 50/50\n",
      "196/196 [==============================] - 2s 10ms/step - loss: 0.5111 - accuracy: 0.8207 - val_loss: 0.5826 - val_accuracy: 0.8046\n"
     ]
    }
   ],
   "source": [
    "history_dout = model_dout.fit(\n",
    "    train_data_proc, train_label_proc,\n",
    "    validation_data=(test_data_proc, test_label_proc),\n",
    "    batch_size=256,\n",
    "    epochs=50\n",
    ")"
   ]
  },
  {
   "cell_type": "code",
   "execution_count": 28,
   "id": "cubic-option",
   "metadata": {},
   "outputs": [
    {
     "data": {
      "text/plain": [
       "<AxesSubplot:>"
      ]
     },
     "execution_count": 28,
     "metadata": {},
     "output_type": "execute_result"
    },
    {
     "data": {
      "image/png": "[encoded data removed]",
      "text/plain": [
       "<Figure size 432x288 with 1 Axes>"
      ]
     },
     "metadata": {
      "needs_background": "light"
     },
     "output_type": "display_data"
    }
   ],
   "source": [
    "pd.DataFrame(history_dev.history).plot()"
   ]
  },
  {
   "cell_type": "markdown",
   "id": "mexican-explanation",
   "metadata": {
    "tags": []
   },
   "source": [
    "# Batch Normalization Model"
   ]
  },
  {
   "cell_type": "code",
   "execution_count": 29,
   "id": "reported-modeling",
   "metadata": {
    "tags": []
   },
   "outputs": [],
   "source": [
    "input_nor = layers.Input((32, 32, 3))"
   ]
  },
  {
   "cell_type": "code",
   "execution_count": 30,
   "id": "confused-linux",
   "metadata": {},
   "outputs": [],
   "source": [
    "layer_nor = layers.Conv2D(32, 4, activation=\"relu\")(input_nor)\n",
    "layer_nor = layers.BatchNormalization()(layer_nor)\n",
    "layer_nor = layers.Conv2D(32, 4, activation=\"relu\")(layer_nor)\n",
    "layer_nor = layers.BatchNormalization()(layer_nor)\n",
    "layer_nor = layers.MaxPool2D(2)(layer_nor)\n",
    "layer_nor = layers.Dropout(0.4)(layer_nor)\n",
    "layer_nor = layers.Conv2D(64, 3, padding=\"same\", activation=\"relu\")(layer_nor)\n",
    "layer_nor = layers.BatchNormalization()(layer_nor)\n",
    "layer_nor = layers.Conv2D(64, 3, padding=\"same\", activation=\"relu\")(layer_nor)\n",
    "layer_nor = layers.BatchNormalization()(layer_nor)\n",
    "layer_nor = layers.MaxPool2D(2)(layer_nor)\n",
    "layer_nor = layers.Dropout(0.4)(layer_nor)\n",
    "layer_nor = layers.Conv2D(128, 3, padding=\"same\", dilation_rate=2, activation=\"relu\")(layer_nor)\n",
    "layer_nor = layers.BatchNormalization()(layer_nor)\n",
    "layer_nor  = layers.GlobalAveragePooling2D()(layer_nor)"
   ]
  },
  {
   "cell_type": "code",
   "execution_count": 31,
   "id": "african-architect",
   "metadata": {},
   "outputs": [],
   "source": [
    "output_nor = layers.Dense(10, activation=\"softmax\")(layer_nor)"
   ]
  },
  {
   "cell_type": "code",
   "execution_count": 32,
   "id": "introductory-thermal",
   "metadata": {},
   "outputs": [
    {
     "name": "stdout",
     "output_type": "stream",
     "text": [
      "Model: \"model_3\"\n",
      "_________________________________________________________________\n",
      "Layer (type)                 Output Shape              Param #   \n",
      "=================================================================\n",
      "input_4 (InputLayer)         [(None, 32, 32, 3)]       0         \n",
      "_________________________________________________________________\n",
      "conv2d_12 (Conv2D)           (None, 29, 29, 32)        1568      \n",
      "_________________________________________________________________\n",
      "batch_normalization (BatchNo (None, 29, 29, 32)        128       \n",
      "_________________________________________________________________\n",
      "conv2d_13 (Conv2D)           (None, 26, 26, 32)        16416     \n",
      "_________________________________________________________________\n",
      "batch_normalization_1 (Batch (None, 26, 26, 32)        128       \n",
      "_________________________________________________________________\n",
      "max_pooling2d_6 (MaxPooling2 (None, 13, 13, 32)        0         \n",
      "_________________________________________________________________\n",
      "dropout_2 (Dropout)          (None, 13, 13, 32)        0         \n",
      "_________________________________________________________________\n",
      "conv2d_14 (Conv2D)           (None, 13, 13, 64)        18496     \n",
      "_________________________________________________________________\n",
      "batch_normalization_2 (Batch (None, 13, 13, 64)        256       \n",
      "_________________________________________________________________\n",
      "conv2d_15 (Conv2D)           (None, 13, 13, 64)        36928     \n",
      "_________________________________________________________________\n",
      "batch_normalization_3 (Batch (None, 13, 13, 64)        256       \n",
      "_________________________________________________________________\n",
      "max_pooling2d_7 (MaxPooling2 (None, 6, 6, 64)          0         \n",
      "_________________________________________________________________\n",
      "dropout_3 (Dropout)          (None, 6, 6, 64)          0         \n",
      "_________________________________________________________________\n",
      "conv2d_16 (Conv2D)           (None, 6, 6, 128)         73856     \n",
      "_________________________________________________________________\n",
      "batch_normalization_4 (Batch (None, 6, 6, 128)         512       \n",
      "_________________________________________________________________\n",
      "global_average_pooling2d_2 ( (None, 128)               0         \n",
      "_________________________________________________________________\n",
      "dense_4 (Dense)              (None, 10)                1290      \n",
      "=================================================================\n",
      "Total params: 149,834\n",
      "Trainable params: 149,194\n",
      "Non-trainable params: 640\n",
      "_________________________________________________________________\n"
     ]
    }
   ],
   "source": [
    "model_nor = models.Model(input_nor, output_nor)\n",
    "model_nor.summary()"
   ]
  },
  {
   "cell_type": "code",
   "execution_count": 33,
   "id": "peripheral-venezuela",
   "metadata": {},
   "outputs": [],
   "source": [
    "model_nor.compile(\n",
    "    loss=losses.CategoricalCrossentropy(),\n",
    "    optimizer=optimizers.Adam(),\n",
    "    metrics=[\"accuracy\"],\n",
    ")"
   ]
  },
  {
   "cell_type": "code",
   "execution_count": 34,
   "id": "junior-jacksonville",
   "metadata": {},
   "outputs": [
    {
     "name": "stdout",
     "output_type": "stream",
     "text": [
      "Epoch 1/50\n",
      "196/196 [==============================] - 31s 157ms/step - loss: 1.3790 - accuracy: 0.5031 - val_loss: 3.8670 - val_accuracy: 0.1030\n",
      "Epoch 2/50\n",
      "196/196 [==============================] - 2s 11ms/step - loss: 1.0476 - accuracy: 0.6266 - val_loss: 2.8999 - val_accuracy: 0.1743\n",
      "Epoch 3/50\n",
      "196/196 [==============================] - 2s 11ms/step - loss: 0.9056 - accuracy: 0.6826 - val_loss: 1.0587 - val_accuracy: 0.6187\n",
      "Epoch 4/50\n",
      "196/196 [==============================] - 2s 11ms/step - loss: 0.8060 - accuracy: 0.7169 - val_loss: 0.8783 - val_accuracy: 0.6928\n",
      "Epoch 5/50\n",
      "196/196 [==============================] - 2s 11ms/step - loss: 0.7377 - accuracy: 0.7426 - val_loss: 0.7782 - val_accuracy: 0.7279\n",
      "Epoch 6/50\n",
      "196/196 [==============================] - 2s 11ms/step - loss: 0.6894 - accuracy: 0.7584 - val_loss: 0.7465 - val_accuracy: 0.7405\n",
      "Epoch 7/50\n",
      "196/196 [==============================] - 2s 11ms/step - loss: 0.6511 - accuracy: 0.7739 - val_loss: 0.6753 - val_accuracy: 0.7672\n",
      "Epoch 8/50\n",
      "196/196 [==============================] - 2s 11ms/step - loss: 0.6175 - accuracy: 0.7840 - val_loss: 0.8165 - val_accuracy: 0.7217\n",
      "Epoch 9/50\n",
      "196/196 [==============================] - 2s 11ms/step - loss: 0.5884 - accuracy: 0.7941 - val_loss: 0.5976 - val_accuracy: 0.7911\n",
      "Epoch 10/50\n",
      "196/196 [==============================] - 2s 11ms/step - loss: 0.5708 - accuracy: 0.7999 - val_loss: 0.6937 - val_accuracy: 0.7593\n",
      "Epoch 11/50\n",
      "196/196 [==============================] - 2s 11ms/step - loss: 0.5477 - accuracy: 0.8102 - val_loss: 0.6346 - val_accuracy: 0.7847\n",
      "Epoch 12/50\n",
      "196/196 [==============================] - 2s 11ms/step - loss: 0.5265 - accuracy: 0.8152 - val_loss: 0.6267 - val_accuracy: 0.7867\n",
      "Epoch 13/50\n",
      "196/196 [==============================] - 2s 11ms/step - loss: 0.5105 - accuracy: 0.8204 - val_loss: 0.6067 - val_accuracy: 0.7920\n",
      "Epoch 14/50\n",
      "196/196 [==============================] - 2s 11ms/step - loss: 0.4952 - accuracy: 0.8265 - val_loss: 0.6242 - val_accuracy: 0.7822\n",
      "Epoch 15/50\n",
      "196/196 [==============================] - 2s 11ms/step - loss: 0.4881 - accuracy: 0.8286 - val_loss: 0.5497 - val_accuracy: 0.8092\n",
      "Epoch 16/50\n",
      "196/196 [==============================] - 2s 11ms/step - loss: 0.4710 - accuracy: 0.8354 - val_loss: 0.6841 - val_accuracy: 0.7692\n",
      "Epoch 17/50\n",
      "196/196 [==============================] - 2s 11ms/step - loss: 0.4616 - accuracy: 0.8374 - val_loss: 0.5570 - val_accuracy: 0.8094\n",
      "Epoch 18/50\n",
      "196/196 [==============================] - 2s 11ms/step - loss: 0.4503 - accuracy: 0.8430 - val_loss: 0.5319 - val_accuracy: 0.8175\n",
      "Epoch 19/50\n",
      "196/196 [==============================] - 2s 11ms/step - loss: 0.4410 - accuracy: 0.8444 - val_loss: 0.5242 - val_accuracy: 0.8219\n",
      "Epoch 20/50\n",
      "196/196 [==============================] - 2s 11ms/step - loss: 0.4337 - accuracy: 0.8476 - val_loss: 0.5495 - val_accuracy: 0.8107\n",
      "Epoch 21/50\n",
      "196/196 [==============================] - 2s 11ms/step - loss: 0.4228 - accuracy: 0.8503 - val_loss: 0.5676 - val_accuracy: 0.8009\n",
      "Epoch 22/50\n",
      "196/196 [==============================] - 2s 11ms/step - loss: 0.4169 - accuracy: 0.8548 - val_loss: 0.5861 - val_accuracy: 0.7967\n",
      "Epoch 23/50\n",
      "196/196 [==============================] - 2s 11ms/step - loss: 0.4115 - accuracy: 0.8542 - val_loss: 0.5444 - val_accuracy: 0.8116\n",
      "Epoch 24/50\n",
      "196/196 [==============================] - 2s 11ms/step - loss: 0.4004 - accuracy: 0.8603 - val_loss: 0.5351 - val_accuracy: 0.8149\n",
      "Epoch 25/50\n",
      "196/196 [==============================] - 2s 11ms/step - loss: 0.3921 - accuracy: 0.8627 - val_loss: 0.4908 - val_accuracy: 0.8319\n",
      "Epoch 26/50\n",
      "196/196 [==============================] - 2s 11ms/step - loss: 0.3863 - accuracy: 0.8644 - val_loss: 0.5029 - val_accuracy: 0.8287\n",
      "Epoch 27/50\n",
      "196/196 [==============================] - 2s 11ms/step - loss: 0.3823 - accuracy: 0.8654 - val_loss: 0.5129 - val_accuracy: 0.8246\n",
      "Epoch 28/50\n",
      "196/196 [==============================] - 2s 11ms/step - loss: 0.3729 - accuracy: 0.8673 - val_loss: 0.5365 - val_accuracy: 0.8213\n",
      "Epoch 29/50\n",
      "196/196 [==============================] - 2s 11ms/step - loss: 0.3737 - accuracy: 0.8678 - val_loss: 0.6011 - val_accuracy: 0.8008\n",
      "Epoch 30/50\n",
      "196/196 [==============================] - 2s 11ms/step - loss: 0.3658 - accuracy: 0.8702 - val_loss: 0.5225 - val_accuracy: 0.8265\n",
      "Epoch 31/50\n",
      "196/196 [==============================] - 2s 11ms/step - loss: 0.3644 - accuracy: 0.8695 - val_loss: 0.5235 - val_accuracy: 0.8229\n",
      "Epoch 32/50\n",
      "196/196 [==============================] - 2s 11ms/step - loss: 0.3597 - accuracy: 0.8722 - val_loss: 0.5223 - val_accuracy: 0.8260\n",
      "Epoch 33/50\n",
      "196/196 [==============================] - 2s 11ms/step - loss: 0.3505 - accuracy: 0.8740 - val_loss: 0.5159 - val_accuracy: 0.8249\n",
      "Epoch 34/50\n",
      "196/196 [==============================] - 2s 11ms/step - loss: 0.3452 - accuracy: 0.8764 - val_loss: 0.4663 - val_accuracy: 0.8441\n",
      "Epoch 35/50\n",
      "196/196 [==============================] - 2s 11ms/step - loss: 0.3406 - accuracy: 0.8784 - val_loss: 0.5192 - val_accuracy: 0.8276\n",
      "Epoch 36/50\n",
      "196/196 [==============================] - 2s 11ms/step - loss: 0.3389 - accuracy: 0.8785 - val_loss: 0.5183 - val_accuracy: 0.8301\n",
      "Epoch 37/50\n",
      "196/196 [==============================] - 2s 11ms/step - loss: 0.3352 - accuracy: 0.8799 - val_loss: 0.5304 - val_accuracy: 0.8244\n",
      "Epoch 38/50\n",
      "196/196 [==============================] - 2s 11ms/step - loss: 0.3264 - accuracy: 0.8831 - val_loss: 0.5419 - val_accuracy: 0.8223\n",
      "Epoch 39/50\n",
      "196/196 [==============================] - 2s 11ms/step - loss: 0.3264 - accuracy: 0.8837 - val_loss: 0.5154 - val_accuracy: 0.8308\n",
      "Epoch 40/50\n",
      "196/196 [==============================] - 2s 11ms/step - loss: 0.3184 - accuracy: 0.8848 - val_loss: 0.5438 - val_accuracy: 0.8201\n",
      "Epoch 41/50\n",
      "196/196 [==============================] - 2s 11ms/step - loss: 0.3205 - accuracy: 0.8854 - val_loss: 0.4988 - val_accuracy: 0.8346\n",
      "Epoch 42/50\n",
      "196/196 [==============================] - 2s 11ms/step - loss: 0.3153 - accuracy: 0.8886 - val_loss: 0.5018 - val_accuracy: 0.8374\n",
      "Epoch 43/50\n",
      "196/196 [==============================] - 2s 11ms/step - loss: 0.3122 - accuracy: 0.8884 - val_loss: 0.5118 - val_accuracy: 0.8345\n",
      "Epoch 44/50\n",
      "196/196 [==============================] - 2s 11ms/step - loss: 0.3117 - accuracy: 0.8894 - val_loss: 0.5396 - val_accuracy: 0.8286\n",
      "Epoch 45/50\n",
      "196/196 [==============================] - 2s 11ms/step - loss: 0.3077 - accuracy: 0.8900 - val_loss: 0.4692 - val_accuracy: 0.8435\n",
      "Epoch 46/50\n",
      "196/196 [==============================] - 2s 11ms/step - loss: 0.3017 - accuracy: 0.8924 - val_loss: 0.4860 - val_accuracy: 0.8383\n",
      "Epoch 47/50\n",
      "196/196 [==============================] - 2s 11ms/step - loss: 0.3014 - accuracy: 0.8915 - val_loss: 0.4825 - val_accuracy: 0.8387\n",
      "Epoch 48/50\n",
      "196/196 [==============================] - 2s 11ms/step - loss: 0.2957 - accuracy: 0.8941 - val_loss: 0.4813 - val_accuracy: 0.8431\n",
      "Epoch 49/50\n",
      "196/196 [==============================] - 2s 11ms/step - loss: 0.2999 - accuracy: 0.8920 - val_loss: 0.5944 - val_accuracy: 0.8052\n",
      "Epoch 50/50\n",
      "196/196 [==============================] - 2s 11ms/step - loss: 0.2931 - accuracy: 0.8965 - val_loss: 0.4847 - val_accuracy: 0.8409\n"
     ]
    }
   ],
   "source": [
    "history_nor = model_nor.fit(\n",
    "    train_data_proc, train_label_proc,\n",
    "    validation_data=(test_data_proc, test_label_proc),\n",
    "    batch_size=256,\n",
    "    epochs=50\n",
    ")"
   ]
  },
  {
   "cell_type": "code",
   "execution_count": 35,
   "id": "romance-arrangement",
   "metadata": {},
   "outputs": [
    {
     "data": {
      "text/plain": [
       "<AxesSubplot:>"
      ]
     },
     "execution_count": 35,
     "metadata": {},
     "output_type": "execute_result"
    },
    {
     "data": {
      "image/png": "[encoded data removed]",
      "text/plain": [
       "<Figure size 432x288 with 1 Axes>"
      ]
     },
     "metadata": {
      "needs_background": "light"
     },
     "output_type": "display_data"
    }
   ],
   "source": [
    "pd.DataFrame(history_nor.history).plot()"
   ]
  },
  {
   "cell_type": "markdown",
   "id": "dated-english",
   "metadata": {
    "tags": []
   },
   "source": [
    "# Data Augmentation"
   ]
  },
  {
   "cell_type": "code",
   "execution_count": 36,
   "id": "active-departure",
   "metadata": {
    "tags": []
   },
   "outputs": [],
   "source": [
    "input_aug = layers.Input((32, 32, 3))"
   ]
  },
  {
   "cell_type": "code",
   "execution_count": 37,
   "id": "liberal-foster",
   "metadata": {},
   "outputs": [],
   "source": [
    "layer_aug = layers.Conv2D(32, 4, activation=\"relu\")(input_aug)\n",
    "layer_aug = layers.BatchNormalization()(layer_aug)\n",
    "layer_aug = layers.Conv2D(32, 4, activation=\"relu\")(layer_aug)\n",
    "layer_aug = layers.BatchNormalization()(layer_aug)\n",
    "layer_aug = layers.MaxPool2D(2)(layer_aug)\n",
    "layer_aug = layers.Dropout(0.4)(layer_aug)\n",
    "layer_aug = layers.Conv2D(64, 3, padding=\"same\", activation=\"relu\")(layer_aug)\n",
    "layer_aug = layers.BatchNormalization()(layer_aug)\n",
    "layer_aug = layers.Conv2D(64, 3, padding=\"same\", activation=\"relu\")(layer_aug)\n",
    "layer_aug = layers.BatchNormalization()(layer_aug)\n",
    "layer_aug = layers.MaxPool2D(2)(layer_aug)\n",
    "layer_aug = layers.Dropout(0.4)(layer_aug)\n",
    "layer_aug = layers.Conv2D(128, 3, padding=\"same\", dilation_rate=2, activation=\"relu\")(layer_aug)\n",
    "layer_aug = layers.BatchNormalization()(layer_aug)\n",
    "layer_aug  = layers.GlobalAveragePooling2D()(layer_aug)"
   ]
  },
  {
   "cell_type": "code",
   "execution_count": 38,
   "id": "liked-soccer",
   "metadata": {},
   "outputs": [],
   "source": [
    "output_aug = layers.Dense(10, activation=\"softmax\")(layer_aug)"
   ]
  },
  {
   "cell_type": "code",
   "execution_count": 39,
   "id": "traditional-annex",
   "metadata": {},
   "outputs": [],
   "source": [
    "model_aug = models.Model(input_aug, output_aug)"
   ]
  },
  {
   "cell_type": "code",
   "execution_count": 40,
   "id": "italian-battlefield",
   "metadata": {},
   "outputs": [],
   "source": [
    "model_aug.compile(\n",
    "    loss=losses.CategoricalCrossentropy(),\n",
    "    optimizer=optimizers.Adam(),\n",
    "    metrics=[\"accuracy\"],\n",
    ")"
   ]
  },
  {
   "cell_type": "code",
   "execution_count": 41,
   "id": "hungarian-keyboard",
   "metadata": {},
   "outputs": [],
   "source": [
    "image_gen = preprocessing.image.ImageDataGenerator(\n",
    "    width_shift_range=0.1,\n",
    "    height_shift_range=0.1,\n",
    "    horizontal_flip=True,\n",
    "    rotation_range=20,\n",
    "    zoom_range=0.1\n",
    ")\n",
    "train_gen = image_gen.flow(train_data_proc, train_label_proc)"
   ]
  },
  {
   "cell_type": "code",
   "execution_count": 42,
   "id": "ranging-request",
   "metadata": {},
   "outputs": [
    {
     "name": "stdout",
     "output_type": "stream",
     "text": [
      "Epoch 1/50\n",
      "1563/1563 [==============================] - 35s 22ms/step - loss: 1.4241 - accuracy: 0.4860 - val_loss: 1.3047 - val_accuracy: 0.5480\n",
      "Epoch 2/50\n",
      "1563/1563 [==============================] - 20s 13ms/step - loss: 1.1303 - accuracy: 0.6012 - val_loss: 1.0665 - val_accuracy: 0.6291\n",
      "Epoch 3/50\n",
      "1563/1563 [==============================] - 20s 13ms/step - loss: 1.0106 - accuracy: 0.6450 - val_loss: 1.0710 - val_accuracy: 0.6360\n",
      "Epoch 4/50\n",
      "1563/1563 [==============================] - 20s 13ms/step - loss: 0.9454 - accuracy: 0.6670 - val_loss: 1.2393 - val_accuracy: 0.6119\n",
      "Epoch 5/50\n",
      "1563/1563 [==============================] - 20s 13ms/step - loss: 0.9024 - accuracy: 0.6838 - val_loss: 0.9554 - val_accuracy: 0.6780\n",
      "Epoch 6/50\n",
      "1563/1563 [==============================] - 20s 13ms/step - loss: 0.8581 - accuracy: 0.7002 - val_loss: 0.8725 - val_accuracy: 0.7017\n",
      "Epoch 7/50\n",
      "1563/1563 [==============================] - 20s 13ms/step - loss: 0.8324 - accuracy: 0.7083 - val_loss: 0.7741 - val_accuracy: 0.7295\n",
      "Epoch 8/50\n",
      "1563/1563 [==============================] - 20s 13ms/step - loss: 0.8121 - accuracy: 0.7158 - val_loss: 0.6855 - val_accuracy: 0.7659\n",
      "Epoch 9/50\n",
      "1563/1563 [==============================] - 20s 13ms/step - loss: 0.7870 - accuracy: 0.7245 - val_loss: 0.6692 - val_accuracy: 0.7675\n",
      "Epoch 10/50\n",
      "1563/1563 [==============================] - 20s 13ms/step - loss: 0.7754 - accuracy: 0.7291 - val_loss: 0.6885 - val_accuracy: 0.7658\n",
      "Epoch 11/50\n",
      "1563/1563 [==============================] - 20s 13ms/step - loss: 0.7592 - accuracy: 0.7347 - val_loss: 0.6970 - val_accuracy: 0.7634\n",
      "Epoch 12/50\n",
      "1563/1563 [==============================] - 20s 13ms/step - loss: 0.7469 - accuracy: 0.7403 - val_loss: 0.7456 - val_accuracy: 0.7471\n",
      "Epoch 13/50\n",
      "1563/1563 [==============================] - 20s 13ms/step - loss: 0.7348 - accuracy: 0.7413 - val_loss: 0.8052 - val_accuracy: 0.7225\n",
      "Epoch 14/50\n",
      "1563/1563 [==============================] - 20s 13ms/step - loss: 0.7303 - accuracy: 0.7463 - val_loss: 0.7457 - val_accuracy: 0.7477\n",
      "Epoch 15/50\n",
      "1563/1563 [==============================] - 20s 13ms/step - loss: 0.7165 - accuracy: 0.7502 - val_loss: 0.7086 - val_accuracy: 0.7559\n",
      "Epoch 16/50\n",
      "1563/1563 [==============================] - 20s 13ms/step - loss: 0.7082 - accuracy: 0.7532 - val_loss: 0.7285 - val_accuracy: 0.7577\n",
      "Epoch 17/50\n",
      "1563/1563 [==============================] - 20s 13ms/step - loss: 0.6945 - accuracy: 0.7562 - val_loss: 0.6573 - val_accuracy: 0.7780\n",
      "Epoch 18/50\n",
      "1563/1563 [==============================] - 20s 13ms/step - loss: 0.6905 - accuracy: 0.7600 - val_loss: 0.6206 - val_accuracy: 0.7831\n",
      "Epoch 19/50\n",
      "1563/1563 [==============================] - 20s 13ms/step - loss: 0.6792 - accuracy: 0.7621 - val_loss: 0.7085 - val_accuracy: 0.7544\n",
      "Epoch 20/50\n",
      "1563/1563 [==============================] - 20s 13ms/step - loss: 0.6772 - accuracy: 0.7640 - val_loss: 0.7078 - val_accuracy: 0.7575\n",
      "Epoch 21/50\n",
      "1563/1563 [==============================] - 20s 13ms/step - loss: 0.6740 - accuracy: 0.7665 - val_loss: 0.7535 - val_accuracy: 0.7502\n",
      "Epoch 22/50\n",
      "1563/1563 [==============================] - 20s 13ms/step - loss: 0.6673 - accuracy: 0.7677 - val_loss: 0.6610 - val_accuracy: 0.7726\n",
      "Epoch 23/50\n",
      "1563/1563 [==============================] - 20s 13ms/step - loss: 0.6578 - accuracy: 0.7694 - val_loss: 0.6290 - val_accuracy: 0.7893\n",
      "Epoch 24/50\n",
      "1563/1563 [==============================] - 20s 13ms/step - loss: 0.6590 - accuracy: 0.7720 - val_loss: 0.6914 - val_accuracy: 0.7690\n",
      "Epoch 25/50\n",
      "1563/1563 [==============================] - 20s 13ms/step - loss: 0.6484 - accuracy: 0.7770 - val_loss: 0.6798 - val_accuracy: 0.7794\n",
      "Epoch 26/50\n",
      "1563/1563 [==============================] - 20s 13ms/step - loss: 0.6438 - accuracy: 0.7768 - val_loss: 0.6345 - val_accuracy: 0.7792\n",
      "Epoch 27/50\n",
      "1563/1563 [==============================] - 20s 13ms/step - loss: 0.6384 - accuracy: 0.7790 - val_loss: 0.6452 - val_accuracy: 0.7790\n",
      "Epoch 28/50\n",
      "1563/1563 [==============================] - 20s 13ms/step - loss: 0.6461 - accuracy: 0.7764 - val_loss: 0.5764 - val_accuracy: 0.8045\n",
      "Epoch 29/50\n",
      "1563/1563 [==============================] - 20s 13ms/step - loss: 0.6363 - accuracy: 0.7810 - val_loss: 0.6929 - val_accuracy: 0.7731\n",
      "Epoch 30/50\n",
      "1563/1563 [==============================] - 20s 13ms/step - loss: 0.6331 - accuracy: 0.7790 - val_loss: 0.6910 - val_accuracy: 0.7749\n",
      "Epoch 31/50\n",
      "1563/1563 [==============================] - 20s 13ms/step - loss: 0.6318 - accuracy: 0.7797 - val_loss: 0.5826 - val_accuracy: 0.8032\n",
      "Epoch 32/50\n",
      "1563/1563 [==============================] - 20s 13ms/step - loss: 0.6198 - accuracy: 0.7828 - val_loss: 0.5852 - val_accuracy: 0.8031\n",
      "Epoch 33/50\n",
      "1563/1563 [==============================] - 20s 13ms/step - loss: 0.6226 - accuracy: 0.7822 - val_loss: 0.6065 - val_accuracy: 0.7979\n",
      "Epoch 34/50\n",
      "1563/1563 [==============================] - 20s 13ms/step - loss: 0.6263 - accuracy: 0.7834 - val_loss: 0.5900 - val_accuracy: 0.8055\n",
      "Epoch 35/50\n",
      "1563/1563 [==============================] - 20s 13ms/step - loss: 0.6234 - accuracy: 0.7851 - val_loss: 0.6387 - val_accuracy: 0.7866\n",
      "Epoch 36/50\n",
      "1563/1563 [==============================] - 20s 13ms/step - loss: 0.6162 - accuracy: 0.7858 - val_loss: 0.5572 - val_accuracy: 0.8118\n",
      "Epoch 37/50\n",
      "1563/1563 [==============================] - 20s 13ms/step - loss: 0.6094 - accuracy: 0.7878 - val_loss: 0.6473 - val_accuracy: 0.7834\n",
      "Epoch 38/50\n",
      "1563/1563 [==============================] - 20s 13ms/step - loss: 0.6131 - accuracy: 0.7881 - val_loss: 0.5354 - val_accuracy: 0.8201\n",
      "Epoch 39/50\n",
      "1563/1563 [==============================] - 20s 13ms/step - loss: 0.6098 - accuracy: 0.7878 - val_loss: 0.6096 - val_accuracy: 0.7998\n",
      "Epoch 40/50\n",
      "1563/1563 [==============================] - 20s 13ms/step - loss: 0.6039 - accuracy: 0.7901 - val_loss: 0.5964 - val_accuracy: 0.7953\n",
      "Epoch 41/50\n",
      "1563/1563 [==============================] - 20s 13ms/step - loss: 0.5991 - accuracy: 0.7903 - val_loss: 0.5328 - val_accuracy: 0.8197\n",
      "Epoch 42/50\n",
      "1563/1563 [==============================] - 20s 13ms/step - loss: 0.6010 - accuracy: 0.7903 - val_loss: 0.5830 - val_accuracy: 0.8042\n",
      "Epoch 43/50\n",
      "1563/1563 [==============================] - 20s 13ms/step - loss: 0.6038 - accuracy: 0.7898 - val_loss: 0.6109 - val_accuracy: 0.7961\n",
      "Epoch 44/50\n",
      "1563/1563 [==============================] - 20s 13ms/step - loss: 0.5985 - accuracy: 0.7911 - val_loss: 0.5119 - val_accuracy: 0.8270\n",
      "Epoch 45/50\n",
      "1563/1563 [==============================] - 20s 13ms/step - loss: 0.5918 - accuracy: 0.7950 - val_loss: 0.5613 - val_accuracy: 0.8089\n",
      "Epoch 46/50\n",
      "1563/1563 [==============================] - 20s 13ms/step - loss: 0.5913 - accuracy: 0.7926 - val_loss: 0.5833 - val_accuracy: 0.8100\n",
      "Epoch 47/50\n",
      "1563/1563 [==============================] - 20s 13ms/step - loss: 0.5896 - accuracy: 0.7953 - val_loss: 0.5149 - val_accuracy: 0.8265\n",
      "Epoch 48/50\n",
      "1563/1563 [==============================] - 20s 13ms/step - loss: 0.5863 - accuracy: 0.7970 - val_loss: 0.5356 - val_accuracy: 0.8230\n",
      "Epoch 49/50\n",
      "1563/1563 [==============================] - 20s 13ms/step - loss: 0.5887 - accuracy: 0.7959 - val_loss: 0.5604 - val_accuracy: 0.8121\n",
      "Epoch 50/50\n",
      "1563/1563 [==============================] - 20s 13ms/step - loss: 0.5845 - accuracy: 0.7970 - val_loss: 0.5595 - val_accuracy: 0.8124\n"
     ]
    }
   ],
   "source": [
    "history_aug = model_aug.fit(\n",
    "    train_gen,\n",
    "    validation_data=(test_data_proc, test_label_proc),\n",
    "    batch_size=256,\n",
    "    epochs=50\n",
    ")"
   ]
  },
  {
   "cell_type": "code",
   "execution_count": 43,
   "id": "insured-dining",
   "metadata": {},
   "outputs": [
    {
     "data": {
      "text/plain": [
       "<AxesSubplot:>"
      ]
     },
     "execution_count": 43,
     "metadata": {},
     "output_type": "execute_result"
    },
    {
     "data": {
      "image/png": "[encoded data removed]",
      "text/plain": [
       "<Figure size 432x288 with 1 Axes>"
      ]
     },
     "metadata": {
      "needs_background": "light"
     },
     "output_type": "display_data"
    }
   ],
   "source": [
    "pd.DataFrame(history_aug.history).plot()"
   ]
  },
  {
   "cell_type": "code",
   "execution_count": null,
   "id": "outstanding-isaac",
   "metadata": {},
   "outputs": [],
   "source": []
  },
  {
   "cell_type": "code",
   "execution_count": null,
   "id": "intellectual-bracket",
   "metadata": {},
   "outputs": [],
   "source": []
  },
  {
   "cell_type": "code",
   "execution_count": null,
   "id": "sensitive-coalition",
   "metadata": {},
   "outputs": [],
   "source": []
  }
 ],
 "metadata": {
  "kernelspec": {
   "display_name": "Python 3",
   "language": "python",
   "name": "python3"
  },
  "language_info": {
   "codemirror_mode": {
    "name": "ipython",
    "version": 3
   },
   "file_extension": ".py",
   "mimetype": "text/x-python",
   "name": "python",
   "nbconvert_exporter": "python",
   "pygments_lexer": "ipython3",
   "version": "3.8.5"
  },
  "toc-autonumbering": true
 },
 "nbformat": 4,
 "nbformat_minor": 5
}
