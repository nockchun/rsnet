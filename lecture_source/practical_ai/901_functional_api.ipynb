{
 "cells": [
  {
   "cell_type": "markdown",
   "id": "thick-seller",
   "metadata": {},
   "source": [
    "<div class=\"alert alert-block alert-success\">\n",
    "    <b><center>CNN Basic Examples</center></b>\n",
    "    <b><center>Basic CNN</center></b>\n",
    "</div>"
   ]
  },
  {
   "cell_type": "markdown",
   "id": "further-valve",
   "metadata": {},
   "source": [
    "# Configure Learning Environment"
   ]
  },
  {
   "cell_type": "code",
   "execution_count": 1,
   "id": "ignored-olive",
   "metadata": {},
   "outputs": [],
   "source": [
    "# !pip install git+https://github.com/nockchun/rspy --force\n",
    "# !pip install mybatis_mapper2sql\n",
    "import rspy as rsp\n",
    "rsp.setSystemWarning(off=True)"
   ]
  },
  {
   "cell_type": "code",
   "execution_count": 2,
   "id": "spatial-study",
   "metadata": {},
   "outputs": [],
   "source": [
    "import numpy as np\n",
    "\n",
    "import tensorflow as tf\n",
    "from tensorflow.keras import layers, models, losses, optimizers, datasets, utils"
   ]
  },
  {
   "cell_type": "code",
   "execution_count": 3,
   "id": "hundred-sympathy",
   "metadata": {},
   "outputs": [],
   "source": [
    "from ipywidgets import interact\n",
    "import matplotlib.pyplot as plt\n",
    "import pandas as pd"
   ]
  },
  {
   "cell_type": "code",
   "execution_count": 4,
   "id": "knowing-eclipse",
   "metadata": {},
   "outputs": [
    {
     "data": {
      "text/plain": [
       "'2.5.0-dev20210226'"
      ]
     },
     "execution_count": 4,
     "metadata": {},
     "output_type": "execute_result"
    }
   ],
   "source": [
    "np.set_printoptions(linewidth=200, precision=2)\n",
    "tf.__version__"
   ]
  },
  {
   "cell_type": "markdown",
   "id": "offshore-chair",
   "metadata": {},
   "source": [
    "# Use the same graph of layers to define multiple models\n",
    "In the functional API, models are created by specifying their inputs and outputs in a graph of layers. That means that a single graph of layers can be used to generate multiple models.\n",
    "\n",
    "In the example below, you use the same stack of layers to instantiate two models: an encoder model that turns image inputs into 16-dimensional vectors, and an end-to-end autoencoder model for training."
   ]
  },
  {
   "cell_type": "code",
   "execution_count": 5,
   "id": "gentle-virus",
   "metadata": {},
   "outputs": [],
   "source": [
    "encoder_input = layers.Input(shape=(28, 28, 1), name=\"img\")\n",
    "x = layers.Conv2D(16, 3, activation=\"relu\")(encoder_input)\n",
    "x = layers.Conv2D(32, 3, activation=\"relu\")(x)\n",
    "x = layers.MaxPooling2D(3)(x)\n",
    "x = layers.Conv2D(32, 3, activation=\"relu\")(x)\n",
    "x = layers.Conv2D(16, 3, activation=\"relu\")(x)\n",
    "encoder_output = layers.GlobalMaxPooling2D()(x)"
   ]
  },
  {
   "cell_type": "code",
   "execution_count": 6,
   "id": "aggregate-nitrogen",
   "metadata": {},
   "outputs": [
    {
     "name": "stdout",
     "output_type": "stream",
     "text": [
      "Model: \"encoder\"\n",
      "_________________________________________________________________\n",
      "Layer (type)                 Output Shape              Param #   \n",
      "=================================================================\n",
      "img (InputLayer)             [(None, 28, 28, 1)]       0         \n",
      "_________________________________________________________________\n",
      "conv2d (Conv2D)              (None, 26, 26, 16)        160       \n",
      "_________________________________________________________________\n",
      "conv2d_1 (Conv2D)            (None, 24, 24, 32)        4640      \n",
      "_________________________________________________________________\n",
      "max_pooling2d (MaxPooling2D) (None, 8, 8, 32)          0         \n",
      "_________________________________________________________________\n",
      "conv2d_2 (Conv2D)            (None, 6, 6, 32)          9248      \n",
      "_________________________________________________________________\n",
      "conv2d_3 (Conv2D)            (None, 4, 4, 16)          4624      \n",
      "_________________________________________________________________\n",
      "global_max_pooling2d (Global (None, 16)                0         \n",
      "=================================================================\n",
      "Total params: 18,672\n",
      "Trainable params: 18,672\n",
      "Non-trainable params: 0\n",
      "_________________________________________________________________\n"
     ]
    }
   ],
   "source": [
    "encoder = models.Model(encoder_input, encoder_output, name=\"encoder\")\n",
    "encoder.summary()"
   ]
  },
  {
   "cell_type": "code",
   "execution_count": 7,
   "id": "silver-authentication",
   "metadata": {},
   "outputs": [],
   "source": [
    "x = layers.Reshape((4, 4, 1))(encoder_output)\n",
    "x = layers.Conv2DTranspose(16, 3, activation=\"relu\")(x)\n",
    "x = layers.Conv2DTranspose(32, 3, activation=\"relu\")(x)\n",
    "x = layers.UpSampling2D(3)(x)\n",
    "x = layers.Conv2DTranspose(16, 3, activation=\"relu\")(x)\n",
    "decoder_output = layers.Conv2DTranspose(1, 3, activation=\"relu\")(x)"
   ]
  },
  {
   "cell_type": "code",
   "execution_count": 8,
   "id": "corresponding-hungarian",
   "metadata": {},
   "outputs": [
    {
     "name": "stdout",
     "output_type": "stream",
     "text": [
      "Model: \"autoencoder\"\n",
      "_________________________________________________________________\n",
      "Layer (type)                 Output Shape              Param #   \n",
      "=================================================================\n",
      "img (InputLayer)             [(None, 28, 28, 1)]       0         \n",
      "_________________________________________________________________\n",
      "conv2d (Conv2D)              (None, 26, 26, 16)        160       \n",
      "_________________________________________________________________\n",
      "conv2d_1 (Conv2D)            (None, 24, 24, 32)        4640      \n",
      "_________________________________________________________________\n",
      "max_pooling2d (MaxPooling2D) (None, 8, 8, 32)          0         \n",
      "_________________________________________________________________\n",
      "conv2d_2 (Conv2D)            (None, 6, 6, 32)          9248      \n",
      "_________________________________________________________________\n",
      "conv2d_3 (Conv2D)            (None, 4, 4, 16)          4624      \n",
      "_________________________________________________________________\n",
      "global_max_pooling2d (Global (None, 16)                0         \n",
      "_________________________________________________________________\n",
      "reshape (Reshape)            (None, 4, 4, 1)           0         \n",
      "_________________________________________________________________\n",
      "conv2d_transpose (Conv2DTran (None, 6, 6, 16)          160       \n",
      "_________________________________________________________________\n",
      "conv2d_transpose_1 (Conv2DTr (None, 8, 8, 32)          4640      \n",
      "_________________________________________________________________\n",
      "up_sampling2d (UpSampling2D) (None, 24, 24, 32)        0         \n",
      "_________________________________________________________________\n",
      "conv2d_transpose_2 (Conv2DTr (None, 26, 26, 16)        4624      \n",
      "_________________________________________________________________\n",
      "conv2d_transpose_3 (Conv2DTr (None, 28, 28, 1)         145       \n",
      "=================================================================\n",
      "Total params: 28,241\n",
      "Trainable params: 28,241\n",
      "Non-trainable params: 0\n",
      "_________________________________________________________________\n"
     ]
    }
   ],
   "source": [
    "autoencoder = models.Model(encoder_input, decoder_output, name=\"autoencoder\")\n",
    "autoencoder.summary()"
   ]
  },
  {
   "cell_type": "markdown",
   "id": "monthly-vault",
   "metadata": {},
   "source": [
    "Here, the decoding architecture is strictly symmetrical to the encoding architecture, so the output shape is the same as the input shape (28, 28, 1).\n",
    "\n",
    "The reverse of a Conv2D layer is a Conv2DTranspose layer, and the reverse of a MaxPooling2D layer is an UpSampling2D layer."
   ]
  },
  {
   "cell_type": "markdown",
   "id": "rubber-restoration",
   "metadata": {},
   "source": [
    "# All models are callable, just like layers\n",
    "You can treat any model as if it were a layer by invoking it on an Input or on the output of another layer. By calling a model you aren't just reusing the architecture of the model, you're also reusing its weights.\n",
    "\n",
    "To see this in action, here's a different take on the autoencoder example that creates an encoder model, a decoder model, and chains them in two calls to obtain the autoencoder model:"
   ]
  },
  {
   "cell_type": "code",
   "execution_count": 9,
   "id": "satellite-builder",
   "metadata": {},
   "outputs": [],
   "source": [
    "encoder_input = layers.Input(shape=(28, 28, 1), name=\"original_img\")\n",
    "x = layers.Conv2D(16, 3, activation=\"relu\")(encoder_input)\n",
    "x = layers.Conv2D(32, 3, activation=\"relu\")(x)\n",
    "x = layers.MaxPooling2D(3)(x)\n",
    "x = layers.Conv2D(32, 3, activation=\"relu\")(x)\n",
    "x = layers.Conv2D(16, 3, activation=\"relu\")(x)\n",
    "encoder_output = layers.GlobalMaxPooling2D()(x)"
   ]
  },
  {
   "cell_type": "code",
   "execution_count": 10,
   "id": "leading-holocaust",
   "metadata": {},
   "outputs": [
    {
     "name": "stdout",
     "output_type": "stream",
     "text": [
      "Model: \"encoder\"\n",
      "_________________________________________________________________\n",
      "Layer (type)                 Output Shape              Param #   \n",
      "=================================================================\n",
      "original_img (InputLayer)    [(None, 28, 28, 1)]       0         \n",
      "_________________________________________________________________\n",
      "conv2d_4 (Conv2D)            (None, 26, 26, 16)        160       \n",
      "_________________________________________________________________\n",
      "conv2d_5 (Conv2D)            (None, 24, 24, 32)        4640      \n",
      "_________________________________________________________________\n",
      "max_pooling2d_1 (MaxPooling2 (None, 8, 8, 32)          0         \n",
      "_________________________________________________________________\n",
      "conv2d_6 (Conv2D)            (None, 6, 6, 32)          9248      \n",
      "_________________________________________________________________\n",
      "conv2d_7 (Conv2D)            (None, 4, 4, 16)          4624      \n",
      "_________________________________________________________________\n",
      "global_max_pooling2d_1 (Glob (None, 16)                0         \n",
      "=================================================================\n",
      "Total params: 18,672\n",
      "Trainable params: 18,672\n",
      "Non-trainable params: 0\n",
      "_________________________________________________________________\n"
     ]
    }
   ],
   "source": [
    "encoder = models.Model(encoder_input, encoder_output, name=\"encoder\")\n",
    "encoder.summary()"
   ]
  },
  {
   "cell_type": "code",
   "execution_count": 11,
   "id": "noticed-optics",
   "metadata": {},
   "outputs": [],
   "source": [
    "decoder_input = layers.Input(shape=(16,), name=\"encoded_img\")\n",
    "x = layers.Reshape((4, 4, 1))(decoder_input)\n",
    "x = layers.Conv2DTranspose(16, 3, activation=\"relu\")(x)\n",
    "x = layers.Conv2DTranspose(32, 3, activation=\"relu\")(x)\n",
    "x = layers.UpSampling2D(3)(x)\n",
    "x = layers.Conv2DTranspose(16, 3, activation=\"relu\")(x)\n",
    "decoder_output = layers.Conv2DTranspose(1, 3, activation=\"relu\")(x)"
   ]
  },
  {
   "cell_type": "code",
   "execution_count": 12,
   "id": "adapted-seven",
   "metadata": {},
   "outputs": [
    {
     "name": "stdout",
     "output_type": "stream",
     "text": [
      "Model: \"decoder\"\n",
      "_________________________________________________________________\n",
      "Layer (type)                 Output Shape              Param #   \n",
      "=================================================================\n",
      "encoded_img (InputLayer)     [(None, 16)]              0         \n",
      "_________________________________________________________________\n",
      "reshape_1 (Reshape)          (None, 4, 4, 1)           0         \n",
      "_________________________________________________________________\n",
      "conv2d_transpose_4 (Conv2DTr (None, 6, 6, 16)          160       \n",
      "_________________________________________________________________\n",
      "conv2d_transpose_5 (Conv2DTr (None, 8, 8, 32)          4640      \n",
      "_________________________________________________________________\n",
      "up_sampling2d_1 (UpSampling2 (None, 24, 24, 32)        0         \n",
      "_________________________________________________________________\n",
      "conv2d_transpose_6 (Conv2DTr (None, 26, 26, 16)        4624      \n",
      "_________________________________________________________________\n",
      "conv2d_transpose_7 (Conv2DTr (None, 28, 28, 1)         145       \n",
      "=================================================================\n",
      "Total params: 9,569\n",
      "Trainable params: 9,569\n",
      "Non-trainable params: 0\n",
      "_________________________________________________________________\n"
     ]
    }
   ],
   "source": [
    "decoder = models.Model(decoder_input, decoder_output, name=\"decoder\")\n",
    "decoder.summary()"
   ]
  },
  {
   "cell_type": "code",
   "execution_count": 13,
   "id": "finished-collection",
   "metadata": {},
   "outputs": [
    {
     "name": "stdout",
     "output_type": "stream",
     "text": [
      "Model: \"autoencoder\"\n",
      "_________________________________________________________________\n",
      "Layer (type)                 Output Shape              Param #   \n",
      "=================================================================\n",
      "img (InputLayer)             [(None, 28, 28, 1)]       0         \n",
      "_________________________________________________________________\n",
      "encoder (Functional)         (None, 16)                18672     \n",
      "_________________________________________________________________\n",
      "decoder (Functional)         (None, 28, 28, 1)         9569      \n",
      "=================================================================\n",
      "Total params: 28,241\n",
      "Trainable params: 28,241\n",
      "Non-trainable params: 0\n",
      "_________________________________________________________________\n"
     ]
    }
   ],
   "source": [
    "autoencoder_input = layers.Input(shape=(28, 28, 1), name=\"img\")\n",
    "encoded_img = encoder(autoencoder_input)\n",
    "decoded_img = decoder(encoded_img)\n",
    "autoencoder = models.Model(autoencoder_input, decoded_img, name=\"autoencoder\")\n",
    "autoencoder.summary()"
   ]
  },
  {
   "cell_type": "markdown",
   "id": "thirty-logistics",
   "metadata": {},
   "source": [
    "As you can see, the model can be nested: a model can contain sub-models (since a model is just like a layer). A common use case for model nesting is ensembling. For example, here's how to ensemble a set of models into a single model that averages their predictions:"
   ]
  },
  {
   "cell_type": "code",
   "execution_count": 14,
   "id": "supreme-germany",
   "metadata": {},
   "outputs": [],
   "source": [
    "def get_model():\n",
    "    inputs = layers.Input(shape=(128,))\n",
    "    outputs = layers.Dense(1)(inputs)\n",
    "    return models.Model(inputs, outputs)"
   ]
  },
  {
   "cell_type": "code",
   "execution_count": 15,
   "id": "likely-sullivan",
   "metadata": {},
   "outputs": [],
   "source": [
    "model1 = get_model()\n",
    "model2 = get_model()\n",
    "model3 = get_model()"
   ]
  },
  {
   "cell_type": "code",
   "execution_count": 16,
   "id": "composite-lightweight",
   "metadata": {},
   "outputs": [],
   "source": [
    "inputs = layers.Input(shape=(128,))\n",
    "y1 = model1(inputs)\n",
    "y2 = model2(inputs)\n",
    "y3 = model3(inputs)\n",
    "outputs = layers.average([y1, y2, y3])\n",
    "ensemble_model = models.Model(inputs=inputs, outputs=outputs)"
   ]
  },
  {
   "cell_type": "code",
   "execution_count": 17,
   "id": "banner-evening",
   "metadata": {},
   "outputs": [
    {
     "data": {
      "image/png": "[encoded data removed]",
      "text/plain": [
       "<IPython.core.display.Image object>"
      ]
     },
     "execution_count": 17,
     "metadata": {},
     "output_type": "execute_result"
    }
   ],
   "source": [
    "utils.plot_model(ensemble_model, \"intermediate/model.png\", True)"
   ]
  },
  {
   "cell_type": "markdown",
   "id": "optical-monkey",
   "metadata": {},
   "source": [
    "# Manipulate complex graph topologies"
   ]
  },
  {
   "cell_type": "markdown",
   "id": "spiritual-jesus",
   "metadata": {},
   "source": [
    "Models with multiple inputs and outputs\n",
    "The functional API makes it easy to manipulate multiple inputs and outputs. This cannot be handled with the Sequential API.\n",
    "\n",
    "For example, if you're building a system for ranking customer issue tickets by priority and routing them to the correct department, then the model will have three inputs:\n",
    "\n",
    "* the title of the ticket (text input),\n",
    "* the text body of the ticket (text input), and\n",
    "* any tags added by the user (categorical input)\n",
    "\n",
    "This model will have two outputs:\n",
    "* the priority score between 0 and 1 (scalar sigmoid output), and\n",
    "* the department that should handle the ticket (softmax output over the set of departments).\n",
    "\n",
    "You can build this model in a few lines with the functional API:"
   ]
  },
  {
   "cell_type": "code",
   "execution_count": 18,
   "id": "combined-rally",
   "metadata": {},
   "outputs": [],
   "source": [
    "num_tags = 12  # Number of unique issue tags\n",
    "num_words = 10000  # Size of vocabulary obtained when preprocessing text data\n",
    "num_departments = 4  # Number of departments for predictions"
   ]
  },
  {
   "cell_type": "code",
   "execution_count": 19,
   "id": "historical-bookmark",
   "metadata": {},
   "outputs": [],
   "source": [
    "title_input = layers.Input(\n",
    "    shape=(None,), name=\"title\"\n",
    ")  # Variable-length sequence of ints\n",
    "body_input = layers.Input(shape=(None,), name=\"body\")  # Variable-length sequence of ints\n",
    "tags_input = layers.Input(shape=(num_tags,), name=\"tags\")  # Binary vectors of size `num_tags`"
   ]
  },
  {
   "cell_type": "code",
   "execution_count": 20,
   "id": "amber-filename",
   "metadata": {},
   "outputs": [],
   "source": [
    "# Embed each word in the title into a 64-dimensional vector\n",
    "title_features = layers.Embedding(num_words, 64)(title_input)\n",
    "# Embed each word in the text into a 64-dimensional vector\n",
    "body_features = layers.Embedding(num_words, 64)(body_input)"
   ]
  },
  {
   "cell_type": "code",
   "execution_count": 21,
   "id": "mental-radio",
   "metadata": {},
   "outputs": [],
   "source": [
    "# Reduce sequence of embedded words in the title into a single 128-dimensional vector\n",
    "title_features = layers.LSTM(128)(title_features)\n",
    "# Reduce sequence of embedded words in the body into a single 32-dimensional vector\n",
    "body_features = layers.LSTM(32)(body_features)"
   ]
  },
  {
   "cell_type": "code",
   "execution_count": 22,
   "id": "dangerous-paris",
   "metadata": {},
   "outputs": [],
   "source": [
    "# Merge all available features into a single large vector via concatenation\n",
    "x = layers.concatenate([title_features, body_features, tags_input])"
   ]
  },
  {
   "cell_type": "code",
   "execution_count": 23,
   "id": "varied-hybrid",
   "metadata": {},
   "outputs": [],
   "source": [
    "# Stick a logistic regression for priority prediction on top of the features\n",
    "priority_pred = layers.Dense(1, name=\"priority\")(x)\n",
    "# Stick a department classifier on top of the features\n",
    "department_pred = layers.Dense(num_departments, name=\"department\")(x)"
   ]
  },
  {
   "cell_type": "code",
   "execution_count": 24,
   "id": "subject-allah",
   "metadata": {},
   "outputs": [],
   "source": [
    "# Instantiate an end-to-end model predicting both priority and department\n",
    "model = models.Model(\n",
    "    inputs=[title_input, body_input, tags_input],\n",
    "    outputs=[priority_pred, department_pred],\n",
    ")"
   ]
  },
  {
   "cell_type": "code",
   "execution_count": 25,
   "id": "scientific-monaco",
   "metadata": {},
   "outputs": [
    {
     "data": {
      "image/png": "[encoded data removed]",
      "text/plain": [
       "<IPython.core.display.Image object>"
      ]
     },
     "execution_count": 25,
     "metadata": {},
     "output_type": "execute_result"
    }
   ],
   "source": [
    "utils.plot_model(model, \"intermediate/model.png\", show_shapes=True)"
   ]
  },
  {
   "cell_type": "markdown",
   "id": "fossil-equivalent",
   "metadata": {},
   "source": [
    "When compiling this model, you can assign different losses to each output. You can even assign different weights to each loss -- to modulate their contribution to the total training loss."
   ]
  },
  {
   "cell_type": "code",
   "execution_count": 26,
   "id": "transparent-infrastructure",
   "metadata": {},
   "outputs": [],
   "source": [
    "model.compile(\n",
    "    optimizer=optimizers.RMSprop(1e-3),\n",
    "    loss=[\n",
    "        losses.BinaryCrossentropy(from_logits=True),\n",
    "        losses.CategoricalCrossentropy(from_logits=True),\n",
    "    ],\n",
    "    loss_weights=[1.0, 0.2],\n",
    ")"
   ]
  },
  {
   "cell_type": "markdown",
   "id": "addressed-abuse",
   "metadata": {},
   "source": [
    "Since the output layers have different names, you could also specify the loss like this:"
   ]
  },
  {
   "cell_type": "code",
   "execution_count": 27,
   "id": "specific-extent",
   "metadata": {},
   "outputs": [],
   "source": [
    "model.compile(\n",
    "    optimizer=optimizers.RMSprop(1e-3),\n",
    "    loss={\n",
    "        \"priority\": losses.BinaryCrossentropy(from_logits=True),\n",
    "        \"department\": losses.CategoricalCrossentropy(from_logits=True),\n",
    "    },\n",
    "    loss_weights=[1.0, 0.2],\n",
    ")"
   ]
  },
  {
   "cell_type": "markdown",
   "id": "breathing-egyptian",
   "metadata": {},
   "source": [
    "Train the model by passing lists of NumPy arrays of inputs and targets:"
   ]
  },
  {
   "cell_type": "code",
   "execution_count": 28,
   "id": "israeli-taxation",
   "metadata": {},
   "outputs": [],
   "source": [
    "# Dummy input data\n",
    "title_data = np.random.randint(num_words, size=(1280, 10))\n",
    "body_data = np.random.randint(num_words, size=(1280, 100))\n",
    "tags_data = np.random.randint(2, size=(1280, num_tags)).astype(\"float32\")"
   ]
  },
  {
   "cell_type": "code",
   "execution_count": 29,
   "id": "adaptive-integer",
   "metadata": {},
   "outputs": [
    {
     "name": "stdout",
     "output_type": "stream",
     "text": [
      "Epoch 1/2\n",
      "40/40 [==============================] - 3s 19ms/step - loss: 1.2634 - priority_loss: 0.7077 - department_loss: 2.7784\n",
      "Epoch 2/2\n",
      "40/40 [==============================] - 1s 19ms/step - loss: 1.2749 - priority_loss: 0.6956 - department_loss: 2.8966\n"
     ]
    },
    {
     "data": {
      "text/plain": [
       "<tensorflow.python.keras.callbacks.History at 0x7fbc9535e310>"
      ]
     },
     "execution_count": 29,
     "metadata": {},
     "output_type": "execute_result"
    }
   ],
   "source": [
    "# Dummy target data\n",
    "priority_targets = np.random.random(size=(1280, 1))\n",
    "dept_targets = np.random.randint(2, size=(1280, num_departments))\n",
    "\n",
    "model.fit(\n",
    "    {\"title\": title_data, \"body\": body_data, \"tags\": tags_data},\n",
    "    {\"priority\": priority_targets, \"department\": dept_targets},\n",
    "    epochs=2,\n",
    "    batch_size=32,\n",
    ")"
   ]
  },
  {
   "cell_type": "markdown",
   "id": "manufactured-subdivision",
   "metadata": {},
   "source": [
    "When calling fit with a Dataset object, it should yield either a tuple of lists like ([title_data, body_data, tags_data], [priority_targets, dept_targets]) or a tuple of dictionaries like ({'title': title_data, 'body': body_data, 'tags': tags_data}, {'priority': priority_targets, 'department': dept_targets})."
   ]
  },
  {
   "cell_type": "markdown",
   "id": "treated-wheat",
   "metadata": {},
   "source": [
    "# Shared layers\n",
    "Another good use for the functional API are models that use shared layers. Shared layers are layer instances that are reused multiple times in the same model -- they learn features that correspond to multiple paths in the graph-of-layers.\n",
    "\n",
    "Shared layers are often used to encode inputs from similar spaces (say, two different pieces of text that feature similar vocabulary). They enable sharing of information across these different inputs, and they make it possible to train such a model on less data. If a given word is seen in one of the inputs, that will benefit the processing of all inputs that pass through the shared layer.\n",
    "\n",
    "To share a layer in the functional API, call the same layer instance multiple times. For instance, here's an Embedding layer shared across two different text inputs:"
   ]
  },
  {
   "cell_type": "code",
   "execution_count": 30,
   "id": "varying-cuisine",
   "metadata": {},
   "outputs": [],
   "source": [
    "# Embedding for 1000 unique words mapped to 128-dimensional vectors\n",
    "shared_embedding = layers.Embedding(1000, 128)"
   ]
  },
  {
   "cell_type": "code",
   "execution_count": 31,
   "id": "primary-passenger",
   "metadata": {},
   "outputs": [],
   "source": [
    "# Variable-length sequence of integers\n",
    "text_input_a = layers.Input(shape=(None,), dtype=\"int32\")"
   ]
  },
  {
   "cell_type": "code",
   "execution_count": 32,
   "id": "drawn-funds",
   "metadata": {},
   "outputs": [],
   "source": [
    "# Variable-length sequence of integers\n",
    "text_input_b = layers.Input(shape=(None,), dtype=\"int32\")"
   ]
  },
  {
   "cell_type": "code",
   "execution_count": 33,
   "id": "impressive-lucas",
   "metadata": {},
   "outputs": [],
   "source": [
    "# Reuse the same layer to encode both inputs\n",
    "encoded_input_a = shared_embedding(text_input_a)\n",
    "encoded_input_b = shared_embedding(text_input_b)"
   ]
  },
  {
   "cell_type": "markdown",
   "id": "searching-eleven",
   "metadata": {},
   "source": [
    "# Extract and reuse nodes in the graph of layers\n",
    "Because the graph of layers you are manipulating is a static data structure, it can be accessed and inspected. And this is how you are able to plot functional models as images.\n",
    "\n",
    "This also means that you can access the activations of intermediate layers (\"nodes\" in the graph) and reuse them elsewhere -- which is very useful for something like feature extraction.\n",
    "\n",
    "Let's look at an example. This is a VGG19 model with weights pretrained on ImageNet:"
   ]
  },
  {
   "cell_type": "code",
   "execution_count": 34,
   "id": "anonymous-cloud",
   "metadata": {},
   "outputs": [
    {
     "name": "stdout",
     "output_type": "stream",
     "text": [
      "Downloading data from https://storage.googleapis.com/tensorflow/keras-applications/vgg19/vgg19_weights_tf_dim_ordering_tf_kernels.h5\n",
      "574717952/574710816 [==============================] - 19s 0us/step\n"
     ]
    }
   ],
   "source": [
    "vgg19 = tf.keras.applications.VGG19()"
   ]
  },
  {
   "cell_type": "markdown",
   "id": "public-movie",
   "metadata": {},
   "source": [
    "And these are the intermediate activations of the model, obtained by querying the graph data structure:"
   ]
  },
  {
   "cell_type": "code",
   "execution_count": 35,
   "id": "alternate-dream",
   "metadata": {},
   "outputs": [],
   "source": [
    "features_list = [layer.output for layer in vgg19.layers]"
   ]
  },
  {
   "cell_type": "markdown",
   "id": "ultimate-trunk",
   "metadata": {},
   "source": [
    "Use these features to create a new feature-extraction model that returns the values of the intermediate layer activations:"
   ]
  },
  {
   "cell_type": "code",
   "execution_count": 36,
   "id": "southwest-elevation",
   "metadata": {},
   "outputs": [],
   "source": [
    "feat_extraction_model = models.Model(inputs=vgg19.input, outputs=features_list)\n",
    "\n",
    "img = np.random.random((1, 224, 224, 3)).astype(\"float32\")\n",
    "extracted_features = feat_extraction_model(img)"
   ]
  },
  {
   "cell_type": "markdown",
   "id": "technological-charter",
   "metadata": {},
   "source": [
    "This comes in handy for tasks like [neural style transfer](https://keras.io/examples/generative/neural_style_transfer/), among other things."
   ]
  },
  {
   "cell_type": "markdown",
   "id": "stupid-definition",
   "metadata": {},
   "source": [
    "# Extend the API using custom layers"
   ]
  },
  {
   "cell_type": "markdown",
   "id": "alleged-belgium",
   "metadata": {},
   "source": [
    "tf.keras includes a wide range of built-in layers, for example:\n",
    "* Convolutional layers: Conv1D, Conv2D, Conv3D, Conv2DTranspose\n",
    "* Pooling layers: MaxPooling1D, MaxPooling2D, MaxPooling3D, AveragePooling1D\n",
    "* RNN layers: GRU, LSTM, ConvLSTM2D\n",
    "* BatchNormalization, Dropout, Embedding, etc."
   ]
  },
  {
   "cell_type": "markdown",
   "id": "alert-alabama",
   "metadata": {},
   "source": [
    "But if you don't find what you need, it's easy to extend the API by creating your own layers. All layers subclass the Layer class and implement:\n",
    "\n",
    "* call method, that specifies the computation done by the layer.\n",
    "* build method, that creates the weights of the layer (this is just a style convention since you can create weights in __init__, as well).\n",
    "\n",
    "To learn more about creating layers from scratch, read custom layers and models guide."
   ]
  },
  {
   "cell_type": "markdown",
   "id": "atmospheric-reggae",
   "metadata": {},
   "source": [
    "The following is a basic implementation of tf.keras.layers.Dense:"
   ]
  },
  {
   "cell_type": "code",
   "execution_count": 37,
   "id": "exempt-instrument",
   "metadata": {},
   "outputs": [],
   "source": [
    "class CustomDense(layers.Layer):\n",
    "    def __init__(self, units=32):\n",
    "        super(CustomDense, self).__init__()\n",
    "        self.units = units\n",
    "\n",
    "    def build(self, input_shape):\n",
    "        self.w = self.add_weight(\n",
    "            shape=(input_shape[-1], self.units),\n",
    "            initializer=\"random_normal\",\n",
    "            trainable=True,\n",
    "        )\n",
    "        self.b = self.add_weight(\n",
    "            shape=(self.units,), initializer=\"random_normal\", trainable=True\n",
    "        )\n",
    "\n",
    "    def call(self, inputs):\n",
    "        return tf.matmul(inputs, self.w) + self.b"
   ]
  },
  {
   "cell_type": "code",
   "execution_count": 38,
   "id": "lightweight-raise",
   "metadata": {},
   "outputs": [],
   "source": [
    "inputs = layers.Input((4,))\n",
    "outputs = CustomDense(10)(inputs)\n",
    "\n",
    "model = models.Model(inputs, outputs)"
   ]
  },
  {
   "cell_type": "markdown",
   "id": "unlikely-shoot",
   "metadata": {},
   "source": [
    "For serialization support in your custom layer, define a get_config method that returns the constructor arguments of the layer instance:"
   ]
  },
  {
   "cell_type": "code",
   "execution_count": 39,
   "id": "explicit-necessity",
   "metadata": {},
   "outputs": [],
   "source": [
    "class CustomDense(layers.Layer):\n",
    "    def __init__(self, units=32):\n",
    "        super(CustomDense, self).__init__()\n",
    "        self.units = units\n",
    "\n",
    "    def build(self, input_shape):\n",
    "        self.w = self.add_weight(\n",
    "            shape=(input_shape[-1], self.units),\n",
    "            initializer=\"random_normal\",\n",
    "            trainable=True,\n",
    "        )\n",
    "        self.b = self.add_weight(\n",
    "            shape=(self.units,), initializer=\"random_normal\", trainable=True\n",
    "        )\n",
    "\n",
    "    def call(self, inputs):\n",
    "        return tf.matmul(inputs, self.w) + self.b\n",
    "\n",
    "    def get_config(self):\n",
    "        return {\"units\": self.units}"
   ]
  },
  {
   "cell_type": "code",
   "execution_count": 40,
   "id": "willing-albert",
   "metadata": {},
   "outputs": [],
   "source": [
    "inputs = layers.Input((4,))\n",
    "outputs = CustomDense(10)(inputs)"
   ]
  },
  {
   "cell_type": "code",
   "execution_count": 41,
   "id": "nonprofit-ballot",
   "metadata": {},
   "outputs": [],
   "source": [
    "model = models.Model(inputs, outputs)\n",
    "config = model.get_config()"
   ]
  },
  {
   "cell_type": "code",
   "execution_count": 42,
   "id": "superb-prompt",
   "metadata": {},
   "outputs": [],
   "source": [
    "new_model = models.Model.from_config(config, custom_objects={\"CustomDense\": CustomDense})"
   ]
  },
  {
   "cell_type": "markdown",
   "id": "experimental-knitting",
   "metadata": {},
   "source": [
    "Optionally, implement the class method from_config(cls, config) which is used when recreating a layer instance given its config dictionary. The default implementation of from_config is:"
   ]
  },
  {
   "cell_type": "code",
   "execution_count": 43,
   "id": "fatty-spanish",
   "metadata": {},
   "outputs": [],
   "source": [
    "def from_config(cls, config):\n",
    "  return cls(**config)"
   ]
  },
  {
   "cell_type": "markdown",
   "id": "burning-aaron",
   "metadata": {},
   "source": [
    "# When to use the functional API\n",
    "Should you use the Keras functional API to create a new model, or just subclass the Model class directly? In general, the functional API is higher-level, easier and safer, and has a number of features that subclassed models do not support.\n",
    "\n",
    "However, model subclassing provides greater flexibility when building models that are not easily expressible as directed acyclic graphs of layers. For example, you could not implement a Tree-RNN with the functional API and would have to subclass Model directly.\n",
    "\n",
    "For an in-depth look at the differences between the functional API and model subclassing, read [What are Symbolic and Imperative APIs in TensorFlow 2.0?](https://blog.tensorflow.org/2019/01/what-are-symbolic-and-imperative-apis.html)."
   ]
  },
  {
   "cell_type": "markdown",
   "id": "coordinate-technique",
   "metadata": {},
   "source": [
    "Functional API strengths:\n",
    "\n",
    "The following properties are also true for Sequential models (which are also data structures), but are not true for subclassed models (which are Python bytecode, not data structures).\n",
    "\n",
    "Less verbose\n",
    "There is no super(MyClass, self).__init__(...), no def call(self, ...):, etc.\n",
    "\n",
    "Compare:"
   ]
  },
  {
   "cell_type": "code",
   "execution_count": 45,
   "id": "enabling-karma",
   "metadata": {},
   "outputs": [],
   "source": [
    "inputs = layers.Input(shape=(32,))\n",
    "x = layers.Dense(64, activation='relu')(inputs)\n",
    "outputs = layers.Dense(10)(x)\n",
    "mlp = models.Model(inputs, outputs)"
   ]
  },
  {
   "cell_type": "markdown",
   "id": "infinite-collector",
   "metadata": {},
   "source": [
    "With the subclassed version:"
   ]
  },
  {
   "cell_type": "code",
   "execution_count": 47,
   "id": "funded-imagination",
   "metadata": {},
   "outputs": [],
   "source": [
    "class MLP(models.Model):\n",
    "\n",
    "  def __init__(self, **kwargs):\n",
    "    super(MLP, self).__init__(**kwargs)\n",
    "    self.dense_1 = layers.Dense(64, activation='relu')\n",
    "    self.dense_2 = layers.Dense(10)\n",
    "\n",
    "  def call(self, inputs):\n",
    "    x = self.dense_1(inputs)\n",
    "    return self.dense_2(x)\n",
    "\n",
    "# Instantiate the model.\n",
    "mlp = MLP()\n",
    "# Necessary to create the model's state.\n",
    "# The model doesn't have a state until it's called at least once.\n",
    "_ = mlp(tf.zeros((1, 32)))"
   ]
  },
  {
   "cell_type": "markdown",
   "id": "alpine-shock",
   "metadata": {},
   "source": [
    "**Model validation while defining its connectivity graph**\n",
    "\n",
    "In the functional API, the input specification (shape and dtype) is created in advance (using Input). Every time you call a layer, the layer checks that the specification passed to it matches its assumptions, and it will raise a helpful error message if not.\n",
    "\n",
    "This guarantees that any model you can build with the functional API will run. All debugging -- other than convergence-related debugging -- happens statically during the model construction and not at execution time. This is similar to type checking in a compiler.\n",
    "\n",
    "**A functional model is plottable and inspectable**\n",
    "\n",
    "You can plot the model as a graph, and you can easily access intermediate nodes in this graph. For example, to extract and reuse the activations of intermediate layers (as seen in a previous example):"
   ]
  },
  {
   "cell_type": "code",
   "execution_count": 49,
   "id": "right-conditioning",
   "metadata": {},
   "outputs": [],
   "source": [
    "features_list = [layer.output for layer in vgg19.layers]\n",
    "feat_extraction_model = models.Model(inputs=vgg19.input, outputs=features_list)"
   ]
  },
  {
   "cell_type": "markdown",
   "id": "introductory-entry",
   "metadata": {},
   "source": [
    "**A functional model can be serialized or cloned**\n",
    "\n",
    "Because a functional model is a data structure rather than a piece of code, it is safely serializable and can be saved as a single file that allows you to recreate the exact same model without having access to any of the original code. See the serialization & saving guide.\n",
    "\n",
    "To serialize a subclassed model, it is necessary for the implementer to specify a get_config() and from_config() method at the model level.\n",
    "\n",
    "**Functional API weakness:**\n",
    "\n",
    "It does not support dynamic architectures\n",
    "The functional API treats models as DAGs of layers. This is true for most deep learning architectures, but not all -- for example, recursive networks or Tree RNNs do not follow this assumption and cannot be implemented in the functional API."
   ]
  },
  {
   "cell_type": "markdown",
   "id": "common-kingdom",
   "metadata": {},
   "source": [
    "# Mix-and-match API styles\n",
    "Choosing between the functional API or Model subclassing isn't a binary decision that restricts you into one category of models. All models in the tf.keras API can interact with each other, whether they're Sequential models, functional models, or subclassed models that are written from scratch.\n",
    "\n",
    "You can always use a functional model or Sequential model as part of a subclassed model or layer:"
   ]
  },
  {
   "cell_type": "code",
   "execution_count": 51,
   "id": "burning-dancing",
   "metadata": {},
   "outputs": [
    {
     "name": "stdout",
     "output_type": "stream",
     "text": [
      "(1, 10, 32)\n"
     ]
    }
   ],
   "source": [
    "units = 32\n",
    "timesteps = 10\n",
    "input_dim = 5\n",
    "\n",
    "# Define a Functional model\n",
    "inputs = layers.Input((None, units))\n",
    "x = layers.GlobalAveragePooling1D()(inputs)\n",
    "outputs = layers.Dense(1)(x)\n",
    "model = models.Model(inputs, outputs)\n",
    "\n",
    "\n",
    "class CustomRNN(layers.Layer):\n",
    "    def __init__(self):\n",
    "        super(CustomRNN, self).__init__()\n",
    "        self.units = units\n",
    "        self.projection_1 = layers.Dense(units=units, activation=\"tanh\")\n",
    "        self.projection_2 = layers.Dense(units=units, activation=\"tanh\")\n",
    "        # Our previously-defined Functional model\n",
    "        self.classifier = model\n",
    "\n",
    "    def call(self, inputs):\n",
    "        outputs = []\n",
    "        state = tf.zeros(shape=(inputs.shape[0], self.units))\n",
    "        for t in range(inputs.shape[1]):\n",
    "            x = inputs[:, t, :]\n",
    "            h = self.projection_1(x)\n",
    "            y = h + self.projection_2(state)\n",
    "            state = y\n",
    "            outputs.append(y)\n",
    "        features = tf.stack(outputs, axis=1)\n",
    "        print(features.shape)\n",
    "        return self.classifier(features)\n",
    "\n",
    "\n",
    "rnn_model = CustomRNN()\n",
    "_ = rnn_model(tf.zeros((1, timesteps, input_dim)))"
   ]
  },
  {
   "cell_type": "markdown",
   "id": "defensive-change",
   "metadata": {},
   "source": [
    "You can use any subclassed layer or model in the functional API as long as it implements a call method that follows one of the following patterns:\n",
    "\n",
    "* call(self, inputs, **kwargs) -- Where inputs is a tensor or a nested structure of tensors (e.g. a list of tensors), and where **kwargs are non-tensor arguments (non-inputs).\n",
    "*call(self, inputs, training=None, **kwargs) -- Where training is a boolean indicating whether the layer should behave in training mode and inference mode.\n",
    "*call(self, inputs, mask=None, **kwargs) -- Where mask is a boolean mask tensor (useful for RNNs, for instance).\n",
    "*call(self, inputs, training=None, mask=None, **kwargs) -- Of course, you can have both masking and training-specific behavior at the same time.\n",
    "\n",
    "Additionally, if you implement the get_config method on your custom Layer or model, the functional models you create will still be serializable and cloneable.\n",
    "\n",
    "Here's a quick example of a custom RNN, written from scratch, being used in a functional model:"
   ]
  },
  {
   "cell_type": "code",
   "execution_count": 53,
   "id": "neutral-translator",
   "metadata": {},
   "outputs": [],
   "source": [
    "units = 32\n",
    "timesteps = 10\n",
    "input_dim = 5\n",
    "batch_size = 16\n",
    "\n",
    "\n",
    "class CustomRNN(layers.Layer):\n",
    "    def __init__(self):\n",
    "        super(CustomRNN, self).__init__()\n",
    "        self.units = units\n",
    "        self.projection_1 = layers.Dense(units=units, activation=\"tanh\")\n",
    "        self.projection_2 = layers.Dense(units=units, activation=\"tanh\")\n",
    "        self.classifier = layers.Dense(1)\n",
    "\n",
    "    def call(self, inputs):\n",
    "        outputs = []\n",
    "        state = tf.zeros(shape=(inputs.shape[0], self.units))\n",
    "        for t in range(inputs.shape[1]):\n",
    "            x = inputs[:, t, :]\n",
    "            h = self.projection_1(x)\n",
    "            y = h + self.projection_2(state)\n",
    "            state = y\n",
    "            outputs.append(y)\n",
    "        features = tf.stack(outputs, axis=1)\n",
    "        return self.classifier(features)\n",
    "\n",
    "\n",
    "# Note that you specify a static batch size for the inputs with the `batch_shape`\n",
    "# arg, because the inner computation of `CustomRNN` requires a static batch size\n",
    "# (when you create the `state` zeros tensor).\n",
    "inputs = layers.Input(batch_shape=(batch_size, timesteps, input_dim))\n",
    "x = layers.Conv1D(32, 3)(inputs)\n",
    "outputs = CustomRNN()(x)\n",
    "\n",
    "model = models.Model(inputs, outputs)\n",
    "\n",
    "rnn_model = CustomRNN()\n",
    "_ = rnn_model(tf.zeros((1, 10, 5)))"
   ]
  },
  {
   "cell_type": "code",
   "execution_count": null,
   "id": "executive-contrast",
   "metadata": {},
   "outputs": [],
   "source": []
  },
  {
   "cell_type": "code",
   "execution_count": null,
   "id": "anonymous-browser",
   "metadata": {},
   "outputs": [],
   "source": []
  },
  {
   "cell_type": "code",
   "execution_count": null,
   "id": "proper-verification",
   "metadata": {},
   "outputs": [],
   "source": []
  },
  {
   "cell_type": "code",
   "execution_count": null,
   "id": "incorporate-hawaii",
   "metadata": {},
   "outputs": [],
   "source": []
  },
  {
   "cell_type": "code",
   "execution_count": null,
   "id": "spiritual-bloom",
   "metadata": {},
   "outputs": [],
   "source": []
  },
  {
   "cell_type": "code",
   "execution_count": null,
   "id": "diagnostic-analysis",
   "metadata": {},
   "outputs": [],
   "source": []
  },
  {
   "cell_type": "code",
   "execution_count": null,
   "id": "willing-faculty",
   "metadata": {},
   "outputs": [],
   "source": []
  },
  {
   "cell_type": "code",
   "execution_count": null,
   "id": "emotional-turner",
   "metadata": {},
   "outputs": [],
   "source": []
  }
 ],
 "metadata": {
  "kernelspec": {
   "display_name": "Python 3",
   "language": "python",
   "name": "python3"
  },
  "language_info": {
   "codemirror_mode": {
    "name": "ipython",
    "version": 3
   },
   "file_extension": ".py",
   "mimetype": "text/x-python",
   "name": "python",
   "nbconvert_exporter": "python",
   "pygments_lexer": "ipython3",
   "version": "3.8.8"
  }
 },
 "nbformat": 4,
 "nbformat_minor": 5
}
