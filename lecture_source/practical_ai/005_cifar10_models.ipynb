{
 "cells": [
  {
   "cell_type": "markdown",
   "id": "streaming-brook",
   "metadata": {},
   "source": [
    "<div class=\"alert alert-block alert-success\">\n",
    "    <b><center>CNN Basic Examples</center></b>\n",
    "    <b><center>RSNET</center></b>\n",
    "</div>"
   ]
  },
  {
   "cell_type": "markdown",
   "id": "light-tennessee",
   "metadata": {},
   "source": [
    "# Configure Learning Environment"
   ]
  },
  {
   "cell_type": "code",
   "execution_count": 1,
   "id": "isolated-quarter",
   "metadata": {},
   "outputs": [],
   "source": [
    "# !pip install git+https://github.com/nockchun/rspy --force\n",
    "# !pip install mybatis_mapper2sql\n",
    "import rspy as rsp\n",
    "rsp.setSystemWarning(off=True)"
   ]
  },
  {
   "cell_type": "code",
   "execution_count": 2,
   "id": "muslim-thanksgiving",
   "metadata": {},
   "outputs": [],
   "source": [
    "import numpy as np\n",
    "\n",
    "import tensorflow as tf\n",
    "from tensorflow.keras import layers, models, losses, optimizers, datasets, preprocessing, utils"
   ]
  },
  {
   "cell_type": "code",
   "execution_count": 3,
   "id": "religious-apollo",
   "metadata": {},
   "outputs": [],
   "source": [
    "from ipywidgets import interact\n",
    "import matplotlib.pyplot as plt\n",
    "import pandas as pd"
   ]
  },
  {
   "cell_type": "code",
   "execution_count": 4,
   "id": "colored-exhaust",
   "metadata": {},
   "outputs": [
    {
     "data": {
      "text/plain": [
       "'2.2.0'"
      ]
     },
     "execution_count": 4,
     "metadata": {},
     "output_type": "execute_result"
    }
   ],
   "source": [
    "np.set_printoptions(linewidth=200, precision=2)\n",
    "tf.__version__"
   ]
  },
  {
   "cell_type": "markdown",
   "id": "informed-simpson",
   "metadata": {},
   "source": [
    "# CIFAR10 Dataset\n",
    "The CIFAR10 dataset contains 60,000 color images in 10 classes, with 6,000 images in each class. The dataset is divided into 50,000 training images and 10,000 testing images. The classes are mutually exclusive and there is no overlap between them."
   ]
  },
  {
   "cell_type": "code",
   "execution_count": 5,
   "id": "traditional-lemon",
   "metadata": {},
   "outputs": [
    {
     "data": {
      "text/plain": [
       "((50000, 32, 32, 3), (50000, 1), (10000, 32, 32, 3), (10000, 1))"
      ]
     },
     "execution_count": 5,
     "metadata": {},
     "output_type": "execute_result"
    }
   ],
   "source": [
    "# Download the mnist dataset using keras\n",
    "(train_data, train_label), (test_data, test_label) = datasets.cifar10.load_data()\n",
    "train_data.shape, train_label.shape, test_data.shape, test_label.shape"
   ]
  },
  {
   "cell_type": "code",
   "execution_count": 6,
   "id": "retired-denial",
   "metadata": {},
   "outputs": [
    {
     "data": {
      "text/plain": [
       "'Train labels: {0: 5000, 1: 5000, 2: 5000, 3: 5000, 4: 5000, 5: 5000, 6: 5000, 7: 5000, 8: 5000, 9: 5000}'"
      ]
     },
     "execution_count": 6,
     "metadata": {},
     "output_type": "execute_result"
    }
   ],
   "source": [
    "# Counting unique value of train data\n",
    "unique, counts = np.unique(train_label, return_counts=True)\n",
    "num_labels = len(unique)\n",
    "f\"Train labels: {dict(zip(unique, counts))}\""
   ]
  },
  {
   "cell_type": "markdown",
   "id": "alternate-organization",
   "metadata": {},
   "source": [
    "# Preprocessing"
   ]
  },
  {
   "cell_type": "code",
   "execution_count": 7,
   "id": "alternate-devil",
   "metadata": {},
   "outputs": [],
   "source": [
    "# Normalizing\n",
    "train_data_proc = train_data / 255\n",
    "test_data_proc = test_data / 255\n",
    "\n",
    "#One hot encoding\n",
    "train_label_proc = utils.to_categorical(train_label, 10)\n",
    "test_label_proc = utils.to_categorical(test_label, 10)"
   ]
  },
  {
   "cell_type": "markdown",
   "id": "unique-dating",
   "metadata": {},
   "source": [
    "# Base-Line Model"
   ]
  },
  {
   "cell_type": "code",
   "execution_count": 8,
   "id": "prerequisite-story",
   "metadata": {},
   "outputs": [],
   "source": [
    "input_base = layers.Input((32, 32, 3))"
   ]
  },
  {
   "cell_type": "code",
   "execution_count": 9,
   "id": "ordered-rogers",
   "metadata": {},
   "outputs": [],
   "source": [
    "layer_base = layers.Conv2D(32, 4, activation=\"relu\")(input_base)\n",
    "layer_base = layers.MaxPool2D(2)(layer_base)\n",
    "layer_base = layers.Conv2D(64, 3, activation=\"relu\")(layer_base)\n",
    "layer_base = layers.MaxPool2D(2)(layer_base)"
   ]
  },
  {
   "cell_type": "code",
   "execution_count": 10,
   "id": "patent-custody",
   "metadata": {},
   "outputs": [],
   "source": [
    "layer_base  = layers.Flatten()(layer_base)\n",
    "layer_base  = layers.Dense(256, activation=\"relu\")(layer_base)\n",
    "output_base = layers.Dense(10, activation=\"softmax\")(layer_base)"
   ]
  },
  {
   "cell_type": "code",
   "execution_count": 11,
   "id": "directed-diana",
   "metadata": {},
   "outputs": [
    {
     "name": "stdout",
     "output_type": "stream",
     "text": [
      "Model: \"model\"\n",
      "_________________________________________________________________\n",
      "Layer (type)                 Output Shape              Param #   \n",
      "=================================================================\n",
      "input_1 (InputLayer)         [(None, 32, 32, 3)]       0         \n",
      "_________________________________________________________________\n",
      "conv2d (Conv2D)              (None, 29, 29, 32)        1568      \n",
      "_________________________________________________________________\n",
      "max_pooling2d (MaxPooling2D) (None, 14, 14, 32)        0         \n",
      "_________________________________________________________________\n",
      "conv2d_1 (Conv2D)            (None, 12, 12, 64)        18496     \n",
      "_________________________________________________________________\n",
      "max_pooling2d_1 (MaxPooling2 (None, 6, 6, 64)          0         \n",
      "_________________________________________________________________\n",
      "flatten (Flatten)            (None, 2304)              0         \n",
      "_________________________________________________________________\n",
      "dense (Dense)                (None, 256)               590080    \n",
      "_________________________________________________________________\n",
      "dense_1 (Dense)              (None, 10)                2570      \n",
      "=================================================================\n",
      "Total params: 612,714\n",
      "Trainable params: 612,714\n",
      "Non-trainable params: 0\n",
      "_________________________________________________________________\n"
     ]
    }
   ],
   "source": [
    "model_base = models.Model(input_base, output_base)\n",
    "model_base.summary()"
   ]
  },
  {
   "cell_type": "code",
   "execution_count": 12,
   "id": "seeing-conditions",
   "metadata": {},
   "outputs": [],
   "source": [
    "model_base.compile(\n",
    "    loss=losses.CategoricalCrossentropy(),\n",
    "    optimizer=optimizers.Adam(),\n",
    "    metrics=[\"accuracy\"],\n",
    ")"
   ]
  },
  {
   "cell_type": "code",
   "execution_count": 13,
   "id": "pretty-dominant",
   "metadata": {},
   "outputs": [
    {
     "name": "stdout",
     "output_type": "stream",
     "text": [
      "Epoch 1/50\n",
      "196/196 [==============================] - 15s 79ms/step - loss: 1.6151 - accuracy: 0.4225 - val_loss: 1.4065 - val_accuracy: 0.5060\n",
      "Epoch 2/50\n",
      "196/196 [==============================] - 1s 5ms/step - loss: 1.2655 - accuracy: 0.5548 - val_loss: 1.2388 - val_accuracy: 0.5607\n",
      "Epoch 3/50\n",
      "196/196 [==============================] - 1s 5ms/step - loss: 1.1190 - accuracy: 0.6070 - val_loss: 1.0994 - val_accuracy: 0.6178\n",
      "Epoch 4/50\n",
      "196/196 [==============================] - 1s 5ms/step - loss: 1.0232 - accuracy: 0.6462 - val_loss: 1.0160 - val_accuracy: 0.6453\n",
      "Epoch 5/50\n",
      "196/196 [==============================] - 1s 5ms/step - loss: 0.9660 - accuracy: 0.6675 - val_loss: 1.0090 - val_accuracy: 0.6507\n",
      "Epoch 6/50\n",
      "196/196 [==============================] - 1s 5ms/step - loss: 0.9025 - accuracy: 0.6874 - val_loss: 0.9467 - val_accuracy: 0.6723\n",
      "Epoch 7/50\n",
      "196/196 [==============================] - 1s 5ms/step - loss: 0.8502 - accuracy: 0.7063 - val_loss: 0.9491 - val_accuracy: 0.6762\n",
      "Epoch 8/50\n",
      "196/196 [==============================] - 1s 5ms/step - loss: 0.7918 - accuracy: 0.7247 - val_loss: 0.9434 - val_accuracy: 0.6796\n",
      "Epoch 9/50\n",
      "196/196 [==============================] - 1s 5ms/step - loss: 0.7502 - accuracy: 0.7398 - val_loss: 0.8991 - val_accuracy: 0.6992\n",
      "Epoch 10/50\n",
      "196/196 [==============================] - 1s 5ms/step - loss: 0.6943 - accuracy: 0.7609 - val_loss: 0.8872 - val_accuracy: 0.6991\n",
      "Epoch 11/50\n",
      "196/196 [==============================] - 1s 5ms/step - loss: 0.6561 - accuracy: 0.7725 - val_loss: 0.8965 - val_accuracy: 0.6915\n",
      "Epoch 12/50\n",
      "196/196 [==============================] - 1s 5ms/step - loss: 0.6039 - accuracy: 0.7917 - val_loss: 0.8879 - val_accuracy: 0.7092\n",
      "Epoch 13/50\n",
      "196/196 [==============================] - 1s 5ms/step - loss: 0.5589 - accuracy: 0.8089 - val_loss: 0.9009 - val_accuracy: 0.7025\n",
      "Epoch 14/50\n",
      "196/196 [==============================] - 1s 5ms/step - loss: 0.5291 - accuracy: 0.8175 - val_loss: 0.9077 - val_accuracy: 0.7007\n",
      "Epoch 15/50\n",
      "196/196 [==============================] - 1s 5ms/step - loss: 0.4855 - accuracy: 0.8329 - val_loss: 0.9003 - val_accuracy: 0.7105\n",
      "Epoch 16/50\n",
      "196/196 [==============================] - 1s 5ms/step - loss: 0.4400 - accuracy: 0.8495 - val_loss: 0.9178 - val_accuracy: 0.7113\n",
      "Epoch 17/50\n",
      "196/196 [==============================] - 1s 5ms/step - loss: 0.3947 - accuracy: 0.8663 - val_loss: 0.9564 - val_accuracy: 0.7061\n",
      "Epoch 18/50\n",
      "196/196 [==============================] - 1s 5ms/step - loss: 0.3591 - accuracy: 0.8794 - val_loss: 0.9595 - val_accuracy: 0.7110\n",
      "Epoch 19/50\n",
      "196/196 [==============================] - 1s 5ms/step - loss: 0.3199 - accuracy: 0.8958 - val_loss: 1.0571 - val_accuracy: 0.6978\n",
      "Epoch 20/50\n",
      "196/196 [==============================] - 1s 5ms/step - loss: 0.2915 - accuracy: 0.9037 - val_loss: 1.0788 - val_accuracy: 0.7053\n",
      "Epoch 21/50\n",
      "196/196 [==============================] - 1s 5ms/step - loss: 0.2547 - accuracy: 0.9162 - val_loss: 1.0877 - val_accuracy: 0.7089\n",
      "Epoch 22/50\n",
      "196/196 [==============================] - 1s 5ms/step - loss: 0.2229 - accuracy: 0.9281 - val_loss: 1.1263 - val_accuracy: 0.7066\n",
      "Epoch 23/50\n",
      "196/196 [==============================] - 1s 5ms/step - loss: 0.1938 - accuracy: 0.9392 - val_loss: 1.2328 - val_accuracy: 0.7012\n",
      "Epoch 24/50\n",
      "196/196 [==============================] - 1s 5ms/step - loss: 0.1650 - accuracy: 0.9501 - val_loss: 1.3175 - val_accuracy: 0.6954\n",
      "Epoch 25/50\n",
      "196/196 [==============================] - 1s 5ms/step - loss: 0.1418 - accuracy: 0.9579 - val_loss: 1.3194 - val_accuracy: 0.7046\n",
      "Epoch 26/50\n",
      "196/196 [==============================] - 1s 5ms/step - loss: 0.1137 - accuracy: 0.9680 - val_loss: 1.3976 - val_accuracy: 0.6992\n",
      "Epoch 27/50\n",
      "196/196 [==============================] - 1s 5ms/step - loss: 0.0970 - accuracy: 0.9742 - val_loss: 1.4245 - val_accuracy: 0.6943\n",
      "Epoch 28/50\n",
      "196/196 [==============================] - 1s 5ms/step - loss: 0.0868 - accuracy: 0.9756 - val_loss: 1.5373 - val_accuracy: 0.6959\n",
      "Epoch 29/50\n",
      "196/196 [==============================] - 1s 5ms/step - loss: 0.0783 - accuracy: 0.9789 - val_loss: 1.6615 - val_accuracy: 0.6818\n",
      "Epoch 30/50\n",
      "196/196 [==============================] - 1s 5ms/step - loss: 0.0724 - accuracy: 0.9794 - val_loss: 1.6635 - val_accuracy: 0.6911\n",
      "Epoch 31/50\n",
      "196/196 [==============================] - 1s 5ms/step - loss: 0.0529 - accuracy: 0.9873 - val_loss: 1.7160 - val_accuracy: 0.6967\n",
      "Epoch 32/50\n",
      "196/196 [==============================] - 1s 5ms/step - loss: 0.0493 - accuracy: 0.9880 - val_loss: 1.7979 - val_accuracy: 0.6911\n",
      "Epoch 33/50\n",
      "196/196 [==============================] - 1s 5ms/step - loss: 0.0560 - accuracy: 0.9844 - val_loss: 1.8487 - val_accuracy: 0.6866\n",
      "Epoch 34/50\n",
      "196/196 [==============================] - 1s 5ms/step - loss: 0.0576 - accuracy: 0.9827 - val_loss: 1.9638 - val_accuracy: 0.6868\n",
      "Epoch 35/50\n",
      "196/196 [==============================] - 1s 5ms/step - loss: 0.0609 - accuracy: 0.9812 - val_loss: 1.9288 - val_accuracy: 0.6905\n",
      "Epoch 36/50\n",
      "196/196 [==============================] - 1s 5ms/step - loss: 0.0594 - accuracy: 0.9814 - val_loss: 1.9513 - val_accuracy: 0.6962\n",
      "Epoch 37/50\n",
      "196/196 [==============================] - 1s 5ms/step - loss: 0.0410 - accuracy: 0.9888 - val_loss: 2.0030 - val_accuracy: 0.6940\n",
      "Epoch 38/50\n",
      "196/196 [==============================] - 1s 5ms/step - loss: 0.0260 - accuracy: 0.9937 - val_loss: 2.0643 - val_accuracy: 0.6999\n",
      "Epoch 39/50\n",
      "196/196 [==============================] - 1s 5ms/step - loss: 0.0081 - accuracy: 0.9994 - val_loss: 2.1058 - val_accuracy: 0.7011\n",
      "Epoch 40/50\n",
      "196/196 [==============================] - 1s 5ms/step - loss: 0.0044 - accuracy: 0.9999 - val_loss: 2.1510 - val_accuracy: 0.7042\n",
      "Epoch 41/50\n",
      "196/196 [==============================] - 1s 5ms/step - loss: 0.0030 - accuracy: 1.0000 - val_loss: 2.2090 - val_accuracy: 0.7033\n",
      "Epoch 42/50\n",
      "196/196 [==============================] - 1s 5ms/step - loss: 0.0023 - accuracy: 1.0000 - val_loss: 2.2477 - val_accuracy: 0.7041\n",
      "Epoch 43/50\n",
      "196/196 [==============================] - 1s 5ms/step - loss: 0.0018 - accuracy: 1.0000 - val_loss: 2.2870 - val_accuracy: 0.7030\n",
      "Epoch 44/50\n",
      "196/196 [==============================] - 1s 5ms/step - loss: 0.0016 - accuracy: 1.0000 - val_loss: 2.3181 - val_accuracy: 0.7041\n",
      "Epoch 45/50\n",
      "196/196 [==============================] - 1s 5ms/step - loss: 0.0013 - accuracy: 1.0000 - val_loss: 2.3610 - val_accuracy: 0.7041\n",
      "Epoch 46/50\n",
      "196/196 [==============================] - 1s 5ms/step - loss: 0.0012 - accuracy: 1.0000 - val_loss: 2.3834 - val_accuracy: 0.7039\n",
      "Epoch 47/50\n",
      "196/196 [==============================] - 1s 5ms/step - loss: 0.0010 - accuracy: 1.0000 - val_loss: 2.4144 - val_accuracy: 0.7017\n",
      "Epoch 48/50\n",
      "196/196 [==============================] - 1s 5ms/step - loss: 9.3380e-04 - accuracy: 1.0000 - val_loss: 2.4473 - val_accuracy: 0.7022\n",
      "Epoch 49/50\n",
      "196/196 [==============================] - 1s 5ms/step - loss: 8.2653e-04 - accuracy: 1.0000 - val_loss: 2.4830 - val_accuracy: 0.7033\n",
      "Epoch 50/50\n",
      "196/196 [==============================] - 1s 5ms/step - loss: 7.4577e-04 - accuracy: 1.0000 - val_loss: 2.5121 - val_accuracy: 0.7015\n"
     ]
    }
   ],
   "source": [
    "history_base = model_base.fit(\n",
    "    train_data_proc, train_label_proc,\n",
    "    validation_data=(test_data_proc, test_label_proc),\n",
    "    batch_size=256,\n",
    "    epochs=50\n",
    ")"
   ]
  },
  {
   "cell_type": "code",
   "execution_count": 14,
   "id": "activated-synthesis",
   "metadata": {},
   "outputs": [
    {
     "data": {
      "text/plain": [
       "<AxesSubplot:>"
      ]
     },
     "execution_count": 14,
     "metadata": {},
     "output_type": "execute_result"
    },
    {
     "data": {
      "image/png": "[encoded data removed]",
      "text/plain": [
       "<Figure size 432x288 with 1 Axes>"
      ]
     },
     "metadata": {
      "needs_background": "light"
     },
     "output_type": "display_data"
    }
   ],
   "source": [
    "pd.DataFrame(history_base.history).plot()"
   ]
  },
  {
   "cell_type": "markdown",
   "id": "fatty-denmark",
   "metadata": {},
   "source": [
    "# Advanced Model"
   ]
  },
  {
   "cell_type": "code",
   "execution_count": 15,
   "id": "operating-fireplace",
   "metadata": {},
   "outputs": [],
   "source": [
    "input_adv = layers.Input((32, 32, 3))"
   ]
  },
  {
   "cell_type": "code",
   "execution_count": 16,
   "id": "color-startup",
   "metadata": {},
   "outputs": [],
   "source": [
    "layer_adv = layers.Conv2D(32, 4, activation=\"relu\")(input_adv)\n",
    "layer_adv = layers.Conv2D(32, 4, activation=\"relu\")(input_adv)\n",
    "layer_adv = layers.MaxPool2D(2)(layer_adv)\n",
    "layer_adv = layers.Conv2D(64, 3, padding=\"same\", activation=\"relu\")(layer_adv)\n",
    "layer_adv = layers.Conv2D(64, 3, padding=\"same\", activation=\"relu\")(layer_adv)\n",
    "layer_adv = layers.MaxPool2D(2)(layer_adv)\n",
    "layer_adv = layers.Conv2D(128, 3, padding=\"same\", dilation_rate=2, activation=\"relu\")(layer_adv)\n",
    "layer_adv  = layers.GlobalAveragePooling2D()(layer_adv)"
   ]
  },
  {
   "cell_type": "code",
   "execution_count": 17,
   "id": "annual-decline",
   "metadata": {},
   "outputs": [],
   "source": [
    "output_adv = layers.Dense(10, activation=\"softmax\")(layer_adv)"
   ]
  },
  {
   "cell_type": "code",
   "execution_count": 18,
   "id": "generic-journal",
   "metadata": {},
   "outputs": [
    {
     "name": "stdout",
     "output_type": "stream",
     "text": [
      "Model: \"model_1\"\n",
      "_________________________________________________________________\n",
      "Layer (type)                 Output Shape              Param #   \n",
      "=================================================================\n",
      "input_2 (InputLayer)         [(None, 32, 32, 3)]       0         \n",
      "_________________________________________________________________\n",
      "conv2d_3 (Conv2D)            (None, 29, 29, 32)        1568      \n",
      "_________________________________________________________________\n",
      "max_pooling2d_2 (MaxPooling2 (None, 14, 14, 32)        0         \n",
      "_________________________________________________________________\n",
      "conv2d_4 (Conv2D)            (None, 14, 14, 64)        18496     \n",
      "_________________________________________________________________\n",
      "conv2d_5 (Conv2D)            (None, 14, 14, 64)        36928     \n",
      "_________________________________________________________________\n",
      "max_pooling2d_3 (MaxPooling2 (None, 7, 7, 64)          0         \n",
      "_________________________________________________________________\n",
      "conv2d_6 (Conv2D)            (None, 7, 7, 128)         73856     \n",
      "_________________________________________________________________\n",
      "global_average_pooling2d (Gl (None, 128)               0         \n",
      "_________________________________________________________________\n",
      "dense_2 (Dense)              (None, 10)                1290      \n",
      "=================================================================\n",
      "Total params: 132,138\n",
      "Trainable params: 132,138\n",
      "Non-trainable params: 0\n",
      "_________________________________________________________________\n"
     ]
    }
   ],
   "source": [
    "model_adv = models.Model(input_adv, output_adv)\n",
    "model_adv.summary()"
   ]
  },
  {
   "cell_type": "code",
   "execution_count": 19,
   "id": "superior-millennium",
   "metadata": {},
   "outputs": [],
   "source": [
    "model_adv.compile(\n",
    "    loss=losses.CategoricalCrossentropy(),\n",
    "    optimizer=optimizers.Adam(),\n",
    "    metrics=[\"accuracy\"],\n",
    ")"
   ]
  },
  {
   "cell_type": "code",
   "execution_count": 20,
   "id": "broke-canon",
   "metadata": {},
   "outputs": [
    {
     "name": "stdout",
     "output_type": "stream",
     "text": [
      "Epoch 1/50\n",
      "196/196 [==============================] - 39s 200ms/step - loss: 1.8343 - accuracy: 0.3126 - val_loss: 1.6229 - val_accuracy: 0.4035\n",
      "Epoch 2/50\n",
      "196/196 [==============================] - 2s 8ms/step - loss: 1.5472 - accuracy: 0.4260 - val_loss: 1.5174 - val_accuracy: 0.4375\n",
      "Epoch 3/50\n",
      "196/196 [==============================] - 2s 8ms/step - loss: 1.4258 - accuracy: 0.4794 - val_loss: 1.3482 - val_accuracy: 0.5150\n",
      "Epoch 4/50\n",
      "196/196 [==============================] - 2s 8ms/step - loss: 1.3434 - accuracy: 0.5177 - val_loss: 1.2907 - val_accuracy: 0.5370\n",
      "Epoch 5/50\n",
      "196/196 [==============================] - 2s 8ms/step - loss: 1.2716 - accuracy: 0.5453 - val_loss: 1.2220 - val_accuracy: 0.5697\n",
      "Epoch 6/50\n",
      "196/196 [==============================] - 2s 8ms/step - loss: 1.2132 - accuracy: 0.5673 - val_loss: 1.2078 - val_accuracy: 0.5751\n",
      "Epoch 7/50\n",
      "196/196 [==============================] - 2s 8ms/step - loss: 1.1525 - accuracy: 0.5953 - val_loss: 1.1253 - val_accuracy: 0.5998\n",
      "Epoch 8/50\n",
      "196/196 [==============================] - 2s 8ms/step - loss: 1.1053 - accuracy: 0.6115 - val_loss: 1.1121 - val_accuracy: 0.6065\n",
      "Epoch 9/50\n",
      "196/196 [==============================] - 2s 8ms/step - loss: 1.0642 - accuracy: 0.6271 - val_loss: 1.0469 - val_accuracy: 0.6290\n",
      "Epoch 10/50\n",
      "196/196 [==============================] - 2s 8ms/step - loss: 1.0245 - accuracy: 0.6422 - val_loss: 1.0259 - val_accuracy: 0.6347\n",
      "Epoch 11/50\n",
      "196/196 [==============================] - 2s 8ms/step - loss: 0.9849 - accuracy: 0.6566 - val_loss: 1.0208 - val_accuracy: 0.6366\n",
      "Epoch 12/50\n",
      "196/196 [==============================] - 2s 8ms/step - loss: 0.9702 - accuracy: 0.6615 - val_loss: 1.0709 - val_accuracy: 0.6308\n",
      "Epoch 13/50\n",
      "196/196 [==============================] - 2s 8ms/step - loss: 0.9274 - accuracy: 0.6767 - val_loss: 0.9749 - val_accuracy: 0.6541\n",
      "Epoch 14/50\n",
      "196/196 [==============================] - 2s 9ms/step - loss: 0.9041 - accuracy: 0.6840 - val_loss: 0.9045 - val_accuracy: 0.6790\n",
      "Epoch 15/50\n",
      "196/196 [==============================] - 2s 8ms/step - loss: 0.8841 - accuracy: 0.6930 - val_loss: 0.9178 - val_accuracy: 0.6757\n",
      "Epoch 16/50\n",
      "196/196 [==============================] - 2s 8ms/step - loss: 0.8555 - accuracy: 0.7013 - val_loss: 0.9307 - val_accuracy: 0.6682\n",
      "Epoch 17/50\n",
      "196/196 [==============================] - 2s 8ms/step - loss: 0.8360 - accuracy: 0.7102 - val_loss: 0.8656 - val_accuracy: 0.6972\n",
      "Epoch 18/50\n",
      "196/196 [==============================] - 2s 8ms/step - loss: 0.8154 - accuracy: 0.7172 - val_loss: 0.8642 - val_accuracy: 0.6944\n",
      "Epoch 19/50\n",
      "196/196 [==============================] - 2s 8ms/step - loss: 0.7935 - accuracy: 0.7254 - val_loss: 0.9820 - val_accuracy: 0.6590\n",
      "Epoch 20/50\n",
      "196/196 [==============================] - 2s 8ms/step - loss: 0.7781 - accuracy: 0.7293 - val_loss: 0.8128 - val_accuracy: 0.7186\n",
      "Epoch 21/50\n",
      "196/196 [==============================] - 2s 8ms/step - loss: 0.7566 - accuracy: 0.7370 - val_loss: 0.8481 - val_accuracy: 0.7026\n",
      "Epoch 22/50\n",
      "196/196 [==============================] - 2s 8ms/step - loss: 0.7374 - accuracy: 0.7439 - val_loss: 0.7960 - val_accuracy: 0.7203\n",
      "Epoch 23/50\n",
      "196/196 [==============================] - 2s 8ms/step - loss: 0.7231 - accuracy: 0.7481 - val_loss: 0.7907 - val_accuracy: 0.7203\n",
      "Epoch 24/50\n",
      "196/196 [==============================] - 2s 8ms/step - loss: 0.7052 - accuracy: 0.7543 - val_loss: 0.8084 - val_accuracy: 0.7187\n",
      "Epoch 25/50\n",
      "196/196 [==============================] - 2s 8ms/step - loss: 0.6895 - accuracy: 0.7625 - val_loss: 0.7779 - val_accuracy: 0.7266\n",
      "Epoch 26/50\n",
      "196/196 [==============================] - 2s 8ms/step - loss: 0.6734 - accuracy: 0.7663 - val_loss: 0.7811 - val_accuracy: 0.7308\n",
      "Epoch 27/50\n",
      "196/196 [==============================] - 2s 8ms/step - loss: 0.6563 - accuracy: 0.7728 - val_loss: 0.7647 - val_accuracy: 0.7323\n",
      "Epoch 28/50\n",
      "196/196 [==============================] - 2s 8ms/step - loss: 0.6479 - accuracy: 0.7745 - val_loss: 0.7607 - val_accuracy: 0.7320\n",
      "Epoch 29/50\n",
      "196/196 [==============================] - 2s 8ms/step - loss: 0.6331 - accuracy: 0.7819 - val_loss: 0.7343 - val_accuracy: 0.7401\n",
      "Epoch 30/50\n",
      "196/196 [==============================] - 2s 8ms/step - loss: 0.6201 - accuracy: 0.7866 - val_loss: 0.7249 - val_accuracy: 0.7610\n",
      "Epoch 31/50\n",
      "196/196 [==============================] - 2s 8ms/step - loss: 0.6071 - accuracy: 0.7889 - val_loss: 0.7186 - val_accuracy: 0.7502\n",
      "Epoch 32/50\n",
      "196/196 [==============================] - 2s 8ms/step - loss: 0.5880 - accuracy: 0.7958 - val_loss: 0.7438 - val_accuracy: 0.7414\n",
      "Epoch 33/50\n",
      "196/196 [==============================] - 2s 8ms/step - loss: 0.5817 - accuracy: 0.7972 - val_loss: 0.7169 - val_accuracy: 0.7564\n",
      "Epoch 34/50\n",
      "196/196 [==============================] - 2s 8ms/step - loss: 0.5650 - accuracy: 0.8044 - val_loss: 0.6948 - val_accuracy: 0.7644\n",
      "Epoch 35/50\n",
      "196/196 [==============================] - 2s 8ms/step - loss: 0.5550 - accuracy: 0.8079 - val_loss: 0.7131 - val_accuracy: 0.7553\n",
      "Epoch 36/50\n",
      "196/196 [==============================] - 2s 8ms/step - loss: 0.5489 - accuracy: 0.8114 - val_loss: 0.6823 - val_accuracy: 0.7647\n",
      "Epoch 37/50\n",
      "196/196 [==============================] - 2s 8ms/step - loss: 0.5320 - accuracy: 0.8154 - val_loss: 0.7031 - val_accuracy: 0.7641\n",
      "Epoch 38/50\n",
      "196/196 [==============================] - 2s 8ms/step - loss: 0.5221 - accuracy: 0.8196 - val_loss: 0.7195 - val_accuracy: 0.7561\n",
      "Epoch 39/50\n",
      "196/196 [==============================] - 2s 8ms/step - loss: 0.5097 - accuracy: 0.8232 - val_loss: 0.7037 - val_accuracy: 0.7584\n",
      "Epoch 40/50\n",
      "196/196 [==============================] - 2s 8ms/step - loss: 0.4963 - accuracy: 0.8294 - val_loss: 0.7672 - val_accuracy: 0.7353\n",
      "Epoch 41/50\n",
      "196/196 [==============================] - 2s 8ms/step - loss: 0.4997 - accuracy: 0.8286 - val_loss: 0.7884 - val_accuracy: 0.7431\n",
      "Epoch 42/50\n",
      "196/196 [==============================] - 2s 8ms/step - loss: 0.4847 - accuracy: 0.8310 - val_loss: 0.6861 - val_accuracy: 0.7697\n",
      "Epoch 43/50\n",
      "196/196 [==============================] - 2s 8ms/step - loss: 0.4728 - accuracy: 0.8350 - val_loss: 0.7024 - val_accuracy: 0.7659\n",
      "Epoch 44/50\n",
      "196/196 [==============================] - 2s 8ms/step - loss: 0.4574 - accuracy: 0.8418 - val_loss: 0.6772 - val_accuracy: 0.7735\n",
      "Epoch 45/50\n",
      "196/196 [==============================] - 2s 8ms/step - loss: 0.4528 - accuracy: 0.8430 - val_loss: 0.6657 - val_accuracy: 0.7799\n",
      "Epoch 46/50\n",
      "196/196 [==============================] - 2s 8ms/step - loss: 0.4391 - accuracy: 0.8479 - val_loss: 0.6903 - val_accuracy: 0.7694\n",
      "Epoch 47/50\n",
      "196/196 [==============================] - 2s 8ms/step - loss: 0.4390 - accuracy: 0.8470 - val_loss: 0.6700 - val_accuracy: 0.7741\n",
      "Epoch 48/50\n",
      "196/196 [==============================] - 2s 8ms/step - loss: 0.4291 - accuracy: 0.8511 - val_loss: 0.7155 - val_accuracy: 0.7676\n",
      "Epoch 49/50\n",
      "196/196 [==============================] - 2s 8ms/step - loss: 0.4133 - accuracy: 0.8578 - val_loss: 0.6778 - val_accuracy: 0.7774\n",
      "Epoch 50/50\n",
      "196/196 [==============================] - 2s 8ms/step - loss: 0.4205 - accuracy: 0.8534 - val_loss: 0.6897 - val_accuracy: 0.7734\n"
     ]
    }
   ],
   "source": [
    "history_dev = model_adv.fit(\n",
    "    train_data_proc, train_label_proc,\n",
    "    validation_data=(test_data_proc, test_label_proc),\n",
    "    batch_size=256,\n",
    "    epochs=50\n",
    ")"
   ]
  },
  {
   "cell_type": "code",
   "execution_count": 21,
   "id": "drawn-strength",
   "metadata": {},
   "outputs": [
    {
     "data": {
      "text/plain": [
       "<AxesSubplot:>"
      ]
     },
     "execution_count": 21,
     "metadata": {},
     "output_type": "execute_result"
    },
    {
     "data": {
      "image/png": "[encoded data removed]",
      "text/plain": [
       "<Figure size 432x288 with 1 Axes>"
      ]
     },
     "metadata": {
      "needs_background": "light"
     },
     "output_type": "display_data"
    }
   ],
   "source": [
    "pd.DataFrame(history_dev.history).plot()"
   ]
  },
  {
   "cell_type": "markdown",
   "id": "therapeutic-oliver",
   "metadata": {},
   "source": [
    "# Drop-Out Model"
   ]
  },
  {
   "cell_type": "code",
   "execution_count": 22,
   "id": "detected-fountain",
   "metadata": {},
   "outputs": [],
   "source": [
    "input_dout = layers.Input((32, 32, 3))"
   ]
  },
  {
   "cell_type": "code",
   "execution_count": 23,
   "id": "infectious-regular",
   "metadata": {},
   "outputs": [],
   "source": [
    "layer_dout = layers.Conv2D(32, 4, activation=\"relu\")(input_dout)\n",
    "layer_dout = layers.Conv2D(32, 4, activation=\"relu\")(layer_dout)\n",
    "layer_dout = layers.MaxPool2D(2)(layer_dout)\n",
    "layer_dout = layers.Dropout(0.4)(layer_dout)\n",
    "layer_dout = layers.Conv2D(64, 3, padding=\"same\", activation=\"relu\")(layer_dout)\n",
    "layer_dout = layers.Conv2D(64, 3, padding=\"same\", activation=\"relu\")(layer_dout)\n",
    "layer_dout = layers.MaxPool2D(2)(layer_dout)\n",
    "layer_dout = layers.Dropout(0.4)(layer_dout)\n",
    "layer_dout = layers.Conv2D(128, 3, padding=\"same\", dilation_rate=2, activation=\"relu\")(layer_dout)\n",
    "layer_dout  = layers.GlobalAveragePooling2D()(layer_dout)"
   ]
  },
  {
   "cell_type": "code",
   "execution_count": 24,
   "id": "oriental-possibility",
   "metadata": {},
   "outputs": [],
   "source": [
    "output_dout = layers.Dense(10, activation=\"softmax\")(layer_dout)"
   ]
  },
  {
   "cell_type": "code",
   "execution_count": 25,
   "id": "cheap-maine",
   "metadata": {},
   "outputs": [
    {
     "name": "stdout",
     "output_type": "stream",
     "text": [
      "Model: \"model_2\"\n",
      "_________________________________________________________________\n",
      "Layer (type)                 Output Shape              Param #   \n",
      "=================================================================\n",
      "input_3 (InputLayer)         [(None, 32, 32, 3)]       0         \n",
      "_________________________________________________________________\n",
      "conv2d_7 (Conv2D)            (None, 29, 29, 32)        1568      \n",
      "_________________________________________________________________\n",
      "conv2d_8 (Conv2D)            (None, 26, 26, 32)        16416     \n",
      "_________________________________________________________________\n",
      "max_pooling2d_4 (MaxPooling2 (None, 13, 13, 32)        0         \n",
      "_________________________________________________________________\n",
      "dropout (Dropout)            (None, 13, 13, 32)        0         \n",
      "_________________________________________________________________\n",
      "conv2d_9 (Conv2D)            (None, 13, 13, 64)        18496     \n",
      "_________________________________________________________________\n",
      "conv2d_10 (Conv2D)           (None, 13, 13, 64)        36928     \n",
      "_________________________________________________________________\n",
      "max_pooling2d_5 (MaxPooling2 (None, 6, 6, 64)          0         \n",
      "_________________________________________________________________\n",
      "dropout_1 (Dropout)          (None, 6, 6, 64)          0         \n",
      "_________________________________________________________________\n",
      "conv2d_11 (Conv2D)           (None, 6, 6, 128)         73856     \n",
      "_________________________________________________________________\n",
      "global_average_pooling2d_1 ( (None, 128)               0         \n",
      "_________________________________________________________________\n",
      "dense_3 (Dense)              (None, 10)                1290      \n",
      "=================================================================\n",
      "Total params: 148,554\n",
      "Trainable params: 148,554\n",
      "Non-trainable params: 0\n",
      "_________________________________________________________________\n"
     ]
    }
   ],
   "source": [
    "model_dout = models.Model(input_dout, output_dout)\n",
    "model_dout.summary()"
   ]
  },
  {
   "cell_type": "code",
   "execution_count": 26,
   "id": "auburn-auditor",
   "metadata": {},
   "outputs": [],
   "source": [
    "model_dout.compile(\n",
    "    loss=losses.CategoricalCrossentropy(),\n",
    "    optimizer=optimizers.Adam(),\n",
    "    metrics=[\"accuracy\"],\n",
    ")"
   ]
  },
  {
   "cell_type": "code",
   "execution_count": 27,
   "id": "divine-wells",
   "metadata": {},
   "outputs": [
    {
     "name": "stdout",
     "output_type": "stream",
     "text": [
      "Epoch 1/50\n",
      "196/196 [==============================] - 50s 256ms/step - loss: 1.8975 - accuracy: 0.2829 - val_loss: 1.6352 - val_accuracy: 0.3866\n",
      "Epoch 2/50\n",
      "196/196 [==============================] - 2s 10ms/step - loss: 1.5615 - accuracy: 0.4149 - val_loss: 1.5150 - val_accuracy: 0.4401\n",
      "Epoch 3/50\n",
      "196/196 [==============================] - 2s 10ms/step - loss: 1.4245 - accuracy: 0.4782 - val_loss: 1.3539 - val_accuracy: 0.5034\n",
      "Epoch 4/50\n",
      "196/196 [==============================] - 2s 10ms/step - loss: 1.3193 - accuracy: 0.5210 - val_loss: 1.2097 - val_accuracy: 0.5668\n",
      "Epoch 5/50\n",
      "196/196 [==============================] - 2s 10ms/step - loss: 1.2297 - accuracy: 0.5607 - val_loss: 1.1399 - val_accuracy: 0.5970\n",
      "Epoch 6/50\n",
      "196/196 [==============================] - 2s 10ms/step - loss: 1.1764 - accuracy: 0.5815 - val_loss: 1.1140 - val_accuracy: 0.6058\n",
      "Epoch 7/50\n",
      "196/196 [==============================] - 2s 10ms/step - loss: 1.1213 - accuracy: 0.6036 - val_loss: 1.0802 - val_accuracy: 0.6189\n",
      "Epoch 8/50\n",
      "196/196 [==============================] - 2s 10ms/step - loss: 1.0740 - accuracy: 0.6189 - val_loss: 1.0085 - val_accuracy: 0.6429\n",
      "Epoch 9/50\n",
      "196/196 [==============================] - 2s 10ms/step - loss: 1.0401 - accuracy: 0.6332 - val_loss: 1.0171 - val_accuracy: 0.6398\n",
      "Epoch 10/50\n",
      "196/196 [==============================] - 2s 10ms/step - loss: 1.0106 - accuracy: 0.6427 - val_loss: 0.9460 - val_accuracy: 0.6638\n",
      "Epoch 11/50\n",
      "196/196 [==============================] - 2s 10ms/step - loss: 0.9854 - accuracy: 0.6519 - val_loss: 0.9337 - val_accuracy: 0.6712\n",
      "Epoch 12/50\n",
      "196/196 [==============================] - 2s 10ms/step - loss: 0.9561 - accuracy: 0.6631 - val_loss: 0.9010 - val_accuracy: 0.6832\n",
      "Epoch 13/50\n",
      "196/196 [==============================] - 2s 10ms/step - loss: 0.9323 - accuracy: 0.6739 - val_loss: 0.9074 - val_accuracy: 0.6803\n",
      "Epoch 14/50\n",
      "196/196 [==============================] - 2s 10ms/step - loss: 0.9102 - accuracy: 0.6799 - val_loss: 0.9008 - val_accuracy: 0.6804\n",
      "Epoch 15/50\n",
      "196/196 [==============================] - 2s 10ms/step - loss: 0.8835 - accuracy: 0.6911 - val_loss: 0.8603 - val_accuracy: 0.6983\n",
      "Epoch 16/50\n",
      "196/196 [==============================] - 2s 10ms/step - loss: 0.8614 - accuracy: 0.6969 - val_loss: 0.8117 - val_accuracy: 0.7160\n",
      "Epoch 17/50\n",
      "196/196 [==============================] - 2s 10ms/step - loss: 0.8328 - accuracy: 0.7050 - val_loss: 0.7871 - val_accuracy: 0.7272\n",
      "Epoch 18/50\n",
      "196/196 [==============================] - 2s 10ms/step - loss: 0.8207 - accuracy: 0.7116 - val_loss: 0.8110 - val_accuracy: 0.7145\n",
      "Epoch 19/50\n",
      "196/196 [==============================] - 2s 10ms/step - loss: 0.8054 - accuracy: 0.7168 - val_loss: 0.7899 - val_accuracy: 0.7267\n",
      "Epoch 20/50\n",
      "196/196 [==============================] - 2s 10ms/step - loss: 0.7825 - accuracy: 0.7253 - val_loss: 0.7858 - val_accuracy: 0.7218\n",
      "Epoch 21/50\n",
      "196/196 [==============================] - 2s 10ms/step - loss: 0.7715 - accuracy: 0.7291 - val_loss: 0.7573 - val_accuracy: 0.7355\n",
      "Epoch 22/50\n",
      "196/196 [==============================] - 2s 10ms/step - loss: 0.7556 - accuracy: 0.7331 - val_loss: 0.7316 - val_accuracy: 0.7427\n",
      "Epoch 23/50\n",
      "196/196 [==============================] - 2s 10ms/step - loss: 0.7393 - accuracy: 0.7422 - val_loss: 0.7064 - val_accuracy: 0.7523\n",
      "Epoch 24/50\n",
      "196/196 [==============================] - 2s 10ms/step - loss: 0.7270 - accuracy: 0.7454 - val_loss: 0.7196 - val_accuracy: 0.7493\n",
      "Epoch 25/50\n",
      "196/196 [==============================] - 2s 10ms/step - loss: 0.7078 - accuracy: 0.7516 - val_loss: 0.6841 - val_accuracy: 0.7600\n",
      "Epoch 26/50\n",
      "196/196 [==============================] - 2s 10ms/step - loss: 0.6993 - accuracy: 0.7547 - val_loss: 0.6886 - val_accuracy: 0.7569\n",
      "Epoch 27/50\n",
      "196/196 [==============================] - 2s 10ms/step - loss: 0.6889 - accuracy: 0.7596 - val_loss: 0.6624 - val_accuracy: 0.7640\n",
      "Epoch 28/50\n",
      "196/196 [==============================] - 2s 10ms/step - loss: 0.6748 - accuracy: 0.7620 - val_loss: 0.6753 - val_accuracy: 0.7630\n",
      "Epoch 29/50\n",
      "196/196 [==============================] - 2s 10ms/step - loss: 0.6672 - accuracy: 0.7654 - val_loss: 0.6955 - val_accuracy: 0.7598\n",
      "Epoch 30/50\n",
      "196/196 [==============================] - 2s 10ms/step - loss: 0.6623 - accuracy: 0.7682 - val_loss: 0.6394 - val_accuracy: 0.7750\n",
      "Epoch 31/50\n",
      "196/196 [==============================] - 2s 10ms/step - loss: 0.6464 - accuracy: 0.7728 - val_loss: 0.6637 - val_accuracy: 0.7724\n",
      "Epoch 32/50\n",
      "196/196 [==============================] - 2s 10ms/step - loss: 0.6408 - accuracy: 0.7768 - val_loss: 0.6380 - val_accuracy: 0.7803\n",
      "Epoch 33/50\n",
      "196/196 [==============================] - 2s 10ms/step - loss: 0.6364 - accuracy: 0.7767 - val_loss: 0.6715 - val_accuracy: 0.7654\n",
      "Epoch 34/50\n",
      "196/196 [==============================] - 2s 10ms/step - loss: 0.6266 - accuracy: 0.7806 - val_loss: 0.6290 - val_accuracy: 0.7835\n",
      "Epoch 35/50\n",
      "196/196 [==============================] - 2s 10ms/step - loss: 0.6199 - accuracy: 0.7811 - val_loss: 0.6261 - val_accuracy: 0.7792\n",
      "Epoch 36/50\n",
      "196/196 [==============================] - 2s 10ms/step - loss: 0.6057 - accuracy: 0.7880 - val_loss: 0.5988 - val_accuracy: 0.7921\n",
      "Epoch 37/50\n",
      "196/196 [==============================] - 2s 10ms/step - loss: 0.6027 - accuracy: 0.7882 - val_loss: 0.6156 - val_accuracy: 0.7875\n",
      "Epoch 38/50\n",
      "196/196 [==============================] - 2s 10ms/step - loss: 0.5958 - accuracy: 0.7917 - val_loss: 0.6054 - val_accuracy: 0.7911\n",
      "Epoch 39/50\n",
      "196/196 [==============================] - 2s 10ms/step - loss: 0.5870 - accuracy: 0.7949 - val_loss: 0.6284 - val_accuracy: 0.7819\n",
      "Epoch 40/50\n",
      "196/196 [==============================] - 2s 10ms/step - loss: 0.5879 - accuracy: 0.7937 - val_loss: 0.6021 - val_accuracy: 0.7912\n",
      "Epoch 41/50\n",
      "196/196 [==============================] - 2s 10ms/step - loss: 0.5695 - accuracy: 0.7994 - val_loss: 0.5954 - val_accuracy: 0.7938\n",
      "Epoch 42/50\n",
      "196/196 [==============================] - 2s 10ms/step - loss: 0.5698 - accuracy: 0.7998 - val_loss: 0.5965 - val_accuracy: 0.7944\n",
      "Epoch 43/50\n",
      "196/196 [==============================] - 2s 10ms/step - loss: 0.5601 - accuracy: 0.8036 - val_loss: 0.5911 - val_accuracy: 0.7966\n",
      "Epoch 44/50\n",
      "196/196 [==============================] - 2s 10ms/step - loss: 0.5627 - accuracy: 0.8024 - val_loss: 0.6056 - val_accuracy: 0.7917\n",
      "Epoch 45/50\n",
      "196/196 [==============================] - 2s 10ms/step - loss: 0.5479 - accuracy: 0.8081 - val_loss: 0.5846 - val_accuracy: 0.7963\n",
      "Epoch 46/50\n",
      "196/196 [==============================] - 2s 10ms/step - loss: 0.5439 - accuracy: 0.8090 - val_loss: 0.5772 - val_accuracy: 0.7987\n",
      "Epoch 47/50\n",
      "196/196 [==============================] - 2s 10ms/step - loss: 0.5402 - accuracy: 0.8106 - val_loss: 0.5878 - val_accuracy: 0.7960\n",
      "Epoch 48/50\n",
      "196/196 [==============================] - 2s 10ms/step - loss: 0.5335 - accuracy: 0.8122 - val_loss: 0.5786 - val_accuracy: 0.8004\n",
      "Epoch 49/50\n",
      "196/196 [==============================] - 2s 10ms/step - loss: 0.5326 - accuracy: 0.8129 - val_loss: 0.5763 - val_accuracy: 0.8045\n",
      "Epoch 50/50\n",
      "196/196 [==============================] - 2s 10ms/step - loss: 0.5224 - accuracy: 0.8167 - val_loss: 0.5623 - val_accuracy: 0.8041\n"
     ]
    }
   ],
   "source": [
    "history_dout = model_dout.fit(\n",
    "    train_data_proc, train_label_proc,\n",
    "    validation_data=(test_data_proc, test_label_proc),\n",
    "    batch_size=256,\n",
    "    epochs=50\n",
    ")"
   ]
  },
  {
   "cell_type": "code",
   "execution_count": 28,
   "id": "eleven-master",
   "metadata": {},
   "outputs": [
    {
     "data": {
      "text/plain": [
       "<AxesSubplot:>"
      ]
     },
     "execution_count": 28,
     "metadata": {},
     "output_type": "execute_result"
    },
    {
     "data": {
      "image/png": "[encoded data removed]",
      "text/plain": [
       "<Figure size 432x288 with 1 Axes>"
      ]
     },
     "metadata": {
      "needs_background": "light"
     },
     "output_type": "display_data"
    }
   ],
   "source": [
    "pd.DataFrame(history_dev.history).plot()"
   ]
  },
  {
   "cell_type": "markdown",
   "id": "equivalent-break",
   "metadata": {
    "tags": []
   },
   "source": [
    "# Batch Normalization Model"
   ]
  },
  {
   "cell_type": "code",
   "execution_count": 29,
   "id": "vital-handbook",
   "metadata": {
    "tags": []
   },
   "outputs": [],
   "source": [
    "input_nor = layers.Input((32, 32, 3))"
   ]
  },
  {
   "cell_type": "code",
   "execution_count": 30,
   "id": "photographic-dress",
   "metadata": {},
   "outputs": [],
   "source": [
    "layer_nor = layers.Conv2D(32, 4, activation=\"relu\")(input_nor)\n",
    "layer_nor = layers.BatchNormalization()(layer_nor)\n",
    "layer_nor = layers.Conv2D(32, 4, activation=\"relu\")(layer_nor)\n",
    "layer_nor = layers.BatchNormalization()(layer_nor)\n",
    "layer_nor = layers.MaxPool2D(2)(layer_nor)\n",
    "layer_nor = layers.Dropout(0.4)(layer_nor)\n",
    "layer_nor = layers.Conv2D(64, 3, padding=\"same\", activation=\"relu\")(layer_nor)\n",
    "layer_nor = layers.BatchNormalization()(layer_nor)\n",
    "layer_nor = layers.Conv2D(64, 3, padding=\"same\", activation=\"relu\")(layer_nor)\n",
    "layer_nor = layers.BatchNormalization()(layer_nor)\n",
    "layer_nor = layers.MaxPool2D(2)(layer_nor)\n",
    "layer_nor = layers.Dropout(0.4)(layer_nor)\n",
    "layer_nor = layers.Conv2D(128, 3, padding=\"same\", dilation_rate=2, activation=\"relu\")(layer_nor)\n",
    "layer_nor = layers.BatchNormalization()(layer_nor)\n",
    "layer_nor  = layers.GlobalAveragePooling2D()(layer_nor)"
   ]
  },
  {
   "cell_type": "code",
   "execution_count": 31,
   "id": "formal-lingerie",
   "metadata": {},
   "outputs": [],
   "source": [
    "output_nor = layers.Dense(10, activation=\"softmax\")(layer_nor)"
   ]
  },
  {
   "cell_type": "code",
   "execution_count": 32,
   "id": "popular-adobe",
   "metadata": {},
   "outputs": [
    {
     "name": "stdout",
     "output_type": "stream",
     "text": [
      "Model: \"model_3\"\n",
      "_________________________________________________________________\n",
      "Layer (type)                 Output Shape              Param #   \n",
      "=================================================================\n",
      "input_4 (InputLayer)         [(None, 32, 32, 3)]       0         \n",
      "_________________________________________________________________\n",
      "conv2d_12 (Conv2D)           (None, 29, 29, 32)        1568      \n",
      "_________________________________________________________________\n",
      "batch_normalization (BatchNo (None, 29, 29, 32)        128       \n",
      "_________________________________________________________________\n",
      "conv2d_13 (Conv2D)           (None, 26, 26, 32)        16416     \n",
      "_________________________________________________________________\n",
      "batch_normalization_1 (Batch (None, 26, 26, 32)        128       \n",
      "_________________________________________________________________\n",
      "max_pooling2d_6 (MaxPooling2 (None, 13, 13, 32)        0         \n",
      "_________________________________________________________________\n",
      "dropout_2 (Dropout)          (None, 13, 13, 32)        0         \n",
      "_________________________________________________________________\n",
      "conv2d_14 (Conv2D)           (None, 13, 13, 64)        18496     \n",
      "_________________________________________________________________\n",
      "batch_normalization_2 (Batch (None, 13, 13, 64)        256       \n",
      "_________________________________________________________________\n",
      "conv2d_15 (Conv2D)           (None, 13, 13, 64)        36928     \n",
      "_________________________________________________________________\n",
      "batch_normalization_3 (Batch (None, 13, 13, 64)        256       \n",
      "_________________________________________________________________\n",
      "max_pooling2d_7 (MaxPooling2 (None, 6, 6, 64)          0         \n",
      "_________________________________________________________________\n",
      "dropout_3 (Dropout)          (None, 6, 6, 64)          0         \n",
      "_________________________________________________________________\n",
      "conv2d_16 (Conv2D)           (None, 6, 6, 128)         73856     \n",
      "_________________________________________________________________\n",
      "batch_normalization_4 (Batch (None, 6, 6, 128)         512       \n",
      "_________________________________________________________________\n",
      "global_average_pooling2d_2 ( (None, 128)               0         \n",
      "_________________________________________________________________\n",
      "dense_4 (Dense)              (None, 10)                1290      \n",
      "=================================================================\n",
      "Total params: 149,834\n",
      "Trainable params: 149,194\n",
      "Non-trainable params: 640\n",
      "_________________________________________________________________\n"
     ]
    }
   ],
   "source": [
    "model_nor = models.Model(input_nor, output_nor)\n",
    "model_nor.summary()"
   ]
  },
  {
   "cell_type": "code",
   "execution_count": 33,
   "id": "equivalent-nursing",
   "metadata": {},
   "outputs": [],
   "source": [
    "model_nor.compile(\n",
    "    loss=losses.CategoricalCrossentropy(),\n",
    "    optimizer=optimizers.Adam(),\n",
    "    metrics=[\"accuracy\"],\n",
    ")"
   ]
  },
  {
   "cell_type": "code",
   "execution_count": 34,
   "id": "charming-drinking",
   "metadata": {},
   "outputs": [
    {
     "name": "stdout",
     "output_type": "stream",
     "text": [
      "Epoch 1/50\n",
      "196/196 [==============================] - 31s 157ms/step - loss: 1.3537 - accuracy: 0.5110 - val_loss: 4.0734 - val_accuracy: 0.1000\n",
      "Epoch 2/50\n",
      "196/196 [==============================] - 2s 11ms/step - loss: 1.0246 - accuracy: 0.6382 - val_loss: 3.3871 - val_accuracy: 0.1588\n",
      "Epoch 3/50\n",
      "196/196 [==============================] - 2s 11ms/step - loss: 0.8805 - accuracy: 0.6893 - val_loss: 1.1606 - val_accuracy: 0.5779\n",
      "Epoch 4/50\n",
      "196/196 [==============================] - 2s 11ms/step - loss: 0.7915 - accuracy: 0.7236 - val_loss: 0.9268 - val_accuracy: 0.6906\n",
      "Epoch 5/50\n",
      "196/196 [==============================] - 2s 11ms/step - loss: 0.7319 - accuracy: 0.7430 - val_loss: 0.8070 - val_accuracy: 0.7192\n",
      "Epoch 6/50\n",
      "196/196 [==============================] - 2s 11ms/step - loss: 0.6825 - accuracy: 0.7597 - val_loss: 0.7072 - val_accuracy: 0.7569\n",
      "Epoch 7/50\n",
      "196/196 [==============================] - 2s 11ms/step - loss: 0.6411 - accuracy: 0.7764 - val_loss: 0.6627 - val_accuracy: 0.7714\n",
      "Epoch 8/50\n",
      "196/196 [==============================] - 2s 11ms/step - loss: 0.6142 - accuracy: 0.7851 - val_loss: 0.6437 - val_accuracy: 0.7794\n",
      "Epoch 9/50\n",
      "196/196 [==============================] - 2s 11ms/step - loss: 0.5851 - accuracy: 0.7938 - val_loss: 0.7289 - val_accuracy: 0.7527\n",
      "Epoch 10/50\n",
      "196/196 [==============================] - 2s 11ms/step - loss: 0.5654 - accuracy: 0.8020 - val_loss: 0.5824 - val_accuracy: 0.7987\n",
      "Epoch 11/50\n",
      "196/196 [==============================] - 2s 11ms/step - loss: 0.5419 - accuracy: 0.8099 - val_loss: 0.7243 - val_accuracy: 0.7508\n",
      "Epoch 12/50\n",
      "196/196 [==============================] - 2s 11ms/step - loss: 0.5245 - accuracy: 0.8173 - val_loss: 0.6416 - val_accuracy: 0.7815\n",
      "Epoch 13/50\n",
      "196/196 [==============================] - 2s 11ms/step - loss: 0.5105 - accuracy: 0.8214 - val_loss: 0.7346 - val_accuracy: 0.7474\n",
      "Epoch 14/50\n",
      "196/196 [==============================] - 2s 11ms/step - loss: 0.4931 - accuracy: 0.8281 - val_loss: 0.6238 - val_accuracy: 0.7925\n",
      "Epoch 15/50\n",
      "196/196 [==============================] - 2s 11ms/step - loss: 0.4816 - accuracy: 0.8308 - val_loss: 0.5666 - val_accuracy: 0.8054\n",
      "Epoch 16/50\n",
      "196/196 [==============================] - 2s 11ms/step - loss: 0.4742 - accuracy: 0.8346 - val_loss: 0.5388 - val_accuracy: 0.8129\n",
      "Epoch 17/50\n",
      "196/196 [==============================] - 2s 11ms/step - loss: 0.4580 - accuracy: 0.8401 - val_loss: 0.6189 - val_accuracy: 0.7880\n",
      "Epoch 18/50\n",
      "196/196 [==============================] - 2s 11ms/step - loss: 0.4448 - accuracy: 0.8449 - val_loss: 0.5903 - val_accuracy: 0.8005\n",
      "Epoch 19/50\n",
      "196/196 [==============================] - 2s 11ms/step - loss: 0.4329 - accuracy: 0.8482 - val_loss: 0.5615 - val_accuracy: 0.8049\n",
      "Epoch 20/50\n",
      "196/196 [==============================] - 2s 11ms/step - loss: 0.4294 - accuracy: 0.8495 - val_loss: 0.5622 - val_accuracy: 0.8110\n",
      "Epoch 21/50\n",
      "196/196 [==============================] - 2s 11ms/step - loss: 0.4256 - accuracy: 0.8510 - val_loss: 0.5582 - val_accuracy: 0.8143\n",
      "Epoch 22/50\n",
      "196/196 [==============================] - 2s 11ms/step - loss: 0.4129 - accuracy: 0.8543 - val_loss: 0.4950 - val_accuracy: 0.8321\n",
      "Epoch 23/50\n",
      "196/196 [==============================] - 2s 11ms/step - loss: 0.4069 - accuracy: 0.8579 - val_loss: 0.5463 - val_accuracy: 0.8092\n",
      "Epoch 24/50\n",
      "196/196 [==============================] - 2s 11ms/step - loss: 0.3982 - accuracy: 0.8602 - val_loss: 0.5748 - val_accuracy: 0.8080\n",
      "Epoch 25/50\n",
      "196/196 [==============================] - 2s 11ms/step - loss: 0.3920 - accuracy: 0.8607 - val_loss: 0.5182 - val_accuracy: 0.8288\n",
      "Epoch 26/50\n",
      "196/196 [==============================] - 2s 11ms/step - loss: 0.3857 - accuracy: 0.8641 - val_loss: 0.5550 - val_accuracy: 0.8182\n",
      "Epoch 27/50\n",
      "196/196 [==============================] - 2s 11ms/step - loss: 0.3774 - accuracy: 0.8675 - val_loss: 0.5865 - val_accuracy: 0.8052\n",
      "Epoch 28/50\n",
      "196/196 [==============================] - 2s 11ms/step - loss: 0.3720 - accuracy: 0.8673 - val_loss: 0.5191 - val_accuracy: 0.8264\n",
      "Epoch 29/50\n",
      "196/196 [==============================] - 2s 11ms/step - loss: 0.3618 - accuracy: 0.8739 - val_loss: 0.5339 - val_accuracy: 0.8242\n",
      "Epoch 30/50\n",
      "196/196 [==============================] - 2s 11ms/step - loss: 0.3622 - accuracy: 0.8743 - val_loss: 0.5745 - val_accuracy: 0.8111\n",
      "Epoch 31/50\n",
      "196/196 [==============================] - 2s 11ms/step - loss: 0.3583 - accuracy: 0.8731 - val_loss: 0.5154 - val_accuracy: 0.8323\n",
      "Epoch 32/50\n",
      "196/196 [==============================] - 2s 11ms/step - loss: 0.3518 - accuracy: 0.8758 - val_loss: 0.5300 - val_accuracy: 0.8241\n",
      "Epoch 33/50\n",
      "196/196 [==============================] - 2s 11ms/step - loss: 0.3470 - accuracy: 0.8773 - val_loss: 0.5446 - val_accuracy: 0.8226\n",
      "Epoch 34/50\n",
      "196/196 [==============================] - 2s 11ms/step - loss: 0.3409 - accuracy: 0.8794 - val_loss: 0.5025 - val_accuracy: 0.8365\n",
      "Epoch 35/50\n",
      "196/196 [==============================] - 2s 11ms/step - loss: 0.3390 - accuracy: 0.8795 - val_loss: 0.6043 - val_accuracy: 0.8067\n",
      "Epoch 36/50\n",
      "196/196 [==============================] - 2s 11ms/step - loss: 0.3340 - accuracy: 0.8832 - val_loss: 0.5305 - val_accuracy: 0.8257\n",
      "Epoch 37/50\n",
      "196/196 [==============================] - 2s 11ms/step - loss: 0.3277 - accuracy: 0.8839 - val_loss: 0.5002 - val_accuracy: 0.8371\n",
      "Epoch 38/50\n",
      "196/196 [==============================] - 2s 11ms/step - loss: 0.3258 - accuracy: 0.8849 - val_loss: 0.4933 - val_accuracy: 0.8379\n",
      "Epoch 39/50\n",
      "196/196 [==============================] - 2s 11ms/step - loss: 0.3249 - accuracy: 0.8855 - val_loss: 0.5218 - val_accuracy: 0.8307\n",
      "Epoch 40/50\n",
      "196/196 [==============================] - 2s 11ms/step - loss: 0.3177 - accuracy: 0.8864 - val_loss: 0.4802 - val_accuracy: 0.8433\n",
      "Epoch 41/50\n",
      "196/196 [==============================] - 2s 11ms/step - loss: 0.3118 - accuracy: 0.8888 - val_loss: 0.5206 - val_accuracy: 0.8310\n",
      "Epoch 42/50\n",
      "196/196 [==============================] - 2s 11ms/step - loss: 0.3149 - accuracy: 0.8866 - val_loss: 0.5061 - val_accuracy: 0.8358\n",
      "Epoch 43/50\n",
      "196/196 [==============================] - 2s 11ms/step - loss: 0.3131 - accuracy: 0.8886 - val_loss: 0.4954 - val_accuracy: 0.8387\n",
      "Epoch 44/50\n",
      "196/196 [==============================] - 2s 11ms/step - loss: 0.3042 - accuracy: 0.8903 - val_loss: 0.5062 - val_accuracy: 0.8293\n",
      "Epoch 45/50\n",
      "196/196 [==============================] - 2s 11ms/step - loss: 0.3029 - accuracy: 0.8914 - val_loss: 0.5411 - val_accuracy: 0.8266\n",
      "Epoch 46/50\n",
      "196/196 [==============================] - 2s 11ms/step - loss: 0.3020 - accuracy: 0.8916 - val_loss: 0.5533 - val_accuracy: 0.8236\n",
      "Epoch 47/50\n",
      "196/196 [==============================] - 2s 11ms/step - loss: 0.2996 - accuracy: 0.8937 - val_loss: 0.4862 - val_accuracy: 0.8390\n",
      "Epoch 48/50\n",
      "196/196 [==============================] - 2s 11ms/step - loss: 0.2993 - accuracy: 0.8940 - val_loss: 0.4842 - val_accuracy: 0.8415\n",
      "Epoch 49/50\n",
      "196/196 [==============================] - 2s 11ms/step - loss: 0.2934 - accuracy: 0.8970 - val_loss: 0.5200 - val_accuracy: 0.8294\n",
      "Epoch 50/50\n",
      "196/196 [==============================] - 2s 11ms/step - loss: 0.2933 - accuracy: 0.8951 - val_loss: 0.5450 - val_accuracy: 0.8238\n"
     ]
    }
   ],
   "source": [
    "history_nor = model_nor.fit(\n",
    "    train_data_proc, train_label_proc,\n",
    "    validation_data=(test_data_proc, test_label_proc),\n",
    "    batch_size=256,\n",
    "    epochs=50\n",
    ")"
   ]
  },
  {
   "cell_type": "code",
   "execution_count": 35,
   "id": "cultural-fortune",
   "metadata": {},
   "outputs": [
    {
     "data": {
      "text/plain": [
       "<AxesSubplot:>"
      ]
     },
     "execution_count": 35,
     "metadata": {},
     "output_type": "execute_result"
    },
    {
     "data": {
      "image/png": "[encoded data removed]",
      "text/plain": [
       "<Figure size 432x288 with 1 Axes>"
      ]
     },
     "metadata": {
      "needs_background": "light"
     },
     "output_type": "display_data"
    }
   ],
   "source": [
    "pd.DataFrame(history_nor.history).plot()"
   ]
  },
  {
   "cell_type": "markdown",
   "id": "lyric-royal",
   "metadata": {
    "tags": []
   },
   "source": [
    "# Data Augmentation"
   ]
  },
  {
   "cell_type": "code",
   "execution_count": 36,
   "id": "floating-laptop",
   "metadata": {
    "tags": []
   },
   "outputs": [],
   "source": [
    "input_aug = layers.Input((32, 32, 3))"
   ]
  },
  {
   "cell_type": "code",
   "execution_count": 37,
   "id": "detected-order",
   "metadata": {},
   "outputs": [],
   "source": [
    "layer_aug = layers.Conv2D(32, 4, activation=\"relu\")(input_aug)\n",
    "layer_aug = layers.BatchNormalization()(layer_aug)\n",
    "layer_aug = layers.Conv2D(32, 4, activation=\"relu\")(layer_aug)\n",
    "layer_aug = layers.BatchNormalization()(layer_aug)\n",
    "layer_aug = layers.MaxPool2D(2)(layer_aug)\n",
    "layer_aug = layers.Dropout(0.4)(layer_aug)\n",
    "layer_aug = layers.Conv2D(64, 3, padding=\"same\", activation=\"relu\")(layer_aug)\n",
    "layer_aug = layers.BatchNormalization()(layer_aug)\n",
    "layer_aug = layers.Conv2D(64, 3, padding=\"same\", activation=\"relu\")(layer_aug)\n",
    "layer_aug = layers.BatchNormalization()(layer_aug)\n",
    "layer_aug = layers.MaxPool2D(2)(layer_aug)\n",
    "layer_aug = layers.Dropout(0.4)(layer_aug)\n",
    "layer_aug = layers.Conv2D(128, 3, padding=\"same\", dilation_rate=2, activation=\"relu\")(layer_aug)\n",
    "layer_aug = layers.BatchNormalization()(layer_aug)\n",
    "layer_aug  = layers.GlobalAveragePooling2D()(layer_aug)"
   ]
  },
  {
   "cell_type": "code",
   "execution_count": 38,
   "id": "frozen-authority",
   "metadata": {},
   "outputs": [],
   "source": [
    "output_aug = layers.Dense(10, activation=\"softmax\")(layer_aug)"
   ]
  },
  {
   "cell_type": "code",
   "execution_count": 39,
   "id": "careful-tension",
   "metadata": {},
   "outputs": [],
   "source": [
    "model_aug = models.Model(input_aug, output_aug)"
   ]
  },
  {
   "cell_type": "code",
   "execution_count": 40,
   "id": "reverse-height",
   "metadata": {},
   "outputs": [],
   "source": [
    "model_aug.compile(\n",
    "    loss=losses.CategoricalCrossentropy(),\n",
    "    optimizer=optimizers.Adam(),\n",
    "    metrics=[\"accuracy\"],\n",
    ")"
   ]
  },
  {
   "cell_type": "code",
   "execution_count": 41,
   "id": "upper-equity",
   "metadata": {},
   "outputs": [],
   "source": [
    "image_gen = preprocessing.image.ImageDataGenerator(\n",
    "    width_shift_range=0.1,\n",
    "    height_shift_range=0.1,\n",
    "    horizontal_flip=True,\n",
    "    rotation_range=20,\n",
    "    zoom_range=0.1\n",
    ")\n",
    "train_gen = image_gen.flow(train_data_proc, train_label_proc)"
   ]
  },
  {
   "cell_type": "code",
   "execution_count": 42,
   "id": "structural-charlotte",
   "metadata": {},
   "outputs": [
    {
     "name": "stdout",
     "output_type": "stream",
     "text": [
      "Epoch 1/50\n",
      "1563/1563 [==============================] - 37s 24ms/step - loss: 1.4297 - accuracy: 0.4837 - val_loss: 1.4891 - val_accuracy: 0.5041\n",
      "Epoch 2/50\n",
      "1563/1563 [==============================] - 20s 13ms/step - loss: 1.1363 - accuracy: 0.5960 - val_loss: 1.2138 - val_accuracy: 0.5974\n",
      "Epoch 3/50\n",
      "1563/1563 [==============================] - 20s 13ms/step - loss: 1.0104 - accuracy: 0.6419 - val_loss: 1.1659 - val_accuracy: 0.6246\n",
      "Epoch 4/50\n",
      "1563/1563 [==============================] - 20s 13ms/step - loss: 0.9446 - accuracy: 0.6689 - val_loss: 1.0071 - val_accuracy: 0.6648\n",
      "Epoch 5/50\n",
      "1563/1563 [==============================] - 20s 13ms/step - loss: 0.8961 - accuracy: 0.6856 - val_loss: 0.8364 - val_accuracy: 0.7195\n",
      "Epoch 6/50\n",
      "1563/1563 [==============================] - 20s 13ms/step - loss: 0.8611 - accuracy: 0.6997 - val_loss: 0.7811 - val_accuracy: 0.7319\n",
      "Epoch 7/50\n",
      "1563/1563 [==============================] - 20s 13ms/step - loss: 0.8338 - accuracy: 0.7100 - val_loss: 0.9061 - val_accuracy: 0.6920\n",
      "Epoch 8/50\n",
      "1563/1563 [==============================] - 20s 13ms/step - loss: 0.8119 - accuracy: 0.7155 - val_loss: 0.7128 - val_accuracy: 0.7576\n",
      "Epoch 9/50\n",
      "1563/1563 [==============================] - 20s 13ms/step - loss: 0.7966 - accuracy: 0.7220 - val_loss: 0.8958 - val_accuracy: 0.6976\n",
      "Epoch 10/50\n",
      "1563/1563 [==============================] - 20s 13ms/step - loss: 0.7752 - accuracy: 0.7290 - val_loss: 0.7419 - val_accuracy: 0.7525\n",
      "Epoch 11/50\n",
      "1563/1563 [==============================] - 20s 13ms/step - loss: 0.7645 - accuracy: 0.7351 - val_loss: 0.7103 - val_accuracy: 0.7637\n",
      "Epoch 12/50\n",
      "1563/1563 [==============================] - 20s 13ms/step - loss: 0.7499 - accuracy: 0.7379 - val_loss: 0.6541 - val_accuracy: 0.7738\n",
      "Epoch 13/50\n",
      "1563/1563 [==============================] - 20s 13ms/step - loss: 0.7376 - accuracy: 0.7436 - val_loss: 0.6714 - val_accuracy: 0.7733\n",
      "Epoch 14/50\n",
      "1563/1563 [==============================] - 20s 13ms/step - loss: 0.7332 - accuracy: 0.7457 - val_loss: 0.6462 - val_accuracy: 0.7810\n",
      "Epoch 15/50\n",
      "1563/1563 [==============================] - 20s 13ms/step - loss: 0.7107 - accuracy: 0.7525 - val_loss: 0.7373 - val_accuracy: 0.7502\n",
      "Epoch 16/50\n",
      "1563/1563 [==============================] - 20s 13ms/step - loss: 0.7143 - accuracy: 0.7510 - val_loss: 0.7502 - val_accuracy: 0.7476\n",
      "Epoch 17/50\n",
      "1563/1563 [==============================] - 20s 13ms/step - loss: 0.7070 - accuracy: 0.7541 - val_loss: 0.6718 - val_accuracy: 0.7677\n",
      "Epoch 18/50\n",
      "1563/1563 [==============================] - 20s 13ms/step - loss: 0.6946 - accuracy: 0.7581 - val_loss: 0.6079 - val_accuracy: 0.7927\n",
      "Epoch 19/50\n",
      "1563/1563 [==============================] - 20s 13ms/step - loss: 0.6863 - accuracy: 0.7599 - val_loss: 0.6574 - val_accuracy: 0.7772\n",
      "Epoch 20/50\n",
      "1563/1563 [==============================] - 20s 13ms/step - loss: 0.6853 - accuracy: 0.7621 - val_loss: 0.6255 - val_accuracy: 0.7882\n",
      "Epoch 21/50\n",
      "1563/1563 [==============================] - 20s 13ms/step - loss: 0.6771 - accuracy: 0.7635 - val_loss: 0.5902 - val_accuracy: 0.7969\n",
      "Epoch 22/50\n",
      "1563/1563 [==============================] - 20s 13ms/step - loss: 0.6783 - accuracy: 0.7641 - val_loss: 0.6167 - val_accuracy: 0.7884\n",
      "Epoch 23/50\n",
      "1563/1563 [==============================] - 20s 13ms/step - loss: 0.6702 - accuracy: 0.7660 - val_loss: 0.5812 - val_accuracy: 0.8011\n",
      "Epoch 24/50\n",
      "1563/1563 [==============================] - 20s 13ms/step - loss: 0.6622 - accuracy: 0.7702 - val_loss: 0.5782 - val_accuracy: 0.8046\n",
      "Epoch 25/50\n",
      "1563/1563 [==============================] - 20s 13ms/step - loss: 0.6612 - accuracy: 0.7718 - val_loss: 0.5774 - val_accuracy: 0.8046\n",
      "Epoch 26/50\n",
      "1563/1563 [==============================] - 20s 13ms/step - loss: 0.6580 - accuracy: 0.7729 - val_loss: 0.7002 - val_accuracy: 0.7697\n",
      "Epoch 27/50\n",
      "1563/1563 [==============================] - 20s 13ms/step - loss: 0.6531 - accuracy: 0.7714 - val_loss: 0.6551 - val_accuracy: 0.7809\n",
      "Epoch 28/50\n",
      "1563/1563 [==============================] - 20s 13ms/step - loss: 0.6484 - accuracy: 0.7734 - val_loss: 0.5525 - val_accuracy: 0.8109\n",
      "Epoch 29/50\n",
      "1563/1563 [==============================] - 20s 13ms/step - loss: 0.6406 - accuracy: 0.7767 - val_loss: 0.5472 - val_accuracy: 0.8201\n",
      "Epoch 30/50\n",
      "1563/1563 [==============================] - 20s 13ms/step - loss: 0.6466 - accuracy: 0.7752 - val_loss: 0.5109 - val_accuracy: 0.8298\n",
      "Epoch 31/50\n",
      "1563/1563 [==============================] - 20s 13ms/step - loss: 0.6386 - accuracy: 0.7768 - val_loss: 0.6035 - val_accuracy: 0.7993\n",
      "Epoch 32/50\n",
      "1563/1563 [==============================] - 20s 13ms/step - loss: 0.6346 - accuracy: 0.7796 - val_loss: 0.7159 - val_accuracy: 0.7619\n",
      "Epoch 33/50\n",
      "1563/1563 [==============================] - 20s 13ms/step - loss: 0.6337 - accuracy: 0.7794 - val_loss: 0.6518 - val_accuracy: 0.7821\n",
      "Epoch 34/50\n",
      "1563/1563 [==============================] - 20s 13ms/step - loss: 0.6254 - accuracy: 0.7827 - val_loss: 0.5744 - val_accuracy: 0.8076\n",
      "Epoch 35/50\n",
      "1563/1563 [==============================] - 20s 13ms/step - loss: 0.6221 - accuracy: 0.7828 - val_loss: 0.5481 - val_accuracy: 0.8143\n",
      "Epoch 36/50\n",
      "1563/1563 [==============================] - 20s 13ms/step - loss: 0.6284 - accuracy: 0.7819 - val_loss: 0.5810 - val_accuracy: 0.8058\n",
      "Epoch 37/50\n",
      "1563/1563 [==============================] - 20s 13ms/step - loss: 0.6197 - accuracy: 0.7851 - val_loss: 0.6130 - val_accuracy: 0.7977\n",
      "Epoch 38/50\n",
      "1563/1563 [==============================] - 20s 13ms/step - loss: 0.6202 - accuracy: 0.7840 - val_loss: 0.5313 - val_accuracy: 0.8221\n",
      "Epoch 39/50\n",
      "1563/1563 [==============================] - 20s 13ms/step - loss: 0.6177 - accuracy: 0.7860 - val_loss: 0.5461 - val_accuracy: 0.8137\n",
      "Epoch 40/50\n",
      "1563/1563 [==============================] - 20s 13ms/step - loss: 0.6107 - accuracy: 0.7870 - val_loss: 0.5842 - val_accuracy: 0.8030\n",
      "Epoch 41/50\n",
      "1563/1563 [==============================] - 20s 13ms/step - loss: 0.6084 - accuracy: 0.7905 - val_loss: 0.6308 - val_accuracy: 0.7943\n",
      "Epoch 42/50\n",
      "1563/1563 [==============================] - 20s 13ms/step - loss: 0.6056 - accuracy: 0.7903 - val_loss: 0.5399 - val_accuracy: 0.8141\n",
      "Epoch 43/50\n",
      "1563/1563 [==============================] - 20s 13ms/step - loss: 0.6059 - accuracy: 0.7902 - val_loss: 0.5375 - val_accuracy: 0.8174\n",
      "Epoch 44/50\n",
      "1563/1563 [==============================] - 20s 13ms/step - loss: 0.6010 - accuracy: 0.7913 - val_loss: 0.5147 - val_accuracy: 0.8243\n",
      "Epoch 45/50\n",
      "1563/1563 [==============================] - 20s 13ms/step - loss: 0.6100 - accuracy: 0.7890 - val_loss: 0.5198 - val_accuracy: 0.8271\n",
      "Epoch 46/50\n",
      "1563/1563 [==============================] - 20s 13ms/step - loss: 0.6027 - accuracy: 0.7907 - val_loss: 0.6426 - val_accuracy: 0.7864\n",
      "Epoch 47/50\n",
      "1563/1563 [==============================] - 20s 13ms/step - loss: 0.5990 - accuracy: 0.7917 - val_loss: 0.6386 - val_accuracy: 0.7861\n",
      "Epoch 48/50\n",
      "1563/1563 [==============================] - 20s 13ms/step - loss: 0.5958 - accuracy: 0.7929 - val_loss: 0.6038 - val_accuracy: 0.7954\n",
      "Epoch 49/50\n",
      "1563/1563 [==============================] - 20s 13ms/step - loss: 0.5910 - accuracy: 0.7945 - val_loss: 0.5244 - val_accuracy: 0.8222\n",
      "Epoch 50/50\n",
      "1563/1563 [==============================] - 20s 13ms/step - loss: 0.5931 - accuracy: 0.7936 - val_loss: 0.5186 - val_accuracy: 0.8260\n"
     ]
    }
   ],
   "source": [
    "history_aug = model_aug.fit(\n",
    "    train_gen,\n",
    "    validation_data=(test_data_proc, test_label_proc),\n",
    "    batch_size=256,\n",
    "    epochs=50\n",
    ")"
   ]
  },
  {
   "cell_type": "code",
   "execution_count": 43,
   "id": "bronze-syracuse",
   "metadata": {},
   "outputs": [
    {
     "data": {
      "text/plain": [
       "<AxesSubplot:>"
      ]
     },
     "execution_count": 43,
     "metadata": {},
     "output_type": "execute_result"
    },
    {
     "data": {
      "image/png": "[encoded data removed]",
      "text/plain": [
       "<Figure size 432x288 with 1 Axes>"
      ]
     },
     "metadata": {
      "needs_background": "light"
     },
     "output_type": "display_data"
    }
   ],
   "source": [
    "pd.DataFrame(history_aug.history).plot()"
   ]
  },
  {
   "cell_type": "code",
   "execution_count": 44,
   "id": "accepting-maldives",
   "metadata": {},
   "outputs": [
    {
     "name": "stdout",
     "output_type": "stream",
     "text": [
      "Epoch 1/150\n",
      "1563/1563 [==============================] - 20s 13ms/step - loss: 0.5908 - accuracy: 0.7936 - val_loss: 0.5196 - val_accuracy: 0.8241\n",
      "Epoch 2/150\n",
      "1563/1563 [==============================] - 20s 13ms/step - loss: 0.5852 - accuracy: 0.7970 - val_loss: 0.5355 - val_accuracy: 0.8206\n",
      "Epoch 3/150\n",
      "1563/1563 [==============================] - 20s 13ms/step - loss: 0.5891 - accuracy: 0.7952 - val_loss: 0.5407 - val_accuracy: 0.8199\n",
      "Epoch 4/150\n",
      "1563/1563 [==============================] - 20s 13ms/step - loss: 0.5858 - accuracy: 0.7956 - val_loss: 0.5306 - val_accuracy: 0.8257\n",
      "Epoch 5/150\n",
      "1563/1563 [==============================] - 20s 13ms/step - loss: 0.5801 - accuracy: 0.7980 - val_loss: 0.6057 - val_accuracy: 0.7994\n",
      "Epoch 6/150\n",
      "1563/1563 [==============================] - 20s 13ms/step - loss: 0.5857 - accuracy: 0.7965 - val_loss: 0.5375 - val_accuracy: 0.8212\n",
      "Epoch 7/150\n",
      "1563/1563 [==============================] - 20s 13ms/step - loss: 0.5768 - accuracy: 0.7981 - val_loss: 0.4919 - val_accuracy: 0.8346\n",
      "Epoch 8/150\n",
      "1563/1563 [==============================] - 20s 13ms/step - loss: 0.5797 - accuracy: 0.7986 - val_loss: 0.5955 - val_accuracy: 0.8036\n",
      "Epoch 9/150\n",
      "1563/1563 [==============================] - 20s 13ms/step - loss: 0.5765 - accuracy: 0.7992 - val_loss: 0.5142 - val_accuracy: 0.8248\n",
      "Epoch 10/150\n",
      "1563/1563 [==============================] - 20s 13ms/step - loss: 0.5759 - accuracy: 0.7994 - val_loss: 0.5161 - val_accuracy: 0.8272\n",
      "Epoch 11/150\n",
      "1563/1563 [==============================] - 20s 13ms/step - loss: 0.5732 - accuracy: 0.8003 - val_loss: 0.5380 - val_accuracy: 0.8168\n",
      "Epoch 12/150\n",
      "1563/1563 [==============================] - 20s 13ms/step - loss: 0.5718 - accuracy: 0.8007 - val_loss: 0.5371 - val_accuracy: 0.8231\n",
      "Epoch 13/150\n",
      "1563/1563 [==============================] - 20s 13ms/step - loss: 0.5708 - accuracy: 0.8015 - val_loss: 0.5035 - val_accuracy: 0.8291\n",
      "Epoch 14/150\n",
      "1563/1563 [==============================] - 20s 13ms/step - loss: 0.5736 - accuracy: 0.8007 - val_loss: 0.5006 - val_accuracy: 0.8333\n",
      "Epoch 15/150\n",
      "1563/1563 [==============================] - 20s 13ms/step - loss: 0.5694 - accuracy: 0.8042 - val_loss: 0.5510 - val_accuracy: 0.8168\n",
      "Epoch 16/150\n",
      "1563/1563 [==============================] - 20s 13ms/step - loss: 0.5737 - accuracy: 0.8002 - val_loss: 0.5244 - val_accuracy: 0.8235\n",
      "Epoch 17/150\n",
      "1563/1563 [==============================] - 20s 13ms/step - loss: 0.5741 - accuracy: 0.8009 - val_loss: 0.5099 - val_accuracy: 0.8307\n",
      "Epoch 18/150\n",
      "1563/1563 [==============================] - 20s 13ms/step - loss: 0.5689 - accuracy: 0.8015 - val_loss: 0.5480 - val_accuracy: 0.8174\n",
      "Epoch 19/150\n",
      "1563/1563 [==============================] - 20s 13ms/step - loss: 0.5651 - accuracy: 0.8038 - val_loss: 0.4958 - val_accuracy: 0.8351\n",
      "Epoch 20/150\n",
      "1563/1563 [==============================] - 20s 13ms/step - loss: 0.5674 - accuracy: 0.8040 - val_loss: 0.5353 - val_accuracy: 0.8206\n",
      "Epoch 21/150\n",
      "1563/1563 [==============================] - 20s 13ms/step - loss: 0.5637 - accuracy: 0.8039 - val_loss: 0.5138 - val_accuracy: 0.8293\n",
      "Epoch 22/150\n",
      "1563/1563 [==============================] - 20s 13ms/step - loss: 0.5613 - accuracy: 0.8044 - val_loss: 0.5425 - val_accuracy: 0.8155\n",
      "Epoch 23/150\n",
      "1563/1563 [==============================] - 20s 13ms/step - loss: 0.5596 - accuracy: 0.8036 - val_loss: 0.5646 - val_accuracy: 0.8133\n",
      "Epoch 24/150\n",
      "1563/1563 [==============================] - 20s 13ms/step - loss: 0.5626 - accuracy: 0.8045 - val_loss: 0.5795 - val_accuracy: 0.8097\n",
      "Epoch 25/150\n",
      "1563/1563 [==============================] - 20s 13ms/step - loss: 0.5614 - accuracy: 0.8044 - val_loss: 0.5329 - val_accuracy: 0.8219\n",
      "Epoch 26/150\n",
      "1563/1563 [==============================] - 20s 13ms/step - loss: 0.5566 - accuracy: 0.8067 - val_loss: 0.4923 - val_accuracy: 0.8350\n",
      "Epoch 27/150\n",
      "1563/1563 [==============================] - 20s 13ms/step - loss: 0.5561 - accuracy: 0.8051 - val_loss: 0.5569 - val_accuracy: 0.8153\n",
      "Epoch 28/150\n",
      "1563/1563 [==============================] - 20s 13ms/step - loss: 0.5513 - accuracy: 0.8071 - val_loss: 0.5004 - val_accuracy: 0.8319\n",
      "Epoch 29/150\n",
      "1563/1563 [==============================] - 20s 13ms/step - loss: 0.5537 - accuracy: 0.8070 - val_loss: 0.5195 - val_accuracy: 0.8237\n",
      "Epoch 30/150\n",
      "1563/1563 [==============================] - 20s 13ms/step - loss: 0.5539 - accuracy: 0.8062 - val_loss: 0.4956 - val_accuracy: 0.8325\n",
      "Epoch 31/150\n",
      "1563/1563 [==============================] - 20s 13ms/step - loss: 0.5539 - accuracy: 0.8089 - val_loss: 0.5290 - val_accuracy: 0.8214\n",
      "Epoch 32/150\n",
      "1563/1563 [==============================] - 20s 13ms/step - loss: 0.5517 - accuracy: 0.8078 - val_loss: 0.4774 - val_accuracy: 0.8386\n",
      "Epoch 33/150\n",
      "1563/1563 [==============================] - 20s 13ms/step - loss: 0.5518 - accuracy: 0.8073 - val_loss: 0.4993 - val_accuracy: 0.8350\n",
      "Epoch 34/150\n",
      "1563/1563 [==============================] - 20s 13ms/step - loss: 0.5490 - accuracy: 0.8082 - val_loss: 0.4752 - val_accuracy: 0.8394\n",
      "Epoch 35/150\n",
      "1563/1563 [==============================] - 20s 13ms/step - loss: 0.5474 - accuracy: 0.8098 - val_loss: 0.4937 - val_accuracy: 0.8360\n",
      "Epoch 36/150\n",
      "1563/1563 [==============================] - 20s 13ms/step - loss: 0.5502 - accuracy: 0.8085 - val_loss: 0.4999 - val_accuracy: 0.8359\n",
      "Epoch 37/150\n",
      "1563/1563 [==============================] - 20s 13ms/step - loss: 0.5510 - accuracy: 0.8066 - val_loss: 0.5007 - val_accuracy: 0.8290\n",
      "Epoch 38/150\n",
      "1563/1563 [==============================] - 20s 13ms/step - loss: 0.5462 - accuracy: 0.8094 - val_loss: 0.5332 - val_accuracy: 0.8233\n",
      "Epoch 39/150\n",
      "1563/1563 [==============================] - 20s 13ms/step - loss: 0.5442 - accuracy: 0.8115 - val_loss: 0.4778 - val_accuracy: 0.8393\n",
      "Epoch 40/150\n",
      "1563/1563 [==============================] - 20s 13ms/step - loss: 0.5447 - accuracy: 0.8106 - val_loss: 0.4827 - val_accuracy: 0.8386\n",
      "Epoch 41/150\n",
      "1563/1563 [==============================] - 20s 13ms/step - loss: 0.5433 - accuracy: 0.8112 - val_loss: 0.5442 - val_accuracy: 0.8183\n",
      "Epoch 42/150\n",
      "1563/1563 [==============================] - 20s 13ms/step - loss: 0.5414 - accuracy: 0.8127 - val_loss: 0.5538 - val_accuracy: 0.8182\n",
      "Epoch 43/150\n",
      "1563/1563 [==============================] - 20s 13ms/step - loss: 0.5443 - accuracy: 0.8093 - val_loss: 0.4736 - val_accuracy: 0.8392\n",
      "Epoch 44/150\n",
      "1563/1563 [==============================] - 20s 13ms/step - loss: 0.5395 - accuracy: 0.8129 - val_loss: 0.5624 - val_accuracy: 0.8142\n",
      "Epoch 45/150\n",
      "1563/1563 [==============================] - 20s 13ms/step - loss: 0.5415 - accuracy: 0.8123 - val_loss: 0.4737 - val_accuracy: 0.8389\n",
      "Epoch 46/150\n",
      "1563/1563 [==============================] - 20s 13ms/step - loss: 0.5363 - accuracy: 0.8139 - val_loss: 0.4872 - val_accuracy: 0.8386\n",
      "Epoch 47/150\n",
      "1563/1563 [==============================] - 20s 13ms/step - loss: 0.5427 - accuracy: 0.8109 - val_loss: 0.5036 - val_accuracy: 0.8312\n",
      "Epoch 48/150\n",
      "1563/1563 [==============================] - 20s 13ms/step - loss: 0.5399 - accuracy: 0.8136 - val_loss: 0.4726 - val_accuracy: 0.8429\n",
      "Epoch 49/150\n",
      "1563/1563 [==============================] - 20s 13ms/step - loss: 0.5364 - accuracy: 0.8123 - val_loss: 0.4871 - val_accuracy: 0.8407\n",
      "Epoch 50/150\n",
      "1563/1563 [==============================] - 20s 13ms/step - loss: 0.5398 - accuracy: 0.8126 - val_loss: 0.4905 - val_accuracy: 0.8341\n",
      "Epoch 51/150\n",
      "1563/1563 [==============================] - 20s 13ms/step - loss: 0.5395 - accuracy: 0.8130 - val_loss: 0.4443 - val_accuracy: 0.8510\n",
      "Epoch 52/150\n",
      "1563/1563 [==============================] - 20s 13ms/step - loss: 0.5401 - accuracy: 0.8131 - val_loss: 0.5075 - val_accuracy: 0.8315\n",
      "Epoch 53/150\n",
      "1563/1563 [==============================] - 20s 13ms/step - loss: 0.5337 - accuracy: 0.8143 - val_loss: 0.4818 - val_accuracy: 0.8387\n",
      "Epoch 54/150\n",
      "1563/1563 [==============================] - 20s 13ms/step - loss: 0.5341 - accuracy: 0.8164 - val_loss: 0.4522 - val_accuracy: 0.8470\n",
      "Epoch 55/150\n",
      "1563/1563 [==============================] - 20s 13ms/step - loss: 0.5323 - accuracy: 0.8160 - val_loss: 0.5094 - val_accuracy: 0.8299\n",
      "Epoch 56/150\n",
      "1563/1563 [==============================] - 20s 13ms/step - loss: 0.5344 - accuracy: 0.8132 - val_loss: 0.4956 - val_accuracy: 0.8358\n",
      "Epoch 57/150\n",
      "1563/1563 [==============================] - 20s 13ms/step - loss: 0.5302 - accuracy: 0.8141 - val_loss: 0.4505 - val_accuracy: 0.8470\n",
      "Epoch 58/150\n",
      "1563/1563 [==============================] - 20s 13ms/step - loss: 0.5308 - accuracy: 0.8165 - val_loss: 0.4287 - val_accuracy: 0.8547\n",
      "Epoch 59/150\n",
      "1563/1563 [==============================] - 20s 13ms/step - loss: 0.5349 - accuracy: 0.8151 - val_loss: 0.4917 - val_accuracy: 0.8341\n",
      "Epoch 60/150\n",
      "1563/1563 [==============================] - 20s 13ms/step - loss: 0.5318 - accuracy: 0.8150 - val_loss: 0.4511 - val_accuracy: 0.8485\n",
      "Epoch 61/150\n",
      "1563/1563 [==============================] - 20s 13ms/step - loss: 0.5308 - accuracy: 0.8145 - val_loss: 0.4865 - val_accuracy: 0.8428\n",
      "Epoch 62/150\n",
      "1563/1563 [==============================] - 20s 13ms/step - loss: 0.5283 - accuracy: 0.8162 - val_loss: 0.5384 - val_accuracy: 0.8243\n",
      "Epoch 63/150\n",
      "1563/1563 [==============================] - 20s 13ms/step - loss: 0.5308 - accuracy: 0.8147 - val_loss: 0.4506 - val_accuracy: 0.8444\n",
      "Epoch 64/150\n",
      "1563/1563 [==============================] - 20s 13ms/step - loss: 0.5326 - accuracy: 0.8150 - val_loss: 0.4614 - val_accuracy: 0.8455\n",
      "Epoch 65/150\n",
      "1563/1563 [==============================] - 20s 13ms/step - loss: 0.5296 - accuracy: 0.8167 - val_loss: 0.5272 - val_accuracy: 0.8273\n",
      "Epoch 66/150\n",
      "1563/1563 [==============================] - 20s 13ms/step - loss: 0.5216 - accuracy: 0.8186 - val_loss: 0.4685 - val_accuracy: 0.8418\n",
      "Epoch 67/150\n",
      "1563/1563 [==============================] - 20s 13ms/step - loss: 0.5252 - accuracy: 0.8166 - val_loss: 0.4461 - val_accuracy: 0.8498\n",
      "Epoch 68/150\n",
      "1563/1563 [==============================] - 20s 13ms/step - loss: 0.5269 - accuracy: 0.8162 - val_loss: 0.5461 - val_accuracy: 0.8188\n",
      "Epoch 69/150\n",
      "1563/1563 [==============================] - 20s 13ms/step - loss: 0.5308 - accuracy: 0.8164 - val_loss: 0.5173 - val_accuracy: 0.8311\n",
      "Epoch 70/150\n",
      "1563/1563 [==============================] - 20s 13ms/step - loss: 0.5234 - accuracy: 0.8178 - val_loss: 0.5134 - val_accuracy: 0.8324\n",
      "Epoch 71/150\n",
      "1563/1563 [==============================] - 20s 13ms/step - loss: 0.5258 - accuracy: 0.8177 - val_loss: 0.5265 - val_accuracy: 0.8271\n",
      "Epoch 72/150\n",
      "1563/1563 [==============================] - 20s 13ms/step - loss: 0.5192 - accuracy: 0.8206 - val_loss: 0.5327 - val_accuracy: 0.8290\n",
      "Epoch 73/150\n",
      "1563/1563 [==============================] - 20s 13ms/step - loss: 0.5207 - accuracy: 0.8181 - val_loss: 0.4867 - val_accuracy: 0.8400\n",
      "Epoch 74/150\n",
      "1563/1563 [==============================] - 20s 13ms/step - loss: 0.5156 - accuracy: 0.8196 - val_loss: 0.4532 - val_accuracy: 0.8470\n",
      "Epoch 75/150\n",
      "1563/1563 [==============================] - 20s 13ms/step - loss: 0.5247 - accuracy: 0.8168 - val_loss: 0.4749 - val_accuracy: 0.8424\n",
      "Epoch 76/150\n",
      "1563/1563 [==============================] - 20s 13ms/step - loss: 0.5209 - accuracy: 0.8175 - val_loss: 0.5048 - val_accuracy: 0.8327\n",
      "Epoch 77/150\n",
      "1563/1563 [==============================] - 20s 13ms/step - loss: 0.5217 - accuracy: 0.8191 - val_loss: 0.4743 - val_accuracy: 0.8400\n",
      "Epoch 78/150\n",
      "1563/1563 [==============================] - 20s 13ms/step - loss: 0.5225 - accuracy: 0.8173 - val_loss: 0.5187 - val_accuracy: 0.8298\n",
      "Epoch 79/150\n",
      "1563/1563 [==============================] - 20s 13ms/step - loss: 0.5185 - accuracy: 0.8198 - val_loss: 0.4751 - val_accuracy: 0.8418\n",
      "Epoch 80/150\n",
      "1563/1563 [==============================] - 20s 13ms/step - loss: 0.5117 - accuracy: 0.8222 - val_loss: 0.4896 - val_accuracy: 0.8415\n",
      "Epoch 81/150\n",
      "1563/1563 [==============================] - 20s 13ms/step - loss: 0.5178 - accuracy: 0.8201 - val_loss: 0.4873 - val_accuracy: 0.8391\n",
      "Epoch 82/150\n",
      "1563/1563 [==============================] - 20s 13ms/step - loss: 0.5171 - accuracy: 0.8202 - val_loss: 0.4606 - val_accuracy: 0.8455\n",
      "Epoch 83/150\n",
      "1563/1563 [==============================] - 20s 13ms/step - loss: 0.5171 - accuracy: 0.8202 - val_loss: 0.4630 - val_accuracy: 0.8443\n",
      "Epoch 84/150\n",
      "1563/1563 [==============================] - 20s 13ms/step - loss: 0.5183 - accuracy: 0.8196 - val_loss: 0.4532 - val_accuracy: 0.8500\n",
      "Epoch 85/150\n",
      "1563/1563 [==============================] - 20s 13ms/step - loss: 0.5226 - accuracy: 0.8186 - val_loss: 0.4771 - val_accuracy: 0.8415\n",
      "Epoch 86/150\n",
      "1563/1563 [==============================] - 20s 13ms/step - loss: 0.5169 - accuracy: 0.8189 - val_loss: 0.5049 - val_accuracy: 0.8318\n",
      "Epoch 87/150\n",
      "1563/1563 [==============================] - 20s 13ms/step - loss: 0.5108 - accuracy: 0.8227 - val_loss: 0.5019 - val_accuracy: 0.8338\n",
      "Epoch 88/150\n",
      "1563/1563 [==============================] - 20s 13ms/step - loss: 0.5155 - accuracy: 0.8211 - val_loss: 0.4492 - val_accuracy: 0.8501\n",
      "Epoch 89/150\n",
      "1563/1563 [==============================] - 20s 13ms/step - loss: 0.5139 - accuracy: 0.8209 - val_loss: 0.4876 - val_accuracy: 0.8355\n",
      "Epoch 90/150\n",
      "1563/1563 [==============================] - 20s 13ms/step - loss: 0.5200 - accuracy: 0.8183 - val_loss: 0.4951 - val_accuracy: 0.8351\n",
      "Epoch 91/150\n",
      "1563/1563 [==============================] - 20s 13ms/step - loss: 0.5172 - accuracy: 0.8195 - val_loss: 0.5199 - val_accuracy: 0.8258\n",
      "Epoch 92/150\n",
      "1563/1563 [==============================] - 20s 13ms/step - loss: 0.5162 - accuracy: 0.8194 - val_loss: 0.4873 - val_accuracy: 0.8375\n",
      "Epoch 93/150\n",
      "1563/1563 [==============================] - 20s 13ms/step - loss: 0.5097 - accuracy: 0.8218 - val_loss: 0.5025 - val_accuracy: 0.8346\n",
      "Epoch 94/150\n",
      "1563/1563 [==============================] - 20s 13ms/step - loss: 0.5124 - accuracy: 0.8214 - val_loss: 0.5462 - val_accuracy: 0.8244\n",
      "Epoch 95/150\n",
      "1563/1563 [==============================] - 20s 13ms/step - loss: 0.5125 - accuracy: 0.8215 - val_loss: 0.4923 - val_accuracy: 0.8342\n",
      "Epoch 96/150\n",
      "1563/1563 [==============================] - 20s 13ms/step - loss: 0.5158 - accuracy: 0.8205 - val_loss: 0.4829 - val_accuracy: 0.8374\n",
      "Epoch 97/150\n",
      "1563/1563 [==============================] - 20s 13ms/step - loss: 0.5128 - accuracy: 0.8227 - val_loss: 0.4674 - val_accuracy: 0.8424\n",
      "Epoch 98/150\n",
      "1563/1563 [==============================] - 20s 13ms/step - loss: 0.5097 - accuracy: 0.8235 - val_loss: 0.5020 - val_accuracy: 0.8321\n",
      "Epoch 99/150\n",
      "1563/1563 [==============================] - 20s 13ms/step - loss: 0.5059 - accuracy: 0.8237 - val_loss: 0.4791 - val_accuracy: 0.8397\n",
      "Epoch 100/150\n",
      "1563/1563 [==============================] - 20s 13ms/step - loss: 0.5126 - accuracy: 0.8214 - val_loss: 0.4933 - val_accuracy: 0.8373\n",
      "Epoch 101/150\n",
      "1563/1563 [==============================] - 20s 13ms/step - loss: 0.5068 - accuracy: 0.8229 - val_loss: 0.4855 - val_accuracy: 0.8354\n",
      "Epoch 102/150\n",
      "1563/1563 [==============================] - 20s 13ms/step - loss: 0.5140 - accuracy: 0.8230 - val_loss: 0.5134 - val_accuracy: 0.8277\n",
      "Epoch 103/150\n",
      "1563/1563 [==============================] - 20s 13ms/step - loss: 0.5094 - accuracy: 0.8224 - val_loss: 0.4629 - val_accuracy: 0.8477\n",
      "Epoch 104/150\n",
      "1563/1563 [==============================] - 20s 13ms/step - loss: 0.5140 - accuracy: 0.8198 - val_loss: 0.4773 - val_accuracy: 0.8423\n",
      "Epoch 105/150\n",
      "1563/1563 [==============================] - 20s 13ms/step - loss: 0.5112 - accuracy: 0.8232 - val_loss: 0.4600 - val_accuracy: 0.8459\n",
      "Epoch 106/150\n",
      "1563/1563 [==============================] - 20s 13ms/step - loss: 0.5112 - accuracy: 0.8226 - val_loss: 0.4992 - val_accuracy: 0.8323\n",
      "Epoch 107/150\n",
      "1563/1563 [==============================] - 20s 13ms/step - loss: 0.5146 - accuracy: 0.8203 - val_loss: 0.4838 - val_accuracy: 0.8377\n",
      "Epoch 108/150\n",
      "1563/1563 [==============================] - 20s 13ms/step - loss: 0.5041 - accuracy: 0.8255 - val_loss: 0.4664 - val_accuracy: 0.8463\n",
      "Epoch 109/150\n",
      "1563/1563 [==============================] - 20s 13ms/step - loss: 0.5083 - accuracy: 0.8231 - val_loss: 0.4674 - val_accuracy: 0.8443\n",
      "Epoch 110/150\n",
      "1563/1563 [==============================] - 20s 13ms/step - loss: 0.5071 - accuracy: 0.8227 - val_loss: 0.4980 - val_accuracy: 0.8330\n",
      "Epoch 111/150\n",
      "1563/1563 [==============================] - 20s 13ms/step - loss: 0.5040 - accuracy: 0.8245 - val_loss: 0.4810 - val_accuracy: 0.8424\n",
      "Epoch 112/150\n",
      "1563/1563 [==============================] - 20s 13ms/step - loss: 0.5029 - accuracy: 0.8259 - val_loss: 0.5072 - val_accuracy: 0.8323\n",
      "Epoch 113/150\n",
      "1563/1563 [==============================] - 20s 13ms/step - loss: 0.5061 - accuracy: 0.8239 - val_loss: 0.4465 - val_accuracy: 0.8511\n",
      "Epoch 114/150\n",
      "1563/1563 [==============================] - 20s 13ms/step - loss: 0.5043 - accuracy: 0.8252 - val_loss: 0.5351 - val_accuracy: 0.8256\n",
      "Epoch 115/150\n",
      "1563/1563 [==============================] - 20s 13ms/step - loss: 0.5017 - accuracy: 0.8227 - val_loss: 0.4739 - val_accuracy: 0.8444\n",
      "Epoch 116/150\n",
      "1563/1563 [==============================] - 20s 13ms/step - loss: 0.5014 - accuracy: 0.8266 - val_loss: 0.5118 - val_accuracy: 0.8303\n",
      "Epoch 117/150\n",
      "1563/1563 [==============================] - 20s 13ms/step - loss: 0.5037 - accuracy: 0.8249 - val_loss: 0.4601 - val_accuracy: 0.8469\n",
      "Epoch 118/150\n",
      "1563/1563 [==============================] - 20s 13ms/step - loss: 0.5061 - accuracy: 0.8251 - val_loss: 0.4530 - val_accuracy: 0.8498\n",
      "Epoch 119/150\n",
      "1563/1563 [==============================] - 20s 13ms/step - loss: 0.5050 - accuracy: 0.8232 - val_loss: 0.4586 - val_accuracy: 0.8439\n",
      "Epoch 120/150\n",
      "1563/1563 [==============================] - 20s 13ms/step - loss: 0.5064 - accuracy: 0.8265 - val_loss: 0.4595 - val_accuracy: 0.8483\n",
      "Epoch 121/150\n",
      "1563/1563 [==============================] - 20s 13ms/step - loss: 0.5057 - accuracy: 0.8244 - val_loss: 0.4772 - val_accuracy: 0.8419\n",
      "Epoch 122/150\n",
      "1563/1563 [==============================] - 20s 13ms/step - loss: 0.5029 - accuracy: 0.8251 - val_loss: 0.4250 - val_accuracy: 0.8577\n",
      "Epoch 123/150\n",
      "1563/1563 [==============================] - 20s 13ms/step - loss: 0.5035 - accuracy: 0.8256 - val_loss: 0.4294 - val_accuracy: 0.8554\n",
      "Epoch 124/150\n",
      "1563/1563 [==============================] - 20s 13ms/step - loss: 0.4985 - accuracy: 0.8269 - val_loss: 0.4523 - val_accuracy: 0.8489\n",
      "Epoch 125/150\n",
      "1563/1563 [==============================] - 20s 13ms/step - loss: 0.4974 - accuracy: 0.8281 - val_loss: 0.4572 - val_accuracy: 0.8476\n",
      "Epoch 126/150\n",
      "1563/1563 [==============================] - 20s 13ms/step - loss: 0.4996 - accuracy: 0.8241 - val_loss: 0.4650 - val_accuracy: 0.8449\n",
      "Epoch 127/150\n",
      "1563/1563 [==============================] - 20s 13ms/step - loss: 0.5078 - accuracy: 0.8244 - val_loss: 0.5082 - val_accuracy: 0.8317\n",
      "Epoch 128/150\n",
      "1563/1563 [==============================] - 20s 13ms/step - loss: 0.5020 - accuracy: 0.8237 - val_loss: 0.5230 - val_accuracy: 0.8279\n",
      "Epoch 129/150\n",
      "1563/1563 [==============================] - 20s 13ms/step - loss: 0.5013 - accuracy: 0.8261 - val_loss: 0.4345 - val_accuracy: 0.8554\n",
      "Epoch 130/150\n",
      "1563/1563 [==============================] - 20s 13ms/step - loss: 0.4981 - accuracy: 0.8261 - val_loss: 0.4454 - val_accuracy: 0.8507\n",
      "Epoch 131/150\n",
      "1563/1563 [==============================] - 20s 13ms/step - loss: 0.4970 - accuracy: 0.8274 - val_loss: 0.4445 - val_accuracy: 0.8518\n",
      "Epoch 132/150\n",
      "1563/1563 [==============================] - 20s 13ms/step - loss: 0.4963 - accuracy: 0.8267 - val_loss: 0.4984 - val_accuracy: 0.8361\n",
      "Epoch 133/150\n",
      "1563/1563 [==============================] - 20s 13ms/step - loss: 0.4978 - accuracy: 0.8278 - val_loss: 0.4742 - val_accuracy: 0.8431\n",
      "Epoch 134/150\n",
      "1563/1563 [==============================] - 20s 13ms/step - loss: 0.4981 - accuracy: 0.8264 - val_loss: 0.4585 - val_accuracy: 0.8470\n",
      "Epoch 135/150\n",
      "1563/1563 [==============================] - 20s 13ms/step - loss: 0.4983 - accuracy: 0.8259 - val_loss: 0.5157 - val_accuracy: 0.8310\n",
      "Epoch 136/150\n",
      "1563/1563 [==============================] - 20s 13ms/step - loss: 0.5022 - accuracy: 0.8250 - val_loss: 0.4583 - val_accuracy: 0.8469\n",
      "Epoch 137/150\n",
      "1563/1563 [==============================] - 20s 13ms/step - loss: 0.4996 - accuracy: 0.8258 - val_loss: 0.4816 - val_accuracy: 0.8400\n",
      "Epoch 138/150\n",
      "1563/1563 [==============================] - 20s 13ms/step - loss: 0.4946 - accuracy: 0.8281 - val_loss: 0.4490 - val_accuracy: 0.8501\n",
      "Epoch 139/150\n",
      "1563/1563 [==============================] - 20s 13ms/step - loss: 0.4969 - accuracy: 0.8249 - val_loss: 0.4803 - val_accuracy: 0.8402\n",
      "Epoch 140/150\n",
      "1563/1563 [==============================] - 20s 13ms/step - loss: 0.4952 - accuracy: 0.8266 - val_loss: 0.4631 - val_accuracy: 0.8470\n",
      "Epoch 141/150\n",
      "1563/1563 [==============================] - 20s 13ms/step - loss: 0.4953 - accuracy: 0.8258 - val_loss: 0.4457 - val_accuracy: 0.8519\n",
      "Epoch 142/150\n",
      "1563/1563 [==============================] - 20s 13ms/step - loss: 0.4955 - accuracy: 0.8279 - val_loss: 0.5016 - val_accuracy: 0.8326\n",
      "Epoch 143/150\n",
      "1563/1563 [==============================] - 20s 13ms/step - loss: 0.4980 - accuracy: 0.8268 - val_loss: 0.4955 - val_accuracy: 0.8375\n",
      "Epoch 144/150\n",
      "1563/1563 [==============================] - 20s 13ms/step - loss: 0.4941 - accuracy: 0.8275 - val_loss: 0.4525 - val_accuracy: 0.8496\n",
      "Epoch 145/150\n",
      "1563/1563 [==============================] - 20s 13ms/step - loss: 0.4957 - accuracy: 0.8278 - val_loss: 0.4626 - val_accuracy: 0.8472\n",
      "Epoch 146/150\n",
      "1563/1563 [==============================] - 20s 13ms/step - loss: 0.4928 - accuracy: 0.8287 - val_loss: 0.4557 - val_accuracy: 0.8495\n",
      "Epoch 147/150\n",
      "1563/1563 [==============================] - 20s 13ms/step - loss: 0.4917 - accuracy: 0.8283 - val_loss: 0.4736 - val_accuracy: 0.8433\n",
      "Epoch 148/150\n",
      "1563/1563 [==============================] - 20s 13ms/step - loss: 0.4882 - accuracy: 0.8287 - val_loss: 0.4900 - val_accuracy: 0.8401\n",
      "Epoch 149/150\n",
      "1563/1563 [==============================] - 20s 13ms/step - loss: 0.4955 - accuracy: 0.8280 - val_loss: 0.4790 - val_accuracy: 0.8399\n",
      "Epoch 150/150\n",
      "1563/1563 [==============================] - 20s 13ms/step - loss: 0.4975 - accuracy: 0.8270 - val_loss: 0.4706 - val_accuracy: 0.8428\n"
     ]
    }
   ],
   "source": [
    "history_aug = model_aug.fit(\n",
    "    train_gen,\n",
    "    validation_data=(test_data_proc, test_label_proc),\n",
    "    batch_size=256,\n",
    "    epochs=150\n",
    ")"
   ]
  },
  {
   "cell_type": "code",
   "execution_count": 45,
   "id": "valuable-buying",
   "metadata": {},
   "outputs": [
    {
     "data": {
      "text/plain": [
       "<AxesSubplot:>"
      ]
     },
     "execution_count": 45,
     "metadata": {},
     "output_type": "execute_result"
    },
    {
     "data": {
      "image/png": "[encoded data removed]",
      "text/plain": [
       "<Figure size 432x288 with 1 Axes>"
      ]
     },
     "metadata": {
      "needs_background": "light"
     },
     "output_type": "display_data"
    }
   ],
   "source": [
    "pd.DataFrame(history_aug.history).plot()"
   ]
  },
  {
   "cell_type": "code",
   "execution_count": null,
   "id": "posted-encyclopedia",
   "metadata": {},
   "outputs": [],
   "source": []
  },
  {
   "cell_type": "code",
   "execution_count": null,
   "id": "demographic-finnish",
   "metadata": {},
   "outputs": [],
   "source": []
  }
 ],
 "metadata": {
  "kernelspec": {
   "display_name": "Python 3",
   "language": "python",
   "name": "python3"
  },
  "language_info": {
   "codemirror_mode": {
    "name": "ipython",
    "version": 3
   },
   "file_extension": ".py",
   "mimetype": "text/x-python",
   "name": "python",
   "nbconvert_exporter": "python",
   "pygments_lexer": "ipython3",
   "version": "3.8.5"
  },
  "toc-autonumbering": true
 },
 "nbformat": 4,
 "nbformat_minor": 5
}
