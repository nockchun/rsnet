{
 "cells": [
  {
   "cell_type": "markdown",
   "metadata": {},
   "source": [
    "<div class=\"alert alert-block alert-success\">\n",
    "    <b><center>Pytorch LIBRARY</center></b>\n",
    "    <b><center>MNIST ANN</center></b>\n",
    "</div>"
   ]
  },
  {
   "cell_type": "markdown",
   "metadata": {},
   "source": [
    "# Configure Learning Environment"
   ]
  },
  {
   "cell_type": "code",
   "execution_count": 1,
   "metadata": {},
   "outputs": [],
   "source": [
    "import numpy as np\n",
    "import matplotlib.pyplot as plt\n",
    "import pandas as pd"
   ]
  },
  {
   "cell_type": "code",
   "execution_count": 2,
   "metadata": {},
   "outputs": [],
   "source": [
    "import torch\n",
    "from torch import nn\n",
    "from torchvision import datasets, transforms"
   ]
  },
  {
   "cell_type": "code",
   "execution_count": 3,
   "metadata": {},
   "outputs": [
    {
     "data": {
      "text/plain": [
       "device(type='cuda', index=0)"
      ]
     },
     "execution_count": 3,
     "metadata": {},
     "output_type": "execute_result"
    }
   ],
   "source": [
    "device = torch.device(\"cuda:0\" if torch.cuda.is_available() else \"cpu\")\n",
    "device"
   ]
  },
  {
   "cell_type": "markdown",
   "metadata": {},
   "source": [
    "# Prepare Data"
   ]
  },
  {
   "cell_type": "code",
   "execution_count": 4,
   "metadata": {},
   "outputs": [],
   "source": [
    "transform = transforms.Compose([\n",
    "    transforms.ToTensor(),\n",
    "    transforms.Normalize(0.5, 0.5)\n",
    "])\n",
    "res_train = datasets.MNIST(\"./datas\", train=True, transform=transform, download=True)"
   ]
  },
  {
   "cell_type": "code",
   "execution_count": 5,
   "metadata": {},
   "outputs": [],
   "source": [
    "load_train = torch.utils.data.DataLoader(res_train, batch_size=100, shuffle=True)"
   ]
  },
  {
   "cell_type": "code",
   "execution_count": 6,
   "metadata": {},
   "outputs": [
    {
     "data": {
      "text/plain": [
       "(torch.Size([100, 1, 28, 28]), torch.Size([100]))"
      ]
     },
     "execution_count": 6,
     "metadata": {},
     "output_type": "execute_result"
    }
   ],
   "source": [
    "iter_train = iter(load_train)\n",
    "images, labels = iter_train.next()\n",
    "images.shape, labels.shape"
   ]
  },
  {
   "cell_type": "code",
   "execution_count": 7,
   "metadata": {},
   "outputs": [],
   "source": [
    "def im_convert(tensor):\n",
    "    image = tensor.clone().detach().numpy()\n",
    "    image = image.transpose(1, 2, 0)\n",
    "    image = image * np.array((0.5, 0.5, 0.5)) + np.array((0.5, 0.5, 0.5))\n",
    "    image = image.clip(0, 255)\n",
    "    return image"
   ]
  },
  {
   "cell_type": "code",
   "execution_count": 8,
   "metadata": {},
   "outputs": [
    {
     "data": {
      "image/png": "[encoded data removed]",
      "text/plain": [
       "<Figure size 1800x288 with 20 Axes>"
      ]
     },
     "metadata": {},
     "output_type": "display_data"
    }
   ],
   "source": [
    "fig = plt.figure(figsize=(25, 4))\n",
    "for idx in np.arange(20):\n",
    "    ax = fig.add_subplot(2, 10, idx+1, xticks=[], yticks=[])\n",
    "    plt.imshow(im_convert(images[idx]))\n",
    "    ax.set_title(labels[idx].item())"
   ]
  },
  {
   "cell_type": "markdown",
   "metadata": {},
   "source": [
    "# Generate Model"
   ]
  },
  {
   "cell_type": "code",
   "execution_count": 9,
   "metadata": {},
   "outputs": [],
   "source": [
    "class Classifier(nn.Module):\n",
    "    def __init__(self, D_in, H1, H2, D_out):\n",
    "        super().__init__()\n",
    "        self.linear1 = nn.Linear(D_in, H1)\n",
    "        self.activate1 = nn.ReLU()\n",
    "        self.linear2 = nn.Linear(H1, H2)\n",
    "        self.activate2 = nn.ReLU()\n",
    "        self.linear3 = nn.Linear(H2, D_out)\n",
    "    \n",
    "    def forward(self, x):\n",
    "        x = self.activate1(self.linear1(x))\n",
    "        x = self.activate2(self.linear2(x))\n",
    "        x = self.linear3(x)\n",
    "        return x"
   ]
  },
  {
   "cell_type": "code",
   "execution_count": 10,
   "metadata": {},
   "outputs": [
    {
     "data": {
      "text/plain": [
       "Classifier(\n",
       "  (linear1): Linear(in_features=784, out_features=125, bias=True)\n",
       "  (activate1): ReLU()\n",
       "  (linear2): Linear(in_features=125, out_features=65, bias=True)\n",
       "  (activate2): ReLU()\n",
       "  (linear3): Linear(in_features=65, out_features=10, bias=True)\n",
       ")"
      ]
     },
     "execution_count": 10,
     "metadata": {},
     "output_type": "execute_result"
    }
   ],
   "source": [
    "model = Classifier(784, 125, 65, 10).to(device)\n",
    "model"
   ]
  },
  {
   "cell_type": "code",
   "execution_count": 11,
   "metadata": {},
   "outputs": [],
   "source": [
    "fn_loss = nn.CrossEntropyLoss()\n",
    "fn_optimizer = torch.optim.Adam(model.parameters(), lr=0.0001)"
   ]
  },
  {
   "cell_type": "markdown",
   "metadata": {},
   "source": [
    "# Training"
   ]
  },
  {
   "cell_type": "code",
   "execution_count": 12,
   "metadata": {},
   "outputs": [],
   "source": [
    "epochs = 20\n",
    "amount_batch = len(load_train)"
   ]
  },
  {
   "cell_type": "code",
   "execution_count": 13,
   "metadata": {},
   "outputs": [
    {
     "name": "stdout",
     "output_type": "stream",
     "text": [
      "01 step -> loss: 0.9546, accuracy: 76.49 %\n",
      "02 step -> loss: 0.3816, accuracy: 89.30 %\n",
      "03 step -> loss: 0.3231, accuracy: 90.77 %\n",
      "04 step -> loss: 0.2919, accuracy: 91.53 %\n",
      "05 step -> loss: 0.2652, accuracy: 92.32 %\n",
      "06 step -> loss: 0.2423, accuracy: 92.99 %\n",
      "07 step -> loss: 0.2239, accuracy: 93.50 %\n",
      "08 step -> loss: 0.2061, accuracy: 94.11 %\n",
      "09 step -> loss: 0.1924, accuracy: 94.47 %\n",
      "10 step -> loss: 0.1791, accuracy: 94.82 %\n",
      "11 step -> loss: 0.1672, accuracy: 95.17 %\n",
      "12 step -> loss: 0.1563, accuracy: 95.48 %\n",
      "13 step -> loss: 0.1477, accuracy: 95.69 %\n",
      "14 step -> loss: 0.1381, accuracy: 95.96 %\n",
      "15 step -> loss: 0.1303, accuracy: 96.16 %\n",
      "16 step -> loss: 0.1234, accuracy: 96.36 %\n",
      "17 step -> loss: 0.1169, accuracy: 96.55 %\n",
      "18 step -> loss: 0.1107, accuracy: 96.81 %\n",
      "19 step -> loss: 0.1054, accuracy: 96.97 %\n",
      "20 step -> loss: 0.0996, accuracy: 97.14 %\n"
     ]
    }
   ],
   "source": [
    "history = []\n",
    "for epoch in range(epochs):\n",
    "    loss_learns = .0\n",
    "    accu_learns = .0\n",
    "    \n",
    "    for datas, labels in load_train:\n",
    "        # set device\n",
    "        datas = datas.to(device)\n",
    "        labels = labels.to(device)\n",
    "        \n",
    "        # predict & calculate a loss\n",
    "        inputs = datas.view(datas.shape[0], -1)\n",
    "        preds = model(inputs)\n",
    "        loss = fn_loss(preds, labels)\n",
    "        \n",
    "        # backpropagation\n",
    "        fn_optimizer.zero_grad()\n",
    "        loss.backward()\n",
    "        fn_optimizer.step()\n",
    "        \n",
    "        loss_learns += loss.item()\n",
    "        _, pred_label = torch.max(preds, 1)\n",
    "        accu_learns += torch.sum(pred_label == labels.data).item() / len(pred_label) * 100\n",
    "        \n",
    "    loss_learn = loss_learns / amount_batch\n",
    "    accu_learn = accu_learns / amount_batch\n",
    "    history.append({\"loss\": loss_learn, \"accuracy\": accu_learn})\n",
    "    \n",
    "    print(f\"{epoch+1:02d} step -> loss: {loss_learn:.4f}, accuracy: {accu_learn:.2f} %\")"
   ]
  },
  {
   "cell_type": "code",
   "execution_count": 14,
   "metadata": {},
   "outputs": [
    {
     "data": {
      "text/plain": [
       "array([[<AxesSubplot:>, <AxesSubplot:>]], dtype=object)"
      ]
     },
     "execution_count": 14,
     "metadata": {},
     "output_type": "execute_result"
    },
    {
     "data": {
      "image/png": "[encoded data removed]",
      "text/plain": [
       "<Figure size 1080x360 with 2 Axes>"
      ]
     },
     "metadata": {
      "needs_background": "light"
     },
     "output_type": "display_data"
    }
   ],
   "source": [
    "df_history = pd.DataFrame.from_records(history)\n",
    "df_history.plot(subplots=True, layout=(1, 2), figsize=(15, 5))"
   ]
  },
  {
   "cell_type": "code",
   "execution_count": null,
   "metadata": {},
   "outputs": [],
   "source": []
  }
 ],
 "metadata": {
  "kernelspec": {
   "display_name": "Python 3 (ipykernel)",
   "language": "python",
   "name": "python3"
  },
  "language_info": {
   "codemirror_mode": {
    "name": "ipython",
    "version": 3
   },
   "file_extension": ".py",
   "mimetype": "text/x-python",
   "name": "python",
   "nbconvert_exporter": "python",
   "pygments_lexer": "ipython3",
   "version": "3.9.9"
  },
  "toc-autonumbering": true
 },
 "nbformat": 4,
 "nbformat_minor": 4
}
