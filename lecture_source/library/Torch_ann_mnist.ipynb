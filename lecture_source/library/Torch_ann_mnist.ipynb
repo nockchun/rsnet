{
 "cells": [
  {
   "cell_type": "markdown",
   "metadata": {},
   "source": [
    "<div class=\"alert alert-block alert-success\">\n",
    "    <b><center>Pytorch LIBRARY</center></b>\n",
    "    <b><center>MNIST ANN</center></b>\n",
    "</div>"
   ]
  },
  {
   "cell_type": "markdown",
   "metadata": {},
   "source": [
    "# Configure Learning Environment"
   ]
  },
  {
   "cell_type": "code",
   "execution_count": 1,
   "metadata": {},
   "outputs": [],
   "source": [
    "import numpy as np\n",
    "import matplotlib.pyplot as plt\n",
    "import pandas as pd"
   ]
  },
  {
   "cell_type": "code",
   "execution_count": 2,
   "metadata": {},
   "outputs": [],
   "source": [
    "import torch\n",
    "from torch import nn\n",
    "from torchvision import datasets, transforms"
   ]
  },
  {
   "cell_type": "code",
   "execution_count": 3,
   "metadata": {},
   "outputs": [
    {
     "data": {
      "text/plain": [
       "device(type='cuda', index=0)"
      ]
     },
     "execution_count": 3,
     "metadata": {},
     "output_type": "execute_result"
    }
   ],
   "source": [
    "device = torch.device(\"cuda:0\" if torch.cuda.is_available() else \"cpu\")\n",
    "device"
   ]
  },
  {
   "cell_type": "markdown",
   "metadata": {},
   "source": [
    "# Prepare Data"
   ]
  },
  {
   "cell_type": "code",
   "execution_count": 4,
   "metadata": {},
   "outputs": [],
   "source": [
    "transform = transforms.Compose([\n",
    "    transforms.ToTensor(),\n",
    "    transforms.Normalize(0.5, 0.5)\n",
    "])\n",
    "res_train = datasets.MNIST(\"./datas\", train=True, transform=transform, download=True)"
   ]
  },
  {
   "cell_type": "code",
   "execution_count": 5,
   "metadata": {},
   "outputs": [],
   "source": [
    "load_train = torch.utils.data.DataLoader(res_train, batch_size=100, shuffle=True)"
   ]
  },
  {
   "cell_type": "code",
   "execution_count": 6,
   "metadata": {},
   "outputs": [
    {
     "data": {
      "text/plain": [
       "(torch.Size([100, 1, 28, 28]), torch.Size([100]))"
      ]
     },
     "execution_count": 6,
     "metadata": {},
     "output_type": "execute_result"
    }
   ],
   "source": [
    "iter_train = iter(load_train)\n",
    "images, labels = iter_train.next()\n",
    "images.shape, labels.shape"
   ]
  },
  {
   "cell_type": "code",
   "execution_count": 7,
   "metadata": {},
   "outputs": [],
   "source": [
    "def im_convert(tensor):\n",
    "    image = tensor.clone().detach().numpy()\n",
    "    image = image.transpose(1, 2, 0)\n",
    "    image = image * np.array((0.5, 0.5, 0.5)) + np.array((0.5, 0.5, 0.5))\n",
    "    image = image.clip(0, 255)\n",
    "    return image"
   ]
  },
  {
   "cell_type": "code",
   "execution_count": 8,
   "metadata": {},
   "outputs": [
    {
     "data": {
      "image/png": "[encoded data removed]",
      "text/plain": [
       "<Figure size 1800x288 with 20 Axes>"
      ]
     },
     "metadata": {},
     "output_type": "display_data"
    }
   ],
   "source": [
    "fig = plt.figure(figsize=(25, 4))\n",
    "for idx in np.arange(20):\n",
    "    ax = fig.add_subplot(2, 10, idx+1, xticks=[], yticks=[])\n",
    "    plt.imshow(im_convert(images[idx]))\n",
    "    ax.set_title(labels[idx].item())"
   ]
  },
  {
   "cell_type": "markdown",
   "metadata": {},
   "source": [
    "# Generate Model"
   ]
  },
  {
   "cell_type": "code",
   "execution_count": 9,
   "metadata": {},
   "outputs": [],
   "source": [
    "class Classifier(nn.Module):\n",
    "    def __init__(self, D_in, H1, H2, D_out):\n",
    "        super().__init__()\n",
    "        self.linear1 = nn.Linear(D_in, H1)\n",
    "        self.activate1 = nn.ReLU()\n",
    "        self.linear2 = nn.Linear(H1, H2)\n",
    "        self.activate2 = nn.ReLU()\n",
    "        self.linear3 = nn.Linear(H2, D_out)\n",
    "    \n",
    "    def forward(self, x):\n",
    "        x = self.activate1(self.linear1(x))\n",
    "        x = self.activate2(self.linear2(x))\n",
    "        x = self.linear3(x)\n",
    "        return x"
   ]
  },
  {
   "cell_type": "code",
   "execution_count": 10,
   "metadata": {},
   "outputs": [
    {
     "data": {
      "text/plain": [
       "Classifier(\n",
       "  (linear1): Linear(in_features=784, out_features=125, bias=True)\n",
       "  (activate1): ReLU()\n",
       "  (linear2): Linear(in_features=125, out_features=65, bias=True)\n",
       "  (activate2): ReLU()\n",
       "  (linear3): Linear(in_features=65, out_features=10, bias=True)\n",
       ")"
      ]
     },
     "execution_count": 10,
     "metadata": {},
     "output_type": "execute_result"
    }
   ],
   "source": [
    "model = Classifier(784, 125, 65, 10)\n",
    "model"
   ]
  },
  {
   "cell_type": "code",
   "execution_count": 11,
   "metadata": {},
   "outputs": [],
   "source": [
    "fn_loss = nn.CrossEntropyLoss()\n",
    "fn_optimizer = torch.optim.Adam(model.parameters(), lr=0.0001)"
   ]
  },
  {
   "cell_type": "markdown",
   "metadata": {},
   "source": [
    "# Training"
   ]
  },
  {
   "cell_type": "code",
   "execution_count": 12,
   "metadata": {},
   "outputs": [],
   "source": [
    "epochs = 20\n",
    "size_batch = len(load_train)"
   ]
  },
  {
   "cell_type": "code",
   "execution_count": 13,
   "metadata": {},
   "outputs": [
    {
     "name": "stdout",
     "output_type": "stream",
     "text": [
      "01 step -> loss: 0.9051, accuracy: 79.77 %\n",
      "02 step -> loss: 0.3661, accuracy: 89.50 %\n",
      "03 step -> loss: 0.3110, accuracy: 90.94 %\n",
      "04 step -> loss: 0.2815, accuracy: 91.78 %\n",
      "05 step -> loss: 0.2555, accuracy: 92.55 %\n",
      "06 step -> loss: 0.2330, accuracy: 93.25 %\n",
      "07 step -> loss: 0.2144, accuracy: 93.77 %\n",
      "08 step -> loss: 0.1985, accuracy: 94.18 %\n",
      "09 step -> loss: 0.1842, accuracy: 94.61 %\n",
      "10 step -> loss: 0.1721, accuracy: 94.99 %\n",
      "11 step -> loss: 0.1599, accuracy: 95.29 %\n",
      "12 step -> loss: 0.1502, accuracy: 95.60 %\n",
      "13 step -> loss: 0.1408, accuracy: 95.87 %\n",
      "14 step -> loss: 0.1322, accuracy: 96.14 %\n",
      "15 step -> loss: 0.1246, accuracy: 96.30 %\n",
      "16 step -> loss: 0.1176, accuracy: 96.55 %\n",
      "17 step -> loss: 0.1118, accuracy: 96.76 %\n",
      "18 step -> loss: 0.1060, accuracy: 96.83 %\n",
      "19 step -> loss: 0.1006, accuracy: 97.06 %\n",
      "20 step -> loss: 0.0958, accuracy: 97.17 %\n"
     ]
    }
   ],
   "source": [
    "history = []\n",
    "for epoch in range(epochs):\n",
    "    epoch_losses = .0\n",
    "    epoch_accuracies = .0\n",
    "    \n",
    "    for datas, labels in load_train:\n",
    "        # predict & calculate a loss\n",
    "        inputs = datas.view(datas.shape[0], -1)\n",
    "        preds = model(inputs)\n",
    "        loss = fn_loss(preds, labels)\n",
    "        \n",
    "        # backpropagation\n",
    "        fn_optimizer.zero_grad()\n",
    "        loss.backward()\n",
    "        fn_optimizer.step()\n",
    "        \n",
    "        epoch_losses += loss.item()\n",
    "        _, pred_label = torch.max(preds, 1)\n",
    "        epoch_accuracies += torch.sum(pred_label == labels.data)\n",
    "        \n",
    "    epoch_loss = epoch_losses / size_batch\n",
    "    epoch_accuracy = epoch_accuracies / size_batch\n",
    "    history.append({\"loss\": epoch_loss, \"accuracy\": epoch_accuracy.item()})\n",
    "    \n",
    "    print(f\"{epoch+1:02d} step -> loss: {epoch_loss:.4f}, accuracy: {epoch_accuracy:.2f} %\")"
   ]
  },
  {
   "cell_type": "code",
   "execution_count": 14,
   "metadata": {},
   "outputs": [
    {
     "data": {
      "text/plain": [
       "array([[<AxesSubplot:>, <AxesSubplot:>]], dtype=object)"
      ]
     },
     "execution_count": 14,
     "metadata": {},
     "output_type": "execute_result"
    },
    {
     "data": {
      "image/png": "[encoded data removed]",
      "text/plain": [
       "<Figure size 1080x360 with 2 Axes>"
      ]
     },
     "metadata": {
      "needs_background": "light"
     },
     "output_type": "display_data"
    }
   ],
   "source": [
    "df_history = pd.DataFrame.from_records(history)\n",
    "df_history.plot(subplots=True, layout=(1, 2), figsize=(15, 5))"
   ]
  },
  {
   "cell_type": "code",
   "execution_count": null,
   "metadata": {},
   "outputs": [],
   "source": []
  }
 ],
 "metadata": {
  "kernelspec": {
   "display_name": "Python 3 (ipykernel)",
   "language": "python",
   "name": "python3"
  },
  "language_info": {
   "codemirror_mode": {
    "name": "ipython",
    "version": 3
   },
   "file_extension": ".py",
   "mimetype": "text/x-python",
   "name": "python",
   "nbconvert_exporter": "python",
   "pygments_lexer": "ipython3",
   "version": "3.9.9"
  },
  "toc-autonumbering": true
 },
 "nbformat": 4,
 "nbformat_minor": 4
}
