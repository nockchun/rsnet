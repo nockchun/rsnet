{
 "cells": [
  {
   "cell_type": "markdown",
   "metadata": {},
   "source": [
    "<div class=\"alert alert-block alert-success\">\n",
    "    <b><center>Pytorch LIBRARY</center></b>\n",
    "    <b><center>MNIST CNN</center></b>\n",
    "</div>"
   ]
  },
  {
   "cell_type": "markdown",
   "metadata": {},
   "source": [
    "# Configure Learning Environment"
   ]
  },
  {
   "cell_type": "code",
   "execution_count": 1,
   "metadata": {},
   "outputs": [],
   "source": [
    "import numpy as np\n",
    "import matplotlib.pyplot as plt\n",
    "import pandas as pd"
   ]
  },
  {
   "cell_type": "code",
   "execution_count": 2,
   "metadata": {},
   "outputs": [],
   "source": [
    "import torch\n",
    "from torch import nn\n",
    "from torchvision import datasets, transforms"
   ]
  },
  {
   "cell_type": "code",
   "execution_count": 3,
   "metadata": {},
   "outputs": [
    {
     "data": {
      "text/plain": [
       "device(type='cuda', index=0)"
      ]
     },
     "execution_count": 3,
     "metadata": {},
     "output_type": "execute_result"
    }
   ],
   "source": [
    "device = torch.device(\"cuda:0\" if torch.cuda.is_available() else \"cpu\")\n",
    "device"
   ]
  },
  {
   "cell_type": "markdown",
   "metadata": {},
   "source": [
    "# Prepare Data"
   ]
  },
  {
   "cell_type": "code",
   "execution_count": 4,
   "metadata": {},
   "outputs": [],
   "source": [
    "transform = transforms.Compose([\n",
    "    transforms.ToTensor(),\n",
    "    transforms.Normalize(0.5, 0.5)\n",
    "])\n",
    "res_train = datasets.MNIST(\"./datas\", train=True, transform=transform, download=True)\n",
    "res_valid = datasets.MNIST(\"./datas\", train=False, transform=transform, download=True)"
   ]
  },
  {
   "cell_type": "code",
   "execution_count": 5,
   "metadata": {},
   "outputs": [],
   "source": [
    "load_train = torch.utils.data.DataLoader(res_train, batch_size=100, shuffle=True)\n",
    "load_valid = torch.utils.data.DataLoader(res_valid, batch_size=100, shuffle=True)"
   ]
  },
  {
   "cell_type": "code",
   "execution_count": 6,
   "metadata": {},
   "outputs": [
    {
     "data": {
      "text/plain": [
       "(torch.Size([100, 1, 28, 28]), torch.Size([100]))"
      ]
     },
     "execution_count": 6,
     "metadata": {},
     "output_type": "execute_result"
    }
   ],
   "source": [
    "iter_train = iter(load_train)\n",
    "images, labels = iter_train.next()\n",
    "images.shape, labels.shape"
   ]
  },
  {
   "cell_type": "code",
   "execution_count": 7,
   "metadata": {},
   "outputs": [],
   "source": [
    "def im_convert(tensor):\n",
    "    image = tensor.clone().detach().numpy()\n",
    "    image = image.transpose(1, 2, 0)\n",
    "    image = image * np.array((0.5, 0.5, 0.5)) + np.array((0.5, 0.5, 0.5))\n",
    "    image = image.clip(0, 255)\n",
    "    return image"
   ]
  },
  {
   "cell_type": "code",
   "execution_count": 8,
   "metadata": {},
   "outputs": [
    {
     "data": {
      "image/png": "[encoded data removed]",
      "text/plain": [
       "<Figure size 1800x288 with 20 Axes>"
      ]
     },
     "metadata": {},
     "output_type": "display_data"
    }
   ],
   "source": [
    "fig = plt.figure(figsize=(25, 4))\n",
    "for idx in np.arange(20):\n",
    "    ax = fig.add_subplot(2, 10, idx+1, xticks=[], yticks=[])\n",
    "    plt.imshow(im_convert(images[idx]))\n",
    "    ax.set_title(labels[idx].item())"
   ]
  },
  {
   "cell_type": "markdown",
   "metadata": {},
   "source": [
    "# Generate Model"
   ]
  },
  {
   "cell_type": "code",
   "execution_count": 9,
   "metadata": {},
   "outputs": [],
   "source": [
    "class Classifier(nn.Module):\n",
    "    def __init__(self):\n",
    "        super().__init__()\n",
    "        self.conv1 = nn.Conv2d(1, 20, 5, 1)\n",
    "        self.act1 = nn.ReLU()\n",
    "        self.pool1 = nn.MaxPool2d(2, 2)\n",
    "        self.conv2 = nn.Conv2d(20, 50, 5, 1)\n",
    "        self.act2 = nn.ReLU()\n",
    "        self.pool2 = nn.MaxPool2d(2, 2)\n",
    "        self.fc1 = nn.Linear(4*4*50, 500)\n",
    "        self.act3 = nn.ReLU()\n",
    "        self.drop1 = nn.Dropout(0.5)\n",
    "        self.fc2 = nn.Linear(500, 10)\n",
    "    \n",
    "    def forward(self, x):\n",
    "        x = self.act1(self.conv1(x))\n",
    "        x = self.pool1(x)\n",
    "        x = self.act2(self.conv2(x))\n",
    "        x = self.pool2(x)\n",
    "        x = x.view(-1, 4*4*50)\n",
    "        x = self.act3(self.fc1(x))\n",
    "        x = self.drop1(x)\n",
    "        x = self.fc2(x)\n",
    "        return x"
   ]
  },
  {
   "cell_type": "code",
   "execution_count": 10,
   "metadata": {},
   "outputs": [
    {
     "data": {
      "text/plain": [
       "Classifier(\n",
       "  (conv1): Conv2d(1, 20, kernel_size=(5, 5), stride=(1, 1))\n",
       "  (act1): ReLU()\n",
       "  (pool1): MaxPool2d(kernel_size=2, stride=2, padding=0, dilation=1, ceil_mode=False)\n",
       "  (conv2): Conv2d(20, 50, kernel_size=(5, 5), stride=(1, 1))\n",
       "  (act2): ReLU()\n",
       "  (pool2): MaxPool2d(kernel_size=2, stride=2, padding=0, dilation=1, ceil_mode=False)\n",
       "  (fc1): Linear(in_features=800, out_features=500, bias=True)\n",
       "  (act3): ReLU()\n",
       "  (drop1): Dropout(p=0.5, inplace=False)\n",
       "  (fc2): Linear(in_features=500, out_features=10, bias=True)\n",
       ")"
      ]
     },
     "execution_count": 10,
     "metadata": {},
     "output_type": "execute_result"
    }
   ],
   "source": [
    "model = Classifier().to(device)\n",
    "model"
   ]
  },
  {
   "cell_type": "code",
   "execution_count": 11,
   "metadata": {},
   "outputs": [],
   "source": [
    "fn_loss = nn.CrossEntropyLoss()\n",
    "fn_optimizer = torch.optim.Adam(model.parameters(), lr=0.0001)"
   ]
  },
  {
   "cell_type": "markdown",
   "metadata": {},
   "source": [
    "# Training"
   ]
  },
  {
   "cell_type": "code",
   "execution_count": 12,
   "metadata": {},
   "outputs": [],
   "source": [
    "epochs = 20\n",
    "size_bunch_train = len(load_train)\n",
    "size_bunch_valid = len(load_valid)"
   ]
  },
  {
   "cell_type": "code",
   "execution_count": 13,
   "metadata": {},
   "outputs": [
    {
     "name": "stdout",
     "output_type": "stream",
     "text": [
      "01 step -> loss: 0.5544, accuracy: 85.09 %, validation loss: 0.1796, validation accuracy: 94.64 %\n",
      "02 step -> loss: 0.1477, accuracy: 95.61 %, validation loss: 0.1033, validation accuracy: 97.03 %\n",
      "03 step -> loss: 0.0984, accuracy: 97.00 %, validation loss: 0.0772, validation accuracy: 97.73 %\n",
      "04 step -> loss: 0.0768, accuracy: 97.72 %, validation loss: 0.0600, validation accuracy: 98.06 %\n",
      "05 step -> loss: 0.0637, accuracy: 98.08 %, validation loss: 0.0556, validation accuracy: 98.26 %\n",
      "06 step -> loss: 0.0551, accuracy: 98.30 %, validation loss: 0.0497, validation accuracy: 98.44 %\n",
      "07 step -> loss: 0.0482, accuracy: 98.54 %, validation loss: 0.0414, validation accuracy: 98.72 %\n",
      "08 step -> loss: 0.0437, accuracy: 98.70 %, validation loss: 0.0425, validation accuracy: 98.78 %\n",
      "09 step -> loss: 0.0393, accuracy: 98.82 %, validation loss: 0.0354, validation accuracy: 98.88 %\n",
      "10 step -> loss: 0.0362, accuracy: 98.86 %, validation loss: 0.0387, validation accuracy: 98.76 %\n",
      "11 step -> loss: 0.0329, accuracy: 99.00 %, validation loss: 0.0344, validation accuracy: 98.94 %\n",
      "12 step -> loss: 0.0304, accuracy: 99.11 %, validation loss: 0.0312, validation accuracy: 98.97 %\n",
      "13 step -> loss: 0.0284, accuracy: 99.14 %, validation loss: 0.0290, validation accuracy: 99.06 %\n",
      "14 step -> loss: 0.0255, accuracy: 99.20 %, validation loss: 0.0271, validation accuracy: 99.11 %\n",
      "15 step -> loss: 0.0243, accuracy: 99.21 %, validation loss: 0.0316, validation accuracy: 99.01 %\n",
      "16 step -> loss: 0.0224, accuracy: 99.30 %, validation loss: 0.0287, validation accuracy: 99.09 %\n",
      "17 step -> loss: 0.0209, accuracy: 99.35 %, validation loss: 0.0282, validation accuracy: 99.03 %\n",
      "18 step -> loss: 0.0198, accuracy: 99.38 %, validation loss: 0.0240, validation accuracy: 99.16 %\n",
      "19 step -> loss: 0.0184, accuracy: 99.42 %, validation loss: 0.0257, validation accuracy: 99.17 %\n",
      "20 step -> loss: 0.0173, accuracy: 99.46 %, validation loss: 0.0291, validation accuracy: 99.08 %\n"
     ]
    }
   ],
   "source": [
    "history = []\n",
    "for epoch in range(epochs):\n",
    "    loss_learns, accu_learns, loss_valids, accu_valids = .0, .0, .0, .0\n",
    "\n",
    "    # Learning Step\n",
    "    for datas, labels in load_train:\n",
    "        # set device\n",
    "        datas = datas.to(device)\n",
    "        labels = labels.to(device)\n",
    "        \n",
    "        # predict & calculate a loss\n",
    "        preds = model(datas)\n",
    "        loss = fn_loss(preds, labels)\n",
    "        \n",
    "        # backpropagation\n",
    "        fn_optimizer.zero_grad()\n",
    "        loss.backward()\n",
    "        fn_optimizer.step()\n",
    "        \n",
    "        # Caculating loss/accuracy for monitoring\n",
    "        loss_learns += loss.item()\n",
    "        _, pred_label = torch.max(preds, 1)\n",
    "        accu_learns += torch.sum(pred_label == labels.data).item() / len(pred_label) * 100\n",
    "    \n",
    "    # Validating Step\n",
    "    for datas, labels in load_valid:\n",
    "        # set device\n",
    "        datas = datas.to(device)\n",
    "        labels = labels.to(device)\n",
    "        \n",
    "        # predict & calculate a loss\n",
    "        preds = model(datas)\n",
    "        loss = fn_loss(preds, labels)\n",
    "        \n",
    "        # Caculating loss/accuracy for monitoring\n",
    "        loss_valids += loss.item()\n",
    "        _, pred_label = torch.max(preds, 1)\n",
    "        accu_valids += torch.sum(pred_label == labels.data).item() / len(pred_label) * 100\n",
    "    \n",
    "    loss_learn = loss_learns / size_bunch_train\n",
    "    accu_learn = accu_learns / size_bunch_train\n",
    "    loss_valid = loss_valids / size_bunch_valid\n",
    "    accu_valid = accu_valids / size_bunch_valid\n",
    "    history.append({\"loss\": loss_learn, \"accuracy\": accu_learn, \"validation loss\": loss_valid, \"validation accuracy\": accu_valid})\n",
    "    \n",
    "    print(f\"{epoch+1:02d} step -> loss: {loss_learn:.4f}, accuracy: {accu_learn:.2f} %, validation loss: {loss_valid:.4f}, validation accuracy: {accu_valid:.2f} %\")"
   ]
  },
  {
   "cell_type": "code",
   "execution_count": 14,
   "metadata": {},
   "outputs": [],
   "source": [
    "df_history = pd.DataFrame.from_records(history)"
   ]
  },
  {
   "cell_type": "code",
   "execution_count": 15,
   "metadata": {},
   "outputs": [
    {
     "data": {
      "text/plain": [
       "<AxesSubplot:>"
      ]
     },
     "execution_count": 15,
     "metadata": {},
     "output_type": "execute_result"
    },
    {
     "data": {
      "image/png": "[encoded data removed]",
      "text/plain": [
       "<Figure size 432x288 with 1 Axes>"
      ]
     },
     "metadata": {
      "needs_background": "light"
     },
     "output_type": "display_data"
    }
   ],
   "source": [
    "df_history[[\"loss\", \"validation loss\"]].plot()"
   ]
  },
  {
   "cell_type": "code",
   "execution_count": 16,
   "metadata": {},
   "outputs": [
    {
     "data": {
      "text/plain": [
       "<AxesSubplot:>"
      ]
     },
     "execution_count": 16,
     "metadata": {},
     "output_type": "execute_result"
    },
    {
     "data": {
      "image/png": "[encoded data removed]",
      "text/plain": [
       "<Figure size 432x288 with 1 Axes>"
      ]
     },
     "metadata": {
      "needs_background": "light"
     },
     "output_type": "display_data"
    }
   ],
   "source": [
    "df_history[[\"accuracy\", \"validation accuracy\"]].plot()"
   ]
  },
  {
   "cell_type": "code",
   "execution_count": null,
   "metadata": {},
   "outputs": [],
   "source": []
  }
 ],
 "metadata": {
  "kernelspec": {
   "display_name": "Python 3 (ipykernel)",
   "language": "python",
   "name": "python3"
  },
  "language_info": {
   "codemirror_mode": {
    "name": "ipython",
    "version": 3
   },
   "file_extension": ".py",
   "mimetype": "text/x-python",
   "name": "python",
   "nbconvert_exporter": "python",
   "pygments_lexer": "ipython3",
   "version": "3.9.9"
  },
  "toc-autonumbering": true
 },
 "nbformat": 4,
 "nbformat_minor": 4
}
