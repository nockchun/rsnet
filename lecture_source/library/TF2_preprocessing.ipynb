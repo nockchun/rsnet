{
 "cells": [
  {
   "cell_type": "markdown",
   "metadata": {},
   "source": [
    "<div class=\"alert alert-block alert-success\">\n",
    "    <b><center>TENSORFLOW 2 LIBRARY</center></b>\n",
    "    <b><center>Preprocessing Library</center></b>\n",
    "</div>"
   ]
  },
  {
   "cell_type": "markdown",
   "metadata": {},
   "source": [
    "# Configure Learning Environment"
   ]
  },
  {
   "cell_type": "code",
   "execution_count": 1,
   "metadata": {},
   "outputs": [],
   "source": [
    "# !pip install mybatis_mapper2sql\n",
    "# !pip install git+https://github.com/nockchun/rspy --force"
   ]
  },
  {
   "cell_type": "code",
   "execution_count": 2,
   "metadata": {},
   "outputs": [],
   "source": [
    "import os\n",
    "os.environ['TF_CPP_MIN_LOG_LEVEL'] = \"2\""
   ]
  },
  {
   "cell_type": "code",
   "execution_count": 3,
   "metadata": {},
   "outputs": [],
   "source": [
    "import rspy as rsp\n",
    "rsp.setSystemWarning(off=True)"
   ]
  },
  {
   "cell_type": "code",
   "execution_count": 4,
   "metadata": {},
   "outputs": [],
   "source": [
    "import numpy as np\n",
    "import seaborn as sns\n",
    "import matplotlib.pyplot as plt"
   ]
  },
  {
   "cell_type": "code",
   "execution_count": 5,
   "metadata": {},
   "outputs": [],
   "source": [
    "import tensorflow as tf\n",
    "from tensorflow.keras import preprocessing"
   ]
  },
  {
   "cell_type": "markdown",
   "metadata": {},
   "source": [
    "# TimeseriesGenerator"
   ]
  },
  {
   "cell_type": "code",
   "execution_count": 6,
   "metadata": {},
   "outputs": [],
   "source": [
    "data = np.array([[i, i+1] for i in range(50)])\n",
    "label = np.array([[i*3] for i in range(50)])"
   ]
  },
  {
   "cell_type": "code",
   "execution_count": 7,
   "metadata": {
    "scrolled": true,
    "tags": []
   },
   "outputs": [
    {
     "name": "stdout",
     "output_type": "stream",
     "text": [
      "0 [0 1] --> [0]\n",
      "1 [1 2] --> [3]\n",
      "2 [2 3] --> [6]\n",
      "3 [3 4] --> [9]\n",
      "4 [4 5] --> [12]\n",
      "5 [5 6] --> [15]\n",
      "6 [6 7] --> [18]\n",
      "7 [7 8] --> [21]\n",
      "8 [8 9] --> [24]\n",
      "9 [ 9 10] --> [27]\n",
      "10 [10 11] --> [30]\n",
      "11 [11 12] --> [33]\n",
      "12 [12 13] --> [36]\n",
      "13 [13 14] --> [39]\n",
      "14 [14 15] --> [42]\n",
      "15 [15 16] --> [45]\n",
      "16 [16 17] --> [48]\n",
      "17 [17 18] --> [51]\n",
      "18 [18 19] --> [54]\n",
      "19 [19 20] --> [57]\n",
      "20 [20 21] --> [60]\n",
      "21 [21 22] --> [63]\n",
      "22 [22 23] --> [66]\n",
      "23 [23 24] --> [69]\n",
      "24 [24 25] --> [72]\n",
      "25 [25 26] --> [75]\n",
      "26 [26 27] --> [78]\n",
      "27 [27 28] --> [81]\n",
      "28 [28 29] --> [84]\n",
      "29 [29 30] --> [87]\n",
      "30 [30 31] --> [90]\n",
      "31 [31 32] --> [93]\n",
      "32 [32 33] --> [96]\n",
      "33 [33 34] --> [99]\n",
      "34 [34 35] --> [102]\n",
      "35 [35 36] --> [105]\n",
      "36 [36 37] --> [108]\n",
      "37 [37 38] --> [111]\n",
      "38 [38 39] --> [114]\n",
      "39 [39 40] --> [117]\n",
      "40 [40 41] --> [120]\n",
      "41 [41 42] --> [123]\n",
      "42 [42 43] --> [126]\n",
      "43 [43 44] --> [129]\n",
      "44 [44 45] --> [132]\n",
      "45 [45 46] --> [135]\n",
      "46 [46 47] --> [138]\n",
      "47 [47 48] --> [141]\n",
      "48 [48 49] --> [144]\n",
      "49 [49 50] --> [147]\n"
     ]
    }
   ],
   "source": [
    "for item, (x, y) in enumerate(zip(data, label)):\n",
    "    print(item, x, \"-->\", y)"
   ]
  },
  {
   "cell_type": "code",
   "execution_count": 8,
   "metadata": {},
   "outputs": [],
   "source": [
    "data_gen = preprocessing.sequence.TimeseriesGenerator(\n",
    "    data, label, length=5, sampling_rate=2, batch_size=1\n",
    ")"
   ]
  },
  {
   "cell_type": "code",
   "execution_count": 9,
   "metadata": {},
   "outputs": [
    {
     "data": {
      "text/plain": [
       "45"
      ]
     },
     "execution_count": 9,
     "metadata": {},
     "output_type": "execute_result"
    }
   ],
   "source": [
    "len(data_gen)"
   ]
  },
  {
   "cell_type": "code",
   "execution_count": 10,
   "metadata": {},
   "outputs": [
    {
     "data": {
      "text/plain": [
       "(array([[[0, 1],\n",
       "         [2, 3],\n",
       "         [4, 5]]]),\n",
       " array([[15]]))"
      ]
     },
     "execution_count": 10,
     "metadata": {},
     "output_type": "execute_result"
    }
   ],
   "source": [
    "data_gen[0]"
   ]
  },
  {
   "cell_type": "code",
   "execution_count": null,
   "metadata": {},
   "outputs": [],
   "source": []
  }
 ],
 "metadata": {
  "kernelspec": {
   "display_name": "Python 3 (ipykernel)",
   "language": "python",
   "name": "python3"
  },
  "language_info": {
   "codemirror_mode": {
    "name": "ipython",
    "version": 3
   },
   "file_extension": ".py",
   "mimetype": "text/x-python",
   "name": "python",
   "nbconvert_exporter": "python",
   "pygments_lexer": "ipython3",
   "version": "3.9.6"
  }
 },
 "nbformat": 4,
 "nbformat_minor": 4
}
