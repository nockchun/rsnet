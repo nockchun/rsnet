{
 "cells": [
  {
   "cell_type": "code",
   "execution_count": 1,
   "metadata": {},
   "outputs": [],
   "source": [
    "#!pip install git+https://github.com/nockchun/rspy --force\n",
    "import rspy as rsp\n",
    "rsp.setSystemWarning(off=True)"
   ]
  },
  {
   "cell_type": "code",
   "execution_count": 2,
   "metadata": {},
   "outputs": [],
   "source": [
    "import pandas as pd"
   ]
  },
  {
   "cell_type": "markdown",
   "metadata": {},
   "source": [
    "# 재무제표 가져오기"
   ]
  },
  {
   "cell_type": "code",
   "execution_count": 3,
   "metadata": {},
   "outputs": [],
   "source": [
    "DATA_YEAR = \"2015\"\n",
    "DATA_QUARTER = \"4Q\"\n",
    "EXCEL_SHEET = 1"
   ]
  },
  {
   "cell_type": "code",
   "execution_count": 4,
   "metadata": {},
   "outputs": [],
   "source": [
    "df_origin = pd.read_excel(f\"{DATA_YEAR}_{DATA_QUARTER}_재무제표.xlsx\", sheet_name=EXCEL_SHEET)"
   ]
  },
  {
   "cell_type": "code",
   "execution_count": null,
   "metadata": {},
   "outputs": [],
   "source": [
    "df_origin.head()"
   ]
  },
  {
   "cell_type": "markdown",
   "metadata": {},
   "source": [
    "# 데이터 전처리"
   ]
  },
  {
   "cell_type": "code",
   "execution_count": 6,
   "metadata": {},
   "outputs": [],
   "source": [
    "df = df_origin.fillna(0)\n",
    "df[\"보고년도\"] = DATA_YEAR\n",
    "df[\"연결유무\"] = False"
   ]
  },
  {
   "cell_type": "code",
   "execution_count": 7,
   "metadata": {},
   "outputs": [],
   "source": [
    "df = df.rename(columns={\n",
    "    \"당기 1분기말\" : \"당기\",\n",
    "    \"당기 2분기말\" : \"당기\",\n",
    "    \"당기 반기말\" : \"당기\",\n",
    "    \"당기 3분기말\" : \"당기\",\n",
    "    \"보고서종류\" : \"보고분기\",\n",
    "    \"전기말\" : \"전기\",\n",
    "    \"전전기말\" : \"전전기\"\n",
    "})"
   ]
  },
  {
   "cell_type": "code",
   "execution_count": null,
   "metadata": {},
   "outputs": [],
   "source": [
    "df.head(5)"
   ]
  },
  {
   "cell_type": "code",
   "execution_count": 9,
   "metadata": {},
   "outputs": [],
   "source": [
    "def fixData(row):\n",
    "    row.연결유무 = row.재무제표종류.split(\"-\")[-1] == \"연결재무제표\"\n",
    "    row.종목코드 = row.종목코드[1:-1]\n",
    "    row.보고분기 = DATA_QUARTER\n",
    "    row.항목명 = row.항목명.strip()\n",
    "    return row;"
   ]
  },
  {
   "cell_type": "code",
   "execution_count": 10,
   "metadata": {},
   "outputs": [],
   "source": [
    "df = df.apply(fixData, axis=1)"
   ]
  },
  {
   "cell_type": "code",
   "execution_count": 11,
   "metadata": {},
   "outputs": [],
   "source": [
    "df = df[[\n",
    "    \"종목코드\", \"연결유무\", \"보고년도\", \"보고분기\", \"항목명\", \"당기\"\n",
    "]]\n",
    "df = df.astype({\n",
    "    \"종목코드\":\"str\", \"연결유무\":\"boolean\", \"보고년도\":\"str\", \"보고분기\":\"str\", \"항목명\":\"str\", \"당기\":\"int64\"\n",
    "})"
   ]
  },
  {
   "cell_type": "code",
   "execution_count": 12,
   "metadata": {},
   "outputs": [
    {
     "data": {
      "text/html": [
       "<div>\n",
       "<style scoped>\n",
       "    .dataframe tbody tr th:only-of-type {\n",
       "        vertical-align: middle;\n",
       "    }\n",
       "\n",
       "    .dataframe tbody tr th {\n",
       "        vertical-align: top;\n",
       "    }\n",
       "\n",
       "    .dataframe thead th {\n",
       "        text-align: right;\n",
       "    }\n",
       "</style>\n",
       "<table border=\"1\" class=\"dataframe\">\n",
       "  <thead>\n",
       "    <tr style=\"text-align: right;\">\n",
       "      <th></th>\n",
       "      <th>종목코드</th>\n",
       "      <th>연결유무</th>\n",
       "      <th>보고년도</th>\n",
       "      <th>보고분기</th>\n",
       "      <th>항목명</th>\n",
       "      <th>당기</th>\n",
       "    </tr>\n",
       "  </thead>\n",
       "  <tbody>\n",
       "    <tr>\n",
       "      <th>0</th>\n",
       "      <td>000040</td>\n",
       "      <td>True</td>\n",
       "      <td>2015</td>\n",
       "      <td>4Q</td>\n",
       "      <td>자산 [abstract]</td>\n",
       "      <td>0</td>\n",
       "    </tr>\n",
       "    <tr>\n",
       "      <th>1</th>\n",
       "      <td>000040</td>\n",
       "      <td>True</td>\n",
       "      <td>2015</td>\n",
       "      <td>4Q</td>\n",
       "      <td>유동자산</td>\n",
       "      <td>81382258480</td>\n",
       "    </tr>\n",
       "    <tr>\n",
       "      <th>2</th>\n",
       "      <td>000040</td>\n",
       "      <td>True</td>\n",
       "      <td>2015</td>\n",
       "      <td>4Q</td>\n",
       "      <td>현금및현금성자산</td>\n",
       "      <td>11774961508</td>\n",
       "    </tr>\n",
       "    <tr>\n",
       "      <th>3</th>\n",
       "      <td>000040</td>\n",
       "      <td>True</td>\n",
       "      <td>2015</td>\n",
       "      <td>4Q</td>\n",
       "      <td>단기금융상품</td>\n",
       "      <td>0</td>\n",
       "    </tr>\n",
       "    <tr>\n",
       "      <th>4</th>\n",
       "      <td>000040</td>\n",
       "      <td>True</td>\n",
       "      <td>2015</td>\n",
       "      <td>4Q</td>\n",
       "      <td>매출채권및기타채권</td>\n",
       "      <td>37920290110</td>\n",
       "    </tr>\n",
       "  </tbody>\n",
       "</table>\n",
       "</div>"
      ],
      "text/plain": [
       "     종목코드  연결유무  보고년도 보고분기            항목명           당기\n",
       "0  000040  True  2015   4Q  자산 [abstract]            0\n",
       "1  000040  True  2015   4Q           유동자산  81382258480\n",
       "2  000040  True  2015   4Q       현금및현금성자산  11774961508\n",
       "3  000040  True  2015   4Q         단기금융상품            0\n",
       "4  000040  True  2015   4Q      매출채권및기타채권  37920290110"
      ]
     },
     "execution_count": 12,
     "metadata": {},
     "output_type": "execute_result"
    }
   ],
   "source": [
    "df.head()"
   ]
  },
  {
   "cell_type": "markdown",
   "metadata": {},
   "source": [
    "# DB에 저장."
   ]
  },
  {
   "cell_type": "code",
   "execution_count": 13,
   "metadata": {},
   "outputs": [],
   "source": [
    "rows = []\n",
    "for index, row in df.iterrows():\n",
    "    if row.당기 == 0:\n",
    "        continue\n",
    "    rows.append(tuple(row))"
   ]
  },
  {
   "cell_type": "code",
   "execution_count": 14,
   "metadata": {},
   "outputs": [
    {
     "data": {
      "text/plain": [
       "[('000040', True, '2015', '4Q', '유동자산', 81382258480),\n",
       " ('000040', True, '2015', '4Q', '현금및현금성자산', 11774961508),\n",
       " ('000040', True, '2015', '4Q', '매출채권및기타채권', 37920290110),\n",
       " ('000040', True, '2015', '4Q', '재고자산', 31002757518),\n",
       " ('000040', True, '2015', '4Q', '기타유동자산', 684249344)]"
      ]
     },
     "execution_count": 14,
     "metadata": {},
     "output_type": "execute_result"
    }
   ],
   "source": [
    "rows[:5]"
   ]
  },
  {
   "cell_type": "code",
   "execution_count": 15,
   "metadata": {},
   "outputs": [],
   "source": [
    "db = rsp.PGManager()"
   ]
  },
  {
   "cell_type": "code",
   "execution_count": 16,
   "metadata": {},
   "outputs": [],
   "source": [
    "db.createPool(\"postgres\", \"postgres\", \"postgres\", \"192.168.0.200\")\n",
    "db.setMapper(\"mapper.xml\")"
   ]
  },
  {
   "cell_type": "code",
   "execution_count": 17,
   "metadata": {},
   "outputs": [],
   "source": [
    "db.executeMany(\"inStateBalance\", rows)"
   ]
  },
  {
   "cell_type": "code",
   "execution_count": null,
   "metadata": {},
   "outputs": [],
   "source": []
  }
 ],
 "metadata": {
  "kernelspec": {
   "display_name": "Python 3 (ipykernel)",
   "language": "python",
   "name": "python3"
  },
  "language_info": {
   "codemirror_mode": {
    "name": "ipython",
    "version": 3
   },
   "file_extension": ".py",
   "mimetype": "text/x-python",
   "name": "python",
   "nbconvert_exporter": "python",
   "pygments_lexer": "ipython3",
   "version": "3.9.5"
  }
 },
 "nbformat": 4,
 "nbformat_minor": 4
}
