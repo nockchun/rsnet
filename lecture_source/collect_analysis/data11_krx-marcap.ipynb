{
 "cells": [
  {
   "cell_type": "code",
   "execution_count": 1,
   "metadata": {},
   "outputs": [],
   "source": [
    "#!pip install git+https://github.com/nockchun/rspy --force\n",
    "import rspy as rsp\n",
    "rsp.setSystemWarning(off=True)"
   ]
  },
  {
   "cell_type": "code",
   "execution_count": 2,
   "metadata": {},
   "outputs": [],
   "source": [
    "import os\n",
    "from glob import glob\n",
    "import pandas as pd"
   ]
  },
  {
   "cell_type": "markdown",
   "metadata": {},
   "source": [
    "# 시가총액(marcap) 가져오기"
   ]
  },
  {
   "cell_type": "code",
   "execution_count": 3,
   "metadata": {},
   "outputs": [],
   "source": [
    "DATA_YEAR = \"2010\""
   ]
  },
  {
   "cell_type": "code",
   "execution_count": 4,
   "metadata": {},
   "outputs": [],
   "source": [
    "df = pd.read_csv(f'/home/jovyan/marcap/data/marcap-{DATA_YEAR}.csv.gz', dtype={'Code':str}, parse_dates=['Date'])"
   ]
  },
  {
   "cell_type": "code",
   "execution_count": 5,
   "metadata": {},
   "outputs": [
    {
     "data": {
      "text/html": [
       "<div>\n",
       "<style scoped>\n",
       "    .dataframe tbody tr th:only-of-type {\n",
       "        vertical-align: middle;\n",
       "    }\n",
       "\n",
       "    .dataframe tbody tr th {\n",
       "        vertical-align: top;\n",
       "    }\n",
       "\n",
       "    .dataframe thead th {\n",
       "        text-align: right;\n",
       "    }\n",
       "</style>\n",
       "<table border=\"1\" class=\"dataframe\">\n",
       "  <thead>\n",
       "    <tr style=\"text-align: right;\">\n",
       "      <th></th>\n",
       "      <th>Code</th>\n",
       "      <th>Name</th>\n",
       "      <th>Close</th>\n",
       "      <th>Changes</th>\n",
       "      <th>ChagesRatio</th>\n",
       "      <th>Volume</th>\n",
       "      <th>Amount</th>\n",
       "      <th>Open</th>\n",
       "      <th>High</th>\n",
       "      <th>Low</th>\n",
       "      <th>Marcap</th>\n",
       "      <th>MarcapRatio</th>\n",
       "      <th>Stocks</th>\n",
       "      <th>ForeignShares</th>\n",
       "      <th>ForeignRatio</th>\n",
       "      <th>Rank</th>\n",
       "      <th>Date</th>\n",
       "    </tr>\n",
       "  </thead>\n",
       "  <tbody>\n",
       "    <tr>\n",
       "      <th>0</th>\n",
       "      <td>005930</td>\n",
       "      <td>삼성전자</td>\n",
       "      <td>958000</td>\n",
       "      <td>9000</td>\n",
       "      <td>1.0</td>\n",
       "      <td>265562</td>\n",
       "      <td>254246714088</td>\n",
       "      <td>955000</td>\n",
       "      <td>966000</td>\n",
       "      <td>950000</td>\n",
       "      <td>141112764846000</td>\n",
       "      <td>11.27</td>\n",
       "      <td>147299337</td>\n",
       "      <td>74518914.0</td>\n",
       "      <td>50.59</td>\n",
       "      <td>1</td>\n",
       "      <td>2011-01-03</td>\n",
       "    </tr>\n",
       "    <tr>\n",
       "      <th>1</th>\n",
       "      <td>005490</td>\n",
       "      <td>POSCO</td>\n",
       "      <td>486000</td>\n",
       "      <td>-1000</td>\n",
       "      <td>-0.2</td>\n",
       "      <td>170542</td>\n",
       "      <td>82998761000</td>\n",
       "      <td>487000</td>\n",
       "      <td>489500</td>\n",
       "      <td>482000</td>\n",
       "      <td>42372801810000</td>\n",
       "      <td>3.38</td>\n",
       "      <td>87186835</td>\n",
       "      <td>43377735.0</td>\n",
       "      <td>49.75</td>\n",
       "      <td>2</td>\n",
       "      <td>2011-01-03</td>\n",
       "    </tr>\n",
       "    <tr>\n",
       "      <th>2</th>\n",
       "      <td>005380</td>\n",
       "      <td>현대차</td>\n",
       "      <td>177000</td>\n",
       "      <td>3500</td>\n",
       "      <td>2.0</td>\n",
       "      <td>556135</td>\n",
       "      <td>97468816500</td>\n",
       "      <td>174000</td>\n",
       "      <td>177000</td>\n",
       "      <td>173500</td>\n",
       "      <td>38988936783000</td>\n",
       "      <td>3.11</td>\n",
       "      <td>220276479</td>\n",
       "      <td>94245489.0</td>\n",
       "      <td>42.79</td>\n",
       "      <td>3</td>\n",
       "      <td>2011-01-03</td>\n",
       "    </tr>\n",
       "    <tr>\n",
       "      <th>3</th>\n",
       "      <td>009540</td>\n",
       "      <td>현대중공업</td>\n",
       "      <td>435000</td>\n",
       "      <td>-8000</td>\n",
       "      <td>-1.8</td>\n",
       "      <td>256635</td>\n",
       "      <td>111611214500</td>\n",
       "      <td>443000</td>\n",
       "      <td>443500</td>\n",
       "      <td>431000</td>\n",
       "      <td>33060000000000</td>\n",
       "      <td>2.64</td>\n",
       "      <td>76000000</td>\n",
       "      <td>15350207.0</td>\n",
       "      <td>20.20</td>\n",
       "      <td>4</td>\n",
       "      <td>2011-01-03</td>\n",
       "    </tr>\n",
       "    <tr>\n",
       "      <th>4</th>\n",
       "      <td>012330</td>\n",
       "      <td>현대모비스</td>\n",
       "      <td>294500</td>\n",
       "      <td>10000</td>\n",
       "      <td>3.5</td>\n",
       "      <td>212902</td>\n",
       "      <td>61730122000</td>\n",
       "      <td>287500</td>\n",
       "      <td>294500</td>\n",
       "      <td>285000</td>\n",
       "      <td>28667767653500</td>\n",
       "      <td>2.29</td>\n",
       "      <td>97343863</td>\n",
       "      <td>46134411.0</td>\n",
       "      <td>47.39</td>\n",
       "      <td>5</td>\n",
       "      <td>2011-01-03</td>\n",
       "    </tr>\n",
       "  </tbody>\n",
       "</table>\n",
       "</div>"
      ],
      "text/plain": [
       "     Code   Name   Close  Changes  ChagesRatio  Volume        Amount    Open  \\\n",
       "0  005930   삼성전자  958000     9000          1.0  265562  254246714088  955000   \n",
       "1  005490  POSCO  486000    -1000         -0.2  170542   82998761000  487000   \n",
       "2  005380    현대차  177000     3500          2.0  556135   97468816500  174000   \n",
       "3  009540  현대중공업  435000    -8000         -1.8  256635  111611214500  443000   \n",
       "4  012330  현대모비스  294500    10000          3.5  212902   61730122000  287500   \n",
       "\n",
       "     High     Low           Marcap  MarcapRatio     Stocks  ForeignShares  \\\n",
       "0  966000  950000  141112764846000        11.27  147299337     74518914.0   \n",
       "1  489500  482000   42372801810000         3.38   87186835     43377735.0   \n",
       "2  177000  173500   38988936783000         3.11  220276479     94245489.0   \n",
       "3  443500  431000   33060000000000         2.64   76000000     15350207.0   \n",
       "4  294500  285000   28667767653500         2.29   97343863     46134411.0   \n",
       "\n",
       "   ForeignRatio  Rank       Date  \n",
       "0         50.59     1 2011-01-03  \n",
       "1         49.75     2 2011-01-03  \n",
       "2         42.79     3 2011-01-03  \n",
       "3         20.20     4 2011-01-03  \n",
       "4         47.39     5 2011-01-03  "
      ]
     },
     "execution_count": 5,
     "metadata": {},
     "output_type": "execute_result"
    }
   ],
   "source": [
    "df.head()"
   ]
  },
  {
   "cell_type": "code",
   "execution_count": 18,
   "metadata": {},
   "outputs": [
    {
     "data": {
      "text/plain": [
       "Index(['Code', 'Date', 'Open', 'High', 'Low', 'Close', 'Volume', 'Amount',\n",
       "       'Changes', 'ChagesRatio', 'Stocks', 'Marcap', 'MarcapRatio',\n",
       "       'ForeignShares', 'ForeignRatio', 'Rank'],\n",
       "      dtype='object')"
      ]
     },
     "execution_count": 18,
     "metadata": {},
     "output_type": "execute_result"
    }
   ],
   "source": [
    "df.columns"
   ]
  },
  {
   "cell_type": "code",
   "execution_count": 17,
   "metadata": {},
   "outputs": [
    {
     "data": {
      "text/plain": [
       "False"
      ]
     },
     "execution_count": 17,
     "metadata": {},
     "output_type": "execute_result"
    }
   ],
   "source": [
    "\"Name\" in df.columns"
   ]
  },
  {
   "cell_type": "markdown",
   "metadata": {},
   "source": [
    "# 데이터 전처리"
   ]
  },
  {
   "cell_type": "code",
   "execution_count": 6,
   "metadata": {},
   "outputs": [],
   "source": [
    "df.fillna(0, inplace=True)\n",
    "df = df[[\n",
    "    \"Code\", \"Date\", \"Open\", \"High\", \"Low\", \"Close\", \"Volume\", \"Amount\", \"Changes\", \"ChagesRatio\", \"Stocks\", \"Marcap\", \"MarcapRatio\", \"ForeignShares\", \"ForeignRatio\", \"Rank\"\n",
    "]]\n",
    "df = df.astype({\n",
    "    \"Date\":\"str\", \"ForeignShares\":\"int64\"\n",
    "})"
   ]
  },
  {
   "cell_type": "markdown",
   "metadata": {},
   "source": [
    "* Code : 종목코드\n",
    "* Date : 날짜 (DatetimeIndex)\n",
    "* Open : 시가\n",
    "* High : 고가\n",
    "* Low : 저가\n",
    "* Close : 종가\n",
    "* Volume : 거래량\n",
    "* Amount : 거래대금\n",
    "* Changes : 전일대비\n",
    "* ChagesRatio : 전일비\n",
    "* Marcap : 시가총액(백만원)\n",
    "* Stocks : 상장주식수\n",
    "* MarcapRatio : 시가총액비중(%)\n",
    "* ForeignShares : 외국인 보유주식수\n",
    "* ForeignRatio : 외국인 지분율(%)\n",
    "* Rank: 시가총액 순위 (당일)"
   ]
  },
  {
   "cell_type": "code",
   "execution_count": 7,
   "metadata": {},
   "outputs": [
    {
     "data": {
      "text/html": [
       "<div>\n",
       "<style scoped>\n",
       "    .dataframe tbody tr th:only-of-type {\n",
       "        vertical-align: middle;\n",
       "    }\n",
       "\n",
       "    .dataframe tbody tr th {\n",
       "        vertical-align: top;\n",
       "    }\n",
       "\n",
       "    .dataframe thead th {\n",
       "        text-align: right;\n",
       "    }\n",
       "</style>\n",
       "<table border=\"1\" class=\"dataframe\">\n",
       "  <thead>\n",
       "    <tr style=\"text-align: right;\">\n",
       "      <th></th>\n",
       "      <th>Code</th>\n",
       "      <th>Date</th>\n",
       "      <th>Open</th>\n",
       "      <th>High</th>\n",
       "      <th>Low</th>\n",
       "      <th>Close</th>\n",
       "      <th>Volume</th>\n",
       "      <th>Amount</th>\n",
       "      <th>Changes</th>\n",
       "      <th>ChagesRatio</th>\n",
       "      <th>Stocks</th>\n",
       "      <th>Marcap</th>\n",
       "      <th>MarcapRatio</th>\n",
       "      <th>ForeignShares</th>\n",
       "      <th>ForeignRatio</th>\n",
       "      <th>Rank</th>\n",
       "    </tr>\n",
       "  </thead>\n",
       "  <tbody>\n",
       "    <tr>\n",
       "      <th>0</th>\n",
       "      <td>005930</td>\n",
       "      <td>2011-01-03</td>\n",
       "      <td>955000</td>\n",
       "      <td>966000</td>\n",
       "      <td>950000</td>\n",
       "      <td>958000</td>\n",
       "      <td>265562</td>\n",
       "      <td>254246714088</td>\n",
       "      <td>9000</td>\n",
       "      <td>1.0</td>\n",
       "      <td>147299337</td>\n",
       "      <td>141112764846000</td>\n",
       "      <td>11.27</td>\n",
       "      <td>74518914</td>\n",
       "      <td>50.59</td>\n",
       "      <td>1</td>\n",
       "    </tr>\n",
       "    <tr>\n",
       "      <th>1</th>\n",
       "      <td>005490</td>\n",
       "      <td>2011-01-03</td>\n",
       "      <td>487000</td>\n",
       "      <td>489500</td>\n",
       "      <td>482000</td>\n",
       "      <td>486000</td>\n",
       "      <td>170542</td>\n",
       "      <td>82998761000</td>\n",
       "      <td>-1000</td>\n",
       "      <td>-0.2</td>\n",
       "      <td>87186835</td>\n",
       "      <td>42372801810000</td>\n",
       "      <td>3.38</td>\n",
       "      <td>43377735</td>\n",
       "      <td>49.75</td>\n",
       "      <td>2</td>\n",
       "    </tr>\n",
       "    <tr>\n",
       "      <th>2</th>\n",
       "      <td>005380</td>\n",
       "      <td>2011-01-03</td>\n",
       "      <td>174000</td>\n",
       "      <td>177000</td>\n",
       "      <td>173500</td>\n",
       "      <td>177000</td>\n",
       "      <td>556135</td>\n",
       "      <td>97468816500</td>\n",
       "      <td>3500</td>\n",
       "      <td>2.0</td>\n",
       "      <td>220276479</td>\n",
       "      <td>38988936783000</td>\n",
       "      <td>3.11</td>\n",
       "      <td>94245489</td>\n",
       "      <td>42.79</td>\n",
       "      <td>3</td>\n",
       "    </tr>\n",
       "    <tr>\n",
       "      <th>3</th>\n",
       "      <td>009540</td>\n",
       "      <td>2011-01-03</td>\n",
       "      <td>443000</td>\n",
       "      <td>443500</td>\n",
       "      <td>431000</td>\n",
       "      <td>435000</td>\n",
       "      <td>256635</td>\n",
       "      <td>111611214500</td>\n",
       "      <td>-8000</td>\n",
       "      <td>-1.8</td>\n",
       "      <td>76000000</td>\n",
       "      <td>33060000000000</td>\n",
       "      <td>2.64</td>\n",
       "      <td>15350207</td>\n",
       "      <td>20.20</td>\n",
       "      <td>4</td>\n",
       "    </tr>\n",
       "    <tr>\n",
       "      <th>4</th>\n",
       "      <td>012330</td>\n",
       "      <td>2011-01-03</td>\n",
       "      <td>287500</td>\n",
       "      <td>294500</td>\n",
       "      <td>285000</td>\n",
       "      <td>294500</td>\n",
       "      <td>212902</td>\n",
       "      <td>61730122000</td>\n",
       "      <td>10000</td>\n",
       "      <td>3.5</td>\n",
       "      <td>97343863</td>\n",
       "      <td>28667767653500</td>\n",
       "      <td>2.29</td>\n",
       "      <td>46134411</td>\n",
       "      <td>47.39</td>\n",
       "      <td>5</td>\n",
       "    </tr>\n",
       "  </tbody>\n",
       "</table>\n",
       "</div>"
      ],
      "text/plain": [
       "     Code        Date    Open    High     Low   Close  Volume        Amount  \\\n",
       "0  005930  2011-01-03  955000  966000  950000  958000  265562  254246714088   \n",
       "1  005490  2011-01-03  487000  489500  482000  486000  170542   82998761000   \n",
       "2  005380  2011-01-03  174000  177000  173500  177000  556135   97468816500   \n",
       "3  009540  2011-01-03  443000  443500  431000  435000  256635  111611214500   \n",
       "4  012330  2011-01-03  287500  294500  285000  294500  212902   61730122000   \n",
       "\n",
       "   Changes  ChagesRatio     Stocks           Marcap  MarcapRatio  \\\n",
       "0     9000          1.0  147299337  141112764846000        11.27   \n",
       "1    -1000         -0.2   87186835   42372801810000         3.38   \n",
       "2     3500          2.0  220276479   38988936783000         3.11   \n",
       "3    -8000         -1.8   76000000   33060000000000         2.64   \n",
       "4    10000          3.5   97343863   28667767653500         2.29   \n",
       "\n",
       "   ForeignShares  ForeignRatio  Rank  \n",
       "0       74518914         50.59     1  \n",
       "1       43377735         49.75     2  \n",
       "2       94245489         42.79     3  \n",
       "3       15350207         20.20     4  \n",
       "4       46134411         47.39     5  "
      ]
     },
     "execution_count": 7,
     "metadata": {},
     "output_type": "execute_result"
    }
   ],
   "source": [
    "df.head()"
   ]
  },
  {
   "cell_type": "markdown",
   "metadata": {},
   "source": [
    "# DB에 저장."
   ]
  },
  {
   "cell_type": "code",
   "execution_count": 8,
   "metadata": {},
   "outputs": [],
   "source": [
    "rows = []\n",
    "for index, row in df.iterrows():\n",
    "    rows.append(tuple(row))"
   ]
  },
  {
   "cell_type": "code",
   "execution_count": 9,
   "metadata": {},
   "outputs": [
    {
     "data": {
      "text/plain": [
       "[('005930',\n",
       "  '2011-01-03',\n",
       "  955000,\n",
       "  966000,\n",
       "  950000,\n",
       "  958000,\n",
       "  265562,\n",
       "  254246714088,\n",
       "  9000,\n",
       "  1.0,\n",
       "  147299337,\n",
       "  141112764846000,\n",
       "  11.27,\n",
       "  74518914,\n",
       "  50.59,\n",
       "  1)]"
      ]
     },
     "execution_count": 9,
     "metadata": {},
     "output_type": "execute_result"
    }
   ],
   "source": [
    "rows[:1]"
   ]
  },
  {
   "cell_type": "code",
   "execution_count": 10,
   "metadata": {},
   "outputs": [],
   "source": [
    "db = rsp.PGManager()"
   ]
  },
  {
   "cell_type": "code",
   "execution_count": 11,
   "metadata": {},
   "outputs": [],
   "source": [
    "db.createPool(\"postgres\", \"postgres\", \"postgres\", \"192.168.0.200\")\n",
    "db.setMapper(\"mapper.xml\")"
   ]
  },
  {
   "cell_type": "code",
   "execution_count": 12,
   "metadata": {},
   "outputs": [],
   "source": [
    "db.executeMany(\"inMarcap\", rows)"
   ]
  },
  {
   "cell_type": "code",
   "execution_count": null,
   "metadata": {},
   "outputs": [],
   "source": []
  }
 ],
 "metadata": {
  "kernelspec": {
   "display_name": "Python 3",
   "language": "python",
   "name": "python3"
  },
  "language_info": {
   "codemirror_mode": {
    "name": "ipython",
    "version": 3
   },
   "file_extension": ".py",
   "mimetype": "text/x-python",
   "name": "python",
   "nbconvert_exporter": "python",
   "pygments_lexer": "ipython3",
   "version": "3.7.7"
  },
  "toc-autonumbering": true
 },
 "nbformat": 4,
 "nbformat_minor": 4
}
