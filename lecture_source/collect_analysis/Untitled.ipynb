{
 "cells": [
  {
   "cell_type": "code",
   "execution_count": 1,
   "metadata": {},
   "outputs": [],
   "source": [
    "# !pip install mybatis_mapper2sql OpenDartReader"
   ]
  },
  {
   "cell_type": "code",
   "execution_count": 2,
   "metadata": {},
   "outputs": [],
   "source": [
    "#!pip install git+https://github.com/nockchun/rspy --force\n",
    "import rspy as rsp\n",
    "rsp.setSystemWarning(off=True)"
   ]
  },
  {
   "cell_type": "code",
   "execution_count": 3,
   "metadata": {},
   "outputs": [],
   "source": [
    "import OpenDartReader\n",
    "from bs4 import BeautifulSoup\n",
    "import pandas as pd\n",
    "import numpy as np"
   ]
  },
  {
   "cell_type": "code",
   "execution_count": 4,
   "metadata": {},
   "outputs": [],
   "source": [
    "api_key = '125e216fefd7c214a1a66784b73f76075dff77b7'\n",
    "dart = OpenDartReader(api_key)"
   ]
  },
  {
   "cell_type": "code",
   "execution_count": 5,
   "metadata": {},
   "outputs": [
    {
     "data": {
      "text/plain": [
       "'00298270'"
      ]
     },
     "execution_count": 5,
     "metadata": {},
     "output_type": "execute_result"
    }
   ],
   "source": [
    "dart.find_corp_code(\"안랩\")"
   ]
  },
  {
   "cell_type": "code",
   "execution_count": 6,
   "metadata": {},
   "outputs": [
    {
     "data": {
      "text/html": [
       "<div>\n",
       "<style scoped>\n",
       "    .dataframe tbody tr th:only-of-type {\n",
       "        vertical-align: middle;\n",
       "    }\n",
       "\n",
       "    .dataframe tbody tr th {\n",
       "        vertical-align: top;\n",
       "    }\n",
       "\n",
       "    .dataframe thead th {\n",
       "        text-align: right;\n",
       "    }\n",
       "</style>\n",
       "<table border=\"1\" class=\"dataframe\">\n",
       "  <thead>\n",
       "    <tr style=\"text-align: right;\">\n",
       "      <th></th>\n",
       "      <th>rcept_no</th>\n",
       "      <th>corp_cls</th>\n",
       "      <th>corp_code</th>\n",
       "      <th>corp_name</th>\n",
       "      <th>isu_dcrs_de</th>\n",
       "      <th>isu_dcrs_stle</th>\n",
       "      <th>isu_dcrs_stock_knd</th>\n",
       "      <th>isu_dcrs_qy</th>\n",
       "      <th>isu_dcrs_mstvdv_fval_amount</th>\n",
       "      <th>isu_dcrs_mstvdv_amount</th>\n",
       "    </tr>\n",
       "  </thead>\n",
       "  <tbody>\n",
       "    <tr>\n",
       "      <th>0</th>\n",
       "      <td>20180402004606</td>\n",
       "      <td>Y</td>\n",
       "      <td>00126256</td>\n",
       "      <td>삼성생명</td>\n",
       "      <td>-</td>\n",
       "      <td>-</td>\n",
       "      <td>-</td>\n",
       "      <td>-</td>\n",
       "      <td>-</td>\n",
       "      <td>-</td>\n",
       "    </tr>\n",
       "  </tbody>\n",
       "</table>\n",
       "</div>"
      ],
      "text/plain": [
       "         rcept_no corp_cls corp_code corp_name isu_dcrs_de isu_dcrs_stle  \\\n",
       "0  20180402004606        Y  00126256      삼성생명           -             -   \n",
       "\n",
       "  isu_dcrs_stock_knd isu_dcrs_qy isu_dcrs_mstvdv_fval_amount  \\\n",
       "0                  -           -                           -   \n",
       "\n",
       "  isu_dcrs_mstvdv_amount  \n",
       "0                      -  "
      ]
     },
     "execution_count": 6,
     "metadata": {},
     "output_type": "execute_result"
    }
   ],
   "source": [
    "dart.report(dart.find_corp_code(\"032830\"), '증자', 2017)"
   ]
  },
  {
   "cell_type": "code",
   "execution_count": null,
   "metadata": {},
   "outputs": [],
   "source": []
  },
  {
   "cell_type": "code",
   "execution_count": 7,
   "metadata": {},
   "outputs": [],
   "source": [
    "db = rsp.PGManager()\n",
    "db.createPool(\"postgres\", \"postgres\", \"postgres\", \"192.168.0.200\")\n",
    "db.setMapper(\"mapper.xml\")"
   ]
  },
  {
   "cell_type": "code",
   "execution_count": 8,
   "metadata": {},
   "outputs": [],
   "source": [
    "df = db.queryPandas(\"seJemu\", params=(\"006840\"), dtype={\"code\":\"str\", \"year\":\"int\", \"quarter\":\"int\"})"
   ]
  },
  {
   "cell_type": "code",
   "execution_count": 9,
   "metadata": {},
   "outputs": [
    {
     "data": {
      "text/plain": [
       "Index(['code', 'year', 'quarter', '자산총계', '부채총계', '자본총계', '매출액', '매출총이익',\n",
       "       '영업이익', '비영업손익', '매출원가', '판관비', '당기순이익', '세전계속사업손익', '잉여금', '영업활동현금흐름',\n",
       "       '투자활동현금흐름', '재무활동현금흐름', '순현금흐름', 'per', 'pbr', 'cfps', 'eps', 'bps',\n",
       "       'pcr', '지배주주순이익', 'sps', 'ebitda', 'ev_ebitda', 'psr', '유동비율', '부채비율',\n",
       "       '자기자본비율', '이자보상비율', '유보율', '매출액증가율', '총자산증가율', '지배주주eps증가율', '판관비증가율',\n",
       "       '영업이익증가율', 'ebitda증가율', '매출액총이익률', '예대마진율', 'ebitda마진율', '지배주주roe',\n",
       "       '세전계속사업이익률', '영업이익률', 'roa', '순사업비율', '대출채권회전율'],\n",
       "      dtype='object')"
      ]
     },
     "execution_count": 9,
     "metadata": {},
     "output_type": "execute_result"
    }
   ],
   "source": [
    "df.columns"
   ]
  },
  {
   "cell_type": "code",
   "execution_count": 10,
   "metadata": {},
   "outputs": [],
   "source": [
    "buySeasonByQuater = {\n",
    "    1:[\"-07-01\", \"-07-30\"],\n",
    "    2:[\"-10-01\", \"-10-30\"],\n",
    "    3:[\"-01-01\", \"-01-30\"],\n",
    "    4:[\"-04-01\", \"-04-20\"]\n",
    "}"
   ]
  },
  {
   "cell_type": "code",
   "execution_count": 11,
   "metadata": {},
   "outputs": [],
   "source": [
    "import queue\n",
    "import pandas_profiling as pp"
   ]
  },
  {
   "cell_type": "code",
   "execution_count": 12,
   "metadata": {},
   "outputs": [],
   "source": [
    "# pp.ProfileReport(df, title=\"Hello\")"
   ]
  },
  {
   "cell_type": "code",
   "execution_count": 13,
   "metadata": {},
   "outputs": [],
   "source": [
    "class TimeSeriesAnalyzer():\n",
    "    def __init__(self, dataframe, timeDict):\n",
    "        self.__df = dataframe\n",
    "        self.__timeDict = timeDict\n",
    "        self.__timeDictKeys = list(timeDict.keys())\n",
    "        self.__buckets = []\n",
    "    \n",
    "    def __dicLoop(self, df, idx=0):\n",
    "        key = self.__timeDictKeys[idx]\n",
    "        value = self.__timeDict.get(key)\n",
    "        \n",
    "        for item in value:\n",
    "            dfCurrent = df[df[key] == item]\n",
    "            if len(self.__timeDictKeys)-1 > idx:\n",
    "                nextIdx = idx+1\n",
    "                self.__dicLoop(dfCurrent, nextIdx)\n",
    "            else:\n",
    "                for bucket in self.__buckets:\n",
    "                    bucket.add(dfCurrent)\n",
    "                        \n",
    "    def addBucket(self, bucket):\n",
    "        self.__buckets.append(bucket)\n",
    "    \n",
    "    def analysis(self):\n",
    "        self.__dicLoop(self.__df)"
   ]
  },
  {
   "cell_type": "code",
   "execution_count": 14,
   "metadata": {},
   "outputs": [],
   "source": [
    "class TimeBucket():\n",
    "    def __init__(self, name, seriesLength=3):\n",
    "        self.__name = name\n",
    "        self.__seriesLength = seriesLength\n",
    "        self.__queue = queue.Queue()\n",
    "        self.__simulPrice = 0\n",
    "    \n",
    "    def getName(self):\n",
    "        return self.__name\n",
    "    \n",
    "    def add(self, data):\n",
    "        val = data[self.__name].to_numpy()\n",
    "        if len(val) == 1:\n",
    "            self.__queue.put(val[0])\n",
    "        else:\n",
    "            self.__queue.put(0)\n",
    "        \n",
    "        if self.__queue.qsize() > self.__seriesLength:\n",
    "            self.__queue.get()\n",
    "        if self.__queue.qsize() == self.__seriesLength:\n",
    "            self.__chkIncrease(data)\n",
    "    \n",
    "    def __chkIncrease(self, data):\n",
    "        temp = np.array(self.__queue.queue)\n",
    "        tempf = np.concatenate((np.array([0]), temp[:-1]))\n",
    "        \n",
    "        try:\n",
    "            if all((temp[1:] - temp[:-1]) < 0):\n",
    "                values = data[[\"code\", \"year\", \"quarter\"]].values[0]\n",
    "                code, year, quarter = values\n",
    "                print(f\"[+] {code, year, quarter} : {self.__name}/{self.__seriesLength} >> {self.__queue.queue}\")\n",
    "\n",
    "                if quarter > 2:\n",
    "                    year += 1\n",
    "                priceCloseDiff = db.query(\"sePriceCloseDiff\", params=(code, str(year)+buySeasonByQuater[quarter][0], str(year)+buySeasonByQuater[quarter][1]))[0]\n",
    "                self.__simulPrice += priceCloseDiff[1]*10 - priceCloseDiff[0]*10\n",
    "        except:\n",
    "            pass\n",
    "    \n",
    "    def getSimulPrice(self):\n",
    "        return self.__simulPrice\n",
    "    \n",
    "    def __repr__(self):\n",
    "        return f\"{self.__name}/{self.__seriesLength} >> {self.__queue.queue}\""
   ]
  },
  {
   "cell_type": "code",
   "execution_count": null,
   "metadata": {},
   "outputs": [],
   "source": []
  },
  {
   "cell_type": "code",
   "execution_count": 15,
   "metadata": {},
   "outputs": [],
   "source": [
    "totalSimPrice = 0\n",
    "def simul(code):\n",
    "    global totalSimPrice\n",
    "    df = db.queryPandas(\"seJemu\", params=(code), dtype={\"code\":\"str\", \"year\":\"int\", \"quarter\":\"int\"})\n",
    "    tsa = TimeSeriesAnalyzer(df, {\"year\":range(2010, 2020), \"quarter\":[4]})\n",
    "    tb = TimeBucket(\"pbr\", 5)\n",
    "    tsa.addBucket(tb)\n",
    "    tsa.analysis()\n",
    "    totalSimPrice += tb.getSimulPrice()"
   ]
  },
  {
   "cell_type": "code",
   "execution_count": 16,
   "metadata": {},
   "outputs": [
    {
     "data": {
      "text/plain": [
       "0"
      ]
     },
     "execution_count": 16,
     "metadata": {},
     "output_type": "execute_result"
    }
   ],
   "source": [
    "totalSimPrice"
   ]
  },
  {
   "cell_type": "code",
   "execution_count": 17,
   "metadata": {},
   "outputs": [],
   "source": [
    "codes = pd.read_excel(\"data/거래소코드.xlsx\", dtype={\"코드\":str}, sheet_name=\"소형\")\n",
    "codes = codes.to_numpy()"
   ]
  },
  {
   "cell_type": "code",
   "execution_count": 18,
   "metadata": {},
   "outputs": [
    {
     "data": {
      "text/plain": [
       "Index(['code', 'year', 'quarter', '자산총계', '부채총계', '자본총계', '매출액', '매출총이익',\n",
       "       '영업이익', '비영업손익', '매출원가', '판관비', '당기순이익', '세전계속사업손익', '잉여금', '영업활동현금흐름',\n",
       "       '투자활동현금흐름', '재무활동현금흐름', '순현금흐름', 'per', 'pbr', 'cfps', 'eps', 'bps',\n",
       "       'pcr', '지배주주순이익', 'sps', 'ebitda', 'ev_ebitda', 'psr', '유동비율', '부채비율',\n",
       "       '자기자본비율', '이자보상비율', '유보율', '매출액증가율', '총자산증가율', '지배주주eps증가율', '판관비증가율',\n",
       "       '영업이익증가율', 'ebitda증가율', '매출액총이익률', '예대마진율', 'ebitda마진율', '지배주주roe',\n",
       "       '세전계속사업이익률', '영업이익률', 'roa', '순사업비율', '대출채권회전율'],\n",
       "      dtype='object')"
      ]
     },
     "execution_count": 18,
     "metadata": {},
     "output_type": "execute_result"
    }
   ],
   "source": [
    "df.columns"
   ]
  },
  {
   "cell_type": "code",
   "execution_count": 19,
   "metadata": {
    "scrolled": true
   },
   "outputs": [
    {
     "name": "stdout",
     "output_type": "stream",
     "text": [
      "[+] ('001460', 2019, 4) : pbr/5 >> deque([1.02, 0.85, 0.64, 0.51, 0.46])\n",
      "[+] ('000590', 2018, 4) : pbr/5 >> deque([0.5, 0.45, 0.44, 0.43, 0.34])\n",
      "[+] ('000590', 2019, 4) : pbr/5 >> deque([0.45, 0.44, 0.43, 0.34, 0.3])\n",
      "[+] ('016610', 2014, 4) : pbr/5 >> deque([0.5, 0.46, 0.34, 0.27, 0.25])\n",
      "[+] ('004840', 2018, 4) : pbr/5 >> deque([0.89, 0.8, 0.7, 0.45, 0.38])\n",
      "[+] ('004840', 2019, 4) : pbr/5 >> deque([0.8, 0.7, 0.45, 0.38, 0.29])\n",
      "[+] ('082740', 2015, 4) : pbr/5 >> deque([0.99, 0.56, 0.54, 0.44, 0.27])\n",
      "[+] ('009440', 2018, 4) : pbr/5 >> deque([1.61, 1.32, 1.06, 0.71, 0.47])\n",
      "[+] ('058860', 2019, 4) : pbr/5 >> deque([1.04, 0.8, 0.64, 0.52, 0.47])\n",
      "[+] ('000680', 2017, 4) : pbr/5 >> deque([0.48, 0.41, 0.4, 0.38, 0.35])\n",
      "[+] ('000680', 2018, 4) : pbr/5 >> deque([0.41, 0.4, 0.38, 0.35, 0.29])\n",
      "[+] ('004250', 2019, 4) : pbr/5 >> deque([1.56, 1.1, 0.87, 0.61, 0.56])\n",
      "[+] ('003570', 2019, 4) : pbr/5 >> deque([0.63, 0.45, 0.38, 0.36, 0.33])\n",
      "[+] ('101060', 2016, 4) : pbr/5 >> deque([1.98, 1.14, 0.85, 0.8, 0.54])\n",
      "[+] ('002360', 2018, 4) : pbr/5 >> deque([2.29, 1.77, 1.7, 1.47, 1.17])\n",
      "[+] ('002360', 2019, 4) : pbr/5 >> deque([1.77, 1.7, 1.47, 1.17, 1.15])\n",
      "[+] ('123700', 2017, 4) : pbr/5 >> deque([1.38, 0.83, 0.72, 0.59, 0.48])\n",
      "[+] ('123700', 2018, 4) : pbr/5 >> deque([0.83, 0.72, 0.59, 0.48, 0.3])\n",
      "[+] ('025530', 2019, 4) : pbr/5 >> deque([0.65, 0.56, 0.47, 0.34, 0.31])\n",
      "[+] ('001510', 2014, 4) : pbr/5 >> deque([1.65, 1.29, 0.91, 0.76, 0.72])\n",
      "[+] ('024070', 2018, 4) : pbr/5 >> deque([0.69, 0.63, 0.53, 0.52, 0.36])\n",
      "[+] ('024070', 2019, 4) : pbr/5 >> deque([0.63, 0.53, 0.52, 0.36, 0.35])\n",
      "[+] ('000860', 2018, 4) : pbr/5 >> deque([0.79, 0.6, 0.51, 0.5, 0.31])\n",
      "[+] ('000860', 2019, 4) : pbr/5 >> deque([0.6, 0.51, 0.5, 0.31, 0.25])\n",
      "[+] ('012320', 2018, 4) : pbr/5 >> deque([0.73, 0.61, 0.5, 0.28, 0.22])\n",
      "[+] ('012320', 2019, 4) : pbr/5 >> deque([0.61, 0.5, 0.28, 0.22, 0.21])\n",
      "[+] ('000050', 2019, 4) : pbr/5 >> deque([0.8, 0.62, 0.55, 0.41, 0.34])\n",
      "[+] ('214390', 2019, 4) : pbr/5 >> deque([2.76, 2.58, 2.12, 1.64, 1.32])\n",
      "[+] ('012200', 2019, 4) : pbr/5 >> deque([1.06, 0.97, 0.84, 0.61, 0.53])\n",
      "[+] ('037710', 2018, 4) : pbr/5 >> deque([1.09, 0.92, 0.74, 0.63, 0.46])\n",
      "[+] ('037710', 2019, 4) : pbr/5 >> deque([0.92, 0.74, 0.63, 0.46, 0.4])\n",
      "[+] ('030610', 2019, 4) : pbr/5 >> deque([0.49, 0.42, 0.4, 0.37, 0.34])\n",
      "[+] ('014280', 2018, 4) : pbr/5 >> deque([1.3, 0.85, 0.74, 0.52, 0.35])\n",
      "[+] ('092440', 2019, 4) : pbr/5 >> deque([1.07, 0.77, 0.62, 0.6, 0.48])\n",
      "[+] ('004540', 2014, 4) : pbr/5 >> deque([1.07, 0.96, 0.91, 0.84, 0.77])\n",
      "[+] ('003920', 2019, 4) : pbr/5 >> deque([0.75, 0.71, 0.67, 0.61, 0.42])\n",
      "[+] ('005720', 2018, 4) : pbr/5 >> deque([0.72, 0.58, 0.54, 0.47, 0.33])\n",
      "[+] ('090350', 2019, 4) : pbr/5 >> deque([0.84, 0.63, 0.59, 0.55, 0.52])\n",
      "[+] ('000320', 2018, 4) : pbr/5 >> deque([1.17, 0.94, 0.59, 0.56, 0.44])\n",
      "[+] ('006370', 2018, 4) : pbr/5 >> deque([0.51, 0.45, 0.37, 0.35, 0.28])\n",
      "[+] ('006370', 2019, 4) : pbr/5 >> deque([0.45, 0.37, 0.35, 0.28, 0.2])\n",
      "[+] ('005750', 2019, 4) : pbr/5 >> deque([1.32, 0.9, 0.67, 0.47, 0.43])\n",
      "[+] ('001880', 2018, 4) : pbr/5 >> deque([1.4, 1.29, 0.99, 0.71, 0.59])\n",
      "[+] ('084690', 2019, 4) : pbr/5 >> deque([1.51, 0.77, 0.73, 0.56, 0.43])\n",
      "[+] ('016710', 2018, 4) : pbr/5 >> deque([0.47, 0.45, 0.42, 0.32, 0.25])\n",
      "[+] ('009190', 2018, 4) : pbr/5 >> deque([8.18, 7.14, 6.47, 3.23, 3.0])\n",
      "[+] ('000430', 2016, 4) : pbr/5 >> deque([1.39, 1.12, 0.9, 0.72, 0.62])\n",
      "[+] ('000430', 2017, 4) : pbr/5 >> deque([1.12, 0.9, 0.72, 0.62, 0.5])\n",
      "[+] ('024890', 2019, 4) : pbr/5 >> deque([1.92, 1.5, 1.46, 1.0, 0.73])\n",
      "[+] ('004830', 2019, 4) : pbr/5 >> deque([2.2, 1.55, 0.9, 0.89, 0.74])\n",
      "[+] ('007590', 2014, 4) : pbr/5 >> deque([0.78, 0.73, 0.71, 0.7, 0.68])\n",
      "[+] ('007590', 2015, 4) : pbr/5 >> deque([0.73, 0.71, 0.7, 0.68, 0.67])\n",
      "[+] ('102260', 2018, 4) : pbr/5 >> deque([1.18, 1.03, 0.91, 0.82, 0.79])\n",
      "[+] ('163560', 2019, 4) : pbr/5 >> deque([0.9, 0.86, 0.61, 0.45, 0.39])\n",
      "[+] ('003160', 2017, 4) : pbr/5 >> deque([2.71, 1.8, 1.69, 1.25, 1.19])\n",
      "[+] ('003160', 2018, 4) : pbr/5 >> deque([1.8, 1.69, 1.25, 1.19, 0.77])\n",
      "[+] ('007340', 2019, 4) : pbr/5 >> deque([1.26, 1.22, 0.64, 0.59, 0.48])\n",
      "[+] ('033920', 2018, 4) : pbr/5 >> deque([2.52, 2.43, 1.3, 1.03, 0.75])\n",
      "[+] ('033920', 2019, 4) : pbr/5 >> deque([2.43, 1.3, 1.03, 0.75, 0.46])\n",
      "[+] ('007120', 2019, 4) : pbr/5 >> deque([2.92, 1.5, 0.83, 0.75, 0.59])\n",
      "[+] ('007210', 2019, 4) : pbr/5 >> deque([2.55, 1.31, 1.08, 0.65, 0.52])\n",
      "[+] ('003960', 2014, 4) : pbr/5 >> deque([1.06, 0.66, 0.57, 0.54, 0.49])\n",
      "[+] ('008040', 2018, 4) : pbr/5 >> deque([2.33, 2.12, 1.81, 1.11, 0.86])\n",
      "[+] ('008040', 2019, 4) : pbr/5 >> deque([2.12, 1.81, 1.11, 0.86, 0.69])\n",
      "[+] ('007160', 2019, 4) : pbr/5 >> deque([1.09, 0.95, 0.89, 0.6, 0.47])\n",
      "[+] ('006090', 2019, 4) : pbr/5 >> deque([1.13, 1.0, 0.83, 0.59, 0.43])\n",
      "[+] ('002810', 2018, 4) : pbr/5 >> deque([1.6, 1.52, 1.02, 0.94, 0.74])\n",
      "[+] ('023000', 2018, 4) : pbr/5 >> deque([0.97, 0.81, 0.74, 0.68, 0.56])\n",
      "[+] ('000390', 2018, 4) : pbr/5 >> deque([1.18, 0.96, 0.8, 0.62, 0.59])\n",
      "[+] ('000390', 2019, 4) : pbr/5 >> deque([0.96, 0.8, 0.62, 0.59, 0.43])\n",
      "[+] ('001290', 2014, 4) : pbr/5 >> deque([0.9, 0.77, 0.64, 0.59, 0.49])\n",
      "[+] ('075180', 2018, 4) : pbr/5 >> deque([1.2, 0.82, 0.75, 0.66, 0.51])\n",
      "[+] ('075180', 2019, 4) : pbr/5 >> deque([0.82, 0.75, 0.66, 0.51, 0.46])\n",
      "[+] ('007860', 2018, 4) : pbr/5 >> deque([0.63, 0.6, 0.46, 0.34, 0.18])\n",
      "[+] ('007860', 2019, 4) : pbr/5 >> deque([0.6, 0.46, 0.34, 0.18, 0.16])\n",
      "[+] ('200880', 2018, 4) : pbr/5 >> deque([0.73, 0.68, 0.57, 0.41, 0.18])\n",
      "[+] ('021050', 2014, 4) : pbr/5 >> deque([0.88, 0.75, 0.74, 0.47, 0.34])\n",
      "[+] ('002820', 2019, 4) : pbr/5 >> deque([0.56, 0.47, 0.37, 0.26, 0.25])\n",
      "[+] ('000180', 2019, 4) : pbr/5 >> deque([0.79, 0.44, 0.36, 0.27, 0.21])\n",
      "[+] ('004360', 2018, 4) : pbr/5 >> deque([0.67, 0.55, 0.47, 0.37, 0.34])\n",
      "[+] ('004360', 2019, 4) : pbr/5 >> deque([0.55, 0.47, 0.37, 0.34, 0.32])\n",
      "[+] ('067830', 2018, 4) : pbr/5 >> deque([0.78, 0.69, 0.59, 0.51, 0.32])\n",
      "[+] ('067830', 2019, 4) : pbr/5 >> deque([0.69, 0.59, 0.51, 0.32, 0.29])\n",
      "[+] ('033530', 2017, 4) : pbr/5 >> deque([0.86, 0.68, 0.51, 0.47, 0.39])\n",
      "[+] ('004970', 2016, 4) : pbr/5 >> deque([0.96, 0.94, 0.79, 0.6, 0.5])\n",
      "[+] ('034300', 2018, 4) : pbr/5 >> deque([4.23, 1.81, 1.38, 0.66, 0.49])\n",
      "[+] ('031440', 2019, 4) : pbr/5 >> deque([2.33, 1.92, 1.63, 1.04, 0.86])\n",
      "[+] ('003620', 2018, 4) : pbr/5 >> deque([1.63, 1.48, 1.33, 0.91, 0.79])\n",
      "[+] ('003620', 2019, 4) : pbr/5 >> deque([1.48, 1.33, 0.91, 0.79, 0.77])\n",
      "[+] ('001780', 2019, 4) : pbr/5 >> deque([2.82, 1.99, 1.24, 1.02, 1.0])\n",
      "[+] ('011090', 2019, 4) : pbr/5 >> deque([3.3, 2.22, 1.74, 1.29, 1.14])\n",
      "[+] ('138250', 2019, 4) : pbr/5 >> deque([1.87, 1.37, 1.29, 0.96, 0.73])\n",
      "[+] ('049800', 2014, 4) : pbr/5 >> deque([0.75, 0.67, 0.62, 0.56, 0.5])\n",
      "[+] ('011330', 2019, 4) : pbr/5 >> deque([10.46, 2.83, 1.92, 1.54, 1.43])\n",
      "[+] ('034590', 2018, 4) : pbr/5 >> deque([0.89, 0.87, 0.8, 0.74, 0.69])\n",
      "[+] ('034590', 2019, 4) : pbr/5 >> deque([0.87, 0.8, 0.74, 0.69, 0.66])\n",
      "[+] ('023810', 2018, 4) : pbr/5 >> deque([0.78, 0.63, 0.62, 0.45, 0.3])\n",
      "[+] ('003200', 2018, 4) : pbr/5 >> deque([0.63, 0.55, 0.43, 0.38, 0.32])\n",
      "[+] ('003200', 2019, 4) : pbr/5 >> deque([0.55, 0.43, 0.38, 0.32, 0.24])\n",
      "[+] ('103590', 2017, 4) : pbr/5 >> deque([0.95, 0.94, 0.59, 0.58, 0.52])\n",
      "[+] ('103590', 2018, 4) : pbr/5 >> deque([0.94, 0.59, 0.58, 0.52, 0.37])\n",
      "[+] ('025620', 2018, 4) : pbr/5 >> deque([12.32, 5.79, 3.93, 2.89, 2.13])\n",
      "[+] ('001560', 2018, 4) : pbr/5 >> deque([1.01, 0.98, 0.72, 0.66, 0.65])\n",
      "[+] ('006220', 2019, 4) : pbr/5 >> deque([0.7, 0.5, 0.39, 0.32, 0.26])\n",
      "[+] ('004910', 2019, 4) : pbr/5 >> deque([1.02, 0.76, 0.68, 0.46, 0.39])\n",
      "[+] ('004700', 2018, 4) : pbr/5 >> deque([4.81, 1.46, 1.29, 1.12, 0.9])\n",
      "[+] ('004700', 2019, 4) : pbr/5 >> deque([1.46, 1.29, 1.12, 0.9, 0.88])\n",
      "[+] ('120030', 2018, 4) : pbr/5 >> deque([1.31, 1.1, 1.04, 1.0, 0.87])\n",
      "[+] ('120030', 2019, 4) : pbr/5 >> deque([1.1, 1.04, 1.0, 0.87, 0.83])\n",
      "[+] ('100250', 2018, 4) : pbr/5 >> deque([0.77, 0.71, 0.62, 0.55, 0.5])\n",
      "[+] ('100250', 2019, 4) : pbr/5 >> deque([0.71, 0.62, 0.55, 0.5, 0.47])\n",
      "[+] ('006380', 2014, 4) : pbr/5 >> deque([2.2, 1.63, 1.09, 0.71, 0.4])\n",
      "[+] ('044820', 2019, 4) : pbr/5 >> deque([2.36, 1.24, 1.09, 0.63, 0.44])\n",
      "[+] ('002020', 2019, 4) : pbr/5 >> deque([1.77, 1.28, 1.07, 0.6, 0.4])\n",
      "[+] ('015890', 2019, 4) : pbr/5 >> deque([0.93, 0.8, 0.77, 0.67, 0.66])\n",
      "[+] ('214420', 2019, 4) : pbr/5 >> deque([3.8, 3.16, 2.67, 1.84, 1.82])\n",
      "[+] ('036580', 2019, 4) : pbr/5 >> deque([2.22, 1.49, 1.32, 0.9, 0.56])\n",
      "[+] ('016800', 2019, 4) : pbr/5 >> deque([1.07, 0.9, 0.86, 0.74, 0.68])\n",
      "[+] ('010040', 2017, 4) : pbr/5 >> deque([0.8, 0.69, 0.66, 0.63, 0.53])\n",
      "[+] ('010100', 2018, 4) : pbr/5 >> deque([0.51, 0.4, 0.36, 0.29, 0.2])\n",
      "[+] ('069640', 2019, 4) : pbr/5 >> deque([1.16, 1.1, 0.96, 0.62, 0.5])\n",
      "[+] ('016450', 2019, 4) : pbr/5 >> deque([3.81, 1.57, 1.48, 1.2, 1.06])\n",
      "[+] ('025750', 2018, 4) : pbr/5 >> deque([0.95, 0.91, 0.88, 0.75, 0.68])\n",
      "[+] ('025750', 2019, 4) : pbr/5 >> deque([0.91, 0.88, 0.75, 0.68, 0.57])\n",
      "[+] ('014130', 2019, 4) : pbr/5 >> deque([2.71, 1.57, 0.85, 0.78, 0.74])\n",
      "[+] ('130660', 2018, 4) : pbr/5 >> deque([3.47, 2.57, 2.4, 1.87, 1.54])\n",
      "[+] ('130660', 2019, 4) : pbr/5 >> deque([2.57, 2.4, 1.87, 1.54, 1.33])\n",
      "[+] ('001500', 2014, 4) : pbr/5 >> deque([1.05, 0.97, 0.66, 0.57, 0.44])\n",
      "[+] ('001500', 2015, 4) : pbr/5 >> deque([0.97, 0.66, 0.57, 0.44, 0.41])\n",
      "[+] ('001500', 2016, 4) : pbr/5 >> deque([0.66, 0.57, 0.44, 0.41, 0.34])\n",
      "[+] ('013520', 2018, 4) : pbr/5 >> deque([1.0, 0.92, 0.66, 0.62, 0.61])\n",
      "[+] ('013520', 2019, 4) : pbr/5 >> deque([0.92, 0.66, 0.62, 0.61, 0.52])\n",
      "[+] ('010690', 2017, 4) : pbr/5 >> deque([1.18, 0.67, 0.6, 0.57, 0.42])\n",
      "[+] ('010690', 2018, 4) : pbr/5 >> deque([0.67, 0.6, 0.57, 0.42, 0.28])\n",
      "[+] ('005870', 2019, 4) : pbr/5 >> deque([2.47, 1.98, 1.42, 0.98, 0.84])\n"
     ]
    }
   ],
   "source": [
    "for code, name in codes:\n",
    "    simul(code)"
   ]
  },
  {
   "cell_type": "code",
   "execution_count": 20,
   "metadata": {},
   "outputs": [
    {
     "data": {
      "text/plain": [
       "'437,050'"
      ]
     },
     "execution_count": 20,
     "metadata": {},
     "output_type": "execute_result"
    }
   ],
   "source": [
    "f\"{totalSimPrice:,}\""
   ]
  },
  {
   "cell_type": "code",
   "execution_count": null,
   "metadata": {},
   "outputs": [],
   "source": []
  }
 ],
 "metadata": {
  "kernelspec": {
   "display_name": "Python 3",
   "language": "python",
   "name": "python3"
  },
  "language_info": {
   "codemirror_mode": {
    "name": "ipython",
    "version": 3
   },
   "file_extension": ".py",
   "mimetype": "text/x-python",
   "name": "python",
   "nbconvert_exporter": "python",
   "pygments_lexer": "ipython3",
   "version": "3.7.7"
  }
 },
 "nbformat": 4,
 "nbformat_minor": 4
}
