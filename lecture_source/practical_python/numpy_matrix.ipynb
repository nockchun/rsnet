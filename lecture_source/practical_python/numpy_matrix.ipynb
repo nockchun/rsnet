{
 "cells": [
  {
   "cell_type": "markdown",
   "id": "sexual-hanging",
   "metadata": {},
   "source": [
    "<div class=\"alert alert-block alert-success\">\n",
    "    <b><center>numpy library</center></b>\n",
    "</div>"
   ]
  },
  {
   "cell_type": "markdown",
   "id": "painted-feeding",
   "metadata": {},
   "source": [
    "# Configure Environment"
   ]
  },
  {
   "cell_type": "code",
   "execution_count": 1,
   "id": "toxic-photograph",
   "metadata": {},
   "outputs": [],
   "source": [
    "import numpy as np"
   ]
  },
  {
   "cell_type": "markdown",
   "id": "contemporary-effect",
   "metadata": {},
   "source": [
    "# 벡터\n",
    "벡터는 여러 개의 숫자가 특정한 순서대로 모여 있는 것을 말한다.\n",
    "* 예를 들어 한 송이의 붓꽃의 종을 알아내기 위해 크기를 측정할 때,\n",
    "  + 꽃잎의 길이 $x1$\n",
    "  + 꽃잎의 폭 $x2$\n",
    "  + 꽃받침의 길이 $x3$\n",
    "  + 꽃받침의 폭 $x4$ 라는 4개의 데이터를 쌍(tuple)로 묶어 표현할 수 있다.\n",
    "\n",
    "이때 숫자의 순서가 바뀌면 어떤 숫자가 꽃잎의 길이이고 어떤 숫자가 꽃받침의 폭인지 알 수 없으므로 숫자의 순서를 유지하는 것이 중요하다. 이런 데이터 묶음을 선형대수에서는 <b>벡터</b>라고 부르고 아래와 같이 표현 한다.\n",
    "$$ x\\quad =\\quad \\begin{bmatrix} { x }_{ 1 } \\\\ { x }_{ 2 } \\\\ { x }_{ 3 } \\\\ { x }_{ 4 } \\end{bmatrix} $$"
   ]
  },
  {
   "cell_type": "markdown",
   "id": "smaller-merchant",
   "metadata": {},
   "source": [
    "# 특징 벡터 (feature vector)\n",
    "$$ { x }_{ 1 }=\\begin{bmatrix} 5.1 \\\\ 3.5 \\\\ 1.4 \\\\ 0.2 \\end{bmatrix},\\quad { x }_{ 2 }=\\begin{bmatrix} 4.9 \\\\ 3.0 \\\\ 1.4 \\\\ 0.2 \\end{bmatrix} $$\n",
    "* ${x}_{1}$ : 꽃잎의 길이 5.1cm, 폭이 3.5cm, 꽃받침의 길이 1.4cm, 폭이 0.2cm\n",
    "* ${x}_{2}$ : 꽃잎의 길이 4.9cm, 폭이 3.0cm, 꽃받침의 길이 1.4cm, 폭이 0.2cm"
   ]
  },
  {
   "cell_type": "code",
   "execution_count": 8,
   "id": "unavailable-queens",
   "metadata": {},
   "outputs": [
    {
     "data": {
      "text/plain": [
       "(array([[5.1],\n",
       "        [3.5],\n",
       "        [1.4],\n",
       "        [0.2]]),\n",
       " array([[4.9],\n",
       "        [3. ],\n",
       "        [1.4],\n",
       "        [0.2]]))"
      ]
     },
     "execution_count": 8,
     "metadata": {},
     "output_type": "execute_result"
    }
   ],
   "source": [
    "x1 = np.array([\n",
    "    [5.1],\n",
    "    [3.5],\n",
    "    [1.4],\n",
    "    [0.2]\n",
    "])\n",
    "x2 = np.array([[4.9], [3.0], [1.4], [0.2]])\n",
    "x1, x2"
   ]
  },
  {
   "cell_type": "markdown",
   "id": "catholic-upper",
   "metadata": {},
   "source": [
    "### 행렬\n",
    "붓꽃 예에서 6개의 붓꽃에 대해 데이터를 측정하였다면 하나의 벡터를 행(row)으로 표시된 6*4개의 행렬로 표현될 수 있다.\n",
    "$$ X\\quad =\\quad \\begin{bmatrix} { x }_{ 1,1 } & { x }_{ 1,2 } & { x }_{ 1,3 } & { x }_{ 1,4 } \\\\ { x }_{ 2,1 } & { x }_{ 2,2 } & { x }_{ 2,3 } & { x }_{ 2,4 } \\\\ { x }_{ 3,1 } & { x }_{ 3,2 } & { x }_{ 3,3 } & { x }_{ 3,4 } \\\\ { x }_{ 4,1 } & { x }_{ 4,2 } & { x }_{ 4,3 } & { x }_{ 4,4 } \\\\ { x }_{ 5,1 } & { x }_{ 5,2 } & { x }_{ 5,3 } & { x }_{ 5,4 } \\\\ { x }_{ 6,1 } & { x }_{ 6,2 } & { x }_{ 6,3 } & { x }_{ 6,4 } \\end{bmatrix},\\quad X \\in \\mathbf{R}^{6 \\times 4} $$"
   ]
  },
  {
   "cell_type": "code",
   "execution_count": 9,
   "id": "exact-illustration",
   "metadata": {},
   "outputs": [
    {
     "data": {
      "text/plain": [
       "array([[5.1, 3.5, 1.4, 0.2],\n",
       "       [4.9, 3. , 1.4, 0.2]])"
      ]
     },
     "execution_count": 9,
     "metadata": {},
     "output_type": "execute_result"
    }
   ],
   "source": [
    "# 두 송이의 붓꽃 데이터를 하나의 행렬로 합치면 다음과 같다.\n",
    "A = np.array([\n",
    "    [5.1, 3.5, 1.4, 0.2],\n",
    "    [4.9, 3.0, 1.4, 0.2]\n",
    "])\n",
    "A"
   ]
  },
  {
   "cell_type": "markdown",
   "id": "pressing-portable",
   "metadata": {},
   "source": [
    "# 전치 연산\n",
    "$$ x=\\begin{bmatrix} { x }_{ 1 } \\\\ { x }_{ 1 } \\\\ \\vdots  \\\\ { x }_{ n } \\end{bmatrix}\\quad \\rightarrow \\quad { x }^{ T }=\\begin{bmatrix} { x }_{ 1 } & { x }_{ 2 } & \\cdots  & { x }_{ n } \\end{bmatrix} $$\n",
    "전치(transpose) 연산은 행렬에서 가장 기본이 되는 연산으로 행렬의 행과 열을 바꾸는 연산을 말한다. 전치 연산은 벡터나 행렬에 T 라는 위첨자(super-script)를 붙어서 표기한다. 책에 따라서는 프라임(prime)기호 ′를 붙이는 경우도 있다.\n",
    "$$x \\;\\; \\rightarrow \\;\\; x^T \\text{ 또는 } x'$$"
   ]
  },
  {
   "cell_type": "code",
   "execution_count": 11,
   "id": "surrounded-magic",
   "metadata": {},
   "outputs": [
    {
     "data": {
      "text/plain": [
       "array([[5.1, 4.9],\n",
       "       [3.5, 3. ],\n",
       "       [1.4, 1.4],\n",
       "       [0.2, 0.2]])"
      ]
     },
     "execution_count": 11,
     "metadata": {},
     "output_type": "execute_result"
    }
   ],
   "source": [
    "A.T"
   ]
  },
  {
   "cell_type": "markdown",
   "id": "knowing-prediction",
   "metadata": {},
   "source": [
    "# 항등행렬\n",
    "대각행렬 중에서도 모든 대각성분의 값이 1인 대각행렬을 항등행렬(identity matrix)이라고 한다. 항등행렬은 보통 알파벳 대문자  I 로 표기한다.\n",
    "$$ \\begin{bmatrix} 1 & 0 & \\cdots  & 0 \\\\ 0 & 1 & \\cdots  & 0 \\\\ \\vdots  & \\vdots  & \\ddots  & \\vdots  \\\\ 0 & 0 & \\cdots  & 1 \\end{bmatrix},\\quad I\\in { { R } }^{ N\\times N } $$"
   ]
  },
  {
   "cell_type": "code",
   "execution_count": 15,
   "id": "vanilla-scratch",
   "metadata": {},
   "outputs": [
    {
     "data": {
      "text/plain": [
       "array([[1., 0., 0., 0., 0.],\n",
       "       [0., 1., 0., 0., 0.],\n",
       "       [0., 0., 1., 0., 0.],\n",
       "       [0., 0., 0., 1., 0.],\n",
       "       [0., 0., 0., 0., 1.]])"
      ]
     },
     "execution_count": 15,
     "metadata": {},
     "output_type": "execute_result"
    }
   ],
   "source": [
    "x = np.eye(5)\n",
    "x"
   ]
  },
  {
   "cell_type": "code",
   "execution_count": 93,
   "id": "essential-rabbit",
   "metadata": {},
   "outputs": [
    {
     "data": {
      "text/plain": [
       "array([0., 0., 1., 0., 0.])"
      ]
     },
     "execution_count": 93,
     "metadata": {},
     "output_type": "execute_result"
    }
   ],
   "source": [
    "np.eye(5)[2]"
   ]
  },
  {
   "cell_type": "code",
   "execution_count": 36,
   "id": "imported-blues",
   "metadata": {},
   "outputs": [
    {
     "data": {
      "text/plain": [
       "array([[0., 0., 0., 1., 0.],\n",
       "       [0., 0., 1., 0., 0.],\n",
       "       [0., 0., 0., 1., 0.],\n",
       "       [0., 1., 0., 0., 0.]])"
      ]
     },
     "execution_count": 36,
     "metadata": {},
     "output_type": "execute_result"
    }
   ],
   "source": [
    "np.eye(5)[[3,2,3,1]]"
   ]
  },
  {
   "cell_type": "markdown",
   "id": "medieval-short",
   "metadata": {},
   "source": [
    "# 0/1 행렬\n",
    "* 모든 원소가 0인  N 차원 벡터는 영벡터(zeros-vector) 라고 하고,\n",
    "* 모든 원소가 1인  N 차원 벡터는 일벡터(ones-vector)라고 함\n",
    "$$ { 0 }_{ N }=\\begin{bmatrix} 0 \\\\ 0 \\\\ \\vdots  \\\\ 0 \\end{bmatrix}=0,\\quad { 1 }_{ N }=\\begin{bmatrix} 1 \\\\ 1 \\\\ \\vdots  \\\\ 1 \\end{bmatrix}=1 $$"
   ]
  },
  {
   "cell_type": "code",
   "execution_count": 94,
   "id": "christian-stroke",
   "metadata": {},
   "outputs": [
    {
     "data": {
      "text/plain": [
       "array([[0., 0., 0., 0., 0.],\n",
       "       [0., 0., 0., 0., 0.]])"
      ]
     },
     "execution_count": 94,
     "metadata": {},
     "output_type": "execute_result"
    }
   ],
   "source": [
    "x = np.zeros((2, 5))\n",
    "x"
   ]
  },
  {
   "cell_type": "code",
   "execution_count": 95,
   "id": "frank-kansas",
   "metadata": {},
   "outputs": [
    {
     "data": {
      "text/plain": [
       "array([[1., 1.],\n",
       "       [1., 1.],\n",
       "       [1., 1.],\n",
       "       [1., 1.],\n",
       "       [1., 1.]])"
      ]
     },
     "execution_count": 95,
     "metadata": {},
     "output_type": "execute_result"
    }
   ],
   "source": [
    "y = np.ones((5,2))\n",
    "y"
   ]
  },
  {
   "cell_type": "markdown",
   "id": "royal-trustee",
   "metadata": {},
   "source": [
    "# random/full 행렬"
   ]
  },
  {
   "cell_type": "code",
   "execution_count": 98,
   "id": "laden-government",
   "metadata": {},
   "outputs": [
    {
     "data": {
      "text/plain": [
       "array([[0.85985739, 0.67130251, 0.6463947 , 0.06817963],\n",
       "       [0.53978597, 0.26752182, 0.58919787, 0.74453922],\n",
       "       [0.65003583, 0.75616523, 0.02192143, 0.14775253]])"
      ]
     },
     "execution_count": 98,
     "metadata": {},
     "output_type": "execute_result"
    }
   ],
   "source": [
    "rnd = np.random.rand(3, 4)\n",
    "rnd"
   ]
  },
  {
   "cell_type": "code",
   "execution_count": 100,
   "id": "found-anger",
   "metadata": {},
   "outputs": [
    {
     "data": {
      "text/plain": [
       "array([[99, 99, 99, 99, 99],\n",
       "       [99, 99, 99, 99, 99]])"
      ]
     },
     "execution_count": 100,
     "metadata": {},
     "output_type": "execute_result"
    }
   ],
   "source": [
    "np.full((2, 5), 99)"
   ]
  },
  {
   "cell_type": "markdown",
   "id": "dress-collar",
   "metadata": {},
   "source": [
    "# 행렬 크기"
   ]
  },
  {
   "cell_type": "code",
   "execution_count": 101,
   "id": "understood-audit",
   "metadata": {},
   "outputs": [
    {
     "data": {
      "text/plain": [
       "(3, 4)"
      ]
     },
     "execution_count": 101,
     "metadata": {},
     "output_type": "execute_result"
    }
   ],
   "source": [
    "rnd.shape"
   ]
  },
  {
   "cell_type": "code",
   "execution_count": 102,
   "id": "disabled-namibia",
   "metadata": {},
   "outputs": [
    {
     "data": {
      "text/plain": [
       "array([[0.85985739, 0.67130251, 0.6463947 ],\n",
       "       [0.06817963, 0.53978597, 0.26752182],\n",
       "       [0.58919787, 0.74453922, 0.65003583],\n",
       "       [0.75616523, 0.02192143, 0.14775253]])"
      ]
     },
     "execution_count": 102,
     "metadata": {},
     "output_type": "execute_result"
    }
   ],
   "source": [
    "rnd.reshape(4, 3)"
   ]
  },
  {
   "cell_type": "markdown",
   "id": "welsh-oregon",
   "metadata": {},
   "source": [
    "# 산술연산\n",
    "일반적인 산술 연산자(`+`, `-`, `*`, `/`, `//`, `**` 등)는 모두 `ndarray`와 사용할 수 있습니다. 이 연산자는 원소별로 적용됩니다:"
   ]
  },
  {
   "cell_type": "code",
   "execution_count": 105,
   "id": "mental-chaos",
   "metadata": {},
   "outputs": [
    {
     "name": "stdout",
     "output_type": "stream",
     "text": [
      "a + b  = [19 27 35 43]\n",
      "a - b  = [ 9 19 29 39]\n",
      "a * b  = [70 92 96 82]\n",
      "a / b  = [ 2.8         5.75       10.66666667 20.5       ]\n",
      "a // b  = [ 2  5 10 20]\n",
      "a % b  = [4 3 2 1]\n",
      "a ** b = [537824 279841  32768   1681]\n"
     ]
    }
   ],
   "source": [
    "a = np.array([14, 23, 32, 41])\n",
    "b = np.array([5,  4,  3,  2])\n",
    "print(\"a + b  =\", a + b)\n",
    "print(\"a - b  =\", a - b)\n",
    "print(\"a * b  =\", a * b)\n",
    "print(\"a / b  =\", a / b)\n",
    "print(\"a // b  =\", a // b)\n",
    "print(\"a % b  =\", a % b)\n",
    "print(\"a ** b =\", a ** b)"
   ]
  },
  {
   "cell_type": "markdown",
   "id": "nonprofit-portfolio",
   "metadata": {},
   "source": [
    "# 브로드캐스팅\n",
    "원래 덧셈과 뺄셈은 크기(차원)가 같은 두 벡터에 대해서만 할 수 있다. 하지만 벡터와 스칼라의 경우에는 관례적으로 다음처럼 스칼라를 벡터로 변환한 연산을 허용한다. 이를 브로드캐스팅(broadcasting)이라고 한다\n",
    "$$\\begin{bmatrix} 10 \\\\ 11 \\\\ 12 \\end{bmatrix}-10\\quad =\\quad \\begin{bmatrix} 10 \\\\ 11 \\\\ 12 \\end{bmatrix}-\\begin{bmatrix} 10 \\\\ 10 \\\\ 10 \\end{bmatrix}$$"
   ]
  },
  {
   "cell_type": "code",
   "execution_count": 106,
   "id": "bibliographic-america",
   "metadata": {},
   "outputs": [],
   "source": [
    "x = np.array([10, 11, 12])\n",
    "y = np.array([10, 10, 10])"
   ]
  },
  {
   "cell_type": "code",
   "execution_count": 107,
   "id": "cordless-voluntary",
   "metadata": {},
   "outputs": [
    {
     "data": {
      "text/plain": [
       "array([0, 1, 2])"
      ]
     },
     "execution_count": 107,
     "metadata": {},
     "output_type": "execute_result"
    }
   ],
   "source": [
    "x - y"
   ]
  },
  {
   "cell_type": "code",
   "execution_count": 108,
   "id": "toxic-bailey",
   "metadata": {},
   "outputs": [
    {
     "data": {
      "text/plain": [
       "array([0, 1, 2])"
      ]
     },
     "execution_count": 108,
     "metadata": {},
     "output_type": "execute_result"
    }
   ],
   "source": [
    "x - 10"
   ]
  },
  {
   "cell_type": "markdown",
   "id": "forward-raising",
   "metadata": {},
   "source": [
    "# 인덱싱"
   ]
  },
  {
   "cell_type": "code",
   "execution_count": 109,
   "id": "pleased-choir",
   "metadata": {},
   "outputs": [
    {
     "data": {
      "text/plain": [
       "array([[0.38912453, 0.17052553, 0.29544434, 0.98097856, 0.22050859],\n",
       "       [0.52280255, 0.06619095, 0.32148666, 0.52707807, 0.05211239],\n",
       "       [0.9026073 , 0.84052439, 0.19507821, 0.49144922, 0.0935681 ],\n",
       "       [0.23673982, 0.63972995, 0.3445042 , 0.84591738, 0.61380394],\n",
       "       [0.76411532, 0.39420073, 0.6748308 , 0.7212276 , 0.02554509]])"
      ]
     },
     "execution_count": 109,
     "metadata": {},
     "output_type": "execute_result"
    }
   ],
   "source": [
    "idx = np.random.rand(5, 5)\n",
    "idx"
   ]
  },
  {
   "cell_type": "code",
   "execution_count": 110,
   "id": "level-prison",
   "metadata": {},
   "outputs": [
    {
     "data": {
      "text/plain": [
       "array([0.9026073 , 0.84052439, 0.19507821, 0.49144922, 0.0935681 ])"
      ]
     },
     "execution_count": 110,
     "metadata": {},
     "output_type": "execute_result"
    }
   ],
   "source": [
    "idx[2]"
   ]
  },
  {
   "cell_type": "code",
   "execution_count": 111,
   "id": "affiliated-north",
   "metadata": {},
   "outputs": [
    {
     "data": {
      "text/plain": [
       "array([0.19507821, 0.49144922])"
      ]
     },
     "execution_count": 111,
     "metadata": {},
     "output_type": "execute_result"
    }
   ],
   "source": [
    "idx[2][2:4]"
   ]
  },
  {
   "cell_type": "code",
   "execution_count": 112,
   "id": "derived-integer",
   "metadata": {},
   "outputs": [
    {
     "data": {
      "text/plain": [
       "array([0.19507821, 0.49144922])"
      ]
     },
     "execution_count": 112,
     "metadata": {},
     "output_type": "execute_result"
    }
   ],
   "source": [
    "idx[2, 2:4]"
   ]
  },
  {
   "cell_type": "code",
   "execution_count": 113,
   "id": "closing-operator",
   "metadata": {},
   "outputs": [
    {
     "data": {
      "text/plain": [
       "array([0.38912453, 0.52280255, 0.9026073 , 0.23673982, 0.76411532])"
      ]
     },
     "execution_count": 113,
     "metadata": {},
     "output_type": "execute_result"
    }
   ],
   "source": [
    "idx[:,0]"
   ]
  },
  {
   "cell_type": "code",
   "execution_count": 114,
   "id": "described-variation",
   "metadata": {},
   "outputs": [
    {
     "data": {
      "text/plain": [
       "array([[[0.17643004, 0.76746165, 0.07487522],\n",
       "        [0.17644045, 0.66205248, 0.97021466],\n",
       "        [0.2237497 , 0.95401196, 0.6124403 ],\n",
       "        [0.7672658 , 0.65385704, 0.97163574],\n",
       "        [0.76693815, 0.09888919, 0.23963234]],\n",
       "\n",
       "       [[0.73525844, 0.67436509, 0.02103495],\n",
       "        [0.84679921, 0.04625259, 0.82250978],\n",
       "        [0.5261674 , 0.12206595, 0.21700769],\n",
       "        [0.21647637, 0.88620122, 0.7219525 ],\n",
       "        [0.39584839, 0.95003152, 0.01047167]],\n",
       "\n",
       "       [[0.28272629, 0.33247567, 0.30319128],\n",
       "        [0.54032897, 0.5146457 , 0.92690312],\n",
       "        [0.0323234 , 0.32835504, 0.07384386],\n",
       "        [0.37089911, 0.78653135, 0.87205817],\n",
       "        [0.58504857, 0.5918317 , 0.65905384]],\n",
       "\n",
       "       [[0.99594972, 0.52411951, 0.38161722],\n",
       "        [0.18161204, 0.64570761, 0.85313083],\n",
       "        [0.21685774, 0.00370528, 0.39814943],\n",
       "        [0.66261887, 0.92240252, 0.74675486],\n",
       "        [0.27165119, 0.74265047, 0.59296599]],\n",
       "\n",
       "       [[0.52658711, 0.14560963, 0.09928439],\n",
       "        [0.73196887, 0.36899655, 0.15272341],\n",
       "        [0.04569149, 0.0522704 , 0.81992411],\n",
       "        [0.19018742, 0.97480668, 0.8254479 ],\n",
       "        [0.45453544, 0.77813039, 0.64433985]]])"
      ]
     },
     "execution_count": 114,
     "metadata": {},
     "output_type": "execute_result"
    }
   ],
   "source": [
    "idx = np.random.rand(5, 5, 3)\n",
    "idx"
   ]
  },
  {
   "cell_type": "code",
   "execution_count": 115,
   "id": "closed-publicity",
   "metadata": {},
   "outputs": [
    {
     "data": {
      "text/plain": [
       "array([[0.28272629, 0.33247567, 0.30319128],\n",
       "       [0.54032897, 0.5146457 , 0.92690312],\n",
       "       [0.0323234 , 0.32835504, 0.07384386],\n",
       "       [0.37089911, 0.78653135, 0.87205817],\n",
       "       [0.58504857, 0.5918317 , 0.65905384]])"
      ]
     },
     "execution_count": 115,
     "metadata": {},
     "output_type": "execute_result"
    }
   ],
   "source": [
    "idx[2,:,:]"
   ]
  },
  {
   "cell_type": "code",
   "execution_count": 116,
   "id": "alert-designation",
   "metadata": {},
   "outputs": [
    {
     "data": {
      "text/plain": [
       "array([0.21647637, 0.88620122])"
      ]
     },
     "execution_count": 116,
     "metadata": {},
     "output_type": "execute_result"
    }
   ],
   "source": [
    "idx[1,3,0:2]"
   ]
  },
  {
   "cell_type": "markdown",
   "id": "sexual-resistance",
   "metadata": {},
   "source": [
    "# 불리언 인덱스"
   ]
  },
  {
   "cell_type": "code",
   "execution_count": 117,
   "id": "endless-overall",
   "metadata": {},
   "outputs": [
    {
     "data": {
      "text/plain": [
       "array([0.79645162, 0.3105467 , 0.16265267, 0.92049795, 0.24056601,\n",
       "       0.5027579 , 0.02266239, 0.13049465, 0.82954162, 0.90669373])"
      ]
     },
     "execution_count": 117,
     "metadata": {},
     "output_type": "execute_result"
    }
   ],
   "source": [
    "idx = np.random.rand(10)\n",
    "idx"
   ]
  },
  {
   "cell_type": "code",
   "execution_count": 118,
   "id": "introductory-korean",
   "metadata": {},
   "outputs": [
    {
     "data": {
      "text/plain": [
       "array([False,  True,  True, False,  True, False,  True,  True, False,\n",
       "       False])"
      ]
     },
     "execution_count": 118,
     "metadata": {},
     "output_type": "execute_result"
    }
   ],
   "source": [
    "# 브로드캐스팅 되어 가능\n",
    "idx < .5"
   ]
  },
  {
   "cell_type": "code",
   "execution_count": 119,
   "id": "breeding-scroll",
   "metadata": {},
   "outputs": [
    {
     "data": {
      "text/plain": [
       "array([0.3105467 , 0.16265267, 0.24056601, 0.02266239, 0.13049465])"
      ]
     },
     "execution_count": 119,
     "metadata": {},
     "output_type": "execute_result"
    }
   ],
   "source": [
    "idx[idx < .5]"
   ]
  },
  {
   "cell_type": "code",
   "execution_count": 134,
   "id": "informed-senator",
   "metadata": {},
   "outputs": [
    {
     "data": {
      "text/plain": [
       "5"
      ]
     },
     "execution_count": 134,
     "metadata": {},
     "output_type": "execute_result"
    }
   ],
   "source": [
    "sum(idx < .5)"
   ]
  },
  {
   "cell_type": "code",
   "execution_count": null,
   "id": "cultural-magic",
   "metadata": {},
   "outputs": [],
   "source": []
  },
  {
   "cell_type": "markdown",
   "id": "skilled-catch",
   "metadata": {},
   "source": [
    "# 행렬 쌓기"
   ]
  },
  {
   "cell_type": "code",
   "execution_count": 124,
   "id": "retired-anger",
   "metadata": {},
   "outputs": [
    {
     "data": {
      "text/plain": [
       "(array([[1, 1, 1, 1, 1],\n",
       "        [1, 1, 1, 1, 1],\n",
       "        [1, 1, 1, 1, 1]]),\n",
       " array([[2, 2, 2, 2, 2],\n",
       "        [2, 2, 2, 2, 2],\n",
       "        [2, 2, 2, 2, 2]]))"
      ]
     },
     "execution_count": 124,
     "metadata": {},
     "output_type": "execute_result"
    }
   ],
   "source": [
    "s1 = np.full((3, 5), 1)\n",
    "s2 = np.full((3, 5), 2)\n",
    "s1, s2"
   ]
  },
  {
   "cell_type": "code",
   "execution_count": 125,
   "id": "opened-mount",
   "metadata": {},
   "outputs": [
    {
     "data": {
      "text/plain": [
       "array([[1, 1, 1, 1, 1],\n",
       "       [1, 1, 1, 1, 1],\n",
       "       [1, 1, 1, 1, 1],\n",
       "       [2, 2, 2, 2, 2],\n",
       "       [2, 2, 2, 2, 2],\n",
       "       [2, 2, 2, 2, 2]])"
      ]
     },
     "execution_count": 125,
     "metadata": {},
     "output_type": "execute_result"
    }
   ],
   "source": [
    "np.vstack((s1, s2))"
   ]
  },
  {
   "cell_type": "code",
   "execution_count": 126,
   "id": "suspended-bottom",
   "metadata": {},
   "outputs": [
    {
     "data": {
      "text/plain": [
       "array([[1, 1, 1, 1, 1, 2, 2, 2, 2, 2],\n",
       "       [1, 1, 1, 1, 1, 2, 2, 2, 2, 2],\n",
       "       [1, 1, 1, 1, 1, 2, 2, 2, 2, 2]])"
      ]
     },
     "execution_count": 126,
     "metadata": {},
     "output_type": "execute_result"
    }
   ],
   "source": [
    "np.hstack((s1, s2))"
   ]
  },
  {
   "cell_type": "code",
   "execution_count": null,
   "id": "minor-metabolism",
   "metadata": {},
   "outputs": [],
   "source": []
  }
 ],
 "metadata": {
  "kernelspec": {
   "display_name": "Python 3",
   "language": "python",
   "name": "python3"
  },
  "language_info": {
   "codemirror_mode": {
    "name": "ipython",
    "version": 3
   },
   "file_extension": ".py",
   "mimetype": "text/x-python",
   "name": "python",
   "nbconvert_exporter": "python",
   "pygments_lexer": "ipython3",
   "version": "3.8.5"
  }
 },
 "nbformat": 4,
 "nbformat_minor": 5
}
