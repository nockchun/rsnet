{
 "cells": [
  {
   "cell_type": "markdown",
   "id": "rational-complex",
   "metadata": {},
   "source": [
    "<div class=\"alert alert-block alert-success\">\n",
    "    <b><center>Decorator</center></b>\n",
    "</div>"
   ]
  },
  {
   "cell_type": "markdown",
   "id": "genuine-input",
   "metadata": {},
   "source": [
    "# Configure Environment"
   ]
  },
  {
   "cell_type": "markdown",
   "id": "assured-enforcement",
   "metadata": {},
   "source": [
    "# Arguments"
   ]
  },
  {
   "cell_type": "code",
   "execution_count": 21,
   "id": "alone-strategy",
   "metadata": {},
   "outputs": [],
   "source": [
    "def arg(*args):\n",
    "    print(f\"len of args: {len(args)}\")\n",
    "    for item in args:\n",
    "        print(item)"
   ]
  },
  {
   "cell_type": "code",
   "execution_count": 22,
   "id": "powerful-bidder",
   "metadata": {},
   "outputs": [
    {
     "name": "stdout",
     "output_type": "stream",
     "text": [
      "len of args: 0\n"
     ]
    }
   ],
   "source": [
    "arg()"
   ]
  },
  {
   "cell_type": "code",
   "execution_count": 23,
   "id": "minute-world",
   "metadata": {},
   "outputs": [
    {
     "name": "stdout",
     "output_type": "stream",
     "text": [
      "len of args: 1\n",
      "arg1\n"
     ]
    }
   ],
   "source": [
    "arg(\"arg1\")"
   ]
  },
  {
   "cell_type": "code",
   "execution_count": 24,
   "id": "awful-poetry",
   "metadata": {},
   "outputs": [
    {
     "name": "stdout",
     "output_type": "stream",
     "text": [
      "len of args: 2\n",
      "arg1\n",
      "arg2\n"
     ]
    }
   ],
   "source": [
    "arg(\"arg1\", \"arg2\")"
   ]
  },
  {
   "cell_type": "code",
   "execution_count": 25,
   "id": "figured-cincinnati",
   "metadata": {},
   "outputs": [],
   "source": [
    "def kwarg(**kwargs):\n",
    "    print(f\"len of kwargs: {len(kwargs)}\")\n",
    "    for key, value in kwargs.items():\n",
    "        print(f\"key:{key}, value:{value}\")"
   ]
  },
  {
   "cell_type": "code",
   "execution_count": 26,
   "id": "demographic-disco",
   "metadata": {},
   "outputs": [
    {
     "name": "stdout",
     "output_type": "stream",
     "text": [
      "len of kwargs: 0\n"
     ]
    }
   ],
   "source": [
    "kwarg()"
   ]
  },
  {
   "cell_type": "code",
   "execution_count": 28,
   "id": "foreign-lighter",
   "metadata": {},
   "outputs": [
    {
     "name": "stdout",
     "output_type": "stream",
     "text": [
      "len of kwargs: 1\n",
      "key:arg1, value:good\n"
     ]
    }
   ],
   "source": [
    "kwarg(arg1=\"good\")"
   ]
  },
  {
   "cell_type": "code",
   "execution_count": 29,
   "id": "western-poverty",
   "metadata": {},
   "outputs": [
    {
     "name": "stdout",
     "output_type": "stream",
     "text": [
      "len of kwargs: 2\n",
      "key:arg1, value:good\n",
      "key:arg2, value:bad\n"
     ]
    }
   ],
   "source": [
    "kwarg(arg1=\"good\", arg2=\"bad\")"
   ]
  },
  {
   "cell_type": "markdown",
   "id": "fundamental-monkey",
   "metadata": {},
   "source": [
    "# Decorator Function"
   ]
  },
  {
   "cell_type": "code",
   "execution_count": 32,
   "id": "controlled-romantic",
   "metadata": {},
   "outputs": [],
   "source": [
    "def decofunc(func):\n",
    "    def wrapper(*args, **kwargs):\n",
    "        print(\"my pre-process\")\n",
    "        print(func(*args, **kwargs))\n",
    "        print(\"my post-process\")\n",
    "    return wrapper"
   ]
  },
  {
   "cell_type": "code",
   "execution_count": 33,
   "id": "listed-broad",
   "metadata": {},
   "outputs": [],
   "source": [
    "@decofunc\n",
    "def demo():\n",
    "    print(\"i'm demo\")"
   ]
  },
  {
   "cell_type": "code",
   "execution_count": 34,
   "id": "impaired-browse",
   "metadata": {},
   "outputs": [
    {
     "name": "stdout",
     "output_type": "stream",
     "text": [
      "my pre-process\n",
      "i'm demo\n",
      "None\n",
      "my post-process\n"
     ]
    }
   ],
   "source": [
    "demo()"
   ]
  },
  {
   "cell_type": "code",
   "execution_count": 35,
   "id": "ongoing-appointment",
   "metadata": {},
   "outputs": [],
   "source": [
    "def decoarg(arg):\n",
    "    print(f\"decoarg: {arg}\")\n",
    "    def decofunc(func):\n",
    "        def wrapper(*args, **kwargs):\n",
    "            print(f\"wrapper: {arg}\")\n",
    "            decovalue = func(*args, **kwargs)\n",
    "            print(decovalue * 5)\n",
    "        return wrapper\n",
    "    return decofunc"
   ]
  },
  {
   "cell_type": "code",
   "execution_count": 36,
   "id": "occasional-money",
   "metadata": {},
   "outputs": [
    {
     "name": "stdout",
     "output_type": "stream",
     "text": [
      "decoarg: deco arg\n"
     ]
    }
   ],
   "source": [
    "@decoarg(\"deco arg\")\n",
    "def demo(arg1):\n",
    "    return arg1"
   ]
  },
  {
   "cell_type": "code",
   "execution_count": 37,
   "id": "searching-leather",
   "metadata": {},
   "outputs": [
    {
     "name": "stdout",
     "output_type": "stream",
     "text": [
      "wrapper: deco arg\n",
      "15\n"
     ]
    }
   ],
   "source": [
    "demo(3)"
   ]
  },
  {
   "cell_type": "markdown",
   "id": "duplicate-plate",
   "metadata": {},
   "source": [
    "# Decorator Class"
   ]
  },
  {
   "cell_type": "code",
   "execution_count": 46,
   "id": "sudden-decimal",
   "metadata": {},
   "outputs": [],
   "source": [
    "class DecoClass:\n",
    "    def __init__(self, func):\n",
    "        self.func = func\n",
    "    \n",
    "    def __call__(self, *args, **kwargs):\n",
    "        print(\"my pre-process\")\n",
    "        print(self.func(*args, **kwargs))\n",
    "        print(\"my post-process\")"
   ]
  },
  {
   "cell_type": "code",
   "execution_count": 47,
   "id": "nuclear-owner",
   "metadata": {},
   "outputs": [],
   "source": [
    "@DecoClass\n",
    "def demo():\n",
    "    return \"i'm demo\""
   ]
  },
  {
   "cell_type": "code",
   "execution_count": 48,
   "id": "ordered-chick",
   "metadata": {},
   "outputs": [
    {
     "name": "stdout",
     "output_type": "stream",
     "text": [
      "my pre-process\n",
      "i'm demo\n",
      "my post-process\n"
     ]
    }
   ],
   "source": [
    "demo()"
   ]
  },
  {
   "cell_type": "code",
   "execution_count": 55,
   "id": "coastal-saturday",
   "metadata": {},
   "outputs": [],
   "source": [
    "class DecoClass:\n",
    "    def __init__(self, arg):\n",
    "        self.arg = arg\n",
    "    \n",
    "    def __call__(self, func, *args, **kwargs):\n",
    "        def wrapper(*args):\n",
    "            print(f\"wrapper: {self.arg}\")\n",
    "            decovalue = func(*args)\n",
    "            print(decovalue * 5)\n",
    "        return wrapper"
   ]
  },
  {
   "cell_type": "code",
   "execution_count": 57,
   "id": "competitive-personality",
   "metadata": {},
   "outputs": [],
   "source": [
    "@DecoClass(\"deco arg\")\n",
    "def demo(val):\n",
    "    return val+10"
   ]
  },
  {
   "cell_type": "code",
   "execution_count": 58,
   "id": "subjective-island",
   "metadata": {},
   "outputs": [
    {
     "name": "stdout",
     "output_type": "stream",
     "text": [
      "wrapper: deco arg\n",
      "65\n"
     ]
    }
   ],
   "source": [
    "demo(3)"
   ]
  },
  {
   "cell_type": "code",
   "execution_count": null,
   "id": "protected-clinic",
   "metadata": {},
   "outputs": [],
   "source": []
  }
 ],
 "metadata": {
  "kernelspec": {
   "display_name": "Python 3",
   "language": "python",
   "name": "python3"
  },
  "language_info": {
   "codemirror_mode": {
    "name": "ipython",
    "version": 3
   },
   "file_extension": ".py",
   "mimetype": "text/x-python",
   "name": "python",
   "nbconvert_exporter": "python",
   "pygments_lexer": "ipython3",
   "version": "3.8.5"
  }
 },
 "nbformat": 4,
 "nbformat_minor": 5
}
