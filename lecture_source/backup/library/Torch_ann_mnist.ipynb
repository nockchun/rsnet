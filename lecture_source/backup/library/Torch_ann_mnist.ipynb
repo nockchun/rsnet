{
 "cells": [
  {
   "cell_type": "markdown",
   "metadata": {},
   "source": [
    "<div class=\"alert alert-block alert-success\">\n",
    "    <b><center>Pytorch LIBRARY</center></b>\n",
    "    <b><center>MNIST ANN</center></b>\n",
    "</div>"
   ]
  },
  {
   "cell_type": "markdown",
   "metadata": {},
   "source": [
    "# Configure Learning Environment"
   ]
  },
  {
   "cell_type": "code",
   "execution_count": 1,
   "metadata": {
    "execution": {
     "iopub.execute_input": "2025-07-22T01:00:23.143385Z",
     "iopub.status.busy": "2025-07-22T01:00:23.143302Z",
     "iopub.status.idle": "2025-07-22T01:00:24.005428Z",
     "shell.execute_reply": "2025-07-22T01:00:24.005115Z",
     "shell.execute_reply.started": "2025-07-22T01:00:23.143376Z"
    }
   },
   "outputs": [],
   "source": [
    "import numpy as np\n",
    "import matplotlib.pyplot as plt\n",
    "import pandas as pd"
   ]
  },
  {
   "cell_type": "code",
   "execution_count": 2,
   "metadata": {
    "execution": {
     "iopub.execute_input": "2025-07-22T01:00:24.005858Z",
     "iopub.status.busy": "2025-07-22T01:00:24.005735Z",
     "iopub.status.idle": "2025-07-22T01:00:25.462311Z",
     "shell.execute_reply": "2025-07-22T01:00:25.461782Z",
     "shell.execute_reply.started": "2025-07-22T01:00:24.005847Z"
    }
   },
   "outputs": [],
   "source": [
    "import torch\n",
    "from torch import nn\n",
    "from torchvision import datasets, transforms"
   ]
  },
  {
   "cell_type": "code",
   "execution_count": 3,
   "metadata": {
    "execution": {
     "iopub.execute_input": "2025-07-22T01:00:25.462923Z",
     "iopub.status.busy": "2025-07-22T01:00:25.462756Z",
     "iopub.status.idle": "2025-07-22T01:00:25.505398Z",
     "shell.execute_reply": "2025-07-22T01:00:25.504995Z",
     "shell.execute_reply.started": "2025-07-22T01:00:25.462913Z"
    }
   },
   "outputs": [
    {
     "data": {
      "text/plain": [
       "device(type='cuda', index=0)"
      ]
     },
     "execution_count": 3,
     "metadata": {},
     "output_type": "execute_result"
    }
   ],
   "source": [
    "device = torch.device(\"cuda:0\" if torch.cuda.is_available() else \"cpu\")\n",
    "device"
   ]
  },
  {
   "cell_type": "markdown",
   "metadata": {},
   "source": [
    "# Prepare Data"
   ]
  },
  {
   "cell_type": "code",
   "execution_count": 4,
   "metadata": {
    "execution": {
     "iopub.execute_input": "2025-07-22T01:00:25.505885Z",
     "iopub.status.busy": "2025-07-22T01:00:25.505791Z",
     "iopub.status.idle": "2025-07-22T01:00:36.124356Z",
     "shell.execute_reply": "2025-07-22T01:00:36.123962Z",
     "shell.execute_reply.started": "2025-07-22T01:00:25.505876Z"
    }
   },
   "outputs": [
    {
     "name": "stderr",
     "output_type": "stream",
     "text": [
      "100%|██████████| 9.91M/9.91M [00:04<00:00, 2.46MB/s]\n",
      "100%|██████████| 28.9k/28.9k [00:00<00:00, 159kB/s]\n",
      "100%|██████████| 1.65M/1.65M [00:01<00:00, 1.52MB/s]\n",
      "100%|██████████| 4.54k/4.54k [00:00<00:00, 4.41MB/s]\n"
     ]
    }
   ],
   "source": [
    "transform = transforms.Compose([\n",
    "    transforms.ToTensor(),\n",
    "    transforms.Normalize(0.5, 0.5)\n",
    "])\n",
    "res_train = datasets.MNIST(\"./datas\", train=True, transform=transform, download=True)"
   ]
  },
  {
   "cell_type": "code",
   "execution_count": 5,
   "metadata": {
    "execution": {
     "iopub.execute_input": "2025-07-22T01:00:36.125439Z",
     "iopub.status.busy": "2025-07-22T01:00:36.125334Z",
     "iopub.status.idle": "2025-07-22T01:00:36.127442Z",
     "shell.execute_reply": "2025-07-22T01:00:36.127191Z",
     "shell.execute_reply.started": "2025-07-22T01:00:36.125429Z"
    }
   },
   "outputs": [],
   "source": [
    "load_train = torch.utils.data.DataLoader(res_train, batch_size=100, shuffle=True)"
   ]
  },
  {
   "cell_type": "code",
   "execution_count": 6,
   "metadata": {
    "execution": {
     "iopub.execute_input": "2025-07-22T01:00:36.127770Z",
     "iopub.status.busy": "2025-07-22T01:00:36.127679Z",
     "iopub.status.idle": "2025-07-22T01:00:36.235637Z",
     "shell.execute_reply": "2025-07-22T01:00:36.235150Z",
     "shell.execute_reply.started": "2025-07-22T01:00:36.127761Z"
    }
   },
   "outputs": [
    {
     "ename": "AttributeError",
     "evalue": "'_SingleProcessDataLoaderIter' object has no attribute 'next'",
     "output_type": "error",
     "traceback": [
      "\u001b[0;31m---------------------------------------------------------------------------\u001b[0m",
      "\u001b[0;31mAttributeError\u001b[0m                            Traceback (most recent call last)",
      "Cell \u001b[0;32mIn[6], line 2\u001b[0m\n\u001b[1;32m      1\u001b[0m iter_train \u001b[38;5;241m=\u001b[39m \u001b[38;5;28miter\u001b[39m(load_train)\n\u001b[0;32m----> 2\u001b[0m images, labels \u001b[38;5;241m=\u001b[39m \u001b[43miter_train\u001b[49m\u001b[38;5;241;43m.\u001b[39;49m\u001b[43mnext\u001b[49m()\n\u001b[1;32m      3\u001b[0m images\u001b[38;5;241m.\u001b[39mshape, labels\u001b[38;5;241m.\u001b[39mshape\n",
      "\u001b[0;31mAttributeError\u001b[0m: '_SingleProcessDataLoaderIter' object has no attribute 'next'"
     ]
    }
   ],
   "source": [
    "iter_train = iter(load_train)\n",
    "images, labels = iter_train.next()\n",
    "images.shape, labels.shape"
   ]
  },
  {
   "cell_type": "code",
   "execution_count": null,
   "metadata": {
    "execution": {
     "iopub.status.busy": "2025-07-22T01:00:36.235931Z",
     "iopub.status.idle": "2025-07-22T01:00:36.236048Z",
     "shell.execute_reply": "2025-07-22T01:00:36.235993Z",
     "shell.execute_reply.started": "2025-07-22T01:00:36.235987Z"
    }
   },
   "outputs": [],
   "source": [
    "def im_convert(tensor):\n",
    "    image = tensor.clone().detach().numpy()\n",
    "    image = image.transpose(1, 2, 0)\n",
    "    image = image * np.array((0.5, 0.5, 0.5)) + np.array((0.5, 0.5, 0.5))\n",
    "    image = image.clip(0, 255)\n",
    "    return image"
   ]
  },
  {
   "cell_type": "code",
   "execution_count": null,
   "metadata": {
    "execution": {
     "iopub.status.busy": "2025-07-22T01:00:36.236432Z",
     "iopub.status.idle": "2025-07-22T01:00:36.236533Z",
     "shell.execute_reply": "2025-07-22T01:00:36.236488Z",
     "shell.execute_reply.started": "2025-07-22T01:00:36.236483Z"
    }
   },
   "outputs": [],
   "source": [
    "fig = plt.figure(figsize=(25, 4))\n",
    "for idx in np.arange(20):\n",
    "    ax = fig.add_subplot(2, 10, idx+1, xticks=[], yticks=[])\n",
    "    plt.imshow(im_convert(images[idx]))\n",
    "    ax.set_title(labels[idx].item())"
   ]
  },
  {
   "cell_type": "markdown",
   "metadata": {},
   "source": [
    "# Generate Model"
   ]
  },
  {
   "cell_type": "code",
   "execution_count": null,
   "metadata": {
    "execution": {
     "iopub.status.busy": "2025-07-22T01:00:36.236856Z",
     "iopub.status.idle": "2025-07-22T01:00:36.236950Z",
     "shell.execute_reply": "2025-07-22T01:00:36.236907Z",
     "shell.execute_reply.started": "2025-07-22T01:00:36.236903Z"
    }
   },
   "outputs": [],
   "source": [
    "class Classifier(nn.Module):\n",
    "    def __init__(self, D_in, H1, H2, D_out):\n",
    "        super().__init__()\n",
    "        self.linear1 = nn.Linear(D_in, H1)\n",
    "        self.activate1 = nn.ReLU()\n",
    "        self.linear2 = nn.Linear(H1, H2)\n",
    "        self.activate2 = nn.ReLU()\n",
    "        self.linear3 = nn.Linear(H2, D_out)\n",
    "    \n",
    "    def forward(self, x):\n",
    "        x = self.activate1(self.linear1(x))\n",
    "        x = self.activate2(self.linear2(x))\n",
    "        x = self.linear3(x)\n",
    "        return x"
   ]
  },
  {
   "cell_type": "code",
   "execution_count": null,
   "metadata": {
    "execution": {
     "iopub.status.busy": "2025-07-22T01:00:36.237251Z",
     "iopub.status.idle": "2025-07-22T01:00:36.237344Z",
     "shell.execute_reply": "2025-07-22T01:00:36.237302Z",
     "shell.execute_reply.started": "2025-07-22T01:00:36.237297Z"
    }
   },
   "outputs": [],
   "source": [
    "model = Classifier(784, 125, 65, 10).to(device)\n",
    "model"
   ]
  },
  {
   "cell_type": "code",
   "execution_count": null,
   "metadata": {
    "execution": {
     "iopub.status.busy": "2025-07-22T01:00:36.237575Z",
     "iopub.status.idle": "2025-07-22T01:00:36.237670Z",
     "shell.execute_reply": "2025-07-22T01:00:36.237624Z",
     "shell.execute_reply.started": "2025-07-22T01:00:36.237619Z"
    }
   },
   "outputs": [],
   "source": [
    "fn_loss = nn.CrossEntropyLoss()\n",
    "fn_optimizer = torch.optim.Adam(model.parameters(), lr=0.0001)"
   ]
  },
  {
   "cell_type": "markdown",
   "metadata": {},
   "source": [
    "# Training"
   ]
  },
  {
   "cell_type": "code",
   "execution_count": null,
   "metadata": {
    "execution": {
     "iopub.status.busy": "2025-07-22T01:00:36.237857Z",
     "iopub.status.idle": "2025-07-22T01:00:36.237949Z",
     "shell.execute_reply": "2025-07-22T01:00:36.237906Z",
     "shell.execute_reply.started": "2025-07-22T01:00:36.237902Z"
    }
   },
   "outputs": [],
   "source": [
    "epochs = 20\n",
    "amount_batch = len(load_train)"
   ]
  },
  {
   "cell_type": "code",
   "execution_count": null,
   "metadata": {
    "execution": {
     "iopub.status.busy": "2025-07-22T01:00:36.238189Z",
     "iopub.status.idle": "2025-07-22T01:00:36.238293Z",
     "shell.execute_reply": "2025-07-22T01:00:36.238242Z",
     "shell.execute_reply.started": "2025-07-22T01:00:36.238238Z"
    }
   },
   "outputs": [],
   "source": [
    "history = []\n",
    "for epoch in range(epochs):\n",
    "    loss_learns = .0\n",
    "    accu_learns = .0\n",
    "    \n",
    "    for datas, labels in load_train:\n",
    "        # set device\n",
    "        datas = datas.to(device)\n",
    "        labels = labels.to(device)\n",
    "        \n",
    "        # predict & calculate a loss\n",
    "        inputs = datas.view(datas.shape[0], -1)\n",
    "        preds = model(inputs)\n",
    "        loss = fn_loss(preds, labels)\n",
    "        \n",
    "        # backpropagation\n",
    "        fn_optimizer.zero_grad()\n",
    "        loss.backward()\n",
    "        fn_optimizer.step()\n",
    "        \n",
    "        loss_learns += loss.item()\n",
    "        _, pred_label = torch.max(preds, 1)\n",
    "        accu_learns += torch.sum(pred_label == labels.data).item() / len(pred_label) * 100\n",
    "        \n",
    "    loss_learn = loss_learns / amount_batch\n",
    "    accu_learn = accu_learns / amount_batch\n",
    "    history.append({\"loss\": loss_learn, \"accuracy\": accu_learn})\n",
    "    \n",
    "    print(f\"{epoch+1:02d} step -> loss: {loss_learn:.4f}, accuracy: {accu_learn:.2f} %\")"
   ]
  },
  {
   "cell_type": "code",
   "execution_count": null,
   "metadata": {
    "execution": {
     "iopub.status.busy": "2025-07-22T01:00:36.238502Z",
     "iopub.status.idle": "2025-07-22T01:00:36.238592Z",
     "shell.execute_reply": "2025-07-22T01:00:36.238550Z",
     "shell.execute_reply.started": "2025-07-22T01:00:36.238546Z"
    }
   },
   "outputs": [],
   "source": [
    "df_history = pd.DataFrame.from_records(history)\n",
    "df_history.plot(subplots=True, layout=(1, 2), figsize=(15, 5))"
   ]
  },
  {
   "cell_type": "code",
   "execution_count": null,
   "metadata": {},
   "outputs": [],
   "source": []
  }
 ],
 "metadata": {
  "kernelspec": {
   "display_name": "Python 3 (ipykernel)",
   "language": "python",
   "name": "python3"
  },
  "language_info": {
   "codemirror_mode": {
    "name": "ipython",
    "version": 3
   },
   "file_extension": ".py",
   "mimetype": "text/x-python",
   "name": "python",
   "nbconvert_exporter": "python",
   "pygments_lexer": "ipython3",
   "version": "3.10.0"
  },
  "toc-autonumbering": true
 },
 "nbformat": 4,
 "nbformat_minor": 4
}
