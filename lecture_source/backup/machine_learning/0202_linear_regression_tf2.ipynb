{
 "cells": [
  {
   "cell_type": "markdown",
   "metadata": {},
   "source": [
    "<div class=\"alert alert-block alert-success\">\n",
    "    <b><center>LINEAR REGRESSION</center></b>\n",
    "    <b><center>Tensorflow 2를 이용한 코드 예제</center></b>\n",
    "</div>"
   ]
  },
  {
   "cell_type": "markdown",
   "metadata": {},
   "source": [
    "# Configure Environment"
   ]
  },
  {
   "cell_type": "code",
   "execution_count": 2,
   "metadata": {},
   "outputs": [
    {
     "ename": "NameError",
     "evalue": "name 'rsp' is not defined",
     "output_type": "error",
     "traceback": [
      "\u001b[0;31m---------------------------------------------------------------------------\u001b[0m",
      "\u001b[0;31mNameError\u001b[0m                                 Traceback (most recent call last)",
      "Input \u001b[0;32mIn [2]\u001b[0m, in \u001b[0;36m<module>\u001b[0;34m\u001b[0m\n\u001b[1;32m      1\u001b[0m \u001b[38;5;66;03m# !pip install git+https://github.com/nockchun/rspy --force\u001b[39;00m\n\u001b[1;32m      2\u001b[0m \u001b[38;5;66;03m# import rspy as rsp\u001b[39;00m\n\u001b[0;32m----> 3\u001b[0m \u001b[43mrsp\u001b[49m\u001b[38;5;241m.\u001b[39msetSystemWarning(off\u001b[38;5;241m=\u001b[39m\u001b[38;5;28;01mTrue\u001b[39;00m)\n",
      "\u001b[0;31mNameError\u001b[0m: name 'rsp' is not defined"
     ]
    }
   ],
   "source": [
    "# !pip install git+https://github.com/nockchun/rspy --force\n",
    "# import rspy as rsp\n",
    "rsp.setSystemWarning(off=True)"
   ]
  },
  {
   "cell_type": "code",
   "execution_count": 3,
   "metadata": {},
   "outputs": [],
   "source": [
    "import numpy as np\n",
    "import matplotlib.pyplot as plt\n",
    "\n",
    "import seaborn as sns\n",
    "import tensorflow as tf\n",
    "from tensorflow.keras import utils, layers, models, losses"
   ]
  },
  {
   "cell_type": "code",
   "execution_count": 4,
   "metadata": {},
   "outputs": [
    {
     "data": {
      "text/plain": [
       "'2.6.0'"
      ]
     },
     "execution_count": 4,
     "metadata": {},
     "output_type": "execute_result"
    }
   ],
   "source": [
    "np.set_printoptions(linewidth=200, precision=2)\n",
    "sns.set_style(\"whitegrid\")\n",
    "tf.__version__"
   ]
  },
  {
   "cell_type": "markdown",
   "metadata": {},
   "source": [
    "# Prepare Data"
   ]
  },
  {
   "cell_type": "markdown",
   "metadata": {},
   "source": [
    ">* total_bill : 전체 음식 가격 (US dollars)\n",
    ">* tip        : 팁 금액 (US dollars)\n",
    ">* sex        : 성별 (0=male, 1=female)\n",
    ">* smoker     : 흡연 여부 (0=No, 1=Yes)\n",
    ">* day        : 요일 (3=Thur, 4=Fri, 5=Sat, 6=Sun)\n",
    ">* time       : 시간대 (0=Lunch, 1=Dinner)\n",
    ">* size       : 동행자 수"
   ]
  },
  {
   "cell_type": "code",
   "execution_count": 5,
   "metadata": {},
   "outputs": [
    {
     "data": {
      "text/html": [
       "<div>\n",
       "<style scoped>\n",
       "    .dataframe tbody tr th:only-of-type {\n",
       "        vertical-align: middle;\n",
       "    }\n",
       "\n",
       "    .dataframe tbody tr th {\n",
       "        vertical-align: top;\n",
       "    }\n",
       "\n",
       "    .dataframe thead th {\n",
       "        text-align: right;\n",
       "    }\n",
       "</style>\n",
       "<table border=\"1\" class=\"dataframe\">\n",
       "  <thead>\n",
       "    <tr style=\"text-align: right;\">\n",
       "      <th></th>\n",
       "      <th>total_bill</th>\n",
       "      <th>tip</th>\n",
       "      <th>sex</th>\n",
       "      <th>smoker</th>\n",
       "      <th>day</th>\n",
       "      <th>time</th>\n",
       "      <th>size</th>\n",
       "    </tr>\n",
       "  </thead>\n",
       "  <tbody>\n",
       "    <tr>\n",
       "      <th>0</th>\n",
       "      <td>16.99</td>\n",
       "      <td>1.01</td>\n",
       "      <td>Female</td>\n",
       "      <td>No</td>\n",
       "      <td>Sun</td>\n",
       "      <td>Dinner</td>\n",
       "      <td>2</td>\n",
       "    </tr>\n",
       "    <tr>\n",
       "      <th>1</th>\n",
       "      <td>10.34</td>\n",
       "      <td>1.66</td>\n",
       "      <td>Male</td>\n",
       "      <td>No</td>\n",
       "      <td>Sun</td>\n",
       "      <td>Dinner</td>\n",
       "      <td>3</td>\n",
       "    </tr>\n",
       "    <tr>\n",
       "      <th>2</th>\n",
       "      <td>21.01</td>\n",
       "      <td>3.50</td>\n",
       "      <td>Male</td>\n",
       "      <td>No</td>\n",
       "      <td>Sun</td>\n",
       "      <td>Dinner</td>\n",
       "      <td>3</td>\n",
       "    </tr>\n",
       "  </tbody>\n",
       "</table>\n",
       "</div>"
      ],
      "text/plain": [
       "   total_bill   tip     sex smoker  day    time  size\n",
       "0       16.99  1.01  Female     No  Sun  Dinner     2\n",
       "1       10.34  1.66    Male     No  Sun  Dinner     3\n",
       "2       21.01  3.50    Male     No  Sun  Dinner     3"
      ]
     },
     "execution_count": 5,
     "metadata": {},
     "output_type": "execute_result"
    }
   ],
   "source": [
    "tips = sns.load_dataset(\"tips\")\n",
    "tips.head(3)"
   ]
  },
  {
   "cell_type": "code",
   "execution_count": 6,
   "metadata": {},
   "outputs": [],
   "source": [
    "# tips.replace({ \"sex\": {\"Male\": 0, \"Female\": 1}, \"smoker\": {\"No\": 0, \"Yes\": 1} }, inplace=True)\n",
    "# tips.head(3)"
   ]
  },
  {
   "cell_type": "code",
   "execution_count": 7,
   "metadata": {},
   "outputs": [],
   "source": [
    "# def scale(data):\n",
    "#     return data.total_bill/(data.size+1)"
   ]
  },
  {
   "cell_type": "code",
   "execution_count": 8,
   "metadata": {},
   "outputs": [],
   "source": [
    "# tips[\"tendency\"] = tips[[\"total_bill\", \"size\"]].apply(scale, axis=1)"
   ]
  },
  {
   "cell_type": "code",
   "execution_count": 9,
   "metadata": {},
   "outputs": [],
   "source": [
    "# tips.head()"
   ]
  },
  {
   "cell_type": "code",
   "execution_count": 10,
   "metadata": {},
   "outputs": [],
   "source": [
    "data = tips[[\"total_bill\", \"size\"]].values\n",
    "label = tips[[\"tip\"]].values"
   ]
  },
  {
   "cell_type": "markdown",
   "metadata": {},
   "source": [
    "# Analysis Datas"
   ]
  },
  {
   "cell_type": "code",
   "execution_count": 11,
   "metadata": {},
   "outputs": [
    {
     "data": {
      "text/html": [
       "<div>\n",
       "<style scoped>\n",
       "    .dataframe tbody tr th:only-of-type {\n",
       "        vertical-align: middle;\n",
       "    }\n",
       "\n",
       "    .dataframe tbody tr th {\n",
       "        vertical-align: top;\n",
       "    }\n",
       "\n",
       "    .dataframe thead th {\n",
       "        text-align: right;\n",
       "    }\n",
       "</style>\n",
       "<table border=\"1\" class=\"dataframe\">\n",
       "  <thead>\n",
       "    <tr style=\"text-align: right;\">\n",
       "      <th></th>\n",
       "      <th>count</th>\n",
       "      <th>mean</th>\n",
       "      <th>std</th>\n",
       "      <th>min</th>\n",
       "      <th>25%</th>\n",
       "      <th>50%</th>\n",
       "      <th>75%</th>\n",
       "      <th>max</th>\n",
       "    </tr>\n",
       "  </thead>\n",
       "  <tbody>\n",
       "    <tr>\n",
       "      <th>total_bill</th>\n",
       "      <td>244.0</td>\n",
       "      <td>19.785943</td>\n",
       "      <td>8.902412</td>\n",
       "      <td>3.07</td>\n",
       "      <td>13.3475</td>\n",
       "      <td>17.795</td>\n",
       "      <td>24.1275</td>\n",
       "      <td>50.81</td>\n",
       "    </tr>\n",
       "    <tr>\n",
       "      <th>tip</th>\n",
       "      <td>244.0</td>\n",
       "      <td>2.998279</td>\n",
       "      <td>1.383638</td>\n",
       "      <td>1.00</td>\n",
       "      <td>2.0000</td>\n",
       "      <td>2.900</td>\n",
       "      <td>3.5625</td>\n",
       "      <td>10.00</td>\n",
       "    </tr>\n",
       "    <tr>\n",
       "      <th>size</th>\n",
       "      <td>244.0</td>\n",
       "      <td>2.569672</td>\n",
       "      <td>0.951100</td>\n",
       "      <td>1.00</td>\n",
       "      <td>2.0000</td>\n",
       "      <td>2.000</td>\n",
       "      <td>3.0000</td>\n",
       "      <td>6.00</td>\n",
       "    </tr>\n",
       "  </tbody>\n",
       "</table>\n",
       "</div>"
      ],
      "text/plain": [
       "            count       mean       std   min      25%     50%      75%    max\n",
       "total_bill  244.0  19.785943  8.902412  3.07  13.3475  17.795  24.1275  50.81\n",
       "tip         244.0   2.998279  1.383638  1.00   2.0000   2.900   3.5625  10.00\n",
       "size        244.0   2.569672  0.951100  1.00   2.0000   2.000   3.0000   6.00"
      ]
     },
     "execution_count": 11,
     "metadata": {},
     "output_type": "execute_result"
    }
   ],
   "source": [
    "tips.describe().T"
   ]
  },
  {
   "cell_type": "markdown",
   "metadata": {},
   "source": [
    "## Generate Model"
   ]
  },
  {
   "cell_type": "code",
   "execution_count": 12,
   "metadata": {},
   "outputs": [
    {
     "name": "stdout",
     "output_type": "stream",
     "text": [
      "Model: \"sequential\"\n",
      "_________________________________________________________________\n",
      "Layer (type)                 Output Shape              Param #   \n",
      "=================================================================\n",
      "dense (Dense)                (None, 1)                 3         \n",
      "=================================================================\n",
      "Total params: 3\n",
      "Trainable params: 3\n",
      "Non-trainable params: 0\n",
      "_________________________________________________________________\n"
     ]
    },
    {
     "name": "stderr",
     "output_type": "stream",
     "text": [
      "2022-04-11 01:38:04.787570: I tensorflow/stream_executor/cuda/cuda_gpu_executor.cc:937] successful NUMA node read from SysFS had negative value (-1), but there must be at least one NUMA node, so returning NUMA node zero\n",
      "2022-04-11 01:38:04.795483: I tensorflow/stream_executor/cuda/cuda_gpu_executor.cc:937] successful NUMA node read from SysFS had negative value (-1), but there must be at least one NUMA node, so returning NUMA node zero\n",
      "2022-04-11 01:38:04.795737: I tensorflow/stream_executor/cuda/cuda_gpu_executor.cc:937] successful NUMA node read from SysFS had negative value (-1), but there must be at least one NUMA node, so returning NUMA node zero\n",
      "2022-04-11 01:38:04.796984: I tensorflow/core/platform/cpu_feature_guard.cc:142] This TensorFlow binary is optimized with oneAPI Deep Neural Network Library (oneDNN) to use the following CPU instructions in performance-critical operations:  SSE4.1 SSE4.2 AVX AVX2 FMA\n",
      "To enable them in other operations, rebuild TensorFlow with the appropriate compiler flags.\n",
      "2022-04-11 01:38:04.797888: I tensorflow/stream_executor/cuda/cuda_gpu_executor.cc:937] successful NUMA node read from SysFS had negative value (-1), but there must be at least one NUMA node, so returning NUMA node zero\n",
      "2022-04-11 01:38:04.798114: I tensorflow/stream_executor/cuda/cuda_gpu_executor.cc:937] successful NUMA node read from SysFS had negative value (-1), but there must be at least one NUMA node, so returning NUMA node zero\n",
      "2022-04-11 01:38:04.798325: I tensorflow/stream_executor/cuda/cuda_gpu_executor.cc:937] successful NUMA node read from SysFS had negative value (-1), but there must be at least one NUMA node, so returning NUMA node zero\n",
      "2022-04-11 01:38:05.558738: I tensorflow/stream_executor/cuda/cuda_gpu_executor.cc:937] successful NUMA node read from SysFS had negative value (-1), but there must be at least one NUMA node, so returning NUMA node zero\n",
      "2022-04-11 01:38:05.558984: I tensorflow/stream_executor/cuda/cuda_gpu_executor.cc:937] successful NUMA node read from SysFS had negative value (-1), but there must be at least one NUMA node, so returning NUMA node zero\n",
      "2022-04-11 01:38:05.559136: I tensorflow/stream_executor/cuda/cuda_gpu_executor.cc:937] successful NUMA node read from SysFS had negative value (-1), but there must be at least one NUMA node, so returning NUMA node zero\n",
      "2022-04-11 01:38:05.559254: I tensorflow/core/common_runtime/gpu/gpu_device.cc:1510] Created device /job:localhost/replica:0/task:0/device:GPU:0 with 9640 MB memory:  -> device: 0, name: NVIDIA GeForce RTX 2080 Ti, pci bus id: 0000:08:00.0, compute capability: 7.5\n"
     ]
    }
   ],
   "source": [
    "model = models.Sequential([\n",
    "    layers.Input([2]),\n",
    "    layers.Dense(1)\n",
    "])\n",
    "model.summary()"
   ]
  },
  {
   "cell_type": "code",
   "execution_count": 13,
   "metadata": {},
   "outputs": [
    {
     "data": {
      "image/png": "[encoded data removed]",
      "text/plain": [
       "<IPython.core.display.Image object>"
      ]
     },
     "execution_count": 13,
     "metadata": {},
     "output_type": "execute_result"
    }
   ],
   "source": [
    "utils.plot_model(model, 'model.png', show_shapes=True)"
   ]
  },
  {
   "cell_type": "code",
   "execution_count": 14,
   "metadata": {},
   "outputs": [],
   "source": [
    "model.compile(\n",
    "    loss=tf.keras.losses.MeanSquaredError(),\n",
    "    optimizer=tf.keras.optimizers.SGD(1e-5)\n",
    ")"
   ]
  },
  {
   "cell_type": "markdown",
   "metadata": {},
   "source": [
    "## Training"
   ]
  },
  {
   "cell_type": "code",
   "execution_count": 15,
   "metadata": {
    "scrolled": true
   },
   "outputs": [
    {
     "name": "stderr",
     "output_type": "stream",
     "text": [
      "2022-04-11 01:38:08.477993: I tensorflow/compiler/mlir/mlir_graph_optimization_pass.cc:185] None of the MLIR Optimization Passes are enabled (registered 2)\n"
     ]
    },
    {
     "name": "stdout",
     "output_type": "stream",
     "text": [
      "Epoch 1/50\n",
      "8/8 [==============================] - 0s 1ms/step - loss: 769.3016\n",
      "Epoch 2/50\n",
      "8/8 [==============================] - 0s 933us/step - loss: 657.5964\n",
      "Epoch 3/50\n",
      "8/8 [==============================] - 0s 869us/step - loss: 564.3725\n",
      "Epoch 4/50\n",
      "8/8 [==============================] - 0s 882us/step - loss: 484.1314\n",
      "Epoch 5/50\n",
      "8/8 [==============================] - 0s 879us/step - loss: 415.3416\n",
      "Epoch 6/50\n",
      "8/8 [==============================] - 0s 882us/step - loss: 357.0910\n",
      "Epoch 7/50\n",
      "8/8 [==============================] - 0s 842us/step - loss: 306.2531\n",
      "Epoch 8/50\n",
      "8/8 [==============================] - 0s 850us/step - loss: 263.2169\n",
      "Epoch 9/50\n",
      "8/8 [==============================] - 0s 866us/step - loss: 226.1897\n",
      "Epoch 10/50\n",
      "8/8 [==============================] - 0s 853us/step - loss: 194.6016\n",
      "Epoch 11/50\n",
      "8/8 [==============================] - 0s 809us/step - loss: 167.0591\n",
      "Epoch 12/50\n",
      "8/8 [==============================] - 0s 882us/step - loss: 143.5503\n",
      "Epoch 13/50\n",
      "8/8 [==============================] - 0s 810us/step - loss: 123.5703\n",
      "Epoch 14/50\n",
      "8/8 [==============================] - 0s 919us/step - loss: 106.2256\n",
      "Epoch 15/50\n",
      "8/8 [==============================] - 0s 903us/step - loss: 91.4482\n",
      "Epoch 16/50\n",
      "8/8 [==============================] - 0s 916us/step - loss: 78.6324\n",
      "Epoch 17/50\n",
      "8/8 [==============================] - 0s 866us/step - loss: 67.7059\n",
      "Epoch 18/50\n",
      "8/8 [==============================] - 0s 903us/step - loss: 58.3432\n",
      "Epoch 19/50\n",
      "8/8 [==============================] - 0s 884us/step - loss: 50.1965\n",
      "Epoch 20/50\n",
      "8/8 [==============================] - 0s 899us/step - loss: 43.3861\n",
      "Epoch 21/50\n",
      "8/8 [==============================] - 0s 857us/step - loss: 37.5379\n",
      "Epoch 22/50\n",
      "8/8 [==============================] - 0s 858us/step - loss: 32.4968\n",
      "Epoch 23/50\n",
      "8/8 [==============================] - 0s 878us/step - loss: 28.1010\n",
      "Epoch 24/50\n",
      "8/8 [==============================] - 0s 891us/step - loss: 24.3937\n",
      "Epoch 25/50\n",
      "8/8 [==============================] - 0s 884us/step - loss: 21.2020\n",
      "Epoch 26/50\n",
      "8/8 [==============================] - 0s 869us/step - loss: 18.4956\n",
      "Epoch 27/50\n",
      "8/8 [==============================] - 0s 873us/step - loss: 16.1480\n",
      "Epoch 28/50\n",
      "8/8 [==============================] - 0s 936us/step - loss: 14.1257\n",
      "Epoch 29/50\n",
      "8/8 [==============================] - 0s 903us/step - loss: 12.4076\n",
      "Epoch 30/50\n",
      "8/8 [==============================] - 0s 905us/step - loss: 10.8996\n",
      "Epoch 31/50\n",
      "8/8 [==============================] - 0s 905us/step - loss: 9.6026\n",
      "Epoch 32/50\n",
      "8/8 [==============================] - 0s 851us/step - loss: 8.5137\n",
      "Epoch 33/50\n",
      "8/8 [==============================] - 0s 922us/step - loss: 7.5917\n",
      "Epoch 34/50\n",
      "8/8 [==============================] - 0s 882us/step - loss: 6.7961\n",
      "Epoch 35/50\n",
      "8/8 [==============================] - 0s 886us/step - loss: 6.0966\n",
      "Epoch 36/50\n",
      "8/8 [==============================] - 0s 903us/step - loss: 5.5035\n",
      "Epoch 37/50\n",
      "8/8 [==============================] - 0s 872us/step - loss: 4.9839\n",
      "Epoch 38/50\n",
      "8/8 [==============================] - 0s 824us/step - loss: 4.5529\n",
      "Epoch 39/50\n",
      "8/8 [==============================] - 0s 821us/step - loss: 4.1734\n",
      "Epoch 40/50\n",
      "8/8 [==============================] - 0s 1ms/step - loss: 3.8502\n",
      "Epoch 41/50\n",
      "8/8 [==============================] - 0s 877us/step - loss: 3.5639\n",
      "Epoch 42/50\n",
      "8/8 [==============================] - 0s 866us/step - loss: 3.3219\n",
      "Epoch 43/50\n",
      "8/8 [==============================] - 0s 848us/step - loss: 3.1182\n",
      "Epoch 44/50\n",
      "8/8 [==============================] - 0s 1ms/step - loss: 2.9462\n",
      "Epoch 45/50\n",
      "8/8 [==============================] - 0s 834us/step - loss: 2.7905\n",
      "Epoch 46/50\n",
      "8/8 [==============================] - 0s 869us/step - loss: 2.6659\n",
      "Epoch 47/50\n",
      "8/8 [==============================] - 0s 850us/step - loss: 2.5529\n",
      "Epoch 48/50\n",
      "8/8 [==============================] - 0s 852us/step - loss: 2.4633\n",
      "Epoch 49/50\n",
      "8/8 [==============================] - 0s 898us/step - loss: 2.3861\n",
      "Epoch 50/50\n",
      "8/8 [==============================] - 0s 908us/step - loss: 2.3173\n"
     ]
    }
   ],
   "source": [
    "history = model.fit(\n",
    "    data, label, epochs=50\n",
    ")"
   ]
  },
  {
   "cell_type": "code",
   "execution_count": 16,
   "metadata": {},
   "outputs": [
    {
     "data": {
      "image/png": "[encoded data removed]",
      "text/plain": [
       "<Figure size 432x288 with 1 Axes>"
      ]
     },
     "metadata": {},
     "output_type": "display_data"
    }
   ],
   "source": [
    "plt.xlabel(\"Epoch\")\n",
    "plt.ylabel(\"Loss\")\n",
    "plt.plot(history.history[\"loss\"])\n",
    "plt.show()"
   ]
  },
  {
   "cell_type": "markdown",
   "metadata": {},
   "source": [
    "## Predict"
   ]
  },
  {
   "cell_type": "code",
   "execution_count": 23,
   "metadata": {
    "tags": []
   },
   "outputs": [],
   "source": [
    "errors = []\n",
    "for itemData, itemLabel in zip(data, label):\n",
    "    predicted = model.predict([itemData.tolist()])\n",
    "    tip = itemLabel.item()\n",
    "    tipPred = predicted.item()\n",
    "    errors.append(tip - tipPred)"
   ]
  },
  {
   "cell_type": "code",
   "execution_count": 24,
   "metadata": {},
   "outputs": [
    {
     "data": {
      "text/plain": [
       "1.092623234361899"
      ]
     },
     "execution_count": 24,
     "metadata": {},
     "output_type": "execute_result"
    }
   ],
   "source": [
    "np.average(np.abs(errors))"
   ]
  },
  {
   "cell_type": "code",
   "execution_count": 26,
   "metadata": {},
   "outputs": [],
   "source": [
    "# errors"
   ]
  },
  {
   "cell_type": "code",
   "execution_count": null,
   "metadata": {},
   "outputs": [],
   "source": []
  }
 ],
 "metadata": {
  "kernelspec": {
   "display_name": "Python 3 (ipykernel)",
   "language": "python",
   "name": "python3"
  },
  "language_info": {
   "codemirror_mode": {
    "name": "ipython",
    "version": 3
   },
   "file_extension": ".py",
   "mimetype": "text/x-python",
   "name": "python",
   "nbconvert_exporter": "python",
   "pygments_lexer": "ipython3",
   "version": "3.9.9"
  },
  "toc-autonumbering": true
 },
 "nbformat": 4,
 "nbformat_minor": 4
}
