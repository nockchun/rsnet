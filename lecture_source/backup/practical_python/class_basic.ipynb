{
 "cells": [
  {
   "cell_type": "markdown",
   "id": "female-stake",
   "metadata": {},
   "source": [
    "<div class=\"alert alert-block alert-success\">\n",
    "    <b><center>Class Basic</center></b>\n",
    "</div>"
   ]
  },
  {
   "cell_type": "markdown",
   "id": "nominated-thanksgiving",
   "metadata": {},
   "source": [
    "# Configure Environment"
   ]
  },
  {
   "cell_type": "markdown",
   "id": "linear-mountain",
   "metadata": {},
   "source": [
    "# Class"
   ]
  },
  {
   "cell_type": "code",
   "execution_count": 14,
   "id": "alone-crash",
   "metadata": {},
   "outputs": [],
   "source": [
    "class Basic():\n",
    "    def __init__(self):\n",
    "        self.data = []\n",
    "    \n",
    "    def getData(self):\n",
    "        return self.data\n",
    "    \n",
    "    def addData(self, val):\n",
    "        self.data.append(val)\n",
    "    \n",
    "    def addDatas(self, val):\n",
    "        self.addData(val)\n",
    "        return self"
   ]
  },
  {
   "cell_type": "code",
   "execution_count": 28,
   "id": "metric-madison",
   "metadata": {},
   "outputs": [],
   "source": [
    "b = Basic()"
   ]
  },
  {
   "cell_type": "code",
   "execution_count": 29,
   "id": "divine-harvest",
   "metadata": {},
   "outputs": [
    {
     "data": {
      "text/plain": [
       "[]"
      ]
     },
     "execution_count": 29,
     "metadata": {},
     "output_type": "execute_result"
    }
   ],
   "source": [
    "b.getData()"
   ]
  },
  {
   "cell_type": "code",
   "execution_count": 30,
   "id": "failing-perfume",
   "metadata": {},
   "outputs": [
    {
     "data": {
      "text/plain": [
       "[3]"
      ]
     },
     "execution_count": 30,
     "metadata": {},
     "output_type": "execute_result"
    }
   ],
   "source": [
    "b.addData(3)\n",
    "b.getData()"
   ]
  },
  {
   "cell_type": "code",
   "execution_count": 31,
   "id": "russian-mention",
   "metadata": {},
   "outputs": [
    {
     "data": {
      "text/plain": [
       "[3, 6]"
      ]
     },
     "execution_count": 31,
     "metadata": {},
     "output_type": "execute_result"
    }
   ],
   "source": [
    "b.addData(6)\n",
    "b.getData()"
   ]
  },
  {
   "cell_type": "code",
   "execution_count": 32,
   "id": "geological-elder",
   "metadata": {},
   "outputs": [
    {
     "data": {
      "text/plain": [
       "[3, 6, 4, 5]"
      ]
     },
     "execution_count": 32,
     "metadata": {},
     "output_type": "execute_result"
    }
   ],
   "source": [
    "b.addDatas(4).addData(5)\n",
    "b.getData()"
   ]
  },
  {
   "cell_type": "code",
   "execution_count": 33,
   "id": "loved-executive",
   "metadata": {},
   "outputs": [
    {
     "data": {
      "text/plain": [
       "<__main__.Basic at 0x7f95e0035550>"
      ]
     },
     "execution_count": 33,
     "metadata": {},
     "output_type": "execute_result"
    }
   ],
   "source": [
    "b"
   ]
  },
  {
   "cell_type": "markdown",
   "id": "intellectual-inclusion",
   "metadata": {},
   "source": [
    "# Special Method"
   ]
  },
  {
   "cell_type": "code",
   "execution_count": 34,
   "id": "boolean-cooperation",
   "metadata": {},
   "outputs": [],
   "source": [
    "class Demo():\n",
    "    def __init__(self, name):\n",
    "        self.name = name\n",
    "        self.data = [1, 2, 3]\n",
    "    \n",
    "    def myFunc(self, name):\n",
    "        return f\"myFunc: {name}\"\n",
    "    \n",
    "    def __repr__(self):\n",
    "        return f\"name is {self.name}\"\n",
    "    \n",
    "    def __call__(self, val):\n",
    "        print(f\"__call__: {val}\")\n",
    "    \n",
    "    def __add__(self, other):\n",
    "        return f\"me is {self.name}, other is {other.name}\"\n",
    "    \n",
    "    def __len__(self):\n",
    "        return len(self.data)\n",
    "    \n",
    "    def __getitem__(self, position):\n",
    "        return f\"{self.name}_{self.data[position]}\""
   ]
  },
  {
   "cell_type": "code",
   "execution_count": 35,
   "id": "tight-shape",
   "metadata": {},
   "outputs": [],
   "source": [
    "a = Demo(\"home\")\n",
    "b = Demo(\"school\")"
   ]
  },
  {
   "cell_type": "code",
   "execution_count": 43,
   "id": "featured-coupon",
   "metadata": {},
   "outputs": [
    {
     "data": {
      "text/plain": [
       "name is home"
      ]
     },
     "execution_count": 43,
     "metadata": {},
     "output_type": "execute_result"
    }
   ],
   "source": [
    "a"
   ]
  },
  {
   "cell_type": "code",
   "execution_count": 44,
   "id": "eastern-organ",
   "metadata": {},
   "outputs": [
    {
     "data": {
      "text/plain": [
       "'myFunc: good'"
      ]
     },
     "execution_count": 44,
     "metadata": {},
     "output_type": "execute_result"
    }
   ],
   "source": [
    "a.myFunc(\"good\")"
   ]
  },
  {
   "cell_type": "code",
   "execution_count": 45,
   "id": "christian-shaft",
   "metadata": {},
   "outputs": [
    {
     "name": "stdout",
     "output_type": "stream",
     "text": [
      "__call__: good\n"
     ]
    }
   ],
   "source": [
    "a(\"good\")"
   ]
  },
  {
   "cell_type": "code",
   "execution_count": 47,
   "id": "municipal-grammar",
   "metadata": {},
   "outputs": [
    {
     "data": {
      "text/plain": [
       "'me is home, other is school'"
      ]
     },
     "execution_count": 47,
     "metadata": {},
     "output_type": "execute_result"
    }
   ],
   "source": [
    "a+b"
   ]
  },
  {
   "cell_type": "code",
   "execution_count": 48,
   "id": "analyzed-newfoundland",
   "metadata": {},
   "outputs": [
    {
     "name": "stdout",
     "output_type": "stream",
     "text": [
      "home_1\n",
      "home_2\n",
      "home_3\n"
     ]
    }
   ],
   "source": [
    "for item in a:\n",
    "    print(item)"
   ]
  },
  {
   "cell_type": "code",
   "execution_count": 52,
   "id": "explicit-category",
   "metadata": {},
   "outputs": [
    {
     "data": {
      "text/plain": [
       "'home_2'"
      ]
     },
     "execution_count": 52,
     "metadata": {},
     "output_type": "execute_result"
    }
   ],
   "source": [
    "a[1]"
   ]
  },
  {
   "cell_type": "code",
   "execution_count": null,
   "id": "modified-guard",
   "metadata": {},
   "outputs": [],
   "source": []
  },
  {
   "cell_type": "code",
   "execution_count": null,
   "id": "integrated-utility",
   "metadata": {},
   "outputs": [],
   "source": []
  }
 ],
 "metadata": {
  "kernelspec": {
   "display_name": "Python 3",
   "language": "python",
   "name": "python3"
  },
  "language_info": {
   "codemirror_mode": {
    "name": "ipython",
    "version": 3
   },
   "file_extension": ".py",
   "mimetype": "text/x-python",
   "name": "python",
   "nbconvert_exporter": "python",
   "pygments_lexer": "ipython3",
   "version": "3.8.5"
  }
 },
 "nbformat": 4,
 "nbformat_minor": 5
}
