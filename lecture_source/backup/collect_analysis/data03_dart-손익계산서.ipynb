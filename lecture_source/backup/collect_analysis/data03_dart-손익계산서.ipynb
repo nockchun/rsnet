{
 "cells": [
  {
   "cell_type": "code",
   "execution_count": 1,
   "metadata": {},
   "outputs": [],
   "source": [
    "#!pip install git+https://github.com/nockchun/rspy --force\n",
    "import rspy as rsp\n",
    "rsp.setSystemWarning(off=True)"
   ]
  },
  {
   "cell_type": "code",
   "execution_count": 2,
   "metadata": {},
   "outputs": [],
   "source": [
    "import os\n",
    "from glob import glob\n",
    "import pandas as pd"
   ]
  },
  {
   "cell_type": "markdown",
   "metadata": {},
   "source": [
    "# 손익계산서 가져오기"
   ]
  },
  {
   "cell_type": "code",
   "execution_count": 3,
   "metadata": {},
   "outputs": [],
   "source": [
    "DATA_YEAR = \"2020\"\n",
    "DATA_QUARTER = \"1Q\""
   ]
  },
  {
   "cell_type": "code",
   "execution_count": 4,
   "metadata": {},
   "outputs": [],
   "source": [
    "dfs = []\n",
    "for file in glob(f\"data/{DATA_YEAR}_{DATA_QUARTER}_PL_*/*\"):\n",
    "    df = pd.read_csv(file, sep='\\t', encoding='cp949')\n",
    "    df = df.rename(columns={\n",
    "        \"당기 1분기 3개월\" : \"당기\",\n",
    "        \"당기 반기 3개월\" : \"당기\",\n",
    "        \"당기 3분기 3개월\" : \"당기\"\n",
    "    })\n",
    "    dfs.append(df[[\"재무제표종류\", \"종목코드\", \"항목명\", \"당기\"]])"
   ]
  },
  {
   "cell_type": "code",
   "execution_count": 5,
   "metadata": {},
   "outputs": [
    {
     "data": {
      "text/html": [
       "<div>\n",
       "<style scoped>\n",
       "    .dataframe tbody tr th:only-of-type {\n",
       "        vertical-align: middle;\n",
       "    }\n",
       "\n",
       "    .dataframe tbody tr th {\n",
       "        vertical-align: top;\n",
       "    }\n",
       "\n",
       "    .dataframe thead th {\n",
       "        text-align: right;\n",
       "    }\n",
       "</style>\n",
       "<table border=\"1\" class=\"dataframe\">\n",
       "  <thead>\n",
       "    <tr style=\"text-align: right;\">\n",
       "      <th></th>\n",
       "      <th>재무제표종류</th>\n",
       "      <th>종목코드</th>\n",
       "      <th>항목명</th>\n",
       "      <th>당기</th>\n",
       "    </tr>\n",
       "  </thead>\n",
       "  <tbody>\n",
       "    <tr>\n",
       "      <th>0</th>\n",
       "      <td>포괄손익계산서, 기능별 분류(세후기타포괄손익) - 별도재무제표</td>\n",
       "      <td>[095570]</td>\n",
       "      <td>영업수익</td>\n",
       "      <td>107,018,343,206</td>\n",
       "    </tr>\n",
       "    <tr>\n",
       "      <th>0</th>\n",
       "      <td>포괄손익계산서, 기능별 분류(세후기타포괄손익) - 연결재무제표</td>\n",
       "      <td>[095570]</td>\n",
       "      <td>영업수익</td>\n",
       "      <td>316,655,908,554</td>\n",
       "    </tr>\n",
       "    <tr>\n",
       "      <th>0</th>\n",
       "      <td>손익계산서, 기능별 분류 - 별도재무제표</td>\n",
       "      <td>[001040]</td>\n",
       "      <td>영업수익</td>\n",
       "      <td>69,748,436,000</td>\n",
       "    </tr>\n",
       "    <tr>\n",
       "      <th>0</th>\n",
       "      <td>손익계산서, 기능별 분류 - 연결재무제표</td>\n",
       "      <td>[001040]</td>\n",
       "      <td>수익(매출액)</td>\n",
       "      <td>7,840,010,949,000</td>\n",
       "    </tr>\n",
       "  </tbody>\n",
       "</table>\n",
       "</div>"
      ],
      "text/plain": [
       "                               재무제표종류      종목코드      항목명                 당기\n",
       "0  포괄손익계산서, 기능별 분류(세후기타포괄손익) - 별도재무제표  [095570]     영업수익    107,018,343,206\n",
       "0  포괄손익계산서, 기능별 분류(세후기타포괄손익) - 연결재무제표  [095570]     영업수익    316,655,908,554\n",
       "0              손익계산서, 기능별 분류 - 별도재무제표  [001040]     영업수익     69,748,436,000\n",
       "0              손익계산서, 기능별 분류 - 연결재무제표  [001040]  수익(매출액)  7,840,010,949,000"
      ]
     },
     "execution_count": 5,
     "metadata": {},
     "output_type": "execute_result"
    }
   ],
   "source": [
    "pd.concat([dfs[0].head(1), dfs[1].head(1), dfs[2].head(1), dfs[3].head(1)])"
   ]
  },
  {
   "cell_type": "markdown",
   "metadata": {},
   "source": [
    "# 데이터 전처리"
   ]
  },
  {
   "cell_type": "code",
   "execution_count": 6,
   "metadata": {},
   "outputs": [],
   "source": [
    "for df in dfs:\n",
    "    df[\"보고년도\"] = DATA_YEAR\n",
    "    df[\"보고분기\"] = DATA_QUARTER\n",
    "    df[\"연결유무\"] = False\n",
    "    df[\"포괄유무\"] = False\n",
    "    df.당기 = df.당기.str.replace(\",\", \"\").astype(float)\n",
    "    df.fillna(0, inplace=True)    "
   ]
  },
  {
   "cell_type": "code",
   "execution_count": 7,
   "metadata": {},
   "outputs": [],
   "source": [
    "def fixData(row):\n",
    "    try:\n",
    "        row.연결유무 = \"연결재무제표\" in row.재무제표종류\n",
    "        row.포괄유무  = \"포괄손익계산서\" in row.재무제표종류\n",
    "        row.종목코드 = row.종목코드[1:-1]\n",
    "        row.보고분기 = DATA_QUARTER\n",
    "        row.항목명 = str(row.항목명).strip()\n",
    "    except:\n",
    "        print(row)\n",
    "    return row;"
   ]
  },
  {
   "cell_type": "code",
   "execution_count": 8,
   "metadata": {},
   "outputs": [],
   "source": [
    "dfs_final = []\n",
    "for df in dfs:\n",
    "    df = df.apply(fixData, axis=1)\n",
    "    df = df[[\n",
    "        \"종목코드\", \"연결유무\", \"포괄유무\", \"보고년도\", \"보고분기\", \"항목명\", \"당기\"\n",
    "    ]]\n",
    "    df = df.astype({\n",
    "        \"종목코드\":\"str\", \"연결유무\":\"boolean\", \"포괄유무\":\"boolean\", \"보고년도\":\"str\", \"보고분기\":\"str\", \"항목명\":\"str\", \"당기\":\"int64\"\n",
    "    })\n",
    "    dfs_final.append(df)"
   ]
  },
  {
   "cell_type": "markdown",
   "metadata": {},
   "source": [
    "# DB에 저장."
   ]
  },
  {
   "cell_type": "code",
   "execution_count": 9,
   "metadata": {},
   "outputs": [],
   "source": [
    "rows = []\n",
    "for df in dfs_final:\n",
    "    for index, row in df.iterrows():\n",
    "        rows.append(tuple(row))"
   ]
  },
  {
   "cell_type": "code",
   "execution_count": 10,
   "metadata": {},
   "outputs": [
    {
     "data": {
      "text/plain": [
       "[('095570', False, True, '2020', '1Q', '영업수익', 107018343206),\n",
       " ('095570', False, True, '2020', '1Q', '영업비용', 96020522594),\n",
       " ('095570', False, True, '2020', '1Q', '영업이익(손실)', 10997820612),\n",
       " ('095570', False, True, '2020', '1Q', '기타수익', 1043783837),\n",
       " ('095570', False, True, '2020', '1Q', '기타비용', 2803423891)]"
      ]
     },
     "execution_count": 10,
     "metadata": {},
     "output_type": "execute_result"
    }
   ],
   "source": [
    "rows[:5]"
   ]
  },
  {
   "cell_type": "code",
   "execution_count": 11,
   "metadata": {},
   "outputs": [],
   "source": [
    "db = rsp.PGManager()"
   ]
  },
  {
   "cell_type": "code",
   "execution_count": 12,
   "metadata": {},
   "outputs": [],
   "source": [
    "db.createPool(\"postgres\", \"postgres\", \"postgres\", \"192.168.0.200\")\n",
    "db.setMapper(\"mapper.xml\")"
   ]
  },
  {
   "cell_type": "code",
   "execution_count": 13,
   "metadata": {},
   "outputs": [],
   "source": [
    "db.executeMany(\"inStateProfitLoss\", rows)"
   ]
  },
  {
   "cell_type": "code",
   "execution_count": null,
   "metadata": {},
   "outputs": [],
   "source": []
  }
 ],
 "metadata": {
  "kernelspec": {
   "display_name": "Python 3",
   "language": "python",
   "name": "python3"
  },
  "language_info": {
   "codemirror_mode": {
    "name": "ipython",
    "version": 3
   },
   "file_extension": ".py",
   "mimetype": "text/x-python",
   "name": "python",
   "nbconvert_exporter": "python",
   "pygments_lexer": "ipython3",
   "version": "3.7.7"
  },
  "toc-autonumbering": true
 },
 "nbformat": 4,
 "nbformat_minor": 4
}
