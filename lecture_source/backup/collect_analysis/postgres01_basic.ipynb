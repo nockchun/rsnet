{
 "cells": [
  {
   "cell_type": "markdown",
   "metadata": {},
   "source": [
    "<div class=\"alert alert-block alert-success\">\n",
    "    <b><center>PostgreSQL</center></b>\n",
    "    <b><center>Python을 이용한 RDB 프로그래밍 기본</center></b>\n",
    "</div>"
   ]
  },
  {
   "cell_type": "code",
   "execution_count": 232,
   "metadata": {},
   "outputs": [],
   "source": [
    "import psycopg2\n",
    "import pandas as pd\n",
    "import numpy as np\n",
    "\n",
    "from psycopg2 import pool\n",
    "import mybatis_mapper2sql\n",
    "from multiprocessing import Process"
   ]
  },
  {
   "cell_type": "code",
   "execution_count": 224,
   "metadata": {},
   "outputs": [],
   "source": [
    "class PGManager(object):\n",
    "    def __new__(self):\n",
    "        if not hasattr(self, 'instance'):\n",
    "            self.instance = super(PGManager, self).__new__(self)\n",
    "            self.__connection_pool = None\n",
    "        return self.instance\n",
    "    \n",
    "    def createPool(self, user, passwd, db, host, minCon=5, maxCon=20, port=5432):\n",
    "        self.close()\n",
    "        self.__connection_pool = pool.SimpleConnectionPool(\n",
    "            minCon, maxCon, user = user, password=passwd,\n",
    "            host=host, port=port, database=db)\n",
    "    \n",
    "    def close(self):\n",
    "        if (self.__connection_pool):\n",
    "            self.__connection_pool.closeall()\n",
    "    \n",
    "    def setMapper(self, xmlMapperFile):\n",
    "        self._mapper, _ = mybatis_mapper2sql.create_mapper(xml=xmlMapperFile)\n",
    "    \n",
    "    def query(self, mapId, params=None):\n",
    "        connection = self.__connection_pool.getconn()\n",
    "        cursor = connection.cursor()\n",
    "        statement = mybatis_mapper2sql.get_child_statement(self._mapper, mapId)\n",
    "        cursor.execute(statement, params)\n",
    "        records = cursor.fetchall()\n",
    "        cursor.close()\n",
    "        self.__connection_pool.putconn(connection)\n",
    "        \n",
    "        return records\n",
    "    \n",
    "    def execute(self, mapId, params=None):\n",
    "        connection = self.__connection_pool.getconn()\n",
    "        cursor = connection.cursor()\n",
    "        statement = mybatis_mapper2sql.get_child_statement(self._mapper, mapId)\n",
    "        cursor.execute(statement, params)\n",
    "        cursor.close()\n",
    "        connection.commit()\n",
    "        self.__connection_pool.putconn(connection)\n",
    "    \n",
    "    def executeMany(self, mapId, paramsList):\n",
    "        connection = self.__connection_pool.getconn()\n",
    "        cursor = connection.cursor()\n",
    "        statement = mybatis_mapper2sql.get_child_statement(self._mapper, mapId)\n",
    "        cursor.executemany(statement, paramsList)\n",
    "        cursor.close()\n",
    "        connection.commit()\n",
    "        self.__connection_pool.putconn(connection)\n",
    "    \n",
    "    def asyncExecuteMany(self, mapper, mapId, paramsList):\n",
    "        p = Process(target=self.executeMany, args=(mapId, paramsList))\n",
    "        p.start()\n",
    "        p.join()"
   ]
  },
  {
   "cell_type": "code",
   "execution_count": 225,
   "metadata": {},
   "outputs": [],
   "source": [
    "db = PGManager()"
   ]
  },
  {
   "cell_type": "code",
   "execution_count": 226,
   "metadata": {},
   "outputs": [],
   "source": [
    "db.createPool(\"postgres\", \"postgres\", \"postgres\", \"192.168.0.200\")\n",
    "db.setMapper(\"mapper.xml\")"
   ]
  },
  {
   "cell_type": "code",
   "execution_count": 227,
   "metadata": {},
   "outputs": [],
   "source": [
    "db.execute(\"initDB\")"
   ]
  },
  {
   "cell_type": "markdown",
   "metadata": {},
   "source": [
    "# xls를 DB에 저장."
   ]
  },
  {
   "cell_type": "code",
   "execution_count": 228,
   "metadata": {},
   "outputs": [],
   "source": [
    "df = pd.read_excel(\"유가증권.xlsx\", encoding=\"utf-8\", dtype={\"종목코드\":str})\n",
    "df.fillna(\"\", inplace = True) "
   ]
  },
  {
   "cell_type": "code",
   "execution_count": 229,
   "metadata": {},
   "outputs": [
    {
     "data": {
      "text/html": [
       "<div>\n",
       "<style scoped>\n",
       "    .dataframe tbody tr th:only-of-type {\n",
       "        vertical-align: middle;\n",
       "    }\n",
       "\n",
       "    .dataframe tbody tr th {\n",
       "        vertical-align: top;\n",
       "    }\n",
       "\n",
       "    .dataframe thead th {\n",
       "        text-align: right;\n",
       "    }\n",
       "</style>\n",
       "<table border=\"1\" class=\"dataframe\">\n",
       "  <thead>\n",
       "    <tr style=\"text-align: right;\">\n",
       "      <th></th>\n",
       "      <th>회사명</th>\n",
       "      <th>종목코드</th>\n",
       "      <th>업종</th>\n",
       "      <th>주요제품</th>\n",
       "      <th>상장일</th>\n",
       "      <th>결산월</th>\n",
       "      <th>대표자명</th>\n",
       "      <th>홈페이지</th>\n",
       "      <th>지역</th>\n",
       "    </tr>\n",
       "  </thead>\n",
       "  <tbody>\n",
       "    <tr>\n",
       "      <th>0</th>\n",
       "      <td>에스케이바이오팜</td>\n",
       "      <td>326030</td>\n",
       "      <td>자연과학 및 공학 연구개발업</td>\n",
       "      <td>신경질환 및 정신질환을 포함한 중추신경 관련 신약 개발</td>\n",
       "      <td>2020-07-02</td>\n",
       "      <td>12월</td>\n",
       "      <td>조정우</td>\n",
       "      <td></td>\n",
       "      <td>경기도</td>\n",
       "    </tr>\n",
       "    <tr>\n",
       "      <th>1</th>\n",
       "      <td>대덕전자</td>\n",
       "      <td>353200</td>\n",
       "      <td>전자부품 제조업</td>\n",
       "      <td>PCB(Printed Circuit Board, 인쇄회로기판)의 제조 및 판매</td>\n",
       "      <td>2020-05-21</td>\n",
       "      <td>12월</td>\n",
       "      <td>신영환</td>\n",
       "      <td>http://www.daeduck.com</td>\n",
       "      <td>경기도</td>\n",
       "    </tr>\n",
       "    <tr>\n",
       "      <th>2</th>\n",
       "      <td>케이씨씨글라스</td>\n",
       "      <td>344820</td>\n",
       "      <td>유리 및 유리제품 제조업</td>\n",
       "      <td>판유리 등</td>\n",
       "      <td>2020-01-21</td>\n",
       "      <td>12월</td>\n",
       "      <td>김내환</td>\n",
       "      <td>http://www.kccglass.co.kr</td>\n",
       "      <td>서울특별시</td>\n",
       "    </tr>\n",
       "    <tr>\n",
       "      <th>3</th>\n",
       "      <td>NH프라임리츠</td>\n",
       "      <td>338100</td>\n",
       "      <td>부동산 임대 및 공급업</td>\n",
       "      <td>부동산 투자</td>\n",
       "      <td>2019-12-05</td>\n",
       "      <td>11월</td>\n",
       "      <td>권오성</td>\n",
       "      <td>http://www.nhreits.com</td>\n",
       "      <td>서울특별시</td>\n",
       "    </tr>\n",
       "    <tr>\n",
       "      <th>4</th>\n",
       "      <td>센트랄모텍</td>\n",
       "      <td>308170</td>\n",
       "      <td>자동차 신품 부품 제조업</td>\n",
       "      <td>이너레이스, 오디 클러치보스, 로터샤프트, 슬리브기어, 컨트롤 암, 엑슬</td>\n",
       "      <td>2019-11-25</td>\n",
       "      <td>12월</td>\n",
       "      <td>이종철, 강태룡</td>\n",
       "      <td>http://www.centralmotek.co.kr</td>\n",
       "      <td>울산광역시</td>\n",
       "    </tr>\n",
       "  </tbody>\n",
       "</table>\n",
       "</div>"
      ],
      "text/plain": [
       "        회사명    종목코드               업종  \\\n",
       "0  에스케이바이오팜  326030  자연과학 및 공학 연구개발업   \n",
       "1      대덕전자  353200         전자부품 제조업   \n",
       "2   케이씨씨글라스  344820    유리 및 유리제품 제조업   \n",
       "3   NH프라임리츠  338100     부동산 임대 및 공급업   \n",
       "4     센트랄모텍  308170    자동차 신품 부품 제조업   \n",
       "\n",
       "                                          주요제품        상장일  결산월      대표자명  \\\n",
       "0               신경질환 및 정신질환을 포함한 중추신경 관련 신약 개발 2020-07-02  12월       조정우   \n",
       "1  PCB(Printed Circuit Board, 인쇄회로기판)의 제조 및 판매 2020-05-21  12월       신영환   \n",
       "2                                        판유리 등 2020-01-21  12월       김내환   \n",
       "3                                       부동산 투자 2019-12-05  11월       권오성   \n",
       "4     이너레이스, 오디 클러치보스, 로터샤프트, 슬리브기어, 컨트롤 암, 엑슬 2019-11-25  12월  이종철, 강태룡   \n",
       "\n",
       "                            홈페이지     지역  \n",
       "0                                   경기도  \n",
       "1         http://www.daeduck.com    경기도  \n",
       "2      http://www.kccglass.co.kr  서울특별시  \n",
       "3         http://www.nhreits.com  서울특별시  \n",
       "4  http://www.centralmotek.co.kr  울산광역시  "
      ]
     },
     "execution_count": 229,
     "metadata": {},
     "output_type": "execute_result"
    }
   ],
   "source": [
    "df.head()"
   ]
  },
  {
   "cell_type": "code",
   "execution_count": 230,
   "metadata": {},
   "outputs": [],
   "source": [
    "params = []\n",
    "for item in df.to_numpy():\n",
    "    params.append((str(item[1]), item[0], item[2], item[3], str(item[4]), item[5][:-1], item[6], item[7], item[8], False))"
   ]
  },
  {
   "cell_type": "code",
   "execution_count": 231,
   "metadata": {},
   "outputs": [],
   "source": [
    "db.executeMany(\"inCorporation\", params)"
   ]
  },
  {
   "cell_type": "markdown",
   "metadata": {},
   "source": [
    "# 각종 쿼리"
   ]
  },
  {
   "cell_type": "code",
   "execution_count": 233,
   "metadata": {},
   "outputs": [],
   "source": [
    "a = \"20180530\"\n",
    "b = \"20180601\""
   ]
  },
  {
   "cell_type": "code",
   "execution_count": 235,
   "metadata": {},
   "outputs": [
    {
     "data": {
      "text/plain": [
       "False"
      ]
     },
     "execution_count": 235,
     "metadata": {},
     "output_type": "execute_result"
    }
   ],
   "source": [
    "d = datetime.datetime.strptime('2018-05-19', '%Y-%m-%d')"
   ]
  },
  {
   "cell_type": "code",
   "execution_count": 236,
   "metadata": {},
   "outputs": [],
   "source": [
    "a = {\"1\":\"a\"}"
   ]
  },
  {
   "cell_type": "code",
   "execution_count": 237,
   "metadata": {},
   "outputs": [
    {
     "data": {
      "text/plain": [
       "{'1': 'a'}"
      ]
     },
     "execution_count": 237,
     "metadata": {},
     "output_type": "execute_result"
    }
   ],
   "source": [
    "a"
   ]
  },
  {
   "cell_type": "code",
   "execution_count": 238,
   "metadata": {},
   "outputs": [],
   "source": [
    "a.clear()"
   ]
  },
  {
   "cell_type": "code",
   "execution_count": 239,
   "metadata": {},
   "outputs": [
    {
     "data": {
      "text/plain": [
       "{}"
      ]
     },
     "execution_count": 239,
     "metadata": {},
     "output_type": "execute_result"
    }
   ],
   "source": [
    "a"
   ]
  },
  {
   "cell_type": "code",
   "execution_count": null,
   "metadata": {},
   "outputs": [],
   "source": []
  }
 ],
 "metadata": {
  "kernelspec": {
   "display_name": "Python 3",
   "language": "python",
   "name": "python3"
  },
  "language_info": {
   "codemirror_mode": {
    "name": "ipython",
    "version": 3
   },
   "file_extension": ".py",
   "mimetype": "text/x-python",
   "name": "python",
   "nbconvert_exporter": "python",
   "pygments_lexer": "ipython3",
   "version": "3.7.7"
  }
 },
 "nbformat": 4,
 "nbformat_minor": 4
}
