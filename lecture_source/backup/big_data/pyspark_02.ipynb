{
 "cells": [
  {
   "cell_type": "code",
   "execution_count": 1,
   "metadata": {},
   "outputs": [
    {
     "name": "stderr",
     "output_type": "stream",
     "text": [
      "The code failed because of a fatal error:\n",
      "\tError sending http request and maximum retry encountered..\n",
      "\n",
      "Some things to try:\n",
      "a) Make sure Spark has enough available resources for Jupyter to create a Spark context.\n",
      "b) Contact your Jupyter administrator to make sure the Spark magics library is configured correctly.\n",
      "c) Restart the kernel.\n"
     ]
    }
   ],
   "source": [
    "sc"
   ]
  },
  {
   "cell_type": "code",
   "execution_count": 2,
   "metadata": {},
   "outputs": [
    {
     "data": {
      "text/html": [
       "Current session configs: <tt>{'kind': 'pyspark'}</tt><br>"
      ],
      "text/plain": [
       "<IPython.core.display.HTML object>"
      ]
     },
     "metadata": {},
     "output_type": "display_data"
    },
    {
     "name": "stderr",
     "output_type": "stream",
     "text": [
      "An error was encountered:\n",
      "Error sending http request and maximum retry encountered.\n"
     ]
    }
   ],
   "source": [
    "%%info"
   ]
  },
  {
   "cell_type": "code",
   "execution_count": 3,
   "metadata": {},
   "outputs": [
    {
     "data": {
      "application/vnd.jupyter.widget-view+json": {
       "model_id": "",
       "version_major": 2,
       "version_minor": 0
      },
      "text/plain": [
       "FloatProgress(value=0.0, bar_style='info', description='Progress:', layout=Layout(height='25px', width='50%'),…"
      ]
     },
     "metadata": {},
     "output_type": "display_data"
    }
   ],
   "source": [
    "myRDD = sc.parallelize([(\"Ross\", 19), (\"Joey\", 18), (\"Rachel\", 16), (\"Pheobe\", 18), (\"Chandler\", 17), (\"Monica\", 20)])"
   ]
  },
  {
   "cell_type": "code",
   "execution_count": 4,
   "metadata": {},
   "outputs": [
    {
     "data": {
      "application/vnd.jupyter.widget-view+json": {
       "model_id": "",
       "version_major": 2,
       "version_minor": 0
      },
      "text/plain": [
       "FloatProgress(value=0.0, bar_style='info', description='Progress:', layout=Layout(height='25px', width='50%'),…"
      ]
     },
     "metadata": {},
     "output_type": "display_data"
    },
    {
     "name": "stdout",
     "output_type": "stream",
     "text": [
      "[('Ross', 19), ('Joey', 18), ('Rachel', 16), ('Pheobe', 18), ('Chandler', 17), ('Monica', 20)]"
     ]
    }
   ],
   "source": [
    "myRDD.take(6)"
   ]
  },
  {
   "cell_type": "code",
   "execution_count": 5,
   "metadata": {},
   "outputs": [
    {
     "data": {
      "application/vnd.jupyter.widget-view+json": {
       "model_id": "",
       "version_major": 2,
       "version_minor": 0
      },
      "text/plain": [
       "FloatProgress(value=0.0, bar_style='info', description='Progress:', layout=Layout(height='25px', width='50%'),…"
      ]
     },
     "metadata": {},
     "output_type": "display_data"
    },
    {
     "name": "stdout",
     "output_type": "stream",
     "text": [
      "6"
     ]
    }
   ],
   "source": [
    "myRDD.count()"
   ]
  },
  {
   "cell_type": "code",
   "execution_count": 7,
   "metadata": {},
   "outputs": [
    {
     "data": {
      "application/vnd.jupyter.widget-view+json": {
       "model_id": "",
       "version_major": 2,
       "version_minor": 0
      },
      "text/plain": [
       "FloatProgress(value=0.0, bar_style='info', description='Progress:', layout=Layout(height='25px', width='50%'),…"
      ]
     },
     "metadata": {},
     "output_type": "display_data"
    },
    {
     "name": "stdout",
     "output_type": "stream",
     "text": [
      "스파크 컨텍스트 버젼:  2.4.6"
     ]
    }
   ],
   "source": [
    "# SparkContext 버전\n",
    "print(\"스파크 컨텍스트 버젼: \", sc.version)"
   ]
  },
  {
   "cell_type": "code",
   "execution_count": 8,
   "metadata": {},
   "outputs": [
    {
     "data": {
      "application/vnd.jupyter.widget-view+json": {
       "model_id": "",
       "version_major": 2,
       "version_minor": 0
      },
      "text/plain": [
       "FloatProgress(value=0.0, bar_style='info', description='Progress:', layout=Layout(height='25px', width='50%'),…"
      ]
     },
     "metadata": {},
     "output_type": "display_data"
    },
    {
     "name": "stdout",
     "output_type": "stream",
     "text": [
      "Spark Context 파이썬 버전: 3.6"
     ]
    }
   ],
   "source": [
    "# SparkContext 파이썬 버전\n",
    "print(\"Spark Context 파이썬 버전:\", sc.pythonVer)"
   ]
  },
  {
   "cell_type": "code",
   "execution_count": 9,
   "metadata": {},
   "outputs": [
    {
     "data": {
      "application/vnd.jupyter.widget-view+json": {
       "model_id": "",
       "version_major": 2,
       "version_minor": 0
      },
      "text/plain": [
       "FloatProgress(value=0.0, bar_style='info', description='Progress:', layout=Layout(height='25px', width='50%'),…"
      ]
     },
     "metadata": {},
     "output_type": "display_data"
    },
    {
     "name": "stdout",
     "output_type": "stream",
     "text": [
      "Spark Context 마스터: spark://vmaster:7077"
     ]
    }
   ],
   "source": [
    "# SparkContext 마스터\n",
    "print(\"Spark Context 마스터:\", sc.master)"
   ]
  },
  {
   "cell_type": "code",
   "execution_count": 10,
   "metadata": {},
   "outputs": [
    {
     "data": {
      "application/vnd.jupyter.widget-view+json": {
       "model_id": "",
       "version_major": 2,
       "version_minor": 0
      },
      "text/plain": [
       "FloatProgress(value=0.0, bar_style='info', description='Progress:', layout=Layout(height='25px', width='50%'),…"
      ]
     },
     "metadata": {},
     "output_type": "display_data"
    }
   ],
   "source": [
    "from operator import add"
   ]
  },
  {
   "cell_type": "code",
   "execution_count": 11,
   "metadata": {},
   "outputs": [
    {
     "data": {
      "application/vnd.jupyter.widget-view+json": {
       "model_id": "",
       "version_major": 2,
       "version_minor": 0
      },
      "text/plain": [
       "FloatProgress(value=0.0, bar_style='info', description='Progress:', layout=Layout(height='25px', width='50%'),…"
      ]
     },
     "metadata": {},
     "output_type": "display_data"
    }
   ],
   "source": [
    "release = sc.textFile(\"hdfs:///LICENSE\")"
   ]
  },
  {
   "cell_type": "code",
   "execution_count": 12,
   "metadata": {},
   "outputs": [
    {
     "data": {
      "application/vnd.jupyter.widget-view+json": {
       "model_id": "",
       "version_major": 2,
       "version_minor": 0
      },
      "text/plain": [
       "FloatProgress(value=0.0, bar_style='info', description='Progress:', layout=Layout(height='25px', width='50%'),…"
      ]
     },
     "metadata": {},
     "output_type": "display_data"
    },
    {
     "name": "stdout",
     "output_type": "stream",
     "text": [
      "hdfs:///LICENSE MapPartitionsRDD[6] at textFile at NativeMethodAccessorImpl.java:0"
     ]
    }
   ],
   "source": [
    "release"
   ]
  },
  {
   "cell_type": "code",
   "execution_count": 13,
   "metadata": {},
   "outputs": [
    {
     "data": {
      "application/vnd.jupyter.widget-view+json": {
       "model_id": "",
       "version_major": 2,
       "version_minor": 0
      },
      "text/plain": [
       "FloatProgress(value=0.0, bar_style='info', description='Progress:', layout=Layout(height='25px', width='50%'),…"
      ]
     },
     "metadata": {},
     "output_type": "display_data"
    }
   ],
   "source": [
    "counts = release.flatMap(lambda x: x.split(' ')).map(lambda x: (x, 1)).reduceByKey(add).sortByKey()"
   ]
  },
  {
   "cell_type": "code",
   "execution_count": 14,
   "metadata": {
    "scrolled": true
   },
   "outputs": [
    {
     "data": {
      "application/vnd.jupyter.widget-view+json": {
       "model_id": "",
       "version_major": 2,
       "version_minor": 0
      },
      "text/plain": [
       "FloatProgress(value=0.0, bar_style='info', description='Progress:', layout=Layout(height='25px', width='50%'),…"
      ]
     },
     "metadata": {},
     "output_type": "display_data"
    },
    {
     "name": "stdout",
     "output_type": "stream",
     "text": [
      "[('', 1182), ('\"AS', 2), ('\"Contribution\"', 1), ('\"Contributor\"', 1), ('\"Derivative', 1), ('\"Legal', 1), ('\"License\"', 1), ('\"License\");', 1), ('\"Licensor\"', 1), ('\"NOTICE\"', 1), ('\"Not', 1), ('\"Object\"', 1), ('\"Source\"', 1), ('\"Work\"', 1), ('\"You\"', 1), ('\"Your\")', 1), ('\"[]\"', 1), ('\"control\"', 1), ('\"printed', 1), ('\"submitted\"', 1), ('(50%)', 1), ('(CDDL)', 2), (\"(Don't\", 1), ('(MPL)', 1), ('(a)', 1), ('(an', 1), ('(and', 1), ('(b)', 1), ('(c)', 1), ('(d)', 1), ('(except', 1), ('(i)', 1), ('(ii)', 1), ('(iii)', 1), ('(including', 3), ('(or', 3), ('(same)', 1), ('(see', 1), ('(such', 1), ('(the', 1), ('-----------', 1), ('------------', 2), ('-------------', 1), ('--------------------------------', 1), ('----------------------------------', 1), ('------------------------------------------------------', 2), ('-----------------------------------------------------------', 1), ('------------------------------------------------------------------------------------', 2), ('1', 1), ('1.', 1), ('1.0', 2), ('1.1', 2), ('2-Clause', 1), ('2.', 1), ('2.0', 1), ('2.0,', 1), ('2.0:', 1), ('2004', 1), ('3-Clause', 2), ('3.', 1), ('4.', 1), ('5.', 1), ('6.', 1), ('7.', 1), ('8.', 1), ('9', 1), ('9.', 1), ('A', 1), ('AND', 3), ('ANY', 2), ('APPENDIX:', 1), ('Accepting', 1), ('Additional', 1), ('Apache', 5), ('Appendix', 1), ('BASIS,', 2), ('BSD', 3), ('CC0', 1), ('CONDITIONS', 4), ('CSS', 1), ('Common', 2), ('Commons', 1), ('Contribution', 3), ('Contribution(s)', 3), ('Contribution.\"', 1), ('Contributions)', 1), ('Contributions.', 2), ('Contributor', 8), ('Contributor,', 1), ('Copyright', 2), ('Creative', 1), ('DISTRIBUTION', 1), ('Dedication', 1), ('Definitions.', 1), ('Derivative', 17), ('Development', 2), ('Disclaimer', 1), ('Distribution', 2), ('Domain', 2), ('END', 1), ('Entity', 3), ('Entity\"', 1), ('FITNESS', 1), ('FOR', 2), ('For', 3), ('Foundation', 1), ('Grant', 2), ('How', 1), ('However,', 1), ('IS\"', 2), ('If', 2), ('In', 1), ('January', 1), ('KIND,', 2), ('LICENSE-CC0.txt)', 1), ('Legal', 3), ('Liability.', 2), ('License', 15), ('License,', 6), ('License.', 11), ('License;', 1), ('Licensed', 1), ('Licensor', 8), ('Licensor,', 1), ('Limitation', 1), ('MERCHANTABILITY,', 1), ('MIT', 1), ('Mozilla', 1), ('NON-INFRINGEMENT,', 1), ('NOTICE', 5), ('Notwithstanding', 1), ('Nájera', 1), ('OF', 3), ('OR', 2), ('Object', 4), ('PARTICULAR', 1), ('PURPOSE.', 1), ('Patent', 1), ('Public', 3), ('Python', 1), ('REPRODUCTION,', 1), ('Redistribution.', 1), ('Sections', 1), ('See', 2), ('Software', 1), ('Source', 8), ('Subject', 2), ('Submission', 1), ('TERMS', 2), ('TITLE,', 1), ('The', 4), ('This', 4), ('To', 1), ('Trademarks.', 1), ('USE,', 1), ('Universal', 1), ('Unless', 3), ('Version', 3), ('WARRANTIES', 2), ('WITHOUT', 2), ('Warranty', 1), ('Warranty.', 1), ('We', 1), ('While', 1), ('Work', 20), ('Work,', 4), ('Work.', 1), ('Works', 12), ('Works\"', 1), ('Works,', 2), ('Works;', 3), ('You', 23), ('Your', 8), ('[name', 1), ('[yyyy]', 1), ('a', 20), ('above,', 1), ('acceptance', 1), ('accepting', 2), ('act', 1), ('acting', 1), ('acts)', 1), ('add', 2), ('addendum', 1), ('additional', 4), ('additions', 1), ('advised', 1), ('against', 1), ('against,', 1), ('agree', 1), ('agreed', 3), ('agreement', 1), ('all', 3), ('alleging', 1), ('alone', 1), ('along', 1), ('alongside', 1), ('also', 2), ('an', 6), ('and', 44), ('and/or', 1), ('annotations,', 1), ('antlr:antlr', 1), ('any', 28), ('aopalliance:aopalliance', 1), ('appear.', 1), ('applicable', 3), ('applies', 1), ('apply', 2), ('appropriate', 1), ('appropriateness', 1), ('archives.', 1), ('are', 7), ('arising', 1), ('as', 15), ('asserted', 1), ('associated', 1), ('assume', 1), ('at', 2), ('attach', 1), ('attached', 1), ('attribution', 4), ('authorized', 2), ('authorship,', 2), ('authorship.', 1), ('available', 1), ('based', 1), ('be', 5), ('been', 2), ('behalf', 5), ('below).', 1), ('beneficial', 1), ('bind', 1), ('boilerplate', 1), ('brackets', 1), ('brackets!)', 1), ('bundles', 2), ('but', 5), ('by', 21), ('by,', 3), ('cannot', 1), ('carry', 1), ('cause', 2), ('changed', 1), ('character', 1), ('charge', 1), ('choose', 1), ('claims', 2), ('class', 1), ('code', 1), ('code,', 2), ('com.carrotsearch:hppc', 1), ('com.chuusai:shapeless_2.11', 1), ('com.clearspring.analytics:stream', 1), ('com.esotericsoftware:kryo-shaded', 1), ('com.esotericsoftware:minlog', 1), ('com.esotericsoftware:reflectasm', 1), ('com.fasterxml.jackson.core:jackson-annotations', 1), ('com.fasterxml.jackson.core:jackson-core', 1), ('com.fasterxml.jackson.core:jackson-databind', 1), ('com.fasterxml.jackson.dataformat:jackson-dataformat-yaml', 1), ('com.fasterxml.jackson.module:jackson-module-jaxb-annotations', 1), ('com.fasterxml.jackson.module:jackson-module-paranamer', 1), ('com.fasterxml.jackson.module:jackson-module-scala_2.11', 1), ('com.github.fommil.netlib:core', 1), ('com.github.luben:zstd-jni', 1), ('com.github.mifmif:generex', 1), ('com.github.rwl:jtransforms', 1), ('com.github.scopt:scopt_2.11', 1), ('com.google.code.findbugs:jsr305', 1), ('com.google.code.gson:gson', 1), ('com.google.inject.extensions:guice-servlet', 1), ('com.google.inject:guice', 1), ('com.google.protobuf:protobuf-java', 1), ('com.googlecode.javaewah:JavaEWAH', 1), ('com.jamesmurty.utils:java-xmlbuilder', 1), ('com.jolbox:bonecp', 1), ('com.ning:compress-lzf', 1), ('com.squareup.okhttp3:logging-interceptor', 1), ('com.squareup.okhttp3:okhttp', 1), ('com.squareup.okio:okio', 1), ('com.thoughtworks.paranamer:paranamer', 1), ('com.twitter:chill-java', 1), ('com.twitter:chill_2.11', 1), ('com.twitter:parquet-hadoop-bundle', 1), ('com.univocity:univocity-parsers', 1), ('com.vlkan:flatbuffers', 1), ('combination', 1), ('comment', 1), ('commercial', 1), ('common', 1), ('commons-beanutils:commons-beanutils', 1), ('commons-cli:commons-cli', 1), ('commons-codec:commons-codec', 1), ('commons-collections:commons-collections', 1), ('commons-configuration:commons-configuration', 1), ('commons-dbcp:commons-dbcp', 1), ('commons-digester:commons-digester', 1), ('commons-httpclient:commons-httpclient', 1), ('commons-io:commons-io', 1), ('commons-lang:commons-lang', 1), ('commons-logging:commons-logging', 1), ('commons-net:commons-net', 1), ('commons-pool:commons-pool', 1), ('communication', 3), ('compiled', 1), ('compliance', 1), ('complies', 1), ('components', 3), ('computer', 1), ('conditions', 7), ('conditions.', 1), ('conditions:', 1), ('configuration', 1), ('consequential', 1), ('consistent', 1), ('conspicuously', 1), ('constitutes', 1), ('construed', 1), ('contained', 1), ('content', 1), ('contents', 1), ('contract', 1), ('contract,', 1), ('contributory', 1), ('control', 2), ('control,', 1), ('controlled', 1), ('conversions', 1), ('copies', 1), ('copy', 3), ('copyright', 10), ('copyright,', 1), ('core/src/main/java/org/apache/spark/util/collection/TimSort.java', 1), ('core/src/main/resources/org/apache/spark/ui/static/*dataTables*', 1), ('core/src/main/resources/org/apache/spark/ui/static/bootstrap*', 1), ('core/src/main/resources/org/apache/spark/ui/static/d3.min.js', 1), ('core/src/main/resources/org/apache/spark/ui/static/dagre-d3.min.js', 1), ('core/src/main/resources/org/apache/spark/ui/static/graphlib-dot.min.js', 1), ('core/src/main/resources/org/apache/spark/ui/static/jsonFormatter*', 1), ('core/src/main/resources/org/apache/spark/ui/static/sorttable.js', 1), ('core/src/main/resources/org/apache/spark/ui/static/vis*', 1), ('counterclaim', 1), ('cross-claim', 1), ('customary', 1), ('damages', 3), ('damages,', 1), ('damages.', 1), ('data/mllib/images/kittens/29.5.a_b_EGDP022204.jpg', 1), ('data/mllib/images/kittens/54893.jpg', 1), ('data/mllib/images/kittens/DP153539.jpg', 1), ('data/mllib/images/kittens/DP802813.jpg', 1), ('data/mllib/images/multi-channel/chr30.4.184.jpg', 1), ('date', 1), ('defend,', 1), ('defined', 1), ('definition,', 2), ('deliberate', 1), ('derived', 1), ('describing', 1), ('description', 1), ('designated', 1), ('determining', 1), ('different', 1), ('direct', 2), ('direct,', 1), ('direction', 1), ('discussing', 1), ('display', 1), ('display,', 1), ('distribute', 3), ('distribute,', 2), ('distributed', 4), ('distribution', 3), ('distribution,', 1), ('dk.brics.automaton:automaton', 1), ('do', 3), ('docs/js/vendor/anchor.min.js', 1), ('docs/js/vendor/bootstrap.js', 1), ('docs/js/vendor/jquery*', 1), ('docs/js/vendor/modernizer*', 1), ('document.', 1), ('documentation', 2), ('documentation,', 2), ('does', 1), ('each', 4), ('easier', 1), ('editorial', 1), ('either', 2), ('elaborations,', 1), ('electronic', 1), ('electronic,', 1), ('enclosed', 2), ('entities', 1), ('entity', 3), ('entity,', 1), ('entity.', 2), ('even', 1), ('event', 1), ('example', 1), ('except', 2), ('excluding', 3), ('executed', 1), ('exercise', 1), ('exercising', 1), ('explicitly', 1), ('express', 2), ('failure', 1), ('fee', 1), ('fields', 1), ('fifty', 1), ('file', 6), ('file,', 1), ('file.', 1), ('filed.', 1), ('files', 1), ('files.', 1), ('files;', 1), ('following', 3), ('for', 21), ('for,', 1), ('form', 8), ('form,', 4), ('form.', 1), ('format.', 1), ('from', 3), ('from)', 1), ('from,', 1), ('generated', 2), ('give', 1), ('goodwill,', 1), ('governing', 1), ('grant', 1), ('granted', 2), ('granting', 1), ('grants', 2), ('grossly', 1), ('harmless', 1), ('has', 2), ('have', 2), ('hereby', 2), ('herein', 1), ('hold', 1), ('http://www.apache.org/licenses/', 1), ('http://www.apache.org/licenses/LICENSE-2.0', 1), ('http://www.oracle.com/technetwork/java/index.html', 1), ('http://www.oracle.com/technetwork/java/javase/tech/index-jsp-138795.html', 1), ('https://github.com/javaee/glassfish', 1), ('https://github.com/javaee/jaxb-v2', 1), ('https://github.com/jax-rs', 1), ('https://javaee.github.io/servlet-spec/', 1), ('https://jcp.org/en/jsr/detail?id=173', 1), ('https://jcp.org/en/jsr/detail?id=250', 1), ('https://sourceforge.net/projects/jtransforms/', 1), ('identification', 1), ('identifying', 1), ('if', 4), ('implied,', 1), ('implied.', 1), ('import,', 1), ('improving', 1), ('in', 23), ('inability', 1), ('incidental,', 1), ('include', 3), ('included', 2), ('includes', 1), ('including', 5), ('including,', 1), ('inclusion', 2), ('incorporated', 2), ('incurred', 1), ('indemnify,', 1), ('indemnity,', 1), ('indicated', 1), ('indirect,', 2), ('individual', 3), ('information.', 1), ('informational', 1), ('infringed', 1), ('infringement,', 1), ('institute', 1), ('intentionally', 2), ('interfaces', 1), ('io.airlift:aircompressor', 1), ('io.dropwizard.metrics:metrics-core', 1), ('io.dropwizard.metrics:metrics-ganglia', 1), ('io.dropwizard.metrics:metrics-graphite', 1), ('io.dropwizard.metrics:metrics-json', 1), ('io.dropwizard.metrics:metrics-jvm', 1), ('io.fabric8:kubernetes-client', 1), ('io.fabric8:kubernetes-model', 1), ('io.fabric8:zjsonpatch', 1), ('io.netty:netty', 1), ('io.netty:netty-all', 1), ('irrevocable', 2), ('is', 9), ('issue', 1), ('its', 3), ('javax.activation:activation', 1), ('javax.annotation:javax.annotation-api', 1), ('javax.el:javax.el-api\\thttps://javaee.github.io/uel-ri/', 1), ('javax.inject:javax.inject', 1), ('javax.jdo:jdo-api', 1), ('javax.servlet:javax.servlet-api', 1), ('javax.transaction:jta', 1), ('javax.validation:validation-api', 1), ('javax.ws.rs:javax.ws.rs-api', 1), ('javax.xml.bind:jaxb-api', 1), ('javax.xml.stream:stax-api', 1), ('javolution:javolution', 1), ('jline:jline', 1), ('joda-time:joda-time', 1), ('language', 1), ('law', 3), ('lawsuit)', 1), ('least', 1), ('legal', 1), ('liability', 2), ('liability.', 1), ('liable', 1), ('licensable', 1), ('license', 5), ('license.', 1), ('licensed', 1), ('licenses', 1), ('licenses-binary/', 1), ('licenses.', 3), ('limitation,', 1), ('limitations', 1), ('limited', 4), ('link', 1), ('lists,', 1), ('litigation', 2), ('log4j:apache-log4j-extras', 1), ('log4j:log4j', 1), ('loss', 1), ('losses),', 1), ('made', 1), ('made,', 1), ('mailing', 1), ('make,', 1), ('making', 1), ('malfunction,', 1), ('managed', 1), ('management', 1), ('marked', 1), ('marks,', 1), ('may', 9), ('mean', 10), ('means', 2), ('mechanical', 1), ('media', 1), ('medium,', 1), ('meet', 1), ('merely', 1), ('modifications', 3), ('modifications,', 3), ('modified', 1), ('modify', 2), ('modifying', 1), ('more', 1), ('must', 4), ('name', 1), ('name)', 1), ('names', 1), ('names,', 1), ('navigation', 1), ('necessarily', 1), ('negligence),', 1), ('negligent', 1), ('net.hydromatic:eigenbase-properties', 1), ('net.iharder:base64', 1), ('net.razorvine:pyrolite', 1), ('net.sf.jpam:jpam', 1), ('net.sf.opencsv:opencsv', 1), ('net.sf.py4j:py4j', 1), ('net.sf.supercsv:super-csv', 1), ('net.sourceforge.f2j:arpack_combined_all', 1), ('no', 2), ('no-charge,', 2), ('non-exclusive,', 2), ('normally', 1), ('not', 11), ('nothing', 1), ('notice', 2), ('notice,', 1), ('notices', 8), ('object', 1), ('obligations', 1), ('obligations,', 1), ('obtain', 1), ('of', 63), ('of,', 3), ('offer', 1), ('offer,', 1), ('on', 11), ('one', 1), ('only', 4), ('open', 1), ('or', 62), ('or,', 1), ('ore/src/main/resources/org/apache/spark/ui/static/jquery*', 1), ('org.antlr:ST4', 1), ('org.antlr:antlr-runtime', 1), ('org.antlr:antlr4-runtime', 1), ('org.antlr:stringtemplate', 1), ('org.apache.arrow:arrow-format', 1), ('org.apache.arrow:arrow-memory', 1), ('org.apache.arrow:arrow-vector', 1), ('org.apache.avro:avro', 1), ('org.apache.avro:avro-ipc', 1), ('org.apache.avro:avro-mapred', 1), ('org.apache.calcite:calcite-avatica', 1), ('org.apache.calcite:calcite-core', 1), ('org.apache.calcite:calcite-linq4j', 1), ('org.apache.commons:commons-compress', 1), ('org.apache.commons:commons-crypto', 1), ('org.apache.commons:commons-lang3', 1), ('org.apache.commons:commons-math3', 1), ('org.apache.curator:curator-client', 1), ('org.apache.curator:curator-framework', 1), ('org.apache.curator:curator-recipes', 1), ('org.apache.derby:derby', 1), ('org.apache.directory.api:api-asn1-api', 1), ('org.apache.directory.api:api-util', 1), ('org.apache.directory.server:apacheds-i18n', 1), ('org.apache.directory.server:apacheds-kerberos-codec', 1), ('org.apache.hadoop:hadoop-annotations', 1), ('org.apache.hadoop:hadoop-auth', 1), ('org.apache.hadoop:hadoop-client', 1), ('org.apache.hadoop:hadoop-common', 1), ('org.apache.hadoop:hadoop-hdfs', 1), ('org.apache.hadoop:hadoop-mapreduce-client-app', 1), ('org.apache.hadoop:hadoop-mapreduce-client-common', 1), ('org.apache.hadoop:hadoop-mapreduce-client-core', 1), ('org.apache.hadoop:hadoop-mapreduce-client-jobclient', 1), ('org.apache.hadoop:hadoop-mapreduce-client-shuffle', 1), ('org.apache.hadoop:hadoop-yarn-api', 1), ('org.apache.hadoop:hadoop-yarn-client', 1), ('org.apache.hadoop:hadoop-yarn-common', 1), ('org.apache.hadoop:hadoop-yarn-server-common', 1), ('org.apache.hadoop:hadoop-yarn-server-web-proxy', 1), ('org.apache.htrace:htrace-core', 1), ('org.apache.httpcomponents:httpclient', 1), ('org.apache.httpcomponents:httpcore', 1), ('org.apache.ivy:ivy', 1), ('org.apache.mesos:mesos', 1), ('org.apache.orc:orc-core', 1), ('org.apache.orc:orc-mapreduce', 1), ('org.apache.parquet:parquet-column', 1), ('org.apache.parquet:parquet-common', 1), ('org.apache.parquet:parquet-encoding', 1), ('org.apache.parquet:parquet-format', 1), ('org.apache.parquet:parquet-hadoop', 1), ('org.apache.parquet:parquet-jackson', 1), ('org.apache.spark:spark-catalyst_2.11', 1), ('org.apache.spark:spark-kvstore_2.11', 1), ('org.apache.spark:spark-launcher_2.11', 1), ('org.apache.spark:spark-mllib-local_2.11', 1), ('org.apache.spark:spark-network-common_2.11', 1), ('org.apache.spark:spark-network-shuffle_2.11', 1), ('org.apache.spark:spark-sketch_2.11', 1), ('org.apache.spark:spark-tags_2.11', 1), ('org.apache.spark:spark-unsafe_2.11', 1), ('org.apache.thrift:libfb303', 1), ('org.apache.thrift:libthrift', 1), ('org.apache.xbean:xbean-asm5-shaded', 1), ('org.apache.zookeeper:zookeeper', 1), ('org.codehaus.jackson:jackson-core-asl', 1), ('org.codehaus.jackson:jackson-jaxrs', 1), ('org.codehaus.jackson:jackson-mapper-asl', 1), ('org.codehaus.jackson:jackson-xc', 1), ('org.codehaus.janino:commons-compiler', 1), ('org.codehaus.janino:janino', 1), ('org.datanucleus:datanucleus-api-jdo', 1), ('org.datanucleus:datanucleus-core', 1), ('org.datanucleus:datanucleus-rdbms', 1), ('org.eclipse.jetty:jetty-client', 1), ('org.eclipse.jetty:jetty-continuation', 1), ('org.eclipse.jetty:jetty-http', 1), ('org.eclipse.jetty:jetty-io', 1), ('org.eclipse.jetty:jetty-jndi', 1), ('org.eclipse.jetty:jetty-plus', 1), ('org.eclipse.jetty:jetty-proxy', 1), ('org.eclipse.jetty:jetty-security', 1), ('org.eclipse.jetty:jetty-server', 1), ('org.eclipse.jetty:jetty-servlet', 1), ('org.eclipse.jetty:jetty-servlets', 1), ('org.eclipse.jetty:jetty-util', 1), ('org.eclipse.jetty:jetty-webapp', 1), ('org.eclipse.jetty:jetty-xml', 1), ('org.fusesource.leveldbjni:leveldbjni-all', 1), ('org.glassfish.hk2.external:aopalliance-repackaged', 1), ('org.glassfish.hk2.external:javax.inject', 1), ('org.glassfish.hk2:hk2-api', 1), ('org.glassfish.hk2:hk2-locator', 1), ('org.glassfish.hk2:hk2-utils', 1), ('org.glassfish.hk2:osgi-resource-locator', 1), ('org.glassfish.jersey.bundles.repackaged:jersey-guava', 1), ('org.glassfish.jersey.containers:jersey-container-servlet', 1), ('org.glassfish.jersey.containers:jersey-container-servlet-core', 1), ('org.glassfish.jersey.core:jersey-client', 1), ('org.glassfish.jersey.core:jersey-common', 1), ('org.glassfish.jersey.core:jersey-server', 1), ('org.glassfish.jersey.media:jersey-media-jaxb', 1), ('org.iq80.snappy:snappy', 1), ('org.jodd:jodd-core', 1), ('org.jpmml:pmml-model', 1), ('org.jpmml:pmml-schema', 1), ('org.json4s:json4s-ast_2.11', 1), ('org.json4s:json4s-core_2.11', 1), ('org.json4s:json4s-jackson_2.11', 1), ('org.json4s:json4s-scalap_2.11', 1), ('org.lz4:lz4-java', 1), ('org.mortbay.jetty:jetty', 1), ('org.mortbay.jetty:jetty-util', 1), ('org.objenesis:objenesis', 1), ('org.roaringbitmap:RoaringBitmap', 1), ('org.scala-lang.modules:scala-parser-combinators_2.11', 1), ('org.scala-lang.modules:scala-xml_2.11', 1), ('org.scala-lang:scala-compiler', 1), ('org.scala-lang:scala-library', 1), ('org.scala-lang:scala-reflect', 1), ('org.scalanlp:breeze-macros_2.11', 1), ('org.scalanlp:breeze_2.11', 1), ('org.slf4j:jcl-over-slf4j', 1), ('org.slf4j:jul-to-slf4j', 1), ('org.slf4j:slf4j-api', 1), ('org.slf4j:slf4j-log4j12', 1), ('org.spark-project.hive:hive-beeline', 1), ('org.spark-project.hive:hive-cli', 1), ('org.spark-project.hive:hive-exec', 1), ('org.spark-project.hive:hive-jdbc', 1), ('org.spark-project.hive:hive-metastore', 1), ('org.spire-math:spire-macros_2.11', 1), ('org.spire-math:spire_2.11', 1), ('org.tukaani:xz', 1), ('org.typelevel:machinist_2.11', 1), ('org.typelevel:macro-compat_2.11', 1), ('org.xerial.snappy:snappy-java', 1), ('org.yaml:snakeyaml', 1), ('origin', 1), ('original', 2), ('originally', 1), ('oro:oro', 1), ('other', 8), ('otherwise', 3), ('otherwise,', 3), ('out', 1), ('outstanding', 1), ('own', 4), ('owner', 4), ('owner.', 1), ('owner]', 1), ('ownership', 2), ('page\"', 1), ('part', 4), ('patent', 5), ('patent,', 1), ('percent', 1), ('perform,', 1), ('permission', 1), ('permissions', 3), ('perpetual,', 2), ('pertain', 2), ('places:', 1), ('possibility', 1), ('power,', 1), ('preferred', 1), ('prepare', 1), ('product', 2), ('project', 2), ('project.', 1), ('prominent', 1), ('provide', 1), ('provided', 5), ('provides', 2), ('publicly', 2), ('purpose', 2), ('purposes', 4), ('pyspark/heapq3.py', 1), ('python/lib/py4j-*-src.zip', 1), ('python/pyspark/cloudpickle.py', 1), ('python/pyspark/join.py', 1), ('readable', 1), ('reason', 1), ('reasonable', 1), ('received', 1), ('recipients', 1), ('recommend', 1), ('redistributing', 2), ('regarding', 1), ('remain', 1), ('replaced', 1), ('represent,', 1), ('representatives,', 1), ('reproduce', 1), ('reproduce,', 1), ('reproducing', 1), ('reproduction,', 3), ('required', 4), ('responsibility,', 1), ('responsible', 1), ('result', 1), ('resulting', 1), ('retain,', 1), ('revisions,', 1), ('rights', 1), ('risks', 1), ('royalty-free,', 2), ('same', 1), ('scikit-learn', 2), ('section', 1), ('section)', 1), ('sell,', 2), ('sent', 1), ('separable', 1), ('separate', 1), ('service', 1), ('shall', 15), ('shares,', 1), ('should', 1), ('sidebar', 1), ('software', 2), ('sole', 1), ('solely', 1), ('some', 1), ('source', 3), ('source,', 1), ('special,', 1), ('specific', 1), ('state', 1), ('stated', 2), ('statement', 1), ('stating', 1), ('stax:stax-api', 1), ('stoppage,', 1), ('style', 1), ('sublicense,', 1), ('submit', 1), ('submitted', 3), ('submitted.', 1), ('subsequently', 1), ('such', 17), ('summarizes', 1), ('supersede', 1), ('support,', 1), ('syntax', 1), ('systems', 1), ('systems,', 1), ('terminate', 1), ('terms', 7), ('text', 5), ('that', 23), ('the', 102), ('their', 3), ('then', 2), ('theory,', 1), ('thereof', 1), ('thereof,', 2), ('thereof.', 1), ('these', 1), ('third-party', 3), ('this', 16), ('those', 4), ('through', 1), ('to', 39), ('tort', 1), ('tracking', 1), ('trade', 1), ('trademark,', 1), ('trademarks,', 1), ('transfer', 1), ('transformation', 1), ('translation', 1), ('types.', 1), ('under', 12), ('union', 1), ('unless', 1), ('use', 5), ('use,', 4), ('using', 1), ('various', 1), ('verbal,', 1), ('version', 1), ('warranties', 1), ('warranty', 1), ('warranty,', 1), ('was', 2), ('where', 1), ('wherever', 1), ('whether', 4), ('which', 2), ('whole,', 2), ('whom', 1), ('with', 11), ('within', 8), ('without', 3), ('work', 5), ('work,', 2), ('work.', 1), ('works', 1), ('worldwide,', 2), ('writing', 1), ('writing,', 3), ('written', 1), ('xerces:xercesImpl', 1), ('xmlenc:xmlenc', 1), ('you', 2), ('your', 4), ('Óscar', 1)]"
     ]
    }
   ],
   "source": [
    "counts.collect()"
   ]
  },
  {
   "cell_type": "code",
   "execution_count": 15,
   "metadata": {},
   "outputs": [
    {
     "data": {
      "application/vnd.jupyter.widget-view+json": {
       "model_id": "",
       "version_major": 2,
       "version_minor": 0
      },
      "text/plain": [
       "FloatProgress(value=0.0, bar_style='info', description='Progress:', layout=Layout(height='25px', width='50%'),…"
      ]
     },
     "metadata": {},
     "output_type": "display_data"
    },
    {
     "data": {
      "application/vnd.jupyter.widget-view+json": {
       "model_id": "",
       "version_major": 2,
       "version_minor": 0
      },
      "text/plain": [
       "FloatProgress(value=0.0, bar_style='info', description='Progress:', layout=Layout(height='25px', width='50%'),…"
      ]
     },
     "metadata": {},
     "output_type": "display_data"
    }
   ],
   "source": [
    "%%spark -o peopleDF\n",
    "peopleDF = spark.read.json(\"hdfs:///people.json\")"
   ]
  },
  {
   "cell_type": "code",
   "execution_count": 16,
   "metadata": {},
   "outputs": [
    {
     "data": {
      "application/vnd.jupyter.widget-view+json": {
       "model_id": "",
       "version_major": 2,
       "version_minor": 0
      },
      "text/plain": [
       "FloatProgress(value=0.0, bar_style='info', description='Progress:', layout=Layout(height='25px', width='50%'),…"
      ]
     },
     "metadata": {},
     "output_type": "display_data"
    },
    {
     "name": "stdout",
     "output_type": "stream",
     "text": [
      "+----+-------+\n",
      "| age|   name|\n",
      "+----+-------+\n",
      "|null|Michael|\n",
      "|  30|   Andy|\n",
      "|  19| Justin|\n",
      "+----+-------+"
     ]
    }
   ],
   "source": [
    "peopleDF.show()"
   ]
  },
  {
   "cell_type": "code",
   "execution_count": null,
   "metadata": {},
   "outputs": [],
   "source": []
  }
 ],
 "metadata": {
  "kernelspec": {
   "display_name": "PySpark",
   "language": "",
   "name": "pysparkkernel"
  },
  "language_info": {
   "codemirror_mode": {
    "name": "python",
    "version": 3
   },
   "mimetype": "text/x-python",
   "name": "pyspark",
   "pygments_lexer": "python3"
  }
 },
 "nbformat": 4,
 "nbformat_minor": 4
}
