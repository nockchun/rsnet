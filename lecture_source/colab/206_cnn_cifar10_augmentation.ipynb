{
 "cells": [
  {
   "cell_type": "code",
   "execution_count": 1,
   "metadata": {
    "execution": {
     "iopub.execute_input": "2025-09-04T14:11:49.041371Z",
     "iopub.status.busy": "2025-09-04T14:11:49.041250Z",
     "iopub.status.idle": "2025-09-04T14:19:31.660651Z",
     "shell.execute_reply": "2025-09-04T14:19:31.659674Z",
     "shell.execute_reply.started": "2025-09-04T14:11:49.041355Z"
    }
   },
   "outputs": [
    {
     "name": "stderr",
     "output_type": "stream",
     "text": [
      "/tmp/ipykernel_678031/2544910072.py:218: FutureWarning: `torch.cuda.amp.GradScaler(args...)` is deprecated. Please use `torch.amp.GradScaler('cuda', args...)` instead.\n",
      "  scaler = torch.cuda.amp.GradScaler(enabled=torch.cuda.is_available())\n",
      "/tmp/ipykernel_678031/2544910072.py:233: FutureWarning: `torch.cuda.amp.autocast(args...)` is deprecated. Please use `torch.amp.autocast('cuda', args...)` instead.\n",
      "  with torch.cuda.amp.autocast(enabled=torch.cuda.is_available()):\n"
     ]
    },
    {
     "name": "stdout",
     "output_type": "stream",
     "text": [
      "[Train] Epoch 001 | loss=1.7121 | lr=0.04000\n",
      "[Train] Epoch 002 | loss=1.3696 | lr=0.06000\n",
      "[Train] Epoch 003 | loss=1.2081 | lr=0.08000\n",
      "[Train] Epoch 004 | loss=1.1088 | lr=0.10000\n",
      "[Train] Epoch 005 | loss=1.0423 | lr=0.10000\n"
     ]
    },
    {
     "name": "stderr",
     "output_type": "stream",
     "text": [
      "/tmp/ipykernel_678031/2544910072.py:257: FutureWarning: `torch.cuda.amp.autocast(args...)` is deprecated. Please use `torch.amp.autocast('cuda', args...)` instead.\n",
      "  with torch.cuda.amp.autocast(enabled=torch.cuda.is_available()):\n"
     ]
    },
    {
     "name": "stdout",
     "output_type": "stream",
     "text": [
      "[Val/Test] Epoch 005 | loss=1.0999 | acc=74.55%\n",
      "  ↳ New best saved (74.55%).\n",
      "[Train] Epoch 006 | loss=0.9890 | lr=0.09999\n",
      "[Train] Epoch 007 | loss=0.9544 | lr=0.09997\n",
      "[Train] Epoch 008 | loss=0.9304 | lr=0.09994\n",
      "[Train] Epoch 009 | loss=0.9118 | lr=0.09990\n",
      "[Train] Epoch 010 | loss=0.8917 | lr=0.09984\n",
      "[Val/Test] Epoch 010 | loss=0.9445 | acc=81.12%\n",
      "  ↳ New best saved (81.12%).\n",
      "[Train] Epoch 011 | loss=0.8804 | lr=0.09977\n",
      "[Train] Epoch 012 | loss=0.8711 | lr=0.09968\n",
      "[Train] Epoch 013 | loss=0.8596 | lr=0.09959\n",
      "[Train] Epoch 014 | loss=0.8529 | lr=0.09948\n",
      "[Train] Epoch 015 | loss=0.8470 | lr=0.09935\n",
      "[Val/Test] Epoch 015 | loss=1.1309 | acc=72.64%\n",
      "[Train] Epoch 016 | loss=0.8414 | lr=0.09922\n",
      "[Train] Epoch 017 | loss=0.8381 | lr=0.09907\n",
      "[Train] Epoch 018 | loss=0.8309 | lr=0.09891\n",
      "[Train] Epoch 019 | loss=0.8322 | lr=0.09873\n",
      "[Train] Epoch 020 | loss=0.8207 | lr=0.09855\n",
      "[Val/Test] Epoch 020 | loss=0.9247 | acc=82.94%\n",
      "  ↳ New best saved (82.94%).\n",
      "[Train] Epoch 021 | loss=0.8226 | lr=0.09835\n",
      "[Train] Epoch 022 | loss=0.8167 | lr=0.09814\n",
      "[Train] Epoch 023 | loss=0.8150 | lr=0.09791\n",
      "[Train] Epoch 024 | loss=0.8100 | lr=0.09768\n",
      "[Train] Epoch 025 | loss=0.8108 | lr=0.09743\n",
      "[Val/Test] Epoch 025 | loss=0.9062 | acc=83.15%\n",
      "  ↳ New best saved (83.15%).\n",
      "[Train] Epoch 026 | loss=0.8077 | lr=0.09717\n",
      "[Train] Epoch 027 | loss=0.8031 | lr=0.09689\n",
      "[Train] Epoch 028 | loss=0.8061 | lr=0.09661\n",
      "[Train] Epoch 029 | loss=0.8006 | lr=0.09631\n",
      "[Train] Epoch 030 | loss=0.7986 | lr=0.09600\n",
      "[Val/Test] Epoch 030 | loss=0.8573 | acc=85.71%\n",
      "  ↳ New best saved (85.71%).\n",
      "[Train] Epoch 031 | loss=0.7977 | lr=0.09568\n",
      "[Train] Epoch 032 | loss=0.7941 | lr=0.09534\n",
      "[Train] Epoch 033 | loss=0.7927 | lr=0.09500\n",
      "[Train] Epoch 034 | loss=0.7927 | lr=0.09464\n",
      "[Train] Epoch 035 | loss=0.7877 | lr=0.09427\n",
      "[Val/Test] Epoch 035 | loss=0.8987 | acc=83.99%\n",
      "[Train] Epoch 036 | loss=0.7880 | lr=0.09389\n",
      "[Train] Epoch 037 | loss=0.7853 | lr=0.09350\n",
      "[Train] Epoch 038 | loss=0.7844 | lr=0.09310\n",
      "[Train] Epoch 039 | loss=0.7883 | lr=0.09268\n",
      "[Train] Epoch 040 | loss=0.7819 | lr=0.09226\n",
      "[Val/Test] Epoch 040 | loss=0.9170 | acc=82.91%\n",
      "[Train] Epoch 041 | loss=0.7818 | lr=0.09182\n",
      "[Train] Epoch 042 | loss=0.7809 | lr=0.09138\n",
      "[Train] Epoch 043 | loss=0.7795 | lr=0.09092\n",
      "[Train] Epoch 044 | loss=0.7750 | lr=0.09045\n",
      "[Train] Epoch 045 | loss=0.7727 | lr=0.08997\n",
      "[Val/Test] Epoch 045 | loss=0.9329 | acc=82.55%\n",
      "[Train] Epoch 046 | loss=0.7776 | lr=0.08948\n",
      "[Train] Epoch 047 | loss=0.7715 | lr=0.08898\n",
      "[Train] Epoch 048 | loss=0.7750 | lr=0.08847\n",
      "[Train] Epoch 049 | loss=0.7673 | lr=0.08795\n",
      "[Train] Epoch 050 | loss=0.7717 | lr=0.08743\n",
      "[Val/Test] Epoch 050 | loss=0.8656 | acc=84.96%\n",
      "[Train] Epoch 051 | loss=0.7692 | lr=0.08689\n",
      "[Train] Epoch 052 | loss=0.7685 | lr=0.08634\n",
      "[Train] Epoch 053 | loss=0.7664 | lr=0.08578\n",
      "[Train] Epoch 054 | loss=0.7636 | lr=0.08521\n",
      "[Train] Epoch 055 | loss=0.7622 | lr=0.08464\n",
      "[Val/Test] Epoch 055 | loss=0.9404 | acc=82.07%\n",
      "[Train] Epoch 056 | loss=0.7607 | lr=0.08405\n",
      "[Train] Epoch 057 | loss=0.7578 | lr=0.08346\n",
      "[Train] Epoch 058 | loss=0.7608 | lr=0.08285\n",
      "[Train] Epoch 059 | loss=0.7600 | lr=0.08224\n",
      "[Train] Epoch 060 | loss=0.7568 | lr=0.08162\n",
      "[Val/Test] Epoch 060 | loss=0.9950 | acc=79.56%\n",
      "[Train] Epoch 061 | loss=0.7550 | lr=0.08099\n",
      "[Train] Epoch 062 | loss=0.7530 | lr=0.08036\n",
      "[Train] Epoch 063 | loss=0.7589 | lr=0.07971\n",
      "[Train] Epoch 064 | loss=0.7511 | lr=0.07906\n",
      "[Train] Epoch 065 | loss=0.7494 | lr=0.07840\n",
      "[Val/Test] Epoch 065 | loss=0.9152 | acc=82.63%\n",
      "[Train] Epoch 066 | loss=0.7460 | lr=0.07774\n",
      "[Train] Epoch 067 | loss=0.7468 | lr=0.07706\n",
      "[Train] Epoch 068 | loss=0.7491 | lr=0.07638\n",
      "[Train] Epoch 069 | loss=0.7455 | lr=0.07569\n",
      "[Train] Epoch 070 | loss=0.7464 | lr=0.07500\n",
      "[Val/Test] Epoch 070 | loss=0.8206 | acc=87.05%\n",
      "  ↳ New best saved (87.05%).\n",
      "[Train] Epoch 071 | loss=0.7400 | lr=0.07430\n",
      "[Train] Epoch 072 | loss=0.7415 | lr=0.07359\n",
      "[Train] Epoch 073 | loss=0.7406 | lr=0.07288\n",
      "[Train] Epoch 074 | loss=0.7355 | lr=0.07216\n",
      "[Train] Epoch 075 | loss=0.7386 | lr=0.07143\n",
      "[Val/Test] Epoch 075 | loss=0.8417 | acc=85.68%\n",
      "[Train] Epoch 076 | loss=0.7358 | lr=0.07070\n",
      "[Train] Epoch 077 | loss=0.7385 | lr=0.06997\n"
     ]
    },
    {
     "name": "stderr",
     "output_type": "stream",
     "text": [
      "Exception in thread Thread-96 (_pin_memory_loop):\n",
      "Traceback (most recent call last):\n",
      "  File \"/opt/conda/lib/python3.10/threading.py\", line 1009, in _bootstrap_inner\n",
      "    self.run()\n",
      "  File \"/opt/conda/lib/python3.10/site-packages/ipykernel/ipkernel.py\", line 772, in run_closure\n",
      "    _threading_Thread_run(self)\n",
      "  File \"/opt/conda/lib/python3.10/threading.py\", line 946, in run\n",
      "    self._target(*self._args, **self._kwargs)\n",
      "  File \"/opt/conda/lib/python3.10/site-packages/torch/utils/data/_utils/pin_memory.py\", line 61, in _pin_memory_loop\n",
      "    do_one_step()\n",
      "  File \"/opt/conda/lib/python3.10/site-packages/torch/utils/data/_utils/pin_memory.py\", line 37, in do_one_step\n",
      "    r = in_queue.get(timeout=MP_STATUS_CHECK_INTERVAL)\n",
      "  File \"/opt/conda/lib/python3.10/multiprocessing/queues.py\", line 122, in get\n",
      "    return _ForkingPickler.loads(res)\n",
      "  File \"/opt/conda/lib/python3.10/site-packages/torch/multiprocessing/reductions.py\", line 541, in rebuild_storage_fd\n",
      "    fd = df.detach()\n",
      "  File \"/opt/conda/lib/python3.10/multiprocessing/resource_sharer.py\", line 57, in detach\n",
      "    with _resource_sharer.get_connection(self._id) as conn:\n",
      "  File \"/opt/conda/lib/python3.10/multiprocessing/resource_sharer.py\", line 86, in get_connection\n",
      "    c = Client(address, authkey=process.current_process().authkey)\n",
      "  File \"/opt/conda/lib/python3.10/multiprocessing/connection.py\", line 513, in Client\n",
      "    answer_challenge(c, authkey)\n",
      "  File \"/opt/conda/lib/python3.10/multiprocessing/connection.py\", line 757, in answer_challenge\n",
      "    message = connection.recv_bytes(256)         # reject large message\n",
      "  File \"/opt/conda/lib/python3.10/multiprocessing/connection.py\", line 221, in recv_bytes\n",
      "    buf = self._recv_bytes(maxlength)\n",
      "  File \"/opt/conda/lib/python3.10/multiprocessing/connection.py\", line 419, in _recv_bytes\n",
      "    buf = self._recv(4)\n",
      "  File \"/opt/conda/lib/python3.10/multiprocessing/connection.py\", line 384, in _recv\n",
      "    chunk = read(handle, remaining)\n",
      "ConnectionResetError: [Errno 104] Connection reset by peer\n",
      "Exception ignored in: <bound method IPythonKernel._clean_thread_parent_frames of <ipykernel.ipkernel.IPythonKernel object at 0x746dbb0f7f10>>\n",
      "Traceback (most recent call last):\n",
      "  File \"/opt/conda/lib/python3.10/site-packages/ipykernel/ipkernel.py\", line 781, in _clean_thread_parent_frames\n",
      "    def _clean_thread_parent_frames(\n",
      "KeyboardInterrupt: \n",
      "\n",
      "KeyboardInterrupt\n",
      "\n"
     ]
    }
   ],
   "source": [
    "# ============================================================\n",
    "# CIFAR-10 Simple Residual CNN (no Compose, with MinMaxScaler)\n",
    "# 순서: 1) 데이터 로딩 → 2) 전처리 → 3) 모델 생성 → 4) 학습 → 5) 검증\n",
    "# ============================================================\n",
    "\n",
    "import math\n",
    "import random\n",
    "from pathlib import Path\n",
    "\n",
    "import numpy as np\n",
    "import torch\n",
    "import torch.nn as nn\n",
    "import torch.nn.functional as F\n",
    "from torch.utils.data import DataLoader\n",
    "\n",
    "import torchvision\n",
    "from torchvision import transforms\n",
    "import torchvision.transforms.functional as TF\n",
    "\n",
    "from sklearn.preprocessing import MinMaxScaler  # 요구사항: sklearn MinMax 스케일러 사용\n",
    "\n",
    "# -------------------------\n",
    "# 공통 설정\n",
    "# -------------------------\n",
    "seed = 42\n",
    "random.seed(seed); np.random.seed(seed); torch.manual_seed(seed); torch.cuda.manual_seed_all(seed)\n",
    "torch.backends.cudnn.benchmark = True\n",
    "device = torch.device('cuda' if torch.cuda.is_available() else 'cpu')\n",
    "\n",
    "DATA_ROOT = './data'\n",
    "BATCH_SIZE = 128\n",
    "EPOCHS = 200\n",
    "WARMUP_EPOCHS = 5\n",
    "BASE_LR = 0.1 * (BATCH_SIZE / 128)\n",
    "MOMENTUM = 0.9\n",
    "WEIGHT_DECAY = 5e-4\n",
    "LABEL_SMOOTH = 0.1  # 깔끔한 일반화에 도움 (원하면 0.0으로 끄세요)\n",
    "\n",
    "# ============================================================\n",
    "# 1) 데이터 로딩 (질문 방식대로 ./data에 다운로드)\n",
    "#    - transform=None (2단계에서 수동 전처리)\n",
    "# ============================================================\n",
    "train_base = torchvision.datasets.CIFAR10(root=DATA_ROOT, train=True,  download=True, transform=None)\n",
    "test_base  = torchvision.datasets.CIFAR10(root=DATA_ROOT, train=False, download=True, transform=None)\n",
    "\n",
    "# ============================================================\n",
    "# 2) 데이터 전처리 (augmentation, 스케일링 등)\n",
    "#    - Compose 없이 \"단계별\" 수행\n",
    "#    - RandomCrop(패딩 4, reflect), HorizontalFlip(0.5), 채널별 MinMaxScaler\n",
    "#    - 스케일러는 \"훈련셋 통계(채널별 min/max)\"로 fit\n",
    "# ============================================================\n",
    "\n",
    "# (2-1) 채널별 min/max 추정: CIFAR10은 32x32x3, numpy 배열(train_base.data)을 그대로 사용 가능\n",
    "train_np = train_base.data  # shape: (50000, 32, 32, 3), dtype uint8\n",
    "ch_mins = train_np.reshape(-1, 3).min(axis=0).astype(np.float32)  # [minR, minG, minB]\n",
    "ch_maxs = train_np.reshape(-1, 3).max(axis=0).astype(np.float32)  # [maxR, maxG, maxB]\n",
    "\n",
    "# (2-2) 채널별 MinMaxScaler 준비 및 fit (훈련셋 기준)\n",
    "scalers = [MinMaxScaler(feature_range=(0.0, 1.0)) for _ in range(3)]\n",
    "for c in range(3):\n",
    "    # MinMaxScaler는 2D 입력을 기대하므로, [min, max]를 세로 벡터로 제공\n",
    "    scalers[c].fit(np.array([[ch_mins[c]], [ch_maxs[c]]], dtype=np.float32))\n",
    "\n",
    "# (2-3) 수동 전처리를 수행하는 래퍼 Dataset 구현\n",
    "class CIFAR10Preprocessed(torch.utils.data.Dataset):\n",
    "    \"\"\"\n",
    "    Compose 없이 단계별 전처리:\n",
    "      - (train) pad 4 (reflect) → RandomCrop(32,32) → RandomHorizontalFlip(0.5)\n",
    "      - (both)  채널별 MinMaxScaler 적용 → Tensor (C,H,W)\n",
    "    \"\"\"\n",
    "    def __init__(self, base_dataset, scalers, train=True):\n",
    "        self.base = base_dataset\n",
    "        self.scalers = scalers\n",
    "        self.train = train\n",
    "\n",
    "    def __len__(self):\n",
    "        return len(self.base)\n",
    "\n",
    "    def __getitem__(self, idx):\n",
    "        img, label = self.base[idx]  # img: PIL.Image\n",
    "\n",
    "        # --- 단계별 전처리 시작 ---\n",
    "        # 1) (train 전용) 패딩 후 랜덤 크롭\n",
    "        if self.train:\n",
    "            # pad 4 (reflect)\n",
    "            img = TF.pad(img, padding=4, padding_mode='reflect')\n",
    "            # RandomCrop의 파라미터를 직접 뽑아 적용 (Compose 안 씀)\n",
    "            i, j, h, w = transforms.RandomCrop.get_params(img, output_size=(32, 32))\n",
    "            img = TF.crop(img, i, j, h, w)\n",
    "            # 2) (train 전용) 수평 뒤집기\n",
    "            if random.random() < 0.5:\n",
    "                img = TF.hflip(img)\n",
    "        else:\n",
    "            # test는 CIFAR10 원본이 이미 32x32라 별도 크롭/리사이즈 불필요\n",
    "            pass\n",
    "\n",
    "        # 3) numpy 변환 (H,W,C, float32, 0~255)\n",
    "        arr = np.array(img, dtype=np.float32)  # (H,W,3)\n",
    "\n",
    "        # 4) 채널별 MinMaxScaler 적용 (훈련셋 통계 기반)\n",
    "        H, W, _ = arr.shape\n",
    "        for c in range(3):\n",
    "            ch = arr[..., c].reshape(-1, 1)               # (H*W,1)\n",
    "            ch_scaled = self.scalers[c].transform(ch)     # [0,1] 스케일\n",
    "            arr[..., c] = ch_scaled.reshape(H, W)\n",
    "\n",
    "        # 5) Tensor 변환 (C,H,W)\n",
    "        arr = np.transpose(arr, (2, 0, 1))  # (3,H,W)\n",
    "        tensor = torch.from_numpy(arr).float()\n",
    "\n",
    "        return tensor, label\n",
    "\n",
    "# 래퍼 적용\n",
    "train_dataset = CIFAR10Preprocessed(train_base, scalers, train=True)\n",
    "test_dataset  = CIFAR10Preprocessed(test_base,  scalers, train=False)\n",
    "\n",
    "train_loader = DataLoader(train_dataset, batch_size=BATCH_SIZE, shuffle=True,\n",
    "                          num_workers=4, pin_memory=True, drop_last=True)\n",
    "test_loader  = DataLoader(test_dataset, batch_size=256, shuffle=False,\n",
    "                          num_workers=4, pin_memory=True)\n",
    "\n",
    "# ============================================================\n",
    "# 3) 모델 생성 — 간단한 CNN + Residual Block\n",
    "#    - 채널 수를 작게(32→64→128) 유지해 \"간단함\"에 초점\n",
    "#    - 각 stage 첫 블록에서 stride=2로 다운샘플\n",
    "# ============================================================\n",
    "\n",
    "def conv3x3(in_ch, out_ch, stride=1):\n",
    "    return nn.Conv2d(in_ch, out_ch, kernel_size=3, stride=stride, padding=1, bias=False)\n",
    "\n",
    "class BasicBlock(nn.Module):\n",
    "    expansion = 1\n",
    "    def __init__(self, in_ch, out_ch, stride=1):\n",
    "        super().__init__()\n",
    "        self.conv1 = conv3x3(in_ch, out_ch, stride)\n",
    "        self.bn1   = nn.BatchNorm2d(out_ch)\n",
    "        self.relu  = nn.ReLU(inplace=True)\n",
    "        self.conv2 = conv3x3(out_ch, out_ch, 1)\n",
    "        self.bn2   = nn.BatchNorm2d(out_ch)\n",
    "\n",
    "        self.downsample = None\n",
    "        if stride != 1 or in_ch != out_ch:\n",
    "            self.downsample = nn.Sequential(\n",
    "                nn.Conv2d(in_ch, out_ch, kernel_size=1, stride=stride, bias=False),\n",
    "                nn.BatchNorm2d(out_ch)\n",
    "            )\n",
    "\n",
    "    def forward(self, x):\n",
    "        identity = x\n",
    "        out = self.relu(self.bn1(self.conv1(x)))\n",
    "        out = self.bn2(self.conv2(out))\n",
    "        if self.downsample is not None:\n",
    "            identity = self.downsample(x)\n",
    "        out = self.relu(out + identity)\n",
    "        return out\n",
    "\n",
    "class SimpleResNet(nn.Module):\n",
    "    def __init__(self, num_classes=10):\n",
    "        super().__init__()\n",
    "        self.stem = nn.Sequential(\n",
    "            conv3x3(3, 32, stride=1),\n",
    "            nn.BatchNorm2d(32),\n",
    "            nn.ReLU(inplace=True),\n",
    "        )\n",
    "        # stages: (간단히 각 2블록)\n",
    "        self.layer1 = nn.Sequential(\n",
    "            BasicBlock(32, 32, stride=1),\n",
    "            BasicBlock(32, 32, stride=1),\n",
    "        )\n",
    "        self.layer2 = nn.Sequential(\n",
    "            BasicBlock(32, 64, stride=2),\n",
    "            BasicBlock(64, 64, stride=1),\n",
    "        )\n",
    "        self.layer3 = nn.Sequential(\n",
    "            BasicBlock(64, 128, stride=2),\n",
    "            BasicBlock(128, 128, stride=1),\n",
    "        )\n",
    "        self.avgpool = nn.AdaptiveAvgPool2d(1)\n",
    "        self.fc = nn.Linear(128, num_classes)\n",
    "\n",
    "        # He init\n",
    "        for m in self.modules():\n",
    "            if isinstance(m, nn.Conv2d):\n",
    "                nn.init.kaiming_normal_(m.weight, mode='fan_out', nonlinearity='relu')\n",
    "            elif isinstance(m, nn.BatchNorm2d):\n",
    "                nn.init.constant_(m.weight, 1.0)\n",
    "                nn.init.constant_(m.bias, 0.0)\n",
    "            elif isinstance(m, nn.Linear):\n",
    "                nn.init.normal_(m.weight, 0, 0.01)\n",
    "                nn.init.constant_(m.bias, 0.0)\n",
    "\n",
    "    def forward(self, x):\n",
    "        x = self.stem(x)      # 32x32\n",
    "        x = self.layer1(x)    # 32x32\n",
    "        x = self.layer2(x)    # 16x16\n",
    "        x = self.layer3(x)    # 8x8\n",
    "        x = self.avgpool(x)   # 1x1\n",
    "        x = torch.flatten(x, 1)\n",
    "        x = self.fc(x)\n",
    "        return x\n",
    "\n",
    "model = SimpleResNet(num_classes=10).to(device)\n",
    "\n",
    "# 옵티마이저/스케줄러/손실\n",
    "optimizer = torch.optim.SGD(model.parameters(), lr=BASE_LR, momentum=MOMENTUM,\n",
    "                            weight_decay=WEIGHT_DECAY, nesterov=True)\n",
    "\n",
    "def lr_lambda(epoch):\n",
    "    # Linear warmup → Cosine decay\n",
    "    if epoch < WARMUP_EPOCHS:\n",
    "        return float(epoch + 1) / float(WARMUP_EPOCHS)\n",
    "    t = (epoch - WARMUP_EPOCHS) / max(1, (EPOCHS - WARMUP_EPOCHS))\n",
    "    return 0.5 * (1.0 + math.cos(math.pi * t))\n",
    "\n",
    "scheduler = torch.optim.lr_scheduler.LambdaLR(optimizer, lr_lambda=lr_lambda)\n",
    "criterion = nn.CrossEntropyLoss(label_smoothing=LABEL_SMOOTH)\n",
    "\n",
    "scaler = torch.cuda.amp.GradScaler(enabled=torch.cuda.is_available())\n",
    "\n",
    "# ============================================================\n",
    "# 4) 학습 루프\n",
    "# ============================================================\n",
    "def train_one_epoch(epoch):\n",
    "    model.train()\n",
    "    running_loss = 0.0\n",
    "    n = 0\n",
    "\n",
    "    for imgs, labels in train_loader:\n",
    "        imgs = imgs.to(device, non_blocking=True)\n",
    "        labels = labels.to(device, non_blocking=True)\n",
    "\n",
    "        optimizer.zero_grad(set_to_none=True)\n",
    "        with torch.cuda.amp.autocast(enabled=torch.cuda.is_available()):\n",
    "            logits = model(imgs)\n",
    "            loss = criterion(logits, labels)\n",
    "\n",
    "        scaler.scale(loss).backward()\n",
    "        scaler.step(optimizer)\n",
    "        scaler.update()\n",
    "\n",
    "        running_loss += loss.item() * imgs.size(0)\n",
    "        n += imgs.size(0)\n",
    "\n",
    "    scheduler.step()\n",
    "    print(f\"[Train] Epoch {epoch:03d} | loss={running_loss / max(1,n):.4f} | lr={scheduler.get_last_lr()[0]:.5f}\")\n",
    "\n",
    "# ============================================================\n",
    "# 5) 검증\n",
    "# ============================================================\n",
    "@torch.no_grad()\n",
    "def evaluate():\n",
    "    model.eval()\n",
    "    total, correct, loss_sum = 0, 0, 0.0\n",
    "    for imgs, labels in test_loader:\n",
    "        imgs = imgs.to(device, non_blocking=True)\n",
    "        labels = labels.to(device, non_blocking=True)\n",
    "        with torch.cuda.amp.autocast(enabled=torch.cuda.is_available()):\n",
    "            logits = model(imgs)\n",
    "            loss = criterion(logits, labels)\n",
    "        loss_sum += loss.item() * imgs.size(0)\n",
    "        pred = logits.argmax(1)\n",
    "        correct += (pred == labels).sum().item()\n",
    "        total += labels.size(0)\n",
    "    return loss_sum / total, 100.0 * correct / total\n",
    "\n",
    "# ============================================================\n",
    "# 실행\n",
    "# ============================================================\n",
    "best_acc = 0.0\n",
    "Path('checkpoints').mkdir(exist_ok=True)\n",
    "\n",
    "for epoch in range(1, EPOCHS + 1):\n",
    "    train_one_epoch(epoch)\n",
    "    if epoch % 5 == 0 or epoch == EPOCHS:\n",
    "        tl, ta = evaluate()\n",
    "        print(f\"[Val/Test] Epoch {epoch:03d} | loss={tl:.4f} | acc={ta:.2f}%\")\n",
    "        if ta > best_acc:\n",
    "            best_acc = ta\n",
    "            torch.save(model.state_dict(), 'checkpoints/simple_rescnn_cifar10_best.pth')\n",
    "            print(f\"  ↳ New best saved ({best_acc:.2f}%).\")\n",
    "\n",
    "print(f\"Done. Best Test Acc: {best_acc:.2f}%\")\n"
   ]
  },
  {
   "cell_type": "code",
   "execution_count": null,
   "metadata": {},
   "outputs": [],
   "source": []
  },
  {
   "cell_type": "code",
   "execution_count": null,
   "metadata": {},
   "outputs": [],
   "source": []
  },
  {
   "cell_type": "code",
   "execution_count": null,
   "metadata": {},
   "outputs": [],
   "source": []
  },
  {
   "cell_type": "code",
   "execution_count": null,
   "metadata": {},
   "outputs": [],
   "source": []
  },
  {
   "cell_type": "code",
   "execution_count": null,
   "metadata": {},
   "outputs": [],
   "source": []
  },
  {
   "cell_type": "code",
   "execution_count": null,
   "metadata": {},
   "outputs": [],
   "source": []
  },
  {
   "cell_type": "code",
   "execution_count": null,
   "metadata": {},
   "outputs": [],
   "source": []
  },
  {
   "cell_type": "code",
   "execution_count": null,
   "metadata": {},
   "outputs": [],
   "source": []
  },
  {
   "cell_type": "code",
   "execution_count": null,
   "metadata": {},
   "outputs": [],
   "source": []
  },
  {
   "cell_type": "code",
   "execution_count": null,
   "metadata": {},
   "outputs": [],
   "source": []
  },
  {
   "cell_type": "code",
   "execution_count": null,
   "metadata": {},
   "outputs": [],
   "source": []
  },
  {
   "cell_type": "code",
   "execution_count": 1,
   "metadata": {
    "execution": {
     "iopub.execute_input": "2025-09-04T13:32:48.296965Z",
     "iopub.status.busy": "2025-09-04T13:32:48.296713Z",
     "iopub.status.idle": "2025-09-04T13:32:50.449607Z",
     "shell.execute_reply": "2025-09-04T13:32:50.448920Z",
     "shell.execute_reply.started": "2025-09-04T13:32:48.296938Z"
    },
    "id": "siuUDcm7JRvv"
   },
   "outputs": [],
   "source": [
    "import torch\n",
    "import torch.nn as nn\n",
    "import torch.optim as optim\n",
    "import torchvision\n",
    "import torchvision.transforms as transforms\n",
    "import matplotlib.pyplot as plt"
   ]
  },
  {
   "cell_type": "code",
   "execution_count": 2,
   "metadata": {
    "execution": {
     "iopub.execute_input": "2025-09-04T13:32:50.450224Z",
     "iopub.status.busy": "2025-09-04T13:32:50.450039Z",
     "iopub.status.idle": "2025-09-04T13:32:50.452803Z",
     "shell.execute_reply": "2025-09-04T13:32:50.452204Z",
     "shell.execute_reply.started": "2025-09-04T13:32:50.450210Z"
    },
    "id": "kSz5y_Q5Jqts"
   },
   "outputs": [],
   "source": [
    "import numpy as np"
   ]
  },
  {
   "cell_type": "markdown",
   "metadata": {
    "id": "NR8E6URZK1X3"
   },
   "source": [
    "# 데이터 로딩"
   ]
  },
  {
   "cell_type": "code",
   "execution_count": 3,
   "metadata": {
    "execution": {
     "iopub.execute_input": "2025-09-04T13:32:50.453297Z",
     "iopub.status.busy": "2025-09-04T13:32:50.453177Z",
     "iopub.status.idle": "2025-09-04T13:32:50.468445Z",
     "shell.execute_reply": "2025-09-04T13:32:50.467865Z",
     "shell.execute_reply.started": "2025-09-04T13:32:50.453284Z"
    },
    "id": "JKpNHoYDjpUC"
   },
   "outputs": [],
   "source": [
    "transform_train = transforms.Compose([\n",
    "    transforms.RandomCrop(32, padding=4),      # 데이터 증강 (패딩 후 랜덤 크롭)\n",
    "    transforms.RandomHorizontalFlip(),         # 좌우 반전\n",
    "    transforms.ToTensor(),\n",
    "    # transforms.Normalize((0.4914, 0.4822, 0.4465),\n",
    "    #                      (0.2023, 0.1994, 0.2010))  # CIFAR-10 평균/표준편차\n",
    "])"
   ]
  },
  {
   "cell_type": "code",
   "execution_count": 4,
   "metadata": {
    "execution": {
     "iopub.execute_input": "2025-09-04T13:32:50.468964Z",
     "iopub.status.busy": "2025-09-04T13:32:50.468847Z",
     "iopub.status.idle": "2025-09-04T13:32:50.477467Z",
     "shell.execute_reply": "2025-09-04T13:32:50.476901Z",
     "shell.execute_reply.started": "2025-09-04T13:32:50.468952Z"
    },
    "id": "gjvUwYhKjo-b"
   },
   "outputs": [],
   "source": [
    "transform_test = transforms.Compose([\n",
    "    transforms.ToTensor(),\n",
    "    # transforms.Normalize((0.4914, 0.4822, 0.4465),\n",
    "    #                      (0.2023, 0.1994, 0.2010))\n",
    "])"
   ]
  },
  {
   "cell_type": "code",
   "execution_count": 5,
   "metadata": {
    "execution": {
     "iopub.execute_input": "2025-09-04T13:32:50.477942Z",
     "iopub.status.busy": "2025-09-04T13:32:50.477825Z",
     "iopub.status.idle": "2025-09-04T13:32:51.589006Z",
     "shell.execute_reply": "2025-09-04T13:32:51.588284Z",
     "shell.execute_reply.started": "2025-09-04T13:32:50.477930Z"
    },
    "id": "yPGOz6I1JkBj"
   },
   "outputs": [],
   "source": [
    "full_trainset = torchvision.datasets.CIFAR10(root='./data', train=True, download=True, transform=transform_train)\n",
    "testset = torchvision.datasets.CIFAR10(root='./data', train=False, download=True, transform=transform_test)"
   ]
  },
  {
   "cell_type": "code",
   "execution_count": 6,
   "metadata": {
    "execution": {
     "iopub.execute_input": "2025-09-04T13:32:51.590466Z",
     "iopub.status.busy": "2025-09-04T13:32:51.590337Z",
     "iopub.status.idle": "2025-09-04T13:32:51.594777Z",
     "shell.execute_reply": "2025-09-04T13:32:51.594351Z",
     "shell.execute_reply.started": "2025-09-04T13:32:51.590453Z"
    },
    "id": "KGuK-J08Jje-"
   },
   "outputs": [],
   "source": [
    "# train/val split\n",
    "train_size = int(0.8 * len(full_trainset))\n",
    "val_size = len(full_trainset) - train_size\n",
    "train_dataset, val_dataset = torch.utils.data.random_split(full_trainset, [train_size, val_size])"
   ]
  },
  {
   "cell_type": "code",
   "execution_count": 7,
   "metadata": {
    "execution": {
     "iopub.execute_input": "2025-09-04T13:32:51.595325Z",
     "iopub.status.busy": "2025-09-04T13:32:51.595194Z",
     "iopub.status.idle": "2025-09-04T13:32:51.608071Z",
     "shell.execute_reply": "2025-09-04T13:32:51.607660Z",
     "shell.execute_reply.started": "2025-09-04T13:32:51.595311Z"
    },
    "id": "HPwZhoShJu-J"
   },
   "outputs": [],
   "source": [
    "trainloader = torch.utils.data.DataLoader(train_dataset, batch_size=64, shuffle=True)\n",
    "valloader = torch.utils.data.DataLoader(val_dataset, batch_size=64, shuffle=False)\n",
    "testloader = torch.utils.data.DataLoader(testset, batch_size=64, shuffle=False)"
   ]
  },
  {
   "cell_type": "markdown",
   "metadata": {
    "id": "rF4qmfruKALK"
   },
   "source": [
    "# 모델 생성"
   ]
  },
  {
   "cell_type": "code",
   "execution_count": 8,
   "metadata": {
    "execution": {
     "iopub.execute_input": "2025-09-04T13:32:51.608512Z",
     "iopub.status.busy": "2025-09-04T13:32:51.608396Z",
     "iopub.status.idle": "2025-09-04T13:32:51.750454Z",
     "shell.execute_reply": "2025-09-04T13:32:51.749827Z",
     "shell.execute_reply.started": "2025-09-04T13:32:51.608500Z"
    },
    "id": "CzKMwfkkJ9dS"
   },
   "outputs": [],
   "source": [
    "device = torch.device(\"cuda\" if torch.cuda.is_available() else \"cpu\")"
   ]
  },
  {
   "cell_type": "code",
   "execution_count": 9,
   "metadata": {
    "execution": {
     "iopub.execute_input": "2025-09-04T13:32:51.751024Z",
     "iopub.status.busy": "2025-09-04T13:32:51.750888Z",
     "iopub.status.idle": "2025-09-04T13:32:51.760866Z",
     "shell.execute_reply": "2025-09-04T13:32:51.760358Z",
     "shell.execute_reply.started": "2025-09-04T13:32:51.751011Z"
    },
    "id": "bXsbsxsCKDje"
   },
   "outputs": [],
   "source": [
    "class CNN(nn.Module):\n",
    "    def __init__(self):\n",
    "        super(CNN, self).__init__()\n",
    "        self.conv1 = nn.Conv2d(3, 32, 3, padding=1)\n",
    "        self.conv2 = nn.Conv2d(32, 64, 3, padding=1)\n",
    "        self.pool = nn.MaxPool2d(2, 2)\n",
    "        self.fc1 = nn.Linear(64 * 8 * 8, 128)\n",
    "        self.fc2 = nn.Linear(128, 10)\n",
    "        self.relu = nn.ReLU()\n",
    "\n",
    "    def forward(self, x):\n",
    "        x = self.pool(self.relu(self.conv1(x)))\n",
    "        x = self.pool(self.relu(self.conv2(x)))\n",
    "        x = x.view(-1, 64 * 8 * 8)\n",
    "        x = self.relu(self.fc1(x))\n",
    "        return self.fc2(x)"
   ]
  },
  {
   "cell_type": "code",
   "execution_count": 13,
   "metadata": {
    "execution": {
     "iopub.execute_input": "2025-09-04T13:33:03.253400Z",
     "iopub.status.busy": "2025-09-04T13:33:03.253170Z",
     "iopub.status.idle": "2025-09-04T13:33:03.259532Z",
     "shell.execute_reply": "2025-09-04T13:33:03.259111Z",
     "shell.execute_reply.started": "2025-09-04T13:33:03.253383Z"
    },
    "id": "dq3C_k0xKH3I"
   },
   "outputs": [],
   "source": [
    "model = CNN().to(device)\n",
    "loss_fn = nn.CrossEntropyLoss()\n",
    "optimizer = optim.Adam(model.parameters(), lr=0.001)"
   ]
  },
  {
   "cell_type": "markdown",
   "metadata": {
    "id": "6yIPonKwKNJH"
   },
   "source": [
    "# 학습"
   ]
  },
  {
   "cell_type": "code",
   "execution_count": 14,
   "metadata": {
    "execution": {
     "iopub.execute_input": "2025-09-04T13:33:03.571957Z",
     "iopub.status.busy": "2025-09-04T13:33:03.571724Z",
     "iopub.status.idle": "2025-09-04T13:33:03.575031Z",
     "shell.execute_reply": "2025-09-04T13:33:03.574424Z",
     "shell.execute_reply.started": "2025-09-04T13:33:03.571940Z"
    },
    "id": "gbBGzdZCKKF4"
   },
   "outputs": [],
   "source": [
    "# 로그 저장용 리스트\n",
    "train_losses, train_accuracies, valid_losses, valid_accuracies = [], [], [], []"
   ]
  },
  {
   "cell_type": "code",
   "execution_count": 15,
   "metadata": {
    "execution": {
     "iopub.execute_input": "2025-09-04T13:33:03.932936Z",
     "iopub.status.busy": "2025-09-04T13:33:03.932593Z",
     "iopub.status.idle": "2025-09-04T13:40:27.989590Z",
     "shell.execute_reply": "2025-09-04T13:40:27.988896Z",
     "shell.execute_reply.started": "2025-09-04T13:33:03.932909Z"
    },
    "id": "fxC7zbLCKRaN"
   },
   "outputs": [
    {
     "name": "stdout",
     "output_type": "stream",
     "text": [
      "Epoch 1/50 : TRAIN[Loss: 1.6876, Acc: 38.16%], VALID[Loss: 1.4905, Acc: 45.51%]\n",
      "Epoch 2/50 : TRAIN[Loss: 1.4023, Acc: 49.08%], VALID[Loss: 1.3730, Acc: 49.56%]\n",
      "Epoch 3/50 : TRAIN[Loss: 1.2792, Acc: 53.81%], VALID[Loss: 1.2377, Acc: 55.17%]\n",
      "Epoch 4/50 : TRAIN[Loss: 1.1767, Acc: 57.91%], VALID[Loss: 1.1879, Acc: 56.92%]\n",
      "Epoch 5/50 : TRAIN[Loss: 1.1035, Acc: 60.68%], VALID[Loss: 1.0998, Acc: 61.16%]\n",
      "Epoch 6/50 : TRAIN[Loss: 1.0531, Acc: 62.27%], VALID[Loss: 1.1028, Acc: 61.18%]\n",
      "Epoch 7/50 : TRAIN[Loss: 1.0103, Acc: 63.88%], VALID[Loss: 1.0078, Acc: 64.53%]\n",
      "Epoch 8/50 : TRAIN[Loss: 0.9840, Acc: 65.04%], VALID[Loss: 0.9888, Acc: 65.27%]\n",
      "Epoch 9/50 : TRAIN[Loss: 0.9512, Acc: 66.11%], VALID[Loss: 0.9581, Acc: 66.49%]\n",
      "Epoch 10/50 : TRAIN[Loss: 0.9255, Acc: 67.28%], VALID[Loss: 0.9602, Acc: 66.41%]\n",
      "Epoch 11/50 : TRAIN[Loss: 0.9083, Acc: 67.82%], VALID[Loss: 0.9604, Acc: 66.24%]\n",
      "Epoch 12/50 : TRAIN[Loss: 0.8902, Acc: 68.50%], VALID[Loss: 0.9520, Acc: 67.13%]\n",
      "Epoch 13/50 : TRAIN[Loss: 0.8705, Acc: 69.64%], VALID[Loss: 0.9190, Acc: 67.85%]\n",
      "Epoch 14/50 : TRAIN[Loss: 0.8515, Acc: 69.91%], VALID[Loss: 0.8895, Acc: 69.08%]\n",
      "Epoch 15/50 : TRAIN[Loss: 0.8376, Acc: 70.38%], VALID[Loss: 0.9056, Acc: 68.44%]\n",
      "Epoch 16/50 : TRAIN[Loss: 0.8295, Acc: 70.45%], VALID[Loss: 0.8746, Acc: 69.76%]\n",
      "Epoch 17/50 : TRAIN[Loss: 0.8138, Acc: 71.42%], VALID[Loss: 0.8669, Acc: 69.94%]\n",
      "Epoch 18/50 : TRAIN[Loss: 0.8020, Acc: 71.70%], VALID[Loss: 0.8808, Acc: 69.31%]\n",
      "Epoch 19/50 : TRAIN[Loss: 0.7921, Acc: 72.23%], VALID[Loss: 0.8471, Acc: 70.95%]\n",
      "Epoch 20/50 : TRAIN[Loss: 0.7772, Acc: 72.69%], VALID[Loss: 0.8772, Acc: 70.05%]\n",
      "Epoch 21/50 : TRAIN[Loss: 0.7712, Acc: 72.83%], VALID[Loss: 0.8703, Acc: 70.03%]\n",
      "Epoch 22/50 : TRAIN[Loss: 0.7637, Acc: 73.09%], VALID[Loss: 0.8446, Acc: 70.95%]\n",
      "Epoch 23/50 : TRAIN[Loss: 0.7473, Acc: 73.68%], VALID[Loss: 0.8349, Acc: 71.46%]\n",
      "Epoch 24/50 : TRAIN[Loss: 0.7471, Acc: 73.73%], VALID[Loss: 0.8453, Acc: 71.45%]\n",
      "Epoch 25/50 : TRAIN[Loss: 0.7324, Acc: 74.29%], VALID[Loss: 0.8318, Acc: 71.71%]\n",
      "Epoch 26/50 : TRAIN[Loss: 0.7268, Acc: 74.40%], VALID[Loss: 0.8238, Acc: 71.30%]\n",
      "Epoch 27/50 : TRAIN[Loss: 0.7244, Acc: 74.66%], VALID[Loss: 0.8261, Acc: 71.59%]\n",
      "Epoch 28/50 : TRAIN[Loss: 0.7233, Acc: 74.44%], VALID[Loss: 0.8207, Acc: 72.01%]\n",
      "Epoch 29/50 : TRAIN[Loss: 0.7138, Acc: 74.79%], VALID[Loss: 0.8222, Acc: 71.70%]\n",
      "Epoch 30/50 : TRAIN[Loss: 0.7043, Acc: 75.14%], VALID[Loss: 0.8035, Acc: 72.48%]\n",
      "Epoch 31/50 : TRAIN[Loss: 0.6964, Acc: 75.38%], VALID[Loss: 0.8292, Acc: 72.12%]\n",
      "Epoch 32/50 : TRAIN[Loss: 0.6950, Acc: 75.60%], VALID[Loss: 0.7907, Acc: 73.33%]\n",
      "Epoch 33/50 : TRAIN[Loss: 0.6894, Acc: 75.78%], VALID[Loss: 0.8233, Acc: 71.76%]\n",
      "Epoch 34/50 : TRAIN[Loss: 0.6814, Acc: 76.11%], VALID[Loss: 0.7973, Acc: 72.72%]\n",
      "Epoch 35/50 : TRAIN[Loss: 0.6769, Acc: 76.23%], VALID[Loss: 0.7771, Acc: 73.95%]\n",
      "Epoch 36/50 : TRAIN[Loss: 0.6765, Acc: 76.29%], VALID[Loss: 0.8375, Acc: 71.81%]\n",
      "Epoch 37/50 : TRAIN[Loss: 0.6765, Acc: 76.27%], VALID[Loss: 0.7760, Acc: 73.42%]\n",
      "Epoch 38/50 : TRAIN[Loss: 0.6694, Acc: 76.55%], VALID[Loss: 0.7750, Acc: 73.61%]\n",
      "Epoch 39/50 : TRAIN[Loss: 0.6615, Acc: 76.59%], VALID[Loss: 0.7925, Acc: 72.91%]\n",
      "Epoch 40/50 : TRAIN[Loss: 0.6600, Acc: 76.53%], VALID[Loss: 0.7668, Acc: 74.16%]\n",
      "Epoch 41/50 : TRAIN[Loss: 0.6515, Acc: 77.04%], VALID[Loss: 0.7779, Acc: 73.17%]\n",
      "Epoch 42/50 : TRAIN[Loss: 0.6533, Acc: 76.98%], VALID[Loss: 0.7709, Acc: 74.17%]\n",
      "Epoch 43/50 : TRAIN[Loss: 0.6459, Acc: 77.28%], VALID[Loss: 0.8086, Acc: 72.85%]\n",
      "Epoch 44/50 : TRAIN[Loss: 0.6417, Acc: 77.59%], VALID[Loss: 0.7946, Acc: 73.00%]\n",
      "Epoch 45/50 : TRAIN[Loss: 0.6443, Acc: 77.26%], VALID[Loss: 0.7647, Acc: 74.37%]\n",
      "Epoch 46/50 : TRAIN[Loss: 0.6365, Acc: 77.60%], VALID[Loss: 0.7526, Acc: 74.50%]\n",
      "Epoch 47/50 : TRAIN[Loss: 0.6304, Acc: 77.82%], VALID[Loss: 0.7943, Acc: 73.43%]\n",
      "Epoch 48/50 : TRAIN[Loss: 0.6244, Acc: 78.20%], VALID[Loss: 0.7581, Acc: 74.43%]\n",
      "Epoch 49/50 : TRAIN[Loss: 0.6270, Acc: 77.96%], VALID[Loss: 0.7638, Acc: 74.47%]\n",
      "Epoch 50/50 : TRAIN[Loss: 0.6183, Acc: 78.04%], VALID[Loss: 0.7509, Acc: 74.51%]\n"
     ]
    }
   ],
   "source": [
    "for epoch in range(50):                       # 총 40번 데이터셋을 반복\n",
    "    model.train()                             # 학습 모드(드롭아웃/배치정규화 등 학습 동작 켜짐)\n",
    "    running_loss = 0                          # 에폭 동안의 학습 손실 누적 변수\n",
    "    train_correct, train_total = 0, 0         # (추가) 에폭 단위 Train Acc 계산용\n",
    "\n",
    "    # ---- 미니배치 학습 루프 ----\n",
    "    for inputs, labels in trainloader:        # DataLoader에서 (입력, 정답) 배치를 꺼냄\n",
    "        inputs, labels = inputs.to(device), labels.to(device)  # 배치 텐서를 모델과 같은 장치로 이동\n",
    "        optimizer.zero_grad()                 # 직전 step의 누적 gradient를 0으로 초기화\n",
    "        outputs = model(inputs)               # 순전파: 모델이 logits(미규격화 점수) 출력\n",
    "        loss = loss_fn(outputs, labels)       # 손실 계산(CrossEntropyLoss: softmax+NLL 통합)\n",
    "        loss.backward()                       # 역전파: 각 파라미터의 gradient 계산\n",
    "        optimizer.step()                      # 가중치 갱신(gradient를 이용해 한 스텝 업데이트)\n",
    "        running_loss += loss.item()           # 현재 배치의 손실 값을 파이썬 float로 누적\n",
    "\n",
    "        # (추가) 배치 예측으로 Train Acc 누적\n",
    "        _, predicted = torch.max(outputs, 1)\n",
    "        train_total += labels.size(0)\n",
    "        train_correct += (predicted == labels).sum().item()\n",
    "\n",
    "    train_losses.append(running_loss / len(trainloader))  # 에폭 평균 학습 손실 기록 (배치 개수로 나눔)\n",
    "    train_accuracies.append(100 * train_correct / train_total)     # 학습 정확도(%) 기록\n",
    "\n",
    "    # ----- Validation -----\n",
    "    model.eval()                              # 평가 모드(드롭아웃/BN 등 평가 동작)\n",
    "    val_loss, correct, total = 0, 0, 0\n",
    "    with torch.no_grad():                     # 평가 시에는 gradient 계산 비활성화(메모리/속도 이점)\n",
    "        for inputs, labels in valloader:      # 검증 데이터 배치 반복\n",
    "            inputs, labels = inputs.to(device), labels.to(device)  # 장치 정렬\n",
    "            outputs = model(inputs)           # 순전파만 수행\n",
    "            loss = loss_fn(outputs, labels)   # 검증 배치 손실\n",
    "            val_loss += loss.item()           # 손실 누적\n",
    "            _, predicted = torch.max(outputs, 1)     # 각 샘플의 최고 점수 클래스 인덱스\n",
    "            total += labels.size(0)                  # 총 샘플 수 누적\n",
    "            correct += (predicted == labels).sum().item()  # 맞춘 개수 누적\n",
    "\n",
    "    valid_losses.append(val_loss / len(valloader))     # 에폭 평균 검증 손실 기록\n",
    "    valid_accuracies.append(100 * correct / total)     # 검증 정확도(%) 기록\n",
    "\n",
    "    # 진행 상황 출력(총 30에 맞추어 표기)\n",
    "    print(f\"Epoch {epoch+1}/50 : TRAIN[Loss: {train_losses[-1]:.4f}, Acc: {train_accuracies[-1]:.2f}%], VALID[Loss: {valid_losses[-1]:.4f}, Acc: {valid_accuracies[-1]:.2f}%]\")"
   ]
  },
  {
   "cell_type": "markdown",
   "metadata": {
    "id": "6I2IUuE5Lnbr"
   },
   "source": [
    "# 학습결과 확인"
   ]
  },
  {
   "cell_type": "code",
   "execution_count": 16,
   "metadata": {
    "execution": {
     "iopub.execute_input": "2025-09-04T13:40:27.990336Z",
     "iopub.status.busy": "2025-09-04T13:40:27.990212Z",
     "iopub.status.idle": "2025-09-04T13:40:28.075084Z",
     "shell.execute_reply": "2025-09-04T13:40:28.074437Z",
     "shell.execute_reply.started": "2025-09-04T13:40:27.990323Z"
    },
    "id": "GJRHS8OoKWAe"
   },
   "outputs": [
    {
     "data": {
      "image/png": "[encoded data removed]",
      "text/plain": [
       "<Figure size 640x480 with 1 Axes>"
      ]
     },
     "metadata": {},
     "output_type": "display_data"
    }
   ],
   "source": [
    "plt.figure()\n",
    "plt.plot(train_losses, label=\"Train Loss\")\n",
    "plt.plot(valid_losses, label=\"Valid Loss\")\n",
    "plt.legend()\n",
    "plt.title(\"Loss\")\n",
    "plt.show()"
   ]
  },
  {
   "cell_type": "code",
   "execution_count": 17,
   "metadata": {
    "execution": {
     "iopub.execute_input": "2025-09-04T13:40:28.075649Z",
     "iopub.status.busy": "2025-09-04T13:40:28.075518Z",
     "iopub.status.idle": "2025-09-04T13:40:28.158758Z",
     "shell.execute_reply": "2025-09-04T13:40:28.158125Z",
     "shell.execute_reply.started": "2025-09-04T13:40:28.075628Z"
    },
    "id": "K3dThCqwLvLG"
   },
   "outputs": [
    {
     "data": {
      "image/png": "[encoded data removed]",
      "text/plain": [
       "<Figure size 640x480 with 1 Axes>"
      ]
     },
     "metadata": {},
     "output_type": "display_data"
    }
   ],
   "source": [
    "plt.figure()\n",
    "plt.plot(train_accuracies, label=\"Train Accuracy\")\n",
    "plt.plot(valid_accuracies, label=\"Valid Accuracy\")\n",
    "plt.legend()\n",
    "plt.title(\"Accuracy\")\n",
    "plt.show()"
   ]
  },
  {
   "cell_type": "code",
   "execution_count": 18,
   "metadata": {
    "execution": {
     "iopub.execute_input": "2025-09-04T13:40:28.159570Z",
     "iopub.status.busy": "2025-09-04T13:40:28.159443Z",
     "iopub.status.idle": "2025-09-04T13:40:29.025875Z",
     "shell.execute_reply": "2025-09-04T13:40:29.025179Z",
     "shell.execute_reply.started": "2025-09-04T13:40:28.159557Z"
    },
    "id": "kLFmGovFLyY_"
   },
   "outputs": [
    {
     "name": "stdout",
     "output_type": "stream",
     "text": [
      "Test Accuracy: 77.23%\n"
     ]
    }
   ],
   "source": [
    "model.eval()\n",
    "test_correct, test_total = 0, 0\n",
    "with torch.no_grad():\n",
    "    for images, labels in testloader:\n",
    "        images, labels = images.to(device), labels.to(device)\n",
    "        outputs = model(images)\n",
    "        _, predicted = torch.max(outputs, 1)\n",
    "        test_total += labels.size(0)\n",
    "        test_correct += (predicted == labels).sum().item()\n",
    "print(f\"Test Accuracy: {100 * test_correct / test_total:.2f}%\")"
   ]
  },
  {
   "cell_type": "code",
   "execution_count": null,
   "metadata": {},
   "outputs": [],
   "source": []
  },
  {
   "cell_type": "code",
   "execution_count": null,
   "metadata": {},
   "outputs": [],
   "source": []
  },
  {
   "cell_type": "code",
   "execution_count": null,
   "metadata": {},
   "outputs": [],
   "source": []
  },
  {
   "cell_type": "code",
   "execution_count": null,
   "metadata": {},
   "outputs": [],
   "source": []
  },
  {
   "cell_type": "code",
   "execution_count": null,
   "metadata": {
    "id": "jD3PXyE-kiIc"
   },
   "outputs": [],
   "source": []
  }
 ],
 "metadata": {
  "accelerator": "GPU",
  "colab": {
   "gpuType": "T4",
   "provenance": []
  },
  "kernelspec": {
   "display_name": "Python 3 (ipykernel)",
   "language": "python",
   "name": "python3"
  },
  "language_info": {
   "codemirror_mode": {
    "name": "ipython",
    "version": 3
   },
   "file_extension": ".py",
   "mimetype": "text/x-python",
   "name": "python",
   "nbconvert_exporter": "python",
   "pygments_lexer": "ipython3",
   "version": "3.10.0"
  }
 },
 "nbformat": 4,
 "nbformat_minor": 4
}
