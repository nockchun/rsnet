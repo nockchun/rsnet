{
 "cells": [
  {
   "cell_type": "code",
   "execution_count": null,
   "id": "945294c2-0e53-4fe4-81da-62b4890ade28",
   "metadata": {},
   "outputs": [],
   "source": [
    "import pandas as pd\n",
    "import numpy as np\n",
    "import seaborn as sns\n",
    "import matplotlib.pyplot as plt"
   ]
  },
  {
   "cell_type": "code",
   "execution_count": null,
   "id": "5abe6cb2-af89-498e-b15f-cc3cb4d667be",
   "metadata": {},
   "outputs": [],
   "source": [
    "from sklearn.datasets import load_iris\n",
    "from sklearn.model_selection import train_test_split\n",
    "from sklearn.preprocessing import StandardScaler\n",
    "from sklearn.ensemble import RandomForestClassifier\n",
    "from sklearn.metrics import classification_report, confusion_matrix"
   ]
  },
  {
   "cell_type": "markdown",
   "id": "e5e9af96-25bb-4759-8c3e-1d8344e01598",
   "metadata": {},
   "source": [
    "# 데이터 이해 및 탐색"
   ]
  },
  {
   "cell_type": "code",
   "execution_count": null,
   "id": "11c0b03b-3f8d-4a6b-81bf-4508dee6d97d",
   "metadata": {},
   "outputs": [],
   "source": [
    "iris = load_iris()\n",
    "df = pd.DataFrame(data=iris.data, columns=iris.feature_names)\n",
    "df['target'] = iris.target"
   ]
  },
  {
   "cell_type": "code",
   "execution_count": null,
   "id": "3e87d7d9-fac8-4ad4-9b3f-062101d7c3a1",
   "metadata": {},
   "outputs": [],
   "source": [
    "names = iris[\"target_names\"].tolist()\n",
    "df['target'] = df['target'].map({0: names[0], 1: names[1], 2: names[2]})\n",
    "names"
   ]
  },
  {
   "cell_type": "code",
   "execution_count": null,
   "id": "bac5ee4d-c9c9-41fe-bcd4-7a9ee64db9f9",
   "metadata": {},
   "outputs": [],
   "source": [
    "# 데이터 샘플\n",
    "df.head()"
   ]
  },
  {
   "cell_type": "code",
   "execution_count": null,
   "id": "491fa9d3-3976-4755-8db4-ceb9895ceba0",
   "metadata": {},
   "outputs": [],
   "source": [
    "# 데이터 요약\n",
    "df.describe().T"
   ]
  },
  {
   "cell_type": "code",
   "execution_count": null,
   "id": "ef78563c-eea3-4caa-8b86-6c9d9d92fe59",
   "metadata": {},
   "outputs": [],
   "source": [
    "# 클래스 분포\n",
    "df['target'].value_counts()"
   ]
  },
  {
   "cell_type": "code",
   "execution_count": null,
   "id": "60aac50d-d801-429c-986d-bc8d106fba06",
   "metadata": {},
   "outputs": [],
   "source": [
    "sns.set(style=\"ticks\")\n",
    "sns.pairplot(df, hue='target', markers=[\"o\", \"s\", \"D\"], height=2, aspect=1)\n",
    "plt.suptitle(\"Iris Dataset Pair Plot\", y=1.02)  # 그래프 제목 추가\n",
    "plt.show()"
   ]
  },
  {
   "cell_type": "code",
   "execution_count": null,
   "id": "869b1176-2192-490d-acce-c0268202eeb0",
   "metadata": {},
   "outputs": [],
   "source": [
    "filtered_df = df[df['target'].isin([\"setosa\", \"versicolor\"])]\n",
    "sns.set(style=\"ticks\")\n",
    "sns.pairplot(filtered_df, hue='target', height=2, aspect=1)\n",
    "plt.suptitle(\"Iris Dataset Pair Plot\", y=1.02)  # 그래프 제목 추가\n",
    "plt.show()"
   ]
  },
  {
   "cell_type": "markdown",
   "id": "e2c28493-e035-4977-8401-e5447dc63876",
   "metadata": {
    "execution": {
     "iopub.execute_input": "2025-07-22T07:19:47.146662Z",
     "iopub.status.busy": "2025-07-22T07:19:47.146166Z",
     "iopub.status.idle": "2025-07-22T07:19:47.148726Z",
     "shell.execute_reply": "2025-07-22T07:19:47.148381Z",
     "shell.execute_reply.started": "2025-07-22T07:19:47.146643Z"
    }
   },
   "source": [
    "# 데이터 전처리"
   ]
  },
  {
   "cell_type": "code",
   "execution_count": null,
   "id": "58fdaa17-61dd-4bc4-beda-037d229230c1",
   "metadata": {},
   "outputs": [],
   "source": [
    "# 결측치 확인\n",
    "df.isnull().sum()"
   ]
  },
  {
   "cell_type": "code",
   "execution_count": null,
   "id": "b8aecf31-1046-4ae3-a867-ec266f77b13d",
   "metadata": {},
   "outputs": [],
   "source": [
    "# 피처 이름 정리 (공백 제거)\n",
    "df.columns = [col.replace(\" (cm)\", \"\").replace(\" \", \"_\") for col in df.columns]"
   ]
  },
  {
   "cell_type": "code",
   "execution_count": null,
   "id": "5eb8890d-5f63-43c1-a1f5-89a6a632fdbf",
   "metadata": {},
   "outputs": [],
   "source": [
    "df.head()"
   ]
  },
  {
   "cell_type": "markdown",
   "id": "e64cc248-dd95-4be6-8b7d-c9c9c51c932f",
   "metadata": {},
   "source": [
    "# 피처 엔지니어링"
   ]
  },
  {
   "cell_type": "code",
   "execution_count": null,
   "id": "4057398a-dfe6-424a-b8c4-1dd33d0ed7bf",
   "metadata": {},
   "outputs": [],
   "source": [
    "# 예: petal 길이와 너비의 비율 추가\n",
    "df['petal_ratio'] = df['petal_length'] / df['petal_width']\n",
    "df['sepal_ratio'] = df['sepal_length'] / df['sepal_width']"
   ]
  },
  {
   "cell_type": "markdown",
   "id": "2feb3be3-1329-4a85-ab41-2abd0d81f30c",
   "metadata": {},
   "source": [
    "# 데이터 분할 (데이터, 레이블)"
   ]
  },
  {
   "cell_type": "code",
   "execution_count": null,
   "id": "86e7ce3b-aff8-4097-8440-47d0bce83109",
   "metadata": {},
   "outputs": [],
   "source": [
    "X = df.drop('target', axis=1)\n",
    "y = df['target']"
   ]
  },
  {
   "cell_type": "code",
   "execution_count": null,
   "id": "e9d520a2-e59d-4f6b-8636-487b3a801a9c",
   "metadata": {},
   "outputs": [],
   "source": [
    "X.shape, y.shape"
   ]
  },
  {
   "cell_type": "markdown",
   "id": "b8e3d00c-5261-40c9-81fb-81fdd854952c",
   "metadata": {},
   "source": [
    "# 표준화"
   ]
  },
  {
   "cell_type": "code",
   "execution_count": null,
   "id": "5998c5ee-0b5c-47f3-a481-8daf1374a0cd",
   "metadata": {},
   "outputs": [],
   "source": [
    "scaler = StandardScaler()\n",
    "X_scaled = scaler.fit_transform(X)"
   ]
  },
  {
   "cell_type": "code",
   "execution_count": null,
   "id": "b23cbd9d-3b91-492d-a641-4c4dfb023f5a",
   "metadata": {},
   "outputs": [],
   "source": [
    "pd.DataFrame(X_scaled).describe().T"
   ]
  },
  {
   "cell_type": "code",
   "execution_count": null,
   "id": "8d3906ba-057f-4ce5-8763-57693eb8fabb",
   "metadata": {},
   "outputs": [],
   "source": [
    "X_scaled.shape"
   ]
  },
  {
   "cell_type": "markdown",
   "id": "8bfbcfe3-f798-45a8-9269-ef422287024e",
   "metadata": {},
   "source": [
    "# 훈련/검증 세트 분할"
   ]
  },
  {
   "cell_type": "code",
   "execution_count": null,
   "id": "19dba8e0-3dab-4187-99b6-98f009443b8e",
   "metadata": {},
   "outputs": [],
   "source": [
    "X_train, X_test, y_train, y_test = train_test_split(\n",
    "    X_scaled, y, test_size=0.2, random_state=42, stratify=y\n",
    ")"
   ]
  },
  {
   "cell_type": "code",
   "execution_count": null,
   "id": "132e4ba8-49e1-4596-8bde-1ae3786b465b",
   "metadata": {},
   "outputs": [],
   "source": [
    "X_train.shape, y_train.shape"
   ]
  },
  {
   "cell_type": "code",
   "execution_count": null,
   "id": "30578c93-a135-4341-964f-45cfd7d01c49",
   "metadata": {},
   "outputs": [],
   "source": [
    "X_test.shape, y_test.shape"
   ]
  },
  {
   "cell_type": "markdown",
   "id": "2b36ff20-46b8-47dc-b7a6-f39c98c82a95",
   "metadata": {},
   "source": [
    "# 모델링"
   ]
  },
  {
   "cell_type": "code",
   "execution_count": null,
   "id": "ce246eaa-75d3-4753-81b0-e191e09b0ed9",
   "metadata": {},
   "outputs": [],
   "source": [
    "model = RandomForestClassifier(random_state=42)\n",
    "model.fit(X_train, y_train)\n",
    "y_pred = model.predict(X_test)"
   ]
  },
  {
   "cell_type": "markdown",
   "id": "54e05b4a-b48d-441d-8dec-162f1f870a4c",
   "metadata": {},
   "source": [
    "# 성능 평가"
   ]
  },
  {
   "cell_type": "code",
   "execution_count": null,
   "id": "2f8a75e9-7ffe-41dc-8547-cbb22cd8c891",
   "metadata": {},
   "outputs": [],
   "source": [
    "print(classification_report(y_test, y_pred))"
   ]
  },
  {
   "cell_type": "markdown",
   "id": "3c10d80f-000d-44f9-94c0-59375c79ddb8",
   "metadata": {},
   "source": [
    "- precision(정밀도): 모델이 “그 클래스라고 예측한 것” 중 실제로 맞은 비율\n",
    "- recall(재현율): “실제로 그 클래스인 것” 중 모델이 맞게 찾아낸 비율\n",
    "- f1-score: 정밀도와 재현율의 조화평균\n",
    "- support: 각 클래스의 실제 샘플 수"
   ]
  },
  {
   "cell_type": "code",
   "execution_count": null,
   "id": "44a16b17-b470-4b0e-b15f-404f420fef95",
   "metadata": {},
   "outputs": [],
   "source": [
    "# 혼동 행렬\n",
    "conf_mat = confusion_matrix(y_test, y_pred)\n",
    "sns.heatmap(conf_mat, annot=True, fmt='d', cmap='Blues', xticklabels=iris.target_names, yticklabels=iris.target_names)\n",
    "plt.xlabel(\"Predicted\")\n",
    "plt.ylabel(\"Actual\")\n",
    "plt.title(\"Confusion Matrix\")\n",
    "plt.show()"
   ]
  },
  {
   "cell_type": "code",
   "execution_count": null,
   "id": "af1554fd-166b-4219-a209-150fb9e6228c",
   "metadata": {},
   "outputs": [],
   "source": []
  },
  {
   "cell_type": "code",
   "execution_count": null,
   "id": "a9cfb3b8-1eea-488a-88c6-71a1ef86bcda",
   "metadata": {},
   "outputs": [],
   "source": []
  },
  {
   "cell_type": "code",
   "execution_count": null,
   "id": "71d8ad0e-b29e-4191-8945-22ead944ad57",
   "metadata": {},
   "outputs": [],
   "source": []
  },
  {
   "cell_type": "code",
   "execution_count": null,
   "id": "0c80f36a-eb04-4519-b652-424ab3615f08",
   "metadata": {},
   "outputs": [],
   "source": []
  },
  {
   "cell_type": "code",
   "execution_count": null,
   "id": "3b48642b-71c9-4ca8-8f03-331241b8de80",
   "metadata": {},
   "outputs": [],
   "source": []
  }
 ],
 "metadata": {
  "kernelspec": {
   "display_name": "Python 3 (ipykernel)",
   "language": "python",
   "name": "python3"
  },
  "language_info": {
   "codemirror_mode": {
    "name": "ipython",
    "version": 3
   },
   "file_extension": ".py",
   "mimetype": "text/x-python",
   "name": "python",
   "nbconvert_exporter": "python",
   "pygments_lexer": "ipython3",
   "version": "3.10.0"
  }
 },
 "nbformat": 4,
 "nbformat_minor": 5
}
