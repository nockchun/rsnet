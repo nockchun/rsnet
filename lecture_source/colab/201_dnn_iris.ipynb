{
 "cells": [
  {
   "cell_type": "code",
   "execution_count": 1,
   "metadata": {
    "id": "VZKEqAh9vyTI"
   },
   "outputs": [],
   "source": [
    "import torch\n",
    "import torch.nn as nn\n",
    "import torch.optim as optim\n",
    "import matplotlib.pyplot as plt\n",
    "from sklearn.datasets import load_iris\n",
    "from sklearn.model_selection import train_test_split\n",
    "from sklearn.preprocessing import StandardScaler"
   ]
  },
  {
   "cell_type": "markdown",
   "metadata": {
    "id": "NR8E6URZK1X3"
   },
   "source": [
    "# 데이터 로딩"
   ]
  },
  {
   "cell_type": "code",
   "execution_count": 2,
   "metadata": {
    "id": "yPGOz6I1JkBj"
   },
   "outputs": [],
   "source": [
    "iris = load_iris()\n",
    "X = iris.data\n",
    "y = iris.target"
   ]
  },
  {
   "cell_type": "markdown",
   "metadata": {
    "id": "9JH5iCJO55xe"
   },
   "source": [
    "# 데이터 전처리"
   ]
  },
  {
   "cell_type": "code",
   "execution_count": 3,
   "metadata": {
    "colab": {
     "base_uri": "https://localhost:8080/"
    },
    "id": "vGKau5to58v2",
    "outputId": "fc9a957b-3581-49c9-8c15-c7d507c31735"
   },
   "outputs": [
    {
     "name": "stdout",
     "output_type": "stream",
     "text": [
      "Using device: cuda\n"
     ]
    }
   ],
   "source": [
    "device = torch.device(\"cuda\" if torch.cuda.is_available() else \"cpu\")\n",
    "print(f\"Using device: {device}\")"
   ]
  },
  {
   "cell_type": "code",
   "execution_count": 4,
   "metadata": {
    "id": "_viM93bsx-jL"
   },
   "outputs": [],
   "source": [
    "# 표준화\n",
    "scaler = StandardScaler()\n",
    "X = scaler.fit_transform(X)"
   ]
  },
  {
   "cell_type": "code",
   "execution_count": 5,
   "metadata": {
    "id": "XvkzW_RbwArU"
   },
   "outputs": [],
   "source": [
    "# numpy → tensor 변환 후 GPU로 이동\n",
    "X = torch.tensor(X, dtype=torch.float32)\n",
    "y = torch.tensor(y, dtype=torch.long)"
   ]
  },
  {
   "cell_type": "code",
   "execution_count": 6,
   "metadata": {
    "id": "Il4vlDlw6Bra"
   },
   "outputs": [],
   "source": [
    "# train/validation split\n",
    "X_train, X_val, y_train, y_val = train_test_split(X, y, test_size=0.2, random_state=42)\n",
    "# DataLoader에서는 CPU 텐서를 사용하고, batch에서 GPU로 이동\n"
   ]
  },
  {
   "cell_type": "code",
   "execution_count": 7,
   "metadata": {
    "id": "xQkFyx4D6sAo"
   },
   "outputs": [],
   "source": [
    "train_dataset = torch.utils.data.TensorDataset(X_train, y_train)\n",
    "val_dataset = torch.utils.data.TensorDataset(X_val, y_val)"
   ]
  },
  {
   "cell_type": "code",
   "execution_count": 8,
   "metadata": {
    "id": "-_SW6XMx6vvS"
   },
   "outputs": [],
   "source": [
    "trainloader = torch.utils.data.DataLoader(train_dataset, batch_size=16, shuffle=True)\n",
    "valloader = torch.utils.data.DataLoader(val_dataset, batch_size=16, shuffle=False)"
   ]
  },
  {
   "cell_type": "markdown",
   "metadata": {
    "id": "zFi4DqWA6zAI"
   },
   "source": [
    "# 모델 생성"
   ]
  },
  {
   "cell_type": "code",
   "execution_count": 9,
   "metadata": {
    "id": "RWQsbYDt6x57"
   },
   "outputs": [],
   "source": [
    "class DNN(nn.Module):\n",
    "    def __init__(self):\n",
    "        super(DNN, self).__init__()\n",
    "        self.fc1 = nn.Linear(4, 16)   # 입력: 4차원 feature\n",
    "        self.fc2 = nn.Linear(16, 8)\n",
    "        self.fc3 = nn.Linear(8, 3)    # 출력: 3 클래스\n",
    "        self.relu = nn.ReLU()\n",
    "\n",
    "    def forward(self, x):\n",
    "        x = self.relu(self.fc1(x))\n",
    "        x = self.relu(self.fc2(x))\n",
    "        return self.fc3(x)"
   ]
  },
  {
   "cell_type": "code",
   "execution_count": 10,
   "metadata": {
    "id": "YWppH57r6-eq"
   },
   "outputs": [],
   "source": [
    "model = DNN().to(device)  # 모델 GPU 이동\n",
    "criterion = nn.CrossEntropyLoss()\n",
    "optimizer = optim.Adam(model.parameters(), lr=0.01)"
   ]
  },
  {
   "cell_type": "markdown",
   "metadata": {
    "id": "rmm_Yva07BEo"
   },
   "source": [
    "# 학습"
   ]
  },
  {
   "cell_type": "code",
   "execution_count": 11,
   "metadata": {
    "id": "wLIMfbMO7AY4"
   },
   "outputs": [],
   "source": [
    "train_losses, val_losses, val_accuracies = [], [], []"
   ]
  },
  {
   "cell_type": "code",
   "execution_count": 12,
   "metadata": {
    "colab": {
     "base_uri": "https://localhost:8080/"
    },
    "id": "gYstTVBu7GHw",
    "outputId": "2426097d-133a-4073-a603-5709ac73098c"
   },
   "outputs": [
    {
     "name": "stdout",
     "output_type": "stream",
     "text": [
      "Epoch [1/50], Train Loss: 1.0542, Val Loss: 0.9660, Val Acc: 63.33%\n",
      "Epoch [2/50], Train Loss: 0.8632, Val Loss: 0.6996, Val Acc: 73.33%\n",
      "Epoch [3/50], Train Loss: 0.6274, Val Loss: 0.4730, Val Acc: 70.00%\n",
      "Epoch [4/50], Train Loss: 0.4573, Val Loss: 0.3819, Val Acc: 73.33%\n",
      "Epoch [5/50], Train Loss: 0.3898, Val Loss: 0.3317, Val Acc: 83.33%\n",
      "Epoch [6/50], Train Loss: 0.3510, Val Loss: 0.2803, Val Acc: 86.67%\n",
      "Epoch [7/50], Train Loss: 0.3001, Val Loss: 0.2253, Val Acc: 93.33%\n",
      "Epoch [8/50], Train Loss: 0.2667, Val Loss: 0.1759, Val Acc: 93.33%\n",
      "Epoch [9/50], Train Loss: 0.2218, Val Loss: 0.1371, Val Acc: 100.00%\n",
      "Epoch [10/50], Train Loss: 0.1688, Val Loss: 0.1174, Val Acc: 96.67%\n",
      "Epoch [11/50], Train Loss: 0.1312, Val Loss: 0.0821, Val Acc: 100.00%\n",
      "Epoch [12/50], Train Loss: 0.1135, Val Loss: 0.0694, Val Acc: 100.00%\n",
      "Epoch [13/50], Train Loss: 0.0921, Val Loss: 0.0704, Val Acc: 96.67%\n",
      "Epoch [14/50], Train Loss: 0.0931, Val Loss: 0.0707, Val Acc: 96.67%\n",
      "Epoch [15/50], Train Loss: 0.0783, Val Loss: 0.0553, Val Acc: 100.00%\n",
      "Epoch [16/50], Train Loss: 0.0775, Val Loss: 0.0551, Val Acc: 96.67%\n",
      "Epoch [17/50], Train Loss: 0.0760, Val Loss: 0.0482, Val Acc: 96.67%\n",
      "Epoch [18/50], Train Loss: 0.0729, Val Loss: 0.0381, Val Acc: 100.00%\n",
      "Epoch [19/50], Train Loss: 0.0718, Val Loss: 0.0448, Val Acc: 96.67%\n",
      "Epoch [20/50], Train Loss: 0.0680, Val Loss: 0.0356, Val Acc: 100.00%\n",
      "Epoch [21/50], Train Loss: 0.0696, Val Loss: 0.0432, Val Acc: 96.67%\n",
      "Epoch [22/50], Train Loss: 0.0625, Val Loss: 0.0409, Val Acc: 96.67%\n",
      "Epoch [23/50], Train Loss: 0.0632, Val Loss: 0.0406, Val Acc: 100.00%\n",
      "Epoch [24/50], Train Loss: 0.0563, Val Loss: 0.0472, Val Acc: 96.67%\n",
      "Epoch [25/50], Train Loss: 0.0616, Val Loss: 0.0399, Val Acc: 100.00%\n",
      "Epoch [26/50], Train Loss: 0.0785, Val Loss: 0.0463, Val Acc: 96.67%\n",
      "Epoch [27/50], Train Loss: 0.0585, Val Loss: 0.0355, Val Acc: 100.00%\n",
      "Epoch [28/50], Train Loss: 0.0537, Val Loss: 0.0361, Val Acc: 96.67%\n",
      "Epoch [29/50], Train Loss: 0.0552, Val Loss: 0.0358, Val Acc: 96.67%\n",
      "Epoch [30/50], Train Loss: 0.0564, Val Loss: 0.0344, Val Acc: 100.00%\n",
      "Epoch [31/50], Train Loss: 0.0536, Val Loss: 0.0415, Val Acc: 96.67%\n",
      "Epoch [32/50], Train Loss: 0.0685, Val Loss: 0.0365, Val Acc: 100.00%\n",
      "Epoch [33/50], Train Loss: 0.0522, Val Loss: 0.0336, Val Acc: 100.00%\n",
      "Epoch [34/50], Train Loss: 0.0506, Val Loss: 0.0319, Val Acc: 100.00%\n",
      "Epoch [35/50], Train Loss: 0.0524, Val Loss: 0.0320, Val Acc: 100.00%\n",
      "Epoch [36/50], Train Loss: 0.0614, Val Loss: 0.0322, Val Acc: 100.00%\n",
      "Epoch [37/50], Train Loss: 0.0497, Val Loss: 0.0314, Val Acc: 100.00%\n",
      "Epoch [38/50], Train Loss: 0.0637, Val Loss: 0.0289, Val Acc: 100.00%\n",
      "Epoch [39/50], Train Loss: 0.0713, Val Loss: 0.0418, Val Acc: 96.67%\n",
      "Epoch [40/50], Train Loss: 0.0542, Val Loss: 0.0370, Val Acc: 100.00%\n",
      "Epoch [41/50], Train Loss: 0.0497, Val Loss: 0.0381, Val Acc: 96.67%\n",
      "Epoch [42/50], Train Loss: 0.0542, Val Loss: 0.0363, Val Acc: 96.67%\n",
      "Epoch [43/50], Train Loss: 0.0469, Val Loss: 0.0312, Val Acc: 100.00%\n",
      "Epoch [44/50], Train Loss: 0.0581, Val Loss: 0.0309, Val Acc: 100.00%\n",
      "Epoch [45/50], Train Loss: 0.0561, Val Loss: 0.0374, Val Acc: 96.67%\n",
      "Epoch [46/50], Train Loss: 0.0511, Val Loss: 0.0302, Val Acc: 100.00%\n",
      "Epoch [47/50], Train Loss: 0.0636, Val Loss: 0.0260, Val Acc: 100.00%\n",
      "Epoch [48/50], Train Loss: 0.0494, Val Loss: 0.0330, Val Acc: 96.67%\n",
      "Epoch [49/50], Train Loss: 0.0547, Val Loss: 0.0270, Val Acc: 100.00%\n",
      "Epoch [50/50], Train Loss: 0.0639, Val Loss: 0.0241, Val Acc: 100.00%\n"
     ]
    }
   ],
   "source": [
    "for epoch in range(50):\n",
    "    model.train()\n",
    "    running_loss = 0\n",
    "    for inputs, labels in trainloader:\n",
    "        inputs, labels = inputs.to(device), labels.to(device)  # 배치 데이터 GPU 이동\n",
    "        optimizer.zero_grad()\n",
    "        outputs = model(inputs)\n",
    "        loss = criterion(outputs, labels)\n",
    "        loss.backward()\n",
    "        optimizer.step()\n",
    "        running_loss += loss.item()\n",
    "    train_losses.append(running_loss / len(trainloader))\n",
    "\n",
    "    # ----- Validation -----\n",
    "    model.eval()\n",
    "    val_loss, correct, total = 0, 0, 0\n",
    "    with torch.no_grad():\n",
    "        for inputs, labels in valloader:\n",
    "            inputs, labels = inputs.to(device), labels.to(device)  # 배치 데이터 GPU 이동\n",
    "            outputs = model(inputs)\n",
    "            loss = criterion(outputs, labels)\n",
    "            val_loss += loss.item()\n",
    "            _, predicted = torch.max(outputs, 1)\n",
    "            total += labels.size(0)\n",
    "            correct += (predicted == labels).sum().item()\n",
    "    val_losses.append(val_loss / len(valloader))\n",
    "    val_accuracies.append(100 * correct / total)\n",
    "\n",
    "    print(f\"Epoch [{epoch+1}/50], Train Loss: {train_losses[-1]:.4f}, \"\n",
    "          f\"Val Loss: {val_losses[-1]:.4f}, Val Acc: {val_accuracies[-1]:.2f}%\")"
   ]
  },
  {
   "cell_type": "markdown",
   "metadata": {
    "id": "7vp5G5qS7T8r"
   },
   "source": [
    "# 학습결과 확인"
   ]
  },
  {
   "cell_type": "code",
   "execution_count": 13,
   "metadata": {
    "colab": {
     "base_uri": "https://localhost:8080/",
     "height": 452
    },
    "id": "NeeNr5eI7JMm",
    "outputId": "23173307-1386-4d9d-bd8b-be67a86c7408"
   },
   "outputs": [
    {
     "data": {
      "image/png": "[encoded data removed]",
      "text/plain": [
       "<Figure size 640x480 with 1 Axes>"
      ]
     },
     "metadata": {},
     "output_type": "display_data"
    }
   ],
   "source": [
    "plt.figure()\n",
    "plt.plot(train_losses, label=\"Train Loss\")\n",
    "plt.plot(val_losses, label=\"Val Loss\")\n",
    "plt.legend()\n",
    "plt.title(\"Loss\")\n",
    "plt.show()"
   ]
  },
  {
   "cell_type": "code",
   "execution_count": 14,
   "metadata": {
    "colab": {
     "base_uri": "https://localhost:8080/",
     "height": 452
    },
    "id": "1UMKtjck7YHb",
    "outputId": "0cecaa04-6604-49ba-9f79-0888cf5e64ad"
   },
   "outputs": [
    {
     "data": {
      "image/png": "[encoded data removed]",
      "text/plain": [
       "<Figure size 640x480 with 1 Axes>"
      ]
     },
     "metadata": {},
     "output_type": "display_data"
    }
   ],
   "source": [
    "plt.figure()\n",
    "plt.plot(val_accuracies, label=\"Val Accuracy\")\n",
    "plt.legend()\n",
    "plt.title(\"Accuracy\")\n",
    "plt.show()"
   ]
  },
  {
   "cell_type": "code",
   "execution_count": 14,
   "metadata": {
    "id": "ni-L1LuG7lSo"
   },
   "outputs": [],
   "source": []
  }
 ],
 "metadata": {
  "accelerator": "GPU",
  "colab": {
   "gpuType": "T4",
   "provenance": []
  },
  "kernelspec": {
   "display_name": "Python 3 (ipykernel)",
   "language": "python",
   "name": "python3"
  },
  "language_info": {
   "codemirror_mode": {
    "name": "ipython",
    "version": 3
   },
   "file_extension": ".py",
   "mimetype": "text/x-python",
   "name": "python",
   "nbconvert_exporter": "python",
   "pygments_lexer": "ipython3",
   "version": "3.10.0"
  }
 },
 "nbformat": 4,
 "nbformat_minor": 4
}
