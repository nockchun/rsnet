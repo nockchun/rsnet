{
 "cells": [
  {
   "cell_type": "code",
   "execution_count": null,
   "metadata": {
    "id": "AlDR6sjwxFcp"
   },
   "outputs": [],
   "source": [
    "import numpy as np"
   ]
  },
  {
   "cell_type": "code",
   "execution_count": null,
   "metadata": {
    "id": "VZKEqAh9vyTI"
   },
   "outputs": [],
   "source": [
    "import torch\n",
    "import torch.nn as nn\n",
    "import torch.optim as optim\n",
    "import torchvision\n",
    "import matplotlib.pyplot as plt"
   ]
  },
  {
   "cell_type": "markdown",
   "metadata": {
    "id": "NR8E6URZK1X3"
   },
   "source": [
    "# 데이터 로딩"
   ]
  },
  {
   "cell_type": "code",
   "execution_count": null,
   "metadata": {
    "id": "yPGOz6I1JkBj"
   },
   "outputs": [],
   "source": [
    "trainset_raw = torchvision.datasets.MNIST(root='./data', train=True, download=True)\n",
    "testset_raw = torchvision.datasets.MNIST(root='./data', train=False, download=True)"
   ]
  },
  {
   "cell_type": "code",
   "execution_count": null,
   "metadata": {
    "id": "_viM93bsx-jL"
   },
   "outputs": [],
   "source": [
    "for row in trainset_raw.data[0].numpy():\n",
    "    print(\" \".join(f\"{v:3}\" for v in row))"
   ]
  },
  {
   "cell_type": "code",
   "execution_count": null,
   "metadata": {
    "id": "XvkzW_RbwArU"
   },
   "outputs": [],
   "source": [
    "# numpy → tensor 변환 & 정규화\n",
    "def preprocess_mnist(dataset):\n",
    "    images = dataset.data.float() / 255.0  # [0,255] → [0,1]\n",
    "    mean, std = images.mean() , images.std()\n",
    "    images = (images - mean) / std         # Normalize\n",
    "    labels = dataset.targets\n",
    "    return images, labels"
   ]
  },
  {
   "cell_type": "code",
   "execution_count": null,
   "metadata": {
    "id": "9nPvfM7603k-"
   },
   "outputs": [],
   "source": [
    "train_images, train_labels = preprocess_mnist(trainset_raw)\n",
    "test_images, test_labels = preprocess_mnist(testset_raw)"
   ]
  },
  {
   "cell_type": "code",
   "execution_count": null,
   "metadata": {},
   "outputs": [],
   "source": [
    "train_images.shape, train_labels.shape, test_images.shape, test_labels.shape"
   ]
  },
  {
   "cell_type": "code",
   "execution_count": null,
   "metadata": {
    "id": "ed7zBxPC-Ga7"
   },
   "outputs": [],
   "source": [
    "# Dataset 객체로 묶기\n",
    "full_dataset = torch.utils.data.TensorDataset(train_images, train_labels)"
   ]
  },
  {
   "cell_type": "code",
   "execution_count": null,
   "metadata": {
    "id": "Waum6sBc06kC"
   },
   "outputs": [],
   "source": [
    "# train/val split (Dataset을 그대로 분할)\n",
    "train_size = int(0.8 * len(full_dataset))\n",
    "val_size = len(full_dataset) - train_size\n",
    "train_dataset, val_dataset = torch.utils.data.random_split(full_dataset, [train_size, val_size])"
   ]
  },
  {
   "cell_type": "code",
   "execution_count": null,
   "metadata": {
    "id": "LLzb5tSw1Cx4"
   },
   "outputs": [],
   "source": [
    "trainloader = torch.utils.data.DataLoader(train_dataset, batch_size=64, shuffle=True)\n",
    "valloader = torch.utils.data.DataLoader(val_dataset, batch_size=64, shuffle=False)"
   ]
  },
  {
   "cell_type": "markdown",
   "metadata": {
    "id": "kqmrLrj41R-_"
   },
   "source": [
    "# 모델 생성"
   ]
  },
  {
   "cell_type": "code",
   "execution_count": null,
   "metadata": {},
   "outputs": [],
   "source": [
    "from torchinfo import summary"
   ]
  },
  {
   "cell_type": "code",
   "execution_count": null,
   "metadata": {
    "id": "GAmA7CIi_C_4"
   },
   "outputs": [],
   "source": [
    "device = torch.device(\"cuda\" if torch.cuda.is_available() else \"cpu\")"
   ]
  },
  {
   "cell_type": "code",
   "execution_count": null,
   "metadata": {
    "id": "biwUoKgE1Pvf"
   },
   "outputs": [],
   "source": [
    "class CNN(nn.Module):\n",
    "    \"\"\"\n",
    "    입력 형태:\n",
    "      - (B, 28, 28)  : 채널 없이 흑백 한 장(권장)\n",
    "      - (B, 1, 28, 28): 이미 채널 차원이 있는 경우도 그대로 동작\n",
    "    출력:\n",
    "      - (B, 10) logits (CrossEntropyLoss에 바로 사용)\n",
    "    \"\"\"\n",
    "    def __init__(self, num_classes: int = 10, p_drop: float = 0.25):\n",
    "        super().__init__()\n",
    "        self.features = nn.Sequential(\n",
    "            # 28x28 -> 28x28\n",
    "            nn.Conv2d(1, 32, kernel_size=3, padding=1, bias=False),\n",
    "            nn.BatchNorm2d(32),\n",
    "            nn.ReLU(inplace=True),\n",
    "            # 28x28 -> 14x14\n",
    "            nn.MaxPool2d(2),\n",
    "\n",
    "            # 14x14 -> 14x14\n",
    "            nn.Conv2d(32, 64, kernel_size=3, padding=1, bias=False),\n",
    "            nn.BatchNorm2d(64),\n",
    "            nn.ReLU(inplace=True),\n",
    "            # 14x14 -> 7x7\n",
    "            nn.MaxPool2d(2),\n",
    "        )\n",
    "        self.avgpool = nn.AdaptiveAvgPool2d(1)  # -> (B, 64, 1, 1)\n",
    "        self.classifier = nn.Sequential(\n",
    "            nn.Flatten(),               # -> (B, 64)\n",
    "            nn.Dropout(p_drop),\n",
    "            nn.Linear(64, num_classes), # -> (B, 10)\n",
    "        )\n",
    "\n",
    "    def forward(self, x):\n",
    "        # x: (B, 28, 28) 또는 (B, 1, 28, 28)\n",
    "        if x.ndim == 3:                 # (B, 28, 28) -> (B, 1, 28, 28)\n",
    "            x = x.unsqueeze(1)\n",
    "        elif x.ndim == 4 and x.shape[-1] == 1 and x.shape[1] != 1:\n",
    "            # 만약 (B, 28, 28, 1)로 들어왔다면 채널을 앞으로\n",
    "            x = x.permute(0, 3, 1, 2)\n",
    "\n",
    "        # conv는 float 입력을 기대하므로 보정\n",
    "        if not torch.is_floating_point(x):\n",
    "            x = x.float()\n",
    "\n",
    "        x = self.features(x)\n",
    "        x = self.avgpool(x)\n",
    "        x = self.classifier(x)\n",
    "        return x\n"
   ]
  },
  {
   "cell_type": "code",
   "execution_count": null,
   "metadata": {
    "id": "b7J5SRDg1Wij"
   },
   "outputs": [],
   "source": [
    "model = CNN().to(device)  # 모델을 GPU로 이동\n",
    "loss_fn = nn.CrossEntropyLoss()\n",
    "optimizer = optim.Adam(model.parameters(), lr=1e-3)"
   ]
  },
  {
   "cell_type": "code",
   "execution_count": null,
   "metadata": {},
   "outputs": [],
   "source": [
    "summary(model, input_size=(1, 28, 28))"
   ]
  },
  {
   "cell_type": "code",
   "execution_count": null,
   "metadata": {},
   "outputs": [],
   "source": [
    "from torchview import draw_graph"
   ]
  },
  {
   "cell_type": "code",
   "execution_count": null,
   "metadata": {},
   "outputs": [],
   "source": [
    "draw_graph(model, input_size=(1, 28, 28)).visual_graph"
   ]
  },
  {
   "cell_type": "markdown",
   "metadata": {
    "id": "rzjYlHoM1hv2"
   },
   "source": [
    "# 학습"
   ]
  },
  {
   "cell_type": "code",
   "execution_count": null,
   "metadata": {
    "id": "VWpTl5fx1at4"
   },
   "outputs": [],
   "source": [
    "# 로그 저장용 리스트\n",
    "train_losses, train_accuracies, valid_losses, valid_accuracies = [], [], [], []"
   ]
  },
  {
   "cell_type": "code",
   "execution_count": null,
   "metadata": {
    "id": "jACW4Tr11jhU"
   },
   "outputs": [],
   "source": [
    "for epoch in range(30):                       # 총 40번 데이터셋을 반복\n",
    "    model.train()                             # 학습 모드(드롭아웃/배치정규화 등 학습 동작 켜짐)\n",
    "    running_loss = 0                          # 에폭 동안의 학습 손실 누적 변수\n",
    "    train_correct, train_total = 0, 0         # (추가) 에폭 단위 Train Acc 계산용\n",
    "\n",
    "    # ---- 미니배치 학습 루프 ----\n",
    "    for inputs, labels in trainloader:        # DataLoader에서 (입력, 정답) 배치를 꺼냄\n",
    "        inputs, labels = inputs.to(device), labels.to(device)  # 배치 텐서를 모델과 같은 장치로 이동\n",
    "        optimizer.zero_grad()                 # 직전 step의 누적 gradient를 0으로 초기화\n",
    "        outputs = model(inputs)               # 순전파: 모델이 logits(미규격화 점수) 출력\n",
    "        loss = loss_fn(outputs, labels)       # 손실 계산(CrossEntropyLoss: softmax+NLL 통합)\n",
    "        loss.backward()                       # 역전파: 각 파라미터의 gradient 계산\n",
    "        optimizer.step()                      # 가중치 갱신(gradient를 이용해 한 스텝 업데이트)\n",
    "        running_loss += loss.item()           # 현재 배치의 손실 값을 파이썬 float로 누적\n",
    "\n",
    "        # (추가) 배치 예측으로 Train Acc 누적\n",
    "        _, predicted = torch.max(outputs, 1)\n",
    "        train_total += labels.size(0)\n",
    "        train_correct += (predicted == labels).sum().item()\n",
    "\n",
    "    train_losses.append(running_loss / len(trainloader))  # 에폭 평균 학습 손실 기록 (배치 개수로 나눔)\n",
    "    train_accuracies.append(100 * train_correct / train_total)     # 학습 정확도(%) 기록\n",
    "\n",
    "    # ----- Validation -----\n",
    "    model.eval()                              # 평가 모드(드롭아웃/BN 등 평가 동작)\n",
    "    val_loss, correct, total = 0, 0, 0\n",
    "    with torch.no_grad():                     # 평가 시에는 gradient 계산 비활성화(메모리/속도 이점)\n",
    "        for inputs, labels in valloader:      # 검증 데이터 배치 반복\n",
    "            inputs, labels = inputs.to(device), labels.to(device)  # 장치 정렬\n",
    "            outputs = model(inputs)           # 순전파만 수행\n",
    "            loss = loss_fn(outputs, labels)   # 검증 배치 손실\n",
    "            val_loss += loss.item()           # 손실 누적\n",
    "            _, predicted = torch.max(outputs, 1)     # 각 샘플의 최고 점수 클래스 인덱스\n",
    "            total += labels.size(0)                  # 총 샘플 수 누적\n",
    "            correct += (predicted == labels).sum().item()  # 맞춘 개수 누적\n",
    "\n",
    "    valid_losses.append(val_loss / len(valloader))     # 에폭 평균 검증 손실 기록\n",
    "    valid_accuracies.append(100 * correct / total)     # 검증 정확도(%) 기록\n",
    "\n",
    "    # 진행 상황 출력(총 30에 맞추어 표기)\n",
    "    print(f\"Epoch {epoch+1}/30 : TRAIN[Loss: {train_losses[-1]:.4f}, Acc: {train_accuracies[-1]:.2f}%], VALID[Loss: {valid_losses[-1]:.4f}, Acc: {valid_accuracies[-1]:.2f}%]\")"
   ]
  },
  {
   "cell_type": "markdown",
   "metadata": {
    "id": "dXTc9Phv1s9j"
   },
   "source": [
    "# 학습결과 확인"
   ]
  },
  {
   "cell_type": "code",
   "execution_count": null,
   "metadata": {
    "id": "Or0u5QZh1nIH"
   },
   "outputs": [],
   "source": [
    "plt.figure()\n",
    "plt.plot(train_losses, label=\"Train Loss\")\n",
    "plt.plot(valid_losses, label=\"Valid Loss\")\n",
    "plt.legend()\n",
    "plt.title(\"Loss\")\n",
    "plt.show()"
   ]
  },
  {
   "cell_type": "code",
   "execution_count": null,
   "metadata": {
    "id": "ezfkd_Hk1zyD"
   },
   "outputs": [],
   "source": [
    "plt.figure()\n",
    "plt.plot(train_accuracies, label=\"Train Accuracy\")\n",
    "plt.plot(valid_accuracies, label=\"Valid Accuracy\")\n",
    "plt.legend()\n",
    "plt.title(\"Accuracy\")\n",
    "plt.show()"
   ]
  },
  {
   "cell_type": "code",
   "execution_count": null,
   "metadata": {
    "id": "Q_OlUIPm12_a"
   },
   "outputs": [],
   "source": []
  },
  {
   "cell_type": "code",
   "execution_count": null,
   "metadata": {},
   "outputs": [],
   "source": []
  },
  {
   "cell_type": "code",
   "execution_count": null,
   "metadata": {},
   "outputs": [],
   "source": []
  }
 ],
 "metadata": {
  "accelerator": "GPU",
  "colab": {
   "gpuType": "T4",
   "provenance": []
  },
  "kernelspec": {
   "display_name": "Python 3 (ipykernel)",
   "language": "python",
   "name": "python3"
  },
  "language_info": {
   "codemirror_mode": {
    "name": "ipython",
    "version": 3
   },
   "file_extension": ".py",
   "mimetype": "text/x-python",
   "name": "python",
   "nbconvert_exporter": "python",
   "pygments_lexer": "ipython3",
   "version": "3.10.0"
  }
 },
 "nbformat": 4,
 "nbformat_minor": 4
}
