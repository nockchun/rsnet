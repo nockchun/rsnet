{
 "cells": [
  {
   "cell_type": "markdown",
   "id": "b4b593f0-64c7-4436-b203-23060904d7c9",
   "metadata": {},
   "source": [
    "# 데이터 로딩"
   ]
  },
  {
   "cell_type": "code",
   "execution_count": 1,
   "id": "20f9628b-269c-4ff2-ab69-55543bfa6153",
   "metadata": {
    "execution": {
     "iopub.execute_input": "2025-08-23T08:56:48.181524Z",
     "iopub.status.busy": "2025-08-23T08:56:48.181274Z",
     "iopub.status.idle": "2025-08-23T08:56:48.738577Z",
     "shell.execute_reply": "2025-08-23T08:56:48.737919Z",
     "shell.execute_reply.started": "2025-08-23T08:56:48.181504Z"
    }
   },
   "outputs": [],
   "source": [
    "from datasets import load_dataset\n",
    "import pandas as pd\n",
    "from pathlib import Path"
   ]
  },
  {
   "cell_type": "code",
   "execution_count": 2,
   "id": "e9dace4b-0ad2-4adb-9274-a047deaa5bbb",
   "metadata": {
    "execution": {
     "iopub.execute_input": "2025-08-23T08:56:49.189797Z",
     "iopub.status.busy": "2025-08-23T08:56:49.189471Z",
     "iopub.status.idle": "2025-08-23T08:56:52.349874Z",
     "shell.execute_reply": "2025-08-23T08:56:52.349419Z",
     "shell.execute_reply.started": "2025-08-23T08:56:49.189779Z"
    }
   },
   "outputs": [
    {
     "name": "stderr",
     "output_type": "stream",
     "text": [
      "Repo card metadata block was not found. Setting CardData to empty.\n"
     ]
    },
    {
     "name": "stdout",
     "output_type": "stream",
     "text": [
      "DatasetDict({\n",
      "    train: Dataset({\n",
      "        features: ['message_id', 'text', 'label', 'label_text', 'subject', 'message', 'date'],\n",
      "        num_rows: 31716\n",
      "    })\n",
      "    test: Dataset({\n",
      "        features: ['message_id', 'text', 'label', 'label_text', 'subject', 'message', 'date'],\n",
      "        num_rows: 2000\n",
      "    })\n",
      "})\n"
     ]
    }
   ],
   "source": [
    "# text: subject + \" \" + message를 공백으로 이어 붙여 만든 분류용 본문(제목과 본문을 합친 텍스트).\n",
    "ds = load_dataset(\"SetFit/enron_spam\")  # splits: 'train', 'test'\n",
    "print(ds)  # 구조 확인용"
   ]
  },
  {
   "cell_type": "code",
   "execution_count": 3,
   "id": "14517440-2c8f-480c-a3f4-7c32b608ca56",
   "metadata": {
    "execution": {
     "iopub.execute_input": "2025-08-23T08:56:52.352044Z",
     "iopub.status.busy": "2025-08-23T08:56:52.351250Z",
     "iopub.status.idle": "2025-08-23T08:56:52.354895Z",
     "shell.execute_reply": "2025-08-23T08:56:52.354506Z",
     "shell.execute_reply.started": "2025-08-23T08:56:52.352025Z"
    }
   },
   "outputs": [],
   "source": [
    "# 저장 폴더 준비\n",
    "dir_store = Path(\"temp/enron_spam\")\n",
    "dir_store.mkdir(parents=True, exist_ok=True)"
   ]
  },
  {
   "cell_type": "code",
   "execution_count": 4,
   "id": "5016a1c6-1fa3-4a91-bfdf-d928c0de6f82",
   "metadata": {
    "execution": {
     "iopub.execute_input": "2025-08-23T08:56:52.356744Z",
     "iopub.status.busy": "2025-08-23T08:56:52.356026Z",
     "iopub.status.idle": "2025-08-23T08:56:53.785668Z",
     "shell.execute_reply": "2025-08-23T08:56:53.785133Z",
     "shell.execute_reply.started": "2025-08-23T08:56:52.356726Z"
    }
   },
   "outputs": [],
   "source": [
    "# 각 스플릿을 CSV로 저장\n",
    "for split in ds.keys():  # 'train', 'test'\n",
    "    df = ds[split].to_pandas()\n",
    "    df.to_csv(dir_store / f\"enron_spam_{split}.csv\", index=False)"
   ]
  },
  {
   "cell_type": "code",
   "execution_count": 6,
   "id": "e4c5eb91-d43d-484a-a47e-cf2b49534252",
   "metadata": {
    "execution": {
     "iopub.execute_input": "2025-08-23T08:57:09.517200Z",
     "iopub.status.busy": "2025-08-23T08:57:09.516970Z",
     "iopub.status.idle": "2025-08-23T08:57:09.520531Z",
     "shell.execute_reply": "2025-08-23T08:57:09.520091Z",
     "shell.execute_reply.started": "2025-08-23T08:57:09.517183Z"
    }
   },
   "outputs": [
    {
     "name": "stdout",
     "output_type": "stream",
     "text": [
      "Saved to: [PosixPath('temp/enron_spam/enron_spam_train.csv'), PosixPath('temp/enron_spam/enron_spam_test.csv')]\n"
     ]
    }
   ],
   "source": [
    "print(\"Saved to:\", list(dir_store.glob(\"*.csv\")))"
   ]
  },
  {
   "cell_type": "markdown",
   "id": "be73956b-3b0b-4254-aca7-01294eb33450",
   "metadata": {},
   "source": [
    "# 기본 환경 설정"
   ]
  },
  {
   "cell_type": "code",
   "execution_count": 7,
   "id": "da019c58-0db1-49eb-a79b-df922f60379d",
   "metadata": {
    "execution": {
     "iopub.execute_input": "2025-08-23T08:57:15.178719Z",
     "iopub.status.busy": "2025-08-23T08:57:15.178411Z",
     "iopub.status.idle": "2025-08-23T08:57:16.508636Z",
     "shell.execute_reply": "2025-08-23T08:57:16.507942Z",
     "shell.execute_reply.started": "2025-08-23T08:57:15.178693Z"
    }
   },
   "outputs": [],
   "source": [
    "import os, re, random, math, json\n",
    "from pathlib import Path\n",
    "import numpy as np\n",
    "import pandas as pd\n",
    "import matplotlib.pyplot as plt\n",
    "import torch"
   ]
  },
  {
   "cell_type": "code",
   "execution_count": 8,
   "id": "3da6a85d-5e84-43f5-a9e5-56674c8c2665",
   "metadata": {
    "execution": {
     "iopub.execute_input": "2025-08-23T08:57:19.861515Z",
     "iopub.status.busy": "2025-08-23T08:57:19.861099Z",
     "iopub.status.idle": "2025-08-23T08:57:19.864807Z",
     "shell.execute_reply": "2025-08-23T08:57:19.864156Z",
     "shell.execute_reply.started": "2025-08-23T08:57:19.861500Z"
    }
   },
   "outputs": [],
   "source": [
    "# 환경 변수\n",
    "RANDOM_SEED = 42\n",
    "DATA_DIR = Path(\"temp\")\n",
    "TRAIN_CSV = DATA_DIR / \"enron_spam/enron_spam_train.csv\"\n",
    "TEST_CSV  = DATA_DIR / \"enron_spam/enron_spam_test.csv\"\n",
    "OUT_DIR = DATA_DIR / \"eron_outputs\""
   ]
  },
  {
   "cell_type": "code",
   "execution_count": 9,
   "id": "85def64a-8ea0-445a-9b8b-8977f179d2ac",
   "metadata": {
    "execution": {
     "iopub.execute_input": "2025-08-23T08:57:20.373115Z",
     "iopub.status.busy": "2025-08-23T08:57:20.372766Z",
     "iopub.status.idle": "2025-08-23T08:57:20.376772Z",
     "shell.execute_reply": "2025-08-23T08:57:20.376015Z",
     "shell.execute_reply.started": "2025-08-23T08:57:20.373089Z"
    }
   },
   "outputs": [],
   "source": [
    "OUT_DIR.mkdir(parents=True, exist_ok=True)"
   ]
  },
  {
   "cell_type": "code",
   "execution_count": 10,
   "id": "ea090dbf-6e08-4440-8193-4ae28a6d4293",
   "metadata": {
    "execution": {
     "iopub.execute_input": "2025-08-23T08:57:20.926032Z",
     "iopub.status.busy": "2025-08-23T08:57:20.925682Z",
     "iopub.status.idle": "2025-08-23T08:57:20.932584Z",
     "shell.execute_reply": "2025-08-23T08:57:20.931849Z",
     "shell.execute_reply.started": "2025-08-23T08:57:20.926006Z"
    }
   },
   "outputs": [],
   "source": [
    "# 재현 가능성(reproducibility)을 위해 실험마다 동일한 난수를 쓰도록 고정값 설정\n",
    "torch.manual_seed(RANDOM_SEED) # PyTorch의 CPU 난수 시드(가중치 초기화, dropout 등 torch CPU 연산에서 쓰는 난수에 영향)\n",
    "torch.cuda.manual_seed_all(RANDOM_SEED) # 모든 GPU(CUDA 디바이스)의 난수 시드(드롭아웃, 일부 커널 내부 샘플링 등 CUDA 연산에 영향)\n",
    "np.random.seed(RANDOM_SEED) # NumPy 난수 시드(전처리/샘플링에 NumPy를 사용할 때 결과를 고정)\n",
    "random.seed(RANDOM_SEED) # Python 표준 random 모듈의 시드(데이터 셔플 등 random 모듈 사용 코드의 결과를 고정)\n",
    "# cuDNN이 비결정적(non-deterministic) 알고리즘을 쓰지 못하게 강제\n",
    "#  - 장점: 같은 입력과 시드로 항상 같은 출력(결정적 결과)\n",
    "#  - 단점: 일부 연산이 느려질 수 있음\n",
    "torch.backends.cudnn.deterministic = True\n",
    "# 입력 크기별로 가장 빠른 알고리즘을 자동 탐색(benchmark)하는 기능 비활성화\n",
    "#  - 켜두면 실행마다 선택된 알고리즘이 달라져 결과가 흔들릴 수 있어 재현성 저하\n",
    "#  - 끄면 속도는 손해 볼 수 있지만 알고리즘 선택이 고정되어 재현성 향상\n",
    "torch.backends.cudnn.benchmark = False"
   ]
  },
  {
   "cell_type": "markdown",
   "id": "e238ac39-1f4a-4671-8578-2f00f5ad6fda",
   "metadata": {},
   "source": [
    "# EDA"
   ]
  },
  {
   "cell_type": "markdown",
   "id": "4540eb8a-0539-4f64-baa9-8cdb67904b13",
   "metadata": {},
   "source": [
    "## 데이터 로드"
   ]
  },
  {
   "cell_type": "code",
   "execution_count": 11,
   "id": "31cee741-fde8-4e53-a36c-0f7ccecaf6df",
   "metadata": {
    "execution": {
     "iopub.execute_input": "2025-08-23T08:57:25.584446Z",
     "iopub.status.busy": "2025-08-23T08:57:25.584130Z",
     "iopub.status.idle": "2025-08-23T08:57:26.228606Z",
     "shell.execute_reply": "2025-08-23T08:57:26.227916Z",
     "shell.execute_reply.started": "2025-08-23T08:57:25.584420Z"
    }
   },
   "outputs": [],
   "source": [
    "df_train = pd.read_csv(TRAIN_CSV)\n",
    "df_test  = pd.read_csv(TEST_CSV)"
   ]
  },
  {
   "cell_type": "code",
   "execution_count": 12,
   "id": "fef47db7-2b6c-40b7-bae6-af1ade93599a",
   "metadata": {
    "execution": {
     "iopub.execute_input": "2025-08-23T08:57:26.775729Z",
     "iopub.status.busy": "2025-08-23T08:57:26.775489Z",
     "iopub.status.idle": "2025-08-23T08:57:26.784645Z",
     "shell.execute_reply": "2025-08-23T08:57:26.784087Z",
     "shell.execute_reply.started": "2025-08-23T08:57:26.775715Z"
    }
   },
   "outputs": [
    {
     "data": {
      "text/html": [
       "<div>\n",
       "<style scoped>\n",
       "    .dataframe tbody tr th:only-of-type {\n",
       "        vertical-align: middle;\n",
       "    }\n",
       "\n",
       "    .dataframe tbody tr th {\n",
       "        vertical-align: top;\n",
       "    }\n",
       "\n",
       "    .dataframe thead th {\n",
       "        text-align: right;\n",
       "    }\n",
       "</style>\n",
       "<table border=\"1\" class=\"dataframe\">\n",
       "  <thead>\n",
       "    <tr style=\"text-align: right;\">\n",
       "      <th></th>\n",
       "      <th>message_id</th>\n",
       "      <th>text</th>\n",
       "      <th>label</th>\n",
       "      <th>label_text</th>\n",
       "      <th>subject</th>\n",
       "      <th>message</th>\n",
       "      <th>date</th>\n",
       "    </tr>\n",
       "  </thead>\n",
       "  <tbody>\n",
       "    <tr>\n",
       "      <th>0</th>\n",
       "      <td>33214</td>\n",
       "      <td>any software just for 15 $ - 99 $ understandin...</td>\n",
       "      <td>1</td>\n",
       "      <td>spam</td>\n",
       "      <td>any software just for 15 $ - 99 $</td>\n",
       "      <td>understanding oem software\\nlead me not into t...</td>\n",
       "      <td>2005-06-18</td>\n",
       "    </tr>\n",
       "    <tr>\n",
       "      <th>1</th>\n",
       "      <td>11929</td>\n",
       "      <td>perspective on ferc regulatory action client c...</td>\n",
       "      <td>0</td>\n",
       "      <td>ham</td>\n",
       "      <td>perspective on ferc regulatory action client c...</td>\n",
       "      <td>19 th , 2 : 00 pm edt\\nperspective on ferc reg...</td>\n",
       "      <td>2001-06-19</td>\n",
       "    </tr>\n",
       "    <tr>\n",
       "      <th>2</th>\n",
       "      <td>19784</td>\n",
       "      <td>wanted to try ci 4 lis but thought it was way ...</td>\n",
       "      <td>1</td>\n",
       "      <td>spam</td>\n",
       "      <td>wanted to try ci 4 lis but thought it was way ...</td>\n",
       "      <td>viagra at $ 1 . 12 per dose\\nready to boost yo...</td>\n",
       "      <td>2004-09-11</td>\n",
       "    </tr>\n",
       "    <tr>\n",
       "      <th>3</th>\n",
       "      <td>2209</td>\n",
       "      <td>enron / hpl actuals for december 11 , 2000 tec...</td>\n",
       "      <td>0</td>\n",
       "      <td>ham</td>\n",
       "      <td>enron / hpl actuals for december 11 , 2000</td>\n",
       "      <td>teco tap 30 . 000 / enron ; 120 . 000 / hpl ga...</td>\n",
       "      <td>2000-12-12</td>\n",
       "    </tr>\n",
       "    <tr>\n",
       "      <th>4</th>\n",
       "      <td>15880</td>\n",
       "      <td>looking for cheap high - quality software ? ro...</td>\n",
       "      <td>1</td>\n",
       "      <td>spam</td>\n",
       "      <td>looking for cheap high - quality software ? ro...</td>\n",
       "      <td>water past also , burn , course . gave country...</td>\n",
       "      <td>2005-02-13</td>\n",
       "    </tr>\n",
       "  </tbody>\n",
       "</table>\n",
       "</div>"
      ],
      "text/plain": [
       "   message_id                                               text  label  \\\n",
       "0       33214  any software just for 15 $ - 99 $ understandin...      1   \n",
       "1       11929  perspective on ferc regulatory action client c...      0   \n",
       "2       19784  wanted to try ci 4 lis but thought it was way ...      1   \n",
       "3        2209  enron / hpl actuals for december 11 , 2000 tec...      0   \n",
       "4       15880  looking for cheap high - quality software ? ro...      1   \n",
       "\n",
       "  label_text                                            subject  \\\n",
       "0       spam                  any software just for 15 $ - 99 $   \n",
       "1        ham  perspective on ferc regulatory action client c...   \n",
       "2       spam  wanted to try ci 4 lis but thought it was way ...   \n",
       "3        ham         enron / hpl actuals for december 11 , 2000   \n",
       "4       spam  looking for cheap high - quality software ? ro...   \n",
       "\n",
       "                                             message        date  \n",
       "0  understanding oem software\\nlead me not into t...  2005-06-18  \n",
       "1  19 th , 2 : 00 pm edt\\nperspective on ferc reg...  2001-06-19  \n",
       "2  viagra at $ 1 . 12 per dose\\nready to boost yo...  2004-09-11  \n",
       "3  teco tap 30 . 000 / enron ; 120 . 000 / hpl ga...  2000-12-12  \n",
       "4  water past also , burn , course . gave country...  2005-02-13  "
      ]
     },
     "execution_count": 12,
     "metadata": {},
     "output_type": "execute_result"
    }
   ],
   "source": [
    "df_train.head()"
   ]
  },
  {
   "cell_type": "markdown",
   "id": "cc318ed4-08f7-4960-b0a8-32efe23339ed",
   "metadata": {},
   "source": [
    "## 결측 제거"
   ]
  },
  {
   "cell_type": "code",
   "execution_count": 13,
   "id": "3eb32db4-2975-4ad1-b40d-18e6e29587d4",
   "metadata": {
    "execution": {
     "iopub.execute_input": "2025-08-23T08:57:28.273069Z",
     "iopub.status.busy": "2025-08-23T08:57:28.272716Z",
     "iopub.status.idle": "2025-08-23T08:57:28.287986Z",
     "shell.execute_reply": "2025-08-23T08:57:28.287196Z",
     "shell.execute_reply.started": "2025-08-23T08:57:28.273043Z"
    }
   },
   "outputs": [],
   "source": [
    "df_train = df_train.dropna(subset=[\"text\",\"label\"]).reset_index(drop=True)\n",
    "df_test = df_test.dropna(subset=[\"text\",\"label\"]).reset_index(drop=True)"
   ]
  },
  {
   "cell_type": "markdown",
   "id": "359f6e90-a50a-4ae1-a3b9-956e2d1f831d",
   "metadata": {},
   "source": [
    "## 추가 Feature 생성"
   ]
  },
  {
   "cell_type": "code",
   "execution_count": 14,
   "id": "f0f77e09-4bff-4cd8-84f4-4e9cf2cca115",
   "metadata": {
    "execution": {
     "iopub.execute_input": "2025-08-23T08:57:29.916402Z",
     "iopub.status.busy": "2025-08-23T08:57:29.916083Z",
     "iopub.status.idle": "2025-08-23T08:57:30.005621Z",
     "shell.execute_reply": "2025-08-23T08:57:30.004940Z",
     "shell.execute_reply.started": "2025-08-23T08:57:29.916376Z"
    }
   },
   "outputs": [],
   "source": [
    "# 텍스트 길이(문자수) & 라인수\n",
    "df_train[\"char_len\"] = df_train[\"text\"].str.len()\n",
    "df_train[\"line_cnt\"] = df_train[\"text\"].str.count(\"\\n\") + 1\n",
    "df_test[\"char_len\"] = df_test[\"text\"].str.len()\n",
    "df_test[\"line_cnt\"] = df_test[\"text\"].str.count(\"\\n\") + 1"
   ]
  },
  {
   "cell_type": "code",
   "execution_count": 15,
   "id": "a7c9c481-9cd5-4003-8512-80733303f6da",
   "metadata": {
    "execution": {
     "iopub.execute_input": "2025-08-23T08:57:30.414685Z",
     "iopub.status.busy": "2025-08-23T08:57:30.414476Z",
     "iopub.status.idle": "2025-08-23T08:57:30.417962Z",
     "shell.execute_reply": "2025-08-23T08:57:30.417357Z",
     "shell.execute_reply.started": "2025-08-23T08:57:30.414670Z"
    }
   },
   "outputs": [],
   "source": [
    "# 간단 Subject 추출 (본문 맨 처음 줄이 'Subject:' 패턴인 경우)\n",
    "def extract_subject(s):\n",
    "    if not isinstance(s, str):\n",
    "        return None\n",
    "    m = re.match(r\"(?i)^subject:\\s*(.*)\", s.splitlines()[0]) if s else None\n",
    "    return m.group(1).strip() if m else s"
   ]
  },
  {
   "cell_type": "code",
   "execution_count": 16,
   "id": "ac1f2107-65f5-4c3d-963c-03a514920965",
   "metadata": {
    "execution": {
     "iopub.execute_input": "2025-08-23T08:57:30.772788Z",
     "iopub.status.busy": "2025-08-23T08:57:30.772470Z",
     "iopub.status.idle": "2025-08-23T08:57:30.880990Z",
     "shell.execute_reply": "2025-08-23T08:57:30.880292Z",
     "shell.execute_reply.started": "2025-08-23T08:57:30.772762Z"
    }
   },
   "outputs": [],
   "source": [
    "df_train[\"subject\"] = df_train[\"text\"].apply(extract_subject)\n",
    "df_test[\"subject\"] = df_test[\"text\"].apply(extract_subject)"
   ]
  },
  {
   "cell_type": "code",
   "execution_count": 17,
   "id": "e815c172-a871-4343-b3bc-e6407b7c130b",
   "metadata": {
    "execution": {
     "iopub.execute_input": "2025-08-23T08:57:31.330806Z",
     "iopub.status.busy": "2025-08-23T08:57:31.330576Z",
     "iopub.status.idle": "2025-08-23T08:57:31.337297Z",
     "shell.execute_reply": "2025-08-23T08:57:31.336751Z",
     "shell.execute_reply.started": "2025-08-23T08:57:31.330790Z"
    }
   },
   "outputs": [
    {
     "data": {
      "text/html": [
       "<div>\n",
       "<style scoped>\n",
       "    .dataframe tbody tr th:only-of-type {\n",
       "        vertical-align: middle;\n",
       "    }\n",
       "\n",
       "    .dataframe tbody tr th {\n",
       "        vertical-align: top;\n",
       "    }\n",
       "\n",
       "    .dataframe thead th {\n",
       "        text-align: right;\n",
       "    }\n",
       "</style>\n",
       "<table border=\"1\" class=\"dataframe\">\n",
       "  <thead>\n",
       "    <tr style=\"text-align: right;\">\n",
       "      <th></th>\n",
       "      <th>message_id</th>\n",
       "      <th>text</th>\n",
       "      <th>label</th>\n",
       "      <th>label_text</th>\n",
       "      <th>subject</th>\n",
       "      <th>message</th>\n",
       "      <th>date</th>\n",
       "      <th>char_len</th>\n",
       "      <th>line_cnt</th>\n",
       "    </tr>\n",
       "  </thead>\n",
       "  <tbody>\n",
       "    <tr>\n",
       "      <th>0</th>\n",
       "      <td>33214</td>\n",
       "      <td>any software just for 15 $ - 99 $ understandin...</td>\n",
       "      <td>1</td>\n",
       "      <td>spam</td>\n",
       "      <td>any software just for 15 $ - 99 $ understandin...</td>\n",
       "      <td>understanding oem software\\nlead me not into t...</td>\n",
       "      <td>2005-06-18</td>\n",
       "      <td>156</td>\n",
       "      <td>3</td>\n",
       "    </tr>\n",
       "    <tr>\n",
       "      <th>1</th>\n",
       "      <td>11929</td>\n",
       "      <td>perspective on ferc regulatory action client c...</td>\n",
       "      <td>0</td>\n",
       "      <td>ham</td>\n",
       "      <td>perspective on ferc regulatory action client c...</td>\n",
       "      <td>19 th , 2 : 00 pm edt\\nperspective on ferc reg...</td>\n",
       "      <td>2001-06-19</td>\n",
       "      <td>1112</td>\n",
       "      <td>27</td>\n",
       "    </tr>\n",
       "    <tr>\n",
       "      <th>2</th>\n",
       "      <td>19784</td>\n",
       "      <td>wanted to try ci 4 lis but thought it was way ...</td>\n",
       "      <td>1</td>\n",
       "      <td>spam</td>\n",
       "      <td>wanted to try ci 4 lis but thought it was way ...</td>\n",
       "      <td>viagra at $ 1 . 12 per dose\\nready to boost yo...</td>\n",
       "      <td>2004-09-11</td>\n",
       "      <td>242</td>\n",
       "      <td>5</td>\n",
       "    </tr>\n",
       "    <tr>\n",
       "      <th>3</th>\n",
       "      <td>2209</td>\n",
       "      <td>enron / hpl actuals for december 11 , 2000 tec...</td>\n",
       "      <td>0</td>\n",
       "      <td>ham</td>\n",
       "      <td>enron / hpl actuals for december 11 , 2000 tec...</td>\n",
       "      <td>teco tap 30 . 000 / enron ; 120 . 000 / hpl ga...</td>\n",
       "      <td>2000-12-12</td>\n",
       "      <td>127</td>\n",
       "      <td>2</td>\n",
       "    </tr>\n",
       "    <tr>\n",
       "      <th>4</th>\n",
       "      <td>15880</td>\n",
       "      <td>looking for cheap high - quality software ? ro...</td>\n",
       "      <td>1</td>\n",
       "      <td>spam</td>\n",
       "      <td>looking for cheap high - quality software ? ro...</td>\n",
       "      <td>water past also , burn , course . gave country...</td>\n",
       "      <td>2005-02-13</td>\n",
       "      <td>329</td>\n",
       "      <td>4</td>\n",
       "    </tr>\n",
       "  </tbody>\n",
       "</table>\n",
       "</div>"
      ],
      "text/plain": [
       "   message_id                                               text  label  \\\n",
       "0       33214  any software just for 15 $ - 99 $ understandin...      1   \n",
       "1       11929  perspective on ferc regulatory action client c...      0   \n",
       "2       19784  wanted to try ci 4 lis but thought it was way ...      1   \n",
       "3        2209  enron / hpl actuals for december 11 , 2000 tec...      0   \n",
       "4       15880  looking for cheap high - quality software ? ro...      1   \n",
       "\n",
       "  label_text                                            subject  \\\n",
       "0       spam  any software just for 15 $ - 99 $ understandin...   \n",
       "1        ham  perspective on ferc regulatory action client c...   \n",
       "2       spam  wanted to try ci 4 lis but thought it was way ...   \n",
       "3        ham  enron / hpl actuals for december 11 , 2000 tec...   \n",
       "4       spam  looking for cheap high - quality software ? ro...   \n",
       "\n",
       "                                             message        date  char_len  \\\n",
       "0  understanding oem software\\nlead me not into t...  2005-06-18       156   \n",
       "1  19 th , 2 : 00 pm edt\\nperspective on ferc reg...  2001-06-19      1112   \n",
       "2  viagra at $ 1 . 12 per dose\\nready to boost yo...  2004-09-11       242   \n",
       "3  teco tap 30 . 000 / enron ; 120 . 000 / hpl ga...  2000-12-12       127   \n",
       "4  water past also , burn , course . gave country...  2005-02-13       329   \n",
       "\n",
       "   line_cnt  \n",
       "0         3  \n",
       "1        27  \n",
       "2         5  \n",
       "3         2  \n",
       "4         4  "
      ]
     },
     "execution_count": 17,
     "metadata": {},
     "output_type": "execute_result"
    }
   ],
   "source": [
    "df_train.head()"
   ]
  },
  {
   "cell_type": "code",
   "execution_count": 18,
   "id": "ea59535d-8c4a-43d2-a6d7-9acf3a07da9f",
   "metadata": {
    "execution": {
     "iopub.execute_input": "2025-08-23T08:57:31.899903Z",
     "iopub.status.busy": "2025-08-23T08:57:31.899582Z",
     "iopub.status.idle": "2025-08-23T08:57:31.906750Z",
     "shell.execute_reply": "2025-08-23T08:57:31.906022Z",
     "shell.execute_reply.started": "2025-08-23T08:57:31.899877Z"
    }
   },
   "outputs": [
    {
     "data": {
      "text/plain": [
       "label\n",
       "1    0.508827\n",
       "0    0.491173\n",
       "Name: proportion, dtype: float64"
      ]
     },
     "execution_count": 18,
     "metadata": {},
     "output_type": "execute_result"
    }
   ],
   "source": [
    "df_train[\"label\"].value_counts(normalize=True) # 빈도수 대신 비율(각 값의 등장 횟수 ÷ 전체 개수)을 반환"
   ]
  },
  {
   "cell_type": "markdown",
   "id": "e7c57d58-2128-490e-a8f8-246de7519487",
   "metadata": {},
   "source": [
    "# 길이(문자수) 분포 시각화"
   ]
  },
  {
   "cell_type": "code",
   "execution_count": 19,
   "id": "56c5bb51-8f3d-4b1c-9e91-78b5192397a9",
   "metadata": {
    "execution": {
     "iopub.execute_input": "2025-08-23T08:57:43.532869Z",
     "iopub.status.busy": "2025-08-23T08:57:43.532554Z",
     "iopub.status.idle": "2025-08-23T08:57:43.866623Z",
     "shell.execute_reply": "2025-08-23T08:57:43.865915Z",
     "shell.execute_reply.started": "2025-08-23T08:57:43.532843Z"
    }
   },
   "outputs": [],
   "source": [
    "import seaborn as sns\n",
    "import matplotlib.pyplot as plt"
   ]
  },
  {
   "cell_type": "code",
   "execution_count": 20,
   "id": "74688536-4e50-490b-8070-a67ccbaf4dd7",
   "metadata": {
    "execution": {
     "iopub.execute_input": "2025-08-23T08:57:45.120975Z",
     "iopub.status.busy": "2025-08-23T08:57:45.120513Z",
     "iopub.status.idle": "2025-08-23T08:57:45.124133Z",
     "shell.execute_reply": "2025-08-23T08:57:45.123525Z",
     "shell.execute_reply.started": "2025-08-23T08:57:45.120959Z"
    }
   },
   "outputs": [],
   "source": [
    "sns.set_theme(style=\"whitegrid\", context=\"notebook\", rc={\n",
    "    \"axes.spines.top\": False,\n",
    "    \"axes.spines.right\": False,\n",
    "})"
   ]
  },
  {
   "cell_type": "code",
   "execution_count": 71,
   "id": "6472adf2-6226-4824-92c8-f82e94849776",
   "metadata": {
    "execution": {
     "iopub.execute_input": "2025-08-23T14:58:25.362217Z",
     "iopub.status.busy": "2025-08-23T14:58:25.361877Z",
     "iopub.status.idle": "2025-08-23T14:58:25.368680Z",
     "shell.execute_reply": "2025-08-23T14:58:25.367863Z",
     "shell.execute_reply.started": "2025-08-23T14:58:25.362190Z"
    }
   },
   "outputs": [],
   "source": [
    "def plotCharLengthDistribution(df, col=\"char_len\", up_bound=20_000):\n",
    "    data = df[col].clip(upper=up_bound)\n",
    "    plt.figure(figsize=(8, 3))\n",
    "    ax = sns.histplot(data=data, bins=50, stat=\"percent\")\n",
    "\n",
    "    median = data.median()\n",
    "    mean = data.mean()\n",
    "    q95 = data.quantile(0.95)\n",
    "    ax.axvline(median, ls=\"--\", lw=1, color=\"red\", label=f\"median = {median:.0f}\")\n",
    "    ax.axvline(mean,   ls=\":\",  lw=1, color=\"red\", label=f\"mean = {mean:.0f}\")\n",
    "    ax.axvline(q95,    ls=\"-.\", lw=1, color=\"red\", label=f\"quantile 95 = {q95:.0f}\")\n",
    "\n",
    "    ax.set_title(\"Character length distribution (train)\", pad=10)\n",
    "    ax.set_xlabel(col)\n",
    "    ax.set_ylabel(\"percent\")\n",
    "    ax.legend(loc=\"upper right\", frameon=False)\n",
    "\n",
    "    plt.show()"
   ]
  },
  {
   "cell_type": "code",
   "execution_count": 72,
   "id": "15745b0f-d9c9-4bc5-acfc-fd2962b55faf",
   "metadata": {
    "execution": {
     "iopub.execute_input": "2025-08-23T14:58:25.812979Z",
     "iopub.status.busy": "2025-08-23T14:58:25.812631Z",
     "iopub.status.idle": "2025-08-23T14:58:25.970749Z",
     "shell.execute_reply": "2025-08-23T14:58:25.970113Z",
     "shell.execute_reply.started": "2025-08-23T14:58:25.812953Z"
    }
   },
   "outputs": [
    {
     "data": {
      "image/png": "[encoded data removed]",
      "text/plain": [
       "<Figure size 800x300 with 1 Axes>"
      ]
     },
     "metadata": {},
     "output_type": "display_data"
    }
   ],
   "source": [
    "plotCharLengthDistribution(df_train, \"char_len\", 20_000)"
   ]
  },
  {
   "cell_type": "code",
   "execution_count": 73,
   "id": "100172a0-c853-49a0-bc39-270f9c8a872d",
   "metadata": {
    "execution": {
     "iopub.execute_input": "2025-08-23T14:58:30.464617Z",
     "iopub.status.busy": "2025-08-23T14:58:30.464357Z",
     "iopub.status.idle": "2025-08-23T14:58:30.739684Z",
     "shell.execute_reply": "2025-08-23T14:58:30.739043Z",
     "shell.execute_reply.started": "2025-08-23T14:58:30.464603Z"
    }
   },
   "outputs": [
    {
     "data": {
      "image/png": "[encoded data removed]",
      "text/plain": [
       "<Figure size 800x300 with 1 Axes>"
      ]
     },
     "metadata": {},
     "output_type": "display_data"
    }
   ],
   "source": [
    "plotCharLengthDistribution(df_test, \"char_len\")"
   ]
  },
  {
   "cell_type": "markdown",
   "id": "83fe5cc3-316d-4079-8b2d-4e2a0eb33e4c",
   "metadata": {},
   "source": [
    "# 토크나이징 (글자 -> 숫자)"
   ]
  },
  {
   "cell_type": "code",
   "execution_count": 24,
   "id": "4484b46d-e736-4636-b48d-0b830d57f7b4",
   "metadata": {
    "execution": {
     "iopub.execute_input": "2025-08-23T08:57:49.236683Z",
     "iopub.status.busy": "2025-08-23T08:57:49.236452Z",
     "iopub.status.idle": "2025-08-23T08:57:49.241369Z",
     "shell.execute_reply": "2025-08-23T08:57:49.240830Z",
     "shell.execute_reply.started": "2025-08-23T08:57:49.236666Z"
    }
   },
   "outputs": [],
   "source": [
    "import sentencepiece as spm\n",
    "from collections import Counter"
   ]
  },
  {
   "cell_type": "code",
   "execution_count": 25,
   "id": "ea0357f0-7951-4363-92f3-a109b102fd17",
   "metadata": {
    "execution": {
     "iopub.execute_input": "2025-08-23T08:57:49.663695Z",
     "iopub.status.busy": "2025-08-23T08:57:49.663465Z",
     "iopub.status.idle": "2025-08-23T08:57:49.667406Z",
     "shell.execute_reply": "2025-08-23T08:57:49.666651Z",
     "shell.execute_reply.started": "2025-08-23T08:57:49.663679Z"
    }
   },
   "outputs": [],
   "source": [
    "SPM_DIR = OUT_DIR / \"tokenizer\"\n",
    "SPM_DIR.mkdir(parents=True, exist_ok=True)\n",
    "SPM_PREFIX = str(SPM_DIR / \"enron_tokenizer\")"
   ]
  },
  {
   "cell_type": "code",
   "execution_count": 26,
   "id": "c1f1cd29-cb81-47cb-8b4f-176066d2bad2",
   "metadata": {
    "execution": {
     "iopub.execute_input": "2025-08-23T08:57:50.011316Z",
     "iopub.status.busy": "2025-08-23T08:57:50.011000Z",
     "iopub.status.idle": "2025-08-23T08:57:50.650620Z",
     "shell.execute_reply": "2025-08-23T08:57:50.649853Z",
     "shell.execute_reply.started": "2025-08-23T08:57:50.011291Z"
    }
   },
   "outputs": [],
   "source": [
    "sp_input_path = SPM_DIR / \"spm_input_train.txt\"\n",
    "df_train[\"text\"].to_csv(sp_input_path, index=False, header=False)"
   ]
  },
  {
   "cell_type": "code",
   "execution_count": 27,
   "id": "a06840b1-73d8-423c-97e9-63ef720c5d51",
   "metadata": {
    "execution": {
     "iopub.execute_input": "2025-08-23T08:57:50.651354Z",
     "iopub.status.busy": "2025-08-23T08:57:50.651230Z",
     "iopub.status.idle": "2025-08-23T08:57:57.870989Z",
     "shell.execute_reply": "2025-08-23T08:57:57.870103Z",
     "shell.execute_reply.started": "2025-08-23T08:57:50.651341Z"
    },
    "scrolled": true
   },
   "outputs": [
    {
     "name": "stderr",
     "output_type": "stream",
     "text": [
      "sentencepiece_trainer.cc(78) LOG(INFO) Starts training with : \n",
      "trainer_spec {\n",
      "  input: temp/eron_outputs/tokenizer/spm_input_train.txt\n",
      "  input_format: \n",
      "  model_prefix: temp/eron_outputs/tokenizer/enron_tokenizer\n",
      "  model_type: UNIGRAM\n",
      "  vocab_size: 8000\n",
      "  self_test_sample_size: 0\n",
      "  character_coverage: 0.9995\n",
      "  input_sentence_size: 200000\n",
      "  shuffle_input_sentence: 1\n",
      "  seed_sentencepiece_size: 1000000\n",
      "  shrinking_factor: 0.75\n",
      "  max_sentence_length: 4192\n",
      "  num_threads: 16\n",
      "  num_sub_iterations: 2\n",
      "  max_sentencepiece_length: 16\n",
      "  split_by_unicode_script: 1\n",
      "  split_by_number: 1\n",
      "  split_by_whitespace: 1\n",
      "  split_digits: 0\n",
      "  pretokenization_delimiter: \n",
      "  treat_whitespace_as_suffix: 0\n",
      "  allow_whitespace_only_pieces: 0\n",
      "  user_defined_symbols: <|PAD|>\n",
      "  required_chars: \n",
      "  byte_fallback: 0\n",
      "  vocabulary_output_piece_score: 1\n",
      "  train_extremely_large_corpus: 0\n",
      "  seed_sentencepieces_file: \n",
      "  hard_vocab_limit: 1\n",
      "  use_all_vocab: 0\n",
      "  unk_id: 0\n",
      "  bos_id: 1\n",
      "  eos_id: 2\n",
      "  pad_id: -1\n",
      "  unk_piece: <unk>\n",
      "  bos_piece: <s>\n",
      "  eos_piece: </s>\n",
      "  pad_piece: <pad>\n",
      "  unk_surface:  ⁇ \n",
      "  enable_differential_privacy: 0\n",
      "  differential_privacy_noise_level: 0\n",
      "  differential_privacy_clipping_threshold: 0\n",
      "}\n",
      "normalizer_spec {\n",
      "  name: nmt_nfkc\n",
      "  add_dummy_prefix: 1\n",
      "  remove_extra_whitespaces: 1\n",
      "  escape_whitespaces: 1\n",
      "  normalization_rule_tsv: \n",
      "}\n",
      "denormalizer_spec {}\n",
      "trainer_interface.cc(353) LOG(INFO) SentenceIterator is not specified. Using MultiFileSentenceIterator.\n",
      "trainer_interface.cc(185) LOG(INFO) Loading corpus: temp/eron_outputs/tokenizer/spm_input_train.txt\n",
      "trainer_interface.cc(380) LOG(WARNING) Found too long line (4573 > 4192).\n",
      "trainer_interface.cc(382) LOG(WARNING) Too long lines are skipped in the training.\n",
      "trainer_interface.cc(383) LOG(WARNING) The maximum length can be changed with --max_sentence_length=<size> flag.\n",
      "trainer_interface.cc(411) LOG(INFO) Sampled 200000 sentences from 758654 sentences.\n",
      "trainer_interface.cc(416) LOG(INFO) Skipped 55 too long sentences.\n",
      "trainer_interface.cc(425) LOG(INFO) Adding meta_piece: <unk>\n",
      "trainer_interface.cc(425) LOG(INFO) Adding meta_piece: <s>\n",
      "trainer_interface.cc(425) LOG(INFO) Adding meta_piece: </s>\n",
      "trainer_interface.cc(425) LOG(INFO) Adding meta_piece: <|PAD|>\n",
      "trainer_interface.cc(430) LOG(INFO) Normalizing sentences...\n",
      "trainer_interface.cc(539) LOG(INFO) all chars count=12525166\n",
      "trainer_interface.cc(550) LOG(INFO) Done: 99.9519% characters are covered.\n",
      "trainer_interface.cc(560) LOG(INFO) Alphabet size=62\n",
      "trainer_interface.cc(561) LOG(INFO) Final character coverage=0.999519\n",
      "trainer_interface.cc(592) LOG(INFO) Done! preprocessed 199999 sentences.\n",
      "unigram_model_trainer.cc(265) LOG(INFO) Making suffix array...\n",
      "unigram_model_trainer.cc(269) LOG(INFO) Extracting frequent sub strings... node_num=6752381\n",
      "unigram_model_trainer.cc(312) LOG(INFO) Initialized 162099 seed sentencepieces\n",
      "trainer_interface.cc(598) LOG(INFO) Tokenizing input sentences with whitespace: 199999\n",
      "trainer_interface.cc(609) LOG(INFO) Done! 85858\n",
      "unigram_model_trainer.cc(602) LOG(INFO) Using 85858 sentences for EM training\n",
      "unigram_model_trainer.cc(618) LOG(INFO) EM sub_iter=0 size=61962 obj=9.64144 num_tokens=165793 num_tokens/piece=2.67572\n",
      "unigram_model_trainer.cc(618) LOG(INFO) EM sub_iter=1 size=52486 obj=7.7608 num_tokens=164327 num_tokens/piece=3.13087\n",
      "unigram_model_trainer.cc(618) LOG(INFO) EM sub_iter=0 size=39346 obj=7.72741 num_tokens=172427 num_tokens/piece=4.38233\n",
      "unigram_model_trainer.cc(618) LOG(INFO) EM sub_iter=1 size=39293 obj=7.71489 num_tokens=172408 num_tokens/piece=4.38775\n",
      "unigram_model_trainer.cc(618) LOG(INFO) EM sub_iter=0 size=29468 obj=7.75892 num_tokens=186337 num_tokens/piece=6.32337\n",
      "unigram_model_trainer.cc(618) LOG(INFO) EM sub_iter=1 size=29465 obj=7.74639 num_tokens=186343 num_tokens/piece=6.32422\n",
      "unigram_model_trainer.cc(618) LOG(INFO) EM sub_iter=0 size=22098 obj=7.81234 num_tokens=200980 num_tokens/piece=9.09494\n",
      "unigram_model_trainer.cc(618) LOG(INFO) EM sub_iter=1 size=22098 obj=7.79584 num_tokens=200975 num_tokens/piece=9.09471\n",
      "unigram_model_trainer.cc(618) LOG(INFO) EM sub_iter=0 size=16573 obj=7.88556 num_tokens=215975 num_tokens/piece=13.0317\n",
      "unigram_model_trainer.cc(618) LOG(INFO) EM sub_iter=1 size=16573 obj=7.86545 num_tokens=215973 num_tokens/piece=13.0316\n",
      "unigram_model_trainer.cc(618) LOG(INFO) EM sub_iter=0 size=12429 obj=7.9786 num_tokens=231174 num_tokens/piece=18.5996\n",
      "unigram_model_trainer.cc(618) LOG(INFO) EM sub_iter=1 size=12429 obj=7.95425 num_tokens=231188 num_tokens/piece=18.6007\n",
      "unigram_model_trainer.cc(618) LOG(INFO) EM sub_iter=0 size=9321 obj=8.09444 num_tokens=246685 num_tokens/piece=26.4655\n",
      "unigram_model_trainer.cc(618) LOG(INFO) EM sub_iter=1 size=9321 obj=8.06513 num_tokens=246704 num_tokens/piece=26.4675\n",
      "unigram_model_trainer.cc(618) LOG(INFO) EM sub_iter=0 size=8800 obj=8.09349 num_tokens=250484 num_tokens/piece=28.4641\n",
      "unigram_model_trainer.cc(618) LOG(INFO) EM sub_iter=1 size=8800 obj=8.08723 num_tokens=250509 num_tokens/piece=28.4669\n",
      "trainer_interface.cc(687) LOG(INFO) Saving model: temp/eron_outputs/tokenizer/enron_tokenizer.model\n",
      "trainer_interface.cc(699) LOG(INFO) Saving vocabs: temp/eron_outputs/tokenizer/enron_tokenizer.vocab\n"
     ]
    }
   ],
   "source": [
    "spm.SentencePieceTrainer.Train(\n",
    "    input=str(sp_input_path),\n",
    "    model_prefix=SPM_PREFIX,\n",
    "    vocab_size=8000,\n",
    "    model_type=\"unigram\",              # 또는 \"bpe\"\n",
    "    character_coverage=0.9995,         # 영문 위주라 0.9995, 멀티언어면 1.0 권장\n",
    "    user_defined_symbols=[\"<|PAD|>\"],\n",
    "    input_sentence_size=200000,        # 대용량일 경우 샘플링\n",
    "    shuffle_input_sentence=True\n",
    ")"
   ]
  },
  {
   "cell_type": "code",
   "execution_count": 28,
   "id": "62c88e89-b7f2-468d-982e-b147b3b7e146",
   "metadata": {
    "execution": {
     "iopub.execute_input": "2025-08-23T08:57:57.872288Z",
     "iopub.status.busy": "2025-08-23T08:57:57.872159Z",
     "iopub.status.idle": "2025-08-23T08:57:57.887220Z",
     "shell.execute_reply": "2025-08-23T08:57:57.886636Z",
     "shell.execute_reply.started": "2025-08-23T08:57:57.872274Z"
    }
   },
   "outputs": [
    {
     "name": "stdout",
     "output_type": "stream",
     "text": [
      "SentencePiece vocab size: 8000\n"
     ]
    }
   ],
   "source": [
    "tokenizer_sp = spm.SentencePieceProcessor()\n",
    "tokenizer_sp.load(SPM_PREFIX + \".model\")\n",
    "print(\"SentencePiece vocab size:\", tokenizer_sp.get_piece_size())"
   ]
  },
  {
   "cell_type": "code",
   "execution_count": 29,
   "id": "9dec9d76-e3b1-495e-9a7b-50c9736695f4",
   "metadata": {
    "execution": {
     "iopub.execute_input": "2025-08-23T08:58:09.718162Z",
     "iopub.status.busy": "2025-08-23T08:58:09.717871Z",
     "iopub.status.idle": "2025-08-23T08:58:09.721059Z",
     "shell.execute_reply": "2025-08-23T08:58:09.720445Z",
     "shell.execute_reply.started": "2025-08-23T08:58:09.718147Z"
    }
   },
   "outputs": [],
   "source": [
    "def sp_pieces(text):\n",
    "    return tokenizer_sp.encode_as_pieces(text) if isinstance(text, str) else []"
   ]
  },
  {
   "cell_type": "code",
   "execution_count": 30,
   "id": "37a8c9f6-48f1-4088-8d95-3749adbaa394",
   "metadata": {
    "execution": {
     "iopub.execute_input": "2025-08-23T08:58:11.906143Z",
     "iopub.status.busy": "2025-08-23T08:58:11.905788Z",
     "iopub.status.idle": "2025-08-23T08:58:19.792646Z",
     "shell.execute_reply": "2025-08-23T08:58:19.791946Z",
     "shell.execute_reply.started": "2025-08-23T08:58:11.906118Z"
    }
   },
   "outputs": [],
   "source": [
    "df_train[\"tok_len\"] = df_train[\"text\"].apply(lambda x: len(sp_pieces(x)))\n",
    "df_test[\"tok_len\"]  = df_test[\"text\"].apply(lambda x: len(sp_pieces(x)))"
   ]
  },
  {
   "cell_type": "code",
   "execution_count": 31,
   "id": "ead5969e-f55a-4313-a14d-093d2633b614",
   "metadata": {
    "execution": {
     "iopub.execute_input": "2025-08-23T08:58:19.793387Z",
     "iopub.status.busy": "2025-08-23T08:58:19.793259Z",
     "iopub.status.idle": "2025-08-23T08:58:19.924562Z",
     "shell.execute_reply": "2025-08-23T08:58:19.923922Z",
     "shell.execute_reply.started": "2025-08-23T08:58:19.793373Z"
    }
   },
   "outputs": [
    {
     "data": {
      "image/png": "[encoded data removed]",
      "text/plain": [
       "<Figure size 800x400 with 1 Axes>"
      ]
     },
     "metadata": {},
     "output_type": "display_data"
    }
   ],
   "source": [
    "plotCharLengthDistribution(df_train, \"tok_len\", 4_000)"
   ]
  },
  {
   "cell_type": "code",
   "execution_count": 33,
   "id": "0a1a048e-7659-4731-a826-e82a9bc9fc54",
   "metadata": {
    "execution": {
     "iopub.execute_input": "2025-08-23T08:58:42.811903Z",
     "iopub.status.busy": "2025-08-23T08:58:42.811584Z",
     "iopub.status.idle": "2025-08-23T08:58:44.139296Z",
     "shell.execute_reply": "2025-08-23T08:58:44.138585Z",
     "shell.execute_reply.started": "2025-08-23T08:58:42.811877Z"
    }
   },
   "outputs": [
    {
     "name": "stdout",
     "output_type": "stream",
     "text": [
      "Top 20 tokens: [('▁.', 73088), ('▁-', 61639), ('▁,', 53059), ('▁the', 41150), ('▁to', 30599), ('▁/', 25566), ('s', 25534), ('▁:', 25191), ('▁and', 22236), ('▁of', 21022), ('▁a', 19556), ('▁in', 16385), ('▁for', 12563), ('▁you', 11803), ('▁is', 10416), (\"▁'\", 10194), ('▁s', 10154), ('▁i', 9421), ('▁this', 9214), ('▁_', 9055), ('▁on', 8677), ('▁that', 8180), ('▁)', 7992), ('▁(', 7578), ('▁enron', 7523), ('▁be', 7519), ('▁your', 7043), ('▁\"', 7039), ('▁we', 6832), ('▁with', 6792), ('▁@', 6476), ('d', 6359), ('▁!', 6220), ('ing', 6175), ('▁as', 6104), ('▁$', 6071), ('▁will', 5685), ('▁have', 5670), ('▁from', 5630), ('ed', 5618), ('▁it', 5419), ('▁>', 5282), ('▁are', 5249), ('▁?', 5167), ('▁at', 5140), ('▁or', 5070), ('▁ect', 5060), ('▁', 4813), ('▁by', 4442), ('▁;', 4419)]\n"
     ]
    }
   ],
   "source": [
    "sample_for_freq = df_train.sample(n=min(5000, len(df_train)), random_state=RANDOM_SEED)\n",
    "cnt = Counter(tok for txt in sample_for_freq[\"text\"] for tok in sp_pieces(txt))\n",
    "top20 = cnt.most_common(50)\n",
    "print(\"Top 20 tokens:\", top20)"
   ]
  },
  {
   "cell_type": "markdown",
   "id": "0472d8b6-6335-4927-b3f6-6ff857313169",
   "metadata": {},
   "source": [
    "# 머신러닝 베이스라인 (SentencePiece → TF-IDF → 로지스틱/선형 SVM/나이브베이즈)"
   ]
  },
  {
   "cell_type": "code",
   "execution_count": 34,
   "id": "9f3e1fe8-28c0-4497-9e3e-3ffaa4767715",
   "metadata": {
    "execution": {
     "iopub.execute_input": "2025-08-23T08:59:55.813335Z",
     "iopub.status.busy": "2025-08-23T08:59:55.813010Z",
     "iopub.status.idle": "2025-08-23T08:59:55.899953Z",
     "shell.execute_reply": "2025-08-23T08:59:55.899215Z",
     "shell.execute_reply.started": "2025-08-23T08:59:55.813309Z"
    }
   },
   "outputs": [],
   "source": [
    "from sklearn.feature_extraction.text import TfidfVectorizer\n",
    "from sklearn.linear_model import LogisticRegression\n",
    "from sklearn.svm import LinearSVC\n",
    "from sklearn.naive_bayes import MultinomialNB\n",
    "from sklearn.pipeline import make_pipeline\n",
    "from sklearn.metrics import classification_report, confusion_matrix, accuracy_score\n",
    "from sklearn.model_selection import train_test_split\n",
    "import joblib"
   ]
  },
  {
   "cell_type": "code",
   "execution_count": 46,
   "id": "517b37ca-557d-43ef-8a56-03369b91052a",
   "metadata": {
    "execution": {
     "iopub.execute_input": "2025-08-23T14:06:18.179526Z",
     "iopub.status.busy": "2025-08-23T14:06:18.179208Z",
     "iopub.status.idle": "2025-08-23T14:06:18.208878Z",
     "shell.execute_reply": "2025-08-23T14:06:18.208099Z",
     "shell.execute_reply.started": "2025-08-23T14:06:18.179500Z"
    }
   },
   "outputs": [],
   "source": [
    "# train을 다시 train/val 분리 (모델 선택용)\n",
    "train_texts = df_train[\"text\"].tolist()\n",
    "train_labels = df_train[\"label\"].astype(int).tolist()\n",
    "X_tr, X_val, y_tr, y_val = train_test_split(\n",
    "    train_texts, train_labels, test_size=0.1, random_state=RANDOM_SEED, stratify=train_labels\n",
    ")"
   ]
  },
  {
   "cell_type": "code",
   "execution_count": 47,
   "id": "3dccda46-4ba5-4848-8b8e-03960ef7bf7e",
   "metadata": {
    "execution": {
     "iopub.execute_input": "2025-08-23T14:06:18.309166Z",
     "iopub.status.busy": "2025-08-23T14:06:18.308904Z",
     "iopub.status.idle": "2025-08-23T14:06:18.312313Z",
     "shell.execute_reply": "2025-08-23T14:06:18.311605Z",
     "shell.execute_reply.started": "2025-08-23T14:06:18.309141Z"
    }
   },
   "outputs": [],
   "source": [
    "# SentencePiece 토크나이저 for sklearn\n",
    "def sp_tokenizer_for_sklearn(text):\n",
    "    return sp_pieces(text)"
   ]
  },
  {
   "cell_type": "code",
   "execution_count": 70,
   "id": "7b505731-1a5d-4206-b250-ee418b2a2e77",
   "metadata": {
    "execution": {
     "iopub.execute_input": "2025-08-23T14:46:53.169486Z",
     "iopub.status.busy": "2025-08-23T14:46:53.169169Z",
     "iopub.status.idle": "2025-08-23T14:46:53.193688Z",
     "shell.execute_reply": "2025-08-23T14:46:53.192829Z",
     "shell.execute_reply.started": "2025-08-23T14:46:53.169460Z"
    }
   },
   "outputs": [],
   "source": [
    "# 공통 TF-IDF (unigram+bigram 권장, 필요시 조정)\n",
    "# (1,2)나 (1,3)처럼 늘리면 **연속 토큰 패턴(콜로케이션)**을 잡아내 표현력이 증가합니다.\n",
    "# SentencePiece처럼 서브워드 토큰을 쓸 때는, 바이그램이 실제 “단어” 수준 조합을 어느 정도 복원해 주는 효과가 있어 도움이 되는 경우가 많습니다.\n",
    "tfidf = TfidfVectorizer(\n",
    "    tokenizer=sp_tokenizer_for_sklearn,\n",
    "    lowercase=False,        # SentencePiece는 케이스 정보 유지해도 OK\n",
    "    preprocessor=None,\n",
    "    token_pattern=None,     # custom tokenizer 사용시 None\n",
    "    ngram_range=(1, 2),     # 몇 개의 연속 토큰을 하나의 특징으로 만들지를 정하는 파라미터: uni+bi\n",
    "    min_df=2,               # document frequency(문서 빈도) 하한선. “최소 몇 개 문서에서 등장한 토큰만 어휘(vocabulary)에 남길 것인가”를 정함.\n",
    "    max_features=20000\n",
    ")"
   ]
  },
  {
   "cell_type": "code",
   "execution_count": 53,
   "id": "1e3261d2-a21d-4e88-b90b-4ac324e2aada",
   "metadata": {
    "execution": {
     "iopub.execute_input": "2025-08-23T14:07:49.728980Z",
     "iopub.status.busy": "2025-08-23T14:07:49.728682Z",
     "iopub.status.idle": "2025-08-23T14:08:10.287181Z",
     "shell.execute_reply": "2025-08-23T14:08:10.286473Z",
     "shell.execute_reply.started": "2025-08-23T14:07:49.728960Z"
    }
   },
   "outputs": [],
   "source": [
    "Xtr = tfidf.fit_transform(X_tr)\n",
    "Xva = tfidf.transform(X_val)\n",
    "Xte = tfidf.transform(df_test[\"text\"].tolist())"
   ]
  },
  {
   "cell_type": "code",
   "execution_count": 54,
   "id": "342153d9-cf75-445a-a8b6-71140b68a423",
   "metadata": {
    "execution": {
     "iopub.execute_input": "2025-08-23T14:08:10.288025Z",
     "iopub.status.busy": "2025-08-23T14:08:10.287893Z",
     "iopub.status.idle": "2025-08-23T14:08:10.290766Z",
     "shell.execute_reply": "2025-08-23T14:08:10.290200Z",
     "shell.execute_reply.started": "2025-08-23T14:08:10.288013Z"
    }
   },
   "outputs": [],
   "source": [
    "# 3-3) 세 가지 분류기 학습 & 검증\n",
    "models = {\n",
    "    \"logreg\": LogisticRegression(max_iter=2000, n_jobs=1),\n",
    "    \"linear_svm\": LinearSVC(),\n",
    "    \"mnb\": MultinomialNB()\n",
    "}"
   ]
  },
  {
   "cell_type": "code",
   "execution_count": 69,
   "id": "0540b9b0-2c47-4c4e-b0ee-7074de2dba41",
   "metadata": {
    "execution": {
     "iopub.execute_input": "2025-08-23T14:46:35.189188Z",
     "iopub.status.busy": "2025-08-23T14:46:35.188836Z",
     "iopub.status.idle": "2025-08-23T14:46:35.194327Z",
     "shell.execute_reply": "2025-08-23T14:46:35.193608Z",
     "shell.execute_reply.started": "2025-08-23T14:46:35.189162Z"
    }
   },
   "outputs": [
    {
     "data": {
      "text/plain": [
       "((28498, 20000), 28498)"
      ]
     },
     "execution_count": 69,
     "metadata": {},
     "output_type": "execute_result"
    }
   ],
   "source": [
    "Xtr.shape, len(y_tr)"
   ]
  },
  {
   "cell_type": "code",
   "execution_count": 55,
   "id": "861dcd35-d42a-4b11-ad3d-4d54b22a3a7b",
   "metadata": {
    "execution": {
     "iopub.execute_input": "2025-08-23T14:08:10.291251Z",
     "iopub.status.busy": "2025-08-23T14:08:10.291141Z",
     "iopub.status.idle": "2025-08-23T14:08:14.662126Z",
     "shell.execute_reply": "2025-08-23T14:08:14.661594Z",
     "shell.execute_reply.started": "2025-08-23T14:08:10.291240Z"
    }
   },
   "outputs": [
    {
     "name": "stdout",
     "output_type": "stream",
     "text": [
      "[VAL] logreg: acc=0.9867\n",
      "[VAL] linear_svm: acc=0.9902\n",
      "[VAL] mnb: acc=0.9848\n"
     ]
    }
   ],
   "source": [
    "val_scores = {}\n",
    "for name, clf in models.items():\n",
    "    clf.fit(Xtr, y_tr)\n",
    "    pred_val = clf.predict(Xva)\n",
    "    acc = accuracy_score(y_val, pred_val)\n",
    "    val_scores[name] = acc\n",
    "    print(f\"[VAL] {name}: acc={acc:.4f}\")"
   ]
  },
  {
   "cell_type": "code",
   "execution_count": 56,
   "id": "234a8422-9adb-48c4-979f-09913e41d865",
   "metadata": {
    "execution": {
     "iopub.execute_input": "2025-08-23T14:18:07.480050Z",
     "iopub.status.busy": "2025-08-23T14:18:07.479797Z",
     "iopub.status.idle": "2025-08-23T14:18:07.483192Z",
     "shell.execute_reply": "2025-08-23T14:18:07.482624Z",
     "shell.execute_reply.started": "2025-08-23T14:18:07.480033Z"
    }
   },
   "outputs": [
    {
     "name": "stdout",
     "output_type": "stream",
     "text": [
      "Best on val: linear_svm 0.9902115566782443\n"
     ]
    }
   ],
   "source": [
    "best_name = max(val_scores, key=val_scores.get)\n",
    "best_model = models[best_name]\n",
    "print(\"Best on val:\", best_name, val_scores[best_name])"
   ]
  },
  {
   "cell_type": "code",
   "execution_count": null,
   "id": "bffcd947-f4a9-45ae-980d-319b7224af1d",
   "metadata": {},
   "outputs": [],
   "source": [
    "# 3-4) 테스트 평가\n",
    "pred_test = best_model.predict(Xte)\n",
    "print(\"\\n[TEST] report\")\n",
    "print(classification_report(test_df[\"label\"].astype(int).tolist(), pred_test, digits=4))\n"
   ]
  },
  {
   "cell_type": "code",
   "execution_count": null,
   "id": "0830423e-7187-42c3-ba1a-51f2f581fd11",
   "metadata": {},
   "outputs": [],
   "source": [
    "# 3-5) 혼동행렬 저장\n",
    "cm = confusion_matrix(test_df[\"label\"].astype(int).tolist(), pred_test)\n",
    "pd.DataFrame(cm, index=[\"ham(0)\",\"spam(1)\"], columns=[\"pred_ham(0)\",\"pred_spam(1)\"])\\\n",
    "  .to_csv(OUT_DIR/\"cm_tfidf_best.csv\")"
   ]
  },
  {
   "cell_type": "code",
   "execution_count": null,
   "id": "07a76175-fe3d-4da8-b329-b44d3e03b24f",
   "metadata": {},
   "outputs": [],
   "source": [
    "# 3-6) 아티팩트 저장(재사용)\n",
    "joblib.dump(tfidf, OUT_DIR/\"tfidf_spm.joblib\")\n",
    "joblib.dump(best_model, OUT_DIR/f\"clf_{best_name}.joblib\")\n",
    "print(\"Saved:\", OUT_DIR/\"tfidf_spm.joblib\", OUT_DIR/f\"clf_{best_name}.joblib\")"
   ]
  },
  {
   "cell_type": "code",
   "execution_count": null,
   "id": "168bb4a6-841c-47e7-b455-4692ee4c1665",
   "metadata": {},
   "outputs": [],
   "source": []
  },
  {
   "cell_type": "code",
   "execution_count": null,
   "id": "b78a9c31-fad8-4b23-b948-0227097de0c6",
   "metadata": {},
   "outputs": [],
   "source": []
  },
  {
   "cell_type": "markdown",
   "id": "86e1cb2f-ae1a-40ca-b114-ba1d1c56ae2b",
   "metadata": {},
   "source": [
    "# Step 4. 딥러닝 베이스라인 (SentencePiece ID → TextCNN)"
   ]
  },
  {
   "cell_type": "code",
   "execution_count": null,
   "id": "9102b768-047d-4c60-8136-35f852b4ffe2",
   "metadata": {},
   "outputs": [],
   "source": [
    "import torch\n",
    "from torch import nn\n",
    "from torch.utils.data import Dataset, DataLoader"
   ]
  },
  {
   "cell_type": "code",
   "execution_count": null,
   "id": "ee0b4742-5b8c-4e02-8a94-be3f3cfdc159",
   "metadata": {},
   "outputs": [],
   "source": [
    "device = \"cuda\" if torch.cuda.is_available() else (\"mps\" if getattr(torch.backends, \"mps\", None) and torch.backends.mps.is_available() else \"cpu\")\n",
    "device"
   ]
  },
  {
   "cell_type": "code",
   "execution_count": null,
   "id": "aafda49b-fbea-4a1f-8391-bfc8b5ca0055",
   "metadata": {},
   "outputs": [],
   "source": [
    "# 4-1) 하이퍼파라미터\n",
    "VOCAB_SIZE = sp.get_piece_size()\n",
    "PAD_ID = sp.piece_to_id(\"<|PAD|>\")  # 우리가 user_defined_symbols로 추가\n",
    "UNK_ID = sp.unk_id()\n",
    "MAX_LEN = 512\n",
    "BATCH_SIZE = 64\n",
    "EMBED_DIM = 128\n",
    "FILTERS = 128\n",
    "KERNEL_SIZES = [3,4,5]\n",
    "DROPOUT = 0.2\n",
    "EPOCHS = 10\n",
    "LR = 2e-3"
   ]
  },
  {
   "cell_type": "code",
   "execution_count": null,
   "id": "b52bbed0-902e-4f51-83bd-baee521984ee",
   "metadata": {},
   "outputs": [],
   "source": [
    "# 4-2) 토큰화/패딩\n",
    "def encode_ids(text, max_len=MAX_LEN):\n",
    "    ids = sp.encode_as_ids(text)[:max_len]\n",
    "    if len(ids) < max_len:\n",
    "        ids = ids + [PAD_ID] * (max_len - len(ids))\n",
    "    return np.array(ids, dtype=np.int64)"
   ]
  },
  {
   "cell_type": "code",
   "execution_count": null,
   "id": "a9a05238-9178-41b2-a81c-a7086dab9cd7",
   "metadata": {},
   "outputs": [],
   "source": [
    "class EnronDataset(Dataset):\n",
    "    def __init__(self, texts, labels):\n",
    "        self.texts = texts\n",
    "        self.labels = labels\n",
    "    def __len__(self): return len(self.texts)\n",
    "    def __getitem__(self, i):\n",
    "        x = encode_ids(self.texts[i])\n",
    "        y = int(self.labels[i])\n",
    "        return torch.tensor(x), torch.tensor(y)\n"
   ]
  },
  {
   "cell_type": "code",
   "execution_count": null,
   "id": "2f462e06-69e7-45bc-9d9d-60137b47eeb1",
   "metadata": {},
   "outputs": [],
   "source": [
    "# 4-3) split (train/val은 앞서 만든 걸 재사용)\n",
    "train_ds = EnronDataset(X_tr, y_tr)\n",
    "val_ds   = EnronDataset(X_val, y_val)\n",
    "test_ds  = EnronDataset(test_df[\"text\"].tolist(), test_df[\"label\"].astype(int).tolist())\n",
    "\n",
    "train_loader = DataLoader(train_ds, batch_size=BATCH_SIZE, shuffle=True, num_workers=2, pin_memory=True)\n",
    "val_loader   = DataLoader(val_ds,   batch_size=BATCH_SIZE, shuffle=False, num_workers=2, pin_memory=True)\n",
    "test_loader  = DataLoader(test_ds,  batch_size=BATCH_SIZE, shuffle=False, num_workers=2, pin_memory=True)"
   ]
  },
  {
   "cell_type": "code",
   "execution_count": null,
   "id": "5e013aaf-684a-4eb2-946b-ad259431de29",
   "metadata": {},
   "outputs": [],
   "source": [
    "# 4-4) TextCNN 모델\n",
    "class TextCNN(nn.Module):\n",
    "    def __init__(self, vocab_size, embed_dim, num_classes=2, kernel_sizes=[3,4,5], num_filters=128, dropout=0.5, pad_idx=0):\n",
    "        super().__init__()\n",
    "        self.embedding = nn.Embedding(vocab_size, embed_dim, padding_idx=pad_idx)\n",
    "        self.convs = nn.ModuleList([nn.Conv1d(embed_dim, num_filters, k) for k in kernel_sizes])\n",
    "        self.dropout = nn.Dropout(dropout)\n",
    "        self.fc = nn.Linear(num_filters * len(kernel_sizes), num_classes)\n",
    "    def forward(self, x):\n",
    "        # x: (B, L)\n",
    "        emb = self.embedding(x)                # (B, L, E)\n",
    "        emb = emb.transpose(1, 2)              # (B, E, L)\n",
    "        conv_outs = [torch.relu(conv(emb)) for conv in self.convs]         # [(B, C, L-k+1), ...]\n",
    "        pooled = [torch.max(co, dim=2).values for co in conv_outs]         # [(B, C), ...]\n",
    "        cat = torch.cat(pooled, dim=1)         # (B, C*len(K))\n",
    "        cat = self.dropout(cat)\n",
    "        return self.fc(cat)"
   ]
  },
  {
   "cell_type": "code",
   "execution_count": null,
   "id": "cba80979-56e4-4993-8c08-e99237e5964e",
   "metadata": {},
   "outputs": [],
   "source": [
    "model = TextCNN(VOCAB_SIZE, EMBED_DIM, num_classes=2, kernel_sizes=KERNEL_SIZES, num_filters=FILTERS, dropout=DROPOUT, pad_idx=PAD_ID).to(device)\n",
    "criterion = nn.CrossEntropyLoss()\n",
    "optimizer = torch.optim.AdamW(model.parameters(), lr=LR)"
   ]
  },
  {
   "cell_type": "code",
   "execution_count": null,
   "id": "3758ffa8-d9e6-4ce3-87b2-afc446e4aab1",
   "metadata": {},
   "outputs": [],
   "source": []
  },
  {
   "cell_type": "code",
   "execution_count": null,
   "id": "b1c51a41-4215-495d-b41c-1745126a709a",
   "metadata": {},
   "outputs": [],
   "source": [
    "# 4-5) 학습 루프\n",
    "from sklearn.metrics import f1_score, accuracy_score\n"
   ]
  },
  {
   "cell_type": "code",
   "execution_count": null,
   "id": "7bc621b0-c557-42f9-9691-a4bd10006ee2",
   "metadata": {},
   "outputs": [],
   "source": [
    "def evaluate(loader):\n",
    "    model.eval()\n",
    "    all_y, all_p = [], []\n",
    "    with torch.no_grad():\n",
    "        for xb, yb in loader:\n",
    "            xb, yb = xb.to(device), yb.to(device)\n",
    "            logits = model(xb)\n",
    "            preds = logits.argmax(dim=1)\n",
    "            all_y.extend(yb.cpu().numpy().tolist())\n",
    "            all_p.extend(preds.cpu().numpy().tolist())\n",
    "    acc = accuracy_score(all_y, all_p)\n",
    "    f1  = f1_score(all_y, all_p)\n",
    "    return acc, f1"
   ]
  },
  {
   "cell_type": "code",
   "execution_count": null,
   "id": "5a7f9840-82a9-4238-9e75-c9040a78a969",
   "metadata": {},
   "outputs": [],
   "source": [
    "best_val = -1\n",
    "for epoch in range(1, EPOCHS+1):\n",
    "    model.train()\n",
    "    total_loss = 0.0\n",
    "    for xb, yb in train_loader:\n",
    "        xb, yb = xb.to(device), yb.to(device)\n",
    "        optimizer.zero_grad()\n",
    "        logits = model(xb)\n",
    "        loss = criterion(logits, yb)\n",
    "        loss.backward()\n",
    "        optimizer.step()\n",
    "        total_loss += loss.item() * xb.size(0)\n",
    "    train_loss = total_loss / len(train_loader.dataset)\n",
    "    val_acc, val_f1 = evaluate(val_loader)\n",
    "    print(f\"Epoch {epoch}: train_loss={train_loss:.4f}  val_acc={val_acc:.4f}  val_f1={val_f1:.4f}\")\n",
    "    # 간단한 early-best 저장\n",
    "    if val_f1 > best_val:\n",
    "        best_val = val_f1\n",
    "        torch.save(model.state_dict(), OUT_DIR/\"textcnn_best.pt\")\n",
    "        print(\"  (saved best)\")"
   ]
  },
  {
   "cell_type": "code",
   "execution_count": null,
   "id": "99795ef1-447c-4011-9ccb-1d3d6cbbe7d4",
   "metadata": {},
   "outputs": [],
   "source": [
    "# 4-6) 테스트 평가\n",
    "model.load_state_dict(torch.load(OUT_DIR/\"textcnn_best.pt\", map_location=device))\n",
    "test_acc, test_f1 = evaluate(test_loader)\n",
    "print(f\"[TEST] TextCNN acc={test_acc:.4f}  f1={test_f1:.4f}\")"
   ]
  },
  {
   "cell_type": "code",
   "execution_count": null,
   "id": "eba8f294-b937-4099-9311-31e9e5f7738b",
   "metadata": {},
   "outputs": [],
   "source": []
  },
  {
   "cell_type": "code",
   "execution_count": null,
   "id": "059d734f-fbd0-4b6d-8fc0-9d743b053d79",
   "metadata": {},
   "outputs": [],
   "source": []
  },
  {
   "cell_type": "code",
   "execution_count": null,
   "id": "6ad08bd0-d80c-451b-abdf-1ebef3110318",
   "metadata": {},
   "outputs": [],
   "source": []
  },
  {
   "cell_type": "code",
   "execution_count": null,
   "id": "3990ef4a-9549-4f8f-9404-0cf71d499332",
   "metadata": {},
   "outputs": [],
   "source": []
  },
  {
   "cell_type": "code",
   "execution_count": null,
   "id": "2df394a9-b05e-437b-84db-f2f5d25fd980",
   "metadata": {},
   "outputs": [],
   "source": []
  },
  {
   "cell_type": "code",
   "execution_count": null,
   "id": "2aa04460-bda0-46c7-8e66-58447ee2330f",
   "metadata": {},
   "outputs": [],
   "source": []
  },
  {
   "cell_type": "code",
   "execution_count": null,
   "id": "36ae030d-1d14-443a-9e81-e4594cabb6ad",
   "metadata": {},
   "outputs": [],
   "source": []
  },
  {
   "cell_type": "code",
   "execution_count": null,
   "id": "dd919c88-3e9a-49d0-b11a-ebc700b8e395",
   "metadata": {},
   "outputs": [],
   "source": []
  },
  {
   "cell_type": "code",
   "execution_count": null,
   "id": "bf0c0ebe-5f3d-49ed-be84-171095a932ad",
   "metadata": {},
   "outputs": [],
   "source": []
  }
 ],
 "metadata": {
  "kernelspec": {
   "display_name": "Python 3 (ipykernel)",
   "language": "python",
   "name": "python3"
  },
  "language_info": {
   "codemirror_mode": {
    "name": "ipython",
    "version": 3
   },
   "file_extension": ".py",
   "mimetype": "text/x-python",
   "name": "python",
   "nbconvert_exporter": "python",
   "pygments_lexer": "ipython3",
   "version": "3.10.0"
  }
 },
 "nbformat": 4,
 "nbformat_minor": 5
}
