{
 "cells": [
  {
   "cell_type": "code",
   "execution_count": 1,
   "metadata": {
    "execution": {
     "iopub.execute_input": "2025-09-04T13:24:09.964697Z",
     "iopub.status.busy": "2025-09-04T13:24:09.964464Z",
     "iopub.status.idle": "2025-09-04T13:24:12.105480Z",
     "shell.execute_reply": "2025-09-04T13:24:12.104788Z",
     "shell.execute_reply.started": "2025-09-04T13:24:09.964664Z"
    },
    "id": "siuUDcm7JRvv"
   },
   "outputs": [],
   "source": [
    "import torch\n",
    "import torch.nn as nn\n",
    "import torch.optim as optim\n",
    "import torchvision\n",
    "import matplotlib.pyplot as plt"
   ]
  },
  {
   "cell_type": "code",
   "execution_count": 2,
   "metadata": {
    "execution": {
     "iopub.execute_input": "2025-09-04T13:24:12.106104Z",
     "iopub.status.busy": "2025-09-04T13:24:12.105917Z",
     "iopub.status.idle": "2025-09-04T13:24:12.108657Z",
     "shell.execute_reply": "2025-09-04T13:24:12.108065Z",
     "shell.execute_reply.started": "2025-09-04T13:24:12.106090Z"
    },
    "id": "kSz5y_Q5Jqts"
   },
   "outputs": [],
   "source": [
    "import numpy as np"
   ]
  },
  {
   "cell_type": "markdown",
   "metadata": {
    "id": "NR8E6URZK1X3"
   },
   "source": [
    "# 데이터 로딩"
   ]
  },
  {
   "cell_type": "code",
   "execution_count": 3,
   "metadata": {
    "execution": {
     "iopub.execute_input": "2025-09-04T13:24:12.109657Z",
     "iopub.status.busy": "2025-09-04T13:24:12.109519Z",
     "iopub.status.idle": "2025-09-04T13:24:33.536482Z",
     "shell.execute_reply": "2025-09-04T13:24:33.536021Z",
     "shell.execute_reply.started": "2025-09-04T13:24:12.109637Z"
    },
    "id": "yPGOz6I1JkBj"
   },
   "outputs": [
    {
     "name": "stderr",
     "output_type": "stream",
     "text": [
      "100%|██████████| 170M/170M [00:17<00:00, 9.53MB/s] \n"
     ]
    }
   ],
   "source": [
    "trainset_raw = torchvision.datasets.CIFAR10(root='./data', train=True, download=True)\n",
    "testset_raw = torchvision.datasets.CIFAR10(root='./data', train=False, download=True)"
   ]
  },
  {
   "cell_type": "code",
   "execution_count": 4,
   "metadata": {
    "execution": {
     "iopub.execute_input": "2025-09-04T13:24:33.537082Z",
     "iopub.status.busy": "2025-09-04T13:24:33.536952Z",
     "iopub.status.idle": "2025-09-04T13:24:33.539851Z",
     "shell.execute_reply": "2025-09-04T13:24:33.539487Z",
     "shell.execute_reply.started": "2025-09-04T13:24:33.537069Z"
    },
    "id": "KGuK-J08Jje-"
   },
   "outputs": [],
   "source": [
    "def preprocess_cifar(dataset):\n",
    "    images = torch.tensor(np.transpose(np.array(dataset.data), (0,3,1,2)), dtype=torch.float32) / 255.0\n",
    "    mean = images.mean([0,2,3], keepdim=True)\n",
    "    std = images.std([0,2,3], keepdim=True)\n",
    "    images = (images - mean) / std\n",
    "    labels = torch.tensor(dataset.targets)\n",
    "    return images, labels"
   ]
  },
  {
   "cell_type": "code",
   "execution_count": 5,
   "metadata": {
    "execution": {
     "iopub.execute_input": "2025-09-04T13:24:33.540299Z",
     "iopub.status.busy": "2025-09-04T13:24:33.540182Z",
     "iopub.status.idle": "2025-09-04T13:24:34.390157Z",
     "shell.execute_reply": "2025-09-04T13:24:34.389672Z",
     "shell.execute_reply.started": "2025-09-04T13:24:33.540287Z"
    },
    "id": "HPwZhoShJu-J"
   },
   "outputs": [],
   "source": [
    "train_images, train_labels = preprocess_cifar(trainset_raw)\n",
    "test_images, test_labels = preprocess_cifar(testset_raw)"
   ]
  },
  {
   "cell_type": "code",
   "execution_count": 6,
   "metadata": {
    "execution": {
     "iopub.execute_input": "2025-09-04T13:24:34.390899Z",
     "iopub.status.busy": "2025-09-04T13:24:34.390599Z",
     "iopub.status.idle": "2025-09-04T13:24:34.393342Z",
     "shell.execute_reply": "2025-09-04T13:24:34.392932Z",
     "shell.execute_reply.started": "2025-09-04T13:24:34.390863Z"
    },
    "id": "7G90t3WUJ1ti"
   },
   "outputs": [],
   "source": [
    "# train/val split\n",
    "train_size = int(0.8 * len(train_images))\n",
    "val_size = len(train_images) - train_size"
   ]
  },
  {
   "cell_type": "code",
   "execution_count": 7,
   "metadata": {
    "execution": {
     "iopub.execute_input": "2025-09-04T13:24:34.393892Z",
     "iopub.status.busy": "2025-09-04T13:24:34.393773Z",
     "iopub.status.idle": "2025-09-04T13:24:34.411056Z",
     "shell.execute_reply": "2025-09-04T13:24:34.410660Z",
     "shell.execute_reply.started": "2025-09-04T13:24:34.393880Z"
    },
    "id": "St3cT6mOJ4ls"
   },
   "outputs": [],
   "source": [
    "train_images, val_images = torch.utils.data.random_split(train_images, [train_size, val_size])\n",
    "train_labels, val_labels = torch.utils.data.random_split(train_labels, [train_size, val_size])"
   ]
  },
  {
   "cell_type": "code",
   "execution_count": 8,
   "metadata": {
    "execution": {
     "iopub.execute_input": "2025-09-04T13:24:34.412276Z",
     "iopub.status.busy": "2025-09-04T13:24:34.412153Z",
     "iopub.status.idle": "2025-09-04T13:24:34.692786Z",
     "shell.execute_reply": "2025-09-04T13:24:34.692158Z",
     "shell.execute_reply.started": "2025-09-04T13:24:34.412264Z"
    },
    "id": "87nqyo9vJ6ne"
   },
   "outputs": [],
   "source": [
    "trainloader = torch.utils.data.DataLoader(list(zip(train_images, train_labels)), batch_size=64, shuffle=True)\n",
    "valloader = torch.utils.data.DataLoader(list(zip(val_images, val_labels)), batch_size=64, shuffle=False)"
   ]
  },
  {
   "cell_type": "markdown",
   "metadata": {
    "id": "rF4qmfruKALK"
   },
   "source": [
    "# 모델 생성"
   ]
  },
  {
   "cell_type": "code",
   "execution_count": 9,
   "metadata": {
    "execution": {
     "iopub.execute_input": "2025-09-04T13:24:34.693323Z",
     "iopub.status.busy": "2025-09-04T13:24:34.693202Z",
     "iopub.status.idle": "2025-09-04T13:24:34.822397Z",
     "shell.execute_reply": "2025-09-04T13:24:34.821786Z",
     "shell.execute_reply.started": "2025-09-04T13:24:34.693310Z"
    },
    "id": "CzKMwfkkJ9dS"
   },
   "outputs": [],
   "source": [
    "device = torch.device(\"cuda\" if torch.cuda.is_available() else \"cpu\")"
   ]
  },
  {
   "cell_type": "code",
   "execution_count": 10,
   "metadata": {
    "execution": {
     "iopub.execute_input": "2025-09-04T13:24:34.822997Z",
     "iopub.status.busy": "2025-09-04T13:24:34.822874Z",
     "iopub.status.idle": "2025-09-04T13:24:34.837774Z",
     "shell.execute_reply": "2025-09-04T13:24:34.837269Z",
     "shell.execute_reply.started": "2025-09-04T13:24:34.822984Z"
    },
    "id": "bXsbsxsCKDje"
   },
   "outputs": [],
   "source": [
    "class CNN(nn.Module):\n",
    "    def __init__(self):\n",
    "        super(CNN, self).__init__()\n",
    "        self.conv1 = nn.Conv2d(3, 32, 3, padding=1)\n",
    "        self.conv2 = nn.Conv2d(32, 64, 3, padding=1)\n",
    "        self.pool = nn.MaxPool2d(2, 2)\n",
    "        self.fc1 = nn.Linear(64 * 8 * 8, 128)\n",
    "        self.fc2 = nn.Linear(128, 10)\n",
    "        self.relu = nn.ReLU()\n",
    "\n",
    "    def forward(self, x):\n",
    "        x = self.pool(self.relu(self.conv1(x)))\n",
    "        x = self.pool(self.relu(self.conv2(x)))\n",
    "        x = x.view(-1, 64 * 8 * 8)\n",
    "        x = self.relu(self.fc1(x))\n",
    "        return self.fc2(x)"
   ]
  },
  {
   "cell_type": "code",
   "execution_count": 11,
   "metadata": {
    "execution": {
     "iopub.execute_input": "2025-09-04T13:24:34.838209Z",
     "iopub.status.busy": "2025-09-04T13:24:34.838100Z",
     "iopub.status.idle": "2025-09-04T13:24:35.019886Z",
     "shell.execute_reply": "2025-09-04T13:24:35.019260Z",
     "shell.execute_reply.started": "2025-09-04T13:24:34.838197Z"
    },
    "id": "dq3C_k0xKH3I"
   },
   "outputs": [],
   "source": [
    "model = CNN().to(device)\n",
    "criterion = nn.CrossEntropyLoss()\n",
    "optimizer = optim.Adam(model.parameters(), lr=0.001)"
   ]
  },
  {
   "cell_type": "markdown",
   "metadata": {
    "id": "6yIPonKwKNJH"
   },
   "source": [
    "# 학습"
   ]
  },
  {
   "cell_type": "code",
   "execution_count": 12,
   "metadata": {
    "execution": {
     "iopub.execute_input": "2025-09-04T13:24:35.020445Z",
     "iopub.status.busy": "2025-09-04T13:24:35.020323Z",
     "iopub.status.idle": "2025-09-04T13:24:35.022866Z",
     "shell.execute_reply": "2025-09-04T13:24:35.022391Z",
     "shell.execute_reply.started": "2025-09-04T13:24:35.020432Z"
    },
    "id": "gbBGzdZCKKF4"
   },
   "outputs": [],
   "source": [
    "train_losses, val_losses, val_accuracies = [], [], []"
   ]
  },
  {
   "cell_type": "code",
   "execution_count": 13,
   "metadata": {
    "execution": {
     "iopub.execute_input": "2025-09-04T13:24:35.023328Z",
     "iopub.status.busy": "2025-09-04T13:24:35.023217Z",
     "iopub.status.idle": "2025-09-04T13:24:59.610670Z",
     "shell.execute_reply": "2025-09-04T13:24:59.610047Z",
     "shell.execute_reply.started": "2025-09-04T13:24:35.023316Z"
    },
    "id": "fxC7zbLCKRaN"
   },
   "outputs": [
    {
     "name": "stdout",
     "output_type": "stream",
     "text": [
      "Epoch [1/20], Train Loss: 2.3035, Val Loss: 2.3027, Val Acc: 10.23%\n",
      "Epoch [2/20], Train Loss: 2.3031, Val Loss: 2.3030, Val Acc: 9.62%\n",
      "Epoch [3/20], Train Loss: 2.3028, Val Loss: 2.3029, Val Acc: 9.99%\n",
      "Epoch [4/20], Train Loss: 2.3030, Val Loss: 2.3032, Val Acc: 9.84%\n",
      "Epoch [5/20], Train Loss: 2.3027, Val Loss: 2.3032, Val Acc: 9.79%\n",
      "Epoch [6/20], Train Loss: 2.3009, Val Loss: 2.3039, Val Acc: 10.18%\n",
      "Epoch [7/20], Train Loss: 2.2956, Val Loss: 2.3090, Val Acc: 9.64%\n",
      "Epoch [8/20], Train Loss: 2.2780, Val Loss: 2.3218, Val Acc: 10.13%\n",
      "Epoch [9/20], Train Loss: 2.2225, Val Loss: 2.3679, Val Acc: 10.01%\n",
      "Epoch [10/20], Train Loss: 2.0975, Val Loss: 2.4777, Val Acc: 10.25%\n",
      "Epoch [11/20], Train Loss: 1.8929, Val Loss: 2.6567, Val Acc: 10.02%\n",
      "Epoch [12/20], Train Loss: 1.6317, Val Loss: 2.9964, Val Acc: 10.33%\n",
      "Epoch [13/20], Train Loss: 1.3507, Val Loss: 3.4672, Val Acc: 10.09%\n",
      "Epoch [14/20], Train Loss: 1.0903, Val Loss: 4.1222, Val Acc: 10.63%\n",
      "Epoch [15/20], Train Loss: 0.8688, Val Loss: 4.8586, Val Acc: 10.72%\n",
      "Epoch [16/20], Train Loss: 0.7064, Val Loss: 5.6959, Val Acc: 10.91%\n",
      "Epoch [17/20], Train Loss: 0.5895, Val Loss: 6.5833, Val Acc: 10.42%\n",
      "Epoch [18/20], Train Loss: 0.5067, Val Loss: 7.2798, Val Acc: 10.47%\n",
      "Epoch [19/20], Train Loss: 0.4486, Val Loss: 8.1945, Val Acc: 10.52%\n",
      "Epoch [20/20], Train Loss: 0.4109, Val Loss: 8.7369, Val Acc: 10.66%\n"
     ]
    }
   ],
   "source": [
    "for epoch in range(20):\n",
    "    model.train()\n",
    "    running_loss = 0\n",
    "    for images, labels in trainloader:\n",
    "        images, labels = images.to(device), labels.to(device)\n",
    "        optimizer.zero_grad()\n",
    "        outputs = model(images)\n",
    "        loss = criterion(outputs, labels)\n",
    "        loss.backward()\n",
    "        optimizer.step()\n",
    "        running_loss += loss.item()\n",
    "    train_losses.append(running_loss / len(trainloader))\n",
    "\n",
    "    # ----- Validation -----\n",
    "    model.eval()\n",
    "    val_loss, correct, total = 0, 0, 0\n",
    "    with torch.no_grad():\n",
    "        for images, labels in valloader:\n",
    "            images, labels = images.to(device), labels.to(device)\n",
    "            outputs = model(images)\n",
    "            loss = criterion(outputs, labels)\n",
    "            val_loss += loss.item()\n",
    "            _, predicted = torch.max(outputs, 1)\n",
    "            total += labels.size(0)\n",
    "            correct += (predicted == labels).sum().item()\n",
    "    val_losses.append(val_loss / len(valloader))\n",
    "    val_accuracies.append(100 * correct / total)\n",
    "\n",
    "    print(f\"Epoch [{epoch+1}/20], Train Loss: {train_losses[-1]:.4f}, Val Loss: {val_losses[-1]:.4f}, Val Acc: {val_accuracies[-1]:.2f}%\")\n"
   ]
  },
  {
   "cell_type": "markdown",
   "metadata": {
    "id": "6I2IUuE5Lnbr"
   },
   "source": [
    "# 학습결과 확인"
   ]
  },
  {
   "cell_type": "code",
   "execution_count": 14,
   "metadata": {
    "execution": {
     "iopub.execute_input": "2025-09-04T13:24:59.611267Z",
     "iopub.status.busy": "2025-09-04T13:24:59.611140Z",
     "iopub.status.idle": "2025-09-04T13:24:59.695909Z",
     "shell.execute_reply": "2025-09-04T13:24:59.695354Z",
     "shell.execute_reply.started": "2025-09-04T13:24:59.611254Z"
    },
    "id": "GJRHS8OoKWAe"
   },
   "outputs": [
    {
     "data": {
      "image/png": "[encoded data removed]",
      "text/plain": [
       "<Figure size 640x480 with 1 Axes>"
      ]
     },
     "metadata": {},
     "output_type": "display_data"
    }
   ],
   "source": [
    "plt.figure()\n",
    "plt.plot(train_losses, label=\"Train Loss\")\n",
    "plt.plot(val_losses, label=\"Val Loss\")\n",
    "plt.legend()\n",
    "plt.title(\"Loss\")\n",
    "plt.show()"
   ]
  },
  {
   "cell_type": "code",
   "execution_count": 15,
   "metadata": {
    "execution": {
     "iopub.execute_input": "2025-09-04T13:24:59.696454Z",
     "iopub.status.busy": "2025-09-04T13:24:59.696331Z",
     "iopub.status.idle": "2025-09-04T13:24:59.774097Z",
     "shell.execute_reply": "2025-09-04T13:24:59.773556Z",
     "shell.execute_reply.started": "2025-09-04T13:24:59.696440Z"
    },
    "id": "K3dThCqwLvLG"
   },
   "outputs": [
    {
     "data": {
      "image/png": "[encoded data removed]",
      "text/plain": [
       "<Figure size 640x480 with 1 Axes>"
      ]
     },
     "metadata": {},
     "output_type": "display_data"
    }
   ],
   "source": [
    "plt.figure()\n",
    "plt.plot(val_accuracies, label=\"Val Accuracy\")\n",
    "plt.legend()\n",
    "plt.title(\"Accuracy\")\n",
    "plt.show()"
   ]
  },
  {
   "cell_type": "code",
   "execution_count": null,
   "metadata": {
    "id": "kLFmGovFLyY_"
   },
   "outputs": [],
   "source": []
  }
 ],
 "metadata": {
  "accelerator": "GPU",
  "colab": {
   "gpuType": "T4",
   "provenance": []
  },
  "kernelspec": {
   "display_name": "Python 3 (ipykernel)",
   "language": "python",
   "name": "python3"
  },
  "language_info": {
   "codemirror_mode": {
    "name": "ipython",
    "version": 3
   },
   "file_extension": ".py",
   "mimetype": "text/x-python",
   "name": "python",
   "nbconvert_exporter": "python",
   "pygments_lexer": "ipython3",
   "version": "3.10.0"
  }
 },
 "nbformat": 4,
 "nbformat_minor": 4
}
