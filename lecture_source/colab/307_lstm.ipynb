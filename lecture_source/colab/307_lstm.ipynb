{
 "cells": [
  {
   "cell_type": "markdown",
   "metadata": {
    "id": "NR8E6URZK1X3"
   },
   "source": [
    "# 기본환경 설정"
   ]
  },
  {
   "cell_type": "code",
   "execution_count": 3,
   "metadata": {
    "execution": {
     "iopub.execute_input": "2025-09-06T07:29:01.703499Z",
     "iopub.status.busy": "2025-09-06T07:29:01.703177Z",
     "iopub.status.idle": "2025-09-06T07:29:01.716108Z",
     "shell.execute_reply": "2025-09-06T07:29:01.715370Z",
     "shell.execute_reply.started": "2025-09-06T07:29:01.703473Z"
    }
   },
   "outputs": [
    {
     "data": {
      "text/plain": [
       "'cuda'"
      ]
     },
     "execution_count": 3,
     "metadata": {},
     "output_type": "execute_result"
    }
   ],
   "source": [
    "import os, zipfile, urllib.request, math\n",
    "import numpy as np\n",
    "import pandas as pd\n",
    "import torch\n",
    "from torch import nn\n",
    "from torch.utils.data import Dataset, DataLoader\n",
    "from sklearn.preprocessing import StandardScaler\n",
    "import matplotlib.pyplot as plt\n",
    "\n",
    "plt.rcParams[\"figure.figsize\"] = (10, 4)\n",
    "%matplotlib inline\n",
    "\n",
    "# 재현성\n",
    "torch.manual_seed(42)\n",
    "np.random.seed(42)\n",
    "\n",
    "# 하이퍼파라미터(원하면 여기만 바꾸세요)\n",
    "seq_len     = 24       # LSTM 입력 길이(과거 24시간)\n",
    "batch_size  = 64\n",
    "hidden_dim  = 64\n",
    "num_layers  = 2\n",
    "dropout     = 0.2\n",
    "lr          = 1e-3\n",
    "epochs      = 20\n",
    "\n",
    "# 특성/타깃 선택\n",
    "feature_cols = [\"T\", \"RH\", \"AH\"]  # 입력에 쓸 컬럼 (온도, 상대습고, 절대습도)\n",
    "target_col   = \"T\"                # 다음 시점 예측할 컬럼\n",
    "\n",
    "# 데이터 경로/URL\n",
    "DATA_URL  = \"https://archive.ics.uci.edu/ml/machine-learning-databases/00360/AirQualityUCI.zip\"\n",
    "DATA_DIR  = \"data/data_airquality\"\n",
    "ZIP_PATH  = os.path.join(DATA_DIR, \"AirQualityUCI.zip\")\n",
    "CSV_PATH  = os.path.join(DATA_DIR, \"AirQualityUCI.csv\")\n",
    "\n",
    "device = \"cuda\" if torch.cuda.is_available() else \"cpu\"\n",
    "device\n"
   ]
  },
  {
   "cell_type": "code",
   "execution_count": 4,
   "metadata": {
    "execution": {
     "iopub.execute_input": "2025-09-06T07:29:08.751469Z",
     "iopub.status.busy": "2025-09-06T07:29:08.751163Z",
     "iopub.status.idle": "2025-09-06T07:29:10.232986Z",
     "shell.execute_reply": "2025-09-06T07:29:10.232120Z",
     "shell.execute_reply.started": "2025-09-06T07:29:08.751442Z"
    }
   },
   "outputs": [
    {
     "name": "stdout",
     "output_type": "stream",
     "text": [
      "[INFO] Downloading dataset...\n",
      "[INFO] Saved: data/data_airquality/AirQualityUCI.csv\n"
     ]
    }
   ],
   "source": [
    "os.makedirs(DATA_DIR, exist_ok=True)\n",
    "\n",
    "if not os.path.exists(CSV_PATH):\n",
    "    print(\"[INFO] Downloading dataset...\")\n",
    "    urllib.request.urlretrieve(DATA_URL, ZIP_PATH)\n",
    "    with zipfile.ZipFile(ZIP_PATH, \"r\") as zf:\n",
    "        with zf.open(\"AirQualityUCI.csv\") as f, open(CSV_PATH, \"wb\") as out:\n",
    "            out.write(f.read())\n",
    "    print(f\"[INFO] Saved: {CSV_PATH}\")\n",
    "else:\n",
    "    print(\"[INFO] CSV already exists:\", CSV_PATH)\n"
   ]
  },
  {
   "cell_type": "code",
   "execution_count": 5,
   "metadata": {
    "execution": {
     "iopub.execute_input": "2025-09-06T07:29:27.629104Z",
     "iopub.status.busy": "2025-09-06T07:29:27.628781Z",
     "iopub.status.idle": "2025-09-06T07:29:27.686971Z",
     "shell.execute_reply": "2025-09-06T07:29:27.686158Z",
     "shell.execute_reply.started": "2025-09-06T07:29:27.629077Z"
    }
   },
   "outputs": [
    {
     "name": "stderr",
     "output_type": "stream",
     "text": [
      "/tmp/ipykernel_265835/1464999673.py:2: FutureWarning: Support for nested sequences for 'parse_dates' in pd.read_csv is deprecated. Combine the desired columns with pd.to_datetime after parsing instead.\n",
      "  df = pd.read_csv(\n",
      "/tmp/ipykernel_265835/1464999673.py:2: UserWarning: Could not infer format, so each element will be parsed individually, falling back to `dateutil`. To ensure parsing is consistent and as-expected, please specify a format.\n",
      "  df = pd.read_csv(\n"
     ]
    },
    {
     "data": {
      "text/html": [
       "<div>\n",
       "<style scoped>\n",
       "    .dataframe tbody tr th:only-of-type {\n",
       "        vertical-align: middle;\n",
       "    }\n",
       "\n",
       "    .dataframe tbody tr th {\n",
       "        vertical-align: top;\n",
       "    }\n",
       "\n",
       "    .dataframe thead th {\n",
       "        text-align: right;\n",
       "    }\n",
       "</style>\n",
       "<table border=\"1\" class=\"dataframe\">\n",
       "  <thead>\n",
       "    <tr style=\"text-align: right;\">\n",
       "      <th></th>\n",
       "      <th>T</th>\n",
       "      <th>RH</th>\n",
       "      <th>AH</th>\n",
       "      <th>T</th>\n",
       "    </tr>\n",
       "    <tr>\n",
       "      <th>datetime</th>\n",
       "      <th></th>\n",
       "      <th></th>\n",
       "      <th></th>\n",
       "      <th></th>\n",
       "    </tr>\n",
       "  </thead>\n",
       "  <tbody>\n",
       "    <tr>\n",
       "      <th>01/01/2005 00.00.00</th>\n",
       "      <td>8.2</td>\n",
       "      <td>40.1</td>\n",
       "      <td>0.4375</td>\n",
       "      <td>8.2</td>\n",
       "    </tr>\n",
       "    <tr>\n",
       "      <th>01/01/2005 01.00.00</th>\n",
       "      <td>5.3</td>\n",
       "      <td>50.7</td>\n",
       "      <td>0.4564</td>\n",
       "      <td>5.3</td>\n",
       "    </tr>\n",
       "    <tr>\n",
       "      <th>01/01/2005 02.00.00</th>\n",
       "      <td>5.9</td>\n",
       "      <td>50.0</td>\n",
       "      <td>0.4689</td>\n",
       "      <td>5.9</td>\n",
       "    </tr>\n",
       "  </tbody>\n",
       "</table>\n",
       "</div>"
      ],
      "text/plain": [
       "                       T    RH      AH    T\n",
       "datetime                                   \n",
       "01/01/2005 00.00.00  8.2  40.1  0.4375  8.2\n",
       "01/01/2005 01.00.00  5.3  50.7  0.4564  5.3\n",
       "01/01/2005 02.00.00  5.9  50.0  0.4689  5.9"
      ]
     },
     "execution_count": 5,
     "metadata": {},
     "output_type": "execute_result"
    }
   ],
   "source": [
    "# UCI 파일은 세미콜론(;) 구분, 소수점 ,(comma), -200은 결측치 코드\n",
    "df = pd.read_csv(\n",
    "    CSV_PATH,\n",
    "    sep=\";\",\n",
    "    decimal=\",\",\n",
    "    parse_dates={\"datetime\": [\"Date\", \"Time\"]},\n",
    "    low_memory=False\n",
    ")\n",
    "\n",
    "# 전부 NaN인 컬럼 제거(파일 끝의 빈 컬럼 등)\n",
    "df = df.dropna(axis=1, how=\"all\")\n",
    "\n",
    "# 결측치 처리(-200 -> NaN) 후 시계열 보간\n",
    "df = df.replace(-200, np.nan).sort_values(\"datetime\").reset_index(drop=True)\n",
    "df = df.ffill().bfill()\n",
    "\n",
    "# 인덱스 설정\n",
    "df = df.set_index(\"datetime\")\n",
    "\n",
    "# 사용 컬럼 미리 확인\n",
    "df[feature_cols + [target_col]].head(3)\n"
   ]
  },
  {
   "cell_type": "code",
   "execution_count": 13,
   "metadata": {
    "execution": {
     "iopub.execute_input": "2025-09-06T07:57:44.155827Z",
     "iopub.status.busy": "2025-09-06T07:57:44.155479Z",
     "iopub.status.idle": "2025-09-06T07:57:44.177547Z",
     "shell.execute_reply": "2025-09-06T07:57:44.176803Z",
     "shell.execute_reply.started": "2025-09-06T07:57:44.155800Z"
    }
   },
   "outputs": [
    {
     "data": {
      "text/html": [
       "<div>\n",
       "<style scoped>\n",
       "    .dataframe tbody tr th:only-of-type {\n",
       "        vertical-align: middle;\n",
       "    }\n",
       "\n",
       "    .dataframe tbody tr th {\n",
       "        vertical-align: top;\n",
       "    }\n",
       "\n",
       "    .dataframe thead th {\n",
       "        text-align: right;\n",
       "    }\n",
       "</style>\n",
       "<table border=\"1\" class=\"dataframe\">\n",
       "  <thead>\n",
       "    <tr style=\"text-align: right;\">\n",
       "      <th></th>\n",
       "      <th>CO(GT)</th>\n",
       "      <th>PT08.S1(CO)</th>\n",
       "      <th>NMHC(GT)</th>\n",
       "      <th>C6H6(GT)</th>\n",
       "      <th>PT08.S2(NMHC)</th>\n",
       "      <th>NOx(GT)</th>\n",
       "      <th>PT08.S3(NOx)</th>\n",
       "      <th>NO2(GT)</th>\n",
       "      <th>PT08.S4(NO2)</th>\n",
       "      <th>PT08.S5(O3)</th>\n",
       "      <th>T</th>\n",
       "      <th>RH</th>\n",
       "      <th>AH</th>\n",
       "    </tr>\n",
       "    <tr>\n",
       "      <th>datetime</th>\n",
       "      <th></th>\n",
       "      <th></th>\n",
       "      <th></th>\n",
       "      <th></th>\n",
       "      <th></th>\n",
       "      <th></th>\n",
       "      <th></th>\n",
       "      <th></th>\n",
       "      <th></th>\n",
       "      <th></th>\n",
       "      <th></th>\n",
       "      <th></th>\n",
       "      <th></th>\n",
       "    </tr>\n",
       "  </thead>\n",
       "  <tbody>\n",
       "    <tr>\n",
       "      <th>01/01/2005 00.00.00</th>\n",
       "      <td>1.6</td>\n",
       "      <td>1046.0</td>\n",
       "      <td>106.0</td>\n",
       "      <td>4.2</td>\n",
       "      <td>724.0</td>\n",
       "      <td>215.0</td>\n",
       "      <td>848.0</td>\n",
       "      <td>106.0</td>\n",
       "      <td>898.0</td>\n",
       "      <td>1201.0</td>\n",
       "      <td>8.2</td>\n",
       "      <td>40.1</td>\n",
       "      <td>0.4375</td>\n",
       "    </tr>\n",
       "    <tr>\n",
       "      <th>01/01/2005 01.00.00</th>\n",
       "      <td>1.6</td>\n",
       "      <td>1275.0</td>\n",
       "      <td>106.0</td>\n",
       "      <td>8.8</td>\n",
       "      <td>930.0</td>\n",
       "      <td>215.0</td>\n",
       "      <td>649.0</td>\n",
       "      <td>106.0</td>\n",
       "      <td>1024.0</td>\n",
       "      <td>1617.0</td>\n",
       "      <td>5.3</td>\n",
       "      <td>50.7</td>\n",
       "      <td>0.4564</td>\n",
       "    </tr>\n",
       "    <tr>\n",
       "      <th>01/01/2005 02.00.00</th>\n",
       "      <td>2.5</td>\n",
       "      <td>1173.0</td>\n",
       "      <td>106.0</td>\n",
       "      <td>7.5</td>\n",
       "      <td>878.0</td>\n",
       "      <td>300.0</td>\n",
       "      <td>738.0</td>\n",
       "      <td>129.0</td>\n",
       "      <td>1002.0</td>\n",
       "      <td>1355.0</td>\n",
       "      <td>5.9</td>\n",
       "      <td>50.0</td>\n",
       "      <td>0.4689</td>\n",
       "    </tr>\n",
       "    <tr>\n",
       "      <th>01/01/2005 03.00.00</th>\n",
       "      <td>2.7</td>\n",
       "      <td>1163.0</td>\n",
       "      <td>106.0</td>\n",
       "      <td>7.6</td>\n",
       "      <td>881.0</td>\n",
       "      <td>300.0</td>\n",
       "      <td>748.0</td>\n",
       "      <td>129.0</td>\n",
       "      <td>1001.0</td>\n",
       "      <td>1296.0</td>\n",
       "      <td>4.9</td>\n",
       "      <td>53.9</td>\n",
       "      <td>0.4693</td>\n",
       "    </tr>\n",
       "    <tr>\n",
       "      <th>01/01/2005 04.00.00</th>\n",
       "      <td>1.9</td>\n",
       "      <td>1054.0</td>\n",
       "      <td>106.0</td>\n",
       "      <td>5.6</td>\n",
       "      <td>791.0</td>\n",
       "      <td>253.0</td>\n",
       "      <td>830.0</td>\n",
       "      <td>126.0</td>\n",
       "      <td>967.0</td>\n",
       "      <td>1131.0</td>\n",
       "      <td>4.3</td>\n",
       "      <td>55.3</td>\n",
       "      <td>0.4650</td>\n",
       "    </tr>\n",
       "    <tr>\n",
       "      <th>...</th>\n",
       "      <td>...</td>\n",
       "      <td>...</td>\n",
       "      <td>...</td>\n",
       "      <td>...</td>\n",
       "      <td>...</td>\n",
       "      <td>...</td>\n",
       "      <td>...</td>\n",
       "      <td>...</td>\n",
       "      <td>...</td>\n",
       "      <td>...</td>\n",
       "      <td>...</td>\n",
       "      <td>...</td>\n",
       "      <td>...</td>\n",
       "    </tr>\n",
       "    <tr>\n",
       "      <th>nan nan</th>\n",
       "      <td>2.6</td>\n",
       "      <td>1003.0</td>\n",
       "      <td>84.0</td>\n",
       "      <td>4.6</td>\n",
       "      <td>744.0</td>\n",
       "      <td>321.0</td>\n",
       "      <td>882.0</td>\n",
       "      <td>68.0</td>\n",
       "      <td>899.0</td>\n",
       "      <td>1138.0</td>\n",
       "      <td>7.8</td>\n",
       "      <td>38.4</td>\n",
       "      <td>0.4085</td>\n",
       "    </tr>\n",
       "    <tr>\n",
       "      <th>nan nan</th>\n",
       "      <td>2.6</td>\n",
       "      <td>1003.0</td>\n",
       "      <td>84.0</td>\n",
       "      <td>4.6</td>\n",
       "      <td>744.0</td>\n",
       "      <td>321.0</td>\n",
       "      <td>882.0</td>\n",
       "      <td>68.0</td>\n",
       "      <td>899.0</td>\n",
       "      <td>1138.0</td>\n",
       "      <td>7.8</td>\n",
       "      <td>38.4</td>\n",
       "      <td>0.4085</td>\n",
       "    </tr>\n",
       "    <tr>\n",
       "      <th>nan nan</th>\n",
       "      <td>2.6</td>\n",
       "      <td>1003.0</td>\n",
       "      <td>84.0</td>\n",
       "      <td>4.6</td>\n",
       "      <td>744.0</td>\n",
       "      <td>321.0</td>\n",
       "      <td>882.0</td>\n",
       "      <td>68.0</td>\n",
       "      <td>899.0</td>\n",
       "      <td>1138.0</td>\n",
       "      <td>7.8</td>\n",
       "      <td>38.4</td>\n",
       "      <td>0.4085</td>\n",
       "    </tr>\n",
       "    <tr>\n",
       "      <th>nan nan</th>\n",
       "      <td>2.6</td>\n",
       "      <td>1003.0</td>\n",
       "      <td>84.0</td>\n",
       "      <td>4.6</td>\n",
       "      <td>744.0</td>\n",
       "      <td>321.0</td>\n",
       "      <td>882.0</td>\n",
       "      <td>68.0</td>\n",
       "      <td>899.0</td>\n",
       "      <td>1138.0</td>\n",
       "      <td>7.8</td>\n",
       "      <td>38.4</td>\n",
       "      <td>0.4085</td>\n",
       "    </tr>\n",
       "    <tr>\n",
       "      <th>nan nan</th>\n",
       "      <td>2.6</td>\n",
       "      <td>1003.0</td>\n",
       "      <td>84.0</td>\n",
       "      <td>4.6</td>\n",
       "      <td>744.0</td>\n",
       "      <td>321.0</td>\n",
       "      <td>882.0</td>\n",
       "      <td>68.0</td>\n",
       "      <td>899.0</td>\n",
       "      <td>1138.0</td>\n",
       "      <td>7.8</td>\n",
       "      <td>38.4</td>\n",
       "      <td>0.4085</td>\n",
       "    </tr>\n",
       "  </tbody>\n",
       "</table>\n",
       "<p>9471 rows × 13 columns</p>\n",
       "</div>"
      ],
      "text/plain": [
       "                     CO(GT)  PT08.S1(CO)  NMHC(GT)  C6H6(GT)  PT08.S2(NMHC)  \\\n",
       "datetime                                                                      \n",
       "01/01/2005 00.00.00     1.6       1046.0     106.0       4.2          724.0   \n",
       "01/01/2005 01.00.00     1.6       1275.0     106.0       8.8          930.0   \n",
       "01/01/2005 02.00.00     2.5       1173.0     106.0       7.5          878.0   \n",
       "01/01/2005 03.00.00     2.7       1163.0     106.0       7.6          881.0   \n",
       "01/01/2005 04.00.00     1.9       1054.0     106.0       5.6          791.0   \n",
       "...                     ...          ...       ...       ...            ...   \n",
       "nan nan                 2.6       1003.0      84.0       4.6          744.0   \n",
       "nan nan                 2.6       1003.0      84.0       4.6          744.0   \n",
       "nan nan                 2.6       1003.0      84.0       4.6          744.0   \n",
       "nan nan                 2.6       1003.0      84.0       4.6          744.0   \n",
       "nan nan                 2.6       1003.0      84.0       4.6          744.0   \n",
       "\n",
       "                     NOx(GT)  PT08.S3(NOx)  NO2(GT)  PT08.S4(NO2)  \\\n",
       "datetime                                                            \n",
       "01/01/2005 00.00.00    215.0         848.0    106.0         898.0   \n",
       "01/01/2005 01.00.00    215.0         649.0    106.0        1024.0   \n",
       "01/01/2005 02.00.00    300.0         738.0    129.0        1002.0   \n",
       "01/01/2005 03.00.00    300.0         748.0    129.0        1001.0   \n",
       "01/01/2005 04.00.00    253.0         830.0    126.0         967.0   \n",
       "...                      ...           ...      ...           ...   \n",
       "nan nan                321.0         882.0     68.0         899.0   \n",
       "nan nan                321.0         882.0     68.0         899.0   \n",
       "nan nan                321.0         882.0     68.0         899.0   \n",
       "nan nan                321.0         882.0     68.0         899.0   \n",
       "nan nan                321.0         882.0     68.0         899.0   \n",
       "\n",
       "                     PT08.S5(O3)    T    RH      AH  \n",
       "datetime                                             \n",
       "01/01/2005 00.00.00       1201.0  8.2  40.1  0.4375  \n",
       "01/01/2005 01.00.00       1617.0  5.3  50.7  0.4564  \n",
       "01/01/2005 02.00.00       1355.0  5.9  50.0  0.4689  \n",
       "01/01/2005 03.00.00       1296.0  4.9  53.9  0.4693  \n",
       "01/01/2005 04.00.00       1131.0  4.3  55.3  0.4650  \n",
       "...                          ...  ...   ...     ...  \n",
       "nan nan                   1138.0  7.8  38.4  0.4085  \n",
       "nan nan                   1138.0  7.8  38.4  0.4085  \n",
       "nan nan                   1138.0  7.8  38.4  0.4085  \n",
       "nan nan                   1138.0  7.8  38.4  0.4085  \n",
       "nan nan                   1138.0  7.8  38.4  0.4085  \n",
       "\n",
       "[9471 rows x 13 columns]"
      ]
     },
     "execution_count": 13,
     "metadata": {},
     "output_type": "execute_result"
    }
   ],
   "source": [
    "df"
   ]
  },
  {
   "cell_type": "code",
   "execution_count": null,
   "metadata": {},
   "outputs": [],
   "source": []
  },
  {
   "cell_type": "code",
   "execution_count": 6,
   "metadata": {
    "execution": {
     "iopub.execute_input": "2025-09-06T07:31:14.625505Z",
     "iopub.status.busy": "2025-09-06T07:31:14.625182Z",
     "iopub.status.idle": "2025-09-06T07:31:14.649627Z",
     "shell.execute_reply": "2025-09-06T07:31:14.648851Z",
     "shell.execute_reply.started": "2025-09-06T07:31:14.625478Z"
    }
   },
   "outputs": [
    {
     "data": {
      "text/plain": [
       "((6629, 3), (6629, 1))"
      ]
     },
     "execution_count": 6,
     "metadata": {},
     "output_type": "execute_result"
    }
   ],
   "source": [
    "# 다음 시점 예측(horizon=1)\n",
    "horizon = 1\n",
    "data = df[sorted(set(feature_cols + [target_col]))].copy()\n",
    "data[\"target\"] = data[target_col].shift(-horizon)\n",
    "data = data.dropna().reset_index(drop=False)  # 끝부분 NaN 제거\n",
    "\n",
    "N = len(data)\n",
    "n_train = int(N * 0.7)\n",
    "n_val   = int(N * 0.1)\n",
    "n_test  = N - n_train - n_val\n",
    "\n",
    "train_df = data.iloc[:n_train]\n",
    "val_df   = data.iloc[n_train:n_train+n_val]\n",
    "test_df  = data.iloc[n_train+n_val:]\n",
    "\n",
    "X_train = train_df[feature_cols].values\n",
    "X_val   = val_df[feature_cols].values\n",
    "X_test  = test_df[feature_cols].values\n",
    "\n",
    "y_train = train_df[\"target\"].values.reshape(-1, 1)\n",
    "y_val   = val_df[\"target\"].values.reshape(-1, 1)\n",
    "y_test  = test_df[\"target\"].values.reshape(-1, 1)\n",
    "\n",
    "# 표준화(훈련셋 기준)\n",
    "x_scaler = StandardScaler().fit(X_train)\n",
    "y_scaler = StandardScaler().fit(y_train)\n",
    "\n",
    "X_train_s = x_scaler.transform(X_train)\n",
    "X_val_s   = x_scaler.transform(X_val)\n",
    "X_test_s  = x_scaler.transform(X_test)\n",
    "\n",
    "y_train_s = y_scaler.transform(y_train)\n",
    "y_val_s   = y_scaler.transform(y_val)\n",
    "y_test_s  = y_scaler.transform(y_test)\n",
    "\n",
    "X_train_s.shape, y_train_s.shape\n"
   ]
  },
  {
   "cell_type": "code",
   "execution_count": 7,
   "metadata": {
    "execution": {
     "iopub.execute_input": "2025-09-06T07:31:28.097839Z",
     "iopub.status.busy": "2025-09-06T07:31:28.097482Z",
     "iopub.status.idle": "2025-09-06T07:31:28.109966Z",
     "shell.execute_reply": "2025-09-06T07:31:28.109249Z",
     "shell.execute_reply.started": "2025-09-06T07:31:28.097812Z"
    }
   },
   "outputs": [
    {
     "data": {
      "text/plain": [
       "(6605, 923, 1870)"
      ]
     },
     "execution_count": 7,
     "metadata": {},
     "output_type": "execute_result"
    }
   ],
   "source": [
    "class SeqDataset(Dataset):\n",
    "    \"\"\" (seq_len, features) 윈도우 -> 다음 시점 타깃 \"\"\"\n",
    "    def __init__(self, X, y, seq_len=24):\n",
    "        self.X = X\n",
    "        self.y = y.reshape(-1, 1) if y.ndim == 1 else y\n",
    "        self.seq_len = seq_len\n",
    "        self.idxs = [(i-seq_len, i) for i in range(seq_len, len(X))]\n",
    "\n",
    "    def __len__(self):\n",
    "        return len(self.idxs)\n",
    "\n",
    "    def __getitem__(self, i):\n",
    "        s, e = self.idxs[i]\n",
    "        x = self.X[s:e]         # (L, F)\n",
    "        y = self.y[e]           # (1,)\n",
    "        return torch.from_numpy(x).float(), torch.from_numpy(y).float()\n",
    "\n",
    "train_ds = SeqDataset(X_train_s, y_train_s, seq_len=seq_len)\n",
    "val_ds   = SeqDataset(X_val_s,   y_val_s,   seq_len=seq_len)\n",
    "test_ds  = SeqDataset(X_test_s,  y_test_s,  seq_len=seq_len)\n",
    "\n",
    "len(train_ds), len(val_ds), len(test_ds)\n"
   ]
  },
  {
   "cell_type": "code",
   "execution_count": 8,
   "metadata": {
    "execution": {
     "iopub.execute_input": "2025-09-06T07:31:38.906742Z",
     "iopub.status.busy": "2025-09-06T07:31:38.906392Z",
     "iopub.status.idle": "2025-09-06T07:31:38.916058Z",
     "shell.execute_reply": "2025-09-06T07:31:38.915382Z",
     "shell.execute_reply.started": "2025-09-06T07:31:38.906716Z"
    }
   },
   "outputs": [
    {
     "data": {
      "text/plain": [
       "torch.Size([64, 24, 3])"
      ]
     },
     "execution_count": 8,
     "metadata": {},
     "output_type": "execute_result"
    }
   ],
   "source": [
    "train_loader = DataLoader(train_ds, batch_size=batch_size, shuffle=True, drop_last=True)\n",
    "val_loader   = DataLoader(val_ds,   batch_size=batch_size, shuffle=False)\n",
    "test_loader  = DataLoader(test_ds,  batch_size=batch_size, shuffle=False)\n",
    "\n",
    "next(iter(train_loader))[0].shape  # (batch, seq_len, features)\n"
   ]
  },
  {
   "cell_type": "code",
   "execution_count": 9,
   "metadata": {
    "execution": {
     "iopub.execute_input": "2025-09-06T07:31:47.625823Z",
     "iopub.status.busy": "2025-09-06T07:31:47.625466Z",
     "iopub.status.idle": "2025-09-06T07:31:47.853989Z",
     "shell.execute_reply": "2025-09-06T07:31:47.853556Z",
     "shell.execute_reply.started": "2025-09-06T07:31:47.625796Z"
    }
   },
   "outputs": [
    {
     "data": {
      "text/plain": [
       "LSTMRegressor(\n",
       "  (lstm): LSTM(3, 64, num_layers=2, batch_first=True, dropout=0.2)\n",
       "  (fc): Linear(in_features=64, out_features=1, bias=True)\n",
       ")"
      ]
     },
     "execution_count": 9,
     "metadata": {},
     "output_type": "execute_result"
    }
   ],
   "source": [
    "class LSTMRegressor(nn.Module):\n",
    "    def __init__(self, input_dim, hidden_dim=64, num_layers=2, dropout=0.2):\n",
    "        super().__init__()\n",
    "        self.lstm = nn.LSTM(\n",
    "            input_size=input_dim,\n",
    "            hidden_size=hidden_dim,\n",
    "            num_layers=num_layers,\n",
    "            dropout=dropout,\n",
    "            batch_first=True\n",
    "        )\n",
    "        self.fc = nn.Linear(hidden_dim, 1)\n",
    "\n",
    "    def forward(self, x):\n",
    "        # x: (B, L, F)\n",
    "        out, _ = self.lstm(x)\n",
    "        last = out[:, -1, :]          # 마지막 타임스텝\n",
    "        yhat = self.fc(last)          # (B, 1)\n",
    "        return yhat\n",
    "\n",
    "model = LSTMRegressor(input_dim=len(feature_cols), hidden_dim=hidden_dim,\n",
    "                      num_layers=num_layers, dropout=dropout).to(device)\n",
    "model\n"
   ]
  },
  {
   "cell_type": "code",
   "execution_count": 10,
   "metadata": {
    "execution": {
     "iopub.execute_input": "2025-09-06T07:31:58.454309Z",
     "iopub.status.busy": "2025-09-06T07:31:58.454067Z",
     "iopub.status.idle": "2025-09-06T07:32:06.906858Z",
     "shell.execute_reply": "2025-09-06T07:32:06.906161Z",
     "shell.execute_reply.started": "2025-09-06T07:31:58.454292Z"
    }
   },
   "outputs": [
    {
     "name": "stdout",
     "output_type": "stream",
     "text": [
      "[001] train_mse=0.36964  val_mse=0.15427\n",
      "[002] train_mse=0.11644  val_mse=0.09979\n",
      "[003] train_mse=0.09438  val_mse=0.08116\n",
      "[004] train_mse=0.08399  val_mse=0.07518\n",
      "[005] train_mse=0.08134  val_mse=0.07314\n",
      "[006] train_mse=0.07589  val_mse=0.06698\n",
      "[007] train_mse=0.07250  val_mse=0.06503\n",
      "[008] train_mse=0.07095  val_mse=0.06470\n",
      "[009] train_mse=0.06934  val_mse=0.06660\n",
      "[010] train_mse=0.06807  val_mse=0.06436\n",
      "[011] train_mse=0.06554  val_mse=0.06260\n",
      "[012] train_mse=0.06432  val_mse=0.06718\n",
      "[013] train_mse=0.06436  val_mse=0.06141\n",
      "[014] train_mse=0.06310  val_mse=0.06030\n",
      "[015] train_mse=0.06285  val_mse=0.06943\n",
      "[016] train_mse=0.06360  val_mse=0.06519\n",
      "[017] train_mse=0.06126  val_mse=0.06330\n",
      "[018] train_mse=0.06189  val_mse=0.06007\n",
      "[019] train_mse=0.05989  val_mse=0.06130\n",
      "[020] train_mse=0.05871  val_mse=0.05813\n"
     ]
    }
   ],
   "source": [
    "optimizer = torch.optim.Adam(model.parameters(), lr=lr)\n",
    "loss_fn = nn.MSELoss()\n",
    "\n",
    "best_val = float(\"inf\")\n",
    "best_state = None\n",
    "\n",
    "for epoch in range(1, epochs + 1):\n",
    "    # train\n",
    "    model.train()\n",
    "    train_loss_sum, n_train_samples = 0.0, 0\n",
    "    for xb, yb in train_loader:\n",
    "        xb, yb = xb.to(device), yb.to(device)\n",
    "        optimizer.zero_grad()\n",
    "        pred = model(xb)\n",
    "        loss = loss_fn(pred, yb)\n",
    "        loss.backward()\n",
    "        optimizer.step()\n",
    "        train_loss_sum += loss.item() * xb.size(0)\n",
    "        n_train_samples += xb.size(0)\n",
    "    train_mse = train_loss_sum / n_train_samples\n",
    "\n",
    "    # val\n",
    "    model.eval()\n",
    "    with torch.no_grad():\n",
    "        val_loss_sum, n_val_samples = 0.0, 0\n",
    "        for xb, yb in val_loader:\n",
    "            xb, yb = xb.to(device), yb.to(device)\n",
    "            pred = model(xb)\n",
    "            loss = loss_fn(pred, yb)\n",
    "            val_loss_sum += loss.item() * xb.size(0)\n",
    "            n_val_samples += xb.size(0)\n",
    "        val_mse = val_loss_sum / n_val_samples\n",
    "\n",
    "    if val_mse < best_val:\n",
    "        best_val = val_mse\n",
    "        best_state = {k: v.detach().cpu().clone() for k, v in model.state_dict().items()}\n",
    "\n",
    "    print(f\"[{epoch:03d}] train_mse={train_mse:.5f}  val_mse={val_mse:.5f}\")\n",
    "\n",
    "# 베스트 가중치 복원\n",
    "if best_state is not None:\n",
    "    model.load_state_dict(best_state)\n"
   ]
  },
  {
   "cell_type": "code",
   "execution_count": 11,
   "metadata": {
    "execution": {
     "iopub.execute_input": "2025-09-06T07:32:22.610830Z",
     "iopub.status.busy": "2025-09-06T07:32:22.610382Z",
     "iopub.status.idle": "2025-09-06T07:32:22.768086Z",
     "shell.execute_reply": "2025-09-06T07:32:22.767651Z",
     "shell.execute_reply.started": "2025-09-06T07:32:22.610803Z"
    }
   },
   "outputs": [
    {
     "name": "stdout",
     "output_type": "stream",
     "text": [
      "[TEST] MAE=1.4342  RMSE=2.1364  (target: next T)\n"
     ]
    },
    {
     "data": {
      "image/png": "[encoded data removed]",
      "text/plain": [
       "<Figure size 1000x400 with 1 Axes>"
      ]
     },
     "metadata": {},
     "output_type": "display_data"
    }
   ],
   "source": [
    "def rmse(a, b):\n",
    "    return math.sqrt(np.mean((a - b) ** 2))\n",
    "\n",
    "model.eval()\n",
    "preds_s, trues_s = [], []\n",
    "with torch.no_grad():\n",
    "    for xb, yb in test_loader:\n",
    "        xb = xb.to(device)\n",
    "        pred = model(xb).cpu().numpy()\n",
    "        preds_s.append(pred)\n",
    "        trues_s.append(yb.numpy())\n",
    "\n",
    "preds_s = np.vstack(preds_s)\n",
    "trues_s = np.vstack(trues_s)\n",
    "\n",
    "# 역변환(표준화 복원)\n",
    "preds = y_scaler.inverse_transform(preds_s)\n",
    "trues = y_scaler.inverse_transform(trues_s)\n",
    "\n",
    "mae = np.mean(np.abs(preds - trues))\n",
    "rmse_val = rmse(preds, trues)\n",
    "\n",
    "print(f\"[TEST] MAE={mae:.4f}  RMSE={rmse_val:.4f}  (target: next {target_col})\")\n",
    "\n",
    "# 앞부분 200개만 그려보기\n",
    "n_show = min(200, len(preds))\n",
    "plt.figure()\n",
    "plt.plot(trues[:n_show], label=\"True\")\n",
    "plt.plot(preds[:n_show], label=\"Pred\")\n",
    "plt.title(f\"Next-step forecasting of {target_col}\")\n",
    "plt.legend()\n",
    "plt.tight_layout()\n",
    "plt.show()\n"
   ]
  },
  {
   "cell_type": "code",
   "execution_count": 12,
   "metadata": {
    "execution": {
     "iopub.execute_input": "2025-09-06T07:32:35.662947Z",
     "iopub.status.busy": "2025-09-06T07:32:35.662746Z",
     "iopub.status.idle": "2025-09-06T07:32:35.671414Z",
     "shell.execute_reply": "2025-09-06T07:32:35.670672Z",
     "shell.execute_reply.started": "2025-09-06T07:32:35.662933Z"
    }
   },
   "outputs": [
    {
     "name": "stdout",
     "output_type": "stream",
     "text": [
      "예상 다음 T: 8.016\n"
     ]
    }
   ],
   "source": [
    "# 테스트 구간의 마지막 seq_len 구간으로 다음 시점 1-step 예측\n",
    "# (주의: 여기선 학습/검증/테스트 분리 때 생성된 시퀀스 인덱스를 그대로 쓰진 않습니다.)\n",
    "last_window = X_test_s[-seq_len:]               # (L, F)\n",
    "last_window_t = torch.from_numpy(last_window).float().unsqueeze(0).to(device)  # (1, L, F)\n",
    "with torch.no_grad():\n",
    "    pred_next_s = model(last_window_t).cpu().numpy()\n",
    "pred_next = y_scaler.inverse_transform(pred_next_s.reshape(-1, 1))[0, 0]\n",
    "print(f\"예상 다음 {target_col}: {pred_next:.3f}\")\n"
   ]
  },
  {
   "cell_type": "code",
   "execution_count": null,
   "metadata": {},
   "outputs": [],
   "source": []
  },
  {
   "cell_type": "code",
   "execution_count": null,
   "metadata": {},
   "outputs": [],
   "source": []
  },
  {
   "cell_type": "code",
   "execution_count": null,
   "metadata": {},
   "outputs": [],
   "source": []
  }
 ],
 "metadata": {
  "accelerator": "GPU",
  "colab": {
   "gpuType": "T4",
   "provenance": []
  },
  "kernelspec": {
   "display_name": "Python 3 (ipykernel)",
   "language": "python",
   "name": "python3"
  },
  "language_info": {
   "codemirror_mode": {
    "name": "ipython",
    "version": 3
   },
   "file_extension": ".py",
   "mimetype": "text/x-python",
   "name": "python",
   "nbconvert_exporter": "python",
   "pygments_lexer": "ipython3",
   "version": "3.10.0"
  }
 },
 "nbformat": 4,
 "nbformat_minor": 4
}
