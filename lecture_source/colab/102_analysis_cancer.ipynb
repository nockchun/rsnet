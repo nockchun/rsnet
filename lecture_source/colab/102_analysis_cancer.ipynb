{
 "cells": [
  {
   "cell_type": "code",
   "execution_count": null,
   "id": "95d709e5-f79f-4f2c-848e-b5a5d654f563",
   "metadata": {},
   "outputs": [],
   "source": [
    "from sklearn.datasets import load_breast_cancer\n",
    "# from sklearn.model_selection import train_test_split\n",
    "# from sklearn.ensemble import RandomForestClassifier\n",
    "# from sklearn.pipeline import make_pipeline\n",
    "# from sklearn.preprocessing import StandardScaler\n",
    "# from sklearn.metrics import accuracy_score"
   ]
  },
  {
   "cell_type": "code",
   "execution_count": null,
   "id": "4c4bd0cc-fb09-4fd5-96e9-eb0f5f0dc08b",
   "metadata": {},
   "outputs": [],
   "source": [
    "import seaborn as sns\n",
    "import pandas as pd\n",
    "import numpy as np\n",
    "import matplotlib.pyplot as plt"
   ]
  },
  {
   "cell_type": "code",
   "execution_count": null,
   "id": "8df1fa17-571e-4918-b181-d88423541a11",
   "metadata": {},
   "outputs": [],
   "source": [
    "sns.set_theme(style=\"whitegrid\", context=\"notebook\")\n",
    "pd.set_option(\"display.max_columns\", 100)"
   ]
  },
  {
   "cell_type": "markdown",
   "id": "af86e2bc-224d-4e57-b10b-ec2248b2dd1f",
   "metadata": {},
   "source": [
    "# 데이터 이해 및 탐색"
   ]
  },
  {
   "cell_type": "code",
   "execution_count": null,
   "id": "30486ec6-0aae-477f-9d44-50420cb616b7",
   "metadata": {},
   "outputs": [],
   "source": [
    "# 데이터\n",
    "data = load_breast_cancer(as_frame=True)\n",
    "X, y = data.data, data.target\n",
    "feature_names = data.feature_names\n",
    "class_names = data.target_names  # malignant: 악성의, 해로운, benign: 양성의, 해가 거의 없는"
   ]
  },
  {
   "cell_type": "code",
   "execution_count": null,
   "id": "6b15fb5d-c5c5-4b33-9872-9119c64b53cd",
   "metadata": {},
   "outputs": [],
   "source": [
    "feature_names"
   ]
  },
  {
   "cell_type": "code",
   "execution_count": null,
   "id": "a3d92117-d281-4905-9ffd-a0bd0a017995",
   "metadata": {},
   "outputs": [],
   "source": [
    "class_names"
   ]
  },
  {
   "cell_type": "code",
   "execution_count": null,
   "id": "5308c3e4-fa19-4b9f-86df-ce3bb5e64709",
   "metadata": {},
   "outputs": [],
   "source": [
    "df = pd.concat([X, y], axis=1)\n",
    "df.head()"
   ]
  },
  {
   "cell_type": "code",
   "execution_count": null,
   "id": "473f37d0-31b5-49b2-9d6e-6857eba584c7",
   "metadata": {},
   "outputs": [],
   "source": [
    "# 크기/결측치/타입\n",
    "print(\"[+] Shape:\", df.shape)\n",
    "print(\"\\n[+] Dtypes:\\n\", df.dtypes.value_counts())\n",
    "print(\"\\n[+] Missing values (sum):\\n\", df.isna().sum())"
   ]
  },
  {
   "cell_type": "markdown",
   "id": "0f1ccf49-4f71-4184-960d-293ca6d6dfe3",
   "metadata": {},
   "source": [
    "# 타깃 분포(클래스 불균형 확인)"
   ]
  },
  {
   "cell_type": "code",
   "execution_count": null,
   "id": "d1f7abea-68ec-47e7-9561-5444ffccf05b",
   "metadata": {},
   "outputs": [],
   "source": [
    "counts = y.value_counts().sort_index()\n",
    "ratios = y.value_counts(normalize=True).sort_index()\n",
    "print(\"Counts:\\n\", counts.map(int))\n",
    "print(\"\\nRatios:\\n\", (ratios*100).round(2).astype(str) + \"%\")"
   ]
  },
  {
   "cell_type": "code",
   "execution_count": null,
   "id": "dde52bc1-544f-43fb-8b8c-d133902054f0",
   "metadata": {},
   "outputs": [],
   "source": [
    "plt.figure(figsize=(4,3))\n",
    "sns.barplot(x=[class_names[i] for i in counts.index], y=counts.values)\n",
    "plt.title(\"Target distribution\")\n",
    "plt.ylabel(\"count\"); plt.xlabel(\"\")\n",
    "plt.tight_layout(); plt.show()"
   ]
  },
  {
   "cell_type": "markdown",
   "id": "02d2d53e-8829-46d9-8063-453d2e83bc56",
   "metadata": {},
   "source": [
    "# 기술통계(전체/그룹별)"
   ]
  },
  {
   "cell_type": "code",
   "execution_count": null,
   "id": "5d8bda90-e635-4746-b18a-4756e4572216",
   "metadata": {},
   "outputs": [],
   "source": [
    "X.describe().T.round(2)"
   ]
  },
  {
   "cell_type": "code",
   "execution_count": null,
   "id": "4c13cbd9-ef93-4a2e-86fd-b4c31d7ba287",
   "metadata": {},
   "outputs": [],
   "source": [
    "group_desc = df.groupby(\"target\").agg(['mean', 'min', 'max']).T\n",
    "group_desc.columns = [class_names[i] for i in group_desc.columns]\n",
    "with pd.option_context('display.max_rows', None):\n",
    "    display(group_desc)"
   ]
  },
  {
   "cell_type": "markdown",
   "id": "83014e14-3b7d-4295-9c94-8f6e70375a9a",
   "metadata": {},
   "source": [
    "# 학습용 데이터 생성"
   ]
  },
  {
   "cell_type": "code",
   "execution_count": null,
   "id": "f2d88291-d892-4cfb-90be-29839e7ba80e",
   "metadata": {},
   "outputs": [],
   "source": [
    "from sklearn.model_selection import train_test_split\n",
    "from sklearn.ensemble import RandomForestClassifier\n",
    "from sklearn.metrics import accuracy_score\n",
    "from sklearn.metrics import classification_report, confusion_matrix"
   ]
  },
  {
   "cell_type": "code",
   "execution_count": null,
   "id": "ea2d3274-8755-4bab-a06c-4f08f5db7d37",
   "metadata": {},
   "outputs": [],
   "source": [
    "X.shape, y.shape"
   ]
  },
  {
   "cell_type": "code",
   "execution_count": null,
   "id": "bbf75db6-e731-413e-9d7a-71196571291b",
   "metadata": {},
   "outputs": [],
   "source": [
    "X_tr, X_te, y_tr, y_te = train_test_split(\n",
    "    X, y, test_size=0.25, random_state=42, stratify=y\n",
    ")"
   ]
  },
  {
   "cell_type": "code",
   "execution_count": null,
   "id": "06ca87ef-12b6-4fc3-b443-43617acfb2d1",
   "metadata": {},
   "outputs": [],
   "source": [
    "X_tr.shape, y_tr.shape"
   ]
  },
  {
   "cell_type": "code",
   "execution_count": null,
   "id": "6a356ef3-1b6c-472d-bd63-035040541a25",
   "metadata": {},
   "outputs": [],
   "source": [
    "X_te.shape, y_te.shape"
   ]
  },
  {
   "cell_type": "markdown",
   "id": "b372559d-1b0e-4916-aad8-8ad313241a57",
   "metadata": {},
   "source": [
    "# 모델 생성"
   ]
  },
  {
   "cell_type": "code",
   "execution_count": null,
   "id": "edfb256f-3321-45c9-abe8-3feb99549c6d",
   "metadata": {},
   "outputs": [],
   "source": [
    "rf = RandomForestClassifier(\n",
    "    n_estimators=300, max_depth=None, random_state=42, n_jobs=-1, oob_score=True\n",
    ")"
   ]
  },
  {
   "cell_type": "markdown",
   "id": "96da4b87-accb-426c-91d5-a5985e3ee407",
   "metadata": {},
   "source": [
    "# 학습"
   ]
  },
  {
   "cell_type": "code",
   "execution_count": null,
   "id": "0a162d79-29ec-4bfa-bc8d-d50c99c9d7ce",
   "metadata": {},
   "outputs": [],
   "source": [
    "rf.fit(X_tr, y_tr)"
   ]
  },
  {
   "cell_type": "markdown",
   "id": "2dbd7dfc-9726-4ce6-9761-1233a11a811d",
   "metadata": {},
   "source": [
    "# 검증"
   ]
  },
  {
   "cell_type": "code",
   "execution_count": null,
   "id": "cd1cc48d-a577-486f-ad44-c8dc559c90ad",
   "metadata": {},
   "outputs": [],
   "source": [
    "y_pr = rf.predict(X_te)\n",
    "print(\"Acc:\", accuracy_score(y_te, y_pr))\n",
    "print(\"OOB score:\", rf.oob_score_)"
   ]
  },
  {
   "cell_type": "markdown",
   "id": "e7a415e6-d34e-4468-981c-f2b2ee78a2a8",
   "metadata": {},
   "source": [
    "## 성능평가"
   ]
  },
  {
   "cell_type": "code",
   "execution_count": null,
   "id": "ea3dc7c3-bac4-4064-9aeb-757108b4b4bc",
   "metadata": {},
   "outputs": [],
   "source": [
    "print(classification_report(y_te, y_pr))"
   ]
  },
  {
   "cell_type": "markdown",
   "id": "84ccb46f-5bbb-4bc6-8061-f5fe6e07e136",
   "metadata": {},
   "source": [
    "## 혼동 행렬"
   ]
  },
  {
   "cell_type": "code",
   "execution_count": null,
   "id": "23bbfdee-4ed3-4155-8f82-13c0ad36076c",
   "metadata": {},
   "outputs": [],
   "source": [
    "conf_mat = confusion_matrix(y_te, y_pr, normalize='true')\n",
    "sns.heatmap(conf_mat, annot=True, fmt='.2f', cmap='Blues', xticklabels=class_names, yticklabels=class_names)\n",
    "plt.xlabel(\"Predicted\")\n",
    "plt.ylabel(\"Actual\")\n",
    "plt.title(\"Confusion Matrix\")\n",
    "plt.show()"
   ]
  },
  {
   "cell_type": "markdown",
   "id": "b908b706-8122-4b5f-b5c9-b7d498b67478",
   "metadata": {},
   "source": [
    "## Gini(불순도) 기반 중요도\n",
    "- 학습중 각 특징을 써서 불순도를 얼마나 줄였는가를 누적해 측정"
   ]
  },
  {
   "cell_type": "code",
   "execution_count": null,
   "id": "64cc9032-883c-414b-a715-c94da5e0b127",
   "metadata": {},
   "outputs": [],
   "source": [
    "imp = pd.Series(rf.feature_importances_, index=feature_names).sort_values(ascending=True)\n",
    "plt.figure(figsize=(6, 8))\n",
    "imp.tail(20).plot(kind=\"barh\")\n",
    "plt.title(\"Feature importance (impurity-based)\")\n",
    "plt.tight_layout()\n",
    "plt.show()"
   ]
  },
  {
   "cell_type": "markdown",
   "id": "aff709d6-70ba-4a08-8cbd-968c4932252c",
   "metadata": {},
   "source": [
    "## Permutation Importance (권장)\n",
    "- 학습된 모델을 고정하고, 특정 특징 값을 셔플해 성능이 얼마나 떨어지는지로 측정\n",
    "- 성능이 많이 떨어지는 Feature는 중요도가 높다는 의미로 해석"
   ]
  },
  {
   "cell_type": "code",
   "execution_count": null,
   "id": "80adc3a3-1c65-451b-87f8-4c8049a25d86",
   "metadata": {},
   "outputs": [],
   "source": [
    "from sklearn.inspection import permutation_importance"
   ]
  },
  {
   "cell_type": "code",
   "execution_count": null,
   "id": "0740fa0f-3e16-4bf0-a3a3-a4739fea8df0",
   "metadata": {},
   "outputs": [],
   "source": [
    "perm = permutation_importance(\n",
    "    rf, X_te, y_te, n_repeats=10, random_state=42, n_jobs=-1\n",
    ")\n",
    "pi = pd.Series(perm.importances_mean, index=feature_names).sort_values(ascending=True)\n",
    "\n",
    "plt.figure(figsize=(6, 8))\n",
    "pi.tail(20).plot(kind=\"barh\")\n",
    "plt.title(\"Permutation importance (test)\")\n",
    "plt.tight_layout()\n",
    "plt.show()\n"
   ]
  },
  {
   "cell_type": "markdown",
   "id": "9ec89494-7ab9-4122-9b52-8b3f250067d4",
   "metadata": {},
   "source": [
    "## 개별 트리 시각화"
   ]
  },
  {
   "cell_type": "code",
   "execution_count": null,
   "id": "2fbd422f-420c-484b-a5a3-61fcb5abe586",
   "metadata": {},
   "outputs": [],
   "source": [
    "from sklearn import tree\n",
    "import graphviz"
   ]
  },
  {
   "cell_type": "code",
   "execution_count": null,
   "id": "858d9d11-5d3a-477a-9e2e-6a73c5dd4357",
   "metadata": {},
   "outputs": [],
   "source": [
    "est = rf.estimators_[0]  # 첫 번째 나무"
   ]
  },
  {
   "cell_type": "code",
   "execution_count": null,
   "id": "82199e2e-9e99-4fae-92bb-c9f160f40bc9",
   "metadata": {},
   "outputs": [],
   "source": [
    "dot = tree.export_graphviz(\n",
    "    est,\n",
    "    out_file=None,\n",
    "    feature_names=feature_names,\n",
    "    class_names=class_names,\n",
    "    filled=True, rounded=True, max_depth=3\n",
    ")\n",
    "graphviz.Source(dot)  # 노트북에 바로 표시"
   ]
  },
  {
   "cell_type": "code",
   "execution_count": null,
   "id": "ee4f4821-fe77-4fc3-ace0-f41f6170f006",
   "metadata": {},
   "outputs": [],
   "source": []
  },
  {
   "cell_type": "code",
   "execution_count": null,
   "id": "3913b5a2-8153-49b7-bf36-01082e15300f",
   "metadata": {},
   "outputs": [],
   "source": []
  },
  {
   "cell_type": "code",
   "execution_count": null,
   "id": "0daebb19-2cbe-48cc-92c2-dd00daa017e1",
   "metadata": {},
   "outputs": [],
   "source": []
  },
  {
   "cell_type": "code",
   "execution_count": null,
   "id": "3cd7f102-d665-45d0-99ae-13f25585eaf5",
   "metadata": {},
   "outputs": [],
   "source": []
  },
  {
   "cell_type": "code",
   "execution_count": null,
   "id": "3d6557db-bc59-49b3-b0b7-c51fbd2c0d14",
   "metadata": {},
   "outputs": [],
   "source": []
  }
 ],
 "metadata": {
  "kernelspec": {
   "display_name": "Python 3 (ipykernel)",
   "language": "python",
   "name": "python3"
  },
  "language_info": {
   "codemirror_mode": {
    "name": "ipython",
    "version": 3
   },
   "file_extension": ".py",
   "mimetype": "text/x-python",
   "name": "python",
   "nbconvert_exporter": "python",
   "pygments_lexer": "ipython3",
   "version": "3.10.0"
  }
 },
 "nbformat": 4,
 "nbformat_minor": 5
}
