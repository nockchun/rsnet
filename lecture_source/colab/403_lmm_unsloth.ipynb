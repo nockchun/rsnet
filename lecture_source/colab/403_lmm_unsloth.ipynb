{
  "cells": [
    {
      "cell_type": "markdown",
      "metadata": {
        "id": "NR8E6URZK1X3"
      },
      "source": [
        "# 기본환경 설정"
      ]
    },
    {
      "cell_type": "code",
      "execution_count": null,
      "metadata": {
        "id": "mFBVmGxo1XOB"
      },
      "outputs": [],
      "source": [
        "from google.colab import userdata\n",
        "HF_KEY = userdata.get(\"HF_KEY\")"
      ]
    },
    {
      "cell_type": "code",
      "execution_count": null,
      "metadata": {
        "id": "yPGOz6I1JkBj"
      },
      "outputs": [],
      "source": [
        "import huggingface_hub\n",
        "huggingface_hub.login(HF_KEY)"
      ]
    },
    {
      "cell_type": "markdown",
      "metadata": {
        "id": "5_XVtfyiLiAi"
      },
      "source": [
        "# 모델 로딩"
      ]
    },
    {
      "cell_type": "code",
      "source": [
        "!pip install unsloth"
      ],
      "metadata": {
        "id": "YaQvEBu21y4i"
      },
      "execution_count": null,
      "outputs": []
    },
    {
      "cell_type": "code",
      "execution_count": null,
      "metadata": {
        "id": "1oQenpTCPMyh"
      },
      "outputs": [],
      "source": [
        "from unsloth import FastLanguageModel\n",
        "import torch"
      ]
    },
    {
      "cell_type": "code",
      "execution_count": null,
      "metadata": {
        "id": "1OcIKzUP1XOC"
      },
      "outputs": [],
      "source": [
        "model, tokenizer = FastLanguageModel.from_pretrained(\n",
        "    model_name=\"unsloth/gemma-3-4b-it\",\n",
        "    load_in_4bit=True\n",
        ")"
      ]
    },
    {
      "cell_type": "code",
      "execution_count": null,
      "metadata": {
        "id": "rpKF5tbm1XOC"
      },
      "outputs": [],
      "source": [
        "model = FastLanguageModel.for_inference(model)"
      ]
    },
    {
      "cell_type": "markdown",
      "metadata": {
        "id": "AEImgzdK1XOC"
      },
      "source": [
        "# Prompt 함수"
      ]
    },
    {
      "cell_type": "code",
      "execution_count": null,
      "metadata": {
        "id": "-krftQq41XOD"
      },
      "outputs": [],
      "source": [
        "def getPrompt(messages_json):\n",
        "    \"\"\"\n",
        "    Chat messages를 Gemma 스타일 프롬프트로 변환\n",
        "    \"\"\"\n",
        "    prompt = \"\"\n",
        "    for message in messages_json:\n",
        "        role = message[\"role\"]\n",
        "        content = message[\"content\"]\n",
        "        if role == \"system\":\n",
        "            prompt += f\"<|system|>\\n{content}</s>\\n\"\n",
        "        elif role == \"user\":\n",
        "            prompt += f\"<|user|>\\n{content}</s>\\n\"\n",
        "        elif role == \"assistant\":\n",
        "            prompt += f\"<|assistant|>\\n{content}</s>\\n\"\n",
        "    prompt += \"<|assistant|>\\n\"\n",
        "\n",
        "    return prompt"
      ]
    },
    {
      "cell_type": "markdown",
      "metadata": {
        "id": "GFVIHWvE1XOD"
      },
      "source": [
        "# 질문 응답 수행"
      ]
    },
    {
      "cell_type": "code",
      "execution_count": null,
      "metadata": {
        "id": "8CocyJLL1XOD"
      },
      "outputs": [],
      "source": [
        "messages = [\n",
        "    {\"role\": \"system\", \"content\": \"너는 친절한 AI야.\"},\n",
        "    {\"role\": \"user\", \"content\": \"지구는 왜 둥글까?\"},\n",
        "]"
      ]
    },
    {
      "cell_type": "code",
      "execution_count": null,
      "metadata": {
        "id": "DOhzAXtW1XOD"
      },
      "outputs": [],
      "source": [
        "prompt = getPrompt(messages)"
      ]
    },
    {
      "cell_type": "code",
      "execution_count": null,
      "metadata": {
        "id": "yTx0FhKt1XOD"
      },
      "outputs": [],
      "source": [
        "inputs = tokenizer(prompt, return_tensors=\"pt\").to(model.device)"
      ]
    },
    {
      "cell_type": "code",
      "execution_count": null,
      "metadata": {
        "id": "oTXe0ATm1XOD"
      },
      "outputs": [],
      "source": [
        "with torch.no_grad():\n",
        "    outputs = model.generate(\n",
        "        **inputs,\n",
        "        max_new_tokens=512,\n",
        "        do_sample=True,\n",
        "        temperature=0.7,\n",
        "        top_p=0.9,\n",
        "        eos_token_id=tokenizer.eos_token_id,\n",
        "    )"
      ]
    },
    {
      "cell_type": "code",
      "execution_count": null,
      "metadata": {
        "id": "GPMgmXJw1XOD"
      },
      "outputs": [],
      "source": [
        "generated = tokenizer.decode(outputs[0], skip_special_tokens=True)"
      ]
    },
    {
      "cell_type": "code",
      "execution_count": null,
      "metadata": {
        "id": "yfsF50_I1XOD"
      },
      "outputs": [],
      "source": [
        "generated"
      ]
    },
    {
      "cell_type": "code",
      "execution_count": null,
      "metadata": {
        "id": "I7ivbfAc1XOD"
      },
      "outputs": [],
      "source": [
        "response = generated.split(\"<|assistant|>\\n\")[-1].strip()"
      ]
    },
    {
      "cell_type": "code",
      "execution_count": null,
      "metadata": {
        "id": "POuJB1bS1XOD"
      },
      "outputs": [],
      "source": [
        "print(response)"
      ]
    },
    {
      "cell_type": "markdown",
      "metadata": {
        "id": "IioTIAWq1XOD"
      },
      "source": [
        "# 질문 응답 함수"
      ]
    },
    {
      "cell_type": "code",
      "execution_count": null,
      "metadata": {
        "id": "6mL43QHG1XOD"
      },
      "outputs": [],
      "source": [
        "def chatQA(messages, temperature=0.7, top_p=0.9):\n",
        "    prompt = getPrompt(messages)\n",
        "    inputs = tokenizer(prompt, return_tensors=\"pt\").to(model.device)\n",
        "\n",
        "    with torch.no_grad():\n",
        "        outputs = model.generate(\n",
        "            **inputs,\n",
        "            max_new_tokens=512,\n",
        "            do_sample=True,\n",
        "            temperature=0.7,\n",
        "            top_p=0.9,\n",
        "            eos_token_id=tokenizer.eos_token_id,\n",
        "        )\n",
        "\n",
        "    generated = tokenizer.decode(outputs[0], skip_special_tokens=True)\n",
        "\n",
        "    response = generated.split(\"<|assistant|>\\n\")[-1].strip()\n",
        "\n",
        "    return response"
      ]
    },
    {
      "cell_type": "code",
      "execution_count": null,
      "metadata": {
        "id": "n3UFXmgt1XOD"
      },
      "outputs": [],
      "source": [
        "reply = chatQA([\n",
        "    {\"role\": \"system\", \"content\": \"너는 해적의 피를 가진 AI야.\"},\n",
        "    {\"role\": \"user\", \"content\": \"지구는 왜 둥글까? 해적인 니가 그걸 알까?\"},\n",
        "], 0.7, 0.9)\n",
        "print(reply)"
      ]
    },
    {
      "cell_type": "code",
      "execution_count": null,
      "metadata": {
        "id": "9KQNts2I1XOD"
      },
      "outputs": [],
      "source": []
    },
    {
      "cell_type": "code",
      "execution_count": null,
      "metadata": {
        "id": "5B1AjdKR1XOD"
      },
      "outputs": [],
      "source": []
    },
    {
      "cell_type": "code",
      "execution_count": null,
      "metadata": {
        "id": "ddTHwNr31XOD"
      },
      "outputs": [],
      "source": []
    },
    {
      "cell_type": "code",
      "execution_count": null,
      "metadata": {
        "id": "JoNgsdnd1XOE"
      },
      "outputs": [],
      "source": []
    },
    {
      "cell_type": "code",
      "execution_count": null,
      "metadata": {
        "id": "3bS4SwqZ1XOE"
      },
      "outputs": [],
      "source": []
    }
  ],
  "metadata": {
    "accelerator": "GPU",
    "colab": {
      "gpuType": "T4",
      "provenance": []
    },
    "kernelspec": {
      "display_name": "Python 3 (ipykernel)",
      "language": "python",
      "name": "python3"
    },
    "language_info": {
      "codemirror_mode": {
        "name": "ipython",
        "version": 3
      },
      "file_extension": ".py",
      "mimetype": "text/x-python",
      "name": "python",
      "nbconvert_exporter": "python",
      "pygments_lexer": "ipython3",
      "version": "3.10.0"
    }
  },
  "nbformat": 4,
  "nbformat_minor": 0
}