{
  "cells": [
    {
      "cell_type": "code",
      "execution_count": null,
      "metadata": {
        "id": "VZKEqAh9vyTI"
      },
      "outputs": [],
      "source": [
        "import torch\n",
        "import torch.nn as nn\n",
        "import torch.optim as optim\n",
        "import torchvision\n",
        "import torchvision.transforms as T"
      ]
    },
    {
      "cell_type": "code",
      "execution_count": null,
      "metadata": {
        "id": "AlDR6sjwxFcp"
      },
      "outputs": [],
      "source": [
        "import numpy as np\n",
        "import matplotlib.pyplot as plt"
      ]
    },
    {
      "cell_type": "markdown",
      "metadata": {
        "id": "NR8E6URZK1X3"
      },
      "source": [
        "# 데이터 로딩"
      ]
    },
    {
      "cell_type": "code",
      "execution_count": null,
      "metadata": {
        "id": "yPGOz6I1JkBj"
      },
      "outputs": [],
      "source": [
        "# CIFAR-10 로드 (채널-마지막: BHWC)\n",
        "trainset_raw = torchvision.datasets.CIFAR10(root='./data', train=True, download=True)\n",
        "testset_raw  = torchvision.datasets.CIFAR10(root='./data', train=False, download=True)"
      ]
    },
    {
      "cell_type": "code",
      "execution_count": null,
      "metadata": {
        "id": "aZHlNwO3PK08"
      },
      "outputs": [],
      "source": [
        "# numpy → tensor 변환 & 스케일링 + (옵션) 전처리 증강  # <-- CHANGED: 정규화 제거, 증강 추가\n",
        "def preprocess_cifar(dataset, augment=False, n_aug=10):\n",
        "    # dataset.data: (N, 32, 32, 3) uint8\n",
        "    images = torch.from_numpy(dataset.data).permute(0, 3, 1, 2).contiguous().float() / 255.0  # -> (N, 3, 32, 32) in [0,1]\n",
        "    labels = torch.tensor(dataset.targets, dtype=torch.long)\n",
        "\n",
        "    if not augment:\n",
        "        return images, labels\n",
        "\n",
        "    # 전처리 단계에서 생성할 텐서 기반 증강 파이프라인 (정규화 없음, [0,1] 유지)\n",
        "    aug = T.Compose([\n",
        "        # 1) 임의 크롭 후 32x32로 리사이즈 (CIFAR-10은 원본이 32x32라 scale을 너무 작게 잡지 않음)\n",
        "        #    - size: 최종 출력 크기\n",
        "        #    - scale: 원본 면적 대비 크롭 영역 비율 범위(0.6~1.0 권장, 너무 작으면 정보 손실 큼)\n",
        "        #    - ratio: 가로세로비 범위(3/4~4/3)\n",
        "        #    - interpolation: 보간 방식(BILINEAR가 일반적으로 부드럽고 안정적)\n",
        "        #    - antialias: 다운샘플링 시 앤티앨리어싱 사용(계단현상 감소)\n",
        "        T.RandomResizedCrop(\n",
        "            size=32,\n",
        "            scale=(0.6, 1.0),\n",
        "            ratio=(3/4, 4/3),\n",
        "            interpolation=T.InterpolationMode.BILINEAR,\n",
        "            antialias=True\n",
        "        ),\n",
        "\n",
        "        # 2) 수평 뒤집기\n",
        "        #    - p: 적용 확률(0.5가 일반적인 기본값)\n",
        "        T.RandomHorizontalFlip(p=0.5),\n",
        "\n",
        "        # 3) 수직 뒤집기\n",
        "        #    - p: 적용 확률(수직 뒤집기는 데이터에 따라 해가 될 수 있어 낮게 설정; 필요 시 0으로 꺼도 됨)\n",
        "        T.RandomVerticalFlip(p=0.1),\n",
        "\n",
        "        # 4) 회전\n",
        "        #    - degrees: 회전 각도 범위\n",
        "        #    - interpolation: 회전 시 보간 방식\n",
        "        #    - expand: True면 회전 후 이미지가 잘리지 않도록 캔버스 확대(32x32 고정이 필요하므로 False)\n",
        "        #    - center: 회전 중심(None이면 중앙)\n",
        "        #    - fill: 회전으로 생기는 바깥 영역 채움값(0.0=검정; 텐서 입력에서 채널별로 브로드캐스트)\n",
        "        T.RandomRotation(\n",
        "            degrees=(-30, 30),\n",
        "            interpolation=T.InterpolationMode.BILINEAR,\n",
        "            expand=False,\n",
        "            center=None,\n",
        "            fill=0.0\n",
        "        ),\n",
        "\n",
        "        # 5) 패치 지우기(Random Erasing)\n",
        "        #    - p: 적용 확률\n",
        "        #    - scale: 지워질 패치의 면적 비율(전체 대비)\n",
        "        #    - ratio: 패치의 종횡비 범위\n",
        "        #    - value: 채움값('random'이면 [0,1] 범위 임의값으로 채움 → 정규화 안 하는 현재 설정과 잘 맞음)\n",
        "        #    - inplace: 입력 텐서를 제자리(in-place) 수정할지 여부(False 권장)\n",
        "        T.RandomErasing(\n",
        "            p=0.25,\n",
        "            scale=(0.02, 0.15),\n",
        "            ratio=(0.3, 3.3),\n",
        "            value='random',\n",
        "            inplace=False\n",
        "        ),\n",
        "\n",
        "        # 6) 아핀 변환(이동/스케일/전단 포함)\n",
        "        #    - degrees: 회전 각도 범위\n",
        "        #    - translate: 가로/세로 이동 비율(0.1=이미지 크기의 10%)\n",
        "        #    - scale: 스케일 변화 범위\n",
        "        #    - shear: 전단(기울이기) 각도 범위(단일 값/튜플 모두 허용, 여기선 좌우 대칭 범위로 지정)\n",
        "        #    - interpolation: 보간 방식\n",
        "        #    - center: 변환 기준점(None=중앙)\n",
        "        #    - fill: 변환으로 생기는 바깥 영역 채움값\n",
        "        T.RandomAffine(\n",
        "            degrees=15,\n",
        "            translate=(0.1, 0.1),\n",
        "            scale=(0.9, 1.1),\n",
        "            shear=(-10, 10),\n",
        "            interpolation=T.InterpolationMode.BILINEAR,\n",
        "            center=None,\n",
        "            fill=0.0\n",
        "        )\n",
        "    ])\n",
        "\n",
        "    N = images.shape[0]\n",
        "    aug_imgs = []\n",
        "    # 라벨은 나중에 한 번에 반복\n",
        "    for i in range(N):\n",
        "        x = images[i]\n",
        "        for _ in range(n_aug):\n",
        "            y = aug(x)\n",
        "            # 혹시 색/보간으로 경계값 벗어나면 [0,1]로 클램프\n",
        "            y = torch.clamp(y, 0.0, 1.0)\n",
        "            aug_imgs.append(y)\n",
        "    images = torch.stack(aug_imgs, dim=0)  # (N*n_aug, 3, 32, 32)\n",
        "    labels = labels.unsqueeze(1).repeat(1, n_aug).reshape(-1)  # (N*n_aug,)\n",
        "    return images, labels"
      ]
    },
    {
      "cell_type": "code",
      "execution_count": null,
      "metadata": {
        "id": "9nPvfM7603k-"
      },
      "outputs": [],
      "source": [
        "# 학습용은 증강, 테스트는 증강 없음\n",
        "train_images, train_labels = preprocess_cifar(trainset_raw, augment=True, n_aug=5)\n",
        "test_images,  test_labels  = preprocess_cifar(testset_raw,  augment=False)"
      ]
    },
    {
      "cell_type": "code",
      "execution_count": null,
      "metadata": {
        "id": "2SuqalEcPK08"
      },
      "outputs": [],
      "source": [
        "train_images.shape, train_labels.shape, test_images.shape, test_labels.shape"
      ]
    },
    {
      "cell_type": "code",
      "execution_count": null,
      "metadata": {
        "id": "ed7zBxPC-Ga7"
      },
      "outputs": [],
      "source": [
        "# Dataset 객체로 묶기\n",
        "full_dataset = torch.utils.data.TensorDataset(train_images, train_labels)"
      ]
    },
    {
      "cell_type": "code",
      "execution_count": null,
      "metadata": {
        "id": "Waum6sBc06kC"
      },
      "outputs": [],
      "source": [
        "# train/val split (Dataset을 그대로 분할)\n",
        "train_size = int(0.8 * len(full_dataset))\n",
        "val_size = len(full_dataset) - train_size\n",
        "train_dataset, val_dataset = torch.utils.data.random_split(full_dataset, [train_size, val_size])"
      ]
    },
    {
      "cell_type": "code",
      "execution_count": null,
      "metadata": {
        "id": "LLzb5tSw1Cx4"
      },
      "outputs": [],
      "source": [
        "trainloader = torch.utils.data.DataLoader(train_dataset, batch_size=64, shuffle=True)\n",
        "valloader = torch.utils.data.DataLoader(val_dataset, batch_size=64, shuffle=False)"
      ]
    },
    {
      "cell_type": "markdown",
      "metadata": {
        "id": "kqmrLrj41R-_"
      },
      "source": [
        "# 모델 생성"
      ]
    },
    {
      "cell_type": "code",
      "source": [
        "# !pip install torchinfo torchview"
      ],
      "metadata": {
        "id": "QG50XMy4VXs1"
      },
      "execution_count": null,
      "outputs": []
    },
    {
      "cell_type": "code",
      "execution_count": null,
      "metadata": {
        "id": "wdvg9ogbPK08"
      },
      "outputs": [],
      "source": [
        "from torchinfo import summary"
      ]
    },
    {
      "cell_type": "code",
      "execution_count": null,
      "metadata": {
        "id": "GAmA7CIi_C_4"
      },
      "outputs": [],
      "source": [
        "device = torch.device(\"cuda\" if torch.cuda.is_available() else \"cpu\")"
      ]
    },
    {
      "cell_type": "code",
      "execution_count": null,
      "metadata": {
        "id": "biwUoKgE1Pvf"
      },
      "outputs": [],
      "source": [
        "class ResidualBlock(nn.Module):\n",
        "    \"\"\"\n",
        "    가장 기본적인 Residual 블록\n",
        "    - 입력 x와, Conv(3x3)-BN-ReLU-Conv(3x3)-BN 결과를 더한 뒤(ReLU 이전), 최종 ReLU 적용\n",
        "    - 채널 수/공간 크기가 동일할 때만 사용 (여기서는 32채널 구간, 64채널 구간에 사용)\n",
        "    \"\"\"\n",
        "    def __init__(self, channels: int):\n",
        "        super().__init__()\n",
        "        self.conv1 = nn.Conv2d(channels, channels, kernel_size=3, padding=1, bias=False)\n",
        "        self.bn1   = nn.BatchNorm2d(channels)\n",
        "        self.relu  = nn.ReLU()\n",
        "        self.conv2 = nn.Conv2d(channels, channels, kernel_size=3, padding=1, bias=False)\n",
        "        self.bn2   = nn.BatchNorm2d(channels)\n",
        "\n",
        "    def forward(self, x):\n",
        "        identity = x                           # 잔차 경로(그대로 더하기 위한 경로)\n",
        "        out = self.conv1(x)\n",
        "        out = self.bn1(out)\n",
        "        out = self.relu(out)\n",
        "        out = self.conv2(out)\n",
        "        out = self.bn2(out)\n",
        "        out = out + identity                   # 입력과 합치기(skip connection)\n",
        "        out = self.relu(out)                   # 합친 뒤 활성화\n",
        "        return out"
      ]
    },
    {
      "cell_type": "code",
      "execution_count": null,
      "metadata": {
        "id": "mS91v6J9PK09"
      },
      "outputs": [],
      "source": [
        "class CNN(nn.Module):\n",
        "    \"\"\"\n",
        "    입력: (B, 3, 32, 32)\n",
        "    출력: (B, 10)  # CrossEntropyLoss에 바로 사용\n",
        "    - 변경점: 각 스테이지에서 간단한 ResidualBlock을 1개씩 추가\n",
        "    \"\"\"\n",
        "    def __init__(self, num_classes: int = 10, p_drop: float = 0.25):\n",
        "        super().__init__()\n",
        "\n",
        "        self.features = nn.Sequential(\n",
        "            # ----- Stage 1: 3 -> 32 채널 -----\n",
        "            nn.Conv2d(3, 32, kernel_size=3, padding=1, bias=False),  # 32x32 -> 32x32\n",
        "            nn.BatchNorm2d(32),\n",
        "            nn.ReLU(),\n",
        "            ResidualBlock(32),                                       # (간단 Residual: 32채널 유지)\n",
        "            nn.MaxPool2d(2),                                         # 32x32 -> 16x16\n",
        "\n",
        "            # ----- Stage 2: 32 -> 64 채널 -----\n",
        "            nn.Conv2d(32, 64, kernel_size=3, padding=1, bias=False), # 16x16 -> 16x16\n",
        "            nn.BatchNorm2d(64),\n",
        "            nn.ReLU(),\n",
        "            ResidualBlock(64),                                       # (간단 Residual: 64채널 유지)\n",
        "            nn.MaxPool2d(2),                                         # 16x16 -> 8x8\n",
        "        )\n",
        "\n",
        "        self.avgpool = nn.AdaptiveAvgPool2d(1)  # -> (B, 64, 1, 1)\n",
        "        self.classifier = nn.Sequential(\n",
        "            nn.Flatten(),                    # -> (B, 64)\n",
        "            nn.Dropout(p_drop),\n",
        "            nn.Linear(64, num_classes),      # -> (B, 10)\n",
        "        )\n",
        "\n",
        "    def forward(self, x):\n",
        "        x = self.features(x)                 # 특징 추출\n",
        "        x = self.avgpool(x)                  # 글로벌 평균 풀링(채널만 남김)\n",
        "        x = self.classifier(x)               # 분류기\n",
        "        return x"
      ]
    },
    {
      "cell_type": "code",
      "execution_count": null,
      "metadata": {
        "id": "b7J5SRDg1Wij"
      },
      "outputs": [],
      "source": [
        "model = CNN().to(device)  # 모델을 GPU로 이동\n",
        "loss_fn = nn.CrossEntropyLoss()\n",
        "optimizer = optim.Adam(model.parameters(), lr=1e-3)"
      ]
    },
    {
      "cell_type": "code",
      "execution_count": null,
      "metadata": {
        "id": "vQZ-1WQVPK09"
      },
      "outputs": [],
      "source": [
        "summary(model, input_size=(1, 3, 28, 28))"
      ]
    },
    {
      "cell_type": "code",
      "execution_count": null,
      "metadata": {
        "id": "TUFyO21hPK09"
      },
      "outputs": [],
      "source": [
        "from torchview import draw_graph"
      ]
    },
    {
      "cell_type": "code",
      "execution_count": null,
      "metadata": {
        "id": "5kMyzVi8PK09"
      },
      "outputs": [],
      "source": [
        "draw_graph(model, input_size=(1, 3, 28, 28)).visual_graph"
      ]
    },
    {
      "cell_type": "markdown",
      "metadata": {
        "id": "rzjYlHoM1hv2"
      },
      "source": [
        "# 학습"
      ]
    },
    {
      "cell_type": "code",
      "execution_count": null,
      "metadata": {
        "id": "VWpTl5fx1at4"
      },
      "outputs": [],
      "source": [
        "# 로그 저장용 리스트\n",
        "train_losses, train_accuracies, valid_losses, valid_accuracies = [], [], [], []"
      ]
    },
    {
      "cell_type": "code",
      "execution_count": null,
      "metadata": {
        "id": "jACW4Tr11jhU"
      },
      "outputs": [],
      "source": [
        "for epoch in range(30):                       # 총 40번 데이터셋을 반복\n",
        "    model.train()                             # 학습 모드(드롭아웃/배치정규화 등 학습 동작 켜짐)\n",
        "    running_loss = 0                          # 에폭 동안의 학습 손실 누적 변수\n",
        "    train_correct, train_total = 0, 0         # (추가) 에폭 단위 Train Acc 계산용\n",
        "\n",
        "    # ---- 미니배치 학습 루프 ----\n",
        "    for inputs, labels in trainloader:        # DataLoader에서 (입력, 정답) 배치를 꺼냄\n",
        "        inputs, labels = inputs.to(device), labels.to(device)  # 배치 텐서를 모델과 같은 장치로 이동\n",
        "        optimizer.zero_grad()                 # 직전 step의 누적 gradient를 0으로 초기화\n",
        "        outputs = model(inputs)               # 순전파: 모델이 logits(미규격화 점수) 출력\n",
        "        loss = loss_fn(outputs, labels)       # 손실 계산(CrossEntropyLoss: softmax+NLL 통합)\n",
        "        loss.backward()                       # 역전파: 각 파라미터의 gradient 계산\n",
        "        optimizer.step()                      # 가중치 갱신(gradient를 이용해 한 스텝 업데이트)\n",
        "        running_loss += loss.item()           # 현재 배치의 손실 값을 파이썬 float로 누적\n",
        "\n",
        "        # (추가) 배치 예측으로 Train Acc 누적\n",
        "        _, predicted = torch.max(outputs, 1)\n",
        "        train_total += labels.size(0)\n",
        "        train_correct += (predicted == labels).sum().item()\n",
        "\n",
        "    train_losses.append(running_loss / len(trainloader))  # 에폭 평균 학습 손실 기록 (배치 개수로 나눔)\n",
        "    train_accuracies.append(100 * train_correct / train_total)     # 학습 정확도(%) 기록\n",
        "\n",
        "    # ----- Validation -----\n",
        "    model.eval()                              # 평가 모드(드롭아웃/BN 등 평가 동작)\n",
        "    val_loss, correct, total = 0, 0, 0\n",
        "    with torch.no_grad():                     # 평가 시에는 gradient 계산 비활성화(메모리/속도 이점)\n",
        "        for inputs, labels in valloader:      # 검증 데이터 배치 반복\n",
        "            inputs, labels = inputs.to(device), labels.to(device)  # 장치 정렬\n",
        "            outputs = model(inputs)           # 순전파만 수행\n",
        "            loss = loss_fn(outputs, labels)   # 검증 배치 손실\n",
        "            val_loss += loss.item()           # 손실 누적\n",
        "            _, predicted = torch.max(outputs, 1)     # 각 샘플의 최고 점수 클래스 인덱스\n",
        "            total += labels.size(0)                  # 총 샘플 수 누적\n",
        "            correct += (predicted == labels).sum().item()  # 맞춘 개수 누적\n",
        "\n",
        "    valid_losses.append(val_loss / len(valloader))     # 에폭 평균 검증 손실 기록\n",
        "    valid_accuracies.append(100 * correct / total)     # 검증 정확도(%) 기록\n",
        "\n",
        "    # 진행 상황 출력\n",
        "    print(f\"Epoch {epoch+1}/50 : TRAIN[Loss: {train_losses[-1]:.4f}, Acc: {train_accuracies[-1]:.2f}%], VALID[Loss: {valid_losses[-1]:.4f}, Acc: {valid_accuracies[-1]:.2f}%]\")"
      ]
    },
    {
      "cell_type": "markdown",
      "metadata": {
        "id": "dXTc9Phv1s9j"
      },
      "source": [
        "# 학습결과 확인"
      ]
    },
    {
      "cell_type": "code",
      "execution_count": null,
      "metadata": {
        "id": "Or0u5QZh1nIH"
      },
      "outputs": [],
      "source": [
        "plt.figure()\n",
        "plt.plot(train_losses, label=\"Train Loss\")\n",
        "plt.plot(valid_losses, label=\"Valid Loss\")\n",
        "plt.legend()\n",
        "plt.title(\"Loss\")\n",
        "plt.show()"
      ]
    },
    {
      "cell_type": "code",
      "execution_count": null,
      "metadata": {
        "id": "ezfkd_Hk1zyD"
      },
      "outputs": [],
      "source": [
        "plt.figure()\n",
        "plt.plot(train_accuracies, label=\"Train Accuracy\")\n",
        "plt.plot(valid_accuracies, label=\"Valid Accuracy\")\n",
        "plt.legend()\n",
        "plt.title(\"Accuracy\")\n",
        "plt.show()"
      ]
    },
    {
      "cell_type": "code",
      "execution_count": null,
      "metadata": {
        "id": "Q_OlUIPm12_a"
      },
      "outputs": [],
      "source": []
    },
    {
      "cell_type": "code",
      "execution_count": null,
      "metadata": {
        "id": "EFzKnXr-PK09"
      },
      "outputs": [],
      "source": []
    },
    {
      "cell_type": "code",
      "execution_count": null,
      "metadata": {
        "id": "oigNWNXUPK09"
      },
      "outputs": [],
      "source": []
    },
    {
      "cell_type": "code",
      "execution_count": null,
      "metadata": {
        "id": "rj2mGo7IPK09"
      },
      "outputs": [],
      "source": []
    }
  ],
  "metadata": {
    "accelerator": "GPU",
    "colab": {
      "gpuType": "T4",
      "provenance": []
    },
    "kernelspec": {
      "display_name": "Python 3 (ipykernel)",
      "language": "python",
      "name": "python3"
    },
    "language_info": {
      "codemirror_mode": {
        "name": "ipython",
        "version": 3
      },
      "file_extension": ".py",
      "mimetype": "text/x-python",
      "name": "python",
      "nbconvert_exporter": "python",
      "pygments_lexer": "ipython3",
      "version": "3.10.0"
    }
  },
  "nbformat": 4,
  "nbformat_minor": 0
}