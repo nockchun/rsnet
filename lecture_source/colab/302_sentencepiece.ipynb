{
  "nbformat": 4,
  "nbformat_minor": 0,
  "metadata": {
    "colab": {
      "provenance": [],
      "authorship_tag": "ABX9TyMI4tTuSKe1HtMVKM+LOIKV"
    },
    "kernelspec": {
      "name": "python3",
      "display_name": "Python 3"
    },
    "language_info": {
      "name": "python"
    }
  },
  "cells": [
    {
      "cell_type": "markdown",
      "source": [
        "# 기본환경 설정"
      ],
      "metadata": {
        "id": "B6NkyX5YYGFM"
      }
    },
    {
      "cell_type": "code",
      "execution_count": null,
      "metadata": {
        "id": "4M0e826dUfvQ"
      },
      "outputs": [],
      "source": [
        "from google.colab import userdata\n",
        "import huggingface_hub"
      ]
    },
    {
      "cell_type": "code",
      "source": [
        "HF_KEY = userdata.get(\"HF_KEY\")\n",
        "huggingface_hub.login(HF_KEY)"
      ],
      "metadata": {
        "id": "HSOTcRJxYTSQ"
      },
      "execution_count": null,
      "outputs": []
    },
    {
      "cell_type": "markdown",
      "source": [
        "# 데이터 준비"
      ],
      "metadata": {
        "id": "S5usrmZqYb61"
      }
    },
    {
      "cell_type": "code",
      "source": [
        "import os\n",
        "import sentencepiece as spm\n",
        "from datasets import load_dataset"
      ],
      "metadata": {
        "id": "Sx_jYwBfYpG2"
      },
      "execution_count": null,
      "outputs": []
    },
    {
      "cell_type": "code",
      "source": [
        "os.makedirs(\"spm_models\", exist_ok=True)"
      ],
      "metadata": {
        "id": "w546ADk9bCAs"
      },
      "execution_count": null,
      "outputs": []
    },
    {
      "cell_type": "markdown",
      "source": [
        "## 영어"
      ],
      "metadata": {
        "id": "lSEeq4z7YewB"
      }
    },
    {
      "cell_type": "code",
      "source": [
        "dataset_eng = load_dataset(\"ag_news\", split=\"train[:100]\")"
      ],
      "metadata": {
        "id": "yKa3gER-YZLr"
      },
      "execution_count": null,
      "outputs": []
    },
    {
      "cell_type": "code",
      "source": [
        "sentences_eng = dataset_eng[\"text\"]\n",
        "sentences_eng[:2]"
      ],
      "metadata": {
        "id": "SD_NqszFYsG8"
      },
      "execution_count": null,
      "outputs": []
    },
    {
      "cell_type": "code",
      "source": [
        "with open(\"corpus_eng.txt\", \"w\", encoding=\"utf-8\") as f:\n",
        "    for line in sentences_eng:\n",
        "        f.write(line + \"\\n\")"
      ],
      "metadata": {
        "id": "iX7mvpr0YuSs"
      },
      "execution_count": null,
      "outputs": []
    },
    {
      "cell_type": "markdown",
      "source": [
        "## 한국어"
      ],
      "metadata": {
        "id": "5WIVKSCzad7m"
      }
    },
    {
      "cell_type": "code",
      "source": [
        "dataset_kor = load_dataset(\"daekeun-ml/naver-news-summarization-ko\", split=\"train[:100]\")"
      ],
      "metadata": {
        "id": "ZOSE6w76aU41"
      },
      "execution_count": null,
      "outputs": []
    },
    {
      "cell_type": "code",
      "source": [
        "sentences_kor = dataset_kor[\"document\"]\n",
        "sentences_kor[:2]"
      ],
      "metadata": {
        "id": "FMDFvxE_ahpI"
      },
      "execution_count": null,
      "outputs": []
    },
    {
      "cell_type": "code",
      "source": [
        "with open(\"corpus_kor.txt\", \"w\", encoding=\"utf-8\") as f:\n",
        "    for line in sentences_kor:\n",
        "        f.write(line + \"\\n\")"
      ],
      "metadata": {
        "id": "QyPgYPlPajsc"
      },
      "execution_count": null,
      "outputs": []
    },
    {
      "cell_type": "markdown",
      "source": [
        "# SentencePiece 모델 학습"
      ],
      "metadata": {
        "id": "8jOSziPQamoB"
      }
    },
    {
      "cell_type": "markdown",
      "source": [
        "## 영어"
      ],
      "metadata": {
        "id": "VqLGQNNBaqfQ"
      }
    },
    {
      "cell_type": "code",
      "source": [
        "spm.SentencePieceTrainer.train(\n",
        "    input=\"corpus_eng.txt\",\n",
        "    model_prefix=\"spm_models/spm_eng\",\n",
        "    vocab_size=1000,\n",
        "    model_type=\"bpe\" # bpe, unigram, char 등 가능\n",
        ")"
      ],
      "metadata": {
        "id": "n3wikL1BalbT"
      },
      "execution_count": null,
      "outputs": []
    },
    {
      "cell_type": "markdown",
      "source": [
        "## 한국어"
      ],
      "metadata": {
        "id": "wfB4f-vRbWL6"
      }
    },
    {
      "cell_type": "code",
      "source": [
        "spm.SentencePieceTrainer.train(\n",
        "    input=\"corpus_kor.txt\",\n",
        "    model_prefix=\"spm_models/spm_kor\",\n",
        "    vocab_size=1000,\n",
        "    model_type=\"bpe\" # bpe, unigram, char 등 가능\n",
        ")"
      ],
      "metadata": {
        "id": "hRcFbAAWatmL"
      },
      "execution_count": null,
      "outputs": []
    },
    {
      "cell_type": "markdown",
      "source": [
        "# SentencePiece 모델 로드 & 토큰화"
      ],
      "metadata": {
        "id": "SAicoosybhM8"
      }
    },
    {
      "cell_type": "code",
      "source": [
        "tokenizer_eng = spm.SentencePieceProcessor(model_file=\"spm_models/spm_eng.model\")\n",
        "tokenizer_kor = spm.SentencePieceProcessor(model_file=\"spm_models/spm_kor.model\")"
      ],
      "metadata": {
        "id": "hzok_yy0bbKK"
      },
      "execution_count": null,
      "outputs": []
    },
    {
      "cell_type": "code",
      "source": [
        "# 예제 문장\n",
        "example_eng = \"I love natural language processing.\"\n",
        "example_kor = \"저는 자연어 처리를 공부하고 있습니다.\""
      ],
      "metadata": {
        "id": "H01RZJG6bodM"
      },
      "execution_count": null,
      "outputs": []
    },
    {
      "cell_type": "code",
      "source": [
        "tokens_eng = tokenizer_eng.encode(example_eng, out_type=str)\n",
        "tokens_kor = tokenizer_kor.encode(example_kor, out_type=str)"
      ],
      "metadata": {
        "id": "e1VYSYcqbp1o"
      },
      "execution_count": null,
      "outputs": []
    },
    {
      "cell_type": "code",
      "source": [
        "print(f\"영어 토큰: {tokens_eng}\\n한글 토큰: {tokens_kor}\")"
      ],
      "metadata": {
        "id": "6bK109Nlbruw"
      },
      "execution_count": null,
      "outputs": []
    },
    {
      "cell_type": "markdown",
      "source": [
        "# 인덱스 변환 및 임베딩 : PyTorch 예시"
      ],
      "metadata": {
        "id": "oFXIXGTXbu6D"
      }
    },
    {
      "cell_type": "code",
      "source": [
        "import torch\n",
        "from torch import nn"
      ],
      "metadata": {
        "id": "aepzSzQcbtYs"
      },
      "execution_count": null,
      "outputs": []
    },
    {
      "cell_type": "code",
      "source": [
        "# 문자를 토큰 인덱스로 변환\n",
        "ids_eng = torch.LongTensor([tokenizer_eng.encode(example_eng)])\n",
        "ids_kor = torch.LongTensor([tokenizer_kor.encode(example_kor)])"
      ],
      "metadata": {
        "id": "EpXIz2v0b1o7"
      },
      "execution_count": null,
      "outputs": []
    },
    {
      "cell_type": "code",
      "source": [
        "# 임베딩 설정\n",
        "emb_dim = 16\n",
        "embedding_eng = nn.Embedding(tokenizer_eng.get_piece_size(), emb_dim)\n",
        "embedding_kor = nn.Embedding(tokenizer_kor.get_piece_size(), emb_dim)"
      ],
      "metadata": {
        "id": "UxiqvpKDb6Sw"
      },
      "execution_count": null,
      "outputs": []
    },
    {
      "cell_type": "code",
      "source": [
        "embedding_eng, embedding_kor"
      ],
      "metadata": {
        "id": "jOkbVrC6cFVt"
      },
      "execution_count": null,
      "outputs": []
    },
    {
      "cell_type": "code",
      "source": [
        "# 임베딩 벡터 생성\n",
        "embeds_eng = embedding_eng(ids_eng)\n",
        "embeds_kor = embedding_eng(ids_kor)"
      ],
      "metadata": {
        "id": "dm5yTClNcJAw"
      },
      "execution_count": null,
      "outputs": []
    },
    {
      "cell_type": "code",
      "source": [
        "embeds_eng.shape, embeds_kor.shape"
      ],
      "metadata": {
        "id": "Wzbs-kLmcPsY"
      },
      "execution_count": null,
      "outputs": []
    },
    {
      "cell_type": "code",
      "source": [
        "ids_eng"
      ],
      "metadata": {
        "id": "A2fQ-CrocR0w"
      },
      "execution_count": null,
      "outputs": []
    },
    {
      "cell_type": "code",
      "source": [
        "embeds_eng"
      ],
      "metadata": {
        "id": "HSQvurrpcTST"
      },
      "execution_count": null,
      "outputs": []
    },
    {
      "cell_type": "markdown",
      "source": [
        "# 토큰화 방법 비교"
      ],
      "metadata": {
        "id": "LkcinG5Ffjpa"
      }
    },
    {
      "cell_type": "code",
      "source": [
        "# 1) 코퍼스 파일 만들기\n",
        "corpus = \"\"\"I love natural language processing.\n",
        "I love machine learning.\n",
        "ChatGPT is amazing.\n",
        "Natural language models are powerful.\"\"\"\n",
        "with open(\"corpus.txt\", \"w\", encoding=\"utf-8\") as f:\n",
        "    f.write(corpus)"
      ],
      "metadata": {
        "id": "W6Yq9baNcVLb"
      },
      "execution_count": null,
      "outputs": []
    },
    {
      "cell_type": "code",
      "source": [
        "# 2) unigram & bpe 모델 학습 (vocab_size=30, character_coverage=1.0)\n",
        "for mtype in [\"unigram\", \"bpe\"]:\n",
        "    spm.SentencePieceTrainer.train(\n",
        "        input=\"corpus.txt\",\n",
        "        model_prefix=f\"spm_models/spm_{mtype}\",\n",
        "        vocab_size=40,\n",
        "        model_type=mtype,\n",
        "        character_coverage=1.0\n",
        "    )"
      ],
      "metadata": {
        "id": "L2pf_TzEfqh9"
      },
      "execution_count": null,
      "outputs": []
    },
    {
      "cell_type": "code",
      "source": [
        "# 3) 학습된 모델 로드\n",
        "sp_unigram = spm.SentencePieceProcessor(model_file=\"spm_models/spm_unigram.model\")\n",
        "sp_bpe     = spm.SentencePieceProcessor(model_file=\"spm_models/spm_bpe.model\")"
      ],
      "metadata": {
        "id": "ciD7Q1BgfuTY"
      },
      "execution_count": null,
      "outputs": []
    },
    {
      "cell_type": "code",
      "source": [
        "# 4) 샘플 문장 토큰화\n",
        "sample = \"I love natural language processing.\"\n",
        "tokens_unigram = sp_unigram.encode(sample, out_type=str)\n",
        "tokens_bpe     = sp_bpe.encode(sample,     out_type=str)"
      ],
      "metadata": {
        "id": "mrbZrE6Jgfny"
      },
      "execution_count": null,
      "outputs": []
    },
    {
      "cell_type": "code",
      "source": [
        "# 5) char & word 방식은 수동 분할\n",
        "tokens_char = [c if c != \" \" else \"▁\" for c in sample]\n",
        "tokens_word = sample.split(\" \")"
      ],
      "metadata": {
        "id": "HLZnM4zAghkD"
      },
      "execution_count": null,
      "outputs": []
    },
    {
      "cell_type": "code",
      "source": [
        "# 6) 결과 출력\n",
        "print(\"unigram:\", tokens_unigram, \"→\", len(tokens_unigram), \"tokens\")\n",
        "print(\"bpe    :\", tokens_bpe,     \"→\", len(tokens_bpe),     \"tokens\")\n",
        "print(\"char   :\", tokens_char,    \"→\", len(tokens_char),    \"tokens\")\n",
        "print(\"word   :\", tokens_word,    \"→\", len(tokens_word),    \"tokens\")"
      ],
      "metadata": {
        "id": "VX0fIBBFgkFG"
      },
      "execution_count": null,
      "outputs": []
    },
    {
      "cell_type": "code",
      "source": [],
      "metadata": {
        "id": "aoDiMjVLgl8W"
      },
      "execution_count": null,
      "outputs": []
    }
  ]
}