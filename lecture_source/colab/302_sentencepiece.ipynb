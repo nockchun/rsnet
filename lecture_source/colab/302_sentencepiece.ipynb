{
 "cells": [
  {
   "cell_type": "markdown",
   "metadata": {
    "id": "B6NkyX5YYGFM"
   },
   "source": [
    "# 기본환경 설정"
   ]
  },
  {
   "cell_type": "code",
   "execution_count": null,
   "metadata": {
    "id": "4M0e826dUfvQ"
   },
   "outputs": [],
   "source": [
    "from google.colab import userdata\n",
    "import huggingface_hub"
   ]
  },
  {
   "cell_type": "code",
   "execution_count": null,
   "metadata": {
    "id": "HSOTcRJxYTSQ"
   },
   "outputs": [],
   "source": [
    "HF_KEY = userdata.get(\"HF_KEY\")\n",
    "huggingface_hub.login(HF_KEY)"
   ]
  },
  {
   "cell_type": "markdown",
   "metadata": {
    "id": "S5usrmZqYb61"
   },
   "source": [
    "# 데이터 준비"
   ]
  },
  {
   "cell_type": "code",
   "execution_count": null,
   "metadata": {
    "id": "Sx_jYwBfYpG2"
   },
   "outputs": [],
   "source": [
    "import os\n",
    "import sentencepiece as spm\n",
    "from datasets import load_dataset"
   ]
  },
  {
   "cell_type": "code",
   "execution_count": null,
   "metadata": {
    "id": "w546ADk9bCAs"
   },
   "outputs": [],
   "source": [
    "os.makedirs(\"spm_models\", exist_ok=True)"
   ]
  },
  {
   "cell_type": "markdown",
   "metadata": {
    "id": "lSEeq4z7YewB"
   },
   "source": [
    "## 영어"
   ]
  },
  {
   "cell_type": "code",
   "execution_count": null,
   "metadata": {
    "id": "yKa3gER-YZLr"
   },
   "outputs": [],
   "source": [
    "dataset_eng = load_dataset(\"ag_news\", split=\"train[:100]\")"
   ]
  },
  {
   "cell_type": "code",
   "execution_count": null,
   "metadata": {
    "id": "SD_NqszFYsG8"
   },
   "outputs": [],
   "source": [
    "sentences_eng = dataset_eng[\"text\"]\n",
    "sentences_eng[:2]"
   ]
  },
  {
   "cell_type": "code",
   "execution_count": null,
   "metadata": {
    "id": "iX7mvpr0YuSs"
   },
   "outputs": [],
   "source": [
    "with open(\"corpus_eng.txt\", \"w\", encoding=\"utf-8\") as f:\n",
    "    for line in sentences_eng:\n",
    "        f.write(line + \"\\n\")"
   ]
  },
  {
   "cell_type": "markdown",
   "metadata": {
    "id": "5WIVKSCzad7m"
   },
   "source": [
    "## 한국어"
   ]
  },
  {
   "cell_type": "code",
   "execution_count": null,
   "metadata": {
    "id": "ZOSE6w76aU41"
   },
   "outputs": [],
   "source": [
    "dataset_kor = load_dataset(\"daekeun-ml/naver-news-summarization-ko\", split=\"train[:100]\")"
   ]
  },
  {
   "cell_type": "code",
   "execution_count": null,
   "metadata": {
    "id": "FMDFvxE_ahpI"
   },
   "outputs": [],
   "source": [
    "sentences_kor = dataset_kor[\"document\"]\n",
    "sentences_kor[:2]"
   ]
  },
  {
   "cell_type": "code",
   "execution_count": null,
   "metadata": {
    "id": "QyPgYPlPajsc"
   },
   "outputs": [],
   "source": [
    "with open(\"corpus_kor.txt\", \"w\", encoding=\"utf-8\") as f:\n",
    "    for line in sentences_kor:\n",
    "        f.write(line + \"\\n\")"
   ]
  },
  {
   "cell_type": "markdown",
   "metadata": {
    "id": "8jOSziPQamoB"
   },
   "source": [
    "# SentencePiece 모델 학습"
   ]
  },
  {
   "cell_type": "markdown",
   "metadata": {
    "id": "VqLGQNNBaqfQ"
   },
   "source": [
    "## 영어"
   ]
  },
  {
   "cell_type": "code",
   "execution_count": null,
   "metadata": {
    "id": "n3wikL1BalbT"
   },
   "outputs": [],
   "source": [
    "spm.SentencePieceTrainer.train(\n",
    "    input=\"corpus_eng.txt\",\n",
    "    model_prefix=\"spm_models/spm_eng\",\n",
    "    vocab_size=1000,\n",
    "    model_type=\"bpe\" # bpe, unigram, char 등 가능\n",
    ")"
   ]
  },
  {
   "cell_type": "markdown",
   "metadata": {
    "id": "wfB4f-vRbWL6"
   },
   "source": [
    "## 한국어"
   ]
  },
  {
   "cell_type": "code",
   "execution_count": null,
   "metadata": {
    "id": "hRcFbAAWatmL"
   },
   "outputs": [],
   "source": [
    "spm.SentencePieceTrainer.train(\n",
    "    input=\"corpus_kor.txt\",\n",
    "    model_prefix=\"spm_models/spm_kor\",\n",
    "    vocab_size=1000,\n",
    "    model_type=\"bpe\" # bpe, unigram, char 등 가능\n",
    ")"
   ]
  },
  {
   "cell_type": "markdown",
   "metadata": {
    "id": "SAicoosybhM8"
   },
   "source": [
    "# SentencePiece 모델 로드 & 토큰화"
   ]
  },
  {
   "cell_type": "code",
   "execution_count": null,
   "metadata": {
    "id": "hzok_yy0bbKK"
   },
   "outputs": [],
   "source": [
    "tokenizer_eng = spm.SentencePieceProcessor(model_file=\"spm_models/spm_eng.model\")\n",
    "tokenizer_kor = spm.SentencePieceProcessor(model_file=\"spm_models/spm_kor.model\")"
   ]
  },
  {
   "cell_type": "code",
   "execution_count": null,
   "metadata": {
    "id": "H01RZJG6bodM"
   },
   "outputs": [],
   "source": [
    "# 예제 문장\n",
    "example_eng = \"I love natural language processing.\"\n",
    "example_kor = \"저는 자연어 처리를 공부하고 있습니다.\""
   ]
  },
  {
   "cell_type": "code",
   "execution_count": null,
   "metadata": {
    "id": "e1VYSYcqbp1o"
   },
   "outputs": [],
   "source": [
    "tokens_eng = tokenizer_eng.encode(example_eng, out_type=str)\n",
    "tokens_kor = tokenizer_kor.encode(example_kor, out_type=str)"
   ]
  },
  {
   "cell_type": "code",
   "execution_count": null,
   "metadata": {
    "id": "6bK109Nlbruw"
   },
   "outputs": [],
   "source": [
    "print(f\"영어 토큰: {tokens_eng}\\n한글 토큰: {tokens_kor}\")"
   ]
  },
  {
   "cell_type": "markdown",
   "metadata": {
    "id": "oFXIXGTXbu6D"
   },
   "source": [
    "# 인덱스 변환 및 임베딩 : PyTorch 예시"
   ]
  },
  {
   "cell_type": "code",
   "execution_count": null,
   "metadata": {
    "id": "aepzSzQcbtYs"
   },
   "outputs": [],
   "source": [
    "import torch\n",
    "from torch import nn"
   ]
  },
  {
   "cell_type": "code",
   "execution_count": null,
   "metadata": {
    "id": "EpXIz2v0b1o7"
   },
   "outputs": [],
   "source": [
    "# 문자를 토큰 인덱스로 변환\n",
    "ids_eng = torch.LongTensor([tokenizer_eng.encode(example_eng)])\n",
    "ids_kor = torch.LongTensor([tokenizer_kor.encode(example_kor)])"
   ]
  },
  {
   "cell_type": "code",
   "execution_count": null,
   "metadata": {
    "id": "UxiqvpKDb6Sw"
   },
   "outputs": [],
   "source": [
    "# 임베딩 설정\n",
    "emb_dim = 16\n",
    "embedding_eng = nn.Embedding(tokenizer_eng.get_piece_size(), emb_dim)\n",
    "embedding_kor = nn.Embedding(tokenizer_kor.get_piece_size(), emb_dim)"
   ]
  },
  {
   "cell_type": "code",
   "execution_count": null,
   "metadata": {
    "id": "jOkbVrC6cFVt"
   },
   "outputs": [],
   "source": [
    "embedding_eng, embedding_kor"
   ]
  },
  {
   "cell_type": "code",
   "execution_count": null,
   "metadata": {
    "id": "dm5yTClNcJAw"
   },
   "outputs": [],
   "source": [
    "# 임베딩 벡터 생성\n",
    "embeds_eng = embedding_eng(ids_eng)\n",
    "embeds_kor = embedding_eng(ids_kor)"
   ]
  },
  {
   "cell_type": "code",
   "execution_count": null,
   "metadata": {
    "id": "Wzbs-kLmcPsY"
   },
   "outputs": [],
   "source": [
    "embeds_eng.shape, embeds_kor.shape"
   ]
  },
  {
   "cell_type": "code",
   "execution_count": null,
   "metadata": {
    "id": "A2fQ-CrocR0w"
   },
   "outputs": [],
   "source": [
    "ids_eng"
   ]
  },
  {
   "cell_type": "code",
   "execution_count": null,
   "metadata": {
    "id": "HSQvurrpcTST"
   },
   "outputs": [],
   "source": [
    "embeds_eng"
   ]
  },
  {
   "cell_type": "markdown",
   "metadata": {
    "id": "LkcinG5Ffjpa"
   },
   "source": [
    "# 토큰화 방법 비교"
   ]
  },
  {
   "cell_type": "code",
   "execution_count": null,
   "metadata": {
    "id": "W6Yq9baNcVLb"
   },
   "outputs": [],
   "source": [
    "# 1) 코퍼스 파일 만들기\n",
    "corpus = \"\"\"I love natural language processing.\n",
    "I love machine learning.\n",
    "ChatGPT is amazing.\n",
    "Natural language models are powerful.\"\"\"\n",
    "with open(\"corpus.txt\", \"w\", encoding=\"utf-8\") as f:\n",
    "    f.write(corpus)"
   ]
  },
  {
   "cell_type": "code",
   "execution_count": null,
   "metadata": {
    "id": "L2pf_TzEfqh9"
   },
   "outputs": [],
   "source": [
    "# 2) unigram & bpe 모델 학습 (vocab_size=30, character_coverage=1.0)\n",
    "for mtype in [\"unigram\", \"bpe\"]:\n",
    "    spm.SentencePieceTrainer.train(\n",
    "        input=\"corpus.txt\",\n",
    "        model_prefix=f\"spm_models/spm_{mtype}\",\n",
    "        vocab_size=40,\n",
    "        model_type=mtype,\n",
    "        character_coverage=1.0\n",
    "    )"
   ]
  },
  {
   "cell_type": "code",
   "execution_count": null,
   "metadata": {
    "id": "ciD7Q1BgfuTY"
   },
   "outputs": [],
   "source": [
    "# 3) 학습된 모델 로드\n",
    "sp_unigram = spm.SentencePieceProcessor(model_file=\"spm_models/spm_unigram.model\")\n",
    "sp_bpe     = spm.SentencePieceProcessor(model_file=\"spm_models/spm_bpe.model\")"
   ]
  },
  {
   "cell_type": "code",
   "execution_count": null,
   "metadata": {
    "id": "mrbZrE6Jgfny"
   },
   "outputs": [],
   "source": [
    "# 4) 샘플 문장 토큰화\n",
    "sample = \"I love natural language processing.\"\n",
    "tokens_unigram = sp_unigram.encode(sample, out_type=str)\n",
    "tokens_bpe     = sp_bpe.encode(sample,     out_type=str)"
   ]
  },
  {
   "cell_type": "code",
   "execution_count": null,
   "metadata": {
    "id": "HLZnM4zAghkD"
   },
   "outputs": [],
   "source": [
    "# 5) char & word 방식은 수동 분할\n",
    "tokens_char = [c if c != \" \" else \"▁\" for c in sample]\n",
    "tokens_word = sample.split(\" \")"
   ]
  },
  {
   "cell_type": "code",
   "execution_count": null,
   "metadata": {
    "id": "VX0fIBBFgkFG"
   },
   "outputs": [],
   "source": [
    "# 6) 결과 출력\n",
    "print(\"unigram:\", tokens_unigram, \"→\", len(tokens_unigram), \"tokens\")\n",
    "print(\"bpe    :\", tokens_bpe,     \"→\", len(tokens_bpe),     \"tokens\")\n",
    "print(\"char   :\", tokens_char,    \"→\", len(tokens_char),    \"tokens\")\n",
    "print(\"word   :\", tokens_word,    \"→\", len(tokens_word),    \"tokens\")"
   ]
  },
  {
   "cell_type": "code",
   "execution_count": null,
   "metadata": {
    "id": "aoDiMjVLgl8W"
   },
   "outputs": [],
   "source": []
  }
 ],
 "metadata": {
  "colab": {
   "authorship_tag": "ABX9TyMI4tTuSKe1HtMVKM+LOIKV",
   "provenance": []
  },
  "kernelspec": {
   "display_name": "Python 3 (ipykernel)",
   "language": "python",
   "name": "python3"
  },
  "language_info": {
   "codemirror_mode": {
    "name": "ipython",
    "version": 3
   },
   "file_extension": ".py",
   "mimetype": "text/x-python",
   "name": "python",
   "nbconvert_exporter": "python",
   "pygments_lexer": "ipython3",
   "version": "3.10.0"
  }
 },
 "nbformat": 4,
 "nbformat_minor": 4
}
