{
 "cells": [
  {
   "cell_type": "code",
   "execution_count": 1,
   "id": "6d52d5a7-bd04-43be-93dd-4a392255cee5",
   "metadata": {
    "execution": {
     "iopub.execute_input": "2025-09-06T06:10:55.787891Z",
     "iopub.status.busy": "2025-09-06T06:10:55.787602Z",
     "iopub.status.idle": "2025-09-06T06:10:56.923187Z",
     "shell.execute_reply": "2025-09-06T06:10:56.922671Z",
     "shell.execute_reply.started": "2025-09-06T06:10:55.787865Z"
    }
   },
   "outputs": [],
   "source": [
    "import torch\n",
    "import torch.nn as nn\n",
    "import torch.nn.functional as F\n",
    "import torch.optim as optim\n",
    "from torch.utils.data import DataLoader, TensorDataset # Using TensorDataset for simple examples"
   ]
  },
  {
   "cell_type": "code",
   "execution_count": 2,
   "id": "b5e33842-eb66-4240-a44d-70f7a6bd4eb2",
   "metadata": {
    "execution": {
     "iopub.execute_input": "2025-09-06T06:10:56.923764Z",
     "iopub.status.busy": "2025-09-06T06:10:56.923592Z",
     "iopub.status.idle": "2025-09-06T06:10:57.166508Z",
     "shell.execute_reply": "2025-09-06T06:10:57.165997Z",
     "shell.execute_reply.started": "2025-09-06T06:10:56.923750Z"
    }
   },
   "outputs": [],
   "source": [
    "import matplotlib.pyplot as plt\n",
    "import numpy as np"
   ]
  },
  {
   "cell_type": "code",
   "execution_count": 3,
   "id": "b3e546ce-74d6-43dd-aac7-8ac5faaece55",
   "metadata": {
    "execution": {
     "iopub.execute_input": "2025-09-06T06:10:57.167116Z",
     "iopub.status.busy": "2025-09-06T06:10:57.166934Z",
     "iopub.status.idle": "2025-09-06T06:10:57.202338Z",
     "shell.execute_reply": "2025-09-06T06:10:57.201929Z",
     "shell.execute_reply.started": "2025-09-06T06:10:57.167102Z"
    }
   },
   "outputs": [
    {
     "data": {
      "text/plain": [
       "device(type='cuda')"
      ]
     },
     "execution_count": 3,
     "metadata": {},
     "output_type": "execute_result"
    }
   ],
   "source": [
    "device = torch.device('cuda' if torch.cuda.is_available() else 'cpu')\n",
    "device"
   ]
  },
  {
   "cell_type": "markdown",
   "id": "770bceb5-b3fa-400b-8e8f-aaec8e981ce9",
   "metadata": {},
   "source": [
    "# Simulate Neural Network"
   ]
  },
  {
   "cell_type": "code",
   "execution_count": 4,
   "id": "37467898-a24b-4cf0-8a67-d0b6bb232636",
   "metadata": {
    "execution": {
     "iopub.execute_input": "2025-09-06T06:10:57.202810Z",
     "iopub.status.busy": "2025-09-06T06:10:57.202693Z",
     "iopub.status.idle": "2025-09-06T06:10:57.391075Z",
     "shell.execute_reply": "2025-09-06T06:10:57.390454Z",
     "shell.execute_reply.started": "2025-09-06T06:10:57.202798Z"
    }
   },
   "outputs": [
    {
     "data": {
      "text/plain": [
       "array([ 0.5, -1. ], dtype=float32)"
      ]
     },
     "execution_count": 4,
     "metadata": {},
     "output_type": "execute_result"
    }
   ],
   "source": [
    "# prepare input\n",
    "inp = torch.tensor([0.5, -1.0]).to(device)\n",
    "inp.cpu().numpy()"
   ]
  },
  {
   "cell_type": "code",
   "execution_count": 5,
   "id": "7773d190-4c08-46dd-935a-15a71278de93",
   "metadata": {
    "execution": {
     "iopub.execute_input": "2025-09-06T06:10:57.391633Z",
     "iopub.status.busy": "2025-09-06T06:10:57.391510Z",
     "iopub.status.idle": "2025-09-06T06:10:57.396213Z",
     "shell.execute_reply": "2025-09-06T06:10:57.395659Z",
     "shell.execute_reply.started": "2025-09-06T06:10:57.391620Z"
    }
   },
   "outputs": [
    {
     "name": "stdout",
     "output_type": "stream",
     "text": [
      "[[-0.5889977  -0.01632567]]\n",
      "[-0.62674826]\n"
     ]
    }
   ],
   "source": [
    "# make neural network\n",
    "neural1 = nn.Linear(2, 1).to(device)\n",
    "print(neural1.weight.data.cpu().numpy())\n",
    "print(neural1.bias.data.cpu().numpy())"
   ]
  },
  {
   "cell_type": "code",
   "execution_count": 6,
   "id": "78c5840d-7888-49e8-9c40-d6a74cab2a37",
   "metadata": {
    "execution": {
     "iopub.execute_input": "2025-09-06T06:10:57.397551Z",
     "iopub.status.busy": "2025-09-06T06:10:57.397426Z",
     "iopub.status.idle": "2025-09-06T06:10:57.423654Z",
     "shell.execute_reply": "2025-09-06T06:10:57.423039Z",
     "shell.execute_reply.started": "2025-09-06T06:10:57.397539Z"
    }
   },
   "outputs": [
    {
     "data": {
      "text/plain": [
       "-0.9049214720726013"
      ]
     },
     "execution_count": 6,
     "metadata": {},
     "output_type": "execute_result"
    }
   ],
   "source": [
    "# weighted sum\n",
    "wx_b = neural1(inp)\n",
    "wx_b.item()"
   ]
  },
  {
   "cell_type": "code",
   "execution_count": 7,
   "id": "a73a9ac4-4784-4757-b114-a02bf338313b",
   "metadata": {
    "execution": {
     "iopub.execute_input": "2025-09-06T06:10:57.424240Z",
     "iopub.status.busy": "2025-09-06T06:10:57.424117Z",
     "iopub.status.idle": "2025-09-06T06:10:57.434829Z",
     "shell.execute_reply": "2025-09-06T06:10:57.434242Z",
     "shell.execute_reply.started": "2025-09-06T06:10:57.424226Z"
    }
   },
   "outputs": [
    {
     "data": {
      "text/plain": [
       "0.2880401909351349"
      ]
     },
     "execution_count": 7,
     "metadata": {},
     "output_type": "execute_result"
    }
   ],
   "source": [
    "# activation function\n",
    "out = torch.sigmoid(wx_b)\n",
    "out.item()"
   ]
  },
  {
   "cell_type": "markdown",
   "id": "6faa4b0d-75a6-4890-9f23-aeaaa675980f",
   "metadata": {},
   "source": [
    "# Multi-Layer Neural Network"
   ]
  },
  {
   "cell_type": "code",
   "execution_count": 8,
   "id": "010e2680-3b53-4266-92e2-f4f1b084da72",
   "metadata": {
    "execution": {
     "iopub.execute_input": "2025-09-06T06:10:57.435330Z",
     "iopub.status.busy": "2025-09-06T06:10:57.435207Z",
     "iopub.status.idle": "2025-09-06T06:10:57.439620Z",
     "shell.execute_reply": "2025-09-06T06:10:57.439064Z",
     "shell.execute_reply.started": "2025-09-06T06:10:57.435318Z"
    }
   },
   "outputs": [
    {
     "name": "stdout",
     "output_type": "stream",
     "text": [
      "[[-0.25909403 -0.47720447]\n",
      " [-0.62256634 -0.08069225]\n",
      " [ 0.61771405 -0.40644786]]\n",
      "[-0.11038521  0.3373765   0.68074495]\n"
     ]
    }
   ],
   "source": [
    "# make neural network\n",
    "neural1 = nn.Linear(2, 3).to(device)\n",
    "print(neural1.weight.data.cpu().numpy())\n",
    "print(neural1.bias.data.cpu().numpy())"
   ]
  },
  {
   "cell_type": "code",
   "execution_count": 9,
   "id": "5950fb2c-8a28-448b-a6b7-cedf0217ceaf",
   "metadata": {
    "execution": {
     "iopub.execute_input": "2025-09-06T06:10:57.440135Z",
     "iopub.status.busy": "2025-09-06T06:10:57.440016Z",
     "iopub.status.idle": "2025-09-06T06:10:57.447318Z",
     "shell.execute_reply": "2025-09-06T06:10:57.446771Z",
     "shell.execute_reply.started": "2025-09-06T06:10:57.440123Z"
    }
   },
   "outputs": [
    {
     "name": "stdout",
     "output_type": "stream",
     "text": [
      "[[0.53258383 0.12959644 0.165465  ]]\n",
      "[-0.11256585]\n"
     ]
    }
   ],
   "source": [
    "neural2 = nn.Linear(3, 1).to(device)\n",
    "print(neural2.weight.data.cpu().numpy())\n",
    "print(neural2.bias.data.cpu().numpy())"
   ]
  },
  {
   "cell_type": "code",
   "execution_count": 10,
   "id": "ff998bc3-f6db-4666-bd34-ade359b911de",
   "metadata": {
    "execution": {
     "iopub.execute_input": "2025-09-06T06:10:57.447819Z",
     "iopub.status.busy": "2025-09-06T06:10:57.447704Z",
     "iopub.status.idle": "2025-09-06T06:10:57.459136Z",
     "shell.execute_reply": "2025-09-06T06:10:57.458572Z",
     "shell.execute_reply.started": "2025-09-06T06:10:57.447807Z"
    }
   },
   "outputs": [
    {
     "name": "stdout",
     "output_type": "stream",
     "text": [
      "[0.23727223 0.10678558 1.3960497 ]\n",
      "0.2586379051208496\n"
     ]
    }
   ],
   "source": [
    "# weighted sum\n",
    "wx_b1 = neural1(inp)\n",
    "wx_b2 = neural2(wx_b1)\n",
    "print(wx_b1.data.cpu().numpy())\n",
    "print(wx_b2.item())"
   ]
  },
  {
   "cell_type": "code",
   "execution_count": 11,
   "id": "7b49c0ef-55fc-453c-ba05-9e4c9e414932",
   "metadata": {
    "execution": {
     "iopub.execute_input": "2025-09-06T06:10:57.459610Z",
     "iopub.status.busy": "2025-09-06T06:10:57.459495Z",
     "iopub.status.idle": "2025-09-06T06:10:57.465252Z",
     "shell.execute_reply": "2025-09-06T06:10:57.464733Z",
     "shell.execute_reply.started": "2025-09-06T06:10:57.459598Z"
    }
   },
   "outputs": [
    {
     "data": {
      "text/plain": [
       "0.5643014311790466"
      ]
     },
     "execution_count": 11,
     "metadata": {},
     "output_type": "execute_result"
    }
   ],
   "source": [
    "# activation function\n",
    "out = torch.sigmoid(wx_b2)\n",
    "out.item()"
   ]
  },
  {
   "cell_type": "markdown",
   "id": "f36d372d-9e6d-43ec-a335-d215c73072ce",
   "metadata": {},
   "source": [
    "# Activation Functions\n",
    "- 비선형이 없으면 아무리 깊어도 전체가 하나의 선형변환과 같음.\n",
    "- 비선형이 들어가야 XOR 같은 비선형 패턴·복잡한 결정 경계를 학습할 수 있음"
   ]
  },
  {
   "cell_type": "code",
   "execution_count": 12,
   "id": "a90366bd-8cf3-403f-81e6-d9291ad861e7",
   "metadata": {
    "execution": {
     "iopub.execute_input": "2025-09-06T06:10:57.465719Z",
     "iopub.status.busy": "2025-09-06T06:10:57.465600Z",
     "iopub.status.idle": "2025-09-06T06:10:57.473470Z",
     "shell.execute_reply": "2025-09-06T06:10:57.472988Z",
     "shell.execute_reply.started": "2025-09-06T06:10:57.465707Z"
    }
   },
   "outputs": [],
   "source": [
    "x_vals = torch.linspace(-6, 6, 100) # Input values for plotting"
   ]
  },
  {
   "cell_type": "code",
   "execution_count": 13,
   "id": "19ac8db9-3acf-43e3-b13a-027523aeca47",
   "metadata": {
    "execution": {
     "iopub.execute_input": "2025-09-06T06:10:57.473951Z",
     "iopub.status.busy": "2025-09-06T06:10:57.473837Z",
     "iopub.status.idle": "2025-09-06T06:10:57.484027Z",
     "shell.execute_reply": "2025-09-06T06:10:57.483481Z",
     "shell.execute_reply.started": "2025-09-06T06:10:57.473939Z"
    }
   },
   "outputs": [
    {
     "data": {
      "text/plain": [
       "(array([-6.  , -5.88, -5.76, -5.64, -5.52, -5.39, -5.27, -5.15, -5.03,\n",
       "        -4.91, -4.79, -4.67, -4.55, -4.42, -4.3 , -4.18, -4.06, -3.94,\n",
       "        -3.82, -3.7 , -3.58, -3.45, -3.33, -3.21, -3.09, -2.97, -2.85,\n",
       "        -2.73, -2.61, -2.48, -2.36, -2.24, -2.12, -2.  , -1.88, -1.76,\n",
       "        -1.64, -1.52, -1.39, -1.27, -1.15, -1.03, -0.91, -0.79, -0.67,\n",
       "        -0.55, -0.42, -0.3 , -0.18, -0.06,  0.06,  0.18,  0.3 ,  0.42,\n",
       "         0.55,  0.67,  0.79,  0.91,  1.03,  1.15,  1.27,  1.39,  1.52,\n",
       "         1.64,  1.76,  1.88,  2.  ,  2.12,  2.24,  2.36,  2.48,  2.61,\n",
       "         2.73,  2.85,  2.97,  3.09,  3.21,  3.33,  3.45,  3.58,  3.7 ,\n",
       "         3.82,  3.94,  4.06,  4.18,  4.3 ,  4.42,  4.55,  4.67,  4.79,\n",
       "         4.91,  5.03,  5.15,  5.27,  5.39,  5.52,  5.64,  5.76,  5.88,\n",
       "         6.  ], dtype=float32),\n",
       " 100)"
      ]
     },
     "execution_count": 13,
     "metadata": {},
     "output_type": "execute_result"
    }
   ],
   "source": [
    "x_vals.numpy().round(2), len(x_vals)"
   ]
  },
  {
   "cell_type": "code",
   "execution_count": 14,
   "id": "8f631778-802d-4de9-baf6-f1e2d3a6a667",
   "metadata": {
    "execution": {
     "iopub.execute_input": "2025-09-06T06:10:57.484483Z",
     "iopub.status.busy": "2025-09-06T06:10:57.484369Z",
     "iopub.status.idle": "2025-09-06T06:10:57.493489Z",
     "shell.execute_reply": "2025-09-06T06:10:57.492878Z",
     "shell.execute_reply.started": "2025-09-06T06:10:57.484471Z"
    }
   },
   "outputs": [
    {
     "data": {
      "text/plain": [
       "array([0.00247262, 0.00279037, 0.00314881, 0.00355314, 0.00400918,\n",
       "       0.00452348, 0.00510342, 0.00575729, 0.00649438, 0.00732514,\n",
       "       0.00826129, 0.00931596, 0.01050385, 0.01184139, 0.01334696,\n",
       "       0.01504103, 0.01694644, 0.01908854, 0.0214955 , 0.02419848,\n",
       "       0.02723188, 0.03063359, 0.0344452 , 0.03871213, 0.04348381,\n",
       "       0.04881379, 0.0547597 , 0.06138312, 0.06874939, 0.07692721,\n",
       "       0.08598798, 0.09600496, 0.10705215, 0.11920293, 0.13252817,\n",
       "       0.14709423, 0.16296048, 0.18017662, 0.19877961, 0.21879077,\n",
       "       0.24021249, 0.2630254 , 0.28718594, 0.31262437, 0.33924365,\n",
       "       0.36691964, 0.39550206, 0.4248169 , 0.4546703 , 0.48485318,\n",
       "       0.51514685, 0.5453297 , 0.5751831 , 0.6044979 , 0.6330803 ,\n",
       "       0.6607563 , 0.68737566, 0.71281403, 0.73697466, 0.7597875 ,\n",
       "       0.7812093 , 0.80122036, 0.8198233 , 0.8370395 , 0.85290575,\n",
       "       0.8674718 , 0.880797  , 0.8929478 , 0.903995  , 0.9140121 ,\n",
       "       0.9230728 , 0.93125063, 0.93861693, 0.9452403 , 0.9511862 ,\n",
       "       0.9565162 , 0.9612878 , 0.96555483, 0.96936643, 0.9727682 ,\n",
       "       0.9758016 , 0.97850454, 0.9809115 , 0.9830535 , 0.984959  ,\n",
       "       0.98665303, 0.98815864, 0.9894962 , 0.99068403, 0.99173874,\n",
       "       0.9926749 , 0.9935056 , 0.9942427 , 0.9948966 , 0.99547654,\n",
       "       0.9959908 , 0.9964469 , 0.99685115, 0.9972096 , 0.9975274 ],\n",
       "      dtype=float32)"
      ]
     },
     "execution_count": 14,
     "metadata": {},
     "output_type": "execute_result"
    }
   ],
   "source": [
    "# Sigmoid\n",
    "sigmoid_fn = nn.Sigmoid()\n",
    "y_sigmoid = sigmoid_fn(x_vals)\n",
    "y_sigmoid.numpy()"
   ]
  },
  {
   "cell_type": "code",
   "execution_count": 15,
   "id": "c25a8266-a4fb-4798-8101-808fc51d22b5",
   "metadata": {
    "execution": {
     "iopub.execute_input": "2025-09-06T06:10:57.494169Z",
     "iopub.status.busy": "2025-09-06T06:10:57.493997Z",
     "iopub.status.idle": "2025-09-06T06:10:57.505192Z",
     "shell.execute_reply": "2025-09-06T06:10:57.504567Z",
     "shell.execute_reply.started": "2025-09-06T06:10:57.494150Z"
    }
   },
   "outputs": [
    {
     "data": {
      "text/plain": [
       "tensor([-1.0000, -1.0000, -1.0000, -1.0000, -1.0000, -1.0000, -0.9999, -0.9999,\n",
       "        -0.9999, -0.9999, -0.9999, -0.9998, -0.9998, -0.9997, -0.9996, -0.9995,\n",
       "        -0.9994, -0.9992, -0.9990, -0.9988, -0.9984, -0.9980, -0.9975, -0.9968,\n",
       "        -0.9959, -0.9947, -0.9933, -0.9915, -0.9892, -0.9862, -0.9825, -0.9777,\n",
       "        -0.9717, -0.9640, -0.9544, -0.9422, -0.9270, -0.9078, -0.8840, -0.8545,\n",
       "        -0.8183, -0.7740, -0.7207, -0.6572, -0.5828, -0.4971, -0.4005, -0.2941,\n",
       "        -0.1798, -0.0605,  0.0605,  0.1798,  0.2941,  0.4005,  0.4971,  0.5828,\n",
       "         0.6572,  0.7207,  0.7740,  0.8183,  0.8545,  0.8840,  0.9078,  0.9270,\n",
       "         0.9422,  0.9544,  0.9640,  0.9717,  0.9777,  0.9825,  0.9862,  0.9892,\n",
       "         0.9915,  0.9933,  0.9947,  0.9959,  0.9968,  0.9975,  0.9980,  0.9984,\n",
       "         0.9988,  0.9990,  0.9992,  0.9994,  0.9995,  0.9996,  0.9997,  0.9998,\n",
       "         0.9998,  0.9999,  0.9999,  0.9999,  0.9999,  0.9999,  1.0000,  1.0000,\n",
       "         1.0000,  1.0000,  1.0000,  1.0000])"
      ]
     },
     "execution_count": 15,
     "metadata": {},
     "output_type": "execute_result"
    }
   ],
   "source": [
    "# Tanh\n",
    "tanh_fn = nn.Tanh()\n",
    "y_tanh = tanh_fn(x_vals)\n",
    "y_tanh"
   ]
  },
  {
   "cell_type": "code",
   "execution_count": 16,
   "id": "36c13b92-5b71-420d-9fc4-5283ba144599",
   "metadata": {
    "execution": {
     "iopub.execute_input": "2025-09-06T06:10:57.505769Z",
     "iopub.status.busy": "2025-09-06T06:10:57.505594Z",
     "iopub.status.idle": "2025-09-06T06:10:57.512563Z",
     "shell.execute_reply": "2025-09-06T06:10:57.511952Z",
     "shell.execute_reply.started": "2025-09-06T06:10:57.505751Z"
    }
   },
   "outputs": [
    {
     "data": {
      "text/plain": [
       "tensor([0.0000, 0.0000, 0.0000, 0.0000, 0.0000, 0.0000, 0.0000, 0.0000, 0.0000,\n",
       "        0.0000, 0.0000, 0.0000, 0.0000, 0.0000, 0.0000, 0.0000, 0.0000, 0.0000,\n",
       "        0.0000, 0.0000, 0.0000, 0.0000, 0.0000, 0.0000, 0.0000, 0.0000, 0.0000,\n",
       "        0.0000, 0.0000, 0.0000, 0.0000, 0.0000, 0.0000, 0.0000, 0.0000, 0.0000,\n",
       "        0.0000, 0.0000, 0.0000, 0.0000, 0.0000, 0.0000, 0.0000, 0.0000, 0.0000,\n",
       "        0.0000, 0.0000, 0.0000, 0.0000, 0.0000, 0.0606, 0.1818, 0.3030, 0.4242,\n",
       "        0.5455, 0.6667, 0.7879, 0.9091, 1.0303, 1.1515, 1.2727, 1.3939, 1.5152,\n",
       "        1.6364, 1.7576, 1.8788, 2.0000, 2.1212, 2.2424, 2.3636, 2.4848, 2.6061,\n",
       "        2.7273, 2.8485, 2.9697, 3.0909, 3.2121, 3.3333, 3.4545, 3.5758, 3.6970,\n",
       "        3.8182, 3.9394, 4.0606, 4.1818, 4.3030, 4.4242, 4.5455, 4.6667, 4.7879,\n",
       "        4.9091, 5.0303, 5.1515, 5.2727, 5.3939, 5.5152, 5.6364, 5.7576, 5.8788,\n",
       "        6.0000])"
      ]
     },
     "execution_count": 16,
     "metadata": {},
     "output_type": "execute_result"
    }
   ],
   "source": [
    "# ReLU\n",
    "relu_fn = nn.ReLU()\n",
    "y_relu = relu_fn(x_vals)\n",
    "y_relu"
   ]
  },
  {
   "cell_type": "code",
   "execution_count": 17,
   "id": "36a8e17b-c451-4dae-8fda-1d4ef916b81a",
   "metadata": {
    "execution": {
     "iopub.execute_input": "2025-09-06T06:10:57.513247Z",
     "iopub.status.busy": "2025-09-06T06:10:57.513076Z",
     "iopub.status.idle": "2025-09-06T06:10:57.521657Z",
     "shell.execute_reply": "2025-09-06T06:10:57.521036Z",
     "shell.execute_reply.started": "2025-09-06T06:10:57.513228Z"
    }
   },
   "outputs": [
    {
     "data": {
      "text/plain": [
       "tensor([-0.6000, -0.5879, -0.5758, -0.5636, -0.5515, -0.5394, -0.5273, -0.5152,\n",
       "        -0.5030, -0.4909, -0.4788, -0.4667, -0.4545, -0.4424, -0.4303, -0.4182,\n",
       "        -0.4061, -0.3939, -0.3818, -0.3697, -0.3576, -0.3455, -0.3333, -0.3212,\n",
       "        -0.3091, -0.2970, -0.2848, -0.2727, -0.2606, -0.2485, -0.2364, -0.2242,\n",
       "        -0.2121, -0.2000, -0.1879, -0.1758, -0.1636, -0.1515, -0.1394, -0.1273,\n",
       "        -0.1152, -0.1030, -0.0909, -0.0788, -0.0667, -0.0545, -0.0424, -0.0303,\n",
       "        -0.0182, -0.0061,  0.0606,  0.1818,  0.3030,  0.4242,  0.5455,  0.6667,\n",
       "         0.7879,  0.9091,  1.0303,  1.1515,  1.2727,  1.3939,  1.5152,  1.6364,\n",
       "         1.7576,  1.8788,  2.0000,  2.1212,  2.2424,  2.3636,  2.4848,  2.6061,\n",
       "         2.7273,  2.8485,  2.9697,  3.0909,  3.2121,  3.3333,  3.4545,  3.5758,\n",
       "         3.6970,  3.8182,  3.9394,  4.0606,  4.1818,  4.3030,  4.4242,  4.5455,\n",
       "         4.6667,  4.7879,  4.9091,  5.0303,  5.1515,  5.2727,  5.3939,  5.5152,\n",
       "         5.6364,  5.7576,  5.8788,  6.0000])"
      ]
     },
     "execution_count": 17,
     "metadata": {},
     "output_type": "execute_result"
    }
   ],
   "source": [
    "# Leaky ReLU\n",
    "leaky_relu_fn = nn.LeakyReLU(negative_slope=0.1)\n",
    "y_leaky_relu = leaky_relu_fn(x_vals)\n",
    "y_leaky_relu"
   ]
  },
  {
   "cell_type": "code",
   "execution_count": 18,
   "id": "f341d170-fc84-46ed-9e56-db0ef10cb63c",
   "metadata": {
    "execution": {
     "iopub.execute_input": "2025-09-06T06:10:57.522376Z",
     "iopub.status.busy": "2025-09-06T06:10:57.522186Z",
     "iopub.status.idle": "2025-09-06T06:10:57.530101Z",
     "shell.execute_reply": "2025-09-06T06:10:57.529666Z",
     "shell.execute_reply.started": "2025-09-06T06:10:57.522353Z"
    }
   },
   "outputs": [
    {
     "name": "stdout",
     "output_type": "stream",
     "text": [
      "tensor([[0.2537, 0.0566, 0.6897],\n",
      "        [0.2780, 0.4147, 0.3072]])\n",
      "tensor(1.0000)\n",
      "tensor(1.)\n"
     ]
    }
   ],
   "source": [
    "# Softmax (applied to a sample batch of logits)\n",
    "softmax_fn = nn.Softmax(dim=1)\n",
    "sample_logits = torch.tensor([[1.0, -0.5, 2.0], [0.1, 0.5, 0.2]]) # Batch of 2, 3 classes\n",
    "y_softmax = softmax_fn(sample_logits)\n",
    "print(y_softmax)\n",
    "print(y_softmax[0,:].sum())\n",
    "print(y_softmax[1,:].sum())"
   ]
  },
  {
   "cell_type": "code",
   "execution_count": 19,
   "id": "188e8a73-8f59-4ea3-b4ff-2c7438866332",
   "metadata": {
    "execution": {
     "iopub.execute_input": "2025-09-06T06:10:57.530776Z",
     "iopub.status.busy": "2025-09-06T06:10:57.530575Z",
     "iopub.status.idle": "2025-09-06T06:10:57.950992Z",
     "shell.execute_reply": "2025-09-06T06:10:57.950488Z",
     "shell.execute_reply.started": "2025-09-06T06:10:57.530756Z"
    }
   },
   "outputs": [
    {
     "data": {
      "image/png": "[encoded data removed]",
      "text/plain": [
       "<Figure size 1000x600 with 4 Axes>"
      ]
     },
     "metadata": {},
     "output_type": "display_data"
    }
   ],
   "source": [
    "# Plotting\n",
    "plt.figure(figsize=(10, 6))\n",
    "\n",
    "plt.subplot(2, 2, 1)\n",
    "plt.plot(x_vals.numpy(), y_sigmoid.numpy(), label='Sigmoid')\n",
    "plt.title('Sigmoid: 1 / (1 + exp(-x))')\n",
    "plt.xlabel('x'); plt.ylabel('f(x)'); plt.grid(True); plt.legend()\n",
    "\n",
    "plt.subplot(2, 2, 2)\n",
    "plt.plot(x_vals.numpy(), y_tanh.numpy(), label='Tanh')\n",
    "plt.title('Tanh: (exp(x) - exp(-x)) / (exp(x) + exp(-x))')\n",
    "plt.xlabel('x'); plt.ylabel('f(x)'); plt.grid(True); plt.legend()\n",
    "\n",
    "plt.subplot(2, 2, 3)\n",
    "plt.plot(x_vals.numpy(), y_relu.numpy(), label='ReLU')\n",
    "plt.title('ReLU: max(0, x)')\n",
    "plt.xlabel('x'); plt.ylabel('f(x)'); plt.grid(True); plt.legend()\n",
    "\n",
    "plt.subplot(2, 2, 4)\n",
    "plt.plot(x_vals.numpy(), y_leaky_relu.numpy(), label='Leaky ReLU (slope=0.1)')\n",
    "plt.title('Leaky ReLU: max(0.1*x, x)')\n",
    "plt.xlabel('x'); plt.ylabel('f(x)'); plt.grid(True); plt.legend()\n",
    "\n",
    "plt.tight_layout()\n",
    "plt.show()\n",
    "plt.close()"
   ]
  },
  {
   "cell_type": "markdown",
   "id": "edc382b4-5364-4942-85ef-ba2023aca2c6",
   "metadata": {},
   "source": [
    "# Multi-Layer Perceptrons (MLP) - Deep Neural Network"
   ]
  },
  {
   "cell_type": "code",
   "execution_count": 20,
   "id": "eda4e2e7-f9c1-4719-995f-616d479f0872",
   "metadata": {
    "execution": {
     "iopub.execute_input": "2025-09-06T06:10:57.951499Z",
     "iopub.status.busy": "2025-09-06T06:10:57.951377Z",
     "iopub.status.idle": "2025-09-06T06:10:57.955449Z",
     "shell.execute_reply": "2025-09-06T06:10:57.954999Z",
     "shell.execute_reply.started": "2025-09-06T06:10:57.951485Z"
    }
   },
   "outputs": [],
   "source": [
    "class SimpleMLP(nn.Module):\n",
    "    def __init__(self, input_size, hidden_size, num_classes):\n",
    "        # nn.Module을 초기화 (파이토치의 모든 모델은 이걸 상속)\n",
    "        super(SimpleMLP, self).__init__()\n",
    "\n",
    "        # 완전연결(선형) 층 1: 입력 특징(input_size) -> 은닉 특징(hidden_size)\n",
    "        # 예) 784(28x28 이미지) -> 128\n",
    "        self.fc1 = nn.Linear(input_size, hidden_size)\n",
    "\n",
    "        # ReLU 활성화: 음수는 0으로, 양수는 그대로 통과 (학습을 돕는 비선형 함수)\n",
    "        self.relu1 = nn.ReLU()\n",
    "\n",
    "        # 완전연결 층 2: hidden_size -> hidden_size\n",
    "        # (두 번째 은닉층, 차원을 그대로 유지하는 설정)\n",
    "        self.fc2 = nn.Linear(hidden_size, hidden_size)\n",
    "\n",
    "        # 두 번째 ReLU\n",
    "        self.relu2 = nn.ReLU()\n",
    "\n",
    "        # 출력층: hidden_size -> num_classes\n",
    "        # 분류 문제라면 클래스 수만큼 로짓(logits)을 뽑아냄\n",
    "        self.fc3 = nn.Linear(hidden_size, num_classes)\n",
    "\n",
    "    def forward(self, x):\n",
    "        # x: 입력 텐서, 모양은 [batch_size, input_size]\n",
    "        # 예) 배치 크기 32, 입력 784라면 [32, 784]\n",
    "\n",
    "        out = self.fc1(x)     # [batch_size, hidden_size]\n",
    "        out = self.relu1(out) # 비선형 통과\n",
    "\n",
    "        out = self.fc2(out)   # [batch_size, hidden_size]\n",
    "        out = self.relu2(out) # 비선형 통과\n",
    "\n",
    "        out = self.fc3(out)   # [batch_size, num_classes] (각 클래스의 점수=로짓)\n",
    "        \n",
    "        return out            # 주의: 보통 분류 손실(CrossEntropyLoss)은 softmax 없이 '로짓'을 그대로 받습니다.\n"
   ]
  },
  {
   "cell_type": "code",
   "execution_count": 21,
   "id": "b0f81fa7-d2df-4181-8fd9-a21e4511fe70",
   "metadata": {
    "execution": {
     "iopub.execute_input": "2025-09-06T06:10:57.957550Z",
     "iopub.status.busy": "2025-09-06T06:10:57.957429Z",
     "iopub.status.idle": "2025-09-06T06:10:57.965167Z",
     "shell.execute_reply": "2025-09-06T06:10:57.964655Z",
     "shell.execute_reply.started": "2025-09-06T06:10:57.957538Z"
    }
   },
   "outputs": [],
   "source": [
    "input_dim = 100  # 입력 특성(피처) 차원\n",
    "hidden_dim = 64  # 은닉층 차원\n",
    "output_dim = 5   # 분류할 클래스 개수"
   ]
  },
  {
   "cell_type": "code",
   "execution_count": 22,
   "id": "f0075325-bebc-4c20-b0ed-5f845504695c",
   "metadata": {
    "execution": {
     "iopub.execute_input": "2025-09-06T06:10:57.965610Z",
     "iopub.status.busy": "2025-09-06T06:10:57.965499Z",
     "iopub.status.idle": "2025-09-06T06:10:57.975892Z",
     "shell.execute_reply": "2025-09-06T06:10:57.975378Z",
     "shell.execute_reply.started": "2025-09-06T06:10:57.965598Z"
    }
   },
   "outputs": [
    {
     "data": {
      "text/plain": [
       "SimpleMLP(\n",
       "  (fc1): Linear(in_features=100, out_features=64, bias=True)\n",
       "  (relu1): ReLU()\n",
       "  (fc2): Linear(in_features=64, out_features=64, bias=True)\n",
       "  (relu2): ReLU()\n",
       "  (fc3): Linear(in_features=64, out_features=5, bias=True)\n",
       ")"
      ]
     },
     "execution_count": 22,
     "metadata": {},
     "output_type": "execute_result"
    }
   ],
   "source": [
    "model = SimpleMLP(input_dim, hidden_dim, output_dim).to(device)\n",
    "model"
   ]
  },
  {
   "cell_type": "code",
   "execution_count": 23,
   "id": "a61210d5-ee45-41f6-8fb9-313d2bf2803c",
   "metadata": {
    "execution": {
     "iopub.execute_input": "2025-09-06T06:10:57.976297Z",
     "iopub.status.busy": "2025-09-06T06:10:57.976186Z",
     "iopub.status.idle": "2025-09-06T06:10:57.983763Z",
     "shell.execute_reply": "2025-09-06T06:10:57.983332Z",
     "shell.execute_reply.started": "2025-09-06T06:10:57.976283Z"
    }
   },
   "outputs": [
    {
     "data": {
      "text/plain": [
       "10949"
      ]
     },
     "execution_count": 23,
     "metadata": {},
     "output_type": "execute_result"
    }
   ],
   "source": [
    "sum(p.numel() for p in model.parameters() if p.requires_grad)"
   ]
  },
  {
   "cell_type": "code",
   "execution_count": 24,
   "id": "71ab99e1-5441-4aef-bc35-a47cb4c86510",
   "metadata": {
    "execution": {
     "iopub.execute_input": "2025-09-06T06:10:57.984190Z",
     "iopub.status.busy": "2025-09-06T06:10:57.984081Z",
     "iopub.status.idle": "2025-09-06T06:10:57.993070Z",
     "shell.execute_reply": "2025-09-06T06:10:57.992655Z",
     "shell.execute_reply.started": "2025-09-06T06:10:57.984178Z"
    }
   },
   "outputs": [
    {
     "data": {
      "text/plain": [
       "torch.Size([4, 100])"
      ]
     },
     "execution_count": 24,
     "metadata": {},
     "output_type": "execute_result"
    }
   ],
   "source": [
    "batch_size = 4\n",
    "dummy_input = torch.randn(batch_size, input_dim).to(device) # [batch_size, input_features]\n",
    "dummy_input.shape"
   ]
  },
  {
   "cell_type": "code",
   "execution_count": 25,
   "id": "82b99519-b41b-46de-b9ef-17bc639de163",
   "metadata": {
    "execution": {
     "iopub.execute_input": "2025-09-06T06:10:57.993464Z",
     "iopub.status.busy": "2025-09-06T06:10:57.993356Z",
     "iopub.status.idle": "2025-09-06T06:10:58.018130Z",
     "shell.execute_reply": "2025-09-06T06:10:58.017592Z",
     "shell.execute_reply.started": "2025-09-06T06:10:57.993452Z"
    }
   },
   "outputs": [],
   "source": [
    "with torch.no_grad(): # 예측시 기울기(gradient) 계산이 필요 없습니다\n",
    "    predictions = model(dummy_input)"
   ]
  },
  {
   "cell_type": "code",
   "execution_count": 26,
   "id": "9818d5e4-b938-4a81-9b3b-7fdc5be217ba",
   "metadata": {
    "execution": {
     "iopub.execute_input": "2025-09-06T06:10:58.018657Z",
     "iopub.status.busy": "2025-09-06T06:10:58.018532Z",
     "iopub.status.idle": "2025-09-06T06:10:58.021676Z",
     "shell.execute_reply": "2025-09-06T06:10:58.021232Z",
     "shell.execute_reply.started": "2025-09-06T06:10:58.018638Z"
    }
   },
   "outputs": [
    {
     "name": "stdout",
     "output_type": "stream",
     "text": [
      "torch.Size([4, 5])\n",
      "[ 0.05706349 -0.11710092 -0.17206922  0.1313279   0.00155698]\n"
     ]
    }
   ],
   "source": [
    "print(predictions.shape)\n",
    "print(predictions[0].cpu().numpy())"
   ]
  },
  {
   "cell_type": "markdown",
   "id": "195f547c-6a5d-41a0-93e4-6c6e666ea10e",
   "metadata": {},
   "source": [
    "# Loss Functions\n",
    "- 학습을 하기 위해 모델의 error를 계산"
   ]
  },
  {
   "cell_type": "markdown",
   "id": "d935b640-a8c5-413f-bc86-7bf77483ab20",
   "metadata": {},
   "source": [
    "## Mean Squard Error"
   ]
  },
  {
   "cell_type": "code",
   "execution_count": 27,
   "id": "5dfa7007-120f-475b-8f08-a941b2e7a422",
   "metadata": {
    "execution": {
     "iopub.execute_input": "2025-09-06T06:10:58.022110Z",
     "iopub.status.busy": "2025-09-06T06:10:58.022000Z",
     "iopub.status.idle": "2025-09-06T06:10:58.030236Z",
     "shell.execute_reply": "2025-09-06T06:10:58.029809Z",
     "shell.execute_reply.started": "2025-09-06T06:10:58.022098Z"
    }
   },
   "outputs": [],
   "source": [
    "# For Regression\n",
    "loss_mse_fn = nn.MSELoss()"
   ]
  },
  {
   "cell_type": "code",
   "execution_count": 28,
   "id": "60818a08-2d4b-4fdc-87a0-b1ef1db7da75",
   "metadata": {
    "execution": {
     "iopub.execute_input": "2025-09-06T06:10:58.030638Z",
     "iopub.status.busy": "2025-09-06T06:10:58.030528Z",
     "iopub.status.idle": "2025-09-06T06:10:58.039388Z",
     "shell.execute_reply": "2025-09-06T06:10:58.038968Z",
     "shell.execute_reply.started": "2025-09-06T06:10:58.030626Z"
    }
   },
   "outputs": [],
   "source": [
    "predictions_reg = torch.tensor([1.0, 2.5, 3.8], device=device) # 모델을 히용하여 Forward 연산을 한 결과 outputs\n",
    "targets_reg = torch.tensor([1.2, 2.3, 4.0], device=device)     # 학습을 위해 입력으로 넣어준 Label. 즉 정답."
   ]
  },
  {
   "cell_type": "code",
   "execution_count": 29,
   "id": "4e3d6d2d-6374-4f48-9bdd-09661e791c02",
   "metadata": {
    "execution": {
     "iopub.execute_input": "2025-09-06T06:10:58.039782Z",
     "iopub.status.busy": "2025-09-06T06:10:58.039673Z",
     "iopub.status.idle": "2025-09-06T06:10:58.068134Z",
     "shell.execute_reply": "2025-09-06T06:10:58.067658Z",
     "shell.execute_reply.started": "2025-09-06T06:10:58.039770Z"
    }
   },
   "outputs": [
    {
     "data": {
      "text/plain": [
       "0.04000001773238182"
      ]
     },
     "execution_count": 29,
     "metadata": {},
     "output_type": "execute_result"
    }
   ],
   "source": [
    "mse = loss_mse_fn(predictions_reg, targets_reg)\n",
    "mse.item()"
   ]
  },
  {
   "cell_type": "markdown",
   "id": "ed1d7932-bf4d-4a4b-85fc-67c273244f0e",
   "metadata": {},
   "source": [
    "## Cross-Entropy"
   ]
  },
  {
   "cell_type": "code",
   "execution_count": 30,
   "id": "0cd1d62b-dbf5-4cd7-8ddc-fa5446751fcb",
   "metadata": {
    "execution": {
     "iopub.execute_input": "2025-09-06T06:10:58.068626Z",
     "iopub.status.busy": "2025-09-06T06:10:58.068507Z",
     "iopub.status.idle": "2025-09-06T06:10:58.070864Z",
     "shell.execute_reply": "2025-09-06T06:10:58.070426Z",
     "shell.execute_reply.started": "2025-09-06T06:10:58.068614Z"
    }
   },
   "outputs": [],
   "source": [
    "# For Multi-class Classification\n",
    "loss_ce_fn = nn.CrossEntropyLoss()"
   ]
  },
  {
   "cell_type": "code",
   "execution_count": 31,
   "id": "c47a2703-3c8d-4813-890d-44a5c3220a1b",
   "metadata": {
    "execution": {
     "iopub.execute_input": "2025-09-06T06:10:58.071298Z",
     "iopub.status.busy": "2025-09-06T06:10:58.071189Z",
     "iopub.status.idle": "2025-09-06T06:10:58.079946Z",
     "shell.execute_reply": "2025-09-06T06:10:58.079516Z",
     "shell.execute_reply.started": "2025-09-06T06:10:58.071286Z"
    }
   },
   "outputs": [],
   "source": [
    "predictions_mc = torch.tensor([[2.0, 0.5, -1.0], [0.1, 1.5, 0.2]], device=device) # 2 samples, 3 classes\n",
    "targets_mc = torch.tensor([0, 1], device=device) # True class indices for each sample"
   ]
  },
  {
   "cell_type": "code",
   "execution_count": 32,
   "id": "d5f67f89-d9ef-42fc-a14a-2047642c603b",
   "metadata": {
    "execution": {
     "iopub.execute_input": "2025-09-06T06:10:58.080371Z",
     "iopub.status.busy": "2025-09-06T06:10:58.080264Z",
     "iopub.status.idle": "2025-09-06T06:10:58.107953Z",
     "shell.execute_reply": "2025-09-06T06:10:58.107481Z",
     "shell.execute_reply.started": "2025-09-06T06:10:58.080359Z"
    }
   },
   "outputs": [
    {
     "data": {
      "text/plain": [
       "0.32972416281700134"
      ]
     },
     "execution_count": 32,
     "metadata": {},
     "output_type": "execute_result"
    }
   ],
   "source": [
    "ce = loss_ce_fn(predictions_mc, targets_mc)\n",
    "ce.item()"
   ]
  },
  {
   "cell_type": "markdown",
   "id": "9bfcebaf-bfcc-4cfb-b9cd-6bf031c7b267",
   "metadata": {},
   "source": [
    "# Binary Cross-Entropy"
   ]
  },
  {
   "cell_type": "code",
   "execution_count": 33,
   "id": "b845a5f9-d1d8-4fae-928d-a8117adda307",
   "metadata": {
    "execution": {
     "iopub.execute_input": "2025-09-06T06:10:58.108434Z",
     "iopub.status.busy": "2025-09-06T06:10:58.108322Z",
     "iopub.status.idle": "2025-09-06T06:10:58.110635Z",
     "shell.execute_reply": "2025-09-06T06:10:58.110212Z",
     "shell.execute_reply.started": "2025-09-06T06:10:58.108422Z"
    }
   },
   "outputs": [],
   "source": [
    "# For Binary Classification\n",
    "loss_bce_logits_fn = nn.BCEWithLogitsLoss()"
   ]
  },
  {
   "cell_type": "code",
   "execution_count": 34,
   "id": "6474423a-d7b1-4cfd-9afc-d0b09771c331",
   "metadata": {
    "execution": {
     "iopub.execute_input": "2025-09-06T06:10:58.111064Z",
     "iopub.status.busy": "2025-09-06T06:10:58.110957Z",
     "iopub.status.idle": "2025-09-06T06:10:58.119658Z",
     "shell.execute_reply": "2025-09-06T06:10:58.119233Z",
     "shell.execute_reply.started": "2025-09-06T06:10:58.111052Z"
    }
   },
   "outputs": [],
   "source": [
    "predictions_bc = torch.tensor([-0.5, 1.5, -2.0, 3.0], device=device).unsqueeze(1) # 4 samples, 1 logit each\n",
    "targets_bc = torch.tensor([0.0, 1.0, 0.0, 1.0], device=device).unsqueeze(1)       # True binary labels (0 or 1)"
   ]
  },
  {
   "cell_type": "code",
   "execution_count": 35,
   "id": "e23f6bb6-959f-4422-85f1-caacf1c82edc",
   "metadata": {
    "execution": {
     "iopub.execute_input": "2025-09-06T06:10:58.120048Z",
     "iopub.status.busy": "2025-09-06T06:10:58.119942Z",
     "iopub.status.idle": "2025-09-06T06:10:58.151127Z",
     "shell.execute_reply": "2025-09-06T06:10:58.150658Z",
     "shell.execute_reply.started": "2025-09-06T06:10:58.120037Z"
    }
   },
   "outputs": [
    {
     "data": {
      "text/plain": [
       "0.21275141835212708"
      ]
     },
     "execution_count": 35,
     "metadata": {},
     "output_type": "execute_result"
    }
   ],
   "source": [
    "bce_wl = loss_bce_logits_fn(predictions_bc, targets_bc)\n",
    "bce_wl.item()"
   ]
  },
  {
   "cell_type": "markdown",
   "id": "bcdd137f-e4c0-4185-9a46-b4fd394d2989",
   "metadata": {},
   "source": [
    "# Optimizers\n",
    "- 학습하는 방법 : 모델 파라미터(W:weight, B:bias)를 학습. loss function 값이 최소화 도로록 만듬."
   ]
  },
  {
   "cell_type": "markdown",
   "id": "03d674f0-a94f-4a98-8e27-4de3f8c32832",
   "metadata": {},
   "source": [
    "## Loading Data"
   ]
  },
  {
   "cell_type": "code",
   "execution_count": 79,
   "id": "a63eddfd-44fa-455d-9566-77f28677a034",
   "metadata": {
    "execution": {
     "iopub.execute_input": "2025-09-06T06:12:10.211775Z",
     "iopub.status.busy": "2025-09-06T06:12:10.211393Z",
     "iopub.status.idle": "2025-09-06T06:12:10.216322Z",
     "shell.execute_reply": "2025-09-06T06:12:10.215508Z",
     "shell.execute_reply.started": "2025-09-06T06:12:10.211745Z"
    }
   },
   "outputs": [],
   "source": [
    "# Create dummy input, target\n",
    "dummy_input = torch.randn(5, 10).to(device)\n",
    "dummy_target = torch.randn(5, 2).to(device)"
   ]
  },
  {
   "cell_type": "code",
   "execution_count": 80,
   "id": "79e7f4ab-e902-45e8-ba5e-65ecf545e7df",
   "metadata": {
    "execution": {
     "iopub.execute_input": "2025-09-06T06:12:10.572143Z",
     "iopub.status.busy": "2025-09-06T06:12:10.571826Z",
     "iopub.status.idle": "2025-09-06T06:12:10.576959Z",
     "shell.execute_reply": "2025-09-06T06:12:10.576265Z",
     "shell.execute_reply.started": "2025-09-06T06:12:10.572117Z"
    }
   },
   "outputs": [
    {
     "data": {
      "text/plain": [
       "(torch.Size([5, 10]), torch.Size([5, 2]))"
      ]
     },
     "execution_count": 80,
     "metadata": {},
     "output_type": "execute_result"
    }
   ],
   "source": [
    "dummy_input.shape, dummy_target.shape"
   ]
  },
  {
   "cell_type": "markdown",
   "id": "402efea2-0c84-4bb0-a9f9-c6941ed32cbc",
   "metadata": {},
   "source": [
    "## Creaate Model"
   ]
  },
  {
   "cell_type": "code",
   "execution_count": 81,
   "id": "eef5c004-8e9c-418d-82bc-a9ce90e45161",
   "metadata": {
    "execution": {
     "iopub.execute_input": "2025-09-06T06:12:10.906905Z",
     "iopub.status.busy": "2025-09-06T06:12:10.906556Z",
     "iopub.status.idle": "2025-09-06T06:12:10.911080Z",
     "shell.execute_reply": "2025-09-06T06:12:10.910307Z",
     "shell.execute_reply.started": "2025-09-06T06:12:10.906878Z"
    }
   },
   "outputs": [],
   "source": [
    "# Create a dummy model for optimizer demonstration\n",
    "dummy_model = nn.Linear(10, 2).to(device) # 10 input features, 2 output features"
   ]
  },
  {
   "cell_type": "markdown",
   "id": "a753d40a-de82-4a50-8911-d5d634b01f0f",
   "metadata": {},
   "source": [
    "## Define Loss Function"
   ]
  },
  {
   "cell_type": "code",
   "execution_count": 82,
   "id": "35bb99fc-04e5-456b-af94-93ab28ee7440",
   "metadata": {
    "execution": {
     "iopub.execute_input": "2025-09-06T06:12:11.203785Z",
     "iopub.status.busy": "2025-09-06T06:12:11.203460Z",
     "iopub.status.idle": "2025-09-06T06:12:11.207246Z",
     "shell.execute_reply": "2025-09-06T06:12:11.206482Z",
     "shell.execute_reply.started": "2025-09-06T06:12:11.203759Z"
    }
   },
   "outputs": [],
   "source": [
    "loss_fn = nn.MSELoss()"
   ]
  },
  {
   "cell_type": "markdown",
   "id": "13b64edc-e277-484b-b94f-7c1292a4ee7b",
   "metadata": {},
   "source": [
    "## Optimizer"
   ]
  },
  {
   "cell_type": "code",
   "execution_count": 89,
   "id": "e096bda4-4371-448a-88e4-fa2c1b3352a1",
   "metadata": {
    "execution": {
     "iopub.execute_input": "2025-09-06T06:12:20.213021Z",
     "iopub.status.busy": "2025-09-06T06:12:20.212701Z",
     "iopub.status.idle": "2025-09-06T06:12:20.216615Z",
     "shell.execute_reply": "2025-09-06T06:12:20.215874Z",
     "shell.execute_reply.started": "2025-09-06T06:12:20.212994Z"
    }
   },
   "outputs": [],
   "source": [
    "# Adam Optimizer\n",
    "optimizer = optim.Adam(dummy_model.parameters(), lr=0.001)"
   ]
  },
  {
   "cell_type": "code",
   "execution_count": 90,
   "id": "164e0110-8541-4f45-b4ba-a209012ddcbe",
   "metadata": {
    "execution": {
     "iopub.execute_input": "2025-09-06T06:12:20.217773Z",
     "iopub.status.busy": "2025-09-06T06:12:20.217527Z",
     "iopub.status.idle": "2025-09-06T06:12:20.237674Z",
     "shell.execute_reply": "2025-09-06T06:12:20.236940Z",
     "shell.execute_reply.started": "2025-09-06T06:12:20.217749Z"
    }
   },
   "outputs": [
    {
     "data": {
      "text/plain": [
       "Parameter containing:\n",
       "tensor([[ 0.4214,  0.2016, -0.4009, -0.0251,  0.0852, -0.0959, -0.0099,  0.2602,\n",
       "         -0.0432,  0.0944],\n",
       "        [-0.3970, -0.0151,  0.0107, -0.0301,  0.1352,  0.2298,  0.0433,  0.0417,\n",
       "          0.0038, -0.0754]], device='cuda:0', requires_grad=True)"
      ]
     },
     "execution_count": 90,
     "metadata": {},
     "output_type": "execute_result"
    }
   ],
   "source": [
    "dummy_model.weight"
   ]
  },
  {
   "cell_type": "code",
   "execution_count": 91,
   "id": "332471b7-9743-4967-bdc0-add23d848049",
   "metadata": {
    "execution": {
     "iopub.execute_input": "2025-09-06T06:12:20.257133Z",
     "iopub.status.busy": "2025-09-06T06:12:20.256902Z",
     "iopub.status.idle": "2025-09-06T06:12:20.262339Z",
     "shell.execute_reply": "2025-09-06T06:12:20.261655Z",
     "shell.execute_reply.started": "2025-09-06T06:12:20.257109Z"
    }
   },
   "outputs": [],
   "source": [
    "# SGD Example Step\n",
    "optimizer.zero_grad()                     # Clear previous gradients\n",
    "outputs = dummy_model(dummy_input)        # Forward pass\n",
    "loss = loss_fn(outputs, dummy_target) # Calculate loss\n",
    "loss.backward()                           # Backward pass (compute gradients)\n",
    "optimizer.step()                          # Update weights"
   ]
  },
  {
   "cell_type": "code",
   "execution_count": 92,
   "id": "c03af6c9-ee49-4141-9c23-bef0f4d492cb",
   "metadata": {
    "execution": {
     "iopub.execute_input": "2025-09-06T06:12:20.395101Z",
     "iopub.status.busy": "2025-09-06T06:12:20.394861Z",
     "iopub.status.idle": "2025-09-06T06:12:20.400947Z",
     "shell.execute_reply": "2025-09-06T06:12:20.400125Z",
     "shell.execute_reply.started": "2025-09-06T06:12:20.395076Z"
    }
   },
   "outputs": [
    {
     "data": {
      "text/plain": [
       "Parameter containing:\n",
       "tensor([[ 0.4224,  0.2026, -0.4019, -0.0241,  0.0842, -0.0969, -0.0109,  0.2612,\n",
       "         -0.0442,  0.0934],\n",
       "        [-0.3960, -0.0141,  0.0117, -0.0291,  0.1362,  0.2288,  0.0423,  0.0407,\n",
       "          0.0048, -0.0744]], device='cuda:0', requires_grad=True)"
      ]
     },
     "execution_count": 92,
     "metadata": {},
     "output_type": "execute_result"
    }
   ],
   "source": [
    "dummy_model.weight"
   ]
  },
  {
   "cell_type": "markdown",
   "id": "6e7efeae-d2ed-4c83-b32f-aabf6f42e474",
   "metadata": {},
   "source": [
    "# Neural Network For XOR Problem"
   ]
  },
  {
   "cell_type": "markdown",
   "id": "1046594e-2373-4167-bcdc-85ec6b87a6b3",
   "metadata": {},
   "source": [
    "## Loading Data"
   ]
  },
  {
   "cell_type": "code",
   "execution_count": 166,
   "id": "68b703ff-a47e-45b3-b08e-04761d2ed478",
   "metadata": {
    "execution": {
     "iopub.execute_input": "2025-09-06T06:37:32.449820Z",
     "iopub.status.busy": "2025-09-06T06:37:32.449462Z",
     "iopub.status.idle": "2025-09-06T06:37:32.456275Z",
     "shell.execute_reply": "2025-09-06T06:37:32.455528Z",
     "shell.execute_reply.started": "2025-09-06T06:37:32.449793Z"
    }
   },
   "outputs": [
    {
     "data": {
      "text/plain": [
       "(torch.Size([4, 2]), torch.Size([4, 1]), torch.float32)"
      ]
     },
     "execution_count": 166,
     "metadata": {},
     "output_type": "execute_result"
    }
   ],
   "source": [
    "X_xor = torch.tensor([[0., 0.], [0., 1.], [1., 0.], [1., 1.]], device=device)\n",
    "y_xor = torch.tensor([[0.], [1.], [1.], [0.]], device=device)\n",
    "X_xor.shape, y_xor.shape, X_xor.dtype"
   ]
  },
  {
   "cell_type": "code",
   "execution_count": 148,
   "id": "9d9c0f84-92e1-4c39-9d74-2e2c24d5e635",
   "metadata": {
    "execution": {
     "iopub.execute_input": "2025-09-06T06:28:50.022577Z",
     "iopub.status.busy": "2025-09-06T06:28:50.022256Z",
     "iopub.status.idle": "2025-09-06T06:28:50.026063Z",
     "shell.execute_reply": "2025-09-06T06:28:50.025320Z",
     "shell.execute_reply.started": "2025-09-06T06:28:50.022550Z"
    }
   },
   "outputs": [],
   "source": [
    "# Create a simple Dataset\n",
    "xor_dataset = TensorDataset(X_xor, y_xor)"
   ]
  },
  {
   "cell_type": "code",
   "execution_count": 149,
   "id": "43bc94c3-cd4e-4bc6-86f9-9275c00a960d",
   "metadata": {
    "execution": {
     "iopub.execute_input": "2025-09-06T06:28:50.158148Z",
     "iopub.status.busy": "2025-09-06T06:28:50.157803Z",
     "iopub.status.idle": "2025-09-06T06:28:50.161716Z",
     "shell.execute_reply": "2025-09-06T06:28:50.160982Z",
     "shell.execute_reply.started": "2025-09-06T06:28:50.158120Z"
    }
   },
   "outputs": [],
   "source": [
    "# Create a simple DataLoader\n",
    "xor_dataloader = DataLoader(xor_dataset, batch_size=4, shuffle=True)"
   ]
  },
  {
   "cell_type": "markdown",
   "id": "f4a897bc-0da0-48bf-989f-b126290fa9fb",
   "metadata": {},
   "source": [
    "## Define The Model"
   ]
  },
  {
   "cell_type": "code",
   "execution_count": 150,
   "id": "bada5443-6e04-4068-b25b-bbabf1bfec71",
   "metadata": {
    "execution": {
     "iopub.execute_input": "2025-09-06T06:28:50.421929Z",
     "iopub.status.busy": "2025-09-06T06:28:50.421572Z",
     "iopub.status.idle": "2025-09-06T06:28:50.427113Z",
     "shell.execute_reply": "2025-09-06T06:28:50.426361Z",
     "shell.execute_reply.started": "2025-09-06T06:28:50.421902Z"
    }
   },
   "outputs": [],
   "source": [
    "class XORNet(nn.Module):\n",
    "    def __init__(self):\n",
    "        super(XORNet, self).__init__()\n",
    "        self.fc1 = nn.Linear(2, 8)      # 2 input features, 8 neurons in hidden layer\n",
    "        self.relu = nn.ReLU()\n",
    "        self.fc2 = nn.Linear(8, 1)      # 8 hidden neurons, 1 output neuron\n",
    "        # Sigmoid will be applied implicitly by BCEWithLogitsLoss or explicitly after if using BCELoss\n",
    "\n",
    "    def forward(self, x):\n",
    "        x = self.fc1(x)\n",
    "        x = self.relu(x)\n",
    "        x = self.fc2(x)\n",
    "        return x # Output raw logits"
   ]
  },
  {
   "cell_type": "code",
   "execution_count": 151,
   "id": "a23fc4a7-db4f-4eb0-839a-a48b2e68fe1c",
   "metadata": {
    "execution": {
     "iopub.execute_input": "2025-09-06T06:28:50.533258Z",
     "iopub.status.busy": "2025-09-06T06:28:50.532939Z",
     "iopub.status.idle": "2025-09-06T06:28:50.538830Z",
     "shell.execute_reply": "2025-09-06T06:28:50.538161Z",
     "shell.execute_reply.started": "2025-09-06T06:28:50.533232Z"
    }
   },
   "outputs": [
    {
     "data": {
      "text/plain": [
       "XORNet(\n",
       "  (fc1): Linear(in_features=2, out_features=8, bias=True)\n",
       "  (relu): ReLU()\n",
       "  (fc2): Linear(in_features=8, out_features=1, bias=True)\n",
       ")"
      ]
     },
     "execution_count": 151,
     "metadata": {},
     "output_type": "execute_result"
    }
   ],
   "source": [
    "xor_model = XORNet().to(device)\n",
    "xor_model"
   ]
  },
  {
   "cell_type": "markdown",
   "id": "73b6403b-70b0-4a37-a7bc-1711e4f02231",
   "metadata": {},
   "source": [
    "## Define Loss Function and Optimizer"
   ]
  },
  {
   "cell_type": "code",
   "execution_count": 152,
   "id": "a9064008-6e18-411e-8688-4232810d4808",
   "metadata": {
    "execution": {
     "iopub.execute_input": "2025-09-06T06:28:50.833445Z",
     "iopub.status.busy": "2025-09-06T06:28:50.833125Z",
     "iopub.status.idle": "2025-09-06T06:28:50.837464Z",
     "shell.execute_reply": "2025-09-06T06:28:50.836767Z",
     "shell.execute_reply.started": "2025-09-06T06:28:50.833419Z"
    }
   },
   "outputs": [],
   "source": [
    "loss_fn = nn.BCEWithLogitsLoss() # Handles sigmoid internally, more stable\n",
    "optimizer = optim.Adam(xor_model.parameters(), lr=0.05) # Adam with a slightly higher LR for faster convergence on XOR"
   ]
  },
  {
   "cell_type": "markdown",
   "id": "1da64816-8cde-487c-a75a-326450b21415",
   "metadata": {},
   "source": [
    "## Learning"
   ]
  },
  {
   "cell_type": "code",
   "execution_count": 153,
   "id": "8e90baeb-23bb-4a67-9ab7-493719363ae3",
   "metadata": {
    "execution": {
     "iopub.execute_input": "2025-09-06T06:28:51.128106Z",
     "iopub.status.busy": "2025-09-06T06:28:51.127781Z",
     "iopub.status.idle": "2025-09-06T06:28:51.131429Z",
     "shell.execute_reply": "2025-09-06T06:28:51.130747Z",
     "shell.execute_reply.started": "2025-09-06T06:28:51.128079Z"
    }
   },
   "outputs": [],
   "source": [
    "num_epochs = 1000"
   ]
  },
  {
   "cell_type": "code",
   "execution_count": 154,
   "id": "8321f9bc-3421-4f49-a095-9a1c3fec64ec",
   "metadata": {
    "execution": {
     "iopub.execute_input": "2025-09-06T06:28:51.256437Z",
     "iopub.status.busy": "2025-09-06T06:28:51.256110Z",
     "iopub.status.idle": "2025-09-06T06:28:52.515278Z",
     "shell.execute_reply": "2025-09-06T06:28:52.514536Z",
     "shell.execute_reply.started": "2025-09-06T06:28:51.256410Z"
    }
   },
   "outputs": [
    {
     "name": "stdout",
     "output_type": "stream",
     "text": [
      "Epoch [100/1000], Loss: 0.0050\n",
      "Epoch [200/1000], Loss: 0.0014\n",
      "Epoch [300/1000], Loss: 0.0007\n",
      "Epoch [400/1000], Loss: 0.0004\n",
      "Epoch [500/1000], Loss: 0.0003\n",
      "Epoch [600/1000], Loss: 0.0002\n",
      "Epoch [700/1000], Loss: 0.0001\n",
      "Epoch [800/1000], Loss: 0.0001\n",
      "Epoch [900/1000], Loss: 0.0001\n",
      "Epoch [1000/1000], Loss: 0.0001\n"
     ]
    }
   ],
   "source": [
    "losses_history = []\n",
    "for epoch in range(num_epochs):\n",
    "    for inputs, labels in xor_dataloader: # Dataloader handles batching\n",
    "        # Inputs and labels are already on `device` if X_xor, y_xor were created on device\n",
    "        \n",
    "        # Forward pass\n",
    "        outputs = xor_model(inputs) # Model outputs raw logits\n",
    "        loss = criterion(outputs, labels)\n",
    "        \n",
    "        # Backward and optimize\n",
    "        optimizer.zero_grad()\n",
    "        loss.backward()\n",
    "        optimizer.step()\n",
    "    \n",
    "    losses_history.append(loss.item())\n",
    "    if (epoch + 1) % 100 == 0:\n",
    "        print(f'Epoch [{epoch+1}/{num_epochs}], Loss: {loss.item():.4f}')"
   ]
  },
  {
   "cell_type": "code",
   "execution_count": 155,
   "id": "e93e8bbf-e550-4217-a748-c3d0366993ef",
   "metadata": {
    "execution": {
     "iopub.execute_input": "2025-09-06T06:28:52.516268Z",
     "iopub.status.busy": "2025-09-06T06:28:52.516083Z",
     "iopub.status.idle": "2025-09-06T06:28:52.598434Z",
     "shell.execute_reply": "2025-09-06T06:28:52.597806Z",
     "shell.execute_reply.started": "2025-09-06T06:28:52.516249Z"
    }
   },
   "outputs": [
    {
     "data": {
      "image/png": "[encoded data removed]",
      "text/plain": [
       "<Figure size 1000x500 with 1 Axes>"
      ]
     },
     "metadata": {},
     "output_type": "display_data"
    }
   ],
   "source": [
    "# Plot training loss\n",
    "plt.figure(figsize=(10, 5))\n",
    "plt.plot(losses_history)\n",
    "plt.title('Training Loss for XOR Problem')\n",
    "plt.xlabel('Epoch')\n",
    "plt.ylabel('BCEWithLogitsLoss')\n",
    "plt.grid(True)\n",
    "plt.show()\n",
    "plt.close()"
   ]
  },
  {
   "cell_type": "markdown",
   "id": "9bcfca8d-ec9d-4414-bd46-dadbe7070395",
   "metadata": {},
   "source": [
    "# Evaluate\n",
    "- logits는 모델이 계산한 정규화 전 점수(원시 점수)"
   ]
  },
  {
   "cell_type": "code",
   "execution_count": 159,
   "id": "d650d232-fc58-47b0-a643-1180a44bed08",
   "metadata": {
    "execution": {
     "iopub.execute_input": "2025-09-06T06:33:05.455123Z",
     "iopub.status.busy": "2025-09-06T06:33:05.454801Z",
     "iopub.status.idle": "2025-09-06T06:33:05.460164Z",
     "shell.execute_reply": "2025-09-06T06:33:05.459437Z",
     "shell.execute_reply.started": "2025-09-06T06:33:05.455096Z"
    }
   },
   "outputs": [
    {
     "data": {
      "text/plain": [
       "XORNet(\n",
       "  (fc1): Linear(in_features=2, out_features=8, bias=True)\n",
       "  (relu): ReLU()\n",
       "  (fc2): Linear(in_features=8, out_features=1, bias=True)\n",
       ")"
      ]
     },
     "execution_count": 159,
     "metadata": {},
     "output_type": "execute_result"
    }
   ],
   "source": [
    "xor_model.eval() # Set model to evaluation mode (important for layers like dropout, batchnorm)"
   ]
  },
  {
   "cell_type": "code",
   "execution_count": 214,
   "id": "d084b009-a7fa-4326-9d01-da7dd795209c",
   "metadata": {
    "execution": {
     "iopub.execute_input": "2025-09-06T06:57:14.530316Z",
     "iopub.status.busy": "2025-09-06T06:57:14.529987Z",
     "iopub.status.idle": "2025-09-06T06:57:14.534812Z",
     "shell.execute_reply": "2025-09-06T06:57:14.534064Z",
     "shell.execute_reply.started": "2025-09-06T06:57:14.530289Z"
    }
   },
   "outputs": [],
   "source": [
    "def predictXOR(data=[1, 0]):\n",
    "    tensor_data = torch.tensor([data], dtype=torch.float32, device=device)\n",
    "    \n",
    "    with torch.no_grad(): # Disable gradient calculations for inference\n",
    "        test_predictions_logits = xor_model(tensor_data)\n",
    "        test_predictions_probs = torch.sigmoid(test_predictions_logits)\n",
    "\n",
    "    return int((test_predictions_probs >= 0.5).item())"
   ]
  },
  {
   "cell_type": "code",
   "execution_count": 216,
   "id": "a20e1202-cbb9-4aec-8e1f-60e93e997f63",
   "metadata": {
    "execution": {
     "iopub.execute_input": "2025-09-06T06:57:18.981397Z",
     "iopub.status.busy": "2025-09-06T06:57:18.981065Z",
     "iopub.status.idle": "2025-09-06T06:57:18.986713Z",
     "shell.execute_reply": "2025-09-06T06:57:18.985969Z",
     "shell.execute_reply.started": "2025-09-06T06:57:18.981369Z"
    }
   },
   "outputs": [
    {
     "data": {
      "text/plain": [
       "1"
      ]
     },
     "execution_count": 216,
     "metadata": {},
     "output_type": "execute_result"
    }
   ],
   "source": [
    "predictXOR([1, 0])"
   ]
  },
  {
   "cell_type": "code",
   "execution_count": null,
   "id": "67cb203a-2037-489e-b738-9b74f8622cb1",
   "metadata": {},
   "outputs": [],
   "source": []
  },
  {
   "cell_type": "code",
   "execution_count": null,
   "id": "b0cfcc35-73fd-46f8-938f-643167e227ac",
   "metadata": {},
   "outputs": [],
   "source": []
  },
  {
   "cell_type": "code",
   "execution_count": null,
   "id": "f84d6d26-d09f-4cc7-bae4-92071b8472d9",
   "metadata": {},
   "outputs": [],
   "source": []
  },
  {
   "cell_type": "code",
   "execution_count": null,
   "id": "c409d1ff-31d9-4c7c-8f9c-734160036ad8",
   "metadata": {},
   "outputs": [],
   "source": []
  }
 ],
 "metadata": {
  "kernelspec": {
   "display_name": "Python 3 (ipykernel)",
   "language": "python",
   "name": "python3"
  },
  "language_info": {
   "codemirror_mode": {
    "name": "ipython",
    "version": 3
   },
   "file_extension": ".py",
   "mimetype": "text/x-python",
   "name": "python",
   "nbconvert_exporter": "python",
   "pygments_lexer": "ipython3",
   "version": "3.10.0"
  }
 },
 "nbformat": 4,
 "nbformat_minor": 5
}
