{
 "cells": [
  {
   "cell_type": "code",
   "execution_count": 1,
   "metadata": {
    "execution": {
     "iopub.execute_input": "2025-09-04T13:43:01.103743Z",
     "iopub.status.busy": "2025-09-04T13:43:01.103523Z",
     "iopub.status.idle": "2025-09-04T13:43:03.228082Z",
     "shell.execute_reply": "2025-09-04T13:43:03.227407Z",
     "shell.execute_reply.started": "2025-09-04T13:43:01.103718Z"
    },
    "id": "siuUDcm7JRvv"
   },
   "outputs": [],
   "source": [
    "import torch\n",
    "import torch.nn as nn\n",
    "import torch.optim as optim\n",
    "import torchvision\n",
    "import matplotlib.pyplot as plt"
   ]
  },
  {
   "cell_type": "code",
   "execution_count": 2,
   "metadata": {
    "execution": {
     "iopub.execute_input": "2025-09-04T13:43:03.228737Z",
     "iopub.status.busy": "2025-09-04T13:43:03.228542Z",
     "iopub.status.idle": "2025-09-04T13:43:03.231238Z",
     "shell.execute_reply": "2025-09-04T13:43:03.230660Z",
     "shell.execute_reply.started": "2025-09-04T13:43:03.228723Z"
    },
    "id": "kSz5y_Q5Jqts"
   },
   "outputs": [],
   "source": [
    "import numpy as np"
   ]
  },
  {
   "cell_type": "markdown",
   "metadata": {
    "id": "NR8E6URZK1X3"
   },
   "source": [
    "# 데이터 로딩"
   ]
  },
  {
   "cell_type": "code",
   "execution_count": 3,
   "metadata": {
    "execution": {
     "iopub.execute_input": "2025-09-04T13:43:03.231622Z",
     "iopub.status.busy": "2025-09-04T13:43:03.231510Z",
     "iopub.status.idle": "2025-09-04T13:43:04.351286Z",
     "shell.execute_reply": "2025-09-04T13:43:04.350596Z",
     "shell.execute_reply.started": "2025-09-04T13:43:03.231610Z"
    },
    "id": "yPGOz6I1JkBj"
   },
   "outputs": [],
   "source": [
    "trainset_raw = torchvision.datasets.CIFAR10(root='./data', train=True, download=True)\n",
    "testset_raw = torchvision.datasets.CIFAR10(root='./data', train=False, download=True)"
   ]
  },
  {
   "cell_type": "code",
   "execution_count": 4,
   "metadata": {
    "execution": {
     "iopub.execute_input": "2025-09-04T13:43:04.352511Z",
     "iopub.status.busy": "2025-09-04T13:43:04.352380Z",
     "iopub.status.idle": "2025-09-04T13:43:04.355741Z",
     "shell.execute_reply": "2025-09-04T13:43:04.355160Z",
     "shell.execute_reply.started": "2025-09-04T13:43:04.352499Z"
    },
    "id": "KGuK-J08Jje-"
   },
   "outputs": [],
   "source": [
    "def preprocess_cifar(dataset):\n",
    "    images = torch.tensor(np.transpose(np.array(dataset.data), (0,3,1,2)), dtype=torch.float32) / 255.0\n",
    "    mean = images.mean([0,2,3], keepdim=True)\n",
    "    std = images.std([0,2,3], keepdim=True)\n",
    "    images = (images - mean) / std\n",
    "    labels = torch.tensor(dataset.targets)\n",
    "    return images, labels"
   ]
  },
  {
   "cell_type": "code",
   "execution_count": 5,
   "metadata": {
    "execution": {
     "iopub.execute_input": "2025-09-04T13:43:04.356207Z",
     "iopub.status.busy": "2025-09-04T13:43:04.356091Z",
     "iopub.status.idle": "2025-09-04T13:43:05.221297Z",
     "shell.execute_reply": "2025-09-04T13:43:05.220676Z",
     "shell.execute_reply.started": "2025-09-04T13:43:04.356195Z"
    },
    "id": "HPwZhoShJu-J"
   },
   "outputs": [],
   "source": [
    "train_images, train_labels = preprocess_cifar(trainset_raw)\n",
    "test_images, test_labels = preprocess_cifar(testset_raw)"
   ]
  },
  {
   "cell_type": "code",
   "execution_count": 6,
   "metadata": {
    "execution": {
     "iopub.execute_input": "2025-09-04T13:43:05.221905Z",
     "iopub.status.busy": "2025-09-04T13:43:05.221778Z",
     "iopub.status.idle": "2025-09-04T13:43:05.224316Z",
     "shell.execute_reply": "2025-09-04T13:43:05.223840Z",
     "shell.execute_reply.started": "2025-09-04T13:43:05.221892Z"
    },
    "id": "7G90t3WUJ1ti"
   },
   "outputs": [],
   "source": [
    "# train/val split\n",
    "train_size = int(0.8 * len(train_images))\n",
    "val_size = len(train_images) - train_size"
   ]
  },
  {
   "cell_type": "code",
   "execution_count": 7,
   "metadata": {
    "execution": {
     "iopub.execute_input": "2025-09-04T13:43:05.224772Z",
     "iopub.status.busy": "2025-09-04T13:43:05.224661Z",
     "iopub.status.idle": "2025-09-04T13:43:05.250562Z",
     "shell.execute_reply": "2025-09-04T13:43:05.250171Z",
     "shell.execute_reply.started": "2025-09-04T13:43:05.224760Z"
    },
    "id": "St3cT6mOJ4ls"
   },
   "outputs": [],
   "source": [
    "train_images, val_images = torch.utils.data.random_split(train_images, [train_size, val_size])\n",
    "train_labels, val_labels = torch.utils.data.random_split(train_labels, [train_size, val_size])"
   ]
  },
  {
   "cell_type": "code",
   "execution_count": 8,
   "metadata": {
    "execution": {
     "iopub.execute_input": "2025-09-04T13:43:05.251039Z",
     "iopub.status.busy": "2025-09-04T13:43:05.250925Z",
     "iopub.status.idle": "2025-09-04T13:43:05.533371Z",
     "shell.execute_reply": "2025-09-04T13:43:05.532767Z",
     "shell.execute_reply.started": "2025-09-04T13:43:05.251027Z"
    },
    "id": "87nqyo9vJ6ne"
   },
   "outputs": [],
   "source": [
    "trainloader = torch.utils.data.DataLoader(list(zip(train_images, train_labels)), batch_size=64, shuffle=True)\n",
    "valloader = torch.utils.data.DataLoader(list(zip(val_images, val_labels)), batch_size=64, shuffle=False)"
   ]
  },
  {
   "cell_type": "markdown",
   "metadata": {
    "id": "rF4qmfruKALK"
   },
   "source": [
    "# 모델 생성"
   ]
  },
  {
   "cell_type": "code",
   "execution_count": 9,
   "metadata": {
    "execution": {
     "iopub.execute_input": "2025-09-04T13:43:05.533919Z",
     "iopub.status.busy": "2025-09-04T13:43:05.533797Z",
     "iopub.status.idle": "2025-09-04T13:43:05.655909Z",
     "shell.execute_reply": "2025-09-04T13:43:05.655293Z",
     "shell.execute_reply.started": "2025-09-04T13:43:05.533906Z"
    },
    "id": "CzKMwfkkJ9dS"
   },
   "outputs": [],
   "source": [
    "device = torch.device(\"cuda\" if torch.cuda.is_available() else \"cpu\")"
   ]
  },
  {
   "cell_type": "code",
   "execution_count": 10,
   "metadata": {
    "execution": {
     "iopub.execute_input": "2025-09-04T13:43:05.656489Z",
     "iopub.status.busy": "2025-09-04T13:43:05.656371Z",
     "iopub.status.idle": "2025-09-04T13:43:05.671097Z",
     "shell.execute_reply": "2025-09-04T13:43:05.670611Z",
     "shell.execute_reply.started": "2025-09-04T13:43:05.656476Z"
    },
    "id": "bXsbsxsCKDje"
   },
   "outputs": [],
   "source": [
    "class CNN(nn.Module):\n",
    "    def __init__(self):\n",
    "        super(CNN, self).__init__()\n",
    "        self.conv1 = nn.Conv2d(3, 32, 3, padding=1)\n",
    "        self.conv2 = nn.Conv2d(32, 64, 3, padding=1)\n",
    "        self.pool = nn.MaxPool2d(2, 2)\n",
    "        self.fc1 = nn.Linear(64 * 8 * 8, 128)\n",
    "        self.fc2 = nn.Linear(128, 10)\n",
    "        self.relu = nn.ReLU()\n",
    "\n",
    "    def forward(self, x):\n",
    "        x = self.pool(self.relu(self.conv1(x)))\n",
    "        x = self.pool(self.relu(self.conv2(x)))\n",
    "        x = x.view(-1, 64 * 8 * 8)\n",
    "        x = self.relu(self.fc1(x))\n",
    "        return self.fc2(x)"
   ]
  },
  {
   "cell_type": "code",
   "execution_count": 14,
   "metadata": {
    "execution": {
     "iopub.execute_input": "2025-09-04T13:43:33.545722Z",
     "iopub.status.busy": "2025-09-04T13:43:33.545466Z",
     "iopub.status.idle": "2025-09-04T13:43:33.568216Z",
     "shell.execute_reply": "2025-09-04T13:43:33.567459Z",
     "shell.execute_reply.started": "2025-09-04T13:43:33.545705Z"
    },
    "id": "dq3C_k0xKH3I"
   },
   "outputs": [],
   "source": [
    "model = CNN().to(device)\n",
    "loss_fn = nn.CrossEntropyLoss()\n",
    "optimizer = optim.Adam(model.parameters(), lr=0.001)"
   ]
  },
  {
   "cell_type": "markdown",
   "metadata": {
    "id": "6yIPonKwKNJH"
   },
   "source": [
    "# 학습"
   ]
  },
  {
   "cell_type": "code",
   "execution_count": 15,
   "metadata": {
    "execution": {
     "iopub.execute_input": "2025-09-04T13:43:34.007269Z",
     "iopub.status.busy": "2025-09-04T13:43:34.007050Z",
     "iopub.status.idle": "2025-09-04T13:43:34.010113Z",
     "shell.execute_reply": "2025-09-04T13:43:34.009402Z",
     "shell.execute_reply.started": "2025-09-04T13:43:34.007255Z"
    },
    "id": "gbBGzdZCKKF4"
   },
   "outputs": [],
   "source": [
    "# 로그 저장용 리스트\n",
    "train_losses, train_accuracies, valid_losses, valid_accuracies = [], [], [], []"
   ]
  },
  {
   "cell_type": "code",
   "execution_count": 16,
   "metadata": {
    "execution": {
     "iopub.execute_input": "2025-09-04T13:43:34.326125Z",
     "iopub.status.busy": "2025-09-04T13:43:34.325807Z",
     "iopub.status.idle": "2025-09-04T13:44:36.427850Z",
     "shell.execute_reply": "2025-09-04T13:44:36.427353Z",
     "shell.execute_reply.started": "2025-09-04T13:43:34.326099Z"
    },
    "id": "fxC7zbLCKRaN"
   },
   "outputs": [
    {
     "name": "stdout",
     "output_type": "stream",
     "text": [
      "Epoch 1/50 : TRAIN[Loss: 2.3035, Acc: 9.71%], VALID[Loss: 2.3028, Acc: 9.60%]\n",
      "Epoch 2/50 : TRAIN[Loss: 2.3029, Acc: 10.06%], VALID[Loss: 2.3029, Acc: 9.77%]\n",
      "Epoch 3/50 : TRAIN[Loss: 2.3028, Acc: 9.76%], VALID[Loss: 2.3028, Acc: 9.76%]\n",
      "Epoch 4/50 : TRAIN[Loss: 2.3029, Acc: 10.04%], VALID[Loss: 2.3028, Acc: 9.65%]\n",
      "Epoch 5/50 : TRAIN[Loss: 2.3028, Acc: 9.90%], VALID[Loss: 2.3027, Acc: 9.61%]\n",
      "Epoch 6/50 : TRAIN[Loss: 2.3027, Acc: 9.82%], VALID[Loss: 2.3033, Acc: 9.79%]\n",
      "Epoch 7/50 : TRAIN[Loss: 2.3027, Acc: 9.94%], VALID[Loss: 2.3028, Acc: 10.19%]\n",
      "Epoch 8/50 : TRAIN[Loss: 2.3027, Acc: 10.02%], VALID[Loss: 2.3029, Acc: 10.33%]\n",
      "Epoch 9/50 : TRAIN[Loss: 2.3025, Acc: 10.22%], VALID[Loss: 2.3034, Acc: 9.98%]\n",
      "Epoch 10/50 : TRAIN[Loss: 2.3025, Acc: 10.29%], VALID[Loss: 2.3033, Acc: 9.94%]\n",
      "Epoch 11/50 : TRAIN[Loss: 2.3020, Acc: 10.46%], VALID[Loss: 2.3052, Acc: 9.72%]\n",
      "Epoch 12/50 : TRAIN[Loss: 2.3001, Acc: 10.82%], VALID[Loss: 2.3041, Acc: 10.10%]\n",
      "Epoch 13/50 : TRAIN[Loss: 2.2942, Acc: 11.85%], VALID[Loss: 2.3101, Acc: 9.69%]\n",
      "Epoch 14/50 : TRAIN[Loss: 2.2779, Acc: 13.71%], VALID[Loss: 2.3242, Acc: 9.75%]\n",
      "Epoch 15/50 : TRAIN[Loss: 2.2456, Acc: 15.73%], VALID[Loss: 2.3490, Acc: 9.85%]\n",
      "Epoch 16/50 : TRAIN[Loss: 2.1947, Acc: 18.98%], VALID[Loss: 2.3970, Acc: 9.76%]\n",
      "Epoch 17/50 : TRAIN[Loss: 2.1286, Acc: 21.76%], VALID[Loss: 2.4606, Acc: 9.85%]\n",
      "Epoch 18/50 : TRAIN[Loss: 2.0452, Acc: 25.56%], VALID[Loss: 2.5313, Acc: 9.99%]\n",
      "Epoch 19/50 : TRAIN[Loss: 1.9487, Acc: 29.81%], VALID[Loss: 2.6669, Acc: 9.79%]\n",
      "Epoch 20/50 : TRAIN[Loss: 1.8405, Acc: 33.92%], VALID[Loss: 2.7998, Acc: 10.04%]\n",
      "Epoch 21/50 : TRAIN[Loss: 1.7295, Acc: 38.45%], VALID[Loss: 2.9738, Acc: 9.97%]\n",
      "Epoch 22/50 : TRAIN[Loss: 1.6168, Acc: 42.99%], VALID[Loss: 3.1639, Acc: 10.03%]\n",
      "Epoch 23/50 : TRAIN[Loss: 1.5111, Acc: 46.77%], VALID[Loss: 3.4076, Acc: 9.99%]\n",
      "Epoch 24/50 : TRAIN[Loss: 1.4131, Acc: 50.54%], VALID[Loss: 3.7282, Acc: 9.84%]\n",
      "Epoch 25/50 : TRAIN[Loss: 1.3216, Acc: 54.07%], VALID[Loss: 3.9186, Acc: 10.26%]\n",
      "Epoch 26/50 : TRAIN[Loss: 1.2393, Acc: 56.95%], VALID[Loss: 4.2773, Acc: 10.57%]\n",
      "Epoch 27/50 : TRAIN[Loss: 1.1673, Acc: 59.72%], VALID[Loss: 4.5134, Acc: 10.20%]\n",
      "Epoch 28/50 : TRAIN[Loss: 1.0954, Acc: 61.91%], VALID[Loss: 4.9220, Acc: 10.29%]\n",
      "Epoch 29/50 : TRAIN[Loss: 1.0341, Acc: 64.41%], VALID[Loss: 5.2835, Acc: 10.49%]\n",
      "Epoch 30/50 : TRAIN[Loss: 0.9785, Acc: 66.04%], VALID[Loss: 5.5285, Acc: 9.93%]\n",
      "Epoch 31/50 : TRAIN[Loss: 0.9294, Acc: 67.94%], VALID[Loss: 6.1055, Acc: 10.25%]\n",
      "Epoch 32/50 : TRAIN[Loss: 0.8858, Acc: 69.36%], VALID[Loss: 6.2548, Acc: 10.53%]\n",
      "Epoch 33/50 : TRAIN[Loss: 0.8443, Acc: 70.63%], VALID[Loss: 6.7201, Acc: 10.30%]\n",
      "Epoch 34/50 : TRAIN[Loss: 0.8023, Acc: 72.09%], VALID[Loss: 7.1174, Acc: 10.10%]\n",
      "Epoch 35/50 : TRAIN[Loss: 0.7763, Acc: 73.07%], VALID[Loss: 7.4634, Acc: 9.92%]\n",
      "Epoch 36/50 : TRAIN[Loss: 0.7551, Acc: 73.66%], VALID[Loss: 7.8244, Acc: 10.13%]\n",
      "Epoch 37/50 : TRAIN[Loss: 0.7153, Acc: 75.19%], VALID[Loss: 8.1649, Acc: 10.50%]\n",
      "Epoch 38/50 : TRAIN[Loss: 0.6859, Acc: 76.31%], VALID[Loss: 8.5280, Acc: 10.65%]\n",
      "Epoch 39/50 : TRAIN[Loss: 0.6694, Acc: 76.72%], VALID[Loss: 8.8320, Acc: 10.49%]\n",
      "Epoch 40/50 : TRAIN[Loss: 0.6583, Acc: 76.97%], VALID[Loss: 9.5719, Acc: 10.41%]\n",
      "Epoch 41/50 : TRAIN[Loss: 0.6206, Acc: 78.26%], VALID[Loss: 9.6138, Acc: 10.29%]\n",
      "Epoch 42/50 : TRAIN[Loss: 0.6083, Acc: 78.70%], VALID[Loss: 10.0769, Acc: 10.29%]\n",
      "Epoch 43/50 : TRAIN[Loss: 0.5859, Acc: 79.69%], VALID[Loss: 10.5427, Acc: 10.44%]\n",
      "Epoch 44/50 : TRAIN[Loss: 0.5863, Acc: 79.60%], VALID[Loss: 10.9380, Acc: 10.23%]\n",
      "Epoch 45/50 : TRAIN[Loss: 0.5825, Acc: 79.49%], VALID[Loss: 10.8699, Acc: 9.99%]\n",
      "Epoch 46/50 : TRAIN[Loss: 0.5548, Acc: 80.72%], VALID[Loss: 11.3161, Acc: 10.29%]\n",
      "Epoch 47/50 : TRAIN[Loss: 0.5351, Acc: 81.48%], VALID[Loss: 11.7258, Acc: 10.06%]\n",
      "Epoch 48/50 : TRAIN[Loss: 0.5145, Acc: 81.87%], VALID[Loss: 11.9281, Acc: 10.37%]\n",
      "Epoch 49/50 : TRAIN[Loss: 0.5120, Acc: 82.11%], VALID[Loss: 12.6635, Acc: 10.17%]\n",
      "Epoch 50/50 : TRAIN[Loss: 0.5165, Acc: 81.76%], VALID[Loss: 12.7423, Acc: 10.46%]\n"
     ]
    }
   ],
   "source": [
    "for epoch in range(30):                       # 총 40번 데이터셋을 반복\n",
    "    model.train()                             # 학습 모드(드롭아웃/배치정규화 등 학습 동작 켜짐)\n",
    "    running_loss = 0                          # 에폭 동안의 학습 손실 누적 변수\n",
    "    train_correct, train_total = 0, 0         # (추가) 에폭 단위 Train Acc 계산용\n",
    "\n",
    "    # ---- 미니배치 학습 루프 ----\n",
    "    for inputs, labels in trainloader:        # DataLoader에서 (입력, 정답) 배치를 꺼냄\n",
    "        inputs, labels = inputs.to(device), labels.to(device)  # 배치 텐서를 모델과 같은 장치로 이동\n",
    "        optimizer.zero_grad()                 # 직전 step의 누적 gradient를 0으로 초기화\n",
    "        outputs = model(inputs)               # 순전파: 모델이 logits(미규격화 점수) 출력\n",
    "        loss = loss_fn(outputs, labels)       # 손실 계산(CrossEntropyLoss: softmax+NLL 통합)\n",
    "        loss.backward()                       # 역전파: 각 파라미터의 gradient 계산\n",
    "        optimizer.step()                      # 가중치 갱신(gradient를 이용해 한 스텝 업데이트)\n",
    "        running_loss += loss.item()           # 현재 배치의 손실 값을 파이썬 float로 누적\n",
    "\n",
    "        # (추가) 배치 예측으로 Train Acc 누적\n",
    "        _, predicted = torch.max(outputs, 1)\n",
    "        train_total += labels.size(0)\n",
    "        train_correct += (predicted == labels).sum().item()\n",
    "\n",
    "    train_losses.append(running_loss / len(trainloader))  # 에폭 평균 학습 손실 기록 (배치 개수로 나눔)\n",
    "    train_accuracies.append(100 * train_correct / train_total)     # 학습 정확도(%) 기록\n",
    "\n",
    "    # ----- Validation -----\n",
    "    model.eval()                              # 평가 모드(드롭아웃/BN 등 평가 동작)\n",
    "    val_loss, correct, total = 0, 0, 0\n",
    "    with torch.no_grad():                     # 평가 시에는 gradient 계산 비활성화(메모리/속도 이점)\n",
    "        for inputs, labels in valloader:      # 검증 데이터 배치 반복\n",
    "            inputs, labels = inputs.to(device), labels.to(device)  # 장치 정렬\n",
    "            outputs = model(inputs)           # 순전파만 수행\n",
    "            loss = loss_fn(outputs, labels)   # 검증 배치 손실\n",
    "            val_loss += loss.item()           # 손실 누적\n",
    "            _, predicted = torch.max(outputs, 1)     # 각 샘플의 최고 점수 클래스 인덱스\n",
    "            total += labels.size(0)                  # 총 샘플 수 누적\n",
    "            correct += (predicted == labels).sum().item()  # 맞춘 개수 누적\n",
    "\n",
    "    valid_losses.append(val_loss / len(valloader))     # 에폭 평균 검증 손실 기록\n",
    "    valid_accuracies.append(100 * correct / total)     # 검증 정확도(%) 기록\n",
    "\n",
    "    # 진행 상황 출력(총 30에 맞추어 표기)\n",
    "    print(f\"Epoch {epoch+1}/30 : TRAIN[Loss: {train_losses[-1]:.4f}, Acc: {train_accuracies[-1]:.2f}%], VALID[Loss: {valid_losses[-1]:.4f}, Acc: {valid_accuracies[-1]:.2f}%]\")"
   ]
  },
  {
   "cell_type": "markdown",
   "metadata": {
    "id": "6I2IUuE5Lnbr"
   },
   "source": [
    "# 학습결과 확인"
   ]
  },
  {
   "cell_type": "code",
   "execution_count": 17,
   "metadata": {
    "execution": {
     "iopub.execute_input": "2025-09-04T13:44:36.428540Z",
     "iopub.status.busy": "2025-09-04T13:44:36.428420Z",
     "iopub.status.idle": "2025-09-04T13:44:36.512706Z",
     "shell.execute_reply": "2025-09-04T13:44:36.512241Z",
     "shell.execute_reply.started": "2025-09-04T13:44:36.428527Z"
    },
    "id": "GJRHS8OoKWAe"
   },
   "outputs": [
    {
     "data": {
      "image/png": "[encoded data removed]",
      "text/plain": [
       "<Figure size 640x480 with 1 Axes>"
      ]
     },
     "metadata": {},
     "output_type": "display_data"
    }
   ],
   "source": [
    "plt.figure()\n",
    "plt.plot(train_losses, label=\"Train Loss\")\n",
    "plt.plot(valid_losses, label=\"Valid Loss\")\n",
    "plt.legend()\n",
    "plt.title(\"Loss\")\n",
    "plt.show()"
   ]
  },
  {
   "cell_type": "code",
   "execution_count": 18,
   "metadata": {
    "execution": {
     "iopub.execute_input": "2025-09-04T13:44:36.513184Z",
     "iopub.status.busy": "2025-09-04T13:44:36.513070Z",
     "iopub.status.idle": "2025-09-04T13:44:36.590402Z",
     "shell.execute_reply": "2025-09-04T13:44:36.589957Z",
     "shell.execute_reply.started": "2025-09-04T13:44:36.513171Z"
    },
    "id": "K3dThCqwLvLG"
   },
   "outputs": [
    {
     "data": {
      "image/png": "[encoded data removed]",
      "text/plain": [
       "<Figure size 640x480 with 1 Axes>"
      ]
     },
     "metadata": {},
     "output_type": "display_data"
    }
   ],
   "source": [
    "plt.figure()\n",
    "plt.plot(train_accuracies, label=\"Train Accuracy\")\n",
    "plt.plot(valid_accuracies, label=\"Valid Accuracy\")\n",
    "plt.legend()\n",
    "plt.title(\"Accuracy\")\n",
    "plt.show()"
   ]
  },
  {
   "cell_type": "code",
   "execution_count": null,
   "metadata": {
    "id": "kLFmGovFLyY_"
   },
   "outputs": [],
   "source": []
  },
  {
   "cell_type": "code",
   "execution_count": null,
   "metadata": {},
   "outputs": [],
   "source": []
  },
  {
   "cell_type": "code",
   "execution_count": null,
   "metadata": {},
   "outputs": [],
   "source": []
  }
 ],
 "metadata": {
  "accelerator": "GPU",
  "colab": {
   "gpuType": "T4",
   "provenance": []
  },
  "kernelspec": {
   "display_name": "Python 3 (ipykernel)",
   "language": "python",
   "name": "python3"
  },
  "language_info": {
   "codemirror_mode": {
    "name": "ipython",
    "version": 3
   },
   "file_extension": ".py",
   "mimetype": "text/x-python",
   "name": "python",
   "nbconvert_exporter": "python",
   "pygments_lexer": "ipython3",
   "version": "3.10.0"
  }
 },
 "nbformat": 4,
 "nbformat_minor": 4
}
