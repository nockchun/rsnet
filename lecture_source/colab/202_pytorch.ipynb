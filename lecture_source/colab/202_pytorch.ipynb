{
 "cells": [
  {
   "cell_type": "code",
   "execution_count": null,
   "metadata": {
    "id": "VZKEqAh9vyTI"
   },
   "outputs": [],
   "source": [
    "import torch\n",
    "import torch.nn as nn\n",
    "import torch.optim as optim\n",
    "import matplotlib.pyplot as plt\n",
    "from sklearn.datasets import load_iris\n",
    "from sklearn.model_selection import train_test_split\n",
    "from sklearn.preprocessing import StandardScaler"
   ]
  },
  {
   "cell_type": "markdown",
   "metadata": {
    "id": "NR8E6URZK1X3"
   },
   "source": [
    "# 데이터 로딩"
   ]
  },
  {
   "cell_type": "code",
   "execution_count": null,
   "metadata": {
    "id": "yPGOz6I1JkBj"
   },
   "outputs": [],
   "source": [
    "iris = load_iris()\n",
    "X = iris.data\n",
    "y = iris.target"
   ]
  },
  {
   "cell_type": "markdown",
   "metadata": {
    "id": "9JH5iCJO55xe"
   },
   "source": [
    "# 데이터 전처리"
   ]
  },
  {
   "cell_type": "code",
   "execution_count": null,
   "metadata": {
    "colab": {
     "base_uri": "https://localhost:8080/"
    },
    "id": "vGKau5to58v2",
    "outputId": "fc9a957b-3581-49c9-8c15-c7d507c31735"
   },
   "outputs": [],
   "source": [
    "device = torch.device(\"cuda\" if torch.cuda.is_available() else \"cpu\")\n",
    "print(f\"Using device: {device}\")"
   ]
  },
  {
   "cell_type": "code",
   "execution_count": null,
   "metadata": {
    "id": "_viM93bsx-jL"
   },
   "outputs": [],
   "source": [
    "# 표준화\n",
    "scaler = StandardScaler()\n",
    "X = scaler.fit_transform(X)"
   ]
  },
  {
   "cell_type": "code",
   "execution_count": null,
   "metadata": {},
   "outputs": [],
   "source": [
    "type(X), X.shape, type(y), y.shape"
   ]
  },
  {
   "cell_type": "code",
   "execution_count": null,
   "metadata": {
    "id": "XvkzW_RbwArU"
   },
   "outputs": [],
   "source": [
    "# numpy → tensor 변환 후 GPU로 이동\n",
    "X = torch.tensor(X, dtype=torch.float32)\n",
    "y = torch.tensor(y, dtype=torch.long)"
   ]
  },
  {
   "cell_type": "code",
   "execution_count": null,
   "metadata": {},
   "outputs": [],
   "source": [
    "type(X), X.shape, type(y), y.shape"
   ]
  },
  {
   "cell_type": "code",
   "execution_count": null,
   "metadata": {
    "id": "Il4vlDlw6Bra"
   },
   "outputs": [],
   "source": [
    "# train/validation split\n",
    "X_train, X_val, y_train, y_val = train_test_split(X, y, test_size=0.2, random_state=42)"
   ]
  },
  {
   "cell_type": "code",
   "execution_count": null,
   "metadata": {
    "id": "xQkFyx4D6sAo"
   },
   "outputs": [],
   "source": [
    "train_dataset = torch.utils.data.TensorDataset(X_train, y_train)\n",
    "val_dataset = torch.utils.data.TensorDataset(X_val, y_val)"
   ]
  },
  {
   "cell_type": "code",
   "execution_count": null,
   "metadata": {
    "id": "-_SW6XMx6vvS"
   },
   "outputs": [],
   "source": [
    "trainloader = torch.utils.data.DataLoader(train_dataset, batch_size=16, shuffle=True)\n",
    "valloader = torch.utils.data.DataLoader(val_dataset, batch_size=16, shuffle=False)"
   ]
  },
  {
   "cell_type": "markdown",
   "metadata": {
    "id": "zFi4DqWA6zAI"
   },
   "source": [
    "# 모델 생성"
   ]
  },
  {
   "cell_type": "code",
   "execution_count": null,
   "metadata": {},
   "outputs": [],
   "source": [
    "# !pip install torchinfo torchview"
   ]
  },
  {
   "cell_type": "code",
   "execution_count": null,
   "metadata": {},
   "outputs": [],
   "source": [
    "from torchinfo import summary"
   ]
  },
  {
   "cell_type": "code",
   "execution_count": null,
   "metadata": {
    "id": "RWQsbYDt6x57"
   },
   "outputs": [],
   "source": [
    "class DNN(nn.Module):\n",
    "    def __init__(self):\n",
    "        super(DNN, self).__init__()\n",
    "        self.fc1 = nn.Linear(4, 16)   # 입력: 4차원 feature\n",
    "        self.fc2 = nn.Linear(16, 8)\n",
    "        self.fc3 = nn.Linear(8, 3)    # 출력: 3 클래스\n",
    "        self.relu = nn.ReLU()\n",
    "\n",
    "    def forward(self, x):\n",
    "        x = self.relu(self.fc1(x))\n",
    "        x = self.relu(self.fc2(x))\n",
    "        return self.fc3(x)"
   ]
  },
  {
   "cell_type": "code",
   "execution_count": null,
   "metadata": {
    "id": "YWppH57r6-eq"
   },
   "outputs": [],
   "source": [
    "model = DNN().to(device)\n",
    "loss_fn = nn.CrossEntropyLoss()\n",
    "optimizer = optim.Adam(model.parameters(), lr=2e-3)"
   ]
  },
  {
   "cell_type": "code",
   "execution_count": null,
   "metadata": {},
   "outputs": [],
   "source": [
    "summary(model, input_size=(1, 4))"
   ]
  },
  {
   "cell_type": "code",
   "execution_count": null,
   "metadata": {},
   "outputs": [],
   "source": [
    "from torchview import draw_graph"
   ]
  },
  {
   "cell_type": "code",
   "execution_count": null,
   "metadata": {},
   "outputs": [],
   "source": [
    "draw_graph(model, input_size=(1, 4)).visual_graph"
   ]
  },
  {
   "cell_type": "markdown",
   "metadata": {
    "id": "rmm_Yva07BEo"
   },
   "source": [
    "# 학습"
   ]
  },
  {
   "cell_type": "code",
   "execution_count": null,
   "metadata": {
    "id": "wLIMfbMO7AY4"
   },
   "outputs": [],
   "source": [
    "# 로그 저장용 리스트\n",
    "train_losses, train_accuracies, valid_losses, valid_accuracies = [], [], [], []"
   ]
  },
  {
   "cell_type": "code",
   "execution_count": null,
   "metadata": {
    "colab": {
     "base_uri": "https://localhost:8080/"
    },
    "id": "gYstTVBu7GHw",
    "outputId": "2426097d-133a-4073-a603-5709ac73098c"
   },
   "outputs": [],
   "source": [
    "for epoch in range(50):                       # 총 40번 데이터셋을 반복\n",
    "    model.train()                             # 학습 모드(드롭아웃/배치정규화 등 학습 동작 켜짐)\n",
    "    running_loss = 0                          # 에폭 동안의 학습 손실 누적 변수\n",
    "    train_correct, train_total = 0, 0         # (추가) 에폭 단위 Train Acc 계산용\n",
    "\n",
    "    # ---- 미니배치 학습 루프 ----\n",
    "    for inputs, labels in trainloader:        # DataLoader에서 (입력, 정답) 배치를 꺼냄\n",
    "        inputs, labels = inputs.to(device), labels.to(device)  # 배치 텐서를 모델과 같은 장치로 이동\n",
    "        optimizer.zero_grad()                 # 직전 step의 누적 gradient를 0으로 초기화\n",
    "        outputs = model(inputs)               # 순전파: 모델이 logits(미규격화 점수) 출력\n",
    "        loss = loss_fn(outputs, labels)       # 손실 계산(CrossEntropyLoss: softmax+NLL 통합)\n",
    "        loss.backward()                       # 역전파: 각 파라미터의 gradient 계산\n",
    "        optimizer.step()                      # 가중치 갱신(gradient를 이용해 한 스텝 업데이트)\n",
    "        running_loss += loss.item()           # 현재 배치의 손실 값을 파이썬 float로 누적\n",
    "\n",
    "        # (추가) 배치 예측으로 Train Acc 누적\n",
    "        _, predicted = torch.max(outputs, 1)\n",
    "        train_total += labels.size(0)\n",
    "        train_correct += (predicted == labels).sum().item()\n",
    "\n",
    "    train_losses.append(running_loss / len(trainloader))  # 에폭 평균 학습 손실 기록 (배치 개수로 나눔)\n",
    "    train_accuracies.append(100 * train_correct / train_total)     # 학습 정확도(%) 기록\n",
    "\n",
    "    # ----- Validation -----\n",
    "    model.eval()                              # 평가 모드(드롭아웃/BN 등 평가 동작)\n",
    "    val_loss, correct, total = 0, 0, 0\n",
    "    with torch.no_grad():                     # 평가 시에는 gradient 계산 비활성화(메모리/속도 이점)\n",
    "        for inputs, labels in valloader:      # 검증 데이터 배치 반복\n",
    "            inputs, labels = inputs.to(device), labels.to(device)  # 장치 정렬\n",
    "            outputs = model(inputs)           # 순전파만 수행\n",
    "            loss = loss_fn(outputs, labels)   # 검증 배치 손실\n",
    "            val_loss += loss.item()           # 손실 누적\n",
    "            _, predicted = torch.max(outputs, 1)     # 각 샘플의 최고 점수 클래스 인덱스\n",
    "            total += labels.size(0)                  # 총 샘플 수 누적\n",
    "            correct += (predicted == labels).sum().item()  # 맞춘 개수 누적\n",
    "\n",
    "    valid_losses.append(val_loss / len(valloader))     # 에폭 평균 검증 손실 기록\n",
    "    valid_accuracies.append(100 * correct / total)     # 검증 정확도(%) 기록\n",
    "\n",
    "    # 진행 상황 출력(총 50에 맞추어 표기)\n",
    "    print(f\"Epoch {epoch+1}/50 : TRAIN[Loss: {train_losses[-1]:.4f}, Acc: {train_accuracies[-1]:.2f}%], VALID[Loss: {valid_losses[-1]:.4f}, Acc: {valid_accuracies[-1]:.2f}%]\")"
   ]
  },
  {
   "cell_type": "markdown",
   "metadata": {
    "id": "7vp5G5qS7T8r"
   },
   "source": [
    "# 학습결과 확인"
   ]
  },
  {
   "cell_type": "code",
   "execution_count": null,
   "metadata": {
    "colab": {
     "base_uri": "https://localhost:8080/",
     "height": 452
    },
    "id": "NeeNr5eI7JMm",
    "outputId": "23173307-1386-4d9d-bd8b-be67a86c7408"
   },
   "outputs": [],
   "source": [
    "plt.figure()\n",
    "plt.plot(train_losses, label=\"Train Loss\")\n",
    "plt.plot(valid_losses, label=\"Valid Loss\")\n",
    "plt.legend()\n",
    "plt.title(\"Loss\")\n",
    "plt.show()"
   ]
  },
  {
   "cell_type": "code",
   "execution_count": null,
   "metadata": {
    "colab": {
     "base_uri": "https://localhost:8080/",
     "height": 452
    },
    "id": "1UMKtjck7YHb",
    "outputId": "0cecaa04-6604-49ba-9f79-0888cf5e64ad"
   },
   "outputs": [],
   "source": [
    "plt.figure()\n",
    "plt.plot(train_accuracies, label=\"Train Accuracy\")\n",
    "plt.plot(valid_accuracies, label=\"Valid Accuracy\")\n",
    "plt.legend()\n",
    "plt.title(\"Accuracy\")\n",
    "plt.show()"
   ]
  },
  {
   "cell_type": "code",
   "execution_count": null,
   "metadata": {
    "id": "ni-L1LuG7lSo"
   },
   "outputs": [],
   "source": []
  },
  {
   "cell_type": "code",
   "execution_count": null,
   "metadata": {},
   "outputs": [],
   "source": []
  },
  {
   "cell_type": "code",
   "execution_count": null,
   "metadata": {},
   "outputs": [],
   "source": []
  }
 ],
 "metadata": {
  "accelerator": "GPU",
  "colab": {
   "gpuType": "T4",
   "provenance": []
  },
  "kernelspec": {
   "display_name": "Python 3 (ipykernel)",
   "language": "python",
   "name": "python3"
  },
  "language_info": {
   "codemirror_mode": {
    "name": "ipython",
    "version": 3
   },
   "file_extension": ".py",
   "mimetype": "text/x-python",
   "name": "python",
   "nbconvert_exporter": "python",
   "pygments_lexer": "ipython3",
   "version": "3.10.0"
  }
 },
 "nbformat": 4,
 "nbformat_minor": 4
}
