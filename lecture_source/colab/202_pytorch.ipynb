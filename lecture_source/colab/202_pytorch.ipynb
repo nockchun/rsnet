{
 "cells": [
  {
   "cell_type": "code",
   "execution_count": 1,
   "metadata": {
    "execution": {
     "iopub.execute_input": "2025-09-05T05:47:51.491930Z",
     "iopub.status.busy": "2025-09-05T05:47:51.491486Z",
     "iopub.status.idle": "2025-09-05T05:47:54.078329Z",
     "shell.execute_reply": "2025-09-05T05:47:54.077585Z",
     "shell.execute_reply.started": "2025-09-05T05:47:51.491902Z"
    }
   },
   "outputs": [],
   "source": [
    "import torch\n",
    "import numpy as np\n",
    "import matplotlib.pyplot as plt"
   ]
  },
  {
   "cell_type": "code",
   "execution_count": 2,
   "metadata": {
    "execution": {
     "iopub.execute_input": "2025-09-05T05:47:54.079211Z",
     "iopub.status.busy": "2025-09-05T05:47:54.078883Z",
     "iopub.status.idle": "2025-09-05T05:47:54.086604Z",
     "shell.execute_reply": "2025-09-05T05:47:54.085933Z",
     "shell.execute_reply.started": "2025-09-05T05:47:54.079183Z"
    }
   },
   "outputs": [
    {
     "data": {
      "text/plain": [
       "'PyTorch version: 2.8.0+cu128'"
      ]
     },
     "execution_count": 2,
     "metadata": {},
     "output_type": "execute_result"
    }
   ],
   "source": [
    "f\"PyTorch version: {torch.__version__}\""
   ]
  },
  {
   "cell_type": "markdown",
   "metadata": {},
   "source": [
    "# Tensor\n",
    "- 텐서는 PyTorch에서 기본이 되는 데이터 구조로, NumPy 배열과 유사하지만 GPU 가속과 자동 미분 같은 추가 기능을 제공."
   ]
  },
  {
   "cell_type": "markdown",
   "metadata": {},
   "source": [
    "## 생성"
   ]
  },
  {
   "cell_type": "code",
   "execution_count": 17,
   "metadata": {
    "execution": {
     "iopub.execute_input": "2025-09-05T05:55:25.695495Z",
     "iopub.status.busy": "2025-09-05T05:55:25.694904Z",
     "iopub.status.idle": "2025-09-05T05:55:25.707484Z",
     "shell.execute_reply": "2025-09-05T05:55:25.706904Z",
     "shell.execute_reply.started": "2025-09-05T05:55:25.695472Z"
    }
   },
   "outputs": [
    {
     "name": "stdout",
     "output_type": "stream",
     "text": [
      "[+] Tensor from list: tensor([1, 2, 3, 4]), Type: <class 'torch.Tensor'> torch.int64\n",
      "[+] Matrix: tensor([[1, 2],\n",
      "        [3, 4]]), Type: <class 'torch.Tensor'> torch.int64\n"
     ]
    }
   ],
   "source": [
    "# 리스트에서 생성\n",
    "tensor = torch.tensor([1, 2, 3, 4])\n",
    "tensor_matrix = torch.tensor([[1, 2], [3, 4]])\n",
    "\n",
    "print(f\"[+] Tensor from list: {tensor}, Type: {type(tensor)} {tensor.dtype}\")\n",
    "print(f\"[+] Matrix: {tensor_matrix}, Type: {type(tensor_matrix)} {tensor_matrix.dtype}\")"
   ]
  },
  {
   "cell_type": "code",
   "execution_count": 18,
   "metadata": {
    "execution": {
     "iopub.execute_input": "2025-09-05T05:55:27.459962Z",
     "iopub.status.busy": "2025-09-05T05:55:27.458627Z",
     "iopub.status.idle": "2025-09-05T05:55:27.516995Z",
     "shell.execute_reply": "2025-09-05T05:55:27.515316Z",
     "shell.execute_reply.started": "2025-09-05T05:55:27.459935Z"
    }
   },
   "outputs": [
    {
     "name": "stdout",
     "output_type": "stream",
     "text": [
      "[+] Float tensor: tensor([1., 2., 3.]), Type: <class 'torch.Tensor'> torch.float32\n",
      "[+] Integer tensor: tensor([1, 2, 3]), Type: <class 'torch.Tensor'> torch.int64\n"
     ]
    }
   ],
   "source": [
    "# 데이터 타입 지정하여 생성\n",
    "tensor_float = torch.tensor([1.0, 2.0, 3.0], dtype=torch.float32)\n",
    "tensor_int = torch.tensor([1, 2, 3], dtype=torch.int64)\n",
    "\n",
    "print(f\"[+] Float tensor: {tensor_float}, Type: {type(tensor_float)} {tensor_float.dtype}\")\n",
    "print(f\"[+] Integer tensor: {tensor_int}, Type: {type(tensor_int)} {tensor_int.dtype}\")"
   ]
  },
  {
   "cell_type": "code",
   "execution_count": 31,
   "metadata": {
    "execution": {
     "iopub.execute_input": "2025-09-05T06:11:10.133944Z",
     "iopub.status.busy": "2025-09-05T06:11:10.133640Z",
     "iopub.status.idle": "2025-09-05T06:11:10.144872Z",
     "shell.execute_reply": "2025-09-05T06:11:10.144010Z",
     "shell.execute_reply.started": "2025-09-05T06:11:10.133925Z"
    }
   },
   "outputs": [
    {
     "name": "stdout",
     "output_type": "stream",
     "text": [
      "[+] Tensor: tensor([1., 2., 3., 4.], dtype=torch.float16), Type: <class 'torch.Tensor'> torch.float16\n",
      "[+] Numpy Recover: [1. 2. 3. 4.], Type: <class 'numpy.ndarray'> float16\n"
     ]
    }
   ],
   "source": [
    "# NumPy에서 생성\n",
    "np_array = np.array([1, 2, 3, 4], dtype=np.float16)\n",
    "tensor_np = torch.from_numpy(np_array)\n",
    "np_recover = tensor_np.numpy()\n",
    "\n",
    "print(f\"[+] Tensor: {tensor_np}, Type: {type(tensor_np)} {tensor_np.dtype}\")\n",
    "print(f\"[+] Numpy Recover: {np_recover}, Type: {type(np_recover)} {np_recover.dtype}\")"
   ]
  },
  {
   "cell_type": "code",
   "execution_count": 32,
   "metadata": {
    "execution": {
     "iopub.execute_input": "2025-09-05T06:11:10.592447Z",
     "iopub.status.busy": "2025-09-05T06:11:10.591132Z",
     "iopub.status.idle": "2025-09-05T06:11:10.605121Z",
     "shell.execute_reply": "2025-09-05T06:11:10.604399Z",
     "shell.execute_reply.started": "2025-09-05T06:11:10.592416Z"
    }
   },
   "outputs": [
    {
     "name": "stdout",
     "output_type": "stream",
     "text": [
      "[+] Tensor: tensor([10., 20., 30.,  4.], dtype=torch.float16), Type: <class 'torch.Tensor'> torch.float16\n",
      "[+] Numpy Original: [10. 20. 30.  4.], Type: <class 'numpy.ndarray'> float16\n",
      "[+] Numpy Recover: [10. 20. 30.  4.], Type: <class 'numpy.ndarray'> float16\n"
     ]
    }
   ],
   "source": [
    "# 메모리를 공유함\n",
    "tensor_np[0] = 10\n",
    "np_array[1] = 20\n",
    "np_recover[2] = 30\n",
    "print(f\"[+] Tensor: {tensor_np}, Type: {type(tensor_np)} {tensor_np.dtype}\")\n",
    "print(f\"[+] Numpy Original: {np_array}, Type: {type(np_array)} {np_array.dtype}\")\n",
    "print(f\"[+] Numpy Recover: {np_recover}, Type: {type(np_recover)} {np_recover.dtype}\")"
   ]
  },
  {
   "cell_type": "code",
   "execution_count": 33,
   "metadata": {
    "execution": {
     "iopub.execute_input": "2025-09-05T06:11:12.705415Z",
     "iopub.status.busy": "2025-09-05T06:11:12.705084Z",
     "iopub.status.idle": "2025-09-05T06:11:12.756480Z",
     "shell.execute_reply": "2025-09-05T06:11:12.755203Z",
     "shell.execute_reply.started": "2025-09-05T06:11:12.705397Z"
    }
   },
   "outputs": [
    {
     "name": "stdout",
     "output_type": "stream",
     "text": [
      "[+] Zeros tensor: tensor([[0, 0, 0, 0],\n",
      "        [0, 0, 0, 0],\n",
      "        [0, 0, 0, 0]], dtype=torch.int8), Type: <class 'torch.Tensor'> torch.int8\n",
      "[+] Ones tensor: tensor([[1., 1., 1.],\n",
      "        [1., 1., 1.]]), Type: <class 'torch.Tensor'> torch.float32\n",
      "[+] Random uniform tensor: tensor([[0.1120, 0.8609],\n",
      "        [0.4537, 0.2998]]), Type: <class 'torch.Tensor'> torch.float32\n",
      "[+] Random normal tensor: tensor([[-0.7975, -0.1290],\n",
      "        [ 0.9717, -1.6416]]), Type: <class 'torch.Tensor'> torch.float32\n"
     ]
    }
   ],
   "source": [
    "# shape지정하여 무작위/상수 생성\n",
    "tensor_zeros = torch.zeros(3, 4, dtype=torch.int8)\n",
    "tensor_ones = torch.ones(2, 3)\n",
    "tensor_rand = torch.rand(2, 2)  # Uniform distribution [0, 1)\n",
    "tensor_randn = torch.randn(2, 2)  # Normal distribution (mean=0, std=1)\n",
    "\n",
    "print(f\"[+] Zeros tensor: {tensor_zeros}, Type: {type(tensor_zeros)} {tensor_zeros.dtype}\")\n",
    "print(f\"[+] Ones tensor: {tensor_ones}, Type: {type(tensor_ones)} {tensor_ones.dtype}\")\n",
    "print(f\"[+] Random uniform tensor: {tensor_rand}, Type: {type(tensor_rand)} {tensor_rand.dtype}\")\n",
    "print(f\"[+] Random normal tensor: {tensor_randn}, Type: {type(tensor_randn)} {tensor_randn.dtype}\")"
   ]
  },
  {
   "cell_type": "code",
   "execution_count": 34,
   "metadata": {
    "execution": {
     "iopub.execute_input": "2025-09-05T06:11:13.231644Z",
     "iopub.status.busy": "2025-09-05T06:11:13.231312Z",
     "iopub.status.idle": "2025-09-05T06:11:13.249590Z",
     "shell.execute_reply": "2025-09-05T06:11:13.248841Z",
     "shell.execute_reply.started": "2025-09-05T06:11:13.231621Z"
    }
   },
   "outputs": [
    {
     "name": "stdout",
     "output_type": "stream",
     "text": [
      "[+] Zeros tensor: tensor([[0, 0],\n",
      "        [0, 0]]), Type: <class 'torch.Tensor'> torch.int64\n",
      "[+] Ones tensor: tensor([[1, 1, 1, 1],\n",
      "        [1, 1, 1, 1],\n",
      "        [1, 1, 1, 1]], dtype=torch.int8), Type: <class 'torch.Tensor'> torch.int8\n",
      "[+] Random uniform tensor: tensor([0.3745, 0.3091, 0.0864, 0.0908], dtype=torch.float16), Type: <class 'torch.Tensor'> torch.float16\n",
      "[+] Random normal tensor: tensor([ 0.2712,  0.7471,  0.1334, -0.0647], dtype=torch.float16), Type: <class 'torch.Tensor'> torch.float16\n"
     ]
    }
   ],
   "source": [
    "# 다른 Tensor의 shape과 datatype을 유지하여 생성.\n",
    "tensor_zeros_like = torch.zeros_like(tensor_matrix)\n",
    "tensor_ones_like = torch.ones_like(tensor_zeros)\n",
    "tensor_rand_like = torch.rand_like(tensor_np)\n",
    "tensor_randn_like = torch.randn_like(tensor_np)\n",
    "\n",
    "print(f\"[+] Zeros tensor: {tensor_zeros_like}, Type: {type(tensor_zeros_like)} {tensor_zeros_like.dtype}\")\n",
    "print(f\"[+] Ones tensor: {tensor_ones_like}, Type: {type(tensor_ones_like)} {tensor_ones_like.dtype}\")\n",
    "print(f\"[+] Random uniform tensor: {tensor_rand_like}, Type: {type(tensor_rand_like)} {tensor_rand_like.dtype}\")\n",
    "print(f\"[+] Random normal tensor: {tensor_randn_like}, Type: {type(tensor_randn_like)} {tensor_randn_like.dtype}\")"
   ]
  },
  {
   "cell_type": "markdown",
   "metadata": {},
   "source": [
    "## 속성"
   ]
  },
  {
   "cell_type": "code",
   "execution_count": 44,
   "metadata": {
    "execution": {
     "iopub.execute_input": "2025-09-05T06:18:01.272514Z",
     "iopub.status.busy": "2025-09-05T06:18:01.272225Z",
     "iopub.status.idle": "2025-09-05T06:18:01.283775Z",
     "shell.execute_reply": "2025-09-05T06:18:01.282483Z",
     "shell.execute_reply.started": "2025-09-05T06:18:01.272496Z"
    }
   },
   "outputs": [
    {
     "data": {
      "text/plain": [
       "device(type='cuda')"
      ]
     },
     "execution_count": 44,
     "metadata": {},
     "output_type": "execute_result"
    }
   ],
   "source": [
    "device = torch.device(\"cuda\" if torch.cuda.is_available() else \"cpu\")\n",
    "device"
   ]
  },
  {
   "cell_type": "code",
   "execution_count": 45,
   "metadata": {
    "execution": {
     "iopub.execute_input": "2025-09-05T06:18:01.471595Z",
     "iopub.status.busy": "2025-09-05T06:18:01.471240Z",
     "iopub.status.idle": "2025-09-05T06:18:01.506671Z",
     "shell.execute_reply": "2025-09-05T06:18:01.505921Z",
     "shell.execute_reply.started": "2025-09-05T06:18:01.471563Z"
    }
   },
   "outputs": [
    {
     "name": "stdout",
     "output_type": "stream",
     "text": [
      "[+] Tensor shape: torch.Size([3, 4, 5])\n",
      "[+] Tensor size: torch.Size([3, 4, 5])\n",
      "[+] Number of dimensions: 3\n",
      "[+] Data type: torch.float32\n",
      "[+] Device: cpu\n",
      "[+] Device: cuda:0\n"
     ]
    }
   ],
   "source": [
    "tensor_cpu = torch.randn(3, 4, 5)\n",
    "tensor_gpu = torch.randn(3, 4, 5).to(device)\n",
    "\n",
    "print(f\"[+] Tensor shape: {tensor_cpu.shape}\")\n",
    "print(f\"[+] Tensor size: {tensor_cpu.size()}\")\n",
    "print(f\"[+] Number of dimensions: {tensor_cpu.dim()}\")\n",
    "print(f\"[+] Data type: {tensor_cpu.dtype}\")\n",
    "print(f\"[+] Device: {tensor_cpu.device}\")\n",
    "print(f\"[+] Device: {tensor_gpu.device}\")"
   ]
  },
  {
   "cell_type": "code",
   "execution_count": null,
   "metadata": {},
   "outputs": [],
   "source": []
  },
  {
   "cell_type": "code",
   "execution_count": null,
   "metadata": {},
   "outputs": [],
   "source": []
  },
  {
   "cell_type": "code",
   "execution_count": null,
   "metadata": {},
   "outputs": [],
   "source": []
  },
  {
   "cell_type": "code",
   "execution_count": null,
   "metadata": {},
   "outputs": [],
   "source": []
  },
  {
   "cell_type": "code",
   "execution_count": null,
   "metadata": {},
   "outputs": [],
   "source": []
  },
  {
   "cell_type": "code",
   "execution_count": null,
   "metadata": {},
   "outputs": [],
   "source": []
  },
  {
   "cell_type": "code",
   "execution_count": null,
   "metadata": {},
   "outputs": [],
   "source": []
  },
  {
   "cell_type": "code",
   "execution_count": null,
   "metadata": {},
   "outputs": [],
   "source": []
  },
  {
   "cell_type": "code",
   "execution_count": null,
   "metadata": {},
   "outputs": [],
   "source": []
  },
  {
   "cell_type": "code",
   "execution_count": null,
   "metadata": {},
   "outputs": [],
   "source": []
  },
  {
   "cell_type": "code",
   "execution_count": null,
   "metadata": {},
   "outputs": [],
   "source": []
  },
  {
   "cell_type": "code",
   "execution_count": null,
   "metadata": {},
   "outputs": [],
   "source": []
  },
  {
   "cell_type": "code",
   "execution_count": null,
   "metadata": {},
   "outputs": [],
   "source": []
  },
  {
   "cell_type": "code",
   "execution_count": null,
   "metadata": {},
   "outputs": [],
   "source": []
  },
  {
   "cell_type": "code",
   "execution_count": null,
   "metadata": {},
   "outputs": [],
   "source": []
  },
  {
   "cell_type": "code",
   "execution_count": null,
   "metadata": {},
   "outputs": [],
   "source": []
  },
  {
   "cell_type": "code",
   "execution_count": null,
   "metadata": {},
   "outputs": [],
   "source": []
  },
  {
   "cell_type": "code",
   "execution_count": null,
   "metadata": {},
   "outputs": [],
   "source": []
  },
  {
   "cell_type": "code",
   "execution_count": null,
   "metadata": {},
   "outputs": [],
   "source": []
  },
  {
   "cell_type": "code",
   "execution_count": null,
   "metadata": {},
   "outputs": [],
   "source": []
  },
  {
   "cell_type": "code",
   "execution_count": null,
   "metadata": {},
   "outputs": [],
   "source": []
  },
  {
   "cell_type": "code",
   "execution_count": null,
   "metadata": {},
   "outputs": [],
   "source": []
  },
  {
   "cell_type": "code",
   "execution_count": null,
   "metadata": {},
   "outputs": [],
   "source": []
  },
  {
   "cell_type": "code",
   "execution_count": null,
   "metadata": {},
   "outputs": [],
   "source": []
  },
  {
   "cell_type": "code",
   "execution_count": null,
   "metadata": {},
   "outputs": [],
   "source": []
  },
  {
   "cell_type": "code",
   "execution_count": null,
   "metadata": {},
   "outputs": [],
   "source": []
  },
  {
   "cell_type": "code",
   "execution_count": null,
   "metadata": {},
   "outputs": [],
   "source": []
  },
  {
   "cell_type": "code",
   "execution_count": null,
   "metadata": {},
   "outputs": [],
   "source": []
  },
  {
   "cell_type": "code",
   "execution_count": null,
   "metadata": {},
   "outputs": [],
   "source": []
  },
  {
   "cell_type": "code",
   "execution_count": null,
   "metadata": {},
   "outputs": [],
   "source": []
  },
  {
   "cell_type": "code",
   "execution_count": null,
   "metadata": {},
   "outputs": [],
   "source": []
  },
  {
   "cell_type": "code",
   "execution_count": null,
   "metadata": {},
   "outputs": [],
   "source": []
  },
  {
   "cell_type": "code",
   "execution_count": null,
   "metadata": {},
   "outputs": [],
   "source": []
  },
  {
   "cell_type": "code",
   "execution_count": null,
   "metadata": {},
   "outputs": [],
   "source": []
  },
  {
   "cell_type": "code",
   "execution_count": null,
   "metadata": {},
   "outputs": [],
   "source": []
  },
  {
   "cell_type": "code",
   "execution_count": null,
   "metadata": {},
   "outputs": [],
   "source": []
  }
 ],
 "metadata": {
  "accelerator": "GPU",
  "colab": {
   "gpuType": "T4",
   "provenance": []
  },
  "kernelspec": {
   "display_name": "Python 3 (ipykernel)",
   "language": "python",
   "name": "python3"
  },
  "language_info": {
   "codemirror_mode": {
    "name": "ipython",
    "version": 3
   },
   "file_extension": ".py",
   "mimetype": "text/x-python",
   "name": "python",
   "nbconvert_exporter": "python",
   "pygments_lexer": "ipython3",
   "version": "3.10.0"
  }
 },
 "nbformat": 4,
 "nbformat_minor": 4
}
