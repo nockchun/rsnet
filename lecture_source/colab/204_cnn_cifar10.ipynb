{
 "cells": [
  {
   "cell_type": "code",
   "execution_count": 1,
   "metadata": {
    "execution": {
     "iopub.execute_input": "2025-08-04T13:41:31.325861Z",
     "iopub.status.busy": "2025-08-04T13:41:31.325743Z",
     "iopub.status.idle": "2025-08-04T13:41:33.640294Z",
     "shell.execute_reply": "2025-08-04T13:41:33.639675Z",
     "shell.execute_reply.started": "2025-08-04T13:41:31.325847Z"
    },
    "id": "siuUDcm7JRvv"
   },
   "outputs": [],
   "source": [
    "import torch\n",
    "import torch.nn as nn\n",
    "import torch.optim as optim\n",
    "import torchvision\n",
    "import matplotlib.pyplot as plt"
   ]
  },
  {
   "cell_type": "code",
   "execution_count": 2,
   "metadata": {
    "execution": {
     "iopub.execute_input": "2025-08-04T13:41:33.640869Z",
     "iopub.status.busy": "2025-08-04T13:41:33.640665Z",
     "iopub.status.idle": "2025-08-04T13:41:33.643370Z",
     "shell.execute_reply": "2025-08-04T13:41:33.642835Z",
     "shell.execute_reply.started": "2025-08-04T13:41:33.640855Z"
    },
    "id": "kSz5y_Q5Jqts"
   },
   "outputs": [],
   "source": [
    "import numpy as np"
   ]
  },
  {
   "cell_type": "markdown",
   "metadata": {
    "id": "NR8E6URZK1X3"
   },
   "source": [
    "# 데이터 로딩"
   ]
  },
  {
   "cell_type": "code",
   "execution_count": 3,
   "metadata": {
    "execution": {
     "iopub.execute_input": "2025-08-04T13:41:33.643787Z",
     "iopub.status.busy": "2025-08-04T13:41:33.643673Z",
     "iopub.status.idle": "2025-08-04T13:41:54.554055Z",
     "shell.execute_reply": "2025-08-04T13:41:54.553328Z",
     "shell.execute_reply.started": "2025-08-04T13:41:33.643775Z"
    },
    "id": "yPGOz6I1JkBj"
   },
   "outputs": [
    {
     "name": "stderr",
     "output_type": "stream",
     "text": [
      "100%|██████████| 170M/170M [00:16<00:00, 10.3MB/s] \n"
     ]
    }
   ],
   "source": [
    "trainset_raw = torchvision.datasets.CIFAR10(root='./data', train=True, download=True)\n",
    "testset_raw = torchvision.datasets.CIFAR10(root='./data', train=False, download=True)"
   ]
  },
  {
   "cell_type": "code",
   "execution_count": 4,
   "metadata": {
    "execution": {
     "iopub.execute_input": "2025-08-04T13:41:54.554642Z",
     "iopub.status.busy": "2025-08-04T13:41:54.554515Z",
     "iopub.status.idle": "2025-08-04T13:41:54.558058Z",
     "shell.execute_reply": "2025-08-04T13:41:54.557455Z",
     "shell.execute_reply.started": "2025-08-04T13:41:54.554628Z"
    },
    "id": "KGuK-J08Jje-"
   },
   "outputs": [],
   "source": [
    "def preprocess_cifar(dataset):\n",
    "    images = torch.tensor(np.transpose(np.array(dataset.data), (0,3,1,2)), dtype=torch.float32) / 255.0\n",
    "    mean = images.mean([0,2,3], keepdim=True)\n",
    "    std = images.std([0,2,3], keepdim=True)\n",
    "    images = (images - mean) / std\n",
    "    labels = torch.tensor(dataset.targets)\n",
    "    return images, labels"
   ]
  },
  {
   "cell_type": "code",
   "execution_count": 5,
   "metadata": {
    "execution": {
     "iopub.execute_input": "2025-08-04T13:41:54.559583Z",
     "iopub.status.busy": "2025-08-04T13:41:54.559455Z",
     "iopub.status.idle": "2025-08-04T13:41:55.749588Z",
     "shell.execute_reply": "2025-08-04T13:41:55.749086Z",
     "shell.execute_reply.started": "2025-08-04T13:41:54.559570Z"
    },
    "id": "HPwZhoShJu-J"
   },
   "outputs": [],
   "source": [
    "train_images, train_labels = preprocess_cifar(trainset_raw)\n",
    "test_images, test_labels = preprocess_cifar(testset_raw)"
   ]
  },
  {
   "cell_type": "code",
   "execution_count": 6,
   "metadata": {
    "execution": {
     "iopub.execute_input": "2025-08-04T13:41:55.750121Z",
     "iopub.status.busy": "2025-08-04T13:41:55.749997Z",
     "iopub.status.idle": "2025-08-04T13:41:55.752295Z",
     "shell.execute_reply": "2025-08-04T13:41:55.751914Z",
     "shell.execute_reply.started": "2025-08-04T13:41:55.750107Z"
    },
    "id": "7G90t3WUJ1ti"
   },
   "outputs": [],
   "source": [
    "# train/val split\n",
    "train_size = int(0.8 * len(train_images))\n",
    "val_size = len(train_images) - train_size"
   ]
  },
  {
   "cell_type": "code",
   "execution_count": 7,
   "metadata": {
    "execution": {
     "iopub.execute_input": "2025-08-04T13:41:55.752786Z",
     "iopub.status.busy": "2025-08-04T13:41:55.752671Z",
     "iopub.status.idle": "2025-08-04T13:41:55.770904Z",
     "shell.execute_reply": "2025-08-04T13:41:55.770390Z",
     "shell.execute_reply.started": "2025-08-04T13:41:55.752774Z"
    },
    "id": "St3cT6mOJ4ls"
   },
   "outputs": [],
   "source": [
    "train_images, val_images = torch.utils.data.random_split(train_images, [train_size, val_size])\n",
    "train_labels, val_labels = torch.utils.data.random_split(train_labels, [train_size, val_size])"
   ]
  },
  {
   "cell_type": "code",
   "execution_count": 8,
   "metadata": {
    "execution": {
     "iopub.execute_input": "2025-08-04T13:41:55.771413Z",
     "iopub.status.busy": "2025-08-04T13:41:55.771286Z",
     "iopub.status.idle": "2025-08-04T13:41:56.166533Z",
     "shell.execute_reply": "2025-08-04T13:41:56.165826Z",
     "shell.execute_reply.started": "2025-08-04T13:41:55.771399Z"
    },
    "id": "87nqyo9vJ6ne"
   },
   "outputs": [],
   "source": [
    "trainloader = torch.utils.data.DataLoader(list(zip(train_images, train_labels)), batch_size=64, shuffle=True)\n",
    "valloader = torch.utils.data.DataLoader(list(zip(val_images, val_labels)), batch_size=64, shuffle=False)"
   ]
  },
  {
   "cell_type": "markdown",
   "metadata": {
    "id": "rF4qmfruKALK"
   },
   "source": [
    "# 모델 생성"
   ]
  },
  {
   "cell_type": "code",
   "execution_count": 9,
   "metadata": {
    "execution": {
     "iopub.execute_input": "2025-08-04T13:41:56.167115Z",
     "iopub.status.busy": "2025-08-04T13:41:56.166987Z",
     "iopub.status.idle": "2025-08-04T13:41:56.198590Z",
     "shell.execute_reply": "2025-08-04T13:41:56.197995Z",
     "shell.execute_reply.started": "2025-08-04T13:41:56.167101Z"
    },
    "id": "CzKMwfkkJ9dS"
   },
   "outputs": [],
   "source": [
    "device = torch.device(\"cuda\" if torch.cuda.is_available() else \"cpu\")"
   ]
  },
  {
   "cell_type": "code",
   "execution_count": 10,
   "metadata": {
    "execution": {
     "iopub.execute_input": "2025-08-04T13:41:56.199084Z",
     "iopub.status.busy": "2025-08-04T13:41:56.198958Z",
     "iopub.status.idle": "2025-08-04T13:41:56.213964Z",
     "shell.execute_reply": "2025-08-04T13:41:56.213386Z",
     "shell.execute_reply.started": "2025-08-04T13:41:56.199071Z"
    },
    "id": "bXsbsxsCKDje"
   },
   "outputs": [],
   "source": [
    "class CNN(nn.Module):\n",
    "    def __init__(self):\n",
    "        super(CNN, self).__init__()\n",
    "        self.conv1 = nn.Conv2d(3, 32, 3, padding=1)\n",
    "        self.conv2 = nn.Conv2d(32, 64, 3, padding=1)\n",
    "        self.pool = nn.MaxPool2d(2, 2)\n",
    "        self.fc1 = nn.Linear(64 * 8 * 8, 128)\n",
    "        self.fc2 = nn.Linear(128, 10)\n",
    "        self.relu = nn.ReLU()\n",
    "\n",
    "    def forward(self, x):\n",
    "        x = self.pool(self.relu(self.conv1(x)))\n",
    "        x = self.pool(self.relu(self.conv2(x)))\n",
    "        x = x.view(-1, 64 * 8 * 8)\n",
    "        x = self.relu(self.fc1(x))\n",
    "        return self.fc2(x)"
   ]
  },
  {
   "cell_type": "code",
   "execution_count": 11,
   "metadata": {
    "execution": {
     "iopub.execute_input": "2025-08-04T13:41:56.214430Z",
     "iopub.status.busy": "2025-08-04T13:41:56.214314Z",
     "iopub.status.idle": "2025-08-04T13:41:56.382476Z",
     "shell.execute_reply": "2025-08-04T13:41:56.381827Z",
     "shell.execute_reply.started": "2025-08-04T13:41:56.214418Z"
    },
    "id": "dq3C_k0xKH3I"
   },
   "outputs": [],
   "source": [
    "model = CNN().to(device)\n",
    "criterion = nn.CrossEntropyLoss()\n",
    "optimizer = optim.Adam(model.parameters(), lr=0.001)"
   ]
  },
  {
   "cell_type": "markdown",
   "metadata": {
    "id": "6yIPonKwKNJH"
   },
   "source": [
    "# 학습"
   ]
  },
  {
   "cell_type": "code",
   "execution_count": 12,
   "metadata": {
    "execution": {
     "iopub.execute_input": "2025-08-04T13:41:56.383034Z",
     "iopub.status.busy": "2025-08-04T13:41:56.382894Z",
     "iopub.status.idle": "2025-08-04T13:41:56.385579Z",
     "shell.execute_reply": "2025-08-04T13:41:56.384996Z",
     "shell.execute_reply.started": "2025-08-04T13:41:56.383020Z"
    },
    "id": "gbBGzdZCKKF4"
   },
   "outputs": [],
   "source": [
    "train_losses, val_losses, val_accuracies = [], [], []"
   ]
  },
  {
   "cell_type": "code",
   "execution_count": 13,
   "metadata": {
    "execution": {
     "iopub.execute_input": "2025-08-04T13:41:56.386094Z",
     "iopub.status.busy": "2025-08-04T13:41:56.385953Z",
     "iopub.status.idle": "2025-08-04T13:42:19.793353Z",
     "shell.execute_reply": "2025-08-04T13:42:19.792642Z",
     "shell.execute_reply.started": "2025-08-04T13:41:56.386082Z"
    },
    "id": "fxC7zbLCKRaN"
   },
   "outputs": [
    {
     "name": "stdout",
     "output_type": "stream",
     "text": [
      "Epoch [1/20], Train Loss: 2.3032, Val Loss: 2.3027, Val Acc: 9.92%\n",
      "Epoch [2/20], Train Loss: 2.3028, Val Loss: 2.3027, Val Acc: 9.70%\n",
      "Epoch [3/20], Train Loss: 2.3029, Val Loss: 2.3028, Val Acc: 10.17%\n",
      "Epoch [4/20], Train Loss: 2.3030, Val Loss: 2.3027, Val Acc: 9.72%\n",
      "Epoch [5/20], Train Loss: 2.3026, Val Loss: 2.3036, Val Acc: 9.87%\n",
      "Epoch [6/20], Train Loss: 2.3019, Val Loss: 2.3033, Val Acc: 9.93%\n",
      "Epoch [7/20], Train Loss: 2.2962, Val Loss: 2.3089, Val Acc: 9.88%\n",
      "Epoch [8/20], Train Loss: 2.2747, Val Loss: 2.3232, Val Acc: 10.07%\n",
      "Epoch [9/20], Train Loss: 2.2146, Val Loss: 2.3822, Val Acc: 9.71%\n",
      "Epoch [10/20], Train Loss: 2.0989, Val Loss: 2.4919, Val Acc: 9.88%\n",
      "Epoch [11/20], Train Loss: 1.9269, Val Loss: 2.6773, Val Acc: 10.04%\n",
      "Epoch [12/20], Train Loss: 1.7247, Val Loss: 2.9384, Val Acc: 10.06%\n",
      "Epoch [13/20], Train Loss: 1.5051, Val Loss: 3.3536, Val Acc: 10.47%\n",
      "Epoch [14/20], Train Loss: 1.2906, Val Loss: 3.7979, Val Acc: 10.08%\n",
      "Epoch [15/20], Train Loss: 1.0870, Val Loss: 4.3784, Val Acc: 10.41%\n",
      "Epoch [16/20], Train Loss: 0.9222, Val Loss: 5.0404, Val Acc: 10.57%\n",
      "Epoch [17/20], Train Loss: 0.7841, Val Loss: 5.7907, Val Acc: 10.41%\n",
      "Epoch [18/20], Train Loss: 0.6815, Val Loss: 6.4616, Val Acc: 10.41%\n",
      "Epoch [19/20], Train Loss: 0.5920, Val Loss: 7.2332, Val Acc: 10.24%\n",
      "Epoch [20/20], Train Loss: 0.5390, Val Loss: 7.8719, Val Acc: 10.27%\n"
     ]
    }
   ],
   "source": [
    "for epoch in range(20):\n",
    "    model.train()\n",
    "    running_loss = 0\n",
    "    for images, labels in trainloader:\n",
    "        images, labels = images.to(device), labels.to(device)\n",
    "        optimizer.zero_grad()\n",
    "        outputs = model(images)\n",
    "        loss = criterion(outputs, labels)\n",
    "        loss.backward()\n",
    "        optimizer.step()\n",
    "        running_loss += loss.item()\n",
    "    train_losses.append(running_loss / len(trainloader))\n",
    "\n",
    "    # ----- Validation -----\n",
    "    model.eval()\n",
    "    val_loss, correct, total = 0, 0, 0\n",
    "    with torch.no_grad():\n",
    "        for images, labels in valloader:\n",
    "            images, labels = images.to(device), labels.to(device)\n",
    "            outputs = model(images)\n",
    "            loss = criterion(outputs, labels)\n",
    "            val_loss += loss.item()\n",
    "            _, predicted = torch.max(outputs, 1)\n",
    "            total += labels.size(0)\n",
    "            correct += (predicted == labels).sum().item()\n",
    "    val_losses.append(val_loss / len(valloader))\n",
    "    val_accuracies.append(100 * correct / total)\n",
    "\n",
    "    print(f\"Epoch [{epoch+1}/20], Train Loss: {train_losses[-1]:.4f}, Val Loss: {val_losses[-1]:.4f}, Val Acc: {val_accuracies[-1]:.2f}%\")\n"
   ]
  },
  {
   "cell_type": "markdown",
   "metadata": {
    "id": "6I2IUuE5Lnbr"
   },
   "source": [
    "# 학습결과 확인"
   ]
  },
  {
   "cell_type": "code",
   "execution_count": 14,
   "metadata": {
    "execution": {
     "iopub.execute_input": "2025-08-04T13:42:19.793934Z",
     "iopub.status.busy": "2025-08-04T13:42:19.793806Z",
     "iopub.status.idle": "2025-08-04T13:42:19.890150Z",
     "shell.execute_reply": "2025-08-04T13:42:19.889515Z",
     "shell.execute_reply.started": "2025-08-04T13:42:19.793921Z"
    },
    "id": "GJRHS8OoKWAe"
   },
   "outputs": [
    {
     "data": {
      "image/png": "[encoded data removed]",
      "text/plain": [
       "<Figure size 640x480 with 1 Axes>"
      ]
     },
     "metadata": {},
     "output_type": "display_data"
    }
   ],
   "source": [
    "plt.figure()\n",
    "plt.plot(train_losses, label=\"Train Loss\")\n",
    "plt.plot(val_losses, label=\"Val Loss\")\n",
    "plt.legend()\n",
    "plt.title(\"Loss\")\n",
    "plt.show()"
   ]
  },
  {
   "cell_type": "code",
   "execution_count": 15,
   "metadata": {
    "execution": {
     "iopub.execute_input": "2025-08-04T13:42:19.890694Z",
     "iopub.status.busy": "2025-08-04T13:42:19.890568Z",
     "iopub.status.idle": "2025-08-04T13:42:19.966535Z",
     "shell.execute_reply": "2025-08-04T13:42:19.965916Z",
     "shell.execute_reply.started": "2025-08-04T13:42:19.890679Z"
    },
    "id": "K3dThCqwLvLG"
   },
   "outputs": [
    {
     "data": {
      "image/png": "[encoded data removed]",
      "text/plain": [
       "<Figure size 640x480 with 1 Axes>"
      ]
     },
     "metadata": {},
     "output_type": "display_data"
    }
   ],
   "source": [
    "plt.figure()\n",
    "plt.plot(val_accuracies, label=\"Val Accuracy\")\n",
    "plt.legend()\n",
    "plt.title(\"Accuracy\")\n",
    "plt.show()"
   ]
  },
  {
   "cell_type": "code",
   "execution_count": null,
   "metadata": {
    "id": "kLFmGovFLyY_"
   },
   "outputs": [],
   "source": []
  }
 ],
 "metadata": {
  "accelerator": "GPU",
  "colab": {
   "gpuType": "T4",
   "provenance": []
  },
  "kernelspec": {
   "display_name": "Python 3 (ipykernel)",
   "language": "python",
   "name": "python3"
  },
  "language_info": {
   "codemirror_mode": {
    "name": "ipython",
    "version": 3
   },
   "file_extension": ".py",
   "mimetype": "text/x-python",
   "name": "python",
   "nbconvert_exporter": "python",
   "pygments_lexer": "ipython3",
   "version": "3.10.0"
  }
 },
 "nbformat": 4,
 "nbformat_minor": 4
}
