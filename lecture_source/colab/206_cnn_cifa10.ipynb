{
  "cells": [
    {
      "cell_type": "code",
      "execution_count": null,
      "metadata": {
        "id": "AlDR6sjwxFcp"
      },
      "outputs": [],
      "source": [
        "import numpy as np"
      ]
    },
    {
      "cell_type": "code",
      "execution_count": null,
      "metadata": {
        "id": "VZKEqAh9vyTI"
      },
      "outputs": [],
      "source": [
        "import torch\n",
        "import torch.nn as nn\n",
        "import torch.optim as optim\n",
        "import torchvision\n",
        "import matplotlib.pyplot as plt"
      ]
    },
    {
      "cell_type": "markdown",
      "metadata": {
        "id": "NR8E6URZK1X3"
      },
      "source": [
        "# 데이터 로딩"
      ]
    },
    {
      "cell_type": "code",
      "execution_count": null,
      "metadata": {
        "id": "yPGOz6I1JkBj"
      },
      "outputs": [],
      "source": [
        "# CIFAR-10 로드 (채널-마지막: BHWC)\n",
        "trainset_raw = torchvision.datasets.CIFAR10(root='./data', train=True, download=True)\n",
        "testset_raw  = torchvision.datasets.CIFAR10(root='./data', train=False, download=True)"
      ]
    },
    {
      "cell_type": "code",
      "execution_count": null,
      "metadata": {
        "id": "_viM93bsx-jL"
      },
      "outputs": [],
      "source": [
        "for row in trainset_raw.data[0][:, :, 0]:  # 32x32x3 중 빨간 채널만\n",
        "    print(\" \".join(f\"{int(v):3}\" for v in row))"
      ]
    },
    {
      "cell_type": "code",
      "execution_count": null,
      "metadata": {
        "id": "dE8sAmXnOXML"
      },
      "outputs": [],
      "source": [
        "def plotCifa10(idx):\n",
        "    arr = trainset_raw.data[idx] # (32, 32, 3) uint8, RGB\n",
        "    label = trainset_raw.targets[idx]\n",
        "    label_name = trainset_raw.classes[label]\n",
        "\n",
        "    plt.figure(figsize=(2,2))\n",
        "    plt.imshow(arr) # RGB이므로 바로 표시 가능\n",
        "    plt.title(f\"{label} ({label_name})\")\n",
        "    plt.axis('off')\n",
        "    plt.show()"
      ]
    },
    {
      "cell_type": "code",
      "execution_count": null,
      "metadata": {
        "id": "utFTeB1-OXML"
      },
      "outputs": [],
      "source": [
        "plotCifa10(0)"
      ]
    },
    {
      "cell_type": "code",
      "execution_count": null,
      "metadata": {
        "id": "XvkzW_RbwArU"
      },
      "outputs": [],
      "source": [
        "# numpy → tensor 변환 & 정규화 (CHW로 일관)\n",
        "def preprocess_cifar(dataset):\n",
        "    # dataset.data: (N, 32, 32, 3) uint8\n",
        "    images = torch.from_numpy(dataset.data).permute(0, 3, 1, 2).contiguous().float() / 255.0  # -> (B, 3, 32, 32)\n",
        "    mean, std = images.mean(), images.std()             # 스칼라 정규화(원 코드 스타일 유지)\n",
        "    images = (images - mean) / (std + 1e-7)             # 수치 안정성 보정\n",
        "    labels = torch.tensor(dataset.targets, dtype=torch.long)\n",
        "    return images, labels"
      ]
    },
    {
      "cell_type": "code",
      "execution_count": null,
      "metadata": {
        "id": "9nPvfM7603k-"
      },
      "outputs": [],
      "source": [
        "train_images, train_labels = preprocess_cifar(trainset_raw)\n",
        "test_images,  test_labels  = preprocess_cifar(testset_raw)"
      ]
    },
    {
      "cell_type": "code",
      "execution_count": null,
      "metadata": {
        "id": "FkpbW7OyOXML"
      },
      "outputs": [],
      "source": [
        "train_images.shape, train_labels.shape, test_images.shape, test_labels.shape"
      ]
    },
    {
      "cell_type": "code",
      "execution_count": null,
      "metadata": {
        "id": "ed7zBxPC-Ga7"
      },
      "outputs": [],
      "source": [
        "# Dataset 객체로 묶기\n",
        "full_dataset = torch.utils.data.TensorDataset(train_images, train_labels)"
      ]
    },
    {
      "cell_type": "code",
      "execution_count": null,
      "metadata": {
        "id": "Waum6sBc06kC"
      },
      "outputs": [],
      "source": [
        "# train/val split (Dataset을 그대로 분할)\n",
        "train_size = int(0.8 * len(full_dataset))\n",
        "val_size = len(full_dataset) - train_size\n",
        "train_dataset, val_dataset = torch.utils.data.random_split(full_dataset, [train_size, val_size])"
      ]
    },
    {
      "cell_type": "code",
      "execution_count": null,
      "metadata": {
        "id": "LLzb5tSw1Cx4"
      },
      "outputs": [],
      "source": [
        "trainloader = torch.utils.data.DataLoader(train_dataset, batch_size=64, shuffle=True)\n",
        "valloader = torch.utils.data.DataLoader(val_dataset, batch_size=64, shuffle=False)"
      ]
    },
    {
      "cell_type": "markdown",
      "metadata": {
        "id": "kqmrLrj41R-_"
      },
      "source": [
        "# 모델 생성"
      ]
    },
    {
      "cell_type": "code",
      "source": [
        "# !pip install torchinfo torchview"
      ],
      "metadata": {
        "id": "WZh1NgSWOk-4"
      },
      "execution_count": null,
      "outputs": []
    },
    {
      "cell_type": "code",
      "execution_count": null,
      "metadata": {
        "id": "MTi_cTHTOXML"
      },
      "outputs": [],
      "source": [
        "from torchinfo import summary"
      ]
    },
    {
      "cell_type": "code",
      "execution_count": null,
      "metadata": {
        "id": "GAmA7CIi_C_4"
      },
      "outputs": [],
      "source": [
        "device = torch.device(\"cuda\" if torch.cuda.is_available() else \"cpu\")"
      ]
    },
    {
      "cell_type": "code",
      "execution_count": null,
      "metadata": {
        "id": "biwUoKgE1Pvf"
      },
      "outputs": [],
      "source": [
        "class CNN(nn.Module):\n",
        "    \"\"\"\n",
        "    입력: (B, 3, 32, 32)\n",
        "    출력: (B, 10)  # CrossEntropyLoss에 바로 사용\n",
        "    \"\"\"\n",
        "    def __init__(self, num_classes: int = 10, p_drop: float = 0.25):\n",
        "        super().__init__()\n",
        "        self.features = nn.Sequential(\n",
        "            # 32x32 -> 32x32\n",
        "            nn.Conv2d(3, 32, kernel_size=3, padding=1, bias=False),\n",
        "            nn.BatchNorm2d(32),\n",
        "            nn.ReLU(inplace=True),\n",
        "            # 32x32 -> 16x16\n",
        "            nn.MaxPool2d(2),\n",
        "\n",
        "            # 16x16 -> 16x16\n",
        "            nn.Conv2d(32, 64, kernel_size=3, padding=1, bias=False),\n",
        "            nn.BatchNorm2d(64),\n",
        "            nn.ReLU(inplace=True),\n",
        "            # 16x16 -> 8x8\n",
        "            nn.MaxPool2d(2),\n",
        "        )\n",
        "        self.avgpool = nn.AdaptiveAvgPool2d(1)  # -> (B, 64, 1, 1)\n",
        "        self.classifier = nn.Sequential(\n",
        "            nn.Flatten(),               # -> (B, 64)\n",
        "            nn.Dropout(p_drop),\n",
        "            nn.Linear(64, num_classes), # -> (B, 10)\n",
        "        )\n",
        "\n",
        "    def forward(self, x):\n",
        "        # x는 이미 (B, 3, 32, 32) 라고 가정\n",
        "        x = self.features(x)\n",
        "        x = self.avgpool(x)\n",
        "        x = self.classifier(x)\n",
        "        return x"
      ]
    },
    {
      "cell_type": "code",
      "execution_count": null,
      "metadata": {
        "id": "b7J5SRDg1Wij"
      },
      "outputs": [],
      "source": [
        "model = CNN().to(device)  # 모델을 GPU로 이동\n",
        "loss_fn = nn.CrossEntropyLoss()\n",
        "optimizer = optim.Adam(model.parameters(), lr=1e-3)"
      ]
    },
    {
      "cell_type": "code",
      "execution_count": null,
      "metadata": {
        "id": "ohrs8f4hOXMM"
      },
      "outputs": [],
      "source": [
        "summary(model, input_size=(1, 3, 28, 28))"
      ]
    },
    {
      "cell_type": "code",
      "execution_count": null,
      "metadata": {
        "id": "rf3eK-kFOXMM"
      },
      "outputs": [],
      "source": [
        "from torchview import draw_graph"
      ]
    },
    {
      "cell_type": "code",
      "execution_count": null,
      "metadata": {
        "id": "XsYnvW2JOXMM"
      },
      "outputs": [],
      "source": [
        "draw_graph(model, input_size=(1, 3, 28, 28)).visual_graph"
      ]
    },
    {
      "cell_type": "markdown",
      "metadata": {
        "id": "rzjYlHoM1hv2"
      },
      "source": [
        "# 학습"
      ]
    },
    {
      "cell_type": "code",
      "execution_count": null,
      "metadata": {
        "id": "VWpTl5fx1at4"
      },
      "outputs": [],
      "source": [
        "# 로그 저장용 리스트\n",
        "train_losses, train_accuracies, valid_losses, valid_accuracies = [], [], [], []"
      ]
    },
    {
      "cell_type": "code",
      "execution_count": null,
      "metadata": {
        "id": "jACW4Tr11jhU"
      },
      "outputs": [],
      "source": [
        "for epoch in range(30):                       # 총 40번 데이터셋을 반복\n",
        "    model.train()                             # 학습 모드(드롭아웃/배치정규화 등 학습 동작 켜짐)\n",
        "    running_loss = 0                          # 에폭 동안의 학습 손실 누적 변수\n",
        "    train_correct, train_total = 0, 0         # (추가) 에폭 단위 Train Acc 계산용\n",
        "\n",
        "    # ---- 미니배치 학습 루프 ----\n",
        "    for inputs, labels in trainloader:        # DataLoader에서 (입력, 정답) 배치를 꺼냄\n",
        "        inputs, labels = inputs.to(device), labels.to(device)  # 배치 텐서를 모델과 같은 장치로 이동\n",
        "        optimizer.zero_grad()                 # 직전 step의 누적 gradient를 0으로 초기화\n",
        "        outputs = model(inputs)               # 순전파: 모델이 logits(미규격화 점수) 출력\n",
        "        loss = loss_fn(outputs, labels)       # 손실 계산(CrossEntropyLoss: softmax+NLL 통합)\n",
        "        loss.backward()                       # 역전파: 각 파라미터의 gradient 계산\n",
        "        optimizer.step()                      # 가중치 갱신(gradient를 이용해 한 스텝 업데이트)\n",
        "        running_loss += loss.item()           # 현재 배치의 손실 값을 파이썬 float로 누적\n",
        "\n",
        "        # (추가) 배치 예측으로 Train Acc 누적\n",
        "        _, predicted = torch.max(outputs, 1)\n",
        "        train_total += labels.size(0)\n",
        "        train_correct += (predicted == labels).sum().item()\n",
        "\n",
        "    train_losses.append(running_loss / len(trainloader))  # 에폭 평균 학습 손실 기록 (배치 개수로 나눔)\n",
        "    train_accuracies.append(100 * train_correct / train_total)     # 학습 정확도(%) 기록\n",
        "\n",
        "    # ----- Validation -----\n",
        "    model.eval()                              # 평가 모드(드롭아웃/BN 등 평가 동작)\n",
        "    val_loss, correct, total = 0, 0, 0\n",
        "    with torch.no_grad():                     # 평가 시에는 gradient 계산 비활성화(메모리/속도 이점)\n",
        "        for inputs, labels in valloader:      # 검증 데이터 배치 반복\n",
        "            inputs, labels = inputs.to(device), labels.to(device)  # 장치 정렬\n",
        "            outputs = model(inputs)           # 순전파만 수행\n",
        "            loss = loss_fn(outputs, labels)   # 검증 배치 손실\n",
        "            val_loss += loss.item()           # 손실 누적\n",
        "            _, predicted = torch.max(outputs, 1)     # 각 샘플의 최고 점수 클래스 인덱스\n",
        "            total += labels.size(0)                  # 총 샘플 수 누적\n",
        "            correct += (predicted == labels).sum().item()  # 맞춘 개수 누적\n",
        "\n",
        "    valid_losses.append(val_loss / len(valloader))     # 에폭 평균 검증 손실 기록\n",
        "    valid_accuracies.append(100 * correct / total)     # 검증 정확도(%) 기록\n",
        "\n",
        "    # 진행 상황 출력(총 30에 맞추어 표기)\n",
        "    print(f\"Epoch {epoch+1}/30 : TRAIN[Loss: {train_losses[-1]:.4f}, Acc: {train_accuracies[-1]:.2f}%], VALID[Loss: {valid_losses[-1]:.4f}, Acc: {valid_accuracies[-1]:.2f}%]\")"
      ]
    },
    {
      "cell_type": "markdown",
      "metadata": {
        "id": "dXTc9Phv1s9j"
      },
      "source": [
        "# 학습결과 확인"
      ]
    },
    {
      "cell_type": "code",
      "execution_count": null,
      "metadata": {
        "id": "Or0u5QZh1nIH"
      },
      "outputs": [],
      "source": [
        "plt.figure()\n",
        "plt.plot(train_losses, label=\"Train Loss\")\n",
        "plt.plot(valid_losses, label=\"Valid Loss\")\n",
        "plt.legend()\n",
        "plt.title(\"Loss\")\n",
        "plt.show()"
      ]
    },
    {
      "cell_type": "code",
      "execution_count": null,
      "metadata": {
        "id": "ezfkd_Hk1zyD"
      },
      "outputs": [],
      "source": [
        "plt.figure()\n",
        "plt.plot(train_accuracies, label=\"Train Accuracy\")\n",
        "plt.plot(valid_accuracies, label=\"Valid Accuracy\")\n",
        "plt.legend()\n",
        "plt.title(\"Accuracy\")\n",
        "plt.show()"
      ]
    },
    {
      "cell_type": "code",
      "execution_count": null,
      "metadata": {
        "id": "Q_OlUIPm12_a"
      },
      "outputs": [],
      "source": []
    },
    {
      "cell_type": "code",
      "execution_count": null,
      "metadata": {
        "id": "qkb9l16KOXMM"
      },
      "outputs": [],
      "source": []
    },
    {
      "cell_type": "code",
      "execution_count": null,
      "metadata": {
        "id": "LJRueYqJOXMM"
      },
      "outputs": [],
      "source": []
    }
  ],
  "metadata": {
    "accelerator": "GPU",
    "colab": {
      "gpuType": "T4",
      "provenance": []
    },
    "kernelspec": {
      "display_name": "Python 3 (ipykernel)",
      "language": "python",
      "name": "python3"
    },
    "language_info": {
      "codemirror_mode": {
        "name": "ipython",
        "version": 3
      },
      "file_extension": ".py",
      "mimetype": "text/x-python",
      "name": "python",
      "nbconvert_exporter": "python",
      "pygments_lexer": "ipython3",
      "version": "3.10.0"
    }
  },
  "nbformat": 4,
  "nbformat_minor": 0
}