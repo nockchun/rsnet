{
  "cells": [
    {
      "cell_type": "markdown",
      "metadata": {
        "id": "NR8E6URZK1X3"
      },
      "source": [
        "# 기본환경 설정"
      ]
    },
    {
      "cell_type": "code",
      "execution_count": null,
      "metadata": {
        "id": "cif6wZ3gFfgS"
      },
      "outputs": [],
      "source": [
        "from google.colab import userdata\n",
        "HF_KEY = userdata.get(\"HF_KEY\")"
      ]
    },
    {
      "cell_type": "code",
      "execution_count": null,
      "metadata": {
        "id": "yPGOz6I1JkBj"
      },
      "outputs": [],
      "source": [
        "import huggingface_hub\n",
        "huggingface_hub.login(HF_KEY)"
      ]
    },
    {
      "cell_type": "markdown",
      "metadata": {
        "id": "5_XVtfyiLiAi"
      },
      "source": [
        "# 모델 로딩"
      ]
    },
    {
      "cell_type": "code",
      "source": [
        "!pip install unsloth"
      ],
      "metadata": {
        "id": "ytupUJr0F2av"
      },
      "execution_count": null,
      "outputs": []
    },
    {
      "cell_type": "code",
      "execution_count": null,
      "metadata": {
        "id": "1oQenpTCPMyh"
      },
      "outputs": [],
      "source": [
        "from unsloth import FastLanguageModel\n",
        "import torch"
      ]
    },
    {
      "cell_type": "code",
      "execution_count": null,
      "metadata": {
        "id": "Tp3lg2WKFfgT"
      },
      "outputs": [],
      "source": [
        "model, tokenizer = FastLanguageModel.from_pretrained(\n",
        "    model_name=\"unsloth/gemma-3-4b-it\",\n",
        "    load_in_4bit=True\n",
        ")"
      ]
    },
    {
      "cell_type": "code",
      "execution_count": null,
      "metadata": {
        "id": "JVRVaDllFfgT"
      },
      "outputs": [],
      "source": [
        "model = FastLanguageModel.for_inference(model)"
      ]
    },
    {
      "cell_type": "markdown",
      "metadata": {
        "id": "6kUP2LENFfgT"
      },
      "source": [
        "# Custom ChatModel 함수"
      ]
    },
    {
      "cell_type": "code",
      "execution_count": null,
      "metadata": {
        "id": "n6O06ciTFfgT"
      },
      "outputs": [],
      "source": [
        "from typing import List, Any, ClassVar\n",
        "from langchain_core.language_models.chat_models import BaseChatModel\n",
        "from langchain_core.outputs import ChatResult, ChatGeneration\n",
        "from langchain_core.messages import AIMessage, HumanMessage, SystemMessage"
      ]
    },
    {
      "cell_type": "code",
      "execution_count": null,
      "metadata": {
        "id": "1sdhrI1WFfgU"
      },
      "outputs": [],
      "source": [
        "class GemmaChatModel(BaseChatModel):\n",
        "    def __init__(self, model, tokenizer, max_tokens: int = 512, do_sample: bool = True, temperature: float = 0.7, top_p: float = 0.9):\n",
        "        super().__init__()\n",
        "        object.__setattr__(self, \"model\", model)\n",
        "        object.__setattr__(self, \"tokenizer\", tokenizer)\n",
        "        object.__setattr__(self, \"max_tokens\", max_tokens)\n",
        "        object.__setattr__(self, \"do_sample\", do_sample)\n",
        "        object.__setattr__(self, \"temperature\", temperature)\n",
        "        object.__setattr__(self, \"top_p\", top_p)\n",
        "\n",
        "    @property\n",
        "    def _llm_type(self) -> str:\n",
        "        return \"gemma-chat\"\n",
        "\n",
        "    def _format_messages(self, messages: List[Any]) -> str:\n",
        "        prompt = \"\"\n",
        "        for message in messages:\n",
        "            if isinstance(message, SystemMessage):\n",
        "                prompt += f\"<|system|>\\n{message.content}</s>\\n\"\n",
        "            elif isinstance(message, HumanMessage):\n",
        "                prompt += f\"<|user|>\\n{message.content}</s>\\n\"\n",
        "            elif isinstance(message, AIMessage):\n",
        "                prompt += f\"<|assistant|>\\n{message.content}</s>\\n\"\n",
        "        prompt += \"<|assistant|>\\n\"\n",
        "        return prompt\n",
        "\n",
        "    def _generate(self, messages: List[Any], **kwargs) -> ChatResult:\n",
        "        prompt = self._format_messages(messages)\n",
        "        inputs = self.tokenizer(prompt, return_tensors=\"pt\").to(self.model.device)\n",
        "\n",
        "        with torch.no_grad():\n",
        "            outputs = self.model.generate(\n",
        "                **inputs,\n",
        "                max_new_tokens=self.max_tokens,\n",
        "                do_sample=kwargs.get(\"do_sample\", self.do_sample),\n",
        "                temperature=kwargs.get(\"temperature\", self.temperature),\n",
        "                top_p=kwargs.get(\"top_p\", self.top_p),\n",
        "                eos_token_id=self.tokenizer.eos_token_id,\n",
        "            )\n",
        "\n",
        "        decoded = self.tokenizer.decode(outputs[0], skip_special_tokens=True)\n",
        "        response = decoded.split(\"<|assistant|>\\n\")[-1].strip()\n",
        "\n",
        "        return ChatResult(generations=[ChatGeneration(message=AIMessage(content=response))])"
      ]
    },
    {
      "cell_type": "code",
      "execution_count": null,
      "metadata": {
        "id": "Crk87gf0FfgU"
      },
      "outputs": [],
      "source": [
        "chat_model = GemmaChatModel(model=model, tokenizer=tokenizer, max_tokens=512)"
      ]
    },
    {
      "cell_type": "markdown",
      "metadata": {
        "id": "tmP6v7V8FfgU"
      },
      "source": [
        "# Prompt 수행"
      ]
    },
    {
      "cell_type": "code",
      "execution_count": null,
      "metadata": {
        "id": "o7Cu7fzBFfgU"
      },
      "outputs": [],
      "source": [
        "result = chat_model.invoke([\n",
        "    SystemMessage(content=\"너는 친절하고 머신러닝 기술을 잘아는 전문가 AI야.\"),\n",
        "    HumanMessage(content=\"LangChain은 무엇인가요?\"),\n",
        "])\n",
        "print(result.content)"
      ]
    },
    {
      "cell_type": "markdown",
      "metadata": {
        "id": "lUfJeekfFfgU"
      },
      "source": [
        "# Chat History In Memory 구성"
      ]
    },
    {
      "cell_type": "code",
      "execution_count": null,
      "metadata": {
        "id": "MWjkXRPnFfgU"
      },
      "outputs": [],
      "source": [
        "from langchain_core.prompts import ChatPromptTemplate, MessagesPlaceholder\n",
        "from langchain_core.chat_history import BaseChatMessageHistory, InMemoryChatMessageHistory\n",
        "from langchain_core.runnables.history import RunnableWithMessageHistory"
      ]
    },
    {
      "cell_type": "code",
      "execution_count": null,
      "metadata": {
        "id": "l_BbBvmRFfgU"
      },
      "outputs": [],
      "source": [
        "# Prompt 템플릿 정의 : GemmaChatModel이 원하는 형태로 변경하기 위해.\n",
        "prompt = ChatPromptTemplate.from_messages([\n",
        "    (\"system\", \"You are a helpful assistant.\"),\n",
        "    MessagesPlaceholder(variable_name=\"history\"),\n",
        "    (\"human\", \"{input}\"),\n",
        "])"
      ]
    },
    {
      "cell_type": "code",
      "execution_count": null,
      "metadata": {
        "id": "8n3xtcGJFfgU"
      },
      "outputs": [],
      "source": [
        "# 세션별 history 저장 함수\n",
        "store = {}\n",
        "def get_history(session_id: str) -> BaseChatMessageHistory:\n",
        "    if session_id not in store:\n",
        "        store[session_id] = InMemoryChatMessageHistory()\n",
        "    return store[session_id]"
      ]
    },
    {
      "cell_type": "code",
      "execution_count": null,
      "metadata": {
        "id": "9w_rZk_aFfgU"
      },
      "outputs": [],
      "source": [
        "# RunnableWithMessageHistory 구성\n",
        "runnable = RunnableWithMessageHistory(\n",
        "    prompt | chat_model,  # chat_model은 GemmaChatModel 인스턴스\n",
        "    get_history,\n",
        "    input_messages_key=\"input\",\n",
        "    history_messages_key=\"history\"\n",
        ")"
      ]
    },
    {
      "cell_type": "markdown",
      "metadata": {
        "id": "zQX6Pxw0FfgV"
      },
      "source": [
        "# session별 Chat History In Memory 수행"
      ]
    },
    {
      "cell_type": "markdown",
      "metadata": {
        "id": "3hd1kX20FfgV"
      },
      "source": [
        "# user1 session 테스트"
      ]
    },
    {
      "cell_type": "code",
      "execution_count": null,
      "metadata": {
        "id": "6kFXfOXrFfgV"
      },
      "outputs": [],
      "source": [
        "# 세션 아이디 설정\n",
        "session_id = \"user1\""
      ]
    },
    {
      "cell_type": "code",
      "execution_count": null,
      "metadata": {
        "id": "qTvX8S8dFfgV"
      },
      "outputs": [],
      "source": [
        "# 4. 대화 실행\n",
        "response1 = runnable.invoke(\n",
        "    {\"input\": \"나는 민수라고 해.\"},\n",
        "    config={\"configurable\": {\"session_id\": session_id}}\n",
        ")\n",
        "print(\"Response 1:\", response1.content)"
      ]
    },
    {
      "cell_type": "code",
      "execution_count": null,
      "metadata": {
        "id": "1WqZE3_sFfgV"
      },
      "outputs": [],
      "source": [
        "response2 = runnable.invoke(\n",
        "    {\"input\": \"내 이름 기억해?\"},\n",
        "    config={\"configurable\": {\"session_id\": session_id}}\n",
        ")\n",
        "print(\"Response 2:\", response2.content)"
      ]
    },
    {
      "cell_type": "code",
      "execution_count": null,
      "metadata": {
        "id": "YWfm9MwrFfgV"
      },
      "outputs": [],
      "source": [
        "# 5. History 출력 (검증)\n",
        "history = get_history(session_id)\n",
        "print(\"\\n=== Conversation History ===\")\n",
        "for msg in history.messages:\n",
        "    print(f\"{msg.type.upper()}: {msg.content}\")"
      ]
    },
    {
      "cell_type": "markdown",
      "metadata": {
        "id": "S4KpEHTCFfgV"
      },
      "source": [
        "# user2 session 테스트"
      ]
    },
    {
      "cell_type": "code",
      "execution_count": null,
      "metadata": {
        "id": "DLbzccQbFfgV"
      },
      "outputs": [],
      "source": [
        "# 세션 아이디 설정\n",
        "session_id = \"user2\""
      ]
    },
    {
      "cell_type": "code",
      "execution_count": null,
      "metadata": {
        "id": "vHeSzfK2FfgV"
      },
      "outputs": [],
      "source": [
        "response1 = runnable.invoke(\n",
        "    {\"input\": \"나는 철수라고 해.\"},\n",
        "    config={\"configurable\": {\"session_id\": session_id}}\n",
        ")\n",
        "response2 = runnable.invoke(\n",
        "    {\"input\": \"내 이름 기억해?\"},\n",
        "    config={\"configurable\": {\"session_id\": session_id}}\n",
        ")\n",
        "print(\"Response 2:\", response2.content)"
      ]
    },
    {
      "cell_type": "code",
      "execution_count": null,
      "metadata": {
        "id": "czP3PteJFfgV"
      },
      "outputs": [],
      "source": [
        "# History 출력 (검증)\n",
        "history = get_history(session_id)\n",
        "print(\"\\n=== Conversation History ===\")\n",
        "for msg in history.messages:\n",
        "    print(f\"{msg.type.upper()}: {msg.content}\")"
      ]
    },
    {
      "cell_type": "markdown",
      "metadata": {
        "id": "wLS-0y1DFfgV"
      },
      "source": [
        "# user1 session에 추가 질문"
      ]
    },
    {
      "cell_type": "code",
      "execution_count": null,
      "metadata": {
        "id": "sDOhuXmiFfgV"
      },
      "outputs": [],
      "source": [
        "# 세션 아이디 설정\n",
        "session_id = \"user1\""
      ]
    },
    {
      "cell_type": "code",
      "execution_count": null,
      "metadata": {
        "id": "pxU0FaYWFfgV"
      },
      "outputs": [],
      "source": [
        "response2 = runnable.invoke(\n",
        "    {\"input\": \"내 이름 기억해?\"},\n",
        "    config={\"configurable\": {\"session_id\": session_id}}\n",
        ")\n",
        "print(\"Response 2:\", response2.content)"
      ]
    },
    {
      "cell_type": "code",
      "execution_count": null,
      "metadata": {
        "id": "491UjUtwFfgV"
      },
      "outputs": [],
      "source": [
        "# History 출력 (검증)\n",
        "history = get_history(session_id)\n",
        "print(\"\\n=== Conversation History ===\")\n",
        "for msg in history.messages:\n",
        "    print(f\"{msg.type.upper()}: {msg.content}\")"
      ]
    },
    {
      "cell_type": "code",
      "execution_count": null,
      "metadata": {
        "id": "WgW5FjYZFfgW"
      },
      "outputs": [],
      "source": []
    },
    {
      "cell_type": "code",
      "execution_count": null,
      "metadata": {
        "id": "_9oKMDemFfgW"
      },
      "outputs": [],
      "source": []
    },
    {
      "cell_type": "code",
      "execution_count": null,
      "metadata": {
        "id": "B-vQ3cgRFfgW"
      },
      "outputs": [],
      "source": []
    },
    {
      "cell_type": "code",
      "execution_count": null,
      "metadata": {
        "id": "CyvgzBe2FfgW"
      },
      "outputs": [],
      "source": []
    }
  ],
  "metadata": {
    "accelerator": "GPU",
    "colab": {
      "gpuType": "T4",
      "provenance": []
    },
    "kernelspec": {
      "display_name": "Python 3 (ipykernel)",
      "language": "python",
      "name": "python3"
    },
    "language_info": {
      "codemirror_mode": {
        "name": "ipython",
        "version": 3
      },
      "file_extension": ".py",
      "mimetype": "text/x-python",
      "name": "python",
      "nbconvert_exporter": "python",
      "pygments_lexer": "ipython3",
      "version": "3.10.0"
    }
  },
  "nbformat": 4,
  "nbformat_minor": 0
}