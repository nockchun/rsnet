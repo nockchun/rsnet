{
 "cells": [
  {
   "cell_type": "code",
   "execution_count": 1,
   "id": "eb6be279-1a55-47d9-a4f8-6eb88bfc22ea",
   "metadata": {},
   "outputs": [],
   "source": [
    "from random import randint"
   ]
  },
  {
   "cell_type": "code",
   "execution_count": 2,
   "id": "188962dc-5b02-4ef1-937b-a4779fc7f100",
   "metadata": {},
   "outputs": [],
   "source": [
    "from airflow import DAG\n",
    "from airflow.operators.python import PythonOperator, BranchPythonOperator\n",
    "from airflow.operators.bash import BashOperator"
   ]
  },
  {
   "cell_type": "code",
   "execution_count": 3,
   "id": "177dd0e5-6b7b-45d1-b625-dd2fe33ae2af",
   "metadata": {},
   "outputs": [],
   "source": [
    "from datetime import datetime"
   ]
  },
  {
   "cell_type": "code",
   "execution_count": 4,
   "id": "b2a4fc8c-2b51-45cf-82ba-d9ff240b412f",
   "metadata": {},
   "outputs": [],
   "source": [
    "def _choose_best_model(ti):\n",
    "    accuracies = ti.xcom_pull(task_ids=[\n",
    "        \"training_model_A\",\n",
    "        \"training_model_B\",\n",
    "        \"training_model_C\"\n",
    "    ])\n",
    "    best_accuracy = max(accuracies)\n",
    "    if (best_accuracy > 8):\n",
    "        return \"accurate\"\n",
    "    return \"inaccurate\""
   ]
  },
  {
   "cell_type": "code",
   "execution_count": 5,
   "id": "bc26d92f-ec61-4301-9c63-09feef2184da",
   "metadata": {},
   "outputs": [],
   "source": [
    "def _training_model():\n",
    "    return randint(1, 10)"
   ]
  },
  {
   "cell_type": "code",
   "execution_count": 6,
   "id": "a000042b-c82e-4b95-8fb0-dd0bd939aa93",
   "metadata": {},
   "outputs": [],
   "source": [
    "with DAG(\"my_dag\", start_date=datetime(2021, 1, 1), schedule_interval=\"@daily\", catchup=False) as dag:\n",
    "    training_module_A = PythonOperator(\n",
    "        task_id=\"training_model_A\",\n",
    "        python_callable=_training_model\n",
    "    )\n",
    "    training_module_B = PythonOperator(\n",
    "        task_id=\"training_model_B\",\n",
    "        python_callable=_training_model\n",
    "    )\n",
    "    training_module_C = PythonOperator(\n",
    "        task_id=\"training_model_C\",\n",
    "        python_callable=_training_model\n",
    "    )\n",
    "    choose_base_model = BranchPythonOperator(\n",
    "        task_id = \"choose_best_model\",\n",
    "        python_callable=_choose_best_model\n",
    "    )\n",
    "    accurate = BashOperator(\n",
    "        task_id = \"accurate\",\n",
    "        bash_command=\"echo 'accurate'\"\n",
    "    )\n",
    "    inaccurate = BashOperator(\n",
    "        task_id = \"inaccurate\",\n",
    "        bash_command=\"echo 'inaccurate'\"\n",
    "    )"
   ]
  },
  {
   "cell_type": "code",
   "execution_count": null,
   "id": "237aa555-3a2b-4d4f-9050-6d4c2690ef94",
   "metadata": {},
   "outputs": [],
   "source": []
  }
 ],
 "metadata": {
  "kernelspec": {
   "display_name": "Python 3",
   "language": "python",
   "name": "python3"
  },
  "language_info": {
   "codemirror_mode": {
    "name": "ipython",
    "version": 3
   },
   "file_extension": ".py",
   "mimetype": "text/x-python",
   "name": "python",
   "nbconvert_exporter": "python",
   "pygments_lexer": "ipython3",
   "version": "3.8.10"
  }
 },
 "nbformat": 4,
 "nbformat_minor": 5
}
