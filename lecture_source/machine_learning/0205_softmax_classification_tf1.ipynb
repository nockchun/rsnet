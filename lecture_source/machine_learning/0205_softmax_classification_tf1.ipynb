{
 "cells": [
  {
   "cell_type": "markdown",
   "metadata": {},
   "source": [
    "<div class=\"alert alert-block alert-success\">\n",
    "    <b><center>SOFTMAX CLASSIFICATION</center></b>\n",
    "    <b><center>Multiclass Classification에 댸한 기본을 이해하기 위한 코드</center></b>\n",
    "</div>"
   ]
  },
  {
   "cell_type": "markdown",
   "metadata": {},
   "source": [
    "# Configure Learning Environment"
   ]
  },
  {
   "cell_type": "code",
   "execution_count": 1,
   "metadata": {},
   "outputs": [],
   "source": [
    "# !pip install git+https://github.com/nockchun/rspy --force\n",
    "import rspy as rsp\n",
    "rsp.setSystemWarning(off=True)"
   ]
  },
  {
   "cell_type": "code",
   "execution_count": 2,
   "metadata": {},
   "outputs": [],
   "source": [
    "import numpy as np\n",
    "import tensorflow as tf\n",
    "import matplotlib.pyplot as plt\n",
    "import seaborn as sns\n",
    "from ipywidgets import interact"
   ]
  },
  {
   "cell_type": "code",
   "execution_count": 3,
   "metadata": {},
   "outputs": [
    {
     "data": {
      "text/plain": [
       "'1.15.0'"
      ]
     },
     "execution_count": 3,
     "metadata": {},
     "output_type": "execute_result"
    }
   ],
   "source": [
    "np.set_printoptions(linewidth=200, precision=2)\n",
    "tf.__version__"
   ]
  },
  {
   "cell_type": "markdown",
   "metadata": {},
   "source": [
    "# Understanding The Concept"
   ]
  },
  {
   "cell_type": "code",
   "execution_count": 4,
   "metadata": {},
   "outputs": [],
   "source": [
    "eduConf = rsp.EduPlotConf(font=\"NanumGothicCoding\", figScale=1)\n",
    "plotExp = rsp.EduPlot2D(eduConf)"
   ]
  },
  {
   "cell_type": "code",
   "execution_count": 5,
   "metadata": {},
   "outputs": [
    {
     "data": {
      "image/png": "[encoded data removed]",
      "text/plain": [
       "<Figure size 400x400 with 1 Axes>"
      ]
     },
     "metadata": {
      "needs_background": "light"
     },
     "output_type": "display_data"
    }
   ],
   "source": [
    "x = np.linspace(-10, 10, 200)\n",
    "plotExp.addXYData(x, np.exp(x), name=\"exponential\")\n",
    "plotExp.addText([[1, 3.5]], [\"${e}^{x}$\"], name=\"exponential\")\n",
    "\n",
    "plotExp.addXYData(x, 2**x, color=\"#FF9900\", name=\"exponential2\")\n",
    "plotExp.addText([[2.2, 3]], [\"${2}^{x}$\"], color=\"#FF9900\", name=\"exponential2\")\n",
    "\n",
    "plotExp.addXYData(x, 10**x, color=\"#FF0000\", name=\"exponential10\")\n",
    "plotExp.addText([[0, 3]], [\"${10}^{x}$\"], color=\"#FF0000\", name=\"exponential10\")\n",
    "plotExp.genSpace(4)\n",
    "plt.show()\n",
    "plt.close()"
   ]
  },
  {
   "cell_type": "markdown",
   "metadata": {},
   "source": [
    "## Optimize\n",
    "$$ \\underset { W }{ minimize } \\quad cost(W,b) = W -\\alpha \\frac { \\partial  }{ \\partial W } cost(W) $$"
   ]
  },
  {
   "cell_type": "markdown",
   "metadata": {},
   "source": [
    "# Logistic Classification"
   ]
  },
  {
   "cell_type": "markdown",
   "metadata": {},
   "source": [
    "## Prepare Datas"
   ]
  },
  {
   "cell_type": "code",
   "execution_count": 6,
   "metadata": {},
   "outputs": [],
   "source": [
    "data = [\n",
    "    [1, 9, 8],\n",
    "    [2, 1, 9],\n",
    "    [3, 2, 1],\n",
    "    [4, 3, 2],\n",
    "    [5, 4, 3],\n",
    "    [6, 5, 4],\n",
    "    [7, 6, 5],\n",
    "    [8, 7, 6]\n",
    "]\n",
    "label = [\n",
    "    [0, 0, 1],\n",
    "    [0, 0, 1],\n",
    "    [0, 0, 1],\n",
    "    [0, 1, 0],\n",
    "    [0, 1, 0],\n",
    "    [0, 1, 0],\n",
    "    [1, 0, 0],\n",
    "    [1, 0, 0]\n",
    "]"
   ]
  },
  {
   "cell_type": "code",
   "execution_count": 7,
   "metadata": {},
   "outputs": [
    {
     "data": {
      "text/plain": [
       "((8, 3), (8, 3))"
      ]
     },
     "execution_count": 7,
     "metadata": {},
     "output_type": "execute_result"
    }
   ],
   "source": [
    "data = np.array(data, dtype=float)\n",
    "label = np.array(label, dtype=float)\n",
    "data.shape, label.shape"
   ]
  },
  {
   "cell_type": "markdown",
   "metadata": {},
   "source": [
    "## Generate Model"
   ]
  },
  {
   "cell_type": "code",
   "execution_count": 8,
   "metadata": {},
   "outputs": [],
   "source": [
    "X = tf.placeholder(tf.float32, shape=[None,3], name=\"data\")\n",
    "Y = tf.placeholder(tf.float32, shape=[None,3], name=\"label\")\n",
    "W = tf.Variable(tf.random_normal([3, 3]), name=\"weight\")\n",
    "b = tf.Variable(tf.random_normal([3]), name=\"bias\")"
   ]
  },
  {
   "cell_type": "code",
   "execution_count": 9,
   "metadata": {},
   "outputs": [],
   "source": [
    "hypothesis = tf.nn.softmax(tf.matmul(X, W) + b)\n",
    "loss = - tf.reduce_mean(Y * tf.log(hypothesis) + (1-Y) * tf.log(1-hypothesis))\n",
    "optimizer = tf.train.GradientDescentOptimizer(learning_rate=0.01).minimize(loss)"
   ]
  },
  {
   "cell_type": "markdown",
   "metadata": {},
   "source": [
    "## Training"
   ]
  },
  {
   "cell_type": "code",
   "execution_count": 10,
   "metadata": {},
   "outputs": [],
   "source": [
    "sess = tf.Session()\n",
    "init = tf.global_variables_initializer()\n",
    "sess.run(init)"
   ]
  },
  {
   "cell_type": "code",
   "execution_count": 11,
   "metadata": {},
   "outputs": [
    {
     "name": "stdout",
     "output_type": "stream",
     "text": [
      "2.6955602 [[2.31e-07 1.00e+00 2.38e-04]\n",
      " [9.50e-01 4.88e-02 1.05e-03]\n",
      " [5.76e-02 9.39e-01 3.36e-03]\n",
      " [2.17e-02 9.78e-01 3.15e-04]\n",
      " [7.96e-03 9.92e-01 2.87e-05]\n",
      " [2.89e-03 9.97e-01 2.60e-06]\n",
      " [1.05e-03 9.99e-01 2.34e-07]\n",
      " [3.79e-04 1.00e+00 2.11e-08]]\n",
      "0.25516108 [[2.57e-02 4.46e-03 9.70e-01]\n",
      " [2.42e-02 2.16e-05 9.76e-01]\n",
      " [3.54e-02 5.79e-01 3.86e-01]\n",
      " [9.57e-02 6.62e-01 2.43e-01]\n",
      " [2.21e-01 6.48e-01 1.31e-01]\n",
      " [4.21e-01 5.21e-01 5.81e-02]\n",
      " [6.43e-01 3.37e-01 2.07e-02]\n",
      " [8.14e-01 1.80e-01 6.10e-03]]\n",
      "0.20070845 [[1.98e-02 2.30e-03 9.78e-01]\n",
      " [1.80e-02 2.52e-05 9.82e-01]\n",
      " [1.07e-02 4.78e-01 5.11e-01]\n",
      " [4.86e-02 6.98e-01 2.53e-01]\n",
      " [1.61e-01 7.47e-01 9.20e-02]\n",
      " [3.92e-01 5.83e-01 2.44e-02]\n",
      " [6.73e-01 3.22e-01 4.57e-03]\n",
      " [8.66e-01 1.33e-01 6.42e-04]]\n"
     ]
    }
   ],
   "source": [
    "for step in range(20001):\n",
    "    loss_val, hy_val, _ = sess.run([loss, hypothesis, optimizer], feed_dict= {X:data, Y:label})\n",
    "    if step % 10000 == 0:\n",
    "        print (loss_val, hy_val)"
   ]
  },
  {
   "cell_type": "markdown",
   "metadata": {},
   "source": [
    "## Predict"
   ]
  },
  {
   "cell_type": "code",
   "execution_count": 12,
   "metadata": {},
   "outputs": [],
   "source": [
    "predicted = tf.cast(hypothesis>0.5, dtype=tf.float32)\n",
    "accuracy = tf.reduce_mean(tf.cast(tf.equal(predicted, Y), dtype=tf.float32))"
   ]
  },
  {
   "cell_type": "code",
   "execution_count": 13,
   "metadata": {},
   "outputs": [
    {
     "data": {
      "text/plain": [
       "[array([[2.10e-02, 1.24e-07, 9.79e-01],\n",
       "        [1.78e-02, 3.82e-04, 9.82e-01],\n",
       "        [1.13e-02, 4.71e-01, 5.17e-01],\n",
       "        [5.08e-02, 6.96e-01, 2.53e-01],\n",
       "        [1.66e-01, 7.45e-01, 8.96e-02],\n",
       "        [3.95e-01, 5.82e-01, 2.32e-02],\n",
       "        [6.71e-01, 3.25e-01, 4.28e-03],\n",
       "        [8.62e-01, 1.37e-01, 5.97e-04]], dtype=float32), array([[0., 0., 1.],\n",
       "        [0., 0., 1.],\n",
       "        [0., 0., 1.],\n",
       "        [0., 1., 0.],\n",
       "        [0., 1., 0.],\n",
       "        [0., 1., 0.],\n",
       "        [1., 0., 0.],\n",
       "        [1., 0., 0.]], dtype=float32), 1.0]"
      ]
     },
     "execution_count": 13,
     "metadata": {},
     "output_type": "execute_result"
    }
   ],
   "source": [
    "sess.run([hypothesis, predicted, accuracy], feed_dict={X:data, Y:label})"
   ]
  },
  {
   "cell_type": "code",
   "execution_count": 14,
   "metadata": {},
   "outputs": [],
   "source": [
    "sess.close()"
   ]
  },
  {
   "cell_type": "code",
   "execution_count": null,
   "metadata": {},
   "outputs": [],
   "source": []
  }
 ],
 "metadata": {
  "kernelspec": {
   "display_name": "Tensorflow 1",
   "language": "python",
   "name": "tf1"
  },
  "language_info": {
   "codemirror_mode": {
    "name": "ipython",
    "version": 3
   },
   "file_extension": ".py",
   "mimetype": "text/x-python",
   "name": "python",
   "nbconvert_exporter": "python",
   "pygments_lexer": "ipython3",
   "version": "3.7.6"
  },
  "toc-autonumbering": true
 },
 "nbformat": 4,
 "nbformat_minor": 4
}
