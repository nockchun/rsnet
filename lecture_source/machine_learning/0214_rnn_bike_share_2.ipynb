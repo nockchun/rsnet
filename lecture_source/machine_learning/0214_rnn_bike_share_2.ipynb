{
 "cells": [
  {
   "cell_type": "markdown",
   "metadata": {},
   "source": [
    "<div class=\"alert alert-block alert-success\">\n",
    "    <b><center>CONVOLUTON NEURAL NETWORK</center></b>\n",
    "    <b><center>K-Fold 개념으로 구현해 보기</center></b>\n",
    "</div>"
   ]
  },
  {
   "cell_type": "markdown",
   "metadata": {},
   "source": [
    "# Configure Learning Environment"
   ]
  },
  {
   "cell_type": "code",
   "execution_count": 1,
   "metadata": {},
   "outputs": [],
   "source": [
    "# !pip install mybatis_mapper2sql\n",
    "# !pip install git+https://github.com/nockchun/rspy --force"
   ]
  },
  {
   "cell_type": "code",
   "execution_count": 2,
   "metadata": {},
   "outputs": [],
   "source": [
    "import os\n",
    "os.environ['TF_CPP_MIN_LOG_LEVEL'] = \"2\""
   ]
  },
  {
   "cell_type": "code",
   "execution_count": 3,
   "metadata": {},
   "outputs": [],
   "source": [
    "import rspy as rsp\n",
    "rsp.setSystemWarning(off=True)"
   ]
  },
  {
   "cell_type": "code",
   "execution_count": 4,
   "metadata": {},
   "outputs": [],
   "source": [
    "import numpy as np\n",
    "import pandas as pd\n",
    "import matplotlib.pyplot as plt\n",
    "from ipywidgets import interact"
   ]
  },
  {
   "cell_type": "code",
   "execution_count": 5,
   "metadata": {},
   "outputs": [],
   "source": [
    "from sklearn import preprocessing as skpp, model_selection as skms\n",
    "import tensorflow as tf\n",
    "from tensorflow.keras import utils, layers, models, losses, preprocessing"
   ]
  },
  {
   "cell_type": "code",
   "execution_count": 6,
   "metadata": {},
   "outputs": [
    {
     "name": "stdout",
     "output_type": "stream",
     "text": [
      "버전:  2.4.1\n",
      "GPU:  사용 가능\n",
      "GPU Device:  [PhysicalDevice(name='/physical_device:GPU:0', device_type='GPU')]\n"
     ]
    }
   ],
   "source": [
    "# np.set_printoptions(linewidth=200, precision=2)\n",
    "print(\"버전: \", tf.__version__)\n",
    "print(\"GPU: \", \"사용 가능\" if tf.test.is_gpu_available() else \"사용 불가능\")\n",
    "print(\"GPU Device: \", tf.config.experimental.get_visible_devices(\"GPU\"))"
   ]
  },
  {
   "cell_type": "markdown",
   "metadata": {},
   "source": [
    "# Data Loading"
   ]
  },
  {
   "cell_type": "markdown",
   "metadata": {},
   "source": [
    "* UCI Machine Learning Repository 데이터 이용\n",
    "* https://archive.ics.uci.edu/ml/datasets/bike+sharing+dataset#"
   ]
  },
  {
   "cell_type": "code",
   "execution_count": 7,
   "metadata": {},
   "outputs": [],
   "source": [
    "import pathlib\n",
    "dataset_url = \"https://archive.ics.uci.edu/ml/machine-learning-databases/00275/Bike-Sharing-Dataset.zip\"\n",
    "data_dir = utils.get_file('bike_share.zip', origin=dataset_url, extract=True, cache_subdir='bike_share')\n",
    "data_dir = pathlib.Path(data_dir)"
   ]
  },
  {
   "cell_type": "code",
   "execution_count": 8,
   "metadata": {},
   "outputs": [
    {
     "data": {
      "text/plain": [
       "'/home/rsnet/.keras/bike_share'"
      ]
     },
     "execution_count": 8,
     "metadata": {},
     "output_type": "execute_result"
    }
   ],
   "source": [
    "data_dir.parent.as_posix()"
   ]
  },
  {
   "cell_type": "code",
   "execution_count": 9,
   "metadata": {},
   "outputs": [
    {
     "name": "stdout",
     "output_type": "stream",
     "text": [
      "Readme.txt  bike_share.zip  day.csv  hour.csv\n"
     ]
    }
   ],
   "source": [
    "!ls /home/rsnet/.keras/bike_share"
   ]
  },
  {
   "cell_type": "code",
   "execution_count": 10,
   "metadata": {},
   "outputs": [],
   "source": [
    "df_origin = pd.read_csv(data_dir.parent.as_posix() + \"/day.csv\")"
   ]
  },
  {
   "cell_type": "code",
   "execution_count": 11,
   "metadata": {},
   "outputs": [
    {
     "data": {
      "text/html": [
       "<div>\n",
       "<style scoped>\n",
       "    .dataframe tbody tr th:only-of-type {\n",
       "        vertical-align: middle;\n",
       "    }\n",
       "\n",
       "    .dataframe tbody tr th {\n",
       "        vertical-align: top;\n",
       "    }\n",
       "\n",
       "    .dataframe thead th {\n",
       "        text-align: right;\n",
       "    }\n",
       "</style>\n",
       "<table border=\"1\" class=\"dataframe\">\n",
       "  <thead>\n",
       "    <tr style=\"text-align: right;\">\n",
       "      <th></th>\n",
       "      <th>instant</th>\n",
       "      <th>dteday</th>\n",
       "      <th>season</th>\n",
       "      <th>yr</th>\n",
       "      <th>mnth</th>\n",
       "      <th>holiday</th>\n",
       "      <th>weekday</th>\n",
       "      <th>workingday</th>\n",
       "      <th>weathersit</th>\n",
       "      <th>temp</th>\n",
       "      <th>atemp</th>\n",
       "      <th>hum</th>\n",
       "      <th>windspeed</th>\n",
       "      <th>casual</th>\n",
       "      <th>registered</th>\n",
       "      <th>cnt</th>\n",
       "    </tr>\n",
       "  </thead>\n",
       "  <tbody>\n",
       "    <tr>\n",
       "      <th>0</th>\n",
       "      <td>1</td>\n",
       "      <td>2011-01-01</td>\n",
       "      <td>1</td>\n",
       "      <td>0</td>\n",
       "      <td>1</td>\n",
       "      <td>0</td>\n",
       "      <td>6</td>\n",
       "      <td>0</td>\n",
       "      <td>2</td>\n",
       "      <td>0.344167</td>\n",
       "      <td>0.363625</td>\n",
       "      <td>0.805833</td>\n",
       "      <td>0.160446</td>\n",
       "      <td>331</td>\n",
       "      <td>654</td>\n",
       "      <td>985</td>\n",
       "    </tr>\n",
       "    <tr>\n",
       "      <th>1</th>\n",
       "      <td>2</td>\n",
       "      <td>2011-01-02</td>\n",
       "      <td>1</td>\n",
       "      <td>0</td>\n",
       "      <td>1</td>\n",
       "      <td>0</td>\n",
       "      <td>0</td>\n",
       "      <td>0</td>\n",
       "      <td>2</td>\n",
       "      <td>0.363478</td>\n",
       "      <td>0.353739</td>\n",
       "      <td>0.696087</td>\n",
       "      <td>0.248539</td>\n",
       "      <td>131</td>\n",
       "      <td>670</td>\n",
       "      <td>801</td>\n",
       "    </tr>\n",
       "    <tr>\n",
       "      <th>2</th>\n",
       "      <td>3</td>\n",
       "      <td>2011-01-03</td>\n",
       "      <td>1</td>\n",
       "      <td>0</td>\n",
       "      <td>1</td>\n",
       "      <td>0</td>\n",
       "      <td>1</td>\n",
       "      <td>1</td>\n",
       "      <td>1</td>\n",
       "      <td>0.196364</td>\n",
       "      <td>0.189405</td>\n",
       "      <td>0.437273</td>\n",
       "      <td>0.248309</td>\n",
       "      <td>120</td>\n",
       "      <td>1229</td>\n",
       "      <td>1349</td>\n",
       "    </tr>\n",
       "    <tr>\n",
       "      <th>3</th>\n",
       "      <td>4</td>\n",
       "      <td>2011-01-04</td>\n",
       "      <td>1</td>\n",
       "      <td>0</td>\n",
       "      <td>1</td>\n",
       "      <td>0</td>\n",
       "      <td>2</td>\n",
       "      <td>1</td>\n",
       "      <td>1</td>\n",
       "      <td>0.200000</td>\n",
       "      <td>0.212122</td>\n",
       "      <td>0.590435</td>\n",
       "      <td>0.160296</td>\n",
       "      <td>108</td>\n",
       "      <td>1454</td>\n",
       "      <td>1562</td>\n",
       "    </tr>\n",
       "    <tr>\n",
       "      <th>4</th>\n",
       "      <td>5</td>\n",
       "      <td>2011-01-05</td>\n",
       "      <td>1</td>\n",
       "      <td>0</td>\n",
       "      <td>1</td>\n",
       "      <td>0</td>\n",
       "      <td>3</td>\n",
       "      <td>1</td>\n",
       "      <td>1</td>\n",
       "      <td>0.226957</td>\n",
       "      <td>0.229270</td>\n",
       "      <td>0.436957</td>\n",
       "      <td>0.186900</td>\n",
       "      <td>82</td>\n",
       "      <td>1518</td>\n",
       "      <td>1600</td>\n",
       "    </tr>\n",
       "  </tbody>\n",
       "</table>\n",
       "</div>"
      ],
      "text/plain": [
       "   instant      dteday  season  yr  mnth  holiday  weekday  workingday  \\\n",
       "0        1  2011-01-01       1   0     1        0        6           0   \n",
       "1        2  2011-01-02       1   0     1        0        0           0   \n",
       "2        3  2011-01-03       1   0     1        0        1           1   \n",
       "3        4  2011-01-04       1   0     1        0        2           1   \n",
       "4        5  2011-01-05       1   0     1        0        3           1   \n",
       "\n",
       "   weathersit      temp     atemp       hum  windspeed  casual  registered  \\\n",
       "0           2  0.344167  0.363625  0.805833   0.160446     331         654   \n",
       "1           2  0.363478  0.353739  0.696087   0.248539     131         670   \n",
       "2           1  0.196364  0.189405  0.437273   0.248309     120        1229   \n",
       "3           1  0.200000  0.212122  0.590435   0.160296     108        1454   \n",
       "4           1  0.226957  0.229270  0.436957   0.186900      82        1518   \n",
       "\n",
       "    cnt  \n",
       "0   985  \n",
       "1   801  \n",
       "2  1349  \n",
       "3  1562  \n",
       "4  1600  "
      ]
     },
     "execution_count": 11,
     "metadata": {},
     "output_type": "execute_result"
    }
   ],
   "source": [
    "df_origin.head()"
   ]
  },
  {
   "cell_type": "code",
   "execution_count": 12,
   "metadata": {},
   "outputs": [
    {
     "data": {
      "text/plain": [
       "(731, 16)"
      ]
     },
     "execution_count": 12,
     "metadata": {},
     "output_type": "execute_result"
    }
   ],
   "source": [
    "df_origin.shape"
   ]
  },
  {
   "cell_type": "markdown",
   "metadata": {},
   "source": [
    "# Data Exploration & Analysis"
   ]
  },
  {
   "cell_type": "markdown",
   "metadata": {},
   "source": [
    "## 데이터 내용\n",
    ">* instant : 기록 순서\n",
    ">* dteday : 기록 날짜\n",
    ">* season : 계절 [1:봄, 2:여름, 3:가을, 4:겨울]\n",
    ">* yr : 년\n",
    ">* mnth : 월 [1-12]\n",
    ">* holiday : 국경일 유무 [0:무, 1:유]\n",
    ">* weekday : 요일 [0:일, 1:월, 2:화, 3:수, 4:목, 5:금, 6:토]\n",
    ">* workingday : 휴무일 유무 [0:일하는 날, 1:쉬는 날]\n",
    ">* weathersit\n",
    "    - 1: Clear, Few clouds, Partly cloudy, Partly cloudy\n",
    "    - 2: Mist + Cloudy, Mist + Broken clouds, Mist + Few clouds, Mist\n",
    "    - 3: Light Snow, Light Rain + Thunderstorm + Scattered clouds, Light Rain + Scattered clouds\n",
    "    - 4: Heavy Rain + Ice Pallets + Thunderstorm + Mist, Snow + Fog\n",
    ">* temp : 정규화된 섭씨 온도(℃)\n",
    ">* atemp : 정규화된 체감 온도. (t-t_min)/(t_max-t_min), t_min=-16, t_max=+50\n",
    ">* hum : 정규화된 습도.\n",
    ">* windspeed : 정규화된 풍속.\n",
    ">* casual : 일반 사용자.\n",
    ">* registered : 예약 사용자.\n",
    ">* cnt : 일반 + 예약 사용자. (전체 사용자)"
   ]
  },
  {
   "cell_type": "code",
   "execution_count": 13,
   "metadata": {},
   "outputs": [
    {
     "data": {
      "application/vnd.jupyter.widget-view+json": {
       "model_id": "fa9bc6dbbf304bccb63b5226b9c9b1f7",
       "version_major": 2,
       "version_minor": 0
      },
      "text/plain": [
       "interactive(children=(Dropdown(description='compare', options=('season', 'mnth', 'holiday', 'weekday', 'workin…"
      ]
     },
     "metadata": {},
     "output_type": "display_data"
    }
   ],
   "source": [
    "cols = [\"season\", \"mnth\", \"holiday\", \"weekday\", \"workingday\", \"weathersit\", \"atemp\", \"hum\", \"windspeed\"]\n",
    "@interact(compare=cols)\n",
    "def exploration(compare):\n",
    "    fig, ax1 = plt.subplots(figsize=(30, 8))\n",
    "    ax2 = ax1.twinx()\n",
    "    \n",
    "    ax1.plot(df_origin.cnt.values, color=\"#3186ad\", label=\"cnt\")\n",
    "    ax1.plot(df_origin.casual.values, color=\"#bebebe\", label=\"casual\")\n",
    "    ax1.plot(df_origin.registered.values, color=\"#878787\", label=\"registered\")\n",
    "    ax1.set_ylabel(\"cnt\")\n",
    "\n",
    "    ax2.plot(df_origin[compare].values, color=\"red\", alpha=0.7, label=\"compare\")\n",
    "    ax2.set_ylabel(compare)\n",
    "    \n",
    "    ax1.legend(title=\"Species\", loc=\"upper left\")\n",
    "    plt.show()"
   ]
  },
  {
   "cell_type": "markdown",
   "metadata": {},
   "source": [
    "# Preprocessing Data"
   ]
  },
  {
   "cell_type": "code",
   "execution_count": 14,
   "metadata": {},
   "outputs": [
    {
     "name": "stdout",
     "output_type": "stream",
     "text": [
      "['instant', 'dteday', 'season', 'yr', 'mnth', 'holiday', 'weekday', 'workingday', 'weathersit', 'temp', 'atemp', 'hum', 'windspeed', 'casual', 'registered', 'cnt']\n"
     ]
    }
   ],
   "source": [
    "print(list(df_origin.columns))"
   ]
  },
  {
   "cell_type": "code",
   "execution_count": 15,
   "metadata": {},
   "outputs": [
    {
     "data": {
      "text/html": [
       "<div>\n",
       "<style scoped>\n",
       "    .dataframe tbody tr th:only-of-type {\n",
       "        vertical-align: middle;\n",
       "    }\n",
       "\n",
       "    .dataframe tbody tr th {\n",
       "        vertical-align: top;\n",
       "    }\n",
       "\n",
       "    .dataframe thead th {\n",
       "        text-align: right;\n",
       "    }\n",
       "</style>\n",
       "<table border=\"1\" class=\"dataframe\">\n",
       "  <thead>\n",
       "    <tr style=\"text-align: right;\">\n",
       "      <th></th>\n",
       "      <th>holiday</th>\n",
       "      <th>weekday</th>\n",
       "      <th>workingday</th>\n",
       "      <th>weathersit</th>\n",
       "      <th>temp</th>\n",
       "      <th>atemp</th>\n",
       "      <th>hum</th>\n",
       "      <th>windspeed</th>\n",
       "      <th>cnt</th>\n",
       "    </tr>\n",
       "  </thead>\n",
       "  <tbody>\n",
       "    <tr>\n",
       "      <th>0</th>\n",
       "      <td>0</td>\n",
       "      <td>6</td>\n",
       "      <td>0</td>\n",
       "      <td>2</td>\n",
       "      <td>0.344167</td>\n",
       "      <td>0.363625</td>\n",
       "      <td>0.805833</td>\n",
       "      <td>0.160446</td>\n",
       "      <td>985</td>\n",
       "    </tr>\n",
       "    <tr>\n",
       "      <th>1</th>\n",
       "      <td>0</td>\n",
       "      <td>0</td>\n",
       "      <td>0</td>\n",
       "      <td>2</td>\n",
       "      <td>0.363478</td>\n",
       "      <td>0.353739</td>\n",
       "      <td>0.696087</td>\n",
       "      <td>0.248539</td>\n",
       "      <td>801</td>\n",
       "    </tr>\n",
       "    <tr>\n",
       "      <th>2</th>\n",
       "      <td>0</td>\n",
       "      <td>1</td>\n",
       "      <td>1</td>\n",
       "      <td>1</td>\n",
       "      <td>0.196364</td>\n",
       "      <td>0.189405</td>\n",
       "      <td>0.437273</td>\n",
       "      <td>0.248309</td>\n",
       "      <td>1349</td>\n",
       "    </tr>\n",
       "    <tr>\n",
       "      <th>3</th>\n",
       "      <td>0</td>\n",
       "      <td>2</td>\n",
       "      <td>1</td>\n",
       "      <td>1</td>\n",
       "      <td>0.200000</td>\n",
       "      <td>0.212122</td>\n",
       "      <td>0.590435</td>\n",
       "      <td>0.160296</td>\n",
       "      <td>1562</td>\n",
       "    </tr>\n",
       "    <tr>\n",
       "      <th>4</th>\n",
       "      <td>0</td>\n",
       "      <td>3</td>\n",
       "      <td>1</td>\n",
       "      <td>1</td>\n",
       "      <td>0.226957</td>\n",
       "      <td>0.229270</td>\n",
       "      <td>0.436957</td>\n",
       "      <td>0.186900</td>\n",
       "      <td>1600</td>\n",
       "    </tr>\n",
       "  </tbody>\n",
       "</table>\n",
       "</div>"
      ],
      "text/plain": [
       "   holiday  weekday  workingday  weathersit      temp     atemp       hum  \\\n",
       "0        0        6           0           2  0.344167  0.363625  0.805833   \n",
       "1        0        0           0           2  0.363478  0.353739  0.696087   \n",
       "2        0        1           1           1  0.196364  0.189405  0.437273   \n",
       "3        0        2           1           1  0.200000  0.212122  0.590435   \n",
       "4        0        3           1           1  0.226957  0.229270  0.436957   \n",
       "\n",
       "   windspeed   cnt  \n",
       "0   0.160446   985  \n",
       "1   0.248539   801  \n",
       "2   0.248309  1349  \n",
       "3   0.160296  1562  \n",
       "4   0.186900  1600  "
      ]
     },
     "execution_count": 15,
     "metadata": {},
     "output_type": "execute_result"
    }
   ],
   "source": [
    "df_preproc = df_origin[[\"holiday\", \"weekday\", \"workingday\", \"weathersit\", \"temp\", \"atemp\", \"hum\", \"windspeed\", \"cnt\"]]\n",
    "df_preproc.head()"
   ]
  },
  {
   "cell_type": "markdown",
   "metadata": {},
   "source": [
    "## one-hot encoding"
   ]
  },
  {
   "cell_type": "code",
   "execution_count": 16,
   "metadata": {},
   "outputs": [
    {
     "data": {
      "text/html": [
       "<div>\n",
       "<style scoped>\n",
       "    .dataframe tbody tr th:only-of-type {\n",
       "        vertical-align: middle;\n",
       "    }\n",
       "\n",
       "    .dataframe tbody tr th {\n",
       "        vertical-align: top;\n",
       "    }\n",
       "\n",
       "    .dataframe thead th {\n",
       "        text-align: right;\n",
       "    }\n",
       "</style>\n",
       "<table border=\"1\" class=\"dataframe\">\n",
       "  <thead>\n",
       "    <tr style=\"text-align: right;\">\n",
       "      <th></th>\n",
       "      <th>weekday_0</th>\n",
       "      <th>weekday_1</th>\n",
       "      <th>weekday_2</th>\n",
       "      <th>weekday_3</th>\n",
       "      <th>weekday_4</th>\n",
       "      <th>weekday_5</th>\n",
       "      <th>weekday_6</th>\n",
       "    </tr>\n",
       "  </thead>\n",
       "  <tbody>\n",
       "    <tr>\n",
       "      <th>0</th>\n",
       "      <td>0</td>\n",
       "      <td>0</td>\n",
       "      <td>0</td>\n",
       "      <td>0</td>\n",
       "      <td>0</td>\n",
       "      <td>0</td>\n",
       "      <td>1</td>\n",
       "    </tr>\n",
       "    <tr>\n",
       "      <th>1</th>\n",
       "      <td>1</td>\n",
       "      <td>0</td>\n",
       "      <td>0</td>\n",
       "      <td>0</td>\n",
       "      <td>0</td>\n",
       "      <td>0</td>\n",
       "      <td>0</td>\n",
       "    </tr>\n",
       "    <tr>\n",
       "      <th>2</th>\n",
       "      <td>0</td>\n",
       "      <td>1</td>\n",
       "      <td>0</td>\n",
       "      <td>0</td>\n",
       "      <td>0</td>\n",
       "      <td>0</td>\n",
       "      <td>0</td>\n",
       "    </tr>\n",
       "    <tr>\n",
       "      <th>3</th>\n",
       "      <td>0</td>\n",
       "      <td>0</td>\n",
       "      <td>1</td>\n",
       "      <td>0</td>\n",
       "      <td>0</td>\n",
       "      <td>0</td>\n",
       "      <td>0</td>\n",
       "    </tr>\n",
       "    <tr>\n",
       "      <th>4</th>\n",
       "      <td>0</td>\n",
       "      <td>0</td>\n",
       "      <td>0</td>\n",
       "      <td>1</td>\n",
       "      <td>0</td>\n",
       "      <td>0</td>\n",
       "      <td>0</td>\n",
       "    </tr>\n",
       "  </tbody>\n",
       "</table>\n",
       "</div>"
      ],
      "text/plain": [
       "   weekday_0  weekday_1  weekday_2  weekday_3  weekday_4  weekday_5  weekday_6\n",
       "0          0          0          0          0          0          0          1\n",
       "1          1          0          0          0          0          0          0\n",
       "2          0          1          0          0          0          0          0\n",
       "3          0          0          1          0          0          0          0\n",
       "4          0          0          0          1          0          0          0"
      ]
     },
     "execution_count": 16,
     "metadata": {},
     "output_type": "execute_result"
    }
   ],
   "source": [
    "onehotWeekday = pd.get_dummies(df_preproc[\"weekday\"], prefix=\"weekday\")\n",
    "onehotWeathersit = pd.get_dummies(df_preproc[\"weathersit\"], prefix=\"weathersit\")\n",
    "onehotWeekday.head()"
   ]
  },
  {
   "cell_type": "code",
   "execution_count": 17,
   "metadata": {},
   "outputs": [
    {
     "data": {
      "text/html": [
       "<div>\n",
       "<style scoped>\n",
       "    .dataframe tbody tr th:only-of-type {\n",
       "        vertical-align: middle;\n",
       "    }\n",
       "\n",
       "    .dataframe tbody tr th {\n",
       "        vertical-align: top;\n",
       "    }\n",
       "\n",
       "    .dataframe thead th {\n",
       "        text-align: right;\n",
       "    }\n",
       "</style>\n",
       "<table border=\"1\" class=\"dataframe\">\n",
       "  <thead>\n",
       "    <tr style=\"text-align: right;\">\n",
       "      <th></th>\n",
       "      <th>holiday</th>\n",
       "      <th>weekday</th>\n",
       "      <th>workingday</th>\n",
       "      <th>weathersit</th>\n",
       "      <th>temp</th>\n",
       "      <th>atemp</th>\n",
       "      <th>hum</th>\n",
       "      <th>windspeed</th>\n",
       "      <th>cnt</th>\n",
       "      <th>weekday_0</th>\n",
       "      <th>weekday_1</th>\n",
       "      <th>weekday_2</th>\n",
       "      <th>weekday_3</th>\n",
       "      <th>weekday_4</th>\n",
       "      <th>weekday_5</th>\n",
       "      <th>weekday_6</th>\n",
       "      <th>weathersit_1</th>\n",
       "      <th>weathersit_2</th>\n",
       "      <th>weathersit_3</th>\n",
       "    </tr>\n",
       "  </thead>\n",
       "  <tbody>\n",
       "    <tr>\n",
       "      <th>0</th>\n",
       "      <td>0</td>\n",
       "      <td>6</td>\n",
       "      <td>0</td>\n",
       "      <td>2</td>\n",
       "      <td>0.344167</td>\n",
       "      <td>0.363625</td>\n",
       "      <td>0.805833</td>\n",
       "      <td>0.160446</td>\n",
       "      <td>985</td>\n",
       "      <td>0</td>\n",
       "      <td>0</td>\n",
       "      <td>0</td>\n",
       "      <td>0</td>\n",
       "      <td>0</td>\n",
       "      <td>0</td>\n",
       "      <td>1</td>\n",
       "      <td>0</td>\n",
       "      <td>1</td>\n",
       "      <td>0</td>\n",
       "    </tr>\n",
       "    <tr>\n",
       "      <th>1</th>\n",
       "      <td>0</td>\n",
       "      <td>0</td>\n",
       "      <td>0</td>\n",
       "      <td>2</td>\n",
       "      <td>0.363478</td>\n",
       "      <td>0.353739</td>\n",
       "      <td>0.696087</td>\n",
       "      <td>0.248539</td>\n",
       "      <td>801</td>\n",
       "      <td>1</td>\n",
       "      <td>0</td>\n",
       "      <td>0</td>\n",
       "      <td>0</td>\n",
       "      <td>0</td>\n",
       "      <td>0</td>\n",
       "      <td>0</td>\n",
       "      <td>0</td>\n",
       "      <td>1</td>\n",
       "      <td>0</td>\n",
       "    </tr>\n",
       "    <tr>\n",
       "      <th>2</th>\n",
       "      <td>0</td>\n",
       "      <td>1</td>\n",
       "      <td>1</td>\n",
       "      <td>1</td>\n",
       "      <td>0.196364</td>\n",
       "      <td>0.189405</td>\n",
       "      <td>0.437273</td>\n",
       "      <td>0.248309</td>\n",
       "      <td>1349</td>\n",
       "      <td>0</td>\n",
       "      <td>1</td>\n",
       "      <td>0</td>\n",
       "      <td>0</td>\n",
       "      <td>0</td>\n",
       "      <td>0</td>\n",
       "      <td>0</td>\n",
       "      <td>1</td>\n",
       "      <td>0</td>\n",
       "      <td>0</td>\n",
       "    </tr>\n",
       "    <tr>\n",
       "      <th>3</th>\n",
       "      <td>0</td>\n",
       "      <td>2</td>\n",
       "      <td>1</td>\n",
       "      <td>1</td>\n",
       "      <td>0.200000</td>\n",
       "      <td>0.212122</td>\n",
       "      <td>0.590435</td>\n",
       "      <td>0.160296</td>\n",
       "      <td>1562</td>\n",
       "      <td>0</td>\n",
       "      <td>0</td>\n",
       "      <td>1</td>\n",
       "      <td>0</td>\n",
       "      <td>0</td>\n",
       "      <td>0</td>\n",
       "      <td>0</td>\n",
       "      <td>1</td>\n",
       "      <td>0</td>\n",
       "      <td>0</td>\n",
       "    </tr>\n",
       "    <tr>\n",
       "      <th>4</th>\n",
       "      <td>0</td>\n",
       "      <td>3</td>\n",
       "      <td>1</td>\n",
       "      <td>1</td>\n",
       "      <td>0.226957</td>\n",
       "      <td>0.229270</td>\n",
       "      <td>0.436957</td>\n",
       "      <td>0.186900</td>\n",
       "      <td>1600</td>\n",
       "      <td>0</td>\n",
       "      <td>0</td>\n",
       "      <td>0</td>\n",
       "      <td>1</td>\n",
       "      <td>0</td>\n",
       "      <td>0</td>\n",
       "      <td>0</td>\n",
       "      <td>1</td>\n",
       "      <td>0</td>\n",
       "      <td>0</td>\n",
       "    </tr>\n",
       "  </tbody>\n",
       "</table>\n",
       "</div>"
      ],
      "text/plain": [
       "   holiday  weekday  workingday  weathersit      temp     atemp       hum  \\\n",
       "0        0        6           0           2  0.344167  0.363625  0.805833   \n",
       "1        0        0           0           2  0.363478  0.353739  0.696087   \n",
       "2        0        1           1           1  0.196364  0.189405  0.437273   \n",
       "3        0        2           1           1  0.200000  0.212122  0.590435   \n",
       "4        0        3           1           1  0.226957  0.229270  0.436957   \n",
       "\n",
       "   windspeed   cnt  weekday_0  weekday_1  weekday_2  weekday_3  weekday_4  \\\n",
       "0   0.160446   985          0          0          0          0          0   \n",
       "1   0.248539   801          1          0          0          0          0   \n",
       "2   0.248309  1349          0          1          0          0          0   \n",
       "3   0.160296  1562          0          0          1          0          0   \n",
       "4   0.186900  1600          0          0          0          1          0   \n",
       "\n",
       "   weekday_5  weekday_6  weathersit_1  weathersit_2  weathersit_3  \n",
       "0          0          1             0             1             0  \n",
       "1          0          0             0             1             0  \n",
       "2          0          0             1             0             0  \n",
       "3          0          0             1             0             0  \n",
       "4          0          0             1             0             0  "
      ]
     },
     "execution_count": 17,
     "metadata": {},
     "output_type": "execute_result"
    }
   ],
   "source": [
    "df_preproc = df_preproc.join(onehotWeekday).join(onehotWeathersit)\n",
    "df_preproc.head()"
   ]
  },
  {
   "cell_type": "code",
   "execution_count": 18,
   "metadata": {},
   "outputs": [
    {
     "data": {
      "text/plain": [
       "array([2, 1, 3])"
      ]
     },
     "execution_count": 18,
     "metadata": {},
     "output_type": "execute_result"
    }
   ],
   "source": [
    "df_preproc.weathersit.unique()"
   ]
  },
  {
   "cell_type": "markdown",
   "metadata": {},
   "source": [
    "## Scaling Y"
   ]
  },
  {
   "cell_type": "code",
   "execution_count": 19,
   "metadata": {},
   "outputs": [],
   "source": [
    "scalerCnt = skpp.MinMaxScaler((0, 1))"
   ]
  },
  {
   "cell_type": "code",
   "execution_count": 20,
   "metadata": {},
   "outputs": [],
   "source": [
    "scaledCnt = scalerCnt.fit_transform(df_preproc[\"cnt\"].values.reshape(len(df_preproc[\"cnt\"]), 1))"
   ]
  },
  {
   "cell_type": "code",
   "execution_count": 21,
   "metadata": {},
   "outputs": [
    {
     "data": {
      "text/html": [
       "<div>\n",
       "<style scoped>\n",
       "    .dataframe tbody tr th:only-of-type {\n",
       "        vertical-align: middle;\n",
       "    }\n",
       "\n",
       "    .dataframe tbody tr th {\n",
       "        vertical-align: top;\n",
       "    }\n",
       "\n",
       "    .dataframe thead th {\n",
       "        text-align: right;\n",
       "    }\n",
       "</style>\n",
       "<table border=\"1\" class=\"dataframe\">\n",
       "  <thead>\n",
       "    <tr style=\"text-align: right;\">\n",
       "      <th></th>\n",
       "      <th>holiday</th>\n",
       "      <th>weekday</th>\n",
       "      <th>workingday</th>\n",
       "      <th>weathersit</th>\n",
       "      <th>temp</th>\n",
       "      <th>atemp</th>\n",
       "      <th>hum</th>\n",
       "      <th>windspeed</th>\n",
       "      <th>cnt</th>\n",
       "      <th>weekday_0</th>\n",
       "      <th>weekday_1</th>\n",
       "      <th>weekday_2</th>\n",
       "      <th>weekday_3</th>\n",
       "      <th>weekday_4</th>\n",
       "      <th>weekday_5</th>\n",
       "      <th>weekday_6</th>\n",
       "      <th>weathersit_1</th>\n",
       "      <th>weathersit_2</th>\n",
       "      <th>weathersit_3</th>\n",
       "      <th>cntscl</th>\n",
       "    </tr>\n",
       "  </thead>\n",
       "  <tbody>\n",
       "    <tr>\n",
       "      <th>0</th>\n",
       "      <td>0</td>\n",
       "      <td>6</td>\n",
       "      <td>0</td>\n",
       "      <td>2</td>\n",
       "      <td>0.344167</td>\n",
       "      <td>0.363625</td>\n",
       "      <td>0.805833</td>\n",
       "      <td>0.160446</td>\n",
       "      <td>985</td>\n",
       "      <td>0</td>\n",
       "      <td>0</td>\n",
       "      <td>0</td>\n",
       "      <td>0</td>\n",
       "      <td>0</td>\n",
       "      <td>0</td>\n",
       "      <td>1</td>\n",
       "      <td>0</td>\n",
       "      <td>1</td>\n",
       "      <td>0</td>\n",
       "      <td>0.110792</td>\n",
       "    </tr>\n",
       "    <tr>\n",
       "      <th>1</th>\n",
       "      <td>0</td>\n",
       "      <td>0</td>\n",
       "      <td>0</td>\n",
       "      <td>2</td>\n",
       "      <td>0.363478</td>\n",
       "      <td>0.353739</td>\n",
       "      <td>0.696087</td>\n",
       "      <td>0.248539</td>\n",
       "      <td>801</td>\n",
       "      <td>1</td>\n",
       "      <td>0</td>\n",
       "      <td>0</td>\n",
       "      <td>0</td>\n",
       "      <td>0</td>\n",
       "      <td>0</td>\n",
       "      <td>0</td>\n",
       "      <td>0</td>\n",
       "      <td>1</td>\n",
       "      <td>0</td>\n",
       "      <td>0.089623</td>\n",
       "    </tr>\n",
       "    <tr>\n",
       "      <th>2</th>\n",
       "      <td>0</td>\n",
       "      <td>1</td>\n",
       "      <td>1</td>\n",
       "      <td>1</td>\n",
       "      <td>0.196364</td>\n",
       "      <td>0.189405</td>\n",
       "      <td>0.437273</td>\n",
       "      <td>0.248309</td>\n",
       "      <td>1349</td>\n",
       "      <td>0</td>\n",
       "      <td>1</td>\n",
       "      <td>0</td>\n",
       "      <td>0</td>\n",
       "      <td>0</td>\n",
       "      <td>0</td>\n",
       "      <td>0</td>\n",
       "      <td>1</td>\n",
       "      <td>0</td>\n",
       "      <td>0</td>\n",
       "      <td>0.152669</td>\n",
       "    </tr>\n",
       "    <tr>\n",
       "      <th>3</th>\n",
       "      <td>0</td>\n",
       "      <td>2</td>\n",
       "      <td>1</td>\n",
       "      <td>1</td>\n",
       "      <td>0.200000</td>\n",
       "      <td>0.212122</td>\n",
       "      <td>0.590435</td>\n",
       "      <td>0.160296</td>\n",
       "      <td>1562</td>\n",
       "      <td>0</td>\n",
       "      <td>0</td>\n",
       "      <td>1</td>\n",
       "      <td>0</td>\n",
       "      <td>0</td>\n",
       "      <td>0</td>\n",
       "      <td>0</td>\n",
       "      <td>1</td>\n",
       "      <td>0</td>\n",
       "      <td>0</td>\n",
       "      <td>0.177174</td>\n",
       "    </tr>\n",
       "    <tr>\n",
       "      <th>4</th>\n",
       "      <td>0</td>\n",
       "      <td>3</td>\n",
       "      <td>1</td>\n",
       "      <td>1</td>\n",
       "      <td>0.226957</td>\n",
       "      <td>0.229270</td>\n",
       "      <td>0.436957</td>\n",
       "      <td>0.186900</td>\n",
       "      <td>1600</td>\n",
       "      <td>0</td>\n",
       "      <td>0</td>\n",
       "      <td>0</td>\n",
       "      <td>1</td>\n",
       "      <td>0</td>\n",
       "      <td>0</td>\n",
       "      <td>0</td>\n",
       "      <td>1</td>\n",
       "      <td>0</td>\n",
       "      <td>0</td>\n",
       "      <td>0.181546</td>\n",
       "    </tr>\n",
       "  </tbody>\n",
       "</table>\n",
       "</div>"
      ],
      "text/plain": [
       "   holiday  weekday  workingday  weathersit      temp     atemp       hum  \\\n",
       "0        0        6           0           2  0.344167  0.363625  0.805833   \n",
       "1        0        0           0           2  0.363478  0.353739  0.696087   \n",
       "2        0        1           1           1  0.196364  0.189405  0.437273   \n",
       "3        0        2           1           1  0.200000  0.212122  0.590435   \n",
       "4        0        3           1           1  0.226957  0.229270  0.436957   \n",
       "\n",
       "   windspeed   cnt  weekday_0  weekday_1  weekday_2  weekday_3  weekday_4  \\\n",
       "0   0.160446   985          0          0          0          0          0   \n",
       "1   0.248539   801          1          0          0          0          0   \n",
       "2   0.248309  1349          0          1          0          0          0   \n",
       "3   0.160296  1562          0          0          1          0          0   \n",
       "4   0.186900  1600          0          0          0          1          0   \n",
       "\n",
       "   weekday_5  weekday_6  weathersit_1  weathersit_2  weathersit_3    cntscl  \n",
       "0          0          1             0             1             0  0.110792  \n",
       "1          0          0             0             1             0  0.089623  \n",
       "2          0          0             1             0             0  0.152669  \n",
       "3          0          0             1             0             0  0.177174  \n",
       "4          0          0             1             0             0  0.181546  "
      ]
     },
     "execution_count": 21,
     "metadata": {},
     "output_type": "execute_result"
    }
   ],
   "source": [
    "df_preproc[\"cntscl\"] = scaledCnt\n",
    "df_preproc.head()"
   ]
  },
  {
   "cell_type": "code",
   "execution_count": 22,
   "metadata": {},
   "outputs": [
    {
     "data": {
      "text/plain": [
       "array([[0.11079153]])"
      ]
     },
     "execution_count": 22,
     "metadata": {},
     "output_type": "execute_result"
    }
   ],
   "source": [
    "scalerCnt.transform([[985]])"
   ]
  },
  {
   "cell_type": "code",
   "execution_count": 23,
   "metadata": {},
   "outputs": [
    {
     "data": {
      "text/plain": [
       "array([[984.99997876]])"
      ]
     },
     "execution_count": 23,
     "metadata": {},
     "output_type": "execute_result"
    }
   ],
   "source": [
    "scalerCnt.inverse_transform([[0.11079153]])"
   ]
  },
  {
   "cell_type": "markdown",
   "metadata": {},
   "source": [
    "# Prepare Data"
   ]
  },
  {
   "cell_type": "code",
   "execution_count": 24,
   "metadata": {},
   "outputs": [
    {
     "data": {
      "text/plain": [
       "((731, 17), (731, 1))"
      ]
     },
     "execution_count": 24,
     "metadata": {},
     "output_type": "execute_result"
    }
   ],
   "source": [
    "preproc_data = df_preproc[[\"holiday\", \"workingday\", \"temp\", \"atemp\", \"hum\", \"windspeed\",\n",
    "     \"weekday_0\", \"weekday_1\", \"weekday_2\", \"weekday_3\", \"weekday_4\", \"weekday_5\", \"weekday_6\",\n",
    "     \"weathersit_1\", \"weathersit_2\", \"weathersit_3\", \"cntscl\"]].values\n",
    "preproc_label = df_preproc[[\"cntscl\"]].values\n",
    "preproc_data.shape, preproc_label.shape"
   ]
  },
  {
   "cell_type": "markdown",
   "metadata": {},
   "source": [
    "## Splitting"
   ]
  },
  {
   "cell_type": "code",
   "execution_count": 25,
   "metadata": {},
   "outputs": [
    {
     "data": {
      "text/plain": [
       "631"
      ]
     },
     "execution_count": 25,
     "metadata": {},
     "output_type": "execute_result"
    }
   ],
   "source": [
    "SIZE_VALI  = 50\n",
    "SIZE_TEST  = 50\n",
    "SIZE_TRAIN = preproc_data.shape[0] - SIZE_VALI - SIZE_TEST\n",
    "SIZE_TRAIN"
   ]
  },
  {
   "cell_type": "code",
   "execution_count": 26,
   "metadata": {},
   "outputs": [
    {
     "data": {
      "text/plain": [
       "((631, 17), (50, 17), (50, 17))"
      ]
     },
     "execution_count": 26,
     "metadata": {},
     "output_type": "execute_result"
    }
   ],
   "source": [
    "train_data = preproc_data[:SIZE_TRAIN]\n",
    "vali_data = preproc_data[SIZE_TRAIN: -SIZE_VALI]\n",
    "test_data = preproc_data[-SIZE_VALI:]\n",
    "train_data.shape, vali_data.shape, test_data.shape"
   ]
  },
  {
   "cell_type": "code",
   "execution_count": 27,
   "metadata": {},
   "outputs": [
    {
     "data": {
      "text/plain": [
       "((631, 1), (50, 1), (50, 1))"
      ]
     },
     "execution_count": 27,
     "metadata": {},
     "output_type": "execute_result"
    }
   ],
   "source": [
    "train_label = preproc_label[:SIZE_TRAIN]\n",
    "vali_label = preproc_label[SIZE_TRAIN: -SIZE_VALI]\n",
    "test_label = preproc_label[-SIZE_VALI:]\n",
    "train_label.shape, vali_label.shape, test_label.shape"
   ]
  },
  {
   "cell_type": "code",
   "execution_count": 28,
   "metadata": {},
   "outputs": [],
   "source": [
    "train_data2 = preproc_data[SIZE_VALI:SIZE_TRAIN]\n",
    "vali_data2 = preproc_data[:SIZE_VALI]"
   ]
  },
  {
   "cell_type": "code",
   "execution_count": 29,
   "metadata": {},
   "outputs": [],
   "source": [
    "train_label2 = preproc_label[SIZE_VALI:SIZE_TRAIN]\n",
    "vali_label2 = preproc_label[:SIZE_VALI]"
   ]
  },
  {
   "cell_type": "markdown",
   "metadata": {},
   "source": [
    "## Windowing"
   ]
  },
  {
   "cell_type": "code",
   "execution_count": 31,
   "metadata": {},
   "outputs": [
    {
     "data": {
      "text/plain": [
       "(17, 128)"
      ]
     },
     "execution_count": 31,
     "metadata": {},
     "output_type": "execute_result"
    }
   ],
   "source": [
    "SIZE_FEATURES = train_data.shape[1]\n",
    "SIZE_TRAIN_DATA = 128 # train_data.shape[0]\n",
    "TIME_STEP = 5\n",
    "SIZE_FEATURES, SIZE_TRAIN_DATA"
   ]
  },
  {
   "cell_type": "code",
   "execution_count": 32,
   "metadata": {},
   "outputs": [],
   "source": [
    "train_window = preprocessing.sequence.TimeseriesGenerator(\n",
    "    train_data, train_label, length=TIME_STEP, batch_size=SIZE_TRAIN_DATA\n",
    ")"
   ]
  },
  {
   "cell_type": "code",
   "execution_count": 33,
   "metadata": {},
   "outputs": [],
   "source": [
    "vali_window = preprocessing.sequence.TimeseriesGenerator(\n",
    "    vali_data, vali_label, length=TIME_STEP, batch_size=1\n",
    ")"
   ]
  },
  {
   "cell_type": "code",
   "execution_count": 34,
   "metadata": {},
   "outputs": [],
   "source": [
    "test_window = preprocessing.sequence.TimeseriesGenerator(\n",
    "    test_data, test_label, length=TIME_STEP, batch_size=1\n",
    ")"
   ]
  },
  {
   "cell_type": "code",
   "execution_count": 36,
   "metadata": {},
   "outputs": [],
   "source": [
    "train_window2 = preprocessing.sequence.TimeseriesGenerator(\n",
    "    train_data2, train_label2, length=TIME_STEP, batch_size=SIZE_TRAIN_DATA\n",
    ")"
   ]
  },
  {
   "cell_type": "code",
   "execution_count": 38,
   "metadata": {},
   "outputs": [],
   "source": [
    "vali_window2 = preprocessing.sequence.TimeseriesGenerator(\n",
    "    vali_data2, vali_label2, length=TIME_STEP, batch_size=1\n",
    ")"
   ]
  },
  {
   "cell_type": "code",
   "execution_count": 39,
   "metadata": {},
   "outputs": [
    {
     "data": {
      "text/plain": [
       "45"
      ]
     },
     "execution_count": 39,
     "metadata": {},
     "output_type": "execute_result"
    }
   ],
   "source": [
    "len(test_window)"
   ]
  },
  {
   "cell_type": "code",
   "execution_count": 40,
   "metadata": {},
   "outputs": [
    {
     "name": "stdout",
     "output_type": "stream",
     "text": [
      "[[[1.0, 0.0, 0.485, 0.475383, 0.741667, 0.173517, 0.0, 1.0, 0.0, 0.0, 0.0, 0.0, 0.0, 1.0, 0.0, 0.0, 0.7187068568798896], [0.0, 1.0, 0.343333, 0.323225, 0.662917, 0.342046, 0.0, 0.0, 1.0, 0.0, 0.0, 0.0, 0.0, 0.0, 1.0, 0.0, 0.4684767602393005], [0.0, 1.0, 0.289167, 0.281563, 0.552083, 0.199625, 0.0, 0.0, 0.0, 1.0, 0.0, 0.0, 0.0, 1.0, 0.0, 0.0, 0.6296594569719283], [0.0, 1.0, 0.321667, 0.324492, 0.620417, 0.152987, 0.0, 0.0, 0.0, 0.0, 1.0, 0.0, 0.0, 0.0, 1.0, 0.0, 0.6239070409572021], [0.0, 1.0, 0.345, 0.347204, 0.524583, 0.171025, 0.0, 0.0, 0.0, 0.0, 0.0, 1.0, 0.0, 1.0, 0.0, 0.0, 0.6530142659917165]]]\n",
      "[[0.64507593]]\n"
     ]
    }
   ],
   "source": [
    "x, y = test_window[0]\n",
    "print(x.tolist())\n",
    "print(y)"
   ]
  },
  {
   "cell_type": "markdown",
   "metadata": {},
   "source": [
    "# Generate Model"
   ]
  },
  {
   "cell_type": "code",
   "execution_count": 41,
   "metadata": {},
   "outputs": [
    {
     "name": "stdout",
     "output_type": "stream",
     "text": [
      "Model: \"sequential\"\n",
      "_________________________________________________________________\n",
      "Layer (type)                 Output Shape              Param #   \n",
      "=================================================================\n",
      "simple_rnn (SimpleRNN)       (None, 5, 20)             760       \n",
      "_________________________________________________________________\n",
      "time_distributed (TimeDistri (None, 5, 20)             0         \n",
      "_________________________________________________________________\n",
      "simple_rnn_1 (SimpleRNN)     (None, 20)                820       \n",
      "_________________________________________________________________\n",
      "dropout_1 (Dropout)          (None, 20)                0         \n",
      "_________________________________________________________________\n",
      "dense (Dense)                (None, 1)                 21        \n",
      "=================================================================\n",
      "Total params: 1,601\n",
      "Trainable params: 1,601\n",
      "Non-trainable params: 0\n",
      "_________________________________________________________________\n"
     ]
    }
   ],
   "source": [
    "model = models.Sequential([\n",
    "    layers.Input([TIME_STEP, SIZE_FEATURES]),\n",
    "    layers.SimpleRNN(20, return_sequences=True),\n",
    "    layers.TimeDistributed(layers.Dropout(.2)),\n",
    "    layers.SimpleRNN(20),\n",
    "    layers.Dropout(.2),\n",
    "    layers.Dense(1)\n",
    "])\n",
    "model.summary()"
   ]
  },
  {
   "cell_type": "code",
   "execution_count": 42,
   "metadata": {},
   "outputs": [],
   "source": [
    "model.compile(\n",
    "    loss=\"mse\",\n",
    "    optimizer=tf.keras.optimizers.Adam(learning_rate=0.0001)\n",
    ")"
   ]
  },
  {
   "cell_type": "markdown",
   "metadata": {},
   "source": [
    "# Training"
   ]
  },
  {
   "cell_type": "code",
   "execution_count": 43,
   "metadata": {
    "scrolled": true,
    "tags": []
   },
   "outputs": [
    {
     "name": "stdout",
     "output_type": "stream",
     "text": [
      "Epoch 1/50\n",
      "5/5 [==============================] - 1s 83ms/step - loss: 0.9097 - val_loss: 1.0901\n",
      "Epoch 2/50\n",
      "5/5 [==============================] - 0s 29ms/step - loss: 0.9678 - val_loss: 0.9388\n",
      "Epoch 3/50\n",
      "5/5 [==============================] - 0s 29ms/step - loss: 0.7816 - val_loss: 0.8138\n",
      "Epoch 4/50\n",
      "5/5 [==============================] - 0s 31ms/step - loss: 0.6654 - val_loss: 0.7080\n",
      "Epoch 5/50\n",
      "5/5 [==============================] - 0s 30ms/step - loss: 0.6259 - val_loss: 0.6154\n",
      "Epoch 6/50\n",
      "5/5 [==============================] - 0s 30ms/step - loss: 0.5715 - val_loss: 0.5430\n",
      "Epoch 7/50\n",
      "5/5 [==============================] - 0s 29ms/step - loss: 0.5494 - val_loss: 0.4807\n",
      "Epoch 8/50\n",
      "5/5 [==============================] - 0s 29ms/step - loss: 0.4992 - val_loss: 0.4288\n",
      "Epoch 9/50\n",
      "5/5 [==============================] - 0s 34ms/step - loss: 0.5005 - val_loss: 0.3851\n",
      "Epoch 10/50\n",
      "5/5 [==============================] - 0s 35ms/step - loss: 0.5021 - val_loss: 0.3477\n",
      "Epoch 11/50\n",
      "5/5 [==============================] - 0s 32ms/step - loss: 0.3904 - val_loss: 0.3184\n",
      "Epoch 12/50\n",
      "5/5 [==============================] - 0s 29ms/step - loss: 0.4376 - val_loss: 0.2925\n",
      "Epoch 13/50\n",
      "5/5 [==============================] - 0s 29ms/step - loss: 0.4395 - val_loss: 0.2700\n",
      "Epoch 14/50\n",
      "5/5 [==============================] - 0s 31ms/step - loss: 0.4022 - val_loss: 0.2511\n",
      "Epoch 15/50\n",
      "5/5 [==============================] - 0s 30ms/step - loss: 0.4430 - val_loss: 0.2366\n",
      "Epoch 16/50\n",
      "5/5 [==============================] - 0s 30ms/step - loss: 0.3770 - val_loss: 0.2245\n",
      "Epoch 17/50\n",
      "5/5 [==============================] - 0s 30ms/step - loss: 0.3584 - val_loss: 0.2113\n",
      "Epoch 18/50\n",
      "5/5 [==============================] - 0s 30ms/step - loss: 0.3752 - val_loss: 0.2015\n",
      "Epoch 19/50\n",
      "5/5 [==============================] - 0s 30ms/step - loss: 0.3580 - val_loss: 0.1936\n",
      "Epoch 20/50\n",
      "5/5 [==============================] - 0s 30ms/step - loss: 0.3618 - val_loss: 0.1859\n",
      "Epoch 21/50\n",
      "5/5 [==============================] - 0s 32ms/step - loss: 0.3597 - val_loss: 0.1790\n",
      "Epoch 22/50\n",
      "5/5 [==============================] - 0s 31ms/step - loss: 0.3335 - val_loss: 0.1736\n",
      "Epoch 23/50\n",
      "5/5 [==============================] - 0s 30ms/step - loss: 0.3551 - val_loss: 0.1692\n",
      "Epoch 24/50\n",
      "5/5 [==============================] - 0s 30ms/step - loss: 0.3549 - val_loss: 0.1642\n",
      "Epoch 25/50\n",
      "5/5 [==============================] - 0s 30ms/step - loss: 0.3749 - val_loss: 0.1585\n",
      "Epoch 26/50\n",
      "5/5 [==============================] - 0s 30ms/step - loss: 0.3553 - val_loss: 0.1543\n",
      "Epoch 27/50\n",
      "5/5 [==============================] - 0s 30ms/step - loss: 0.3406 - val_loss: 0.1506\n",
      "Epoch 28/50\n",
      "5/5 [==============================] - 0s 32ms/step - loss: 0.3500 - val_loss: 0.1461\n",
      "Epoch 29/50\n",
      "5/5 [==============================] - 0s 31ms/step - loss: 0.3495 - val_loss: 0.1411\n",
      "Epoch 30/50\n",
      "5/5 [==============================] - 0s 30ms/step - loss: 0.3303 - val_loss: 0.1365\n",
      "Epoch 31/50\n",
      "5/5 [==============================] - 0s 30ms/step - loss: 0.3256 - val_loss: 0.1335\n",
      "Epoch 32/50\n",
      "5/5 [==============================] - 0s 29ms/step - loss: 0.3513 - val_loss: 0.1294\n",
      "Epoch 33/50\n",
      "5/5 [==============================] - 0s 30ms/step - loss: 0.3619 - val_loss: 0.1258\n",
      "Epoch 34/50\n",
      "5/5 [==============================] - 0s 30ms/step - loss: 0.3252 - val_loss: 0.1220\n",
      "Epoch 35/50\n",
      "5/5 [==============================] - 0s 29ms/step - loss: 0.3049 - val_loss: 0.1174\n",
      "Epoch 36/50\n",
      "5/5 [==============================] - 0s 29ms/step - loss: 0.3197 - val_loss: 0.1141\n",
      "Epoch 37/50\n",
      "5/5 [==============================] - 0s 30ms/step - loss: 0.3028 - val_loss: 0.1112\n",
      "Epoch 38/50\n",
      "5/5 [==============================] - 0s 30ms/step - loss: 0.3078 - val_loss: 0.1078\n",
      "Epoch 39/50\n",
      "5/5 [==============================] - 0s 30ms/step - loss: 0.3531 - val_loss: 0.1059\n",
      "Epoch 40/50\n",
      "5/5 [==============================] - 0s 30ms/step - loss: 0.3341 - val_loss: 0.1036\n",
      "Epoch 41/50\n",
      "5/5 [==============================] - 0s 33ms/step - loss: 0.3042 - val_loss: 0.1020\n",
      "Epoch 42/50\n",
      "5/5 [==============================] - 0s 33ms/step - loss: 0.2732 - val_loss: 0.0996\n",
      "Epoch 43/50\n",
      "5/5 [==============================] - 0s 33ms/step - loss: 0.2920 - val_loss: 0.0986\n",
      "Epoch 44/50\n",
      "5/5 [==============================] - 0s 33ms/step - loss: 0.3117 - val_loss: 0.0971\n",
      "Epoch 45/50\n",
      "5/5 [==============================] - 0s 34ms/step - loss: 0.3401 - val_loss: 0.0944\n",
      "Epoch 46/50\n",
      "5/5 [==============================] - 0s 31ms/step - loss: 0.2684 - val_loss: 0.0916\n",
      "Epoch 47/50\n",
      "5/5 [==============================] - 0s 31ms/step - loss: 0.3017 - val_loss: 0.0896\n",
      "Epoch 48/50\n",
      "5/5 [==============================] - 0s 34ms/step - loss: 0.3160 - val_loss: 0.0874\n",
      "Epoch 49/50\n",
      "5/5 [==============================] - 0s 31ms/step - loss: 0.3137 - val_loss: 0.0849\n",
      "Epoch 50/50\n",
      "5/5 [==============================] - 0s 30ms/step - loss: 0.2756 - val_loss: 0.0835\n"
     ]
    }
   ],
   "source": [
    "history = model.fit_generator(\n",
    "    train_window,\n",
    "    epochs=50,\n",
    "    verbose=1,\n",
    "    validation_data=vali_window\n",
    ")"
   ]
  },
  {
   "cell_type": "code",
   "execution_count": 44,
   "metadata": {},
   "outputs": [
    {
     "data": {
      "text/plain": [
       "<AxesSubplot:>"
      ]
     },
     "execution_count": 44,
     "metadata": {},
     "output_type": "execute_result"
    },
    {
     "data": {
      "image/png": "[encoded data removed]",
      "text/plain": [
       "<Figure size 432x288 with 1 Axes>"
      ]
     },
     "metadata": {
      "needs_background": "light"
     },
     "output_type": "display_data"
    }
   ],
   "source": [
    "df_history = pd.DataFrame(history.history)\n",
    "df_history[[\"loss\", \"val_loss\"]].plot()"
   ]
  },
  {
   "cell_type": "code",
   "execution_count": 45,
   "metadata": {
    "scrolled": true,
    "tags": []
   },
   "outputs": [
    {
     "name": "stdout",
     "output_type": "stream",
     "text": [
      "Epoch 1/50\n",
      "5/5 [==============================] - 0s 36ms/step - loss: 0.2978 - val_loss: 0.0748\n",
      "Epoch 2/50\n",
      "5/5 [==============================] - 0s 30ms/step - loss: 0.2973 - val_loss: 0.0724\n",
      "Epoch 3/50\n",
      "5/5 [==============================] - 0s 29ms/step - loss: 0.2616 - val_loss: 0.0718\n",
      "Epoch 4/50\n",
      "5/5 [==============================] - 0s 29ms/step - loss: 0.3023 - val_loss: 0.0701\n",
      "Epoch 5/50\n",
      "5/5 [==============================] - 0s 35ms/step - loss: 0.2730 - val_loss: 0.0697\n",
      "Epoch 6/50\n",
      "5/5 [==============================] - 0s 29ms/step - loss: 0.2794 - val_loss: 0.0691\n",
      "Epoch 7/50\n",
      "5/5 [==============================] - 0s 29ms/step - loss: 0.2772 - val_loss: 0.0694\n",
      "Epoch 8/50\n",
      "5/5 [==============================] - 0s 29ms/step - loss: 0.3199 - val_loss: 0.0674\n",
      "Epoch 9/50\n",
      "5/5 [==============================] - 0s 29ms/step - loss: 0.3068 - val_loss: 0.0659\n",
      "Epoch 10/50\n",
      "5/5 [==============================] - 0s 30ms/step - loss: 0.2892 - val_loss: 0.0661\n",
      "Epoch 11/50\n",
      "5/5 [==============================] - 0s 30ms/step - loss: 0.2707 - val_loss: 0.0657\n",
      "Epoch 12/50\n",
      "5/5 [==============================] - 0s 30ms/step - loss: 0.2784 - val_loss: 0.0648\n",
      "Epoch 13/50\n",
      "5/5 [==============================] - 0s 31ms/step - loss: 0.2693 - val_loss: 0.0665\n",
      "Epoch 14/50\n",
      "5/5 [==============================] - 0s 29ms/step - loss: 0.2800 - val_loss: 0.0665\n",
      "Epoch 15/50\n",
      "5/5 [==============================] - 0s 29ms/step - loss: 0.2749 - val_loss: 0.0662\n",
      "Epoch 16/50\n",
      "5/5 [==============================] - 0s 30ms/step - loss: 0.2457 - val_loss: 0.0649\n",
      "Epoch 17/50\n",
      "5/5 [==============================] - 0s 30ms/step - loss: 0.2625 - val_loss: 0.0640\n",
      "Epoch 18/50\n",
      "5/5 [==============================] - 0s 31ms/step - loss: 0.2520 - val_loss: 0.0622\n",
      "Epoch 19/50\n",
      "5/5 [==============================] - 0s 32ms/step - loss: 0.2587 - val_loss: 0.0598\n",
      "Epoch 20/50\n",
      "5/5 [==============================] - 0s 32ms/step - loss: 0.2640 - val_loss: 0.0581\n",
      "Epoch 21/50\n",
      "5/5 [==============================] - 0s 32ms/step - loss: 0.2434 - val_loss: 0.0572\n",
      "Epoch 22/50\n",
      "5/5 [==============================] - 0s 30ms/step - loss: 0.2849 - val_loss: 0.0575\n",
      "Epoch 23/50\n",
      "5/5 [==============================] - 0s 33ms/step - loss: 0.2396 - val_loss: 0.0572\n",
      "Epoch 24/50\n",
      "5/5 [==============================] - 0s 32ms/step - loss: 0.2528 - val_loss: 0.0570\n",
      "Epoch 25/50\n",
      "5/5 [==============================] - 0s 32ms/step - loss: 0.2453 - val_loss: 0.0557\n",
      "Epoch 26/50\n",
      "5/5 [==============================] - 0s 30ms/step - loss: 0.2615 - val_loss: 0.0545\n",
      "Epoch 27/50\n",
      "5/5 [==============================] - 0s 29ms/step - loss: 0.2502 - val_loss: 0.0535\n",
      "Epoch 28/50\n",
      "5/5 [==============================] - 0s 30ms/step - loss: 0.2514 - val_loss: 0.0519\n",
      "Epoch 29/50\n",
      "5/5 [==============================] - 0s 30ms/step - loss: 0.2296 - val_loss: 0.0502\n",
      "Epoch 30/50\n",
      "5/5 [==============================] - 0s 30ms/step - loss: 0.2511 - val_loss: 0.0500\n",
      "Epoch 31/50\n",
      "5/5 [==============================] - 0s 30ms/step - loss: 0.2645 - val_loss: 0.0501\n",
      "Epoch 32/50\n",
      "5/5 [==============================] - 0s 29ms/step - loss: 0.2452 - val_loss: 0.0497\n",
      "Epoch 33/50\n",
      "5/5 [==============================] - 0s 29ms/step - loss: 0.2256 - val_loss: 0.0495\n",
      "Epoch 34/50\n",
      "5/5 [==============================] - 0s 29ms/step - loss: 0.2338 - val_loss: 0.0492\n",
      "Epoch 35/50\n",
      "5/5 [==============================] - 0s 29ms/step - loss: 0.2280 - val_loss: 0.0495\n",
      "Epoch 36/50\n",
      "5/5 [==============================] - 0s 29ms/step - loss: 0.2371 - val_loss: 0.0490\n",
      "Epoch 37/50\n",
      "5/5 [==============================] - 0s 29ms/step - loss: 0.2378 - val_loss: 0.0480\n",
      "Epoch 38/50\n",
      "5/5 [==============================] - 0s 31ms/step - loss: 0.2463 - val_loss: 0.0469\n",
      "Epoch 39/50\n",
      "5/5 [==============================] - 0s 29ms/step - loss: 0.2407 - val_loss: 0.0465\n",
      "Epoch 40/50\n",
      "5/5 [==============================] - 0s 29ms/step - loss: 0.2393 - val_loss: 0.0464\n",
      "Epoch 41/50\n",
      "5/5 [==============================] - 0s 29ms/step - loss: 0.2307 - val_loss: 0.0465\n",
      "Epoch 42/50\n",
      "5/5 [==============================] - 0s 29ms/step - loss: 0.2295 - val_loss: 0.0453\n",
      "Epoch 43/50\n",
      "5/5 [==============================] - 0s 30ms/step - loss: 0.2351 - val_loss: 0.0441\n",
      "Epoch 44/50\n",
      "5/5 [==============================] - 0s 30ms/step - loss: 0.2388 - val_loss: 0.0428\n",
      "Epoch 45/50\n",
      "5/5 [==============================] - 0s 30ms/step - loss: 0.2034 - val_loss: 0.0414\n",
      "Epoch 46/50\n",
      "5/5 [==============================] - 0s 29ms/step - loss: 0.2337 - val_loss: 0.0402\n",
      "Epoch 47/50\n",
      "5/5 [==============================] - 0s 31ms/step - loss: 0.2190 - val_loss: 0.0402\n",
      "Epoch 48/50\n",
      "5/5 [==============================] - 0s 29ms/step - loss: 0.2291 - val_loss: 0.0398\n",
      "Epoch 49/50\n",
      "5/5 [==============================] - 0s 30ms/step - loss: 0.2273 - val_loss: 0.0393\n",
      "Epoch 50/50\n",
      "5/5 [==============================] - 0s 29ms/step - loss: 0.2284 - val_loss: 0.0393\n"
     ]
    }
   ],
   "source": [
    "history = model.fit_generator(\n",
    "    train_window2,\n",
    "    epochs=50,\n",
    "    verbose=1,\n",
    "    validation_data=vali_window2\n",
    ")"
   ]
  },
  {
   "cell_type": "code",
   "execution_count": 46,
   "metadata": {},
   "outputs": [
    {
     "data": {
      "text/plain": [
       "<AxesSubplot:>"
      ]
     },
     "execution_count": 46,
     "metadata": {},
     "output_type": "execute_result"
    },
    {
     "data": {
      "image/png": "[encoded data removed]",
      "text/plain": [
       "<Figure size 432x288 with 1 Axes>"
      ]
     },
     "metadata": {
      "needs_background": "light"
     },
     "output_type": "display_data"
    }
   ],
   "source": [
    "df_history = pd.DataFrame(history.history)\n",
    "df_history[[\"loss\", \"val_loss\"]].plot()"
   ]
  },
  {
   "cell_type": "markdown",
   "metadata": {},
   "source": [
    "# Predict"
   ]
  },
  {
   "cell_type": "code",
   "execution_count": 47,
   "metadata": {},
   "outputs": [],
   "source": [
    "df_result = pd.DataFrame({'Actual' : [], 'Prediction' : []})\n",
    "\n",
    "for i in range(len(test_window)):\n",
    "    x, y = test_window[i]\n",
    "    yhat = model.predict(x)\n",
    "    df_result = df_result.append({\n",
    "        'Actual': scalerCnt.inverse_transform(y)[0][0],\n",
    "        'Prediction': scalerCnt.inverse_transform(yhat)[0][0]},\n",
    "        ignore_index=True\n",
    "    )"
   ]
  },
  {
   "cell_type": "code",
   "execution_count": 48,
   "metadata": {},
   "outputs": [
    {
     "data": {
      "text/html": [
       "<div>\n",
       "<style scoped>\n",
       "    .dataframe tbody tr th:only-of-type {\n",
       "        vertical-align: middle;\n",
       "    }\n",
       "\n",
       "    .dataframe tbody tr th {\n",
       "        vertical-align: top;\n",
       "    }\n",
       "\n",
       "    .dataframe thead th {\n",
       "        text-align: right;\n",
       "    }\n",
       "</style>\n",
       "<table border=\"1\" class=\"dataframe\">\n",
       "  <thead>\n",
       "    <tr style=\"text-align: right;\">\n",
       "      <th></th>\n",
       "      <th>Actual</th>\n",
       "      <th>Prediction</th>\n",
       "      <th>Diff</th>\n",
       "    </tr>\n",
       "  </thead>\n",
       "  <tbody>\n",
       "    <tr>\n",
       "      <th>0</th>\n",
       "      <td>5629.0</td>\n",
       "      <td>2837.008789</td>\n",
       "      <td>-49.600128</td>\n",
       "    </tr>\n",
       "    <tr>\n",
       "      <th>1</th>\n",
       "      <td>4669.0</td>\n",
       "      <td>4917.678711</td>\n",
       "      <td>5.326166</td>\n",
       "    </tr>\n",
       "    <tr>\n",
       "      <th>2</th>\n",
       "      <td>5499.0</td>\n",
       "      <td>6027.889648</td>\n",
       "      <td>9.617924</td>\n",
       "    </tr>\n",
       "    <tr>\n",
       "      <th>3</th>\n",
       "      <td>5634.0</td>\n",
       "      <td>4032.566162</td>\n",
       "      <td>-28.424456</td>\n",
       "    </tr>\n",
       "    <tr>\n",
       "      <th>4</th>\n",
       "      <td>5146.0</td>\n",
       "      <td>5833.921387</td>\n",
       "      <td>13.368080</td>\n",
       "    </tr>\n",
       "  </tbody>\n",
       "</table>\n",
       "</div>"
      ],
      "text/plain": [
       "   Actual   Prediction       Diff\n",
       "0  5629.0  2837.008789 -49.600128\n",
       "1  4669.0  4917.678711   5.326166\n",
       "2  5499.0  6027.889648   9.617924\n",
       "3  5634.0  4032.566162 -28.424456\n",
       "4  5146.0  5833.921387  13.368080"
      ]
     },
     "execution_count": 48,
     "metadata": {},
     "output_type": "execute_result"
    }
   ],
   "source": [
    "df_result['Diff'] = 100 * (df_result['Prediction'] - df_result['Actual']) / df_result['Actual']\n",
    "df_result.head()"
   ]
  },
  {
   "cell_type": "code",
   "execution_count": 49,
   "metadata": {},
   "outputs": [
    {
     "data": {
      "text/plain": [
       "<AxesSubplot:>"
      ]
     },
     "execution_count": 49,
     "metadata": {},
     "output_type": "execute_result"
    },
    {
     "data": {
      "image/png": "[encoded data removed]",
      "text/plain": [
       "<Figure size 1080x720 with 1 Axes>"
      ]
     },
     "metadata": {
      "needs_background": "light"
     },
     "output_type": "display_data"
    }
   ],
   "source": [
    "df_result[[\"Actual\", \"Prediction\"]].plot(figsize=(15, 10))"
   ]
  },
  {
   "cell_type": "code",
   "execution_count": null,
   "metadata": {},
   "outputs": [],
   "source": []
  },
  {
   "cell_type": "code",
   "execution_count": null,
   "metadata": {},
   "outputs": [],
   "source": []
  },
  {
   "cell_type": "code",
   "execution_count": null,
   "metadata": {},
   "outputs": [],
   "source": []
  }
 ],
 "metadata": {
  "kernelspec": {
   "display_name": "Python 3 (ipykernel)",
   "language": "python",
   "name": "python3"
  },
  "language_info": {
   "codemirror_mode": {
    "name": "ipython",
    "version": 3
   },
   "file_extension": ".py",
   "mimetype": "text/x-python",
   "name": "python",
   "nbconvert_exporter": "python",
   "pygments_lexer": "ipython3",
   "version": "3.9.6"
  },
  "toc-autonumbering": true
 },
 "nbformat": 4,
 "nbformat_minor": 4
}
