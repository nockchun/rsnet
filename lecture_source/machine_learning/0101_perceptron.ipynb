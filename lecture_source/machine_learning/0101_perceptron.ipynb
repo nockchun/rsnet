{
 "cells": [
  {
   "cell_type": "markdown",
   "metadata": {},
   "source": [
    "<div class=\"alert alert-block alert-success\">\n",
    "    <b><center>Perceptron</center></b>\n",
    "</div>"
   ]
  },
  {
   "cell_type": "code",
   "execution_count": 1,
   "metadata": {},
   "outputs": [],
   "source": [
    "# !pip install git+https://github.com/nockchun/rspy --force\n",
    "# !pip install mybatis_mapper2sql"
   ]
  },
  {
   "cell_type": "code",
   "execution_count": 2,
   "metadata": {},
   "outputs": [],
   "source": [
    "# import rspy as rsp"
   ]
  },
  {
   "cell_type": "code",
   "execution_count": 3,
   "metadata": {
    "tags": []
   },
   "outputs": [],
   "source": [
    "import danbi as bi"
   ]
  },
  {
   "cell_type": "markdown",
   "metadata": {},
   "source": [
    "# AND/OR 연산 함수"
   ]
  },
  {
   "cell_type": "code",
   "execution_count": 4,
   "metadata": {},
   "outputs": [],
   "source": [
    "# AND 연산\n",
    "def exAnd(x1, x2):\n",
    "    if x1 == x2 == 1:\n",
    "        return 1\n",
    "    else:\n",
    "        return 0"
   ]
  },
  {
   "cell_type": "code",
   "execution_count": 5,
   "metadata": {},
   "outputs": [
    {
     "data": {
      "application/vnd.jupyter.widget-view+json": {
       "model_id": "446ed251dc584ac1a05dee72f0bbbf7c",
       "version_major": 2,
       "version_minor": 0
      },
      "text/plain": [
       "GridspecLayout(children=(Output(layout=Layout(grid_area='widget001')), Output(layout=Layout(grid_area='widget0…"
      ]
     },
     "metadata": {},
     "output_type": "display_data"
    }
   ],
   "source": [
    "bi.showAsCols(\n",
    "    exAnd(0, 0), exAnd(0, 1), exAnd(1, 0), exAnd(1, 1)\n",
    ")"
   ]
  },
  {
   "cell_type": "code",
   "execution_count": 6,
   "metadata": {},
   "outputs": [],
   "source": [
    "# OR 연산\n",
    "def exOr(x1, x2):\n",
    "    if x1 == x2 == 0:\n",
    "        return 0\n",
    "    else:\n",
    "        return 1"
   ]
  },
  {
   "cell_type": "code",
   "execution_count": 7,
   "metadata": {},
   "outputs": [
    {
     "data": {
      "application/vnd.jupyter.widget-view+json": {
       "model_id": "391bde099c914b5789bca64f9bfbc9d9",
       "version_major": 2,
       "version_minor": 0
      },
      "text/plain": [
       "GridspecLayout(children=(Output(layout=Layout(grid_area='widget001')), Output(layout=Layout(grid_area='widget0…"
      ]
     },
     "metadata": {},
     "output_type": "display_data"
    }
   ],
   "source": [
    "bi.showAsCols(\n",
    "    exOr(0, 0), exOr(0, 1), exOr(1, 0), exOr(1, 1)\n",
    ")"
   ]
  },
  {
   "cell_type": "code",
   "execution_count": 8,
   "metadata": {},
   "outputs": [],
   "source": [
    "# XOR 연산\n",
    "def exXor(x1, x2):\n",
    "    if x1 == x2:\n",
    "        return 0\n",
    "    else:\n",
    "        return 1"
   ]
  },
  {
   "cell_type": "code",
   "execution_count": 9,
   "metadata": {},
   "outputs": [
    {
     "data": {
      "application/vnd.jupyter.widget-view+json": {
       "model_id": "751c6c2c3b434f9089cba4c2f6309fb3",
       "version_major": 2,
       "version_minor": 0
      },
      "text/plain": [
       "GridspecLayout(children=(Output(layout=Layout(grid_area='widget001')), Output(layout=Layout(grid_area='widget0…"
      ]
     },
     "metadata": {},
     "output_type": "display_data"
    }
   ],
   "source": [
    "bi.showAsCols(\n",
    "    exXor(0, 0), exXor(0, 1), exXor(1, 0), exXor(1, 1)\n",
    ")"
   ]
  },
  {
   "cell_type": "code",
   "execution_count": 10,
   "metadata": {},
   "outputs": [],
   "source": [
    "# CELL 구성\n",
    "import enum\n",
    "class OP(enum.Enum):\n",
    "    AND = 0\n",
    "    OR  = 1\n",
    "    XOR = 2"
   ]
  },
  {
   "cell_type": "code",
   "execution_count": 11,
   "metadata": {},
   "outputs": [
    {
     "data": {
      "text/plain": [
       "0"
      ]
     },
     "execution_count": 11,
     "metadata": {},
     "output_type": "execute_result"
    }
   ],
   "source": [
    "OP.AND.value"
   ]
  },
  {
   "cell_type": "code",
   "execution_count": 12,
   "metadata": {},
   "outputs": [],
   "source": [
    "def cell(x1, x2, operator=OP.AND):\n",
    "    result = 0\n",
    "    if operator == OP.AND:\n",
    "        result = 1 if x1 == x2 == 1 else 0\n",
    "    if operator == OP.OR:\n",
    "        result = 0 if x1 == x2 == 0 else 1\n",
    "    if operator == OP.XOR:\n",
    "        result = 0 if x1 == x2 else 1\n",
    "    return result"
   ]
  },
  {
   "cell_type": "code",
   "execution_count": 13,
   "metadata": {},
   "outputs": [
    {
     "data": {
      "application/vnd.jupyter.widget-view+json": {
       "model_id": "0f9da502467146b7b5b59b713be5c904",
       "version_major": 2,
       "version_minor": 0
      },
      "text/plain": [
       "GridspecLayout(children=(Output(layout=Layout(grid_area='widget001')), Output(layout=Layout(grid_area='widget0…"
      ]
     },
     "metadata": {},
     "output_type": "display_data"
    }
   ],
   "source": [
    "bi.showAsCols(\n",
    "    \"AND\", \"OR\", \"XOR\",\n",
    "    cell(0, 0), cell(0, 0, OP.OR), cell(0, 0, OP.XOR),\n",
    "    cell(0, 1), cell(0, 1, OP.OR), cell(0, 1, OP.XOR),\n",
    "    cell(1, 0), cell(1, 0, OP.OR), cell(1, 0, OP.XOR),\n",
    "    cell(1, 1), cell(1, 1, OP.OR), cell(1, 1, OP.XOR),\n",
    "    colSize=3, width=\"30%\"\n",
    ")"
   ]
  },
  {
   "cell_type": "code",
   "execution_count": 14,
   "metadata": {},
   "outputs": [],
   "source": [
    "class Cell(object):\n",
    "    def __init__(self, operator=OP.AND):\n",
    "        self._operator = operator\n",
    "        self._op = [self.doAnd, self.doOr, self.doXor]\n",
    "        \n",
    "    def doAnd(self, x1, x2):\n",
    "        return 1 if x1 == x2 == 1 else 0\n",
    "    \n",
    "    def doOr(self, x1, x2):\n",
    "        return 0 if x1 == x2 == 0 else 1\n",
    "    \n",
    "    def doXor(self, x1, x2):\n",
    "        return 0 if x1 == x2 else 1\n",
    "    \n",
    "    def do(self, x1, x2):\n",
    "        doFunction = self._op[self._operator.value]\n",
    "        return doFunction(x1, x2)\n",
    "    \n",
    "    def __repr__(self):\n",
    "        return f\"Cell[operator:{self._operator}]\""
   ]
  },
  {
   "cell_type": "code",
   "execution_count": 15,
   "metadata": {},
   "outputs": [
    {
     "data": {
      "text/plain": [
       "0"
      ]
     },
     "execution_count": 15,
     "metadata": {},
     "output_type": "execute_result"
    }
   ],
   "source": [
    "clsCell = Cell(OP.AND)\n",
    "clsCell.do(1, 0)"
   ]
  },
  {
   "cell_type": "code",
   "execution_count": 16,
   "metadata": {},
   "outputs": [
    {
     "data": {
      "text/plain": [
       "1"
      ]
     },
     "execution_count": 16,
     "metadata": {},
     "output_type": "execute_result"
    }
   ],
   "source": [
    "clsCell = Cell(OP.OR)\n",
    "clsCell.do(1, 0)"
   ]
  },
  {
   "cell_type": "markdown",
   "metadata": {},
   "source": [
    "# Perceptron Cell"
   ]
  },
  {
   "cell_type": "code",
   "execution_count": 17,
   "metadata": {},
   "outputs": [],
   "source": [
    "def cell(x1, x2, w1=0.5, w2=0.5, threshold=0.6):\n",
    "    weightSum = x1*w1 + x2*w2\n",
    "    return 0 if weightSum < threshold else 1"
   ]
  },
  {
   "cell_type": "code",
   "execution_count": 18,
   "metadata": {},
   "outputs": [
    {
     "data": {
      "application/vnd.jupyter.widget-view+json": {
       "model_id": "cc0b98ce0d7e412f9784a80da282b2c8",
       "version_major": 2,
       "version_minor": 0
      },
      "text/plain": [
       "GridspecLayout(children=(Output(layout=Layout(grid_area='widget001')), Output(layout=Layout(grid_area='widget0…"
      ]
     },
     "metadata": {},
     "output_type": "display_data"
    }
   ],
   "source": [
    "THRESHOLD1 = 0.6\n",
    "THRESHOLD2 = 0.4\n",
    "bi.showAsCols(\n",
    "    \"AND\", \"OR\",\n",
    "    cell(0, 0, threshold=THRESHOLD1), cell(0, 0, threshold=THRESHOLD2),\n",
    "    cell(0, 1, threshold=THRESHOLD1), cell(0, 1, threshold=THRESHOLD2),\n",
    "    cell(1, 0, threshold=THRESHOLD1), cell(1, 0, threshold=THRESHOLD2),\n",
    "    cell(1, 1, threshold=THRESHOLD1), cell(1, 1, threshold=THRESHOLD2),\n",
    "    colSize=2, width=\"30%\"\n",
    ")"
   ]
  },
  {
   "cell_type": "code",
   "execution_count": 19,
   "metadata": {},
   "outputs": [],
   "source": [
    "def cell(x1, x2, w1=0.5, w2=0.5, bias=0.5):\n",
    "    weightSum = x1*w1 + x2*w2 - bias\n",
    "    return 0 if weightSum <= 0 else 1"
   ]
  },
  {
   "cell_type": "code",
   "execution_count": 20,
   "metadata": {},
   "outputs": [
    {
     "data": {
      "application/vnd.jupyter.widget-view+json": {
       "model_id": "aa43fc0521ec4d09851236ee56d1f422",
       "version_major": 2,
       "version_minor": 0
      },
      "text/plain": [
       "GridspecLayout(children=(Output(layout=Layout(grid_area='widget001')), Output(layout=Layout(grid_area='widget0…"
      ]
     },
     "metadata": {},
     "output_type": "display_data"
    }
   ],
   "source": [
    "BIAS1 = 0.6\n",
    "BIAS2 = 0.4\n",
    "bi.showAsCols(\n",
    "    \"AND\", \"OR\",\n",
    "    cell(0, 0, bias=BIAS1), cell(0, 0, bias=BIAS2),\n",
    "    cell(0, 1, bias=BIAS1), cell(0, 1, bias=BIAS2),\n",
    "    cell(1, 0, bias=BIAS1), cell(1, 0, bias=BIAS2),\n",
    "    cell(1, 1, bias=BIAS1), cell(1, 1, bias=BIAS2),\n",
    "    colSize=2, width=\"30%\"\n",
    ")"
   ]
  },
  {
   "cell_type": "markdown",
   "metadata": {},
   "source": [
    "# numpy & Vector"
   ]
  },
  {
   "cell_type": "code",
   "execution_count": 21,
   "metadata": {},
   "outputs": [],
   "source": [
    "import numpy as np"
   ]
  },
  {
   "cell_type": "markdown",
   "metadata": {},
   "source": [
    "2개의 백터 $a=\\begin{bmatrix}1\\\\2\\end{bmatrix}, b=\\begin{bmatrix}2\\\\1\\end{bmatrix} $ 가 있을 때<br>\n",
    "$a+b=\\begin{bmatrix}3\\\\3\\end{bmatrix}, a-b=\\begin{bmatrix}-1\\\\1\\end{bmatrix}, a\\times b=\\begin{bmatrix}2\\\\2\\end{bmatrix}, a\\div b=\\begin{bmatrix}0.5\\\\2\\end{bmatrix}, a\\times 2=\\begin{bmatrix}2\\\\4\\end{bmatrix}$"
   ]
  },
  {
   "cell_type": "code",
   "execution_count": 22,
   "metadata": {},
   "outputs": [
    {
     "data": {
      "application/vnd.jupyter.widget-view+json": {
       "model_id": "d0d358a8922d475e913483ac648fb326",
       "version_major": 2,
       "version_minor": 0
      },
      "text/plain": [
       "GridspecLayout(children=(Output(layout=Layout(grid_area='widget001')), Output(layout=Layout(grid_area='widget0…"
      ]
     },
     "metadata": {},
     "output_type": "display_data"
    }
   ],
   "source": [
    "a = np.array([1, 2])\n",
    "b = np.array([2, 1])\n",
    "bi.showAsCols(a+b, a-b, a*b, a/b, a*2)"
   ]
  },
  {
   "cell_type": "code",
   "execution_count": 23,
   "metadata": {},
   "outputs": [],
   "source": [
    "plotConf = bi.EduPlotConf(figScale=1.5)\n",
    "plot = bi.EduPlot2D(plotConf)"
   ]
  },
  {
   "cell_type": "code",
   "execution_count": 24,
   "metadata": {},
   "outputs": [],
   "source": [
    "def sumAB():\n",
    "    plot.addVector([a, b])\n",
    "    plot.addVector([a+b], color=\"#FF0000\", name=\"sum\")\n",
    "    plot.addVector([b], [a], color=\"#00FF00\", name=\"alpa\")\n",
    "    plot.addText([a+b], [\"a+b\"])\n",
    "    return plot.genSpaceFigure([-2,5], [-2,5])"
   ]
  },
  {
   "cell_type": "code",
   "execution_count": 25,
   "metadata": {},
   "outputs": [],
   "source": [
    "def subAB():\n",
    "    plot.clear()\n",
    "    plot.addVector([a, b])\n",
    "    plot.addVector([a-b], color=\"#FF0000\", name=\"sub\")\n",
    "    plot.addVector([a-b], [b], color=\"#00FF00\", name=\"alpa\")\n",
    "    plot.addText([a-b], [\"a-b\"])\n",
    "    return plot.genSpaceFigure([-2,5], [-2,5])"
   ]
  },
  {
   "cell_type": "code",
   "execution_count": 26,
   "metadata": {},
   "outputs": [],
   "source": [
    "def scale2A():\n",
    "    plot.clear()\n",
    "    plot.addVector([a, 2*a])\n",
    "    plot.addText([2*a], [\"2a\"])\n",
    "    return plot.genSpaceFigure([-2,5], [-2,5])"
   ]
  },
  {
   "cell_type": "code",
   "execution_count": 28,
   "metadata": {},
   "outputs": [
    {
     "data": {
      "application/vnd.jupyter.widget-view+json": {
       "model_id": "14e99337ded4401f9c09789217058dcf",
       "version_major": 2,
       "version_minor": 0
      },
      "text/plain": [
       "GridspecLayout(children=(Output(layout=Layout(grid_area='widget001')), Output(layout=Layout(grid_area='widget0…"
      ]
     },
     "metadata": {},
     "output_type": "display_data"
    }
   ],
   "source": [
    "bi.showAsCols(sumAB(), subAB(), scale2A())"
   ]
  },
  {
   "cell_type": "code",
   "execution_count": 29,
   "metadata": {},
   "outputs": [
    {
     "data": {
      "image/png": "[encoded data removed]",
      "text/plain": [
       "<Figure size 600x600 with 1 Axes>"
      ]
     },
     "metadata": {},
     "output_type": "display_data"
    }
   ],
   "source": [
    "linX = np.array([1,0])\n",
    "linY = np.array([0,2])\n",
    "\n",
    "plot.clear()\n",
    "plot.addFunction(\"-x+3\")\n",
    "plot.addVector([linX, linY])\n",
    "plot.addVector([linX+linY], color=\"#00FF00\", name=\"alpa\")\n",
    "plot.genSpace([-1,4], [-1,4])"
   ]
  },
  {
   "cell_type": "markdown",
   "metadata": {},
   "source": [
    "# Matrix"
   ]
  },
  {
   "cell_type": "code",
   "execution_count": 30,
   "metadata": {},
   "outputs": [
    {
     "data": {
      "text/plain": [
       "array([[1., 0.],\n",
       "       [0., 1.]])"
      ]
     },
     "execution_count": 30,
     "metadata": {},
     "output_type": "execute_result"
    }
   ],
   "source": [
    "base = np.identity(2)\n",
    "base"
   ]
  },
  {
   "cell_type": "code",
   "execution_count": 31,
   "metadata": {},
   "outputs": [],
   "source": [
    "base = [\n",
    "    [1, 0],\n",
    "    [0, 1]\n",
    "]\n",
    "test = np.array([1, 1])"
   ]
  },
  {
   "cell_type": "code",
   "execution_count": 32,
   "metadata": {},
   "outputs": [],
   "source": [
    "transX = [\n",
    "    [1, 0],\n",
    "    [0.3, 1]\n",
    "]\n",
    "transY = [\n",
    "    [1, -0.3],\n",
    "    [0, 1]\n",
    "]\n",
    "trans = [\n",
    "    [1, -0.3],\n",
    "    [0.3, 1]\n",
    "]"
   ]
  },
  {
   "cell_type": "code",
   "execution_count": 33,
   "metadata": {},
   "outputs": [],
   "source": [
    "plot.clear()\n",
    "plot.addFunction(\"-x+2\")\n",
    "plot.addVector(base, name=\"base\")\n",
    "plot.addVector([test], [(-1, -1)], \"test\", \"#00FF00\")"
   ]
  },
  {
   "cell_type": "code",
   "execution_count": 34,
   "metadata": {},
   "outputs": [
    {
     "data": {
      "application/vnd.jupyter.widget-view+json": {
       "model_id": "e66c6c7759df45138c127d7ffe38e14c",
       "version_major": 2,
       "version_minor": 0
      },
      "text/plain": [
       "GridspecLayout(children=(Output(layout=Layout(grid_area='widget001')), Output(layout=Layout(grid_area='widget0…"
      ]
     },
     "metadata": {},
     "output_type": "display_data"
    }
   ],
   "source": [
    "bi.showAsCols(\n",
    "    plot.genSpaceFigure(4, 4, \"Unit Vector\"),\n",
    "    plot.genSpaceFigure(4, 4, \"Transformation X\", transX),\n",
    "    plot.genSpaceFigure(4, 4, \"Transformation Y\", transY),\n",
    "    plot.genSpaceFigure(4, 4, \"Transformation\", trans)\n",
    ")"
   ]
  },
  {
   "cell_type": "markdown",
   "metadata": {},
   "source": [
    "# Learning"
   ]
  },
  {
   "cell_type": "code",
   "execution_count": 35,
   "metadata": {},
   "outputs": [],
   "source": [
    "import numpy as np"
   ]
  },
  {
   "cell_type": "code",
   "execution_count": 36,
   "metadata": {},
   "outputs": [],
   "source": [
    "datas = [\n",
    "    [0, 0],\n",
    "    [0, 1],\n",
    "    [1, 0],\n",
    "    [1, 1],\n",
    "]\n",
    "labels = [0, 1, 0, 1]"
   ]
  },
  {
   "cell_type": "code",
   "execution_count": 37,
   "metadata": {},
   "outputs": [],
   "source": [
    "class Learning(object):\n",
    "    def __init__(self, learningRate=0.1):\n",
    "        self.learningRate = learningRate\n",
    "        self.bias = 0.5\n",
    "        self.w = np.random.rand(2)\n",
    "        self.errors = []\n",
    "        \n",
    "    def fit(self, data, label):\n",
    "        predicted = self.prediction(data)\n",
    "        error = self._loss(predicted, label)\n",
    "        self.errors.append(error)\n",
    "        optimize = self._optimizer(self.learningRate,  error)\n",
    "    \n",
    "    def _hypothesis(self, data, weight, bias):\n",
    "        return np.matmul(data, weight) - bias\n",
    "            \n",
    "    def _loss(self, predicted, label):\n",
    "        errors = 0\n",
    "        for label, pred in zip(label, predicted):\n",
    "            errors += label - pred\n",
    "        return errors / len(predicted)\n",
    "    \n",
    "    def _optimizer(self, learningRate, error):\n",
    "        update = learningRate * error\n",
    "        self.w += update\n",
    "    \n",
    "    def prediction(self, data):\n",
    "        production = self._hypothesis(data, self.w, self.bias)\n",
    "        return np.where(production <= 0, 0, 1)"
   ]
  },
  {
   "cell_type": "code",
   "execution_count": 38,
   "metadata": {},
   "outputs": [],
   "source": [
    "learng = Learning(0.1)"
   ]
  },
  {
   "cell_type": "code",
   "execution_count": 39,
   "metadata": {},
   "outputs": [],
   "source": [
    "for _ in range(50):\n",
    "    learng.fit(np.array(datas), np.array(labels))"
   ]
  },
  {
   "cell_type": "code",
   "execution_count": 40,
   "metadata": {},
   "outputs": [
    {
     "data": {
      "text/plain": [
       "array([0, 1, 0, 1])"
      ]
     },
     "execution_count": 40,
     "metadata": {},
     "output_type": "execute_result"
    }
   ],
   "source": [
    "learng.prediction(np.array(datas))"
   ]
  },
  {
   "cell_type": "code",
   "execution_count": 41,
   "metadata": {},
   "outputs": [
    {
     "data": {
      "image/png": "[encoded data removed]",
      "text/plain": [
       "<Figure size 640x480 with 1 Axes>"
      ]
     },
     "metadata": {},
     "output_type": "display_data"
    }
   ],
   "source": [
    "import matplotlib.pyplot as plt\n",
    "plt.plot(range(1, len(learng.errors)+1), learng.errors, marker=\".\")\n",
    "plt.show()"
   ]
  },
  {
   "cell_type": "markdown",
   "metadata": {},
   "source": [
    "# 퍼셉트론 한계 극보"
   ]
  },
  {
   "cell_type": "code",
   "execution_count": 43,
   "metadata": {},
   "outputs": [
    {
     "data": {
      "application/vnd.jupyter.widget-view+json": {
       "model_id": "8d7d484d797f4794a5b224a69a09c760",
       "version_major": 2,
       "version_minor": 0
      },
      "text/plain": [
       "GridspecLayout(children=(Output(layout=Layout(grid_area='widget001')), Output(layout=Layout(grid_area='widget0…"
      ]
     },
     "metadata": {},
     "output_type": "display_data"
    }
   ],
   "source": [
    "# AND\n",
    "bi.showAsCols(\n",
    "    cell(0, 0, w1=0.5, w2=0.5, bias=0.5),\n",
    "    cell(0, 1, w1=0.5, w2=0.5, bias=0.5),\n",
    "    cell(1, 0, w1=0.5, w2=0.5, bias=0.5),\n",
    "    cell(1, 1, w1=0.5, w2=0.5, bias=0.5),\n",
    ")"
   ]
  },
  {
   "cell_type": "code",
   "execution_count": 44,
   "metadata": {},
   "outputs": [
    {
     "data": {
      "application/vnd.jupyter.widget-view+json": {
       "model_id": "815b959c494a467291410ce3368d906d",
       "version_major": 2,
       "version_minor": 0
      },
      "text/plain": [
       "GridspecLayout(children=(Output(layout=Layout(grid_area='widget001')), Output(layout=Layout(grid_area='widget0…"
      ]
     },
     "metadata": {},
     "output_type": "display_data"
    }
   ],
   "source": [
    "# OR\n",
    "bi.showAsCols(\n",
    "    cell(0, 0, w1=0.5, w2=0.5, bias=0.4),\n",
    "    cell(0, 1, w1=0.5, w2=0.5, bias=0.4),\n",
    "    cell(1, 0, w1=0.5, w2=0.5, bias=0.4),\n",
    "    cell(1, 1, w1=0.5, w2=0.5, bias=0.4),\n",
    ")"
   ]
  },
  {
   "cell_type": "code",
   "execution_count": 45,
   "metadata": {},
   "outputs": [
    {
     "data": {
      "application/vnd.jupyter.widget-view+json": {
       "model_id": "55c782761a0e4ce9ae76ec1d9e399c81",
       "version_major": 2,
       "version_minor": 0
      },
      "text/plain": [
       "GridspecLayout(children=(Output(layout=Layout(grid_area='widget001')), Output(layout=Layout(grid_area='widget0…"
      ]
     },
     "metadata": {},
     "output_type": "display_data"
    }
   ],
   "source": [
    "# NAND\n",
    "bi.showAsCols(\n",
    "    cell(0, 0, w1=-0.5, w2=-0.5, bias=-0.6),\n",
    "    cell(0, 1, w1=-0.5, w2=-0.5, bias=-0.6),\n",
    "    cell(1, 0, w1=-0.5, w2=-0.5, bias=-0.6),\n",
    "    cell(1, 1, w1=-0.5, w2=-0.5, bias=-0.6),\n",
    ")"
   ]
  },
  {
   "cell_type": "code",
   "execution_count": 46,
   "metadata": {},
   "outputs": [],
   "source": [
    "def cellXOR(x1, x2):\n",
    "    resultNAND = cell(x1, x2, w1=-0.5, w2=-0.5, bias=-0.6)\n",
    "    resultOR   = cell(x1, x2, w1=0.5, w2=0.5, bias=0.4)\n",
    "    return cell(resultNAND, resultOR, w1=0.5, w2=0.5, bias=0.5)"
   ]
  },
  {
   "cell_type": "code",
   "execution_count": 47,
   "metadata": {},
   "outputs": [
    {
     "data": {
      "application/vnd.jupyter.widget-view+json": {
       "model_id": "d12f0f97fbe646898ecf3faa343653f1",
       "version_major": 2,
       "version_minor": 0
      },
      "text/plain": [
       "GridspecLayout(children=(Output(layout=Layout(grid_area='widget001')), Output(layout=Layout(grid_area='widget0…"
      ]
     },
     "metadata": {},
     "output_type": "display_data"
    }
   ],
   "source": [
    "# XOR\n",
    "bi.showAsCols(\n",
    "    cellXOR(0, 0),\n",
    "    cellXOR(0, 1),\n",
    "    cellXOR(1, 0),\n",
    "    cellXOR(1, 1)\n",
    ")"
   ]
  },
  {
   "cell_type": "code",
   "execution_count": null,
   "metadata": {},
   "outputs": [],
   "source": []
  }
 ],
 "metadata": {
  "kernelspec": {
   "display_name": "Python 3 (ipykernel)",
   "language": "python",
   "name": "python3"
  },
  "language_info": {
   "codemirror_mode": {
    "name": "ipython",
    "version": 3
   },
   "file_extension": ".py",
   "mimetype": "text/x-python",
   "name": "python",
   "nbconvert_exporter": "python",
   "pygments_lexer": "ipython3",
   "version": "3.10.12"
  },
  "toc-autonumbering": true
 },
 "nbformat": 4,
 "nbformat_minor": 4
}
