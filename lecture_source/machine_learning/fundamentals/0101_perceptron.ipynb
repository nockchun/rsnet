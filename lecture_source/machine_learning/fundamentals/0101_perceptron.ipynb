{
 "cells": [
  {
   "cell_type": "markdown",
   "metadata": {},
   "source": [
    "<div class=\"alert alert-block alert-success\">\n",
    "    <b><center>Perceptron</center></b>\n",
    "</div>"
   ]
  },
  {
   "cell_type": "code",
   "execution_count": 1,
   "metadata": {},
   "outputs": [],
   "source": [
    "# !pip install git+https://github.com/nockchun/rspy --force"
   ]
  },
  {
   "cell_type": "code",
   "execution_count": 2,
   "metadata": {},
   "outputs": [],
   "source": [
    "import rspy as rsp"
   ]
  },
  {
   "cell_type": "markdown",
   "metadata": {},
   "source": [
    "# AND/OR 연산 함수"
   ]
  },
  {
   "cell_type": "code",
   "execution_count": 3,
   "metadata": {},
   "outputs": [],
   "source": [
    "# AND 연산\n",
    "def exAnd(x1, x2):\n",
    "    if x1 == x2 == 1:\n",
    "        return 1\n",
    "    else:\n",
    "        return 0"
   ]
  },
  {
   "cell_type": "code",
   "execution_count": 4,
   "metadata": {},
   "outputs": [
    {
     "data": {
      "application/vnd.jupyter.widget-view+json": {
       "model_id": "d6d680edcdf142fcaa7b49bdb96580a5",
       "version_major": 2,
       "version_minor": 0
      },
      "text/plain": [
       "GridspecLayout(children=(Output(layout=Layout(grid_area='widget001')), Output(layout=Layout(grid_area='widget0…"
      ]
     },
     "metadata": {},
     "output_type": "display_data"
    }
   ],
   "source": [
    "rsp.showMulti(\n",
    "    exAnd(0, 0), exAnd(0, 1), exAnd(1, 0), exAnd(1, 1)\n",
    ")"
   ]
  },
  {
   "cell_type": "code",
   "execution_count": 5,
   "metadata": {},
   "outputs": [],
   "source": [
    "# OR 연산\n",
    "def exOr(x1, x2):\n",
    "    if x1 == x2 == 0:\n",
    "        return 0\n",
    "    else:\n",
    "        return 1"
   ]
  },
  {
   "cell_type": "code",
   "execution_count": 6,
   "metadata": {},
   "outputs": [
    {
     "data": {
      "application/vnd.jupyter.widget-view+json": {
       "model_id": "751ae491d95a4bc7b855df5dc3e0ae2f",
       "version_major": 2,
       "version_minor": 0
      },
      "text/plain": [
       "GridspecLayout(children=(Output(layout=Layout(grid_area='widget001')), Output(layout=Layout(grid_area='widget0…"
      ]
     },
     "metadata": {},
     "output_type": "display_data"
    }
   ],
   "source": [
    "rsp.showMulti(\n",
    "    exOr(0, 0), exOr(0, 1), exOr(1, 0), exOr(1, 1)\n",
    ")"
   ]
  },
  {
   "cell_type": "code",
   "execution_count": 7,
   "metadata": {},
   "outputs": [],
   "source": [
    "# XOR 연산\n",
    "def exXor(x1, x2):\n",
    "    if x1 == x2:\n",
    "        return 0\n",
    "    else:\n",
    "        return 1"
   ]
  },
  {
   "cell_type": "code",
   "execution_count": 8,
   "metadata": {},
   "outputs": [
    {
     "data": {
      "application/vnd.jupyter.widget-view+json": {
       "model_id": "db35469bb7804e9aab9313cca24f10f0",
       "version_major": 2,
       "version_minor": 0
      },
      "text/plain": [
       "GridspecLayout(children=(Output(layout=Layout(grid_area='widget001')), Output(layout=Layout(grid_area='widget0…"
      ]
     },
     "metadata": {},
     "output_type": "display_data"
    }
   ],
   "source": [
    "rsp.showMulti(\n",
    "    exXor(0, 0), exXor(0, 1), exXor(1, 0), exXor(1, 1)\n",
    ")"
   ]
  },
  {
   "cell_type": "code",
   "execution_count": 9,
   "metadata": {},
   "outputs": [],
   "source": [
    "# CELL 구성\n",
    "import enum\n",
    "class OP(enum.Enum):\n",
    "    AND = 0\n",
    "    OR  = 1\n",
    "    XOR = 2"
   ]
  },
  {
   "cell_type": "code",
   "execution_count": 10,
   "metadata": {},
   "outputs": [
    {
     "data": {
      "text/plain": [
       "0"
      ]
     },
     "execution_count": 10,
     "metadata": {},
     "output_type": "execute_result"
    }
   ],
   "source": [
    "OP.AND.value"
   ]
  },
  {
   "cell_type": "code",
   "execution_count": 11,
   "metadata": {},
   "outputs": [],
   "source": [
    "def cell(x1, x2, operator=OP.AND):\n",
    "    result = 0\n",
    "    if operator == OP.AND:\n",
    "        result = 1 if x1 == x2 == 1 else 0\n",
    "    if operator == OP.OR:\n",
    "        result = 0 if x1 == x2 == 0 else 1\n",
    "    if operator == OP.XOR:\n",
    "        result = 0 if x1 == x2 else 1\n",
    "    return result"
   ]
  },
  {
   "cell_type": "code",
   "execution_count": 12,
   "metadata": {},
   "outputs": [
    {
     "data": {
      "application/vnd.jupyter.widget-view+json": {
       "model_id": "8f8fe8cdf8ab41d494dad196e1740b3d",
       "version_major": 2,
       "version_minor": 0
      },
      "text/plain": [
       "GridspecLayout(children=(Output(layout=Layout(grid_area='widget001')), Output(layout=Layout(grid_area='widget0…"
      ]
     },
     "metadata": {},
     "output_type": "display_data"
    }
   ],
   "source": [
    "rsp.showMulti(\n",
    "    \"AND\", \"OR\", \"XOR\",\n",
    "    cell(0, 0), cell(0, 0, OP.OR), cell(0, 0, OP.XOR),\n",
    "    cell(0, 1), cell(0, 1, OP.OR), cell(0, 1, OP.XOR),\n",
    "    cell(1, 0), cell(1, 0, OP.OR), cell(1, 0, OP.XOR),\n",
    "    cell(1, 1), cell(1, 1, OP.OR), cell(1, 1, OP.XOR),\n",
    "    colSize=3, width=\"30%\"\n",
    ")"
   ]
  },
  {
   "cell_type": "code",
   "execution_count": 13,
   "metadata": {},
   "outputs": [],
   "source": [
    "class Cell(object):\n",
    "    def __init__(self, operator=OP.AND):\n",
    "        self._operator = operator\n",
    "        self._op = [self.doAnd, self.doOr, self.doXor]\n",
    "        \n",
    "    def doAnd(self, x1, x2):\n",
    "        return 1 if x1 == x2 == 1 else 0\n",
    "    \n",
    "    def doOr(self, x1, x2):\n",
    "        return 0 if x1 == x2 == 0 else 1\n",
    "    \n",
    "    def doXor(self, x1, x2):\n",
    "        return 0 if x1 == x2 else 1\n",
    "    \n",
    "    def do(self, x1, x2):\n",
    "        doFunction = self._op[self._operator.value]\n",
    "        return doFunction(x1, x2)\n",
    "    \n",
    "    def __repr__(self):\n",
    "        return f\"Cell[operator:{self._operator}]\""
   ]
  },
  {
   "cell_type": "code",
   "execution_count": 14,
   "metadata": {},
   "outputs": [
    {
     "data": {
      "text/plain": [
       "0"
      ]
     },
     "execution_count": 14,
     "metadata": {},
     "output_type": "execute_result"
    }
   ],
   "source": [
    "clsCell = Cell(OP.AND)\n",
    "clsCell.do(1, 0)"
   ]
  },
  {
   "cell_type": "code",
   "execution_count": 15,
   "metadata": {},
   "outputs": [
    {
     "data": {
      "text/plain": [
       "1"
      ]
     },
     "execution_count": 15,
     "metadata": {},
     "output_type": "execute_result"
    }
   ],
   "source": [
    "clsCell = Cell(OP.OR)\n",
    "clsCell.do(1, 0)"
   ]
  },
  {
   "cell_type": "markdown",
   "metadata": {},
   "source": [
    "# Perceptron Cell"
   ]
  },
  {
   "cell_type": "code",
   "execution_count": 16,
   "metadata": {},
   "outputs": [],
   "source": [
    "def cell(x1, x2, w1=0.5, w2=0.5, threshold=0.6):\n",
    "    weightSum = x1*w1 + x2*w2\n",
    "    return 0 if weightSum < threshold else 1"
   ]
  },
  {
   "cell_type": "code",
   "execution_count": 17,
   "metadata": {},
   "outputs": [
    {
     "data": {
      "application/vnd.jupyter.widget-view+json": {
       "model_id": "2009bef6a19e4bb1a1c8825b3d368bc4",
       "version_major": 2,
       "version_minor": 0
      },
      "text/plain": [
       "GridspecLayout(children=(Output(layout=Layout(grid_area='widget001')), Output(layout=Layout(grid_area='widget0…"
      ]
     },
     "metadata": {},
     "output_type": "display_data"
    }
   ],
   "source": [
    "THRESHOLD1 = 0.6\n",
    "THRESHOLD2 = 0.4\n",
    "rsp.showMulti(\n",
    "    \"AND\", \"OR\",\n",
    "    cell(0, 0, threshold=THRESHOLD1), cell(0, 0, threshold=THRESHOLD2),\n",
    "    cell(0, 1, threshold=THRESHOLD1), cell(0, 1, threshold=THRESHOLD2),\n",
    "    cell(1, 0, threshold=THRESHOLD1), cell(1, 0, threshold=THRESHOLD2),\n",
    "    cell(1, 1, threshold=THRESHOLD1), cell(1, 1, threshold=THRESHOLD2),\n",
    "    colSize=2, width=\"30%\"\n",
    ")"
   ]
  },
  {
   "cell_type": "code",
   "execution_count": 18,
   "metadata": {},
   "outputs": [],
   "source": [
    "def cell(x1, x2, w1=0.5, w2=0.5, bias=0.5):\n",
    "    weightSum = x1*w1 + x2*w2 - bias\n",
    "    return 0 if weightSum < 0 else 1"
   ]
  },
  {
   "cell_type": "code",
   "execution_count": 19,
   "metadata": {},
   "outputs": [
    {
     "data": {
      "application/vnd.jupyter.widget-view+json": {
       "model_id": "ec73c974c74d4925b67f8c98bd672474",
       "version_major": 2,
       "version_minor": 0
      },
      "text/plain": [
       "GridspecLayout(children=(Output(layout=Layout(grid_area='widget001')), Output(layout=Layout(grid_area='widget0…"
      ]
     },
     "metadata": {},
     "output_type": "display_data"
    }
   ],
   "source": [
    "BIAS1 = 0.6\n",
    "BIAS2 = 0.4\n",
    "rsp.showMulti(\n",
    "    \"AND\", \"OR\",\n",
    "    cell(0, 0, bias=BIAS1), cell(0, 0, bias=BIAS2),\n",
    "    cell(0, 1, bias=BIAS1), cell(0, 1, bias=BIAS2),\n",
    "    cell(1, 0, bias=BIAS1), cell(1, 0, bias=BIAS2),\n",
    "    cell(1, 1, bias=BIAS1), cell(1, 1, bias=BIAS2),\n",
    "    colSize=2, width=\"30%\"\n",
    ")"
   ]
  },
  {
   "cell_type": "markdown",
   "metadata": {},
   "source": [
    "# numpy & Vector"
   ]
  },
  {
   "cell_type": "code",
   "execution_count": 20,
   "metadata": {},
   "outputs": [],
   "source": [
    "import numpy as np"
   ]
  },
  {
   "cell_type": "markdown",
   "metadata": {},
   "source": [
    "2개의 백터 $a=\\begin{bmatrix}1\\\\2\\end{bmatrix}, b=\\begin{bmatrix}2\\\\1\\end{bmatrix} $ 가 있을 때<br>\n",
    "$a+b=\\begin{bmatrix}3\\\\3\\end{bmatrix}, a-b=\\begin{bmatrix}-1\\\\1\\end{bmatrix}, a\\times b=\\begin{bmatrix}2\\\\2\\end{bmatrix}, a\\div b=\\begin{bmatrix}0.5\\\\2\\end{bmatrix}, a\\times 2=\\begin{bmatrix}2\\\\4\\end{bmatrix}$"
   ]
  },
  {
   "cell_type": "code",
   "execution_count": 21,
   "metadata": {},
   "outputs": [
    {
     "data": {
      "application/vnd.jupyter.widget-view+json": {
       "model_id": "a24f005ff60c41c4a00847be4c47f173",
       "version_major": 2,
       "version_minor": 0
      },
      "text/plain": [
       "GridspecLayout(children=(Output(layout=Layout(grid_area='widget001')), Output(layout=Layout(grid_area='widget0…"
      ]
     },
     "metadata": {},
     "output_type": "display_data"
    }
   ],
   "source": [
    "a = np.array([1, 2])\n",
    "b = np.array([2, 1])\n",
    "rsp.showMulti(a+b, a-b, a*b, a/b, a*2)"
   ]
  },
  {
   "cell_type": "code",
   "execution_count": 22,
   "metadata": {},
   "outputs": [],
   "source": [
    "plot = rsp.EduPlot2D(rsp.EduPlotConf(textFontSize=8, titleParam={'titlesize': 7, 'titleweight': 'bold'}))"
   ]
  },
  {
   "cell_type": "code",
   "execution_count": 23,
   "metadata": {},
   "outputs": [],
   "source": [
    "def sumAB():\n",
    "    plot.addVector([a, b])\n",
    "    plot.addVector([a+b], color=\"#FF0000\", name=\"sum\")\n",
    "    plot.addVector([b], [a], color=\"#00FF00\", name=\"alpa\")\n",
    "    plot.addText([a+b], [\"a+b\"])\n",
    "    return plot.genSpace([-2,5], [-2,5])"
   ]
  },
  {
   "cell_type": "code",
   "execution_count": 24,
   "metadata": {},
   "outputs": [],
   "source": [
    "def subAB():\n",
    "    plot.clear()\n",
    "    plot.addVector([a, b])\n",
    "    plot.addVector([a-b], color=\"#FF0000\", name=\"sub\")\n",
    "    plot.addVector([a-b], [b], color=\"#00FF00\", name=\"alpa\")\n",
    "    plot.addText([a-b], [\"a-b\"])\n",
    "    return plot.genSpace([-2,5], [-2,5])"
   ]
  },
  {
   "cell_type": "code",
   "execution_count": 25,
   "metadata": {},
   "outputs": [],
   "source": [
    "def scale2A():\n",
    "    plot.clear()\n",
    "    plot.addVector([a, 2*a])\n",
    "    plot.addText([2*a], [\"2a\"])\n",
    "    return plot.genSpace([-2,5], [-2,5])"
   ]
  },
  {
   "cell_type": "code",
   "execution_count": 26,
   "metadata": {},
   "outputs": [
    {
     "data": {
      "application/vnd.jupyter.widget-view+json": {
       "model_id": "992ee463ed184ab4bae8b336fa77f950",
       "version_major": 2,
       "version_minor": 0
      },
      "text/plain": [
       "GridspecLayout(children=(Output(layout=Layout(grid_area='widget001')), Output(layout=Layout(grid_area='widget0…"
      ]
     },
     "metadata": {},
     "output_type": "display_data"
    }
   ],
   "source": [
    "rsp.showMulti(sumAB(), subAB(), scale2A())"
   ]
  },
  {
   "cell_type": "code",
   "execution_count": 27,
   "metadata": {},
   "outputs": [
    {
     "data": {
      "image/png": "[encoded data removed]",
      "text/plain": [
       "<Figure size 480x480 with 1 Axes>"
      ]
     },
     "execution_count": 27,
     "metadata": {},
     "output_type": "execute_result"
    }
   ],
   "source": [
    "linX = np.array([1,0])\n",
    "linY = np.array([0,2])\n",
    "\n",
    "plot.clear()\n",
    "plot.addFunction(\"-x+3\")\n",
    "plot.addVector([linX, linY])\n",
    "plot.addVector([linX+linY], color=\"#00FF00\", name=\"alpa\")\n",
    "plot.genSpace([-1,4], [-1,4])"
   ]
  },
  {
   "cell_type": "code",
   "execution_count": 28,
   "metadata": {},
   "outputs": [
    {
     "data": {
      "image/png": "[encoded data removed]",
      "text/plain": [
       "<Figure size 480x480 with 1 Axes>"
      ]
     },
     "execution_count": 28,
     "metadata": {},
     "output_type": "execute_result"
    }
   ],
   "source": [
    "plot.genSpace([-1,4], [-1,4])"
   ]
  },
  {
   "cell_type": "markdown",
   "metadata": {},
   "source": [
    "# Matrix"
   ]
  },
  {
   "cell_type": "code",
   "execution_count": 29,
   "metadata": {},
   "outputs": [
    {
     "data": {
      "text/plain": [
       "array([[1., 0.],\n",
       "       [0., 1.]])"
      ]
     },
     "execution_count": 29,
     "metadata": {},
     "output_type": "execute_result"
    }
   ],
   "source": [
    "base = np.identity(2)\n",
    "base"
   ]
  },
  {
   "cell_type": "code",
   "execution_count": 30,
   "metadata": {},
   "outputs": [],
   "source": [
    "base = [\n",
    "    [1, 0],\n",
    "    [0, 1]\n",
    "]\n",
    "test = np.array([1, 1])"
   ]
  },
  {
   "cell_type": "code",
   "execution_count": 31,
   "metadata": {},
   "outputs": [],
   "source": [
    "transX = [\n",
    "    [1, 0],\n",
    "    [0.3, 1]\n",
    "]\n",
    "transY = [\n",
    "    [1, -0.3],\n",
    "    [0, 1]\n",
    "]\n",
    "trans = [\n",
    "    [1, -0.3],\n",
    "    [0.3, 1]\n",
    "]"
   ]
  },
  {
   "cell_type": "code",
   "execution_count": 32,
   "metadata": {},
   "outputs": [],
   "source": [
    "plot.clear()\n",
    "plot.addFunction(\"-x+2\")\n",
    "plot.addVector(base, name=\"base\")\n",
    "plot.addVector([test], [(-1, -1)], \"test\", \"#00FF00\")"
   ]
  },
  {
   "cell_type": "code",
   "execution_count": 33,
   "metadata": {},
   "outputs": [
    {
     "data": {
      "application/vnd.jupyter.widget-view+json": {
       "model_id": "07d9e1fa5bdb4fc389798fcdd366e075",
       "version_major": 2,
       "version_minor": 0
      },
      "text/plain": [
       "GridspecLayout(children=(Output(layout=Layout(grid_area='widget001')), Output(layout=Layout(grid_area='widget0…"
      ]
     },
     "metadata": {},
     "output_type": "display_data"
    }
   ],
   "source": [
    "rsp.showMulti(plot.genSpace(4, 4, \"Unit Vector\"), plot.genSpace(4, 4, \"Transformation X\", transX), plot.genSpace(4, 4, \"Transformation Y\", transY), plot.genSpace(4, 4, \"Transformation\", trans))"
   ]
  },
  {
   "cell_type": "code",
   "execution_count": 34,
   "metadata": {},
   "outputs": [
    {
     "data": {
      "text/plain": [
       "(array([1, 1]), array([1.3, 1. ]))"
      ]
     },
     "execution_count": 34,
     "metadata": {},
     "output_type": "execute_result"
    }
   ],
   "source": [
    "test, test.dot(transX)"
   ]
  },
  {
   "cell_type": "code",
   "execution_count": null,
   "metadata": {},
   "outputs": [],
   "source": []
  },
  {
   "cell_type": "code",
   "execution_count": null,
   "metadata": {},
   "outputs": [],
   "source": []
  },
  {
   "cell_type": "code",
   "execution_count": null,
   "metadata": {},
   "outputs": [],
   "source": []
  },
  {
   "cell_type": "code",
   "execution_count": null,
   "metadata": {},
   "outputs": [],
   "source": []
  },
  {
   "cell_type": "code",
   "execution_count": null,
   "metadata": {},
   "outputs": [],
   "source": []
  }
 ],
 "metadata": {
  "kernelspec": {
   "display_name": "Python 3",
   "language": "python",
   "name": "python3"
  },
  "language_info": {
   "codemirror_mode": {
    "name": "ipython",
    "version": 3
   },
   "file_extension": ".py",
   "mimetype": "text/x-python",
   "name": "python",
   "nbconvert_exporter": "python",
   "pygments_lexer": "ipython3",
   "version": "3.7.5"
  },
  "toc-autonumbering": true
 },
 "nbformat": 4,
 "nbformat_minor": 4
}
