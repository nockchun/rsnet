{
 "cells": [
  {
   "cell_type": "markdown",
   "metadata": {},
   "source": [
    "<div class=\"alert alert-block alert-success\">\n",
    "    <b><center>CONVOLUTON NEURAL NETWORK</center></b>\n",
    "    <b><center>Bike Share 데이터로 RNN 구현해 보기</center></b>\n",
    "</div>"
   ]
  },
  {
   "cell_type": "markdown",
   "metadata": {},
   "source": [
    "# Configure Learning Environment"
   ]
  },
  {
   "cell_type": "code",
   "execution_count": 1,
   "metadata": {},
   "outputs": [],
   "source": [
    "# !pip install mybatis_mapper2sql\n",
    "# !pip install git+https://github.com/nockchun/rspy --force"
   ]
  },
  {
   "cell_type": "code",
   "execution_count": 2,
   "metadata": {},
   "outputs": [],
   "source": [
    "import os\n",
    "os.environ['TF_CPP_MIN_LOG_LEVEL'] = \"2\""
   ]
  },
  {
   "cell_type": "code",
   "execution_count": 3,
   "metadata": {},
   "outputs": [],
   "source": [
    "import rspy as rsp\n",
    "rsp.setSystemWarning(off=True)"
   ]
  },
  {
   "cell_type": "code",
   "execution_count": 4,
   "metadata": {},
   "outputs": [],
   "source": [
    "import numpy as np\n",
    "import pandas as pd\n",
    "import matplotlib.pyplot as plt\n",
    "from ipywidgets import interact"
   ]
  },
  {
   "cell_type": "code",
   "execution_count": 5,
   "metadata": {},
   "outputs": [],
   "source": [
    "from sklearn import preprocessing as skpp, model_selection as skms\n",
    "import tensorflow as tf\n",
    "from tensorflow.keras import utils, layers, models, losses, preprocessing"
   ]
  },
  {
   "cell_type": "code",
   "execution_count": 6,
   "metadata": {},
   "outputs": [
    {
     "name": "stdout",
     "output_type": "stream",
     "text": [
      "버전:  2.4.1\n",
      "GPU:  사용 불가능\n",
      "GPU Device:  []\n"
     ]
    },
    {
     "name": "stderr",
     "output_type": "stream",
     "text": [
      "2021-07-30 13:55:24.301019: E tensorflow/stream_executor/cuda/cuda_driver.cc:328] failed call to cuInit: CUDA_ERROR_NO_DEVICE: no CUDA-capable device is detected\n"
     ]
    }
   ],
   "source": [
    "# np.set_printoptions(linewidth=200, precision=2)\n",
    "print(\"버전: \", tf.__version__)\n",
    "print(\"GPU: \", \"사용 가능\" if tf.test.is_gpu_available() else \"사용 불가능\")\n",
    "print(\"GPU Device: \", tf.config.experimental.get_visible_devices(\"GPU\"))"
   ]
  },
  {
   "cell_type": "markdown",
   "metadata": {},
   "source": [
    "# Data Loading"
   ]
  },
  {
   "cell_type": "markdown",
   "metadata": {},
   "source": [
    "* UCI Machine Learning Repository 데이터 이용\n",
    "* https://archive.ics.uci.edu/ml/datasets/bike+sharing+dataset#"
   ]
  },
  {
   "cell_type": "code",
   "execution_count": 7,
   "metadata": {},
   "outputs": [],
   "source": [
    "import pathlib\n",
    "dataset_url = \"https://archive.ics.uci.edu/ml/machine-learning-databases/00275/Bike-Sharing-Dataset.zip\"\n",
    "data_dir = utils.get_file('bike_share.zip', origin=dataset_url, extract=True, cache_subdir='bike_share')\n",
    "data_dir = pathlib.Path(data_dir)"
   ]
  },
  {
   "cell_type": "code",
   "execution_count": 8,
   "metadata": {},
   "outputs": [
    {
     "data": {
      "text/plain": [
       "'/home/rsnet/.keras/bike_share'"
      ]
     },
     "execution_count": 8,
     "metadata": {},
     "output_type": "execute_result"
    }
   ],
   "source": [
    "data_dir.parent.as_posix()"
   ]
  },
  {
   "cell_type": "code",
   "execution_count": 9,
   "metadata": {},
   "outputs": [
    {
     "name": "stdout",
     "output_type": "stream",
     "text": [
      "Readme.txt  bike_share.zip  day.csv  hour.csv\n"
     ]
    }
   ],
   "source": [
    "!ls /home/rsnet/.keras/bike_share"
   ]
  },
  {
   "cell_type": "code",
   "execution_count": 10,
   "metadata": {},
   "outputs": [],
   "source": [
    "df_origin = pd.read_csv(data_dir.parent.as_posix() + \"/day.csv\")"
   ]
  },
  {
   "cell_type": "code",
   "execution_count": 11,
   "metadata": {},
   "outputs": [
    {
     "data": {
      "text/html": [
       "<div>\n",
       "<style scoped>\n",
       "    .dataframe tbody tr th:only-of-type {\n",
       "        vertical-align: middle;\n",
       "    }\n",
       "\n",
       "    .dataframe tbody tr th {\n",
       "        vertical-align: top;\n",
       "    }\n",
       "\n",
       "    .dataframe thead th {\n",
       "        text-align: right;\n",
       "    }\n",
       "</style>\n",
       "<table border=\"1\" class=\"dataframe\">\n",
       "  <thead>\n",
       "    <tr style=\"text-align: right;\">\n",
       "      <th></th>\n",
       "      <th>instant</th>\n",
       "      <th>dteday</th>\n",
       "      <th>season</th>\n",
       "      <th>yr</th>\n",
       "      <th>mnth</th>\n",
       "      <th>holiday</th>\n",
       "      <th>weekday</th>\n",
       "      <th>workingday</th>\n",
       "      <th>weathersit</th>\n",
       "      <th>temp</th>\n",
       "      <th>atemp</th>\n",
       "      <th>hum</th>\n",
       "      <th>windspeed</th>\n",
       "      <th>casual</th>\n",
       "      <th>registered</th>\n",
       "      <th>cnt</th>\n",
       "    </tr>\n",
       "  </thead>\n",
       "  <tbody>\n",
       "    <tr>\n",
       "      <th>0</th>\n",
       "      <td>1</td>\n",
       "      <td>2011-01-01</td>\n",
       "      <td>1</td>\n",
       "      <td>0</td>\n",
       "      <td>1</td>\n",
       "      <td>0</td>\n",
       "      <td>6</td>\n",
       "      <td>0</td>\n",
       "      <td>2</td>\n",
       "      <td>0.344167</td>\n",
       "      <td>0.363625</td>\n",
       "      <td>0.805833</td>\n",
       "      <td>0.160446</td>\n",
       "      <td>331</td>\n",
       "      <td>654</td>\n",
       "      <td>985</td>\n",
       "    </tr>\n",
       "    <tr>\n",
       "      <th>1</th>\n",
       "      <td>2</td>\n",
       "      <td>2011-01-02</td>\n",
       "      <td>1</td>\n",
       "      <td>0</td>\n",
       "      <td>1</td>\n",
       "      <td>0</td>\n",
       "      <td>0</td>\n",
       "      <td>0</td>\n",
       "      <td>2</td>\n",
       "      <td>0.363478</td>\n",
       "      <td>0.353739</td>\n",
       "      <td>0.696087</td>\n",
       "      <td>0.248539</td>\n",
       "      <td>131</td>\n",
       "      <td>670</td>\n",
       "      <td>801</td>\n",
       "    </tr>\n",
       "    <tr>\n",
       "      <th>2</th>\n",
       "      <td>3</td>\n",
       "      <td>2011-01-03</td>\n",
       "      <td>1</td>\n",
       "      <td>0</td>\n",
       "      <td>1</td>\n",
       "      <td>0</td>\n",
       "      <td>1</td>\n",
       "      <td>1</td>\n",
       "      <td>1</td>\n",
       "      <td>0.196364</td>\n",
       "      <td>0.189405</td>\n",
       "      <td>0.437273</td>\n",
       "      <td>0.248309</td>\n",
       "      <td>120</td>\n",
       "      <td>1229</td>\n",
       "      <td>1349</td>\n",
       "    </tr>\n",
       "    <tr>\n",
       "      <th>3</th>\n",
       "      <td>4</td>\n",
       "      <td>2011-01-04</td>\n",
       "      <td>1</td>\n",
       "      <td>0</td>\n",
       "      <td>1</td>\n",
       "      <td>0</td>\n",
       "      <td>2</td>\n",
       "      <td>1</td>\n",
       "      <td>1</td>\n",
       "      <td>0.200000</td>\n",
       "      <td>0.212122</td>\n",
       "      <td>0.590435</td>\n",
       "      <td>0.160296</td>\n",
       "      <td>108</td>\n",
       "      <td>1454</td>\n",
       "      <td>1562</td>\n",
       "    </tr>\n",
       "    <tr>\n",
       "      <th>4</th>\n",
       "      <td>5</td>\n",
       "      <td>2011-01-05</td>\n",
       "      <td>1</td>\n",
       "      <td>0</td>\n",
       "      <td>1</td>\n",
       "      <td>0</td>\n",
       "      <td>3</td>\n",
       "      <td>1</td>\n",
       "      <td>1</td>\n",
       "      <td>0.226957</td>\n",
       "      <td>0.229270</td>\n",
       "      <td>0.436957</td>\n",
       "      <td>0.186900</td>\n",
       "      <td>82</td>\n",
       "      <td>1518</td>\n",
       "      <td>1600</td>\n",
       "    </tr>\n",
       "  </tbody>\n",
       "</table>\n",
       "</div>"
      ],
      "text/plain": [
       "   instant      dteday  season  yr  mnth  holiday  weekday  workingday  \\\n",
       "0        1  2011-01-01       1   0     1        0        6           0   \n",
       "1        2  2011-01-02       1   0     1        0        0           0   \n",
       "2        3  2011-01-03       1   0     1        0        1           1   \n",
       "3        4  2011-01-04       1   0     1        0        2           1   \n",
       "4        5  2011-01-05       1   0     1        0        3           1   \n",
       "\n",
       "   weathersit      temp     atemp       hum  windspeed  casual  registered  \\\n",
       "0           2  0.344167  0.363625  0.805833   0.160446     331         654   \n",
       "1           2  0.363478  0.353739  0.696087   0.248539     131         670   \n",
       "2           1  0.196364  0.189405  0.437273   0.248309     120        1229   \n",
       "3           1  0.200000  0.212122  0.590435   0.160296     108        1454   \n",
       "4           1  0.226957  0.229270  0.436957   0.186900      82        1518   \n",
       "\n",
       "    cnt  \n",
       "0   985  \n",
       "1   801  \n",
       "2  1349  \n",
       "3  1562  \n",
       "4  1600  "
      ]
     },
     "execution_count": 11,
     "metadata": {},
     "output_type": "execute_result"
    }
   ],
   "source": [
    "df_origin.head()"
   ]
  },
  {
   "cell_type": "code",
   "execution_count": 12,
   "metadata": {},
   "outputs": [
    {
     "data": {
      "text/plain": [
       "(731, 16)"
      ]
     },
     "execution_count": 12,
     "metadata": {},
     "output_type": "execute_result"
    }
   ],
   "source": [
    "df_origin.shape"
   ]
  },
  {
   "cell_type": "markdown",
   "metadata": {},
   "source": [
    "# Data Exploration & Analysis"
   ]
  },
  {
   "cell_type": "markdown",
   "metadata": {},
   "source": [
    "## 데이터 내용\n",
    ">* instant : 기록 순서\n",
    ">* dteday : 기록 날짜\n",
    ">* season : 계절 [1:봄, 2:여름, 3:가을, 4:겨울]\n",
    ">* yr : 년\n",
    ">* mnth : 월 [1-12]\n",
    ">* holiday : 국경일 유무 [0:무, 1:유]\n",
    ">* weekday : 요일 [0:일, 1:월, 2:화, 3:수, 4:목, 5:금, 6:토]\n",
    ">* workingday : 휴무일 유무 [0:일하는 날, 1:쉬는 날]\n",
    ">* weathersit\n",
    "    - 1: Clear, Few clouds, Partly cloudy, Partly cloudy\n",
    "    - 2: Mist + Cloudy, Mist + Broken clouds, Mist + Few clouds, Mist\n",
    "    - 3: Light Snow, Light Rain + Thunderstorm + Scattered clouds, Light Rain + Scattered clouds\n",
    "    - 4: Heavy Rain + Ice Pallets + Thunderstorm + Mist, Snow + Fog\n",
    ">* temp : 정규화된 섭씨 온도(℃)\n",
    ">* atemp : 정규화된 체감 온도. (t-t_min)/(t_max-t_min), t_min=-16, t_max=+50\n",
    ">* hum : 정규화된 습도.\n",
    ">* windspeed : 정규화된 풍속.\n",
    ">* casual : 일반 사용자.\n",
    ">* registered : 예약 사용자.\n",
    ">* cnt : 일반 + 예약 사용자. (전체 사용자)"
   ]
  },
  {
   "cell_type": "code",
   "execution_count": 13,
   "metadata": {},
   "outputs": [
    {
     "data": {
      "application/vnd.jupyter.widget-view+json": {
       "model_id": "32a0722885c347589dce21d64294d234",
       "version_major": 2,
       "version_minor": 0
      },
      "text/plain": [
       "interactive(children=(Dropdown(description='compare', options=('season', 'mnth', 'holiday', 'weekday', 'workin…"
      ]
     },
     "metadata": {},
     "output_type": "display_data"
    }
   ],
   "source": [
    "cols = [\"season\", \"mnth\", \"holiday\", \"weekday\", \"workingday\", \"weathersit\", \"atemp\", \"hum\", \"windspeed\"]\n",
    "@interact(compare=cols)\n",
    "def exploration(compare):\n",
    "    fig, ax1 = plt.subplots(figsize=(30, 8))\n",
    "    ax2 = ax1.twinx()\n",
    "    \n",
    "    ax1.plot(df_origin.cnt.values, color=\"#3186ad\", label=\"cnt\")\n",
    "    ax1.plot(df_origin.casual.values, color=\"#bebebe\", label=\"casual\")\n",
    "    ax1.plot(df_origin.registered.values, color=\"#878787\", label=\"registered\")\n",
    "    ax1.set_ylabel(\"cnt\")\n",
    "\n",
    "    ax2.plot(df_origin[compare].values, color=\"red\", alpha=0.7, label=\"compare\")\n",
    "    ax2.set_ylabel(compare)\n",
    "    \n",
    "    ax1.legend(title=\"Species\", loc=\"upper left\")\n",
    "    plt.show()"
   ]
  },
  {
   "cell_type": "markdown",
   "metadata": {},
   "source": [
    "# Preprocessing Data"
   ]
  },
  {
   "cell_type": "code",
   "execution_count": 14,
   "metadata": {},
   "outputs": [
    {
     "name": "stdout",
     "output_type": "stream",
     "text": [
      "['instant', 'dteday', 'season', 'yr', 'mnth', 'holiday', 'weekday', 'workingday', 'weathersit', 'temp', 'atemp', 'hum', 'windspeed', 'casual', 'registered', 'cnt']\n"
     ]
    }
   ],
   "source": [
    "print(list(df_origin.columns))"
   ]
  },
  {
   "cell_type": "code",
   "execution_count": 15,
   "metadata": {},
   "outputs": [
    {
     "data": {
      "text/html": [
       "<div>\n",
       "<style scoped>\n",
       "    .dataframe tbody tr th:only-of-type {\n",
       "        vertical-align: middle;\n",
       "    }\n",
       "\n",
       "    .dataframe tbody tr th {\n",
       "        vertical-align: top;\n",
       "    }\n",
       "\n",
       "    .dataframe thead th {\n",
       "        text-align: right;\n",
       "    }\n",
       "</style>\n",
       "<table border=\"1\" class=\"dataframe\">\n",
       "  <thead>\n",
       "    <tr style=\"text-align: right;\">\n",
       "      <th></th>\n",
       "      <th>holiday</th>\n",
       "      <th>weekday</th>\n",
       "      <th>workingday</th>\n",
       "      <th>weathersit</th>\n",
       "      <th>temp</th>\n",
       "      <th>atemp</th>\n",
       "      <th>hum</th>\n",
       "      <th>windspeed</th>\n",
       "      <th>cnt</th>\n",
       "    </tr>\n",
       "  </thead>\n",
       "  <tbody>\n",
       "    <tr>\n",
       "      <th>0</th>\n",
       "      <td>0</td>\n",
       "      <td>6</td>\n",
       "      <td>0</td>\n",
       "      <td>2</td>\n",
       "      <td>0.344167</td>\n",
       "      <td>0.363625</td>\n",
       "      <td>0.805833</td>\n",
       "      <td>0.160446</td>\n",
       "      <td>985</td>\n",
       "    </tr>\n",
       "    <tr>\n",
       "      <th>1</th>\n",
       "      <td>0</td>\n",
       "      <td>0</td>\n",
       "      <td>0</td>\n",
       "      <td>2</td>\n",
       "      <td>0.363478</td>\n",
       "      <td>0.353739</td>\n",
       "      <td>0.696087</td>\n",
       "      <td>0.248539</td>\n",
       "      <td>801</td>\n",
       "    </tr>\n",
       "    <tr>\n",
       "      <th>2</th>\n",
       "      <td>0</td>\n",
       "      <td>1</td>\n",
       "      <td>1</td>\n",
       "      <td>1</td>\n",
       "      <td>0.196364</td>\n",
       "      <td>0.189405</td>\n",
       "      <td>0.437273</td>\n",
       "      <td>0.248309</td>\n",
       "      <td>1349</td>\n",
       "    </tr>\n",
       "    <tr>\n",
       "      <th>3</th>\n",
       "      <td>0</td>\n",
       "      <td>2</td>\n",
       "      <td>1</td>\n",
       "      <td>1</td>\n",
       "      <td>0.200000</td>\n",
       "      <td>0.212122</td>\n",
       "      <td>0.590435</td>\n",
       "      <td>0.160296</td>\n",
       "      <td>1562</td>\n",
       "    </tr>\n",
       "    <tr>\n",
       "      <th>4</th>\n",
       "      <td>0</td>\n",
       "      <td>3</td>\n",
       "      <td>1</td>\n",
       "      <td>1</td>\n",
       "      <td>0.226957</td>\n",
       "      <td>0.229270</td>\n",
       "      <td>0.436957</td>\n",
       "      <td>0.186900</td>\n",
       "      <td>1600</td>\n",
       "    </tr>\n",
       "  </tbody>\n",
       "</table>\n",
       "</div>"
      ],
      "text/plain": [
       "   holiday  weekday  workingday  weathersit      temp     atemp       hum  \\\n",
       "0        0        6           0           2  0.344167  0.363625  0.805833   \n",
       "1        0        0           0           2  0.363478  0.353739  0.696087   \n",
       "2        0        1           1           1  0.196364  0.189405  0.437273   \n",
       "3        0        2           1           1  0.200000  0.212122  0.590435   \n",
       "4        0        3           1           1  0.226957  0.229270  0.436957   \n",
       "\n",
       "   windspeed   cnt  \n",
       "0   0.160446   985  \n",
       "1   0.248539   801  \n",
       "2   0.248309  1349  \n",
       "3   0.160296  1562  \n",
       "4   0.186900  1600  "
      ]
     },
     "execution_count": 15,
     "metadata": {},
     "output_type": "execute_result"
    }
   ],
   "source": [
    "df_preproc = df_origin[[\"holiday\", \"weekday\", \"workingday\", \"weathersit\", \"temp\", \"atemp\", \"hum\", \"windspeed\", \"cnt\"]]\n",
    "df_preproc.head()"
   ]
  },
  {
   "cell_type": "markdown",
   "metadata": {},
   "source": [
    "## one-hot encoding"
   ]
  },
  {
   "cell_type": "code",
   "execution_count": 16,
   "metadata": {},
   "outputs": [
    {
     "data": {
      "text/html": [
       "<div>\n",
       "<style scoped>\n",
       "    .dataframe tbody tr th:only-of-type {\n",
       "        vertical-align: middle;\n",
       "    }\n",
       "\n",
       "    .dataframe tbody tr th {\n",
       "        vertical-align: top;\n",
       "    }\n",
       "\n",
       "    .dataframe thead th {\n",
       "        text-align: right;\n",
       "    }\n",
       "</style>\n",
       "<table border=\"1\" class=\"dataframe\">\n",
       "  <thead>\n",
       "    <tr style=\"text-align: right;\">\n",
       "      <th></th>\n",
       "      <th>weekday_0</th>\n",
       "      <th>weekday_1</th>\n",
       "      <th>weekday_2</th>\n",
       "      <th>weekday_3</th>\n",
       "      <th>weekday_4</th>\n",
       "      <th>weekday_5</th>\n",
       "      <th>weekday_6</th>\n",
       "    </tr>\n",
       "  </thead>\n",
       "  <tbody>\n",
       "    <tr>\n",
       "      <th>0</th>\n",
       "      <td>0</td>\n",
       "      <td>0</td>\n",
       "      <td>0</td>\n",
       "      <td>0</td>\n",
       "      <td>0</td>\n",
       "      <td>0</td>\n",
       "      <td>1</td>\n",
       "    </tr>\n",
       "    <tr>\n",
       "      <th>1</th>\n",
       "      <td>1</td>\n",
       "      <td>0</td>\n",
       "      <td>0</td>\n",
       "      <td>0</td>\n",
       "      <td>0</td>\n",
       "      <td>0</td>\n",
       "      <td>0</td>\n",
       "    </tr>\n",
       "    <tr>\n",
       "      <th>2</th>\n",
       "      <td>0</td>\n",
       "      <td>1</td>\n",
       "      <td>0</td>\n",
       "      <td>0</td>\n",
       "      <td>0</td>\n",
       "      <td>0</td>\n",
       "      <td>0</td>\n",
       "    </tr>\n",
       "    <tr>\n",
       "      <th>3</th>\n",
       "      <td>0</td>\n",
       "      <td>0</td>\n",
       "      <td>1</td>\n",
       "      <td>0</td>\n",
       "      <td>0</td>\n",
       "      <td>0</td>\n",
       "      <td>0</td>\n",
       "    </tr>\n",
       "    <tr>\n",
       "      <th>4</th>\n",
       "      <td>0</td>\n",
       "      <td>0</td>\n",
       "      <td>0</td>\n",
       "      <td>1</td>\n",
       "      <td>0</td>\n",
       "      <td>0</td>\n",
       "      <td>0</td>\n",
       "    </tr>\n",
       "  </tbody>\n",
       "</table>\n",
       "</div>"
      ],
      "text/plain": [
       "   weekday_0  weekday_1  weekday_2  weekday_3  weekday_4  weekday_5  weekday_6\n",
       "0          0          0          0          0          0          0          1\n",
       "1          1          0          0          0          0          0          0\n",
       "2          0          1          0          0          0          0          0\n",
       "3          0          0          1          0          0          0          0\n",
       "4          0          0          0          1          0          0          0"
      ]
     },
     "execution_count": 16,
     "metadata": {},
     "output_type": "execute_result"
    }
   ],
   "source": [
    "onehotWeekday = pd.get_dummies(df_preproc[\"weekday\"], prefix=\"weekday\")\n",
    "onehotWeathersit = pd.get_dummies(df_preproc[\"weathersit\"], prefix=\"weathersit\")\n",
    "onehotWeekday.head()"
   ]
  },
  {
   "cell_type": "code",
   "execution_count": 17,
   "metadata": {},
   "outputs": [
    {
     "data": {
      "text/html": [
       "<div>\n",
       "<style scoped>\n",
       "    .dataframe tbody tr th:only-of-type {\n",
       "        vertical-align: middle;\n",
       "    }\n",
       "\n",
       "    .dataframe tbody tr th {\n",
       "        vertical-align: top;\n",
       "    }\n",
       "\n",
       "    .dataframe thead th {\n",
       "        text-align: right;\n",
       "    }\n",
       "</style>\n",
       "<table border=\"1\" class=\"dataframe\">\n",
       "  <thead>\n",
       "    <tr style=\"text-align: right;\">\n",
       "      <th></th>\n",
       "      <th>holiday</th>\n",
       "      <th>weekday</th>\n",
       "      <th>workingday</th>\n",
       "      <th>weathersit</th>\n",
       "      <th>temp</th>\n",
       "      <th>atemp</th>\n",
       "      <th>hum</th>\n",
       "      <th>windspeed</th>\n",
       "      <th>cnt</th>\n",
       "      <th>weekday_0</th>\n",
       "      <th>weekday_1</th>\n",
       "      <th>weekday_2</th>\n",
       "      <th>weekday_3</th>\n",
       "      <th>weekday_4</th>\n",
       "      <th>weekday_5</th>\n",
       "      <th>weekday_6</th>\n",
       "      <th>weathersit_1</th>\n",
       "      <th>weathersit_2</th>\n",
       "      <th>weathersit_3</th>\n",
       "    </tr>\n",
       "  </thead>\n",
       "  <tbody>\n",
       "    <tr>\n",
       "      <th>0</th>\n",
       "      <td>0</td>\n",
       "      <td>6</td>\n",
       "      <td>0</td>\n",
       "      <td>2</td>\n",
       "      <td>0.344167</td>\n",
       "      <td>0.363625</td>\n",
       "      <td>0.805833</td>\n",
       "      <td>0.160446</td>\n",
       "      <td>985</td>\n",
       "      <td>0</td>\n",
       "      <td>0</td>\n",
       "      <td>0</td>\n",
       "      <td>0</td>\n",
       "      <td>0</td>\n",
       "      <td>0</td>\n",
       "      <td>1</td>\n",
       "      <td>0</td>\n",
       "      <td>1</td>\n",
       "      <td>0</td>\n",
       "    </tr>\n",
       "    <tr>\n",
       "      <th>1</th>\n",
       "      <td>0</td>\n",
       "      <td>0</td>\n",
       "      <td>0</td>\n",
       "      <td>2</td>\n",
       "      <td>0.363478</td>\n",
       "      <td>0.353739</td>\n",
       "      <td>0.696087</td>\n",
       "      <td>0.248539</td>\n",
       "      <td>801</td>\n",
       "      <td>1</td>\n",
       "      <td>0</td>\n",
       "      <td>0</td>\n",
       "      <td>0</td>\n",
       "      <td>0</td>\n",
       "      <td>0</td>\n",
       "      <td>0</td>\n",
       "      <td>0</td>\n",
       "      <td>1</td>\n",
       "      <td>0</td>\n",
       "    </tr>\n",
       "    <tr>\n",
       "      <th>2</th>\n",
       "      <td>0</td>\n",
       "      <td>1</td>\n",
       "      <td>1</td>\n",
       "      <td>1</td>\n",
       "      <td>0.196364</td>\n",
       "      <td>0.189405</td>\n",
       "      <td>0.437273</td>\n",
       "      <td>0.248309</td>\n",
       "      <td>1349</td>\n",
       "      <td>0</td>\n",
       "      <td>1</td>\n",
       "      <td>0</td>\n",
       "      <td>0</td>\n",
       "      <td>0</td>\n",
       "      <td>0</td>\n",
       "      <td>0</td>\n",
       "      <td>1</td>\n",
       "      <td>0</td>\n",
       "      <td>0</td>\n",
       "    </tr>\n",
       "    <tr>\n",
       "      <th>3</th>\n",
       "      <td>0</td>\n",
       "      <td>2</td>\n",
       "      <td>1</td>\n",
       "      <td>1</td>\n",
       "      <td>0.200000</td>\n",
       "      <td>0.212122</td>\n",
       "      <td>0.590435</td>\n",
       "      <td>0.160296</td>\n",
       "      <td>1562</td>\n",
       "      <td>0</td>\n",
       "      <td>0</td>\n",
       "      <td>1</td>\n",
       "      <td>0</td>\n",
       "      <td>0</td>\n",
       "      <td>0</td>\n",
       "      <td>0</td>\n",
       "      <td>1</td>\n",
       "      <td>0</td>\n",
       "      <td>0</td>\n",
       "    </tr>\n",
       "    <tr>\n",
       "      <th>4</th>\n",
       "      <td>0</td>\n",
       "      <td>3</td>\n",
       "      <td>1</td>\n",
       "      <td>1</td>\n",
       "      <td>0.226957</td>\n",
       "      <td>0.229270</td>\n",
       "      <td>0.436957</td>\n",
       "      <td>0.186900</td>\n",
       "      <td>1600</td>\n",
       "      <td>0</td>\n",
       "      <td>0</td>\n",
       "      <td>0</td>\n",
       "      <td>1</td>\n",
       "      <td>0</td>\n",
       "      <td>0</td>\n",
       "      <td>0</td>\n",
       "      <td>1</td>\n",
       "      <td>0</td>\n",
       "      <td>0</td>\n",
       "    </tr>\n",
       "  </tbody>\n",
       "</table>\n",
       "</div>"
      ],
      "text/plain": [
       "   holiday  weekday  workingday  weathersit      temp     atemp       hum  \\\n",
       "0        0        6           0           2  0.344167  0.363625  0.805833   \n",
       "1        0        0           0           2  0.363478  0.353739  0.696087   \n",
       "2        0        1           1           1  0.196364  0.189405  0.437273   \n",
       "3        0        2           1           1  0.200000  0.212122  0.590435   \n",
       "4        0        3           1           1  0.226957  0.229270  0.436957   \n",
       "\n",
       "   windspeed   cnt  weekday_0  weekday_1  weekday_2  weekday_3  weekday_4  \\\n",
       "0   0.160446   985          0          0          0          0          0   \n",
       "1   0.248539   801          1          0          0          0          0   \n",
       "2   0.248309  1349          0          1          0          0          0   \n",
       "3   0.160296  1562          0          0          1          0          0   \n",
       "4   0.186900  1600          0          0          0          1          0   \n",
       "\n",
       "   weekday_5  weekday_6  weathersit_1  weathersit_2  weathersit_3  \n",
       "0          0          1             0             1             0  \n",
       "1          0          0             0             1             0  \n",
       "2          0          0             1             0             0  \n",
       "3          0          0             1             0             0  \n",
       "4          0          0             1             0             0  "
      ]
     },
     "execution_count": 17,
     "metadata": {},
     "output_type": "execute_result"
    }
   ],
   "source": [
    "df_preproc = df_preproc.join(onehotWeekday).join(onehotWeathersit)\n",
    "df_preproc.head()"
   ]
  },
  {
   "cell_type": "code",
   "execution_count": 18,
   "metadata": {},
   "outputs": [
    {
     "data": {
      "text/plain": [
       "array([2, 1, 3])"
      ]
     },
     "execution_count": 18,
     "metadata": {},
     "output_type": "execute_result"
    }
   ],
   "source": [
    "df_preproc.weathersit.unique()"
   ]
  },
  {
   "cell_type": "markdown",
   "metadata": {},
   "source": [
    "## Scaling Y"
   ]
  },
  {
   "cell_type": "code",
   "execution_count": 19,
   "metadata": {},
   "outputs": [],
   "source": [
    "scalerCnt = skpp.MinMaxScaler((0, 1))"
   ]
  },
  {
   "cell_type": "code",
   "execution_count": 20,
   "metadata": {},
   "outputs": [],
   "source": [
    "scaledCnt = scalerCnt.fit_transform(df_preproc[\"cnt\"].values.reshape(len(df_preproc[\"cnt\"]), 1))"
   ]
  },
  {
   "cell_type": "code",
   "execution_count": 21,
   "metadata": {},
   "outputs": [
    {
     "data": {
      "text/html": [
       "<div>\n",
       "<style scoped>\n",
       "    .dataframe tbody tr th:only-of-type {\n",
       "        vertical-align: middle;\n",
       "    }\n",
       "\n",
       "    .dataframe tbody tr th {\n",
       "        vertical-align: top;\n",
       "    }\n",
       "\n",
       "    .dataframe thead th {\n",
       "        text-align: right;\n",
       "    }\n",
       "</style>\n",
       "<table border=\"1\" class=\"dataframe\">\n",
       "  <thead>\n",
       "    <tr style=\"text-align: right;\">\n",
       "      <th></th>\n",
       "      <th>holiday</th>\n",
       "      <th>weekday</th>\n",
       "      <th>workingday</th>\n",
       "      <th>weathersit</th>\n",
       "      <th>temp</th>\n",
       "      <th>atemp</th>\n",
       "      <th>hum</th>\n",
       "      <th>windspeed</th>\n",
       "      <th>cnt</th>\n",
       "      <th>weekday_0</th>\n",
       "      <th>weekday_1</th>\n",
       "      <th>weekday_2</th>\n",
       "      <th>weekday_3</th>\n",
       "      <th>weekday_4</th>\n",
       "      <th>weekday_5</th>\n",
       "      <th>weekday_6</th>\n",
       "      <th>weathersit_1</th>\n",
       "      <th>weathersit_2</th>\n",
       "      <th>weathersit_3</th>\n",
       "      <th>cntscl</th>\n",
       "    </tr>\n",
       "  </thead>\n",
       "  <tbody>\n",
       "    <tr>\n",
       "      <th>0</th>\n",
       "      <td>0</td>\n",
       "      <td>6</td>\n",
       "      <td>0</td>\n",
       "      <td>2</td>\n",
       "      <td>0.344167</td>\n",
       "      <td>0.363625</td>\n",
       "      <td>0.805833</td>\n",
       "      <td>0.160446</td>\n",
       "      <td>985</td>\n",
       "      <td>0</td>\n",
       "      <td>0</td>\n",
       "      <td>0</td>\n",
       "      <td>0</td>\n",
       "      <td>0</td>\n",
       "      <td>0</td>\n",
       "      <td>1</td>\n",
       "      <td>0</td>\n",
       "      <td>1</td>\n",
       "      <td>0</td>\n",
       "      <td>0.110792</td>\n",
       "    </tr>\n",
       "    <tr>\n",
       "      <th>1</th>\n",
       "      <td>0</td>\n",
       "      <td>0</td>\n",
       "      <td>0</td>\n",
       "      <td>2</td>\n",
       "      <td>0.363478</td>\n",
       "      <td>0.353739</td>\n",
       "      <td>0.696087</td>\n",
       "      <td>0.248539</td>\n",
       "      <td>801</td>\n",
       "      <td>1</td>\n",
       "      <td>0</td>\n",
       "      <td>0</td>\n",
       "      <td>0</td>\n",
       "      <td>0</td>\n",
       "      <td>0</td>\n",
       "      <td>0</td>\n",
       "      <td>0</td>\n",
       "      <td>1</td>\n",
       "      <td>0</td>\n",
       "      <td>0.089623</td>\n",
       "    </tr>\n",
       "    <tr>\n",
       "      <th>2</th>\n",
       "      <td>0</td>\n",
       "      <td>1</td>\n",
       "      <td>1</td>\n",
       "      <td>1</td>\n",
       "      <td>0.196364</td>\n",
       "      <td>0.189405</td>\n",
       "      <td>0.437273</td>\n",
       "      <td>0.248309</td>\n",
       "      <td>1349</td>\n",
       "      <td>0</td>\n",
       "      <td>1</td>\n",
       "      <td>0</td>\n",
       "      <td>0</td>\n",
       "      <td>0</td>\n",
       "      <td>0</td>\n",
       "      <td>0</td>\n",
       "      <td>1</td>\n",
       "      <td>0</td>\n",
       "      <td>0</td>\n",
       "      <td>0.152669</td>\n",
       "    </tr>\n",
       "    <tr>\n",
       "      <th>3</th>\n",
       "      <td>0</td>\n",
       "      <td>2</td>\n",
       "      <td>1</td>\n",
       "      <td>1</td>\n",
       "      <td>0.200000</td>\n",
       "      <td>0.212122</td>\n",
       "      <td>0.590435</td>\n",
       "      <td>0.160296</td>\n",
       "      <td>1562</td>\n",
       "      <td>0</td>\n",
       "      <td>0</td>\n",
       "      <td>1</td>\n",
       "      <td>0</td>\n",
       "      <td>0</td>\n",
       "      <td>0</td>\n",
       "      <td>0</td>\n",
       "      <td>1</td>\n",
       "      <td>0</td>\n",
       "      <td>0</td>\n",
       "      <td>0.177174</td>\n",
       "    </tr>\n",
       "    <tr>\n",
       "      <th>4</th>\n",
       "      <td>0</td>\n",
       "      <td>3</td>\n",
       "      <td>1</td>\n",
       "      <td>1</td>\n",
       "      <td>0.226957</td>\n",
       "      <td>0.229270</td>\n",
       "      <td>0.436957</td>\n",
       "      <td>0.186900</td>\n",
       "      <td>1600</td>\n",
       "      <td>0</td>\n",
       "      <td>0</td>\n",
       "      <td>0</td>\n",
       "      <td>1</td>\n",
       "      <td>0</td>\n",
       "      <td>0</td>\n",
       "      <td>0</td>\n",
       "      <td>1</td>\n",
       "      <td>0</td>\n",
       "      <td>0</td>\n",
       "      <td>0.181546</td>\n",
       "    </tr>\n",
       "  </tbody>\n",
       "</table>\n",
       "</div>"
      ],
      "text/plain": [
       "   holiday  weekday  workingday  weathersit      temp     atemp       hum  \\\n",
       "0        0        6           0           2  0.344167  0.363625  0.805833   \n",
       "1        0        0           0           2  0.363478  0.353739  0.696087   \n",
       "2        0        1           1           1  0.196364  0.189405  0.437273   \n",
       "3        0        2           1           1  0.200000  0.212122  0.590435   \n",
       "4        0        3           1           1  0.226957  0.229270  0.436957   \n",
       "\n",
       "   windspeed   cnt  weekday_0  weekday_1  weekday_2  weekday_3  weekday_4  \\\n",
       "0   0.160446   985          0          0          0          0          0   \n",
       "1   0.248539   801          1          0          0          0          0   \n",
       "2   0.248309  1349          0          1          0          0          0   \n",
       "3   0.160296  1562          0          0          1          0          0   \n",
       "4   0.186900  1600          0          0          0          1          0   \n",
       "\n",
       "   weekday_5  weekday_6  weathersit_1  weathersit_2  weathersit_3    cntscl  \n",
       "0          0          1             0             1             0  0.110792  \n",
       "1          0          0             0             1             0  0.089623  \n",
       "2          0          0             1             0             0  0.152669  \n",
       "3          0          0             1             0             0  0.177174  \n",
       "4          0          0             1             0             0  0.181546  "
      ]
     },
     "execution_count": 21,
     "metadata": {},
     "output_type": "execute_result"
    }
   ],
   "source": [
    "df_preproc[\"cntscl\"] = scaledCnt\n",
    "df_preproc.head()"
   ]
  },
  {
   "cell_type": "code",
   "execution_count": 22,
   "metadata": {},
   "outputs": [
    {
     "data": {
      "text/plain": [
       "array([[0.11079153]])"
      ]
     },
     "execution_count": 22,
     "metadata": {},
     "output_type": "execute_result"
    }
   ],
   "source": [
    "scalerCnt.transform([[985]])"
   ]
  },
  {
   "cell_type": "code",
   "execution_count": 23,
   "metadata": {},
   "outputs": [
    {
     "data": {
      "text/plain": [
       "array([[984.99997876]])"
      ]
     },
     "execution_count": 23,
     "metadata": {},
     "output_type": "execute_result"
    }
   ],
   "source": [
    "scalerCnt.inverse_transform([[0.11079153]])"
   ]
  },
  {
   "cell_type": "markdown",
   "metadata": {},
   "source": [
    "# Prepare Data"
   ]
  },
  {
   "cell_type": "code",
   "execution_count": 24,
   "metadata": {},
   "outputs": [
    {
     "data": {
      "text/plain": [
       "((731, 17), (731, 1))"
      ]
     },
     "execution_count": 24,
     "metadata": {},
     "output_type": "execute_result"
    }
   ],
   "source": [
    "preproc_data = df_preproc[[\"holiday\", \"workingday\", \"temp\", \"atemp\", \"hum\", \"windspeed\",\n",
    "     \"weekday_0\", \"weekday_1\", \"weekday_2\", \"weekday_3\", \"weekday_4\", \"weekday_5\", \"weekday_6\",\n",
    "     \"weathersit_1\", \"weathersit_2\", \"weathersit_3\", \"cntscl\"]].values\n",
    "preproc_label = df_preproc[[\"cntscl\"]].values\n",
    "preproc_data.shape, preproc_label.shape"
   ]
  },
  {
   "cell_type": "markdown",
   "metadata": {},
   "source": [
    "## Splitting"
   ]
  },
  {
   "cell_type": "code",
   "execution_count": 25,
   "metadata": {},
   "outputs": [
    {
     "data": {
      "text/plain": [
       "631"
      ]
     },
     "execution_count": 25,
     "metadata": {},
     "output_type": "execute_result"
    }
   ],
   "source": [
    "SIZE_VALI  = 50\n",
    "SIZE_TEST  = 50\n",
    "SIZE_TRAIN = preproc_data.shape[0] - SIZE_VALI - SIZE_TEST\n",
    "SIZE_TRAIN"
   ]
  },
  {
   "cell_type": "code",
   "execution_count": 26,
   "metadata": {},
   "outputs": [
    {
     "data": {
      "text/plain": [
       "((631, 17), (50, 17), (50, 17))"
      ]
     },
     "execution_count": 26,
     "metadata": {},
     "output_type": "execute_result"
    }
   ],
   "source": [
    "train_data = preproc_data[:SIZE_TRAIN]\n",
    "vali_data = preproc_data[SIZE_TRAIN: -SIZE_VALI]\n",
    "test_data = preproc_data[-SIZE_VALI:]\n",
    "train_data.shape, vali_data.shape, test_data.shape"
   ]
  },
  {
   "cell_type": "code",
   "execution_count": 27,
   "metadata": {},
   "outputs": [
    {
     "data": {
      "text/plain": [
       "((631, 1), (50, 1), (50, 1))"
      ]
     },
     "execution_count": 27,
     "metadata": {},
     "output_type": "execute_result"
    }
   ],
   "source": [
    "train_label = preproc_label[:SIZE_TRAIN]\n",
    "vali_label = preproc_label[SIZE_TRAIN: -SIZE_VALI]\n",
    "test_label = preproc_label[-SIZE_VALI:]\n",
    "train_label.shape, vali_label.shape, test_label.shape"
   ]
  },
  {
   "cell_type": "markdown",
   "metadata": {},
   "source": [
    "## Windowing"
   ]
  },
  {
   "cell_type": "code",
   "execution_count": 28,
   "metadata": {},
   "outputs": [
    {
     "data": {
      "text/plain": [
       "(17, 128)"
      ]
     },
     "execution_count": 28,
     "metadata": {},
     "output_type": "execute_result"
    }
   ],
   "source": [
    "SIZE_FEATURES = train_data.shape[1]\n",
    "SIZE_TRAIN_DATA = 128 # train_data.shape[0]\n",
    "TIME_STEP = 5\n",
    "SIZE_FEATURES, SIZE_TRAIN_DATA"
   ]
  },
  {
   "cell_type": "code",
   "execution_count": 29,
   "metadata": {},
   "outputs": [],
   "source": [
    "train_window = preprocessing.sequence.TimeseriesGenerator(\n",
    "    train_data, train_label, length=TIME_STEP, batch_size=SIZE_TRAIN_DATA\n",
    ")"
   ]
  },
  {
   "cell_type": "code",
   "execution_count": 30,
   "metadata": {},
   "outputs": [],
   "source": [
    "vali_window = preprocessing.sequence.TimeseriesGenerator(\n",
    "    vali_data, vali_label, length=TIME_STEP, batch_size=1\n",
    ")"
   ]
  },
  {
   "cell_type": "code",
   "execution_count": 31,
   "metadata": {},
   "outputs": [],
   "source": [
    "test_window = preprocessing.sequence.TimeseriesGenerator(\n",
    "    test_data, test_label, length=TIME_STEP, batch_size=1\n",
    ")"
   ]
  },
  {
   "cell_type": "code",
   "execution_count": 32,
   "metadata": {},
   "outputs": [
    {
     "data": {
      "text/plain": [
       "45"
      ]
     },
     "execution_count": 32,
     "metadata": {},
     "output_type": "execute_result"
    }
   ],
   "source": [
    "len(test_window)"
   ]
  },
  {
   "cell_type": "code",
   "execution_count": 33,
   "metadata": {},
   "outputs": [
    {
     "name": "stdout",
     "output_type": "stream",
     "text": [
      "[[[1.0, 0.0, 0.485, 0.475383, 0.741667, 0.173517, 0.0, 1.0, 0.0, 0.0, 0.0, 0.0, 0.0, 1.0, 0.0, 0.0, 0.7187068568798896], [0.0, 1.0, 0.343333, 0.323225, 0.662917, 0.342046, 0.0, 0.0, 1.0, 0.0, 0.0, 0.0, 0.0, 0.0, 1.0, 0.0, 0.4684767602393005], [0.0, 1.0, 0.289167, 0.281563, 0.552083, 0.199625, 0.0, 0.0, 0.0, 1.0, 0.0, 0.0, 0.0, 1.0, 0.0, 0.0, 0.6296594569719283], [0.0, 1.0, 0.321667, 0.324492, 0.620417, 0.152987, 0.0, 0.0, 0.0, 0.0, 1.0, 0.0, 0.0, 0.0, 1.0, 0.0, 0.6239070409572021], [0.0, 1.0, 0.345, 0.347204, 0.524583, 0.171025, 0.0, 0.0, 0.0, 0.0, 0.0, 1.0, 0.0, 1.0, 0.0, 0.0, 0.6530142659917165]]]\n",
      "[[0.64507593]]\n"
     ]
    }
   ],
   "source": [
    "x, y = test_window[0]\n",
    "print(x.tolist())\n",
    "print(y)"
   ]
  },
  {
   "cell_type": "markdown",
   "metadata": {},
   "source": [
    "# Generate Model"
   ]
  },
  {
   "cell_type": "code",
   "execution_count": 34,
   "metadata": {},
   "outputs": [
    {
     "name": "stdout",
     "output_type": "stream",
     "text": [
      "Model: \"sequential\"\n",
      "_________________________________________________________________\n",
      "Layer (type)                 Output Shape              Param #   \n",
      "=================================================================\n",
      "simple_rnn (SimpleRNN)       (None, 5, 20)             760       \n",
      "_________________________________________________________________\n",
      "time_distributed (TimeDistri (None, 5, 20)             0         \n",
      "_________________________________________________________________\n",
      "simple_rnn_1 (SimpleRNN)     (None, 20)                820       \n",
      "_________________________________________________________________\n",
      "dropout_1 (Dropout)          (None, 20)                0         \n",
      "_________________________________________________________________\n",
      "dense (Dense)                (None, 1)                 21        \n",
      "=================================================================\n",
      "Total params: 1,601\n",
      "Trainable params: 1,601\n",
      "Non-trainable params: 0\n",
      "_________________________________________________________________\n"
     ]
    }
   ],
   "source": [
    "model = models.Sequential([\n",
    "    layers.Input([TIME_STEP, SIZE_FEATURES]),\n",
    "    layers.SimpleRNN(20, return_sequences=True),\n",
    "    layers.TimeDistributed(layers.Dropout(.2)),\n",
    "    layers.SimpleRNN(20),\n",
    "    layers.Dropout(.2),\n",
    "    layers.Dense(1, activation=\"tanh\")\n",
    "])\n",
    "model.summary()"
   ]
  },
  {
   "cell_type": "code",
   "execution_count": 35,
   "metadata": {},
   "outputs": [],
   "source": [
    "model.compile(\n",
    "    loss=\"mse\",\n",
    "    optimizer=tf.keras.optimizers.Adam(learning_rate=0.0001)\n",
    ")"
   ]
  },
  {
   "cell_type": "markdown",
   "metadata": {},
   "source": [
    "# Training"
   ]
  },
  {
   "cell_type": "code",
   "execution_count": 36,
   "metadata": {
    "scrolled": true,
    "tags": []
   },
   "outputs": [
    {
     "name": "stdout",
     "output_type": "stream",
     "text": [
      "Epoch 1/100\n",
      "5/5 [==============================] - 2s 146ms/step - loss: 0.6483 - val_loss: 1.0470\n",
      "Epoch 2/100\n",
      "5/5 [==============================] - 0s 20ms/step - loss: 0.8894 - val_loss: 0.9863\n",
      "Epoch 3/100\n",
      "5/5 [==============================] - 0s 19ms/step - loss: 0.7111 - val_loss: 0.9265\n",
      "Epoch 4/100\n",
      "5/5 [==============================] - 0s 21ms/step - loss: 0.5976 - val_loss: 0.8693\n",
      "Epoch 5/100\n",
      "5/5 [==============================] - 0s 20ms/step - loss: 0.6096 - val_loss: 0.8135\n",
      "Epoch 6/100\n",
      "5/5 [==============================] - 0s 20ms/step - loss: 0.4781 - val_loss: 0.7609\n",
      "Epoch 7/100\n",
      "5/5 [==============================] - 0s 22ms/step - loss: 0.4217 - val_loss: 0.7104\n",
      "Epoch 8/100\n",
      "5/5 [==============================] - 0s 20ms/step - loss: 0.6480 - val_loss: 0.6590\n",
      "Epoch 9/100\n",
      "5/5 [==============================] - 0s 19ms/step - loss: 0.3883 - val_loss: 0.6128\n",
      "Epoch 10/100\n",
      "5/5 [==============================] - 0s 20ms/step - loss: 0.4448 - val_loss: 0.5663\n",
      "Epoch 11/100\n",
      "5/5 [==============================] - 0s 20ms/step - loss: 0.4912 - val_loss: 0.5215\n",
      "Epoch 12/100\n",
      "5/5 [==============================] - 0s 21ms/step - loss: 0.3551 - val_loss: 0.4816\n",
      "Epoch 13/100\n",
      "5/5 [==============================] - 0s 22ms/step - loss: 0.3089 - val_loss: 0.4436\n",
      "Epoch 14/100\n",
      "5/5 [==============================] - 0s 20ms/step - loss: 0.3160 - val_loss: 0.4064\n",
      "Epoch 15/100\n",
      "5/5 [==============================] - 0s 20ms/step - loss: 0.3541 - val_loss: 0.3705\n",
      "Epoch 16/100\n",
      "5/5 [==============================] - 0s 24ms/step - loss: 0.3946 - val_loss: 0.3378\n",
      "Epoch 17/100\n",
      "5/5 [==============================] - 0s 21ms/step - loss: 0.2513 - val_loss: 0.3098\n",
      "Epoch 18/100\n",
      "5/5 [==============================] - 0s 19ms/step - loss: 0.2276 - val_loss: 0.2858\n",
      "Epoch 19/100\n",
      "5/5 [==============================] - 0s 18ms/step - loss: 0.2556 - val_loss: 0.2608\n",
      "Epoch 20/100\n",
      "5/5 [==============================] - 0s 21ms/step - loss: 0.2291 - val_loss: 0.2404\n",
      "Epoch 21/100\n",
      "5/5 [==============================] - 0s 22ms/step - loss: 0.2401 - val_loss: 0.2212\n",
      "Epoch 22/100\n",
      "5/5 [==============================] - 0s 20ms/step - loss: 0.2201 - val_loss: 0.2030\n",
      "Epoch 23/100\n",
      "5/5 [==============================] - 0s 22ms/step - loss: 0.2008 - val_loss: 0.1877\n",
      "Epoch 24/100\n",
      "5/5 [==============================] - 0s 21ms/step - loss: 0.2575 - val_loss: 0.1723\n",
      "Epoch 25/100\n",
      "5/5 [==============================] - 0s 19ms/step - loss: 0.2006 - val_loss: 0.1594\n",
      "Epoch 26/100\n",
      "5/5 [==============================] - 0s 21ms/step - loss: 0.1798 - val_loss: 0.1483\n",
      "Epoch 27/100\n",
      "5/5 [==============================] - 0s 21ms/step - loss: 0.1950 - val_loss: 0.1371\n",
      "Epoch 28/100\n",
      "5/5 [==============================] - 0s 22ms/step - loss: 0.1852 - val_loss: 0.1281\n",
      "Epoch 29/100\n",
      "5/5 [==============================] - 0s 22ms/step - loss: 0.1634 - val_loss: 0.1195\n",
      "Epoch 30/100\n",
      "5/5 [==============================] - 0s 27ms/step - loss: 0.2085 - val_loss: 0.1124\n",
      "Epoch 31/100\n",
      "5/5 [==============================] - 0s 20ms/step - loss: 0.1498 - val_loss: 0.1061\n",
      "Epoch 32/100\n",
      "5/5 [==============================] - 0s 20ms/step - loss: 0.1448 - val_loss: 0.1006\n",
      "Epoch 33/100\n",
      "5/5 [==============================] - 0s 21ms/step - loss: 0.1638 - val_loss: 0.0954\n",
      "Epoch 34/100\n",
      "5/5 [==============================] - 0s 20ms/step - loss: 0.1546 - val_loss: 0.0908\n",
      "Epoch 35/100\n",
      "5/5 [==============================] - 0s 20ms/step - loss: 0.1338 - val_loss: 0.0863\n",
      "Epoch 36/100\n",
      "5/5 [==============================] - 0s 21ms/step - loss: 0.1630 - val_loss: 0.0835\n",
      "Epoch 37/100\n",
      "5/5 [==============================] - 0s 20ms/step - loss: 0.1588 - val_loss: 0.0806\n",
      "Epoch 38/100\n",
      "5/5 [==============================] - 0s 21ms/step - loss: 0.1691 - val_loss: 0.0774\n",
      "Epoch 39/100\n",
      "5/5 [==============================] - 0s 20ms/step - loss: 0.1484 - val_loss: 0.0740\n",
      "Epoch 40/100\n",
      "5/5 [==============================] - 0s 22ms/step - loss: 0.1712 - val_loss: 0.0712\n",
      "Epoch 41/100\n",
      "5/5 [==============================] - 0s 22ms/step - loss: 0.1669 - val_loss: 0.0688\n",
      "Epoch 42/100\n",
      "5/5 [==============================] - 0s 22ms/step - loss: 0.1766 - val_loss: 0.0664\n",
      "Epoch 43/100\n",
      "5/5 [==============================] - 0s 20ms/step - loss: 0.1365 - val_loss: 0.0645\n",
      "Epoch 44/100\n",
      "5/5 [==============================] - 0s 22ms/step - loss: 0.1387 - val_loss: 0.0629\n",
      "Epoch 45/100\n",
      "5/5 [==============================] - 0s 19ms/step - loss: 0.1492 - val_loss: 0.0610\n",
      "Epoch 46/100\n",
      "5/5 [==============================] - 0s 20ms/step - loss: 0.1533 - val_loss: 0.0598\n",
      "Epoch 47/100\n",
      "5/5 [==============================] - 0s 20ms/step - loss: 0.1359 - val_loss: 0.0583\n",
      "Epoch 48/100\n",
      "5/5 [==============================] - 0s 19ms/step - loss: 0.1650 - val_loss: 0.0574\n",
      "Epoch 49/100\n",
      "5/5 [==============================] - 0s 22ms/step - loss: 0.1532 - val_loss: 0.0563\n",
      "Epoch 50/100\n",
      "5/5 [==============================] - 0s 23ms/step - loss: 0.1169 - val_loss: 0.0554\n",
      "Epoch 51/100\n",
      "5/5 [==============================] - 0s 20ms/step - loss: 0.1157 - val_loss: 0.0545\n",
      "Epoch 52/100\n",
      "5/5 [==============================] - 0s 21ms/step - loss: 0.1532 - val_loss: 0.0539\n",
      "Epoch 53/100\n",
      "5/5 [==============================] - 0s 20ms/step - loss: 0.1635 - val_loss: 0.0533\n",
      "Epoch 54/100\n",
      "5/5 [==============================] - 0s 20ms/step - loss: 0.1473 - val_loss: 0.0524\n",
      "Epoch 55/100\n",
      "5/5 [==============================] - 0s 20ms/step - loss: 0.1283 - val_loss: 0.0514\n",
      "Epoch 56/100\n",
      "5/5 [==============================] - 0s 20ms/step - loss: 0.1294 - val_loss: 0.0506\n",
      "Epoch 57/100\n",
      "5/5 [==============================] - 0s 21ms/step - loss: 0.1214 - val_loss: 0.0498\n",
      "Epoch 58/100\n",
      "5/5 [==============================] - 0s 20ms/step - loss: 0.1491 - val_loss: 0.0494\n",
      "Epoch 59/100\n",
      "5/5 [==============================] - 0s 20ms/step - loss: 0.1394 - val_loss: 0.0487\n",
      "Epoch 60/100\n",
      "5/5 [==============================] - 0s 20ms/step - loss: 0.1501 - val_loss: 0.0482\n",
      "Epoch 61/100\n",
      "5/5 [==============================] - 0s 21ms/step - loss: 0.1272 - val_loss: 0.0474\n",
      "Epoch 62/100\n",
      "5/5 [==============================] - 0s 20ms/step - loss: 0.1315 - val_loss: 0.0470\n",
      "Epoch 63/100\n",
      "5/5 [==============================] - 0s 20ms/step - loss: 0.1432 - val_loss: 0.0464\n",
      "Epoch 64/100\n",
      "5/5 [==============================] - 0s 20ms/step - loss: 0.1338 - val_loss: 0.0458\n",
      "Epoch 65/100\n",
      "5/5 [==============================] - 0s 20ms/step - loss: 0.1423 - val_loss: 0.0455\n",
      "Epoch 66/100\n",
      "5/5 [==============================] - 0s 20ms/step - loss: 0.1255 - val_loss: 0.0450\n",
      "Epoch 67/100\n",
      "5/5 [==============================] - 0s 21ms/step - loss: 0.1085 - val_loss: 0.0446\n",
      "Epoch 68/100\n",
      "5/5 [==============================] - 0s 22ms/step - loss: 0.1224 - val_loss: 0.0444\n",
      "Epoch 69/100\n",
      "5/5 [==============================] - 0s 20ms/step - loss: 0.1166 - val_loss: 0.0441\n",
      "Epoch 70/100\n",
      "5/5 [==============================] - 0s 20ms/step - loss: 0.1079 - val_loss: 0.0438\n",
      "Epoch 71/100\n",
      "5/5 [==============================] - 0s 21ms/step - loss: 0.1297 - val_loss: 0.0436\n",
      "Epoch 72/100\n",
      "5/5 [==============================] - 0s 21ms/step - loss: 0.1378 - val_loss: 0.0434\n",
      "Epoch 73/100\n",
      "5/5 [==============================] - 0s 22ms/step - loss: 0.1262 - val_loss: 0.0430\n",
      "Epoch 74/100\n",
      "5/5 [==============================] - 0s 21ms/step - loss: 0.1207 - val_loss: 0.0428\n",
      "Epoch 75/100\n",
      "5/5 [==============================] - 0s 20ms/step - loss: 0.1090 - val_loss: 0.0424\n",
      "Epoch 76/100\n",
      "5/5 [==============================] - 0s 19ms/step - loss: 0.1178 - val_loss: 0.0423\n",
      "Epoch 77/100\n",
      "5/5 [==============================] - 0s 21ms/step - loss: 0.1143 - val_loss: 0.0422\n",
      "Epoch 78/100\n",
      "5/5 [==============================] - 0s 22ms/step - loss: 0.1244 - val_loss: 0.0421\n",
      "Epoch 79/100\n",
      "5/5 [==============================] - 0s 21ms/step - loss: 0.1359 - val_loss: 0.0421\n",
      "Epoch 80/100\n",
      "5/5 [==============================] - 0s 22ms/step - loss: 0.1167 - val_loss: 0.0422\n",
      "Epoch 81/100\n",
      "5/5 [==============================] - 0s 22ms/step - loss: 0.1168 - val_loss: 0.0421\n",
      "Epoch 82/100\n",
      "5/5 [==============================] - 0s 19ms/step - loss: 0.1109 - val_loss: 0.0420\n",
      "Epoch 83/100\n",
      "5/5 [==============================] - 0s 19ms/step - loss: 0.1515 - val_loss: 0.0420\n",
      "Epoch 84/100\n",
      "5/5 [==============================] - 0s 19ms/step - loss: 0.1196 - val_loss: 0.0418\n",
      "Epoch 85/100\n",
      "5/5 [==============================] - 0s 20ms/step - loss: 0.1285 - val_loss: 0.0416\n",
      "Epoch 86/100\n",
      "5/5 [==============================] - 0s 19ms/step - loss: 0.1113 - val_loss: 0.0413\n",
      "Epoch 87/100\n",
      "5/5 [==============================] - 0s 19ms/step - loss: 0.1418 - val_loss: 0.0412\n",
      "Epoch 88/100\n",
      "5/5 [==============================] - 0s 22ms/step - loss: 0.0986 - val_loss: 0.0410\n",
      "Epoch 89/100\n",
      "5/5 [==============================] - 0s 21ms/step - loss: 0.1080 - val_loss: 0.0408\n",
      "Epoch 90/100\n",
      "5/5 [==============================] - 0s 22ms/step - loss: 0.1396 - val_loss: 0.0409\n",
      "Epoch 91/100\n",
      "5/5 [==============================] - 0s 21ms/step - loss: 0.1155 - val_loss: 0.0409\n",
      "Epoch 92/100\n",
      "5/5 [==============================] - 0s 20ms/step - loss: 0.1146 - val_loss: 0.0409\n",
      "Epoch 93/100\n",
      "5/5 [==============================] - 0s 20ms/step - loss: 0.1331 - val_loss: 0.0409\n",
      "Epoch 94/100\n",
      "5/5 [==============================] - 0s 19ms/step - loss: 0.1236 - val_loss: 0.0407\n",
      "Epoch 95/100\n",
      "5/5 [==============================] - 0s 18ms/step - loss: 0.1441 - val_loss: 0.0406\n",
      "Epoch 96/100\n",
      "5/5 [==============================] - 0s 21ms/step - loss: 0.1084 - val_loss: 0.0404\n",
      "Epoch 97/100\n",
      "5/5 [==============================] - 0s 20ms/step - loss: 0.1475 - val_loss: 0.0404\n",
      "Epoch 98/100\n",
      "5/5 [==============================] - 0s 21ms/step - loss: 0.1280 - val_loss: 0.0403\n",
      "Epoch 99/100\n",
      "5/5 [==============================] - 0s 20ms/step - loss: 0.1087 - val_loss: 0.0401\n",
      "Epoch 100/100\n",
      "5/5 [==============================] - 0s 21ms/step - loss: 0.1161 - val_loss: 0.0400\n"
     ]
    }
   ],
   "source": [
    "history = model.fit_generator(\n",
    "    train_window,\n",
    "    epochs=100,\n",
    "    verbose=1,\n",
    "    validation_data=vali_window\n",
    ")"
   ]
  },
  {
   "cell_type": "code",
   "execution_count": 37,
   "metadata": {},
   "outputs": [
    {
     "data": {
      "text/plain": [
       "<AxesSubplot:>"
      ]
     },
     "execution_count": 37,
     "metadata": {},
     "output_type": "execute_result"
    },
    {
     "data": {
      "image/png": "[encoded data removed]",
      "text/plain": [
       "<Figure size 432x288 with 1 Axes>"
      ]
     },
     "metadata": {
      "needs_background": "light"
     },
     "output_type": "display_data"
    }
   ],
   "source": [
    "df_history = pd.DataFrame(history.history)\n",
    "df_history[[\"loss\", \"val_loss\"]].plot()"
   ]
  },
  {
   "cell_type": "markdown",
   "metadata": {},
   "source": [
    "# Predict"
   ]
  },
  {
   "cell_type": "code",
   "execution_count": 38,
   "metadata": {},
   "outputs": [],
   "source": [
    "df_result = pd.DataFrame({'Actual' : [], 'Prediction' : []})\n",
    "\n",
    "for i in range(len(test_window)):\n",
    "    x, y = test_window[i]\n",
    "    yhat = model.predict(x)\n",
    "    df_result = df_result.append({\n",
    "        'Actual': scalerCnt.inverse_transform(y)[0][0],\n",
    "        'Prediction': scalerCnt.inverse_transform(yhat)[0][0]},\n",
    "        ignore_index=True\n",
    "    )"
   ]
  },
  {
   "cell_type": "code",
   "execution_count": 39,
   "metadata": {},
   "outputs": [
    {
     "data": {
      "text/html": [
       "<div>\n",
       "<style scoped>\n",
       "    .dataframe tbody tr th:only-of-type {\n",
       "        vertical-align: middle;\n",
       "    }\n",
       "\n",
       "    .dataframe tbody tr th {\n",
       "        vertical-align: top;\n",
       "    }\n",
       "\n",
       "    .dataframe thead th {\n",
       "        text-align: right;\n",
       "    }\n",
       "</style>\n",
       "<table border=\"1\" class=\"dataframe\">\n",
       "  <thead>\n",
       "    <tr style=\"text-align: right;\">\n",
       "      <th></th>\n",
       "      <th>Actual</th>\n",
       "      <th>Prediction</th>\n",
       "      <th>Diff</th>\n",
       "    </tr>\n",
       "  </thead>\n",
       "  <tbody>\n",
       "    <tr>\n",
       "      <th>0</th>\n",
       "      <td>5629.0</td>\n",
       "      <td>5928.438477</td>\n",
       "      <td>5.319568</td>\n",
       "    </tr>\n",
       "    <tr>\n",
       "      <th>1</th>\n",
       "      <td>4669.0</td>\n",
       "      <td>5701.077148</td>\n",
       "      <td>22.104886</td>\n",
       "    </tr>\n",
       "    <tr>\n",
       "      <th>2</th>\n",
       "      <td>5499.0</td>\n",
       "      <td>6163.447754</td>\n",
       "      <td>12.083065</td>\n",
       "    </tr>\n",
       "    <tr>\n",
       "      <th>3</th>\n",
       "      <td>5634.0</td>\n",
       "      <td>6436.566895</td>\n",
       "      <td>14.245064</td>\n",
       "    </tr>\n",
       "    <tr>\n",
       "      <th>4</th>\n",
       "      <td>5146.0</td>\n",
       "      <td>5833.618652</td>\n",
       "      <td>13.362197</td>\n",
       "    </tr>\n",
       "  </tbody>\n",
       "</table>\n",
       "</div>"
      ],
      "text/plain": [
       "   Actual   Prediction       Diff\n",
       "0  5629.0  5928.438477   5.319568\n",
       "1  4669.0  5701.077148  22.104886\n",
       "2  5499.0  6163.447754  12.083065\n",
       "3  5634.0  6436.566895  14.245064\n",
       "4  5146.0  5833.618652  13.362197"
      ]
     },
     "execution_count": 39,
     "metadata": {},
     "output_type": "execute_result"
    }
   ],
   "source": [
    "df_result['Diff'] = 100 * (df_result['Prediction'] - df_result['Actual']) / df_result['Actual']\n",
    "df_result.head()"
   ]
  },
  {
   "cell_type": "code",
   "execution_count": 40,
   "metadata": {},
   "outputs": [
    {
     "data": {
      "text/plain": [
       "<AxesSubplot:>"
      ]
     },
     "execution_count": 40,
     "metadata": {},
     "output_type": "execute_result"
    },
    {
     "data": {
      "image/png": "[encoded data removed]",
      "text/plain": [
       "<Figure size 1080x720 with 1 Axes>"
      ]
     },
     "metadata": {
      "needs_background": "light"
     },
     "output_type": "display_data"
    }
   ],
   "source": [
    "df_result[[\"Actual\", \"Prediction\"]].plot(figsize=(15, 10))"
   ]
  },
  {
   "cell_type": "code",
   "execution_count": null,
   "metadata": {},
   "outputs": [],
   "source": []
  },
  {
   "cell_type": "code",
   "execution_count": null,
   "metadata": {},
   "outputs": [],
   "source": []
  },
  {
   "cell_type": "code",
   "execution_count": null,
   "metadata": {},
   "outputs": [],
   "source": []
  }
 ],
 "metadata": {
  "kernelspec": {
   "display_name": "Python 3 (ipykernel)",
   "language": "python",
   "name": "python3"
  },
  "language_info": {
   "codemirror_mode": {
    "name": "ipython",
    "version": 3
   },
   "file_extension": ".py",
   "mimetype": "text/x-python",
   "name": "python",
   "nbconvert_exporter": "python",
   "pygments_lexer": "ipython3",
   "version": "3.9.6"
  },
  "toc-autonumbering": true
 },
 "nbformat": 4,
 "nbformat_minor": 4
}
