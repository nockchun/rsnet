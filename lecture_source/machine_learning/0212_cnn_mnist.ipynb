{
 "cells": [
  {
   "cell_type": "markdown",
   "metadata": {},
   "source": [
    "<div class=\"alert alert-block alert-success\">\n",
    "    <b><center>CONVOLUTON NEURAL NETWORK</center></b>\n",
    "    <b><center>MNIST 데이터로 DNN 구현해 보기</center></b>\n",
    "</div>"
   ]
  },
  {
   "cell_type": "markdown",
   "metadata": {},
   "source": [
    "# Configure Learning Environment"
   ]
  },
  {
   "cell_type": "code",
   "execution_count": 1,
   "metadata": {},
   "outputs": [
    {
     "name": "stderr",
     "output_type": "stream",
     "text": [
      "2021-07-25 04:56:26.413030: I tensorflow/stream_executor/platform/default/dso_loader.cc:49] Successfully opened dynamic library libcudart.so.10.1\n",
      "2021-07-25 04:56:28.146181: I tensorflow/compiler/jit/xla_cpu_device.cc:41] Not creating XLA devices, tf_xla_enable_xla_devices not set\n",
      "2021-07-25 04:56:28.146846: I tensorflow/stream_executor/platform/default/dso_loader.cc:49] Successfully opened dynamic library libcuda.so.1\n",
      "2021-07-25 04:56:28.167708: E tensorflow/stream_executor/cuda/cuda_driver.cc:328] failed call to cuInit: CUDA_ERROR_SYSTEM_DRIVER_MISMATCH: system has unsupported display driver / cuda driver combination\n",
      "2021-07-25 04:56:28.167725: I tensorflow/stream_executor/cuda/cuda_diagnostics.cc:169] retrieving CUDA diagnostic information for host: jupyterlab\n",
      "2021-07-25 04:56:28.167730: I tensorflow/stream_executor/cuda/cuda_diagnostics.cc:176] hostname: jupyterlab\n",
      "2021-07-25 04:56:28.167791: I tensorflow/stream_executor/cuda/cuda_diagnostics.cc:200] libcuda reported version is: 470.42.1\n",
      "2021-07-25 04:56:28.167806: I tensorflow/stream_executor/cuda/cuda_diagnostics.cc:204] kernel reported version is: 465.31.0\n",
      "2021-07-25 04:56:28.167810: E tensorflow/stream_executor/cuda/cuda_diagnostics.cc:313] kernel version 465.31.0 does not match DSO version 470.42.1 -- cannot find working devices in this configuration\n"
     ]
    }
   ],
   "source": [
    "# !pip install git+https://github.com/nockchun/rspy --force\n",
    "import rspy as rsp\n",
    "rsp.setSystemWarning(off=True)\n",
    "rsp.fixMemoryProblem()"
   ]
  },
  {
   "cell_type": "code",
   "execution_count": 2,
   "metadata": {},
   "outputs": [],
   "source": [
    "import numpy as np\n",
    "import matplotlib.pyplot as plt\n",
    "import pandas as pd\n",
    "from ipywidgets import interact"
   ]
  },
  {
   "cell_type": "code",
   "execution_count": 3,
   "metadata": {},
   "outputs": [],
   "source": [
    "import tensorflow as tf\n",
    "from tensorflow.keras import utils, layers, activations, models, losses, optimizers, metrics, callbacks, datasets"
   ]
  },
  {
   "cell_type": "code",
   "execution_count": 4,
   "metadata": {},
   "outputs": [
    {
     "data": {
      "text/plain": [
       "'2.4.1'"
      ]
     },
     "execution_count": 4,
     "metadata": {},
     "output_type": "execute_result"
    }
   ],
   "source": [
    "tf.__version__"
   ]
  },
  {
   "cell_type": "markdown",
   "metadata": {},
   "source": [
    "# Prepare Data"
   ]
  },
  {
   "cell_type": "code",
   "execution_count": 5,
   "metadata": {},
   "outputs": [
    {
     "data": {
      "text/plain": [
       "((60000, 28, 28), (60000,), (10000, 28, 28), (10000,))"
      ]
     },
     "execution_count": 5,
     "metadata": {},
     "output_type": "execute_result"
    }
   ],
   "source": [
    "# Download the mnist dataset using keras\n",
    "(trainDatas, trainLabels), (testDatas, testLabels) = datasets.mnist.load_data()\n",
    "trainDatas.shape, trainLabels.shape, testDatas.shape, testLabels.shape"
   ]
  },
  {
   "cell_type": "markdown",
   "metadata": {},
   "source": [
    "# Preprocessing Data"
   ]
  },
  {
   "cell_type": "code",
   "execution_count": 6,
   "metadata": {},
   "outputs": [],
   "source": [
    "# # 2차원(28*28)이미지를 1차원 배열로 변환\n",
    "trainDatas = trainDatas.reshape(-1, 28, 28, 1)\n",
    "testDatas = testDatas.reshape(-1, 28, 28, 1)\n",
    "\n",
    "# trainDatas.shape, testDatas.shape"
   ]
  },
  {
   "cell_type": "code",
   "execution_count": 7,
   "metadata": {},
   "outputs": [
    {
     "data": {
      "text/plain": [
       "((60000, 10), (60000, 10))"
      ]
     },
     "execution_count": 7,
     "metadata": {},
     "output_type": "execute_result"
    }
   ],
   "source": [
    "# 레이블 one hot encoding\n",
    "trainLabels = np.eye(10)[trainLabels]\n",
    "testLabels  = np.eye(10)[testLabels]\n",
    "\n",
    "trainLabels.shape, trainLabels.shape"
   ]
  },
  {
   "cell_type": "markdown",
   "metadata": {},
   "source": [
    "# Generate Model"
   ]
  },
  {
   "cell_type": "code",
   "execution_count": 29,
   "metadata": {},
   "outputs": [
    {
     "name": "stdout",
     "output_type": "stream",
     "text": [
      "Model: \"sequential_8\"\n",
      "_________________________________________________________________\n",
      "Layer (type)                 Output Shape              Param #   \n",
      "=================================================================\n",
      "conv2d_16 (Conv2D)           (None, 26, 26, 32)        320       \n",
      "_________________________________________________________________\n",
      "max_pooling2d_16 (MaxPooling (None, 13, 13, 32)        0         \n",
      "_________________________________________________________________\n",
      "conv2d_17 (Conv2D)           (None, 13, 13, 32)        9248      \n",
      "_________________________________________________________________\n",
      "max_pooling2d_17 (MaxPooling (None, 6, 6, 32)          0         \n",
      "_________________________________________________________________\n",
      "flatten_8 (Flatten)          (None, 1152)              0         \n",
      "_________________________________________________________________\n",
      "dense_16 (Dense)             (None, 256)               295168    \n",
      "_________________________________________________________________\n",
      "dropout_8 (Dropout)          (None, 256)               0         \n",
      "_________________________________________________________________\n",
      "dense_17 (Dense)             (None, 10)                2570      \n",
      "=================================================================\n",
      "Total params: 307,306\n",
      "Trainable params: 307,306\n",
      "Non-trainable params: 0\n",
      "_________________________________________________________________\n"
     ]
    }
   ],
   "source": [
    "model = models.Sequential([\n",
    "    layers.Input([28, 28, 1]),\n",
    "    layers.Conv2D(32, (3, 3), (1, 1), \"valid\", activation=activations.relu),\n",
    "    layers.MaxPool2D((2, 2), (2, 2)),\n",
    "    layers.Conv2D(32, (3, 3), (1, 1), \"same\", activation=activations.relu),\n",
    "    layers.MaxPool2D((2, 2), (2, 2)),\n",
    "    layers.Flatten(),\n",
    "    layers.Dense(256, activation=activations.relu),\n",
    "    layers.Dropout(0.3),\n",
    "    layers.Dense(10, activation=activations.softmax)\n",
    "])\n",
    "model.summary()"
   ]
  },
  {
   "cell_type": "code",
   "execution_count": 9,
   "metadata": {},
   "outputs": [
    {
     "data": {
      "image/png": "[encoded data removed]",
      "text/plain": [
       "<IPython.core.display.Image object>"
      ]
     },
     "execution_count": 9,
     "metadata": {},
     "output_type": "execute_result"
    }
   ],
   "source": [
    "utils.plot_model(model, 'model.png', show_shapes=True)"
   ]
  },
  {
   "cell_type": "code",
   "execution_count": 10,
   "metadata": {},
   "outputs": [],
   "source": [
    "model.compile(\n",
    "    loss=tf.keras.losses.CategoricalCrossentropy(),\n",
    "    optimizer=tf.keras.optimizers.Adam(learning_rate=0.0001),\n",
    "    metrics = [metrics.CategoricalAccuracy()]\n",
    ")"
   ]
  },
  {
   "cell_type": "markdown",
   "metadata": {},
   "source": [
    "# Training"
   ]
  },
  {
   "cell_type": "code",
   "execution_count": 11,
   "metadata": {},
   "outputs": [
    {
     "name": "stdout",
     "output_type": "stream",
     "text": [
      "Epoch 1/20\n"
     ]
    },
    {
     "name": "stderr",
     "output_type": "stream",
     "text": [
      "2021-07-25 04:56:28.764383: I tensorflow/compiler/mlir/mlir_graph_optimization_pass.cc:116] None of the MLIR optimization passes are enabled (registered 2)\n",
      "2021-07-25 04:56:28.764696: I tensorflow/core/platform/profile_utils/cpu_utils.cc:112] CPU Frequency: 2599990000 Hz\n"
     ]
    },
    {
     "name": "stdout",
     "output_type": "stream",
     "text": [
      "48/48 [==============================] - 8s 166ms/step - loss: 28.0242 - categorical_accuracy: 0.1889 - val_loss: 1.5855 - val_categorical_accuracy: 0.7704\n",
      "Epoch 2/20\n",
      "48/48 [==============================] - 8s 158ms/step - loss: 3.1747 - categorical_accuracy: 0.6591 - val_loss: 0.6813 - val_categorical_accuracy: 0.8794\n",
      "Epoch 3/20\n",
      "48/48 [==============================] - 8s 163ms/step - loss: 1.3393 - categorical_accuracy: 0.7974 - val_loss: 0.4385 - val_categorical_accuracy: 0.9103\n",
      "Epoch 4/20\n",
      "48/48 [==============================] - 8s 165ms/step - loss: 0.8500 - categorical_accuracy: 0.8494 - val_loss: 0.3207 - val_categorical_accuracy: 0.9273\n",
      "Epoch 5/20\n",
      "48/48 [==============================] - 8s 166ms/step - loss: 0.5896 - categorical_accuracy: 0.8761 - val_loss: 0.2572 - val_categorical_accuracy: 0.9369\n",
      "Epoch 6/20\n",
      "48/48 [==============================] - 8s 168ms/step - loss: 0.4526 - categorical_accuracy: 0.8937 - val_loss: 0.2203 - val_categorical_accuracy: 0.9435\n",
      "Epoch 7/20\n",
      "48/48 [==============================] - 8s 170ms/step - loss: 0.3716 - categorical_accuracy: 0.9054 - val_loss: 0.1891 - val_categorical_accuracy: 0.9500\n",
      "Epoch 8/20\n",
      "48/48 [==============================] - 8s 169ms/step - loss: 0.3203 - categorical_accuracy: 0.9155 - val_loss: 0.1728 - val_categorical_accuracy: 0.9530\n",
      "Epoch 9/20\n",
      "48/48 [==============================] - 8s 165ms/step - loss: 0.2859 - categorical_accuracy: 0.9197 - val_loss: 0.1583 - val_categorical_accuracy: 0.9572\n",
      "Epoch 10/20\n",
      "48/48 [==============================] - 8s 161ms/step - loss: 0.2495 - categorical_accuracy: 0.9321 - val_loss: 0.1474 - val_categorical_accuracy: 0.9592\n",
      "Epoch 11/20\n",
      "48/48 [==============================] - 8s 163ms/step - loss: 0.2284 - categorical_accuracy: 0.9351 - val_loss: 0.1341 - val_categorical_accuracy: 0.9627\n",
      "Epoch 12/20\n",
      "48/48 [==============================] - 8s 164ms/step - loss: 0.2023 - categorical_accuracy: 0.9396 - val_loss: 0.1295 - val_categorical_accuracy: 0.9646\n",
      "Epoch 13/20\n",
      "48/48 [==============================] - 8s 167ms/step - loss: 0.1882 - categorical_accuracy: 0.9473 - val_loss: 0.1226 - val_categorical_accuracy: 0.9659\n",
      "Epoch 14/20\n",
      "48/48 [==============================] - 8s 167ms/step - loss: 0.1722 - categorical_accuracy: 0.9493 - val_loss: 0.1161 - val_categorical_accuracy: 0.9682\n",
      "Epoch 15/20\n",
      "48/48 [==============================] - 8s 165ms/step - loss: 0.1709 - categorical_accuracy: 0.9517 - val_loss: 0.1111 - val_categorical_accuracy: 0.9693\n",
      "Epoch 16/20\n",
      "48/48 [==============================] - 8s 169ms/step - loss: 0.1529 - categorical_accuracy: 0.9549 - val_loss: 0.1063 - val_categorical_accuracy: 0.9710\n",
      "Epoch 17/20\n",
      "48/48 [==============================] - 8s 165ms/step - loss: 0.1428 - categorical_accuracy: 0.9573 - val_loss: 0.1032 - val_categorical_accuracy: 0.9719\n",
      "Epoch 18/20\n",
      "48/48 [==============================] - 8s 170ms/step - loss: 0.1385 - categorical_accuracy: 0.9590 - val_loss: 0.1006 - val_categorical_accuracy: 0.9728\n",
      "Epoch 19/20\n",
      "48/48 [==============================] - 8s 167ms/step - loss: 0.1288 - categorical_accuracy: 0.9622 - val_loss: 0.0960 - val_categorical_accuracy: 0.9734\n",
      "Epoch 20/20\n",
      "48/48 [==============================] - 8s 167ms/step - loss: 0.1234 - categorical_accuracy: 0.9639 - val_loss: 0.0957 - val_categorical_accuracy: 0.9741\n"
     ]
    }
   ],
   "source": [
    "history = model.fit(\n",
    "    trainDatas, trainLabels,\n",
    "    batch_size=1000,\n",
    "    epochs=20,\n",
    "    validation_split=0.2\n",
    ")"
   ]
  },
  {
   "cell_type": "code",
   "execution_count": 12,
   "metadata": {},
   "outputs": [
    {
     "data": {
      "image/png": "[encoded data removed]",
      "text/plain": [
       "<Figure size 432x288 with 1 Axes>"
      ]
     },
     "metadata": {
      "needs_background": "light"
     },
     "output_type": "display_data"
    }
   ],
   "source": [
    "loss = history.history[\"loss\"]\n",
    "validationLoss = history.history[\"val_loss\"]\n",
    "epochs = range(0, len(loss))\n",
    "\n",
    "plt.plot(epochs, loss, label=\"Training Loss\")\n",
    "plt.plot(epochs, validationLoss, label=\"Validation Loss\")\n",
    "plt.title('Training and validation loss')\n",
    "plt.xlabel('Epochs')\n",
    "plt.ylabel('Loss')\n",
    "plt.legend()\n",
    "plt.show()"
   ]
  },
  {
   "cell_type": "markdown",
   "metadata": {},
   "source": [
    "# Evaluate"
   ]
  },
  {
   "cell_type": "code",
   "execution_count": 13,
   "metadata": {},
   "outputs": [
    {
     "data": {
      "text/plain": [
       "(0.09344855695962906, '97.31 %')"
      ]
     },
     "execution_count": 13,
     "metadata": {},
     "output_type": "execute_result"
    }
   ],
   "source": [
    "evaLoss, evaAcc = model.evaluate(testDatas, testLabels, verbose=0)\n",
    "evaLoss, \"{:3.2f} %\".format(evaAcc*100)"
   ]
  },
  {
   "cell_type": "markdown",
   "metadata": {},
   "source": [
    "# Predict"
   ]
  },
  {
   "cell_type": "code",
   "execution_count": 14,
   "metadata": {},
   "outputs": [
    {
     "data": {
      "application/vnd.jupyter.widget-view+json": {
       "model_id": "080a179b0b8245fc9ca587e36f690aad",
       "version_major": 2,
       "version_minor": 0
      },
      "text/plain": [
       "interactive(children=(IntSlider(value=5000, description='idx', max=10000), Output()), _dom_classes=('widget-in…"
      ]
     },
     "metadata": {},
     "output_type": "display_data"
    }
   ],
   "source": [
    "@interact(idx=(0, 10000, 1))\n",
    "def showTestImage(idx):\n",
    "    data = testDatas[idx].reshape(-1, 28, 28, 1)\n",
    "    dataPred = model.predict(data.astype(float))\n",
    "\n",
    "    plt.imshow(testDatas[idx].reshape(28,28), cmap=\"gray\")\n",
    "    plt.grid(False)\n",
    "    plt.title(f\"LABEL: {np.argmax(testLabels[idx])}, PREDICT: {np.argmax(dataPred)}\")\n",
    "    plt.show()"
   ]
  },
  {
   "cell_type": "markdown",
   "metadata": {},
   "source": [
    "# Error Find"
   ]
  },
  {
   "cell_type": "code",
   "execution_count": 15,
   "metadata": {
    "scrolled": true
   },
   "outputs": [],
   "source": [
    "errsIdx = []\n",
    "testDatas = testDatas.reshape(-1, 28, 28, 1)\n",
    "dataPred = model.predict(testDatas.astype(float))\n",
    "\n",
    "for idx in range(10000):\n",
    "    if np.argmax(dataPred[idx]) != np.argmax(testLabels[idx]):\n",
    "        errsIdx.append(idx)"
   ]
  },
  {
   "cell_type": "code",
   "execution_count": 16,
   "metadata": {
    "scrolled": true
   },
   "outputs": [
    {
     "data": {
      "text/plain": [
       "[73,\n",
       " 115,\n",
       " 149,\n",
       " 195,\n",
       " 217,\n",
       " 247,\n",
       " 266,\n",
       " 321,\n",
       " 340,\n",
       " 381,\n",
       " 406,\n",
       " 448,\n",
       " 449,\n",
       " 550,\n",
       " 578,\n",
       " 582,\n",
       " 583,\n",
       " 591,\n",
       " 593,\n",
       " 605,\n",
       " 659,\n",
       " 684,\n",
       " 691,\n",
       " 717,\n",
       " 726,\n",
       " 740,\n",
       " 924,\n",
       " 965,\n",
       " 1014,\n",
       " 1039,\n",
       " 1044,\n",
       " 1050,\n",
       " 1112,\n",
       " 1114,\n",
       " 1119,\n",
       " 1153,\n",
       " 1181,\n",
       " 1182,\n",
       " 1226,\n",
       " 1232,\n",
       " 1242,\n",
       " 1247,\n",
       " 1299,\n",
       " 1319,\n",
       " 1326,\n",
       " 1393,\n",
       " 1440,\n",
       " 1447,\n",
       " 1522,\n",
       " 1527,\n",
       " 1530,\n",
       " 1549,\n",
       " 1559,\n",
       " 1581,\n",
       " 1609,\n",
       " 1634,\n",
       " 1678,\n",
       " 1681,\n",
       " 1709,\n",
       " 1737,\n",
       " 1754,\n",
       " 1790,\n",
       " 1865,\n",
       " 1868,\n",
       " 1901,\n",
       " 1941,\n",
       " 1955,\n",
       " 1968,\n",
       " 2016,\n",
       " 2024,\n",
       " 2035,\n",
       " 2043,\n",
       " 2070,\n",
       " 2109,\n",
       " 2118,\n",
       " 2125,\n",
       " 2129,\n",
       " 2130,\n",
       " 2135,\n",
       " 2182,\n",
       " 2186,\n",
       " 2189,\n",
       " 2224,\n",
       " 2225,\n",
       " 2266,\n",
       " 2293,\n",
       " 2299,\n",
       " 2358,\n",
       " 2371,\n",
       " 2395,\n",
       " 2406,\n",
       " 2414,\n",
       " 2447,\n",
       " 2488,\n",
       " 2514,\n",
       " 2589,\n",
       " 2607,\n",
       " 2628,\n",
       " 2648,\n",
       " 2654,\n",
       " 2705,\n",
       " 2720,\n",
       " 2730,\n",
       " 2770,\n",
       " 2853,\n",
       " 2896,\n",
       " 2927,\n",
       " 2939,\n",
       " 2990,\n",
       " 2995,\n",
       " 3060,\n",
       " 3062,\n",
       " 3073,\n",
       " 3114,\n",
       " 3206,\n",
       " 3289,\n",
       " 3330,\n",
       " 3384,\n",
       " 3422,\n",
       " 3511,\n",
       " 3520,\n",
       " 3534,\n",
       " 3547,\n",
       " 3558,\n",
       " 3559,\n",
       " 3573,\n",
       " 3597,\n",
       " 3629,\n",
       " 3662,\n",
       " 3681,\n",
       " 3742,\n",
       " 3751,\n",
       " 3767,\n",
       " 3778,\n",
       " 3780,\n",
       " 3796,\n",
       " 3801,\n",
       " 3808,\n",
       " 3811,\n",
       " 3818,\n",
       " 3838,\n",
       " 3848,\n",
       " 3853,\n",
       " 3855,\n",
       " 3902,\n",
       " 3906,\n",
       " 3926,\n",
       " 3941,\n",
       " 3985,\n",
       " 4065,\n",
       " 4075,\n",
       " 4078,\n",
       " 4163,\n",
       " 4176,\n",
       " 4201,\n",
       " 4224,\n",
       " 4256,\n",
       " 4259,\n",
       " 4265,\n",
       " 4284,\n",
       " 4289,\n",
       " 4300,\n",
       " 4306,\n",
       " 4374,\n",
       " 4477,\n",
       " 4497,\n",
       " 4536,\n",
       " 4575,\n",
       " 4601,\n",
       " 4639,\n",
       " 4657,\n",
       " 4690,\n",
       " 4699,\n",
       " 4761,\n",
       " 4785,\n",
       " 4807,\n",
       " 4816,\n",
       " 4823,\n",
       " 4874,\n",
       " 4879,\n",
       " 4890,\n",
       " 4956,\n",
       " 5127,\n",
       " 5288,\n",
       " 5331,\n",
       " 5600,\n",
       " 5642,\n",
       " 5676,\n",
       " 5734,\n",
       " 5749,\n",
       " 5759,\n",
       " 5835,\n",
       " 5842,\n",
       " 5887,\n",
       " 5888,\n",
       " 5891,\n",
       " 5937,\n",
       " 5955,\n",
       " 5973,\n",
       " 5981,\n",
       " 5982,\n",
       " 6023,\n",
       " 6035,\n",
       " 6059,\n",
       " 6065,\n",
       " 6071,\n",
       " 6081,\n",
       " 6091,\n",
       " 6101,\n",
       " 6166,\n",
       " 6172,\n",
       " 6495,\n",
       " 6505,\n",
       " 6555,\n",
       " 6560,\n",
       " 6574,\n",
       " 6576,\n",
       " 6597,\n",
       " 6632,\n",
       " 6641,\n",
       " 6651,\n",
       " 6755,\n",
       " 6783,\n",
       " 7035,\n",
       " 7121,\n",
       " 7216,\n",
       " 7233,\n",
       " 7265,\n",
       " 7434,\n",
       " 7574,\n",
       " 7595,\n",
       " 7683,\n",
       " 7902,\n",
       " 7912,\n",
       " 7915,\n",
       " 8059,\n",
       " 8061,\n",
       " 8062,\n",
       " 8094,\n",
       " 8095,\n",
       " 8246,\n",
       " 8311,\n",
       " 8325,\n",
       " 8332,\n",
       " 8382,\n",
       " 8410,\n",
       " 8520,\n",
       " 9009,\n",
       " 9015,\n",
       " 9019,\n",
       " 9036,\n",
       " 9071,\n",
       " 9209,\n",
       " 9280,\n",
       " 9634,\n",
       " 9692,\n",
       " 9729,\n",
       " 9749,\n",
       " 9768,\n",
       " 9770,\n",
       " 9779,\n",
       " 9792,\n",
       " 9811,\n",
       " 9879,\n",
       " 9888,\n",
       " 9904,\n",
       " 9905,\n",
       " 9944,\n",
       " 9982]"
      ]
     },
     "execution_count": 16,
     "metadata": {},
     "output_type": "execute_result"
    }
   ],
   "source": [
    "errsIdx"
   ]
  },
  {
   "cell_type": "code",
   "execution_count": null,
   "metadata": {},
   "outputs": [],
   "source": []
  }
 ],
 "metadata": {
  "kernelspec": {
   "display_name": "Python 3 (ipykernel)",
   "language": "python",
   "name": "python3"
  },
  "language_info": {
   "codemirror_mode": {
    "name": "ipython",
    "version": 3
   },
   "file_extension": ".py",
   "mimetype": "text/x-python",
   "name": "python",
   "nbconvert_exporter": "python",
   "pygments_lexer": "ipython3",
   "version": "3.8.10"
  },
  "toc-autonumbering": true
 },
 "nbformat": 4,
 "nbformat_minor": 4
}
