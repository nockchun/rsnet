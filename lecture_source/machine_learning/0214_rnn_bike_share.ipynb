{
 "cells": [
  {
   "cell_type": "markdown",
   "metadata": {},
   "source": [
    "<div class=\"alert alert-block alert-success\">\n",
    "    <b><center>CONVOLUTON NEURAL NETWORK</center></b>\n",
    "    <b><center>Bike Share 데이터로 DNN 구현해 보기</center></b>\n",
    "</div>"
   ]
  },
  {
   "cell_type": "markdown",
   "metadata": {},
   "source": [
    "# Configure Learning Environment"
   ]
  },
  {
   "cell_type": "code",
   "execution_count": 39,
   "metadata": {},
   "outputs": [],
   "source": [
    "import os\n",
    "os.environ['TF_CPP_MIN_LOG_LEVEL'] = \"2\""
   ]
  },
  {
   "cell_type": "code",
   "execution_count": 1,
   "metadata": {},
   "outputs": [
    {
     "name": "stderr",
     "output_type": "stream",
     "text": [
      "2021-07-27 12:27:34.422717: I tensorflow/stream_executor/platform/default/dso_loader.cc:49] Successfully opened dynamic library libcudart.so.10.1\n"
     ]
    }
   ],
   "source": [
    "# !pip install mybatis_mapper2sql\n",
    "# !pip install git+https://github.com/nockchun/rspy --force\n",
    "import rspy as rsp\n",
    "rsp.setSystemWarning(off=True)"
   ]
  },
  {
   "cell_type": "code",
   "execution_count": 2,
   "metadata": {},
   "outputs": [],
   "source": [
    "import numpy as np\n",
    "import pandas as pd\n",
    "import matplotlib.pyplot as plt\n",
    "from ipywidgets import interact"
   ]
  },
  {
   "cell_type": "code",
   "execution_count": 3,
   "metadata": {},
   "outputs": [],
   "source": [
    "from sklearn import preprocessing as skpp, model_selection as skms\n",
    "import tensorflow as tf\n",
    "from tensorflow.keras import utils, layers, models, losses, preprocessing"
   ]
  },
  {
   "cell_type": "code",
   "execution_count": 4,
   "metadata": {},
   "outputs": [
    {
     "name": "stdout",
     "output_type": "stream",
     "text": [
      "버전:  2.4.1\n",
      "GPU:  사용 가능\n",
      "GPU Device:  [PhysicalDevice(name='/physical_device:GPU:0', device_type='GPU')]\n"
     ]
    },
    {
     "name": "stderr",
     "output_type": "stream",
     "text": [
      "2021-07-27 12:27:36.133924: I tensorflow/core/platform/cpu_feature_guard.cc:142] This TensorFlow binary is optimized with oneAPI Deep Neural Network Library (oneDNN) to use the following CPU instructions in performance-critical operations:  SSE4.1 SSE4.2 AVX AVX2 FMA\n",
      "To enable them in other operations, rebuild TensorFlow with the appropriate compiler flags.\n",
      "2021-07-27 12:27:36.135399: I tensorflow/stream_executor/platform/default/dso_loader.cc:49] Successfully opened dynamic library libcuda.so.1\n",
      "2021-07-27 12:27:36.169844: I tensorflow/stream_executor/cuda/cuda_gpu_executor.cc:941] successful NUMA node read from SysFS had negative value (-1), but there must be at least one NUMA node, so returning NUMA node zero\n",
      "2021-07-27 12:27:36.170281: I tensorflow/core/common_runtime/gpu/gpu_device.cc:1720] Found device 0 with properties: \n",
      "pciBusID: 0000:01:00.0 name: NVIDIA GeForce RTX 2060 computeCapability: 7.5\n",
      "coreClock: 1.2GHz coreCount: 30 deviceMemorySize: 5.79GiB deviceMemoryBandwidth: 312.97GiB/s\n",
      "2021-07-27 12:27:36.170300: I tensorflow/stream_executor/platform/default/dso_loader.cc:49] Successfully opened dynamic library libcudart.so.10.1\n",
      "2021-07-27 12:27:36.171726: I tensorflow/stream_executor/platform/default/dso_loader.cc:49] Successfully opened dynamic library libcublas.so.10\n",
      "2021-07-27 12:27:36.171752: I tensorflow/stream_executor/platform/default/dso_loader.cc:49] Successfully opened dynamic library libcublasLt.so.10\n",
      "2021-07-27 12:27:36.172937: I tensorflow/stream_executor/platform/default/dso_loader.cc:49] Successfully opened dynamic library libcufft.so.10\n",
      "2021-07-27 12:27:36.173132: I tensorflow/stream_executor/platform/default/dso_loader.cc:49] Successfully opened dynamic library libcurand.so.10\n",
      "2021-07-27 12:27:36.174629: I tensorflow/stream_executor/platform/default/dso_loader.cc:49] Successfully opened dynamic library libcusolver.so.10\n",
      "2021-07-27 12:27:36.175414: I tensorflow/stream_executor/platform/default/dso_loader.cc:49] Successfully opened dynamic library libcusparse.so.10\n",
      "2021-07-27 12:27:36.178516: I tensorflow/stream_executor/platform/default/dso_loader.cc:49] Successfully opened dynamic library libcudnn.so.7\n",
      "2021-07-27 12:27:36.178627: I tensorflow/stream_executor/cuda/cuda_gpu_executor.cc:941] successful NUMA node read from SysFS had negative value (-1), but there must be at least one NUMA node, so returning NUMA node zero\n",
      "2021-07-27 12:27:36.178946: I tensorflow/stream_executor/cuda/cuda_gpu_executor.cc:941] successful NUMA node read from SysFS had negative value (-1), but there must be at least one NUMA node, so returning NUMA node zero\n",
      "2021-07-27 12:27:36.179243: I tensorflow/core/common_runtime/gpu/gpu_device.cc:1862] Adding visible gpu devices: 0\n",
      "2021-07-27 12:27:36.179266: I tensorflow/stream_executor/platform/default/dso_loader.cc:49] Successfully opened dynamic library libcudart.so.10.1\n",
      "2021-07-27 12:27:36.706472: I tensorflow/core/common_runtime/gpu/gpu_device.cc:1261] Device interconnect StreamExecutor with strength 1 edge matrix:\n",
      "2021-07-27 12:27:36.706488: I tensorflow/core/common_runtime/gpu/gpu_device.cc:1267]      0 \n",
      "2021-07-27 12:27:36.706491: I tensorflow/core/common_runtime/gpu/gpu_device.cc:1280] 0:   N \n",
      "2021-07-27 12:27:36.706710: I tensorflow/stream_executor/cuda/cuda_gpu_executor.cc:941] successful NUMA node read from SysFS had negative value (-1), but there must be at least one NUMA node, so returning NUMA node zero\n",
      "2021-07-27 12:27:36.707075: I tensorflow/stream_executor/cuda/cuda_gpu_executor.cc:941] successful NUMA node read from SysFS had negative value (-1), but there must be at least one NUMA node, so returning NUMA node zero\n",
      "2021-07-27 12:27:36.707458: I tensorflow/stream_executor/cuda/cuda_gpu_executor.cc:941] successful NUMA node read from SysFS had negative value (-1), but there must be at least one NUMA node, so returning NUMA node zero\n",
      "2021-07-27 12:27:36.707749: I tensorflow/core/common_runtime/gpu/gpu_device.cc:1406] Created TensorFlow device (/device:GPU:0 with 4947 MB memory) -> physical GPU (device: 0, name: NVIDIA GeForce RTX 2060, pci bus id: 0000:01:00.0, compute capability: 7.5)\n",
      "2021-07-27 12:27:36.707978: I tensorflow/compiler/jit/xla_gpu_device.cc:99] Not creating XLA devices, tf_xla_enable_xla_devices not set\n",
      "2021-07-27 12:27:36.708514: I tensorflow/compiler/jit/xla_cpu_device.cc:41] Not creating XLA devices, tf_xla_enable_xla_devices not set\n",
      "2021-07-27 12:27:36.708577: I tensorflow/stream_executor/cuda/cuda_gpu_executor.cc:941] successful NUMA node read from SysFS had negative value (-1), but there must be at least one NUMA node, so returning NUMA node zero\n",
      "2021-07-27 12:27:36.708882: I tensorflow/core/common_runtime/gpu/gpu_device.cc:1720] Found device 0 with properties: \n",
      "pciBusID: 0000:01:00.0 name: NVIDIA GeForce RTX 2060 computeCapability: 7.5\n",
      "coreClock: 1.2GHz coreCount: 30 deviceMemorySize: 5.79GiB deviceMemoryBandwidth: 312.97GiB/s\n",
      "2021-07-27 12:27:36.708896: I tensorflow/stream_executor/platform/default/dso_loader.cc:49] Successfully opened dynamic library libcudart.so.10.1\n",
      "2021-07-27 12:27:36.708918: I tensorflow/stream_executor/platform/default/dso_loader.cc:49] Successfully opened dynamic library libcublas.so.10\n",
      "2021-07-27 12:27:36.708930: I tensorflow/stream_executor/platform/default/dso_loader.cc:49] Successfully opened dynamic library libcublasLt.so.10\n",
      "2021-07-27 12:27:36.708941: I tensorflow/stream_executor/platform/default/dso_loader.cc:49] Successfully opened dynamic library libcufft.so.10\n",
      "2021-07-27 12:27:36.708952: I tensorflow/stream_executor/platform/default/dso_loader.cc:49] Successfully opened dynamic library libcurand.so.10\n",
      "2021-07-27 12:27:36.708963: I tensorflow/stream_executor/platform/default/dso_loader.cc:49] Successfully opened dynamic library libcusolver.so.10\n",
      "2021-07-27 12:27:36.708974: I tensorflow/stream_executor/platform/default/dso_loader.cc:49] Successfully opened dynamic library libcusparse.so.10\n",
      "2021-07-27 12:27:36.708986: I tensorflow/stream_executor/platform/default/dso_loader.cc:49] Successfully opened dynamic library libcudnn.so.7\n",
      "2021-07-27 12:27:36.709032: I tensorflow/stream_executor/cuda/cuda_gpu_executor.cc:941] successful NUMA node read from SysFS had negative value (-1), but there must be at least one NUMA node, so returning NUMA node zero\n",
      "2021-07-27 12:27:36.709359: I tensorflow/stream_executor/cuda/cuda_gpu_executor.cc:941] successful NUMA node read from SysFS had negative value (-1), but there must be at least one NUMA node, so returning NUMA node zero\n",
      "2021-07-27 12:27:36.709592: I tensorflow/core/common_runtime/gpu/gpu_device.cc:1862] Adding visible gpu devices: 0\n"
     ]
    }
   ],
   "source": [
    "# np.set_printoptions(linewidth=200, precision=2)\n",
    "print(\"버전: \", tf.__version__)\n",
    "print(\"GPU: \", \"사용 가능\" if tf.test.is_gpu_available() else \"사용 불가능\")\n",
    "print(\"GPU Device: \", tf.config.experimental.get_visible_devices(\"GPU\"))"
   ]
  },
  {
   "cell_type": "markdown",
   "metadata": {},
   "source": [
    "# Data Loading"
   ]
  },
  {
   "cell_type": "markdown",
   "metadata": {},
   "source": [
    "* UCI Machine Learning Repository 데이터 이용\n",
    "* https://archive.ics.uci.edu/ml/datasets/bike+sharing+dataset#"
   ]
  },
  {
   "cell_type": "code",
   "execution_count": 5,
   "metadata": {},
   "outputs": [
    {
     "name": "stdout",
     "output_type": "stream",
     "text": [
      "Downloading data from https://archive.ics.uci.edu/ml/machine-learning-databases/00275/Bike-Sharing-Dataset.zip\n",
      "286720/279992 [==============================] - 1s 2us/step\n"
     ]
    }
   ],
   "source": [
    "import pathlib\n",
    "dataset_url = \"https://archive.ics.uci.edu/ml/machine-learning-databases/00275/Bike-Sharing-Dataset.zip\"\n",
    "data_dir = utils.get_file('bike_share.zip', origin=dataset_url, extract=True, cache_subdir='bike_share')\n",
    "data_dir = pathlib.Path(data_dir)"
   ]
  },
  {
   "cell_type": "code",
   "execution_count": 6,
   "metadata": {},
   "outputs": [
    {
     "data": {
      "text/plain": [
       "'/home/rsnet/.keras/bike_share'"
      ]
     },
     "execution_count": 6,
     "metadata": {},
     "output_type": "execute_result"
    }
   ],
   "source": [
    "data_dir.parent.as_posix()"
   ]
  },
  {
   "cell_type": "code",
   "execution_count": 7,
   "metadata": {},
   "outputs": [
    {
     "name": "stdout",
     "output_type": "stream",
     "text": [
      "Readme.txt  bike_share.zip  day.csv  hour.csv\n"
     ]
    }
   ],
   "source": [
    "!ls /home/rsnet/.keras/bike_share"
   ]
  },
  {
   "cell_type": "code",
   "execution_count": 8,
   "metadata": {},
   "outputs": [],
   "source": [
    "df_origin = pd.read_csv(data_dir.parent.as_posix() + \"/day.csv\")"
   ]
  },
  {
   "cell_type": "code",
   "execution_count": 9,
   "metadata": {},
   "outputs": [
    {
     "data": {
      "text/html": [
       "<div>\n",
       "<style scoped>\n",
       "    .dataframe tbody tr th:only-of-type {\n",
       "        vertical-align: middle;\n",
       "    }\n",
       "\n",
       "    .dataframe tbody tr th {\n",
       "        vertical-align: top;\n",
       "    }\n",
       "\n",
       "    .dataframe thead th {\n",
       "        text-align: right;\n",
       "    }\n",
       "</style>\n",
       "<table border=\"1\" class=\"dataframe\">\n",
       "  <thead>\n",
       "    <tr style=\"text-align: right;\">\n",
       "      <th></th>\n",
       "      <th>instant</th>\n",
       "      <th>dteday</th>\n",
       "      <th>season</th>\n",
       "      <th>yr</th>\n",
       "      <th>mnth</th>\n",
       "      <th>holiday</th>\n",
       "      <th>weekday</th>\n",
       "      <th>workingday</th>\n",
       "      <th>weathersit</th>\n",
       "      <th>temp</th>\n",
       "      <th>atemp</th>\n",
       "      <th>hum</th>\n",
       "      <th>windspeed</th>\n",
       "      <th>casual</th>\n",
       "      <th>registered</th>\n",
       "      <th>cnt</th>\n",
       "    </tr>\n",
       "  </thead>\n",
       "  <tbody>\n",
       "    <tr>\n",
       "      <th>0</th>\n",
       "      <td>1</td>\n",
       "      <td>2011-01-01</td>\n",
       "      <td>1</td>\n",
       "      <td>0</td>\n",
       "      <td>1</td>\n",
       "      <td>0</td>\n",
       "      <td>6</td>\n",
       "      <td>0</td>\n",
       "      <td>2</td>\n",
       "      <td>0.344167</td>\n",
       "      <td>0.363625</td>\n",
       "      <td>0.805833</td>\n",
       "      <td>0.160446</td>\n",
       "      <td>331</td>\n",
       "      <td>654</td>\n",
       "      <td>985</td>\n",
       "    </tr>\n",
       "    <tr>\n",
       "      <th>1</th>\n",
       "      <td>2</td>\n",
       "      <td>2011-01-02</td>\n",
       "      <td>1</td>\n",
       "      <td>0</td>\n",
       "      <td>1</td>\n",
       "      <td>0</td>\n",
       "      <td>0</td>\n",
       "      <td>0</td>\n",
       "      <td>2</td>\n",
       "      <td>0.363478</td>\n",
       "      <td>0.353739</td>\n",
       "      <td>0.696087</td>\n",
       "      <td>0.248539</td>\n",
       "      <td>131</td>\n",
       "      <td>670</td>\n",
       "      <td>801</td>\n",
       "    </tr>\n",
       "    <tr>\n",
       "      <th>2</th>\n",
       "      <td>3</td>\n",
       "      <td>2011-01-03</td>\n",
       "      <td>1</td>\n",
       "      <td>0</td>\n",
       "      <td>1</td>\n",
       "      <td>0</td>\n",
       "      <td>1</td>\n",
       "      <td>1</td>\n",
       "      <td>1</td>\n",
       "      <td>0.196364</td>\n",
       "      <td>0.189405</td>\n",
       "      <td>0.437273</td>\n",
       "      <td>0.248309</td>\n",
       "      <td>120</td>\n",
       "      <td>1229</td>\n",
       "      <td>1349</td>\n",
       "    </tr>\n",
       "    <tr>\n",
       "      <th>3</th>\n",
       "      <td>4</td>\n",
       "      <td>2011-01-04</td>\n",
       "      <td>1</td>\n",
       "      <td>0</td>\n",
       "      <td>1</td>\n",
       "      <td>0</td>\n",
       "      <td>2</td>\n",
       "      <td>1</td>\n",
       "      <td>1</td>\n",
       "      <td>0.200000</td>\n",
       "      <td>0.212122</td>\n",
       "      <td>0.590435</td>\n",
       "      <td>0.160296</td>\n",
       "      <td>108</td>\n",
       "      <td>1454</td>\n",
       "      <td>1562</td>\n",
       "    </tr>\n",
       "    <tr>\n",
       "      <th>4</th>\n",
       "      <td>5</td>\n",
       "      <td>2011-01-05</td>\n",
       "      <td>1</td>\n",
       "      <td>0</td>\n",
       "      <td>1</td>\n",
       "      <td>0</td>\n",
       "      <td>3</td>\n",
       "      <td>1</td>\n",
       "      <td>1</td>\n",
       "      <td>0.226957</td>\n",
       "      <td>0.229270</td>\n",
       "      <td>0.436957</td>\n",
       "      <td>0.186900</td>\n",
       "      <td>82</td>\n",
       "      <td>1518</td>\n",
       "      <td>1600</td>\n",
       "    </tr>\n",
       "  </tbody>\n",
       "</table>\n",
       "</div>"
      ],
      "text/plain": [
       "   instant      dteday  season  yr  mnth  holiday  weekday  workingday  \\\n",
       "0        1  2011-01-01       1   0     1        0        6           0   \n",
       "1        2  2011-01-02       1   0     1        0        0           0   \n",
       "2        3  2011-01-03       1   0     1        0        1           1   \n",
       "3        4  2011-01-04       1   0     1        0        2           1   \n",
       "4        5  2011-01-05       1   0     1        0        3           1   \n",
       "\n",
       "   weathersit      temp     atemp       hum  windspeed  casual  registered  \\\n",
       "0           2  0.344167  0.363625  0.805833   0.160446     331         654   \n",
       "1           2  0.363478  0.353739  0.696087   0.248539     131         670   \n",
       "2           1  0.196364  0.189405  0.437273   0.248309     120        1229   \n",
       "3           1  0.200000  0.212122  0.590435   0.160296     108        1454   \n",
       "4           1  0.226957  0.229270  0.436957   0.186900      82        1518   \n",
       "\n",
       "    cnt  \n",
       "0   985  \n",
       "1   801  \n",
       "2  1349  \n",
       "3  1562  \n",
       "4  1600  "
      ]
     },
     "execution_count": 9,
     "metadata": {},
     "output_type": "execute_result"
    }
   ],
   "source": [
    "df_origin.head()"
   ]
  },
  {
   "cell_type": "code",
   "execution_count": 10,
   "metadata": {},
   "outputs": [
    {
     "data": {
      "text/plain": [
       "(731, 16)"
      ]
     },
     "execution_count": 10,
     "metadata": {},
     "output_type": "execute_result"
    }
   ],
   "source": [
    "df_origin.shape"
   ]
  },
  {
   "cell_type": "markdown",
   "metadata": {},
   "source": [
    "# Data Exploration & Analysis"
   ]
  },
  {
   "cell_type": "markdown",
   "metadata": {},
   "source": [
    "## 데이터 내용\n",
    ">* instant : 기록 순서\n",
    ">* dteday : 기록 날짜\n",
    ">* season : 계절 [1:봄, 2:여름, 3:가을, 4:겨울]\n",
    ">* yr : 년\n",
    ">* mnth : 월 [1-12]\n",
    ">* holiday : 국경일 유무 [0:무, 1:유]\n",
    ">* weekday : 요일 [0:일, 1:월, 2:화, 3:수, 4:목, 5:금, 6:토]\n",
    ">* workingday : 휴무일 유무 [0:일하는 날, 1:쉬는 날]\n",
    ">* weathersit\n",
    "    - 1: Clear, Few clouds, Partly cloudy, Partly cloudy\n",
    "    - 2: Mist + Cloudy, Mist + Broken clouds, Mist + Few clouds, Mist\n",
    "    - 3: Light Snow, Light Rain + Thunderstorm + Scattered clouds, Light Rain + Scattered clouds\n",
    "    - 4: Heavy Rain + Ice Pallets + Thunderstorm + Mist, Snow + Fog\n",
    ">* temp : 정규화된 섭씨 온도(℃)\n",
    ">* atemp : 정규화된 체감 온도. (t-t_min)/(t_max-t_min), t_min=-16, t_max=+50\n",
    ">* hum : 정규화된 습도.\n",
    ">* windspeed : 정규화된 풍속.\n",
    ">* casual : 일반 사용자.\n",
    ">* registered : 예약 사용자.\n",
    ">* cnt : 일반 + 예약 사용자. (전체 사용자)"
   ]
  },
  {
   "cell_type": "code",
   "execution_count": 11,
   "metadata": {},
   "outputs": [
    {
     "data": {
      "application/vnd.jupyter.widget-view+json": {
       "model_id": "5e685539dbfc4999a4235ecd0f5adfb2",
       "version_major": 2,
       "version_minor": 0
      },
      "text/plain": [
       "interactive(children=(Dropdown(description='compare', options=('season', 'mnth', 'holiday', 'weekday', 'workin…"
      ]
     },
     "metadata": {},
     "output_type": "display_data"
    }
   ],
   "source": [
    "cols = [\"season\", \"mnth\", \"holiday\", \"weekday\", \"workingday\", \"weathersit\", \"atemp\", \"hum\", \"windspeed\"]\n",
    "@interact(compare=cols)\n",
    "def exploration(compare):\n",
    "    fig, ax1 = plt.subplots(figsize=(30, 8))\n",
    "    ax2 = ax1.twinx()\n",
    "    \n",
    "    ax1.plot(df_origin.cnt.values, color=\"#3186ad\", label=\"cnt\")\n",
    "    ax1.plot(df_origin.casual.values, color=\"#bebebe\", label=\"casual\")\n",
    "    ax1.plot(df_origin.registered.values, color=\"#878787\", label=\"registered\")\n",
    "    ax1.set_ylabel(\"cnt\")\n",
    "\n",
    "    ax2.plot(df_origin[compare].values, color=\"red\", alpha=0.7, label=\"compare\")\n",
    "    ax2.set_ylabel(compare)\n",
    "    \n",
    "    ax1.legend(title=\"Species\", loc=\"upper left\")\n",
    "    plt.show()"
   ]
  },
  {
   "cell_type": "markdown",
   "metadata": {},
   "source": [
    "# Preprocessing Data"
   ]
  },
  {
   "cell_type": "code",
   "execution_count": 12,
   "metadata": {},
   "outputs": [
    {
     "name": "stdout",
     "output_type": "stream",
     "text": [
      "['instant', 'dteday', 'season', 'yr', 'mnth', 'holiday', 'weekday', 'workingday', 'weathersit', 'temp', 'atemp', 'hum', 'windspeed', 'casual', 'registered', 'cnt']\n"
     ]
    }
   ],
   "source": [
    "print(list(df_origin.columns))"
   ]
  },
  {
   "cell_type": "code",
   "execution_count": 13,
   "metadata": {},
   "outputs": [
    {
     "data": {
      "text/html": [
       "<div>\n",
       "<style scoped>\n",
       "    .dataframe tbody tr th:only-of-type {\n",
       "        vertical-align: middle;\n",
       "    }\n",
       "\n",
       "    .dataframe tbody tr th {\n",
       "        vertical-align: top;\n",
       "    }\n",
       "\n",
       "    .dataframe thead th {\n",
       "        text-align: right;\n",
       "    }\n",
       "</style>\n",
       "<table border=\"1\" class=\"dataframe\">\n",
       "  <thead>\n",
       "    <tr style=\"text-align: right;\">\n",
       "      <th></th>\n",
       "      <th>holiday</th>\n",
       "      <th>weekday</th>\n",
       "      <th>workingday</th>\n",
       "      <th>weathersit</th>\n",
       "      <th>temp</th>\n",
       "      <th>atemp</th>\n",
       "      <th>hum</th>\n",
       "      <th>windspeed</th>\n",
       "      <th>cnt</th>\n",
       "    </tr>\n",
       "  </thead>\n",
       "  <tbody>\n",
       "    <tr>\n",
       "      <th>0</th>\n",
       "      <td>0</td>\n",
       "      <td>6</td>\n",
       "      <td>0</td>\n",
       "      <td>2</td>\n",
       "      <td>0.344167</td>\n",
       "      <td>0.363625</td>\n",
       "      <td>0.805833</td>\n",
       "      <td>0.160446</td>\n",
       "      <td>985</td>\n",
       "    </tr>\n",
       "    <tr>\n",
       "      <th>1</th>\n",
       "      <td>0</td>\n",
       "      <td>0</td>\n",
       "      <td>0</td>\n",
       "      <td>2</td>\n",
       "      <td>0.363478</td>\n",
       "      <td>0.353739</td>\n",
       "      <td>0.696087</td>\n",
       "      <td>0.248539</td>\n",
       "      <td>801</td>\n",
       "    </tr>\n",
       "    <tr>\n",
       "      <th>2</th>\n",
       "      <td>0</td>\n",
       "      <td>1</td>\n",
       "      <td>1</td>\n",
       "      <td>1</td>\n",
       "      <td>0.196364</td>\n",
       "      <td>0.189405</td>\n",
       "      <td>0.437273</td>\n",
       "      <td>0.248309</td>\n",
       "      <td>1349</td>\n",
       "    </tr>\n",
       "    <tr>\n",
       "      <th>3</th>\n",
       "      <td>0</td>\n",
       "      <td>2</td>\n",
       "      <td>1</td>\n",
       "      <td>1</td>\n",
       "      <td>0.200000</td>\n",
       "      <td>0.212122</td>\n",
       "      <td>0.590435</td>\n",
       "      <td>0.160296</td>\n",
       "      <td>1562</td>\n",
       "    </tr>\n",
       "    <tr>\n",
       "      <th>4</th>\n",
       "      <td>0</td>\n",
       "      <td>3</td>\n",
       "      <td>1</td>\n",
       "      <td>1</td>\n",
       "      <td>0.226957</td>\n",
       "      <td>0.229270</td>\n",
       "      <td>0.436957</td>\n",
       "      <td>0.186900</td>\n",
       "      <td>1600</td>\n",
       "    </tr>\n",
       "  </tbody>\n",
       "</table>\n",
       "</div>"
      ],
      "text/plain": [
       "   holiday  weekday  workingday  weathersit      temp     atemp       hum  \\\n",
       "0        0        6           0           2  0.344167  0.363625  0.805833   \n",
       "1        0        0           0           2  0.363478  0.353739  0.696087   \n",
       "2        0        1           1           1  0.196364  0.189405  0.437273   \n",
       "3        0        2           1           1  0.200000  0.212122  0.590435   \n",
       "4        0        3           1           1  0.226957  0.229270  0.436957   \n",
       "\n",
       "   windspeed   cnt  \n",
       "0   0.160446   985  \n",
       "1   0.248539   801  \n",
       "2   0.248309  1349  \n",
       "3   0.160296  1562  \n",
       "4   0.186900  1600  "
      ]
     },
     "execution_count": 13,
     "metadata": {},
     "output_type": "execute_result"
    }
   ],
   "source": [
    "df_preproc = df_origin[[\"holiday\", \"weekday\", \"workingday\", \"weathersit\", \"temp\", \"atemp\", \"hum\", \"windspeed\", \"cnt\"]]\n",
    "df_preproc.head()"
   ]
  },
  {
   "cell_type": "markdown",
   "metadata": {},
   "source": [
    "## one-hot encoding"
   ]
  },
  {
   "cell_type": "code",
   "execution_count": 14,
   "metadata": {},
   "outputs": [
    {
     "data": {
      "text/html": [
       "<div>\n",
       "<style scoped>\n",
       "    .dataframe tbody tr th:only-of-type {\n",
       "        vertical-align: middle;\n",
       "    }\n",
       "\n",
       "    .dataframe tbody tr th {\n",
       "        vertical-align: top;\n",
       "    }\n",
       "\n",
       "    .dataframe thead th {\n",
       "        text-align: right;\n",
       "    }\n",
       "</style>\n",
       "<table border=\"1\" class=\"dataframe\">\n",
       "  <thead>\n",
       "    <tr style=\"text-align: right;\">\n",
       "      <th></th>\n",
       "      <th>weekday_0</th>\n",
       "      <th>weekday_1</th>\n",
       "      <th>weekday_2</th>\n",
       "      <th>weekday_3</th>\n",
       "      <th>weekday_4</th>\n",
       "      <th>weekday_5</th>\n",
       "      <th>weekday_6</th>\n",
       "    </tr>\n",
       "  </thead>\n",
       "  <tbody>\n",
       "    <tr>\n",
       "      <th>0</th>\n",
       "      <td>0</td>\n",
       "      <td>0</td>\n",
       "      <td>0</td>\n",
       "      <td>0</td>\n",
       "      <td>0</td>\n",
       "      <td>0</td>\n",
       "      <td>1</td>\n",
       "    </tr>\n",
       "    <tr>\n",
       "      <th>1</th>\n",
       "      <td>1</td>\n",
       "      <td>0</td>\n",
       "      <td>0</td>\n",
       "      <td>0</td>\n",
       "      <td>0</td>\n",
       "      <td>0</td>\n",
       "      <td>0</td>\n",
       "    </tr>\n",
       "    <tr>\n",
       "      <th>2</th>\n",
       "      <td>0</td>\n",
       "      <td>1</td>\n",
       "      <td>0</td>\n",
       "      <td>0</td>\n",
       "      <td>0</td>\n",
       "      <td>0</td>\n",
       "      <td>0</td>\n",
       "    </tr>\n",
       "    <tr>\n",
       "      <th>3</th>\n",
       "      <td>0</td>\n",
       "      <td>0</td>\n",
       "      <td>1</td>\n",
       "      <td>0</td>\n",
       "      <td>0</td>\n",
       "      <td>0</td>\n",
       "      <td>0</td>\n",
       "    </tr>\n",
       "    <tr>\n",
       "      <th>4</th>\n",
       "      <td>0</td>\n",
       "      <td>0</td>\n",
       "      <td>0</td>\n",
       "      <td>1</td>\n",
       "      <td>0</td>\n",
       "      <td>0</td>\n",
       "      <td>0</td>\n",
       "    </tr>\n",
       "  </tbody>\n",
       "</table>\n",
       "</div>"
      ],
      "text/plain": [
       "   weekday_0  weekday_1  weekday_2  weekday_3  weekday_4  weekday_5  weekday_6\n",
       "0          0          0          0          0          0          0          1\n",
       "1          1          0          0          0          0          0          0\n",
       "2          0          1          0          0          0          0          0\n",
       "3          0          0          1          0          0          0          0\n",
       "4          0          0          0          1          0          0          0"
      ]
     },
     "execution_count": 14,
     "metadata": {},
     "output_type": "execute_result"
    }
   ],
   "source": [
    "onehotWeekday = pd.get_dummies(df_preproc[\"weekday\"], prefix=\"weekday\")\n",
    "onehotWeathersit = pd.get_dummies(df_preproc[\"weathersit\"], prefix=\"weathersit\")\n",
    "onehotWeekday.head()"
   ]
  },
  {
   "cell_type": "code",
   "execution_count": 15,
   "metadata": {},
   "outputs": [
    {
     "data": {
      "text/html": [
       "<div>\n",
       "<style scoped>\n",
       "    .dataframe tbody tr th:only-of-type {\n",
       "        vertical-align: middle;\n",
       "    }\n",
       "\n",
       "    .dataframe tbody tr th {\n",
       "        vertical-align: top;\n",
       "    }\n",
       "\n",
       "    .dataframe thead th {\n",
       "        text-align: right;\n",
       "    }\n",
       "</style>\n",
       "<table border=\"1\" class=\"dataframe\">\n",
       "  <thead>\n",
       "    <tr style=\"text-align: right;\">\n",
       "      <th></th>\n",
       "      <th>holiday</th>\n",
       "      <th>weekday</th>\n",
       "      <th>workingday</th>\n",
       "      <th>weathersit</th>\n",
       "      <th>temp</th>\n",
       "      <th>atemp</th>\n",
       "      <th>hum</th>\n",
       "      <th>windspeed</th>\n",
       "      <th>cnt</th>\n",
       "      <th>weekday_0</th>\n",
       "      <th>weekday_1</th>\n",
       "      <th>weekday_2</th>\n",
       "      <th>weekday_3</th>\n",
       "      <th>weekday_4</th>\n",
       "      <th>weekday_5</th>\n",
       "      <th>weekday_6</th>\n",
       "      <th>weathersit_1</th>\n",
       "      <th>weathersit_2</th>\n",
       "      <th>weathersit_3</th>\n",
       "    </tr>\n",
       "  </thead>\n",
       "  <tbody>\n",
       "    <tr>\n",
       "      <th>0</th>\n",
       "      <td>0</td>\n",
       "      <td>6</td>\n",
       "      <td>0</td>\n",
       "      <td>2</td>\n",
       "      <td>0.344167</td>\n",
       "      <td>0.363625</td>\n",
       "      <td>0.805833</td>\n",
       "      <td>0.160446</td>\n",
       "      <td>985</td>\n",
       "      <td>0</td>\n",
       "      <td>0</td>\n",
       "      <td>0</td>\n",
       "      <td>0</td>\n",
       "      <td>0</td>\n",
       "      <td>0</td>\n",
       "      <td>1</td>\n",
       "      <td>0</td>\n",
       "      <td>1</td>\n",
       "      <td>0</td>\n",
       "    </tr>\n",
       "    <tr>\n",
       "      <th>1</th>\n",
       "      <td>0</td>\n",
       "      <td>0</td>\n",
       "      <td>0</td>\n",
       "      <td>2</td>\n",
       "      <td>0.363478</td>\n",
       "      <td>0.353739</td>\n",
       "      <td>0.696087</td>\n",
       "      <td>0.248539</td>\n",
       "      <td>801</td>\n",
       "      <td>1</td>\n",
       "      <td>0</td>\n",
       "      <td>0</td>\n",
       "      <td>0</td>\n",
       "      <td>0</td>\n",
       "      <td>0</td>\n",
       "      <td>0</td>\n",
       "      <td>0</td>\n",
       "      <td>1</td>\n",
       "      <td>0</td>\n",
       "    </tr>\n",
       "    <tr>\n",
       "      <th>2</th>\n",
       "      <td>0</td>\n",
       "      <td>1</td>\n",
       "      <td>1</td>\n",
       "      <td>1</td>\n",
       "      <td>0.196364</td>\n",
       "      <td>0.189405</td>\n",
       "      <td>0.437273</td>\n",
       "      <td>0.248309</td>\n",
       "      <td>1349</td>\n",
       "      <td>0</td>\n",
       "      <td>1</td>\n",
       "      <td>0</td>\n",
       "      <td>0</td>\n",
       "      <td>0</td>\n",
       "      <td>0</td>\n",
       "      <td>0</td>\n",
       "      <td>1</td>\n",
       "      <td>0</td>\n",
       "      <td>0</td>\n",
       "    </tr>\n",
       "    <tr>\n",
       "      <th>3</th>\n",
       "      <td>0</td>\n",
       "      <td>2</td>\n",
       "      <td>1</td>\n",
       "      <td>1</td>\n",
       "      <td>0.200000</td>\n",
       "      <td>0.212122</td>\n",
       "      <td>0.590435</td>\n",
       "      <td>0.160296</td>\n",
       "      <td>1562</td>\n",
       "      <td>0</td>\n",
       "      <td>0</td>\n",
       "      <td>1</td>\n",
       "      <td>0</td>\n",
       "      <td>0</td>\n",
       "      <td>0</td>\n",
       "      <td>0</td>\n",
       "      <td>1</td>\n",
       "      <td>0</td>\n",
       "      <td>0</td>\n",
       "    </tr>\n",
       "    <tr>\n",
       "      <th>4</th>\n",
       "      <td>0</td>\n",
       "      <td>3</td>\n",
       "      <td>1</td>\n",
       "      <td>1</td>\n",
       "      <td>0.226957</td>\n",
       "      <td>0.229270</td>\n",
       "      <td>0.436957</td>\n",
       "      <td>0.186900</td>\n",
       "      <td>1600</td>\n",
       "      <td>0</td>\n",
       "      <td>0</td>\n",
       "      <td>0</td>\n",
       "      <td>1</td>\n",
       "      <td>0</td>\n",
       "      <td>0</td>\n",
       "      <td>0</td>\n",
       "      <td>1</td>\n",
       "      <td>0</td>\n",
       "      <td>0</td>\n",
       "    </tr>\n",
       "  </tbody>\n",
       "</table>\n",
       "</div>"
      ],
      "text/plain": [
       "   holiday  weekday  workingday  weathersit      temp     atemp       hum  \\\n",
       "0        0        6           0           2  0.344167  0.363625  0.805833   \n",
       "1        0        0           0           2  0.363478  0.353739  0.696087   \n",
       "2        0        1           1           1  0.196364  0.189405  0.437273   \n",
       "3        0        2           1           1  0.200000  0.212122  0.590435   \n",
       "4        0        3           1           1  0.226957  0.229270  0.436957   \n",
       "\n",
       "   windspeed   cnt  weekday_0  weekday_1  weekday_2  weekday_3  weekday_4  \\\n",
       "0   0.160446   985          0          0          0          0          0   \n",
       "1   0.248539   801          1          0          0          0          0   \n",
       "2   0.248309  1349          0          1          0          0          0   \n",
       "3   0.160296  1562          0          0          1          0          0   \n",
       "4   0.186900  1600          0          0          0          1          0   \n",
       "\n",
       "   weekday_5  weekday_6  weathersit_1  weathersit_2  weathersit_3  \n",
       "0          0          1             0             1             0  \n",
       "1          0          0             0             1             0  \n",
       "2          0          0             1             0             0  \n",
       "3          0          0             1             0             0  \n",
       "4          0          0             1             0             0  "
      ]
     },
     "execution_count": 15,
     "metadata": {},
     "output_type": "execute_result"
    }
   ],
   "source": [
    "df_preproc = df_preproc.join(onehotWeekday).join(onehotWeathersit)\n",
    "df_preproc.head()"
   ]
  },
  {
   "cell_type": "code",
   "execution_count": 16,
   "metadata": {},
   "outputs": [
    {
     "data": {
      "text/plain": [
       "array([2, 1, 3])"
      ]
     },
     "execution_count": 16,
     "metadata": {},
     "output_type": "execute_result"
    }
   ],
   "source": [
    "df_preproc.weathersit.unique()"
   ]
  },
  {
   "cell_type": "markdown",
   "metadata": {},
   "source": [
    "## Scaling Y"
   ]
  },
  {
   "cell_type": "code",
   "execution_count": 17,
   "metadata": {},
   "outputs": [],
   "source": [
    "scalerCnt = skpp.MinMaxScaler((0, 1))"
   ]
  },
  {
   "cell_type": "code",
   "execution_count": 18,
   "metadata": {},
   "outputs": [],
   "source": [
    "scaledCnt = scalerCnt.fit_transform(df_preproc[\"cnt\"].values.reshape(len(df_preproc[\"cnt\"]), 1))"
   ]
  },
  {
   "cell_type": "code",
   "execution_count": 19,
   "metadata": {},
   "outputs": [
    {
     "data": {
      "text/html": [
       "<div>\n",
       "<style scoped>\n",
       "    .dataframe tbody tr th:only-of-type {\n",
       "        vertical-align: middle;\n",
       "    }\n",
       "\n",
       "    .dataframe tbody tr th {\n",
       "        vertical-align: top;\n",
       "    }\n",
       "\n",
       "    .dataframe thead th {\n",
       "        text-align: right;\n",
       "    }\n",
       "</style>\n",
       "<table border=\"1\" class=\"dataframe\">\n",
       "  <thead>\n",
       "    <tr style=\"text-align: right;\">\n",
       "      <th></th>\n",
       "      <th>holiday</th>\n",
       "      <th>weekday</th>\n",
       "      <th>workingday</th>\n",
       "      <th>weathersit</th>\n",
       "      <th>temp</th>\n",
       "      <th>atemp</th>\n",
       "      <th>hum</th>\n",
       "      <th>windspeed</th>\n",
       "      <th>cnt</th>\n",
       "      <th>weekday_0</th>\n",
       "      <th>weekday_1</th>\n",
       "      <th>weekday_2</th>\n",
       "      <th>weekday_3</th>\n",
       "      <th>weekday_4</th>\n",
       "      <th>weekday_5</th>\n",
       "      <th>weekday_6</th>\n",
       "      <th>weathersit_1</th>\n",
       "      <th>weathersit_2</th>\n",
       "      <th>weathersit_3</th>\n",
       "      <th>cntscl</th>\n",
       "    </tr>\n",
       "  </thead>\n",
       "  <tbody>\n",
       "    <tr>\n",
       "      <th>0</th>\n",
       "      <td>0</td>\n",
       "      <td>6</td>\n",
       "      <td>0</td>\n",
       "      <td>2</td>\n",
       "      <td>0.344167</td>\n",
       "      <td>0.363625</td>\n",
       "      <td>0.805833</td>\n",
       "      <td>0.160446</td>\n",
       "      <td>985</td>\n",
       "      <td>0</td>\n",
       "      <td>0</td>\n",
       "      <td>0</td>\n",
       "      <td>0</td>\n",
       "      <td>0</td>\n",
       "      <td>0</td>\n",
       "      <td>1</td>\n",
       "      <td>0</td>\n",
       "      <td>1</td>\n",
       "      <td>0</td>\n",
       "      <td>0.110792</td>\n",
       "    </tr>\n",
       "    <tr>\n",
       "      <th>1</th>\n",
       "      <td>0</td>\n",
       "      <td>0</td>\n",
       "      <td>0</td>\n",
       "      <td>2</td>\n",
       "      <td>0.363478</td>\n",
       "      <td>0.353739</td>\n",
       "      <td>0.696087</td>\n",
       "      <td>0.248539</td>\n",
       "      <td>801</td>\n",
       "      <td>1</td>\n",
       "      <td>0</td>\n",
       "      <td>0</td>\n",
       "      <td>0</td>\n",
       "      <td>0</td>\n",
       "      <td>0</td>\n",
       "      <td>0</td>\n",
       "      <td>0</td>\n",
       "      <td>1</td>\n",
       "      <td>0</td>\n",
       "      <td>0.089623</td>\n",
       "    </tr>\n",
       "    <tr>\n",
       "      <th>2</th>\n",
       "      <td>0</td>\n",
       "      <td>1</td>\n",
       "      <td>1</td>\n",
       "      <td>1</td>\n",
       "      <td>0.196364</td>\n",
       "      <td>0.189405</td>\n",
       "      <td>0.437273</td>\n",
       "      <td>0.248309</td>\n",
       "      <td>1349</td>\n",
       "      <td>0</td>\n",
       "      <td>1</td>\n",
       "      <td>0</td>\n",
       "      <td>0</td>\n",
       "      <td>0</td>\n",
       "      <td>0</td>\n",
       "      <td>0</td>\n",
       "      <td>1</td>\n",
       "      <td>0</td>\n",
       "      <td>0</td>\n",
       "      <td>0.152669</td>\n",
       "    </tr>\n",
       "    <tr>\n",
       "      <th>3</th>\n",
       "      <td>0</td>\n",
       "      <td>2</td>\n",
       "      <td>1</td>\n",
       "      <td>1</td>\n",
       "      <td>0.200000</td>\n",
       "      <td>0.212122</td>\n",
       "      <td>0.590435</td>\n",
       "      <td>0.160296</td>\n",
       "      <td>1562</td>\n",
       "      <td>0</td>\n",
       "      <td>0</td>\n",
       "      <td>1</td>\n",
       "      <td>0</td>\n",
       "      <td>0</td>\n",
       "      <td>0</td>\n",
       "      <td>0</td>\n",
       "      <td>1</td>\n",
       "      <td>0</td>\n",
       "      <td>0</td>\n",
       "      <td>0.177174</td>\n",
       "    </tr>\n",
       "    <tr>\n",
       "      <th>4</th>\n",
       "      <td>0</td>\n",
       "      <td>3</td>\n",
       "      <td>1</td>\n",
       "      <td>1</td>\n",
       "      <td>0.226957</td>\n",
       "      <td>0.229270</td>\n",
       "      <td>0.436957</td>\n",
       "      <td>0.186900</td>\n",
       "      <td>1600</td>\n",
       "      <td>0</td>\n",
       "      <td>0</td>\n",
       "      <td>0</td>\n",
       "      <td>1</td>\n",
       "      <td>0</td>\n",
       "      <td>0</td>\n",
       "      <td>0</td>\n",
       "      <td>1</td>\n",
       "      <td>0</td>\n",
       "      <td>0</td>\n",
       "      <td>0.181546</td>\n",
       "    </tr>\n",
       "  </tbody>\n",
       "</table>\n",
       "</div>"
      ],
      "text/plain": [
       "   holiday  weekday  workingday  weathersit      temp     atemp       hum  \\\n",
       "0        0        6           0           2  0.344167  0.363625  0.805833   \n",
       "1        0        0           0           2  0.363478  0.353739  0.696087   \n",
       "2        0        1           1           1  0.196364  0.189405  0.437273   \n",
       "3        0        2           1           1  0.200000  0.212122  0.590435   \n",
       "4        0        3           1           1  0.226957  0.229270  0.436957   \n",
       "\n",
       "   windspeed   cnt  weekday_0  weekday_1  weekday_2  weekday_3  weekday_4  \\\n",
       "0   0.160446   985          0          0          0          0          0   \n",
       "1   0.248539   801          1          0          0          0          0   \n",
       "2   0.248309  1349          0          1          0          0          0   \n",
       "3   0.160296  1562          0          0          1          0          0   \n",
       "4   0.186900  1600          0          0          0          1          0   \n",
       "\n",
       "   weekday_5  weekday_6  weathersit_1  weathersit_2  weathersit_3    cntscl  \n",
       "0          0          1             0             1             0  0.110792  \n",
       "1          0          0             0             1             0  0.089623  \n",
       "2          0          0             1             0             0  0.152669  \n",
       "3          0          0             1             0             0  0.177174  \n",
       "4          0          0             1             0             0  0.181546  "
      ]
     },
     "execution_count": 19,
     "metadata": {},
     "output_type": "execute_result"
    }
   ],
   "source": [
    "df_preproc[\"cntscl\"] = scaledCnt\n",
    "df_preproc.head()"
   ]
  },
  {
   "cell_type": "code",
   "execution_count": 20,
   "metadata": {},
   "outputs": [
    {
     "data": {
      "text/plain": [
       "array([[0.11079153]])"
      ]
     },
     "execution_count": 20,
     "metadata": {},
     "output_type": "execute_result"
    }
   ],
   "source": [
    "scalerCnt.transform([[985]])"
   ]
  },
  {
   "cell_type": "code",
   "execution_count": 21,
   "metadata": {},
   "outputs": [
    {
     "data": {
      "text/plain": [
       "array([[984.99997876]])"
      ]
     },
     "execution_count": 21,
     "metadata": {},
     "output_type": "execute_result"
    }
   ],
   "source": [
    "scalerCnt.inverse_transform([[0.11079153]])"
   ]
  },
  {
   "cell_type": "markdown",
   "metadata": {},
   "source": [
    "# Prepare Data"
   ]
  },
  {
   "cell_type": "code",
   "execution_count": 22,
   "metadata": {},
   "outputs": [
    {
     "data": {
      "text/plain": [
       "((731, 17), (731, 1))"
      ]
     },
     "execution_count": 22,
     "metadata": {},
     "output_type": "execute_result"
    }
   ],
   "source": [
    "preproc_data = df_preproc[[\"holiday\", \"workingday\", \"temp\", \"atemp\", \"hum\", \"windspeed\",\n",
    "     \"weekday_0\", \"weekday_1\", \"weekday_2\", \"weekday_3\", \"weekday_4\", \"weekday_5\", \"weekday_6\",\n",
    "     \"weathersit_1\", \"weathersit_2\", \"weathersit_3\", \"cntscl\"]].values\n",
    "preproc_label = df_preproc[[\"cntscl\"]].values\n",
    "preproc_data.shape, preproc_label.shape"
   ]
  },
  {
   "cell_type": "markdown",
   "metadata": {},
   "source": [
    "## Splitting"
   ]
  },
  {
   "cell_type": "code",
   "execution_count": 23,
   "metadata": {},
   "outputs": [
    {
     "data": {
      "text/plain": [
       "631"
      ]
     },
     "execution_count": 23,
     "metadata": {},
     "output_type": "execute_result"
    }
   ],
   "source": [
    "SIZE_VALI  = 50\n",
    "SIZE_TEST  = 50\n",
    "SIZE_TRAIN = preproc_data.shape[0] - SIZE_VALI - SIZE_TEST\n",
    "SIZE_TRAIN"
   ]
  },
  {
   "cell_type": "code",
   "execution_count": 24,
   "metadata": {},
   "outputs": [
    {
     "data": {
      "text/plain": [
       "((631, 17), (50, 17), (50, 17))"
      ]
     },
     "execution_count": 24,
     "metadata": {},
     "output_type": "execute_result"
    }
   ],
   "source": [
    "train_data = preproc_data[:SIZE_TRAIN]\n",
    "test_data = preproc_data[SIZE_TRAIN: -SIZE_VALI]\n",
    "vali_data = preproc_data[-SIZE_VALI:]\n",
    "train_data.shape, test_data.shape, vali_data.shape"
   ]
  },
  {
   "cell_type": "code",
   "execution_count": 25,
   "metadata": {},
   "outputs": [
    {
     "data": {
      "text/plain": [
       "((631, 1), (50, 1), (50, 1))"
      ]
     },
     "execution_count": 25,
     "metadata": {},
     "output_type": "execute_result"
    }
   ],
   "source": [
    "train_label = preproc_label[:SIZE_TRAIN]\n",
    "test_label = preproc_label[SIZE_TRAIN: -SIZE_VALI]\n",
    "vali_label = preproc_label[-SIZE_VALI:]\n",
    "train_label.shape, test_label.shape, vali_label.shape"
   ]
  },
  {
   "cell_type": "markdown",
   "metadata": {},
   "source": [
    "## Windowing"
   ]
  },
  {
   "cell_type": "code",
   "execution_count": 26,
   "metadata": {},
   "outputs": [
    {
     "data": {
      "text/plain": [
       "(17, 128)"
      ]
     },
     "execution_count": 26,
     "metadata": {},
     "output_type": "execute_result"
    }
   ],
   "source": [
    "SIZE_FEATURES = train_data.shape[1]\n",
    "SIZE_TRAIN_DATA = 128 # train_data.shape[0]\n",
    "TIME_STEP = 5\n",
    "SIZE_FEATURES, SIZE_TRAIN_DATA"
   ]
  },
  {
   "cell_type": "code",
   "execution_count": 27,
   "metadata": {},
   "outputs": [],
   "source": [
    "train_window = preprocessing.sequence.TimeseriesGenerator(\n",
    "    train_data, train_label, length=TIME_STEP, batch_size=SIZE_TRAIN_DATA\n",
    ")"
   ]
  },
  {
   "cell_type": "code",
   "execution_count": 28,
   "metadata": {},
   "outputs": [],
   "source": [
    "vali_window = preprocessing.sequence.TimeseriesGenerator(\n",
    "    vali_data, vali_label, length=TIME_STEP, batch_size=1\n",
    ")"
   ]
  },
  {
   "cell_type": "code",
   "execution_count": 29,
   "metadata": {},
   "outputs": [],
   "source": [
    "test_window = preprocessing.sequence.TimeseriesGenerator(\n",
    "    test_data, test_label, length=TIME_STEP, batch_size=1\n",
    ")"
   ]
  },
  {
   "cell_type": "code",
   "execution_count": 30,
   "metadata": {},
   "outputs": [
    {
     "data": {
      "text/plain": [
       "45"
      ]
     },
     "execution_count": 30,
     "metadata": {},
     "output_type": "execute_result"
    }
   ],
   "source": [
    "len(test_window)"
   ]
  },
  {
   "cell_type": "code",
   "execution_count": 31,
   "metadata": {},
   "outputs": [
    {
     "name": "stdout",
     "output_type": "stream",
     "text": [
      "[[[0.0, 0.0, 0.529167, 0.518933, 0.467083, 0.223258, 1.0, 0.0, 0.0, 0.0, 0.0, 0.0, 0.0, 1.0, 0.0, 0.0, 0.9071560055223193], [0.0, 1.0, 0.514167, 0.502513, 0.492917, 0.142404, 0.0, 1.0, 0.0, 0.0, 0.0, 0.0, 0.0, 1.0, 0.0, 0.0, 0.8529682466635987], [0.0, 1.0, 0.55, 0.544179, 0.57, 0.236321, 0.0, 0.0, 1.0, 0.0, 0.0, 0.0, 0.0, 1.0, 0.0, 0.0, 0.8647031753336402], [0.0, 1.0, 0.635, 0.596613, 0.630833, 0.2444, 0.0, 0.0, 0.0, 1.0, 0.0, 0.0, 0.0, 1.0, 0.0, 0.0, 0.8871375977910723], [0.0, 1.0, 0.65, 0.607975, 0.690833, 0.134342, 0.0, 0.0, 0.0, 0.0, 1.0, 0.0, 0.0, 0.0, 1.0, 0.0, 0.8480211688909343]]]\n",
      "[[0.85055223]]\n"
     ]
    }
   ],
   "source": [
    "x, y = test_window[0]\n",
    "print(x.tolist())\n",
    "print(y)"
   ]
  },
  {
   "cell_type": "markdown",
   "metadata": {},
   "source": [
    "# Generate Model"
   ]
  },
  {
   "cell_type": "code",
   "execution_count": 32,
   "metadata": {},
   "outputs": [
    {
     "name": "stdout",
     "output_type": "stream",
     "text": [
      "Model: \"sequential\"\n",
      "_________________________________________________________________\n",
      "Layer (type)                 Output Shape              Param #   \n",
      "=================================================================\n",
      "simple_rnn (SimpleRNN)       (None, 5, 20)             760       \n",
      "_________________________________________________________________\n",
      "time_distributed (TimeDistri (None, 5, 20)             0         \n",
      "_________________________________________________________________\n",
      "simple_rnn_1 (SimpleRNN)     (None, 20)                820       \n",
      "_________________________________________________________________\n",
      "dropout_1 (Dropout)          (None, 20)                0         \n",
      "_________________________________________________________________\n",
      "dense (Dense)                (None, 1)                 21        \n",
      "=================================================================\n",
      "Total params: 1,601\n",
      "Trainable params: 1,601\n",
      "Non-trainable params: 0\n",
      "_________________________________________________________________\n"
     ]
    },
    {
     "name": "stderr",
     "output_type": "stream",
     "text": [
      "2021-07-27 12:27:39.366637: I tensorflow/stream_executor/cuda/cuda_gpu_executor.cc:941] successful NUMA node read from SysFS had negative value (-1), but there must be at least one NUMA node, so returning NUMA node zero\n",
      "2021-07-27 12:27:39.367219: I tensorflow/core/common_runtime/gpu/gpu_device.cc:1720] Found device 0 with properties: \n",
      "pciBusID: 0000:01:00.0 name: NVIDIA GeForce RTX 2060 computeCapability: 7.5\n",
      "coreClock: 1.2GHz coreCount: 30 deviceMemorySize: 5.79GiB deviceMemoryBandwidth: 312.97GiB/s\n",
      "2021-07-27 12:27:39.367260: I tensorflow/stream_executor/platform/default/dso_loader.cc:49] Successfully opened dynamic library libcudart.so.10.1\n",
      "2021-07-27 12:27:39.367324: I tensorflow/stream_executor/platform/default/dso_loader.cc:49] Successfully opened dynamic library libcublas.so.10\n",
      "2021-07-27 12:27:39.367356: I tensorflow/stream_executor/platform/default/dso_loader.cc:49] Successfully opened dynamic library libcublasLt.so.10\n",
      "2021-07-27 12:27:39.367381: I tensorflow/stream_executor/platform/default/dso_loader.cc:49] Successfully opened dynamic library libcufft.so.10\n",
      "2021-07-27 12:27:39.367405: I tensorflow/stream_executor/platform/default/dso_loader.cc:49] Successfully opened dynamic library libcurand.so.10\n",
      "2021-07-27 12:27:39.367428: I tensorflow/stream_executor/platform/default/dso_loader.cc:49] Successfully opened dynamic library libcusolver.so.10\n",
      "2021-07-27 12:27:39.367452: I tensorflow/stream_executor/platform/default/dso_loader.cc:49] Successfully opened dynamic library libcusparse.so.10\n",
      "2021-07-27 12:27:39.367477: I tensorflow/stream_executor/platform/default/dso_loader.cc:49] Successfully opened dynamic library libcudnn.so.7\n",
      "2021-07-27 12:27:39.367600: I tensorflow/stream_executor/cuda/cuda_gpu_executor.cc:941] successful NUMA node read from SysFS had negative value (-1), but there must be at least one NUMA node, so returning NUMA node zero\n",
      "2021-07-27 12:27:39.368231: I tensorflow/stream_executor/cuda/cuda_gpu_executor.cc:941] successful NUMA node read from SysFS had negative value (-1), but there must be at least one NUMA node, so returning NUMA node zero\n",
      "2021-07-27 12:27:39.368857: I tensorflow/core/common_runtime/gpu/gpu_device.cc:1862] Adding visible gpu devices: 0\n",
      "2021-07-27 12:27:39.368910: I tensorflow/core/common_runtime/gpu/gpu_device.cc:1261] Device interconnect StreamExecutor with strength 1 edge matrix:\n",
      "2021-07-27 12:27:39.368917: I tensorflow/core/common_runtime/gpu/gpu_device.cc:1267]      0 \n",
      "2021-07-27 12:27:39.368923: I tensorflow/core/common_runtime/gpu/gpu_device.cc:1280] 0:   N \n",
      "2021-07-27 12:27:39.369098: I tensorflow/stream_executor/cuda/cuda_gpu_executor.cc:941] successful NUMA node read from SysFS had negative value (-1), but there must be at least one NUMA node, so returning NUMA node zero\n",
      "2021-07-27 12:27:39.369544: I tensorflow/stream_executor/cuda/cuda_gpu_executor.cc:941] successful NUMA node read from SysFS had negative value (-1), but there must be at least one NUMA node, so returning NUMA node zero\n",
      "2021-07-27 12:27:39.369897: I tensorflow/core/common_runtime/gpu/gpu_device.cc:1406] Created TensorFlow device (/job:localhost/replica:0/task:0/device:GPU:0 with 4947 MB memory) -> physical GPU (device: 0, name: NVIDIA GeForce RTX 2060, pci bus id: 0000:01:00.0, compute capability: 7.5)\n",
      "2021-07-27 12:27:39.369920: I tensorflow/compiler/jit/xla_gpu_device.cc:99] Not creating XLA devices, tf_xla_enable_xla_devices not set\n"
     ]
    }
   ],
   "source": [
    "model = models.Sequential([\n",
    "    layers.Input([TIME_STEP, SIZE_FEATURES]),\n",
    "    layers.SimpleRNN(20, return_sequences=True),\n",
    "    layers.TimeDistributed(layers.Dropout(.2)),\n",
    "    layers.SimpleRNN(20),\n",
    "    layers.Dropout(.2),\n",
    "    layers.Dense(1)\n",
    "])\n",
    "model.summary()"
   ]
  },
  {
   "cell_type": "code",
   "execution_count": 33,
   "metadata": {},
   "outputs": [],
   "source": [
    "model.compile(\n",
    "    loss=\"mse\",\n",
    "    optimizer=tf.keras.optimizers.Adam(learning_rate=0.0001)\n",
    ")"
   ]
  },
  {
   "cell_type": "markdown",
   "metadata": {},
   "source": [
    "# Training"
   ]
  },
  {
   "cell_type": "code",
   "execution_count": 34,
   "metadata": {
    "scrolled": true,
    "tags": []
   },
   "outputs": [
    {
     "name": "stdout",
     "output_type": "stream",
     "text": [
      "Epoch 1/100\n"
     ]
    },
    {
     "name": "stderr",
     "output_type": "stream",
     "text": [
      "2021-07-27 12:27:39.631293: I tensorflow/compiler/mlir/mlir_graph_optimization_pass.cc:116] None of the MLIR optimization passes are enabled (registered 2)\n",
      "2021-07-27 12:27:39.654166: I tensorflow/core/platform/profile_utils/cpu_utils.cc:112] CPU Frequency: 2599990000 Hz\n",
      "2021-07-27 12:27:40.497050: I tensorflow/stream_executor/platform/default/dso_loader.cc:49] Successfully opened dynamic library libcublas.so.10\n"
     ]
    },
    {
     "name": "stdout",
     "output_type": "stream",
     "text": [
      "5/5 [==============================] - 2s 148ms/step - loss: 0.9252 - val_loss: 0.9128\n",
      "Epoch 2/100\n",
      "5/5 [==============================] - 0s 32ms/step - loss: 1.0261 - val_loss: 0.8273\n",
      "Epoch 3/100\n",
      "5/5 [==============================] - 0s 36ms/step - loss: 0.9320 - val_loss: 0.7499\n",
      "Epoch 4/100\n",
      "5/5 [==============================] - 0s 32ms/step - loss: 0.7574 - val_loss: 0.6793\n",
      "Epoch 5/100\n",
      "5/5 [==============================] - 0s 29ms/step - loss: 0.8161 - val_loss: 0.6138\n",
      "Epoch 6/100\n",
      "5/5 [==============================] - 0s 29ms/step - loss: 0.7139 - val_loss: 0.5543\n",
      "Epoch 7/100\n",
      "5/5 [==============================] - 0s 29ms/step - loss: 0.6762 - val_loss: 0.4996\n",
      "Epoch 8/100\n",
      "5/5 [==============================] - 0s 28ms/step - loss: 0.6010 - val_loss: 0.4506\n",
      "Epoch 9/100\n",
      "5/5 [==============================] - 0s 29ms/step - loss: 0.5473 - val_loss: 0.4065\n",
      "Epoch 10/100\n",
      "5/5 [==============================] - 0s 29ms/step - loss: 0.6003 - val_loss: 0.3669\n",
      "Epoch 11/100\n",
      "5/5 [==============================] - 0s 29ms/step - loss: 0.5253 - val_loss: 0.3336\n",
      "Epoch 12/100\n",
      "5/5 [==============================] - 0s 31ms/step - loss: 0.5470 - val_loss: 0.3039\n",
      "Epoch 13/100\n",
      "5/5 [==============================] - 0s 30ms/step - loss: 0.4505 - val_loss: 0.2785\n",
      "Epoch 14/100\n",
      "5/5 [==============================] - 0s 28ms/step - loss: 0.4525 - val_loss: 0.2547\n",
      "Epoch 15/100\n",
      "5/5 [==============================] - 0s 29ms/step - loss: 0.3907 - val_loss: 0.2348\n",
      "Epoch 16/100\n",
      "5/5 [==============================] - 0s 28ms/step - loss: 0.4723 - val_loss: 0.2174\n",
      "Epoch 17/100\n",
      "5/5 [==============================] - 0s 31ms/step - loss: 0.3442 - val_loss: 0.2039\n",
      "Epoch 18/100\n",
      "5/5 [==============================] - 0s 33ms/step - loss: 0.4288 - val_loss: 0.1904\n",
      "Epoch 19/100\n",
      "5/5 [==============================] - 0s 33ms/step - loss: 0.3948 - val_loss: 0.1788\n",
      "Epoch 20/100\n",
      "5/5 [==============================] - 0s 32ms/step - loss: 0.3696 - val_loss: 0.1689\n",
      "Epoch 21/100\n",
      "5/5 [==============================] - 0s 29ms/step - loss: 0.3879 - val_loss: 0.1595\n",
      "Epoch 22/100\n",
      "5/5 [==============================] - 0s 29ms/step - loss: 0.3429 - val_loss: 0.1514\n",
      "Epoch 23/100\n",
      "5/5 [==============================] - 0s 31ms/step - loss: 0.3124 - val_loss: 0.1441\n",
      "Epoch 24/100\n",
      "5/5 [==============================] - 0s 35ms/step - loss: 0.3330 - val_loss: 0.1371\n",
      "Epoch 25/100\n",
      "5/5 [==============================] - 0s 31ms/step - loss: 0.2973 - val_loss: 0.1311\n",
      "Epoch 26/100\n",
      "5/5 [==============================] - 0s 33ms/step - loss: 0.2920 - val_loss: 0.1261\n",
      "Epoch 27/100\n",
      "5/5 [==============================] - 0s 30ms/step - loss: 0.3012 - val_loss: 0.1212\n",
      "Epoch 28/100\n",
      "5/5 [==============================] - 0s 29ms/step - loss: 0.3356 - val_loss: 0.1172\n",
      "Epoch 29/100\n",
      "5/5 [==============================] - 0s 30ms/step - loss: 0.2871 - val_loss: 0.1134\n",
      "Epoch 30/100\n",
      "5/5 [==============================] - 0s 30ms/step - loss: 0.3201 - val_loss: 0.1094\n",
      "Epoch 31/100\n",
      "5/5 [==============================] - 0s 28ms/step - loss: 0.3093 - val_loss: 0.1056\n",
      "Epoch 32/100\n",
      "5/5 [==============================] - 0s 28ms/step - loss: 0.3141 - val_loss: 0.1019\n",
      "Epoch 33/100\n",
      "5/5 [==============================] - 0s 29ms/step - loss: 0.3391 - val_loss: 0.0989\n",
      "Epoch 34/100\n",
      "5/5 [==============================] - 0s 31ms/step - loss: 0.2923 - val_loss: 0.0961\n",
      "Epoch 35/100\n",
      "5/5 [==============================] - 0s 31ms/step - loss: 0.2950 - val_loss: 0.0934\n",
      "Epoch 36/100\n",
      "5/5 [==============================] - 0s 29ms/step - loss: 0.2770 - val_loss: 0.0909\n",
      "Epoch 37/100\n",
      "5/5 [==============================] - 0s 29ms/step - loss: 0.2797 - val_loss: 0.0884\n",
      "Epoch 38/100\n",
      "5/5 [==============================] - 0s 30ms/step - loss: 0.2508 - val_loss: 0.0862\n",
      "Epoch 39/100\n",
      "5/5 [==============================] - 0s 29ms/step - loss: 0.2605 - val_loss: 0.0838\n",
      "Epoch 40/100\n",
      "5/5 [==============================] - 0s 29ms/step - loss: 0.2882 - val_loss: 0.0815\n",
      "Epoch 41/100\n",
      "5/5 [==============================] - 0s 30ms/step - loss: 0.2939 - val_loss: 0.0796\n",
      "Epoch 42/100\n",
      "5/5 [==============================] - 0s 30ms/step - loss: 0.2513 - val_loss: 0.0779\n",
      "Epoch 43/100\n",
      "5/5 [==============================] - 0s 30ms/step - loss: 0.2547 - val_loss: 0.0762\n",
      "Epoch 44/100\n",
      "5/5 [==============================] - 0s 31ms/step - loss: 0.2445 - val_loss: 0.0747\n",
      "Epoch 45/100\n",
      "5/5 [==============================] - 0s 30ms/step - loss: 0.2485 - val_loss: 0.0733\n",
      "Epoch 46/100\n",
      "5/5 [==============================] - 0s 30ms/step - loss: 0.2671 - val_loss: 0.0719\n",
      "Epoch 47/100\n",
      "5/5 [==============================] - 0s 30ms/step - loss: 0.2430 - val_loss: 0.0707\n",
      "Epoch 48/100\n",
      "5/5 [==============================] - 0s 28ms/step - loss: 0.2561 - val_loss: 0.0695\n",
      "Epoch 49/100\n",
      "5/5 [==============================] - 0s 30ms/step - loss: 0.2600 - val_loss: 0.0683\n",
      "Epoch 50/100\n",
      "5/5 [==============================] - 0s 29ms/step - loss: 0.2940 - val_loss: 0.0669\n",
      "Epoch 51/100\n",
      "5/5 [==============================] - 0s 31ms/step - loss: 0.2298 - val_loss: 0.0658\n",
      "Epoch 52/100\n",
      "5/5 [==============================] - 0s 29ms/step - loss: 0.2615 - val_loss: 0.0647\n",
      "Epoch 53/100\n",
      "5/5 [==============================] - 0s 29ms/step - loss: 0.2502 - val_loss: 0.0638\n",
      "Epoch 54/100\n",
      "5/5 [==============================] - 0s 29ms/step - loss: 0.2627 - val_loss: 0.0629\n",
      "Epoch 55/100\n",
      "5/5 [==============================] - 0s 30ms/step - loss: 0.2380 - val_loss: 0.0622\n",
      "Epoch 56/100\n",
      "5/5 [==============================] - 0s 29ms/step - loss: 0.2044 - val_loss: 0.0616\n",
      "Epoch 57/100\n",
      "5/5 [==============================] - 0s 29ms/step - loss: 0.2280 - val_loss: 0.0610\n",
      "Epoch 58/100\n",
      "5/5 [==============================] - 0s 30ms/step - loss: 0.2537 - val_loss: 0.0606\n",
      "Epoch 59/100\n",
      "5/5 [==============================] - 0s 30ms/step - loss: 0.2429 - val_loss: 0.0600\n",
      "Epoch 60/100\n",
      "5/5 [==============================] - 0s 30ms/step - loss: 0.2204 - val_loss: 0.0593\n",
      "Epoch 61/100\n",
      "5/5 [==============================] - 0s 29ms/step - loss: 0.2189 - val_loss: 0.0586\n",
      "Epoch 62/100\n",
      "5/5 [==============================] - 0s 30ms/step - loss: 0.2561 - val_loss: 0.0580\n",
      "Epoch 63/100\n",
      "5/5 [==============================] - 0s 29ms/step - loss: 0.2356 - val_loss: 0.0573\n",
      "Epoch 64/100\n",
      "5/5 [==============================] - 0s 30ms/step - loss: 0.2313 - val_loss: 0.0567\n",
      "Epoch 65/100\n",
      "5/5 [==============================] - 0s 29ms/step - loss: 0.2446 - val_loss: 0.0562\n",
      "Epoch 66/100\n",
      "5/5 [==============================] - 0s 29ms/step - loss: 0.2180 - val_loss: 0.0556\n",
      "Epoch 67/100\n",
      "5/5 [==============================] - 0s 29ms/step - loss: 0.1889 - val_loss: 0.0552\n",
      "Epoch 68/100\n",
      "5/5 [==============================] - 0s 29ms/step - loss: 0.2495 - val_loss: 0.0546\n",
      "Epoch 69/100\n",
      "5/5 [==============================] - 0s 30ms/step - loss: 0.2047 - val_loss: 0.0541\n",
      "Epoch 70/100\n",
      "5/5 [==============================] - 0s 29ms/step - loss: 0.2166 - val_loss: 0.0536\n",
      "Epoch 71/100\n",
      "5/5 [==============================] - 0s 29ms/step - loss: 0.2048 - val_loss: 0.0531\n",
      "Epoch 72/100\n",
      "5/5 [==============================] - 0s 30ms/step - loss: 0.2239 - val_loss: 0.0527\n",
      "Epoch 73/100\n",
      "5/5 [==============================] - 0s 30ms/step - loss: 0.2023 - val_loss: 0.0523\n",
      "Epoch 74/100\n",
      "5/5 [==============================] - 0s 29ms/step - loss: 0.2360 - val_loss: 0.0519\n",
      "Epoch 75/100\n",
      "5/5 [==============================] - 0s 31ms/step - loss: 0.2171 - val_loss: 0.0515\n",
      "Epoch 76/100\n",
      "5/5 [==============================] - 0s 30ms/step - loss: 0.2139 - val_loss: 0.0510\n",
      "Epoch 77/100\n",
      "5/5 [==============================] - 0s 30ms/step - loss: 0.2279 - val_loss: 0.0507\n",
      "Epoch 78/100\n",
      "5/5 [==============================] - 0s 30ms/step - loss: 0.1959 - val_loss: 0.0504\n",
      "Epoch 79/100\n",
      "5/5 [==============================] - 0s 30ms/step - loss: 0.2013 - val_loss: 0.0501\n",
      "Epoch 80/100\n",
      "5/5 [==============================] - 0s 30ms/step - loss: 0.2099 - val_loss: 0.0498\n",
      "Epoch 81/100\n",
      "5/5 [==============================] - 0s 29ms/step - loss: 0.2014 - val_loss: 0.0495\n",
      "Epoch 82/100\n",
      "5/5 [==============================] - 0s 31ms/step - loss: 0.1885 - val_loss: 0.0492\n",
      "Epoch 83/100\n",
      "5/5 [==============================] - 0s 33ms/step - loss: 0.1936 - val_loss: 0.0490\n",
      "Epoch 84/100\n",
      "5/5 [==============================] - 0s 30ms/step - loss: 0.2018 - val_loss: 0.0488\n",
      "Epoch 85/100\n",
      "5/5 [==============================] - 0s 31ms/step - loss: 0.1635 - val_loss: 0.0485\n",
      "Epoch 86/100\n",
      "5/5 [==============================] - 0s 32ms/step - loss: 0.2055 - val_loss: 0.0483\n",
      "Epoch 87/100\n",
      "5/5 [==============================] - 0s 32ms/step - loss: 0.1728 - val_loss: 0.0482\n",
      "Epoch 88/100\n",
      "5/5 [==============================] - 0s 31ms/step - loss: 0.2010 - val_loss: 0.0480\n",
      "Epoch 89/100\n",
      "5/5 [==============================] - 0s 29ms/step - loss: 0.2061 - val_loss: 0.0478\n",
      "Epoch 90/100\n",
      "5/5 [==============================] - 0s 30ms/step - loss: 0.2184 - val_loss: 0.0476\n",
      "Epoch 91/100\n",
      "5/5 [==============================] - 0s 30ms/step - loss: 0.2119 - val_loss: 0.0473\n",
      "Epoch 92/100\n",
      "5/5 [==============================] - 0s 30ms/step - loss: 0.1683 - val_loss: 0.0471\n",
      "Epoch 93/100\n",
      "5/5 [==============================] - 0s 31ms/step - loss: 0.1794 - val_loss: 0.0469\n",
      "Epoch 94/100\n",
      "5/5 [==============================] - 0s 31ms/step - loss: 0.1928 - val_loss: 0.0468\n",
      "Epoch 95/100\n",
      "5/5 [==============================] - 0s 29ms/step - loss: 0.1846 - val_loss: 0.0466\n",
      "Epoch 96/100\n",
      "5/5 [==============================] - 0s 29ms/step - loss: 0.2076 - val_loss: 0.0464\n",
      "Epoch 97/100\n",
      "5/5 [==============================] - 0s 33ms/step - loss: 0.1861 - val_loss: 0.0462\n",
      "Epoch 98/100\n",
      "5/5 [==============================] - 0s 33ms/step - loss: 0.1819 - val_loss: 0.0457\n",
      "Epoch 99/100\n",
      "5/5 [==============================] - 0s 31ms/step - loss: 0.1913 - val_loss: 0.0454\n",
      "Epoch 100/100\n",
      "5/5 [==============================] - 0s 30ms/step - loss: 0.2197 - val_loss: 0.0453\n"
     ]
    }
   ],
   "source": [
    "history = model.fit_generator(\n",
    "    train_window,\n",
    "    epochs=100,\n",
    "    verbose=1,\n",
    "    validation_data=vali_window\n",
    ")"
   ]
  },
  {
   "cell_type": "code",
   "execution_count": 35,
   "metadata": {},
   "outputs": [
    {
     "data": {
      "text/plain": [
       "<AxesSubplot:>"
      ]
     },
     "execution_count": 35,
     "metadata": {},
     "output_type": "execute_result"
    },
    {
     "data": {
      "image/png": "[encoded data removed]",
      "text/plain": [
       "<Figure size 432x288 with 1 Axes>"
      ]
     },
     "metadata": {
      "needs_background": "light"
     },
     "output_type": "display_data"
    }
   ],
   "source": [
    "df_history = pd.DataFrame(history.history)\n",
    "df_history[[\"loss\", \"val_loss\"]].plot()"
   ]
  },
  {
   "cell_type": "markdown",
   "metadata": {},
   "source": [
    "# Predict"
   ]
  },
  {
   "cell_type": "code",
   "execution_count": 36,
   "metadata": {},
   "outputs": [],
   "source": [
    "df_result = pd.DataFrame({'Actual' : [], 'Prediction' : []})\n",
    "\n",
    "for i in range(len(test_window)):\n",
    "    x, y = test_window[i]\n",
    "    yhat = model.predict(x)\n",
    "    df_result = df_result.append({\n",
    "        'Actual': scalerCnt.inverse_transform(y)[0][0],\n",
    "        'Prediction': scalerCnt.inverse_transform(yhat)[0][0]},\n",
    "        ignore_index=True\n",
    "    )"
   ]
  },
  {
   "cell_type": "code",
   "execution_count": 37,
   "metadata": {},
   "outputs": [
    {
     "data": {
      "text/html": [
       "<div>\n",
       "<style scoped>\n",
       "    .dataframe tbody tr th:only-of-type {\n",
       "        vertical-align: middle;\n",
       "    }\n",
       "\n",
       "    .dataframe tbody tr th {\n",
       "        vertical-align: top;\n",
       "    }\n",
       "\n",
       "    .dataframe thead th {\n",
       "        text-align: right;\n",
       "    }\n",
       "</style>\n",
       "<table border=\"1\" class=\"dataframe\">\n",
       "  <thead>\n",
       "    <tr style=\"text-align: right;\">\n",
       "      <th></th>\n",
       "      <th>Actual</th>\n",
       "      <th>Prediction</th>\n",
       "      <th>Diff</th>\n",
       "    </tr>\n",
       "  </thead>\n",
       "  <tbody>\n",
       "    <tr>\n",
       "      <th>0</th>\n",
       "      <td>7415.0</td>\n",
       "      <td>6766.774902</td>\n",
       "      <td>-8.742078</td>\n",
       "    </tr>\n",
       "    <tr>\n",
       "      <th>1</th>\n",
       "      <td>8555.0</td>\n",
       "      <td>5924.124023</td>\n",
       "      <td>-30.752495</td>\n",
       "    </tr>\n",
       "    <tr>\n",
       "      <th>2</th>\n",
       "      <td>6889.0</td>\n",
       "      <td>6097.963379</td>\n",
       "      <td>-11.482604</td>\n",
       "    </tr>\n",
       "    <tr>\n",
       "      <th>3</th>\n",
       "      <td>6778.0</td>\n",
       "      <td>4440.756348</td>\n",
       "      <td>-34.482792</td>\n",
       "    </tr>\n",
       "    <tr>\n",
       "      <th>4</th>\n",
       "      <td>4639.0</td>\n",
       "      <td>4522.245117</td>\n",
       "      <td>-2.516811</td>\n",
       "    </tr>\n",
       "  </tbody>\n",
       "</table>\n",
       "</div>"
      ],
      "text/plain": [
       "   Actual   Prediction       Diff\n",
       "0  7415.0  6766.774902  -8.742078\n",
       "1  8555.0  5924.124023 -30.752495\n",
       "2  6889.0  6097.963379 -11.482604\n",
       "3  6778.0  4440.756348 -34.482792\n",
       "4  4639.0  4522.245117  -2.516811"
      ]
     },
     "execution_count": 37,
     "metadata": {},
     "output_type": "execute_result"
    }
   ],
   "source": [
    "df_result['Diff'] = 100 * (df_result['Prediction'] - df_result['Actual']) / df_result['Actual']\n",
    "df_result.head()"
   ]
  },
  {
   "cell_type": "code",
   "execution_count": 38,
   "metadata": {},
   "outputs": [
    {
     "data": {
      "text/plain": [
       "<AxesSubplot:>"
      ]
     },
     "execution_count": 38,
     "metadata": {},
     "output_type": "execute_result"
    },
    {
     "data": {
      "image/png": "[encoded data removed]",
      "text/plain": [
       "<Figure size 1080x720 with 1 Axes>"
      ]
     },
     "metadata": {
      "needs_background": "light"
     },
     "output_type": "display_data"
    }
   ],
   "source": [
    "df_result[[\"Actual\", \"Prediction\"]].plot(figsize=(15, 10))"
   ]
  },
  {
   "cell_type": "code",
   "execution_count": null,
   "metadata": {},
   "outputs": [],
   "source": []
  },
  {
   "cell_type": "code",
   "execution_count": null,
   "metadata": {},
   "outputs": [],
   "source": []
  },
  {
   "cell_type": "code",
   "execution_count": null,
   "metadata": {},
   "outputs": [],
   "source": []
  }
 ],
 "metadata": {
  "kernelspec": {
   "display_name": "Python 3 (ipykernel)",
   "language": "python",
   "name": "python3"
  },
  "language_info": {
   "codemirror_mode": {
    "name": "ipython",
    "version": 3
   },
   "file_extension": ".py",
   "mimetype": "text/x-python",
   "name": "python",
   "nbconvert_exporter": "python",
   "pygments_lexer": "ipython3",
   "version": "3.9.6"
  },
  "toc-autonumbering": true
 },
 "nbformat": 4,
 "nbformat_minor": 4
}
