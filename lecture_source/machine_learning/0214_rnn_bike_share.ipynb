{
 "cells": [
  {
   "cell_type": "markdown",
   "metadata": {},
   "source": [
    "<div class=\"alert alert-block alert-success\">\n",
    "    <b><center>CONVOLUTON NEURAL NETWORK</center></b>\n",
    "    <b><center>MNIST 데이터로 DNN 구현해 보기</center></b>\n",
    "</div>"
   ]
  },
  {
   "cell_type": "markdown",
   "metadata": {},
   "source": [
    "# Configure Learning Environment"
   ]
  },
  {
   "cell_type": "code",
   "execution_count": 1,
   "metadata": {},
   "outputs": [],
   "source": [
    "# !pip install git+https://github.com/nockchun/rspy --force\n",
    "import rspy as rsp\n",
    "rsp.setSystemWarning(off=True)"
   ]
  },
  {
   "cell_type": "code",
   "execution_count": 2,
   "metadata": {},
   "outputs": [],
   "source": [
    "import numpy as np\n",
    "import matplotlib.pyplot as plt\n",
    "\n",
    "import pandas as pd\n",
    "import sklearn.preprocessing as skpreproc\n",
    "from ipywidgets import interact\n",
    "import tensorflow as tf\n",
    "from tensorflow.keras import utils, layers, models, losses, preprocessing"
   ]
  },
  {
   "cell_type": "code",
   "execution_count": 3,
   "metadata": {},
   "outputs": [
    {
     "data": {
      "text/plain": [
       "'2.4.1'"
      ]
     },
     "execution_count": 3,
     "metadata": {},
     "output_type": "execute_result"
    }
   ],
   "source": [
    "np.set_printoptions(linewidth=200, precision=2)\n",
    "tf.__version__"
   ]
  },
  {
   "cell_type": "markdown",
   "metadata": {},
   "source": [
    "# Data Loading"
   ]
  },
  {
   "cell_type": "markdown",
   "metadata": {},
   "source": [
    "* UCI Machine Learning Repository 데이터 이용\n",
    "* https://archive.ics.uci.edu/ml/datasets/bike+sharing+dataset#"
   ]
  },
  {
   "cell_type": "code",
   "execution_count": 4,
   "metadata": {},
   "outputs": [],
   "source": [
    "originData = pd.read_csv(\"resources/bike_share_day.csv\")"
   ]
  },
  {
   "cell_type": "code",
   "execution_count": 5,
   "metadata": {},
   "outputs": [
    {
     "data": {
      "text/html": [
       "<div>\n",
       "<style scoped>\n",
       "    .dataframe tbody tr th:only-of-type {\n",
       "        vertical-align: middle;\n",
       "    }\n",
       "\n",
       "    .dataframe tbody tr th {\n",
       "        vertical-align: top;\n",
       "    }\n",
       "\n",
       "    .dataframe thead th {\n",
       "        text-align: right;\n",
       "    }\n",
       "</style>\n",
       "<table border=\"1\" class=\"dataframe\">\n",
       "  <thead>\n",
       "    <tr style=\"text-align: right;\">\n",
       "      <th></th>\n",
       "      <th>instant</th>\n",
       "      <th>dteday</th>\n",
       "      <th>season</th>\n",
       "      <th>yr</th>\n",
       "      <th>mnth</th>\n",
       "      <th>holiday</th>\n",
       "      <th>weekday</th>\n",
       "      <th>workingday</th>\n",
       "      <th>weathersit</th>\n",
       "      <th>temp</th>\n",
       "      <th>atemp</th>\n",
       "      <th>hum</th>\n",
       "      <th>windspeed</th>\n",
       "      <th>casual</th>\n",
       "      <th>registered</th>\n",
       "      <th>cnt</th>\n",
       "    </tr>\n",
       "  </thead>\n",
       "  <tbody>\n",
       "    <tr>\n",
       "      <th>0</th>\n",
       "      <td>1</td>\n",
       "      <td>2011-01-01</td>\n",
       "      <td>1</td>\n",
       "      <td>0</td>\n",
       "      <td>1</td>\n",
       "      <td>0</td>\n",
       "      <td>6</td>\n",
       "      <td>0</td>\n",
       "      <td>2</td>\n",
       "      <td>0.344167</td>\n",
       "      <td>0.363625</td>\n",
       "      <td>0.805833</td>\n",
       "      <td>0.160446</td>\n",
       "      <td>331</td>\n",
       "      <td>654</td>\n",
       "      <td>985</td>\n",
       "    </tr>\n",
       "    <tr>\n",
       "      <th>1</th>\n",
       "      <td>2</td>\n",
       "      <td>2011-01-02</td>\n",
       "      <td>1</td>\n",
       "      <td>0</td>\n",
       "      <td>1</td>\n",
       "      <td>0</td>\n",
       "      <td>0</td>\n",
       "      <td>0</td>\n",
       "      <td>2</td>\n",
       "      <td>0.363478</td>\n",
       "      <td>0.353739</td>\n",
       "      <td>0.696087</td>\n",
       "      <td>0.248539</td>\n",
       "      <td>131</td>\n",
       "      <td>670</td>\n",
       "      <td>801</td>\n",
       "    </tr>\n",
       "    <tr>\n",
       "      <th>2</th>\n",
       "      <td>3</td>\n",
       "      <td>2011-01-03</td>\n",
       "      <td>1</td>\n",
       "      <td>0</td>\n",
       "      <td>1</td>\n",
       "      <td>0</td>\n",
       "      <td>1</td>\n",
       "      <td>1</td>\n",
       "      <td>1</td>\n",
       "      <td>0.196364</td>\n",
       "      <td>0.189405</td>\n",
       "      <td>0.437273</td>\n",
       "      <td>0.248309</td>\n",
       "      <td>120</td>\n",
       "      <td>1229</td>\n",
       "      <td>1349</td>\n",
       "    </tr>\n",
       "    <tr>\n",
       "      <th>3</th>\n",
       "      <td>4</td>\n",
       "      <td>2011-01-04</td>\n",
       "      <td>1</td>\n",
       "      <td>0</td>\n",
       "      <td>1</td>\n",
       "      <td>0</td>\n",
       "      <td>2</td>\n",
       "      <td>1</td>\n",
       "      <td>1</td>\n",
       "      <td>0.200000</td>\n",
       "      <td>0.212122</td>\n",
       "      <td>0.590435</td>\n",
       "      <td>0.160296</td>\n",
       "      <td>108</td>\n",
       "      <td>1454</td>\n",
       "      <td>1562</td>\n",
       "    </tr>\n",
       "    <tr>\n",
       "      <th>4</th>\n",
       "      <td>5</td>\n",
       "      <td>2011-01-05</td>\n",
       "      <td>1</td>\n",
       "      <td>0</td>\n",
       "      <td>1</td>\n",
       "      <td>0</td>\n",
       "      <td>3</td>\n",
       "      <td>1</td>\n",
       "      <td>1</td>\n",
       "      <td>0.226957</td>\n",
       "      <td>0.229270</td>\n",
       "      <td>0.436957</td>\n",
       "      <td>0.186900</td>\n",
       "      <td>82</td>\n",
       "      <td>1518</td>\n",
       "      <td>1600</td>\n",
       "    </tr>\n",
       "  </tbody>\n",
       "</table>\n",
       "</div>"
      ],
      "text/plain": [
       "   instant      dteday  season  yr  mnth  holiday  weekday  workingday  \\\n",
       "0        1  2011-01-01       1   0     1        0        6           0   \n",
       "1        2  2011-01-02       1   0     1        0        0           0   \n",
       "2        3  2011-01-03       1   0     1        0        1           1   \n",
       "3        4  2011-01-04       1   0     1        0        2           1   \n",
       "4        5  2011-01-05       1   0     1        0        3           1   \n",
       "\n",
       "   weathersit      temp     atemp       hum  windspeed  casual  registered  \\\n",
       "0           2  0.344167  0.363625  0.805833   0.160446     331         654   \n",
       "1           2  0.363478  0.353739  0.696087   0.248539     131         670   \n",
       "2           1  0.196364  0.189405  0.437273   0.248309     120        1229   \n",
       "3           1  0.200000  0.212122  0.590435   0.160296     108        1454   \n",
       "4           1  0.226957  0.229270  0.436957   0.186900      82        1518   \n",
       "\n",
       "    cnt  \n",
       "0   985  \n",
       "1   801  \n",
       "2  1349  \n",
       "3  1562  \n",
       "4  1600  "
      ]
     },
     "execution_count": 5,
     "metadata": {},
     "output_type": "execute_result"
    }
   ],
   "source": [
    "originData.head()"
   ]
  },
  {
   "cell_type": "code",
   "execution_count": 6,
   "metadata": {},
   "outputs": [
    {
     "data": {
      "text/plain": [
       "(731, 16)"
      ]
     },
     "execution_count": 6,
     "metadata": {},
     "output_type": "execute_result"
    }
   ],
   "source": [
    "originData.shape"
   ]
  },
  {
   "cell_type": "markdown",
   "metadata": {},
   "source": [
    "# Data Exploration & Analysis"
   ]
  },
  {
   "cell_type": "markdown",
   "metadata": {},
   "source": [
    "## 데이터 내용\n",
    ">* instant : 기록 순서\n",
    ">* dteday : 기록 날짜\n",
    ">* season : 계절 [1:봄, 2:여름, 3:가을, 4:겨울]\n",
    ">* yr : 년\n",
    ">* mnth : 월 [1-12]\n",
    ">* holiday : 국경일 유무 [0:무, 1:유]\n",
    ">* weekday : 요일 [0:일, 1:월, 2:화, 3:수, 4:목, 5:금, 6:토]\n",
    ">* workingday : 휴무일 유무 [0:일하는 날, 1:쉬는 날]\n",
    ">* weathersit\n",
    "    - 1: Clear, Few clouds, Partly cloudy, Partly cloudy\n",
    "    - 2: Mist + Cloudy, Mist + Broken clouds, Mist + Few clouds, Mist\n",
    "    - 3: Light Snow, Light Rain + Thunderstorm + Scattered clouds, Light Rain + Scattered clouds\n",
    "    - 4: Heavy Rain + Ice Pallets + Thunderstorm + Mist, Snow + Fog\n",
    ">* temp : 정규화된 섭씨 온도(℃)\n",
    ">* atemp : 정규화된 체감 온도. (t-t_min)/(t_max-t_min), t_min=-16, t_max=+50\n",
    ">* hum : 정규화된 습도.\n",
    ">* windspeed : 정규화된 풍속.\n",
    ">* casual : 일반 사용자.\n",
    ">* registered : 예약 사용자.\n",
    ">* cnt : 일반 + 예약 사용자. (전체 사용자)"
   ]
  },
  {
   "cell_type": "code",
   "execution_count": 7,
   "metadata": {},
   "outputs": [
    {
     "data": {
      "application/vnd.jupyter.widget-view+json": {
       "model_id": "d18a33178ce948479db55296a347d6aa",
       "version_major": 2,
       "version_minor": 0
      },
      "text/plain": [
       "interactive(children=(Dropdown(description='compare', options=('season', 'mnth', 'holiday', 'weekday', 'workin…"
      ]
     },
     "metadata": {},
     "output_type": "display_data"
    }
   ],
   "source": [
    "cols = [\"season\", \"mnth\", \"holiday\", \"weekday\", \"workingday\", \"weathersit\", \"atemp\", \"hum\", \"windspeed\"]\n",
    "@interact(compare=cols)\n",
    "def exploration(compare):\n",
    "    fig, ax1 = plt.subplots(figsize=(30, 8))\n",
    "    ax2 = ax1.twinx()\n",
    "    \n",
    "    ax1.plot(originData.cnt.values, color=\"#3186ad\", label=\"cnt\")\n",
    "    ax1.plot(originData.casual.values, color=\"#bebebe\", label=\"casual\")\n",
    "    ax1.plot(originData.registered.values, color=\"#878787\", label=\"registered\")\n",
    "    ax1.set_ylabel(\"cnt\")\n",
    "\n",
    "    ax2.plot(originData[compare].values, color=\"red\", alpha=0.7, label=\"compare\")\n",
    "    ax2.set_ylabel(compare)\n",
    "    \n",
    "    ax1.legend(title=\"Species\", loc=\"upper left\")\n",
    "    plt.show()"
   ]
  },
  {
   "cell_type": "markdown",
   "metadata": {},
   "source": [
    "# Preprocessing Data"
   ]
  },
  {
   "cell_type": "markdown",
   "metadata": {},
   "source": [
    "## one-hot encoding"
   ]
  },
  {
   "cell_type": "code",
   "execution_count": 8,
   "metadata": {},
   "outputs": [],
   "source": [
    "onehotWeekday = pd.get_dummies(originData[\"weekday\"], prefix=\"weekday\")\n",
    "onehotWeathersit = pd.get_dummies(originData[\"weathersit\"], prefix=\"weathersit\")\n",
    "onehotMnth = pd.get_dummies(originData[\"mnth\"], prefix=\"mnth\")"
   ]
  },
  {
   "cell_type": "code",
   "execution_count": 9,
   "metadata": {},
   "outputs": [],
   "source": [
    "data = originData.join(onehotWeekday).join(onehotWeathersit).join(onehotMnth)"
   ]
  },
  {
   "cell_type": "code",
   "execution_count": 10,
   "metadata": {},
   "outputs": [
    {
     "name": "stdout",
     "output_type": "stream",
     "text": [
      "['instant', 'dteday', 'season', 'yr', 'mnth', 'holiday', 'weekday', 'workingday', 'weathersit', 'temp', 'atemp', 'hum', 'windspeed', 'casual', 'registered', 'cnt', 'weekday_0', 'weekday_1', 'weekday_2', 'weekday_3', 'weekday_4', 'weekday_5', 'weekday_6', 'weathersit_1', 'weathersit_2', 'weathersit_3', 'mnth_1', 'mnth_2', 'mnth_3', 'mnth_4', 'mnth_5', 'mnth_6', 'mnth_7', 'mnth_8', 'mnth_9', 'mnth_10', 'mnth_11', 'mnth_12']\n"
     ]
    }
   ],
   "source": [
    "print(list(data.columns))"
   ]
  },
  {
   "cell_type": "markdown",
   "metadata": {},
   "source": [
    "## Scaling Y"
   ]
  },
  {
   "cell_type": "code",
   "execution_count": 11,
   "metadata": {},
   "outputs": [],
   "source": [
    "scaler = skpreproc.MinMaxScaler((0, 1))\n",
    "scaled = scaler.fit_transform( data[\"cnt\"].values.reshape(len(data[\"cnt\"]), 1) )\n",
    "scaledSeries = pd.DataFrame(scaled)\n",
    "scaledSeries.columns = [\"cntscl\"]"
   ]
  },
  {
   "cell_type": "code",
   "execution_count": 12,
   "metadata": {},
   "outputs": [
    {
     "data": {
      "text/html": [
       "<div>\n",
       "<style scoped>\n",
       "    .dataframe tbody tr th:only-of-type {\n",
       "        vertical-align: middle;\n",
       "    }\n",
       "\n",
       "    .dataframe tbody tr th {\n",
       "        vertical-align: top;\n",
       "    }\n",
       "\n",
       "    .dataframe thead th {\n",
       "        text-align: right;\n",
       "    }\n",
       "</style>\n",
       "<table border=\"1\" class=\"dataframe\">\n",
       "  <thead>\n",
       "    <tr style=\"text-align: right;\">\n",
       "      <th></th>\n",
       "      <th>instant</th>\n",
       "      <th>dteday</th>\n",
       "      <th>season</th>\n",
       "      <th>yr</th>\n",
       "      <th>mnth</th>\n",
       "      <th>holiday</th>\n",
       "      <th>weekday</th>\n",
       "      <th>workingday</th>\n",
       "      <th>weathersit</th>\n",
       "      <th>temp</th>\n",
       "      <th>...</th>\n",
       "      <th>mnth_4</th>\n",
       "      <th>mnth_5</th>\n",
       "      <th>mnth_6</th>\n",
       "      <th>mnth_7</th>\n",
       "      <th>mnth_8</th>\n",
       "      <th>mnth_9</th>\n",
       "      <th>mnth_10</th>\n",
       "      <th>mnth_11</th>\n",
       "      <th>mnth_12</th>\n",
       "      <th>cntscl</th>\n",
       "    </tr>\n",
       "  </thead>\n",
       "  <tbody>\n",
       "    <tr>\n",
       "      <th>0</th>\n",
       "      <td>1</td>\n",
       "      <td>2011-01-01</td>\n",
       "      <td>1</td>\n",
       "      <td>0</td>\n",
       "      <td>1</td>\n",
       "      <td>0</td>\n",
       "      <td>6</td>\n",
       "      <td>0</td>\n",
       "      <td>2</td>\n",
       "      <td>0.344167</td>\n",
       "      <td>...</td>\n",
       "      <td>0</td>\n",
       "      <td>0</td>\n",
       "      <td>0</td>\n",
       "      <td>0</td>\n",
       "      <td>0</td>\n",
       "      <td>0</td>\n",
       "      <td>0</td>\n",
       "      <td>0</td>\n",
       "      <td>0</td>\n",
       "      <td>0.110792</td>\n",
       "    </tr>\n",
       "    <tr>\n",
       "      <th>1</th>\n",
       "      <td>2</td>\n",
       "      <td>2011-01-02</td>\n",
       "      <td>1</td>\n",
       "      <td>0</td>\n",
       "      <td>1</td>\n",
       "      <td>0</td>\n",
       "      <td>0</td>\n",
       "      <td>0</td>\n",
       "      <td>2</td>\n",
       "      <td>0.363478</td>\n",
       "      <td>...</td>\n",
       "      <td>0</td>\n",
       "      <td>0</td>\n",
       "      <td>0</td>\n",
       "      <td>0</td>\n",
       "      <td>0</td>\n",
       "      <td>0</td>\n",
       "      <td>0</td>\n",
       "      <td>0</td>\n",
       "      <td>0</td>\n",
       "      <td>0.089623</td>\n",
       "    </tr>\n",
       "    <tr>\n",
       "      <th>2</th>\n",
       "      <td>3</td>\n",
       "      <td>2011-01-03</td>\n",
       "      <td>1</td>\n",
       "      <td>0</td>\n",
       "      <td>1</td>\n",
       "      <td>0</td>\n",
       "      <td>1</td>\n",
       "      <td>1</td>\n",
       "      <td>1</td>\n",
       "      <td>0.196364</td>\n",
       "      <td>...</td>\n",
       "      <td>0</td>\n",
       "      <td>0</td>\n",
       "      <td>0</td>\n",
       "      <td>0</td>\n",
       "      <td>0</td>\n",
       "      <td>0</td>\n",
       "      <td>0</td>\n",
       "      <td>0</td>\n",
       "      <td>0</td>\n",
       "      <td>0.152669</td>\n",
       "    </tr>\n",
       "    <tr>\n",
       "      <th>3</th>\n",
       "      <td>4</td>\n",
       "      <td>2011-01-04</td>\n",
       "      <td>1</td>\n",
       "      <td>0</td>\n",
       "      <td>1</td>\n",
       "      <td>0</td>\n",
       "      <td>2</td>\n",
       "      <td>1</td>\n",
       "      <td>1</td>\n",
       "      <td>0.200000</td>\n",
       "      <td>...</td>\n",
       "      <td>0</td>\n",
       "      <td>0</td>\n",
       "      <td>0</td>\n",
       "      <td>0</td>\n",
       "      <td>0</td>\n",
       "      <td>0</td>\n",
       "      <td>0</td>\n",
       "      <td>0</td>\n",
       "      <td>0</td>\n",
       "      <td>0.177174</td>\n",
       "    </tr>\n",
       "    <tr>\n",
       "      <th>4</th>\n",
       "      <td>5</td>\n",
       "      <td>2011-01-05</td>\n",
       "      <td>1</td>\n",
       "      <td>0</td>\n",
       "      <td>1</td>\n",
       "      <td>0</td>\n",
       "      <td>3</td>\n",
       "      <td>1</td>\n",
       "      <td>1</td>\n",
       "      <td>0.226957</td>\n",
       "      <td>...</td>\n",
       "      <td>0</td>\n",
       "      <td>0</td>\n",
       "      <td>0</td>\n",
       "      <td>0</td>\n",
       "      <td>0</td>\n",
       "      <td>0</td>\n",
       "      <td>0</td>\n",
       "      <td>0</td>\n",
       "      <td>0</td>\n",
       "      <td>0.181546</td>\n",
       "    </tr>\n",
       "    <tr>\n",
       "      <th>...</th>\n",
       "      <td>...</td>\n",
       "      <td>...</td>\n",
       "      <td>...</td>\n",
       "      <td>...</td>\n",
       "      <td>...</td>\n",
       "      <td>...</td>\n",
       "      <td>...</td>\n",
       "      <td>...</td>\n",
       "      <td>...</td>\n",
       "      <td>...</td>\n",
       "      <td>...</td>\n",
       "      <td>...</td>\n",
       "      <td>...</td>\n",
       "      <td>...</td>\n",
       "      <td>...</td>\n",
       "      <td>...</td>\n",
       "      <td>...</td>\n",
       "      <td>...</td>\n",
       "      <td>...</td>\n",
       "      <td>...</td>\n",
       "      <td>...</td>\n",
       "    </tr>\n",
       "    <tr>\n",
       "      <th>726</th>\n",
       "      <td>727</td>\n",
       "      <td>2012-12-27</td>\n",
       "      <td>1</td>\n",
       "      <td>1</td>\n",
       "      <td>12</td>\n",
       "      <td>0</td>\n",
       "      <td>4</td>\n",
       "      <td>1</td>\n",
       "      <td>2</td>\n",
       "      <td>0.254167</td>\n",
       "      <td>...</td>\n",
       "      <td>0</td>\n",
       "      <td>0</td>\n",
       "      <td>0</td>\n",
       "      <td>0</td>\n",
       "      <td>0</td>\n",
       "      <td>0</td>\n",
       "      <td>0</td>\n",
       "      <td>0</td>\n",
       "      <td>1</td>\n",
       "      <td>0.240681</td>\n",
       "    </tr>\n",
       "    <tr>\n",
       "      <th>727</th>\n",
       "      <td>728</td>\n",
       "      <td>2012-12-28</td>\n",
       "      <td>1</td>\n",
       "      <td>1</td>\n",
       "      <td>12</td>\n",
       "      <td>0</td>\n",
       "      <td>5</td>\n",
       "      <td>1</td>\n",
       "      <td>2</td>\n",
       "      <td>0.253333</td>\n",
       "      <td>...</td>\n",
       "      <td>0</td>\n",
       "      <td>0</td>\n",
       "      <td>0</td>\n",
       "      <td>0</td>\n",
       "      <td>0</td>\n",
       "      <td>0</td>\n",
       "      <td>0</td>\n",
       "      <td>0</td>\n",
       "      <td>1</td>\n",
       "      <td>0.353543</td>\n",
       "    </tr>\n",
       "    <tr>\n",
       "      <th>728</th>\n",
       "      <td>729</td>\n",
       "      <td>2012-12-29</td>\n",
       "      <td>1</td>\n",
       "      <td>1</td>\n",
       "      <td>12</td>\n",
       "      <td>0</td>\n",
       "      <td>6</td>\n",
       "      <td>0</td>\n",
       "      <td>2</td>\n",
       "      <td>0.253333</td>\n",
       "      <td>...</td>\n",
       "      <td>0</td>\n",
       "      <td>0</td>\n",
       "      <td>0</td>\n",
       "      <td>0</td>\n",
       "      <td>0</td>\n",
       "      <td>0</td>\n",
       "      <td>0</td>\n",
       "      <td>0</td>\n",
       "      <td>1</td>\n",
       "      <td>0.151749</td>\n",
       "    </tr>\n",
       "    <tr>\n",
       "      <th>729</th>\n",
       "      <td>730</td>\n",
       "      <td>2012-12-30</td>\n",
       "      <td>1</td>\n",
       "      <td>1</td>\n",
       "      <td>12</td>\n",
       "      <td>0</td>\n",
       "      <td>0</td>\n",
       "      <td>0</td>\n",
       "      <td>1</td>\n",
       "      <td>0.255833</td>\n",
       "      <td>...</td>\n",
       "      <td>0</td>\n",
       "      <td>0</td>\n",
       "      <td>0</td>\n",
       "      <td>0</td>\n",
       "      <td>0</td>\n",
       "      <td>0</td>\n",
       "      <td>0</td>\n",
       "      <td>0</td>\n",
       "      <td>1</td>\n",
       "      <td>0.204096</td>\n",
       "    </tr>\n",
       "    <tr>\n",
       "      <th>730</th>\n",
       "      <td>731</td>\n",
       "      <td>2012-12-31</td>\n",
       "      <td>1</td>\n",
       "      <td>1</td>\n",
       "      <td>12</td>\n",
       "      <td>0</td>\n",
       "      <td>1</td>\n",
       "      <td>1</td>\n",
       "      <td>2</td>\n",
       "      <td>0.215833</td>\n",
       "      <td>...</td>\n",
       "      <td>0</td>\n",
       "      <td>0</td>\n",
       "      <td>0</td>\n",
       "      <td>0</td>\n",
       "      <td>0</td>\n",
       "      <td>0</td>\n",
       "      <td>0</td>\n",
       "      <td>0</td>\n",
       "      <td>1</td>\n",
       "      <td>0.311436</td>\n",
       "    </tr>\n",
       "  </tbody>\n",
       "</table>\n",
       "<p>731 rows × 39 columns</p>\n",
       "</div>"
      ],
      "text/plain": [
       "     instant      dteday  season  yr  mnth  holiday  weekday  workingday  \\\n",
       "0          1  2011-01-01       1   0     1        0        6           0   \n",
       "1          2  2011-01-02       1   0     1        0        0           0   \n",
       "2          3  2011-01-03       1   0     1        0        1           1   \n",
       "3          4  2011-01-04       1   0     1        0        2           1   \n",
       "4          5  2011-01-05       1   0     1        0        3           1   \n",
       "..       ...         ...     ...  ..   ...      ...      ...         ...   \n",
       "726      727  2012-12-27       1   1    12        0        4           1   \n",
       "727      728  2012-12-28       1   1    12        0        5           1   \n",
       "728      729  2012-12-29       1   1    12        0        6           0   \n",
       "729      730  2012-12-30       1   1    12        0        0           0   \n",
       "730      731  2012-12-31       1   1    12        0        1           1   \n",
       "\n",
       "     weathersit      temp  ...  mnth_4  mnth_5  mnth_6  mnth_7  mnth_8  \\\n",
       "0             2  0.344167  ...       0       0       0       0       0   \n",
       "1             2  0.363478  ...       0       0       0       0       0   \n",
       "2             1  0.196364  ...       0       0       0       0       0   \n",
       "3             1  0.200000  ...       0       0       0       0       0   \n",
       "4             1  0.226957  ...       0       0       0       0       0   \n",
       "..          ...       ...  ...     ...     ...     ...     ...     ...   \n",
       "726           2  0.254167  ...       0       0       0       0       0   \n",
       "727           2  0.253333  ...       0       0       0       0       0   \n",
       "728           2  0.253333  ...       0       0       0       0       0   \n",
       "729           1  0.255833  ...       0       0       0       0       0   \n",
       "730           2  0.215833  ...       0       0       0       0       0   \n",
       "\n",
       "     mnth_9  mnth_10  mnth_11  mnth_12    cntscl  \n",
       "0         0        0        0        0  0.110792  \n",
       "1         0        0        0        0  0.089623  \n",
       "2         0        0        0        0  0.152669  \n",
       "3         0        0        0        0  0.177174  \n",
       "4         0        0        0        0  0.181546  \n",
       "..      ...      ...      ...      ...       ...  \n",
       "726       0        0        0        1  0.240681  \n",
       "727       0        0        0        1  0.353543  \n",
       "728       0        0        0        1  0.151749  \n",
       "729       0        0        0        1  0.204096  \n",
       "730       0        0        0        1  0.311436  \n",
       "\n",
       "[731 rows x 39 columns]"
      ]
     },
     "execution_count": 12,
     "metadata": {},
     "output_type": "execute_result"
    }
   ],
   "source": [
    "data = pd.merge(data, scaledSeries, left_index=True, right_index=True)\n",
    "data"
   ]
  },
  {
   "cell_type": "markdown",
   "metadata": {},
   "source": [
    "## Splitting"
   ]
  },
  {
   "cell_type": "code",
   "execution_count": 13,
   "metadata": {},
   "outputs": [
    {
     "data": {
      "text/plain": [
       "'SPLIT [total:731, train:631, test:50, holdout:50]'"
      ]
     },
     "execution_count": 13,
     "metadata": {},
     "output_type": "execute_result"
    }
   ],
   "source": [
    "SIZE_DATA_TEST   = 50\n",
    "SIZE_DATA_HOLDOUT = 50\n",
    "SIZE_DATA_TRAIN   = len(data) - SIZE_DATA_TEST - SIZE_DATA_HOLDOUT\n",
    "f\"SPLIT [total:{len(data)}, train:{SIZE_DATA_TRAIN}, test:{SIZE_DATA_TEST}, holdout:{SIZE_DATA_HOLDOUT}]\""
   ]
  },
  {
   "cell_type": "code",
   "execution_count": 14,
   "metadata": {},
   "outputs": [],
   "source": [
    "dataTrain = data[:SIZE_DATA_TRAIN]\n",
    "dataTest = data[-(SIZE_DATA_TEST+SIZE_DATA_HOLDOUT):-SIZE_DATA_HOLDOUT]\n",
    "dataHold = data[-SIZE_DATA_HOLDOUT:]"
   ]
  },
  {
   "cell_type": "markdown",
   "metadata": {},
   "source": [
    "# Prepare Data"
   ]
  },
  {
   "cell_type": "code",
   "execution_count": 15,
   "metadata": {},
   "outputs": [
    {
     "data": {
      "text/plain": [
       "((631, 17), (631, 1))"
      ]
     },
     "execution_count": 15,
     "metadata": {},
     "output_type": "execute_result"
    }
   ],
   "source": [
    "dataTrainFeed = np.array(dataTrain[\n",
    "    [\"holiday\", \"workingday\", \"temp\", \"atemp\", \"hum\", \"windspeed\",\n",
    "     \"weekday_0\", \"weekday_1\", \"weekday_2\", \"weekday_3\", \"weekday_4\", \"weekday_5\", \"weekday_6\",\n",
    "     \"weathersit_1\", \"weathersit_2\", \"weathersit_3\", \"cntscl\"]])\n",
    "outSeqTrain = np.array(dataTrain[\"cntscl\"]).reshape((-1, 1))\n",
    "dataTrainFeed.shape, outSeqTrain.shape"
   ]
  },
  {
   "cell_type": "code",
   "execution_count": 16,
   "metadata": {},
   "outputs": [
    {
     "data": {
      "text/plain": [
       "((50, 17), (50, 1))"
      ]
     },
     "execution_count": 16,
     "metadata": {},
     "output_type": "execute_result"
    }
   ],
   "source": [
    "dataTestFeed = np.array(dataTest[\n",
    "    [\"holiday\", \"workingday\", \"temp\", \"atemp\", \"hum\", \"windspeed\",\n",
    "     \"weekday_0\", \"weekday_1\", \"weekday_2\", \"weekday_3\", \"weekday_4\", \"weekday_5\", \"weekday_6\",\n",
    "     \"weathersit_1\", \"weathersit_2\", \"weathersit_3\", \"cntscl\"]])\n",
    "outSeqTest = np.array(dataTest[\"cntscl\"]).reshape((-1, 1))\n",
    "dataTestFeed.shape, outSeqTest.shape"
   ]
  },
  {
   "cell_type": "code",
   "execution_count": 17,
   "metadata": {},
   "outputs": [
    {
     "data": {
      "text/plain": [
       "((50, 17), (50, 1))"
      ]
     },
     "execution_count": 17,
     "metadata": {},
     "output_type": "execute_result"
    }
   ],
   "source": [
    "dataHoldFeed = np.array(dataHold[\n",
    "    [\"holiday\", \"workingday\", \"temp\", \"atemp\", \"hum\", \"windspeed\",\n",
    "     \"weekday_0\", \"weekday_1\", \"weekday_2\", \"weekday_3\", \"weekday_4\", \"weekday_5\", \"weekday_6\",\n",
    "     \"weathersit_1\", \"weathersit_2\", \"weathersit_3\", \"cntscl\"]])\n",
    "outSeqHold = np.array(dataHold[\"cntscl\"]).reshape((-1, 1))\n",
    "dataHoldFeed.shape, outSeqHold.shape"
   ]
  },
  {
   "cell_type": "code",
   "execution_count": 18,
   "metadata": {},
   "outputs": [],
   "source": [
    "SIZE_FEATURES = dataTrainFeed.shape[1]\n",
    "SIZE_INPUT = 5\n",
    "generatorTrain = preprocessing.sequence.TimeseriesGenerator(dataTrainFeed, outSeqTrain, length=SIZE_INPUT, batch_size=SIZE_DATA_TRAIN)"
   ]
  },
  {
   "cell_type": "code",
   "execution_count": 19,
   "metadata": {},
   "outputs": [],
   "source": [
    "generatorTest = preprocessing.sequence.TimeseriesGenerator(dataTestFeed, outSeqTest, length=SIZE_INPUT, batch_size=1)"
   ]
  },
  {
   "cell_type": "code",
   "execution_count": 20,
   "metadata": {},
   "outputs": [],
   "source": [
    "generatorHold = preprocessing.sequence.TimeseriesGenerator(dataHoldFeed, outSeqHold, length=SIZE_INPUT, batch_size=1)"
   ]
  },
  {
   "cell_type": "code",
   "execution_count": 21,
   "metadata": {
    "scrolled": true
   },
   "outputs": [
    {
     "name": "stdout",
     "output_type": "stream",
     "text": [
      "[[[1.   0.   0.48 0.48 0.74 0.17 0.   1.   0.   0.   0.   0.   0.   1.   0.   0.   0.72]\n",
      "  [0.   1.   0.34 0.32 0.66 0.34 0.   0.   1.   0.   0.   0.   0.   0.   1.   0.   0.47]\n",
      "  [0.   1.   0.29 0.28 0.55 0.2  0.   0.   0.   1.   0.   0.   0.   1.   0.   0.   0.63]\n",
      "  [0.   1.   0.32 0.32 0.62 0.15 0.   0.   0.   0.   1.   0.   0.   0.   1.   0.   0.62]\n",
      "  [0.   1.   0.34 0.35 0.52 0.17 0.   0.   0.   0.   0.   1.   0.   1.   0.   0.   0.65]]] => [[0.65]]\n",
      "[[[0.   1.   0.34 0.32 0.66 0.34 0.   0.   1.   0.   0.   0.   0.   0.   1.   0.   0.47]\n",
      "  [0.   1.   0.29 0.28 0.55 0.2  0.   0.   0.   1.   0.   0.   0.   1.   0.   0.   0.63]\n",
      "  [0.   1.   0.32 0.32 0.62 0.15 0.   0.   0.   0.   1.   0.   0.   0.   1.   0.   0.62]\n",
      "  [0.   1.   0.34 0.35 0.52 0.17 0.   0.   0.   0.   0.   1.   0.   1.   0.   0.   0.65]\n",
      "  [0.   0.   0.33 0.33 0.55 0.18 0.   0.   0.   0.   0.   0.   1.   1.   0.   0.   0.65]]] => [[0.53]]\n",
      "[[[0.   1.   0.29 0.28 0.55 0.2  0.   0.   0.   1.   0.   0.   0.   1.   0.   0.   0.63]\n",
      "  [0.   1.   0.32 0.32 0.62 0.15 0.   0.   0.   0.   1.   0.   0.   0.   1.   0.   0.62]\n",
      "  [0.   1.   0.34 0.35 0.52 0.17 0.   0.   0.   0.   0.   1.   0.   1.   0.   0.   0.65]\n",
      "  [0.   0.   0.33 0.33 0.55 0.18 0.   0.   0.   0.   0.   0.   1.   1.   0.   0.   0.65]\n",
      "  [0.   0.   0.34 0.34 0.69 0.23 1.   0.   0.   0.   0.   0.   0.   1.   0.   0.   0.53]]] => [[0.63]]\n",
      "[[[0.   1.   0.32 0.32 0.62 0.15 0.   0.   0.   0.   1.   0.   0.   0.   1.   0.   0.62]\n",
      "  [0.   1.   0.34 0.35 0.52 0.17 0.   0.   0.   0.   0.   1.   0.   1.   0.   0.   0.65]\n",
      "  [0.   0.   0.33 0.33 0.55 0.18 0.   0.   0.   0.   0.   0.   1.   1.   0.   0.   0.65]\n",
      "  [0.   0.   0.34 0.34 0.69 0.23 1.   0.   0.   0.   0.   0.   0.   1.   0.   0.   0.53]\n",
      "  [0.   1.   0.38 0.38 0.62 0.24 0.   1.   0.   0.   0.   0.   0.   0.   1.   0.   0.63]]] => [[0.65]]\n",
      "[[[0.   1.   0.34 0.35 0.52 0.17 0.   0.   0.   0.   0.   1.   0.   1.   0.   0.   0.65]\n",
      "  [0.   0.   0.33 0.33 0.55 0.18 0.   0.   0.   0.   0.   0.   1.   1.   0.   0.   0.65]\n",
      "  [0.   0.   0.34 0.34 0.69 0.23 1.   0.   0.   0.   0.   0.   0.   1.   0.   0.   0.53]\n",
      "  [0.   1.   0.38 0.38 0.62 0.24 0.   1.   0.   0.   0.   0.   0.   0.   1.   0.   0.63]\n",
      "  [0.   1.   0.37 0.38 0.69 0.08 0.   0.   1.   0.   0.   0.   0.   0.   1.   0.   0.65]]] => [[0.59]]\n",
      "[[[0.   0.   0.33 0.33 0.55 0.18 0.   0.   0.   0.   0.   0.   1.   1.   0.   0.   0.65]\n",
      "  [0.   0.   0.34 0.34 0.69 0.23 1.   0.   0.   0.   0.   0.   0.   1.   0.   0.   0.53]\n",
      "  [0.   1.   0.38 0.38 0.62 0.24 0.   1.   0.   0.   0.   0.   0.   0.   1.   0.   0.63]\n",
      "  [0.   1.   0.37 0.38 0.69 0.08 0.   0.   1.   0.   0.   0.   0.   0.   1.   0.   0.65]\n",
      "  [0.   1.   0.35 0.36 0.61 0.1  0.   0.   0.   1.   0.   0.   0.   1.   0.   0.   0.59]]] => [[0.28]]\n",
      "[[[0.   0.   0.34 0.34 0.69 0.23 1.   0.   0.   0.   0.   0.   0.   1.   0.   0.   0.53]\n",
      "  [0.   1.   0.38 0.38 0.62 0.24 0.   1.   0.   0.   0.   0.   0.   0.   1.   0.   0.63]\n",
      "  [0.   1.   0.37 0.38 0.69 0.08 0.   0.   1.   0.   0.   0.   0.   0.   1.   0.   0.65]\n",
      "  [0.   1.   0.35 0.36 0.61 0.1  0.   0.   0.   1.   0.   0.   0.   1.   0.   0.   0.59]\n",
      "  [1.   0.   0.34 0.35 0.58 0.05 0.   0.   0.   0.   1.   0.   0.   1.   0.   0.   0.28]]] => [[0.45]]\n",
      "[[[0.   1.   0.38 0.38 0.62 0.24 0.   1.   0.   0.   0.   0.   0.   0.   1.   0.   0.63]\n",
      "  [0.   1.   0.37 0.38 0.69 0.08 0.   0.   1.   0.   0.   0.   0.   0.   1.   0.   0.65]\n",
      "  [0.   1.   0.35 0.36 0.61 0.1  0.   0.   0.   1.   0.   0.   0.   1.   0.   0.   0.59]\n",
      "  [1.   0.   0.34 0.35 0.58 0.05 0.   0.   0.   0.   1.   0.   0.   1.   0.   0.   0.28]\n",
      "  [0.   1.   0.37 0.38 0.57 0.15 0.   0.   0.   0.   0.   1.   0.   1.   0.   0.   0.45]]] => [[0.26]]\n",
      "[[[0.   1.   0.37 0.38 0.69 0.08 0.   0.   1.   0.   0.   0.   0.   0.   1.   0.   0.65]\n",
      "  [0.   1.   0.35 0.36 0.61 0.1  0.   0.   0.   1.   0.   0.   0.   1.   0.   0.   0.59]\n",
      "  [1.   0.   0.34 0.35 0.58 0.05 0.   0.   0.   0.   1.   0.   0.   1.   0.   0.   0.28]\n",
      "  [0.   1.   0.37 0.38 0.57 0.15 0.   0.   0.   0.   0.   1.   0.   1.   0.   0.   0.45]\n",
      "  [0.   0.   0.28 0.25 0.4  0.38 0.   0.   0.   0.   0.   0.   1.   1.   0.   0.   0.26]]] => [[0.28]]\n",
      "[[[0.   1.   0.35 0.36 0.61 0.1  0.   0.   0.   1.   0.   0.   0.   1.   0.   0.   0.59]\n",
      "  [1.   0.   0.34 0.35 0.58 0.05 0.   0.   0.   0.   1.   0.   0.   1.   0.   0.   0.28]\n",
      "  [0.   1.   0.37 0.38 0.57 0.15 0.   0.   0.   0.   0.   1.   0.   1.   0.   0.   0.45]\n",
      "  [0.   0.   0.28 0.25 0.4  0.38 0.   0.   0.   0.   0.   0.   1.   1.   0.   0.   0.26]\n",
      "  [0.   0.   0.25 0.26 0.47 0.15 1.   0.   0.   0.   0.   0.   0.   1.   0.   0.   0.28]]] => [[0.58]]\n",
      "[[[1.   0.   0.34 0.35 0.58 0.05 0.   0.   0.   0.   1.   0.   0.   1.   0.   0.   0.28]\n",
      "  [0.   1.   0.37 0.38 0.57 0.15 0.   0.   0.   0.   0.   1.   0.   1.   0.   0.   0.45]\n",
      "  [0.   0.   0.28 0.25 0.4  0.38 0.   0.   0.   0.   0.   0.   1.   1.   0.   0.   0.26]\n",
      "  [0.   0.   0.25 0.26 0.47 0.15 1.   0.   0.   0.   0.   0.   0.   1.   0.   0.   0.28]\n",
      "  [0.   1.   0.31 0.34 0.54 0.05 0.   1.   0.   0.   0.   0.   0.   1.   0.   0.   0.58]]] => [[0.45]]\n",
      "[[[0.   1.   0.37 0.38 0.57 0.15 0.   0.   0.   0.   0.   1.   0.   1.   0.   0.   0.45]\n",
      "  [0.   0.   0.28 0.25 0.4  0.38 0.   0.   0.   0.   0.   0.   1.   1.   0.   0.   0.26]\n",
      "  [0.   0.   0.25 0.26 0.47 0.15 1.   0.   0.   0.   0.   0.   0.   1.   0.   0.   0.28]\n",
      "  [0.   1.   0.31 0.34 0.54 0.05 0.   1.   0.   0.   0.   0.   0.   1.   0.   0.   0.58]\n",
      "  [0.   1.   0.29 0.28 0.79 0.24 0.   0.   1.   0.   0.   0.   0.   0.   1.   0.   0.45]]] => [[0.6]]\n",
      "[[[0.   0.   0.28 0.25 0.4  0.38 0.   0.   0.   0.   0.   0.   1.   1.   0.   0.   0.26]\n",
      "  [0.   0.   0.25 0.26 0.47 0.15 1.   0.   0.   0.   0.   0.   0.   1.   0.   0.   0.28]\n",
      "  [0.   1.   0.31 0.34 0.54 0.05 0.   1.   0.   0.   0.   0.   0.   1.   0.   0.   0.58]\n",
      "  [0.   1.   0.29 0.28 0.79 0.24 0.   0.   1.   0.   0.   0.   0.   0.   1.   0.   0.45]\n",
      "  [0.   1.   0.3  0.29 0.51 0.21 0.   0.   0.   1.   0.   0.   0.   1.   0.   0.   0.6 ]]] => [[0.61]]\n",
      "[[[0.   0.   0.25 0.26 0.47 0.15 1.   0.   0.   0.   0.   0.   0.   1.   0.   0.   0.28]\n",
      "  [0.   1.   0.31 0.34 0.54 0.05 0.   1.   0.   0.   0.   0.   0.   1.   0.   0.   0.58]\n",
      "  [0.   1.   0.29 0.28 0.79 0.24 0.   0.   1.   0.   0.   0.   0.   0.   1.   0.   0.45]\n",
      "  [0.   1.   0.3  0.29 0.51 0.21 0.   0.   0.   1.   0.   0.   0.   1.   0.   0.   0.6 ]\n",
      "  [0.   1.   0.28 0.3  0.56 0.12 0.   0.   0.   0.   1.   0.   0.   1.   0.   0.   0.61]]] => [[0.65]]\n",
      "[[[0.   1.   0.31 0.34 0.54 0.05 0.   1.   0.   0.   0.   0.   0.   1.   0.   0.   0.58]\n",
      "  [0.   1.   0.29 0.28 0.79 0.24 0.   0.   1.   0.   0.   0.   0.   0.   1.   0.   0.45]\n",
      "  [0.   1.   0.3  0.29 0.51 0.21 0.   0.   0.   1.   0.   0.   0.   1.   0.   0.   0.6 ]\n",
      "  [0.   1.   0.28 0.3  0.56 0.12 0.   0.   0.   0.   1.   0.   0.   1.   0.   0.   0.61]\n",
      "  [0.   1.   0.3  0.32 0.65 0.06 0.   0.   0.   0.   0.   1.   0.   1.   0.   0.   0.65]]] => [[0.59]]\n",
      "[[[0.   1.   0.29 0.28 0.79 0.24 0.   0.   1.   0.   0.   0.   0.   0.   1.   0.   0.45]\n",
      "  [0.   1.   0.3  0.29 0.51 0.21 0.   0.   0.   1.   0.   0.   0.   1.   0.   0.   0.6 ]\n",
      "  [0.   1.   0.28 0.3  0.56 0.12 0.   0.   0.   0.   1.   0.   0.   1.   0.   0.   0.61]\n",
      "  [0.   1.   0.3  0.32 0.65 0.06 0.   0.   0.   0.   0.   1.   0.   1.   0.   0.   0.65]\n",
      "  [0.   0.   0.3  0.32 0.81 0.06 0.   0.   0.   0.   0.   0.   1.   0.   1.   0.   0.59]]] => [[0.53]]\n",
      "[[[0.   1.   0.3  0.29 0.51 0.21 0.   0.   0.   1.   0.   0.   0.   1.   0.   0.   0.6 ]\n",
      "  [0.   1.   0.28 0.3  0.56 0.12 0.   0.   0.   0.   1.   0.   0.   1.   0.   0.   0.61]\n",
      "  [0.   1.   0.3  0.32 0.65 0.06 0.   0.   0.   0.   0.   1.   0.   1.   0.   0.   0.65]\n",
      "  [0.   0.   0.3  0.32 0.81 0.06 0.   0.   0.   0.   0.   0.   1.   0.   1.   0.   0.59]\n",
      "  [0.   0.   0.35 0.36 0.82 0.12 1.   0.   0.   0.   0.   0.   0.   0.   1.   0.   0.53]]] => [[0.71]]\n",
      "[[[0.   1.   0.28 0.3  0.56 0.12 0.   0.   0.   0.   1.   0.   0.   1.   0.   0.   0.61]\n",
      "  [0.   1.   0.3  0.32 0.65 0.06 0.   0.   0.   0.   0.   1.   0.   1.   0.   0.   0.65]\n",
      "  [0.   0.   0.3  0.32 0.81 0.06 0.   0.   0.   0.   0.   0.   1.   0.   1.   0.   0.59]\n",
      "  [0.   0.   0.35 0.36 0.82 0.12 1.   0.   0.   0.   0.   0.   0.   0.   1.   0.   0.53]\n",
      "  [0.   1.   0.45 0.46 0.77 0.08 0.   1.   0.   0.   0.   0.   0.   1.   0.   0.   0.71]]] => [[0.76]]\n",
      "[[[0.   1.   0.3  0.32 0.65 0.06 0.   0.   0.   0.   0.   1.   0.   1.   0.   0.   0.65]\n",
      "  [0.   0.   0.3  0.32 0.81 0.06 0.   0.   0.   0.   0.   0.   1.   0.   1.   0.   0.59]\n",
      "  [0.   0.   0.35 0.36 0.82 0.12 1.   0.   0.   0.   0.   0.   0.   0.   1.   0.   0.53]\n",
      "  [0.   1.   0.45 0.46 0.77 0.08 0.   1.   0.   0.   0.   0.   0.   1.   0.   0.   0.71]\n",
      "  [0.   1.   0.48 0.47 0.73 0.17 0.   0.   1.   0.   0.   0.   0.   1.   0.   0.   0.76]]] => [[0.66]]\n",
      "[[[0.   0.   0.3  0.32 0.81 0.06 0.   0.   0.   0.   0.   0.   1.   0.   1.   0.   0.59]\n",
      "  [0.   0.   0.35 0.36 0.82 0.12 1.   0.   0.   0.   0.   0.   0.   0.   1.   0.   0.53]\n",
      "  [0.   1.   0.45 0.46 0.77 0.08 0.   1.   0.   0.   0.   0.   0.   1.   0.   0.   0.71]\n",
      "  [0.   1.   0.48 0.47 0.73 0.17 0.   0.   1.   0.   0.   0.   0.   1.   0.   0.   0.76]\n",
      "  [0.   1.   0.44 0.43 0.48 0.32 0.   0.   0.   1.   0.   0.   0.   1.   0.   0.   0.66]]] => [[0.62]]\n",
      "[[[0.   0.   0.35 0.36 0.82 0.12 1.   0.   0.   0.   0.   0.   0.   0.   1.   0.   0.53]\n",
      "  [0.   1.   0.45 0.46 0.77 0.08 0.   1.   0.   0.   0.   0.   0.   1.   0.   0.   0.71]\n",
      "  [0.   1.   0.48 0.47 0.73 0.17 0.   0.   1.   0.   0.   0.   0.   1.   0.   0.   0.76]\n",
      "  [0.   1.   0.44 0.43 0.48 0.32 0.   0.   0.   1.   0.   0.   0.   1.   0.   0.   0.66]\n",
      "  [0.   1.   0.26 0.26 0.51 0.17 0.   0.   0.   0.   1.   0.   0.   1.   0.   0.   0.62]]] => [[0.57]]\n",
      "[[[0.   1.   0.45 0.46 0.77 0.08 0.   1.   0.   0.   0.   0.   0.   1.   0.   0.   0.71]\n",
      "  [0.   1.   0.48 0.47 0.73 0.17 0.   0.   1.   0.   0.   0.   0.   1.   0.   0.   0.76]\n",
      "  [0.   1.   0.44 0.43 0.48 0.32 0.   0.   0.   1.   0.   0.   0.   1.   0.   0.   0.66]\n",
      "  [0.   1.   0.26 0.26 0.51 0.17 0.   0.   0.   0.   1.   0.   0.   1.   0.   0.   0.62]\n",
      "  [0.   1.   0.32 0.32 0.76 0.13 0.   0.   0.   0.   0.   1.   0.   0.   1.   0.   0.57]]] => [[0.64]]\n",
      "[[[0.   1.   0.48 0.47 0.73 0.17 0.   0.   1.   0.   0.   0.   0.   1.   0.   0.   0.76]\n",
      "  [0.   1.   0.44 0.43 0.48 0.32 0.   0.   0.   1.   0.   0.   0.   1.   0.   0.   0.66]\n",
      "  [0.   1.   0.26 0.26 0.51 0.17 0.   0.   0.   0.   1.   0.   0.   1.   0.   0.   0.62]\n",
      "  [0.   1.   0.32 0.32 0.76 0.13 0.   0.   0.   0.   0.   1.   0.   0.   1.   0.   0.57]\n",
      "  [0.   0.   0.38 0.39 0.91 0.1  0.   0.   0.   0.   0.   0.   1.   0.   1.   0.   0.64]]] => [[0.37]]\n",
      "[[[0.   1.   0.44 0.43 0.48 0.32 0.   0.   0.   1.   0.   0.   0.   1.   0.   0.   0.66]\n",
      "  [0.   1.   0.26 0.26 0.51 0.17 0.   0.   0.   0.   1.   0.   0.   1.   0.   0.   0.62]\n",
      "  [0.   1.   0.32 0.32 0.76 0.13 0.   0.   0.   0.   0.   1.   0.   0.   1.   0.   0.57]\n",
      "  [0.   0.   0.38 0.39 0.91 0.1  0.   0.   0.   0.   0.   0.   1.   0.   1.   0.   0.64]\n",
      "  [0.   0.   0.38 0.39 0.91 0.16 1.   0.   0.   0.   0.   0.   0.   0.   1.   0.   0.37]]] => [[0.59]]\n",
      "[[[0.   1.   0.26 0.26 0.51 0.17 0.   0.   0.   0.   1.   0.   0.   1.   0.   0.   0.62]\n",
      "  [0.   1.   0.32 0.32 0.76 0.13 0.   0.   0.   0.   0.   1.   0.   0.   1.   0.   0.57]\n",
      "  [0.   0.   0.38 0.39 0.91 0.1  0.   0.   0.   0.   0.   0.   1.   0.   1.   0.   0.64]\n",
      "  [0.   0.   0.38 0.39 0.91 0.16 1.   0.   0.   0.   0.   0.   0.   0.   1.   0.   0.37]\n",
      "  [0.   1.   0.44 0.44 0.93 0.19 0.   1.   0.   0.   0.   0.   0.   0.   1.   0.   0.59]]] => [[0.63]]\n",
      "[[[0.   1.   0.32 0.32 0.76 0.13 0.   0.   0.   0.   0.   1.   0.   0.   1.   0.   0.57]\n",
      "  [0.   0.   0.38 0.39 0.91 0.1  0.   0.   0.   0.   0.   0.   1.   0.   1.   0.   0.64]\n",
      "  [0.   0.   0.38 0.39 0.91 0.16 1.   0.   0.   0.   0.   0.   0.   0.   1.   0.   0.37]\n",
      "  [0.   1.   0.44 0.44 0.93 0.19 0.   1.   0.   0.   0.   0.   0.   0.   1.   0.   0.59]\n",
      "  [0.   1.   0.35 0.34 0.6  0.3  0.   0.   1.   0.   0.   0.   0.   0.   1.   0.   0.63]]] => [[0.61]]\n",
      "[[[0.   0.   0.38 0.39 0.91 0.1  0.   0.   0.   0.   0.   0.   1.   0.   1.   0.   0.64]\n",
      "  [0.   0.   0.38 0.39 0.91 0.16 1.   0.   0.   0.   0.   0.   0.   0.   1.   0.   0.37]\n",
      "  [0.   1.   0.44 0.44 0.93 0.19 0.   1.   0.   0.   0.   0.   0.   0.   1.   0.   0.59]\n",
      "  [0.   1.   0.35 0.34 0.6  0.3  0.   0.   1.   0.   0.   0.   0.   0.   1.   0.   0.63]\n",
      "  [0.   1.   0.3  0.3  0.54 0.16 0.   0.   0.   1.   0.   0.   0.   0.   1.   0.   0.61]]] => [[0.63]]\n",
      "[[[0.   0.   0.38 0.39 0.91 0.16 1.   0.   0.   0.   0.   0.   0.   0.   1.   0.   0.37]\n",
      "  [0.   1.   0.44 0.44 0.93 0.19 0.   1.   0.   0.   0.   0.   0.   0.   1.   0.   0.59]\n",
      "  [0.   1.   0.35 0.34 0.6  0.3  0.   0.   1.   0.   0.   0.   0.   0.   1.   0.   0.63]\n",
      "  [0.   1.   0.3  0.3  0.54 0.16 0.   0.   0.   1.   0.   0.   0.   0.   1.   0.   0.61]\n",
      "  [0.   1.   0.3  0.29 0.49 0.17 0.   0.   0.   0.   1.   0.   0.   1.   0.   0.   0.63]]] => [[0.64]]\n",
      "[[[0.   1.   0.44 0.44 0.93 0.19 0.   1.   0.   0.   0.   0.   0.   0.   1.   0.   0.59]\n",
      "  [0.   1.   0.35 0.34 0.6  0.3  0.   0.   1.   0.   0.   0.   0.   0.   1.   0.   0.63]\n",
      "  [0.   1.   0.3  0.3  0.54 0.16 0.   0.   0.   1.   0.   0.   0.   0.   1.   0.   0.61]\n",
      "  [0.   1.   0.3  0.29 0.49 0.17 0.   0.   0.   0.   1.   0.   0.   1.   0.   0.   0.63]\n",
      "  [0.   1.   0.28 0.29 0.64 0.13 0.   0.   0.   0.   0.   1.   0.   1.   0.   0.   0.64]]] => [[0.58]]\n",
      "[[[0.   1.   0.35 0.34 0.6  0.3  0.   0.   1.   0.   0.   0.   0.   0.   1.   0.   0.63]\n",
      "  [0.   1.   0.3  0.3  0.54 0.16 0.   0.   0.   1.   0.   0.   0.   0.   1.   0.   0.61]\n",
      "  [0.   1.   0.3  0.29 0.49 0.17 0.   0.   0.   0.   1.   0.   0.   1.   0.   0.   0.63]\n",
      "  [0.   1.   0.28 0.29 0.64 0.13 0.   0.   0.   0.   0.   1.   0.   1.   0.   0.   0.64]\n",
      "  [0.   0.   0.32 0.34 0.65 0.11 0.   0.   0.   0.   0.   0.   1.   1.   0.   0.   0.58]]] => [[0.43]]\n",
      "[[[0.   1.   0.3  0.3  0.54 0.16 0.   0.   0.   1.   0.   0.   0.   0.   1.   0.   0.61]\n",
      "  [0.   1.   0.3  0.29 0.49 0.17 0.   0.   0.   0.   1.   0.   0.   1.   0.   0.   0.63]\n",
      "  [0.   1.   0.28 0.29 0.64 0.13 0.   0.   0.   0.   0.   1.   0.   1.   0.   0.   0.64]\n",
      "  [0.   0.   0.32 0.34 0.65 0.11 0.   0.   0.   0.   0.   0.   1.   1.   0.   0.   0.58]\n",
      "  [0.   0.   0.36 0.37 0.84 0.1  1.   0.   0.   0.   0.   0.   0.   0.   1.   0.   0.43]]] => [[0.52]]\n",
      "[[[0.   1.   0.3  0.29 0.49 0.17 0.   0.   0.   0.   1.   0.   0.   1.   0.   0.   0.63]\n",
      "  [0.   1.   0.28 0.29 0.64 0.13 0.   0.   0.   0.   0.   1.   0.   1.   0.   0.   0.64]\n",
      "  [0.   0.   0.32 0.34 0.65 0.11 0.   0.   0.   0.   0.   0.   1.   1.   0.   0.   0.58]\n",
      "  [0.   0.   0.36 0.37 0.84 0.1  1.   0.   0.   0.   0.   0.   0.   0.   1.   0.   0.43]\n",
      "  [0.   1.   0.39 0.4  0.91 0.1  0.   1.   0.   0.   0.   0.   0.   0.   1.   0.   0.52]]] => [[0.64]]\n",
      "[[[0.   1.   0.28 0.29 0.64 0.13 0.   0.   0.   0.   0.   1.   0.   1.   0.   0.   0.64]\n",
      "  [0.   0.   0.32 0.34 0.65 0.11 0.   0.   0.   0.   0.   0.   1.   1.   0.   0.   0.58]\n",
      "  [0.   0.   0.36 0.37 0.84 0.1  1.   0.   0.   0.   0.   0.   0.   0.   1.   0.   0.43]\n",
      "  [0.   1.   0.39 0.4  0.91 0.1  0.   1.   0.   0.   0.   0.   0.   0.   1.   0.   0.52]\n",
      "  [0.   1.   0.41 0.41 0.67 0.22 0.   0.   1.   0.   0.   0.   0.   1.   0.   0.   0.64]]] => [[0.6]]\n",
      "[[[0.   0.   0.32 0.34 0.65 0.11 0.   0.   0.   0.   0.   0.   1.   1.   0.   0.   0.58]\n",
      "  [0.   0.   0.36 0.37 0.84 0.1  1.   0.   0.   0.   0.   0.   0.   0.   1.   0.   0.43]\n",
      "  [0.   1.   0.39 0.4  0.91 0.1  0.   1.   0.   0.   0.   0.   0.   0.   1.   0.   0.52]\n",
      "  [0.   1.   0.41 0.41 0.67 0.22 0.   0.   1.   0.   0.   0.   0.   1.   0.   0.   0.64]\n",
      "  [0.   1.   0.33 0.34 0.63 0.18 0.   0.   0.   1.   0.   0.   0.   1.   0.   0.   0.6 ]]] => [[0.47]]\n",
      "[[[0.   0.   0.36 0.37 0.84 0.1  1.   0.   0.   0.   0.   0.   0.   0.   1.   0.   0.43]\n",
      "  [0.   1.   0.39 0.4  0.91 0.1  0.   1.   0.   0.   0.   0.   0.   0.   1.   0.   0.52]\n",
      "  [0.   1.   0.41 0.41 0.67 0.22 0.   0.   1.   0.   0.   0.   0.   1.   0.   0.   0.64]\n",
      "  [0.   1.   0.33 0.34 0.63 0.18 0.   0.   0.   1.   0.   0.   0.   1.   0.   0.   0.6 ]\n",
      "  [0.   1.   0.33 0.34 0.67 0.13 0.   0.   0.   0.   1.   0.   0.   0.   1.   0.   0.47]]] => [[0.41]]\n",
      "[[[0.   1.   0.39 0.4  0.91 0.1  0.   1.   0.   0.   0.   0.   0.   0.   1.   0.   0.52]\n",
      "  [0.   1.   0.41 0.41 0.67 0.22 0.   0.   1.   0.   0.   0.   0.   1.   0.   0.   0.64]\n",
      "  [0.   1.   0.33 0.34 0.63 0.18 0.   0.   0.   1.   0.   0.   0.   1.   0.   0.   0.6 ]\n",
      "  [0.   1.   0.33 0.34 0.67 0.13 0.   0.   0.   0.   1.   0.   0.   0.   1.   0.   0.47]\n",
      "  [0.   1.   0.33 0.3  0.56 0.37 0.   0.   0.   0.   0.   1.   0.   0.   1.   0.   0.41]]] => [[0.2]]\n",
      "[[[0.   1.   0.41 0.41 0.67 0.22 0.   0.   1.   0.   0.   0.   0.   1.   0.   0.   0.64]\n",
      "  [0.   1.   0.33 0.34 0.63 0.18 0.   0.   0.   1.   0.   0.   0.   1.   0.   0.   0.6 ]\n",
      "  [0.   1.   0.33 0.34 0.67 0.13 0.   0.   0.   0.   1.   0.   0.   0.   1.   0.   0.47]\n",
      "  [0.   1.   0.33 0.3  0.56 0.37 0.   0.   0.   0.   0.   1.   0.   0.   1.   0.   0.41]\n",
      "  [0.   0.   0.27 0.24 0.44 0.41 0.   0.   0.   0.   0.   0.   1.   1.   0.   0.   0.2 ]]] => [[0.2]]\n",
      "[[[0.   1.   0.33 0.34 0.63 0.18 0.   0.   0.   1.   0.   0.   0.   1.   0.   0.   0.6 ]\n",
      "  [0.   1.   0.33 0.34 0.67 0.13 0.   0.   0.   0.   1.   0.   0.   0.   1.   0.   0.47]\n",
      "  [0.   1.   0.33 0.3  0.56 0.37 0.   0.   0.   0.   0.   1.   0.   0.   1.   0.   0.41]\n",
      "  [0.   0.   0.27 0.24 0.44 0.41 0.   0.   0.   0.   0.   0.   1.   1.   0.   0.   0.2 ]\n",
      "  [0.   0.   0.25 0.26 0.52 0.13 1.   0.   0.   0.   0.   0.   0.   1.   0.   0.   0.2 ]]] => [[0.1]]\n",
      "[[[0.   1.   0.33 0.34 0.67 0.13 0.   0.   0.   0.   1.   0.   0.   0.   1.   0.   0.47]\n",
      "  [0.   1.   0.33 0.3  0.56 0.37 0.   0.   0.   0.   0.   1.   0.   0.   1.   0.   0.41]\n",
      "  [0.   0.   0.27 0.24 0.44 0.41 0.   0.   0.   0.   0.   0.   1.   1.   0.   0.   0.2 ]\n",
      "  [0.   0.   0.25 0.26 0.52 0.13 1.   0.   0.   0.   0.   0.   0.   1.   0.   0.   0.2 ]\n",
      "  [0.   1.   0.23 0.26 0.79 0.08 0.   1.   0.   0.   0.   0.   0.   0.   1.   0.   0.1 ]]] => [[0.11]]\n",
      "[[[0.   1.   0.33 0.3  0.56 0.37 0.   0.   0.   0.   0.   1.   0.   0.   1.   0.   0.41]\n",
      "  [0.   0.   0.27 0.24 0.44 0.41 0.   0.   0.   0.   0.   0.   1.   1.   0.   0.   0.2 ]\n",
      "  [0.   0.   0.25 0.26 0.52 0.13 1.   0.   0.   0.   0.   0.   0.   1.   0.   0.   0.2 ]\n",
      "  [0.   1.   0.23 0.26 0.79 0.08 0.   1.   0.   0.   0.   0.   0.   0.   1.   0.   0.1 ]\n",
      "  [1.   0.   0.29 0.29 0.73 0.17 0.   0.   1.   0.   0.   0.   0.   0.   1.   0.   0.11]]] => [[0.05]]\n",
      "[[[0.   0.   0.27 0.24 0.44 0.41 0.   0.   0.   0.   0.   0.   1.   1.   0.   0.   0.2 ]\n",
      "  [0.   0.   0.25 0.26 0.52 0.13 1.   0.   0.   0.   0.   0.   0.   1.   0.   0.   0.2 ]\n",
      "  [0.   1.   0.23 0.26 0.79 0.08 0.   1.   0.   0.   0.   0.   0.   0.   1.   0.   0.1 ]\n",
      "  [1.   0.   0.29 0.29 0.73 0.17 0.   0.   1.   0.   0.   0.   0.   0.   1.   0.   0.11]\n",
      "  [0.   1.   0.24 0.22 0.82 0.32 0.   0.   0.   1.   0.   0.   0.   0.   0.   1.   0.05]]] => [[0.24]]\n",
      "[[[0.   0.   0.25 0.26 0.52 0.13 1.   0.   0.   0.   0.   0.   0.   1.   0.   0.   0.2 ]\n",
      "  [0.   1.   0.23 0.26 0.79 0.08 0.   1.   0.   0.   0.   0.   0.   0.   1.   0.   0.1 ]\n",
      "  [1.   0.   0.29 0.29 0.73 0.17 0.   0.   1.   0.   0.   0.   0.   0.   1.   0.   0.11]\n",
      "  [0.   1.   0.24 0.22 0.82 0.32 0.   0.   0.   1.   0.   0.   0.   0.   0.   1.   0.05]\n",
      "  [0.   1.   0.25 0.23 0.65 0.35 0.   0.   0.   0.   1.   0.   0.   0.   1.   0.   0.24]]] => [[0.35]]\n",
      "[[[0.   1.   0.23 0.26 0.79 0.08 0.   1.   0.   0.   0.   0.   0.   0.   1.   0.   0.1 ]\n",
      "  [1.   0.   0.29 0.29 0.73 0.17 0.   0.   1.   0.   0.   0.   0.   0.   1.   0.   0.11]\n",
      "  [0.   1.   0.24 0.22 0.82 0.32 0.   0.   0.   1.   0.   0.   0.   0.   0.   1.   0.05]\n",
      "  [0.   1.   0.25 0.23 0.65 0.35 0.   0.   0.   0.   1.   0.   0.   0.   1.   0.   0.24]\n",
      "  [0.   1.   0.25 0.26 0.59 0.16 0.   0.   0.   0.   0.   1.   0.   0.   1.   0.   0.35]]] => [[0.15]]\n",
      "[[[1.   0.   0.29 0.29 0.73 0.17 0.   0.   1.   0.   0.   0.   0.   0.   1.   0.   0.11]\n",
      "  [0.   1.   0.24 0.22 0.82 0.32 0.   0.   0.   1.   0.   0.   0.   0.   0.   1.   0.05]\n",
      "  [0.   1.   0.25 0.23 0.65 0.35 0.   0.   0.   0.   1.   0.   0.   0.   1.   0.   0.24]\n",
      "  [0.   1.   0.25 0.26 0.59 0.16 0.   0.   0.   0.   0.   1.   0.   0.   1.   0.   0.35]\n",
      "  [0.   0.   0.25 0.24 0.75 0.12 0.   0.   0.   0.   0.   0.   1.   0.   1.   0.   0.15]]] => [[0.2]]\n",
      "[[[0.   1.   0.24 0.22 0.82 0.32 0.   0.   0.   1.   0.   0.   0.   0.   0.   1.   0.05]\n",
      "  [0.   1.   0.25 0.23 0.65 0.35 0.   0.   0.   0.   1.   0.   0.   0.   1.   0.   0.24]\n",
      "  [0.   1.   0.25 0.26 0.59 0.16 0.   0.   0.   0.   0.   1.   0.   0.   1.   0.   0.35]\n",
      "  [0.   0.   0.25 0.24 0.75 0.12 0.   0.   0.   0.   0.   0.   1.   0.   1.   0.   0.15]\n",
      "  [0.   0.   0.26 0.23 0.48 0.35 1.   0.   0.   0.   0.   0.   0.   1.   0.   0.   0.2 ]]] => [[0.31]]\n",
      "[] => []\n",
      "[] => []\n",
      "[] => []\n",
      "[] => []\n",
      "[] => []\n"
     ]
    }
   ],
   "source": [
    "for i in range(SIZE_DATA_HOLDOUT):\n",
    "    x, y = generatorHold[i]\n",
    "    print('%s => %s' % (x, y))"
   ]
  },
  {
   "cell_type": "markdown",
   "metadata": {},
   "source": [
    "# Generate Model"
   ]
  },
  {
   "cell_type": "code",
   "execution_count": 22,
   "metadata": {},
   "outputs": [
    {
     "name": "stdout",
     "output_type": "stream",
     "text": [
      "Model: \"sequential\"\n",
      "_________________________________________________________________\n",
      "Layer (type)                 Output Shape              Param #   \n",
      "=================================================================\n",
      "simple_rnn (SimpleRNN)       (None, 5, 20)             760       \n",
      "_________________________________________________________________\n",
      "time_distributed (TimeDistri (None, 5, 20)             0         \n",
      "_________________________________________________________________\n",
      "simple_rnn_1 (SimpleRNN)     (None, 20)                820       \n",
      "_________________________________________________________________\n",
      "dropout_1 (Dropout)          (None, 20)                0         \n",
      "_________________________________________________________________\n",
      "dense (Dense)                (None, 1)                 21        \n",
      "=================================================================\n",
      "Total params: 1,601\n",
      "Trainable params: 1,601\n",
      "Non-trainable params: 0\n",
      "_________________________________________________________________\n"
     ]
    }
   ],
   "source": [
    "model = models.Sequential([\n",
    "    layers.Input([SIZE_INPUT, SIZE_FEATURES]),\n",
    "    layers.SimpleRNN(20, return_sequences=True),\n",
    "    layers.TimeDistributed(layers.Dropout(.2)),\n",
    "    layers.SimpleRNN(20),\n",
    "    layers.Dropout(.2),\n",
    "    layers.Dense(1)\n",
    "])\n",
    "model.summary()"
   ]
  },
  {
   "cell_type": "code",
   "execution_count": 23,
   "metadata": {},
   "outputs": [],
   "source": [
    "model.compile(\n",
    "    loss=\"mse\",\n",
    "    optimizer=tf.keras.optimizers.Adam(learning_rate=0.0001),\n",
    "    metrics = [\"accuracy\"]\n",
    ")"
   ]
  },
  {
   "cell_type": "markdown",
   "metadata": {},
   "source": [
    "# Training"
   ]
  },
  {
   "cell_type": "code",
   "execution_count": 24,
   "metadata": {},
   "outputs": [],
   "source": [
    "history = model.fit_generator(\n",
    "    generatorTrain,\n",
    "    epochs=100,\n",
    "    verbose=0,\n",
    "    validation_data=generatorTest\n",
    ")"
   ]
  },
  {
   "cell_type": "code",
   "execution_count": 25,
   "metadata": {},
   "outputs": [
    {
     "data": {
      "image/png": "[encoded data removed]",
      "text/plain": [
       "<Figure size 432x288 with 1 Axes>"
      ]
     },
     "metadata": {
      "needs_background": "light"
     },
     "output_type": "display_data"
    }
   ],
   "source": [
    "loss = history.history[\"loss\"]\n",
    "validationLoss = history.history[\"val_loss\"]\n",
    "epochs = range(0, len(loss))\n",
    "\n",
    "plt.plot(epochs, loss, label=\"Training Loss\")\n",
    "plt.plot(epochs, validationLoss, label=\"Validation Loss\")\n",
    "plt.title('Training and validation loss')\n",
    "plt.xlabel('Epochs')\n",
    "plt.ylabel('Loss')\n",
    "plt.legend()\n",
    "plt.show()"
   ]
  },
  {
   "cell_type": "markdown",
   "metadata": {},
   "source": [
    "# Predict"
   ]
  },
  {
   "cell_type": "code",
   "execution_count": 26,
   "metadata": {},
   "outputs": [],
   "source": [
    "df_result = pd.DataFrame({'Actual' : [], 'Prediction' : []})\n",
    "\n",
    "for i in range(len(generatorHold)):\n",
    "    x, y = generatorHold[i]\n",
    "    x_input = np.array(x).reshape((1, SIZE_INPUT, SIZE_FEATURES))\n",
    "    yhat = model.predict(x_input)\n",
    "    df_result = df_result.append({'Actual': scaler.inverse_transform(y)[0][0], 'Prediction': scaler.inverse_transform(yhat)[0][0]}, ignore_index=True)"
   ]
  },
  {
   "cell_type": "code",
   "execution_count": 27,
   "metadata": {},
   "outputs": [
    {
     "data": {
      "text/html": [
       "<div>\n",
       "<style scoped>\n",
       "    .dataframe tbody tr th:only-of-type {\n",
       "        vertical-align: middle;\n",
       "    }\n",
       "\n",
       "    .dataframe tbody tr th {\n",
       "        vertical-align: top;\n",
       "    }\n",
       "\n",
       "    .dataframe thead th {\n",
       "        text-align: right;\n",
       "    }\n",
       "</style>\n",
       "<table border=\"1\" class=\"dataframe\">\n",
       "  <thead>\n",
       "    <tr style=\"text-align: right;\">\n",
       "      <th></th>\n",
       "      <th>Actual</th>\n",
       "      <th>Prediction</th>\n",
       "      <th>Diff</th>\n",
       "    </tr>\n",
       "  </thead>\n",
       "  <tbody>\n",
       "    <tr>\n",
       "      <th>0</th>\n",
       "      <td>5629.0</td>\n",
       "      <td>-1309.565674</td>\n",
       "      <td>-123.264624</td>\n",
       "    </tr>\n",
       "    <tr>\n",
       "      <th>1</th>\n",
       "      <td>4669.0</td>\n",
       "      <td>6961.285156</td>\n",
       "      <td>49.095848</td>\n",
       "    </tr>\n",
       "    <tr>\n",
       "      <th>2</th>\n",
       "      <td>5499.0</td>\n",
       "      <td>2115.433350</td>\n",
       "      <td>-61.530581</td>\n",
       "    </tr>\n",
       "    <tr>\n",
       "      <th>3</th>\n",
       "      <td>5634.0</td>\n",
       "      <td>6696.177246</td>\n",
       "      <td>18.852986</td>\n",
       "    </tr>\n",
       "    <tr>\n",
       "      <th>4</th>\n",
       "      <td>5146.0</td>\n",
       "      <td>6280.199707</td>\n",
       "      <td>22.040414</td>\n",
       "    </tr>\n",
       "  </tbody>\n",
       "</table>\n",
       "</div>"
      ],
      "text/plain": [
       "   Actual   Prediction        Diff\n",
       "0  5629.0 -1309.565674 -123.264624\n",
       "1  4669.0  6961.285156   49.095848\n",
       "2  5499.0  2115.433350  -61.530581\n",
       "3  5634.0  6696.177246   18.852986\n",
       "4  5146.0  6280.199707   22.040414"
      ]
     },
     "execution_count": 27,
     "metadata": {},
     "output_type": "execute_result"
    }
   ],
   "source": [
    "df_result['Diff'] = 100 * (df_result['Prediction'] - df_result['Actual']) / df_result['Actual']\n",
    "df_result.head()"
   ]
  },
  {
   "cell_type": "code",
   "execution_count": 28,
   "metadata": {},
   "outputs": [
    {
     "data": {
      "image/png": "[encoded data removed]",
      "text/plain": [
       "<Figure size 1080x720 with 1 Axes>"
      ]
     },
     "metadata": {
      "needs_background": "light"
     },
     "output_type": "display_data"
    }
   ],
   "source": [
    "plt.figure(figsize=(15,10))\n",
    "plt.plot(df_result['Actual'], color='blue')\n",
    "plt.plot(df_result['Prediction'], color='red')\n",
    "plt.show()"
   ]
  },
  {
   "cell_type": "code",
   "execution_count": null,
   "metadata": {},
   "outputs": [],
   "source": []
  },
  {
   "cell_type": "code",
   "execution_count": null,
   "metadata": {},
   "outputs": [],
   "source": []
  },
  {
   "cell_type": "code",
   "execution_count": null,
   "metadata": {},
   "outputs": [],
   "source": []
  }
 ],
 "metadata": {
  "kernelspec": {
   "display_name": "Python 3",
   "language": "python",
   "name": "python3"
  },
  "language_info": {
   "codemirror_mode": {
    "name": "ipython",
    "version": 3
   },
   "file_extension": ".py",
   "mimetype": "text/x-python",
   "name": "python",
   "nbconvert_exporter": "python",
   "pygments_lexer": "ipython3",
   "version": "3.8.10"
  },
  "toc-autonumbering": true
 },
 "nbformat": 4,
 "nbformat_minor": 4
}
