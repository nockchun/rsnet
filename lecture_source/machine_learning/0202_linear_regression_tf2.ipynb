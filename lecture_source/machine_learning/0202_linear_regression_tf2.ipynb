{
 "cells": [
  {
   "cell_type": "markdown",
   "metadata": {},
   "source": [
    "<div class=\"alert alert-block alert-success\">\n",
    "    <b><center>LINEAR REGRESSION</center></b>\n",
    "    <b><center>Tensorflow 2를 이용한 코드 예제</center></b>\n",
    "</div>"
   ]
  },
  {
   "cell_type": "markdown",
   "metadata": {},
   "source": [
    "# Configure Learning Environment"
   ]
  },
  {
   "cell_type": "code",
   "execution_count": 1,
   "metadata": {},
   "outputs": [],
   "source": [
    "# !pip install git+https://github.com/nockchun/rspy --force\n",
    "import rspy as rsp\n",
    "rsp.setSystemWarning(off=True)"
   ]
  },
  {
   "cell_type": "code",
   "execution_count": 2,
   "metadata": {},
   "outputs": [],
   "source": [
    "import numpy as np\n",
    "import matplotlib.pyplot as plt\n",
    "\n",
    "import seaborn as sns\n",
    "import tensorflow as tf\n",
    "from tensorflow.keras import utils, layers, models, losses"
   ]
  },
  {
   "cell_type": "code",
   "execution_count": 3,
   "metadata": {},
   "outputs": [
    {
     "data": {
      "text/plain": [
       "'2.0.0'"
      ]
     },
     "execution_count": 3,
     "metadata": {},
     "output_type": "execute_result"
    }
   ],
   "source": [
    "np.set_printoptions(linewidth=200, precision=2)\n",
    "sns.set_style(\"whitegrid\")\n",
    "tf.__version__"
   ]
  },
  {
   "cell_type": "markdown",
   "metadata": {},
   "source": [
    "# Prepare Datas"
   ]
  },
  {
   "cell_type": "markdown",
   "metadata": {},
   "source": [
    ">* total_bill : 전체 음식 가격 (US dollars)\n",
    ">* tip        : 팁 금액 (US dollars)\n",
    ">* sex        : 성별 (0=male, 1=female)\n",
    ">* smoker     : 흡연 여부 (0=No, 1=Yes)\n",
    ">* day        : 요일 (3=Thur, 4=Fri, 5=Sat, 6=Sun)\n",
    ">* time       : 시간대 (0=Lunch, 1=Dinner)\n",
    ">* size       : 동행자 수"
   ]
  },
  {
   "cell_type": "code",
   "execution_count": 4,
   "metadata": {},
   "outputs": [
    {
     "data": {
      "text/html": [
       "<div>\n",
       "<style scoped>\n",
       "    .dataframe tbody tr th:only-of-type {\n",
       "        vertical-align: middle;\n",
       "    }\n",
       "\n",
       "    .dataframe tbody tr th {\n",
       "        vertical-align: top;\n",
       "    }\n",
       "\n",
       "    .dataframe thead th {\n",
       "        text-align: right;\n",
       "    }\n",
       "</style>\n",
       "<table border=\"1\" class=\"dataframe\">\n",
       "  <thead>\n",
       "    <tr style=\"text-align: right;\">\n",
       "      <th></th>\n",
       "      <th>total_bill</th>\n",
       "      <th>tip</th>\n",
       "      <th>sex</th>\n",
       "      <th>smoker</th>\n",
       "      <th>day</th>\n",
       "      <th>time</th>\n",
       "      <th>size</th>\n",
       "    </tr>\n",
       "  </thead>\n",
       "  <tbody>\n",
       "    <tr>\n",
       "      <th>0</th>\n",
       "      <td>16.99</td>\n",
       "      <td>1.01</td>\n",
       "      <td>Female</td>\n",
       "      <td>No</td>\n",
       "      <td>Sun</td>\n",
       "      <td>Dinner</td>\n",
       "      <td>2</td>\n",
       "    </tr>\n",
       "    <tr>\n",
       "      <th>1</th>\n",
       "      <td>10.34</td>\n",
       "      <td>1.66</td>\n",
       "      <td>Male</td>\n",
       "      <td>No</td>\n",
       "      <td>Sun</td>\n",
       "      <td>Dinner</td>\n",
       "      <td>3</td>\n",
       "    </tr>\n",
       "    <tr>\n",
       "      <th>2</th>\n",
       "      <td>21.01</td>\n",
       "      <td>3.50</td>\n",
       "      <td>Male</td>\n",
       "      <td>No</td>\n",
       "      <td>Sun</td>\n",
       "      <td>Dinner</td>\n",
       "      <td>3</td>\n",
       "    </tr>\n",
       "  </tbody>\n",
       "</table>\n",
       "</div>"
      ],
      "text/plain": [
       "   total_bill   tip     sex smoker  day    time  size\n",
       "0       16.99  1.01  Female     No  Sun  Dinner     2\n",
       "1       10.34  1.66    Male     No  Sun  Dinner     3\n",
       "2       21.01  3.50    Male     No  Sun  Dinner     3"
      ]
     },
     "execution_count": 4,
     "metadata": {},
     "output_type": "execute_result"
    }
   ],
   "source": [
    "tips = sns.load_dataset(\"tips\")\n",
    "tips.head(3)"
   ]
  },
  {
   "cell_type": "code",
   "execution_count": 5,
   "metadata": {},
   "outputs": [],
   "source": [
    "# tips.sex.unique()"
   ]
  },
  {
   "cell_type": "code",
   "execution_count": 6,
   "metadata": {},
   "outputs": [],
   "source": [
    "# tips.replace({ \"sex\": {\"Male\": 0, \"Female\": 1}, \"smoker\": {\"No\": 0, \"Yes\": 1} }, inplace=True)\n",
    "# tips.head(3)"
   ]
  },
  {
   "cell_type": "code",
   "execution_count": 7,
   "metadata": {},
   "outputs": [],
   "source": [
    "data = tips[[\"total_bill\", \"size\"]].values\n",
    "label = tips[[\"tip\"]].values"
   ]
  },
  {
   "cell_type": "markdown",
   "metadata": {},
   "source": [
    "# Analysis Datas"
   ]
  },
  {
   "cell_type": "code",
   "execution_count": 8,
   "metadata": {},
   "outputs": [
    {
     "data": {
      "text/html": [
       "<div>\n",
       "<style scoped>\n",
       "    .dataframe tbody tr th:only-of-type {\n",
       "        vertical-align: middle;\n",
       "    }\n",
       "\n",
       "    .dataframe tbody tr th {\n",
       "        vertical-align: top;\n",
       "    }\n",
       "\n",
       "    .dataframe thead th {\n",
       "        text-align: right;\n",
       "    }\n",
       "</style>\n",
       "<table border=\"1\" class=\"dataframe\">\n",
       "  <thead>\n",
       "    <tr style=\"text-align: right;\">\n",
       "      <th></th>\n",
       "      <th>count</th>\n",
       "      <th>mean</th>\n",
       "      <th>std</th>\n",
       "      <th>min</th>\n",
       "      <th>25%</th>\n",
       "      <th>50%</th>\n",
       "      <th>75%</th>\n",
       "      <th>max</th>\n",
       "    </tr>\n",
       "  </thead>\n",
       "  <tbody>\n",
       "    <tr>\n",
       "      <th>total_bill</th>\n",
       "      <td>244.0</td>\n",
       "      <td>19.785943</td>\n",
       "      <td>8.902412</td>\n",
       "      <td>3.07</td>\n",
       "      <td>13.3475</td>\n",
       "      <td>17.795</td>\n",
       "      <td>24.1275</td>\n",
       "      <td>50.81</td>\n",
       "    </tr>\n",
       "    <tr>\n",
       "      <th>tip</th>\n",
       "      <td>244.0</td>\n",
       "      <td>2.998279</td>\n",
       "      <td>1.383638</td>\n",
       "      <td>1.00</td>\n",
       "      <td>2.0000</td>\n",
       "      <td>2.900</td>\n",
       "      <td>3.5625</td>\n",
       "      <td>10.00</td>\n",
       "    </tr>\n",
       "    <tr>\n",
       "      <th>size</th>\n",
       "      <td>244.0</td>\n",
       "      <td>2.569672</td>\n",
       "      <td>0.951100</td>\n",
       "      <td>1.00</td>\n",
       "      <td>2.0000</td>\n",
       "      <td>2.000</td>\n",
       "      <td>3.0000</td>\n",
       "      <td>6.00</td>\n",
       "    </tr>\n",
       "  </tbody>\n",
       "</table>\n",
       "</div>"
      ],
      "text/plain": [
       "            count       mean       std   min      25%     50%      75%    max\n",
       "total_bill  244.0  19.785943  8.902412  3.07  13.3475  17.795  24.1275  50.81\n",
       "tip         244.0   2.998279  1.383638  1.00   2.0000   2.900   3.5625  10.00\n",
       "size        244.0   2.569672  0.951100  1.00   2.0000   2.000   3.0000   6.00"
      ]
     },
     "execution_count": 8,
     "metadata": {},
     "output_type": "execute_result"
    }
   ],
   "source": [
    "tips.describe().T"
   ]
  },
  {
   "cell_type": "markdown",
   "metadata": {},
   "source": [
    "## Generate Model"
   ]
  },
  {
   "cell_type": "code",
   "execution_count": 9,
   "metadata": {},
   "outputs": [
    {
     "name": "stdout",
     "output_type": "stream",
     "text": [
      "Model: \"sequential\"\n",
      "_________________________________________________________________\n",
      "Layer (type)                 Output Shape              Param #   \n",
      "=================================================================\n",
      "dense (Dense)                (None, 1)                 3         \n",
      "=================================================================\n",
      "Total params: 3\n",
      "Trainable params: 3\n",
      "Non-trainable params: 0\n",
      "_________________________________________________________________\n"
     ]
    }
   ],
   "source": [
    "model = models.Sequential([\n",
    "    layers.Input([2]),\n",
    "    layers.Dense(1)\n",
    "])\n",
    "model.summary()"
   ]
  },
  {
   "cell_type": "code",
   "execution_count": 10,
   "metadata": {},
   "outputs": [
    {
     "data": {
      "image/png": "[encoded data removed]",
      "text/plain": [
       "<IPython.core.display.Image object>"
      ]
     },
     "execution_count": 10,
     "metadata": {},
     "output_type": "execute_result"
    }
   ],
   "source": [
    "utils.plot_model(model, 'model.png', show_shapes=True)"
   ]
  },
  {
   "cell_type": "code",
   "execution_count": 11,
   "metadata": {},
   "outputs": [],
   "source": [
    "model.compile(\n",
    "    loss=tf.keras.losses.MeanSquaredError(),\n",
    "    optimizer=tf.keras.optimizers.SGD(1e-5)\n",
    ")"
   ]
  },
  {
   "cell_type": "markdown",
   "metadata": {},
   "source": [
    "## Training"
   ]
  },
  {
   "cell_type": "code",
   "execution_count": 12,
   "metadata": {
    "scrolled": true
   },
   "outputs": [
    {
     "name": "stdout",
     "output_type": "stream",
     "text": [
      "Train on 244 samples\n",
      "Epoch 1/50\n",
      "244/244 [==============================] - 0s 2ms/sample - loss: 274.1428\n",
      "Epoch 2/50\n",
      "244/244 [==============================] - 0s 44us/sample - loss: 234.8985\n",
      "Epoch 3/50\n",
      "244/244 [==============================] - 0s 44us/sample - loss: 201.7830\n",
      "Epoch 4/50\n",
      "244/244 [==============================] - 0s 45us/sample - loss: 173.1992\n",
      "Epoch 5/50\n",
      "244/244 [==============================] - 0s 44us/sample - loss: 148.5527\n",
      "Epoch 6/50\n",
      "244/244 [==============================] - 0s 44us/sample - loss: 127.7077\n",
      "Epoch 7/50\n",
      "244/244 [==============================] - 0s 43us/sample - loss: 109.7929\n",
      "Epoch 8/50\n",
      "244/244 [==============================] - 0s 43us/sample - loss: 94.5320\n",
      "Epoch 9/50\n",
      "244/244 [==============================] - 0s 43us/sample - loss: 81.5283\n",
      "Epoch 10/50\n",
      "244/244 [==============================] - 0s 43us/sample - loss: 70.2839\n",
      "Epoch 11/50\n",
      "244/244 [==============================] - 0s 46us/sample - loss: 60.5540\n",
      "Epoch 12/50\n",
      "244/244 [==============================] - 0s 42us/sample - loss: 52.2680\n",
      "Epoch 13/50\n",
      "244/244 [==============================] - 0s 41us/sample - loss: 45.1349\n",
      "Epoch 14/50\n",
      "244/244 [==============================] - 0s 41us/sample - loss: 38.9863\n",
      "Epoch 15/50\n",
      "244/244 [==============================] - 0s 41us/sample - loss: 33.7348\n",
      "Epoch 16/50\n",
      "244/244 [==============================] - 0s 41us/sample - loss: 29.1527\n",
      "Epoch 17/50\n",
      "244/244 [==============================] - 0s 41us/sample - loss: 25.3133\n",
      "Epoch 18/50\n",
      "244/244 [==============================] - 0s 41us/sample - loss: 22.0279\n",
      "Epoch 19/50\n",
      "244/244 [==============================] - 0s 41us/sample - loss: 19.1963\n",
      "Epoch 20/50\n",
      "244/244 [==============================] - 0s 41us/sample - loss: 16.7466\n",
      "Epoch 21/50\n",
      "244/244 [==============================] - 0s 42us/sample - loss: 14.6639\n",
      "Epoch 22/50\n",
      "244/244 [==============================] - 0s 42us/sample - loss: 12.8877\n",
      "Epoch 23/50\n",
      "244/244 [==============================] - 0s 42us/sample - loss: 11.3514\n",
      "Epoch 24/50\n",
      "244/244 [==============================] - 0s 41us/sample - loss: 10.0314\n",
      "Epoch 25/50\n",
      "244/244 [==============================] - 0s 43us/sample - loss: 8.9088\n",
      "Epoch 26/50\n",
      "244/244 [==============================] - 0s 41us/sample - loss: 7.9466\n",
      "Epoch 27/50\n",
      "244/244 [==============================] - 0s 41us/sample - loss: 7.1025\n",
      "Epoch 28/50\n",
      "244/244 [==============================] - 0s 40us/sample - loss: 6.3923\n",
      "Epoch 29/50\n",
      "244/244 [==============================] - 0s 40us/sample - loss: 5.7766\n",
      "Epoch 30/50\n",
      "244/244 [==============================] - 0s 41us/sample - loss: 5.2489\n",
      "Epoch 31/50\n",
      "244/244 [==============================] - 0s 41us/sample - loss: 4.8037\n",
      "Epoch 32/50\n",
      "244/244 [==============================] - 0s 40us/sample - loss: 4.4201\n",
      "Epoch 33/50\n",
      "244/244 [==============================] - 0s 40us/sample - loss: 4.0888\n",
      "Epoch 34/50\n",
      "244/244 [==============================] - 0s 42us/sample - loss: 3.8012\n",
      "Epoch 35/50\n",
      "244/244 [==============================] - 0s 40us/sample - loss: 3.5603\n",
      "Epoch 36/50\n",
      "244/244 [==============================] - 0s 41us/sample - loss: 3.3532\n",
      "Epoch 37/50\n",
      "244/244 [==============================] - 0s 40us/sample - loss: 3.1779\n",
      "Epoch 38/50\n",
      "244/244 [==============================] - 0s 40us/sample - loss: 3.0231\n",
      "Epoch 39/50\n",
      "244/244 [==============================] - 0s 41us/sample - loss: 2.8917\n",
      "Epoch 40/50\n",
      "244/244 [==============================] - 0s 40us/sample - loss: 2.7758\n",
      "Epoch 41/50\n",
      "244/244 [==============================] - 0s 41us/sample - loss: 2.6812\n",
      "Epoch 42/50\n",
      "244/244 [==============================] - 0s 40us/sample - loss: 2.5963\n",
      "Epoch 43/50\n",
      "244/244 [==============================] - 0s 42us/sample - loss: 2.5264\n",
      "Epoch 44/50\n",
      "244/244 [==============================] - 0s 42us/sample - loss: 2.4656\n",
      "Epoch 45/50\n",
      "244/244 [==============================] - 0s 42us/sample - loss: 2.4142\n",
      "Epoch 46/50\n",
      "244/244 [==============================] - 0s 42us/sample - loss: 2.3691\n",
      "Epoch 47/50\n",
      "244/244 [==============================] - 0s 43us/sample - loss: 2.3336\n",
      "Epoch 48/50\n",
      "244/244 [==============================] - 0s 43us/sample - loss: 2.2991\n",
      "Epoch 49/50\n",
      "244/244 [==============================] - 0s 43us/sample - loss: 2.2718\n",
      "Epoch 50/50\n",
      "244/244 [==============================] - 0s 41us/sample - loss: 2.2476\n"
     ]
    }
   ],
   "source": [
    "history = model.fit(\n",
    "    data, label, epochs=50\n",
    ")"
   ]
  },
  {
   "cell_type": "code",
   "execution_count": 13,
   "metadata": {},
   "outputs": [
    {
     "data": {
      "image/png": "[encoded data removed]",
      "text/plain": [
       "<Figure size 432x288 with 1 Axes>"
      ]
     },
     "metadata": {},
     "output_type": "display_data"
    }
   ],
   "source": [
    "plt.xlabel(\"Epoch\")\n",
    "plt.ylabel(\"Loss\")\n",
    "plt.plot(history.history[\"loss\"])\n",
    "plt.show()"
   ]
  },
  {
   "cell_type": "markdown",
   "metadata": {},
   "source": [
    "## Predict"
   ]
  },
  {
   "cell_type": "code",
   "execution_count": 14,
   "metadata": {
    "scrolled": true
   },
   "outputs": [],
   "source": [
    "errors = []\n",
    "for itemData, itemLabel in zip(data, label):\n",
    "    predicted = model.predict([itemData.tolist()])\n",
    "    tip = np.asscalar(itemLabel)\n",
    "    tipPred = np.asscalar(predicted)\n",
    "    errors.append(tip - tipPred)"
   ]
  },
  {
   "cell_type": "code",
   "execution_count": 15,
   "metadata": {},
   "outputs": [
    {
     "data": {
      "text/plain": [
       "1.185149012654409"
      ]
     },
     "execution_count": 15,
     "metadata": {},
     "output_type": "execute_result"
    }
   ],
   "source": [
    "np.average(np.abs(errors))"
   ]
  },
  {
   "cell_type": "code",
   "execution_count": 16,
   "metadata": {},
   "outputs": [
    {
     "data": {
      "text/plain": [
       "[-1.1752993965148926,\n",
       " 1.6474019809067248,\n",
       " 1.1989600658416748,\n",
       " -0.31013339996337885,\n",
       " 1.2875882244110106,\n",
       " 2.237456045150757,\n",
       " 1.5776800215244293,\n",
       " 0.3064421367645265,\n",
       " 0.19292553424835202,\n",
       " 1.5186890172958374,\n",
       " 0.9659684514999389,\n",
       " 0.3891463279724121,\n",
       " -0.2785747575759887,\n",
       " 1.9987504482269287,\n",
       " 1.2979651880264282,\n",
       " 0.7502626609802245,\n",
       " 1.6595467944443225,\n",
       " 2.4212791538238525,\n",
       " 2.065436840057373,\n",
       " 1.1261709690093995,\n",
       " 1.695239143371582,\n",
       " -0.1430654525756836,\n",
       " 0.30635915279388426,\n",
       " 2.0769325065612794,\n",
       " 0.3877379226684572,\n",
       " 1.4717248344421385,\n",
       " 0.5910979509353638,\n",
       " 0.7369405031204224,\n",
       " 1.104525852203369,\n",
       " 0.24419832229614258,\n",
       " 0.860390019416809,\n",
       " 1.5159084796905518,\n",
       " 1.2286359071731567,\n",
       " 0.9640383243560793,\n",
       " 0.9152655792236328,\n",
       " 0.6448133945465089,\n",
       " 0.7069900035858154,\n",
       " 1.6440156173706053,\n",
       " 0.5065405941009522,\n",
       " 0.49845266342163086,\n",
       " 1.0048975849151613,\n",
       " 0.25389770507812504,\n",
       " 1.528847393989563,\n",
       " 0.702508397102356,\n",
       " 2.0314920902252194,\n",
       " 0.5358834266662598,\n",
       " 1.690854549407959,\n",
       " 2.002542734146118,\n",
       " -1.8681768894195558,\n",
       " 0.5895023345947266,\n",
       " 1.2691115140914917,\n",
       " 1.8516790628433228,\n",
       " 0.6856591224670412,\n",
       " 0.8867451524734498,\n",
       " 1.8095479869842528,\n",
       " 0.7885143852233885,\n",
       " -2.2006583213806152,\n",
       " -2.705648422241211,\n",
       " 0.8079284524917603,\n",
       " -0.6711664390563961,\n",
       " 0.31693454742431637,\n",
       " 0.4967290163040161,\n",
       " 1.075112681388855,\n",
       " 2.7887768840789793,\n",
       " 1.0724624538421632,\n",
       " 1.048421049118042,\n",
       " 0.4005162429809572,\n",
       " 1.053737599402666,\n",
       " -0.8701965713500979,\n",
       " 0.3293597364425658,\n",
       " 0.8506382417678833,\n",
       " 1.5439891815185547,\n",
       " -1.1621621704101561,\n",
       " 1.0367074012756348,\n",
       " 0.49941260814666766,\n",
       " 0.4544945955276489,\n",
       " 0.6952391433715821,\n",
       " 1.1178100109100342,\n",
       " -0.4228172302246094,\n",
       " 0.4603581047058105,\n",
       " 0.28923797607421875,\n",
       " 1.285477066040039,\n",
       " 0.3824168014526368,\n",
       " -0.5504031181335449,\n",
       " 0.06131973743438701,\n",
       " 0.6513694953918456,\n",
       " 0.6640192270278931,\n",
       " 1.5380282402038574,\n",
       " 2.008957958221435,\n",
       " -0.07965803146362305,\n",
       " -1.7547030448913574,\n",
       " 0.13509130477905273,\n",
       " 1.225392833352089,\n",
       " 2.258398342132568,\n",
       " -0.17067241668701172,\n",
       " -0.9339227867126461,\n",
       " -0.3922414779663086,\n",
       " 0.37849366664886475,\n",
       " -0.04748678207397461,\n",
       " 0.28626954555511475,\n",
       " 1.5243359804153442,\n",
       " 1.1600042581558228,\n",
       " -4.796148777008057,\n",
       " 0.1301040458679199,\n",
       " 1.0518160629272462,\n",
       " -0.19570611476898203,\n",
       " 1.1240397071838375,\n",
       " 0.3417210960388184,\n",
       " 1.3066074943542478,\n",
       " 2.3894916772842407,\n",
       " 1.4559789896011353,\n",
       " 0.15723448991775513,\n",
       " -1.9599738121032715,\n",
       " -1.1280419349670412,\n",
       " 0.6909306049346924,\n",
       " 1.2460689544677734,\n",
       " 1.6022949886322024,\n",
       " 0.6744683980941772,\n",
       " 0.5927037477493287,\n",
       " 0.7069703769683837,\n",
       " 1.261414942741394,\n",
       " 0.2603741216659545,\n",
       " 0.9002155065536499,\n",
       " 0.037753939628601074,\n",
       " 1.3019801568984986,\n",
       " 2.253070068359375,\n",
       " 1.1112985718250274,\n",
       " 0.34445202350616455,\n",
       " 1.0179017782211304,\n",
       " -0.5092387866973875,\n",
       " -1.1335511207580566,\n",
       " -0.05877582550048821,\n",
       " 0.5629414319992065,\n",
       " 0.8291643857955933,\n",
       " 0.7923178672790527,\n",
       " 0.8834433853626251,\n",
       " 1.2431000471115112,\n",
       " 0.4238077402114868,\n",
       " 0.027030110359191895,\n",
       " 1.3861373662948608,\n",
       " 1.2117528915405273,\n",
       " 3.7879354476928713,\n",
       " -0.13624048233032227,\n",
       " 3.6428747177124023,\n",
       " 0.23480587005615217,\n",
       " 1.1677593290805817,\n",
       " -0.4327355766296386,\n",
       " 0.5428094911575316,\n",
       " 1.0910609769821167,\n",
       " 1.8479178100824356,\n",
       " 0.9409657716751099,\n",
       " 0.6425715684890747,\n",
       " 1.243238916397095,\n",
       " -0.31383252143859863,\n",
       " 0.7113549709320068,\n",
       " 2.435899629592895,\n",
       " -0.8868246078491211,\n",
       " 1.339653730392456,\n",
       " 1.1968083238601683,\n",
       " 1.4148309230804443,\n",
       " 1.8403141498565674,\n",
       " 1.2433747053146362,\n",
       " 0.7284374237060547,\n",
       " 0.4967290163040161,\n",
       " 0.7031736373901367,\n",
       " 0.4261548328399658,\n",
       " -0.7538683509826658,\n",
       " 0.6505305767059326,\n",
       " 0.797336564064026,\n",
       " 1.1787575483322144,\n",
       " 1.3076229095458984,\n",
       " 1.227780137062073,\n",
       " 5.053681173920632,\n",
       " -2.1923893165588377,\n",
       " 1.851161003112793,\n",
       " -2.487588062286377,\n",
       " -0.378326416015625,\n",
       " 0.3530312776565552,\n",
       " 3.3996661901474,\n",
       " -2.4186284065246584,\n",
       " -0.8000248146057127,\n",
       " 2.1049326896667484,\n",
       " -4.021346569061279,\n",
       " 4.482141733169556,\n",
       " -4.238317012786865,\n",
       " 4.260484933853149,\n",
       " 1.2225525379180908,\n",
       " -0.8349297046661377,\n",
       " 1.812356948852539,\n",
       " 1.2507083415985107,\n",
       " -0.4064828157424927,\n",
       " 1.399882736206055,\n",
       " -2.081031742095947,\n",
       " 0.1585568380355835,\n",
       " 1.902635097503662,\n",
       " 1.277194100022316,\n",
       " 1.2409552335739136,\n",
       " -1.294477939605713,\n",
       " 0.6704534292221069,\n",
       " 0.5610712766647339,\n",
       " 2.192251443862915,\n",
       " 0.736216673851013,\n",
       " 0.6704534292221069,\n",
       " 0.4412403106689453,\n",
       " 2.548354387283325,\n",
       " 1.9026739406585693,\n",
       " -0.08780726432800279,\n",
       " -2.3550801277160645,\n",
       " -1.7166735839843752,\n",
       " 0.9519270467758179,\n",
       " -2.2420334815979004,\n",
       " 2.5587715244293214,\n",
       " 1.5859646797180176,\n",
       " 1.112545132637024,\n",
       " 2.663323163986206,\n",
       " -0.20809915065765372,\n",
       " 0.660506010055542,\n",
       " 0.4728621244430542,\n",
       " 1.2385887676477432,\n",
       " -0.42274466514587417,\n",
       " 1.0506118059158327,\n",
       " 2.0603741216659546,\n",
       " 0.791983528137207,\n",
       " 1.777766466140747,\n",
       " 0.16037412166595466,\n",
       " 0.46912193298339844,\n",
       " 1.2945739030838013,\n",
       " 1.56551194190979,\n",
       " 1.3304005575180056,\n",
       " -0.4055534553527833,\n",
       " -0.19801640510559082,\n",
       " 1.8399639129638672,\n",
       " 2.358572735786438,\n",
       " 0.6187311124801635,\n",
       " 1.1278332471847534,\n",
       " 0.5488635301589966,\n",
       " -0.24375689029693604,\n",
       " -4.412574844360352,\n",
       " -0.809550838470459,\n",
       " 1.898875160217285,\n",
       " -2.3707938194274902,\n",
       " -1.4035143852233887,\n",
       " -0.6133131980895996,\n",
       " 0.43079090118408203]"
      ]
     },
     "execution_count": 16,
     "metadata": {},
     "output_type": "execute_result"
    }
   ],
   "source": [
    "errors"
   ]
  },
  {
   "cell_type": "code",
   "execution_count": null,
   "metadata": {},
   "outputs": [],
   "source": []
  }
 ],
 "metadata": {
  "kernelspec": {
   "display_name": "Python 3",
   "language": "python",
   "name": "python3"
  },
  "language_info": {
   "codemirror_mode": {
    "name": "ipython",
    "version": 3
   },
   "file_extension": ".py",
   "mimetype": "text/x-python",
   "name": "python",
   "nbconvert_exporter": "python",
   "pygments_lexer": "ipython3",
   "version": "3.7.5"
  },
  "toc-autonumbering": true
 },
 "nbformat": 4,
 "nbformat_minor": 4
}
