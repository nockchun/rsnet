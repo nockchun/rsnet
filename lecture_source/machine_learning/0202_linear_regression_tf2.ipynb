{
 "cells": [
  {
   "cell_type": "markdown",
   "metadata": {},
   "source": [
    "<div class=\"alert alert-block alert-success\">\n",
    "    <b><center>LINEAR REGRESSION</center></b>\n",
    "    <b><center>Tensorflow 2를 이용한 코드 예제</center></b>\n",
    "</div>"
   ]
  },
  {
   "cell_type": "markdown",
   "metadata": {},
   "source": [
    "# Configure Environment"
   ]
  },
  {
   "cell_type": "code",
   "execution_count": 1,
   "metadata": {},
   "outputs": [],
   "source": [
    "# !pip install git+https://github.com/nockchun/rspy --force\n",
    "import rspy as rsp\n",
    "rsp.setSystemWarning(off=True)"
   ]
  },
  {
   "cell_type": "code",
   "execution_count": 2,
   "metadata": {},
   "outputs": [],
   "source": [
    "import numpy as np\n",
    "import matplotlib.pyplot as plt\n",
    "\n",
    "import seaborn as sns\n",
    "import tensorflow as tf\n",
    "from tensorflow.keras import utils, layers, models, losses"
   ]
  },
  {
   "cell_type": "code",
   "execution_count": 3,
   "metadata": {},
   "outputs": [
    {
     "data": {
      "text/plain": [
       "'2.0.0'"
      ]
     },
     "execution_count": 3,
     "metadata": {},
     "output_type": "execute_result"
    }
   ],
   "source": [
    "np.set_printoptions(linewidth=200, precision=2)\n",
    "sns.set_style(\"whitegrid\")\n",
    "tf.__version__"
   ]
  },
  {
   "cell_type": "markdown",
   "metadata": {},
   "source": [
    "# Prepare Data"
   ]
  },
  {
   "cell_type": "markdown",
   "metadata": {},
   "source": [
    ">* total_bill : 전체 음식 가격 (US dollars)\n",
    ">* tip        : 팁 금액 (US dollars)\n",
    ">* sex        : 성별 (0=male, 1=female)\n",
    ">* smoker     : 흡연 여부 (0=No, 1=Yes)\n",
    ">* day        : 요일 (3=Thur, 4=Fri, 5=Sat, 6=Sun)\n",
    ">* time       : 시간대 (0=Lunch, 1=Dinner)\n",
    ">* size       : 동행자 수"
   ]
  },
  {
   "cell_type": "code",
   "execution_count": 4,
   "metadata": {},
   "outputs": [
    {
     "data": {
      "text/html": [
       "<div>\n",
       "<style scoped>\n",
       "    .dataframe tbody tr th:only-of-type {\n",
       "        vertical-align: middle;\n",
       "    }\n",
       "\n",
       "    .dataframe tbody tr th {\n",
       "        vertical-align: top;\n",
       "    }\n",
       "\n",
       "    .dataframe thead th {\n",
       "        text-align: right;\n",
       "    }\n",
       "</style>\n",
       "<table border=\"1\" class=\"dataframe\">\n",
       "  <thead>\n",
       "    <tr style=\"text-align: right;\">\n",
       "      <th></th>\n",
       "      <th>total_bill</th>\n",
       "      <th>tip</th>\n",
       "      <th>sex</th>\n",
       "      <th>smoker</th>\n",
       "      <th>day</th>\n",
       "      <th>time</th>\n",
       "      <th>size</th>\n",
       "    </tr>\n",
       "  </thead>\n",
       "  <tbody>\n",
       "    <tr>\n",
       "      <th>0</th>\n",
       "      <td>16.99</td>\n",
       "      <td>1.01</td>\n",
       "      <td>Female</td>\n",
       "      <td>No</td>\n",
       "      <td>Sun</td>\n",
       "      <td>Dinner</td>\n",
       "      <td>2</td>\n",
       "    </tr>\n",
       "    <tr>\n",
       "      <th>1</th>\n",
       "      <td>10.34</td>\n",
       "      <td>1.66</td>\n",
       "      <td>Male</td>\n",
       "      <td>No</td>\n",
       "      <td>Sun</td>\n",
       "      <td>Dinner</td>\n",
       "      <td>3</td>\n",
       "    </tr>\n",
       "    <tr>\n",
       "      <th>2</th>\n",
       "      <td>21.01</td>\n",
       "      <td>3.50</td>\n",
       "      <td>Male</td>\n",
       "      <td>No</td>\n",
       "      <td>Sun</td>\n",
       "      <td>Dinner</td>\n",
       "      <td>3</td>\n",
       "    </tr>\n",
       "  </tbody>\n",
       "</table>\n",
       "</div>"
      ],
      "text/plain": [
       "   total_bill   tip     sex smoker  day    time  size\n",
       "0       16.99  1.01  Female     No  Sun  Dinner     2\n",
       "1       10.34  1.66    Male     No  Sun  Dinner     3\n",
       "2       21.01  3.50    Male     No  Sun  Dinner     3"
      ]
     },
     "execution_count": 4,
     "metadata": {},
     "output_type": "execute_result"
    }
   ],
   "source": [
    "tips = sns.load_dataset(\"tips\")\n",
    "tips.head(3)"
   ]
  },
  {
   "cell_type": "code",
   "execution_count": 5,
   "metadata": {},
   "outputs": [],
   "source": [
    "# tips.replace({ \"sex\": {\"Male\": 0, \"Female\": 1}, \"smoker\": {\"No\": 0, \"Yes\": 1} }, inplace=True)\n",
    "# tips.head(3)"
   ]
  },
  {
   "cell_type": "code",
   "execution_count": 6,
   "metadata": {},
   "outputs": [],
   "source": [
    "# def scale(data):\n",
    "#     return data.total_bill/(data.size+1)"
   ]
  },
  {
   "cell_type": "code",
   "execution_count": 7,
   "metadata": {},
   "outputs": [],
   "source": [
    "# tips[\"tendency\"] = tips[[\"total_bill\", \"size\"]].apply(scale, axis=1)"
   ]
  },
  {
   "cell_type": "code",
   "execution_count": 8,
   "metadata": {},
   "outputs": [],
   "source": [
    "# tips.head()"
   ]
  },
  {
   "cell_type": "code",
   "execution_count": 9,
   "metadata": {},
   "outputs": [],
   "source": [
    "data = tips[[\"total_bill\", \"size\"]].values\n",
    "label = tips[[\"tip\"]].values"
   ]
  },
  {
   "cell_type": "markdown",
   "metadata": {},
   "source": [
    "# Analysis Datas"
   ]
  },
  {
   "cell_type": "code",
   "execution_count": 10,
   "metadata": {},
   "outputs": [
    {
     "data": {
      "text/html": [
       "<div>\n",
       "<style scoped>\n",
       "    .dataframe tbody tr th:only-of-type {\n",
       "        vertical-align: middle;\n",
       "    }\n",
       "\n",
       "    .dataframe tbody tr th {\n",
       "        vertical-align: top;\n",
       "    }\n",
       "\n",
       "    .dataframe thead th {\n",
       "        text-align: right;\n",
       "    }\n",
       "</style>\n",
       "<table border=\"1\" class=\"dataframe\">\n",
       "  <thead>\n",
       "    <tr style=\"text-align: right;\">\n",
       "      <th></th>\n",
       "      <th>count</th>\n",
       "      <th>mean</th>\n",
       "      <th>std</th>\n",
       "      <th>min</th>\n",
       "      <th>25%</th>\n",
       "      <th>50%</th>\n",
       "      <th>75%</th>\n",
       "      <th>max</th>\n",
       "    </tr>\n",
       "  </thead>\n",
       "  <tbody>\n",
       "    <tr>\n",
       "      <th>total_bill</th>\n",
       "      <td>244.0</td>\n",
       "      <td>19.785943</td>\n",
       "      <td>8.902412</td>\n",
       "      <td>3.07</td>\n",
       "      <td>13.3475</td>\n",
       "      <td>17.795</td>\n",
       "      <td>24.1275</td>\n",
       "      <td>50.81</td>\n",
       "    </tr>\n",
       "    <tr>\n",
       "      <th>tip</th>\n",
       "      <td>244.0</td>\n",
       "      <td>2.998279</td>\n",
       "      <td>1.383638</td>\n",
       "      <td>1.00</td>\n",
       "      <td>2.0000</td>\n",
       "      <td>2.900</td>\n",
       "      <td>3.5625</td>\n",
       "      <td>10.00</td>\n",
       "    </tr>\n",
       "    <tr>\n",
       "      <th>size</th>\n",
       "      <td>244.0</td>\n",
       "      <td>2.569672</td>\n",
       "      <td>0.951100</td>\n",
       "      <td>1.00</td>\n",
       "      <td>2.0000</td>\n",
       "      <td>2.000</td>\n",
       "      <td>3.0000</td>\n",
       "      <td>6.00</td>\n",
       "    </tr>\n",
       "  </tbody>\n",
       "</table>\n",
       "</div>"
      ],
      "text/plain": [
       "            count       mean       std   min      25%     50%      75%    max\n",
       "total_bill  244.0  19.785943  8.902412  3.07  13.3475  17.795  24.1275  50.81\n",
       "tip         244.0   2.998279  1.383638  1.00   2.0000   2.900   3.5625  10.00\n",
       "size        244.0   2.569672  0.951100  1.00   2.0000   2.000   3.0000   6.00"
      ]
     },
     "execution_count": 10,
     "metadata": {},
     "output_type": "execute_result"
    }
   ],
   "source": [
    "tips.describe().T"
   ]
  },
  {
   "cell_type": "markdown",
   "metadata": {},
   "source": [
    "## Generate Model"
   ]
  },
  {
   "cell_type": "code",
   "execution_count": 11,
   "metadata": {},
   "outputs": [
    {
     "name": "stdout",
     "output_type": "stream",
     "text": [
      "Model: \"sequential\"\n",
      "_________________________________________________________________\n",
      "Layer (type)                 Output Shape              Param #   \n",
      "=================================================================\n",
      "dense (Dense)                (None, 1)                 3         \n",
      "=================================================================\n",
      "Total params: 3\n",
      "Trainable params: 3\n",
      "Non-trainable params: 0\n",
      "_________________________________________________________________\n"
     ]
    }
   ],
   "source": [
    "model = models.Sequential([\n",
    "    layers.Input([2]),\n",
    "    layers.Dense(1)\n",
    "])\n",
    "model.summary()"
   ]
  },
  {
   "cell_type": "code",
   "execution_count": 12,
   "metadata": {},
   "outputs": [
    {
     "data": {
      "image/png": "[encoded data removed]",
      "text/plain": [
       "<IPython.core.display.Image object>"
      ]
     },
     "execution_count": 12,
     "metadata": {},
     "output_type": "execute_result"
    }
   ],
   "source": [
    "utils.plot_model(model, 'model.png', show_shapes=True)"
   ]
  },
  {
   "cell_type": "code",
   "execution_count": 13,
   "metadata": {},
   "outputs": [],
   "source": [
    "model.compile(\n",
    "    loss=tf.keras.losses.MeanSquaredError(),\n",
    "    optimizer=tf.keras.optimizers.SGD(1e-5)\n",
    ")"
   ]
  },
  {
   "cell_type": "markdown",
   "metadata": {},
   "source": [
    "## Training"
   ]
  },
  {
   "cell_type": "code",
   "execution_count": 14,
   "metadata": {
    "scrolled": true
   },
   "outputs": [
    {
     "name": "stdout",
     "output_type": "stream",
     "text": [
      "Train on 244 samples\n",
      "Epoch 1/50\n",
      "244/244 [==============================] - 0s 2ms/sample - loss: 589.1492\n",
      "Epoch 2/50\n",
      "244/244 [==============================] - 0s 43us/sample - loss: 505.1519\n",
      "Epoch 3/50\n",
      "244/244 [==============================] - 0s 43us/sample - loss: 434.5103\n",
      "Epoch 4/50\n",
      "244/244 [==============================] - 0s 44us/sample - loss: 372.9075\n",
      "Epoch 5/50\n",
      "244/244 [==============================] - 0s 44us/sample - loss: 320.3050\n",
      "Epoch 6/50\n",
      "244/244 [==============================] - 0s 44us/sample - loss: 274.4139\n",
      "Epoch 7/50\n",
      "244/244 [==============================] - 0s 44us/sample - loss: 235.6692\n",
      "Epoch 8/50\n",
      "244/244 [==============================] - 0s 42us/sample - loss: 202.0557\n",
      "Epoch 9/50\n",
      "244/244 [==============================] - 0s 41us/sample - loss: 173.7316\n",
      "Epoch 10/50\n",
      "244/244 [==============================] - 0s 41us/sample - loss: 149.3697\n",
      "Epoch 11/50\n",
      "244/244 [==============================] - 0s 42us/sample - loss: 128.7657\n",
      "Epoch 12/50\n",
      "244/244 [==============================] - 0s 42us/sample - loss: 111.0188\n",
      "Epoch 13/50\n",
      "244/244 [==============================] - 0s 42us/sample - loss: 95.5876\n",
      "Epoch 14/50\n",
      "244/244 [==============================] - 0s 44us/sample - loss: 82.3947\n",
      "Epoch 15/50\n",
      "244/244 [==============================] - 0s 43us/sample - loss: 71.0615\n",
      "Epoch 16/50\n",
      "244/244 [==============================] - 0s 43us/sample - loss: 61.4136\n",
      "Epoch 17/50\n",
      "244/244 [==============================] - 0s 43us/sample - loss: 53.0150\n",
      "Epoch 18/50\n",
      "244/244 [==============================] - 0s 42us/sample - loss: 45.7674\n",
      "Epoch 19/50\n",
      "244/244 [==============================] - 0s 42us/sample - loss: 39.5704\n",
      "Epoch 20/50\n",
      "244/244 [==============================] - 0s 45us/sample - loss: 34.3643\n",
      "Epoch 21/50\n",
      "244/244 [==============================] - 0s 43us/sample - loss: 29.8554\n",
      "Epoch 22/50\n",
      "244/244 [==============================] - 0s 40us/sample - loss: 26.0302\n",
      "Epoch 23/50\n",
      "244/244 [==============================] - 0s 45us/sample - loss: 22.7362\n",
      "Epoch 24/50\n",
      "244/244 [==============================] - 0s 43us/sample - loss: 19.9129\n",
      "Epoch 25/50\n",
      "244/244 [==============================] - 0s 44us/sample - loss: 17.4845\n",
      "Epoch 26/50\n",
      "244/244 [==============================] - 0s 43us/sample - loss: 15.3615\n",
      "Epoch 27/50\n",
      "244/244 [==============================] - 0s 42us/sample - loss: 13.5614\n",
      "Epoch 28/50\n",
      "244/244 [==============================] - 0s 42us/sample - loss: 12.0290\n",
      "Epoch 29/50\n",
      "244/244 [==============================] - 0s 43us/sample - loss: 10.7060\n",
      "Epoch 30/50\n",
      "244/244 [==============================] - 0s 41us/sample - loss: 9.5891\n",
      "Epoch 31/50\n",
      "244/244 [==============================] - 0s 42us/sample - loss: 8.6234\n",
      "Epoch 32/50\n",
      "244/244 [==============================] - 0s 42us/sample - loss: 7.7899\n",
      "Epoch 33/50\n",
      "244/244 [==============================] - 0s 41us/sample - loss: 7.0792\n",
      "Epoch 34/50\n",
      "244/244 [==============================] - 0s 43us/sample - loss: 6.4523\n",
      "Epoch 35/50\n",
      "244/244 [==============================] - 0s 49us/sample - loss: 5.9342\n",
      "Epoch 36/50\n",
      "244/244 [==============================] - 0s 45us/sample - loss: 5.4893\n",
      "Epoch 37/50\n",
      "244/244 [==============================] - 0s 42us/sample - loss: 5.0930\n",
      "Epoch 38/50\n",
      "244/244 [==============================] - 0s 41us/sample - loss: 4.7640\n",
      "Epoch 39/50\n",
      "244/244 [==============================] - 0s 43us/sample - loss: 4.4776\n",
      "Epoch 40/50\n",
      "244/244 [==============================] - 0s 44us/sample - loss: 4.2338\n",
      "Epoch 41/50\n",
      "244/244 [==============================] - 0s 45us/sample - loss: 4.0225\n",
      "Epoch 42/50\n",
      "244/244 [==============================] - 0s 37us/sample - loss: 3.8417\n",
      "Epoch 43/50\n",
      "244/244 [==============================] - 0s 41us/sample - loss: 3.6964\n",
      "Epoch 44/50\n",
      "244/244 [==============================] - 0s 41us/sample - loss: 3.5567\n",
      "Epoch 45/50\n",
      "244/244 [==============================] - 0s 41us/sample - loss: 3.4433\n",
      "Epoch 46/50\n",
      "244/244 [==============================] - 0s 42us/sample - loss: 3.3436\n",
      "Epoch 47/50\n",
      "244/244 [==============================] - 0s 49us/sample - loss: 3.2562\n",
      "Epoch 48/50\n",
      "244/244 [==============================] - 0s 44us/sample - loss: 3.1815\n",
      "Epoch 49/50\n",
      "244/244 [==============================] - 0s 44us/sample - loss: 3.1173\n",
      "Epoch 50/50\n",
      "244/244 [==============================] - 0s 43us/sample - loss: 3.0646\n"
     ]
    }
   ],
   "source": [
    "history = model.fit(\n",
    "    data, label, epochs=50\n",
    ")"
   ]
  },
  {
   "cell_type": "code",
   "execution_count": 15,
   "metadata": {},
   "outputs": [
    {
     "data": {
      "image/png": "[encoded data removed]",
      "text/plain": [
       "<Figure size 432x288 with 1 Axes>"
      ]
     },
     "metadata": {},
     "output_type": "display_data"
    }
   ],
   "source": [
    "plt.xlabel(\"Epoch\")\n",
    "plt.ylabel(\"Loss\")\n",
    "plt.plot(history.history[\"loss\"])\n",
    "plt.show()"
   ]
  },
  {
   "cell_type": "markdown",
   "metadata": {},
   "source": [
    "## Predict"
   ]
  },
  {
   "cell_type": "code",
   "execution_count": 16,
   "metadata": {
    "scrolled": true
   },
   "outputs": [],
   "source": [
    "errors = []\n",
    "for itemData, itemLabel in zip(data, label):\n",
    "    predicted = model.predict([itemData.tolist()])\n",
    "    tip = np.asscalar(itemLabel)\n",
    "    tipPred = np.asscalar(predicted)\n",
    "    errors.append(tip - tipPred)"
   ]
  },
  {
   "cell_type": "code",
   "execution_count": 17,
   "metadata": {},
   "outputs": [
    {
     "data": {
      "text/plain": [
       "1.4005824967827953"
      ]
     },
     "execution_count": 17,
     "metadata": {},
     "output_type": "execute_result"
    }
   ],
   "source": [
    "np.average(np.abs(errors))"
   ]
  },
  {
   "cell_type": "code",
   "execution_count": 18,
   "metadata": {},
   "outputs": [],
   "source": [
    "# errors"
   ]
  },
  {
   "cell_type": "code",
   "execution_count": null,
   "metadata": {},
   "outputs": [],
   "source": []
  }
 ],
 "metadata": {
  "kernelspec": {
   "display_name": "Python 3",
   "language": "python",
   "name": "python3"
  },
  "language_info": {
   "codemirror_mode": {
    "name": "ipython",
    "version": 3
   },
   "file_extension": ".py",
   "mimetype": "text/x-python",
   "name": "python",
   "nbconvert_exporter": "python",
   "pygments_lexer": "ipython3",
   "version": "3.7.7"
  },
  "toc-autonumbering": true
 },
 "nbformat": 4,
 "nbformat_minor": 4
}
