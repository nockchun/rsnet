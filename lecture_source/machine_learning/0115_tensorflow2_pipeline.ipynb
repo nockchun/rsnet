{
 "cells": [
  {
   "cell_type": "markdown",
   "metadata": {},
   "source": [
    "<div class=\"alert alert-block alert-success\">\n",
    "    <b><center>Tensorflow 2</center></b>\n",
    "    <b><center>Tensorflow 2기본 사용법</center></b>\n",
    "</div>"
   ]
  },
  {
   "cell_type": "markdown",
   "metadata": {},
   "source": [
    "# Configure Learning Environment"
   ]
  },
  {
   "cell_type": "code",
   "execution_count": 2,
   "metadata": {},
   "outputs": [],
   "source": [
    "# !pip install git+https://github.com/nockchun/rspy --force\n",
    "import rspy as rsp\n",
    "rsp.setSystemWarning(off=True)"
   ]
  },
  {
   "cell_type": "code",
   "execution_count": 3,
   "metadata": {},
   "outputs": [],
   "source": [
    "import numpy as np\n",
    "import matplotlib.pyplot as plt\n",
    "\n",
    "import pandas as pd\n",
    "import seaborn as sns\n",
    "import tensorflow as tf\n",
    "from tensorflow.keras import utils, layers, models, losses"
   ]
  },
  {
   "cell_type": "code",
   "execution_count": 4,
   "metadata": {},
   "outputs": [
    {
     "data": {
      "text/plain": [
       "'2.0.0'"
      ]
     },
     "execution_count": 4,
     "metadata": {},
     "output_type": "execute_result"
    }
   ],
   "source": [
    "np.set_printoptions(linewidth=200, precision=2)\n",
    "sns.set_style(\"whitegrid\")\n",
    "tf.__version__"
   ]
  },
  {
   "cell_type": "markdown",
   "metadata": {
    "toc-hr-collapsed": true
   },
   "source": [
    "# Basic"
   ]
  },
  {
   "cell_type": "code",
   "execution_count": 5,
   "metadata": {},
   "outputs": [],
   "source": [
    "data = np.random.random([10, 5])"
   ]
  },
  {
   "cell_type": "code",
   "execution_count": 8,
   "metadata": {},
   "outputs": [],
   "source": [
    "ds = tf.data.Dataset.from_tensor_slices(data)"
   ]
  },
  {
   "cell_type": "code",
   "execution_count": 18,
   "metadata": {},
   "outputs": [],
   "source": [
    "def myMap(val):\n",
    "    return val + 1"
   ]
  },
  {
   "cell_type": "code",
   "execution_count": 19,
   "metadata": {},
   "outputs": [
    {
     "name": "stdout",
     "output_type": "stream",
     "text": [
      "tf.Tensor([0.41 0.41 0.15 0.48 0.17], shape=(5,), dtype=float64)\n",
      "tf.Tensor([0.88 0.31 0.16 0.09 0.15], shape=(5,), dtype=float64)\n",
      "tf.Tensor([0.49 0.22 0.51 0.98 0.21], shape=(5,), dtype=float64)\n",
      "tf.Tensor([0.86 0.3  0.45 0.5  0.18], shape=(5,), dtype=float64)\n",
      "tf.Tensor([0.53 0.36 0.07 0.53 0.82], shape=(5,), dtype=float64)\n",
      "tf.Tensor([0.76 0.26 0.77 0.65 0.1 ], shape=(5,), dtype=float64)\n",
      "tf.Tensor([7.22e-01 1.77e-01 1.98e-04 1.97e-01 6.05e-01], shape=(5,), dtype=float64)\n",
      "tf.Tensor([0.84 0.43 0.6  0.82 0.27], shape=(5,), dtype=float64)\n",
      "tf.Tensor([0.65 0.15 0.25 0.02 0.84], shape=(5,), dtype=float64)\n",
      "tf.Tensor([0.25 0.65 0.97 0.97 0.87], shape=(5,), dtype=float64)\n"
     ]
    }
   ],
   "source": [
    "for item in ds:\n",
    "    print(item)"
   ]
  },
  {
   "cell_type": "code",
   "execution_count": 94,
   "metadata": {},
   "outputs": [
    {
     "name": "stdout",
     "output_type": "stream",
     "text": [
      "tf.Tensor([1.41 1.41 1.15 1.48 1.17], shape=(5,), dtype=float64)\n",
      "tf.Tensor([1.88 1.31 1.16 1.09 1.15], shape=(5,), dtype=float64)\n",
      "tf.Tensor([1.49 1.22 1.51 1.98 1.21], shape=(5,), dtype=float64)\n",
      "tf.Tensor([1.86 1.3  1.45 1.5  1.18], shape=(5,), dtype=float64)\n",
      "tf.Tensor([1.53 1.36 1.07 1.53 1.82], shape=(5,), dtype=float64)\n",
      "tf.Tensor([1.76 1.26 1.77 1.65 1.1 ], shape=(5,), dtype=float64)\n",
      "tf.Tensor([1.72 1.18 1.   1.2  1.6 ], shape=(5,), dtype=float64)\n",
      "tf.Tensor([1.84 1.43 1.6  1.82 1.27], shape=(5,), dtype=float64)\n",
      "tf.Tensor([1.65 1.15 1.25 1.02 1.84], shape=(5,), dtype=float64)\n",
      "tf.Tensor([1.25 1.65 1.97 1.97 1.87], shape=(5,), dtype=float64)\n"
     ]
    }
   ],
   "source": [
    "for item in ds.map(myMap):\n",
    "    print(item)"
   ]
  },
  {
   "cell_type": "code",
   "execution_count": 111,
   "metadata": {},
   "outputs": [
    {
     "name": "stdout",
     "output_type": "stream",
     "text": [
      "tf.Tensor([0.88 0.31 0.16 0.09 0.15], shape=(5,), dtype=float64)\n",
      "tf.Tensor([7.22e-01 1.77e-01 1.98e-04 1.97e-01 6.05e-01], shape=(5,), dtype=float64)\n",
      "tf.Tensor([0.41 0.41 0.15 0.48 0.17], shape=(5,), dtype=float64)\n",
      "tf.Tensor([0.76 0.26 0.77 0.65 0.1 ], shape=(5,), dtype=float64)\n",
      "tf.Tensor([0.86 0.3  0.45 0.5  0.18], shape=(5,), dtype=float64)\n",
      "tf.Tensor([0.25 0.65 0.97 0.97 0.87], shape=(5,), dtype=float64)\n",
      "tf.Tensor([0.53 0.36 0.07 0.53 0.82], shape=(5,), dtype=float64)\n",
      "tf.Tensor([0.65 0.15 0.25 0.02 0.84], shape=(5,), dtype=float64)\n",
      "tf.Tensor([0.49 0.22 0.51 0.98 0.21], shape=(5,), dtype=float64)\n",
      "tf.Tensor([0.84 0.43 0.6  0.82 0.27], shape=(5,), dtype=float64)\n"
     ]
    }
   ],
   "source": [
    "for item in ds.shuffle(10):\n",
    "    print(item)"
   ]
  },
  {
   "cell_type": "code",
   "execution_count": 113,
   "metadata": {},
   "outputs": [
    {
     "name": "stdout",
     "output_type": "stream",
     "text": [
      "tf.Tensor(\n",
      "[[0.41 0.41 0.15 0.48 0.17]\n",
      " [0.88 0.31 0.16 0.09 0.15]], shape=(2, 5), dtype=float64)\n",
      "tf.Tensor(\n",
      "[[0.49 0.22 0.51 0.98 0.21]\n",
      " [0.86 0.3  0.45 0.5  0.18]], shape=(2, 5), dtype=float64)\n",
      "tf.Tensor(\n",
      "[[0.53 0.36 0.07 0.53 0.82]\n",
      " [0.76 0.26 0.77 0.65 0.1 ]], shape=(2, 5), dtype=float64)\n",
      "tf.Tensor(\n",
      "[[7.22e-01 1.77e-01 1.98e-04 1.97e-01 6.05e-01]\n",
      " [8.44e-01 4.29e-01 6.04e-01 8.22e-01 2.72e-01]], shape=(2, 5), dtype=float64)\n",
      "tf.Tensor(\n",
      "[[0.65 0.15 0.25 0.02 0.84]\n",
      " [0.25 0.65 0.97 0.97 0.87]], shape=(2, 5), dtype=float64)\n"
     ]
    }
   ],
   "source": [
    "for item in ds.batch(2):\n",
    "    print(item)"
   ]
  },
  {
   "cell_type": "code",
   "execution_count": 137,
   "metadata": {},
   "outputs": [],
   "source": [
    "feed = ds.map(myMap).shuffle(10).batch(2)"
   ]
  },
  {
   "cell_type": "code",
   "execution_count": 140,
   "metadata": {},
   "outputs": [
    {
     "name": "stdout",
     "output_type": "stream",
     "text": [
      "tf.Tensor(\n",
      "[[1.49 1.22 1.51 1.98 1.21]\n",
      " [1.41 1.41 1.15 1.48 1.17]], shape=(2, 5), dtype=float64)\n",
      "tf.Tensor(\n",
      "[[1.86 1.3  1.45 1.5  1.18]\n",
      " [1.72 1.18 1.   1.2  1.6 ]], shape=(2, 5), dtype=float64)\n",
      "tf.Tensor(\n",
      "[[1.76 1.26 1.77 1.65 1.1 ]\n",
      " [1.84 1.43 1.6  1.82 1.27]], shape=(2, 5), dtype=float64)\n",
      "tf.Tensor(\n",
      "[[1.88 1.31 1.16 1.09 1.15]\n",
      " [1.65 1.15 1.25 1.02 1.84]], shape=(2, 5), dtype=float64)\n",
      "tf.Tensor(\n",
      "[[1.53 1.36 1.07 1.53 1.82]\n",
      " [1.25 1.65 1.97 1.97 1.87]], shape=(2, 5), dtype=float64)\n",
      "\n",
      "tf.Tensor(\n",
      "[[1.53 1.36 1.07 1.53 1.82]\n",
      " [1.25 1.65 1.97 1.97 1.87]], shape=(2, 5), dtype=float64)\n",
      "tf.Tensor(\n",
      "[[1.84 1.43 1.6  1.82 1.27]\n",
      " [1.88 1.31 1.16 1.09 1.15]], shape=(2, 5), dtype=float64)\n",
      "tf.Tensor(\n",
      "[[1.72 1.18 1.   1.2  1.6 ]\n",
      " [1.86 1.3  1.45 1.5  1.18]], shape=(2, 5), dtype=float64)\n",
      "tf.Tensor(\n",
      "[[1.76 1.26 1.77 1.65 1.1 ]\n",
      " [1.41 1.41 1.15 1.48 1.17]], shape=(2, 5), dtype=float64)\n",
      "tf.Tensor(\n",
      "[[1.65 1.15 1.25 1.02 1.84]\n",
      " [1.49 1.22 1.51 1.98 1.21]], shape=(2, 5), dtype=float64)\n",
      "\n"
     ]
    }
   ],
   "source": [
    "for _ in range(2):\n",
    "    for item in feed:\n",
    "        print(item)\n",
    "    print()"
   ]
  },
  {
   "cell_type": "code",
   "execution_count": 141,
   "metadata": {},
   "outputs": [
    {
     "name": "stdout",
     "output_type": "stream",
     "text": [
      "tf.Tensor(\n",
      "[[1.41 1.41 1.15 1.48 1.17]\n",
      " [1.25 1.65 1.97 1.97 1.87]], shape=(2, 5), dtype=float64)\n",
      "tf.Tensor(\n",
      "[[1.72 1.18 1.   1.2  1.6 ]\n",
      " [1.88 1.31 1.16 1.09 1.15]], shape=(2, 5), dtype=float64)\n",
      "\n",
      "tf.Tensor(\n",
      "[[1.76 1.26 1.77 1.65 1.1 ]\n",
      " [1.25 1.65 1.97 1.97 1.87]], shape=(2, 5), dtype=float64)\n",
      "tf.Tensor(\n",
      "[[1.88 1.31 1.16 1.09 1.15]\n",
      " [1.86 1.3  1.45 1.5  1.18]], shape=(2, 5), dtype=float64)\n",
      "\n"
     ]
    }
   ],
   "source": [
    "for _ in range(2):\n",
    "    for item in feed.take(2):\n",
    "        print(item)\n",
    "    print()"
   ]
  },
  {
   "cell_type": "code",
   "execution_count": null,
   "metadata": {},
   "outputs": [],
   "source": []
  }
 ],
 "metadata": {
  "kernelspec": {
   "display_name": "Python 3",
   "language": "python",
   "name": "python3"
  },
  "language_info": {
   "codemirror_mode": {
    "name": "ipython",
    "version": 3
   },
   "file_extension": ".py",
   "mimetype": "text/x-python",
   "name": "python",
   "nbconvert_exporter": "python",
   "pygments_lexer": "ipython3",
   "version": "3.7.6"
  },
  "toc-autonumbering": true,
  "toc-showmarkdowntxt": false
 },
 "nbformat": 4,
 "nbformat_minor": 4
}
