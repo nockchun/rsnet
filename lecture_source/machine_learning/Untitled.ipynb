{
 "cells": [
  {
   "cell_type": "code",
   "execution_count": 5,
   "metadata": {},
   "outputs": [],
   "source": [
    "import tensorflow as tf\n",
    "import numpy as np"
   ]
  },
  {
   "cell_type": "code",
   "execution_count": 16,
   "metadata": {},
   "outputs": [],
   "source": [
    "data = ['안녕하세요', '반갑습니다', '신촌으로와', '저녁먹을까', '이것만하고',\n",
    "        '감사합니다', '도와주세요', '어디갔었어', '정신좀차려', '제정신이니',\n",
    "        '어디간거야', '어디가세요', '점심먹었니', '신촌에있어']"
   ]
  },
  {
   "cell_type": "code",
   "execution_count": 17,
   "metadata": {},
   "outputs": [],
   "source": [
    "def encode_char(ch):\n",
    "    cho = list('ㄱㄲㄴㄷㄸㄹㅁㅂㅃㅅㅆㅇㅈㅉㅊㅋㅌㅍㅎ')                    # 19\n",
    "    joong = list('ㅏㅐㅑㅒㅓㅔㅕㅖㅗㅘㅙㅚㅛㅜㅝㅞㅟㅠㅡㅢㅣ')              # 21\n",
    "    jong = list(' ㄱㄲㄳㄴㄵㄶㄷㄹㄺㄻㄼㄽㄾㄿㅀㅁㅂㅄㅅㅆㅇㅈㅊㅋㅌㅍㅎ')  # 28\n",
    "\n",
    "    d = ord(ch) - 0xAC00\n",
    "    c = d % 28\n",
    "    b = (d - c) // 28 % 21\n",
    "    a = ((d - c) // 28 - b) // 21\n",
    "\n",
    "    return [int(i == a) for i in range(len(cho))] + [int(i == b) for i in range(len(joong))] + [int(i == c) for i in range(len(jong))] # 68"
   ]
  },
  {
   "cell_type": "code",
   "execution_count": 18,
   "metadata": {},
   "outputs": [],
   "source": [
    "def decode_char(vec):\n",
    "    cho = list('ㄱㄲㄴㄷㄸㄹㅁㅂㅃㅅㅆㅇㅈㅉㅊㅋㅌㅍㅎ')                    # 19\n",
    "    joong = list('ㅏㅐㅑㅒㅓㅔㅕㅖㅗㅘㅙㅚㅛㅜㅝㅞㅟㅠㅡㅢㅣ')              # 21\n",
    "    jong = list(' ㄱㄲㄳㄴㄵㄶㄷㄹㄺㄻㄼㄽㄾㄿㅀㅁㅂㅄㅅㅆㅇㅈㅊㅋㅌㅍㅎ')  # 28\n",
    "\n",
    "    a = 0\n",
    "    for i in range(0, 19):\n",
    "        if vec[i] > vec[a]:\n",
    "            a = i\n",
    "    b = 19\n",
    "    for i in range(19, 40):\n",
    "        if vec[i] > vec[b]:\n",
    "            b = i\n",
    "    b -= 19\n",
    "    c = 40\n",
    "    for i in range(40, 68):\n",
    "        if vec[i] > vec[c]:\n",
    "            c = i\n",
    "    c -= 40\n",
    "    d = (a * 21 + b) * 28 + c\n",
    "    ch = chr(d + 0xAC00)\n",
    "\n",
    "    return ch"
   ]
  },
  {
   "cell_type": "code",
   "execution_count": 19,
   "metadata": {},
   "outputs": [],
   "source": [
    "def make_batch(data):\n",
    "    input_batch = []\n",
    "    target_batch = []\n",
    "\n",
    "    for d in data:\n",
    "        input_batch.append([encode_char(ch) for ch in d[:-1]])\n",
    "        target_batch.append(encode_char(d[-1]))\n",
    "\n",
    "    return input_batch, target_batch"
   ]
  },
  {
   "cell_type": "code",
   "execution_count": 20,
   "metadata": {},
   "outputs": [],
   "source": [
    "learning_rate = 0.01\n",
    "n_hidden = 128\n",
    "total_epoch = 100\n",
    "n_step = 4\n",
    "n_input = n_class = 68"
   ]
  },
  {
   "cell_type": "code",
   "execution_count": 21,
   "metadata": {},
   "outputs": [],
   "source": [
    "tf.reset_default_graph()\n",
    "X = tf.placeholder(tf.float32, [None, n_step, n_input])\n",
    "Y = tf.placeholder(tf.int32, [None, n_class])\n",
    "W_xh = tf.Variable(tf.random_normal([n_input, n_hidden]))\n",
    "W_hh = tf.Variable(tf.random_normal([n_hidden, n_hidden]))\n",
    "b_h = tf.Variable(tf.random_normal([n_hidden]))\n",
    "W_hy = tf.Variable(tf.random_normal([n_hidden, n_class]))\n",
    "b_y = tf.Variable(tf.random_normal([n_class]))\n",
    "x_tr = tf.transpose(X, [1, 0, 2])\n",
    "x_stream = tf.unstack(x_tr)\n",
    "h = tf.Variable(tf.zeros([len(data), n_hidden]))\n",
    "for x in x_stream:\n",
    "    h = tf.nn.tanh(tf.matmul(h, W_hh) + tf.matmul(x, W_xh) + b_h)\n",
    "    y = tf.matmul(h, W_hy) + b_y\n",
    "cost = tf.reduce_mean(tf.nn.softmax_cross_entropy_with_logits(logits=y, labels=Y))\n",
    "train = tf.train.AdamOptimizer(learning_rate).minimize(cost)\n",
    "input_batch, target_batch = make_batch(data)"
   ]
  },
  {
   "cell_type": "code",
   "execution_count": 22,
   "metadata": {},
   "outputs": [
    {
     "name": "stdout",
     "output_type": "stream",
     "text": [
      "10 21.29425\n",
      "20 12.115883\n",
      "30 7.2888947\n",
      "40 6.259108\n",
      "50 5.3768797\n",
      "60 5.825768\n",
      "70 5.230594\n",
      "80 5.662709\n",
      "90 5.58784\n",
      "100 6.1576576\n",
      "원본: ['안녕하세ㅁ', '반갑습니ㅁ', '신촌으로ㅁ', '저녁먹을ㅁ', '이것만하ㅁ', '감사합니ㅁ', '도와주세ㅁ', '어디갔었ㅁ', '정신좀차ㅁ', '제정신이ㅁ', '어디간거ㅁ', '어디가세ㅁ', '점심먹었ㅁ', '신촌에있ㅁ']\n",
      "예측: ['안녕하세요', '반갑습니다', '신촌으로와', '저녁먹을까', '이것만하고', '감사합니다', '도와주세요', '어디갔었어', '정신좀차려', '제정신이니', '어디간거야', '어디가세요', '점심먹었니', '신촌에있어']\n",
      "정확도: 1.0\n"
     ]
    }
   ],
   "source": [
    "with tf.Session() as sess:\n",
    "    sess.run(tf.global_variables_initializer())\n",
    "    for epoch in range(1, total_epoch + 1):\n",
    "        _, loss = sess.run([train, cost], feed_dict={X:input_batch, Y:target_batch})\n",
    "        if epoch % 10: continue\n",
    "        print(epoch, loss)\n",
    "    ret = sess.run(y, feed_dict={X:input_batch})\n",
    "    print('원본:', [d[:-1] + 'ㅁ' for d in data])\n",
    "    print('예측:', [data[i][:-1] + decode_char(r) for i, r in enumerate(ret)])\n",
    "    print('정확도:', sum([int(data[i][-1] == decode_char(r)) for i, r in enumerate(ret)]) / len(data))"
   ]
  },
  {
   "cell_type": "code",
   "execution_count": null,
   "metadata": {},
   "outputs": [],
   "source": []
  }
 ],
 "metadata": {
  "kernelspec": {
   "display_name": "Tensorflow 1",
   "language": "python",
   "name": "tf1"
  },
  "language_info": {
   "codemirror_mode": {
    "name": "ipython",
    "version": 3
   },
   "file_extension": ".py",
   "mimetype": "text/x-python",
   "name": "python",
   "nbconvert_exporter": "python",
   "pygments_lexer": "ipython3",
   "version": "3.7.6"
  }
 },
 "nbformat": 4,
 "nbformat_minor": 4
}
