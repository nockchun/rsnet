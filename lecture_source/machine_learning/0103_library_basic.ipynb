{
 "cells": [
  {
   "cell_type": "code",
   "execution_count": null,
   "metadata": {},
   "outputs": [],
   "source": [
    "# !pip install git+https://github.com/nockchun/rspy --force\n",
    "import rspy as rsp"
   ]
  },
  {
   "cell_type": "code",
   "execution_count": null,
   "metadata": {},
   "outputs": [],
   "source": [
    "import os\n",
    "import numpy as np\n",
    "import pandas as pd"
   ]
  },
  {
   "cell_type": "markdown",
   "metadata": {
    "toc-hr-collapsed": true
   },
   "source": [
    "# Pandas"
   ]
  },
  {
   "cell_type": "markdown",
   "metadata": {},
   "source": [
    "## DataFrame 만들기"
   ]
  },
  {
   "cell_type": "code",
   "execution_count": null,
   "metadata": {},
   "outputs": [],
   "source": [
    "df = pd.DataFrame({\n",
    "    \"col1\" : [\"foo1\", \"foo2\", \"foo3\"],\n",
    "    \"col2\" : [\"bar1\", \"bar2\", \"bar3\"],\n",
    "    \"col3\" : [\"A\", \"B\", \"C\"],\n",
    "    \"col4\" : [100, 200, 300]\n",
    "})"
   ]
  },
  {
   "cell_type": "code",
   "execution_count": null,
   "metadata": {},
   "outputs": [],
   "source": [
    "df"
   ]
  },
  {
   "cell_type": "code",
   "execution_count": null,
   "metadata": {},
   "outputs": [],
   "source": [
    "rsp.showMulti(\n",
    "    type(df[\"col1\"]), df[\"col1\"], df.col1\n",
    ")"
   ]
  },
  {
   "cell_type": "code",
   "execution_count": null,
   "metadata": {},
   "outputs": [],
   "source": [
    "# dictionary로 부터 만들기\n",
    "dfDict = pd.DataFrame.from_dict({\n",
    "    \"row0\" : {\"col0\":0, \"col1\":\"A\"},\n",
    "    \"row1\" : {\"col0\":1, \"col1\":\"B\"}\n",
    "})"
   ]
  },
  {
   "cell_type": "code",
   "execution_count": null,
   "metadata": {},
   "outputs": [],
   "source": [
    "rsp.showMulti(\n",
    "    dfDict, dfDict.T\n",
    ")\n"
   ]
  },
  {
   "cell_type": "markdown",
   "metadata": {},
   "source": [
    "## 외부 데이터 Load/Save"
   ]
  },
  {
   "cell_type": "code",
   "execution_count": null,
   "metadata": {},
   "outputs": [],
   "source": [
    "dfCsv = pd.read_csv(\"demo.csv\")"
   ]
  },
  {
   "cell_type": "code",
   "execution_count": null,
   "metadata": {},
   "outputs": [],
   "source": [
    "dfCsv"
   ]
  },
  {
   "cell_type": "code",
   "execution_count": null,
   "metadata": {},
   "outputs": [],
   "source": [
    "dfCsv.to_excel(\"demo.xls\", index=False)"
   ]
  },
  {
   "cell_type": "code",
   "execution_count": null,
   "metadata": {},
   "outputs": [],
   "source": [
    "dfXls = pd.read_excel(\"demo.xls\")\n",
    "dfXls"
   ]
  },
  {
   "cell_type": "code",
   "execution_count": null,
   "metadata": {},
   "outputs": [],
   "source": [
    "os.remove(\"demo.xls\")"
   ]
  },
  {
   "cell_type": "markdown",
   "metadata": {},
   "source": [
    "## Dataframe Query"
   ]
  },
  {
   "cell_type": "code",
   "execution_count": null,
   "metadata": {},
   "outputs": [],
   "source": [
    "# select where\n",
    "rsp.showMulti(\n",
    "    df[df.col1 == \"foo1\"], df[ (df.col1 == \"foo1\") & (df.col4 <= 200) ]\n",
    ")"
   ]
  },
  {
   "cell_type": "code",
   "execution_count": null,
   "metadata": {},
   "outputs": [],
   "source": [
    "# join\n",
    "rsp.showMulti(\n",
    "    df, dfDict.T, dfDict.T.rename(columns={\"col1\":\"col3\"})\n",
    ")"
   ]
  },
  {
   "cell_type": "code",
   "execution_count": null,
   "metadata": {},
   "outputs": [],
   "source": [
    "rsp.showMulti(\n",
    "    pd.merge(df, dfDict.T.rename(columns={\"col1\":\"col3\"}), on=\"col3\", how=\"inner\"),\n",
    "    pd.merge(df, dfDict.T.rename(columns={\"col1\":\"col3\"}), on=\"col3\", how=\"outer\"),\n",
    "    pd.merge(df, dfDict.T.rename(columns={\"col1\":\"col3\"}), on=\"col3\", how=\"right\"),\n",
    ")"
   ]
  },
  {
   "cell_type": "markdown",
   "metadata": {
    "toc-hr-collapsed": true
   },
   "source": [
    "# Matplotlib"
   ]
  },
  {
   "cell_type": "code",
   "execution_count": null,
   "metadata": {},
   "outputs": [],
   "source": [
    "import matplotlib.pyplot as plt"
   ]
  },
  {
   "cell_type": "code",
   "execution_count": null,
   "metadata": {},
   "outputs": [],
   "source": [
    "# rsp.getSystemFonts(\"nanum\")"
   ]
  },
  {
   "cell_type": "code",
   "execution_count": null,
   "metadata": {},
   "outputs": [],
   "source": [
    "plotConf = rsp.EduPlotConf(font=\"NanumGothicCoding\")\n",
    "plotConf.set()\n",
    "rsp.setSystemWarning()"
   ]
  },
  {
   "cell_type": "code",
   "execution_count": null,
   "metadata": {},
   "outputs": [],
   "source": [
    "x = np.arange(100)\n",
    "y = np.random.rand(100)"
   ]
  },
  {
   "cell_type": "code",
   "execution_count": null,
   "metadata": {},
   "outputs": [],
   "source": [
    "plt.plot(x, y)\n",
    "plt.title(\"회차별 랜덤 값\")\n",
    "plt.ylabel(\"랜덤 값\")\n",
    "plt.xlabel(\"회차\")\n",
    "plt.grid(True)\n",
    "plt.show()"
   ]
  },
  {
   "cell_type": "markdown",
   "metadata": {
    "toc-hr-collapsed": true
   },
   "source": [
    "## 함수 그리기"
   ]
  },
  {
   "cell_type": "code",
   "execution_count": null,
   "metadata": {},
   "outputs": [],
   "source": [
    "t = np.arange(.0, 5.0, 0.2)\n",
    "plt.plot(t, t, \"r--\")\n",
    "plt.plot(t, 0.5*t**2, \"b:\")\n",
    "plt.plot(t, 0.2*t**3, \"g\")\n",
    "\n",
    "plt.title(\"multiple line\")\n",
    "plt.grid(True)\n",
    "plt.show()"
   ]
  },
  {
   "cell_type": "markdown",
   "metadata": {},
   "source": [
    "### 색\n",
    "| 색 문자 | 의미 |<b>\\|</b> | 색 문자 | 의미 | <b>\\|</b> | 색 문자 | 의미 |<b>\\|</b> | 색 문자 | 의미 |<b>\\|</b>| 색 문자 | 의미 |\n",
    "|:--|:--|:--|:--|:--|:--|:--|:--|:--|:--|:--|:--|:--|:--|\n",
    "|b|blue|<b>\\|</b>|g|green|<b>\\|</b>|r|red|<b>\\|</b>|c|cyan|<b>\\|</b>|m|magenta|\n",
    "|y|yellow|<b>\\|</b>|k|black|<b>\\|</b>|w|white|"
   ]
  },
  {
   "cell_type": "markdown",
   "metadata": {},
   "source": [
    "### 마커(marker)\n",
    "|마커문자|의미|<b>\\|</b>|마커문자|의미|<b>\\|</b>|마커문자|의미|<b>\\|</b>|마커문자|의미|\n",
    "|:--|:--|:--|:--|:--|:--|:--|:--|:--|:--|:--|\n",
    "|.|point marker|<b>\\|</b>|,|pixel marker|<b>\\|</b>|o|circle marker|<b>\\|</b>|v|triangle_down marker|\n",
    "|^|triangle_up marker|<b>\\|</b>|<|triangle_left marker|<b>\\|</b>|>|triangle_right marker|<b>\\|</b>|1|tri_down marker|\n",
    "|2|tri_up marker|<b>\\|</b>|3|tri_left marker|<b>\\|</b>|4|tri_right marker|<b>\\|</b>|s|square marker|\n",
    "|p|pentagon marker|<b>\\|</b>|\\*|star marker|<b>\\|</b>|h|hexagon1 marker|<b>\\|</b>|H|hexagon2 marker|\n",
    "|+|plus marker|<b>\\|</b>|x|x marker|<b>\\|</b>|D|diamond marker|<b>\\|</b>|d|thin_diamond marker|"
   ]
  },
  {
   "cell_type": "markdown",
   "metadata": {},
   "source": [
    "### 선\n",
    "|선 문자|의미|<b>\\|</b>|선 문자|의미|<b>\\|</b>|선 문자|의미|<b>\\|</b>|선 문자|의미|\n",
    "|:--|:--|:--|:--|:--|:--|:--|:--|:--|:--|:--|\n",
    "|-|solid line style|<b>\\|</b>|--|dashed line style|<b>\\|</b>|-.|desh-dot line style|<b>\\|</b>|:|dotted line style|"
   ]
  },
  {
   "cell_type": "markdown",
   "metadata": {},
   "source": [
    "## EduPlot 활용"
   ]
  },
  {
   "cell_type": "code",
   "execution_count": null,
   "metadata": {},
   "outputs": [],
   "source": [
    "eduPlot = rsp.EduPlot2D(rsp.EduPlotConf(font=\"NanumGothicCoding\", figScale=1.5))"
   ]
  },
  {
   "cell_type": "code",
   "execution_count": null,
   "metadata": {},
   "outputs": [],
   "source": [
    "eduPlot.addFunction(\"0.05*x**3\", name=\"function01\", color=\"#AAAA00\")"
   ]
  },
  {
   "cell_type": "code",
   "execution_count": null,
   "metadata": {},
   "outputs": [],
   "source": [
    "x = np.arange(.0, 5.0, 0.2)\n",
    "y1 = 0.5*x**2\n",
    "y2 = 0.2*x**3\n",
    "eduPlot.addXYData(x, x, \"demo01\", \"r--\")\n",
    "eduPlot.addXYData(x, y1, \"demo02\", \"b:\")\n",
    "eduPlot.addXYData(x, y2, \"demo03\", \"g\")"
   ]
  },
  {
   "cell_type": "code",
   "execution_count": null,
   "metadata": {},
   "outputs": [],
   "source": [
    "eduPlot.addText  ([ [ 6, 6] ], [\"test demo\"])\n",
    "eduPlot.addMarker([ [ 7, 3] ], \"v\", color=\"#FF0000\")\n",
    "eduPlot.addVector([ [-2, 2] ], [ [4, 0] ])"
   ]
  },
  {
   "cell_type": "code",
   "execution_count": null,
   "metadata": {},
   "outputs": [],
   "source": [
    "eduPlot.genSpace([-3, 10], [-3, 10], \"EduPlot 활용\")"
   ]
  },
  {
   "cell_type": "markdown",
   "metadata": {},
   "source": [
    "# Seaborn"
   ]
  },
  {
   "cell_type": "code",
   "execution_count": null,
   "metadata": {},
   "outputs": [],
   "source": [
    "import matplotlib.pyplot as plt\n",
    "import seaborn as sns"
   ]
  },
  {
   "cell_type": "code",
   "execution_count": null,
   "metadata": {},
   "outputs": [],
   "source": [
    "sns.set()\n",
    "sns.set_style('whitegrid')"
   ]
  },
  {
   "cell_type": "code",
   "execution_count": null,
   "metadata": {},
   "outputs": [],
   "source": [
    "iris = sns.load_dataset(\"iris\") # 붓꽃 테스트 데이터\n",
    "type(iris)"
   ]
  },
  {
   "cell_type": "code",
   "execution_count": null,
   "metadata": {},
   "outputs": [],
   "source": [
    "iris.head()"
   ]
  },
  {
   "cell_type": "markdown",
   "metadata": {},
   "source": [
    "* Sepal Length : 꽃받침의 길이 정보.\n",
    "* Sepal Width : 꽃받침의 너비 정보.\n",
    "* Petal Length : 꽃잎의 길이 정보.\n",
    "* Petal Width : 꽃잎의 너비 정보.\n",
    "* Species : 꽃의 종류 정보 (setosa / versicolor / virginica 의 3종류로 구분)."
   ]
  },
  {
   "cell_type": "code",
   "execution_count": null,
   "metadata": {},
   "outputs": [],
   "source": [
    "iris.describe().T"
   ]
  },
  {
   "cell_type": "code",
   "execution_count": null,
   "metadata": {},
   "outputs": [],
   "source": [
    "rsp.EduPlotConf(font=\"NanumGothicCoding\").set()"
   ]
  },
  {
   "cell_type": "code",
   "execution_count": null,
   "metadata": {},
   "outputs": [],
   "source": [
    "sns.distplot(iris.petal_length.values)\n",
    "plt.grid(True)\n",
    "plt.show()"
   ]
  },
  {
   "cell_type": "code",
   "execution_count": null,
   "metadata": {},
   "outputs": [],
   "source": [
    "sns.distplot(iris[iris.species==\"setosa\"].petal_length,     color=\"blue\",   label=\"setoas\")\n",
    "sns.distplot(iris[iris.species==\"versicolor\"].petal_length, color=\"red\",    label=\"versicolor\")\n",
    "sns.distplot(iris[iris.species==\"virginica\"].petal_length,  color=\"green\",  label=\"virginica\")\n",
    "plt.legend(title=\"Species\")\n",
    "plt.show()"
   ]
  },
  {
   "cell_type": "code",
   "execution_count": null,
   "metadata": {},
   "outputs": [],
   "source": [
    "sns.pairplot(iris, hue=\"species\", markers=[\"o\", \"s\", \"D\"])\n",
    "plt.show()"
   ]
  },
  {
   "cell_type": "code",
   "execution_count": null,
   "metadata": {},
   "outputs": [],
   "source": [
    "sns.lmplot(data=iris, x=\"petal_width\", y=\"petal_length\", hue=\"species\")\n",
    "plt.show()"
   ]
  },
  {
   "cell_type": "markdown",
   "metadata": {
    "toc-hr-collapsed": true
   },
   "source": [
    "# Numpy & Tensor"
   ]
  },
  {
   "cell_type": "code",
   "execution_count": null,
   "metadata": {},
   "outputs": [],
   "source": [
    "import numpy as np\n",
    "import tensorflow as tf"
   ]
  },
  {
   "cell_type": "code",
   "execution_count": null,
   "metadata": {},
   "outputs": [],
   "source": [
    "np.set_printoptions(linewidth=200, precision=2)"
   ]
  },
  {
   "cell_type": "code",
   "execution_count": null,
   "metadata": {},
   "outputs": [],
   "source": [
    "np2d = np.random.random([4, 5])\n",
    "np3d = np.random.random([3, 4, 5])\n",
    "np2d.shape, np3d.shape"
   ]
  },
  {
   "cell_type": "code",
   "execution_count": null,
   "metadata": {},
   "outputs": [],
   "source": [
    "rsp.showMulti(np2d, np3d)"
   ]
  },
  {
   "cell_type": "code",
   "execution_count": null,
   "metadata": {},
   "outputs": [],
   "source": [
    "tf2d = tf.convert_to_tensor(np2d)\n",
    "tf3d = tf.Variable(np3d)\n",
    "tf2d.shape, tf3d.shape"
   ]
  },
  {
   "cell_type": "code",
   "execution_count": null,
   "metadata": {},
   "outputs": [],
   "source": [
    "rsp.showMulti(tf2d, tf3d)"
   ]
  },
  {
   "cell_type": "code",
   "execution_count": null,
   "metadata": {},
   "outputs": [],
   "source": [
    "tf2d.numpy()"
   ]
  },
  {
   "cell_type": "markdown",
   "metadata": {},
   "source": [
    "## Slicing"
   ]
  },
  {
   "cell_type": "code",
   "execution_count": null,
   "metadata": {},
   "outputs": [],
   "source": [
    "#list slicing\n",
    "demoList = [1, 2, 3, 4, 5]\n",
    "rsp.showMulti(demoList[0], demoList[0:2], demoList[-1], demoList[:-1], demoList[1:-2])"
   ]
  },
  {
   "cell_type": "code",
   "execution_count": null,
   "metadata": {},
   "outputs": [],
   "source": [
    "np2d[0]"
   ]
  },
  {
   "cell_type": "code",
   "execution_count": null,
   "metadata": {},
   "outputs": [],
   "source": [
    "rsp.showMulti(np2d[:, 0], np2d[:, [0]], np2d[:, 0:1])"
   ]
  },
  {
   "cell_type": "code",
   "execution_count": null,
   "metadata": {},
   "outputs": [],
   "source": [
    "rsp.showMulti(tf2d[:,0].numpy(), tf.reshape(tf2d[:,0], [-1, 1]).numpy())"
   ]
  },
  {
   "cell_type": "code",
   "execution_count": null,
   "metadata": {},
   "outputs": [],
   "source": [
    "np3d[0:2,:,2:3]"
   ]
  },
  {
   "cell_type": "code",
   "execution_count": null,
   "metadata": {},
   "outputs": [],
   "source": [
    "np3d"
   ]
  },
  {
   "cell_type": "code",
   "execution_count": null,
   "metadata": {},
   "outputs": [],
   "source": [
    "rsp.showMulti(np3d[1], np3d[1][1:3,1:2])"
   ]
  },
  {
   "cell_type": "markdown",
   "metadata": {},
   "source": [
    "## Reshape"
   ]
  },
  {
   "cell_type": "code",
   "execution_count": null,
   "metadata": {},
   "outputs": [],
   "source": [
    "rsp.showMulti(np2d, np2d.reshape([-1, 2], order=\"C\"), np2d.reshape([-1, 2], order=\"F\"))"
   ]
  },
  {
   "cell_type": "code",
   "execution_count": null,
   "metadata": {},
   "outputs": [],
   "source": [
    "print(np3d.shape)\n",
    "rsp.showMulti(np3d, np3d.reshape([-1, 20])\n",
    ")"
   ]
  },
  {
   "cell_type": "code",
   "execution_count": null,
   "metadata": {},
   "outputs": [],
   "source": [
    "rsp.showMulti(\n",
    "    np3d.reshape([12, 5]), np3d.reshape([-1, 5])\n",
    ")"
   ]
  },
  {
   "cell_type": "code",
   "execution_count": null,
   "metadata": {},
   "outputs": [],
   "source": [
    "selector = np.array([1, 2, 1, 3, 0, 0, 0])\n",
    "rsp.showMulti(np2d, np2d[selector])"
   ]
  },
  {
   "cell_type": "markdown",
   "metadata": {},
   "source": [
    "## Compute"
   ]
  },
  {
   "cell_type": "code",
   "execution_count": null,
   "metadata": {},
   "outputs": [],
   "source": [
    "rsp.showMulti(np2d, np.max(np2d), np.min(np2d))"
   ]
  },
  {
   "cell_type": "code",
   "execution_count": null,
   "metadata": {},
   "outputs": [],
   "source": [
    "np.argmax(np2d), np.argmin(np2d)"
   ]
  },
  {
   "cell_type": "code",
   "execution_count": null,
   "metadata": {},
   "outputs": [],
   "source": [
    "rsp.showMulti(\n",
    "    np.max(np2d, axis=1), np.max(np2d, axis=0)\n",
    ")"
   ]
  },
  {
   "cell_type": "code",
   "execution_count": null,
   "metadata": {},
   "outputs": [],
   "source": [
    "rsp.showMulti(\n",
    "    np.average(np2d), tf.reduce_mean(tf2d).numpy()\n",
    ")"
   ]
  },
  {
   "cell_type": "code",
   "execution_count": null,
   "metadata": {},
   "outputs": [],
   "source": [
    "rsp.showMulti(\n",
    "    np.sum(np2d, axis=1), tf.reduce_sum(tf2d, axis=1).numpy()\n",
    ")"
   ]
  },
  {
   "cell_type": "code",
   "execution_count": null,
   "metadata": {},
   "outputs": [],
   "source": [
    "np2d"
   ]
  },
  {
   "cell_type": "code",
   "execution_count": null,
   "metadata": {},
   "outputs": [],
   "source": [
    "np.where(np2d > 0.5)"
   ]
  },
  {
   "cell_type": "code",
   "execution_count": null,
   "metadata": {},
   "outputs": [],
   "source": [
    "np.where(np2d > 0.5, 1, 0)"
   ]
  },
  {
   "cell_type": "markdown",
   "metadata": {},
   "source": [
    "## Function"
   ]
  },
  {
   "cell_type": "code",
   "execution_count": null,
   "metadata": {},
   "outputs": [],
   "source": [
    "# Broadcasting\n",
    "rsp.showMulti(np2d, np2d+1, np2d/2)"
   ]
  },
  {
   "cell_type": "code",
   "execution_count": null,
   "metadata": {},
   "outputs": [],
   "source": [
    "# Transpose\n",
    "rsp.showMulti(np2d, np2d.T)"
   ]
  },
  {
   "cell_type": "code",
   "execution_count": null,
   "metadata": {},
   "outputs": [],
   "source": [
    "# Stack\n",
    "rsp.showMulti(\n",
    "    np.stack([np2d, np2d]), np.stack([np2d, np2d]).shape, np2d.shape\n",
    ")"
   ]
  },
  {
   "cell_type": "code",
   "execution_count": null,
   "metadata": {},
   "outputs": [],
   "source": [
    "# ones / zeros\n",
    "rsp.showMulti(np.ones([2, 2]), np.zeros([2, 3]))"
   ]
  },
  {
   "cell_type": "code",
   "execution_count": null,
   "metadata": {},
   "outputs": [],
   "source": [
    "rsp.showMulti(tf.ones([2, 2]), tf.zeros([2, 3]))"
   ]
  },
  {
   "cell_type": "code",
   "execution_count": null,
   "metadata": {},
   "outputs": [],
   "source": [
    "# One Hot Encoding"
   ]
  },
  {
   "cell_type": "code",
   "execution_count": null,
   "metadata": {},
   "outputs": [],
   "source": [
    "selector = np.array([0, 1, 2, 1, 1, 2, 2])\n",
    "np.eye(3)[selector]"
   ]
  },
  {
   "cell_type": "markdown",
   "metadata": {},
   "source": [
    "# Interact"
   ]
  },
  {
   "cell_type": "code",
   "execution_count": null,
   "metadata": {},
   "outputs": [],
   "source": [
    "from ipywidgets import interactive"
   ]
  },
  {
   "cell_type": "code",
   "execution_count": null,
   "metadata": {},
   "outputs": [],
   "source": [
    "eduPlot = rsp.EduPlot2D(rsp.EduPlotConf(font=\"NanumGothicCoding\"))"
   ]
  },
  {
   "cell_type": "code",
   "execution_count": null,
   "metadata": {},
   "outputs": [],
   "source": [
    "def draw2D(srcX, srcY, offset):\n",
    "    eduPlot.addFunction(f\"{offset}*x**3\")\n",
    "    eduPlot.addVector([ [-1, 1] ], [ [srcX, srcY] ])\n",
    "    return eduPlot.genSpace(4)"
   ]
  },
  {
   "cell_type": "code",
   "execution_count": null,
   "metadata": {},
   "outputs": [],
   "source": [
    "interactive(draw2D, srcX=(-2.0, 2.0), srcY=(-2.0, 2.0), offset=(-1.0, 1.0))"
   ]
  },
  {
   "cell_type": "code",
   "execution_count": null,
   "metadata": {},
   "outputs": [],
   "source": [
    "target = [\"sepal_length\", \"sepal_width\", \"petal_length\", \"petal_width\"]\n",
    "def analysisIris(x, y):\n",
    "    sns.lmplot(data=iris, x=x, y=y, hue=\"species\")\n",
    "    plt.show()\n",
    "    plt.close()"
   ]
  },
  {
   "cell_type": "code",
   "execution_count": null,
   "metadata": {},
   "outputs": [],
   "source": [
    "def analysisDist(x):\n",
    "    targetName = target[x]\n",
    "    sns.distplot(iris[iris.species==\"setosa\"][targetName],     color=\"blue\",   label=\"setoas\")\n",
    "    sns.distplot(iris[iris.species==\"versicolor\"][targetName], color=\"red\",    label=\"versicolor\")\n",
    "    sns.distplot(iris[iris.species==\"virginica\"][targetName],  color=\"green\",  label=\"virginica\")\n",
    "    plt.legend(title=\"Species\")\n",
    "    plt.show()\n",
    "    plt.close()"
   ]
  },
  {
   "cell_type": "code",
   "execution_count": 103,
   "metadata": {},
   "outputs": [
    {
     "data": {
      "application/vnd.jupyter.widget-view+json": {
       "model_id": "68c9f65299eb4a16b840869c0eaecbba",
       "version_major": 2,
       "version_minor": 0
      },
      "text/plain": [
       "GridspecLayout(children=(Output(layout=Layout(grid_area='widget001')), Output(layout=Layout(grid_area='widget0…"
      ]
     },
     "metadata": {},
     "output_type": "display_data"
    }
   ],
   "source": [
    "rsp.showMulti(\n",
    "    interactive(analysisIris, x=target, y=target),\n",
    "    interactive(analysisDist, x=(0, 3))\n",
    ")"
   ]
  },
  {
   "cell_type": "code",
   "execution_count": null,
   "metadata": {},
   "outputs": [],
   "source": []
  },
  {
   "cell_type": "code",
   "execution_count": null,
   "metadata": {},
   "outputs": [],
   "source": []
  }
 ],
 "metadata": {
  "kernelspec": {
   "display_name": "Python 3",
   "language": "python",
   "name": "python3"
  },
  "language_info": {
   "codemirror_mode": {
    "name": "ipython",
    "version": 3
   },
   "file_extension": ".py",
   "mimetype": "text/x-python",
   "name": "python",
   "nbconvert_exporter": "python",
   "pygments_lexer": "ipython3",
   "version": "3.7.5"
  },
  "toc-autonumbering": true,
  "toc-showmarkdowntxt": false
 },
 "nbformat": 4,
 "nbformat_minor": 4
}
