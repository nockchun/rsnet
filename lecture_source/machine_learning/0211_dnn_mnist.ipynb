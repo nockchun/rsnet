{
 "cells": [
  {
   "cell_type": "markdown",
   "metadata": {},
   "source": [
    "<div class=\"alert alert-block alert-success\">\n",
    "    <b><center>DEEP NEURAL NETWORK</center></b>\n",
    "    <b><center>MNIST 데이터로 DNN 구현해 보기</center></b>\n",
    "</div>"
   ]
  },
  {
   "cell_type": "markdown",
   "metadata": {},
   "source": [
    "# Configure Learning Environment"
   ]
  },
  {
   "cell_type": "code",
   "execution_count": 1,
   "metadata": {},
   "outputs": [],
   "source": [
    "# !pip install git+https://github.com/nockchun/rspy --force\n",
    "import rspy as rsp\n",
    "rsp.setSystemWarning(off=True)"
   ]
  },
  {
   "cell_type": "code",
   "execution_count": 2,
   "metadata": {},
   "outputs": [],
   "source": [
    "import numpy as np\n",
    "import matplotlib.pyplot as plt\n",
    "\n",
    "import pandas as pd\n",
    "from ipywidgets import interact"
   ]
  },
  {
   "cell_type": "code",
   "execution_count": 3,
   "metadata": {},
   "outputs": [],
   "source": [
    "import tensorflow as tf\n",
    "from tensorflow.keras import utils, layers, activations, models, losses, optimizers, metrics, callbacks"
   ]
  },
  {
   "cell_type": "code",
   "execution_count": 4,
   "metadata": {},
   "outputs": [
    {
     "data": {
      "text/plain": [
       "'2.4.1'"
      ]
     },
     "execution_count": 4,
     "metadata": {},
     "output_type": "execute_result"
    }
   ],
   "source": [
    "np.set_printoptions(linewidth=200, precision=2)\n",
    "tf.__version__"
   ]
  },
  {
   "cell_type": "markdown",
   "metadata": {},
   "source": [
    "# Prepare Data"
   ]
  },
  {
   "cell_type": "code",
   "execution_count": 5,
   "metadata": {},
   "outputs": [
    {
     "data": {
      "text/plain": [
       "((60000, 28, 28), (60000,), (10000, 28, 28), (10000,))"
      ]
     },
     "execution_count": 5,
     "metadata": {},
     "output_type": "execute_result"
    }
   ],
   "source": [
    "# Download the mnist dataset using keras\n",
    "(trainDatas, trainLabels), (testDatas, testLabels) = tf.keras.datasets.mnist.load_data()\n",
    "trainDatas.shape, trainLabels.shape, testDatas.shape, testLabels.shape"
   ]
  },
  {
   "cell_type": "markdown",
   "metadata": {},
   "source": [
    "# Analysis Datas"
   ]
  },
  {
   "cell_type": "code",
   "execution_count": 6,
   "metadata": {},
   "outputs": [
    {
     "data": {
      "application/vnd.jupyter.widget-view+json": {
       "model_id": "519ac35011834d228ee06d16ec9c17da",
       "version_major": 2,
       "version_minor": 0
      },
      "text/plain": [
       "interactive(children=(IntSlider(value=30000, description='idx', max=60000), Output()), _dom_classes=('widget-i…"
      ]
     },
     "metadata": {},
     "output_type": "display_data"
    }
   ],
   "source": [
    "@interact(idx=(0, 60000))\n",
    "def showImage(idx):\n",
    "    plt.imshow(trainDatas[idx], cmap=\"gray\")\n",
    "    plt.grid(False)\n",
    "    plt.title(f\"LABEL : {trainLabels[idx]}\")\n",
    "    plt.show()"
   ]
  },
  {
   "cell_type": "code",
   "execution_count": 7,
   "metadata": {},
   "outputs": [
    {
     "data": {
      "text/plain": [
       "array([[  0,   0,   0,   0,   0,   0,   0,   0,   0,   0,   0,   0,   0,   0,   0,   0,   0,   0,   0,   0,   0,   0,   0,   0,   0,   0,   0,   0],\n",
       "       [  0,   0,   0,   0,   0,   0,   0,   0,   0,   0,   0,   0,   0,   0,   0,   0,   0,   0,   0,   0,   0,   0,   0,   0,   0,   0,   0,   0],\n",
       "       [  0,   0,   0,   0,   0,   0,   0,   0,   0,   0,   0,   0,   0,   0,   0,   0,   0,   0,   0,   0,   0,   0,   0,   0,   0,   0,   0,   0],\n",
       "       [  0,   0,   0,   0,   0,   0,   0,   0,   0,   0,   0,   0,   0,   0,   0,   0,   0,   0,   0,   0,   0,   0,   0,   0,   0,   0,   0,   0],\n",
       "       [  0,   0,   0,   0,   0,   0,   0,   0,   0,   0,   0,   0,   0,   0,   0,   0,   0,   0,   0,   0,   0,   0,   0,   0,   0,   0,   0,   0],\n",
       "       [  0,   0,   0,   0,   0,   0,   0,   0,   0,   0,   0,   0,   3,  18,  18,  18, 126, 136, 175,  26, 166, 255, 247, 127,   0,   0,   0,   0],\n",
       "       [  0,   0,   0,   0,   0,   0,   0,   0,  30,  36,  94, 154, 170, 253, 253, 253, 253, 253, 225, 172, 253, 242, 195,  64,   0,   0,   0,   0],\n",
       "       [  0,   0,   0,   0,   0,   0,   0,  49, 238, 253, 253, 253, 253, 253, 253, 253, 253, 251,  93,  82,  82,  56,  39,   0,   0,   0,   0,   0],\n",
       "       [  0,   0,   0,   0,   0,   0,   0,  18, 219, 253, 253, 253, 253, 253, 198, 182, 247, 241,   0,   0,   0,   0,   0,   0,   0,   0,   0,   0],\n",
       "       [  0,   0,   0,   0,   0,   0,   0,   0,  80, 156, 107, 253, 253, 205,  11,   0,  43, 154,   0,   0,   0,   0,   0,   0,   0,   0,   0,   0],\n",
       "       [  0,   0,   0,   0,   0,   0,   0,   0,   0,  14,   1, 154, 253,  90,   0,   0,   0,   0,   0,   0,   0,   0,   0,   0,   0,   0,   0,   0],\n",
       "       [  0,   0,   0,   0,   0,   0,   0,   0,   0,   0,   0, 139, 253, 190,   2,   0,   0,   0,   0,   0,   0,   0,   0,   0,   0,   0,   0,   0],\n",
       "       [  0,   0,   0,   0,   0,   0,   0,   0,   0,   0,   0,  11, 190, 253,  70,   0,   0,   0,   0,   0,   0,   0,   0,   0,   0,   0,   0,   0],\n",
       "       [  0,   0,   0,   0,   0,   0,   0,   0,   0,   0,   0,   0,  35, 241, 225, 160, 108,   1,   0,   0,   0,   0,   0,   0,   0,   0,   0,   0],\n",
       "       [  0,   0,   0,   0,   0,   0,   0,   0,   0,   0,   0,   0,   0,  81, 240, 253, 253, 119,  25,   0,   0,   0,   0,   0,   0,   0,   0,   0],\n",
       "       [  0,   0,   0,   0,   0,   0,   0,   0,   0,   0,   0,   0,   0,   0,  45, 186, 253, 253, 150,  27,   0,   0,   0,   0,   0,   0,   0,   0],\n",
       "       [  0,   0,   0,   0,   0,   0,   0,   0,   0,   0,   0,   0,   0,   0,   0,  16,  93, 252, 253, 187,   0,   0,   0,   0,   0,   0,   0,   0],\n",
       "       [  0,   0,   0,   0,   0,   0,   0,   0,   0,   0,   0,   0,   0,   0,   0,   0,   0, 249, 253, 249,  64,   0,   0,   0,   0,   0,   0,   0],\n",
       "       [  0,   0,   0,   0,   0,   0,   0,   0,   0,   0,   0,   0,   0,   0,  46, 130, 183, 253, 253, 207,   2,   0,   0,   0,   0,   0,   0,   0],\n",
       "       [  0,   0,   0,   0,   0,   0,   0,   0,   0,   0,   0,   0,  39, 148, 229, 253, 253, 253, 250, 182,   0,   0,   0,   0,   0,   0,   0,   0],\n",
       "       [  0,   0,   0,   0,   0,   0,   0,   0,   0,   0,  24, 114, 221, 253, 253, 253, 253, 201,  78,   0,   0,   0,   0,   0,   0,   0,   0,   0],\n",
       "       [  0,   0,   0,   0,   0,   0,   0,   0,  23,  66, 213, 253, 253, 253, 253, 198,  81,   2,   0,   0,   0,   0,   0,   0,   0,   0,   0,   0],\n",
       "       [  0,   0,   0,   0,   0,   0,  18, 171, 219, 253, 253, 253, 253, 195,  80,   9,   0,   0,   0,   0,   0,   0,   0,   0,   0,   0,   0,   0],\n",
       "       [  0,   0,   0,   0,  55, 172, 226, 253, 253, 253, 253, 244, 133,  11,   0,   0,   0,   0,   0,   0,   0,   0,   0,   0,   0,   0,   0,   0],\n",
       "       [  0,   0,   0,   0, 136, 253, 253, 253, 212, 135, 132,  16,   0,   0,   0,   0,   0,   0,   0,   0,   0,   0,   0,   0,   0,   0,   0,   0],\n",
       "       [  0,   0,   0,   0,   0,   0,   0,   0,   0,   0,   0,   0,   0,   0,   0,   0,   0,   0,   0,   0,   0,   0,   0,   0,   0,   0,   0,   0],\n",
       "       [  0,   0,   0,   0,   0,   0,   0,   0,   0,   0,   0,   0,   0,   0,   0,   0,   0,   0,   0,   0,   0,   0,   0,   0,   0,   0,   0,   0],\n",
       "       [  0,   0,   0,   0,   0,   0,   0,   0,   0,   0,   0,   0,   0,   0,   0,   0,   0,   0,   0,   0,   0,   0,   0,   0,   0,   0,   0,   0]], dtype=uint8)"
      ]
     },
     "execution_count": 7,
     "metadata": {},
     "output_type": "execute_result"
    }
   ],
   "source": [
    "trainDatas[0]"
   ]
  },
  {
   "cell_type": "markdown",
   "metadata": {},
   "source": [
    "# Preprocessing Data"
   ]
  },
  {
   "cell_type": "code",
   "execution_count": 8,
   "metadata": {},
   "outputs": [
    {
     "data": {
      "text/plain": [
       "((60000, 784), (10000, 784))"
      ]
     },
     "execution_count": 8,
     "metadata": {},
     "output_type": "execute_result"
    }
   ],
   "source": [
    "# 2차원(28*28)이미지를 1차원 배열로 변환\n",
    "trainDatas = trainDatas.reshape(-1, 28*28)\n",
    "testDatas = testDatas.reshape(-1, 28*28)\n",
    "\n",
    "trainDatas.shape, testDatas.shape"
   ]
  },
  {
   "cell_type": "code",
   "execution_count": 9,
   "metadata": {},
   "outputs": [
    {
     "data": {
      "text/plain": [
       "((60000, 10), (60000, 10))"
      ]
     },
     "execution_count": 9,
     "metadata": {},
     "output_type": "execute_result"
    }
   ],
   "source": [
    "# 레이블 one hot encoding\n",
    "trainLabels = np.eye(10)[trainLabels]\n",
    "testLabels  = np.eye(10)[testLabels]\n",
    "\n",
    "trainLabels.shape, trainLabels.shape"
   ]
  },
  {
   "cell_type": "markdown",
   "metadata": {},
   "source": [
    "# Generate Model"
   ]
  },
  {
   "cell_type": "code",
   "execution_count": 10,
   "metadata": {},
   "outputs": [
    {
     "name": "stdout",
     "output_type": "stream",
     "text": [
      "Model: \"sequential\"\n",
      "_________________________________________________________________\n",
      "Layer (type)                 Output Shape              Param #   \n",
      "=================================================================\n",
      "dense (Dense)                (None, 256)               200960    \n",
      "_________________________________________________________________\n",
      "dense_1 (Dense)              (None, 10)                2570      \n",
      "=================================================================\n",
      "Total params: 203,530\n",
      "Trainable params: 203,530\n",
      "Non-trainable params: 0\n",
      "_________________________________________________________________\n"
     ]
    }
   ],
   "source": [
    "model = models.Sequential([\n",
    "    layers.Input([784]),\n",
    "    layers.Dense(256, activation=tf.keras.activations.relu),\n",
    "#     layers.Dropout(0.2),\n",
    "    layers.Dense(10, activation=tf.keras.activations.softmax)\n",
    "])\n",
    "model.summary()"
   ]
  },
  {
   "cell_type": "code",
   "execution_count": 11,
   "metadata": {},
   "outputs": [
    {
     "data": {
      "image/png": "[encoded data removed]",
      "text/plain": [
       "<IPython.core.display.Image object>"
      ]
     },
     "execution_count": 11,
     "metadata": {},
     "output_type": "execute_result"
    }
   ],
   "source": [
    "utils.plot_model(model, 'model.png', show_shapes=True)"
   ]
  },
  {
   "cell_type": "code",
   "execution_count": 12,
   "metadata": {},
   "outputs": [],
   "source": [
    "model.compile(\n",
    "    loss=losses.CategoricalCrossentropy(),\n",
    "    optimizer=optimizers.Adam(learning_rate=0.0001),\n",
    "    metrics = [metrics.CategoricalAccuracy()]\n",
    ")"
   ]
  },
  {
   "cell_type": "markdown",
   "metadata": {},
   "source": [
    "# Training"
   ]
  },
  {
   "cell_type": "code",
   "execution_count": 13,
   "metadata": {},
   "outputs": [
    {
     "name": "stdout",
     "output_type": "stream",
     "text": [
      "Epoch 1/20\n",
      "48/48 [==============================] - 1s 13ms/step - loss: 80.7868 - categorical_accuracy: 0.2553 - val_loss: 15.4204 - val_categorical_accuracy: 0.6811\n",
      "Epoch 2/20\n",
      "48/48 [==============================] - 0s 3ms/step - loss: 13.1285 - categorical_accuracy: 0.7195 - val_loss: 8.2903 - val_categorical_accuracy: 0.8020\n",
      "Epoch 3/20\n",
      "48/48 [==============================] - 0s 3ms/step - loss: 7.8707 - categorical_accuracy: 0.8105 - val_loss: 6.2297 - val_categorical_accuracy: 0.8459\n",
      "Epoch 4/20\n",
      "48/48 [==============================] - 0s 3ms/step - loss: 6.0384 - categorical_accuracy: 0.8486 - val_loss: 5.2050 - val_categorical_accuracy: 0.8634\n",
      "Epoch 5/20\n",
      "48/48 [==============================] - 0s 3ms/step - loss: 4.6333 - categorical_accuracy: 0.8724 - val_loss: 4.5225 - val_categorical_accuracy: 0.8763\n",
      "Epoch 6/20\n",
      "48/48 [==============================] - 0s 2ms/step - loss: 4.0299 - categorical_accuracy: 0.8839 - val_loss: 4.0641 - val_categorical_accuracy: 0.8849\n",
      "Epoch 7/20\n",
      "48/48 [==============================] - 0s 2ms/step - loss: 3.4242 - categorical_accuracy: 0.9001 - val_loss: 3.7091 - val_categorical_accuracy: 0.8923\n",
      "Epoch 8/20\n",
      "48/48 [==============================] - 0s 3ms/step - loss: 2.9895 - categorical_accuracy: 0.9039 - val_loss: 3.4267 - val_categorical_accuracy: 0.8978\n",
      "Epoch 9/20\n",
      "48/48 [==============================] - 0s 2ms/step - loss: 2.6719 - categorical_accuracy: 0.9116 - val_loss: 3.2196 - val_categorical_accuracy: 0.9006\n",
      "Epoch 10/20\n",
      "48/48 [==============================] - 0s 2ms/step - loss: 2.4221 - categorical_accuracy: 0.9189 - val_loss: 3.0780 - val_categorical_accuracy: 0.9035\n",
      "Epoch 11/20\n",
      "48/48 [==============================] - 0s 2ms/step - loss: 2.0982 - categorical_accuracy: 0.9232 - val_loss: 2.8766 - val_categorical_accuracy: 0.9082\n",
      "Epoch 12/20\n",
      "48/48 [==============================] - 0s 2ms/step - loss: 1.9370 - categorical_accuracy: 0.9281 - val_loss: 2.7463 - val_categorical_accuracy: 0.9105\n",
      "Epoch 13/20\n",
      "48/48 [==============================] - 0s 2ms/step - loss: 1.8202 - categorical_accuracy: 0.9311 - val_loss: 2.6397 - val_categorical_accuracy: 0.9125\n",
      "Epoch 14/20\n",
      "48/48 [==============================] - 0s 2ms/step - loss: 1.5560 - categorical_accuracy: 0.9382 - val_loss: 2.5610 - val_categorical_accuracy: 0.9128\n",
      "Epoch 15/20\n",
      "48/48 [==============================] - 0s 2ms/step - loss: 1.4508 - categorical_accuracy: 0.9406 - val_loss: 2.4691 - val_categorical_accuracy: 0.9149\n",
      "Epoch 16/20\n",
      "48/48 [==============================] - 0s 2ms/step - loss: 1.2729 - categorical_accuracy: 0.9448 - val_loss: 2.3752 - val_categorical_accuracy: 0.9181\n",
      "Epoch 17/20\n",
      "48/48 [==============================] - 0s 2ms/step - loss: 1.1828 - categorical_accuracy: 0.9478 - val_loss: 2.3239 - val_categorical_accuracy: 0.9188\n",
      "Epoch 18/20\n",
      "48/48 [==============================] - 0s 2ms/step - loss: 1.0819 - categorical_accuracy: 0.9514 - val_loss: 2.2680 - val_categorical_accuracy: 0.9188\n",
      "Epoch 19/20\n",
      "48/48 [==============================] - 0s 2ms/step - loss: 0.9921 - categorical_accuracy: 0.9527 - val_loss: 2.2403 - val_categorical_accuracy: 0.9205\n",
      "Epoch 20/20\n",
      "48/48 [==============================] - 0s 2ms/step - loss: 0.9160 - categorical_accuracy: 0.9541 - val_loss: 2.1525 - val_categorical_accuracy: 0.9239\n"
     ]
    }
   ],
   "source": [
    "history = model.fit(\n",
    "    trainDatas, trainLabels,\n",
    "    batch_size=1000,\n",
    "    epochs=20,\n",
    "    validation_split=0.2\n",
    ")"
   ]
  },
  {
   "cell_type": "code",
   "execution_count": 14,
   "metadata": {},
   "outputs": [
    {
     "data": {
      "image/png": "[encoded data removed]",
      "text/plain": [
       "<Figure size 432x288 with 1 Axes>"
      ]
     },
     "metadata": {
      "needs_background": "light"
     },
     "output_type": "display_data"
    }
   ],
   "source": [
    "loss = history.history[\"loss\"]\n",
    "validationLoss = history.history[\"val_loss\"]\n",
    "epochs = range(0, len(loss))\n",
    "\n",
    "plt.plot(epochs, loss, label=\"Training Loss\")\n",
    "plt.plot(epochs, validationLoss, label=\"Validation Loss\")\n",
    "plt.title('Training and validation loss')\n",
    "plt.xlabel('Epochs')\n",
    "plt.ylabel('Loss')\n",
    "plt.legend()\n",
    "plt.show()"
   ]
  },
  {
   "cell_type": "markdown",
   "metadata": {},
   "source": [
    "# Evaluate"
   ]
  },
  {
   "cell_type": "code",
   "execution_count": 15,
   "metadata": {},
   "outputs": [
    {
     "data": {
      "text/plain": [
       "(1.9682170152664185, '92.63 %')"
      ]
     },
     "execution_count": 15,
     "metadata": {},
     "output_type": "execute_result"
    }
   ],
   "source": [
    "evaLoss, evaAcc = model.evaluate(testDatas, testLabels,verbose=0)\n",
    "evaLoss, \"{:3.2f} %\".format(evaAcc*100)"
   ]
  },
  {
   "cell_type": "markdown",
   "metadata": {},
   "source": [
    "# Predict"
   ]
  },
  {
   "cell_type": "code",
   "execution_count": 16,
   "metadata": {},
   "outputs": [
    {
     "data": {
      "application/vnd.jupyter.widget-view+json": {
       "model_id": "53bbad55357f4718a6613b43b87c3fe1",
       "version_major": 2,
       "version_minor": 0
      },
      "text/plain": [
       "interactive(children=(IntSlider(value=5000, description='idx', max=10000), Output()), _dom_classes=('widget-in…"
      ]
     },
     "metadata": {},
     "output_type": "display_data"
    }
   ],
   "source": [
    "@interact(idx=(0, 10000))\n",
    "def showTestImage(idx):\n",
    "    data = testDatas[idx].reshape(-1, 784)\n",
    "    dataPred = model.predict(data)\n",
    "\n",
    "    plt.imshow(testDatas[idx].reshape(28,28), cmap=\"gray\")\n",
    "    plt.grid(False)\n",
    "    plt.title(f\"LABEL: {np.argmax(testLabels[idx])}, PREDICT: {np.argmax(dataPred)}\")\n",
    "    plt.show()"
   ]
  },
  {
   "cell_type": "code",
   "execution_count": null,
   "metadata": {},
   "outputs": [],
   "source": []
  }
 ],
 "metadata": {
  "kernelspec": {
   "display_name": "Python 3",
   "language": "python",
   "name": "python3"
  },
  "language_info": {
   "codemirror_mode": {
    "name": "ipython",
    "version": 3
   },
   "file_extension": ".py",
   "mimetype": "text/x-python",
   "name": "python",
   "nbconvert_exporter": "python",
   "pygments_lexer": "ipython3",
   "version": "3.8.10"
  },
  "toc-autonumbering": true
 },
 "nbformat": 4,
 "nbformat_minor": 4
}
