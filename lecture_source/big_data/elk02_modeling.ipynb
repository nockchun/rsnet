{
 "cells": [
  {
   "cell_type": "markdown",
   "metadata": {},
   "source": [
    "<div class=\"alert alert-block alert-success\">\n",
    "    <b><center>Elasticsearch 7.7</center></b>\n",
    "    <b><center>데이터 모델링</center></b>\n",
    "</div>"
   ]
  },
  {
   "cell_type": "code",
   "execution_count": 1,
   "metadata": {},
   "outputs": [],
   "source": [
    "from elasticsearch import Elasticsearch, helpers"
   ]
  },
  {
   "cell_type": "markdown",
   "metadata": {},
   "source": [
    "# 연결 및 클러스터 상태확인"
   ]
  },
  {
   "cell_type": "code",
   "execution_count": 2,
   "metadata": {},
   "outputs": [],
   "source": [
    "es = Elasticsearch(hosts=\"elastic.rsnet\", port=80)"
   ]
  },
  {
   "cell_type": "code",
   "execution_count": 3,
   "metadata": {},
   "outputs": [
    {
     "data": {
      "text/plain": [
       "{'cluster_name': 'elasticsearch',\n",
       " 'status': 'green',\n",
       " 'timed_out': False,\n",
       " 'number_of_nodes': 3,\n",
       " 'number_of_data_nodes': 3,\n",
       " 'active_primary_shards': 12,\n",
       " 'active_shards': 24,\n",
       " 'relocating_shards': 0,\n",
       " 'initializing_shards': 0,\n",
       " 'unassigned_shards': 0,\n",
       " 'delayed_unassigned_shards': 0,\n",
       " 'number_of_pending_tasks': 0,\n",
       " 'number_of_in_flight_fetch': 0,\n",
       " 'task_max_waiting_in_queue_millis': 0,\n",
       " 'active_shards_percent_as_number': 100.0}"
      ]
     },
     "execution_count": 3,
     "metadata": {},
     "output_type": "execute_result"
    }
   ],
   "source": [
    "es.cluster.health()"
   ]
  },
  {
   "cell_type": "markdown",
   "metadata": {},
   "source": [
    "# indices 생성/삭제"
   ]
  },
  {
   "cell_type": "code",
   "execution_count": 4,
   "metadata": {},
   "outputs": [],
   "source": [
    "INDEX_NAME = \"movie_search\""
   ]
  },
  {
   "cell_type": "code",
   "execution_count": 5,
   "metadata": {},
   "outputs": [],
   "source": [
    "index_movie = {\n",
    "    \"settings\": {\n",
    "        \"number_of_shards\": 5,\n",
    "        \"number_of_replicas\": 1\n",
    "    },\n",
    "    \"mappings\": {\n",
    "        \"properties\": {\n",
    "            \"movieCd\": {\"type\": \"keyword\"},\n",
    "            \"movieNm\": {\"type\": \"text\", \"analyzer\": \"standard\"},\n",
    "            \"movieNmEn\": {\"type\": \"text\", \"analyzer\": \"standard\"},\n",
    "            \"prdtYear\": {\"type\": \"integer\"},\n",
    "            \"openDt\": {\"type\": \"integer\"},\n",
    "            \"typeNm\": {\"type\": \"keyword\"},\n",
    "            \"prdtStatNm\": {\"type\": \"keyword\"},\n",
    "            \"nationAlt\": {\"type\": \"keyword\"},\n",
    "            \"genreAlt\": {\"type\": \"keyword\"},\n",
    "            \"repNationNm\": {\"type\": \"keyword\"},\n",
    "            \"repGenreNm\": {\"type\": \"keyword\"},\n",
    "            \"companies\": {\n",
    "                \"properties\": {\n",
    "                    \"companyCd\": {\"type\": \"keyword\"},\n",
    "                    \"companyNm\": {\"type\": \"keyword\"}\n",
    "                }\n",
    "            },\n",
    "            \"directors\": {\n",
    "                \"properties\": {\n",
    "                    \"peopleNm\": {\"type\": \"keyword\"}\n",
    "                }\n",
    "            }\n",
    "        }\n",
    "    }\n",
    "}"
   ]
  },
  {
   "cell_type": "code",
   "execution_count": 6,
   "metadata": {},
   "outputs": [
    {
     "data": {
      "text/plain": [
       "{'acknowledged': True, 'shards_acknowledged': True, 'index': 'movie_search'}"
      ]
     },
     "execution_count": 6,
     "metadata": {},
     "output_type": "execute_result"
    }
   ],
   "source": [
    "if es.indices.exists(INDEX_NAME):\n",
    "    es.indices.delete(INDEX_NAME)\n",
    "es.indices.create(INDEX_NAME, index_movie, ignore=400)"
   ]
  },
  {
   "cell_type": "markdown",
   "metadata": {},
   "source": [
    "## 매핑확인"
   ]
  },
  {
   "cell_type": "code",
   "execution_count": 7,
   "metadata": {},
   "outputs": [
    {
     "data": {
      "text/plain": [
       "{'movie_search': {'mappings': {'properties': {'companies': {'properties': {'companyCd': {'type': 'keyword'},\n",
       "      'companyNm': {'type': 'keyword'}}},\n",
       "    'directors': {'properties': {'peopleNm': {'type': 'keyword'}}},\n",
       "    'genreAlt': {'type': 'keyword'},\n",
       "    'movieCd': {'type': 'keyword'},\n",
       "    'movieNm': {'type': 'text', 'analyzer': 'standard'},\n",
       "    'movieNmEn': {'type': 'text', 'analyzer': 'standard'},\n",
       "    'nationAlt': {'type': 'keyword'},\n",
       "    'openDt': {'type': 'integer'},\n",
       "    'prdtStatNm': {'type': 'keyword'},\n",
       "    'prdtYear': {'type': 'integer'},\n",
       "    'repGenreNm': {'type': 'keyword'},\n",
       "    'repNationNm': {'type': 'keyword'},\n",
       "    'typeNm': {'type': 'keyword'}}}}}"
      ]
     },
     "execution_count": 7,
     "metadata": {},
     "output_type": "execute_result"
    }
   ],
   "source": [
    "es.indices.get_mapping(INDEX_NAME)"
   ]
  },
  {
   "cell_type": "markdown",
   "metadata": {},
   "source": [
    "# 문서 생성"
   ]
  },
  {
   "cell_type": "code",
   "execution_count": 10,
   "metadata": {},
   "outputs": [],
   "source": [
    "movie_data_1 = {\n",
    "  \"movieCd\": \"20173732\",\n",
    "  \"movieNm\": \"살아남은 아이\",\n",
    "  \"movieNmEn\": \"Last Child\",\n",
    "  \"prdtYear\": \"2017\",\n",
    "  \"openDt\": \"\",\n",
    "  \"typeNm\": \"장편\",\n",
    "  \"prdtStatNm\": \"기타\",\n",
    "  \"nationAlt\": \"한국\",\n",
    "  \"genreAlt\": \"드라마,가족\",\n",
    "  \"repNationNm\": \"한국\",\n",
    "  \"repGenreNm\": \"드라마\"\n",
    "}"
   ]
  },
  {
   "cell_type": "code",
   "execution_count": 11,
   "metadata": {},
   "outputs": [
    {
     "data": {
      "text/plain": [
       "{'_index': 'movie_search',\n",
       " '_type': '_doc',\n",
       " '_id': '1',\n",
       " '_version': 1,\n",
       " 'result': 'created',\n",
       " '_shards': {'total': 2, 'successful': 2, 'failed': 0},\n",
       " '_seq_no': 0,\n",
       " '_primary_term': 1}"
      ]
     },
     "execution_count": 11,
     "metadata": {},
     "output_type": "execute_result"
    }
   ],
   "source": [
    "es.index(INDEX_NAME, movie_data_1, id=1)"
   ]
  },
  {
   "cell_type": "markdown",
   "metadata": {},
   "source": [
    "# 문서 조회"
   ]
  },
  {
   "cell_type": "code",
   "execution_count": 12,
   "metadata": {},
   "outputs": [
    {
     "data": {
      "text/plain": [
       "{'took': 292,\n",
       " 'timed_out': False,\n",
       " '_shards': {'total': 5, 'successful': 5, 'skipped': 0, 'failed': 0},\n",
       " 'hits': {'total': {'value': 1, 'relation': 'eq'},\n",
       "  'max_score': 1.0,\n",
       "  'hits': [{'_index': 'movie_search',\n",
       "    '_type': '_doc',\n",
       "    '_id': '1',\n",
       "    '_score': 1.0,\n",
       "    '_source': {'movieCd': '20173732',\n",
       "     'movieNm': '살아남은 아이',\n",
       "     'movieNmEn': 'Last Child',\n",
       "     'prdtYear': '2017',\n",
       "     'openDt': '',\n",
       "     'typeNm': '장편',\n",
       "     'prdtStatNm': '기타',\n",
       "     'nationAlt': '한국',\n",
       "     'genreAlt': '드라마,가족',\n",
       "     'repNationNm': '한국',\n",
       "     'repGenreNm': '드라마'}}]}}"
      ]
     },
     "execution_count": 12,
     "metadata": {},
     "output_type": "execute_result"
    }
   ],
   "source": [
    "es.search({\"query\" : {\n",
    "    \"match_all\": {}\n",
    "}}, INDEX_NAME)"
   ]
  },
  {
   "cell_type": "code",
   "execution_count": 13,
   "metadata": {},
   "outputs": [
    {
     "data": {
      "text/plain": [
       "{'took': 281,\n",
       " 'timed_out': False,\n",
       " '_shards': {'total': 5, 'successful': 5, 'skipped': 0, 'failed': 0},\n",
       " 'hits': {'total': {'value': 0, 'relation': 'eq'},\n",
       "  'max_score': None,\n",
       "  'hits': []}}"
      ]
     },
     "execution_count": 13,
     "metadata": {},
     "output_type": "execute_result"
    }
   ],
   "source": [
    "es.search({\"query\" : {\n",
    "    \"match\": {\n",
    "        \"typeNm\": \"단편\"\n",
    "    }\n",
    "}}, INDEX_NAME)"
   ]
  },
  {
   "cell_type": "code",
   "execution_count": 15,
   "metadata": {},
   "outputs": [
    {
     "data": {
      "text/plain": [
       "{'took': 41,\n",
       " 'timed_out': False,\n",
       " '_shards': {'total': 5, 'successful': 5, 'skipped': 0, 'failed': 0},\n",
       " 'hits': {'total': {'value': 1, 'relation': 'eq'},\n",
       "  'max_score': None,\n",
       "  'hits': []},\n",
       " 'aggregations': {'indices': {'doc_count_error_upper_bound': 0,\n",
       "   'sum_other_doc_count': 0,\n",
       "   'buckets': [{'key': 'movie_search', 'doc_count': 1}]}}}"
      ]
     },
     "execution_count": 15,
     "metadata": {},
     "output_type": "execute_result"
    }
   ],
   "source": [
    "es.search({\n",
    " \"size\":0,\n",
    "  \"aggs\": {\n",
    "    \"indices\": {\n",
    "      \"terms\": {\n",
    "        \"field\": \"_index\",\n",
    "        \"size\": 10\n",
    "      }\n",
    "    }\n",
    "  }\n",
    "}, INDEX_NAME)"
   ]
  },
  {
   "cell_type": "code",
   "execution_count": null,
   "metadata": {},
   "outputs": [],
   "source": [
    "es.reindex()"
   ]
  }
 ],
 "metadata": {
  "kernelspec": {
   "display_name": "Python 3",
   "language": "python",
   "name": "python3"
  },
  "language_info": {
   "codemirror_mode": {
    "name": "ipython",
    "version": 3
   },
   "file_extension": ".py",
   "mimetype": "text/x-python",
   "name": "python",
   "nbconvert_exporter": "python",
   "pygments_lexer": "ipython3",
   "version": "3.7.7"
  },
  "toc-autonumbering": true,
  "toc-showmarkdowntxt": false
 },
 "nbformat": 4,
 "nbformat_minor": 4
}
