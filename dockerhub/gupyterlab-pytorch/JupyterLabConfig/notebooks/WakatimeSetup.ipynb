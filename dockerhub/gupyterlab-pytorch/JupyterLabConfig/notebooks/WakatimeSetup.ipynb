{
 "cells": [
  {
   "cell_type": "markdown",
   "id": "08e3f03f-a4ba-4823-9e5d-e44dc5e1c060",
   "metadata": {},
   "source": [
    "# Set up Wakatime Plugin\n",
    "\n",
    "GitHub Repo: [wakatime/jupyterlab-wakatime](https://github.com/wakatime/jupyterlab-wakatime)"
   ]
  },
  {
   "cell_type": "code",
   "execution_count": 1,
   "id": "deb42f4b-a777-4b78-9bad-68c4e24f4f3d",
   "metadata": {
    "execution": {
     "iopub.execute_input": "2024-09-16T03:09:48.960199Z",
     "iopub.status.busy": "2024-09-16T03:09:48.960051Z",
     "iopub.status.idle": "2024-09-16T03:09:49.255951Z",
     "shell.execute_reply": "2024-09-16T03:09:49.255254Z",
     "shell.execute_reply.started": "2024-09-16T03:09:48.960184Z"
    }
   },
   "outputs": [],
   "source": [
    "!cat ~/.wakatime.cfg | touch ~/.wakatime.cfg"
   ]
  },
  {
   "cell_type": "code",
   "execution_count": 2,
   "id": "bfe11e24-7810-4310-9354-fadb975d74dc",
   "metadata": {
    "execution": {
     "iopub.execute_input": "2024-09-16T03:09:49.257552Z",
     "iopub.status.busy": "2024-09-16T03:09:49.257275Z",
     "iopub.status.idle": "2024-09-16T03:09:49.260255Z",
     "shell.execute_reply": "2024-09-16T03:09:49.259728Z",
     "shell.execute_reply.started": "2024-09-16T03:09:49.257530Z"
    }
   },
   "outputs": [],
   "source": [
    "# REPLACE YOUR WAKATIME API KEY HERE\n",
    "key = \"waka_your_wakatime_secret_api_key\""
   ]
  },
  {
   "cell_type": "code",
   "execution_count": 3,
   "id": "d28c3077-f33f-4a5b-aedc-ee641f3078af",
   "metadata": {
    "execution": {
     "iopub.execute_input": "2024-09-16T03:09:49.261046Z",
     "iopub.status.busy": "2024-09-16T03:09:49.260893Z",
     "iopub.status.idle": "2024-09-16T03:09:49.270895Z",
     "shell.execute_reply": "2024-09-16T03:09:49.269875Z",
     "shell.execute_reply.started": "2024-09-16T03:09:49.261031Z"
    }
   },
   "outputs": [],
   "source": [
    "import os\n",
    "\n",
    "home_dir = os.getenv(\"HOME\")\n",
    "conf_file = home_dir + '/.wakatime.cfg'\n",
    "\n",
    "with open(conf_file, 'w') as f:\n",
    "    f.write('[settings]\\napi_key = ' + key)"
   ]
  },
  {
   "cell_type": "code",
   "execution_count": 4,
   "id": "2e4790d2-0459-40d4-b68e-5dbcd3b32a8d",
   "metadata": {
    "execution": {
     "iopub.execute_input": "2024-09-16T03:09:49.273224Z",
     "iopub.status.busy": "2024-09-16T03:09:49.272845Z",
     "iopub.status.idle": "2024-09-16T03:09:49.570129Z",
     "shell.execute_reply": "2024-09-16T03:09:49.569479Z",
     "shell.execute_reply.started": "2024-09-16T03:09:49.273206Z"
    }
   },
   "outputs": [
    {
     "name": "stdout",
     "output_type": "stream",
     "text": [
      "[settings]\n",
      "api_key = waka_your_wakatime_secret_api_key"
     ]
    }
   ],
   "source": [
    "!cat ~/.wakatime.cfg"
   ]
  },
  {
   "cell_type": "markdown",
   "id": "ee8670f1-fa4a-4e1a-ba3f-67b17d6eb80b",
   "metadata": {},
   "source": [
    "Wait a few seconds, and check the bottom-right waka status."
   ]
  }
 ],
 "metadata": {
  "kernelspec": {
   "display_name": "Python 3 (ipykernel)",
   "language": "python",
   "name": "python3"
  },
  "language_info": {
   "codemirror_mode": {
    "name": "ipython",
    "version": 3
   },
   "file_extension": ".py",
   "mimetype": "text/x-python",
   "name": "python",
   "nbconvert_exporter": "python",
   "pygments_lexer": "ipython3",
   "version": "3.11.9"
  }
 },
 "nbformat": 4,
 "nbformat_minor": 5
}
